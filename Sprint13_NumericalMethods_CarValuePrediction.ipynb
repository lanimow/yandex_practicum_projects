{
 "cells": [
  {
   "cell_type": "markdown",
   "metadata": {},
   "source": [
    "## Project Description"
   ]
  },
  {
   "cell_type": "markdown",
   "metadata": {},
   "source": [
    "Rusty Bargain used car sales service is developing an app to attract new customers. In that app, you can quickly find out the market value of your car. You have access to historical data: technical specifications, trim versions, and prices. You need to build the model to determine the value. \n",
    "\n",
    "Rusty Bargain is interested in:\n",
    "\n",
    "- the quality of the prediction;\n",
    "- the speed of the prediction;\n",
    "- the time required for training"
   ]
  },
  {
   "cell_type": "markdown",
   "metadata": {},
   "source": [
    "## Data preparation"
   ]
  },
  {
   "cell_type": "code",
   "execution_count": 41,
   "metadata": {},
   "outputs": [],
   "source": [
    "import pandas as pd\n",
    "import numpy as np\n",
    "from numpy.random import RandomState\n",
    "import matplotlib.pyplot as plt\n",
    "import seaborn as sns\n",
    "from sklearn import preprocessing\n",
    "from sklearn.model_selection import train_test_split\n",
    "from sklearn.linear_model import LinearRegression\n",
    "from sklearn.tree import DecisionTreeRegressor\n",
    "from sklearn.ensemble import RandomForestRegressor\n",
    "from catboost import CatBoostClassifier\n",
    "import lightgbm as lgb\n",
    "from sklearn.metrics import mean_squared_error\n",
    "from sklearn.preprocessing import StandardScaler\n",
    "import warnings\n",
    "warnings.filterwarnings(\"ignore\")\n"
   ]
  },
  {
   "cell_type": "code",
   "execution_count": 2,
   "metadata": {},
   "outputs": [],
   "source": [
    "# Load the data file\n",
    "try:\n",
    "    df = pd.read_csv('/datasets/car_data.csv')\n",
    "except:\n",
    "    df = pd.read_csv('car_data.csv')\n",
    "    "
   ]
  },
  {
   "cell_type": "code",
   "execution_count": 3,
   "metadata": {},
   "outputs": [
    {
     "name": "stdout",
     "output_type": "stream",
     "text": [
      "<class 'pandas.core.frame.DataFrame'>\n",
      "RangeIndex: 354369 entries, 0 to 354368\n",
      "Data columns (total 16 columns):\n",
      " #   Column             Non-Null Count   Dtype \n",
      "---  ------             --------------   ----- \n",
      " 0   DateCrawled        354369 non-null  object\n",
      " 1   Price              354369 non-null  int64 \n",
      " 2   VehicleType        316879 non-null  object\n",
      " 3   RegistrationYear   354369 non-null  int64 \n",
      " 4   Gearbox            334536 non-null  object\n",
      " 5   Power              354369 non-null  int64 \n",
      " 6   Model              334664 non-null  object\n",
      " 7   Mileage            354369 non-null  int64 \n",
      " 8   RegistrationMonth  354369 non-null  int64 \n",
      " 9   FuelType           321474 non-null  object\n",
      " 10  Brand              354369 non-null  object\n",
      " 11  NotRepaired        283215 non-null  object\n",
      " 12  DateCreated        354369 non-null  object\n",
      " 13  NumberOfPictures   354369 non-null  int64 \n",
      " 14  PostalCode         354369 non-null  int64 \n",
      " 15  LastSeen           354369 non-null  object\n",
      "dtypes: int64(7), object(9)\n",
      "memory usage: 43.3+ MB\n"
     ]
    },
    {
     "data": {
      "text/html": [
       "<div>\n",
       "<style scoped>\n",
       "    .dataframe tbody tr th:only-of-type {\n",
       "        vertical-align: middle;\n",
       "    }\n",
       "\n",
       "    .dataframe tbody tr th {\n",
       "        vertical-align: top;\n",
       "    }\n",
       "\n",
       "    .dataframe thead th {\n",
       "        text-align: right;\n",
       "    }\n",
       "</style>\n",
       "<table border=\"1\" class=\"dataframe\">\n",
       "  <thead>\n",
       "    <tr style=\"text-align: right;\">\n",
       "      <th></th>\n",
       "      <th>Price</th>\n",
       "      <th>RegistrationYear</th>\n",
       "      <th>Power</th>\n",
       "      <th>Mileage</th>\n",
       "      <th>RegistrationMonth</th>\n",
       "      <th>NumberOfPictures</th>\n",
       "      <th>PostalCode</th>\n",
       "    </tr>\n",
       "  </thead>\n",
       "  <tbody>\n",
       "    <tr>\n",
       "      <th>count</th>\n",
       "      <td>354369.000000</td>\n",
       "      <td>354369.000000</td>\n",
       "      <td>354369.000000</td>\n",
       "      <td>354369.000000</td>\n",
       "      <td>354369.000000</td>\n",
       "      <td>354369.0</td>\n",
       "      <td>354369.000000</td>\n",
       "    </tr>\n",
       "    <tr>\n",
       "      <th>mean</th>\n",
       "      <td>4416.656776</td>\n",
       "      <td>2004.234448</td>\n",
       "      <td>110.094337</td>\n",
       "      <td>128211.172535</td>\n",
       "      <td>5.714645</td>\n",
       "      <td>0.0</td>\n",
       "      <td>50508.689087</td>\n",
       "    </tr>\n",
       "    <tr>\n",
       "      <th>std</th>\n",
       "      <td>4514.158514</td>\n",
       "      <td>90.227958</td>\n",
       "      <td>189.850405</td>\n",
       "      <td>37905.341530</td>\n",
       "      <td>3.726421</td>\n",
       "      <td>0.0</td>\n",
       "      <td>25783.096248</td>\n",
       "    </tr>\n",
       "    <tr>\n",
       "      <th>min</th>\n",
       "      <td>0.000000</td>\n",
       "      <td>1000.000000</td>\n",
       "      <td>0.000000</td>\n",
       "      <td>5000.000000</td>\n",
       "      <td>0.000000</td>\n",
       "      <td>0.0</td>\n",
       "      <td>1067.000000</td>\n",
       "    </tr>\n",
       "    <tr>\n",
       "      <th>25%</th>\n",
       "      <td>1050.000000</td>\n",
       "      <td>1999.000000</td>\n",
       "      <td>69.000000</td>\n",
       "      <td>125000.000000</td>\n",
       "      <td>3.000000</td>\n",
       "      <td>0.0</td>\n",
       "      <td>30165.000000</td>\n",
       "    </tr>\n",
       "    <tr>\n",
       "      <th>50%</th>\n",
       "      <td>2700.000000</td>\n",
       "      <td>2003.000000</td>\n",
       "      <td>105.000000</td>\n",
       "      <td>150000.000000</td>\n",
       "      <td>6.000000</td>\n",
       "      <td>0.0</td>\n",
       "      <td>49413.000000</td>\n",
       "    </tr>\n",
       "    <tr>\n",
       "      <th>75%</th>\n",
       "      <td>6400.000000</td>\n",
       "      <td>2008.000000</td>\n",
       "      <td>143.000000</td>\n",
       "      <td>150000.000000</td>\n",
       "      <td>9.000000</td>\n",
       "      <td>0.0</td>\n",
       "      <td>71083.000000</td>\n",
       "    </tr>\n",
       "    <tr>\n",
       "      <th>max</th>\n",
       "      <td>20000.000000</td>\n",
       "      <td>9999.000000</td>\n",
       "      <td>20000.000000</td>\n",
       "      <td>150000.000000</td>\n",
       "      <td>12.000000</td>\n",
       "      <td>0.0</td>\n",
       "      <td>99998.000000</td>\n",
       "    </tr>\n",
       "  </tbody>\n",
       "</table>\n",
       "</div>"
      ],
      "text/plain": [
       "               Price  RegistrationYear          Power        Mileage  \\\n",
       "count  354369.000000     354369.000000  354369.000000  354369.000000   \n",
       "mean     4416.656776       2004.234448     110.094337  128211.172535   \n",
       "std      4514.158514         90.227958     189.850405   37905.341530   \n",
       "min         0.000000       1000.000000       0.000000    5000.000000   \n",
       "25%      1050.000000       1999.000000      69.000000  125000.000000   \n",
       "50%      2700.000000       2003.000000     105.000000  150000.000000   \n",
       "75%      6400.000000       2008.000000     143.000000  150000.000000   \n",
       "max     20000.000000       9999.000000   20000.000000  150000.000000   \n",
       "\n",
       "       RegistrationMonth  NumberOfPictures     PostalCode  \n",
       "count      354369.000000          354369.0  354369.000000  \n",
       "mean            5.714645               0.0   50508.689087  \n",
       "std             3.726421               0.0   25783.096248  \n",
       "min             0.000000               0.0    1067.000000  \n",
       "25%             3.000000               0.0   30165.000000  \n",
       "50%             6.000000               0.0   49413.000000  \n",
       "75%             9.000000               0.0   71083.000000  \n",
       "max            12.000000               0.0   99998.000000  "
      ]
     },
     "execution_count": 3,
     "metadata": {},
     "output_type": "execute_result"
    }
   ],
   "source": [
    "# Print general information about 'df'\n",
    "df.info()\n",
    "df.describe()\n"
   ]
  },
  {
   "cell_type": "code",
   "execution_count": 4,
   "metadata": {},
   "outputs": [
    {
     "data": {
      "text/html": [
       "<div>\n",
       "<style scoped>\n",
       "    .dataframe tbody tr th:only-of-type {\n",
       "        vertical-align: middle;\n",
       "    }\n",
       "\n",
       "    .dataframe tbody tr th {\n",
       "        vertical-align: top;\n",
       "    }\n",
       "\n",
       "    .dataframe thead th {\n",
       "        text-align: right;\n",
       "    }\n",
       "</style>\n",
       "<table border=\"1\" class=\"dataframe\">\n",
       "  <thead>\n",
       "    <tr style=\"text-align: right;\">\n",
       "      <th></th>\n",
       "      <th>DateCrawled</th>\n",
       "      <th>Price</th>\n",
       "      <th>VehicleType</th>\n",
       "      <th>RegistrationYear</th>\n",
       "      <th>Gearbox</th>\n",
       "      <th>Power</th>\n",
       "      <th>Model</th>\n",
       "      <th>Mileage</th>\n",
       "      <th>RegistrationMonth</th>\n",
       "      <th>FuelType</th>\n",
       "      <th>Brand</th>\n",
       "      <th>NotRepaired</th>\n",
       "      <th>DateCreated</th>\n",
       "      <th>NumberOfPictures</th>\n",
       "      <th>PostalCode</th>\n",
       "      <th>LastSeen</th>\n",
       "    </tr>\n",
       "  </thead>\n",
       "  <tbody>\n",
       "    <tr>\n",
       "      <th>0</th>\n",
       "      <td>24/03/2016 11:52</td>\n",
       "      <td>480</td>\n",
       "      <td>NaN</td>\n",
       "      <td>1993</td>\n",
       "      <td>manual</td>\n",
       "      <td>0</td>\n",
       "      <td>golf</td>\n",
       "      <td>150000</td>\n",
       "      <td>0</td>\n",
       "      <td>petrol</td>\n",
       "      <td>volkswagen</td>\n",
       "      <td>NaN</td>\n",
       "      <td>24/03/2016 00:00</td>\n",
       "      <td>0</td>\n",
       "      <td>70435</td>\n",
       "      <td>07/04/2016 03:16</td>\n",
       "    </tr>\n",
       "    <tr>\n",
       "      <th>1</th>\n",
       "      <td>24/03/2016 10:58</td>\n",
       "      <td>18300</td>\n",
       "      <td>coupe</td>\n",
       "      <td>2011</td>\n",
       "      <td>manual</td>\n",
       "      <td>190</td>\n",
       "      <td>NaN</td>\n",
       "      <td>125000</td>\n",
       "      <td>5</td>\n",
       "      <td>gasoline</td>\n",
       "      <td>audi</td>\n",
       "      <td>yes</td>\n",
       "      <td>24/03/2016 00:00</td>\n",
       "      <td>0</td>\n",
       "      <td>66954</td>\n",
       "      <td>07/04/2016 01:46</td>\n",
       "    </tr>\n",
       "    <tr>\n",
       "      <th>2</th>\n",
       "      <td>14/03/2016 12:52</td>\n",
       "      <td>9800</td>\n",
       "      <td>suv</td>\n",
       "      <td>2004</td>\n",
       "      <td>auto</td>\n",
       "      <td>163</td>\n",
       "      <td>grand</td>\n",
       "      <td>125000</td>\n",
       "      <td>8</td>\n",
       "      <td>gasoline</td>\n",
       "      <td>jeep</td>\n",
       "      <td>NaN</td>\n",
       "      <td>14/03/2016 00:00</td>\n",
       "      <td>0</td>\n",
       "      <td>90480</td>\n",
       "      <td>05/04/2016 12:47</td>\n",
       "    </tr>\n",
       "    <tr>\n",
       "      <th>3</th>\n",
       "      <td>17/03/2016 16:54</td>\n",
       "      <td>1500</td>\n",
       "      <td>small</td>\n",
       "      <td>2001</td>\n",
       "      <td>manual</td>\n",
       "      <td>75</td>\n",
       "      <td>golf</td>\n",
       "      <td>150000</td>\n",
       "      <td>6</td>\n",
       "      <td>petrol</td>\n",
       "      <td>volkswagen</td>\n",
       "      <td>no</td>\n",
       "      <td>17/03/2016 00:00</td>\n",
       "      <td>0</td>\n",
       "      <td>91074</td>\n",
       "      <td>17/03/2016 17:40</td>\n",
       "    </tr>\n",
       "    <tr>\n",
       "      <th>4</th>\n",
       "      <td>31/03/2016 17:25</td>\n",
       "      <td>3600</td>\n",
       "      <td>small</td>\n",
       "      <td>2008</td>\n",
       "      <td>manual</td>\n",
       "      <td>69</td>\n",
       "      <td>fabia</td>\n",
       "      <td>90000</td>\n",
       "      <td>7</td>\n",
       "      <td>gasoline</td>\n",
       "      <td>skoda</td>\n",
       "      <td>no</td>\n",
       "      <td>31/03/2016 00:00</td>\n",
       "      <td>0</td>\n",
       "      <td>60437</td>\n",
       "      <td>06/04/2016 10:17</td>\n",
       "    </tr>\n",
       "    <tr>\n",
       "      <th>...</th>\n",
       "      <td>...</td>\n",
       "      <td>...</td>\n",
       "      <td>...</td>\n",
       "      <td>...</td>\n",
       "      <td>...</td>\n",
       "      <td>...</td>\n",
       "      <td>...</td>\n",
       "      <td>...</td>\n",
       "      <td>...</td>\n",
       "      <td>...</td>\n",
       "      <td>...</td>\n",
       "      <td>...</td>\n",
       "      <td>...</td>\n",
       "      <td>...</td>\n",
       "      <td>...</td>\n",
       "      <td>...</td>\n",
       "    </tr>\n",
       "    <tr>\n",
       "      <th>354364</th>\n",
       "      <td>21/03/2016 09:50</td>\n",
       "      <td>0</td>\n",
       "      <td>NaN</td>\n",
       "      <td>2005</td>\n",
       "      <td>manual</td>\n",
       "      <td>0</td>\n",
       "      <td>colt</td>\n",
       "      <td>150000</td>\n",
       "      <td>7</td>\n",
       "      <td>petrol</td>\n",
       "      <td>mitsubishi</td>\n",
       "      <td>yes</td>\n",
       "      <td>21/03/2016 00:00</td>\n",
       "      <td>0</td>\n",
       "      <td>2694</td>\n",
       "      <td>21/03/2016 10:42</td>\n",
       "    </tr>\n",
       "    <tr>\n",
       "      <th>354365</th>\n",
       "      <td>14/03/2016 17:48</td>\n",
       "      <td>2200</td>\n",
       "      <td>NaN</td>\n",
       "      <td>2005</td>\n",
       "      <td>NaN</td>\n",
       "      <td>0</td>\n",
       "      <td>NaN</td>\n",
       "      <td>20000</td>\n",
       "      <td>1</td>\n",
       "      <td>NaN</td>\n",
       "      <td>sonstige_autos</td>\n",
       "      <td>NaN</td>\n",
       "      <td>14/03/2016 00:00</td>\n",
       "      <td>0</td>\n",
       "      <td>39576</td>\n",
       "      <td>06/04/2016 00:46</td>\n",
       "    </tr>\n",
       "    <tr>\n",
       "      <th>354366</th>\n",
       "      <td>05/03/2016 19:56</td>\n",
       "      <td>1199</td>\n",
       "      <td>convertible</td>\n",
       "      <td>2000</td>\n",
       "      <td>auto</td>\n",
       "      <td>101</td>\n",
       "      <td>fortwo</td>\n",
       "      <td>125000</td>\n",
       "      <td>3</td>\n",
       "      <td>petrol</td>\n",
       "      <td>smart</td>\n",
       "      <td>no</td>\n",
       "      <td>05/03/2016 00:00</td>\n",
       "      <td>0</td>\n",
       "      <td>26135</td>\n",
       "      <td>11/03/2016 18:17</td>\n",
       "    </tr>\n",
       "    <tr>\n",
       "      <th>354367</th>\n",
       "      <td>19/03/2016 18:57</td>\n",
       "      <td>9200</td>\n",
       "      <td>bus</td>\n",
       "      <td>1996</td>\n",
       "      <td>manual</td>\n",
       "      <td>102</td>\n",
       "      <td>transporter</td>\n",
       "      <td>150000</td>\n",
       "      <td>3</td>\n",
       "      <td>gasoline</td>\n",
       "      <td>volkswagen</td>\n",
       "      <td>no</td>\n",
       "      <td>19/03/2016 00:00</td>\n",
       "      <td>0</td>\n",
       "      <td>87439</td>\n",
       "      <td>07/04/2016 07:15</td>\n",
       "    </tr>\n",
       "    <tr>\n",
       "      <th>354368</th>\n",
       "      <td>20/03/2016 19:41</td>\n",
       "      <td>3400</td>\n",
       "      <td>wagon</td>\n",
       "      <td>2002</td>\n",
       "      <td>manual</td>\n",
       "      <td>100</td>\n",
       "      <td>golf</td>\n",
       "      <td>150000</td>\n",
       "      <td>6</td>\n",
       "      <td>gasoline</td>\n",
       "      <td>volkswagen</td>\n",
       "      <td>NaN</td>\n",
       "      <td>20/03/2016 00:00</td>\n",
       "      <td>0</td>\n",
       "      <td>40764</td>\n",
       "      <td>24/03/2016 12:45</td>\n",
       "    </tr>\n",
       "  </tbody>\n",
       "</table>\n",
       "<p>354369 rows × 16 columns</p>\n",
       "</div>"
      ],
      "text/plain": [
       "             DateCrawled  Price  VehicleType  RegistrationYear Gearbox  Power  \\\n",
       "0       24/03/2016 11:52    480          NaN              1993  manual      0   \n",
       "1       24/03/2016 10:58  18300        coupe              2011  manual    190   \n",
       "2       14/03/2016 12:52   9800          suv              2004    auto    163   \n",
       "3       17/03/2016 16:54   1500        small              2001  manual     75   \n",
       "4       31/03/2016 17:25   3600        small              2008  manual     69   \n",
       "...                  ...    ...          ...               ...     ...    ...   \n",
       "354364  21/03/2016 09:50      0          NaN              2005  manual      0   \n",
       "354365  14/03/2016 17:48   2200          NaN              2005     NaN      0   \n",
       "354366  05/03/2016 19:56   1199  convertible              2000    auto    101   \n",
       "354367  19/03/2016 18:57   9200          bus              1996  manual    102   \n",
       "354368  20/03/2016 19:41   3400        wagon              2002  manual    100   \n",
       "\n",
       "              Model  Mileage  RegistrationMonth  FuelType           Brand  \\\n",
       "0              golf   150000                  0    petrol      volkswagen   \n",
       "1               NaN   125000                  5  gasoline            audi   \n",
       "2             grand   125000                  8  gasoline            jeep   \n",
       "3              golf   150000                  6    petrol      volkswagen   \n",
       "4             fabia    90000                  7  gasoline           skoda   \n",
       "...             ...      ...                ...       ...             ...   \n",
       "354364         colt   150000                  7    petrol      mitsubishi   \n",
       "354365          NaN    20000                  1       NaN  sonstige_autos   \n",
       "354366       fortwo   125000                  3    petrol           smart   \n",
       "354367  transporter   150000                  3  gasoline      volkswagen   \n",
       "354368         golf   150000                  6  gasoline      volkswagen   \n",
       "\n",
       "       NotRepaired       DateCreated  NumberOfPictures  PostalCode  \\\n",
       "0              NaN  24/03/2016 00:00                 0       70435   \n",
       "1              yes  24/03/2016 00:00                 0       66954   \n",
       "2              NaN  14/03/2016 00:00                 0       90480   \n",
       "3               no  17/03/2016 00:00                 0       91074   \n",
       "4               no  31/03/2016 00:00                 0       60437   \n",
       "...            ...               ...               ...         ...   \n",
       "354364         yes  21/03/2016 00:00                 0        2694   \n",
       "354365         NaN  14/03/2016 00:00                 0       39576   \n",
       "354366          no  05/03/2016 00:00                 0       26135   \n",
       "354367          no  19/03/2016 00:00                 0       87439   \n",
       "354368         NaN  20/03/2016 00:00                 0       40764   \n",
       "\n",
       "                LastSeen  \n",
       "0       07/04/2016 03:16  \n",
       "1       07/04/2016 01:46  \n",
       "2       05/04/2016 12:47  \n",
       "3       17/03/2016 17:40  \n",
       "4       06/04/2016 10:17  \n",
       "...                  ...  \n",
       "354364  21/03/2016 10:42  \n",
       "354365  06/04/2016 00:46  \n",
       "354366  11/03/2016 18:17  \n",
       "354367  07/04/2016 07:15  \n",
       "354368  24/03/2016 12:45  \n",
       "\n",
       "[354369 rows x 16 columns]"
      ]
     },
     "execution_count": 4,
     "metadata": {},
     "output_type": "execute_result"
    }
   ],
   "source": [
    "# Print a sample of the data for 'df'\n",
    "df\n"
   ]
  },
  {
   "cell_type": "code",
   "execution_count": 5,
   "metadata": {},
   "outputs": [],
   "source": [
    "# Change the column names to be all lowercase for consistency\n",
    "df.columns = df.columns.str.lower()\n"
   ]
  },
  {
   "cell_type": "code",
   "execution_count": 6,
   "metadata": {},
   "outputs": [
    {
     "data": {
      "text/html": [
       "<div>\n",
       "<style scoped>\n",
       "    .dataframe tbody tr th:only-of-type {\n",
       "        vertical-align: middle;\n",
       "    }\n",
       "\n",
       "    .dataframe tbody tr th {\n",
       "        vertical-align: top;\n",
       "    }\n",
       "\n",
       "    .dataframe thead th {\n",
       "        text-align: right;\n",
       "    }\n",
       "</style>\n",
       "<table border=\"1\" class=\"dataframe\">\n",
       "  <thead>\n",
       "    <tr style=\"text-align: right;\">\n",
       "      <th></th>\n",
       "      <th>price</th>\n",
       "      <th>vehicletype</th>\n",
       "      <th>registrationyear</th>\n",
       "      <th>gearbox</th>\n",
       "      <th>power</th>\n",
       "      <th>model</th>\n",
       "      <th>mileage</th>\n",
       "      <th>fueltype</th>\n",
       "      <th>brand</th>\n",
       "      <th>notrepaired</th>\n",
       "    </tr>\n",
       "  </thead>\n",
       "  <tbody>\n",
       "    <tr>\n",
       "      <th>0</th>\n",
       "      <td>480</td>\n",
       "      <td>NaN</td>\n",
       "      <td>1993</td>\n",
       "      <td>manual</td>\n",
       "      <td>0</td>\n",
       "      <td>golf</td>\n",
       "      <td>150000</td>\n",
       "      <td>petrol</td>\n",
       "      <td>volkswagen</td>\n",
       "      <td>NaN</td>\n",
       "    </tr>\n",
       "    <tr>\n",
       "      <th>1</th>\n",
       "      <td>18300</td>\n",
       "      <td>coupe</td>\n",
       "      <td>2011</td>\n",
       "      <td>manual</td>\n",
       "      <td>190</td>\n",
       "      <td>NaN</td>\n",
       "      <td>125000</td>\n",
       "      <td>gasoline</td>\n",
       "      <td>audi</td>\n",
       "      <td>yes</td>\n",
       "    </tr>\n",
       "    <tr>\n",
       "      <th>2</th>\n",
       "      <td>9800</td>\n",
       "      <td>suv</td>\n",
       "      <td>2004</td>\n",
       "      <td>auto</td>\n",
       "      <td>163</td>\n",
       "      <td>grand</td>\n",
       "      <td>125000</td>\n",
       "      <td>gasoline</td>\n",
       "      <td>jeep</td>\n",
       "      <td>NaN</td>\n",
       "    </tr>\n",
       "    <tr>\n",
       "      <th>3</th>\n",
       "      <td>1500</td>\n",
       "      <td>small</td>\n",
       "      <td>2001</td>\n",
       "      <td>manual</td>\n",
       "      <td>75</td>\n",
       "      <td>golf</td>\n",
       "      <td>150000</td>\n",
       "      <td>petrol</td>\n",
       "      <td>volkswagen</td>\n",
       "      <td>no</td>\n",
       "    </tr>\n",
       "    <tr>\n",
       "      <th>4</th>\n",
       "      <td>3600</td>\n",
       "      <td>small</td>\n",
       "      <td>2008</td>\n",
       "      <td>manual</td>\n",
       "      <td>69</td>\n",
       "      <td>fabia</td>\n",
       "      <td>90000</td>\n",
       "      <td>gasoline</td>\n",
       "      <td>skoda</td>\n",
       "      <td>no</td>\n",
       "    </tr>\n",
       "    <tr>\n",
       "      <th>...</th>\n",
       "      <td>...</td>\n",
       "      <td>...</td>\n",
       "      <td>...</td>\n",
       "      <td>...</td>\n",
       "      <td>...</td>\n",
       "      <td>...</td>\n",
       "      <td>...</td>\n",
       "      <td>...</td>\n",
       "      <td>...</td>\n",
       "      <td>...</td>\n",
       "    </tr>\n",
       "    <tr>\n",
       "      <th>354364</th>\n",
       "      <td>0</td>\n",
       "      <td>NaN</td>\n",
       "      <td>2005</td>\n",
       "      <td>manual</td>\n",
       "      <td>0</td>\n",
       "      <td>colt</td>\n",
       "      <td>150000</td>\n",
       "      <td>petrol</td>\n",
       "      <td>mitsubishi</td>\n",
       "      <td>yes</td>\n",
       "    </tr>\n",
       "    <tr>\n",
       "      <th>354365</th>\n",
       "      <td>2200</td>\n",
       "      <td>NaN</td>\n",
       "      <td>2005</td>\n",
       "      <td>NaN</td>\n",
       "      <td>0</td>\n",
       "      <td>NaN</td>\n",
       "      <td>20000</td>\n",
       "      <td>NaN</td>\n",
       "      <td>sonstige_autos</td>\n",
       "      <td>NaN</td>\n",
       "    </tr>\n",
       "    <tr>\n",
       "      <th>354366</th>\n",
       "      <td>1199</td>\n",
       "      <td>convertible</td>\n",
       "      <td>2000</td>\n",
       "      <td>auto</td>\n",
       "      <td>101</td>\n",
       "      <td>fortwo</td>\n",
       "      <td>125000</td>\n",
       "      <td>petrol</td>\n",
       "      <td>smart</td>\n",
       "      <td>no</td>\n",
       "    </tr>\n",
       "    <tr>\n",
       "      <th>354367</th>\n",
       "      <td>9200</td>\n",
       "      <td>bus</td>\n",
       "      <td>1996</td>\n",
       "      <td>manual</td>\n",
       "      <td>102</td>\n",
       "      <td>transporter</td>\n",
       "      <td>150000</td>\n",
       "      <td>gasoline</td>\n",
       "      <td>volkswagen</td>\n",
       "      <td>no</td>\n",
       "    </tr>\n",
       "    <tr>\n",
       "      <th>354368</th>\n",
       "      <td>3400</td>\n",
       "      <td>wagon</td>\n",
       "      <td>2002</td>\n",
       "      <td>manual</td>\n",
       "      <td>100</td>\n",
       "      <td>golf</td>\n",
       "      <td>150000</td>\n",
       "      <td>gasoline</td>\n",
       "      <td>volkswagen</td>\n",
       "      <td>NaN</td>\n",
       "    </tr>\n",
       "  </tbody>\n",
       "</table>\n",
       "<p>354369 rows × 10 columns</p>\n",
       "</div>"
      ],
      "text/plain": [
       "        price  vehicletype  registrationyear gearbox  power        model  \\\n",
       "0         480          NaN              1993  manual      0         golf   \n",
       "1       18300        coupe              2011  manual    190          NaN   \n",
       "2        9800          suv              2004    auto    163        grand   \n",
       "3        1500        small              2001  manual     75         golf   \n",
       "4        3600        small              2008  manual     69        fabia   \n",
       "...       ...          ...               ...     ...    ...          ...   \n",
       "354364      0          NaN              2005  manual      0         colt   \n",
       "354365   2200          NaN              2005     NaN      0          NaN   \n",
       "354366   1199  convertible              2000    auto    101       fortwo   \n",
       "354367   9200          bus              1996  manual    102  transporter   \n",
       "354368   3400        wagon              2002  manual    100         golf   \n",
       "\n",
       "        mileage  fueltype           brand notrepaired  \n",
       "0        150000    petrol      volkswagen         NaN  \n",
       "1        125000  gasoline            audi         yes  \n",
       "2        125000  gasoline            jeep         NaN  \n",
       "3        150000    petrol      volkswagen          no  \n",
       "4         90000  gasoline           skoda          no  \n",
       "...         ...       ...             ...         ...  \n",
       "354364   150000    petrol      mitsubishi         yes  \n",
       "354365    20000       NaN  sonstige_autos         NaN  \n",
       "354366   125000    petrol           smart          no  \n",
       "354367   150000  gasoline      volkswagen          no  \n",
       "354368   150000  gasoline      volkswagen         NaN  \n",
       "\n",
       "[354369 rows x 10 columns]"
      ]
     },
     "execution_count": 6,
     "metadata": {},
     "output_type": "execute_result"
    }
   ],
   "source": [
    "# Remove features that are not relevant to the analysis\n",
    "df = df.drop(['datecrawled', 'datecreated', 'lastseen', 'postalcode', 'numberofpictures', 'registrationmonth'], axis = 1)\n",
    "df\n"
   ]
  },
  {
   "cell_type": "code",
   "execution_count": 7,
   "metadata": {},
   "outputs": [
    {
     "data": {
      "text/plain": [
       "price               0.000000\n",
       "vehicletype         0.105794\n",
       "registrationyear    0.000000\n",
       "gearbox             0.055967\n",
       "power               0.000000\n",
       "model               0.055606\n",
       "mileage             0.000000\n",
       "fueltype            0.092827\n",
       "brand               0.000000\n",
       "notrepaired         0.200791\n",
       "dtype: float64"
      ]
     },
     "execution_count": 7,
     "metadata": {},
     "output_type": "execute_result"
    }
   ],
   "source": [
    "# Calculate the percentage of missing values in 'df'\n",
    "df.isna().sum() / df.shape[0]\n"
   ]
  },
  {
   "cell_type": "code",
   "execution_count": 8,
   "metadata": {},
   "outputs": [
    {
     "data": {
      "text/plain": [
       "no     0.697468\n",
       "yes    0.101741\n",
       "Name: notrepaired, dtype: float64"
      ]
     },
     "execution_count": 8,
     "metadata": {},
     "output_type": "execute_result"
    }
   ],
   "source": [
    "# Check the distribution of values in the 'notrepaired' column\n",
    "df.notrepaired.value_counts() / df.notrepaired.shape[0]\n"
   ]
  },
  {
   "cell_type": "code",
   "execution_count": 9,
   "metadata": {},
   "outputs": [],
   "source": [
    "# Since 'no' comprises the majority of the values in the 'notrepaired' column, fill in missing values as 'no'\n",
    "df.notrepaired.fillna('no', inplace = True)\n"
   ]
  },
  {
   "cell_type": "code",
   "execution_count": 10,
   "metadata": {},
   "outputs": [
    {
     "name": "stdout",
     "output_type": "stream",
     "text": [
      "<class 'pandas.core.frame.DataFrame'>\n",
      "Int64Index: 284126 entries, 2 to 354368\n",
      "Data columns (total 10 columns):\n",
      " #   Column            Non-Null Count   Dtype \n",
      "---  ------            --------------   ----- \n",
      " 0   price             284126 non-null  int64 \n",
      " 1   vehicletype       284126 non-null  object\n",
      " 2   registrationyear  284126 non-null  int64 \n",
      " 3   gearbox           284126 non-null  object\n",
      " 4   power             284126 non-null  int64 \n",
      " 5   model             284126 non-null  object\n",
      " 6   mileage           284126 non-null  int64 \n",
      " 7   fueltype          284126 non-null  object\n",
      " 8   brand             284126 non-null  object\n",
      " 9   notrepaired       284126 non-null  object\n",
      "dtypes: int64(4), object(6)\n",
      "memory usage: 23.8+ MB\n"
     ]
    }
   ],
   "source": [
    "# Drop all remaining missing values from the dataset\n",
    "df = df.dropna()\n",
    "df.info()\n"
   ]
  },
  {
   "cell_type": "code",
   "execution_count": 11,
   "metadata": {},
   "outputs": [
    {
     "data": {
      "text/plain": [
       "array(['suv', 'small', 'sedan', 'convertible', 'bus', 'wagon', 'coupe',\n",
       "       'other'], dtype=object)"
      ]
     },
     "execution_count": 11,
     "metadata": {},
     "output_type": "execute_result"
    }
   ],
   "source": [
    "# Check all all the unique values of 'vehicletype'\n",
    "df.vehicletype.unique()\n"
   ]
  },
  {
   "cell_type": "code",
   "execution_count": 12,
   "metadata": {},
   "outputs": [
    {
     "data": {
      "text/plain": [
       "array(['auto', 'manual'], dtype=object)"
      ]
     },
     "execution_count": 12,
     "metadata": {},
     "output_type": "execute_result"
    }
   ],
   "source": [
    "# Check all all the unique values of 'gearbox'\n",
    "df.gearbox.unique()\n"
   ]
  },
  {
   "cell_type": "code",
   "execution_count": 13,
   "metadata": {},
   "outputs": [
    {
     "data": {
      "text/plain": [
       "array(['jeep', 'volkswagen', 'skoda', 'bmw', 'peugeot', 'ford', 'mazda',\n",
       "       'nissan', 'renault', 'mercedes_benz', 'seat', 'honda', 'fiat',\n",
       "       'mini', 'smart', 'opel', 'audi', 'alfa_romeo', 'subaru', 'volvo',\n",
       "       'mitsubishi', 'kia', 'hyundai', 'suzuki', 'lancia', 'citroen',\n",
       "       'toyota', 'chevrolet', 'dacia', 'daihatsu', 'chrysler', 'jaguar',\n",
       "       'rover', 'porsche', 'saab', 'daewoo', 'land_rover', 'trabant',\n",
       "       'lada'], dtype=object)"
      ]
     },
     "execution_count": 13,
     "metadata": {},
     "output_type": "execute_result"
    }
   ],
   "source": [
    "# Check all all the unique values of 'brand'\n",
    "df.brand.unique()\n"
   ]
  },
  {
   "cell_type": "code",
   "execution_count": 14,
   "metadata": {},
   "outputs": [
    {
     "data": {
      "text/plain": [
       "array(['gasoline', 'petrol', 'lpg', 'other', 'hybrid', 'cng', 'electric'],\n",
       "      dtype=object)"
      ]
     },
     "execution_count": 14,
     "metadata": {},
     "output_type": "execute_result"
    }
   ],
   "source": [
    "# Check all all the unique values of 'fueltype'\n",
    "df.fueltype.unique()\n"
   ]
  },
  {
   "cell_type": "code",
   "execution_count": 15,
   "metadata": {},
   "outputs": [
    {
     "data": {
      "text/plain": [
       "2         gasoline\n",
       "3         gasoline\n",
       "4         gasoline\n",
       "5         gasoline\n",
       "6         gasoline\n",
       "            ...   \n",
       "354362    gasoline\n",
       "354363    gasoline\n",
       "354366    gasoline\n",
       "354367    gasoline\n",
       "354368    gasoline\n",
       "Name: fueltype, Length: 284126, dtype: object"
      ]
     },
     "execution_count": 15,
     "metadata": {},
     "output_type": "execute_result"
    }
   ],
   "source": [
    "# Change the 'petrol' fueltype to 'gasoline' since they refer to the same type of fuel\n",
    "df['fueltype'] = df['fueltype'].replace(['petrol'],'gasoline')\n",
    "df.fueltype\n"
   ]
  },
  {
   "cell_type": "code",
   "execution_count": 16,
   "metadata": {},
   "outputs": [
    {
     "data": {
      "text/plain": [
       "array(['grand', 'golf', 'fabia', '3er', '2_reihe', 'other', 'c_max',\n",
       "       '3_reihe', 'passat', 'navara', 'twingo', 'a_klasse', 'scirocco',\n",
       "       '5er', 'arosa', 'civic', 'transporter', 'punto', 'e_klasse', 'one',\n",
       "       'fortwo', 'clio', '1er', 'b_klasse', 'astra', 'a8', 'jetta',\n",
       "       'polo', 'fiesta', 'c_klasse', 'micra', 'vito', 'sprinter', '156',\n",
       "       'escort', 'forester', 'xc_reihe', 'scenic', 'a4', 'a1', 'combo',\n",
       "       'focus', 'tt', 'a6', 'jazz', 'slk', '7er', 'corsa', '80', '147',\n",
       "       'meriva', 'z_reihe', 'sorento', 'v40', 'ibiza', 'mustang', 'eos',\n",
       "       'touran', 'getz', 'insignia', 'ka', 'megane', 'a3', 'lupo', 'r19',\n",
       "       'mondeo', 'colt', 'vectra', 'berlingo', 'tiguan', 'sharan',\n",
       "       '6_reihe', 'c4', 'panda', 'up', 'i_reihe', 'ceed', 'kangoo',\n",
       "       '5_reihe', 'yeti', 'octavia', 'zafira', 'mii', 'rx_reihe', '6er',\n",
       "       'fox', 'matiz', 'beetle', 'rio', 'touareg', 'logan', 'caddy',\n",
       "       'omega', 'cuore', 's_max', 'modus', 'a2', 'galaxy', 'c3', 'viano',\n",
       "       's_klasse', '1_reihe', 'avensis', 'roomster', 'sl', 'kaefer',\n",
       "       'santa', 'cooper', 'leon', 'a5', 'sportage', 'ptcruiser', 'clk',\n",
       "       'primera', '4_reihe', 'espace', 'x_reihe', 'exeo', 'transit',\n",
       "       'juke', 'carisma', 'accord', 'corolla', 'phaeton', 'cordoba',\n",
       "       'verso', 'swift', 'rav', 'qashqai', '159', 'picanto', 'boxster',\n",
       "       'stilo', 'alhambra', 'laguna', 'roadster', 'ypsilon', 'galant',\n",
       "       'justy', '90', 'sirion', 'signum', 'crossfire', 'agila', 'duster',\n",
       "       'v50', 'mx_reihe', '500', 'c_reihe', 'v_klasse', 'm_klasse',\n",
       "       'yaris', 'c5', 'aygo', 'almera', 'seicento', 'cc', '911', 'bora',\n",
       "       'forfour', 'm_reihe', '100', 'cl', 'tigra', '300c', 'cr_reihe',\n",
       "       'spark', 'kuga', 'impreza', 'x_type', 'ducato', 's_type',\n",
       "       'x_trail', 'toledo', 'altea', 'voyager', 'carnival', 'v70',\n",
       "       'bravo', 'antara', 'c1', 'kadett', 'citigo', 'jimny', 'cayenne',\n",
       "       'wrangler', 'lybra', 'q7', 'lancer', 'captiva', 'fusion',\n",
       "       'discovery', 'sandero', 'note', 'spider', 'cherokee', 'clubman',\n",
       "       'defender', 'cx_reihe', 'legacy', 'pajero', 'c2', 'niva', 's60',\n",
       "       '900', 'nubira', 'vivaro', 'lanos', 'tucson', 'g_klasse',\n",
       "       'freelander', 'auris', 'lodgy', '850', 'range_rover', '601',\n",
       "       'superb', 'q3', 'serie_2', 'calibra', 'glk', 'charade', 'croma',\n",
       "       'outlander', 'doblo', 'musa', 'move', '9000', 'kalos', 'v60',\n",
       "       '200', '145', 'b_max', 'range_rover_sport', 'aveo', 'terios',\n",
       "       'rangerover', 'q5', 'range_rover_evoque', 'materia', 'gl',\n",
       "       'kalina', 'samara', 'elefantino', 'delta', 'i3', 'amarok', 'kappa',\n",
       "       'serie_3', 'serie_1'], dtype=object)"
      ]
     },
     "execution_count": 16,
     "metadata": {},
     "output_type": "execute_result"
    }
   ],
   "source": [
    "# Check all all the unique values of 'model'\n",
    "df.model.unique()\n"
   ]
  },
  {
   "cell_type": "code",
   "execution_count": 17,
   "metadata": {},
   "outputs": [
    {
     "data": {
      "text/plain": [
       "<AxesSubplot:>"
      ]
     },
     "execution_count": 17,
     "metadata": {},
     "output_type": "execute_result"
    },
    {
     "data": {
      "image/png": "[encoded data removed]",
      "text/plain": [
       "<Figure size 504x504 with 1 Axes>"
      ]
     },
     "metadata": {
      "needs_background": "light"
     },
     "output_type": "display_data"
    }
   ],
   "source": [
    "# Create boxplots to examine the distributions of the 'power' column\n",
    "df.power.plot(kind='box', figsize = (7, 7), grid = True)\n"
   ]
  },
  {
   "cell_type": "code",
   "execution_count": 18,
   "metadata": {},
   "outputs": [
    {
     "data": {
      "text/plain": [
       "count    284126.000000\n",
       "mean        116.938408\n",
       "std          43.961944\n",
       "min           1.000000\n",
       "25%          82.000000\n",
       "50%         109.000000\n",
       "75%         143.000000\n",
       "max         255.000000\n",
       "Name: power, dtype: float64"
      ]
     },
     "execution_count": 18,
     "metadata": {},
     "output_type": "execute_result"
    }
   ],
   "source": [
    "# Replace upper outliers and values of 0 horsepower from the 'power' column with the median\n",
    "q1 = df.power.quantile(0.25)\n",
    "q3 = df.power.quantile(0.75)\n",
    "IQR = q3 - q1\n",
    "med = df['power'].median()\n",
    "\n",
    "df.loc[df['power'] > (q3 + 1.5 * IQR), 'power'] = med\n",
    "df.loc[df['power'] == 0, 'power'] = med\n",
    "df['power'].describe()\n"
   ]
  },
  {
   "cell_type": "code",
   "execution_count": 19,
   "metadata": {},
   "outputs": [
    {
     "data": {
      "image/png": "[encoded data removed]",
      "text/plain": [
       "<Figure size 504x504 with 1 Axes>"
      ]
     },
     "metadata": {
      "needs_background": "light"
     },
     "output_type": "display_data"
    }
   ],
   "source": [
    "# Create boxplots to examine the distributions of the 'price' column\n",
    "df.price.plot(kind='box', figsize = (7, 7), grid = True);\n"
   ]
  },
  {
   "cell_type": "code",
   "execution_count": 20,
   "metadata": {},
   "outputs": [
    {
     "data": {
      "image/png": "[encoded data removed]",
      "text/plain": [
       "<Figure size 504x504 with 1 Axes>"
      ]
     },
     "metadata": {
      "needs_background": "light"
     },
     "output_type": "display_data"
    }
   ],
   "source": [
    "# Create boxplots to examine the distributions of the 'registrationyear' column\n",
    "df.registrationyear.plot(kind='box', figsize = (7, 7), grid = True);\n"
   ]
  },
  {
   "cell_type": "code",
   "execution_count": 21,
   "metadata": {},
   "outputs": [
    {
     "data": {
      "image/png": "[encoded data removed]",
      "text/plain": [
       "<Figure size 504x504 with 1 Axes>"
      ]
     },
     "metadata": {
      "needs_background": "light"
     },
     "output_type": "display_data"
    }
   ],
   "source": [
    "# Create boxplots to examine the distributions of the 'mileage' column\n",
    "df.mileage.plot(kind='box', figsize = (7, 7), grid = True);\n"
   ]
  },
  {
   "cell_type": "code",
   "execution_count": 25,
   "metadata": {},
   "outputs": [],
   "source": [
    "# Use One Hot Encoding to encode the categorical features of 'df'\n",
    "df = pd.get_dummies(df, columns = ['vehicletype', 'gearbox', 'fueltype', 'brand', 'model', 'notrepaired'])\n"
   ]
  },
  {
   "cell_type": "code",
   "execution_count": 26,
   "metadata": {},
   "outputs": [],
   "source": [
    "# Split 'df' into a training, validation, and test set\n",
    "features = df.drop(['price'], axis=1) # The features consists of all the columns except 'price'\n",
    "target = df['price'] # The target is the 'price' column\n",
    "\n",
    "# Use train_test_split to create the training set (60% of the data) and the remaining data\n",
    "features_train, features_rem, target_train, target_rem = train_test_split(features,\n",
    "                                                                          target,\n",
    "                                                                          train_size = 0.6,\n",
    "                                                                          random_state = 12345)\n",
    "\n",
    "# Use train_test_split to split the remaining data into the validation and test set (20% of the data each)\n",
    "features_valid, features_test, target_valid, target_test = train_test_split(features_rem,\n",
    "                                                                            target_rem,\n",
    "                                                                            test_size = 0.5,\n",
    "                                                                            random_state = 12345)\n"
   ]
  },
  {
   "cell_type": "code",
   "execution_count": 27,
   "metadata": {},
   "outputs": [],
   "source": [
    "# Normalize the numeric features in 'df'\n",
    "numeric = ['registrationyear', 'power', 'mileage']\n",
    "\n",
    "scaler = StandardScaler()\n",
    "scaler.fit(features_train[numeric])\n",
    "features_train[numeric] = scaler.transform(features_train[numeric])\n",
    "features_valid[numeric] = scaler.transform(features_valid[numeric])\n",
    "features_test[numeric] = scaler.transform(features_test[numeric])\n"
   ]
  },
  {
   "cell_type": "markdown",
   "metadata": {},
   "source": [
    "## Model training"
   ]
  },
  {
   "cell_type": "code",
   "execution_count": 26,
   "metadata": {},
   "outputs": [
    {
     "name": "stdout",
     "output_type": "stream",
     "text": [
      "RMSE of the linear regression model on the validation set: 221790029489.37454\n",
      "CPU times: user 12.1 s, sys: 15.5 s, total: 27.6 s\n",
      "Wall time: 27.7 s\n"
     ]
    }
   ],
   "source": [
    "%%time\n",
    "# Linear Regression Model (for sanity check)\n",
    "lr_model = LinearRegression()\n",
    "lr_model.fit(features_train, target_train)\n",
    "lr_pred_valid = lr_model.predict(features_valid)\n",
    "lr_rmse = (mean_squared_error(target_valid, lr_pred_valid)) ** 0.5\n",
    "\n",
    "print(\"RMSE of the linear regression model on the validation set:\", lr_rmse)\n"
   ]
  },
  {
   "cell_type": "code",
   "execution_count": 27,
   "metadata": {},
   "outputs": [
    {
     "name": "stdout",
     "output_type": "stream",
     "text": [
      "RMSE of the best decision tree model on the validation set (max_depth = 15): 2025.189141923539\n",
      "CPU times: user 36.6 s, sys: 3.27 s, total: 39.8 s\n",
      "Wall time: 39.9 s\n"
     ]
    }
   ],
   "source": [
    "%%time\n",
    "# Decision Tree algorithm with hyperparameter tuning\n",
    "\n",
    "# Create a for loop to tune the model's max depth and identify the depth that produces the lowest RMSE value\n",
    "best_score = float(\"inf\")\n",
    "best_depth = 0\n",
    "\n",
    "for depth in range(1, 16):\n",
    "    dt_model = DecisionTreeRegressor(random_state = 12345, max_depth = depth) # create a model with the given depth\n",
    "    dt_model.fit(features_train, target_train) # train the model using the training set\n",
    "    dt_pred_valid = dt_model.predict(features_valid) # get predicted values from the model based on validation set\n",
    "    score = (mean_squared_error(target_valid, dt_pred_valid)) ** 0.5 # calculate the RMSE value based on the validation set\n",
    "    if score < best_score: \n",
    "        best_score = score # save best RMSE value on validation set\n",
    "        best_depth = depth # save depth corresponding to best RMSE value\n",
    "        \n",
    "print(f'RMSE of the best decision tree model on the validation set (max_depth = {best_depth}): {best_score}')\n"
   ]
  },
  {
   "cell_type": "code",
   "execution_count": 28,
   "metadata": {},
   "outputs": [
    {
     "name": "stdout",
     "output_type": "stream",
     "text": [
      "RMSE of the best random forest model on the validation set (n_estimators = 50): 1748.7582324417533\n",
      "CPU times: user 26min 8s, sys: 5.28 s, total: 26min 14s\n",
      "Wall time: 26min 14s\n"
     ]
    }
   ],
   "source": [
    "%%time\n",
    "# Random Forest algorithm with hyperparameter tuning\n",
    "# Create a for loop to tune the model's number of estimators and identify the number that produces the lowest RMSE value\n",
    "best_score = float(\"inf\")\n",
    "best_est = 0\n",
    "for est in range(41, 51): # choose hyperparameter range\n",
    "    rf_model = RandomForestRegressor(random_state = 12345, n_estimators = est) # set number of trees\n",
    "    rf_model.fit(features_train, target_train) # train model on training set\n",
    "    rf_pred_valid = rf_model.predict(features_valid) # get predicted values from the model based on validation set\n",
    "    score = (mean_squared_error(target_valid, rf_pred_valid)) ** 0.5 # calculate RMSE value on validation set\n",
    "    if score < best_score:\n",
    "        best_score = score # save best accuracy score on validation set\n",
    "        best_est = est # save number of estimators corresponding to best RMSE value\n",
    "\n",
    "print(f'RMSE of the best random forest model on the validation set (n_estimators = {best_est}): {best_score}')\n"
   ]
  },
  {
   "cell_type": "code",
   "execution_count": 65,
   "metadata": {},
   "outputs": [
    {
     "name": "stdout",
     "output_type": "stream",
     "text": [
      "RMSE of the LightGBM model on the validation set for learning rate of 0.7: 1763.9962506365064\n",
      "CPU times: user 15 s, sys: 1.03 s, total: 16 s\n",
      "Wall time: 16.1 s\n"
     ]
    }
   ],
   "source": [
    "%%time\n",
    "# LightGBM algorithm with hyperparameter tuning\n",
    "# Create a for loop to tune the model's learning rate and identify the number that produces the lowest RMSE value\n",
    "lrs = [.7, 1, 1.3]\n",
    "best_score = float(\"inf\")\n",
    "best_est = 0\n",
    "for lr in lrs:\n",
    "    gbm = lgb.LGBMRegressor(learning_rate = lr, random_state = 12345) # set learning rate\n",
    "    gbm.fit(features_train, target_train) # train model on training set\n",
    "    gbm_pred_valid = gbm.predict(features_valid) # get predicted values from the model based on validation set\n",
    "    score = (mean_squared_error(target_valid, gbm_pred_valid)) ** 0.5 # calculate RMSE value on validation set\n",
    "    if score < best_score:\n",
    "        best_score = score # save best RMSE value on validation set\n",
    "        best_lr = lr # save learning rate corresponding to best RMSE value\n",
    "\n",
    "print(f'RMSE of the LightGBM model on the validation set for learning rate of {best_lr}: {best_score}')\n"
   ]
  },
  {
   "cell_type": "code",
   "execution_count": 66,
   "metadata": {},
   "outputs": [
    {
     "name": "stdout",
     "output_type": "stream",
     "text": [
      "[LightGBM] [Warning] Auto-choosing row-wise multi-threading, the overhead of testing was 0.005378 seconds.\n",
      "You can set `force_row_wise=true` to remove the overhead.\n",
      "And if memory is not enough, you can set `force_col_wise=true`.\n",
      "[LightGBM] [Info] Total Bins 895\n",
      "[LightGBM] [Info] Number of data points in the train set: 170475, number of used features: 286\n",
      "[LightGBM] [Info] Start training from score 4847.839261\n",
      "[LightGBM] [Warning] Auto-choosing row-wise multi-threading, the overhead of testing was 0.005918 seconds.\n",
      "You can set `force_row_wise=true` to remove the overhead.\n",
      "And if memory is not enough, you can set `force_col_wise=true`.\n",
      "[LightGBM] [Info] Total Bins 895\n",
      "[LightGBM] [Info] Number of data points in the train set: 170475, number of used features: 286\n",
      "[LightGBM] [Info] Start training from score 4847.839261\n",
      "[LightGBM] [Warning] Auto-choosing row-wise multi-threading, the overhead of testing was 0.005987 seconds.\n",
      "You can set `force_row_wise=true` to remove the overhead.\n",
      "And if memory is not enough, you can set `force_col_wise=true`.\n",
      "[LightGBM] [Info] Total Bins 895\n",
      "[LightGBM] [Info] Number of data points in the train set: 170475, number of used features: 286\n",
      "[LightGBM] [Info] Start training from score 4847.839261\n",
      "RMSE of the LightGBM model on the validation set for 51 leaves: 1758.44149989902\n",
      "CPU times: user 17.1 s, sys: 991 ms, total: 18.1 s\n",
      "Wall time: 18.2 s\n"
     ]
    }
   ],
   "source": [
    "%%time\n",
    "# LightGBM algorithm with hyperparameter tuning\n",
    "# Create a for loop to tune the model's number of leaves and identify the number that produces the lowest RMSE value\n",
    "nls = [11, 31, 51]\n",
    "best_score = float(\"inf\")\n",
    "best_est = 0\n",
    "for nl in nls:\n",
    "    gbm = lgb.LGBMRegressor(learning_rate = 0.7, num_leaves = nl, verbose = 1, random_state = 12345) # set number of leaves\n",
    "    gbm.fit(features_train, target_train) # train model on training set\n",
    "    gbm_pred_valid = gbm.predict(features_valid) # get predicted values from the model based on validation set\n",
    "    score = (mean_squared_error(target_valid, gbm_pred_valid)) ** 0.5 # calculate RMSE value on validation set\n",
    "    if score < best_score:\n",
    "        best_score = score # save best RMSE value on validation set\n",
    "        best_nl = nl # save number of leaves corresponding to best RMSE value\n",
    "print(f'RMSE of the LightGBM model on the validation set for {best_nl} leaves: {best_score}')\n"
   ]
  },
  {
   "cell_type": "markdown",
   "metadata": {},
   "source": [
    "## Model analysis"
   ]
  },
  {
   "cell_type": "code",
   "execution_count": 68,
   "metadata": {},
   "outputs": [],
   "source": [
    "# Concatenate the training and validation set for use in the following analysis\n",
    "features_all = features_train.append(features_valid)\n",
    "target_all = target_train.append(target_valid)\n"
   ]
  },
  {
   "cell_type": "code",
   "execution_count": 32,
   "metadata": {},
   "outputs": [
    {
     "name": "stdout",
     "output_type": "stream",
     "text": [
      "CPU times: user 14.2 s, sys: 5.03 s, total: 19.3 s\n",
      "Wall time: 19.3 s\n"
     ]
    },
    {
     "data": {
      "text/plain": [
       "LinearRegression()"
      ]
     },
     "execution_count": 32,
     "metadata": {},
     "output_type": "execute_result"
    }
   ],
   "source": [
    "%%time\n",
    "# Linear Regression Model (fit)\n",
    "lr_model = LinearRegression()\n",
    "lr_model.fit(features_all, target_all)\n"
   ]
  },
  {
   "cell_type": "code",
   "execution_count": 33,
   "metadata": {},
   "outputs": [
    {
     "name": "stdout",
     "output_type": "stream",
     "text": [
      "RMSE of the linear regression model on the test set: 2696.975918470756\n",
      "CPU times: user 66.4 ms, sys: 68.2 ms, total: 135 ms\n",
      "Wall time: 112 ms\n"
     ]
    }
   ],
   "source": [
    "%%time\n",
    "# Linear Regression Model (predict)\n",
    "lr_pred_test = lr_model.predict(features_test)\n",
    "lr_rmse = (mean_squared_error(target_test, lr_pred_test)) ** 0.5\n",
    "\n",
    "print(f'RMSE of the linear regression model on the test set: {lr_rmse}')\n"
   ]
  },
  {
   "cell_type": "code",
   "execution_count": 34,
   "metadata": {},
   "outputs": [
    {
     "name": "stdout",
     "output_type": "stream",
     "text": [
      "CPU times: user 5.35 s, sys: 272 ms, total: 5.62 s\n",
      "Wall time: 5.64 s\n"
     ]
    },
    {
     "data": {
      "text/plain": [
       "DecisionTreeRegressor(max_depth=15, random_state=12345)"
      ]
     },
     "execution_count": 34,
     "metadata": {},
     "output_type": "execute_result"
    }
   ],
   "source": [
    "%%time\n",
    "# Decision Tree algorithm with hyperparameter tuning (fit)\n",
    "dt_model = DecisionTreeRegressor(random_state = 12345, max_depth = best_depth)\n",
    "dt_model.fit(features_all, target_all)\n"
   ]
  },
  {
   "cell_type": "code",
   "execution_count": 35,
   "metadata": {},
   "outputs": [
    {
     "name": "stdout",
     "output_type": "stream",
     "text": [
      "RMSE of the best decision tree model on the test set 1993.3162570710494\n",
      "CPU times: user 56.4 ms, sys: 48 ms, total: 104 ms\n",
      "Wall time: 107 ms\n"
     ]
    }
   ],
   "source": [
    "%%time\n",
    "# Decision Tree algorithm with hyperparameter tuning (predict)\n",
    "dt_pred_test = dt_model.predict(features_test)\n",
    "dt_rmse = (mean_squared_error(target_test, dt_pred_test)) ** 0.5\n",
    "\n",
    "print(f'RMSE of the best decision tree model on the test set {dt_rmse}')\n"
   ]
  },
  {
   "cell_type": "code",
   "execution_count": 40,
   "metadata": {},
   "outputs": [
    {
     "name": "stdout",
     "output_type": "stream",
     "text": [
      "CPU times: user 4min 1s, sys: 705 ms, total: 4min 2s\n",
      "Wall time: 4min 2s\n"
     ]
    },
    {
     "data": {
      "text/plain": [
       "RandomForestRegressor(n_estimators=50, random_state=12345)"
      ]
     },
     "execution_count": 40,
     "metadata": {},
     "output_type": "execute_result"
    }
   ],
   "source": [
    "%%time\n",
    "# Random Forest algorithm with hyperparameter tuning (fit)\n",
    "rf_model = RandomForestRegressor(random_state = 12345, n_estimators = 50)\n",
    "rf_model.fit(features_all, target_all)\n"
   ]
  },
  {
   "cell_type": "code",
   "execution_count": 41,
   "metadata": {},
   "outputs": [
    {
     "name": "stdout",
     "output_type": "stream",
     "text": [
      "RMSE of the best random forest model on the test set: 1704.745700537311\n",
      "CPU times: user 1.51 s, sys: 60 ms, total: 1.57 s\n",
      "Wall time: 1.58 s\n"
     ]
    }
   ],
   "source": [
    "%%time\n",
    "# Random Forest algorithm with hyperparameter tuning (predict)\n",
    "rf_pred_test = rf_model.predict(features_test)\n",
    "rf_rmse = (mean_squared_error(target_test, rf_pred_test)) ** 0.5\n",
    "\n",
    "print(f'RMSE of the best random forest model on the test set: {rf_rmse}')\n",
    "    "
   ]
  },
  {
   "cell_type": "code",
   "execution_count": 71,
   "metadata": {},
   "outputs": [
    {
     "name": "stdout",
     "output_type": "stream",
     "text": [
      "[LightGBM] [Warning] Auto-choosing row-wise multi-threading, the overhead of testing was 0.012323 seconds.\n",
      "You can set `force_row_wise=true` to remove the overhead.\n",
      "And if memory is not enough, you can set `force_col_wise=true`.\n",
      "[LightGBM] [Info] Total Bins 910\n",
      "[LightGBM] [Info] Number of data points in the train set: 227300, number of used features: 292\n",
      "[LightGBM] [Info] Start training from score 4853.669538\n",
      "CPU times: user 6.61 s, sys: 370 ms, total: 6.98 s\n",
      "Wall time: 7.03 s\n"
     ]
    },
    {
     "data": {
      "text/plain": [
       "LGBMRegressor(learning_rate=0.7, num_leaves=51, random_state=12345, verbose=1)"
      ]
     },
     "execution_count": 71,
     "metadata": {},
     "output_type": "execute_result"
    }
   ],
   "source": [
    "%%time\n",
    "# LightGBM algorithm with hyperparameter tuning (fit)\n",
    "gbm = lgb.LGBMRegressor(learning_rate = best_lr, num_leaves = best_nl, verbose = 1, random_state = 12345)\n",
    "gbm.fit(features_all, target_all) # train model on training set\n"
   ]
  },
  {
   "cell_type": "code",
   "execution_count": 70,
   "metadata": {},
   "outputs": [
    {
     "name": "stdout",
     "output_type": "stream",
     "text": [
      "RMSE of the LightGBM model on the test set: 1714.6640726446028\n",
      "CPU times: user 494 ms, sys: 104 ms, total: 598 ms\n",
      "Wall time: 590 ms\n"
     ]
    }
   ],
   "source": [
    "%%time\n",
    "# LightGBM algorithm with hyperparameter tuning (predict)\n",
    "gbm_pred_test = gbm.predict(features_test)\n",
    "gbm_rmse = (mean_squared_error(target_test, gbm_pred_test)) ** 0.5\n",
    "\n",
    "print(f'RMSE of the LightGBM model on the test set: {gbm_rmse}')\n"
   ]
  },
  {
   "cell_type": "markdown",
   "metadata": {},
   "source": [
    "## Conclusions"
   ]
  },
  {
   "cell_type": "markdown",
   "metadata": {},
   "source": [
    "After the data was explored and cleaned, the categorical features were One Hot Encoded, the data was split into a training, validation, and test set, and the numerical features were normalized. The training data was then used to train the following models and the various RMSE values were calculated based on the subsequent predictions in comparison to the targets from the validation set to hypertune the parameters. Then the tuned models were used to calculate predictions with the test set and RMSE values were calculated for each:\n",
    "\n",
    "1) Linear Regression: 2696.975918470756\n",
    "\n",
    "2) Decision Tree Regression: 1993.3162570710494\n",
    "\n",
    "3) Random Forest Regression: 1704.745700537311\n",
    "\n",
    "4) LightGBM Regression: 1714.6640726446028\n",
    "\n",
    "These results indicate that the Linear Regression models yields the poorest results which is expected since it was intended to serve as a means to sanity check the other models. The Decision Tree model yielded a higher RMSE than the Random Forest Regression and the LightGBM Regression models which had very similar RMSE values with the Random Forest Regression performed slightly better than the LightGMB model.\n",
    "\n",
    "Looking at speed and efficiency, the following are the wall times needed to train the models and yield predictions:\n",
    "\n",
    "1) Linear Regression: 19.3 s / 112 ms\n",
    "\n",
    "2) Decision Tree Regression: 5.64 s / 107 ms\n",
    "\n",
    "3) Random Forest Regression: 4min 2s / 1.58 s\n",
    "\n",
    "4) LightGBM Regression: 7.03 s / 590 ms\n",
    "\n",
    "Here you can see that the Linear Regression, Decision Tree, and LightGBM models performed very quickly, all under 20 seconds. The Random Forest model on the otherhand took much longer at over 4 minutes.\n",
    "\n",
    "Given these results, I would recommend that Rusty Bargain used car sales service should utilize a **LightGBM** model to develop their app since it yields comparable predictions to the Random Forest model but is far faster."
   ]
  },
  {
   "cell_type": "markdown",
   "metadata": {},
   "source": [
    "# Checklist"
   ]
  },
  {
   "cell_type": "markdown",
   "metadata": {},
   "source": [
    "Type 'x' to check. Then press Shift+Enter."
   ]
  },
  {
   "cell_type": "markdown",
   "metadata": {},
   "source": [
    "- [x]  Jupyter Notebook is open\n",
    "- [X ]  Code is error free\n",
    "- [X ]  The cells with the code have been arranged in order of execution\n",
    "- [X ]  The data has been downloaded and prepared\n",
    "- [X ]  The models have been trained\n",
    "- [X ]  The analysis of speed and quality of the models has been performed"
   ]
  },
  {
   "cell_type": "code",
   "execution_count": null,
   "metadata": {},
   "outputs": [],
   "source": []
  }
 ],
 "metadata": {
  "ExecuteTimeLog": [
   {
    "duration": 49,
    "start_time": "2022-06-28T17:50:26.444Z"
   },
   {
    "duration": 8,
    "start_time": "2022-06-28T17:50:37.592Z"
   },
   {
    "duration": 1333,
    "start_time": "2022-06-28T17:50:45.923Z"
   },
   {
    "duration": 651,
    "start_time": "2022-06-28T17:50:48.434Z"
   },
   {
    "duration": 232,
    "start_time": "2022-06-28T17:51:37.244Z"
   },
   {
    "duration": 25,
    "start_time": "2022-06-28T18:02:49.646Z"
   },
   {
    "duration": 12,
    "start_time": "2022-06-28T18:02:55.644Z"
   },
   {
    "duration": 12,
    "start_time": "2022-06-28T18:03:03.413Z"
   },
   {
    "duration": 11,
    "start_time": "2022-06-28T18:03:08.820Z"
   },
   {
    "duration": 25,
    "start_time": "2022-06-28T18:03:15.640Z"
   },
   {
    "duration": 71,
    "start_time": "2022-06-28T18:30:23.787Z"
   },
   {
    "duration": 27,
    "start_time": "2022-06-28T18:31:52.484Z"
   },
   {
    "duration": 3,
    "start_time": "2022-06-28T18:38:05.107Z"
   },
   {
    "duration": 18,
    "start_time": "2022-06-28T18:38:11.937Z"
   },
   {
    "duration": 19,
    "start_time": "2022-06-28T18:39:13.380Z"
   },
   {
    "duration": 22,
    "start_time": "2022-06-28T18:39:57.012Z"
   },
   {
    "duration": 27,
    "start_time": "2022-06-28T18:40:25.873Z"
   },
   {
    "duration": 27,
    "start_time": "2022-06-28T18:40:52.362Z"
   },
   {
    "duration": 21,
    "start_time": "2022-06-28T18:42:04.492Z"
   },
   {
    "duration": 22,
    "start_time": "2022-06-28T18:42:35.327Z"
   },
   {
    "duration": 1550,
    "start_time": "2022-06-29T18:44:49.139Z"
   },
   {
    "duration": 920,
    "start_time": "2022-06-29T18:44:50.691Z"
   },
   {
    "duration": 216,
    "start_time": "2022-06-29T18:44:51.612Z"
   },
   {
    "duration": 25,
    "start_time": "2022-06-29T18:44:51.830Z"
   },
   {
    "duration": 8,
    "start_time": "2022-06-29T18:44:51.857Z"
   },
   {
    "duration": 28,
    "start_time": "2022-06-29T18:44:51.866Z"
   },
   {
    "duration": 33,
    "start_time": "2022-06-29T18:44:51.896Z"
   },
   {
    "duration": 22,
    "start_time": "2022-06-29T18:44:51.930Z"
   },
   {
    "duration": 29,
    "start_time": "2022-06-29T18:44:51.953Z"
   },
   {
    "duration": 20,
    "start_time": "2022-06-29T18:44:51.983Z"
   },
   {
    "duration": 47,
    "start_time": "2022-06-29T18:44:52.005Z"
   },
   {
    "duration": 23,
    "start_time": "2022-06-29T18:44:52.054Z"
   },
   {
    "duration": 2,
    "start_time": "2022-06-29T18:44:52.078Z"
   },
   {
    "duration": 6,
    "start_time": "2022-06-29T18:44:52.083Z"
   },
   {
    "duration": 6,
    "start_time": "2022-06-29T18:44:52.090Z"
   },
   {
    "duration": 6,
    "start_time": "2022-06-29T18:44:52.098Z"
   },
   {
    "duration": 5,
    "start_time": "2022-06-29T18:44:52.105Z"
   },
   {
    "duration": 16,
    "start_time": "2022-06-29T18:44:52.111Z"
   },
   {
    "duration": 8,
    "start_time": "2022-06-29T18:44:52.128Z"
   },
   {
    "duration": 13,
    "start_time": "2022-06-29T18:44:52.138Z"
   },
   {
    "duration": 6,
    "start_time": "2022-06-29T18:45:14.058Z"
   },
   {
    "duration": 18,
    "start_time": "2022-06-29T18:45:24.395Z"
   },
   {
    "duration": 99,
    "start_time": "2022-06-29T18:48:46.488Z"
   },
   {
    "duration": 79,
    "start_time": "2022-06-29T18:48:56.737Z"
   },
   {
    "duration": 88,
    "start_time": "2022-06-29T18:49:13.784Z"
   },
   {
    "duration": 103,
    "start_time": "2022-06-29T18:52:24.246Z"
   },
   {
    "duration": 1312,
    "start_time": "2022-06-29T18:52:36.668Z"
   },
   {
    "duration": 634,
    "start_time": "2022-06-29T18:52:37.982Z"
   },
   {
    "duration": 210,
    "start_time": "2022-06-29T18:52:38.618Z"
   },
   {
    "duration": 128,
    "start_time": "2022-06-29T18:52:38.829Z"
   },
   {
    "duration": 30,
    "start_time": "2022-06-29T18:52:38.959Z"
   },
   {
    "duration": 1398,
    "start_time": "2022-06-29T20:24:27.166Z"
   },
   {
    "duration": 679,
    "start_time": "2022-06-29T20:24:28.566Z"
   },
   {
    "duration": 252,
    "start_time": "2022-06-29T20:24:29.247Z"
   },
   {
    "duration": 128,
    "start_time": "2022-06-29T20:24:29.500Z"
   },
   {
    "duration": 24,
    "start_time": "2022-06-29T20:24:29.629Z"
   },
   {
    "duration": 7,
    "start_time": "2022-06-29T20:24:29.655Z"
   },
   {
    "duration": 39,
    "start_time": "2022-06-29T20:24:36.372Z"
   },
   {
    "duration": 73,
    "start_time": "2022-06-29T20:25:03.595Z"
   },
   {
    "duration": 69,
    "start_time": "2022-06-29T20:29:05.799Z"
   },
   {
    "duration": 102,
    "start_time": "2022-06-29T20:31:17.211Z"
   },
   {
    "duration": 82,
    "start_time": "2022-06-29T20:31:22.005Z"
   },
   {
    "duration": 90,
    "start_time": "2022-06-29T20:31:57.309Z"
   },
   {
    "duration": 107,
    "start_time": "2022-06-29T20:33:38.360Z"
   },
   {
    "duration": 113,
    "start_time": "2022-06-29T20:33:51.655Z"
   },
   {
    "duration": 174,
    "start_time": "2022-06-29T20:34:00.248Z"
   },
   {
    "duration": 1322,
    "start_time": "2022-06-29T20:34:14.450Z"
   },
   {
    "duration": 689,
    "start_time": "2022-06-29T20:34:15.774Z"
   },
   {
    "duration": 272,
    "start_time": "2022-06-29T20:34:16.465Z"
   },
   {
    "duration": 119,
    "start_time": "2022-06-29T20:34:16.739Z"
   },
   {
    "duration": 21,
    "start_time": "2022-06-29T20:34:16.859Z"
   },
   {
    "duration": 3,
    "start_time": "2022-06-29T20:34:16.881Z"
   },
   {
    "duration": 49,
    "start_time": "2022-06-29T20:34:16.885Z"
   },
   {
    "duration": 65,
    "start_time": "2022-06-29T20:34:16.936Z"
   },
   {
    "duration": 221,
    "start_time": "2022-06-29T20:34:17.002Z"
   },
   {
    "duration": 77,
    "start_time": "2022-06-29T20:34:21.830Z"
   },
   {
    "duration": 113,
    "start_time": "2022-06-29T20:34:28.149Z"
   },
   {
    "duration": 110,
    "start_time": "2022-06-29T20:38:58.643Z"
   },
   {
    "duration": 1315,
    "start_time": "2022-06-29T20:39:19.065Z"
   },
   {
    "duration": 652,
    "start_time": "2022-06-29T20:39:20.382Z"
   },
   {
    "duration": 213,
    "start_time": "2022-06-29T20:39:21.036Z"
   },
   {
    "duration": 125,
    "start_time": "2022-06-29T20:39:21.252Z"
   },
   {
    "duration": 19,
    "start_time": "2022-06-29T20:39:21.379Z"
   },
   {
    "duration": 5,
    "start_time": "2022-06-29T20:39:21.400Z"
   },
   {
    "duration": 45,
    "start_time": "2022-06-29T20:39:21.406Z"
   },
   {
    "duration": 76,
    "start_time": "2022-06-29T20:39:21.452Z"
   },
   {
    "duration": 143,
    "start_time": "2022-06-29T20:39:21.529Z"
   },
   {
    "duration": 128,
    "start_time": "2022-06-29T20:39:30.640Z"
   },
   {
    "duration": 1370,
    "start_time": "2022-06-29T20:39:51.283Z"
   },
   {
    "duration": 688,
    "start_time": "2022-06-29T20:39:52.655Z"
   },
   {
    "duration": 296,
    "start_time": "2022-06-29T20:39:53.345Z"
   },
   {
    "duration": 122,
    "start_time": "2022-06-29T20:39:53.643Z"
   },
   {
    "duration": 21,
    "start_time": "2022-06-29T20:39:53.768Z"
   },
   {
    "duration": 4,
    "start_time": "2022-06-29T20:39:53.790Z"
   },
   {
    "duration": 59,
    "start_time": "2022-06-29T20:39:53.795Z"
   },
   {
    "duration": 87,
    "start_time": "2022-06-29T20:39:53.855Z"
   },
   {
    "duration": 142,
    "start_time": "2022-06-29T20:39:53.943Z"
   },
   {
    "duration": 17,
    "start_time": "2022-06-29T20:39:54.087Z"
   },
   {
    "duration": 27,
    "start_time": "2022-06-29T20:39:54.106Z"
   },
   {
    "duration": 21,
    "start_time": "2022-06-29T20:39:54.134Z"
   },
   {
    "duration": 24,
    "start_time": "2022-06-29T20:39:54.157Z"
   },
   {
    "duration": 34,
    "start_time": "2022-06-29T20:39:54.184Z"
   },
   {
    "duration": 32,
    "start_time": "2022-06-29T20:39:54.226Z"
   },
   {
    "duration": 19,
    "start_time": "2022-06-29T20:39:54.260Z"
   },
   {
    "duration": 2,
    "start_time": "2022-06-29T20:39:54.280Z"
   },
   {
    "duration": 7,
    "start_time": "2022-06-29T20:39:54.284Z"
   },
   {
    "duration": 8,
    "start_time": "2022-06-29T20:39:54.293Z"
   },
   {
    "duration": 8,
    "start_time": "2022-06-29T20:39:54.302Z"
   },
   {
    "duration": 20,
    "start_time": "2022-06-29T20:39:54.311Z"
   },
   {
    "duration": 9,
    "start_time": "2022-06-29T20:39:54.332Z"
   },
   {
    "duration": 6,
    "start_time": "2022-06-29T20:39:54.342Z"
   },
   {
    "duration": 5,
    "start_time": "2022-06-29T20:39:54.350Z"
   },
   {
    "duration": 1318,
    "start_time": "2022-06-29T20:40:32.665Z"
   },
   {
    "duration": 651,
    "start_time": "2022-06-29T20:40:33.985Z"
   },
   {
    "duration": 221,
    "start_time": "2022-06-29T20:40:34.638Z"
   },
   {
    "duration": 126,
    "start_time": "2022-06-29T20:40:34.860Z"
   },
   {
    "duration": 20,
    "start_time": "2022-06-29T20:40:34.988Z"
   },
   {
    "duration": 18,
    "start_time": "2022-06-29T20:40:35.010Z"
   },
   {
    "duration": 36,
    "start_time": "2022-06-29T20:40:35.029Z"
   },
   {
    "duration": 72,
    "start_time": "2022-06-29T20:40:35.067Z"
   },
   {
    "duration": 118,
    "start_time": "2022-06-29T20:40:35.140Z"
   },
   {
    "duration": 21,
    "start_time": "2022-06-29T20:40:35.259Z"
   },
   {
    "duration": 25,
    "start_time": "2022-06-29T20:40:35.282Z"
   },
   {
    "duration": 32,
    "start_time": "2022-06-29T20:40:35.308Z"
   },
   {
    "duration": 19,
    "start_time": "2022-06-29T20:40:35.342Z"
   },
   {
    "duration": 17,
    "start_time": "2022-06-29T20:40:35.364Z"
   },
   {
    "duration": 57,
    "start_time": "2022-06-29T20:40:35.382Z"
   },
   {
    "duration": 20,
    "start_time": "2022-06-29T20:40:35.441Z"
   },
   {
    "duration": 2,
    "start_time": "2022-06-29T20:40:35.462Z"
   },
   {
    "duration": 5,
    "start_time": "2022-06-29T20:40:35.466Z"
   },
   {
    "duration": 5,
    "start_time": "2022-06-29T20:40:35.473Z"
   },
   {
    "duration": 5,
    "start_time": "2022-06-29T20:40:35.479Z"
   },
   {
    "duration": 6,
    "start_time": "2022-06-29T20:40:35.486Z"
   },
   {
    "duration": 5,
    "start_time": "2022-06-29T20:40:35.493Z"
   },
   {
    "duration": 29,
    "start_time": "2022-06-29T20:40:35.499Z"
   },
   {
    "duration": 6,
    "start_time": "2022-06-29T20:40:35.529Z"
   },
   {
    "duration": 57,
    "start_time": "2022-06-29T20:41:39.563Z"
   },
   {
    "duration": 56,
    "start_time": "2022-06-29T20:41:48.008Z"
   },
   {
    "duration": 122,
    "start_time": "2022-06-29T20:56:35.292Z"
   },
   {
    "duration": 20,
    "start_time": "2022-06-29T20:56:58.070Z"
   },
   {
    "duration": 557,
    "start_time": "2022-06-29T21:04:34.237Z"
   },
   {
    "duration": 576,
    "start_time": "2022-06-29T21:04:46.428Z"
   },
   {
    "duration": 18,
    "start_time": "2022-06-29T21:05:19.840Z"
   },
   {
    "duration": 16,
    "start_time": "2022-06-29T21:05:22.575Z"
   },
   {
    "duration": 14,
    "start_time": "2022-06-29T21:05:34.396Z"
   },
   {
    "duration": 1396,
    "start_time": "2022-06-29T21:05:52.297Z"
   },
   {
    "duration": 692,
    "start_time": "2022-06-29T21:05:53.695Z"
   },
   {
    "duration": 232,
    "start_time": "2022-06-29T21:05:54.389Z"
   },
   {
    "duration": 119,
    "start_time": "2022-06-29T21:05:54.628Z"
   },
   {
    "duration": 20,
    "start_time": "2022-06-29T21:05:54.749Z"
   },
   {
    "duration": 10,
    "start_time": "2022-06-29T21:05:54.771Z"
   },
   {
    "duration": 48,
    "start_time": "2022-06-29T21:05:54.783Z"
   },
   {
    "duration": 78,
    "start_time": "2022-06-29T21:05:54.832Z"
   },
   {
    "duration": 162,
    "start_time": "2022-06-29T21:05:54.912Z"
   },
   {
    "duration": 17,
    "start_time": "2022-06-29T21:05:55.078Z"
   },
   {
    "duration": 32,
    "start_time": "2022-06-29T21:05:55.096Z"
   },
   {
    "duration": 20,
    "start_time": "2022-06-29T21:05:55.129Z"
   },
   {
    "duration": 18,
    "start_time": "2022-06-29T21:05:55.150Z"
   },
   {
    "duration": 17,
    "start_time": "2022-06-29T21:05:55.170Z"
   },
   {
    "duration": 55,
    "start_time": "2022-06-29T21:05:55.189Z"
   },
   {
    "duration": 18,
    "start_time": "2022-06-29T21:05:55.246Z"
   },
   {
    "duration": 553,
    "start_time": "2022-06-29T21:05:55.266Z"
   },
   {
    "duration": 19,
    "start_time": "2022-06-29T21:05:55.821Z"
   },
   {
    "duration": 4,
    "start_time": "2022-06-29T21:05:55.842Z"
   },
   {
    "duration": 8,
    "start_time": "2022-06-29T21:05:55.848Z"
   },
   {
    "duration": 5,
    "start_time": "2022-06-29T21:05:55.857Z"
   },
   {
    "duration": 6,
    "start_time": "2022-06-29T21:05:55.863Z"
   },
   {
    "duration": 6,
    "start_time": "2022-06-29T21:05:55.871Z"
   },
   {
    "duration": 7,
    "start_time": "2022-06-29T21:05:55.878Z"
   },
   {
    "duration": 6,
    "start_time": "2022-06-29T21:05:55.886Z"
   },
   {
    "duration": 5,
    "start_time": "2022-06-29T21:05:55.893Z"
   },
   {
    "duration": 1864,
    "start_time": "2022-07-01T18:44:52.966Z"
   },
   {
    "duration": 1572,
    "start_time": "2022-07-01T18:44:54.832Z"
   },
   {
    "duration": 278,
    "start_time": "2022-07-01T18:44:56.406Z"
   },
   {
    "duration": 22,
    "start_time": "2022-07-01T18:44:56.687Z"
   },
   {
    "duration": 54,
    "start_time": "2022-07-01T18:44:56.712Z"
   },
   {
    "duration": 38,
    "start_time": "2022-07-01T18:44:56.768Z"
   },
   {
    "duration": 93,
    "start_time": "2022-07-01T18:44:56.808Z"
   },
   {
    "duration": 200,
    "start_time": "2022-07-01T18:44:56.903Z"
   },
   {
    "duration": 17,
    "start_time": "2022-07-01T18:44:57.105Z"
   },
   {
    "duration": 56,
    "start_time": "2022-07-01T18:44:57.124Z"
   },
   {
    "duration": 24,
    "start_time": "2022-07-01T18:44:57.183Z"
   },
   {
    "duration": 70,
    "start_time": "2022-07-01T18:44:57.208Z"
   },
   {
    "duration": 18,
    "start_time": "2022-07-01T18:44:57.280Z"
   },
   {
    "duration": 41,
    "start_time": "2022-07-01T18:44:57.301Z"
   },
   {
    "duration": 673,
    "start_time": "2022-07-01T18:44:57.345Z"
   },
   {
    "duration": 540,
    "start_time": "2022-07-01T18:45:00.684Z"
   },
   {
    "duration": 121,
    "start_time": "2022-07-01T18:51:48.790Z"
   },
   {
    "duration": 154,
    "start_time": "2022-07-01T18:51:57.699Z"
   },
   {
    "duration": 26434,
    "start_time": "2022-07-01T18:55:09.902Z"
   },
   {
    "duration": 28,
    "start_time": "2022-07-01T19:00:38.812Z"
   },
   {
    "duration": 46,
    "start_time": "2022-07-01T19:29:54.795Z"
   },
   {
    "duration": 5,
    "start_time": "2022-07-01T19:30:04.593Z"
   },
   {
    "duration": 5,
    "start_time": "2022-07-01T19:30:19.922Z"
   },
   {
    "duration": 29,
    "start_time": "2022-07-01T19:33:17.952Z"
   },
   {
    "duration": 4,
    "start_time": "2022-07-01T19:33:23.175Z"
   },
   {
    "duration": 4,
    "start_time": "2022-07-01T19:33:45.015Z"
   },
   {
    "duration": 7,
    "start_time": "2022-07-01T19:33:57.148Z"
   },
   {
    "duration": 72509,
    "start_time": "2022-07-01T19:34:26.838Z"
   },
   {
    "duration": 7,
    "start_time": "2022-07-01T19:36:26.701Z"
   },
   {
    "duration": 13,
    "start_time": "2022-07-01T19:36:33.736Z"
   },
   {
    "duration": 5,
    "start_time": "2022-07-01T19:36:42.478Z"
   },
   {
    "duration": 26,
    "start_time": "2022-07-01T19:37:18.473Z"
   },
   {
    "duration": 29,
    "start_time": "2022-07-01T19:37:24.677Z"
   },
   {
    "duration": 13,
    "start_time": "2022-07-01T19:37:41.413Z"
   },
   {
    "duration": 43,
    "start_time": "2022-07-01T19:37:44.594Z"
   },
   {
    "duration": 27,
    "start_time": "2022-07-01T19:37:50.373Z"
   },
   {
    "duration": 27,
    "start_time": "2022-07-01T19:38:18.316Z"
   },
   {
    "duration": 30,
    "start_time": "2022-07-01T19:38:30.848Z"
   },
   {
    "duration": 29,
    "start_time": "2022-07-01T19:38:34.325Z"
   },
   {
    "duration": 7,
    "start_time": "2022-07-01T19:38:58.968Z"
   },
   {
    "duration": 6,
    "start_time": "2022-07-01T19:39:03.280Z"
   },
   {
    "duration": 4,
    "start_time": "2022-07-01T19:39:13.018Z"
   },
   {
    "duration": 4,
    "start_time": "2022-07-01T19:39:18.797Z"
   },
   {
    "duration": 4,
    "start_time": "2022-07-01T19:39:36.843Z"
   },
   {
    "duration": 4,
    "start_time": "2022-07-01T19:39:41.071Z"
   },
   {
    "duration": 4,
    "start_time": "2022-07-01T19:39:53.712Z"
   },
   {
    "duration": 20,
    "start_time": "2022-07-01T19:39:58.182Z"
   },
   {
    "duration": 10,
    "start_time": "2022-07-01T19:40:06.288Z"
   },
   {
    "duration": 7,
    "start_time": "2022-07-01T19:40:10.628Z"
   },
   {
    "duration": 335469,
    "start_time": "2022-07-01T19:48:00.007Z"
   },
   {
    "duration": 1584,
    "start_time": "2022-07-01T19:53:40.408Z"
   },
   {
    "duration": 1011,
    "start_time": "2022-07-01T19:53:41.994Z"
   },
   {
    "duration": 248,
    "start_time": "2022-07-01T19:53:43.007Z"
   },
   {
    "duration": 21,
    "start_time": "2022-07-01T19:53:43.256Z"
   },
   {
    "duration": 15,
    "start_time": "2022-07-01T19:53:43.279Z"
   },
   {
    "duration": 128,
    "start_time": "2022-07-01T19:53:43.296Z"
   },
   {
    "duration": 0,
    "start_time": "2022-07-01T19:53:43.428Z"
   },
   {
    "duration": 0,
    "start_time": "2022-07-01T19:53:43.430Z"
   },
   {
    "duration": 0,
    "start_time": "2022-07-01T19:53:43.433Z"
   },
   {
    "duration": 0,
    "start_time": "2022-07-01T19:53:43.434Z"
   },
   {
    "duration": 0,
    "start_time": "2022-07-01T19:53:43.435Z"
   },
   {
    "duration": 0,
    "start_time": "2022-07-01T19:53:43.436Z"
   },
   {
    "duration": 0,
    "start_time": "2022-07-01T19:53:43.436Z"
   },
   {
    "duration": 0,
    "start_time": "2022-07-01T19:53:43.441Z"
   },
   {
    "duration": 0,
    "start_time": "2022-07-01T19:53:43.442Z"
   },
   {
    "duration": 0,
    "start_time": "2022-07-01T19:53:43.442Z"
   },
   {
    "duration": 0,
    "start_time": "2022-07-01T19:53:43.443Z"
   },
   {
    "duration": 0,
    "start_time": "2022-07-01T19:53:43.443Z"
   },
   {
    "duration": 0,
    "start_time": "2022-07-01T19:53:43.446Z"
   },
   {
    "duration": 0,
    "start_time": "2022-07-01T19:53:43.447Z"
   },
   {
    "duration": 0,
    "start_time": "2022-07-01T19:53:43.448Z"
   },
   {
    "duration": 0,
    "start_time": "2022-07-01T19:53:43.449Z"
   },
   {
    "duration": 0,
    "start_time": "2022-07-01T19:53:43.450Z"
   },
   {
    "duration": 0,
    "start_time": "2022-07-01T19:53:43.451Z"
   },
   {
    "duration": 0,
    "start_time": "2022-07-01T19:53:43.452Z"
   },
   {
    "duration": 0,
    "start_time": "2022-07-01T19:53:43.453Z"
   },
   {
    "duration": 33,
    "start_time": "2022-07-01T19:54:07.617Z"
   },
   {
    "duration": 86,
    "start_time": "2022-07-01T19:54:11.272Z"
   },
   {
    "duration": 171,
    "start_time": "2022-07-01T19:54:12.925Z"
   },
   {
    "duration": 17,
    "start_time": "2022-07-01T19:54:13.889Z"
   },
   {
    "duration": 19,
    "start_time": "2022-07-01T19:54:15.002Z"
   },
   {
    "duration": 35,
    "start_time": "2022-07-01T19:54:15.622Z"
   },
   {
    "duration": 23,
    "start_time": "2022-07-01T19:54:16.278Z"
   },
   {
    "duration": 18,
    "start_time": "2022-07-01T19:54:16.798Z"
   },
   {
    "duration": 34,
    "start_time": "2022-07-01T19:54:17.497Z"
   },
   {
    "duration": 148,
    "start_time": "2022-07-01T19:54:18.721Z"
   },
   {
    "duration": 112,
    "start_time": "2022-07-01T19:54:20.622Z"
   },
   {
    "duration": 162,
    "start_time": "2022-07-01T19:54:22.316Z"
   },
   {
    "duration": 15,
    "start_time": "2022-07-01T19:54:53.836Z"
   },
   {
    "duration": 1528,
    "start_time": "2022-07-01T19:55:07.944Z"
   },
   {
    "duration": 748,
    "start_time": "2022-07-01T19:55:09.474Z"
   },
   {
    "duration": 258,
    "start_time": "2022-07-01T19:55:10.223Z"
   },
   {
    "duration": 22,
    "start_time": "2022-07-01T19:55:10.483Z"
   },
   {
    "duration": 6,
    "start_time": "2022-07-01T19:55:10.508Z"
   },
   {
    "duration": 56,
    "start_time": "2022-07-01T19:55:10.515Z"
   },
   {
    "duration": 96,
    "start_time": "2022-07-01T19:55:10.573Z"
   },
   {
    "duration": 134,
    "start_time": "2022-07-01T19:55:10.671Z"
   },
   {
    "duration": 33,
    "start_time": "2022-07-01T19:55:10.807Z"
   },
   {
    "duration": 21,
    "start_time": "2022-07-01T19:55:10.843Z"
   },
   {
    "duration": 132,
    "start_time": "2022-07-01T19:55:10.866Z"
   },
   {
    "duration": 0,
    "start_time": "2022-07-01T19:55:11.000Z"
   },
   {
    "duration": 0,
    "start_time": "2022-07-01T19:55:11.001Z"
   },
   {
    "duration": 0,
    "start_time": "2022-07-01T19:55:11.002Z"
   },
   {
    "duration": 0,
    "start_time": "2022-07-01T19:55:11.004Z"
   },
   {
    "duration": 0,
    "start_time": "2022-07-01T19:55:11.005Z"
   },
   {
    "duration": 0,
    "start_time": "2022-07-01T19:55:11.006Z"
   },
   {
    "duration": 0,
    "start_time": "2022-07-01T19:55:11.007Z"
   },
   {
    "duration": 0,
    "start_time": "2022-07-01T19:55:11.008Z"
   },
   {
    "duration": 0,
    "start_time": "2022-07-01T19:55:11.029Z"
   },
   {
    "duration": 0,
    "start_time": "2022-07-01T19:55:11.030Z"
   },
   {
    "duration": 0,
    "start_time": "2022-07-01T19:55:11.031Z"
   },
   {
    "duration": 0,
    "start_time": "2022-07-01T19:55:11.032Z"
   },
   {
    "duration": 0,
    "start_time": "2022-07-01T19:55:11.033Z"
   },
   {
    "duration": 0,
    "start_time": "2022-07-01T19:55:11.034Z"
   },
   {
    "duration": 0,
    "start_time": "2022-07-01T19:55:11.039Z"
   },
   {
    "duration": 27,
    "start_time": "2022-07-01T19:55:23.338Z"
   },
   {
    "duration": 33,
    "start_time": "2022-07-01T19:55:23.367Z"
   },
   {
    "duration": 37,
    "start_time": "2022-07-01T19:55:23.402Z"
   },
   {
    "duration": 40,
    "start_time": "2022-07-01T19:55:23.441Z"
   },
   {
    "duration": 146,
    "start_time": "2022-07-01T19:55:23.611Z"
   },
   {
    "duration": 103,
    "start_time": "2022-07-01T19:55:23.759Z"
   },
   {
    "duration": 176,
    "start_time": "2022-07-01T19:55:23.864Z"
   },
   {
    "duration": 3292,
    "start_time": "2022-07-01T19:55:24.042Z"
   },
   {
    "duration": 16722,
    "start_time": "2022-07-01T19:55:27.338Z"
   },
   {
    "duration": 0,
    "start_time": "2022-07-01T19:55:44.062Z"
   },
   {
    "duration": 0,
    "start_time": "2022-07-01T19:55:44.063Z"
   },
   {
    "duration": 0,
    "start_time": "2022-07-01T19:55:44.064Z"
   },
   {
    "duration": 0,
    "start_time": "2022-07-01T19:55:44.065Z"
   },
   {
    "duration": 0,
    "start_time": "2022-07-01T19:55:44.066Z"
   },
   {
    "duration": 0,
    "start_time": "2022-07-01T19:55:44.067Z"
   },
   {
    "duration": 0,
    "start_time": "2022-07-01T19:55:44.068Z"
   },
   {
    "duration": 101510,
    "start_time": "2022-07-01T20:02:00.142Z"
   },
   {
    "duration": 79757,
    "start_time": "2022-07-01T20:03:50.726Z"
   },
   {
    "duration": 262764,
    "start_time": "2022-07-01T20:06:39.586Z"
   },
   {
    "duration": 580472,
    "start_time": "2022-07-01T20:12:58.843Z"
   },
   {
    "duration": 6508,
    "start_time": "2022-07-01T20:23:31.804Z"
   },
   {
    "duration": 39715,
    "start_time": "2022-07-01T20:24:09.169Z"
   },
   {
    "duration": 1490,
    "start_time": "2022-07-04T20:34:10.120Z"
   },
   {
    "duration": 2374,
    "start_time": "2022-07-04T20:34:11.611Z"
   },
   {
    "duration": 237,
    "start_time": "2022-07-04T20:34:13.987Z"
   },
   {
    "duration": 25,
    "start_time": "2022-07-04T20:34:14.225Z"
   },
   {
    "duration": 3,
    "start_time": "2022-07-04T20:34:14.252Z"
   },
   {
    "duration": 44,
    "start_time": "2022-07-04T20:34:14.257Z"
   },
   {
    "duration": 45,
    "start_time": "2022-07-04T20:34:14.302Z"
   },
   {
    "duration": 102,
    "start_time": "2022-07-04T20:34:14.349Z"
   },
   {
    "duration": 15,
    "start_time": "2022-07-04T20:34:14.453Z"
   },
   {
    "duration": 31,
    "start_time": "2022-07-04T20:34:14.470Z"
   },
   {
    "duration": 17,
    "start_time": "2022-07-04T20:34:14.502Z"
   },
   {
    "duration": 15,
    "start_time": "2022-07-04T20:34:14.521Z"
   },
   {
    "duration": 24,
    "start_time": "2022-07-04T20:34:14.537Z"
   },
   {
    "duration": 17,
    "start_time": "2022-07-04T20:34:20.182Z"
   },
   {
    "duration": 59,
    "start_time": "2022-07-04T20:37:47.715Z"
   },
   {
    "duration": 126,
    "start_time": "2022-07-04T20:37:49.614Z"
   },
   {
    "duration": 61,
    "start_time": "2022-07-04T20:37:52.242Z"
   },
   {
    "duration": 138,
    "start_time": "2022-07-04T20:37:53.504Z"
   },
   {
    "duration": 152,
    "start_time": "2022-07-04T20:38:20.639Z"
   },
   {
    "duration": 1308,
    "start_time": "2022-07-04T20:52:19.192Z"
   },
   {
    "duration": 538,
    "start_time": "2022-07-04T20:52:20.501Z"
   },
   {
    "duration": 184,
    "start_time": "2022-07-04T20:52:21.040Z"
   },
   {
    "duration": 17,
    "start_time": "2022-07-04T20:52:21.226Z"
   },
   {
    "duration": 5,
    "start_time": "2022-07-04T20:52:21.245Z"
   },
   {
    "duration": 39,
    "start_time": "2022-07-04T20:52:21.252Z"
   },
   {
    "duration": 42,
    "start_time": "2022-07-04T20:52:21.293Z"
   },
   {
    "duration": 105,
    "start_time": "2022-07-04T20:52:21.337Z"
   },
   {
    "duration": 15,
    "start_time": "2022-07-04T20:52:21.443Z"
   },
   {
    "duration": 14,
    "start_time": "2022-07-04T20:52:21.460Z"
   },
   {
    "duration": 23,
    "start_time": "2022-07-04T20:52:21.481Z"
   },
   {
    "duration": 14,
    "start_time": "2022-07-04T20:52:21.505Z"
   },
   {
    "duration": 23,
    "start_time": "2022-07-04T20:52:21.520Z"
   },
   {
    "duration": 16,
    "start_time": "2022-07-04T20:52:21.545Z"
   },
   {
    "duration": 146,
    "start_time": "2022-07-04T20:52:21.562Z"
   },
   {
    "duration": 46,
    "start_time": "2022-07-04T20:52:21.710Z"
   },
   {
    "duration": 121,
    "start_time": "2022-07-04T20:52:21.758Z"
   },
   {
    "duration": 67,
    "start_time": "2022-07-04T20:52:21.881Z"
   },
   {
    "duration": 122,
    "start_time": "2022-07-04T20:52:21.950Z"
   },
   {
    "duration": 148,
    "start_time": "2022-07-04T20:52:27.805Z"
   },
   {
    "duration": 51,
    "start_time": "2022-07-04T20:52:50.088Z"
   },
   {
    "duration": 49,
    "start_time": "2022-07-04T20:56:06.306Z"
   },
   {
    "duration": 16,
    "start_time": "2022-07-04T20:56:46.902Z"
   },
   {
    "duration": 30,
    "start_time": "2022-07-04T20:56:54.516Z"
   },
   {
    "duration": 8,
    "start_time": "2022-07-04T20:58:06.873Z"
   },
   {
    "duration": 14,
    "start_time": "2022-07-04T20:58:13.245Z"
   },
   {
    "duration": 1338,
    "start_time": "2022-07-04T20:59:55.271Z"
   },
   {
    "duration": 578,
    "start_time": "2022-07-04T20:59:56.610Z"
   },
   {
    "duration": 184,
    "start_time": "2022-07-04T20:59:57.190Z"
   },
   {
    "duration": 29,
    "start_time": "2022-07-04T20:59:57.375Z"
   },
   {
    "duration": 3,
    "start_time": "2022-07-04T20:59:57.405Z"
   },
   {
    "duration": 26,
    "start_time": "2022-07-04T20:59:57.409Z"
   },
   {
    "duration": 59,
    "start_time": "2022-07-04T20:59:57.436Z"
   },
   {
    "duration": 95,
    "start_time": "2022-07-04T20:59:57.497Z"
   },
   {
    "duration": 15,
    "start_time": "2022-07-04T20:59:57.593Z"
   },
   {
    "duration": 15,
    "start_time": "2022-07-04T20:59:57.609Z"
   },
   {
    "duration": 16,
    "start_time": "2022-07-04T20:59:57.626Z"
   },
   {
    "duration": 14,
    "start_time": "2022-07-04T20:59:57.644Z"
   },
   {
    "duration": 47,
    "start_time": "2022-07-04T20:59:57.659Z"
   },
   {
    "duration": 18,
    "start_time": "2022-07-04T20:59:57.707Z"
   },
   {
    "duration": 122,
    "start_time": "2022-07-04T20:59:57.726Z"
   },
   {
    "duration": 53,
    "start_time": "2022-07-04T20:59:57.850Z"
   },
   {
    "duration": 113,
    "start_time": "2022-07-04T20:59:57.905Z"
   },
   {
    "duration": 90,
    "start_time": "2022-07-04T20:59:58.019Z"
   },
   {
    "duration": 118,
    "start_time": "2022-07-04T20:59:58.110Z"
   },
   {
    "duration": 2244,
    "start_time": "2022-07-04T21:00:00.847Z"
   },
   {
    "duration": 1333,
    "start_time": "2022-07-04T21:03:06.582Z"
   },
   {
    "duration": 574,
    "start_time": "2022-07-04T21:03:07.917Z"
   },
   {
    "duration": 185,
    "start_time": "2022-07-04T21:03:08.493Z"
   },
   {
    "duration": 25,
    "start_time": "2022-07-04T21:03:08.679Z"
   },
   {
    "duration": 4,
    "start_time": "2022-07-04T21:03:08.706Z"
   },
   {
    "duration": 29,
    "start_time": "2022-07-04T21:03:08.711Z"
   },
   {
    "duration": 57,
    "start_time": "2022-07-04T21:03:08.742Z"
   },
   {
    "duration": 105,
    "start_time": "2022-07-04T21:03:08.800Z"
   },
   {
    "duration": 15,
    "start_time": "2022-07-04T21:03:08.907Z"
   },
   {
    "duration": 14,
    "start_time": "2022-07-04T21:03:08.924Z"
   },
   {
    "duration": 16,
    "start_time": "2022-07-04T21:03:08.940Z"
   },
   {
    "duration": 34,
    "start_time": "2022-07-04T21:03:08.958Z"
   },
   {
    "duration": 24,
    "start_time": "2022-07-04T21:03:08.993Z"
   },
   {
    "duration": 16,
    "start_time": "2022-07-04T21:03:09.019Z"
   },
   {
    "duration": 133,
    "start_time": "2022-07-04T21:03:09.036Z"
   },
   {
    "duration": 54,
    "start_time": "2022-07-04T21:03:09.170Z"
   },
   {
    "duration": 129,
    "start_time": "2022-07-04T21:03:09.226Z"
   },
   {
    "duration": 90,
    "start_time": "2022-07-04T21:03:09.356Z"
   },
   {
    "duration": 122,
    "start_time": "2022-07-04T21:03:09.448Z"
   },
   {
    "duration": 2122,
    "start_time": "2022-07-04T21:03:09.572Z"
   },
   {
    "duration": 33487,
    "start_time": "2022-07-04T21:03:11.696Z"
   },
   {
    "duration": 15784,
    "start_time": "2022-07-04T21:05:42.761Z"
   },
   {
    "duration": 94,
    "start_time": "2022-07-04T21:06:08.588Z"
   },
   {
    "duration": 5,
    "start_time": "2022-07-04T21:07:06.980Z"
   },
   {
    "duration": 85,
    "start_time": "2022-07-04T21:13:27.680Z"
   },
   {
    "duration": 24,
    "start_time": "2022-07-04T21:14:44.840Z"
   },
   {
    "duration": 240595,
    "start_time": "2022-07-04T21:17:45.415Z"
   },
   {
    "duration": 1747,
    "start_time": "2022-07-05T01:44:59.578Z"
   },
   {
    "duration": 1087,
    "start_time": "2022-07-05T01:45:01.328Z"
   },
   {
    "duration": 238,
    "start_time": "2022-07-05T01:45:02.417Z"
   },
   {
    "duration": 21,
    "start_time": "2022-07-05T01:45:02.657Z"
   },
   {
    "duration": 3,
    "start_time": "2022-07-05T01:45:02.680Z"
   },
   {
    "duration": 53,
    "start_time": "2022-07-05T01:45:02.684Z"
   },
   {
    "duration": 67,
    "start_time": "2022-07-05T01:45:02.739Z"
   },
   {
    "duration": 148,
    "start_time": "2022-07-05T01:45:02.812Z"
   },
   {
    "duration": 17,
    "start_time": "2022-07-05T01:45:02.961Z"
   },
   {
    "duration": 57,
    "start_time": "2022-07-05T01:45:02.980Z"
   },
   {
    "duration": 32,
    "start_time": "2022-07-05T01:45:03.040Z"
   },
   {
    "duration": 16,
    "start_time": "2022-07-05T01:45:03.073Z"
   },
   {
    "duration": 37,
    "start_time": "2022-07-05T01:45:03.090Z"
   },
   {
    "duration": 19,
    "start_time": "2022-07-05T01:45:03.131Z"
   },
   {
    "duration": 154,
    "start_time": "2022-07-05T01:45:03.152Z"
   },
   {
    "duration": 57,
    "start_time": "2022-07-05T01:45:03.316Z"
   },
   {
    "duration": 156,
    "start_time": "2022-07-05T01:45:03.375Z"
   },
   {
    "duration": 116,
    "start_time": "2022-07-05T01:45:03.533Z"
   },
   {
    "duration": 158,
    "start_time": "2022-07-05T01:45:05.594Z"
   },
   {
    "duration": 2892,
    "start_time": "2022-07-05T01:45:08.318Z"
   },
   {
    "duration": 156502,
    "start_time": "2022-07-05T01:46:40.627Z"
   },
   {
    "duration": 3161,
    "start_time": "2022-07-05T01:49:25.071Z"
   },
   {
    "duration": 8,
    "start_time": "2022-07-05T01:51:52.514Z"
   },
   {
    "duration": 6736,
    "start_time": "2022-07-05T01:52:03.540Z"
   },
   {
    "duration": 5477,
    "start_time": "2022-07-05T01:52:37.725Z"
   },
   {
    "duration": 49784,
    "start_time": "2022-07-05T01:53:14.929Z"
   },
   {
    "duration": 6295,
    "start_time": "2022-07-05T01:59:08.786Z"
   },
   {
    "duration": 77287,
    "start_time": "2022-07-05T01:59:58.016Z"
   },
   {
    "duration": 114399,
    "start_time": "2022-07-05T02:01:41.617Z"
   },
   {
    "duration": 284662,
    "start_time": "2022-07-05T02:04:03.053Z"
   },
   {
    "duration": 103872,
    "start_time": "2022-07-05T02:09:22.939Z"
   },
   {
    "duration": 24,
    "start_time": "2022-07-05T02:12:21.321Z"
   },
   {
    "duration": 294431,
    "start_time": "2022-07-05T02:12:34.090Z"
   },
   {
    "duration": 25723,
    "start_time": "2022-07-05T02:20:37.593Z"
   },
   {
    "duration": 17775,
    "start_time": "2022-07-05T02:21:15.540Z"
   },
   {
    "duration": 154822,
    "start_time": "2022-07-05T02:23:40.649Z"
   },
   {
    "duration": 168190,
    "start_time": "2022-07-05T02:27:59.921Z"
   },
   {
    "duration": 1594,
    "start_time": "2022-07-05T14:50:28.796Z"
   },
   {
    "duration": 1094,
    "start_time": "2022-07-05T14:50:30.393Z"
   },
   {
    "duration": 218,
    "start_time": "2022-07-05T14:50:31.489Z"
   },
   {
    "duration": 22,
    "start_time": "2022-07-05T14:50:31.708Z"
   },
   {
    "duration": 11,
    "start_time": "2022-07-05T14:50:31.732Z"
   },
   {
    "duration": 47,
    "start_time": "2022-07-05T14:50:31.744Z"
   },
   {
    "duration": 63,
    "start_time": "2022-07-05T14:50:31.793Z"
   },
   {
    "duration": 141,
    "start_time": "2022-07-05T14:50:31.863Z"
   },
   {
    "duration": 20,
    "start_time": "2022-07-05T14:50:32.006Z"
   },
   {
    "duration": 25,
    "start_time": "2022-07-05T14:50:32.028Z"
   },
   {
    "duration": 21,
    "start_time": "2022-07-05T14:50:32.065Z"
   },
   {
    "duration": 19,
    "start_time": "2022-07-05T14:50:32.088Z"
   },
   {
    "duration": 33,
    "start_time": "2022-07-05T14:50:32.109Z"
   },
   {
    "duration": 143,
    "start_time": "2022-07-05T14:50:32.165Z"
   },
   {
    "duration": 98,
    "start_time": "2022-07-05T14:50:32.310Z"
   },
   {
    "duration": 157,
    "start_time": "2022-07-05T14:50:32.409Z"
   },
   {
    "duration": 2921,
    "start_time": "2022-07-05T14:50:32.568Z"
   },
   {
    "duration": 37794,
    "start_time": "2022-07-05T14:50:35.491Z"
   },
   {
    "duration": 18062,
    "start_time": "2022-07-05T14:51:13.286Z"
   },
   {
    "duration": 2499,
    "start_time": "2022-07-05T14:51:31.350Z"
   },
   {
    "duration": 92,
    "start_time": "2022-07-05T14:51:57.272Z"
   },
   {
    "duration": 632,
    "start_time": "2022-07-05T14:51:57.366Z"
   },
   {
    "duration": 214,
    "start_time": "2022-07-05T14:51:58.000Z"
   },
   {
    "duration": 19,
    "start_time": "2022-07-05T14:51:58.216Z"
   },
   {
    "duration": 7,
    "start_time": "2022-07-05T14:51:58.237Z"
   },
   {
    "duration": 36,
    "start_time": "2022-07-05T14:51:58.246Z"
   },
   {
    "duration": 56,
    "start_time": "2022-07-05T14:51:58.283Z"
   },
   {
    "duration": 133,
    "start_time": "2022-07-05T14:51:58.341Z"
   },
   {
    "duration": 17,
    "start_time": "2022-07-05T14:51:58.476Z"
   },
   {
    "duration": 16,
    "start_time": "2022-07-05T14:51:58.494Z"
   },
   {
    "duration": 20,
    "start_time": "2022-07-05T14:51:58.511Z"
   },
   {
    "duration": 39,
    "start_time": "2022-07-05T14:51:58.532Z"
   },
   {
    "duration": 32,
    "start_time": "2022-07-05T14:51:58.572Z"
   },
   {
    "duration": 130,
    "start_time": "2022-07-05T14:51:58.605Z"
   },
   {
    "duration": 91,
    "start_time": "2022-07-05T14:51:58.737Z"
   },
   {
    "duration": 149,
    "start_time": "2022-07-05T14:51:58.830Z"
   },
   {
    "duration": 2696,
    "start_time": "2022-07-05T14:51:58.981Z"
   },
   {
    "duration": 38343,
    "start_time": "2022-07-05T14:52:01.863Z"
   },
   {
    "duration": 18294,
    "start_time": "2022-07-05T14:52:40.207Z"
   },
   {
    "duration": 1119,
    "start_time": "2022-07-05T14:52:58.503Z"
   },
   {
    "duration": 19545,
    "start_time": "2022-07-05T14:52:59.624Z"
   },
   {
    "duration": 3,
    "start_time": "2022-07-05T14:53:19.173Z"
   },
   {
    "duration": 613,
    "start_time": "2022-07-05T14:53:19.178Z"
   },
   {
    "duration": 218,
    "start_time": "2022-07-05T14:53:19.793Z"
   },
   {
    "duration": 21,
    "start_time": "2022-07-05T14:53:20.013Z"
   },
   {
    "duration": 13,
    "start_time": "2022-07-05T14:53:20.036Z"
   },
   {
    "duration": 50,
    "start_time": "2022-07-05T14:53:20.050Z"
   },
   {
    "duration": 82,
    "start_time": "2022-07-05T14:53:20.101Z"
   },
   {
    "duration": 130,
    "start_time": "2022-07-05T14:53:20.186Z"
   },
   {
    "duration": 18,
    "start_time": "2022-07-05T14:53:20.317Z"
   },
   {
    "duration": 28,
    "start_time": "2022-07-05T14:53:20.337Z"
   },
   {
    "duration": 23,
    "start_time": "2022-07-05T14:53:20.367Z"
   },
   {
    "duration": 33,
    "start_time": "2022-07-05T14:53:20.392Z"
   },
   {
    "duration": 44,
    "start_time": "2022-07-05T14:53:20.427Z"
   },
   {
    "duration": 138,
    "start_time": "2022-07-05T14:53:20.472Z"
   },
   {
    "duration": 112,
    "start_time": "2022-07-05T14:53:20.613Z"
   },
   {
    "duration": 144,
    "start_time": "2022-07-05T14:53:20.730Z"
   },
   {
    "duration": 168893,
    "start_time": "2022-07-05T14:53:36.767Z"
   },
   {
    "duration": 267418,
    "start_time": "2022-07-05T15:03:53.051Z"
   },
   {
    "duration": 347905,
    "start_time": "2022-07-05T15:32:49.844Z"
   },
   {
    "duration": 4,
    "start_time": "2022-07-05T16:41:28.341Z"
   },
   {
    "duration": 603,
    "start_time": "2022-07-05T16:41:28.347Z"
   },
   {
    "duration": 214,
    "start_time": "2022-07-05T16:41:28.952Z"
   },
   {
    "duration": 20,
    "start_time": "2022-07-05T16:41:29.168Z"
   },
   {
    "duration": 3,
    "start_time": "2022-07-05T16:41:29.189Z"
   },
   {
    "duration": 27,
    "start_time": "2022-07-05T16:41:29.194Z"
   },
   {
    "duration": 86,
    "start_time": "2022-07-05T16:41:29.223Z"
   },
   {
    "duration": 130,
    "start_time": "2022-07-05T16:41:29.310Z"
   },
   {
    "duration": 30,
    "start_time": "2022-07-05T16:41:29.442Z"
   },
   {
    "duration": 18,
    "start_time": "2022-07-05T16:41:29.474Z"
   },
   {
    "duration": 20,
    "start_time": "2022-07-05T16:41:29.493Z"
   },
   {
    "duration": 17,
    "start_time": "2022-07-05T16:41:29.515Z"
   },
   {
    "duration": 60,
    "start_time": "2022-07-05T16:41:29.534Z"
   },
   {
    "duration": 134,
    "start_time": "2022-07-05T16:41:29.595Z"
   },
   {
    "duration": 101,
    "start_time": "2022-07-05T16:41:29.731Z"
   },
   {
    "duration": 167,
    "start_time": "2022-07-05T16:41:29.834Z"
   },
   {
    "duration": 22011,
    "start_time": "2022-07-05T16:41:53.014Z"
   },
   {
    "duration": 13871,
    "start_time": "2022-07-05T16:44:03.037Z"
   },
   {
    "duration": 18424,
    "start_time": "2022-07-05T16:45:12.502Z"
   },
   {
    "duration": 147438,
    "start_time": "2022-07-05T16:45:55.772Z"
   },
   {
    "duration": 17651,
    "start_time": "2022-07-05T16:49:16.044Z"
   },
   {
    "duration": 262493,
    "start_time": "2022-07-05T16:50:23.856Z"
   },
   {
    "duration": 6,
    "start_time": "2022-07-05T17:37:37.393Z"
   },
   {
    "duration": 1185,
    "start_time": "2022-07-05T17:37:37.402Z"
   },
   {
    "duration": 314,
    "start_time": "2022-07-05T17:37:38.590Z"
   },
   {
    "duration": 30,
    "start_time": "2022-07-05T17:37:38.906Z"
   },
   {
    "duration": 4,
    "start_time": "2022-07-05T17:37:38.939Z"
   },
   {
    "duration": 57,
    "start_time": "2022-07-05T17:37:38.945Z"
   },
   {
    "duration": 89,
    "start_time": "2022-07-05T17:37:39.005Z"
   },
   {
    "duration": 135,
    "start_time": "2022-07-05T17:37:39.096Z"
   },
   {
    "duration": 32,
    "start_time": "2022-07-05T17:37:39.233Z"
   },
   {
    "duration": 28,
    "start_time": "2022-07-05T17:37:39.270Z"
   },
   {
    "duration": 20,
    "start_time": "2022-07-05T17:37:39.300Z"
   },
   {
    "duration": 26,
    "start_time": "2022-07-05T17:37:39.322Z"
   },
   {
    "duration": 49,
    "start_time": "2022-07-05T17:37:39.367Z"
   },
   {
    "duration": 183,
    "start_time": "2022-07-05T17:37:39.418Z"
   },
   {
    "duration": 99,
    "start_time": "2022-07-05T17:37:39.603Z"
   },
   {
    "duration": 179,
    "start_time": "2022-07-05T17:37:39.704Z"
   },
   {
    "duration": 9,
    "start_time": "2022-07-05T17:38:21.432Z"
   },
   {
    "duration": 4,
    "start_time": "2022-07-05T17:38:45.309Z"
   },
   {
    "duration": 4,
    "start_time": "2022-07-05T17:39:16.181Z"
   },
   {
    "duration": 450434,
    "start_time": "2022-07-05T17:39:57.343Z"
   },
   {
    "duration": 1640,
    "start_time": "2022-07-05T17:58:23.841Z"
   },
   {
    "duration": 762,
    "start_time": "2022-07-05T17:58:25.483Z"
   },
   {
    "duration": 258,
    "start_time": "2022-07-05T17:58:26.246Z"
   },
   {
    "duration": 21,
    "start_time": "2022-07-05T17:58:26.505Z"
   },
   {
    "duration": 5,
    "start_time": "2022-07-05T17:58:26.528Z"
   },
   {
    "duration": 50,
    "start_time": "2022-07-05T17:58:26.535Z"
   },
   {
    "duration": 66,
    "start_time": "2022-07-05T17:58:26.586Z"
   },
   {
    "duration": 177,
    "start_time": "2022-07-05T17:58:26.654Z"
   },
   {
    "duration": 20,
    "start_time": "2022-07-05T17:58:26.832Z"
   },
   {
    "duration": 32,
    "start_time": "2022-07-05T17:58:26.865Z"
   },
   {
    "duration": 31,
    "start_time": "2022-07-05T17:58:26.899Z"
   },
   {
    "duration": 18,
    "start_time": "2022-07-05T17:58:26.932Z"
   },
   {
    "duration": 61,
    "start_time": "2022-07-05T17:58:26.951Z"
   },
   {
    "duration": 162,
    "start_time": "2022-07-05T17:58:27.015Z"
   },
   {
    "duration": 120,
    "start_time": "2022-07-05T17:58:27.180Z"
   },
   {
    "duration": 204,
    "start_time": "2022-07-05T17:58:27.303Z"
   },
   {
    "duration": 3862,
    "start_time": "2022-07-05T17:58:29.719Z"
   },
   {
    "duration": 369781,
    "start_time": "2022-07-05T17:58:42.659Z"
   },
   {
    "duration": 645248,
    "start_time": "2022-07-05T18:05:00.746Z"
   },
   {
    "duration": 12361,
    "start_time": "2022-07-05T18:17:27.991Z"
   },
   {
    "duration": 1801365,
    "start_time": "2022-07-05T18:17:43.511Z"
   },
   {
    "duration": 6,
    "start_time": "2022-07-05T18:47:59.148Z"
   },
   {
    "duration": 7,
    "start_time": "2022-07-05T18:48:21.212Z"
   },
   {
    "duration": 5,
    "start_time": "2022-07-05T18:48:31.205Z"
   },
   {
    "duration": 4,
    "start_time": "2022-07-05T18:49:10.994Z"
   },
   {
    "duration": 14,
    "start_time": "2022-07-05T18:49:24.916Z"
   },
   {
    "duration": 5,
    "start_time": "2022-07-05T18:49:32.388Z"
   },
   {
    "duration": 31,
    "start_time": "2022-07-05T18:49:40.622Z"
   },
   {
    "duration": 139345,
    "start_time": "2022-07-05T18:50:42.068Z"
   },
   {
    "duration": 1641,
    "start_time": "2022-07-05T18:54:56.216Z"
   },
   {
    "duration": 854,
    "start_time": "2022-07-05T18:54:57.860Z"
   },
   {
    "duration": 302,
    "start_time": "2022-07-05T18:54:58.716Z"
   },
   {
    "duration": 33,
    "start_time": "2022-07-05T18:54:59.020Z"
   },
   {
    "duration": 46,
    "start_time": "2022-07-05T18:54:59.064Z"
   },
   {
    "duration": 60,
    "start_time": "2022-07-05T18:54:59.113Z"
   },
   {
    "duration": 106,
    "start_time": "2022-07-05T18:54:59.183Z"
   },
   {
    "duration": 171,
    "start_time": "2022-07-05T18:54:59.290Z"
   },
   {
    "duration": 46,
    "start_time": "2022-07-05T18:54:59.463Z"
   },
   {
    "duration": 30,
    "start_time": "2022-07-05T18:54:59.511Z"
   },
   {
    "duration": 48,
    "start_time": "2022-07-05T18:54:59.543Z"
   },
   {
    "duration": 37,
    "start_time": "2022-07-05T18:54:59.593Z"
   },
   {
    "duration": 35,
    "start_time": "2022-07-05T18:54:59.632Z"
   },
   {
    "duration": 174,
    "start_time": "2022-07-05T18:54:59.670Z"
   },
   {
    "duration": 138,
    "start_time": "2022-07-05T18:54:59.847Z"
   },
   {
    "duration": 213,
    "start_time": "2022-07-05T18:54:59.987Z"
   },
   {
    "duration": 137831,
    "start_time": "2022-07-05T18:55:11.093Z"
   },
   {
    "duration": 1688,
    "start_time": "2022-07-05T18:58:29.422Z"
   },
   {
    "duration": 793,
    "start_time": "2022-07-05T18:58:31.112Z"
   },
   {
    "duration": 301,
    "start_time": "2022-07-05T18:58:31.907Z"
   },
   {
    "duration": 24,
    "start_time": "2022-07-05T18:58:32.210Z"
   },
   {
    "duration": 17,
    "start_time": "2022-07-05T18:58:32.237Z"
   },
   {
    "duration": 49,
    "start_time": "2022-07-05T18:58:32.256Z"
   },
   {
    "duration": 80,
    "start_time": "2022-07-05T18:58:32.307Z"
   },
   {
    "duration": 161,
    "start_time": "2022-07-05T18:58:32.389Z"
   },
   {
    "duration": 32,
    "start_time": "2022-07-05T18:58:32.553Z"
   },
   {
    "duration": 45,
    "start_time": "2022-07-05T18:58:32.594Z"
   },
   {
    "duration": 40,
    "start_time": "2022-07-05T18:58:32.641Z"
   },
   {
    "duration": 65,
    "start_time": "2022-07-05T18:58:32.682Z"
   },
   {
    "duration": 85,
    "start_time": "2022-07-05T18:58:32.749Z"
   },
   {
    "duration": 175,
    "start_time": "2022-07-05T18:58:32.838Z"
   },
   {
    "duration": 104,
    "start_time": "2022-07-05T18:58:33.015Z"
   },
   {
    "duration": 179,
    "start_time": "2022-07-05T18:58:33.121Z"
   },
   {
    "duration": 135256,
    "start_time": "2022-07-05T18:58:43.911Z"
   },
   {
    "duration": 19,
    "start_time": "2022-07-05T19:03:06.792Z"
   },
   {
    "duration": 13759,
    "start_time": "2022-07-05T19:04:30.303Z"
   },
   {
    "duration": 1119511,
    "start_time": "2022-07-05T19:04:51.590Z"
   },
   {
    "duration": 2010223,
    "start_time": "2022-07-05T19:27:29.814Z"
   },
   {
    "duration": 4,
    "start_time": "2022-07-05T20:02:51.516Z"
   },
   {
    "duration": 1544,
    "start_time": "2022-07-05T20:07:17.009Z"
   },
   {
    "duration": 752,
    "start_time": "2022-07-05T20:07:18.555Z"
   },
   {
    "duration": 239,
    "start_time": "2022-07-05T20:07:19.309Z"
   },
   {
    "duration": 36,
    "start_time": "2022-07-05T20:07:19.550Z"
   },
   {
    "duration": 5,
    "start_time": "2022-07-05T20:07:19.595Z"
   },
   {
    "duration": 36,
    "start_time": "2022-07-05T20:07:19.601Z"
   },
   {
    "duration": 85,
    "start_time": "2022-07-05T20:07:19.639Z"
   },
   {
    "duration": 162,
    "start_time": "2022-07-05T20:07:19.725Z"
   },
   {
    "duration": 19,
    "start_time": "2022-07-05T20:07:19.891Z"
   },
   {
    "duration": 16,
    "start_time": "2022-07-05T20:07:19.912Z"
   },
   {
    "duration": 18,
    "start_time": "2022-07-05T20:07:19.929Z"
   },
   {
    "duration": 53,
    "start_time": "2022-07-05T20:07:19.949Z"
   },
   {
    "duration": 30,
    "start_time": "2022-07-05T20:07:20.004Z"
   },
   {
    "duration": 155,
    "start_time": "2022-07-05T20:07:20.037Z"
   },
   {
    "duration": 107,
    "start_time": "2022-07-05T20:07:20.194Z"
   },
   {
    "duration": 191,
    "start_time": "2022-07-05T20:07:20.303Z"
   },
   {
    "duration": 4075,
    "start_time": "2022-07-05T20:07:20.496Z"
   },
   {
    "duration": 14373,
    "start_time": "2022-07-05T20:07:24.574Z"
   },
   {
    "duration": 591777,
    "start_time": "2022-07-05T20:07:38.949Z"
   },
   {
    "duration": 855044,
    "start_time": "2022-07-05T20:17:30.728Z"
   },
   {
    "duration": 3,
    "start_time": "2022-07-05T20:31:45.775Z"
   },
   {
    "duration": 108203,
    "start_time": "2022-07-05T20:31:45.781Z"
   },
   {
    "duration": 1722,
    "start_time": "2022-07-06T02:19:59.182Z"
   },
   {
    "duration": 2441,
    "start_time": "2022-07-06T02:20:00.907Z"
   },
   {
    "duration": 220,
    "start_time": "2022-07-06T02:20:03.349Z"
   },
   {
    "duration": 29,
    "start_time": "2022-07-06T02:20:03.570Z"
   },
   {
    "duration": 3,
    "start_time": "2022-07-06T02:20:03.602Z"
   },
   {
    "duration": 32,
    "start_time": "2022-07-06T02:20:03.607Z"
   },
   {
    "duration": 74,
    "start_time": "2022-07-06T02:20:03.642Z"
   },
   {
    "duration": 123,
    "start_time": "2022-07-06T02:20:03.718Z"
   },
   {
    "duration": 20,
    "start_time": "2022-07-06T02:20:03.843Z"
   },
   {
    "duration": 34,
    "start_time": "2022-07-06T02:20:03.865Z"
   },
   {
    "duration": 21,
    "start_time": "2022-07-06T02:20:03.901Z"
   },
   {
    "duration": 19,
    "start_time": "2022-07-06T02:20:03.923Z"
   },
   {
    "duration": 30,
    "start_time": "2022-07-06T02:20:03.944Z"
   },
   {
    "duration": 158,
    "start_time": "2022-07-06T02:20:04.000Z"
   },
   {
    "duration": 100,
    "start_time": "2022-07-06T02:20:04.160Z"
   },
   {
    "duration": 147,
    "start_time": "2022-07-06T02:20:04.262Z"
   },
   {
    "duration": 2506,
    "start_time": "2022-07-06T02:20:04.411Z"
   },
   {
    "duration": 14808,
    "start_time": "2022-07-06T02:20:06.999Z"
   },
   {
    "duration": 588696,
    "start_time": "2022-07-06T02:20:21.809Z"
   },
   {
    "duration": 13196,
    "start_time": "2022-07-06T02:30:10.507Z"
   },
   {
    "duration": 12405,
    "start_time": "2022-07-06T02:30:23.705Z"
   },
   {
    "duration": 1548,
    "start_time": "2022-07-07T14:00:49.203Z"
   },
   {
    "duration": 2550,
    "start_time": "2022-07-07T14:00:50.754Z"
   },
   {
    "duration": 242,
    "start_time": "2022-07-07T14:00:53.306Z"
   },
   {
    "duration": 21,
    "start_time": "2022-07-07T14:00:53.549Z"
   },
   {
    "duration": 3,
    "start_time": "2022-07-07T14:00:53.572Z"
   },
   {
    "duration": 38,
    "start_time": "2022-07-07T14:00:53.576Z"
   },
   {
    "duration": 93,
    "start_time": "2022-07-07T14:00:53.616Z"
   },
   {
    "duration": 142,
    "start_time": "2022-07-07T14:00:53.710Z"
   },
   {
    "duration": 25,
    "start_time": "2022-07-07T14:01:45.099Z"
   },
   {
    "duration": 21,
    "start_time": "2022-07-07T14:02:41.124Z"
   },
   {
    "duration": 25,
    "start_time": "2022-07-07T14:08:39.697Z"
   },
   {
    "duration": 23,
    "start_time": "2022-07-07T14:08:57.912Z"
   },
   {
    "duration": 23,
    "start_time": "2022-07-07T14:09:15.354Z"
   },
   {
    "duration": 51,
    "start_time": "2022-07-07T14:09:44.364Z"
   },
   {
    "duration": 1423,
    "start_time": "2022-07-07T14:10:10.694Z"
   },
   {
    "duration": 624,
    "start_time": "2022-07-07T14:10:12.119Z"
   },
   {
    "duration": 208,
    "start_time": "2022-07-07T14:10:12.744Z"
   },
   {
    "duration": 22,
    "start_time": "2022-07-07T14:10:12.954Z"
   },
   {
    "duration": 3,
    "start_time": "2022-07-07T14:10:12.977Z"
   },
   {
    "duration": 37,
    "start_time": "2022-07-07T14:10:12.982Z"
   },
   {
    "duration": 92,
    "start_time": "2022-07-07T14:10:13.021Z"
   },
   {
    "duration": 38,
    "start_time": "2022-07-07T14:10:13.115Z"
   },
   {
    "duration": 41,
    "start_time": "2022-07-07T14:10:13.155Z"
   },
   {
    "duration": 1315,
    "start_time": "2022-07-07T14:11:26.402Z"
   },
   {
    "duration": 630,
    "start_time": "2022-07-07T14:11:27.719Z"
   },
   {
    "duration": 196,
    "start_time": "2022-07-07T14:11:28.351Z"
   },
   {
    "duration": 22,
    "start_time": "2022-07-07T14:11:28.551Z"
   },
   {
    "duration": 3,
    "start_time": "2022-07-07T14:11:28.574Z"
   },
   {
    "duration": 59,
    "start_time": "2022-07-07T14:11:28.579Z"
   },
   {
    "duration": 74,
    "start_time": "2022-07-07T14:11:28.640Z"
   },
   {
    "duration": 37,
    "start_time": "2022-07-07T14:11:28.716Z"
   },
   {
    "duration": 40,
    "start_time": "2022-07-07T14:11:28.755Z"
   },
   {
    "duration": 90,
    "start_time": "2022-07-07T14:11:28.797Z"
   },
   {
    "duration": 18,
    "start_time": "2022-07-07T14:11:58.930Z"
   },
   {
    "duration": 71,
    "start_time": "2022-07-07T14:12:02.865Z"
   },
   {
    "duration": 32,
    "start_time": "2022-07-07T14:12:17.316Z"
   },
   {
    "duration": 6,
    "start_time": "2022-07-07T14:12:53.944Z"
   },
   {
    "duration": 150,
    "start_time": "2022-07-07T14:13:10.702Z"
   },
   {
    "duration": 26,
    "start_time": "2022-07-07T14:14:39.840Z"
   },
   {
    "duration": 1540,
    "start_time": "2022-07-07T14:14:54.440Z"
   },
   {
    "duration": 753,
    "start_time": "2022-07-07T14:14:55.982Z"
   },
   {
    "duration": 216,
    "start_time": "2022-07-07T14:14:56.737Z"
   },
   {
    "duration": 33,
    "start_time": "2022-07-07T14:14:56.955Z"
   },
   {
    "duration": 4,
    "start_time": "2022-07-07T14:14:56.990Z"
   },
   {
    "duration": 33,
    "start_time": "2022-07-07T14:14:56.996Z"
   },
   {
    "duration": 69,
    "start_time": "2022-07-07T14:14:57.052Z"
   },
   {
    "duration": 59,
    "start_time": "2022-07-07T14:14:57.122Z"
   },
   {
    "duration": 17,
    "start_time": "2022-07-07T14:14:57.183Z"
   },
   {
    "duration": 165,
    "start_time": "2022-07-07T14:14:57.201Z"
   },
   {
    "duration": 24,
    "start_time": "2022-07-07T14:15:27.355Z"
   },
   {
    "duration": 20,
    "start_time": "2022-07-07T15:50:29.611Z"
   },
   {
    "duration": 1530,
    "start_time": "2022-07-07T15:58:47.168Z"
   },
   {
    "duration": 632,
    "start_time": "2022-07-07T15:58:48.701Z"
   },
   {
    "duration": 208,
    "start_time": "2022-07-07T15:58:49.335Z"
   },
   {
    "duration": 33,
    "start_time": "2022-07-07T15:58:49.545Z"
   },
   {
    "duration": 3,
    "start_time": "2022-07-07T15:58:49.580Z"
   },
   {
    "duration": 40,
    "start_time": "2022-07-07T15:58:49.585Z"
   },
   {
    "duration": 93,
    "start_time": "2022-07-07T15:58:49.626Z"
   },
   {
    "duration": 51,
    "start_time": "2022-07-07T15:58:49.722Z"
   },
   {
    "duration": 19,
    "start_time": "2022-07-07T15:58:49.775Z"
   },
   {
    "duration": 174,
    "start_time": "2022-07-07T15:58:49.796Z"
   },
   {
    "duration": 18,
    "start_time": "2022-07-07T15:58:49.971Z"
   },
   {
    "duration": 20,
    "start_time": "2022-07-07T15:58:49.991Z"
   },
   {
    "duration": 20,
    "start_time": "2022-07-07T15:58:50.012Z"
   },
   {
    "duration": 20,
    "start_time": "2022-07-07T15:58:50.056Z"
   },
   {
    "duration": 30,
    "start_time": "2022-07-07T15:58:50.077Z"
   },
   {
    "duration": 20,
    "start_time": "2022-07-07T15:58:50.109Z"
   },
   {
    "duration": 175,
    "start_time": "2022-07-07T15:58:58.948Z"
   },
   {
    "duration": 145,
    "start_time": "2022-07-07T15:59:43.615Z"
   },
   {
    "duration": 157,
    "start_time": "2022-07-07T16:00:06.167Z"
   },
   {
    "duration": 231,
    "start_time": "2022-07-07T16:00:23.050Z"
   },
   {
    "duration": 156,
    "start_time": "2022-07-07T16:00:47.607Z"
   },
   {
    "duration": 305,
    "start_time": "2022-07-07T16:00:50.274Z"
   },
   {
    "duration": 212,
    "start_time": "2022-07-07T16:00:57.019Z"
   },
   {
    "duration": 149,
    "start_time": "2022-07-07T16:01:12.747Z"
   },
   {
    "duration": 25,
    "start_time": "2022-07-07T16:03:43.943Z"
   },
   {
    "duration": 5,
    "start_time": "2022-07-07T16:16:55.701Z"
   },
   {
    "duration": 1841,
    "start_time": "2022-07-07T18:03:35.677Z"
   },
   {
    "duration": 1163,
    "start_time": "2022-07-07T18:03:37.520Z"
   },
   {
    "duration": 310,
    "start_time": "2022-07-07T18:03:38.685Z"
   },
   {
    "duration": 27,
    "start_time": "2022-07-07T18:03:38.999Z"
   },
   {
    "duration": 12,
    "start_time": "2022-07-07T18:03:39.029Z"
   },
   {
    "duration": 57,
    "start_time": "2022-07-07T18:03:39.043Z"
   },
   {
    "duration": 99,
    "start_time": "2022-07-07T18:03:39.102Z"
   },
   {
    "duration": 41,
    "start_time": "2022-07-07T18:03:39.203Z"
   },
   {
    "duration": 32,
    "start_time": "2022-07-07T18:03:39.262Z"
   },
   {
    "duration": 223,
    "start_time": "2022-07-07T18:03:39.297Z"
   },
   {
    "duration": 16,
    "start_time": "2022-07-07T18:03:39.522Z"
   },
   {
    "duration": 41,
    "start_time": "2022-07-07T18:03:39.540Z"
   },
   {
    "duration": 24,
    "start_time": "2022-07-07T18:03:39.583Z"
   },
   {
    "duration": 19,
    "start_time": "2022-07-07T18:03:39.610Z"
   },
   {
    "duration": 42,
    "start_time": "2022-07-07T18:03:39.631Z"
   },
   {
    "duration": 22,
    "start_time": "2022-07-07T18:03:39.677Z"
   },
   {
    "duration": 180,
    "start_time": "2022-07-07T18:03:39.700Z"
   },
   {
    "duration": 389,
    "start_time": "2022-07-07T18:03:47.344Z"
   },
   {
    "duration": 4,
    "start_time": "2022-07-07T18:04:55.201Z"
   },
   {
    "duration": 25,
    "start_time": "2022-07-07T18:05:04.830Z"
   },
   {
    "duration": 66,
    "start_time": "2022-07-07T18:40:28.420Z"
   },
   {
    "duration": 37,
    "start_time": "2022-07-07T18:40:55.442Z"
   },
   {
    "duration": 28,
    "start_time": "2022-07-07T18:41:29.714Z"
   },
   {
    "duration": 34,
    "start_time": "2022-07-07T18:41:36.931Z"
   },
   {
    "duration": 32,
    "start_time": "2022-07-07T18:41:57.825Z"
   },
   {
    "duration": 33,
    "start_time": "2022-07-07T18:43:53.236Z"
   },
   {
    "duration": 26,
    "start_time": "2022-07-07T18:45:19.687Z"
   },
   {
    "duration": 30,
    "start_time": "2022-07-07T18:45:51.854Z"
   },
   {
    "duration": 22,
    "start_time": "2022-07-07T18:48:31.728Z"
   },
   {
    "duration": 16,
    "start_time": "2022-07-07T18:49:00.845Z"
   },
   {
    "duration": 4,
    "start_time": "2022-07-07T18:50:00.285Z"
   },
   {
    "duration": 5,
    "start_time": "2022-07-07T18:50:06.006Z"
   },
   {
    "duration": 15,
    "start_time": "2022-07-07T18:50:39.893Z"
   },
   {
    "duration": 4,
    "start_time": "2022-07-07T18:50:58.907Z"
   },
   {
    "duration": 4,
    "start_time": "2022-07-07T18:51:51.623Z"
   },
   {
    "duration": 1533,
    "start_time": "2022-07-07T18:54:46.541Z"
   },
   {
    "duration": 728,
    "start_time": "2022-07-07T18:54:48.076Z"
   },
   {
    "duration": 219,
    "start_time": "2022-07-07T18:54:48.806Z"
   },
   {
    "duration": 21,
    "start_time": "2022-07-07T18:54:49.027Z"
   },
   {
    "duration": 4,
    "start_time": "2022-07-07T18:54:49.061Z"
   },
   {
    "duration": 48,
    "start_time": "2022-07-07T18:54:49.069Z"
   },
   {
    "duration": 90,
    "start_time": "2022-07-07T18:54:49.118Z"
   },
   {
    "duration": 32,
    "start_time": "2022-07-07T18:54:49.210Z"
   },
   {
    "duration": 42,
    "start_time": "2022-07-07T18:54:49.243Z"
   },
   {
    "duration": 192,
    "start_time": "2022-07-07T18:54:49.287Z"
   },
   {
    "duration": 20,
    "start_time": "2022-07-07T18:54:49.481Z"
   },
   {
    "duration": 17,
    "start_time": "2022-07-07T18:54:49.503Z"
   },
   {
    "duration": 43,
    "start_time": "2022-07-07T18:54:49.522Z"
   },
   {
    "duration": 23,
    "start_time": "2022-07-07T18:54:49.567Z"
   },
   {
    "duration": 30,
    "start_time": "2022-07-07T18:54:49.592Z"
   },
   {
    "duration": 43,
    "start_time": "2022-07-07T18:54:49.624Z"
   },
   {
    "duration": 166,
    "start_time": "2022-07-07T18:54:49.668Z"
   },
   {
    "duration": 22,
    "start_time": "2022-07-07T18:54:59.719Z"
   },
   {
    "duration": 5,
    "start_time": "2022-07-07T18:55:02.877Z"
   },
   {
    "duration": 37,
    "start_time": "2022-07-07T18:55:26.782Z"
   },
   {
    "duration": 34,
    "start_time": "2022-07-07T18:55:31.440Z"
   },
   {
    "duration": 32,
    "start_time": "2022-07-07T18:55:40.458Z"
   },
   {
    "duration": 5,
    "start_time": "2022-07-07T18:55:47.582Z"
   },
   {
    "duration": 22,
    "start_time": "2022-07-07T18:55:55.178Z"
   },
   {
    "duration": 4,
    "start_time": "2022-07-07T18:55:57.551Z"
   },
   {
    "duration": 6,
    "start_time": "2022-07-07T18:56:11.947Z"
   },
   {
    "duration": 26,
    "start_time": "2022-07-07T18:56:16.777Z"
   },
   {
    "duration": 4,
    "start_time": "2022-07-07T18:56:46.519Z"
   },
   {
    "duration": 686,
    "start_time": "2022-07-07T18:56:46.525Z"
   },
   {
    "duration": 217,
    "start_time": "2022-07-07T18:56:47.213Z"
   },
   {
    "duration": 32,
    "start_time": "2022-07-07T18:56:47.432Z"
   },
   {
    "duration": 5,
    "start_time": "2022-07-07T18:56:47.466Z"
   },
   {
    "duration": 34,
    "start_time": "2022-07-07T18:56:47.474Z"
   },
   {
    "duration": 128,
    "start_time": "2022-07-07T18:56:47.511Z"
   },
   {
    "duration": 42,
    "start_time": "2022-07-07T18:56:47.641Z"
   },
   {
    "duration": 32,
    "start_time": "2022-07-07T18:56:47.685Z"
   },
   {
    "duration": 178,
    "start_time": "2022-07-07T18:56:47.720Z"
   },
   {
    "duration": 17,
    "start_time": "2022-07-07T18:56:47.900Z"
   },
   {
    "duration": 29,
    "start_time": "2022-07-07T18:56:47.919Z"
   },
   {
    "duration": 37,
    "start_time": "2022-07-07T18:56:47.950Z"
   },
   {
    "duration": 35,
    "start_time": "2022-07-07T18:56:47.990Z"
   },
   {
    "duration": 52,
    "start_time": "2022-07-07T18:56:48.027Z"
   },
   {
    "duration": 23,
    "start_time": "2022-07-07T18:56:48.081Z"
   },
   {
    "duration": 155,
    "start_time": "2022-07-07T18:56:48.106Z"
   },
   {
    "duration": 4,
    "start_time": "2022-07-07T18:57:00.215Z"
   },
   {
    "duration": 862,
    "start_time": "2022-07-07T18:57:04.862Z"
   },
   {
    "duration": 68,
    "start_time": "2022-07-07T18:57:25.776Z"
   },
   {
    "duration": 22,
    "start_time": "2022-07-07T18:57:51.376Z"
   },
   {
    "duration": 19,
    "start_time": "2022-07-07T18:58:00.020Z"
   },
   {
    "duration": 43,
    "start_time": "2022-07-07T18:58:13.509Z"
   },
   {
    "duration": 15,
    "start_time": "2022-07-07T18:58:18.580Z"
   },
   {
    "duration": 83,
    "start_time": "2022-07-07T18:58:23.948Z"
   },
   {
    "duration": 5,
    "start_time": "2022-07-07T18:58:46.009Z"
   },
   {
    "duration": 30,
    "start_time": "2022-07-07T19:00:58.195Z"
   },
   {
    "duration": 22,
    "start_time": "2022-07-07T19:01:29.337Z"
   },
   {
    "duration": 15,
    "start_time": "2022-07-07T19:01:39.887Z"
   },
   {
    "duration": 27,
    "start_time": "2022-07-07T19:01:48.653Z"
   },
   {
    "duration": 19,
    "start_time": "2022-07-07T19:01:49.938Z"
   },
   {
    "duration": 31,
    "start_time": "2022-07-07T19:04:44.549Z"
   },
   {
    "duration": 22,
    "start_time": "2022-07-07T19:04:47.537Z"
   },
   {
    "duration": 1905,
    "start_time": "2022-07-07T19:14:51.793Z"
   },
   {
    "duration": 2624,
    "start_time": "2022-07-07T19:15:00.448Z"
   },
   {
    "duration": 142,
    "start_time": "2022-07-07T19:16:43.443Z"
   },
   {
    "duration": 69,
    "start_time": "2022-07-07T19:34:36.554Z"
   },
   {
    "duration": 1279,
    "start_time": "2022-07-07T19:35:05.511Z"
   },
   {
    "duration": 89,
    "start_time": "2022-07-07T19:35:18.977Z"
   },
   {
    "duration": 59,
    "start_time": "2022-07-07T19:35:23.111Z"
   },
   {
    "duration": 7,
    "start_time": "2022-07-07T19:35:46.898Z"
   },
   {
    "duration": 44,
    "start_time": "2022-07-07T19:35:52.944Z"
   },
   {
    "duration": 5,
    "start_time": "2022-07-07T19:36:20.237Z"
   },
   {
    "duration": 6,
    "start_time": "2022-07-07T19:42:21.537Z"
   },
   {
    "duration": 49,
    "start_time": "2022-07-07T19:42:27.071Z"
   },
   {
    "duration": 43,
    "start_time": "2022-07-07T19:44:48.118Z"
   },
   {
    "duration": 88104,
    "start_time": "2022-07-07T19:45:17.773Z"
   },
   {
    "duration": 1117752,
    "start_time": "2022-07-07T19:46:48.046Z"
   },
   {
    "duration": 1799,
    "start_time": "2022-07-07T20:23:24.516Z"
   },
   {
    "duration": 1702,
    "start_time": "2022-07-07T20:23:26.317Z"
   },
   {
    "duration": 385,
    "start_time": "2022-07-07T20:23:28.022Z"
   },
   {
    "duration": 29,
    "start_time": "2022-07-07T20:23:28.413Z"
   },
   {
    "duration": 12,
    "start_time": "2022-07-07T20:23:28.444Z"
   },
   {
    "duration": 91,
    "start_time": "2022-07-07T20:23:28.458Z"
   },
   {
    "duration": 135,
    "start_time": "2022-07-07T20:23:28.551Z"
   },
   {
    "duration": 84,
    "start_time": "2022-07-07T20:23:28.691Z"
   },
   {
    "duration": 57,
    "start_time": "2022-07-07T20:23:28.777Z"
   },
   {
    "duration": 236,
    "start_time": "2022-07-07T20:23:28.837Z"
   },
   {
    "duration": 32,
    "start_time": "2022-07-07T20:23:29.075Z"
   },
   {
    "duration": 19,
    "start_time": "2022-07-07T20:23:29.108Z"
   },
   {
    "duration": 33,
    "start_time": "2022-07-07T20:23:29.129Z"
   },
   {
    "duration": 51,
    "start_time": "2022-07-07T20:23:29.165Z"
   },
   {
    "duration": 57,
    "start_time": "2022-07-07T20:23:29.220Z"
   },
   {
    "duration": 40,
    "start_time": "2022-07-07T20:23:29.279Z"
   },
   {
    "duration": 175,
    "start_time": "2022-07-07T20:23:29.321Z"
   },
   {
    "duration": 46,
    "start_time": "2022-07-07T20:23:29.498Z"
   },
   {
    "duration": 224,
    "start_time": "2022-07-07T20:23:29.547Z"
   },
   {
    "duration": 138,
    "start_time": "2022-07-07T20:23:29.775Z"
   },
   {
    "duration": 287,
    "start_time": "2022-07-07T20:23:29.915Z"
   },
   {
    "duration": 705,
    "start_time": "2022-07-07T20:23:30.204Z"
   },
   {
    "duration": 575,
    "start_time": "2022-07-07T20:23:30.912Z"
   },
   {
    "duration": 156,
    "start_time": "2022-07-07T20:23:31.494Z"
   },
   {
    "duration": 40524,
    "start_time": "2022-07-07T20:23:31.651Z"
   },
   {
    "duration": 50809,
    "start_time": "2022-07-07T20:24:12.182Z"
   },
   {
    "duration": 1938633,
    "start_time": "2022-07-07T20:25:02.997Z"
   },
   {
    "duration": 1139353,
    "start_time": "2022-07-07T20:57:21.634Z"
   },
   {
    "duration": 1012101,
    "start_time": "2022-07-07T21:16:20.989Z"
   },
   {
    "duration": 191,
    "start_time": "2022-07-07T21:33:13.092Z"
   },
   {
    "duration": 0,
    "start_time": "2022-07-07T21:33:13.285Z"
   },
   {
    "duration": 0,
    "start_time": "2022-07-07T21:33:13.286Z"
   },
   {
    "duration": 0,
    "start_time": "2022-07-07T21:33:13.287Z"
   },
   {
    "duration": 0,
    "start_time": "2022-07-07T21:33:13.289Z"
   },
   {
    "duration": 0,
    "start_time": "2022-07-07T21:33:13.291Z"
   },
   {
    "duration": 0,
    "start_time": "2022-07-07T21:33:13.293Z"
   },
   {
    "duration": 0,
    "start_time": "2022-07-07T21:33:13.294Z"
   },
   {
    "duration": 0,
    "start_time": "2022-07-07T21:33:13.296Z"
   },
   {
    "duration": 1594,
    "start_time": "2022-07-08T02:43:56.282Z"
   },
   {
    "duration": 963,
    "start_time": "2022-07-08T02:43:57.877Z"
   },
   {
    "duration": 210,
    "start_time": "2022-07-08T02:43:58.842Z"
   },
   {
    "duration": 24,
    "start_time": "2022-07-08T02:43:59.053Z"
   },
   {
    "duration": 5,
    "start_time": "2022-07-08T02:43:59.080Z"
   },
   {
    "duration": 42,
    "start_time": "2022-07-08T02:43:59.103Z"
   },
   {
    "duration": 79,
    "start_time": "2022-07-08T02:43:59.147Z"
   },
   {
    "duration": 37,
    "start_time": "2022-07-08T02:43:59.227Z"
   },
   {
    "duration": 17,
    "start_time": "2022-07-08T02:43:59.266Z"
   },
   {
    "duration": 163,
    "start_time": "2022-07-08T02:43:59.304Z"
   },
   {
    "duration": 19,
    "start_time": "2022-07-08T02:43:59.469Z"
   },
   {
    "duration": 33,
    "start_time": "2022-07-08T02:43:59.489Z"
   },
   {
    "duration": 27,
    "start_time": "2022-07-08T02:43:59.523Z"
   },
   {
    "duration": 18,
    "start_time": "2022-07-08T02:43:59.552Z"
   },
   {
    "duration": 47,
    "start_time": "2022-07-08T02:43:59.571Z"
   },
   {
    "duration": 19,
    "start_time": "2022-07-08T02:43:59.619Z"
   },
   {
    "duration": 178,
    "start_time": "2022-07-08T02:43:59.640Z"
   },
   {
    "duration": 41,
    "start_time": "2022-07-08T02:43:59.821Z"
   },
   {
    "duration": 158,
    "start_time": "2022-07-08T02:43:59.864Z"
   },
   {
    "duration": 130,
    "start_time": "2022-07-08T02:44:00.024Z"
   },
   {
    "duration": 254,
    "start_time": "2022-07-08T02:44:00.156Z"
   },
   {
    "duration": 602,
    "start_time": "2022-07-08T02:44:00.416Z"
   },
   {
    "duration": 573,
    "start_time": "2022-07-08T02:44:01.020Z"
   },
   {
    "duration": 174,
    "start_time": "2022-07-08T02:44:01.595Z"
   },
   {
    "duration": 30386,
    "start_time": "2022-07-08T02:44:09.316Z"
   },
   {
    "duration": 1211,
    "start_time": "2022-07-08T02:45:03.266Z"
   },
   {
    "duration": 3,
    "start_time": "2022-07-08T02:45:13.132Z"
   },
   {
    "duration": 1306,
    "start_time": "2022-07-08T02:45:50.452Z"
   },
   {
    "duration": 61,
    "start_time": "2022-07-08T02:46:27.079Z"
   },
   {
    "duration": 16,
    "start_time": "2022-07-08T02:47:31.881Z"
   },
   {
    "duration": 40,
    "start_time": "2022-07-08T02:47:43.559Z"
   },
   {
    "duration": 32,
    "start_time": "2022-07-08T02:51:11.263Z"
   },
   {
    "duration": 31,
    "start_time": "2022-07-08T02:51:14.285Z"
   },
   {
    "duration": 37732,
    "start_time": "2022-07-08T02:51:29.991Z"
   },
   {
    "duration": 125,
    "start_time": "2022-07-08T02:52:25.179Z"
   },
   {
    "duration": 69,
    "start_time": "2022-07-08T02:52:35.527Z"
   },
   {
    "duration": 1385,
    "start_time": "2022-07-08T02:53:14.762Z"
   },
   {
    "duration": 646,
    "start_time": "2022-07-08T02:53:16.149Z"
   },
   {
    "duration": 243,
    "start_time": "2022-07-08T02:53:16.797Z"
   },
   {
    "duration": 25,
    "start_time": "2022-07-08T02:53:17.041Z"
   },
   {
    "duration": 3,
    "start_time": "2022-07-08T02:53:17.069Z"
   },
   {
    "duration": 62,
    "start_time": "2022-07-08T02:53:17.074Z"
   },
   {
    "duration": 75,
    "start_time": "2022-07-08T02:53:17.138Z"
   },
   {
    "duration": 32,
    "start_time": "2022-07-08T02:53:17.214Z"
   },
   {
    "duration": 20,
    "start_time": "2022-07-08T02:53:17.248Z"
   },
   {
    "duration": 165,
    "start_time": "2022-07-08T02:53:17.269Z"
   },
   {
    "duration": 16,
    "start_time": "2022-07-08T02:53:17.435Z"
   },
   {
    "duration": 21,
    "start_time": "2022-07-08T02:53:17.453Z"
   },
   {
    "duration": 44,
    "start_time": "2022-07-08T02:53:17.476Z"
   },
   {
    "duration": 21,
    "start_time": "2022-07-08T02:53:17.524Z"
   },
   {
    "duration": 27,
    "start_time": "2022-07-08T02:53:17.546Z"
   },
   {
    "duration": 39,
    "start_time": "2022-07-08T02:53:17.575Z"
   },
   {
    "duration": 163,
    "start_time": "2022-07-08T02:53:17.616Z"
   },
   {
    "duration": 50,
    "start_time": "2022-07-08T02:53:17.781Z"
   },
   {
    "duration": 144,
    "start_time": "2022-07-08T02:53:17.833Z"
   },
   {
    "duration": 123,
    "start_time": "2022-07-08T02:53:17.979Z"
   },
   {
    "duration": 236,
    "start_time": "2022-07-08T02:53:18.104Z"
   },
   {
    "duration": 578,
    "start_time": "2022-07-08T02:53:18.342Z"
   },
   {
    "duration": 537,
    "start_time": "2022-07-08T02:53:18.922Z"
   },
   {
    "duration": 129,
    "start_time": "2022-07-08T02:53:19.461Z"
   },
   {
    "duration": 49,
    "start_time": "2022-07-08T02:53:19.592Z"
   },
   {
    "duration": 27759,
    "start_time": "2022-07-08T02:53:19.643Z"
   },
   {
    "duration": 39941,
    "start_time": "2022-07-08T02:53:47.408Z"
   },
   {
    "duration": 1574614,
    "start_time": "2022-07-08T02:54:27.351Z"
   },
   {
    "duration": 41936,
    "start_time": "2022-07-08T03:20:41.966Z"
   },
   {
    "duration": 17106,
    "start_time": "2022-07-08T03:21:23.905Z"
   },
   {
    "duration": 35,
    "start_time": "2022-07-08T03:21:41.013Z"
   },
   {
    "duration": 19352,
    "start_time": "2022-07-08T03:21:41.050Z"
   },
   {
    "duration": 116,
    "start_time": "2022-07-08T03:22:00.404Z"
   },
   {
    "duration": 5724,
    "start_time": "2022-07-08T03:22:00.522Z"
   },
   {
    "duration": 110,
    "start_time": "2022-07-08T03:22:06.248Z"
   },
   {
    "duration": 505,
    "start_time": "2022-07-08T03:22:06.360Z"
   },
   {
    "duration": 60,
    "start_time": "2022-07-08T03:22:06.867Z"
   },
   {
    "duration": 6280,
    "start_time": "2022-07-08T03:22:06.929Z"
   },
   {
    "duration": 507,
    "start_time": "2022-07-08T03:22:13.211Z"
   },
   {
    "duration": 242679,
    "start_time": "2022-07-08T03:28:28.809Z"
   },
   {
    "duration": 1586,
    "start_time": "2022-07-08T03:32:31.490Z"
   },
   {
    "duration": 45,
    "start_time": "2022-07-08T06:31:51.260Z"
   },
   {
    "duration": 1566,
    "start_time": "2022-07-08T06:32:56.797Z"
   },
   {
    "duration": 882,
    "start_time": "2022-07-08T06:32:58.365Z"
   },
   {
    "duration": 207,
    "start_time": "2022-07-08T06:32:59.249Z"
   },
   {
    "duration": 23,
    "start_time": "2022-07-08T06:32:59.458Z"
   },
   {
    "duration": 5,
    "start_time": "2022-07-08T06:32:59.483Z"
   },
   {
    "duration": 32,
    "start_time": "2022-07-08T06:32:59.489Z"
   },
   {
    "duration": 102,
    "start_time": "2022-07-08T06:32:59.522Z"
   },
   {
    "duration": 40,
    "start_time": "2022-07-08T06:32:59.626Z"
   },
   {
    "duration": 21,
    "start_time": "2022-07-08T06:32:59.668Z"
   },
   {
    "duration": 184,
    "start_time": "2022-07-08T06:32:59.691Z"
   },
   {
    "duration": 20,
    "start_time": "2022-07-08T06:32:59.877Z"
   },
   {
    "duration": 16,
    "start_time": "2022-07-08T06:32:59.899Z"
   },
   {
    "duration": 19,
    "start_time": "2022-07-08T06:32:59.917Z"
   },
   {
    "duration": 18,
    "start_time": "2022-07-08T06:32:59.963Z"
   },
   {
    "duration": 31,
    "start_time": "2022-07-08T06:32:59.983Z"
   },
   {
    "duration": 23,
    "start_time": "2022-07-08T06:33:00.015Z"
   },
   {
    "duration": 157,
    "start_time": "2022-07-08T06:33:00.065Z"
   },
   {
    "duration": 50,
    "start_time": "2022-07-08T06:33:00.224Z"
   },
   {
    "duration": 144,
    "start_time": "2022-07-08T06:33:00.275Z"
   },
   {
    "duration": 134,
    "start_time": "2022-07-08T06:33:00.422Z"
   },
   {
    "duration": 261,
    "start_time": "2022-07-08T06:33:00.557Z"
   },
   {
    "duration": 24,
    "start_time": "2022-07-08T06:33:04.812Z"
   },
   {
    "duration": 19,
    "start_time": "2022-07-08T06:33:15.064Z"
   },
   {
    "duration": 39,
    "start_time": "2022-07-08T06:33:26.913Z"
   },
   {
    "duration": 577,
    "start_time": "2022-07-08T06:37:22.616Z"
   },
   {
    "duration": 527,
    "start_time": "2022-07-08T06:37:31.773Z"
   },
   {
    "duration": 127,
    "start_time": "2022-07-08T06:37:37.621Z"
   },
   {
    "duration": 116,
    "start_time": "2022-07-08T06:37:40.667Z"
   },
   {
    "duration": 133,
    "start_time": "2022-07-08T06:37:45.478Z"
   },
   {
    "duration": 179,
    "start_time": "2022-07-08T06:42:29.751Z"
   },
   {
    "duration": 38,
    "start_time": "2022-07-08T06:43:02.629Z"
   },
   {
    "duration": 144,
    "start_time": "2022-07-08T06:51:21.119Z"
   },
   {
    "duration": 25,
    "start_time": "2022-07-08T06:51:40.065Z"
   },
   {
    "duration": 68,
    "start_time": "2022-07-08T06:52:07.425Z"
   },
   {
    "duration": 89,
    "start_time": "2022-07-08T06:52:21.158Z"
   },
   {
    "duration": 24,
    "start_time": "2022-07-08T06:56:07.557Z"
   },
   {
    "duration": 12,
    "start_time": "2022-07-08T06:57:39.453Z"
   },
   {
    "duration": 23,
    "start_time": "2022-07-08T07:00:49.898Z"
   },
   {
    "duration": 18,
    "start_time": "2022-07-08T07:01:14.248Z"
   },
   {
    "duration": 18,
    "start_time": "2022-07-08T07:12:07.439Z"
   },
   {
    "duration": 4,
    "start_time": "2022-07-08T07:16:30.282Z"
   },
   {
    "duration": 36,
    "start_time": "2022-07-08T07:18:39.414Z"
   },
   {
    "duration": 53,
    "start_time": "2022-07-08T07:20:16.332Z"
   },
   {
    "duration": 72,
    "start_time": "2022-07-08T07:20:33.433Z"
   },
   {
    "duration": 64,
    "start_time": "2022-07-08T07:20:50.932Z"
   },
   {
    "duration": 55,
    "start_time": "2022-07-08T07:21:24.897Z"
   },
   {
    "duration": 276,
    "start_time": "2022-07-08T07:28:09.509Z"
   },
   {
    "duration": 144,
    "start_time": "2022-07-08T07:28:25.361Z"
   },
   {
    "duration": 117,
    "start_time": "2022-07-08T07:29:41.682Z"
   },
   {
    "duration": 106,
    "start_time": "2022-07-08T07:30:15.354Z"
   },
   {
    "duration": 73,
    "start_time": "2022-07-08T07:31:06.630Z"
   },
   {
    "duration": 147,
    "start_time": "2022-07-08T07:31:11.130Z"
   },
   {
    "duration": 153,
    "start_time": "2022-07-08T07:31:15.378Z"
   },
   {
    "duration": 54,
    "start_time": "2022-07-08T07:31:38.792Z"
   },
   {
    "duration": 71,
    "start_time": "2022-07-08T07:31:50.883Z"
   },
   {
    "duration": 11375,
    "start_time": "2022-07-08T07:33:02.090Z"
   },
   {
    "duration": 9989,
    "start_time": "2022-07-08T07:33:50.689Z"
   },
   {
    "duration": 53,
    "start_time": "2022-07-08T07:39:16.296Z"
   },
   {
    "duration": 48,
    "start_time": "2022-07-08T07:40:23.778Z"
   },
   {
    "duration": 179741,
    "start_time": "2022-07-08T07:47:04.046Z"
   },
   {
    "duration": 433080,
    "start_time": "2022-07-08T07:50:03.789Z"
   },
   {
    "duration": 13304,
    "start_time": "2022-07-08T07:57:16.873Z"
   },
   {
    "duration": 24144,
    "start_time": "2022-07-08T08:00:10.329Z"
   },
   {
    "duration": 16089,
    "start_time": "2022-07-08T08:00:39.789Z"
   },
   {
    "duration": 18195,
    "start_time": "2022-07-08T08:01:51.176Z"
   },
   {
    "duration": 49,
    "start_time": "2022-07-08T08:02:34.156Z"
   },
   {
    "duration": 39,
    "start_time": "2022-07-08T08:02:46.758Z"
   },
   {
    "duration": 31384,
    "start_time": "2022-07-08T08:02:51.198Z"
   },
   {
    "duration": 597,
    "start_time": "2022-07-08T08:03:22.584Z"
   },
   {
    "duration": 7038,
    "start_time": "2022-07-08T08:04:06.532Z"
   }
  ],
  "kernelspec": {
   "display_name": "Python 3 (ipykernel)",
   "language": "python",
   "name": "python3"
  },
  "language_info": {
   "codemirror_mode": {
    "name": "ipython",
    "version": 3
   },
   "file_extension": ".py",
   "mimetype": "text/x-python",
   "name": "python",
   "nbconvert_exporter": "python",
   "pygments_lexer": "ipython3",
   "version": "3.9.5"
  },
  "toc": {
   "base_numbering": 1,
   "nav_menu": {},
   "number_sections": true,
   "sideBar": true,
   "skip_h1_title": true,
   "title_cell": "Table of Contents",
   "title_sidebar": "Contents",
   "toc_cell": false,
   "toc_position": {},
   "toc_section_display": true,
   "toc_window_display": false
  }
 },
 "nbformat": 4,
 "nbformat_minor": 2
}
