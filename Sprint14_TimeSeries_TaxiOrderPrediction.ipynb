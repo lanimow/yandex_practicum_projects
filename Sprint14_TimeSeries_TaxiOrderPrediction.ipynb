{
 "cells": [
  {
   "cell_type": "markdown",
   "metadata": {},
   "source": [
    "# Project description\n",
    "\n",
    "Sweet Lift Taxi company has collected historical data on taxi orders at airports. To attract more drivers during peak hours, we need to predict the amount of taxi orders for the next hour. Build a model for such a prediction.\n",
    "\n",
    "The RMSE metric on the test set should not be more than 48.\n",
    "\n",
    "## Project instructions\n",
    "\n",
    "1. Download the data and resample it by one hour.\n",
    "2. Analyze the data.\n",
    "3. Train different models with different hyperparameters. The test sample should be 10% of the initial dataset. \n",
    "4. Test the data using the test sample and provide a conclusion.\n",
    "\n",
    "## Data description\n",
    "\n",
    "The data is stored in file `taxi.csv`. The number of orders is in the '*num_orders*' column."
   ]
  },
  {
   "cell_type": "markdown",
   "metadata": {},
   "source": [
    "## Preparation"
   ]
  },
  {
   "cell_type": "code",
   "execution_count": 47,
   "metadata": {},
   "outputs": [],
   "source": [
    "import pandas as pd\n",
    "import numpy as np\n",
    "import matplotlib.pyplot as plt\n",
    "import seaborn as sns\n",
    "import math\n",
    "from sklearn.model_selection import train_test_split\n",
    "from sklearn.linear_model import LinearRegression\n",
    "from sklearn.tree import DecisionTreeRegressor\n",
    "from sklearn.ensemble import RandomForestRegressor\n",
    "from sklearn.metrics import mean_squared_error\n",
    "import warnings\n",
    "warnings.filterwarnings(\"ignore\")\n"
   ]
  },
  {
   "cell_type": "code",
   "execution_count": 48,
   "metadata": {},
   "outputs": [],
   "source": [
    "# Load the data file; make the datetime column the index\n",
    "try:\n",
    "    df = pd.read_csv('/datasets/taxi.csv', index_col=[0], parse_dates=[0])\n",
    "except:\n",
    "    df = pd.read_csv('taxi.csv', index_col=[0], parse_dates=[0])\n"
   ]
  },
  {
   "cell_type": "code",
   "execution_count": 49,
   "metadata": {},
   "outputs": [
    {
     "name": "stdout",
     "output_type": "stream",
     "text": [
      "<class 'pandas.core.frame.DataFrame'>\n",
      "DatetimeIndex: 26496 entries, 2018-03-01 00:00:00 to 2018-08-31 23:50:00\n",
      "Data columns (total 1 columns):\n",
      " #   Column      Non-Null Count  Dtype\n",
      "---  ------      --------------  -----\n",
      " 0   num_orders  26496 non-null  int64\n",
      "dtypes: int64(1)\n",
      "memory usage: 414.0 KB\n"
     ]
    },
    {
     "data": {
      "text/html": [
       "<div>\n",
       "<style scoped>\n",
       "    .dataframe tbody tr th:only-of-type {\n",
       "        vertical-align: middle;\n",
       "    }\n",
       "\n",
       "    .dataframe tbody tr th {\n",
       "        vertical-align: top;\n",
       "    }\n",
       "\n",
       "    .dataframe thead th {\n",
       "        text-align: right;\n",
       "    }\n",
       "</style>\n",
       "<table border=\"1\" class=\"dataframe\">\n",
       "  <thead>\n",
       "    <tr style=\"text-align: right;\">\n",
       "      <th></th>\n",
       "      <th>num_orders</th>\n",
       "    </tr>\n",
       "  </thead>\n",
       "  <tbody>\n",
       "    <tr>\n",
       "      <th>count</th>\n",
       "      <td>26496.000000</td>\n",
       "    </tr>\n",
       "    <tr>\n",
       "      <th>mean</th>\n",
       "      <td>14.070463</td>\n",
       "    </tr>\n",
       "    <tr>\n",
       "      <th>std</th>\n",
       "      <td>9.211330</td>\n",
       "    </tr>\n",
       "    <tr>\n",
       "      <th>min</th>\n",
       "      <td>0.000000</td>\n",
       "    </tr>\n",
       "    <tr>\n",
       "      <th>25%</th>\n",
       "      <td>8.000000</td>\n",
       "    </tr>\n",
       "    <tr>\n",
       "      <th>50%</th>\n",
       "      <td>13.000000</td>\n",
       "    </tr>\n",
       "    <tr>\n",
       "      <th>75%</th>\n",
       "      <td>19.000000</td>\n",
       "    </tr>\n",
       "    <tr>\n",
       "      <th>max</th>\n",
       "      <td>119.000000</td>\n",
       "    </tr>\n",
       "  </tbody>\n",
       "</table>\n",
       "</div>"
      ],
      "text/plain": [
       "         num_orders\n",
       "count  26496.000000\n",
       "mean      14.070463\n",
       "std        9.211330\n",
       "min        0.000000\n",
       "25%        8.000000\n",
       "50%       13.000000\n",
       "75%       19.000000\n",
       "max      119.000000"
      ]
     },
     "execution_count": 49,
     "metadata": {},
     "output_type": "execute_result"
    }
   ],
   "source": [
    "# Print general information about 'df'\n",
    "df.info()\n",
    "df.describe()\n"
   ]
  },
  {
   "cell_type": "code",
   "execution_count": 50,
   "metadata": {},
   "outputs": [
    {
     "data": {
      "text/html": [
       "<div>\n",
       "<style scoped>\n",
       "    .dataframe tbody tr th:only-of-type {\n",
       "        vertical-align: middle;\n",
       "    }\n",
       "\n",
       "    .dataframe tbody tr th {\n",
       "        vertical-align: top;\n",
       "    }\n",
       "\n",
       "    .dataframe thead th {\n",
       "        text-align: right;\n",
       "    }\n",
       "</style>\n",
       "<table border=\"1\" class=\"dataframe\">\n",
       "  <thead>\n",
       "    <tr style=\"text-align: right;\">\n",
       "      <th></th>\n",
       "      <th>num_orders</th>\n",
       "    </tr>\n",
       "    <tr>\n",
       "      <th>datetime</th>\n",
       "      <th></th>\n",
       "    </tr>\n",
       "  </thead>\n",
       "  <tbody>\n",
       "    <tr>\n",
       "      <th>2018-03-01 00:00:00</th>\n",
       "      <td>9</td>\n",
       "    </tr>\n",
       "    <tr>\n",
       "      <th>2018-03-01 00:10:00</th>\n",
       "      <td>14</td>\n",
       "    </tr>\n",
       "    <tr>\n",
       "      <th>2018-03-01 00:20:00</th>\n",
       "      <td>28</td>\n",
       "    </tr>\n",
       "    <tr>\n",
       "      <th>2018-03-01 00:30:00</th>\n",
       "      <td>20</td>\n",
       "    </tr>\n",
       "    <tr>\n",
       "      <th>2018-03-01 00:40:00</th>\n",
       "      <td>32</td>\n",
       "    </tr>\n",
       "    <tr>\n",
       "      <th>...</th>\n",
       "      <td>...</td>\n",
       "    </tr>\n",
       "    <tr>\n",
       "      <th>2018-08-31 23:10:00</th>\n",
       "      <td>32</td>\n",
       "    </tr>\n",
       "    <tr>\n",
       "      <th>2018-08-31 23:20:00</th>\n",
       "      <td>24</td>\n",
       "    </tr>\n",
       "    <tr>\n",
       "      <th>2018-08-31 23:30:00</th>\n",
       "      <td>27</td>\n",
       "    </tr>\n",
       "    <tr>\n",
       "      <th>2018-08-31 23:40:00</th>\n",
       "      <td>39</td>\n",
       "    </tr>\n",
       "    <tr>\n",
       "      <th>2018-08-31 23:50:00</th>\n",
       "      <td>53</td>\n",
       "    </tr>\n",
       "  </tbody>\n",
       "</table>\n",
       "<p>26496 rows × 1 columns</p>\n",
       "</div>"
      ],
      "text/plain": [
       "                     num_orders\n",
       "datetime                       \n",
       "2018-03-01 00:00:00           9\n",
       "2018-03-01 00:10:00          14\n",
       "2018-03-01 00:20:00          28\n",
       "2018-03-01 00:30:00          20\n",
       "2018-03-01 00:40:00          32\n",
       "...                         ...\n",
       "2018-08-31 23:10:00          32\n",
       "2018-08-31 23:20:00          24\n",
       "2018-08-31 23:30:00          27\n",
       "2018-08-31 23:40:00          39\n",
       "2018-08-31 23:50:00          53\n",
       "\n",
       "[26496 rows x 1 columns]"
      ]
     },
     "execution_count": 50,
     "metadata": {},
     "output_type": "execute_result"
    }
   ],
   "source": [
    "# Print a sample of the data for 'df'\n",
    "df\n"
   ]
  },
  {
   "cell_type": "code",
   "execution_count": 51,
   "metadata": {},
   "outputs": [
    {
     "data": {
      "text/html": [
       "<div>\n",
       "<style scoped>\n",
       "    .dataframe tbody tr th:only-of-type {\n",
       "        vertical-align: middle;\n",
       "    }\n",
       "\n",
       "    .dataframe tbody tr th {\n",
       "        vertical-align: top;\n",
       "    }\n",
       "\n",
       "    .dataframe thead th {\n",
       "        text-align: right;\n",
       "    }\n",
       "</style>\n",
       "<table border=\"1\" class=\"dataframe\">\n",
       "  <thead>\n",
       "    <tr style=\"text-align: right;\">\n",
       "      <th></th>\n",
       "      <th>num_orders</th>\n",
       "    </tr>\n",
       "    <tr>\n",
       "      <th>datetime</th>\n",
       "      <th></th>\n",
       "    </tr>\n",
       "  </thead>\n",
       "  <tbody>\n",
       "    <tr>\n",
       "      <th>2018-03-01 00:00:00</th>\n",
       "      <td>124</td>\n",
       "    </tr>\n",
       "    <tr>\n",
       "      <th>2018-03-01 01:00:00</th>\n",
       "      <td>85</td>\n",
       "    </tr>\n",
       "    <tr>\n",
       "      <th>2018-03-01 02:00:00</th>\n",
       "      <td>71</td>\n",
       "    </tr>\n",
       "    <tr>\n",
       "      <th>2018-03-01 03:00:00</th>\n",
       "      <td>66</td>\n",
       "    </tr>\n",
       "    <tr>\n",
       "      <th>2018-03-01 04:00:00</th>\n",
       "      <td>43</td>\n",
       "    </tr>\n",
       "    <tr>\n",
       "      <th>...</th>\n",
       "      <td>...</td>\n",
       "    </tr>\n",
       "    <tr>\n",
       "      <th>2018-08-31 19:00:00</th>\n",
       "      <td>136</td>\n",
       "    </tr>\n",
       "    <tr>\n",
       "      <th>2018-08-31 20:00:00</th>\n",
       "      <td>154</td>\n",
       "    </tr>\n",
       "    <tr>\n",
       "      <th>2018-08-31 21:00:00</th>\n",
       "      <td>159</td>\n",
       "    </tr>\n",
       "    <tr>\n",
       "      <th>2018-08-31 22:00:00</th>\n",
       "      <td>223</td>\n",
       "    </tr>\n",
       "    <tr>\n",
       "      <th>2018-08-31 23:00:00</th>\n",
       "      <td>205</td>\n",
       "    </tr>\n",
       "  </tbody>\n",
       "</table>\n",
       "<p>4416 rows × 1 columns</p>\n",
       "</div>"
      ],
      "text/plain": [
       "                     num_orders\n",
       "datetime                       \n",
       "2018-03-01 00:00:00         124\n",
       "2018-03-01 01:00:00          85\n",
       "2018-03-01 02:00:00          71\n",
       "2018-03-01 03:00:00          66\n",
       "2018-03-01 04:00:00          43\n",
       "...                         ...\n",
       "2018-08-31 19:00:00         136\n",
       "2018-08-31 20:00:00         154\n",
       "2018-08-31 21:00:00         159\n",
       "2018-08-31 22:00:00         223\n",
       "2018-08-31 23:00:00         205\n",
       "\n",
       "[4416 rows x 1 columns]"
      ]
     },
     "execution_count": 51,
     "metadata": {},
     "output_type": "execute_result"
    }
   ],
   "source": [
    "# Resample the data by 1 hour\n",
    "df = df.resample('1H').sum()\n",
    "df\n"
   ]
  },
  {
   "cell_type": "markdown",
   "metadata": {},
   "source": [
    "## Analysis"
   ]
  },
  {
   "cell_type": "code",
   "execution_count": 52,
   "metadata": {},
   "outputs": [
    {
     "data": {
      "text/plain": [
       "True"
      ]
     },
     "execution_count": 52,
     "metadata": {},
     "output_type": "execute_result"
    }
   ],
   "source": [
    "# Check if the dates and times are in chronological order\n",
    "df.index.is_monotonic\n"
   ]
  },
  {
   "cell_type": "code",
   "execution_count": 53,
   "metadata": {},
   "outputs": [
    {
     "data": {
      "text/plain": [
       "<AxesSubplot:xlabel='datetime'>"
      ]
     },
     "execution_count": 53,
     "metadata": {},
     "output_type": "execute_result"
    },
    {
     "data": {
      "image/png": "[encoded data removed]",
      "text/plain": [
       "<Figure size 432x288 with 1 Axes>"
      ]
     },
     "metadata": {
      "needs_background": "light"
     },
     "output_type": "display_data"
    }
   ],
   "source": [
    "# Plot df to examine the trends/seasonality of the data\n",
    "df.plot()\n"
   ]
  },
  {
   "cell_type": "code",
   "execution_count": 54,
   "metadata": {},
   "outputs": [],
   "source": [
    "# Create a function to test the stationarity of the data\n",
    "def test_stationarity(timeseries):\n",
    "    roll_mean = timeseries.rolling(24).mean()\n",
    "    roll_std = timeseries.rolling(24).std()\n",
    "    \n",
    "    original = plt.plot(timeseries, color = 'blue', label = 'Original')\n",
    "    mean = plt.plot(roll_mean, color = 'red', label = 'Rolling Mean')\n",
    "    std = plt.plot(roll_std, color = 'yellow', label = 'Rolling Std')\n",
    "    plt.legend(loc = 'best')\n",
    "    plt.title('Rolling Mean and Standard Deviation')\n",
    "    plt.show(block = False)\n"
   ]
  },
  {
   "cell_type": "code",
   "execution_count": 55,
   "metadata": {},
   "outputs": [
    {
     "data": {
      "image/png": "[encoded data removed]",
      "text/plain": [
       "<Figure size 432x288 with 1 Axes>"
      ]
     },
     "metadata": {
      "needs_background": "light"
     },
     "output_type": "display_data"
    }
   ],
   "source": [
    "# Use the function with df to visualize whether or not the data is stationary\n",
    "test_stationarity(df)\n"
   ]
  },
  {
   "cell_type": "code",
   "execution_count": 56,
   "metadata": {},
   "outputs": [
    {
     "data": {
      "text/plain": [
       "[<matplotlib.lines.Line2D at 0x7f2ebe7e03a0>]"
      ]
     },
     "execution_count": 56,
     "metadata": {},
     "output_type": "execute_result"
    },
    {
     "data": {
      "image/png": "[encoded data removed]",
      "text/plain": [
       "<Figure size 432x288 with 1 Axes>"
      ]
     },
     "metadata": {
      "needs_background": "light"
     },
     "output_type": "display_data"
    }
   ],
   "source": [
    "# Plot the log differences of df\n",
    "df_log = np.log(df)\n",
    "df_log_diff = df_log - df_log.shift()\n",
    "plt.plot(df_log_diff)\n"
   ]
  },
  {
   "cell_type": "code",
   "execution_count": 57,
   "metadata": {},
   "outputs": [
    {
     "data": {
      "image/png": "[encoded data removed]",
      "text/plain": [
       "<Figure size 432x288 with 1 Axes>"
      ]
     },
     "metadata": {
      "needs_background": "light"
     },
     "output_type": "display_data"
    }
   ],
   "source": [
    "# Drop missing data from df_log_diff and use the 'test_stationarity' function to plot the graph\n",
    "df_log_diff.dropna(inplace = True)\n",
    "test_stationarity(df_log_diff)\n"
   ]
  },
  {
   "cell_type": "markdown",
   "metadata": {},
   "source": [
    "Based on the two graphs testing the stationarity of the two plots, the plot using the log differences shows more consistent rolling mean and rolling standard deviations so 'df_log_diff' will be utilized in the training and predictions."
   ]
  },
  {
   "cell_type": "code",
   "execution_count": 58,
   "metadata": {},
   "outputs": [],
   "source": [
    "# Create a function to generate all the necessary features for training\n",
    "def make_features(data, max_lag, rolling_mean_size):\n",
    "    data['month'] = data.index.month\n",
    "    data['day'] = data.index.day\n",
    "    data['dayofweek'] = data.index.dayofweek\n",
    "    data['hour'] = data.index.hour\n",
    "\n",
    "    data['num_orders'] = np.log(data['num_orders'])\n",
    "    data['shift'] = data['num_orders'].shift()\n",
    "\n",
    "    data['num_orders'] = data['num_orders'] - data['num_orders'].shift()\n",
    "\n",
    "    for lag in range(1, max_lag + 1):\n",
    "        data['lag_{}'.format(lag)] = data['num_orders'].shift(lag)\n",
    "        \n",
    "    data['rolling_mean'] = (data['num_orders'].shift().rolling(rolling_mean_size).mean())\n",
    "    \n",
    "    return data\n"
   ]
  },
  {
   "cell_type": "code",
   "execution_count": 59,
   "metadata": {},
   "outputs": [
    {
     "data": {
      "text/html": [
       "<div>\n",
       "<style scoped>\n",
       "    .dataframe tbody tr th:only-of-type {\n",
       "        vertical-align: middle;\n",
       "    }\n",
       "\n",
       "    .dataframe tbody tr th {\n",
       "        vertical-align: top;\n",
       "    }\n",
       "\n",
       "    .dataframe thead th {\n",
       "        text-align: right;\n",
       "    }\n",
       "</style>\n",
       "<table border=\"1\" class=\"dataframe\">\n",
       "  <thead>\n",
       "    <tr style=\"text-align: right;\">\n",
       "      <th></th>\n",
       "      <th>num_orders</th>\n",
       "      <th>month</th>\n",
       "      <th>day</th>\n",
       "      <th>dayofweek</th>\n",
       "      <th>hour</th>\n",
       "      <th>shift</th>\n",
       "      <th>lag_1</th>\n",
       "      <th>lag_2</th>\n",
       "      <th>lag_3</th>\n",
       "      <th>lag_4</th>\n",
       "      <th>lag_5</th>\n",
       "      <th>lag_6</th>\n",
       "      <th>rolling_mean</th>\n",
       "    </tr>\n",
       "    <tr>\n",
       "      <th>datetime</th>\n",
       "      <th></th>\n",
       "      <th></th>\n",
       "      <th></th>\n",
       "      <th></th>\n",
       "      <th></th>\n",
       "      <th></th>\n",
       "      <th></th>\n",
       "      <th></th>\n",
       "      <th></th>\n",
       "      <th></th>\n",
       "      <th></th>\n",
       "      <th></th>\n",
       "      <th></th>\n",
       "    </tr>\n",
       "  </thead>\n",
       "  <tbody>\n",
       "    <tr>\n",
       "      <th>2018-03-01 00:00:00</th>\n",
       "      <td>NaN</td>\n",
       "      <td>3</td>\n",
       "      <td>1</td>\n",
       "      <td>3</td>\n",
       "      <td>0</td>\n",
       "      <td>NaN</td>\n",
       "      <td>NaN</td>\n",
       "      <td>NaN</td>\n",
       "      <td>NaN</td>\n",
       "      <td>NaN</td>\n",
       "      <td>NaN</td>\n",
       "      <td>NaN</td>\n",
       "      <td>NaN</td>\n",
       "    </tr>\n",
       "    <tr>\n",
       "      <th>2018-03-01 01:00:00</th>\n",
       "      <td>-0.377630</td>\n",
       "      <td>3</td>\n",
       "      <td>1</td>\n",
       "      <td>3</td>\n",
       "      <td>1</td>\n",
       "      <td>4.820282</td>\n",
       "      <td>NaN</td>\n",
       "      <td>NaN</td>\n",
       "      <td>NaN</td>\n",
       "      <td>NaN</td>\n",
       "      <td>NaN</td>\n",
       "      <td>NaN</td>\n",
       "      <td>NaN</td>\n",
       "    </tr>\n",
       "    <tr>\n",
       "      <th>2018-03-01 02:00:00</th>\n",
       "      <td>-0.179971</td>\n",
       "      <td>3</td>\n",
       "      <td>1</td>\n",
       "      <td>3</td>\n",
       "      <td>2</td>\n",
       "      <td>4.442651</td>\n",
       "      <td>-0.377630</td>\n",
       "      <td>NaN</td>\n",
       "      <td>NaN</td>\n",
       "      <td>NaN</td>\n",
       "      <td>NaN</td>\n",
       "      <td>NaN</td>\n",
       "      <td>NaN</td>\n",
       "    </tr>\n",
       "    <tr>\n",
       "      <th>2018-03-01 03:00:00</th>\n",
       "      <td>-0.073025</td>\n",
       "      <td>3</td>\n",
       "      <td>1</td>\n",
       "      <td>3</td>\n",
       "      <td>3</td>\n",
       "      <td>4.262680</td>\n",
       "      <td>-0.179971</td>\n",
       "      <td>-0.377630</td>\n",
       "      <td>NaN</td>\n",
       "      <td>NaN</td>\n",
       "      <td>NaN</td>\n",
       "      <td>NaN</td>\n",
       "      <td>NaN</td>\n",
       "    </tr>\n",
       "    <tr>\n",
       "      <th>2018-03-01 04:00:00</th>\n",
       "      <td>-0.428455</td>\n",
       "      <td>3</td>\n",
       "      <td>1</td>\n",
       "      <td>3</td>\n",
       "      <td>4</td>\n",
       "      <td>4.189655</td>\n",
       "      <td>-0.073025</td>\n",
       "      <td>-0.179971</td>\n",
       "      <td>-0.377630</td>\n",
       "      <td>NaN</td>\n",
       "      <td>NaN</td>\n",
       "      <td>NaN</td>\n",
       "      <td>NaN</td>\n",
       "    </tr>\n",
       "    <tr>\n",
       "      <th>...</th>\n",
       "      <td>...</td>\n",
       "      <td>...</td>\n",
       "      <td>...</td>\n",
       "      <td>...</td>\n",
       "      <td>...</td>\n",
       "      <td>...</td>\n",
       "      <td>...</td>\n",
       "      <td>...</td>\n",
       "      <td>...</td>\n",
       "      <td>...</td>\n",
       "      <td>...</td>\n",
       "      <td>...</td>\n",
       "      <td>...</td>\n",
       "    </tr>\n",
       "    <tr>\n",
       "      <th>2018-08-31 19:00:00</th>\n",
       "      <td>-0.420064</td>\n",
       "      <td>8</td>\n",
       "      <td>31</td>\n",
       "      <td>4</td>\n",
       "      <td>19</td>\n",
       "      <td>5.332719</td>\n",
       "      <td>-0.047179</td>\n",
       "      <td>0.096694</td>\n",
       "      <td>0.529614</td>\n",
       "      <td>-0.136759</td>\n",
       "      <td>-0.221639</td>\n",
       "      <td>0.199333</td>\n",
       "      <td>0.070011</td>\n",
       "    </tr>\n",
       "    <tr>\n",
       "      <th>2018-08-31 20:00:00</th>\n",
       "      <td>0.124298</td>\n",
       "      <td>8</td>\n",
       "      <td>31</td>\n",
       "      <td>4</td>\n",
       "      <td>20</td>\n",
       "      <td>4.912655</td>\n",
       "      <td>-0.420064</td>\n",
       "      <td>-0.047179</td>\n",
       "      <td>0.096694</td>\n",
       "      <td>0.529614</td>\n",
       "      <td>-0.136759</td>\n",
       "      <td>-0.221639</td>\n",
       "      <td>-0.033222</td>\n",
       "    </tr>\n",
       "    <tr>\n",
       "      <th>2018-08-31 21:00:00</th>\n",
       "      <td>0.031952</td>\n",
       "      <td>8</td>\n",
       "      <td>31</td>\n",
       "      <td>4</td>\n",
       "      <td>21</td>\n",
       "      <td>5.036953</td>\n",
       "      <td>0.124298</td>\n",
       "      <td>-0.420064</td>\n",
       "      <td>-0.047179</td>\n",
       "      <td>0.096694</td>\n",
       "      <td>0.529614</td>\n",
       "      <td>-0.136759</td>\n",
       "      <td>0.024434</td>\n",
       "    </tr>\n",
       "    <tr>\n",
       "      <th>2018-08-31 22:00:00</th>\n",
       "      <td>0.338268</td>\n",
       "      <td>8</td>\n",
       "      <td>31</td>\n",
       "      <td>4</td>\n",
       "      <td>22</td>\n",
       "      <td>5.068904</td>\n",
       "      <td>0.031952</td>\n",
       "      <td>0.124298</td>\n",
       "      <td>-0.420064</td>\n",
       "      <td>-0.047179</td>\n",
       "      <td>0.096694</td>\n",
       "      <td>0.529614</td>\n",
       "      <td>0.052552</td>\n",
       "    </tr>\n",
       "    <tr>\n",
       "      <th>2018-08-31 23:00:00</th>\n",
       "      <td>-0.084162</td>\n",
       "      <td>8</td>\n",
       "      <td>31</td>\n",
       "      <td>4</td>\n",
       "      <td>23</td>\n",
       "      <td>5.407172</td>\n",
       "      <td>0.338268</td>\n",
       "      <td>0.031952</td>\n",
       "      <td>0.124298</td>\n",
       "      <td>-0.420064</td>\n",
       "      <td>-0.047179</td>\n",
       "      <td>0.096694</td>\n",
       "      <td>0.020661</td>\n",
       "    </tr>\n",
       "  </tbody>\n",
       "</table>\n",
       "<p>4416 rows × 13 columns</p>\n",
       "</div>"
      ],
      "text/plain": [
       "                     num_orders  month  day  dayofweek  hour     shift  \\\n",
       "datetime                                                                 \n",
       "2018-03-01 00:00:00         NaN      3    1          3     0       NaN   \n",
       "2018-03-01 01:00:00   -0.377630      3    1          3     1  4.820282   \n",
       "2018-03-01 02:00:00   -0.179971      3    1          3     2  4.442651   \n",
       "2018-03-01 03:00:00   -0.073025      3    1          3     3  4.262680   \n",
       "2018-03-01 04:00:00   -0.428455      3    1          3     4  4.189655   \n",
       "...                         ...    ...  ...        ...   ...       ...   \n",
       "2018-08-31 19:00:00   -0.420064      8   31          4    19  5.332719   \n",
       "2018-08-31 20:00:00    0.124298      8   31          4    20  4.912655   \n",
       "2018-08-31 21:00:00    0.031952      8   31          4    21  5.036953   \n",
       "2018-08-31 22:00:00    0.338268      8   31          4    22  5.068904   \n",
       "2018-08-31 23:00:00   -0.084162      8   31          4    23  5.407172   \n",
       "\n",
       "                        lag_1     lag_2     lag_3     lag_4     lag_5  \\\n",
       "datetime                                                                \n",
       "2018-03-01 00:00:00       NaN       NaN       NaN       NaN       NaN   \n",
       "2018-03-01 01:00:00       NaN       NaN       NaN       NaN       NaN   \n",
       "2018-03-01 02:00:00 -0.377630       NaN       NaN       NaN       NaN   \n",
       "2018-03-01 03:00:00 -0.179971 -0.377630       NaN       NaN       NaN   \n",
       "2018-03-01 04:00:00 -0.073025 -0.179971 -0.377630       NaN       NaN   \n",
       "...                       ...       ...       ...       ...       ...   \n",
       "2018-08-31 19:00:00 -0.047179  0.096694  0.529614 -0.136759 -0.221639   \n",
       "2018-08-31 20:00:00 -0.420064 -0.047179  0.096694  0.529614 -0.136759   \n",
       "2018-08-31 21:00:00  0.124298 -0.420064 -0.047179  0.096694  0.529614   \n",
       "2018-08-31 22:00:00  0.031952  0.124298 -0.420064 -0.047179  0.096694   \n",
       "2018-08-31 23:00:00  0.338268  0.031952  0.124298 -0.420064 -0.047179   \n",
       "\n",
       "                        lag_6  rolling_mean  \n",
       "datetime                                     \n",
       "2018-03-01 00:00:00       NaN           NaN  \n",
       "2018-03-01 01:00:00       NaN           NaN  \n",
       "2018-03-01 02:00:00       NaN           NaN  \n",
       "2018-03-01 03:00:00       NaN           NaN  \n",
       "2018-03-01 04:00:00       NaN           NaN  \n",
       "...                       ...           ...  \n",
       "2018-08-31 19:00:00  0.199333      0.070011  \n",
       "2018-08-31 20:00:00 -0.221639     -0.033222  \n",
       "2018-08-31 21:00:00 -0.136759      0.024434  \n",
       "2018-08-31 22:00:00  0.529614      0.052552  \n",
       "2018-08-31 23:00:00  0.096694      0.020661  \n",
       "\n",
       "[4416 rows x 13 columns]"
      ]
     },
     "execution_count": 59,
     "metadata": {},
     "output_type": "execute_result"
    }
   ],
   "source": [
    "# Use the 'make_features' function to generate the data that will be used for training\n",
    "logdata = make_features(df, 6, 6)\n",
    "logdata\n"
   ]
  },
  {
   "cell_type": "markdown",
   "metadata": {},
   "source": [
    "## Training"
   ]
  },
  {
   "cell_type": "code",
   "execution_count": 60,
   "metadata": {},
   "outputs": [],
   "source": [
    "# Split the data into a training and test set for the Linear Regression model\n",
    "train, test = train_test_split(logdata, shuffle = False, test_size = 0.1)\n",
    "train = train.replace([np.inf, -np.inf], np.nan).dropna()\n",
    "\n",
    "target_train = train['num_orders']\n",
    "target_test = test['num_orders']\n",
    "shift_train = train['shift']\n",
    "shift_test = test['shift']\n",
    "features_train = train.drop(['num_orders','shift'], axis=1)\n",
    "features_test = test.drop(['num_orders','shift'], axis=1)\n"
   ]
  },
  {
   "cell_type": "code",
   "execution_count": 61,
   "metadata": {},
   "outputs": [
    {
     "name": "stdout",
     "output_type": "stream",
     "text": [
      "RMSE for the training set: 32.73580767316167\n",
      "RMSE for the test set:  54.20296828979486\n"
     ]
    }
   ],
   "source": [
    "# Train and test the Linear Regression model\n",
    "lr = LinearRegression()\n",
    "lr.fit(features_train, target_train)\n",
    "lr_train_pred = lr.predict(features_train)\n",
    "lr_test_pred = lr.predict(features_test)\n",
    "\n",
    "lr_train_pred_final = np.exp(lr_train_pred + shift_train)\n",
    "lr_test_pred_final = np.exp(lr_test_pred + shift_test)\n",
    "target_train_final = np.exp(target_train + shift_train)\n",
    "target_test_final = np.exp(target_test + shift_test)\n",
    "\n",
    "print(\"RMSE for the training set:\", (mean_squared_error(lr_train_pred_final, target_train_final)) ** 0.5)\n",
    "print(\"RMSE for the test set: \", (mean_squared_error(lr_test_pred_final, target_test_final)) ** 0.5)\n"
   ]
  },
  {
   "cell_type": "code",
   "execution_count": 62,
   "metadata": {},
   "outputs": [],
   "source": [
    "# Split the data into train, valid, and test data for the remaining models\n",
    "train, test = train_test_split(logdata, shuffle = False, test_size = 0.1)\n",
    "train = train.replace([np.inf, -np.inf], np.nan).dropna()\n",
    "\n",
    "target_test = test['num_orders']\n",
    "shift_test = test['shift']\n",
    "features_test = test.drop(['num_orders', 'shift'], axis = 1)\n",
    "\n",
    "train, valid = train_test_split(train, shuffle = False, test_size = 0.2)\n",
    "\n",
    "target_train = train['num_orders']\n",
    "target_valid = valid['num_orders']\n",
    "shift_train = train['shift']\n",
    "shift_valid = valid['shift']\n",
    "features_train = train.drop(['num_orders','shift'], axis = 1)\n",
    "features_valid = valid.drop(['num_orders', 'shift'], axis = 1)\n"
   ]
  },
  {
   "cell_type": "code",
   "execution_count": 63,
   "metadata": {},
   "outputs": [
    {
     "name": "stdout",
     "output_type": "stream",
     "text": [
      "RMSE of the best decision tree model on the validation set (max_depth = 6): 0.3505731559728294\n"
     ]
    }
   ],
   "source": [
    "# Train and test the Decision Tree Regression model\n",
    "\n",
    "# Create a for loop to tune the model's max depth and identify the depth that produces the lowest MAE value\n",
    "best_score = float(\"inf\")\n",
    "best_depth = 0\n",
    "\n",
    "for depth in range(1, 11):\n",
    "    dt = DecisionTreeRegressor(random_state = 12345, max_depth = depth) # create a model with the given depth\n",
    "    dt.fit(features_train, target_train) # train the model using the training set\n",
    "    dt_pred_valid = dt.predict(features_valid) # get predicted values from the model based on validation set\n",
    "    score = (mean_squared_error(target_valid, dt_pred_valid)) ** 0.5 # calculate the RMSE value based on the validation set\n",
    "    if score < best_score: \n",
    "        best_score = score # save best RMSE value on validation set\n",
    "        best_depth = depth # save depth corresponding to best RMSE value\n",
    "        \n",
    "print(f'RMSE of the best decision tree model on the validation set (max_depth = {best_depth}): {best_score}')\n"
   ]
  },
  {
   "cell_type": "code",
   "execution_count": 64,
   "metadata": {},
   "outputs": [
    {
     "name": "stdout",
     "output_type": "stream",
     "text": [
      "RMSE of the best random forest model on the validation set (n_estimators = 64): 32.40917347506196\n"
     ]
    }
   ],
   "source": [
    "# Train and test the Random Forest Regression model\n",
    "\n",
    "# Create a for loop to tune the model's number of estimators and identify the number that produces the lowest RMSE value\n",
    "best_score = float(\"inf\")\n",
    "best_est = 0\n",
    "for est in range(50, 71): # choose hyperparameter range\n",
    "    rf = RandomForestRegressor(random_state = 12345, n_estimators = est) # set number of trees\n",
    "    rf.fit(features_train, target_train) # train model on training set\n",
    "    rf_pred_valid = rf.predict(features_valid) # get predicted values from the model based on validation set\n",
    "    rf_pred_valid_final = np.exp(rf_pred_valid + shift_valid)\n",
    "    target_valid_final = np.exp(target_valid + shift_valid)\n",
    "    score = (mean_squared_error(target_valid_final, rf_pred_valid_final)) ** 0.5 # calculate RMSE value on validation set\n",
    "    if score < best_score:\n",
    "        best_score = score # save best accuracy score on validation set\n",
    "        best_est = est # save number of estimators corresponding to best RMSE value\n",
    "\n",
    "print(f'RMSE of the best random forest model on the validation set (n_estimators = {best_est}): {best_score}')\n"
   ]
  },
  {
   "cell_type": "markdown",
   "metadata": {},
   "source": [
    "## Testing"
   ]
  },
  {
   "cell_type": "code",
   "execution_count": 65,
   "metadata": {},
   "outputs": [
    {
     "name": "stdout",
     "output_type": "stream",
     "text": [
      "RMSE for the test set:  45.153436829509914\n"
     ]
    }
   ],
   "source": [
    "# Find the test set RMSE values for the Decision Tree model\n",
    "dt = DecisionTreeRegressor(random_state = 12345, max_depth = best_depth) # create a model with the given depth\n",
    "dt.fit(features_train.append(features_valid, ignore_index=True), target_train.append(target_valid, ignore_index=True))\n",
    "dt_test_pred = dt.predict(features_test)\n",
    "\n",
    "dt_test_pred_final = np.exp(dt_test_pred + shift_test)\n",
    "target_test_final = np.exp(target_test + shift_test)\n",
    "\n",
    "print(\"RMSE for the test set: \", mean_squared_error(dt_test_pred_final, target_test_final) ** 0.5)\n"
   ]
  },
  {
   "cell_type": "code",
   "execution_count": 66,
   "metadata": {},
   "outputs": [
    {
     "name": "stdout",
     "output_type": "stream",
     "text": [
      "RMSE for the test set:  40.35855963910251\n"
     ]
    }
   ],
   "source": [
    "# Find the test set RMSE values for the Random Forest model\n",
    "rf = RandomForestRegressor(random_state = 12345, n_estimators = best_est) # set number of trees\n",
    "rf.fit(features_train.append(features_valid, ignore_index=True), target_train.append(target_valid, ignore_index=True))\n",
    "rf_test_pred = rf.predict(features_test)\n",
    "\n",
    "rf_test_pred_final = np.exp(rf_test_pred + shift_test)\n",
    "\n",
    "print(\"RMSE for the test set: \", mean_squared_error(rf_test_pred_final, target_test_final) ** 0.5)\n"
   ]
  },
  {
   "cell_type": "markdown",
   "metadata": {},
   "source": [
    "Based on the data and analysis above, the following are the test set RMSEs that were calculated for the three models that were trained and tested:\n",
    "\n",
    "1) Linear Regression: 54.20296828979486\n",
    "\n",
    "2) Decision Tree: 45.153436829509914\n",
    "\n",
    "3) Random Forest: 40.35855963910251\n",
    "\n",
    "\n",
    "These results indicate that the **Random Forest Model** seems to best predict the amount of taxi orders for the next hour."
   ]
  },
  {
   "cell_type": "markdown",
   "metadata": {},
   "source": [
    "# Review checklist"
   ]
  },
  {
   "cell_type": "markdown",
   "metadata": {},
   "source": [
    "- [x]  Jupyter Notebook is open\n",
    "- [X]  The code is error-free\n",
    "- [X]  The cells with the code have been arranged in order of execution\n",
    "- [X]  The data has been downloaded and prepared\n",
    "- [X]  The data has been analyzed\n",
    "- [X]  The model has been trained and hyperparameters have been selected\n",
    "- [X]  The models have been evaluated. Conclusion has been provided\n",
    "- [X] *RMSE* for the test set is not more than 48"
   ]
  },
  {
   "cell_type": "code",
   "execution_count": null,
   "metadata": {},
   "outputs": [],
   "source": []
  }
 ],
 "metadata": {
  "ExecuteTimeLog": [
   {
    "duration": 1547,
    "start_time": "2022-07-14T14:08:36.219Z"
   },
   {
    "duration": 112,
    "start_time": "2022-07-14T14:08:39.828Z"
   },
   {
    "duration": 24,
    "start_time": "2022-07-14T14:09:00.726Z"
   },
   {
    "duration": 8,
    "start_time": "2022-07-14T14:09:27.637Z"
   },
   {
    "duration": 48,
    "start_time": "2022-07-14T14:11:08.568Z"
   },
   {
    "duration": 21,
    "start_time": "2022-07-14T14:11:13.785Z"
   },
   {
    "duration": 9,
    "start_time": "2022-07-14T14:11:28.329Z"
   },
   {
    "duration": 7,
    "start_time": "2022-07-14T14:13:29.109Z"
   },
   {
    "duration": 9,
    "start_time": "2022-07-14T14:13:33.673Z"
   },
   {
    "duration": 4,
    "start_time": "2022-07-14T14:13:47.005Z"
   },
   {
    "duration": 126,
    "start_time": "2022-07-14T14:13:51.240Z"
   },
   {
    "duration": 14,
    "start_time": "2022-07-14T14:14:11.049Z"
   },
   {
    "duration": 13,
    "start_time": "2022-07-14T14:14:43.995Z"
   },
   {
    "duration": 1568,
    "start_time": "2022-07-14T14:14:58.799Z"
   },
   {
    "duration": 49,
    "start_time": "2022-07-14T14:15:00.369Z"
   },
   {
    "duration": 24,
    "start_time": "2022-07-14T14:15:00.420Z"
   },
   {
    "duration": 29,
    "start_time": "2022-07-14T14:15:00.446Z"
   },
   {
    "duration": 47,
    "start_time": "2022-07-14T14:15:00.477Z"
   },
   {
    "duration": 11,
    "start_time": "2022-07-14T14:15:36.583Z"
   },
   {
    "duration": 12,
    "start_time": "2022-07-14T14:15:55.848Z"
   },
   {
    "duration": 17,
    "start_time": "2022-07-14T14:16:01.669Z"
   },
   {
    "duration": 1469,
    "start_time": "2022-07-14T14:16:16.571Z"
   },
   {
    "duration": 50,
    "start_time": "2022-07-14T14:16:18.043Z"
   },
   {
    "duration": 26,
    "start_time": "2022-07-14T14:16:18.095Z"
   },
   {
    "duration": 9,
    "start_time": "2022-07-14T14:16:18.123Z"
   },
   {
    "duration": 37,
    "start_time": "2022-07-14T14:16:18.134Z"
   },
   {
    "duration": 1515,
    "start_time": "2022-07-17T03:19:13.769Z"
   },
   {
    "duration": 108,
    "start_time": "2022-07-17T03:19:15.286Z"
   },
   {
    "duration": 21,
    "start_time": "2022-07-17T03:19:15.395Z"
   },
   {
    "duration": 7,
    "start_time": "2022-07-17T03:19:15.418Z"
   },
   {
    "duration": 13,
    "start_time": "2022-07-17T03:19:15.427Z"
   },
   {
    "duration": 3,
    "start_time": "2022-07-17T03:19:15.442Z"
   },
   {
    "duration": 227,
    "start_time": "2022-07-17T03:20:32.041Z"
   },
   {
    "duration": 9,
    "start_time": "2022-07-18T03:49:04.856Z"
   },
   {
    "duration": 42,
    "start_time": "2022-07-18T03:49:49.293Z"
   },
   {
    "duration": 1519,
    "start_time": "2022-07-18T03:50:00.097Z"
   },
   {
    "duration": 111,
    "start_time": "2022-07-18T03:50:01.619Z"
   },
   {
    "duration": 23,
    "start_time": "2022-07-18T03:50:01.732Z"
   },
   {
    "duration": 16,
    "start_time": "2022-07-18T03:50:01.756Z"
   },
   {
    "duration": 33,
    "start_time": "2022-07-18T03:50:01.775Z"
   },
   {
    "duration": 4,
    "start_time": "2022-07-18T03:50:01.810Z"
   },
   {
    "duration": 236,
    "start_time": "2022-07-18T03:50:01.816Z"
   },
   {
    "duration": 4,
    "start_time": "2022-07-18T03:50:02.054Z"
   },
   {
    "duration": 338,
    "start_time": "2022-07-18T03:50:02.060Z"
   },
   {
    "duration": 4,
    "start_time": "2022-07-18T03:50:27.668Z"
   },
   {
    "duration": 183,
    "start_time": "2022-07-18T03:50:30.474Z"
   },
   {
    "duration": 4,
    "start_time": "2022-07-18T03:50:40.675Z"
   },
   {
    "duration": 175,
    "start_time": "2022-07-18T03:50:42.574Z"
   },
   {
    "duration": 162,
    "start_time": "2022-07-18T03:57:39.030Z"
   },
   {
    "duration": 201,
    "start_time": "2022-07-18T04:07:18.608Z"
   },
   {
    "duration": 1574,
    "start_time": "2022-07-18T17:10:32.433Z"
   },
   {
    "duration": 114,
    "start_time": "2022-07-18T17:10:34.009Z"
   },
   {
    "duration": 23,
    "start_time": "2022-07-18T17:10:34.124Z"
   },
   {
    "duration": 8,
    "start_time": "2022-07-18T17:10:34.149Z"
   },
   {
    "duration": 20,
    "start_time": "2022-07-18T17:10:34.159Z"
   },
   {
    "duration": 3,
    "start_time": "2022-07-18T17:10:34.181Z"
   },
   {
    "duration": 255,
    "start_time": "2022-07-18T17:10:34.186Z"
   },
   {
    "duration": 4,
    "start_time": "2022-07-18T17:10:34.443Z"
   },
   {
    "duration": 339,
    "start_time": "2022-07-18T17:10:34.448Z"
   },
   {
    "duration": 169,
    "start_time": "2022-07-18T17:10:34.789Z"
   },
   {
    "duration": 220,
    "start_time": "2022-07-18T17:10:34.960Z"
   },
   {
    "duration": 57,
    "start_time": "2022-07-18T17:10:35.182Z"
   },
   {
    "duration": 1361,
    "start_time": "2022-07-18T18:55:06.763Z"
   },
   {
    "duration": 49,
    "start_time": "2022-07-18T18:55:08.126Z"
   },
   {
    "duration": 26,
    "start_time": "2022-07-18T18:55:08.176Z"
   },
   {
    "duration": 9,
    "start_time": "2022-07-18T18:55:08.203Z"
   },
   {
    "duration": 17,
    "start_time": "2022-07-18T18:55:08.214Z"
   },
   {
    "duration": 4,
    "start_time": "2022-07-18T18:55:08.232Z"
   },
   {
    "duration": 262,
    "start_time": "2022-07-18T18:55:08.237Z"
   },
   {
    "duration": 4,
    "start_time": "2022-07-18T18:55:08.501Z"
   },
   {
    "duration": 376,
    "start_time": "2022-07-18T18:55:08.507Z"
   },
   {
    "duration": 238,
    "start_time": "2022-07-18T18:55:08.885Z"
   },
   {
    "duration": 252,
    "start_time": "2022-07-18T18:55:09.125Z"
   },
   {
    "duration": 5,
    "start_time": "2022-07-18T18:55:09.379Z"
   },
   {
    "duration": 26,
    "start_time": "2022-07-18T18:58:21.615Z"
   },
   {
    "duration": 12,
    "start_time": "2022-07-18T20:06:26.945Z"
   },
   {
    "duration": 292,
    "start_time": "2022-07-18T20:06:28.234Z"
   },
   {
    "duration": 4,
    "start_time": "2022-07-18T20:07:35.921Z"
   },
   {
    "duration": 68,
    "start_time": "2022-07-18T20:07:43.158Z"
   },
   {
    "duration": 1644,
    "start_time": "2022-07-19T15:05:50.984Z"
   },
   {
    "duration": 140,
    "start_time": "2022-07-19T15:05:52.631Z"
   },
   {
    "duration": 25,
    "start_time": "2022-07-19T15:05:52.773Z"
   },
   {
    "duration": 10,
    "start_time": "2022-07-19T15:05:52.800Z"
   },
   {
    "duration": 17,
    "start_time": "2022-07-19T15:05:52.811Z"
   },
   {
    "duration": 4,
    "start_time": "2022-07-19T15:05:52.830Z"
   },
   {
    "duration": 272,
    "start_time": "2022-07-19T15:05:52.835Z"
   },
   {
    "duration": 4,
    "start_time": "2022-07-19T15:05:53.110Z"
   },
   {
    "duration": 285,
    "start_time": "2022-07-19T15:05:53.116Z"
   },
   {
    "duration": 252,
    "start_time": "2022-07-19T15:05:53.403Z"
   },
   {
    "duration": 263,
    "start_time": "2022-07-19T15:05:53.658Z"
   },
   {
    "duration": 4,
    "start_time": "2022-07-19T15:05:53.923Z"
   },
   {
    "duration": 34,
    "start_time": "2022-07-19T15:05:53.928Z"
   },
   {
    "duration": 1449,
    "start_time": "2022-07-19T15:05:59.157Z"
   },
   {
    "duration": 18,
    "start_time": "2022-07-19T15:06:09.749Z"
   },
   {
    "duration": 15,
    "start_time": "2022-07-19T15:06:31.455Z"
   },
   {
    "duration": 5,
    "start_time": "2022-07-19T15:06:53.335Z"
   },
   {
    "duration": 6,
    "start_time": "2022-07-19T15:07:01.913Z"
   },
   {
    "duration": 12,
    "start_time": "2022-07-19T15:17:18.665Z"
   },
   {
    "duration": 1445,
    "start_time": "2022-07-19T15:18:14.029Z"
   },
   {
    "duration": 46,
    "start_time": "2022-07-19T15:18:15.476Z"
   },
   {
    "duration": 24,
    "start_time": "2022-07-19T15:18:15.523Z"
   },
   {
    "duration": 9,
    "start_time": "2022-07-19T15:18:15.549Z"
   },
   {
    "duration": 39,
    "start_time": "2022-07-19T15:18:15.561Z"
   },
   {
    "duration": 6,
    "start_time": "2022-07-19T15:18:15.603Z"
   },
   {
    "duration": 255,
    "start_time": "2022-07-19T15:18:15.610Z"
   },
   {
    "duration": 5,
    "start_time": "2022-07-19T15:18:15.866Z"
   },
   {
    "duration": 284,
    "start_time": "2022-07-19T15:18:15.873Z"
   },
   {
    "duration": 243,
    "start_time": "2022-07-19T15:18:16.159Z"
   },
   {
    "duration": 229,
    "start_time": "2022-07-19T15:18:16.403Z"
   },
   {
    "duration": 15,
    "start_time": "2022-07-19T15:18:16.634Z"
   },
   {
    "duration": 34,
    "start_time": "2022-07-19T15:18:16.651Z"
   },
   {
    "duration": 16,
    "start_time": "2022-07-19T15:18:16.689Z"
   },
   {
    "duration": 111,
    "start_time": "2022-07-19T15:18:20.172Z"
   },
   {
    "duration": 5,
    "start_time": "2022-07-19T15:18:58.764Z"
   },
   {
    "duration": 18,
    "start_time": "2022-07-19T15:26:15.780Z"
   },
   {
    "duration": 12,
    "start_time": "2022-07-19T15:28:56.424Z"
   },
   {
    "duration": 12,
    "start_time": "2022-07-19T15:29:48.194Z"
   },
   {
    "duration": 18,
    "start_time": "2022-07-19T15:29:49.812Z"
   },
   {
    "duration": 13,
    "start_time": "2022-07-19T15:33:06.159Z"
   },
   {
    "duration": 16,
    "start_time": "2022-07-19T15:40:47.634Z"
   },
   {
    "duration": 18,
    "start_time": "2022-07-19T15:41:18.819Z"
   },
   {
    "duration": 13,
    "start_time": "2022-07-19T15:41:31.806Z"
   },
   {
    "duration": 18,
    "start_time": "2022-07-19T15:41:34.386Z"
   },
   {
    "duration": 1397,
    "start_time": "2022-07-19T15:42:15.627Z"
   },
   {
    "duration": 45,
    "start_time": "2022-07-19T15:42:17.026Z"
   },
   {
    "duration": 24,
    "start_time": "2022-07-19T15:42:17.073Z"
   },
   {
    "duration": 10,
    "start_time": "2022-07-19T15:42:17.099Z"
   },
   {
    "duration": 17,
    "start_time": "2022-07-19T15:42:17.112Z"
   },
   {
    "duration": 5,
    "start_time": "2022-07-19T15:42:17.131Z"
   },
   {
    "duration": 266,
    "start_time": "2022-07-19T15:42:17.137Z"
   },
   {
    "duration": 4,
    "start_time": "2022-07-19T15:42:17.405Z"
   },
   {
    "duration": 298,
    "start_time": "2022-07-19T15:42:17.410Z"
   },
   {
    "duration": 252,
    "start_time": "2022-07-19T15:42:17.710Z"
   },
   {
    "duration": 254,
    "start_time": "2022-07-19T15:42:17.964Z"
   },
   {
    "duration": 5,
    "start_time": "2022-07-19T15:42:18.219Z"
   },
   {
    "duration": 31,
    "start_time": "2022-07-19T15:42:18.225Z"
   },
   {
    "duration": 12,
    "start_time": "2022-07-19T15:42:48.510Z"
   },
   {
    "duration": 108,
    "start_time": "2022-07-19T15:42:49.436Z"
   },
   {
    "duration": 28,
    "start_time": "2022-07-19T15:43:10.872Z"
   },
   {
    "duration": 151,
    "start_time": "2022-07-19T15:45:28.149Z"
   },
   {
    "duration": 29,
    "start_time": "2022-07-19T15:45:44.070Z"
   },
   {
    "duration": 18,
    "start_time": "2022-07-19T15:46:19.591Z"
   },
   {
    "duration": 16,
    "start_time": "2022-07-19T15:47:04.748Z"
   },
   {
    "duration": 174,
    "start_time": "2022-07-19T15:48:09.943Z"
   },
   {
    "duration": 81,
    "start_time": "2022-07-19T15:48:20.558Z"
   },
   {
    "duration": 19,
    "start_time": "2022-07-19T15:50:47.903Z"
   },
   {
    "duration": 2042,
    "start_time": "2022-07-19T15:50:57.557Z"
   },
   {
    "duration": 4315,
    "start_time": "2022-07-19T15:51:10.831Z"
   },
   {
    "duration": 4603,
    "start_time": "2022-07-19T15:52:24.318Z"
   },
   {
    "duration": 9,
    "start_time": "2022-07-19T15:53:27.299Z"
   },
   {
    "duration": 21,
    "start_time": "2022-07-19T15:53:40.361Z"
   },
   {
    "duration": 22,
    "start_time": "2022-07-19T15:53:57.614Z"
   },
   {
    "duration": 10,
    "start_time": "2022-07-19T15:54:05.992Z"
   },
   {
    "duration": 12,
    "start_time": "2022-07-19T15:56:07.132Z"
   },
   {
    "duration": 268,
    "start_time": "2022-07-19T15:57:58.127Z"
   },
   {
    "duration": 300,
    "start_time": "2022-07-19T15:58:13.782Z"
   },
   {
    "duration": 12221,
    "start_time": "2022-07-19T16:00:33.921Z"
   },
   {
    "duration": 46918,
    "start_time": "2022-07-19T16:00:57.690Z"
   },
   {
    "duration": 871,
    "start_time": "2022-07-19T16:01:55.883Z"
   },
   {
    "duration": 950,
    "start_time": "2022-07-19T16:02:08.073Z"
   },
   {
    "duration": 901,
    "start_time": "2022-07-19T16:02:19.977Z"
   },
   {
    "duration": 12016,
    "start_time": "2022-07-19T16:02:30.207Z"
   },
   {
    "duration": 4405,
    "start_time": "2022-07-19T16:02:53.687Z"
   },
   {
    "duration": 264,
    "start_time": "2022-07-19T16:03:04.016Z"
   },
   {
    "duration": 722,
    "start_time": "2022-07-19T16:03:11.704Z"
   },
   {
    "duration": 235,
    "start_time": "2022-07-19T16:03:19.522Z"
   },
   {
    "duration": 6,
    "start_time": "2022-07-19T17:44:03.584Z"
   },
   {
    "duration": 4,
    "start_time": "2022-07-19T17:44:10.301Z"
   },
   {
    "duration": 5,
    "start_time": "2022-07-19T17:44:27.875Z"
   },
   {
    "duration": 4,
    "start_time": "2022-07-19T17:44:35.772Z"
   },
   {
    "duration": 6,
    "start_time": "2022-07-19T17:45:20.798Z"
   },
   {
    "duration": 5,
    "start_time": "2022-07-19T17:47:02.636Z"
   },
   {
    "duration": 9,
    "start_time": "2022-07-19T17:50:00.246Z"
   },
   {
    "duration": 59,
    "start_time": "2022-07-19T17:50:06.036Z"
   },
   {
    "duration": 1533,
    "start_time": "2022-07-19T17:50:21.016Z"
   },
   {
    "duration": 48,
    "start_time": "2022-07-19T17:50:22.551Z"
   },
   {
    "duration": 25,
    "start_time": "2022-07-19T17:50:22.601Z"
   },
   {
    "duration": 9,
    "start_time": "2022-07-19T17:50:22.628Z"
   },
   {
    "duration": 20,
    "start_time": "2022-07-19T17:50:22.639Z"
   },
   {
    "duration": 4,
    "start_time": "2022-07-19T17:50:22.661Z"
   },
   {
    "duration": 300,
    "start_time": "2022-07-19T17:50:22.667Z"
   },
   {
    "duration": 6,
    "start_time": "2022-07-19T17:50:22.969Z"
   },
   {
    "duration": 292,
    "start_time": "2022-07-19T17:50:22.977Z"
   },
   {
    "duration": 260,
    "start_time": "2022-07-19T17:50:23.271Z"
   },
   {
    "duration": 253,
    "start_time": "2022-07-19T17:50:23.533Z"
   },
   {
    "duration": 4,
    "start_time": "2022-07-19T17:50:40.904Z"
   },
   {
    "duration": 25,
    "start_time": "2022-07-19T17:50:49.805Z"
   },
   {
    "duration": 17,
    "start_time": "2022-07-19T17:50:58.391Z"
   },
   {
    "duration": 98,
    "start_time": "2022-07-19T17:51:00.006Z"
   },
   {
    "duration": 5,
    "start_time": "2022-07-19T17:51:07.428Z"
   },
   {
    "duration": 6,
    "start_time": "2022-07-19T17:51:11.591Z"
   },
   {
    "duration": 5,
    "start_time": "2022-07-19T17:51:14.229Z"
   },
   {
    "duration": 14,
    "start_time": "2022-07-19T17:51:15.490Z"
   },
   {
    "duration": 213,
    "start_time": "2022-07-19T17:51:17.102Z"
   },
   {
    "duration": 3978,
    "start_time": "2022-07-19T17:51:24.054Z"
   },
   {
    "duration": 17,
    "start_time": "2022-07-19T17:51:33.390Z"
   },
   {
    "duration": 19,
    "start_time": "2022-07-19T17:51:47.634Z"
   },
   {
    "duration": 505,
    "start_time": "2022-07-19T17:51:51.031Z"
   },
   {
    "duration": 6,
    "start_time": "2022-07-19T17:58:33.004Z"
   },
   {
    "duration": 25,
    "start_time": "2022-07-19T17:58:36.391Z"
   },
   {
    "duration": 4,
    "start_time": "2022-07-19T17:58:45.215Z"
   },
   {
    "duration": 22,
    "start_time": "2022-07-19T17:58:47.344Z"
   },
   {
    "duration": 29,
    "start_time": "2022-07-19T18:01:40.786Z"
   },
   {
    "duration": 13,
    "start_time": "2022-07-19T18:01:52.965Z"
   },
   {
    "duration": 20,
    "start_time": "2022-07-19T18:01:55.043Z"
   },
   {
    "duration": 5,
    "start_time": "2022-07-19T18:01:57.290Z"
   },
   {
    "duration": 4,
    "start_time": "2022-07-19T18:01:58.715Z"
   },
   {
    "duration": 4,
    "start_time": "2022-07-19T18:01:59.897Z"
   },
   {
    "duration": 15,
    "start_time": "2022-07-19T18:02:00.871Z"
   },
   {
    "duration": 318,
    "start_time": "2022-07-19T18:02:02.388Z"
   },
   {
    "duration": 6552,
    "start_time": "2022-07-19T18:02:04.682Z"
   },
   {
    "duration": 13,
    "start_time": "2022-07-19T18:02:18.211Z"
   },
   {
    "duration": 17,
    "start_time": "2022-07-19T18:02:41.723Z"
   },
   {
    "duration": 609,
    "start_time": "2022-07-19T18:02:44.973Z"
   },
   {
    "duration": 29,
    "start_time": "2022-07-19T18:03:06.998Z"
   },
   {
    "duration": 12,
    "start_time": "2022-07-19T18:03:11.370Z"
   },
   {
    "duration": 114,
    "start_time": "2022-07-19T18:03:11.384Z"
   },
   {
    "duration": 105,
    "start_time": "2022-07-19T18:03:11.501Z"
   },
   {
    "duration": 8,
    "start_time": "2022-07-19T18:03:11.608Z"
   },
   {
    "duration": 14,
    "start_time": "2022-07-19T18:03:11.618Z"
   },
   {
    "duration": 14,
    "start_time": "2022-07-19T18:03:11.633Z"
   },
   {
    "duration": 333,
    "start_time": "2022-07-19T18:03:11.649Z"
   },
   {
    "duration": 6374,
    "start_time": "2022-07-19T18:03:11.983Z"
   },
   {
    "duration": 14,
    "start_time": "2022-07-19T18:03:18.359Z"
   },
   {
    "duration": 421,
    "start_time": "2022-07-19T18:03:18.375Z"
   },
   {
    "duration": 27,
    "start_time": "2022-07-19T18:03:37.748Z"
   },
   {
    "duration": 1397,
    "start_time": "2022-07-19T18:03:53.232Z"
   },
   {
    "duration": 47,
    "start_time": "2022-07-19T18:03:54.631Z"
   },
   {
    "duration": 24,
    "start_time": "2022-07-19T18:03:54.679Z"
   },
   {
    "duration": 8,
    "start_time": "2022-07-19T18:03:54.705Z"
   },
   {
    "duration": 18,
    "start_time": "2022-07-19T18:03:54.714Z"
   },
   {
    "duration": 4,
    "start_time": "2022-07-19T18:03:54.733Z"
   },
   {
    "duration": 240,
    "start_time": "2022-07-19T18:03:54.738Z"
   },
   {
    "duration": 4,
    "start_time": "2022-07-19T18:03:54.980Z"
   },
   {
    "duration": 283,
    "start_time": "2022-07-19T18:03:54.985Z"
   },
   {
    "duration": 238,
    "start_time": "2022-07-19T18:03:55.270Z"
   },
   {
    "duration": 233,
    "start_time": "2022-07-19T18:03:55.510Z"
   },
   {
    "duration": 4,
    "start_time": "2022-07-19T18:03:55.745Z"
   },
   {
    "duration": 37,
    "start_time": "2022-07-19T18:03:55.750Z"
   },
   {
    "duration": 19,
    "start_time": "2022-07-19T18:03:55.788Z"
   },
   {
    "duration": 92,
    "start_time": "2022-07-19T18:03:55.809Z"
   },
   {
    "duration": 97,
    "start_time": "2022-07-19T18:03:55.903Z"
   },
   {
    "duration": 7,
    "start_time": "2022-07-19T18:03:56.002Z"
   },
   {
    "duration": 7,
    "start_time": "2022-07-19T18:03:56.010Z"
   },
   {
    "duration": 15,
    "start_time": "2022-07-19T18:03:56.018Z"
   },
   {
    "duration": 342,
    "start_time": "2022-07-19T18:03:56.035Z"
   },
   {
    "duration": 6630,
    "start_time": "2022-07-19T18:03:56.379Z"
   },
   {
    "duration": 14,
    "start_time": "2022-07-19T18:04:03.011Z"
   },
   {
    "duration": 367,
    "start_time": "2022-07-19T18:04:03.027Z"
   },
   {
    "duration": 1445,
    "start_time": "2022-07-19T18:04:20.840Z"
   },
   {
    "duration": 47,
    "start_time": "2022-07-19T18:04:22.287Z"
   },
   {
    "duration": 23,
    "start_time": "2022-07-19T18:04:22.336Z"
   },
   {
    "duration": 8,
    "start_time": "2022-07-19T18:04:22.361Z"
   },
   {
    "duration": 16,
    "start_time": "2022-07-19T18:04:22.371Z"
   },
   {
    "duration": 10,
    "start_time": "2022-07-19T18:04:22.389Z"
   },
   {
    "duration": 260,
    "start_time": "2022-07-19T18:04:22.401Z"
   },
   {
    "duration": 4,
    "start_time": "2022-07-19T18:04:22.663Z"
   },
   {
    "duration": 281,
    "start_time": "2022-07-19T18:04:22.669Z"
   },
   {
    "duration": 247,
    "start_time": "2022-07-19T18:04:22.952Z"
   },
   {
    "duration": 257,
    "start_time": "2022-07-19T18:04:23.201Z"
   },
   {
    "duration": 4,
    "start_time": "2022-07-19T18:04:23.460Z"
   },
   {
    "duration": 49,
    "start_time": "2022-07-19T18:04:23.466Z"
   },
   {
    "duration": 14,
    "start_time": "2022-07-19T18:04:23.518Z"
   },
   {
    "duration": 69,
    "start_time": "2022-07-19T18:04:23.534Z"
   },
   {
    "duration": 97,
    "start_time": "2022-07-19T18:04:23.606Z"
   },
   {
    "duration": 11,
    "start_time": "2022-07-19T18:04:23.704Z"
   },
   {
    "duration": 10,
    "start_time": "2022-07-19T18:04:23.717Z"
   },
   {
    "duration": 17,
    "start_time": "2022-07-19T18:04:23.729Z"
   },
   {
    "duration": 350,
    "start_time": "2022-07-19T18:04:23.748Z"
   },
   {
    "duration": 6426,
    "start_time": "2022-07-19T18:04:24.100Z"
   },
   {
    "duration": 14,
    "start_time": "2022-07-19T18:04:30.527Z"
   },
   {
    "duration": 380,
    "start_time": "2022-07-19T18:04:30.543Z"
   },
   {
    "duration": 14,
    "start_time": "2022-07-19T18:08:08.088Z"
   },
   {
    "duration": 404,
    "start_time": "2022-07-19T18:08:42.887Z"
   },
   {
    "duration": 22,
    "start_time": "2022-07-19T18:09:16.856Z"
   },
   {
    "duration": 21,
    "start_time": "2022-07-19T18:11:18.544Z"
   },
   {
    "duration": 14,
    "start_time": "2022-07-19T18:11:59.824Z"
   },
   {
    "duration": 409,
    "start_time": "2022-07-19T18:12:00.859Z"
   },
   {
    "duration": 19,
    "start_time": "2022-07-19T18:12:08.441Z"
   },
   {
    "duration": 15,
    "start_time": "2022-07-19T18:12:34.129Z"
   },
   {
    "duration": 442,
    "start_time": "2022-07-19T18:12:35.650Z"
   },
   {
    "duration": 25,
    "start_time": "2022-07-19T18:12:41.449Z"
   },
   {
    "duration": 14,
    "start_time": "2022-07-19T18:12:53.412Z"
   },
   {
    "duration": 411,
    "start_time": "2022-07-19T18:13:01.496Z"
   },
   {
    "duration": 21,
    "start_time": "2022-07-19T18:13:09.766Z"
   },
   {
    "duration": 8533,
    "start_time": "2022-07-19T18:13:26.692Z"
   },
   {
    "duration": 644,
    "start_time": "2022-07-19T18:14:04.837Z"
   },
   {
    "duration": 16,
    "start_time": "2022-07-19T18:15:01.306Z"
   },
   {
    "duration": 711,
    "start_time": "2022-07-19T18:15:11.723Z"
   },
   {
    "duration": 13,
    "start_time": "2022-07-19T18:16:17.781Z"
   },
   {
    "duration": 160,
    "start_time": "2022-07-19T18:16:19.140Z"
   },
   {
    "duration": 12,
    "start_time": "2022-07-19T18:16:31.408Z"
   },
   {
    "duration": 218,
    "start_time": "2022-07-19T18:16:32.580Z"
   },
   {
    "duration": 25,
    "start_time": "2022-07-19T18:16:57.313Z"
   },
   {
    "duration": 11,
    "start_time": "2022-07-19T18:17:00.700Z"
   },
   {
    "duration": 15,
    "start_time": "2022-07-19T18:17:01.075Z"
   },
   {
    "duration": 26,
    "start_time": "2022-07-19T18:17:56.552Z"
   },
   {
    "duration": 12,
    "start_time": "2022-07-19T18:17:58.690Z"
   },
   {
    "duration": 25,
    "start_time": "2022-07-19T18:18:12.739Z"
   },
   {
    "duration": 3,
    "start_time": "2022-07-19T18:18:25.777Z"
   },
   {
    "duration": 46,
    "start_time": "2022-07-19T18:18:25.782Z"
   },
   {
    "duration": 19,
    "start_time": "2022-07-19T18:18:25.829Z"
   },
   {
    "duration": 8,
    "start_time": "2022-07-19T18:18:25.850Z"
   },
   {
    "duration": 13,
    "start_time": "2022-07-19T18:18:25.860Z"
   },
   {
    "duration": 3,
    "start_time": "2022-07-19T18:18:25.875Z"
   },
   {
    "duration": 232,
    "start_time": "2022-07-19T18:18:25.880Z"
   },
   {
    "duration": 4,
    "start_time": "2022-07-19T18:18:26.114Z"
   },
   {
    "duration": 203,
    "start_time": "2022-07-19T18:18:26.120Z"
   },
   {
    "duration": 164,
    "start_time": "2022-07-19T18:18:26.324Z"
   },
   {
    "duration": 228,
    "start_time": "2022-07-19T18:18:26.490Z"
   },
   {
    "duration": 5,
    "start_time": "2022-07-19T18:18:26.719Z"
   },
   {
    "duration": 21,
    "start_time": "2022-07-19T18:18:31.389Z"
   },
   {
    "duration": 14,
    "start_time": "2022-07-19T18:18:43.684Z"
   },
   {
    "duration": 16,
    "start_time": "2022-07-19T18:18:45.092Z"
   },
   {
    "duration": 20,
    "start_time": "2022-07-19T18:19:10.906Z"
   },
   {
    "duration": 17,
    "start_time": "2022-07-19T18:19:21.227Z"
   },
   {
    "duration": 1506,
    "start_time": "2022-07-19T18:20:23.544Z"
   },
   {
    "duration": 47,
    "start_time": "2022-07-19T18:20:25.052Z"
   },
   {
    "duration": 22,
    "start_time": "2022-07-19T18:20:25.100Z"
   },
   {
    "duration": 9,
    "start_time": "2022-07-19T18:20:25.123Z"
   },
   {
    "duration": 18,
    "start_time": "2022-07-19T18:20:25.134Z"
   },
   {
    "duration": 4,
    "start_time": "2022-07-19T18:20:25.153Z"
   },
   {
    "duration": 259,
    "start_time": "2022-07-19T18:20:25.158Z"
   },
   {
    "duration": 4,
    "start_time": "2022-07-19T18:20:25.419Z"
   },
   {
    "duration": 268,
    "start_time": "2022-07-19T18:20:25.424Z"
   },
   {
    "duration": 233,
    "start_time": "2022-07-19T18:20:25.693Z"
   },
   {
    "duration": 223,
    "start_time": "2022-07-19T18:20:25.927Z"
   },
   {
    "duration": 4,
    "start_time": "2022-07-19T18:20:26.152Z"
   },
   {
    "duration": 24,
    "start_time": "2022-07-19T18:20:28.379Z"
   },
   {
    "duration": 18,
    "start_time": "2022-07-19T18:20:30.860Z"
   },
   {
    "duration": 24,
    "start_time": "2022-07-19T18:21:21.725Z"
   },
   {
    "duration": 20,
    "start_time": "2022-07-19T18:21:37.816Z"
   },
   {
    "duration": 28,
    "start_time": "2022-07-19T18:21:51.078Z"
   },
   {
    "duration": 13,
    "start_time": "2022-07-19T18:21:57.370Z"
   },
   {
    "duration": 118,
    "start_time": "2022-07-19T18:21:57.774Z"
   },
   {
    "duration": 14,
    "start_time": "2022-07-19T18:22:52.103Z"
   },
   {
    "duration": 18,
    "start_time": "2022-07-19T18:22:55.629Z"
   },
   {
    "duration": 22,
    "start_time": "2022-07-19T18:23:13.084Z"
   },
   {
    "duration": 13,
    "start_time": "2022-07-19T18:23:23.126Z"
   },
   {
    "duration": 20,
    "start_time": "2022-07-19T18:23:24.031Z"
   },
   {
    "duration": 8,
    "start_time": "2022-07-19T18:23:40.176Z"
   },
   {
    "duration": 18,
    "start_time": "2022-07-19T18:23:45.010Z"
   },
   {
    "duration": 7,
    "start_time": "2022-07-19T18:23:59.868Z"
   },
   {
    "duration": 6,
    "start_time": "2022-07-19T18:24:11.817Z"
   },
   {
    "duration": 1331,
    "start_time": "2022-07-19T18:24:43.149Z"
   },
   {
    "duration": 46,
    "start_time": "2022-07-19T18:24:44.481Z"
   },
   {
    "duration": 22,
    "start_time": "2022-07-19T18:24:44.529Z"
   },
   {
    "duration": 7,
    "start_time": "2022-07-19T18:24:44.553Z"
   },
   {
    "duration": 16,
    "start_time": "2022-07-19T18:24:44.562Z"
   },
   {
    "duration": 20,
    "start_time": "2022-07-19T18:24:44.579Z"
   },
   {
    "duration": 238,
    "start_time": "2022-07-19T18:24:44.601Z"
   },
   {
    "duration": 4,
    "start_time": "2022-07-19T18:24:44.840Z"
   },
   {
    "duration": 268,
    "start_time": "2022-07-19T18:24:44.845Z"
   },
   {
    "duration": 232,
    "start_time": "2022-07-19T18:24:45.116Z"
   },
   {
    "duration": 221,
    "start_time": "2022-07-19T18:24:45.350Z"
   },
   {
    "duration": 4,
    "start_time": "2022-07-19T18:24:45.573Z"
   },
   {
    "duration": 47,
    "start_time": "2022-07-19T18:24:45.578Z"
   },
   {
    "duration": 9,
    "start_time": "2022-07-19T18:24:45.627Z"
   },
   {
    "duration": 20,
    "start_time": "2022-07-19T18:24:45.638Z"
   },
   {
    "duration": 6,
    "start_time": "2022-07-19T18:24:54.938Z"
   },
   {
    "duration": 119,
    "start_time": "2022-07-19T18:24:59.477Z"
   },
   {
    "duration": 4,
    "start_time": "2022-07-19T18:25:07.040Z"
   },
   {
    "duration": 7,
    "start_time": "2022-07-19T18:25:27.002Z"
   },
   {
    "duration": 6,
    "start_time": "2022-07-19T18:25:36.094Z"
   },
   {
    "duration": 6,
    "start_time": "2022-07-19T18:25:44.840Z"
   },
   {
    "duration": 5,
    "start_time": "2022-07-19T18:25:55.433Z"
   },
   {
    "duration": 4,
    "start_time": "2022-07-19T18:26:00.302Z"
   },
   {
    "duration": 1392,
    "start_time": "2022-07-19T18:26:50.619Z"
   },
   {
    "duration": 46,
    "start_time": "2022-07-19T18:26:52.014Z"
   },
   {
    "duration": 23,
    "start_time": "2022-07-19T18:26:52.062Z"
   },
   {
    "duration": 9,
    "start_time": "2022-07-19T18:26:52.086Z"
   },
   {
    "duration": 19,
    "start_time": "2022-07-19T18:26:52.097Z"
   },
   {
    "duration": 3,
    "start_time": "2022-07-19T18:26:52.118Z"
   },
   {
    "duration": 260,
    "start_time": "2022-07-19T18:26:52.122Z"
   },
   {
    "duration": 4,
    "start_time": "2022-07-19T18:26:52.384Z"
   },
   {
    "duration": 282,
    "start_time": "2022-07-19T18:26:52.399Z"
   },
   {
    "duration": 250,
    "start_time": "2022-07-19T18:26:52.683Z"
   },
   {
    "duration": 235,
    "start_time": "2022-07-19T18:26:52.934Z"
   },
   {
    "duration": 5,
    "start_time": "2022-07-19T18:26:53.170Z"
   },
   {
    "duration": 50,
    "start_time": "2022-07-19T18:26:53.177Z"
   },
   {
    "duration": 12,
    "start_time": "2022-07-19T18:26:59.568Z"
   },
   {
    "duration": 6,
    "start_time": "2022-07-19T18:27:01.360Z"
   },
   {
    "duration": 11,
    "start_time": "2022-07-19T18:27:47.309Z"
   },
   {
    "duration": 7,
    "start_time": "2022-07-19T18:27:52.538Z"
   },
   {
    "duration": 17,
    "start_time": "2022-07-19T18:28:01.172Z"
   },
   {
    "duration": 115,
    "start_time": "2022-07-19T18:28:22.683Z"
   },
   {
    "duration": 17,
    "start_time": "2022-07-19T18:28:36.182Z"
   },
   {
    "duration": 9,
    "start_time": "2022-07-19T18:28:42.917Z"
   },
   {
    "duration": 9,
    "start_time": "2022-07-19T18:28:46.265Z"
   },
   {
    "duration": 18,
    "start_time": "2022-07-19T18:28:50.617Z"
   },
   {
    "duration": 1242,
    "start_time": "2022-07-19T18:30:47.503Z"
   },
   {
    "duration": 18,
    "start_time": "2022-07-19T18:30:48.813Z"
   },
   {
    "duration": 12,
    "start_time": "2022-07-19T18:31:08.839Z"
   },
   {
    "duration": 68,
    "start_time": "2022-07-19T18:31:11.932Z"
   },
   {
    "duration": 1456,
    "start_time": "2022-07-19T18:31:27.212Z"
   },
   {
    "duration": 46,
    "start_time": "2022-07-19T18:31:28.670Z"
   },
   {
    "duration": 22,
    "start_time": "2022-07-19T18:31:28.718Z"
   },
   {
    "duration": 8,
    "start_time": "2022-07-19T18:31:28.741Z"
   },
   {
    "duration": 17,
    "start_time": "2022-07-19T18:31:28.752Z"
   },
   {
    "duration": 3,
    "start_time": "2022-07-19T18:31:28.771Z"
   },
   {
    "duration": 267,
    "start_time": "2022-07-19T18:31:28.775Z"
   },
   {
    "duration": 4,
    "start_time": "2022-07-19T18:31:29.043Z"
   },
   {
    "duration": 279,
    "start_time": "2022-07-19T18:31:29.049Z"
   },
   {
    "duration": 238,
    "start_time": "2022-07-19T18:31:29.329Z"
   },
   {
    "duration": 223,
    "start_time": "2022-07-19T18:31:29.569Z"
   },
   {
    "duration": 4,
    "start_time": "2022-07-19T18:31:29.794Z"
   },
   {
    "duration": 36,
    "start_time": "2022-07-19T18:31:29.799Z"
   },
   {
    "duration": 10,
    "start_time": "2022-07-19T18:31:29.838Z"
   },
   {
    "duration": 56,
    "start_time": "2022-07-19T18:31:29.850Z"
   },
   {
    "duration": 206,
    "start_time": "2022-07-19T18:31:29.908Z"
   },
   {
    "duration": 0,
    "start_time": "2022-07-19T18:31:30.116Z"
   },
   {
    "duration": 0,
    "start_time": "2022-07-19T18:31:30.117Z"
   },
   {
    "duration": 0,
    "start_time": "2022-07-19T18:31:30.118Z"
   },
   {
    "duration": 0,
    "start_time": "2022-07-19T18:31:30.119Z"
   },
   {
    "duration": 1397,
    "start_time": "2022-07-19T18:32:43.491Z"
   },
   {
    "duration": 45,
    "start_time": "2022-07-19T18:32:44.890Z"
   },
   {
    "duration": 23,
    "start_time": "2022-07-19T18:32:44.937Z"
   },
   {
    "duration": 7,
    "start_time": "2022-07-19T18:32:44.962Z"
   },
   {
    "duration": 16,
    "start_time": "2022-07-19T18:32:44.971Z"
   },
   {
    "duration": 3,
    "start_time": "2022-07-19T18:32:44.988Z"
   },
   {
    "duration": 238,
    "start_time": "2022-07-19T18:32:44.993Z"
   },
   {
    "duration": 4,
    "start_time": "2022-07-19T18:32:45.233Z"
   },
   {
    "duration": 284,
    "start_time": "2022-07-19T18:32:45.238Z"
   },
   {
    "duration": 268,
    "start_time": "2022-07-19T18:32:45.524Z"
   },
   {
    "duration": 217,
    "start_time": "2022-07-19T18:32:45.798Z"
   },
   {
    "duration": 4,
    "start_time": "2022-07-19T18:32:46.017Z"
   },
   {
    "duration": 31,
    "start_time": "2022-07-19T18:32:46.022Z"
   },
   {
    "duration": 10,
    "start_time": "2022-07-19T18:32:46.056Z"
   },
   {
    "duration": 37,
    "start_time": "2022-07-19T18:32:46.067Z"
   },
   {
    "duration": 100,
    "start_time": "2022-07-19T18:32:46.106Z"
   },
   {
    "duration": 535,
    "start_time": "2022-07-19T18:32:46.208Z"
   },
   {
    "duration": 10257,
    "start_time": "2022-07-19T18:32:46.746Z"
   },
   {
    "duration": 21,
    "start_time": "2022-07-19T18:32:57.005Z"
   },
   {
    "duration": 837,
    "start_time": "2022-07-19T18:32:57.028Z"
   },
   {
    "duration": 28314,
    "start_time": "2022-07-19T18:41:01.499Z"
   },
   {
    "duration": 160,
    "start_time": "2022-07-19T18:41:29.816Z"
   },
   {
    "duration": 27679,
    "start_time": "2022-07-19T18:41:50.397Z"
   },
   {
    "duration": 19,
    "start_time": "2022-07-19T18:42:30.301Z"
   },
   {
    "duration": 1829,
    "start_time": "2022-07-19T18:42:31.600Z"
   },
   {
    "duration": 1392,
    "start_time": "2022-07-19T18:45:20.325Z"
   },
   {
    "duration": 45,
    "start_time": "2022-07-19T18:45:21.719Z"
   },
   {
    "duration": 22,
    "start_time": "2022-07-19T18:45:21.766Z"
   },
   {
    "duration": 7,
    "start_time": "2022-07-19T18:45:21.790Z"
   },
   {
    "duration": 15,
    "start_time": "2022-07-19T18:45:21.800Z"
   },
   {
    "duration": 4,
    "start_time": "2022-07-19T18:45:21.816Z"
   },
   {
    "duration": 253,
    "start_time": "2022-07-19T18:45:21.822Z"
   },
   {
    "duration": 4,
    "start_time": "2022-07-19T18:45:22.076Z"
   },
   {
    "duration": 290,
    "start_time": "2022-07-19T18:45:22.082Z"
   },
   {
    "duration": 239,
    "start_time": "2022-07-19T18:45:22.374Z"
   },
   {
    "duration": 246,
    "start_time": "2022-07-19T18:45:22.615Z"
   },
   {
    "duration": 6,
    "start_time": "2022-07-19T18:45:22.863Z"
   },
   {
    "duration": 36,
    "start_time": "2022-07-19T18:45:22.871Z"
   },
   {
    "duration": 11,
    "start_time": "2022-07-19T18:45:22.909Z"
   },
   {
    "duration": 176,
    "start_time": "2022-07-19T18:45:22.922Z"
   },
   {
    "duration": 13,
    "start_time": "2022-07-19T18:45:23.101Z"
   },
   {
    "duration": 172,
    "start_time": "2022-07-19T18:45:23.116Z"
   },
   {
    "duration": 27758,
    "start_time": "2022-07-19T18:45:23.290Z"
   },
   {
    "duration": 21,
    "start_time": "2022-07-19T18:45:51.050Z"
   },
   {
    "duration": 1938,
    "start_time": "2022-07-19T18:45:51.073Z"
   },
   {
    "duration": 1474,
    "start_time": "2022-07-20T15:08:10.863Z"
   },
   {
    "duration": 1327,
    "start_time": "2022-07-20T15:08:40.907Z"
   },
   {
    "duration": 113,
    "start_time": "2022-07-20T15:08:42.236Z"
   },
   {
    "duration": 26,
    "start_time": "2022-07-20T15:08:42.350Z"
   },
   {
    "duration": 10,
    "start_time": "2022-07-20T15:08:42.378Z"
   },
   {
    "duration": 26,
    "start_time": "2022-07-20T15:08:42.391Z"
   },
   {
    "duration": 5,
    "start_time": "2022-07-20T15:08:42.419Z"
   },
   {
    "duration": 245,
    "start_time": "2022-07-20T15:08:42.426Z"
   },
   {
    "duration": 4,
    "start_time": "2022-07-20T15:08:42.673Z"
   },
   {
    "duration": 277,
    "start_time": "2022-07-20T15:08:42.679Z"
   },
   {
    "duration": 223,
    "start_time": "2022-07-20T15:08:42.958Z"
   },
   {
    "duration": 208,
    "start_time": "2022-07-20T15:08:43.182Z"
   },
   {
    "duration": 4,
    "start_time": "2022-07-20T15:08:43.400Z"
   },
   {
    "duration": 30,
    "start_time": "2022-07-20T15:08:43.406Z"
   },
   {
    "duration": 10,
    "start_time": "2022-07-20T15:08:43.438Z"
   },
   {
    "duration": 152,
    "start_time": "2022-07-20T15:08:43.449Z"
   },
   {
    "duration": 12,
    "start_time": "2022-07-20T15:08:43.603Z"
   },
   {
    "duration": 164,
    "start_time": "2022-07-20T15:08:43.616Z"
   },
   {
    "duration": 26870,
    "start_time": "2022-07-20T15:08:43.782Z"
   },
   {
    "duration": 18,
    "start_time": "2022-07-20T15:09:10.653Z"
   },
   {
    "duration": 1787,
    "start_time": "2022-07-20T15:09:10.673Z"
   },
   {
    "duration": 19,
    "start_time": "2022-07-20T15:11:01.475Z"
   },
   {
    "duration": 1716,
    "start_time": "2022-07-20T15:12:10.021Z"
   },
   {
    "duration": 313,
    "start_time": "2022-07-20T16:32:07.493Z"
   },
   {
    "duration": 19,
    "start_time": "2022-07-20T16:34:02.790Z"
   },
   {
    "duration": 14,
    "start_time": "2022-07-20T16:36:12.393Z"
   },
   {
    "duration": 22,
    "start_time": "2022-07-20T16:37:36.595Z"
   },
   {
    "duration": 83,
    "start_time": "2022-07-20T16:38:29.728Z"
   },
   {
    "duration": 51,
    "start_time": "2022-07-20T16:39:05.654Z"
   },
   {
    "duration": 4,
    "start_time": "2022-07-20T16:39:41.354Z"
   },
   {
    "duration": 7,
    "start_time": "2022-07-20T16:39:53.952Z"
   },
   {
    "duration": 135,
    "start_time": "2022-07-20T16:41:17.954Z"
   },
   {
    "duration": 174,
    "start_time": "2022-07-20T16:41:21.193Z"
   },
   {
    "duration": 146,
    "start_time": "2022-07-20T16:44:00.751Z"
   },
   {
    "duration": 77,
    "start_time": "2022-07-20T16:44:27.628Z"
   },
   {
    "duration": 185,
    "start_time": "2022-07-20T16:44:31.479Z"
   },
   {
    "duration": 133,
    "start_time": "2022-07-20T16:44:41.669Z"
   },
   {
    "duration": 164,
    "start_time": "2022-07-20T16:44:42.749Z"
   },
   {
    "duration": 13,
    "start_time": "2022-07-20T17:05:51.184Z"
   },
   {
    "duration": 4,
    "start_time": "2022-07-20T17:15:40.539Z"
   },
   {
    "duration": 57,
    "start_time": "2022-07-20T17:15:40.546Z"
   },
   {
    "duration": 20,
    "start_time": "2022-07-20T17:15:40.605Z"
   },
   {
    "duration": 7,
    "start_time": "2022-07-20T17:15:40.628Z"
   },
   {
    "duration": 28,
    "start_time": "2022-07-20T17:15:40.637Z"
   },
   {
    "duration": 4,
    "start_time": "2022-07-20T17:15:40.666Z"
   },
   {
    "duration": 229,
    "start_time": "2022-07-20T17:15:40.671Z"
   },
   {
    "duration": 7,
    "start_time": "2022-07-20T17:15:40.902Z"
   },
   {
    "duration": 206,
    "start_time": "2022-07-20T17:15:40.911Z"
   },
   {
    "duration": 174,
    "start_time": "2022-07-20T17:15:41.119Z"
   },
   {
    "duration": 243,
    "start_time": "2022-07-20T17:15:41.295Z"
   },
   {
    "duration": 4,
    "start_time": "2022-07-20T17:15:41.540Z"
   },
   {
    "duration": 36,
    "start_time": "2022-07-20T17:15:48.900Z"
   },
   {
    "duration": 4,
    "start_time": "2022-07-20T17:19:22.502Z"
   },
   {
    "duration": 113,
    "start_time": "2022-07-20T17:19:22.509Z"
   },
   {
    "duration": 18,
    "start_time": "2022-07-20T17:19:22.624Z"
   },
   {
    "duration": 12,
    "start_time": "2022-07-20T17:19:22.644Z"
   },
   {
    "duration": 67,
    "start_time": "2022-07-20T17:19:22.658Z"
   },
   {
    "duration": 60,
    "start_time": "2022-07-20T17:19:22.727Z"
   },
   {
    "duration": 339,
    "start_time": "2022-07-20T17:19:22.788Z"
   },
   {
    "duration": 5,
    "start_time": "2022-07-20T17:19:23.129Z"
   },
   {
    "duration": 217,
    "start_time": "2022-07-20T17:19:23.136Z"
   },
   {
    "duration": 184,
    "start_time": "2022-07-20T17:19:23.355Z"
   },
   {
    "duration": 232,
    "start_time": "2022-07-20T17:19:23.541Z"
   },
   {
    "duration": 5,
    "start_time": "2022-07-20T17:19:23.774Z"
   },
   {
    "duration": 1148,
    "start_time": "2022-07-20T17:19:23.781Z"
   },
   {
    "duration": 0,
    "start_time": "2022-07-20T17:19:24.931Z"
   },
   {
    "duration": 4,
    "start_time": "2022-07-20T17:19:40.632Z"
   },
   {
    "duration": 53,
    "start_time": "2022-07-20T17:19:40.638Z"
   },
   {
    "duration": 25,
    "start_time": "2022-07-20T17:19:40.693Z"
   },
   {
    "duration": 17,
    "start_time": "2022-07-20T17:19:40.724Z"
   },
   {
    "duration": 14,
    "start_time": "2022-07-20T17:19:40.744Z"
   },
   {
    "duration": 4,
    "start_time": "2022-07-20T17:19:40.759Z"
   },
   {
    "duration": 266,
    "start_time": "2022-07-20T17:19:40.764Z"
   },
   {
    "duration": 5,
    "start_time": "2022-07-20T17:19:41.031Z"
   },
   {
    "duration": 219,
    "start_time": "2022-07-20T17:19:41.037Z"
   },
   {
    "duration": 179,
    "start_time": "2022-07-20T17:19:41.258Z"
   },
   {
    "duration": 241,
    "start_time": "2022-07-20T17:19:41.439Z"
   },
   {
    "duration": 5,
    "start_time": "2022-07-20T17:19:41.682Z"
   },
   {
    "duration": 50,
    "start_time": "2022-07-20T17:19:41.688Z"
   },
   {
    "duration": 11,
    "start_time": "2022-07-20T17:19:48.376Z"
   },
   {
    "duration": 108,
    "start_time": "2022-07-20T17:19:53.201Z"
   },
   {
    "duration": 17,
    "start_time": "2022-07-20T17:21:38.540Z"
   },
   {
    "duration": 171,
    "start_time": "2022-07-20T17:21:42.528Z"
   },
   {
    "duration": 26702,
    "start_time": "2022-07-20T17:22:06.818Z"
   },
   {
    "duration": 26,
    "start_time": "2022-07-20T17:23:56.849Z"
   },
   {
    "duration": 19,
    "start_time": "2022-07-20T17:24:15.112Z"
   },
   {
    "duration": 1804,
    "start_time": "2022-07-20T17:24:52.788Z"
   },
   {
    "duration": 1949,
    "start_time": "2022-07-20T17:25:33.885Z"
   },
   {
    "duration": 27111,
    "start_time": "2022-07-20T17:29:47.203Z"
   },
   {
    "duration": 1748,
    "start_time": "2022-07-20T17:30:30.809Z"
   },
   {
    "duration": 1528,
    "start_time": "2022-07-20T21:11:31.248Z"
   },
   {
    "duration": 122,
    "start_time": "2022-07-20T21:11:32.778Z"
   },
   {
    "duration": 23,
    "start_time": "2022-07-20T21:11:32.901Z"
   },
   {
    "duration": 8,
    "start_time": "2022-07-20T21:11:32.925Z"
   },
   {
    "duration": 20,
    "start_time": "2022-07-20T21:11:32.936Z"
   },
   {
    "duration": 3,
    "start_time": "2022-07-20T21:11:32.958Z"
   },
   {
    "duration": 228,
    "start_time": "2022-07-20T21:11:32.963Z"
   },
   {
    "duration": 4,
    "start_time": "2022-07-20T21:11:33.193Z"
   },
   {
    "duration": 269,
    "start_time": "2022-07-20T21:11:33.199Z"
   },
   {
    "duration": 227,
    "start_time": "2022-07-20T21:11:33.470Z"
   },
   {
    "duration": 211,
    "start_time": "2022-07-20T21:11:33.700Z"
   },
   {
    "duration": 5,
    "start_time": "2022-07-20T21:11:33.914Z"
   },
   {
    "duration": 51,
    "start_time": "2022-07-20T21:11:33.921Z"
   },
   {
    "duration": 12,
    "start_time": "2022-07-20T21:11:33.975Z"
   },
   {
    "duration": 158,
    "start_time": "2022-07-20T21:11:33.989Z"
   },
   {
    "duration": 14,
    "start_time": "2022-07-20T21:11:34.149Z"
   },
   {
    "duration": 249,
    "start_time": "2022-07-20T21:11:34.165Z"
   },
   {
    "duration": 28291,
    "start_time": "2022-07-20T21:11:34.416Z"
   },
   {
    "duration": 36,
    "start_time": "2022-07-20T21:12:02.709Z"
   },
   {
    "duration": 3,
    "start_time": "2022-07-20T21:12:02.747Z"
   },
   {
    "duration": 1769,
    "start_time": "2022-07-20T21:12:02.752Z"
   },
   {
    "duration": 7,
    "start_time": "2022-07-20T21:12:32.164Z"
   },
   {
    "duration": 7,
    "start_time": "2022-07-20T21:12:43.575Z"
   },
   {
    "duration": 10,
    "start_time": "2022-07-20T21:13:50.661Z"
   },
   {
    "duration": 3,
    "start_time": "2022-07-20T21:15:06.657Z"
   },
   {
    "duration": 69,
    "start_time": "2022-07-20T21:15:06.663Z"
   },
   {
    "duration": 19,
    "start_time": "2022-07-20T21:15:06.734Z"
   },
   {
    "duration": 9,
    "start_time": "2022-07-20T21:15:06.755Z"
   },
   {
    "duration": 39,
    "start_time": "2022-07-20T21:15:06.765Z"
   },
   {
    "duration": 9,
    "start_time": "2022-07-20T21:15:06.805Z"
   },
   {
    "duration": 224,
    "start_time": "2022-07-20T21:15:06.816Z"
   },
   {
    "duration": 7,
    "start_time": "2022-07-20T21:15:07.042Z"
   },
   {
    "duration": 198,
    "start_time": "2022-07-20T21:15:07.051Z"
   },
   {
    "duration": 196,
    "start_time": "2022-07-20T21:15:07.251Z"
   },
   {
    "duration": 284,
    "start_time": "2022-07-20T21:15:07.449Z"
   },
   {
    "duration": 14,
    "start_time": "2022-07-20T21:15:07.735Z"
   },
   {
    "duration": 48,
    "start_time": "2022-07-20T21:15:07.751Z"
   },
   {
    "duration": 11,
    "start_time": "2022-07-20T21:15:07.801Z"
   },
   {
    "duration": 136,
    "start_time": "2022-07-20T21:15:07.814Z"
   },
   {
    "duration": 117,
    "start_time": "2022-07-20T21:15:07.951Z"
   },
   {
    "duration": 162,
    "start_time": "2022-07-20T21:15:08.070Z"
   },
   {
    "duration": 21865,
    "start_time": "2022-07-20T21:15:08.234Z"
   },
   {
    "duration": 26,
    "start_time": "2022-07-20T21:15:30.101Z"
   },
   {
    "duration": 1573,
    "start_time": "2022-07-20T21:15:30.129Z"
   },
   {
    "duration": 7,
    "start_time": "2022-07-20T21:15:31.704Z"
   },
   {
    "duration": 7,
    "start_time": "2022-07-20T21:16:55.057Z"
   },
   {
    "duration": 4,
    "start_time": "2022-07-20T21:17:15.802Z"
   },
   {
    "duration": 63,
    "start_time": "2022-07-20T21:17:15.808Z"
   },
   {
    "duration": 19,
    "start_time": "2022-07-20T21:17:15.873Z"
   },
   {
    "duration": 7,
    "start_time": "2022-07-20T21:17:15.893Z"
   },
   {
    "duration": 15,
    "start_time": "2022-07-20T21:17:15.902Z"
   },
   {
    "duration": 3,
    "start_time": "2022-07-20T21:17:15.919Z"
   },
   {
    "duration": 224,
    "start_time": "2022-07-20T21:17:15.924Z"
   },
   {
    "duration": 4,
    "start_time": "2022-07-20T21:17:16.150Z"
   },
   {
    "duration": 178,
    "start_time": "2022-07-20T21:17:16.156Z"
   },
   {
    "duration": 150,
    "start_time": "2022-07-20T21:17:16.336Z"
   },
   {
    "duration": 292,
    "start_time": "2022-07-20T21:17:16.488Z"
   },
   {
    "duration": 4,
    "start_time": "2022-07-20T21:17:16.782Z"
   },
   {
    "duration": 43,
    "start_time": "2022-07-20T21:17:16.788Z"
   },
   {
    "duration": 20,
    "start_time": "2022-07-20T21:17:16.833Z"
   },
   {
    "duration": 101,
    "start_time": "2022-07-20T21:17:16.855Z"
   },
   {
    "duration": 103,
    "start_time": "2022-07-20T21:17:16.958Z"
   },
   {
    "duration": 151,
    "start_time": "2022-07-20T21:17:17.062Z"
   },
   {
    "duration": 21718,
    "start_time": "2022-07-20T21:17:17.215Z"
   },
   {
    "duration": 40,
    "start_time": "2022-07-20T21:17:38.935Z"
   },
   {
    "duration": 1476,
    "start_time": "2022-07-20T21:17:38.977Z"
   }
  ],
  "kernelspec": {
   "display_name": "Python 3 (ipykernel)",
   "language": "python",
   "name": "python3"
  },
  "language_info": {
   "codemirror_mode": {
    "name": "ipython",
    "version": 3
   },
   "file_extension": ".py",
   "mimetype": "text/x-python",
   "name": "python",
   "nbconvert_exporter": "python",
   "pygments_lexer": "ipython3",
   "version": "3.9.5"
  },
  "toc": {
   "base_numbering": 1,
   "nav_menu": {},
   "number_sections": true,
   "sideBar": true,
   "skip_h1_title": true,
   "title_cell": "Table of Contents",
   "title_sidebar": "Contents",
   "toc_cell": false,
   "toc_position": {},
   "toc_section_display": true,
   "toc_window_display": false
  }
 },
 "nbformat": 4,
 "nbformat_minor": 2
}
