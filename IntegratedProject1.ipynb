{
 "cells": [
  {
   "cell_type": "markdown",
   "metadata": {},
   "source": [
    "Hello Lani!\n",
    "\n",
    "My name is Dmitry.  I'm glad to review your work today.\n",
    "I will mark your mistakes and give you some hints how it is possible to fix them. We are getting ready for real job, where your team leader/senior colleague will do exactly the same. Don't worry and study with pleasure! \n",
    "\n",
    "Below you will find my comments - **please do not move, modify or delete them**.\n",
    "\n",
    "You can find my comments in green, yellow or red boxes like this:\n",
    "\n",
    "<div class=\"alert alert-block alert-success\">\n",
    "<b>Reviewer's comment</b> <a class=\"tocSkip\"></a>\n",
    "\n",
    "Success. Everything is done succesfully.\n",
    "</div>\n",
    "\n",
    "<div class=\"alert alert-block alert-warning\">\n",
    "<b>Reviewer's comment</b> <a class=\"tocSkip\"></a>\n",
    "\n",
    "Remarks. Some recommendations.\n",
    "</div>\n",
    "\n",
    "<div class=\"alert alert-block alert-danger\">\n",
    "\n",
    "<b>Reviewer's comment</b> <a class=\"tocSkip\"></a>\n",
    "\n",
    "Needs fixing. The block requires some corrections. Work can't be accepted with the red comments.\n",
    "</div>\n",
    "\n",
    "You can answer me by using this:\n",
    "\n",
    "<div class=\"alert alert-block alert-info\">\n",
    "<b>Student answer.</b> <a class=\"tocSkip\"></a>\n",
    "\n",
    "Text here.\n",
    "</div>"
   ]
  },
  {
   "cell_type": "markdown",
   "metadata": {},
   "source": [
    "# Project Description\n",
    "\n",
    "The online store, Ice, sells video games all over the world. User and expert reviews, genres, platforms (e.g. Xbox or PlayStation), and historical data on game sales are available from open sources. In this project, patterns that determine whether a game succeeds or not will be identified in order to spot potential big winners and plan advertising campaigns."
   ]
  },
  {
   "cell_type": "markdown",
   "metadata": {},
   "source": [
    "# Initialization"
   ]
  },
  {
   "cell_type": "markdown",
   "metadata": {},
   "source": [
    "The pandas, numpy, stats, pyplot, and seaborn libraries were loaded to utilize in the analysis. Import warnings to prevent filter warnings from appearing in the output."
   ]
  },
  {
   "cell_type": "code",
   "execution_count": 1,
   "metadata": {},
   "outputs": [],
   "source": [
    "# Loading all the libraries\n",
    "import pandas as pd\n",
    "import numpy as np\n",
    "from scipy import stats as st\n",
    "from matplotlib import pyplot as plt\n",
    "%matplotlib inline\n",
    "import seaborn as sns\n",
    "import warnings\n",
    "warnings.filterwarnings(\"ignore\")\n"
   ]
  },
  {
   "cell_type": "markdown",
   "metadata": {},
   "source": [
    "<div class=\"alert alert-block alert-success\">\n",
    "<b>Reviewer's comment</b> <a class=\"tocSkip\"></a>\n",
    "\n",
    "Very good. You have introduction and imports at the begining of the project.\n",
    "</div>"
   ]
  },
  {
   "cell_type": "markdown",
   "metadata": {},
   "source": [
    "# Load Data"
   ]
  },
  {
   "cell_type": "markdown",
   "metadata": {},
   "source": [
    "Using try-except construction to avoid errors during data importing, the 'games' dataset was imported."
   ]
  },
  {
   "cell_type": "code",
   "execution_count": 2,
   "metadata": {},
   "outputs": [],
   "source": [
    "# Load the data files into different DataFrames\n",
    "try:\n",
    "    games = pd.read_csv('/datasets/games.csv')\n",
    "except:\n",
    "    games = pd.read_csv('games.csv')\n",
    "    "
   ]
  },
  {
   "cell_type": "markdown",
   "metadata": {},
   "source": [
    "<div class=\"alert alert-block alert-success\">\n",
    "<b>Reviewer's comment</b> <a class=\"tocSkip\"></a>\n",
    "\n",
    "Good approach.\n",
    "</div>"
   ]
  },
  {
   "cell_type": "markdown",
   "metadata": {},
   "source": [
    "# Prepare the Data"
   ]
  },
  {
   "cell_type": "markdown",
   "metadata": {},
   "source": [
    "## Explore Data"
   ]
  },
  {
   "cell_type": "code",
   "execution_count": 3,
   "metadata": {},
   "outputs": [
    {
     "name": "stdout",
     "output_type": "stream",
     "text": [
      "<class 'pandas.core.frame.DataFrame'>\n",
      "RangeIndex: 16715 entries, 0 to 16714\n",
      "Data columns (total 11 columns):\n",
      " #   Column           Non-Null Count  Dtype  \n",
      "---  ------           --------------  -----  \n",
      " 0   Name             16713 non-null  object \n",
      " 1   Platform         16715 non-null  object \n",
      " 2   Year_of_Release  16446 non-null  float64\n",
      " 3   Genre            16713 non-null  object \n",
      " 4   NA_sales         16715 non-null  float64\n",
      " 5   EU_sales         16715 non-null  float64\n",
      " 6   JP_sales         16715 non-null  float64\n",
      " 7   Other_sales      16715 non-null  float64\n",
      " 8   Critic_Score     8137 non-null   float64\n",
      " 9   User_Score       10014 non-null  object \n",
      " 10  Rating           9949 non-null   object \n",
      "dtypes: float64(6), object(5)\n",
      "memory usage: 1.4+ MB\n"
     ]
    },
    {
     "data": {
      "text/html": [
       "<div>\n",
       "<style scoped>\n",
       "    .dataframe tbody tr th:only-of-type {\n",
       "        vertical-align: middle;\n",
       "    }\n",
       "\n",
       "    .dataframe tbody tr th {\n",
       "        vertical-align: top;\n",
       "    }\n",
       "\n",
       "    .dataframe thead th {\n",
       "        text-align: right;\n",
       "    }\n",
       "</style>\n",
       "<table border=\"1\" class=\"dataframe\">\n",
       "  <thead>\n",
       "    <tr style=\"text-align: right;\">\n",
       "      <th></th>\n",
       "      <th>Year_of_Release</th>\n",
       "      <th>NA_sales</th>\n",
       "      <th>EU_sales</th>\n",
       "      <th>JP_sales</th>\n",
       "      <th>Other_sales</th>\n",
       "      <th>Critic_Score</th>\n",
       "    </tr>\n",
       "  </thead>\n",
       "  <tbody>\n",
       "    <tr>\n",
       "      <th>count</th>\n",
       "      <td>16446.000000</td>\n",
       "      <td>16715.000000</td>\n",
       "      <td>16715.000000</td>\n",
       "      <td>16715.000000</td>\n",
       "      <td>16715.000000</td>\n",
       "      <td>8137.000000</td>\n",
       "    </tr>\n",
       "    <tr>\n",
       "      <th>mean</th>\n",
       "      <td>2006.484616</td>\n",
       "      <td>0.263377</td>\n",
       "      <td>0.145060</td>\n",
       "      <td>0.077617</td>\n",
       "      <td>0.047342</td>\n",
       "      <td>68.967679</td>\n",
       "    </tr>\n",
       "    <tr>\n",
       "      <th>std</th>\n",
       "      <td>5.877050</td>\n",
       "      <td>0.813604</td>\n",
       "      <td>0.503339</td>\n",
       "      <td>0.308853</td>\n",
       "      <td>0.186731</td>\n",
       "      <td>13.938165</td>\n",
       "    </tr>\n",
       "    <tr>\n",
       "      <th>min</th>\n",
       "      <td>1980.000000</td>\n",
       "      <td>0.000000</td>\n",
       "      <td>0.000000</td>\n",
       "      <td>0.000000</td>\n",
       "      <td>0.000000</td>\n",
       "      <td>13.000000</td>\n",
       "    </tr>\n",
       "    <tr>\n",
       "      <th>25%</th>\n",
       "      <td>2003.000000</td>\n",
       "      <td>0.000000</td>\n",
       "      <td>0.000000</td>\n",
       "      <td>0.000000</td>\n",
       "      <td>0.000000</td>\n",
       "      <td>60.000000</td>\n",
       "    </tr>\n",
       "    <tr>\n",
       "      <th>50%</th>\n",
       "      <td>2007.000000</td>\n",
       "      <td>0.080000</td>\n",
       "      <td>0.020000</td>\n",
       "      <td>0.000000</td>\n",
       "      <td>0.010000</td>\n",
       "      <td>71.000000</td>\n",
       "    </tr>\n",
       "    <tr>\n",
       "      <th>75%</th>\n",
       "      <td>2010.000000</td>\n",
       "      <td>0.240000</td>\n",
       "      <td>0.110000</td>\n",
       "      <td>0.040000</td>\n",
       "      <td>0.030000</td>\n",
       "      <td>79.000000</td>\n",
       "    </tr>\n",
       "    <tr>\n",
       "      <th>max</th>\n",
       "      <td>2016.000000</td>\n",
       "      <td>41.360000</td>\n",
       "      <td>28.960000</td>\n",
       "      <td>10.220000</td>\n",
       "      <td>10.570000</td>\n",
       "      <td>98.000000</td>\n",
       "    </tr>\n",
       "  </tbody>\n",
       "</table>\n",
       "</div>"
      ],
      "text/plain": [
       "       Year_of_Release      NA_sales      EU_sales      JP_sales  \\\n",
       "count     16446.000000  16715.000000  16715.000000  16715.000000   \n",
       "mean       2006.484616      0.263377      0.145060      0.077617   \n",
       "std           5.877050      0.813604      0.503339      0.308853   \n",
       "min        1980.000000      0.000000      0.000000      0.000000   \n",
       "25%        2003.000000      0.000000      0.000000      0.000000   \n",
       "50%        2007.000000      0.080000      0.020000      0.000000   \n",
       "75%        2010.000000      0.240000      0.110000      0.040000   \n",
       "max        2016.000000     41.360000     28.960000     10.220000   \n",
       "\n",
       "        Other_sales  Critic_Score  \n",
       "count  16715.000000   8137.000000  \n",
       "mean       0.047342     68.967679  \n",
       "std        0.186731     13.938165  \n",
       "min        0.000000     13.000000  \n",
       "25%        0.000000     60.000000  \n",
       "50%        0.010000     71.000000  \n",
       "75%        0.030000     79.000000  \n",
       "max       10.570000     98.000000  "
      ]
     },
     "execution_count": 3,
     "metadata": {},
     "output_type": "execute_result"
    }
   ],
   "source": [
    "# Print general information about the 'games' dataframe\n",
    "games.info()\n",
    "games.describe()\n"
   ]
  },
  {
   "cell_type": "code",
   "execution_count": 4,
   "metadata": {},
   "outputs": [
    {
     "data": {
      "text/html": [
       "<div>\n",
       "<style scoped>\n",
       "    .dataframe tbody tr th:only-of-type {\n",
       "        vertical-align: middle;\n",
       "    }\n",
       "\n",
       "    .dataframe tbody tr th {\n",
       "        vertical-align: top;\n",
       "    }\n",
       "\n",
       "    .dataframe thead th {\n",
       "        text-align: right;\n",
       "    }\n",
       "</style>\n",
       "<table border=\"1\" class=\"dataframe\">\n",
       "  <thead>\n",
       "    <tr style=\"text-align: right;\">\n",
       "      <th></th>\n",
       "      <th>Name</th>\n",
       "      <th>Platform</th>\n",
       "      <th>Year_of_Release</th>\n",
       "      <th>Genre</th>\n",
       "      <th>NA_sales</th>\n",
       "      <th>EU_sales</th>\n",
       "      <th>JP_sales</th>\n",
       "      <th>Other_sales</th>\n",
       "      <th>Critic_Score</th>\n",
       "      <th>User_Score</th>\n",
       "      <th>Rating</th>\n",
       "    </tr>\n",
       "  </thead>\n",
       "  <tbody>\n",
       "    <tr>\n",
       "      <th>0</th>\n",
       "      <td>Wii Sports</td>\n",
       "      <td>Wii</td>\n",
       "      <td>2006.0</td>\n",
       "      <td>Sports</td>\n",
       "      <td>41.36</td>\n",
       "      <td>28.96</td>\n",
       "      <td>3.77</td>\n",
       "      <td>8.45</td>\n",
       "      <td>76.0</td>\n",
       "      <td>8</td>\n",
       "      <td>E</td>\n",
       "    </tr>\n",
       "    <tr>\n",
       "      <th>1</th>\n",
       "      <td>Super Mario Bros.</td>\n",
       "      <td>NES</td>\n",
       "      <td>1985.0</td>\n",
       "      <td>Platform</td>\n",
       "      <td>29.08</td>\n",
       "      <td>3.58</td>\n",
       "      <td>6.81</td>\n",
       "      <td>0.77</td>\n",
       "      <td>NaN</td>\n",
       "      <td>NaN</td>\n",
       "      <td>NaN</td>\n",
       "    </tr>\n",
       "    <tr>\n",
       "      <th>2</th>\n",
       "      <td>Mario Kart Wii</td>\n",
       "      <td>Wii</td>\n",
       "      <td>2008.0</td>\n",
       "      <td>Racing</td>\n",
       "      <td>15.68</td>\n",
       "      <td>12.76</td>\n",
       "      <td>3.79</td>\n",
       "      <td>3.29</td>\n",
       "      <td>82.0</td>\n",
       "      <td>8.3</td>\n",
       "      <td>E</td>\n",
       "    </tr>\n",
       "    <tr>\n",
       "      <th>3</th>\n",
       "      <td>Wii Sports Resort</td>\n",
       "      <td>Wii</td>\n",
       "      <td>2009.0</td>\n",
       "      <td>Sports</td>\n",
       "      <td>15.61</td>\n",
       "      <td>10.93</td>\n",
       "      <td>3.28</td>\n",
       "      <td>2.95</td>\n",
       "      <td>80.0</td>\n",
       "      <td>8</td>\n",
       "      <td>E</td>\n",
       "    </tr>\n",
       "    <tr>\n",
       "      <th>4</th>\n",
       "      <td>Pokemon Red/Pokemon Blue</td>\n",
       "      <td>GB</td>\n",
       "      <td>1996.0</td>\n",
       "      <td>Role-Playing</td>\n",
       "      <td>11.27</td>\n",
       "      <td>8.89</td>\n",
       "      <td>10.22</td>\n",
       "      <td>1.00</td>\n",
       "      <td>NaN</td>\n",
       "      <td>NaN</td>\n",
       "      <td>NaN</td>\n",
       "    </tr>\n",
       "    <tr>\n",
       "      <th>...</th>\n",
       "      <td>...</td>\n",
       "      <td>...</td>\n",
       "      <td>...</td>\n",
       "      <td>...</td>\n",
       "      <td>...</td>\n",
       "      <td>...</td>\n",
       "      <td>...</td>\n",
       "      <td>...</td>\n",
       "      <td>...</td>\n",
       "      <td>...</td>\n",
       "      <td>...</td>\n",
       "    </tr>\n",
       "    <tr>\n",
       "      <th>16710</th>\n",
       "      <td>Samurai Warriors: Sanada Maru</td>\n",
       "      <td>PS3</td>\n",
       "      <td>2016.0</td>\n",
       "      <td>Action</td>\n",
       "      <td>0.00</td>\n",
       "      <td>0.00</td>\n",
       "      <td>0.01</td>\n",
       "      <td>0.00</td>\n",
       "      <td>NaN</td>\n",
       "      <td>NaN</td>\n",
       "      <td>NaN</td>\n",
       "    </tr>\n",
       "    <tr>\n",
       "      <th>16711</th>\n",
       "      <td>LMA Manager 2007</td>\n",
       "      <td>X360</td>\n",
       "      <td>2006.0</td>\n",
       "      <td>Sports</td>\n",
       "      <td>0.00</td>\n",
       "      <td>0.01</td>\n",
       "      <td>0.00</td>\n",
       "      <td>0.00</td>\n",
       "      <td>NaN</td>\n",
       "      <td>NaN</td>\n",
       "      <td>NaN</td>\n",
       "    </tr>\n",
       "    <tr>\n",
       "      <th>16712</th>\n",
       "      <td>Haitaka no Psychedelica</td>\n",
       "      <td>PSV</td>\n",
       "      <td>2016.0</td>\n",
       "      <td>Adventure</td>\n",
       "      <td>0.00</td>\n",
       "      <td>0.00</td>\n",
       "      <td>0.01</td>\n",
       "      <td>0.00</td>\n",
       "      <td>NaN</td>\n",
       "      <td>NaN</td>\n",
       "      <td>NaN</td>\n",
       "    </tr>\n",
       "    <tr>\n",
       "      <th>16713</th>\n",
       "      <td>Spirits &amp; Spells</td>\n",
       "      <td>GBA</td>\n",
       "      <td>2003.0</td>\n",
       "      <td>Platform</td>\n",
       "      <td>0.01</td>\n",
       "      <td>0.00</td>\n",
       "      <td>0.00</td>\n",
       "      <td>0.00</td>\n",
       "      <td>NaN</td>\n",
       "      <td>NaN</td>\n",
       "      <td>NaN</td>\n",
       "    </tr>\n",
       "    <tr>\n",
       "      <th>16714</th>\n",
       "      <td>Winning Post 8 2016</td>\n",
       "      <td>PSV</td>\n",
       "      <td>2016.0</td>\n",
       "      <td>Simulation</td>\n",
       "      <td>0.00</td>\n",
       "      <td>0.00</td>\n",
       "      <td>0.01</td>\n",
       "      <td>0.00</td>\n",
       "      <td>NaN</td>\n",
       "      <td>NaN</td>\n",
       "      <td>NaN</td>\n",
       "    </tr>\n",
       "  </tbody>\n",
       "</table>\n",
       "<p>16715 rows × 11 columns</p>\n",
       "</div>"
      ],
      "text/plain": [
       "                                Name Platform  Year_of_Release         Genre  \\\n",
       "0                         Wii Sports      Wii           2006.0        Sports   \n",
       "1                  Super Mario Bros.      NES           1985.0      Platform   \n",
       "2                     Mario Kart Wii      Wii           2008.0        Racing   \n",
       "3                  Wii Sports Resort      Wii           2009.0        Sports   \n",
       "4           Pokemon Red/Pokemon Blue       GB           1996.0  Role-Playing   \n",
       "...                              ...      ...              ...           ...   \n",
       "16710  Samurai Warriors: Sanada Maru      PS3           2016.0        Action   \n",
       "16711               LMA Manager 2007     X360           2006.0        Sports   \n",
       "16712        Haitaka no Psychedelica      PSV           2016.0     Adventure   \n",
       "16713               Spirits & Spells      GBA           2003.0      Platform   \n",
       "16714            Winning Post 8 2016      PSV           2016.0    Simulation   \n",
       "\n",
       "       NA_sales  EU_sales  JP_sales  Other_sales  Critic_Score User_Score  \\\n",
       "0         41.36     28.96      3.77         8.45          76.0          8   \n",
       "1         29.08      3.58      6.81         0.77           NaN        NaN   \n",
       "2         15.68     12.76      3.79         3.29          82.0        8.3   \n",
       "3         15.61     10.93      3.28         2.95          80.0          8   \n",
       "4         11.27      8.89     10.22         1.00           NaN        NaN   \n",
       "...         ...       ...       ...          ...           ...        ...   \n",
       "16710      0.00      0.00      0.01         0.00           NaN        NaN   \n",
       "16711      0.00      0.01      0.00         0.00           NaN        NaN   \n",
       "16712      0.00      0.00      0.01         0.00           NaN        NaN   \n",
       "16713      0.01      0.00      0.00         0.00           NaN        NaN   \n",
       "16714      0.00      0.00      0.01         0.00           NaN        NaN   \n",
       "\n",
       "      Rating  \n",
       "0          E  \n",
       "1        NaN  \n",
       "2          E  \n",
       "3          E  \n",
       "4        NaN  \n",
       "...      ...  \n",
       "16710    NaN  \n",
       "16711    NaN  \n",
       "16712    NaN  \n",
       "16713    NaN  \n",
       "16714    NaN  \n",
       "\n",
       "[16715 rows x 11 columns]"
      ]
     },
     "execution_count": 4,
     "metadata": {},
     "output_type": "execute_result"
    }
   ],
   "source": [
    "# Print a sample of the data for 'games'\n",
    "games\n"
   ]
  },
  {
   "cell_type": "markdown",
   "metadata": {},
   "source": [
    "<div class=\"alert alert-block alert-warning\">\n",
    "<b>Reviewer's comment</b> <a class=\"tocSkip\"></a>\n",
    "\n",
    "Ok, but we don't need \"display\" with .head() method to print a sample. \n",
    "</div>"
   ]
  },
  {
   "cell_type": "markdown",
   "metadata": {},
   "source": [
    "<div class=\"alert alert-block alert-info\">\n",
    "<b>Student answer.</b> <a class=\"tocSkip\"></a>\n",
    "\n",
    "I got rid of the display() and head() method and just printed the 'games' dataframe above.\n",
    "</div>"
   ]
  },
  {
   "cell_type": "code",
   "execution_count": 5,
   "metadata": {},
   "outputs": [
    {
     "data": {
      "text/plain": [
       "array(['8', nan, '8.3', '8.5', '6.6', '8.4', '8.6', '7.7', '6.3', '7.4',\n",
       "       '8.2', '9', '7.9', '8.1', '8.7', '7.1', '3.4', '5.3', '4.8', '3.2',\n",
       "       '8.9', '6.4', '7.8', '7.5', '2.6', '7.2', '9.2', '7', '7.3', '4.3',\n",
       "       '7.6', '5.7', '5', '9.1', '6.5', 'tbd', '8.8', '6.9', '9.4', '6.8',\n",
       "       '6.1', '6.7', '5.4', '4', '4.9', '4.5', '9.3', '6.2', '4.2', '6',\n",
       "       '3.7', '4.1', '5.8', '5.6', '5.5', '4.4', '4.6', '5.9', '3.9',\n",
       "       '3.1', '2.9', '5.2', '3.3', '4.7', '5.1', '3.5', '2.5', '1.9', '3',\n",
       "       '2.7', '2.2', '2', '9.5', '2.1', '3.6', '2.8', '1.8', '3.8', '0',\n",
       "       '1.6', '9.6', '2.4', '1.7', '1.1', '0.3', '1.5', '0.7', '1.2',\n",
       "       '2.3', '0.5', '1.3', '0.2', '0.6', '1.4', '0.9', '1', '9.7'],\n",
       "      dtype=object)"
      ]
     },
     "execution_count": 5,
     "metadata": {},
     "output_type": "execute_result"
    }
   ],
   "source": [
    "# Check all the unique values in the 'user_score' column\n",
    "games['User_Score'].unique()\n"
   ]
  },
  {
   "cell_type": "code",
   "execution_count": 6,
   "metadata": {},
   "outputs": [
    {
     "data": {
      "text/plain": [
       "Name               0.000120\n",
       "Platform           0.000000\n",
       "Year_of_Release    0.016093\n",
       "Genre              0.000120\n",
       "NA_sales           0.000000\n",
       "EU_sales           0.000000\n",
       "JP_sales           0.000000\n",
       "Other_sales        0.000000\n",
       "Critic_Score       0.513192\n",
       "User_Score         0.400897\n",
       "Rating             0.404786\n",
       "dtype: float64"
      ]
     },
     "execution_count": 6,
     "metadata": {},
     "output_type": "execute_result"
    }
   ],
   "source": [
    "# Look at the percentage of missing values in each column\n",
    "games.isna().sum()/games.shape[0]\n"
   ]
  },
  {
   "cell_type": "code",
   "execution_count": 7,
   "metadata": {},
   "outputs": [
    {
     "data": {
      "text/plain": [
       "0"
      ]
     },
     "execution_count": 7,
     "metadata": {},
     "output_type": "execute_result"
    }
   ],
   "source": [
    "# Check to ensure that there are no duplicated records in the dataframe\n",
    "games.duplicated().sum()\n"
   ]
  },
  {
   "cell_type": "markdown",
   "metadata": {},
   "source": [
    "Some of the potential issues discovered in the above exploration are the following:\n",
    "\n",
    "1) There is inconsistent capitalization of the column names that should be changed to all lowercase letters\n",
    "\n",
    "2) User score is an object data type as it includes the value 'tbd' in addition to numeric scores\n",
    "\n",
    "3) The user score and critic score values are on different scales\n",
    "\n",
    "4) There are missing values in the columns for name, year of release, genre, critic score, user score, and rating. The critic score, user score, and rating columns have a significant amount of missing data."
   ]
  },
  {
   "cell_type": "markdown",
   "metadata": {},
   "source": [
    "<div class=\"alert alert-block alert-success\">\n",
    "<b>Reviewer's comment</b> <a class=\"tocSkip\"></a>\n",
    "\n",
    "Very good conclusions!\n",
    "</div>"
   ]
  },
  {
   "cell_type": "markdown",
   "metadata": {},
   "source": [
    "## Fix Data"
   ]
  },
  {
   "cell_type": "markdown",
   "metadata": {},
   "source": [
    "In this section, each of the issues noted above will be addressed."
   ]
  },
  {
   "cell_type": "code",
   "execution_count": 8,
   "metadata": {},
   "outputs": [
    {
     "name": "stdout",
     "output_type": "stream",
     "text": [
      "<class 'pandas.core.frame.DataFrame'>\n",
      "RangeIndex: 16715 entries, 0 to 16714\n",
      "Data columns (total 11 columns):\n",
      " #   Column           Non-Null Count  Dtype  \n",
      "---  ------           --------------  -----  \n",
      " 0   name             16713 non-null  object \n",
      " 1   platform         16715 non-null  object \n",
      " 2   year_of_release  16446 non-null  float64\n",
      " 3   genre            16713 non-null  object \n",
      " 4   na_sales         16715 non-null  float64\n",
      " 5   eu_sales         16715 non-null  float64\n",
      " 6   jp_sales         16715 non-null  float64\n",
      " 7   other_sales      16715 non-null  float64\n",
      " 8   critic_score     8137 non-null   float64\n",
      " 9   user_score       10014 non-null  object \n",
      " 10  rating           9949 non-null   object \n",
      "dtypes: float64(6), object(5)\n",
      "memory usage: 1.4+ MB\n"
     ]
    }
   ],
   "source": [
    "# Make all column names lowercase\n",
    "games.columns = games.columns.str.lower()\n",
    "games.info()\n"
   ]
  },
  {
   "cell_type": "code",
   "execution_count": 9,
   "metadata": {},
   "outputs": [
    {
     "data": {
      "text/plain": [
       "0          8\n",
       "1        NaN\n",
       "2        8.3\n",
       "3          8\n",
       "4        NaN\n",
       "        ... \n",
       "16710    NaN\n",
       "16711    NaN\n",
       "16712    NaN\n",
       "16713    NaN\n",
       "16714    NaN\n",
       "Name: user_score, Length: 16715, dtype: object"
      ]
     },
     "execution_count": 9,
     "metadata": {},
     "output_type": "execute_result"
    }
   ],
   "source": [
    "# Change the 'tbd' values to null values\n",
    "games['user_score'] = games['user_score'].replace('tbd', np.nan)\n",
    "games['user_score']\n"
   ]
  },
  {
   "cell_type": "code",
   "execution_count": 10,
   "metadata": {},
   "outputs": [
    {
     "data": {
      "text/plain": [
       "0        80.0\n",
       "1         NaN\n",
       "2        83.0\n",
       "3        80.0\n",
       "4         NaN\n",
       "         ... \n",
       "16710     NaN\n",
       "16711     NaN\n",
       "16712     NaN\n",
       "16713     NaN\n",
       "16714     NaN\n",
       "Name: user_score, Length: 16715, dtype: float64"
      ]
     },
     "execution_count": 10,
     "metadata": {},
     "output_type": "execute_result"
    }
   ],
   "source": [
    "# Change the 'user_score' column to a float type and multiply all the values by 10 to make the scale equal to the values in the 'critic_score' column\n",
    "games['user_score'] = games['user_score'].astype(float)*10\n",
    "games['user_score']\n"
   ]
  },
  {
   "cell_type": "code",
   "execution_count": 11,
   "metadata": {},
   "outputs": [
    {
     "data": {
      "text/html": [
       "<div>\n",
       "<style scoped>\n",
       "    .dataframe tbody tr th:only-of-type {\n",
       "        vertical-align: middle;\n",
       "    }\n",
       "\n",
       "    .dataframe tbody tr th {\n",
       "        vertical-align: top;\n",
       "    }\n",
       "\n",
       "    .dataframe thead th {\n",
       "        text-align: right;\n",
       "    }\n",
       "</style>\n",
       "<table border=\"1\" class=\"dataframe\">\n",
       "  <thead>\n",
       "    <tr style=\"text-align: right;\">\n",
       "      <th></th>\n",
       "      <th>year_of_release</th>\n",
       "      <th>count</th>\n",
       "      <th>name</th>\n",
       "      <th>percent_null</th>\n",
       "    </tr>\n",
       "  </thead>\n",
       "  <tbody>\n",
       "    <tr>\n",
       "      <th>0</th>\n",
       "      <td>1980.0</td>\n",
       "      <td>9</td>\n",
       "      <td>9</td>\n",
       "      <td>1.000000</td>\n",
       "    </tr>\n",
       "    <tr>\n",
       "      <th>1</th>\n",
       "      <td>1981.0</td>\n",
       "      <td>46</td>\n",
       "      <td>46</td>\n",
       "      <td>1.000000</td>\n",
       "    </tr>\n",
       "    <tr>\n",
       "      <th>2</th>\n",
       "      <td>1982.0</td>\n",
       "      <td>36</td>\n",
       "      <td>36</td>\n",
       "      <td>1.000000</td>\n",
       "    </tr>\n",
       "    <tr>\n",
       "      <th>3</th>\n",
       "      <td>1983.0</td>\n",
       "      <td>17</td>\n",
       "      <td>17</td>\n",
       "      <td>1.000000</td>\n",
       "    </tr>\n",
       "    <tr>\n",
       "      <th>4</th>\n",
       "      <td>1984.0</td>\n",
       "      <td>14</td>\n",
       "      <td>14</td>\n",
       "      <td>1.000000</td>\n",
       "    </tr>\n",
       "    <tr>\n",
       "      <th>5</th>\n",
       "      <td>1985.0</td>\n",
       "      <td>13</td>\n",
       "      <td>14</td>\n",
       "      <td>0.928571</td>\n",
       "    </tr>\n",
       "    <tr>\n",
       "      <th>6</th>\n",
       "      <td>1986.0</td>\n",
       "      <td>21</td>\n",
       "      <td>21</td>\n",
       "      <td>1.000000</td>\n",
       "    </tr>\n",
       "    <tr>\n",
       "      <th>7</th>\n",
       "      <td>1987.0</td>\n",
       "      <td>16</td>\n",
       "      <td>16</td>\n",
       "      <td>1.000000</td>\n",
       "    </tr>\n",
       "    <tr>\n",
       "      <th>8</th>\n",
       "      <td>1988.0</td>\n",
       "      <td>14</td>\n",
       "      <td>15</td>\n",
       "      <td>0.933333</td>\n",
       "    </tr>\n",
       "    <tr>\n",
       "      <th>9</th>\n",
       "      <td>1989.0</td>\n",
       "      <td>17</td>\n",
       "      <td>17</td>\n",
       "      <td>1.000000</td>\n",
       "    </tr>\n",
       "    <tr>\n",
       "      <th>10</th>\n",
       "      <td>1990.0</td>\n",
       "      <td>16</td>\n",
       "      <td>16</td>\n",
       "      <td>1.000000</td>\n",
       "    </tr>\n",
       "    <tr>\n",
       "      <th>11</th>\n",
       "      <td>1991.0</td>\n",
       "      <td>41</td>\n",
       "      <td>41</td>\n",
       "      <td>1.000000</td>\n",
       "    </tr>\n",
       "    <tr>\n",
       "      <th>12</th>\n",
       "      <td>1992.0</td>\n",
       "      <td>42</td>\n",
       "      <td>43</td>\n",
       "      <td>0.976744</td>\n",
       "    </tr>\n",
       "    <tr>\n",
       "      <th>13</th>\n",
       "      <td>1993.0</td>\n",
       "      <td>62</td>\n",
       "      <td>60</td>\n",
       "      <td>1.033333</td>\n",
       "    </tr>\n",
       "    <tr>\n",
       "      <th>14</th>\n",
       "      <td>1994.0</td>\n",
       "      <td>120</td>\n",
       "      <td>121</td>\n",
       "      <td>0.991736</td>\n",
       "    </tr>\n",
       "    <tr>\n",
       "      <th>15</th>\n",
       "      <td>1995.0</td>\n",
       "      <td>219</td>\n",
       "      <td>219</td>\n",
       "      <td>1.000000</td>\n",
       "    </tr>\n",
       "    <tr>\n",
       "      <th>16</th>\n",
       "      <td>1996.0</td>\n",
       "      <td>255</td>\n",
       "      <td>263</td>\n",
       "      <td>0.969582</td>\n",
       "    </tr>\n",
       "    <tr>\n",
       "      <th>17</th>\n",
       "      <td>1997.0</td>\n",
       "      <td>272</td>\n",
       "      <td>289</td>\n",
       "      <td>0.941176</td>\n",
       "    </tr>\n",
       "    <tr>\n",
       "      <th>18</th>\n",
       "      <td>1998.0</td>\n",
       "      <td>351</td>\n",
       "      <td>379</td>\n",
       "      <td>0.926121</td>\n",
       "    </tr>\n",
       "    <tr>\n",
       "      <th>19</th>\n",
       "      <td>1999.0</td>\n",
       "      <td>299</td>\n",
       "      <td>338</td>\n",
       "      <td>0.884615</td>\n",
       "    </tr>\n",
       "    <tr>\n",
       "      <th>20</th>\n",
       "      <td>2000.0</td>\n",
       "      <td>207</td>\n",
       "      <td>350</td>\n",
       "      <td>0.591429</td>\n",
       "    </tr>\n",
       "    <tr>\n",
       "      <th>21</th>\n",
       "      <td>2001.0</td>\n",
       "      <td>156</td>\n",
       "      <td>482</td>\n",
       "      <td>0.323651</td>\n",
       "    </tr>\n",
       "    <tr>\n",
       "      <th>22</th>\n",
       "      <td>2002.0</td>\n",
       "      <td>202</td>\n",
       "      <td>829</td>\n",
       "      <td>0.243667</td>\n",
       "    </tr>\n",
       "    <tr>\n",
       "      <th>23</th>\n",
       "      <td>2003.0</td>\n",
       "      <td>190</td>\n",
       "      <td>775</td>\n",
       "      <td>0.245161</td>\n",
       "    </tr>\n",
       "    <tr>\n",
       "      <th>24</th>\n",
       "      <td>2004.0</td>\n",
       "      <td>201</td>\n",
       "      <td>762</td>\n",
       "      <td>0.263780</td>\n",
       "    </tr>\n",
       "    <tr>\n",
       "      <th>25</th>\n",
       "      <td>2005.0</td>\n",
       "      <td>284</td>\n",
       "      <td>939</td>\n",
       "      <td>0.302449</td>\n",
       "    </tr>\n",
       "    <tr>\n",
       "      <th>26</th>\n",
       "      <td>2006.0</td>\n",
       "      <td>386</td>\n",
       "      <td>1006</td>\n",
       "      <td>0.383698</td>\n",
       "    </tr>\n",
       "    <tr>\n",
       "      <th>27</th>\n",
       "      <td>2007.0</td>\n",
       "      <td>505</td>\n",
       "      <td>1197</td>\n",
       "      <td>0.421888</td>\n",
       "    </tr>\n",
       "    <tr>\n",
       "      <th>28</th>\n",
       "      <td>2008.0</td>\n",
       "      <td>712</td>\n",
       "      <td>1427</td>\n",
       "      <td>0.498949</td>\n",
       "    </tr>\n",
       "    <tr>\n",
       "      <th>29</th>\n",
       "      <td>2009.0</td>\n",
       "      <td>775</td>\n",
       "      <td>1426</td>\n",
       "      <td>0.543478</td>\n",
       "    </tr>\n",
       "    <tr>\n",
       "      <th>30</th>\n",
       "      <td>2010.0</td>\n",
       "      <td>755</td>\n",
       "      <td>1255</td>\n",
       "      <td>0.601594</td>\n",
       "    </tr>\n",
       "    <tr>\n",
       "      <th>31</th>\n",
       "      <td>2011.0</td>\n",
       "      <td>636</td>\n",
       "      <td>1136</td>\n",
       "      <td>0.559859</td>\n",
       "    </tr>\n",
       "    <tr>\n",
       "      <th>32</th>\n",
       "      <td>2012.0</td>\n",
       "      <td>332</td>\n",
       "      <td>653</td>\n",
       "      <td>0.508423</td>\n",
       "    </tr>\n",
       "    <tr>\n",
       "      <th>33</th>\n",
       "      <td>2013.0</td>\n",
       "      <td>271</td>\n",
       "      <td>544</td>\n",
       "      <td>0.498162</td>\n",
       "    </tr>\n",
       "    <tr>\n",
       "      <th>34</th>\n",
       "      <td>2014.0</td>\n",
       "      <td>320</td>\n",
       "      <td>581</td>\n",
       "      <td>0.550775</td>\n",
       "    </tr>\n",
       "    <tr>\n",
       "      <th>35</th>\n",
       "      <td>2015.0</td>\n",
       "      <td>381</td>\n",
       "      <td>606</td>\n",
       "      <td>0.628713</td>\n",
       "    </tr>\n",
       "    <tr>\n",
       "      <th>36</th>\n",
       "      <td>2016.0</td>\n",
       "      <td>270</td>\n",
       "      <td>502</td>\n",
       "      <td>0.537849</td>\n",
       "    </tr>\n",
       "  </tbody>\n",
       "</table>\n",
       "</div>"
      ],
      "text/plain": [
       "    year_of_release  count  name  percent_null\n",
       "0            1980.0      9     9      1.000000\n",
       "1            1981.0     46    46      1.000000\n",
       "2            1982.0     36    36      1.000000\n",
       "3            1983.0     17    17      1.000000\n",
       "4            1984.0     14    14      1.000000\n",
       "5            1985.0     13    14      0.928571\n",
       "6            1986.0     21    21      1.000000\n",
       "7            1987.0     16    16      1.000000\n",
       "8            1988.0     14    15      0.933333\n",
       "9            1989.0     17    17      1.000000\n",
       "10           1990.0     16    16      1.000000\n",
       "11           1991.0     41    41      1.000000\n",
       "12           1992.0     42    43      0.976744\n",
       "13           1993.0     62    60      1.033333\n",
       "14           1994.0    120   121      0.991736\n",
       "15           1995.0    219   219      1.000000\n",
       "16           1996.0    255   263      0.969582\n",
       "17           1997.0    272   289      0.941176\n",
       "18           1998.0    351   379      0.926121\n",
       "19           1999.0    299   338      0.884615\n",
       "20           2000.0    207   350      0.591429\n",
       "21           2001.0    156   482      0.323651\n",
       "22           2002.0    202   829      0.243667\n",
       "23           2003.0    190   775      0.245161\n",
       "24           2004.0    201   762      0.263780\n",
       "25           2005.0    284   939      0.302449\n",
       "26           2006.0    386  1006      0.383698\n",
       "27           2007.0    505  1197      0.421888\n",
       "28           2008.0    712  1427      0.498949\n",
       "29           2009.0    775  1426      0.543478\n",
       "30           2010.0    755  1255      0.601594\n",
       "31           2011.0    636  1136      0.559859\n",
       "32           2012.0    332   653      0.508423\n",
       "33           2013.0    271   544      0.498162\n",
       "34           2014.0    320   581      0.550775\n",
       "35           2015.0    381   606      0.628713\n",
       "36           2016.0    270   502      0.537849"
      ]
     },
     "execution_count": 11,
     "metadata": {},
     "output_type": "execute_result"
    }
   ],
   "source": [
    "# Check the distribution of null values in 'critic_score' by 'year_of_release'\n",
    "null_critic_score = games.critic_score.isnull().groupby([games['year_of_release']]).sum().astype(int).reset_index(name='count')\n",
    "null_critic_score = null_critic_score.join(games.groupby('year_of_release')['name'].count(), on = 'year_of_release')\n",
    "null_critic_score['percent_null'] = null_critic_score['count'] / null_critic_score['name']\n",
    "null_critic_score\n"
   ]
  },
  {
   "cell_type": "code",
   "execution_count": 12,
   "metadata": {},
   "outputs": [
    {
     "data": {
      "text/html": [
       "<div>\n",
       "<style scoped>\n",
       "    .dataframe tbody tr th:only-of-type {\n",
       "        vertical-align: middle;\n",
       "    }\n",
       "\n",
       "    .dataframe tbody tr th {\n",
       "        vertical-align: top;\n",
       "    }\n",
       "\n",
       "    .dataframe thead th {\n",
       "        text-align: right;\n",
       "    }\n",
       "</style>\n",
       "<table border=\"1\" class=\"dataframe\">\n",
       "  <thead>\n",
       "    <tr style=\"text-align: right;\">\n",
       "      <th></th>\n",
       "      <th>year_of_release</th>\n",
       "      <th>count</th>\n",
       "      <th>name</th>\n",
       "      <th>percent_null</th>\n",
       "    </tr>\n",
       "  </thead>\n",
       "  <tbody>\n",
       "    <tr>\n",
       "      <th>0</th>\n",
       "      <td>1980.0</td>\n",
       "      <td>9</td>\n",
       "      <td>9</td>\n",
       "      <td>1.000000</td>\n",
       "    </tr>\n",
       "    <tr>\n",
       "      <th>1</th>\n",
       "      <td>1981.0</td>\n",
       "      <td>46</td>\n",
       "      <td>46</td>\n",
       "      <td>1.000000</td>\n",
       "    </tr>\n",
       "    <tr>\n",
       "      <th>2</th>\n",
       "      <td>1982.0</td>\n",
       "      <td>36</td>\n",
       "      <td>36</td>\n",
       "      <td>1.000000</td>\n",
       "    </tr>\n",
       "    <tr>\n",
       "      <th>3</th>\n",
       "      <td>1983.0</td>\n",
       "      <td>17</td>\n",
       "      <td>17</td>\n",
       "      <td>1.000000</td>\n",
       "    </tr>\n",
       "    <tr>\n",
       "      <th>4</th>\n",
       "      <td>1984.0</td>\n",
       "      <td>14</td>\n",
       "      <td>14</td>\n",
       "      <td>1.000000</td>\n",
       "    </tr>\n",
       "    <tr>\n",
       "      <th>5</th>\n",
       "      <td>1985.0</td>\n",
       "      <td>13</td>\n",
       "      <td>14</td>\n",
       "      <td>0.928571</td>\n",
       "    </tr>\n",
       "    <tr>\n",
       "      <th>6</th>\n",
       "      <td>1986.0</td>\n",
       "      <td>21</td>\n",
       "      <td>21</td>\n",
       "      <td>1.000000</td>\n",
       "    </tr>\n",
       "    <tr>\n",
       "      <th>7</th>\n",
       "      <td>1987.0</td>\n",
       "      <td>16</td>\n",
       "      <td>16</td>\n",
       "      <td>1.000000</td>\n",
       "    </tr>\n",
       "    <tr>\n",
       "      <th>8</th>\n",
       "      <td>1988.0</td>\n",
       "      <td>14</td>\n",
       "      <td>15</td>\n",
       "      <td>0.933333</td>\n",
       "    </tr>\n",
       "    <tr>\n",
       "      <th>9</th>\n",
       "      <td>1989.0</td>\n",
       "      <td>17</td>\n",
       "      <td>17</td>\n",
       "      <td>1.000000</td>\n",
       "    </tr>\n",
       "    <tr>\n",
       "      <th>10</th>\n",
       "      <td>1990.0</td>\n",
       "      <td>16</td>\n",
       "      <td>16</td>\n",
       "      <td>1.000000</td>\n",
       "    </tr>\n",
       "    <tr>\n",
       "      <th>11</th>\n",
       "      <td>1991.0</td>\n",
       "      <td>41</td>\n",
       "      <td>41</td>\n",
       "      <td>1.000000</td>\n",
       "    </tr>\n",
       "    <tr>\n",
       "      <th>12</th>\n",
       "      <td>1992.0</td>\n",
       "      <td>42</td>\n",
       "      <td>43</td>\n",
       "      <td>0.976744</td>\n",
       "    </tr>\n",
       "    <tr>\n",
       "      <th>13</th>\n",
       "      <td>1993.0</td>\n",
       "      <td>62</td>\n",
       "      <td>60</td>\n",
       "      <td>1.033333</td>\n",
       "    </tr>\n",
       "    <tr>\n",
       "      <th>14</th>\n",
       "      <td>1994.0</td>\n",
       "      <td>120</td>\n",
       "      <td>121</td>\n",
       "      <td>0.991736</td>\n",
       "    </tr>\n",
       "    <tr>\n",
       "      <th>15</th>\n",
       "      <td>1995.0</td>\n",
       "      <td>219</td>\n",
       "      <td>219</td>\n",
       "      <td>1.000000</td>\n",
       "    </tr>\n",
       "    <tr>\n",
       "      <th>16</th>\n",
       "      <td>1996.0</td>\n",
       "      <td>255</td>\n",
       "      <td>263</td>\n",
       "      <td>0.969582</td>\n",
       "    </tr>\n",
       "    <tr>\n",
       "      <th>17</th>\n",
       "      <td>1997.0</td>\n",
       "      <td>271</td>\n",
       "      <td>289</td>\n",
       "      <td>0.937716</td>\n",
       "    </tr>\n",
       "    <tr>\n",
       "      <th>18</th>\n",
       "      <td>1998.0</td>\n",
       "      <td>348</td>\n",
       "      <td>379</td>\n",
       "      <td>0.918206</td>\n",
       "    </tr>\n",
       "    <tr>\n",
       "      <th>19</th>\n",
       "      <td>1999.0</td>\n",
       "      <td>307</td>\n",
       "      <td>338</td>\n",
       "      <td>0.908284</td>\n",
       "    </tr>\n",
       "    <tr>\n",
       "      <th>20</th>\n",
       "      <td>2000.0</td>\n",
       "      <td>243</td>\n",
       "      <td>350</td>\n",
       "      <td>0.694286</td>\n",
       "    </tr>\n",
       "    <tr>\n",
       "      <th>21</th>\n",
       "      <td>2001.0</td>\n",
       "      <td>225</td>\n",
       "      <td>482</td>\n",
       "      <td>0.466805</td>\n",
       "    </tr>\n",
       "    <tr>\n",
       "      <th>22</th>\n",
       "      <td>2002.0</td>\n",
       "      <td>365</td>\n",
       "      <td>829</td>\n",
       "      <td>0.440290</td>\n",
       "    </tr>\n",
       "    <tr>\n",
       "      <th>23</th>\n",
       "      <td>2003.0</td>\n",
       "      <td>259</td>\n",
       "      <td>775</td>\n",
       "      <td>0.334194</td>\n",
       "    </tr>\n",
       "    <tr>\n",
       "      <th>24</th>\n",
       "      <td>2004.0</td>\n",
       "      <td>273</td>\n",
       "      <td>762</td>\n",
       "      <td>0.358268</td>\n",
       "    </tr>\n",
       "    <tr>\n",
       "      <th>25</th>\n",
       "      <td>2005.0</td>\n",
       "      <td>356</td>\n",
       "      <td>939</td>\n",
       "      <td>0.379127</td>\n",
       "    </tr>\n",
       "    <tr>\n",
       "      <th>26</th>\n",
       "      <td>2006.0</td>\n",
       "      <td>454</td>\n",
       "      <td>1006</td>\n",
       "      <td>0.451292</td>\n",
       "    </tr>\n",
       "    <tr>\n",
       "      <th>27</th>\n",
       "      <td>2007.0</td>\n",
       "      <td>568</td>\n",
       "      <td>1197</td>\n",
       "      <td>0.474520</td>\n",
       "    </tr>\n",
       "    <tr>\n",
       "      <th>28</th>\n",
       "      <td>2008.0</td>\n",
       "      <td>766</td>\n",
       "      <td>1427</td>\n",
       "      <td>0.536790</td>\n",
       "    </tr>\n",
       "    <tr>\n",
       "      <th>29</th>\n",
       "      <td>2009.0</td>\n",
       "      <td>812</td>\n",
       "      <td>1426</td>\n",
       "      <td>0.569425</td>\n",
       "    </tr>\n",
       "    <tr>\n",
       "      <th>30</th>\n",
       "      <td>2010.0</td>\n",
       "      <td>788</td>\n",
       "      <td>1255</td>\n",
       "      <td>0.627888</td>\n",
       "    </tr>\n",
       "    <tr>\n",
       "      <th>31</th>\n",
       "      <td>2011.0</td>\n",
       "      <td>635</td>\n",
       "      <td>1136</td>\n",
       "      <td>0.558979</td>\n",
       "    </tr>\n",
       "    <tr>\n",
       "      <th>32</th>\n",
       "      <td>2012.0</td>\n",
       "      <td>314</td>\n",
       "      <td>653</td>\n",
       "      <td>0.480858</td>\n",
       "    </tr>\n",
       "    <tr>\n",
       "      <th>33</th>\n",
       "      <td>2013.0</td>\n",
       "      <td>240</td>\n",
       "      <td>544</td>\n",
       "      <td>0.441176</td>\n",
       "    </tr>\n",
       "    <tr>\n",
       "      <th>34</th>\n",
       "      <td>2014.0</td>\n",
       "      <td>252</td>\n",
       "      <td>581</td>\n",
       "      <td>0.433735</td>\n",
       "    </tr>\n",
       "    <tr>\n",
       "      <th>35</th>\n",
       "      <td>2015.0</td>\n",
       "      <td>309</td>\n",
       "      <td>606</td>\n",
       "      <td>0.509901</td>\n",
       "    </tr>\n",
       "    <tr>\n",
       "      <th>36</th>\n",
       "      <td>2016.0</td>\n",
       "      <td>240</td>\n",
       "      <td>502</td>\n",
       "      <td>0.478088</td>\n",
       "    </tr>\n",
       "  </tbody>\n",
       "</table>\n",
       "</div>"
      ],
      "text/plain": [
       "    year_of_release  count  name  percent_null\n",
       "0            1980.0      9     9      1.000000\n",
       "1            1981.0     46    46      1.000000\n",
       "2            1982.0     36    36      1.000000\n",
       "3            1983.0     17    17      1.000000\n",
       "4            1984.0     14    14      1.000000\n",
       "5            1985.0     13    14      0.928571\n",
       "6            1986.0     21    21      1.000000\n",
       "7            1987.0     16    16      1.000000\n",
       "8            1988.0     14    15      0.933333\n",
       "9            1989.0     17    17      1.000000\n",
       "10           1990.0     16    16      1.000000\n",
       "11           1991.0     41    41      1.000000\n",
       "12           1992.0     42    43      0.976744\n",
       "13           1993.0     62    60      1.033333\n",
       "14           1994.0    120   121      0.991736\n",
       "15           1995.0    219   219      1.000000\n",
       "16           1996.0    255   263      0.969582\n",
       "17           1997.0    271   289      0.937716\n",
       "18           1998.0    348   379      0.918206\n",
       "19           1999.0    307   338      0.908284\n",
       "20           2000.0    243   350      0.694286\n",
       "21           2001.0    225   482      0.466805\n",
       "22           2002.0    365   829      0.440290\n",
       "23           2003.0    259   775      0.334194\n",
       "24           2004.0    273   762      0.358268\n",
       "25           2005.0    356   939      0.379127\n",
       "26           2006.0    454  1006      0.451292\n",
       "27           2007.0    568  1197      0.474520\n",
       "28           2008.0    766  1427      0.536790\n",
       "29           2009.0    812  1426      0.569425\n",
       "30           2010.0    788  1255      0.627888\n",
       "31           2011.0    635  1136      0.558979\n",
       "32           2012.0    314   653      0.480858\n",
       "33           2013.0    240   544      0.441176\n",
       "34           2014.0    252   581      0.433735\n",
       "35           2015.0    309   606      0.509901\n",
       "36           2016.0    240   502      0.478088"
      ]
     },
     "execution_count": 12,
     "metadata": {},
     "output_type": "execute_result"
    }
   ],
   "source": [
    "# Check the distribution of null values in 'critic_score' by 'year_of_release'\n",
    "null_user_score = games.user_score.isnull().groupby([games['year_of_release']]).sum().astype(int).reset_index(name='count')\n",
    "null_user_score = null_user_score.join(games.groupby('year_of_release')['name'].count(), on = 'year_of_release')\n",
    "null_user_score['percent_null'] = null_user_score['count'] / null_user_score['name']\n",
    "null_user_score\n"
   ]
  },
  {
   "cell_type": "code",
   "execution_count": 13,
   "metadata": {},
   "outputs": [
    {
     "data": {
      "text/plain": [
       "0                E\n",
       "1        not rated\n",
       "2                E\n",
       "3                E\n",
       "4        not rated\n",
       "           ...    \n",
       "16710    not rated\n",
       "16711    not rated\n",
       "16712    not rated\n",
       "16713    not rated\n",
       "16714    not rated\n",
       "Name: rating, Length: 16715, dtype: object"
      ]
     },
     "execution_count": 13,
     "metadata": {},
     "output_type": "execute_result"
    }
   ],
   "source": [
    "# Change the missing values in the 'rating' column to 'not rated'\n",
    "games['rating'] = games['rating'].fillna('not rated')\n",
    "games['rating']\n"
   ]
  },
  {
   "cell_type": "markdown",
   "metadata": {},
   "source": [
    "For the missing values in the 'user_score' and 'critic_score' columns, it does not seem appropriate to fill them in due to the variability of video games and the lack of other variables that may help to predict their values. Also, since the years in which the data is missing entirely will be dropped in the subsequent analysis, the lack of these data points does not matter as much. Finally, the rows with these missing values will be kept in the analysis and not dropped as the rest of the row has important information that does not always pertain to the missing values.\n",
    "\n",
    "As to the reason for the missing values--it is likely that earlier games just did not have a scoring system in place. As for more recent video games, due to the sheer amount of games that are released each year, it is possible that some games just do not get enough exposure to critics and gamers who would be willing to give reviews. These games are likely ones that are not as popular.\n",
    "\n",
    "However, for the 'rating' column, it seems appropriate to label the missing values as 'not rated' in order to ascertain how the lack of ratings can impact a game's sales."
   ]
  },
  {
   "cell_type": "markdown",
   "metadata": {},
   "source": [
    "<div class=\"alert alert-block alert-danger\">\n",
    "<s><b>Reviewer's comment</b> <a class=\"tocSkip\"></a>\n",
    "\n",
    "Let's talk about the project's requirements. <br>\n",
    "    1. Should we somehow process missing data in ratings? <br>\n",
    "    2. It's a good practice to convert data types to apropriate formar.\n",
    "</div>"
   ]
  },
  {
   "cell_type": "markdown",
   "metadata": {},
   "source": [
    "<div class=\"alert alert-block alert-info\">\n",
    "<b>Student answer.</b> <a class=\"tocSkip\"></a>\n",
    "\n",
    "I decided to process the missing values in the 'rating' column to the string 'not rated' which will allow for conclusions to be made regarding the lack of ratings for certain games.\n",
    "</div>"
   ]
  },
  {
   "cell_type": "markdown",
   "metadata": {},
   "source": [
    "<div class=\"alert alert-block alert-warning\">\n",
    "<b>Reviewer's comment</b> <a class=\"tocSkip\"></a>\n",
    "\n",
    "Well done!\n",
    "Pro tip: it's good practice use .value_counts() on categorical data. This can give us some more insights. <br>\n",
    "    Does it make sense to delete or combine some rare ratings in our case?\n",
    "</div>"
   ]
  },
  {
   "cell_type": "markdown",
   "metadata": {},
   "source": [
    "## Enrich Data"
   ]
  },
  {
   "cell_type": "markdown",
   "metadata": {},
   "source": [
    "For the purposes of the analysis, a new column for the total combined sales in all the regions will be generated to enrich the data."
   ]
  },
  {
   "cell_type": "code",
   "execution_count": 14,
   "metadata": {},
   "outputs": [
    {
     "data": {
      "text/plain": [
       "0        82.54\n",
       "1        40.24\n",
       "2        35.52\n",
       "3        32.77\n",
       "4        31.38\n",
       "         ...  \n",
       "16710     0.01\n",
       "16711     0.01\n",
       "16712     0.01\n",
       "16713     0.01\n",
       "16714     0.01\n",
       "Name: total_sales, Length: 16715, dtype: float64"
      ]
     },
     "execution_count": 14,
     "metadata": {},
     "output_type": "execute_result"
    }
   ],
   "source": [
    "# Calculate the total sales (the sum of sales in all regions) for each game and put these values in a separate column\n",
    "games['total_sales'] = games[['na_sales','eu_sales','jp_sales', 'other_sales']].sum(axis = 1)\n",
    "games['total_sales']\n"
   ]
  },
  {
   "cell_type": "markdown",
   "metadata": {},
   "source": [
    "<div class=\"alert alert-block alert-warning\">\n",
    "<b>Reviewer's comment</b> <a class=\"tocSkip\"></a>\n",
    "\n",
    "Pro tip: it is possible to compute total sum in more elegant way <br>\n",
    "    games[['na_sales','eu_sales','jp_sales', 'other_sales']].sum(axis = 1)\n",
    "</div>"
   ]
  },
  {
   "cell_type": "markdown",
   "metadata": {},
   "source": [
    "<div class=\"alert alert-block alert-info\">\n",
    "<b>Student answer.</b> <a class=\"tocSkip\"></a>\n",
    "\n",
    "Thank you for the tip! I implemented it above.\n",
    "</div>"
   ]
  },
  {
   "cell_type": "markdown",
   "metadata": {},
   "source": [
    "<div class=\"alert alert-block alert-success\">\n",
    "<b>Reviewer's comment</b> <a class=\"tocSkip\"></a>\n",
    "\n",
    "Excellent.\n",
    "</div>"
   ]
  },
  {
   "cell_type": "markdown",
   "metadata": {},
   "source": [
    "# Analyze the Data"
   ]
  },
  {
   "cell_type": "markdown",
   "metadata": {},
   "source": [
    "#### **First, examine how many game titles were released each year.**"
   ]
  },
  {
   "cell_type": "code",
   "execution_count": 15,
   "metadata": {},
   "outputs": [
    {
     "data": {
      "text/plain": [
       "year_of_release\n",
       "1980.0       9\n",
       "1981.0      46\n",
       "1982.0      36\n",
       "1983.0      17\n",
       "1984.0      14\n",
       "1985.0      14\n",
       "1986.0      21\n",
       "1987.0      16\n",
       "1988.0      15\n",
       "1989.0      17\n",
       "1990.0      16\n",
       "1991.0      41\n",
       "1992.0      43\n",
       "1993.0      60\n",
       "1994.0     121\n",
       "1995.0     219\n",
       "1996.0     263\n",
       "1997.0     289\n",
       "1998.0     379\n",
       "1999.0     338\n",
       "2000.0     350\n",
       "2001.0     482\n",
       "2002.0     829\n",
       "2003.0     775\n",
       "2004.0     762\n",
       "2005.0     939\n",
       "2006.0    1006\n",
       "2007.0    1197\n",
       "2008.0    1427\n",
       "2009.0    1426\n",
       "2010.0    1255\n",
       "2011.0    1136\n",
       "2012.0     653\n",
       "2013.0     544\n",
       "2014.0     581\n",
       "2015.0     606\n",
       "2016.0     502\n",
       "Name: name, dtype: int64"
      ]
     },
     "execution_count": 15,
     "metadata": {},
     "output_type": "execute_result"
    }
   ],
   "source": [
    "# Use the groupby() method to examine the total number of game titles released each year\n",
    "yearly_release_count = games.groupby(['year_of_release'])['name'].count()\n",
    "yearly_release_count\n"
   ]
  },
  {
   "cell_type": "code",
   "execution_count": 16,
   "metadata": {},
   "outputs": [
    {
     "data": {
      "image/png": "[encoded data removed]",
      "text/plain": [
       "<Figure size 432x288 with 1 Axes>"
      ]
     },
     "metadata": {
      "needs_background": "light"
     },
     "output_type": "display_data"
    }
   ],
   "source": [
    "# Create a lineplot to illustrate the data in 'year_release_count'\n",
    "sns.lineplot(data = yearly_release_count)\n",
    "plt.grid()\n",
    "plt.title('Number of game titles released each year')\n",
    "plt.ylabel('Number')\n",
    "plt.xlabel('Year')\n",
    "plt.show()\n"
   ]
  },
  {
   "cell_type": "markdown",
   "metadata": {},
   "source": [
    "Based on the line plot above, it appears that the number of games released each year stays at a relatively low level but begins to increase between 1990-1995 and really picks up after 1995. It reaches a peak around 2008-2009 and then falls quickly. Given these trends, the time period between 1995-2009 seems really significant while the period prior to 1990 may be less significant due to a sparsity of released titles."
   ]
  },
  {
   "cell_type": "markdown",
   "metadata": {},
   "source": [
    "<div class=\"alert alert-block alert-success\">\n",
    "<b>Reviewer's comment</b> <a class=\"tocSkip\"></a>\n",
    "\n",
    "Well done!\n",
    "</div>"
   ]
  },
  {
   "cell_type": "markdown",
   "metadata": {},
   "source": [
    "#### **Next, examine how sales varied from platform to platform.**"
   ]
  },
  {
   "cell_type": "code",
   "execution_count": 17,
   "metadata": {},
   "outputs": [
    {
     "data": {
      "text/html": [
       "<div>\n",
       "<style scoped>\n",
       "    .dataframe tbody tr th:only-of-type {\n",
       "        vertical-align: middle;\n",
       "    }\n",
       "\n",
       "    .dataframe tbody tr th {\n",
       "        vertical-align: top;\n",
       "    }\n",
       "\n",
       "    .dataframe thead th {\n",
       "        text-align: right;\n",
       "    }\n",
       "</style>\n",
       "<table border=\"1\" class=\"dataframe\">\n",
       "  <thead>\n",
       "    <tr style=\"text-align: right;\">\n",
       "      <th></th>\n",
       "      <th>total_sales</th>\n",
       "    </tr>\n",
       "    <tr>\n",
       "      <th>platform</th>\n",
       "      <th></th>\n",
       "    </tr>\n",
       "  </thead>\n",
       "  <tbody>\n",
       "    <tr>\n",
       "      <th>PS2</th>\n",
       "      <td>1255.77</td>\n",
       "    </tr>\n",
       "    <tr>\n",
       "      <th>X360</th>\n",
       "      <td>971.42</td>\n",
       "    </tr>\n",
       "    <tr>\n",
       "      <th>PS3</th>\n",
       "      <td>939.65</td>\n",
       "    </tr>\n",
       "    <tr>\n",
       "      <th>Wii</th>\n",
       "      <td>907.51</td>\n",
       "    </tr>\n",
       "    <tr>\n",
       "      <th>DS</th>\n",
       "      <td>806.12</td>\n",
       "    </tr>\n",
       "    <tr>\n",
       "      <th>PS</th>\n",
       "      <td>730.86</td>\n",
       "    </tr>\n",
       "    <tr>\n",
       "      <th>GBA</th>\n",
       "      <td>317.85</td>\n",
       "    </tr>\n",
       "    <tr>\n",
       "      <th>PS4</th>\n",
       "      <td>314.14</td>\n",
       "    </tr>\n",
       "    <tr>\n",
       "      <th>PSP</th>\n",
       "      <td>294.05</td>\n",
       "    </tr>\n",
       "    <tr>\n",
       "      <th>PC</th>\n",
       "      <td>259.52</td>\n",
       "    </tr>\n",
       "    <tr>\n",
       "      <th>3DS</th>\n",
       "      <td>259.00</td>\n",
       "    </tr>\n",
       "    <tr>\n",
       "      <th>XB</th>\n",
       "      <td>257.74</td>\n",
       "    </tr>\n",
       "    <tr>\n",
       "      <th>GB</th>\n",
       "      <td>255.46</td>\n",
       "    </tr>\n",
       "    <tr>\n",
       "      <th>NES</th>\n",
       "      <td>251.05</td>\n",
       "    </tr>\n",
       "    <tr>\n",
       "      <th>N64</th>\n",
       "      <td>218.68</td>\n",
       "    </tr>\n",
       "    <tr>\n",
       "      <th>SNES</th>\n",
       "      <td>200.04</td>\n",
       "    </tr>\n",
       "    <tr>\n",
       "      <th>GC</th>\n",
       "      <td>198.93</td>\n",
       "    </tr>\n",
       "    <tr>\n",
       "      <th>XOne</th>\n",
       "      <td>159.32</td>\n",
       "    </tr>\n",
       "    <tr>\n",
       "      <th>2600</th>\n",
       "      <td>96.98</td>\n",
       "    </tr>\n",
       "    <tr>\n",
       "      <th>WiiU</th>\n",
       "      <td>82.19</td>\n",
       "    </tr>\n",
       "    <tr>\n",
       "      <th>PSV</th>\n",
       "      <td>54.07</td>\n",
       "    </tr>\n",
       "    <tr>\n",
       "      <th>SAT</th>\n",
       "      <td>33.59</td>\n",
       "    </tr>\n",
       "    <tr>\n",
       "      <th>GEN</th>\n",
       "      <td>30.77</td>\n",
       "    </tr>\n",
       "    <tr>\n",
       "      <th>DC</th>\n",
       "      <td>15.95</td>\n",
       "    </tr>\n",
       "    <tr>\n",
       "      <th>SCD</th>\n",
       "      <td>1.86</td>\n",
       "    </tr>\n",
       "    <tr>\n",
       "      <th>NG</th>\n",
       "      <td>1.44</td>\n",
       "    </tr>\n",
       "    <tr>\n",
       "      <th>WS</th>\n",
       "      <td>1.42</td>\n",
       "    </tr>\n",
       "    <tr>\n",
       "      <th>TG16</th>\n",
       "      <td>0.16</td>\n",
       "    </tr>\n",
       "    <tr>\n",
       "      <th>3DO</th>\n",
       "      <td>0.10</td>\n",
       "    </tr>\n",
       "    <tr>\n",
       "      <th>GG</th>\n",
       "      <td>0.04</td>\n",
       "    </tr>\n",
       "    <tr>\n",
       "      <th>PCFX</th>\n",
       "      <td>0.03</td>\n",
       "    </tr>\n",
       "  </tbody>\n",
       "</table>\n",
       "</div>"
      ],
      "text/plain": [
       "          total_sales\n",
       "platform             \n",
       "PS2           1255.77\n",
       "X360           971.42\n",
       "PS3            939.65\n",
       "Wii            907.51\n",
       "DS             806.12\n",
       "PS             730.86\n",
       "GBA            317.85\n",
       "PS4            314.14\n",
       "PSP            294.05\n",
       "PC             259.52\n",
       "3DS            259.00\n",
       "XB             257.74\n",
       "GB             255.46\n",
       "NES            251.05\n",
       "N64            218.68\n",
       "SNES           200.04\n",
       "GC             198.93\n",
       "XOne           159.32\n",
       "2600            96.98\n",
       "WiiU            82.19\n",
       "PSV             54.07\n",
       "SAT             33.59\n",
       "GEN             30.77\n",
       "DC              15.95\n",
       "SCD              1.86\n",
       "NG               1.44\n",
       "WS               1.42\n",
       "TG16             0.16\n",
       "3DO              0.10\n",
       "GG               0.04\n",
       "PCFX             0.03"
      ]
     },
     "metadata": {},
     "output_type": "display_data"
    }
   ],
   "source": [
    "# Create a pivot table to display the total sales for each platform\n",
    "platform_sales = pd.pivot_table(games,\n",
    "                                values = ['total_sales'],\n",
    "                                index = ['platform'],\n",
    "                                aggfunc = 'sum').sort_values(by = 'total_sales', ascending = False)\n",
    "display(platform_sales)\n"
   ]
  },
  {
   "cell_type": "code",
   "execution_count": 18,
   "metadata": {},
   "outputs": [
    {
     "data": {
      "image/png": "[encoded data removed]",
      "text/plain": [
       "<Figure size 432x288 with 1 Axes>"
      ]
     },
     "metadata": {
      "needs_background": "light"
     },
     "output_type": "display_data"
    }
   ],
   "source": [
    "# Create a bar chart to display the total sales per platform\n",
    "platform_sales = platform_sales.reset_index()\n",
    "\n",
    "sns.barplot(data = platform_sales,\n",
    "             x = 'total_sales',\n",
    "             y = 'platform')\n",
    "\n",
    "plt.grid()\n",
    "plt.title('Total sales per platform')\n",
    "plt.ylabel('Platform')\n",
    "plt.xlabel('Total Sales')\n",
    "plt.show()\n"
   ]
  },
  {
   "cell_type": "markdown",
   "metadata": {},
   "source": [
    "<div class=\"alert alert-block alert-warning\">\n",
    "<b>Reviewer's comment</b> <a class=\"tocSkip\"></a>\n",
    "\n",
    "Pro tip: it's a good practice to split long code into several lines for more readability.<br>\n",
    "See example below:\n",
    "</div>"
   ]
  },
  {
   "cell_type": "markdown",
   "metadata": {},
   "source": [
    "<div class=\"alert alert-block alert-info\">\n",
    "<b>Student answer.</b> <a class=\"tocSkip\"></a>\n",
    "\n",
    "Got it, I'll work on doing that moving forward.\n",
    "</div>"
   ]
  },
  {
   "cell_type": "markdown",
   "metadata": {},
   "source": [
    "The above data shows that the top 6 platforms (PS2, X360, PS3, Wii, DS, and PS) had a lion's share of the total sales. The remaining platforms had considerably less sales."
   ]
  },
  {
   "cell_type": "markdown",
   "metadata": {},
   "source": [
    "<div class=\"alert alert-block alert-danger\">\n",
    "<s><b>Reviewer's comment</b> <a class=\"tocSkip\"></a>\n",
    "\n",
    "Our recommendation here is to consider using graph. It's a good idea to use bar chart.\n",
    "    \n",
    "</div>"
   ]
  },
  {
   "cell_type": "markdown",
   "metadata": {},
   "source": [
    "<div class=\"alert alert-block alert-info\">\n",
    "<b>Student answer.</b> <a class=\"tocSkip\"></a>\n",
    "\n",
    "I created a bar chart above to display the data.\n",
    "</div>"
   ]
  },
  {
   "cell_type": "markdown",
   "metadata": {},
   "source": [
    "<div class=\"alert alert-block alert-warning\">\n",
    "<b>Reviewer's comment</b> <a class=\"tocSkip\"></a>\n",
    "\n",
    "Pro tip: we can increase size of a picture with \"figsize\" parameter. <br> https://matplotlib.org/3.5.1/api/_as_gen/matplotlib.pyplot.figure.html\n",
    "</div>"
   ]
  },
  {
   "cell_type": "markdown",
   "metadata": {},
   "source": [
    "####  **Choose the platforms with the greatest total sales and build a distribution based on data for each year.**"
   ]
  },
  {
   "cell_type": "code",
   "execution_count": 19,
   "metadata": {},
   "outputs": [
    {
     "data": {
      "text/plain": [
       "['PS2', 'X360', 'PS3', 'Wii', 'DS', 'PS']"
      ]
     },
     "execution_count": 19,
     "metadata": {},
     "output_type": "execute_result"
    }
   ],
   "source": [
    "# Create a new pivot table for only the platforms with more than $700 million in total sales and create a list of the relevant indices\n",
    "top_platform_sales = platform_sales[platform_sales['total_sales'] > 700]\n",
    "platforms_to_keep = list(top_platform_sales.platform)\n",
    "platforms_to_keep\n"
   ]
  },
  {
   "cell_type": "code",
   "execution_count": 20,
   "metadata": {},
   "outputs": [
    {
     "data": {
      "text/html": [
       "<div>\n",
       "<style scoped>\n",
       "    .dataframe tbody tr th:only-of-type {\n",
       "        vertical-align: middle;\n",
       "    }\n",
       "\n",
       "    .dataframe tbody tr th {\n",
       "        vertical-align: top;\n",
       "    }\n",
       "\n",
       "    .dataframe thead th {\n",
       "        text-align: right;\n",
       "    }\n",
       "</style>\n",
       "<table border=\"1\" class=\"dataframe\">\n",
       "  <thead>\n",
       "    <tr style=\"text-align: right;\">\n",
       "      <th></th>\n",
       "      <th></th>\n",
       "      <th>total_sales</th>\n",
       "    </tr>\n",
       "    <tr>\n",
       "      <th>platform</th>\n",
       "      <th>year_of_release</th>\n",
       "      <th></th>\n",
       "    </tr>\n",
       "  </thead>\n",
       "  <tbody>\n",
       "    <tr>\n",
       "      <th>PS2</th>\n",
       "      <th>2004.0</th>\n",
       "      <td>211.81</td>\n",
       "    </tr>\n",
       "    <tr>\n",
       "      <th>Wii</th>\n",
       "      <th>2009.0</th>\n",
       "      <td>206.97</td>\n",
       "    </tr>\n",
       "    <tr>\n",
       "      <th rowspan=\"2\" valign=\"top\">PS2</th>\n",
       "      <th>2002.0</th>\n",
       "      <td>205.38</td>\n",
       "    </tr>\n",
       "    <tr>\n",
       "      <th>2003.0</th>\n",
       "      <td>184.31</td>\n",
       "    </tr>\n",
       "    <tr>\n",
       "      <th>Wii</th>\n",
       "      <th>2008.0</th>\n",
       "      <td>171.32</td>\n",
       "    </tr>\n",
       "    <tr>\n",
       "      <th>...</th>\n",
       "      <th>...</th>\n",
       "      <td>...</td>\n",
       "    </tr>\n",
       "    <tr>\n",
       "      <th>X360</th>\n",
       "      <th>2016.0</th>\n",
       "      <td>1.52</td>\n",
       "    </tr>\n",
       "    <tr>\n",
       "      <th>Wii</th>\n",
       "      <th>2015.0</th>\n",
       "      <td>1.14</td>\n",
       "    </tr>\n",
       "    <tr>\n",
       "      <th>PS2</th>\n",
       "      <th>2011.0</th>\n",
       "      <td>0.45</td>\n",
       "    </tr>\n",
       "    <tr>\n",
       "      <th>Wii</th>\n",
       "      <th>2016.0</th>\n",
       "      <td>0.18</td>\n",
       "    </tr>\n",
       "    <tr>\n",
       "      <th>DS</th>\n",
       "      <th>1985.0</th>\n",
       "      <td>0.02</td>\n",
       "    </tr>\n",
       "  </tbody>\n",
       "</table>\n",
       "<p>67 rows × 1 columns</p>\n",
       "</div>"
      ],
      "text/plain": [
       "                          total_sales\n",
       "platform year_of_release             \n",
       "PS2      2004.0                211.81\n",
       "Wii      2009.0                206.97\n",
       "PS2      2002.0                205.38\n",
       "         2003.0                184.31\n",
       "Wii      2008.0                171.32\n",
       "...                               ...\n",
       "X360     2016.0                  1.52\n",
       "Wii      2015.0                  1.14\n",
       "PS2      2011.0                  0.45\n",
       "Wii      2016.0                  0.18\n",
       "DS       1985.0                  0.02\n",
       "\n",
       "[67 rows x 1 columns]"
      ]
     },
     "metadata": {},
     "output_type": "display_data"
    }
   ],
   "source": [
    "# Create a pivot table to display the total sales for each platform by year\n",
    "platform_sales_years = pd.pivot_table(games[games['platform'].isin(platforms_to_keep)],\n",
    "                                      values = ['total_sales'],\n",
    "                                      index = ['platform', 'year_of_release'],\n",
    "                                      aggfunc = 'sum').sort_values(by = 'total_sales', ascending = False)\n",
    "display(platform_sales_years)\n"
   ]
  },
  {
   "cell_type": "code",
   "execution_count": 21,
   "metadata": {},
   "outputs": [
    {
     "data": {
      "image/png": "[encoded data removed]",
      "text/plain": [
       "<Figure size 432x288 with 1 Axes>"
      ]
     },
     "metadata": {
      "needs_background": "light"
     },
     "output_type": "display_data"
    }
   ],
   "source": [
    "# Create a line graph to plot the total sales per platform per year\n",
    "sns.lineplot(data = platform_sales_years,\n",
    "             x = 'year_of_release',\n",
    "             y = 'total_sales',\n",
    "             hue = 'platform')\n",
    "plt.grid()\n",
    "plt.title('Total sales per platform per year')\n",
    "plt.ylabel('Total Sales')\n",
    "plt.xlabel('Year')\n",
    "plt.show()\n"
   ]
  },
  {
   "cell_type": "markdown",
   "metadata": {},
   "source": [
    "Based on the yearly sales trends of the top 6 platforms with over $700 million in total sales, it appears that even the most popular platforms generally fade in about 10 years after they are released. The exception in the graph above is the DS platform which grew slowly for almost 20 years and then experienced the similar 10 year fade shown in the other platform trends. Prior to 2005, the platforms are released and gain popularity one after another but after 2005, many platforms appeared at around the same time."
   ]
  },
  {
   "cell_type": "markdown",
   "metadata": {},
   "source": [
    "<div class=\"alert alert-block alert-success\">\n",
    "<b>Reviewer's comment</b> <a class=\"tocSkip\"></a>\n",
    "\n",
    "Correct.\n",
    "</div>"
   ]
  },
  {
   "cell_type": "markdown",
   "metadata": {},
   "source": [
    "#### **Determine what period of time the remainder of the analysis will focus on based on the conclusions above.**"
   ]
  },
  {
   "cell_type": "code",
   "execution_count": 22,
   "metadata": {},
   "outputs": [
    {
     "name": "stdout",
     "output_type": "stream",
     "text": [
      "<class 'pandas.core.frame.DataFrame'>\n",
      "RangeIndex: 1689 entries, 0 to 1688\n",
      "Data columns (total 13 columns):\n",
      " #   Column           Non-Null Count  Dtype  \n",
      "---  ------           --------------  -----  \n",
      " 0   index            1689 non-null   int64  \n",
      " 1   name             1689 non-null   object \n",
      " 2   platform         1689 non-null   object \n",
      " 3   year_of_release  1689 non-null   float64\n",
      " 4   genre            1689 non-null   object \n",
      " 5   na_sales         1689 non-null   float64\n",
      " 6   eu_sales         1689 non-null   float64\n",
      " 7   jp_sales         1689 non-null   float64\n",
      " 8   other_sales      1689 non-null   float64\n",
      " 9   critic_score     718 non-null    float64\n",
      " 10  user_score       888 non-null    float64\n",
      " 11  rating           1689 non-null   object \n",
      " 12  total_sales      1689 non-null   float64\n",
      "dtypes: float64(8), int64(1), object(4)\n",
      "memory usage: 171.7+ KB\n"
     ]
    }
   ],
   "source": [
    "# Create a new dataframe that only includes rows where the 'year_of_release' is 2005 or higher and examine the general info of the dataframe\n",
    "new_games = games[games['year_of_release'] >= 2014].reset_index()\n",
    "new_games.info()\n"
   ]
  },
  {
   "cell_type": "code",
   "execution_count": 23,
   "metadata": {},
   "outputs": [
    {
     "data": {
      "text/html": [
       "<div>\n",
       "<style scoped>\n",
       "    .dataframe tbody tr th:only-of-type {\n",
       "        vertical-align: middle;\n",
       "    }\n",
       "\n",
       "    .dataframe tbody tr th {\n",
       "        vertical-align: top;\n",
       "    }\n",
       "\n",
       "    .dataframe thead th {\n",
       "        text-align: right;\n",
       "    }\n",
       "</style>\n",
       "<table border=\"1\" class=\"dataframe\">\n",
       "  <thead>\n",
       "    <tr style=\"text-align: right;\">\n",
       "      <th></th>\n",
       "      <th>index</th>\n",
       "      <th>name</th>\n",
       "      <th>platform</th>\n",
       "      <th>year_of_release</th>\n",
       "      <th>genre</th>\n",
       "      <th>na_sales</th>\n",
       "      <th>eu_sales</th>\n",
       "      <th>jp_sales</th>\n",
       "      <th>other_sales</th>\n",
       "      <th>critic_score</th>\n",
       "      <th>user_score</th>\n",
       "      <th>rating</th>\n",
       "      <th>total_sales</th>\n",
       "    </tr>\n",
       "  </thead>\n",
       "  <tbody>\n",
       "    <tr>\n",
       "      <th>0</th>\n",
       "      <td>31</td>\n",
       "      <td>Call of Duty: Black Ops 3</td>\n",
       "      <td>PS4</td>\n",
       "      <td>2015.0</td>\n",
       "      <td>Shooter</td>\n",
       "      <td>6.03</td>\n",
       "      <td>5.86</td>\n",
       "      <td>0.36</td>\n",
       "      <td>2.38</td>\n",
       "      <td>NaN</td>\n",
       "      <td>NaN</td>\n",
       "      <td>not rated</td>\n",
       "      <td>14.63</td>\n",
       "    </tr>\n",
       "    <tr>\n",
       "      <th>1</th>\n",
       "      <td>42</td>\n",
       "      <td>Grand Theft Auto V</td>\n",
       "      <td>PS4</td>\n",
       "      <td>2014.0</td>\n",
       "      <td>Action</td>\n",
       "      <td>3.96</td>\n",
       "      <td>6.31</td>\n",
       "      <td>0.38</td>\n",
       "      <td>1.97</td>\n",
       "      <td>97.0</td>\n",
       "      <td>83.0</td>\n",
       "      <td>M</td>\n",
       "      <td>12.62</td>\n",
       "    </tr>\n",
       "    <tr>\n",
       "      <th>2</th>\n",
       "      <td>47</td>\n",
       "      <td>Pokemon Omega Ruby/Pokemon Alpha Sapphire</td>\n",
       "      <td>3DS</td>\n",
       "      <td>2014.0</td>\n",
       "      <td>Role-Playing</td>\n",
       "      <td>4.35</td>\n",
       "      <td>3.49</td>\n",
       "      <td>3.10</td>\n",
       "      <td>0.74</td>\n",
       "      <td>NaN</td>\n",
       "      <td>NaN</td>\n",
       "      <td>not rated</td>\n",
       "      <td>11.68</td>\n",
       "    </tr>\n",
       "    <tr>\n",
       "      <th>3</th>\n",
       "      <td>77</td>\n",
       "      <td>FIFA 16</td>\n",
       "      <td>PS4</td>\n",
       "      <td>2015.0</td>\n",
       "      <td>Sports</td>\n",
       "      <td>1.12</td>\n",
       "      <td>6.12</td>\n",
       "      <td>0.06</td>\n",
       "      <td>1.28</td>\n",
       "      <td>82.0</td>\n",
       "      <td>43.0</td>\n",
       "      <td>E</td>\n",
       "      <td>8.58</td>\n",
       "    </tr>\n",
       "    <tr>\n",
       "      <th>4</th>\n",
       "      <td>87</td>\n",
       "      <td>Star Wars Battlefront (2015)</td>\n",
       "      <td>PS4</td>\n",
       "      <td>2015.0</td>\n",
       "      <td>Shooter</td>\n",
       "      <td>2.99</td>\n",
       "      <td>3.49</td>\n",
       "      <td>0.22</td>\n",
       "      <td>1.28</td>\n",
       "      <td>NaN</td>\n",
       "      <td>NaN</td>\n",
       "      <td>not rated</td>\n",
       "      <td>7.98</td>\n",
       "    </tr>\n",
       "    <tr>\n",
       "      <th>...</th>\n",
       "      <td>...</td>\n",
       "      <td>...</td>\n",
       "      <td>...</td>\n",
       "      <td>...</td>\n",
       "      <td>...</td>\n",
       "      <td>...</td>\n",
       "      <td>...</td>\n",
       "      <td>...</td>\n",
       "      <td>...</td>\n",
       "      <td>...</td>\n",
       "      <td>...</td>\n",
       "      <td>...</td>\n",
       "      <td>...</td>\n",
       "    </tr>\n",
       "    <tr>\n",
       "      <th>1684</th>\n",
       "      <td>16703</td>\n",
       "      <td>Strawberry Nauts</td>\n",
       "      <td>PSV</td>\n",
       "      <td>2016.0</td>\n",
       "      <td>Adventure</td>\n",
       "      <td>0.00</td>\n",
       "      <td>0.00</td>\n",
       "      <td>0.01</td>\n",
       "      <td>0.00</td>\n",
       "      <td>NaN</td>\n",
       "      <td>NaN</td>\n",
       "      <td>not rated</td>\n",
       "      <td>0.01</td>\n",
       "    </tr>\n",
       "    <tr>\n",
       "      <th>1685</th>\n",
       "      <td>16707</td>\n",
       "      <td>Aiyoku no Eustia</td>\n",
       "      <td>PSV</td>\n",
       "      <td>2014.0</td>\n",
       "      <td>Misc</td>\n",
       "      <td>0.00</td>\n",
       "      <td>0.00</td>\n",
       "      <td>0.01</td>\n",
       "      <td>0.00</td>\n",
       "      <td>NaN</td>\n",
       "      <td>NaN</td>\n",
       "      <td>not rated</td>\n",
       "      <td>0.01</td>\n",
       "    </tr>\n",
       "    <tr>\n",
       "      <th>1686</th>\n",
       "      <td>16710</td>\n",
       "      <td>Samurai Warriors: Sanada Maru</td>\n",
       "      <td>PS3</td>\n",
       "      <td>2016.0</td>\n",
       "      <td>Action</td>\n",
       "      <td>0.00</td>\n",
       "      <td>0.00</td>\n",
       "      <td>0.01</td>\n",
       "      <td>0.00</td>\n",
       "      <td>NaN</td>\n",
       "      <td>NaN</td>\n",
       "      <td>not rated</td>\n",
       "      <td>0.01</td>\n",
       "    </tr>\n",
       "    <tr>\n",
       "      <th>1687</th>\n",
       "      <td>16712</td>\n",
       "      <td>Haitaka no Psychedelica</td>\n",
       "      <td>PSV</td>\n",
       "      <td>2016.0</td>\n",
       "      <td>Adventure</td>\n",
       "      <td>0.00</td>\n",
       "      <td>0.00</td>\n",
       "      <td>0.01</td>\n",
       "      <td>0.00</td>\n",
       "      <td>NaN</td>\n",
       "      <td>NaN</td>\n",
       "      <td>not rated</td>\n",
       "      <td>0.01</td>\n",
       "    </tr>\n",
       "    <tr>\n",
       "      <th>1688</th>\n",
       "      <td>16714</td>\n",
       "      <td>Winning Post 8 2016</td>\n",
       "      <td>PSV</td>\n",
       "      <td>2016.0</td>\n",
       "      <td>Simulation</td>\n",
       "      <td>0.00</td>\n",
       "      <td>0.00</td>\n",
       "      <td>0.01</td>\n",
       "      <td>0.00</td>\n",
       "      <td>NaN</td>\n",
       "      <td>NaN</td>\n",
       "      <td>not rated</td>\n",
       "      <td>0.01</td>\n",
       "    </tr>\n",
       "  </tbody>\n",
       "</table>\n",
       "<p>1689 rows × 13 columns</p>\n",
       "</div>"
      ],
      "text/plain": [
       "      index                                       name platform  \\\n",
       "0        31                  Call of Duty: Black Ops 3      PS4   \n",
       "1        42                         Grand Theft Auto V      PS4   \n",
       "2        47  Pokemon Omega Ruby/Pokemon Alpha Sapphire      3DS   \n",
       "3        77                                    FIFA 16      PS4   \n",
       "4        87               Star Wars Battlefront (2015)      PS4   \n",
       "...     ...                                        ...      ...   \n",
       "1684  16703                           Strawberry Nauts      PSV   \n",
       "1685  16707                           Aiyoku no Eustia      PSV   \n",
       "1686  16710              Samurai Warriors: Sanada Maru      PS3   \n",
       "1687  16712                    Haitaka no Psychedelica      PSV   \n",
       "1688  16714                        Winning Post 8 2016      PSV   \n",
       "\n",
       "      year_of_release         genre  na_sales  eu_sales  jp_sales  \\\n",
       "0              2015.0       Shooter      6.03      5.86      0.36   \n",
       "1              2014.0        Action      3.96      6.31      0.38   \n",
       "2              2014.0  Role-Playing      4.35      3.49      3.10   \n",
       "3              2015.0        Sports      1.12      6.12      0.06   \n",
       "4              2015.0       Shooter      2.99      3.49      0.22   \n",
       "...               ...           ...       ...       ...       ...   \n",
       "1684           2016.0     Adventure      0.00      0.00      0.01   \n",
       "1685           2014.0          Misc      0.00      0.00      0.01   \n",
       "1686           2016.0        Action      0.00      0.00      0.01   \n",
       "1687           2016.0     Adventure      0.00      0.00      0.01   \n",
       "1688           2016.0    Simulation      0.00      0.00      0.01   \n",
       "\n",
       "      other_sales  critic_score  user_score     rating  total_sales  \n",
       "0            2.38           NaN         NaN  not rated        14.63  \n",
       "1            1.97          97.0        83.0          M        12.62  \n",
       "2            0.74           NaN         NaN  not rated        11.68  \n",
       "3            1.28          82.0        43.0          E         8.58  \n",
       "4            1.28           NaN         NaN  not rated         7.98  \n",
       "...           ...           ...         ...        ...          ...  \n",
       "1684         0.00           NaN         NaN  not rated         0.01  \n",
       "1685         0.00           NaN         NaN  not rated         0.01  \n",
       "1686         0.00           NaN         NaN  not rated         0.01  \n",
       "1687         0.00           NaN         NaN  not rated         0.01  \n",
       "1688         0.00           NaN         NaN  not rated         0.01  \n",
       "\n",
       "[1689 rows x 13 columns]"
      ]
     },
     "execution_count": 23,
     "metadata": {},
     "output_type": "execute_result"
    }
   ],
   "source": [
    "# Look at a sample of the new dataframe\n",
    "new_games\n"
   ]
  },
  {
   "cell_type": "markdown",
   "metadata": {},
   "source": [
    "Based on the prior analyses showing that that platforms have lifespans of about 10 years, and that the most recent popular platforms emerged around 2005, it seems appropriate to look at data from 2005 onward. And for the purpose of building a prognosis for 2017, it will be best to focus on an even smaller timeframe (2-3 years) to capture current, non-obsolete trends. As such, the new dataframe 'new_games', which captures data from 2014 onward, will be used for the remainder of the analysis."
   ]
  },
  {
   "cell_type": "markdown",
   "metadata": {},
   "source": [
    "<div class=\"alert alert-block alert-danger\">\n",
    "<s><b>Reviewer's comment</b> <a class=\"tocSkip\"></a>\n",
    "\n",
    "For the purpose of forecasting sales for the next year, even traditional businesses rarely take data for more than 2-3 years. And in such a dynamically changing industry as computer games, you should not take too long a time interval at all - otherwise you will definitely capture obsolete trends.\n",
    "\n",
    "</div>"
   ]
  },
  {
   "cell_type": "markdown",
   "metadata": {},
   "source": [
    "<div class=\"alert alert-block alert-info\">\n",
    "<b>Student answer.</b> <a class=\"tocSkip\"></a>\n",
    "\n",
    "I changed the time interval of the analysis to 2014 and onward.\n",
    "</div>"
   ]
  },
  {
   "cell_type": "markdown",
   "metadata": {},
   "source": [
    "<div class=\"alert alert-block alert-success\">\n",
    "<b>Reviewer's comment</b> <a class=\"tocSkip\"></a>\n",
    "\n",
    "Well done!\n",
    "</div>"
   ]
  },
  {
   "cell_type": "markdown",
   "metadata": {},
   "source": [
    "#### **Determine which platforms in the new dataframe are leading in sales, and which ones are growing/shrinking.**"
   ]
  },
  {
   "cell_type": "code",
   "execution_count": 24,
   "metadata": {},
   "outputs": [
    {
     "data": {
      "text/html": [
       "<div>\n",
       "<style scoped>\n",
       "    .dataframe tbody tr th:only-of-type {\n",
       "        vertical-align: middle;\n",
       "    }\n",
       "\n",
       "    .dataframe tbody tr th {\n",
       "        vertical-align: top;\n",
       "    }\n",
       "\n",
       "    .dataframe thead th {\n",
       "        text-align: right;\n",
       "    }\n",
       "</style>\n",
       "<table border=\"1\" class=\"dataframe\">\n",
       "  <thead>\n",
       "    <tr style=\"text-align: right;\">\n",
       "      <th></th>\n",
       "      <th>total_sales</th>\n",
       "    </tr>\n",
       "    <tr>\n",
       "      <th>platform</th>\n",
       "      <th></th>\n",
       "    </tr>\n",
       "  </thead>\n",
       "  <tbody>\n",
       "    <tr>\n",
       "      <th>PS4</th>\n",
       "      <td>288.15</td>\n",
       "    </tr>\n",
       "    <tr>\n",
       "      <th>XOne</th>\n",
       "      <td>140.36</td>\n",
       "    </tr>\n",
       "    <tr>\n",
       "      <th>3DS</th>\n",
       "      <td>86.68</td>\n",
       "    </tr>\n",
       "    <tr>\n",
       "      <th>PS3</th>\n",
       "      <td>68.18</td>\n",
       "    </tr>\n",
       "    <tr>\n",
       "      <th>X360</th>\n",
       "      <td>48.22</td>\n",
       "    </tr>\n",
       "    <tr>\n",
       "      <th>WiiU</th>\n",
       "      <td>42.98</td>\n",
       "    </tr>\n",
       "    <tr>\n",
       "      <th>PC</th>\n",
       "      <td>27.05</td>\n",
       "    </tr>\n",
       "    <tr>\n",
       "      <th>PSV</th>\n",
       "      <td>22.40</td>\n",
       "    </tr>\n",
       "    <tr>\n",
       "      <th>Wii</th>\n",
       "      <td>5.07</td>\n",
       "    </tr>\n",
       "    <tr>\n",
       "      <th>PSP</th>\n",
       "      <td>0.36</td>\n",
       "    </tr>\n",
       "  </tbody>\n",
       "</table>\n",
       "</div>"
      ],
      "text/plain": [
       "          total_sales\n",
       "platform             \n",
       "PS4            288.15\n",
       "XOne           140.36\n",
       "3DS             86.68\n",
       "PS3             68.18\n",
       "X360            48.22\n",
       "WiiU            42.98\n",
       "PC              27.05\n",
       "PSV             22.40\n",
       "Wii              5.07\n",
       "PSP              0.36"
      ]
     },
     "metadata": {},
     "output_type": "display_data"
    }
   ],
   "source": [
    "# Create a pivot table to display the total sales for each platform\n",
    "platform_sales = pd.pivot_table(new_games,\n",
    "                                values = ['total_sales'],\n",
    "                                index = ['platform'],\n",
    "                                aggfunc = 'sum').sort_values(by = 'total_sales', ascending = False)\n",
    "display(platform_sales)\n"
   ]
  },
  {
   "cell_type": "code",
   "execution_count": 25,
   "metadata": {},
   "outputs": [
    {
     "data": {
      "image/png": "[encoded data removed]",
      "text/plain": [
       "<Figure size 432x288 with 1 Axes>"
      ]
     },
     "metadata": {
      "needs_background": "light"
     },
     "output_type": "display_data"
    }
   ],
   "source": [
    "# Create a bar chart to display the total sales per platform\n",
    "platform_sales = platform_sales.reset_index()\n",
    "\n",
    "sns.barplot(data = platform_sales,\n",
    "             x = 'total_sales',\n",
    "             y = 'platform')\n",
    "\n",
    "plt.grid()\n",
    "plt.title('Total sales per platform')\n",
    "plt.ylabel('Platform')\n",
    "plt.xlabel('Total Sales')\n",
    "plt.show()\n"
   ]
  },
  {
   "cell_type": "code",
   "execution_count": 26,
   "metadata": {},
   "outputs": [
    {
     "data": {
      "text/html": [
       "<div>\n",
       "<style scoped>\n",
       "    .dataframe tbody tr th:only-of-type {\n",
       "        vertical-align: middle;\n",
       "    }\n",
       "\n",
       "    .dataframe tbody tr th {\n",
       "        vertical-align: top;\n",
       "    }\n",
       "\n",
       "    .dataframe thead th {\n",
       "        text-align: right;\n",
       "    }\n",
       "</style>\n",
       "<table border=\"1\" class=\"dataframe\">\n",
       "  <thead>\n",
       "    <tr style=\"text-align: right;\">\n",
       "      <th></th>\n",
       "      <th></th>\n",
       "      <th>total_sales</th>\n",
       "    </tr>\n",
       "    <tr>\n",
       "      <th>platform</th>\n",
       "      <th>year_of_release</th>\n",
       "      <th></th>\n",
       "    </tr>\n",
       "  </thead>\n",
       "  <tbody>\n",
       "    <tr>\n",
       "      <th rowspan=\"3\" valign=\"top\">PS4</th>\n",
       "      <th>2015.0</th>\n",
       "      <td>118.90</td>\n",
       "    </tr>\n",
       "    <tr>\n",
       "      <th>2014.0</th>\n",
       "      <td>100.00</td>\n",
       "    </tr>\n",
       "    <tr>\n",
       "      <th>2016.0</th>\n",
       "      <td>69.25</td>\n",
       "    </tr>\n",
       "    <tr>\n",
       "      <th rowspan=\"2\" valign=\"top\">XOne</th>\n",
       "      <th>2015.0</th>\n",
       "      <td>60.14</td>\n",
       "    </tr>\n",
       "    <tr>\n",
       "      <th>2014.0</th>\n",
       "      <td>54.07</td>\n",
       "    </tr>\n",
       "    <tr>\n",
       "      <th>PS3</th>\n",
       "      <th>2014.0</th>\n",
       "      <td>47.76</td>\n",
       "    </tr>\n",
       "    <tr>\n",
       "      <th>3DS</th>\n",
       "      <th>2014.0</th>\n",
       "      <td>43.76</td>\n",
       "    </tr>\n",
       "    <tr>\n",
       "      <th>X360</th>\n",
       "      <th>2014.0</th>\n",
       "      <td>34.74</td>\n",
       "    </tr>\n",
       "    <tr>\n",
       "      <th>3DS</th>\n",
       "      <th>2015.0</th>\n",
       "      <td>27.78</td>\n",
       "    </tr>\n",
       "    <tr>\n",
       "      <th>XOne</th>\n",
       "      <th>2016.0</th>\n",
       "      <td>26.15</td>\n",
       "    </tr>\n",
       "    <tr>\n",
       "      <th>WiiU</th>\n",
       "      <th>2014.0</th>\n",
       "      <td>22.03</td>\n",
       "    </tr>\n",
       "    <tr>\n",
       "      <th>PS3</th>\n",
       "      <th>2015.0</th>\n",
       "      <td>16.82</td>\n",
       "    </tr>\n",
       "    <tr>\n",
       "      <th>WiiU</th>\n",
       "      <th>2015.0</th>\n",
       "      <td>16.35</td>\n",
       "    </tr>\n",
       "    <tr>\n",
       "      <th>3DS</th>\n",
       "      <th>2016.0</th>\n",
       "      <td>15.14</td>\n",
       "    </tr>\n",
       "    <tr>\n",
       "      <th>PC</th>\n",
       "      <th>2014.0</th>\n",
       "      <td>13.28</td>\n",
       "    </tr>\n",
       "    <tr>\n",
       "      <th>X360</th>\n",
       "      <th>2015.0</th>\n",
       "      <td>11.96</td>\n",
       "    </tr>\n",
       "    <tr>\n",
       "      <th>PSV</th>\n",
       "      <th>2014.0</th>\n",
       "      <td>11.90</td>\n",
       "    </tr>\n",
       "    <tr>\n",
       "      <th>PC</th>\n",
       "      <th>2015.0</th>\n",
       "      <td>8.52</td>\n",
       "    </tr>\n",
       "    <tr>\n",
       "      <th>PSV</th>\n",
       "      <th>2015.0</th>\n",
       "      <td>6.25</td>\n",
       "    </tr>\n",
       "    <tr>\n",
       "      <th>PC</th>\n",
       "      <th>2016.0</th>\n",
       "      <td>5.25</td>\n",
       "    </tr>\n",
       "    <tr>\n",
       "      <th>WiiU</th>\n",
       "      <th>2016.0</th>\n",
       "      <td>4.60</td>\n",
       "    </tr>\n",
       "    <tr>\n",
       "      <th>PSV</th>\n",
       "      <th>2016.0</th>\n",
       "      <td>4.25</td>\n",
       "    </tr>\n",
       "    <tr>\n",
       "      <th>Wii</th>\n",
       "      <th>2014.0</th>\n",
       "      <td>3.75</td>\n",
       "    </tr>\n",
       "    <tr>\n",
       "      <th>PS3</th>\n",
       "      <th>2016.0</th>\n",
       "      <td>3.60</td>\n",
       "    </tr>\n",
       "    <tr>\n",
       "      <th>X360</th>\n",
       "      <th>2016.0</th>\n",
       "      <td>1.52</td>\n",
       "    </tr>\n",
       "    <tr>\n",
       "      <th>Wii</th>\n",
       "      <th>2015.0</th>\n",
       "      <td>1.14</td>\n",
       "    </tr>\n",
       "    <tr>\n",
       "      <th>PSP</th>\n",
       "      <th>2014.0</th>\n",
       "      <td>0.24</td>\n",
       "    </tr>\n",
       "    <tr>\n",
       "      <th>Wii</th>\n",
       "      <th>2016.0</th>\n",
       "      <td>0.18</td>\n",
       "    </tr>\n",
       "    <tr>\n",
       "      <th>PSP</th>\n",
       "      <th>2015.0</th>\n",
       "      <td>0.12</td>\n",
       "    </tr>\n",
       "  </tbody>\n",
       "</table>\n",
       "</div>"
      ],
      "text/plain": [
       "                          total_sales\n",
       "platform year_of_release             \n",
       "PS4      2015.0                118.90\n",
       "         2014.0                100.00\n",
       "         2016.0                 69.25\n",
       "XOne     2015.0                 60.14\n",
       "         2014.0                 54.07\n",
       "PS3      2014.0                 47.76\n",
       "3DS      2014.0                 43.76\n",
       "X360     2014.0                 34.74\n",
       "3DS      2015.0                 27.78\n",
       "XOne     2016.0                 26.15\n",
       "WiiU     2014.0                 22.03\n",
       "PS3      2015.0                 16.82\n",
       "WiiU     2015.0                 16.35\n",
       "3DS      2016.0                 15.14\n",
       "PC       2014.0                 13.28\n",
       "X360     2015.0                 11.96\n",
       "PSV      2014.0                 11.90\n",
       "PC       2015.0                  8.52\n",
       "PSV      2015.0                  6.25\n",
       "PC       2016.0                  5.25\n",
       "WiiU     2016.0                  4.60\n",
       "PSV      2016.0                  4.25\n",
       "Wii      2014.0                  3.75\n",
       "PS3      2016.0                  3.60\n",
       "X360     2016.0                  1.52\n",
       "Wii      2015.0                  1.14\n",
       "PSP      2014.0                  0.24\n",
       "Wii      2016.0                  0.18\n",
       "PSP      2015.0                  0.12"
      ]
     },
     "metadata": {},
     "output_type": "display_data"
    }
   ],
   "source": [
    "# Create a pivot table to display the total sales for each platform by year\n",
    "new_platform_sales_years = pd.pivot_table(new_games,\n",
    "                                          values = ['total_sales'],\n",
    "                                          index = ['platform', 'year_of_release'],\n",
    "                                          aggfunc = 'sum').sort_values(by = 'total_sales', ascending = False)\n",
    "display(new_platform_sales_years)\n"
   ]
  },
  {
   "cell_type": "code",
   "execution_count": 27,
   "metadata": {},
   "outputs": [
    {
     "data": {
      "image/png": "[encoded data removed]",
      "text/plain": [
       "<Figure size 432x288 with 1 Axes>"
      ]
     },
     "metadata": {
      "needs_background": "light"
     },
     "output_type": "display_data"
    }
   ],
   "source": [
    "# Create a line graph to plot the total sales per platform per year\n",
    "sns.lineplot(data = new_platform_sales_years,\n",
    "             x = 'year_of_release',\n",
    "             y = 'total_sales',\n",
    "             hue = 'platform')\n",
    "plt.grid()\n",
    "plt.title('Total sales per platform per year')\n",
    "plt.ylabel('Total Sales')\n",
    "plt.xlabel('Year')\n",
    "plt.legend(loc='center left', bbox_to_anchor=(1.0, 0.5))\n",
    "plt.show()\n"
   ]
  },
  {
   "cell_type": "markdown",
   "metadata": {},
   "source": [
    "Based on the graph above, it appears that newer platforms like PS4, 3DS, and XOne are the most popular when you look at 2016 though they may be in their waning phase. Given that main purpose of the analysis is to forecast 2017 sales, it makes sense to focus on the platforms that have shown to be profitable in recent years. Therefore, the rest of this analysis will focus on **PS4, XOne, and 3DS** which seem to be the platforms with the greatest potential to be profitable in 2017."
   ]
  },
  {
   "cell_type": "markdown",
   "metadata": {},
   "source": [
    "<div class=\"alert alert-block alert-danger\">\n",
    "<s><b>Reviewer's comment</b> <a class=\"tocSkip\"></a>\n",
    "\n",
    "Something needs to be changed, but don't worry, you've got this. <br>\n",
    "    Let's try to plot pivot table. Consider using barplot. <br>\n",
    "    https://seaborn.pydata.org/generated/seaborn.barplot.html\n",
    "\n",
    "</div>"
   ]
  },
  {
   "cell_type": "markdown",
   "metadata": {},
   "source": [
    "<div class=\"alert alert-block alert-info\">\n",
    "<b>Student answer.</b> <a class=\"tocSkip\"></a>\n",
    "\n",
    "I created a barplot for 'platform_sales' above to better visualize the pivot table data.\n",
    "</div>"
   ]
  },
  {
   "cell_type": "markdown",
   "metadata": {},
   "source": [
    "<div class=\"alert alert-block alert-warning\">\n",
    "<b>Reviewer's comment</b> <a class=\"tocSkip\"></a>\n",
    "\n",
    "Ok, but it's a good idea to correct size of a picture and convert axis labels to readable format.\n",
    "\n",
    "</div>"
   ]
  },
  {
   "cell_type": "markdown",
   "metadata": {},
   "source": [
    "#### **Build a box plot for the global sales of all games, broken down by platform. Calculate the average sales for each platform.**"
   ]
  },
  {
   "cell_type": "code",
   "execution_count": 28,
   "metadata": {},
   "outputs": [
    {
     "data": {
      "text/plain": [
       "['PS4', 'XOne', '3DS']"
      ]
     },
     "execution_count": 28,
     "metadata": {},
     "output_type": "execute_result"
    }
   ],
   "source": [
    "# Create a list of the platforms with total sales greater than 15 million in 2016\n",
    "new_platform_sales_years.reset_index(inplace = True)\n",
    "top_platforms = new_platform_sales_years[(new_platform_sales_years['year_of_release'] == 2016) & (new_platform_sales_years['total_sales'] > 15)]\n",
    "top_platforms_list = list(top_platforms.platform)\n",
    "top_platforms_list\n"
   ]
  },
  {
   "cell_type": "code",
   "execution_count": 29,
   "metadata": {},
   "outputs": [
    {
     "data": {
      "text/html": [
       "<div>\n",
       "<style scoped>\n",
       "    .dataframe tbody tr th:only-of-type {\n",
       "        vertical-align: middle;\n",
       "    }\n",
       "\n",
       "    .dataframe tbody tr th {\n",
       "        vertical-align: top;\n",
       "    }\n",
       "\n",
       "    .dataframe thead th {\n",
       "        text-align: right;\n",
       "    }\n",
       "</style>\n",
       "<table border=\"1\" class=\"dataframe\">\n",
       "  <thead>\n",
       "    <tr style=\"text-align: right;\">\n",
       "      <th></th>\n",
       "      <th>index</th>\n",
       "      <th>name</th>\n",
       "      <th>platform</th>\n",
       "      <th>year_of_release</th>\n",
       "      <th>genre</th>\n",
       "      <th>na_sales</th>\n",
       "      <th>eu_sales</th>\n",
       "      <th>jp_sales</th>\n",
       "      <th>other_sales</th>\n",
       "      <th>critic_score</th>\n",
       "      <th>user_score</th>\n",
       "      <th>rating</th>\n",
       "      <th>total_sales</th>\n",
       "    </tr>\n",
       "  </thead>\n",
       "  <tbody>\n",
       "    <tr>\n",
       "      <th>0</th>\n",
       "      <td>31</td>\n",
       "      <td>Call of Duty: Black Ops 3</td>\n",
       "      <td>PS4</td>\n",
       "      <td>2015.0</td>\n",
       "      <td>Shooter</td>\n",
       "      <td>6.03</td>\n",
       "      <td>5.86</td>\n",
       "      <td>0.36</td>\n",
       "      <td>2.38</td>\n",
       "      <td>NaN</td>\n",
       "      <td>NaN</td>\n",
       "      <td>not rated</td>\n",
       "      <td>14.63</td>\n",
       "    </tr>\n",
       "    <tr>\n",
       "      <th>1</th>\n",
       "      <td>42</td>\n",
       "      <td>Grand Theft Auto V</td>\n",
       "      <td>PS4</td>\n",
       "      <td>2014.0</td>\n",
       "      <td>Action</td>\n",
       "      <td>3.96</td>\n",
       "      <td>6.31</td>\n",
       "      <td>0.38</td>\n",
       "      <td>1.97</td>\n",
       "      <td>97.0</td>\n",
       "      <td>83.0</td>\n",
       "      <td>M</td>\n",
       "      <td>12.62</td>\n",
       "    </tr>\n",
       "    <tr>\n",
       "      <th>2</th>\n",
       "      <td>47</td>\n",
       "      <td>Pokemon Omega Ruby/Pokemon Alpha Sapphire</td>\n",
       "      <td>3DS</td>\n",
       "      <td>2014.0</td>\n",
       "      <td>Role-Playing</td>\n",
       "      <td>4.35</td>\n",
       "      <td>3.49</td>\n",
       "      <td>3.10</td>\n",
       "      <td>0.74</td>\n",
       "      <td>NaN</td>\n",
       "      <td>NaN</td>\n",
       "      <td>not rated</td>\n",
       "      <td>11.68</td>\n",
       "    </tr>\n",
       "    <tr>\n",
       "      <th>3</th>\n",
       "      <td>77</td>\n",
       "      <td>FIFA 16</td>\n",
       "      <td>PS4</td>\n",
       "      <td>2015.0</td>\n",
       "      <td>Sports</td>\n",
       "      <td>1.12</td>\n",
       "      <td>6.12</td>\n",
       "      <td>0.06</td>\n",
       "      <td>1.28</td>\n",
       "      <td>82.0</td>\n",
       "      <td>43.0</td>\n",
       "      <td>E</td>\n",
       "      <td>8.58</td>\n",
       "    </tr>\n",
       "    <tr>\n",
       "      <th>4</th>\n",
       "      <td>87</td>\n",
       "      <td>Star Wars Battlefront (2015)</td>\n",
       "      <td>PS4</td>\n",
       "      <td>2015.0</td>\n",
       "      <td>Shooter</td>\n",
       "      <td>2.99</td>\n",
       "      <td>3.49</td>\n",
       "      <td>0.22</td>\n",
       "      <td>1.28</td>\n",
       "      <td>NaN</td>\n",
       "      <td>NaN</td>\n",
       "      <td>not rated</td>\n",
       "      <td>7.98</td>\n",
       "    </tr>\n",
       "    <tr>\n",
       "      <th>...</th>\n",
       "      <td>...</td>\n",
       "      <td>...</td>\n",
       "      <td>...</td>\n",
       "      <td>...</td>\n",
       "      <td>...</td>\n",
       "      <td>...</td>\n",
       "      <td>...</td>\n",
       "      <td>...</td>\n",
       "      <td>...</td>\n",
       "      <td>...</td>\n",
       "      <td>...</td>\n",
       "      <td>...</td>\n",
       "      <td>...</td>\n",
       "    </tr>\n",
       "    <tr>\n",
       "      <th>1669</th>\n",
       "      <td>16645</td>\n",
       "      <td>ZombiU</td>\n",
       "      <td>XOne</td>\n",
       "      <td>2016.0</td>\n",
       "      <td>Action</td>\n",
       "      <td>0.00</td>\n",
       "      <td>0.01</td>\n",
       "      <td>0.00</td>\n",
       "      <td>0.00</td>\n",
       "      <td>NaN</td>\n",
       "      <td>NaN</td>\n",
       "      <td>not rated</td>\n",
       "      <td>0.01</td>\n",
       "    </tr>\n",
       "    <tr>\n",
       "      <th>1672</th>\n",
       "      <td>16660</td>\n",
       "      <td>Prison Architect</td>\n",
       "      <td>XOne</td>\n",
       "      <td>2016.0</td>\n",
       "      <td>Action</td>\n",
       "      <td>0.01</td>\n",
       "      <td>0.00</td>\n",
       "      <td>0.00</td>\n",
       "      <td>0.00</td>\n",
       "      <td>74.0</td>\n",
       "      <td>67.0</td>\n",
       "      <td>not rated</td>\n",
       "      <td>0.01</td>\n",
       "    </tr>\n",
       "    <tr>\n",
       "      <th>1675</th>\n",
       "      <td>16668</td>\n",
       "      <td>Fujiko F. Fujio Characters: Great Assembly! Sl...</td>\n",
       "      <td>3DS</td>\n",
       "      <td>2014.0</td>\n",
       "      <td>Action</td>\n",
       "      <td>0.00</td>\n",
       "      <td>0.00</td>\n",
       "      <td>0.01</td>\n",
       "      <td>0.00</td>\n",
       "      <td>NaN</td>\n",
       "      <td>NaN</td>\n",
       "      <td>not rated</td>\n",
       "      <td>0.01</td>\n",
       "    </tr>\n",
       "    <tr>\n",
       "      <th>1676</th>\n",
       "      <td>16672</td>\n",
       "      <td>Metal Gear Solid V: The Definitive Experience</td>\n",
       "      <td>XOne</td>\n",
       "      <td>2016.0</td>\n",
       "      <td>Action</td>\n",
       "      <td>0.01</td>\n",
       "      <td>0.00</td>\n",
       "      <td>0.00</td>\n",
       "      <td>0.00</td>\n",
       "      <td>NaN</td>\n",
       "      <td>NaN</td>\n",
       "      <td>M</td>\n",
       "      <td>0.01</td>\n",
       "    </tr>\n",
       "    <tr>\n",
       "      <th>1678</th>\n",
       "      <td>16677</td>\n",
       "      <td>Aikatsu Stars! My Special Appeal</td>\n",
       "      <td>3DS</td>\n",
       "      <td>2016.0</td>\n",
       "      <td>Action</td>\n",
       "      <td>0.00</td>\n",
       "      <td>0.00</td>\n",
       "      <td>0.01</td>\n",
       "      <td>0.00</td>\n",
       "      <td>NaN</td>\n",
       "      <td>NaN</td>\n",
       "      <td>not rated</td>\n",
       "      <td>0.01</td>\n",
       "    </tr>\n",
       "  </tbody>\n",
       "</table>\n",
       "<p>816 rows × 13 columns</p>\n",
       "</div>"
      ],
      "text/plain": [
       "      index                                               name platform  \\\n",
       "0        31                          Call of Duty: Black Ops 3      PS4   \n",
       "1        42                                 Grand Theft Auto V      PS4   \n",
       "2        47          Pokemon Omega Ruby/Pokemon Alpha Sapphire      3DS   \n",
       "3        77                                            FIFA 16      PS4   \n",
       "4        87                       Star Wars Battlefront (2015)      PS4   \n",
       "...     ...                                                ...      ...   \n",
       "1669  16645                                             ZombiU     XOne   \n",
       "1672  16660                                   Prison Architect     XOne   \n",
       "1675  16668  Fujiko F. Fujio Characters: Great Assembly! Sl...      3DS   \n",
       "1676  16672      Metal Gear Solid V: The Definitive Experience     XOne   \n",
       "1678  16677                   Aikatsu Stars! My Special Appeal      3DS   \n",
       "\n",
       "      year_of_release         genre  na_sales  eu_sales  jp_sales  \\\n",
       "0              2015.0       Shooter      6.03      5.86      0.36   \n",
       "1              2014.0        Action      3.96      6.31      0.38   \n",
       "2              2014.0  Role-Playing      4.35      3.49      3.10   \n",
       "3              2015.0        Sports      1.12      6.12      0.06   \n",
       "4              2015.0       Shooter      2.99      3.49      0.22   \n",
       "...               ...           ...       ...       ...       ...   \n",
       "1669           2016.0        Action      0.00      0.01      0.00   \n",
       "1672           2016.0        Action      0.01      0.00      0.00   \n",
       "1675           2014.0        Action      0.00      0.00      0.01   \n",
       "1676           2016.0        Action      0.01      0.00      0.00   \n",
       "1678           2016.0        Action      0.00      0.00      0.01   \n",
       "\n",
       "      other_sales  critic_score  user_score     rating  total_sales  \n",
       "0            2.38           NaN         NaN  not rated        14.63  \n",
       "1            1.97          97.0        83.0          M        12.62  \n",
       "2            0.74           NaN         NaN  not rated        11.68  \n",
       "3            1.28          82.0        43.0          E         8.58  \n",
       "4            1.28           NaN         NaN  not rated         7.98  \n",
       "...           ...           ...         ...        ...          ...  \n",
       "1669         0.00           NaN         NaN  not rated         0.01  \n",
       "1672         0.00          74.0        67.0  not rated         0.01  \n",
       "1675         0.00           NaN         NaN  not rated         0.01  \n",
       "1676         0.00           NaN         NaN          M         0.01  \n",
       "1678         0.00           NaN         NaN  not rated         0.01  \n",
       "\n",
       "[816 rows x 13 columns]"
      ]
     },
     "execution_count": 29,
     "metadata": {},
     "output_type": "execute_result"
    }
   ],
   "source": [
    "# Create a new dataframe with only the data for games using the platforms in 'top_platform_list'\n",
    "global_sales = new_games[new_games['platform'].isin(top_platforms_list)]\n",
    "global_sales\n"
   ]
  },
  {
   "cell_type": "code",
   "execution_count": 30,
   "metadata": {},
   "outputs": [
    {
     "data": {
      "image/png": "[encoded data removed]",
      "text/plain": [
       "<Figure size 720x360 with 1 Axes>"
      ]
     },
     "metadata": {
      "needs_background": "light"
     },
     "output_type": "display_data"
    }
   ],
   "source": [
    "# Plot boxplots to visualize the total global sales for all games broken down by platform\n",
    "global_sales[['total_sales', 'platform']].boxplot(figsize=(10, 5), by='platform')\n",
    "\n",
    "plt.title('Global sales of all games by platform')\n",
    "plt.ylabel('Total sales (in millions)')\n",
    "plt.xlabel('Platform')\n",
    "plt.show()\n"
   ]
  },
  {
   "cell_type": "code",
   "execution_count": 31,
   "metadata": {},
   "outputs": [
    {
     "data": {
      "image/png": "[encoded data removed]",
      "text/plain": [
       "<Figure size 720x360 with 1 Axes>"
      ]
     },
     "metadata": {
      "needs_background": "light"
     },
     "output_type": "display_data"
    }
   ],
   "source": [
    "# Plot the same boxplots but between 0-2 million for better visualization\n",
    "global_sales[['total_sales', 'platform']].boxplot(figsize=(10, 5), by='platform')\n",
    "\n",
    "plt.title('Global sales of all games by platform')\n",
    "plt.ylabel('Total sales (in millions)')\n",
    "plt.xlabel('Platform')\n",
    "plt.ylim((0, 2))\n",
    "plt.show()\n"
   ]
  },
  {
   "cell_type": "code",
   "execution_count": 32,
   "metadata": {},
   "outputs": [
    {
     "data": {
      "text/html": [
       "<div>\n",
       "<style scoped>\n",
       "    .dataframe tbody tr th:only-of-type {\n",
       "        vertical-align: middle;\n",
       "    }\n",
       "\n",
       "    .dataframe tbody tr th {\n",
       "        vertical-align: top;\n",
       "    }\n",
       "\n",
       "    .dataframe thead th {\n",
       "        text-align: right;\n",
       "    }\n",
       "</style>\n",
       "<table border=\"1\" class=\"dataframe\">\n",
       "  <thead>\n",
       "    <tr style=\"text-align: right;\">\n",
       "      <th></th>\n",
       "      <th>total_sales</th>\n",
       "    </tr>\n",
       "    <tr>\n",
       "      <th>platform</th>\n",
       "      <th></th>\n",
       "    </tr>\n",
       "  </thead>\n",
       "  <tbody>\n",
       "    <tr>\n",
       "      <th>3DS</th>\n",
       "      <td>0.408868</td>\n",
       "    </tr>\n",
       "    <tr>\n",
       "      <th>PS4</th>\n",
       "      <td>0.766356</td>\n",
       "    </tr>\n",
       "    <tr>\n",
       "      <th>XOne</th>\n",
       "      <td>0.615614</td>\n",
       "    </tr>\n",
       "  </tbody>\n",
       "</table>\n",
       "</div>"
      ],
      "text/plain": [
       "          total_sales\n",
       "platform             \n",
       "3DS          0.408868\n",
       "PS4          0.766356\n",
       "XOne         0.615614"
      ]
     },
     "metadata": {},
     "output_type": "display_data"
    }
   ],
   "source": [
    "# Create a pivot table to display the average total game sales per platform\n",
    "average_global_sales = pd.pivot_table(global_sales,\n",
    "                                      values = ['total_sales'],\n",
    "                                      index = ['platform'],\n",
    "                                      aggfunc = 'mean')\n",
    "display(average_global_sales)\n"
   ]
  },
  {
   "cell_type": "markdown",
   "metadata": {},
   "source": [
    "Based on the boxplots generated for the global sales of all the games broken down by platform type, it appears as though the mean values and distributions for PS4 and XOne are quite similar according to the boxplots, though the average sales data indicates that PS4 games gross the highest. The spread of the 3DS sales is narrower and lower with a smaller mean value and lower average sales."
   ]
  },
  {
   "cell_type": "markdown",
   "metadata": {},
   "source": [
    "<div class=\"alert alert-block alert-danger\">\n",
    "<s><b>Reviewer's comment</b> <a class=\"tocSkip\"></a>\n",
    "\n",
    "OK, a tiny issue here, but it's easy to fix. <br>\n",
    "Unfortunately, only outliers are visible on this graph, and the median and 75% quantile are not visible at all. For more reasonable conclusions, we need to make an additional graph, where only the lower part of the boxplots will be displayed. This can be achieved, for example, by setting the \"ylim\" parameter.\n",
    "\n",
    "</div>"
   ]
  },
  {
   "cell_type": "markdown",
   "metadata": {},
   "source": [
    "<div class=\"alert alert-block alert-info\">\n",
    "<b>Student answer.</b> <a class=\"tocSkip\"></a>\n",
    "\n",
    "I created an additional graph with the ylim parameter set to (0, 2) for better data visualization.\n",
    "</div>"
   ]
  },
  {
   "cell_type": "markdown",
   "metadata": {},
   "source": [
    "<div class=\"alert alert-block alert-success\">\n",
    "<b>Reviewer's comment</b> <a class=\"tocSkip\"></a>\n",
    "\n",
    "Well done!\n",
    "\n",
    "</div>"
   ]
  },
  {
   "cell_type": "markdown",
   "metadata": {},
   "source": [
    "#### **Build a scatter plot and calculate the correlation between reviews and sales to look at how user and professional reviews affect sales for popular platforms (PS4 and XOne in this case).**"
   ]
  },
  {
   "cell_type": "code",
   "execution_count": 33,
   "metadata": {},
   "outputs": [
    {
     "data": {
      "image/png": "[encoded data removed]",
      "text/plain": [
       "<Figure size 432x288 with 1 Axes>"
      ]
     },
     "metadata": {
      "needs_background": "light"
     },
     "output_type": "display_data"
    }
   ],
   "source": [
    "# Create a scatter plot to calculate the correlation between user reviews and sales for the PS4 platform\n",
    "sns.scatterplot(data = global_sales[global_sales['platform'] == 'PS4'], x = 'user_score', y = 'total_sales')\n",
    "\n",
    "plt.title('Correlation between user reviews and sales for PS4')\n",
    "plt.ylabel('Total sales (in millions)')\n",
    "plt.xlabel('User score')\n",
    "plt.show()\n"
   ]
  },
  {
   "cell_type": "code",
   "execution_count": 34,
   "metadata": {},
   "outputs": [
    {
     "data": {
      "image/png": "[encoded data removed]",
      "text/plain": [
       "<Figure size 432x288 with 1 Axes>"
      ]
     },
     "metadata": {
      "needs_background": "light"
     },
     "output_type": "display_data"
    }
   ],
   "source": [
    "# Create a scatter plot to calculate the correlation between user reviews and sales for the XOne platform\n",
    "sns.scatterplot(data = global_sales[global_sales['platform'] == 'XOne'], x = 'user_score', y = 'total_sales')\n",
    "\n",
    "plt.title('Correlation between user reviews and sales for XOne')\n",
    "plt.ylabel('Total sales (in millions)')\n",
    "plt.xlabel('User score')\n",
    "plt.show()\n"
   ]
  },
  {
   "cell_type": "code",
   "execution_count": 35,
   "metadata": {},
   "outputs": [
    {
     "name": "stdout",
     "output_type": "stream",
     "text": [
      "-0.04013158947269736\n"
     ]
    }
   ],
   "source": [
    "# Calculate the Pearson correlation coefficient between total sales and user score for PS4\n",
    "print(global_sales[global_sales['platform'] == 'PS4']['total_sales'].corr(global_sales[global_sales['platform'] == 'PS4']['user_score']))\n"
   ]
  },
  {
   "cell_type": "code",
   "execution_count": 36,
   "metadata": {},
   "outputs": [
    {
     "name": "stdout",
     "output_type": "stream",
     "text": [
      "-0.07038392806475827\n"
     ]
    }
   ],
   "source": [
    "# Calculate the Pearson correlation coefficient between total sales and user score for XOne\n",
    "print(global_sales[global_sales['platform'] == 'XOne']['total_sales'].corr(global_sales[global_sales['platform'] == 'XOne']['user_score']))\n"
   ]
  },
  {
   "cell_type": "code",
   "execution_count": 37,
   "metadata": {},
   "outputs": [
    {
     "data": {
      "image/png": "[encoded data removed]",
      "text/plain": [
       "<Figure size 432x288 with 1 Axes>"
      ]
     },
     "metadata": {
      "needs_background": "light"
     },
     "output_type": "display_data"
    }
   ],
   "source": [
    "# Create a scatter plot to calculate the correlation between critic reviews and sales for the PS4 platform\n",
    "sns.scatterplot(data = global_sales[global_sales['platform'] == 'PS4'], x = 'critic_score', y = 'total_sales')\n",
    "\n",
    "plt.title('Correlation between critic reviews and sales for PS4')\n",
    "plt.ylabel('Total sales (in millions)')\n",
    "plt.xlabel('Critic score')\n",
    "plt.show()\n"
   ]
  },
  {
   "cell_type": "code",
   "execution_count": 38,
   "metadata": {},
   "outputs": [
    {
     "data": {
      "image/png": "[encoded data removed]",
      "text/plain": [
       "<Figure size 432x288 with 1 Axes>"
      ]
     },
     "metadata": {
      "needs_background": "light"
     },
     "output_type": "display_data"
    }
   ],
   "source": [
    "# Create a scatter plot to calculate the correlation between critic reviews and sales for the XOne platform\n",
    "sns.scatterplot(data = global_sales[global_sales['platform'] == 'XOne'], x = 'critic_score', y = 'total_sales')\n",
    "\n",
    "plt.title('Correlation between critic reviews and sales for XOne')\n",
    "plt.ylabel('Total sales (in millions)')\n",
    "plt.xlabel('Critic score')\n",
    "plt.show()\n"
   ]
  },
  {
   "cell_type": "code",
   "execution_count": 39,
   "metadata": {},
   "outputs": [
    {
     "name": "stdout",
     "output_type": "stream",
     "text": [
      "0.40266141068104083\n"
     ]
    }
   ],
   "source": [
    "# Calculate the Pearson correlation coefficient between total sales and critic score for PS4\n",
    "print(global_sales[global_sales['platform'] == 'PS4']['total_sales'].corr(global_sales[global_sales['platform'] == 'PS4']['critic_score']))\n"
   ]
  },
  {
   "cell_type": "code",
   "execution_count": 40,
   "metadata": {},
   "outputs": [
    {
     "name": "stdout",
     "output_type": "stream",
     "text": [
      "0.42867694370333226\n"
     ]
    }
   ],
   "source": [
    "# Calculate the Pearson correlation coefficient between total sales and critic score for XOne\n",
    "print(global_sales[global_sales['platform'] == 'XOne']['total_sales'].corr(global_sales[global_sales['platform'] == 'XOne']['critic_score']))\n"
   ]
  },
  {
   "cell_type": "markdown",
   "metadata": {},
   "source": [
    "Based on the scatterplots showing the correlation between user reviews and sales for the PS4 and XOne platforms, it is difficult to see a clear correlation or pattern appearing in the data. This conclusion is confirmed by the Pearson correlation coefficient of -0.04 (PS4) and -0.07 (XOne) that was calculated for the relationships. The fact that the values are so close to 0 indicates that there is a very weak dependency between the two variables in both cases.\n",
    "\n",
    "However, the scatterplots showing the correlation between critic reviews and sales for the PS4 and XOne platforms reveal that there does seem to be a positive correlation as the total sales seems to increase as the critic score increases in both cases. This conclusion is also confirmed by the Pearson correlation coefficients of 0.4 (PS4) and 0.4 (XOne) that was calculated for the relationship. The positive values indicate that there is a positive correlation in which sales increase with higher critic scores."
   ]
  },
  {
   "cell_type": "markdown",
   "metadata": {},
   "source": [
    "<div class=\"alert alert-block alert-warning\">\n",
    "<b>Reviewer's comment</b> <a class=\"tocSkip\"></a>\n",
    "\n",
    "Good conclusions, but it's a good practice to take a look at others platforms. Can we be sure in our findings based only on one platform?\n",
    "\n",
    "</div>"
   ]
  },
  {
   "cell_type": "markdown",
   "metadata": {},
   "source": [
    "<div class=\"alert alert-block alert-info\">\n",
    "<b>Student answer.</b> <a class=\"tocSkip\"></a>\n",
    "\n",
    "I did a parallel analysis also for XOne to confirm the findings based on two platforms instead of one.\n",
    "</div>"
   ]
  },
  {
   "cell_type": "markdown",
   "metadata": {},
   "source": [
    "<div class=\"alert alert-block alert-success\">\n",
    "<b>Reviewer's comment</b> <a class=\"tocSkip\"></a>\n",
    "\n",
    "Good job.\n",
    "\n",
    "</div>"
   ]
  },
  {
   "cell_type": "markdown",
   "metadata": {},
   "source": [
    "#### **Compare the sales of the same games on other platforms.**"
   ]
  },
  {
   "cell_type": "code",
   "execution_count": 41,
   "metadata": {},
   "outputs": [
    {
     "data": {
      "text/html": [
       "<div>\n",
       "<style scoped>\n",
       "    .dataframe tbody tr th:only-of-type {\n",
       "        vertical-align: middle;\n",
       "    }\n",
       "\n",
       "    .dataframe tbody tr th {\n",
       "        vertical-align: top;\n",
       "    }\n",
       "\n",
       "    .dataframe thead th {\n",
       "        text-align: right;\n",
       "    }\n",
       "</style>\n",
       "<table border=\"1\" class=\"dataframe\">\n",
       "  <thead>\n",
       "    <tr style=\"text-align: right;\">\n",
       "      <th></th>\n",
       "      <th>name</th>\n",
       "      <th>counts</th>\n",
       "    </tr>\n",
       "  </thead>\n",
       "  <tbody>\n",
       "    <tr>\n",
       "      <th>0</th>\n",
       "      <td>FIFA 15</td>\n",
       "      <td>3</td>\n",
       "    </tr>\n",
       "    <tr>\n",
       "      <th>1</th>\n",
       "      <td>Lego Star Wars: The Force Awakens</td>\n",
       "      <td>3</td>\n",
       "    </tr>\n",
       "    <tr>\n",
       "      <th>2</th>\n",
       "      <td>Lego Batman 3: Beyond Gotham</td>\n",
       "      <td>3</td>\n",
       "    </tr>\n",
       "    <tr>\n",
       "      <th>3</th>\n",
       "      <td>LEGO The Hobbit</td>\n",
       "      <td>3</td>\n",
       "    </tr>\n",
       "    <tr>\n",
       "      <th>4</th>\n",
       "      <td>Skylanders: SuperChargers</td>\n",
       "      <td>3</td>\n",
       "    </tr>\n",
       "  </tbody>\n",
       "</table>\n",
       "</div>"
      ],
      "text/plain": [
       "                                name  counts\n",
       "0                            FIFA 15       3\n",
       "1  Lego Star Wars: The Force Awakens       3\n",
       "2       Lego Batman 3: Beyond Gotham       3\n",
       "3                    LEGO The Hobbit       3\n",
       "4          Skylanders: SuperChargers       3"
      ]
     },
     "metadata": {},
     "output_type": "display_data"
    }
   ],
   "source": [
    "# Create a new dataframe storing the results of the value_counts() method for the game names in 'global_sales'\n",
    "name_counts = global_sales['name'].value_counts().rename_axis('name').reset_index(name = 'counts')\n",
    "display(name_counts.head())\n"
   ]
  },
  {
   "cell_type": "code",
   "execution_count": 42,
   "metadata": {},
   "outputs": [
    {
     "data": {
      "text/plain": [
       "['FIFA 15',\n",
       " 'Lego Star Wars: The Force Awakens',\n",
       " 'Lego Batman 3: Beyond Gotham',\n",
       " 'LEGO The Hobbit',\n",
       " 'Skylanders: SuperChargers',\n",
       " 'Skylanders: Trap Team',\n",
       " \"LEGO Marvel's Avengers\",\n",
       " 'Terraria',\n",
       " 'The LEGO Movie Videogame',\n",
       " 'The Amazing Spider-Man 2 (2014)',\n",
       " 'Adventure Time: Finn & Jake Investigations',\n",
       " 'LEGO Jurassic World']"
      ]
     },
     "execution_count": 42,
     "metadata": {},
     "output_type": "execute_result"
    }
   ],
   "source": [
    "# Create list games where the count of games is 3\n",
    "same_games = name_counts[name_counts['counts'] == 3]\n",
    "same_games_list = list(same_games.name)\n",
    "same_games_list\n"
   ]
  },
  {
   "cell_type": "code",
   "execution_count": 43,
   "metadata": {},
   "outputs": [],
   "source": [
    "# Create a new dataframe with only the data for games in 'same_games_list' and create \n",
    "same_games_df = global_sales[global_sales['name'].isin(same_games_list)]\n",
    "same_games_bar = pd.pivot_table(same_games_df,\n",
    "                                values = ['total_sales'],\n",
    "                                index = ['platform'],\n",
    "                                aggfunc = 'sum')\n"
   ]
  },
  {
   "cell_type": "code",
   "execution_count": 44,
   "metadata": {},
   "outputs": [
    {
     "data": {
      "text/html": [
       "<div>\n",
       "<style scoped>\n",
       "    .dataframe tbody tr th:only-of-type {\n",
       "        vertical-align: middle;\n",
       "    }\n",
       "\n",
       "    .dataframe tbody tr th {\n",
       "        vertical-align: top;\n",
       "    }\n",
       "\n",
       "    .dataframe thead th {\n",
       "        text-align: right;\n",
       "    }\n",
       "</style>\n",
       "<table border=\"1\" class=\"dataframe\">\n",
       "  <thead>\n",
       "    <tr style=\"text-align: right;\">\n",
       "      <th></th>\n",
       "      <th>total_sales</th>\n",
       "    </tr>\n",
       "    <tr>\n",
       "      <th>platform</th>\n",
       "      <th></th>\n",
       "    </tr>\n",
       "  </thead>\n",
       "  <tbody>\n",
       "    <tr>\n",
       "      <th>3DS</th>\n",
       "      <td>3.42</td>\n",
       "    </tr>\n",
       "    <tr>\n",
       "      <th>PS4</th>\n",
       "      <td>12.08</td>\n",
       "    </tr>\n",
       "    <tr>\n",
       "      <th>XOne</th>\n",
       "      <td>5.63</td>\n",
       "    </tr>\n",
       "  </tbody>\n",
       "</table>\n",
       "</div>"
      ],
      "text/plain": [
       "          total_sales\n",
       "platform             \n",
       "3DS              3.42\n",
       "PS4             12.08\n",
       "XOne             5.63"
      ]
     },
     "execution_count": 44,
     "metadata": {},
     "output_type": "execute_result"
    }
   ],
   "source": [
    "same_games_bar"
   ]
  },
  {
   "cell_type": "code",
   "execution_count": 45,
   "metadata": {},
   "outputs": [
    {
     "data": {
      "image/png": "[encoded data removed]",
      "text/plain": [
       "<Figure size 432x288 with 1 Axes>"
      ]
     },
     "metadata": {
      "needs_background": "light"
     },
     "output_type": "display_data"
    }
   ],
   "source": [
    "# Create a bar chart to display the total sales per platform\n",
    "same_games_bar = same_games_bar.reset_index()\n",
    "\n",
    "sns.barplot(data = same_games_bar,\n",
    "             x = 'platform',\n",
    "             y = 'total_sales',)\n",
    "\n",
    "plt.grid()\n",
    "plt.title('Total sales per platform')\n",
    "plt.ylabel('Total Sales')\n",
    "plt.xlabel('Platform')\n",
    "plt.show()\n"
   ]
  },
  {
   "cell_type": "markdown",
   "metadata": {},
   "source": [
    "The above analysis identified all the game titles that were available for all 3 of the platforms of interest--3DS, PS4, and XOne. Once these titles were identified and put into a dataframe, the total sales grouped by platform were calculated to compare the sales of the same games across platforms. The results showed that 3DS games had the lowest sales (3.42 million), XOne had the second lowest sales (5.63 million), and PS4 had the highest sales by far (12.08 million). These results show that the platform that a game is available on has a high level of influence on the total sales brought in by the game."
   ]
  },
  {
   "cell_type": "markdown",
   "metadata": {},
   "source": [
    "<div class=\"alert alert-block alert-danger\">\n",
    "<s><b>Reviewer's comment</b> <a class=\"tocSkip\"></a>\n",
    "\n",
    "Our recommendation here is to consider using graphs.\n",
    "\n",
    "</div>"
   ]
  },
  {
   "cell_type": "markdown",
   "metadata": {},
   "source": [
    "<div class=\"alert alert-block alert-info\">\n",
    "<b>Student answer.</b> <a class=\"tocSkip\"></a>\n",
    "\n",
    "I added a barplot above to display the total sales per platform.\n",
    "</div>"
   ]
  },
  {
   "cell_type": "markdown",
   "metadata": {},
   "source": [
    "<div class=\"alert alert-block alert-success\">\n",
    "<b>Reviewer's comment</b> <a class=\"tocSkip\"></a>\n",
    "\n",
    "Right on!\n",
    "\n",
    "</div>"
   ]
  },
  {
   "cell_type": "markdown",
   "metadata": {},
   "source": [
    "#### **Examine the general distribution of games sales by genre.**"
   ]
  },
  {
   "cell_type": "code",
   "execution_count": 46,
   "metadata": {},
   "outputs": [
    {
     "data": {
      "text/html": [
       "<div>\n",
       "<style scoped>\n",
       "    .dataframe tbody tr th:only-of-type {\n",
       "        vertical-align: middle;\n",
       "    }\n",
       "\n",
       "    .dataframe tbody tr th {\n",
       "        vertical-align: top;\n",
       "    }\n",
       "\n",
       "    .dataframe thead th {\n",
       "        text-align: right;\n",
       "    }\n",
       "</style>\n",
       "<table border=\"1\" class=\"dataframe\">\n",
       "  <thead>\n",
       "    <tr style=\"text-align: right;\">\n",
       "      <th></th>\n",
       "      <th>total_sales</th>\n",
       "    </tr>\n",
       "    <tr>\n",
       "      <th>genre</th>\n",
       "      <th></th>\n",
       "    </tr>\n",
       "  </thead>\n",
       "  <tbody>\n",
       "    <tr>\n",
       "      <th>Puzzle</th>\n",
       "      <td>2.21</td>\n",
       "    </tr>\n",
       "    <tr>\n",
       "      <th>Strategy</th>\n",
       "      <td>3.96</td>\n",
       "    </tr>\n",
       "    <tr>\n",
       "      <th>Simulation</th>\n",
       "      <td>13.13</td>\n",
       "    </tr>\n",
       "    <tr>\n",
       "      <th>Adventure</th>\n",
       "      <td>17.55</td>\n",
       "    </tr>\n",
       "    <tr>\n",
       "      <th>Platform</th>\n",
       "      <td>18.09</td>\n",
       "    </tr>\n",
       "    <tr>\n",
       "      <th>Racing</th>\n",
       "      <td>27.52</td>\n",
       "    </tr>\n",
       "    <tr>\n",
       "      <th>Fighting</th>\n",
       "      <td>28.22</td>\n",
       "    </tr>\n",
       "    <tr>\n",
       "      <th>Misc</th>\n",
       "      <td>37.55</td>\n",
       "    </tr>\n",
       "    <tr>\n",
       "      <th>Role-Playing</th>\n",
       "      <td>101.44</td>\n",
       "    </tr>\n",
       "    <tr>\n",
       "      <th>Sports</th>\n",
       "      <td>109.48</td>\n",
       "    </tr>\n",
       "    <tr>\n",
       "      <th>Shooter</th>\n",
       "      <td>170.94</td>\n",
       "    </tr>\n",
       "    <tr>\n",
       "      <th>Action</th>\n",
       "      <td>199.36</td>\n",
       "    </tr>\n",
       "  </tbody>\n",
       "</table>\n",
       "</div>"
      ],
      "text/plain": [
       "              total_sales\n",
       "genre                    \n",
       "Puzzle               2.21\n",
       "Strategy             3.96\n",
       "Simulation          13.13\n",
       "Adventure           17.55\n",
       "Platform            18.09\n",
       "Racing              27.52\n",
       "Fighting            28.22\n",
       "Misc                37.55\n",
       "Role-Playing       101.44\n",
       "Sports             109.48\n",
       "Shooter            170.94\n",
       "Action             199.36"
      ]
     },
     "metadata": {},
     "output_type": "display_data"
    }
   ],
   "source": [
    "# Create a pivot table with total sales grouped by genre\n",
    "games_genres = pd.pivot_table(new_games,\n",
    "                              values = ['total_sales'],\n",
    "                              index = ['genre'],\n",
    "                              aggfunc = 'sum').sort_values(by = 'total_sales')\n",
    "display(games_genres)\n"
   ]
  },
  {
   "cell_type": "code",
   "execution_count": 47,
   "metadata": {},
   "outputs": [
    {
     "data": {
      "image/png": "[encoded data removed]",
      "text/plain": [
       "<Figure size 432x288 with 1 Axes>"
      ]
     },
     "metadata": {
      "needs_background": "light"
     },
     "output_type": "display_data"
    }
   ],
   "source": [
    "# Create a bar chart to display the distribution of sales by genre\n",
    "games_genres = games_genres.reset_index()\n",
    "\n",
    "sns.barplot(data = games_genres,\n",
    "             x = 'total_sales',\n",
    "             y = 'genre')\n",
    "\n",
    "plt.grid()\n",
    "plt.title('Total sales by genre')\n",
    "plt.ylabel('Genre')\n",
    "plt.xlabel('Total Sales')\n",
    "plt.show()\n"
   ]
  },
  {
   "cell_type": "markdown",
   "metadata": {},
   "source": [
    "Based on the above analysis, the top 3 most profitable genres are action (199.36 million), shooter (170.94 million), and sports (109.48 million). The 3 least profitable genres are puzzle (2.21 million), strategy (3.96 million) and simulation (13.13 million). The most profitable genres are generally fast-paced and active while the least profitable genres are generally slower-paced and cerebral."
   ]
  },
  {
   "cell_type": "markdown",
   "metadata": {},
   "source": [
    "<div class=\"alert alert-block alert-danger\">\n",
    "<s><b>Reviewer's comment</b> <a class=\"tocSkip\"></a>\n",
    "\n",
    "Our recommendation here is to consider using graphs. Barchart and boxplot are suitable.\n",
    "\n",
    "</div>"
   ]
  },
  {
   "cell_type": "markdown",
   "metadata": {},
   "source": [
    "<div class=\"alert alert-block alert-info\">\n",
    "<b>Student answer.</b> <a class=\"tocSkip\"></a>\n",
    "\n",
    "I added a barplot above to display the total sales by genre.\n",
    "</div>"
   ]
  },
  {
   "cell_type": "markdown",
   "metadata": {},
   "source": [
    "<div class=\"alert alert-block alert-success\">\n",
    "<b>Reviewer's comment</b> <a class=\"tocSkip\"></a>\n",
    "\n",
    "Well done!\n",
    "\n",
    "</div>"
   ]
  },
  {
   "cell_type": "markdown",
   "metadata": {},
   "source": [
    "# Create User Profiles for Each Region"
   ]
  },
  {
   "cell_type": "markdown",
   "metadata": {},
   "source": [
    "<div class=\"alert alert-block alert-danger\">\n",
    "<s><b>Reviewer's comment</b> <a class=\"tocSkip\"></a>\n",
    "\n",
    "Our recommendation here is to consider using graphs at every comparison. It's a good idea to use pie charts.\n",
    "\n",
    "</div>"
   ]
  },
  {
   "cell_type": "markdown",
   "metadata": {},
   "source": [
    "<div class=\"alert alert-block alert-info\">\n",
    "<b>Student answer.</b> <a class=\"tocSkip\"></a>\n",
    "\n",
    "I added pie charts below.\n",
    "</div>"
   ]
  },
  {
   "cell_type": "markdown",
   "metadata": {},
   "source": [
    "For each region (NA, EU, JP), determine:"
   ]
  },
  {
   "cell_type": "markdown",
   "metadata": {},
   "source": [
    "**The top five platforms**"
   ]
  },
  {
   "cell_type": "code",
   "execution_count": 48,
   "metadata": {},
   "outputs": [
    {
     "data": {
      "text/plain": [
       "platform\n",
       "PS4     98.61\n",
       "XOne    81.27\n",
       "X360    28.30\n",
       "3DS     22.64\n",
       "PS3     22.05\n",
       "Name: na_sales, dtype: float64"
      ]
     },
     "execution_count": 48,
     "metadata": {},
     "output_type": "execute_result"
    }
   ],
   "source": [
    "# Find the top 5 platforms for the NA region\n",
    "na_platforms = pd.pivot_table(new_games,\n",
    "                              values = ['na_sales'],\n",
    "                              index = ['platform'],\n",
    "                              aggfunc = 'sum').sort_values(by = 'na_sales', ascending = False)\n",
    "na_platforms = na_platforms['na_sales'].nlargest(n=5)\n",
    "na_platforms\n"
   ]
  },
  {
   "cell_type": "code",
   "execution_count": 49,
   "metadata": {},
   "outputs": [
    {
     "data": {
      "text/plain": [
       "platform\n",
       "PS4     130.04\n",
       "XOne     46.25\n",
       "PS3      25.54\n",
       "PC       17.97\n",
       "3DS      16.12\n",
       "Name: eu_sales, dtype: float64"
      ]
     },
     "execution_count": 49,
     "metadata": {},
     "output_type": "execute_result"
    }
   ],
   "source": [
    "# Find the top 5 platforms for the EU region\n",
    "eu_platforms = pd.pivot_table(new_games, values = ['eu_sales'], index = ['platform'], aggfunc = 'sum').sort_values(by = 'eu_sales', ascending = False)\n",
    "eu_platforms = eu_platforms['eu_sales'].nlargest(n=5)\n",
    "eu_platforms\n"
   ]
  },
  {
   "cell_type": "code",
   "execution_count": 50,
   "metadata": {},
   "outputs": [
    {
     "data": {
      "text/plain": [
       "platform\n",
       "3DS     44.24\n",
       "PS4     15.02\n",
       "PSV     14.54\n",
       "PS3     11.22\n",
       "WiiU     7.31\n",
       "Name: jp_sales, dtype: float64"
      ]
     },
     "execution_count": 50,
     "metadata": {},
     "output_type": "execute_result"
    }
   ],
   "source": [
    "# Find the top 5 platforms for the JP region\n",
    "jp_platforms = pd.pivot_table(new_games, values = ['jp_sales'], index = ['platform'], aggfunc = 'sum').sort_values(by = 'jp_sales', ascending = False)\n",
    "jp_platforms = jp_platforms['jp_sales'].nlargest(n=5)\n",
    "jp_platforms\n"
   ]
  },
  {
   "cell_type": "code",
   "execution_count": 51,
   "metadata": {},
   "outputs": [
    {
     "data": {
      "image/png": "[encoded data removed]",
      "text/plain": [
       "<Figure size 432x288 with 1 Axes>"
      ]
     },
     "metadata": {},
     "output_type": "display_data"
    },
    {
     "data": {
      "image/png": "[encoded data removed]",
      "text/plain": [
       "<Figure size 432x288 with 1 Axes>"
      ]
     },
     "metadata": {},
     "output_type": "display_data"
    },
    {
     "data": {
      "image/png": "[encoded data removed]",
      "text/plain": [
       "<Figure size 432x288 with 1 Axes>"
      ]
     },
     "metadata": {},
     "output_type": "display_data"
    }
   ],
   "source": [
    "# Plot piecharts for the top 5 NA, EU, and JP platforms\n",
    "na_platforms.plot.pie(subplots = True, autopct='%.1f')\n",
    "plt.title('Top 5 NA Platforms')\n",
    "plt.ylabel('')\n",
    "plt.show()\n",
    "\n",
    "eu_platforms.plot.pie(subplots = True, autopct='%.1f')\n",
    "plt.title('Top 5 EU Platforms')\n",
    "plt.ylabel('')\n",
    "plt.show()\n",
    "\n",
    "jp_platforms.plot.pie(subplots = True, autopct='%.1f')\n",
    "plt.title('Top JP Platforms')\n",
    "plt.ylabel('')\n",
    "plt.show()\n"
   ]
  },
  {
   "cell_type": "markdown",
   "metadata": {},
   "source": [
    "<div class=\"alert alert-block alert-warning\">\n",
    "<b>Reviewer's comment</b> <a class=\"tocSkip\"></a>\n",
    "\n",
    "Ok, but graphs in one horizontal line look better. Check subplots: https://matplotlib.org/3.5.0/api/_as_gen/matplotlib.pyplot.subplots.html\n",
    "\n",
    "</div>"
   ]
  },
  {
   "cell_type": "markdown",
   "metadata": {},
   "source": [
    "Based on the results of the above analysis, it appears that the NA and EU regions have very similar top five platforms. 4 of the top 5 platforms are the same with a slightly differnet order. The difference is that the NA list includes X360 and the EU list includes PC. The JP region on the other hand is quite different with 3DS being the top most popular, and PSV and WiiU included in the top as well. Generally, it seems that those in JP tend to prefer portable gaming platforms while those in NA and EU tend to prefer non-portable platforms. Overall, NA had the highest sales, followed by EU and JP. This may be due to size of the regions, however. "
   ]
  },
  {
   "cell_type": "markdown",
   "metadata": {},
   "source": [
    "<div class=\"alert alert-block alert-success\">\n",
    "<b>Reviewer's comment</b> <a class=\"tocSkip\"></a>\n",
    "\n",
    "Well done!\n",
    "\n",
    "</div>"
   ]
  },
  {
   "cell_type": "markdown",
   "metadata": {},
   "source": [
    "**The top five genres**"
   ]
  },
  {
   "cell_type": "code",
   "execution_count": 52,
   "metadata": {},
   "outputs": [
    {
     "data": {
      "text/plain": [
       "genre\n",
       "Shooter         79.02\n",
       "Action          72.53\n",
       "Sports          46.13\n",
       "Role-Playing    33.47\n",
       "Misc            15.05\n",
       "Name: na_sales, dtype: float64"
      ]
     },
     "execution_count": 52,
     "metadata": {},
     "output_type": "execute_result"
    }
   ],
   "source": [
    "# Find the top 5 genres for the NA region\n",
    "na_genres = pd.pivot_table(new_games,\n",
    "                           values = ['na_sales'],\n",
    "                           index = ['genre'],\n",
    "                           aggfunc = 'sum').sort_values(by = 'na_sales', ascending = False)\n",
    "na_genres = na_genres['na_sales'].nlargest(n=5)\n",
    "na_genres\n"
   ]
  },
  {
   "cell_type": "code",
   "execution_count": 53,
   "metadata": {},
   "outputs": [
    {
     "data": {
      "text/plain": [
       "genre\n",
       "Action          74.68\n",
       "Shooter         65.52\n",
       "Sports          45.73\n",
       "Role-Playing    28.17\n",
       "Racing          14.13\n",
       "Name: eu_sales, dtype: float64"
      ]
     },
     "execution_count": 53,
     "metadata": {},
     "output_type": "execute_result"
    }
   ],
   "source": [
    "# Find the top 5 genres for the EU region\n",
    "eu_genres = pd.pivot_table(new_games,\n",
    "                           values = ['eu_sales'],\n",
    "                           index = ['genre'],\n",
    "                           aggfunc = 'sum').sort_values(by = 'eu_sales', ascending = False)\n",
    "eu_genres = eu_genres['eu_sales'].nlargest(n=5)\n",
    "eu_genres\n"
   ]
  },
  {
   "cell_type": "code",
   "execution_count": 54,
   "metadata": {},
   "outputs": [
    {
     "data": {
      "text/plain": [
       "genre\n",
       "Role-Playing    31.16\n",
       "Action          29.58\n",
       "Fighting         6.37\n",
       "Misc             5.61\n",
       "Shooter          4.87\n",
       "Name: jp_sales, dtype: float64"
      ]
     },
     "execution_count": 54,
     "metadata": {},
     "output_type": "execute_result"
    }
   ],
   "source": [
    "# Find the top 5 genres for the JP region\n",
    "jp_genres = pd.pivot_table(new_games,\n",
    "                           values = ['jp_sales'],\n",
    "                           index = ['genre'],\n",
    "                           aggfunc = 'sum').sort_values(by = 'jp_sales', ascending = False)\n",
    "jp_genres = jp_genres['jp_sales'].nlargest(n=5)\n",
    "jp_genres\n"
   ]
  },
  {
   "cell_type": "code",
   "execution_count": 55,
   "metadata": {},
   "outputs": [
    {
     "data": {
      "image/png": "[encoded data removed]",
      "text/plain": [
       "<Figure size 432x288 with 1 Axes>"
      ]
     },
     "metadata": {},
     "output_type": "display_data"
    },
    {
     "data": {
      "image/png": "[encoded data removed]",
      "text/plain": [
       "<Figure size 432x288 with 1 Axes>"
      ]
     },
     "metadata": {},
     "output_type": "display_data"
    },
    {
     "data": {
      "image/png": "[encoded data removed]",
      "text/plain": [
       "<Figure size 432x288 with 1 Axes>"
      ]
     },
     "metadata": {},
     "output_type": "display_data"
    }
   ],
   "source": [
    "# Plot piecharts for top 5 NA, EU, and JP genres\n",
    "na_genres.plot.pie(subplots = True, autopct='%.1f')\n",
    "plt.title('Top 5 NA Genres')\n",
    "plt.ylabel('')\n",
    "plt.show()\n",
    "\n",
    "eu_genres.plot.pie(subplots = True, autopct='%.1f')\n",
    "plt.title('Top 5 EU Genres')\n",
    "plt.ylabel('')\n",
    "plt.show()\n",
    "\n",
    "jp_genres.plot.pie(subplots = True, autopct='%.1f')\n",
    "plt.title('Top JP Genres')\n",
    "plt.ylabel('')\n",
    "plt.show()\n"
   ]
  },
  {
   "cell_type": "markdown",
   "metadata": {},
   "source": [
    "The genre analysis above yielded very similar results to the platform analysis prior. Again, the NA and EU regions had identical top 4 genres in slightly different ordes and different number 5 slots with misc for NA and racing in EU. The JP region also yielded similar results but in a different order. The role-playing and action genres held the top two slots by far, followed by fighting, misc, and shooter. This difference may be cultural with Western preferences being more similar than Eastern preferences."
   ]
  },
  {
   "cell_type": "markdown",
   "metadata": {},
   "source": [
    "<div class=\"alert alert-block alert-success\">\n",
    "<b>Reviewer's comment</b> <a class=\"tocSkip\"></a>\n",
    "\n",
    "Correct.\n",
    "\n",
    "</div>"
   ]
  },
  {
   "cell_type": "markdown",
   "metadata": {},
   "source": [
    "**Do ESRB ratings affect sales in individual regions?**"
   ]
  },
  {
   "cell_type": "code",
   "execution_count": 56,
   "metadata": {},
   "outputs": [
    {
     "data": {
      "text/plain": [
       "rating\n",
       "M            96.42\n",
       "not rated    64.72\n",
       "E            50.74\n",
       "T            38.95\n",
       "E10+         33.23\n",
       "Name: na_sales, dtype: float64"
      ]
     },
     "execution_count": 56,
     "metadata": {},
     "output_type": "execute_result"
    }
   ],
   "source": [
    "# Display NA sales grouped by rating\n",
    "na_ratings = pd.pivot_table(new_games,\n",
    "                            values = ['na_sales'],\n",
    "                            index = ['rating'],\n",
    "                            aggfunc = 'sum').sort_values(by = 'na_sales', ascending = False)\n",
    "na_ratings['na_sales']\n",
    "           "
   ]
  },
  {
   "cell_type": "code",
   "execution_count": 57,
   "metadata": {},
   "outputs": [
    {
     "data": {
      "text/plain": [
       "rating\n",
       "M            93.44\n",
       "not rated    58.95\n",
       "E            58.06\n",
       "T            34.07\n",
       "E10+         26.16\n",
       "Name: eu_sales, dtype: float64"
      ]
     },
     "execution_count": 57,
     "metadata": {},
     "output_type": "execute_result"
    }
   ],
   "source": [
    "# Display EU sales grouped by rating\n",
    "eu_ratings = pd.pivot_table(new_games,\n",
    "                            values = ['eu_sales'],\n",
    "                            index = ['rating'],\n",
    "                            aggfunc = 'sum').sort_values(by = 'eu_sales', ascending = False)\n",
    "eu_ratings['eu_sales']\n"
   ]
  },
  {
   "cell_type": "code",
   "execution_count": 58,
   "metadata": {},
   "outputs": [
    {
     "data": {
      "text/plain": [
       "rating\n",
       "not rated    56.90\n",
       "T            14.78\n",
       "E             8.94\n",
       "M             8.01\n",
       "E10+          4.46\n",
       "Name: jp_sales, dtype: float64"
      ]
     },
     "execution_count": 58,
     "metadata": {},
     "output_type": "execute_result"
    }
   ],
   "source": [
    "# Display JP sales grouped by rating\n",
    "jp_ratings = pd.pivot_table(new_games,\n",
    "                            values = ['jp_sales'],\n",
    "                            index = ['rating'],\n",
    "                            aggfunc = 'sum').sort_values(by = 'jp_sales', ascending = False)\n",
    "jp_ratings['jp_sales']\n"
   ]
  },
  {
   "cell_type": "code",
   "execution_count": 59,
   "metadata": {},
   "outputs": [
    {
     "data": {
      "image/png": "[encoded data removed]",
      "text/plain": [
       "<Figure size 432x288 with 1 Axes>"
      ]
     },
     "metadata": {},
     "output_type": "display_data"
    },
    {
     "data": {
      "image/png": "[encoded data removed]",
      "text/plain": [
       "<Figure size 432x288 with 1 Axes>"
      ]
     },
     "metadata": {},
     "output_type": "display_data"
    },
    {
     "data": {
      "image/png": "[encoded data removed]",
      "text/plain": [
       "<Figure size 432x288 with 1 Axes>"
      ]
     },
     "metadata": {},
     "output_type": "display_data"
    }
   ],
   "source": [
    "# Plot piecharts for ESRB ratings in NA, EU, and JP\n",
    "na_ratings.plot.pie(subplots = True, autopct='%.1f')\n",
    "plt.title('NA ESRB Rating Distribution')\n",
    "plt.ylabel('')\n",
    "plt.show()\n",
    "\n",
    "eu_ratings.plot.pie(subplots = True, autopct='%.1f')\n",
    "plt.title('EU ESRB Rating Distribution')\n",
    "plt.ylabel('')\n",
    "plt.show()\n",
    "\n",
    "jp_ratings.plot.pie(subplots = True, autopct='%.1f')\n",
    "plt.title('JP ESRB Rating Distribution')\n",
    "plt.ylabel('')\n",
    "plt.show()\n"
   ]
  },
  {
   "cell_type": "markdown",
   "metadata": {},
   "source": [
    "The total sales by ESRB ratings for NA and EU are almost identical. The top 5 ratings are in the same exact order with minor variations in the total sales for each. M-rated games were the most popular, followed by not rated games. JP on the other hand is very different once again. Not rated games are the most popular by far followed by T, E, and then M. This indicates that games are more popular among adult crowds in NA and EU while games are more popular among younger crowds in JP. Also, the fact that not rated games are in the second slot for NA and EU and first slot for JP indicates that the lack of ratings do not cause lower game sales. Consumers do not seem to mind that some games are unrated."
   ]
  },
  {
   "cell_type": "markdown",
   "metadata": {},
   "source": [
    "<div class=\"alert alert-block alert-danger\">\n",
    "<s><b>Reviewer's comment</b> <a class=\"tocSkip\"></a>\n",
    "\n",
    "We have a small issue here. <br>\n",
    "What can we say about unrated games? The sales of these games may point to a key regional difference.\n",
    "\n",
    "</div>"
   ]
  },
  {
   "cell_type": "markdown",
   "metadata": {},
   "source": [
    "<div class=\"alert alert-block alert-info\">\n",
    "<b>Student answer.</b> <a class=\"tocSkip\"></a>\n",
    "\n",
    "I included the stats on unrated games and included them in my analysis of regional differences above.\n",
    "</div>"
   ]
  },
  {
   "cell_type": "markdown",
   "metadata": {},
   "source": [
    "<div class=\"alert alert-block alert-success\">\n",
    "<b>Reviewer's comment</b> <a class=\"tocSkip\"></a>\n",
    "\n",
    "Good job!\n",
    "\n",
    "</div>"
   ]
  },
  {
   "cell_type": "markdown",
   "metadata": {},
   "source": [
    "# Test the Hypotheses"
   ]
  },
  {
   "cell_type": "markdown",
   "metadata": {},
   "source": [
    "**Test the hypothesis that average user ratings of the Xbox One and PC platforms are the same**\n",
    "\n",
    "Null Hypothesis: Average user ratings of the Xbox One is not equal to average user ratings of PC platforms\n",
    "\n",
    "Alternative Hypothesis: Average user ratings of the Xbox One is equal to average user ratings of PC platforms\n",
    "\n",
    "Statistical Test: 2-sided t-test\n",
    "\n",
    "Alpha Value: 0.05"
   ]
  },
  {
   "cell_type": "code",
   "execution_count": 60,
   "metadata": {},
   "outputs": [
    {
     "data": {
      "text/plain": [
       "14    79.0\n",
       "16    54.0\n",
       "21    64.0\n",
       "28    62.0\n",
       "39    41.0\n",
       "Name: user_score, dtype: float64"
      ]
     },
     "metadata": {},
     "output_type": "display_data"
    }
   ],
   "source": [
    "# Create an array for the average user ratings of the Xbox One platform\n",
    "xone_ratings = new_games[new_games['platform'] == 'XOne']['user_score'].dropna()\n",
    "display(xone_ratings.head())\n"
   ]
  },
  {
   "cell_type": "code",
   "execution_count": 61,
   "metadata": {},
   "outputs": [
    {
     "data": {
      "text/plain": [
       "51     39.0\n",
       "135    54.0\n",
       "152    79.0\n",
       "191    57.0\n",
       "228    59.0\n",
       "Name: user_score, dtype: float64"
      ]
     },
     "metadata": {},
     "output_type": "display_data"
    }
   ],
   "source": [
    "# Create an array for the average user ratings of the PC platform\n",
    "pc_ratings = new_games[new_games['platform'] == 'PC']['user_score'].dropna()\n",
    "display(pc_ratings.head())\n"
   ]
  },
  {
   "cell_type": "code",
   "execution_count": 62,
   "metadata": {},
   "outputs": [
    {
     "name": "stdout",
     "output_type": "stream",
     "text": [
      "p-value:  0.8839860191333108\n",
      "We can't reject the null hypothesis\n"
     ]
    }
   ],
   "source": [
    "# Test the hypothesis\n",
    "alpha = 0.05\n",
    "\n",
    "results = st.ttest_ind(xone_ratings, pc_ratings, equal_var = False)\n",
    "\n",
    "print('p-value: ', (1 - results.pvalue))\n",
    "\n",
    "if (1 - results.pvalue) < alpha:\n",
    "    print(\"We reject the null hypothesis\")\n",
    "else:\n",
    "    print(\"We can't reject the null hypothesis\")\n",
    "    "
   ]
  },
  {
   "cell_type": "markdown",
   "metadata": {},
   "source": [
    "Since the hypothesis that is being tested is whether the average user ratings for XBox One and PC are the same, the null must test the opposite scenario which is that the average user ratings for XBox One and PC are different. The alternative is consistent with the original hypothesis and opposite of the null, which is that the average user ratings are the same.\n",
    "\n",
    "Due to the nature of the t-test, the calculated p-value must be subtracted from 1 since the t-test is testing for the probability that there is a difference of means. Based on this methodology, the final p-value is 0.998 which indicates that we fail to reject the null hypothesis with the alpha level of 0.05 which is a commonly used standard value in hypothesis testing. Based on this info, we can conclude with 95% confidence that the average user ratings for XBox One and PC are the same. This conclusion may indicate that average user ratings are not correlated with sales as XBox One games had much higher sales than PC games, yet their average user ratings are essentially the same."
   ]
  },
  {
   "cell_type": "markdown",
   "metadata": {},
   "source": [
    "<div class=\"alert alert-block alert-warning\">\n",
    "<b>Reviewer's comment</b> <a class=\"tocSkip\"></a>\n",
    "\n",
    "Ok, but it is more common to formulate Null Hypothesis as \"something is equal to something\". \n",
    "\n",
    "</div>"
   ]
  },
  {
   "cell_type": "markdown",
   "metadata": {},
   "source": [
    "**Test the hypothesis that average user ratings for the Action and Sports genres are different.**\n",
    "\n",
    "Null Hypothesis: Average user ratings for the Action genre is equal to the average user ratings of the Sports genre\n",
    "\n",
    "Alternative Hypothesis: Average user ratings for the Action genre is not equal to the average user ratings of the Sports genre\n",
    "\n",
    "Statistical Test: 2-sided t-test\n",
    "\n",
    "Alpha Value: 0.05"
   ]
  },
  {
   "cell_type": "code",
   "execution_count": 63,
   "metadata": {},
   "outputs": [
    {
     "data": {
      "text/plain": [
       "1     83.0\n",
       "14    79.0\n",
       "20    81.0\n",
       "30    63.0\n",
       "33    49.0\n",
       "Name: user_score, dtype: float64"
      ]
     },
     "metadata": {},
     "output_type": "display_data"
    }
   ],
   "source": [
    "# Create an array for the average user ratings of the Action genre\n",
    "action_ratings = new_games[new_games['genre'] == 'Action']['user_score'].dropna()\n",
    "display(action_ratings.head())\n"
   ]
  },
  {
   "cell_type": "code",
   "execution_count": 64,
   "metadata": {},
   "outputs": [
    {
     "data": {
      "text/plain": [
       "3     43.0\n",
       "6     50.0\n",
       "12    57.0\n",
       "27    45.0\n",
       "36    67.0\n",
       "Name: user_score, dtype: float64"
      ]
     },
     "metadata": {},
     "output_type": "display_data"
    }
   ],
   "source": [
    "# Create an array for the average user ratings of the Sports genre\n",
    "sports_ratings = new_games[new_games['genre'] == 'Sports']['user_score'].dropna()\n",
    "display(sports_ratings.head())\n"
   ]
  },
  {
   "cell_type": "code",
   "execution_count": 65,
   "metadata": {},
   "outputs": [
    {
     "name": "stdout",
     "output_type": "stream",
     "text": [
      "p-value:  1.182555038264477e-14\n",
      "We reject the null hypothesis\n"
     ]
    }
   ],
   "source": [
    "# Test the hypothesis\n",
    "alpha = 0.05\n",
    "\n",
    "results = st.ttest_ind(action_ratings, sports_ratings, equal_var = False)\n",
    "\n",
    "print('p-value: ', results.pvalue)\n",
    "\n",
    "if results.pvalue < alpha:\n",
    "    print(\"We reject the null hypothesis\")\n",
    "else:\n",
    "    print(\"We can't reject the null hypothesis\")\n",
    "    "
   ]
  },
  {
   "cell_type": "markdown",
   "metadata": {},
   "source": [
    "Since the hypothesis that is being tested is whether the average user ratings for action and sports genres are different, the null must test the opposite scenario which is that the average user ratings for XBox One and PC are the same. The alternative is consistent with the original hypothesis and opposite of the null, which is that the average user ratings are different.\n",
    "\n",
    "Since the t-test is testing for the probability that there is a difference of means, the final p-value of 5.718e-09 indicates that we can  reject the null hypothesis with the alpha level of 0.05 which is a commonly used standard value in hypothesis testing. Based on this info, we accept the alternative that the average user ratings are not equal which may indicate once more that average user ratings are not good predictors of sales as they are not equal though the action and sports are right next to each other in sales."
   ]
  },
  {
   "cell_type": "markdown",
   "metadata": {},
   "source": [
    "<div class=\"alert alert-block alert-success\">\n",
    "<b>Reviewer's comment</b> <a class=\"tocSkip\"></a>\n",
    "\n",
    "Well done! <br>\n",
    "    Pro tip: good practice is to display average value of two distributions.\n",
    "\n",
    "</div>"
   ]
  },
  {
   "cell_type": "markdown",
   "metadata": {},
   "source": [
    "# General Conclusion"
   ]
  },
  {
   "cell_type": "markdown",
   "metadata": {},
   "source": [
    "**The following are the overarching conclusions that can be made about the data based on the above analyses:**\n",
    "\n",
    "-The time period between 1995-2009 seems significant with high volume of games released each year and the period prior to 1990 seems less significant due to low volume of games released.\n",
    "\n",
    "-The top 6 platforms (PS2, X360, PS3, Wii, DS, and PS) had a lion's share of the total sales.\n",
    "\n",
    "-Even the most popular platforms generally fade in about 10 years after they are released.\n",
    "\n",
    "-For the purpose of building a prognosis for 2017, it will be best to focus on a smaller timeframe (2-3 years) to capture current, non-obsolete trends.\n",
    "\n",
    "-Though platforms like Wii, X360, PS2, PS3, and DS led in sales between around 2006-2014, their sales in recent years waned significantly while newer platforms like PS4, 3DS, and XOne rose in total sales.\n",
    "\n",
    "-Though the mean values and distributions for PS4 and XOne are quite similar. The spread of the 3DS sales is narrower and lower with a smaller mean value and lower average sales.\n",
    "\n",
    "-There is weak correlation between user reviews and sales for PS4 and XOne and a positive correlation between critic reviews and sales for PS4 and XOne.\n",
    "\n",
    "-The platform that a game is available on has a high level of influence on the total sales brought in by the game.\n",
    "\n",
    "-The most profitable genres are generally fast-paced and active while the least profitable genres are generally slower-paced and cerebral.\n",
    "\n",
    "-The NA and EU regions have very similar platform (non-portable), genre (action and shooter) and ESRB rating preferences (M). The JP region is different with a preference for portable platforms, role-playing genre, and not rated and T ratings.\n",
    "\n",
    "-We can conclude with 95% confidence that the average user ratings for XBox One and PC are the same. This conclusion may indicate that average user ratings are not correlated with sales.\n",
    "\n",
    "-We can conclude with 95% confidence that the average user ratings are not equal for action and sports genres which may indicate once more that average user ratings are not good predictors of sales.\n",
    "\n",
    "**Recommendations for Ice**\n",
    "\n",
    "-Focus on platforms that have more recently gained popularity in sales such as PS4, 3DS, and XOne.\n",
    "\n",
    "-Take critic scores into consideration when attempting to determine high grossing games. User scores are not good predictors of total sales.\n",
    "\n",
    "-Since platform has a big influence on how well a game does, make sure to understand which platforms are most popular.\n",
    "\n",
    "-Focus on games with genres that are fast-paced and active (i.e. action and sports) versus slower-paced and cerebral (i.e. strategy and puzzle).\n",
    "\n",
    "-Have similar marketing strategies for the NA and EU regions but a different strategy to cater towards the JP region due to differences in preferences."
   ]
  },
  {
   "cell_type": "markdown",
   "metadata": {},
   "source": [
    "<div class=\"alert alert-block alert-success\">\n",
    "<b>Reviewer's comment</b> <a class=\"tocSkip\"></a>\n",
    "\n",
    "Very detailed conclusion. Brilliant! It's a good practice to give your own recommendations.\n",
    "\n",
    "</div>"
   ]
  },
  {
   "cell_type": "markdown",
   "metadata": {},
   "source": [
    "<div class=\"alert alert-block alert-warning\">\n",
    "<b>Overall reviewer's comment</b> <a class=\"tocSkip\"></a>\n",
    "\n",
    "Dear Lani, thank you for sending your project. You have done quite good work. <br>\n",
    "    \n",
    "There are correct conclusions and hypothesis testing, but some things need to be changed.  <br>\n",
    "    <br>\n",
    "    \n",
    "<span class=\"text-warning\"> Remember: \n",
    "    it's a good practice to split long lines of code into several parts for more readability.\n",
    "</span>\n",
    "    \n",
    "<span class=\"text-danger\"> Things to be fixed are marked with red comment. And please feel free to experiment with different graph types.\n",
    "</span>\n",
    "    <br>\n",
    "    <br>\n",
    "You have very good analytic skills, keep up the good work! I will be waiting for your corrected project.\n",
    "</div>"
   ]
  },
  {
   "cell_type": "markdown",
   "metadata": {},
   "source": [
    "<div class=\"alert alert-block alert-success\">\n",
    "<b>Overall reviewer's comment 2</b> <a class=\"tocSkip\"></a>\n",
    "\n",
    "Hi Lani! Thank you for your corrections. Well done! <br>\n",
    "    Remember always make graphs more readable and convert data in appropriate format. Some floats (like years) to ints, for example. <br>\n",
    "    Keep up the good work, and good luck on the next sprint!\n",
    "\n",
    "</div>"
   ]
  },
  {
   "cell_type": "code",
   "execution_count": null,
   "metadata": {},
   "outputs": [],
   "source": []
  }
 ],
 "metadata": {
  "ExecuteTimeLog": [
   {
    "duration": 1107,
    "start_time": "2022-03-15T14:55:15.211Z"
   },
   {
    "duration": 37,
    "start_time": "2022-03-15T14:58:42.408Z"
   },
   {
    "duration": 116,
    "start_time": "2022-03-15T15:15:40.442Z"
   },
   {
    "duration": 332,
    "start_time": "2022-03-15T19:56:24.661Z"
   },
   {
    "duration": 4,
    "start_time": "2022-03-15T19:59:46.699Z"
   },
   {
    "duration": 381,
    "start_time": "2022-03-15T19:59:46.705Z"
   },
   {
    "duration": 924,
    "start_time": "2022-03-15T19:59:47.088Z"
   },
   {
    "duration": 763,
    "start_time": "2022-03-15T19:59:48.291Z"
   },
   {
    "duration": 686,
    "start_time": "2022-03-15T19:59:49.056Z"
   },
   {
    "duration": 442,
    "start_time": "2022-03-15T19:59:49.744Z"
   },
   {
    "duration": 352,
    "start_time": "2022-03-15T19:59:50.187Z"
   },
   {
    "duration": 420,
    "start_time": "2022-03-15T19:59:50.540Z"
   },
   {
    "duration": 558,
    "start_time": "2022-03-15T19:59:50.962Z"
   },
   {
    "duration": 689,
    "start_time": "2022-03-15T19:59:51.522Z"
   },
   {
    "duration": 346,
    "start_time": "2022-03-15T19:59:52.212Z"
   },
   {
    "duration": 1132,
    "start_time": "2022-03-15T20:56:28.880Z"
   },
   {
    "duration": 36,
    "start_time": "2022-03-15T20:56:30.014Z"
   },
   {
    "duration": 35,
    "start_time": "2022-03-15T20:56:30.052Z"
   },
   {
    "duration": 2,
    "start_time": "2022-03-15T20:56:30.088Z"
   },
   {
    "duration": 10,
    "start_time": "2022-03-15T20:56:30.091Z"
   },
   {
    "duration": 13,
    "start_time": "2022-03-15T20:56:30.102Z"
   },
   {
    "duration": 21,
    "start_time": "2022-03-15T20:56:30.116Z"
   },
   {
    "duration": 11,
    "start_time": "2022-03-15T20:56:30.139Z"
   },
   {
    "duration": 14,
    "start_time": "2022-03-15T20:57:12.897Z"
   },
   {
    "duration": 212,
    "start_time": "2022-03-17T02:47:53.652Z"
   },
   {
    "duration": 1448,
    "start_time": "2022-03-17T02:48:01.035Z"
   },
   {
    "duration": 48,
    "start_time": "2022-03-17T02:48:02.488Z"
   },
   {
    "duration": 61,
    "start_time": "2022-03-17T02:48:02.540Z"
   },
   {
    "duration": 22,
    "start_time": "2022-03-17T02:48:02.604Z"
   },
   {
    "duration": 27,
    "start_time": "2022-03-17T02:48:02.629Z"
   },
   {
    "duration": 29,
    "start_time": "2022-03-17T02:48:02.658Z"
   },
   {
    "duration": 4,
    "start_time": "2022-03-17T02:48:02.690Z"
   },
   {
    "duration": 5,
    "start_time": "2022-03-17T02:48:02.697Z"
   },
   {
    "duration": 8,
    "start_time": "2022-03-17T02:48:02.705Z"
   },
   {
    "duration": 12,
    "start_time": "2022-03-17T02:48:13.644Z"
   },
   {
    "duration": 18,
    "start_time": "2022-03-17T02:49:09.956Z"
   },
   {
    "duration": 24,
    "start_time": "2022-03-17T02:50:06.899Z"
   },
   {
    "duration": 5,
    "start_time": "2022-03-17T02:58:39.144Z"
   },
   {
    "duration": 14,
    "start_time": "2022-03-17T02:58:52.006Z"
   },
   {
    "duration": 331,
    "start_time": "2022-03-17T03:02:29.204Z"
   },
   {
    "duration": 7,
    "start_time": "2022-03-17T03:03:39.996Z"
   },
   {
    "duration": 48,
    "start_time": "2022-03-17T03:09:26.805Z"
   },
   {
    "duration": 45,
    "start_time": "2022-03-17T03:09:46.868Z"
   },
   {
    "duration": 9,
    "start_time": "2022-03-17T03:10:00.696Z"
   },
   {
    "duration": 9,
    "start_time": "2022-03-17T03:10:14.649Z"
   },
   {
    "duration": 1414,
    "start_time": "2022-03-17T03:10:24.654Z"
   },
   {
    "duration": 49,
    "start_time": "2022-03-17T03:10:26.071Z"
   },
   {
    "duration": 68,
    "start_time": "2022-03-17T03:10:26.124Z"
   },
   {
    "duration": 22,
    "start_time": "2022-03-17T03:10:26.194Z"
   },
   {
    "duration": 15,
    "start_time": "2022-03-17T03:10:26.219Z"
   },
   {
    "duration": 52,
    "start_time": "2022-03-17T03:10:26.236Z"
   },
   {
    "duration": 13,
    "start_time": "2022-03-17T03:10:26.291Z"
   },
   {
    "duration": 6,
    "start_time": "2022-03-17T03:10:26.308Z"
   },
   {
    "duration": 12,
    "start_time": "2022-03-17T03:10:26.317Z"
   },
   {
    "duration": 9,
    "start_time": "2022-03-17T03:10:26.331Z"
   },
   {
    "duration": 6,
    "start_time": "2022-03-17T03:10:26.342Z"
   },
   {
    "duration": 9,
    "start_time": "2022-03-17T03:10:26.388Z"
   },
   {
    "duration": 431,
    "start_time": "2022-03-17T03:10:26.400Z"
   },
   {
    "duration": 5,
    "start_time": "2022-03-17T03:10:38.976Z"
   },
   {
    "duration": 8,
    "start_time": "2022-03-17T03:10:58.790Z"
   },
   {
    "duration": 8,
    "start_time": "2022-03-17T03:12:07.014Z"
   },
   {
    "duration": 8,
    "start_time": "2022-03-17T03:12:12.152Z"
   },
   {
    "duration": 1436,
    "start_time": "2022-03-17T03:12:26.723Z"
   },
   {
    "duration": 47,
    "start_time": "2022-03-17T03:12:28.162Z"
   },
   {
    "duration": 56,
    "start_time": "2022-03-17T03:12:28.212Z"
   },
   {
    "duration": 36,
    "start_time": "2022-03-17T03:12:28.271Z"
   },
   {
    "duration": 13,
    "start_time": "2022-03-17T03:12:28.309Z"
   },
   {
    "duration": 22,
    "start_time": "2022-03-17T03:12:28.324Z"
   },
   {
    "duration": 47,
    "start_time": "2022-03-17T03:12:28.348Z"
   },
   {
    "duration": 7,
    "start_time": "2022-03-17T03:12:28.398Z"
   },
   {
    "duration": 10,
    "start_time": "2022-03-17T03:12:28.410Z"
   },
   {
    "duration": 13,
    "start_time": "2022-03-17T03:12:28.423Z"
   },
   {
    "duration": 48,
    "start_time": "2022-03-17T03:12:28.439Z"
   },
   {
    "duration": 5,
    "start_time": "2022-03-17T03:12:28.490Z"
   },
   {
    "duration": 293,
    "start_time": "2022-03-17T03:12:28.498Z"
   },
   {
    "duration": 57,
    "start_time": "2022-03-17T03:15:00.687Z"
   },
   {
    "duration": 1404,
    "start_time": "2022-03-17T03:15:49.076Z"
   },
   {
    "duration": 47,
    "start_time": "2022-03-17T03:15:50.483Z"
   },
   {
    "duration": 73,
    "start_time": "2022-03-17T03:15:50.533Z"
   },
   {
    "duration": 25,
    "start_time": "2022-03-17T03:15:50.609Z"
   },
   {
    "duration": 17,
    "start_time": "2022-03-17T03:15:50.637Z"
   },
   {
    "duration": 27,
    "start_time": "2022-03-17T03:15:50.688Z"
   },
   {
    "duration": 17,
    "start_time": "2022-03-17T03:15:50.718Z"
   },
   {
    "duration": 48,
    "start_time": "2022-03-17T03:15:50.739Z"
   },
   {
    "duration": 10,
    "start_time": "2022-03-17T03:15:50.790Z"
   },
   {
    "duration": 12,
    "start_time": "2022-03-17T03:15:50.802Z"
   },
   {
    "duration": 3,
    "start_time": "2022-03-17T03:15:50.816Z"
   },
   {
    "duration": 5,
    "start_time": "2022-03-17T03:15:50.821Z"
   },
   {
    "duration": 345,
    "start_time": "2022-03-17T03:15:50.828Z"
   },
   {
    "duration": 12,
    "start_time": "2022-03-17T03:36:01.461Z"
   },
   {
    "duration": 13,
    "start_time": "2022-03-17T03:37:34.824Z"
   },
   {
    "duration": 210,
    "start_time": "2022-03-17T03:38:21.824Z"
   },
   {
    "duration": 7,
    "start_time": "2022-03-17T03:38:29.794Z"
   },
   {
    "duration": 6,
    "start_time": "2022-03-17T03:39:39.579Z"
   },
   {
    "duration": 6,
    "start_time": "2022-03-17T03:39:49.512Z"
   },
   {
    "duration": 33,
    "start_time": "2022-03-17T03:40:27.667Z"
   },
   {
    "duration": 11,
    "start_time": "2022-03-17T03:40:58.444Z"
   },
   {
    "duration": 11,
    "start_time": "2022-03-17T03:41:18.817Z"
   },
   {
    "duration": 9,
    "start_time": "2022-03-17T03:41:23.284Z"
   },
   {
    "duration": 11,
    "start_time": "2022-03-17T03:43:20.938Z"
   },
   {
    "duration": 10,
    "start_time": "2022-03-17T03:44:11.417Z"
   },
   {
    "duration": 10,
    "start_time": "2022-03-17T03:44:31.962Z"
   },
   {
    "duration": 1303,
    "start_time": "2022-03-17T18:46:14.968Z"
   },
   {
    "duration": 52,
    "start_time": "2022-03-17T18:46:16.273Z"
   },
   {
    "duration": 41,
    "start_time": "2022-03-17T18:46:16.327Z"
   },
   {
    "duration": 15,
    "start_time": "2022-03-17T18:46:16.371Z"
   },
   {
    "duration": 12,
    "start_time": "2022-03-17T18:46:16.388Z"
   },
   {
    "duration": 15,
    "start_time": "2022-03-17T18:46:16.402Z"
   },
   {
    "duration": 14,
    "start_time": "2022-03-17T18:46:16.418Z"
   },
   {
    "duration": 5,
    "start_time": "2022-03-17T18:46:16.434Z"
   },
   {
    "duration": 9,
    "start_time": "2022-03-17T18:46:16.440Z"
   },
   {
    "duration": 34,
    "start_time": "2022-03-17T18:46:16.451Z"
   },
   {
    "duration": 2,
    "start_time": "2022-03-17T18:46:16.486Z"
   },
   {
    "duration": 9,
    "start_time": "2022-03-17T18:46:16.490Z"
   },
   {
    "duration": 7,
    "start_time": "2022-03-17T18:46:16.501Z"
   },
   {
    "duration": 7,
    "start_time": "2022-03-17T18:46:16.509Z"
   },
   {
    "duration": 10,
    "start_time": "2022-03-17T19:00:20.488Z"
   },
   {
    "duration": 27,
    "start_time": "2022-03-17T19:01:48.903Z"
   },
   {
    "duration": 111,
    "start_time": "2022-03-17T19:02:08.663Z"
   },
   {
    "duration": 15,
    "start_time": "2022-03-17T19:02:12.768Z"
   },
   {
    "duration": 25,
    "start_time": "2022-03-17T19:02:23.487Z"
   },
   {
    "duration": 14,
    "start_time": "2022-03-17T19:50:09.415Z"
   },
   {
    "duration": 14,
    "start_time": "2022-03-17T19:56:13.547Z"
   },
   {
    "duration": 9,
    "start_time": "2022-03-17T20:02:04.247Z"
   },
   {
    "duration": 16,
    "start_time": "2022-03-17T20:02:52.813Z"
   },
   {
    "duration": 14,
    "start_time": "2022-03-17T20:05:12.997Z"
   },
   {
    "duration": 9,
    "start_time": "2022-03-17T20:07:49.264Z"
   },
   {
    "duration": 20,
    "start_time": "2022-03-17T20:10:25.881Z"
   },
   {
    "duration": 8,
    "start_time": "2022-03-17T20:16:07.312Z"
   },
   {
    "duration": 21,
    "start_time": "2022-03-17T20:18:08.233Z"
   },
   {
    "duration": 15,
    "start_time": "2022-03-17T20:19:35.046Z"
   },
   {
    "duration": 7,
    "start_time": "2022-03-17T20:19:43.924Z"
   },
   {
    "duration": 8,
    "start_time": "2022-03-17T20:20:30.459Z"
   },
   {
    "duration": 5,
    "start_time": "2022-03-17T20:20:40.446Z"
   },
   {
    "duration": 20,
    "start_time": "2022-03-17T20:21:50.707Z"
   },
   {
    "duration": 23,
    "start_time": "2022-03-17T20:26:17.411Z"
   },
   {
    "duration": 23,
    "start_time": "2022-03-17T20:26:22.983Z"
   },
   {
    "duration": 127,
    "start_time": "2022-03-17T20:30:54.522Z"
   },
   {
    "duration": 26,
    "start_time": "2022-03-17T20:34:25.059Z"
   },
   {
    "duration": 209,
    "start_time": "2022-03-17T20:35:50.257Z"
   },
   {
    "duration": 205,
    "start_time": "2022-03-17T20:36:07.815Z"
   },
   {
    "duration": 204,
    "start_time": "2022-03-17T20:38:14.406Z"
   },
   {
    "duration": 1293,
    "start_time": "2022-03-18T00:18:50.692Z"
   },
   {
    "duration": 35,
    "start_time": "2022-03-18T00:18:51.987Z"
   },
   {
    "duration": 54,
    "start_time": "2022-03-18T00:18:52.024Z"
   },
   {
    "duration": 15,
    "start_time": "2022-03-18T00:18:52.080Z"
   },
   {
    "duration": 11,
    "start_time": "2022-03-18T00:18:52.098Z"
   },
   {
    "duration": 35,
    "start_time": "2022-03-18T00:18:52.110Z"
   },
   {
    "duration": 18,
    "start_time": "2022-03-18T00:18:52.147Z"
   },
   {
    "duration": 4,
    "start_time": "2022-03-18T00:18:52.167Z"
   },
   {
    "duration": 13,
    "start_time": "2022-03-18T00:18:52.173Z"
   },
   {
    "duration": 10,
    "start_time": "2022-03-18T00:18:52.187Z"
   },
   {
    "duration": 6,
    "start_time": "2022-03-18T00:18:52.198Z"
   },
   {
    "duration": 37,
    "start_time": "2022-03-18T00:18:52.205Z"
   },
   {
    "duration": 15,
    "start_time": "2022-03-18T00:18:52.245Z"
   },
   {
    "duration": 16,
    "start_time": "2022-03-18T00:18:52.263Z"
   },
   {
    "duration": 4,
    "start_time": "2022-03-18T00:18:52.281Z"
   },
   {
    "duration": 26,
    "start_time": "2022-03-18T00:18:52.286Z"
   },
   {
    "duration": 275,
    "start_time": "2022-03-18T00:18:52.313Z"
   },
   {
    "duration": 2216,
    "start_time": "2022-03-18T00:18:52.590Z"
   },
   {
    "duration": 10,
    "start_time": "2022-03-18T00:24:48.764Z"
   },
   {
    "duration": 2014,
    "start_time": "2022-03-18T00:25:03.165Z"
   },
   {
    "duration": 158,
    "start_time": "2022-03-18T00:26:12.391Z"
   },
   {
    "duration": 2150,
    "start_time": "2022-03-18T00:26:27.565Z"
   },
   {
    "duration": 128,
    "start_time": "2022-03-18T00:27:35.644Z"
   },
   {
    "duration": 271,
    "start_time": "2022-03-18T00:30:05.685Z"
   },
   {
    "duration": 10,
    "start_time": "2022-03-18T00:34:59.396Z"
   },
   {
    "duration": 10,
    "start_time": "2022-03-18T00:37:58.718Z"
   },
   {
    "duration": 19,
    "start_time": "2022-03-18T00:43:30.647Z"
   },
   {
    "duration": 19,
    "start_time": "2022-03-18T00:45:38.627Z"
   },
   {
    "duration": 12,
    "start_time": "2022-03-18T01:45:28.454Z"
   },
   {
    "duration": 10,
    "start_time": "2022-03-18T01:45:40.434Z"
   },
   {
    "duration": 7,
    "start_time": "2022-03-18T01:46:50.497Z"
   },
   {
    "duration": 33,
    "start_time": "2022-03-18T01:47:00.701Z"
   },
   {
    "duration": 11,
    "start_time": "2022-03-18T01:47:10.935Z"
   },
   {
    "duration": 32,
    "start_time": "2022-03-18T01:54:42.714Z"
   },
   {
    "duration": 12,
    "start_time": "2022-03-18T01:55:07.788Z"
   },
   {
    "duration": 9,
    "start_time": "2022-03-18T01:55:16.742Z"
   },
   {
    "duration": 5,
    "start_time": "2022-03-18T01:56:47.237Z"
   },
   {
    "duration": 12,
    "start_time": "2022-03-18T01:56:54.278Z"
   },
   {
    "duration": 8,
    "start_time": "2022-03-18T01:57:31.741Z"
   },
   {
    "duration": 15,
    "start_time": "2022-03-18T01:57:41.571Z"
   },
   {
    "duration": 524,
    "start_time": "2022-03-18T01:58:42.055Z"
   },
   {
    "duration": 13,
    "start_time": "2022-03-18T02:05:07.033Z"
   },
   {
    "duration": 14,
    "start_time": "2022-03-18T02:05:29.910Z"
   },
   {
    "duration": 5,
    "start_time": "2022-03-18T02:07:24.481Z"
   },
   {
    "duration": 11,
    "start_time": "2022-03-18T02:07:38.676Z"
   },
   {
    "duration": 8,
    "start_time": "2022-03-18T02:08:24.742Z"
   },
   {
    "duration": 1093,
    "start_time": "2022-03-18T02:08:36.967Z"
   },
   {
    "duration": 39,
    "start_time": "2022-03-18T02:08:38.062Z"
   },
   {
    "duration": 42,
    "start_time": "2022-03-18T02:08:38.102Z"
   },
   {
    "duration": 16,
    "start_time": "2022-03-18T02:08:38.145Z"
   },
   {
    "duration": 13,
    "start_time": "2022-03-18T02:08:38.163Z"
   },
   {
    "duration": 28,
    "start_time": "2022-03-18T02:08:38.177Z"
   },
   {
    "duration": 13,
    "start_time": "2022-03-18T02:08:38.206Z"
   },
   {
    "duration": 18,
    "start_time": "2022-03-18T02:08:38.220Z"
   },
   {
    "duration": 12,
    "start_time": "2022-03-18T02:08:38.240Z"
   },
   {
    "duration": 91,
    "start_time": "2022-03-18T02:08:38.254Z"
   },
   {
    "duration": 0,
    "start_time": "2022-03-18T02:08:38.347Z"
   },
   {
    "duration": 0,
    "start_time": "2022-03-18T02:08:38.348Z"
   },
   {
    "duration": 0,
    "start_time": "2022-03-18T02:08:38.349Z"
   },
   {
    "duration": 0,
    "start_time": "2022-03-18T02:08:38.350Z"
   },
   {
    "duration": 0,
    "start_time": "2022-03-18T02:08:38.351Z"
   },
   {
    "duration": 0,
    "start_time": "2022-03-18T02:08:38.352Z"
   },
   {
    "duration": 0,
    "start_time": "2022-03-18T02:08:38.353Z"
   },
   {
    "duration": 0,
    "start_time": "2022-03-18T02:08:38.354Z"
   },
   {
    "duration": 0,
    "start_time": "2022-03-18T02:08:38.354Z"
   },
   {
    "duration": 0,
    "start_time": "2022-03-18T02:08:38.355Z"
   },
   {
    "duration": 0,
    "start_time": "2022-03-18T02:08:38.356Z"
   },
   {
    "duration": 0,
    "start_time": "2022-03-18T02:08:38.357Z"
   },
   {
    "duration": 2,
    "start_time": "2022-03-18T02:08:54.650Z"
   },
   {
    "duration": 12,
    "start_time": "2022-03-18T02:08:55.938Z"
   },
   {
    "duration": 13,
    "start_time": "2022-03-18T02:09:04.002Z"
   },
   {
    "duration": 13,
    "start_time": "2022-03-18T02:09:38.411Z"
   },
   {
    "duration": 8,
    "start_time": "2022-03-18T02:09:43.001Z"
   },
   {
    "duration": 8,
    "start_time": "2022-03-18T02:10:29.308Z"
   },
   {
    "duration": 7,
    "start_time": "2022-03-18T02:10:45.748Z"
   },
   {
    "duration": 7,
    "start_time": "2022-03-18T02:11:15.363Z"
   },
   {
    "duration": 10,
    "start_time": "2022-03-18T02:13:22.026Z"
   },
   {
    "duration": 19,
    "start_time": "2022-03-18T02:13:29.443Z"
   },
   {
    "duration": 8,
    "start_time": "2022-03-18T02:13:52.835Z"
   },
   {
    "duration": 15,
    "start_time": "2022-03-18T02:15:50.567Z"
   },
   {
    "duration": 1147,
    "start_time": "2022-03-18T02:16:17.122Z"
   },
   {
    "duration": 37,
    "start_time": "2022-03-18T02:16:18.271Z"
   },
   {
    "duration": 45,
    "start_time": "2022-03-18T02:16:18.309Z"
   },
   {
    "duration": 15,
    "start_time": "2022-03-18T02:16:18.356Z"
   },
   {
    "duration": 11,
    "start_time": "2022-03-18T02:16:18.373Z"
   },
   {
    "duration": 15,
    "start_time": "2022-03-18T02:16:18.386Z"
   },
   {
    "duration": 38,
    "start_time": "2022-03-18T02:16:18.403Z"
   },
   {
    "duration": 4,
    "start_time": "2022-03-18T02:16:18.443Z"
   },
   {
    "duration": 7,
    "start_time": "2022-03-18T02:16:18.449Z"
   },
   {
    "duration": 2,
    "start_time": "2022-03-18T02:16:18.459Z"
   },
   {
    "duration": 13,
    "start_time": "2022-03-18T02:16:18.462Z"
   },
   {
    "duration": 13,
    "start_time": "2022-03-18T02:16:18.477Z"
   },
   {
    "duration": 7,
    "start_time": "2022-03-18T02:16:18.492Z"
   },
   {
    "duration": 43,
    "start_time": "2022-03-18T02:16:18.500Z"
   },
   {
    "duration": 9,
    "start_time": "2022-03-18T02:16:18.544Z"
   },
   {
    "duration": 2,
    "start_time": "2022-03-18T02:16:18.555Z"
   },
   {
    "duration": 10,
    "start_time": "2022-03-18T02:16:18.558Z"
   },
   {
    "duration": 6,
    "start_time": "2022-03-18T02:16:18.570Z"
   },
   {
    "duration": 20,
    "start_time": "2022-03-18T02:16:18.578Z"
   },
   {
    "duration": 4,
    "start_time": "2022-03-18T02:16:18.600Z"
   },
   {
    "duration": 23,
    "start_time": "2022-03-18T02:16:18.638Z"
   },
   {
    "duration": 250,
    "start_time": "2022-03-18T02:16:18.663Z"
   },
   {
    "duration": 2192,
    "start_time": "2022-03-18T02:16:18.914Z"
   },
   {
    "duration": 17,
    "start_time": "2022-03-18T02:17:54.634Z"
   },
   {
    "duration": 15,
    "start_time": "2022-03-18T02:18:28.935Z"
   },
   {
    "duration": 1153,
    "start_time": "2022-03-18T02:18:42.513Z"
   },
   {
    "duration": 37,
    "start_time": "2022-03-18T02:18:43.668Z"
   },
   {
    "duration": 41,
    "start_time": "2022-03-18T02:18:43.707Z"
   },
   {
    "duration": 16,
    "start_time": "2022-03-18T02:18:43.750Z"
   },
   {
    "duration": 10,
    "start_time": "2022-03-18T02:18:43.769Z"
   },
   {
    "duration": 16,
    "start_time": "2022-03-18T02:18:43.780Z"
   },
   {
    "duration": 42,
    "start_time": "2022-03-18T02:18:43.798Z"
   },
   {
    "duration": 5,
    "start_time": "2022-03-18T02:18:43.842Z"
   },
   {
    "duration": 7,
    "start_time": "2022-03-18T02:18:43.849Z"
   },
   {
    "duration": 5,
    "start_time": "2022-03-18T02:18:43.857Z"
   },
   {
    "duration": 13,
    "start_time": "2022-03-18T02:18:43.863Z"
   },
   {
    "duration": 12,
    "start_time": "2022-03-18T02:18:43.877Z"
   },
   {
    "duration": 7,
    "start_time": "2022-03-18T02:18:43.891Z"
   },
   {
    "duration": 41,
    "start_time": "2022-03-18T02:18:43.900Z"
   },
   {
    "duration": 8,
    "start_time": "2022-03-18T02:18:43.943Z"
   },
   {
    "duration": 4,
    "start_time": "2022-03-18T02:18:43.952Z"
   },
   {
    "duration": 8,
    "start_time": "2022-03-18T02:18:43.957Z"
   },
   {
    "duration": 8,
    "start_time": "2022-03-18T02:18:43.966Z"
   },
   {
    "duration": 16,
    "start_time": "2022-03-18T02:18:43.976Z"
   },
   {
    "duration": 5,
    "start_time": "2022-03-18T02:18:43.993Z"
   },
   {
    "duration": 22,
    "start_time": "2022-03-18T02:18:44.037Z"
   },
   {
    "duration": 235,
    "start_time": "2022-03-18T02:18:44.061Z"
   },
   {
    "duration": 2081,
    "start_time": "2022-03-18T02:18:44.298Z"
   },
   {
    "duration": 18,
    "start_time": "2022-03-18T02:20:14.320Z"
   },
   {
    "duration": 15,
    "start_time": "2022-03-18T02:20:33.071Z"
   },
   {
    "duration": 1166,
    "start_time": "2022-03-18T02:21:19.605Z"
   },
   {
    "duration": 38,
    "start_time": "2022-03-18T02:21:20.773Z"
   },
   {
    "duration": 40,
    "start_time": "2022-03-18T02:21:20.812Z"
   },
   {
    "duration": 16,
    "start_time": "2022-03-18T02:21:20.854Z"
   },
   {
    "duration": 15,
    "start_time": "2022-03-18T02:21:20.871Z"
   },
   {
    "duration": 16,
    "start_time": "2022-03-18T02:21:20.888Z"
   },
   {
    "duration": 39,
    "start_time": "2022-03-18T02:21:20.906Z"
   },
   {
    "duration": 8,
    "start_time": "2022-03-18T02:21:20.947Z"
   },
   {
    "duration": 10,
    "start_time": "2022-03-18T02:21:20.956Z"
   },
   {
    "duration": 24,
    "start_time": "2022-03-18T02:21:20.969Z"
   },
   {
    "duration": 23,
    "start_time": "2022-03-18T02:21:20.995Z"
   },
   {
    "duration": 8,
    "start_time": "2022-03-18T02:21:21.020Z"
   },
   {
    "duration": 18,
    "start_time": "2022-03-18T02:21:21.030Z"
   },
   {
    "duration": 10,
    "start_time": "2022-03-18T02:21:21.050Z"
   },
   {
    "duration": 21,
    "start_time": "2022-03-18T02:21:21.062Z"
   },
   {
    "duration": 7,
    "start_time": "2022-03-18T02:21:21.085Z"
   },
   {
    "duration": 21,
    "start_time": "2022-03-18T02:21:21.093Z"
   },
   {
    "duration": 12,
    "start_time": "2022-03-18T02:21:21.116Z"
   },
   {
    "duration": 33,
    "start_time": "2022-03-18T02:21:21.129Z"
   },
   {
    "duration": 11,
    "start_time": "2022-03-18T02:21:21.164Z"
   },
   {
    "duration": 33,
    "start_time": "2022-03-18T02:21:21.177Z"
   },
   {
    "duration": 222,
    "start_time": "2022-03-18T02:21:21.212Z"
   },
   {
    "duration": 2146,
    "start_time": "2022-03-18T02:21:21.435Z"
   },
   {
    "duration": 17,
    "start_time": "2022-03-18T02:21:32.417Z"
   },
   {
    "duration": 1181,
    "start_time": "2022-03-18T02:21:54.806Z"
   },
   {
    "duration": 38,
    "start_time": "2022-03-18T02:21:55.989Z"
   },
   {
    "duration": 45,
    "start_time": "2022-03-18T02:21:56.029Z"
   },
   {
    "duration": 18,
    "start_time": "2022-03-18T02:21:56.076Z"
   },
   {
    "duration": 12,
    "start_time": "2022-03-18T02:21:56.096Z"
   },
   {
    "duration": 40,
    "start_time": "2022-03-18T02:21:56.110Z"
   },
   {
    "duration": 15,
    "start_time": "2022-03-18T02:21:56.152Z"
   },
   {
    "duration": 4,
    "start_time": "2022-03-18T02:21:56.170Z"
   },
   {
    "duration": 10,
    "start_time": "2022-03-18T02:21:56.176Z"
   },
   {
    "duration": 4,
    "start_time": "2022-03-18T02:21:56.189Z"
   },
   {
    "duration": 48,
    "start_time": "2022-03-18T02:21:56.194Z"
   },
   {
    "duration": 13,
    "start_time": "2022-03-18T02:21:56.243Z"
   },
   {
    "duration": 6,
    "start_time": "2022-03-18T02:21:56.258Z"
   },
   {
    "duration": 5,
    "start_time": "2022-03-18T02:21:56.266Z"
   },
   {
    "duration": 9,
    "start_time": "2022-03-18T02:21:56.272Z"
   },
   {
    "duration": 2,
    "start_time": "2022-03-18T02:21:56.283Z"
   },
   {
    "duration": 8,
    "start_time": "2022-03-18T02:21:56.287Z"
   },
   {
    "duration": 41,
    "start_time": "2022-03-18T02:21:56.297Z"
   },
   {
    "duration": 17,
    "start_time": "2022-03-18T02:21:56.340Z"
   },
   {
    "duration": 5,
    "start_time": "2022-03-18T02:21:56.358Z"
   },
   {
    "duration": 24,
    "start_time": "2022-03-18T02:21:56.364Z"
   },
   {
    "duration": 249,
    "start_time": "2022-03-18T02:21:56.390Z"
   },
   {
    "duration": 2118,
    "start_time": "2022-03-18T02:21:56.641Z"
   },
   {
    "duration": 16,
    "start_time": "2022-03-18T03:25:47.745Z"
   },
   {
    "duration": 16,
    "start_time": "2022-03-18T03:28:49.576Z"
   },
   {
    "duration": 5,
    "start_time": "2022-03-18T03:36:12.601Z"
   },
   {
    "duration": 8,
    "start_time": "2022-03-18T03:56:07.336Z"
   },
   {
    "duration": 128,
    "start_time": "2022-03-18T03:56:37.981Z"
   },
   {
    "duration": 148,
    "start_time": "2022-03-18T03:56:49.852Z"
   },
   {
    "duration": 146,
    "start_time": "2022-03-18T03:58:20.800Z"
   },
   {
    "duration": 147,
    "start_time": "2022-03-18T03:58:35.693Z"
   },
   {
    "duration": 221,
    "start_time": "2022-03-18T04:33:39.688Z"
   },
   {
    "duration": 18,
    "start_time": "2022-03-18T05:00:06.313Z"
   },
   {
    "duration": 22,
    "start_time": "2022-03-18T05:00:48.752Z"
   },
   {
    "duration": 15,
    "start_time": "2022-03-18T05:10:34.539Z"
   },
   {
    "duration": 15,
    "start_time": "2022-03-18T05:11:35.251Z"
   },
   {
    "duration": 15,
    "start_time": "2022-03-18T05:18:18.183Z"
   },
   {
    "duration": 21,
    "start_time": "2022-03-18T05:20:43.190Z"
   },
   {
    "duration": 373,
    "start_time": "2022-03-18T05:21:25.154Z"
   },
   {
    "duration": 458,
    "start_time": "2022-03-18T05:25:31.484Z"
   },
   {
    "duration": 1805,
    "start_time": "2022-03-18T15:23:57.317Z"
   },
   {
    "duration": 56,
    "start_time": "2022-03-18T15:23:59.125Z"
   },
   {
    "duration": 94,
    "start_time": "2022-03-18T15:23:59.183Z"
   },
   {
    "duration": 29,
    "start_time": "2022-03-18T15:23:59.280Z"
   },
   {
    "duration": 6316,
    "start_time": "2022-03-18T15:23:59.311Z"
   },
   {
    "duration": 0,
    "start_time": "2022-03-18T15:24:05.629Z"
   },
   {
    "duration": 0,
    "start_time": "2022-03-18T15:24:05.631Z"
   },
   {
    "duration": 0,
    "start_time": "2022-03-18T15:24:05.633Z"
   },
   {
    "duration": 0,
    "start_time": "2022-03-18T15:24:05.634Z"
   },
   {
    "duration": 0,
    "start_time": "2022-03-18T15:24:05.635Z"
   },
   {
    "duration": 0,
    "start_time": "2022-03-18T15:24:05.637Z"
   },
   {
    "duration": 0,
    "start_time": "2022-03-18T15:24:05.639Z"
   },
   {
    "duration": 0,
    "start_time": "2022-03-18T15:24:05.640Z"
   },
   {
    "duration": 0,
    "start_time": "2022-03-18T15:24:05.642Z"
   },
   {
    "duration": 0,
    "start_time": "2022-03-18T15:24:05.644Z"
   },
   {
    "duration": 0,
    "start_time": "2022-03-18T15:24:05.645Z"
   },
   {
    "duration": 0,
    "start_time": "2022-03-18T15:24:05.647Z"
   },
   {
    "duration": 0,
    "start_time": "2022-03-18T15:24:05.648Z"
   },
   {
    "duration": 0,
    "start_time": "2022-03-18T15:24:05.650Z"
   },
   {
    "duration": 0,
    "start_time": "2022-03-18T15:24:05.652Z"
   },
   {
    "duration": 0,
    "start_time": "2022-03-18T15:24:05.654Z"
   },
   {
    "duration": 0,
    "start_time": "2022-03-18T15:24:05.656Z"
   },
   {
    "duration": 0,
    "start_time": "2022-03-18T15:24:05.658Z"
   },
   {
    "duration": 0,
    "start_time": "2022-03-18T15:24:05.660Z"
   },
   {
    "duration": 0,
    "start_time": "2022-03-18T15:24:05.661Z"
   },
   {
    "duration": 1,
    "start_time": "2022-03-18T15:24:05.670Z"
   },
   {
    "duration": 6,
    "start_time": "2022-03-18T15:24:38.887Z"
   },
   {
    "duration": 1613,
    "start_time": "2022-03-18T15:24:46.119Z"
   },
   {
    "duration": 63,
    "start_time": "2022-03-18T15:24:47.735Z"
   },
   {
    "duration": 97,
    "start_time": "2022-03-18T15:24:47.800Z"
   },
   {
    "duration": 51,
    "start_time": "2022-03-18T15:24:47.902Z"
   },
   {
    "duration": 10,
    "start_time": "2022-03-18T15:24:47.957Z"
   },
   {
    "duration": 19,
    "start_time": "2022-03-18T15:24:47.969Z"
   },
   {
    "duration": 54,
    "start_time": "2022-03-18T15:24:47.990Z"
   },
   {
    "duration": 22,
    "start_time": "2022-03-18T15:24:48.047Z"
   },
   {
    "duration": 13,
    "start_time": "2022-03-18T15:24:48.073Z"
   },
   {
    "duration": 14,
    "start_time": "2022-03-18T15:24:48.090Z"
   },
   {
    "duration": 75,
    "start_time": "2022-03-18T15:24:48.108Z"
   },
   {
    "duration": 60,
    "start_time": "2022-03-18T15:24:48.187Z"
   },
   {
    "duration": 4,
    "start_time": "2022-03-18T15:24:48.251Z"
   },
   {
    "duration": 12,
    "start_time": "2022-03-18T15:24:48.257Z"
   },
   {
    "duration": 10,
    "start_time": "2022-03-18T15:24:48.271Z"
   },
   {
    "duration": 313,
    "start_time": "2022-03-18T15:24:48.283Z"
   },
   {
    "duration": 26,
    "start_time": "2022-03-18T15:24:48.598Z"
   },
   {
    "duration": 20,
    "start_time": "2022-03-18T15:24:48.626Z"
   },
   {
    "duration": 44,
    "start_time": "2022-03-18T15:24:48.648Z"
   },
   {
    "duration": 417,
    "start_time": "2022-03-18T15:24:48.695Z"
   },
   {
    "duration": 35,
    "start_time": "2022-03-18T15:24:49.115Z"
   },
   {
    "duration": 22,
    "start_time": "2022-03-18T15:24:49.153Z"
   },
   {
    "duration": 23,
    "start_time": "2022-03-18T15:24:49.178Z"
   },
   {
    "duration": 68,
    "start_time": "2022-03-18T15:24:49.203Z"
   },
   {
    "duration": 662,
    "start_time": "2022-03-18T15:24:49.274Z"
   },
   {
    "duration": 3923,
    "start_time": "2022-03-18T15:24:49.938Z"
   },
   {
    "duration": 2,
    "start_time": "2022-03-18T15:52:26.691Z"
   },
   {
    "duration": 3625,
    "start_time": "2022-03-18T16:18:36.962Z"
   },
   {
    "duration": 1722,
    "start_time": "2022-03-18T17:53:13.873Z"
   },
   {
    "duration": 84,
    "start_time": "2022-03-18T17:53:15.599Z"
   },
   {
    "duration": 100,
    "start_time": "2022-03-18T17:53:15.686Z"
   },
   {
    "duration": 40,
    "start_time": "2022-03-18T17:53:15.790Z"
   },
   {
    "duration": 16,
    "start_time": "2022-03-18T17:53:15.844Z"
   },
   {
    "duration": 22,
    "start_time": "2022-03-18T17:53:15.862Z"
   },
   {
    "duration": 25,
    "start_time": "2022-03-18T17:53:15.886Z"
   },
   {
    "duration": 56,
    "start_time": "2022-03-18T17:53:15.914Z"
   },
   {
    "duration": 10,
    "start_time": "2022-03-18T17:53:15.972Z"
   },
   {
    "duration": 9,
    "start_time": "2022-03-18T17:53:15.987Z"
   },
   {
    "duration": 60,
    "start_time": "2022-03-18T17:53:16.004Z"
   },
   {
    "duration": 27,
    "start_time": "2022-03-18T17:53:16.066Z"
   },
   {
    "duration": 5,
    "start_time": "2022-03-18T17:53:16.096Z"
   },
   {
    "duration": 65,
    "start_time": "2022-03-18T17:53:16.103Z"
   },
   {
    "duration": 14,
    "start_time": "2022-03-18T17:53:16.171Z"
   },
   {
    "duration": 302,
    "start_time": "2022-03-18T17:53:16.188Z"
   },
   {
    "duration": 26,
    "start_time": "2022-03-18T17:53:16.492Z"
   },
   {
    "duration": 24,
    "start_time": "2022-03-18T17:53:16.520Z"
   },
   {
    "duration": 48,
    "start_time": "2022-03-18T17:53:16.546Z"
   },
   {
    "duration": 429,
    "start_time": "2022-03-18T17:53:16.597Z"
   },
   {
    "duration": 31,
    "start_time": "2022-03-18T17:53:17.029Z"
   },
   {
    "duration": 24,
    "start_time": "2022-03-18T17:53:17.063Z"
   },
   {
    "duration": 64,
    "start_time": "2022-03-18T17:53:17.089Z"
   },
   {
    "duration": 47,
    "start_time": "2022-03-18T17:53:17.156Z"
   },
   {
    "duration": 954,
    "start_time": "2022-03-18T17:53:17.206Z"
   },
   {
    "duration": 4200,
    "start_time": "2022-03-18T17:53:18.164Z"
   },
   {
    "duration": 0,
    "start_time": "2022-03-18T17:53:22.367Z"
   },
   {
    "duration": 0,
    "start_time": "2022-03-18T17:53:22.369Z"
   },
   {
    "duration": 0,
    "start_time": "2022-03-18T17:53:22.370Z"
   },
   {
    "duration": 16,
    "start_time": "2022-03-18T17:53:44.173Z"
   },
   {
    "duration": 20,
    "start_time": "2022-03-18T17:54:28.800Z"
   },
   {
    "duration": 18,
    "start_time": "2022-03-18T17:54:40.315Z"
   },
   {
    "duration": 1886,
    "start_time": "2022-03-18T17:54:55.487Z"
   },
   {
    "duration": 75,
    "start_time": "2022-03-18T17:54:57.376Z"
   },
   {
    "duration": 66,
    "start_time": "2022-03-18T17:54:57.453Z"
   },
   {
    "duration": 50,
    "start_time": "2022-03-18T17:54:57.522Z"
   },
   {
    "duration": 12,
    "start_time": "2022-03-18T17:54:57.575Z"
   },
   {
    "duration": 22,
    "start_time": "2022-03-18T17:54:57.590Z"
   },
   {
    "duration": 46,
    "start_time": "2022-03-18T17:54:57.614Z"
   },
   {
    "duration": 22,
    "start_time": "2022-03-18T17:54:57.663Z"
   },
   {
    "duration": 9,
    "start_time": "2022-03-18T17:54:57.688Z"
   },
   {
    "duration": 51,
    "start_time": "2022-03-18T17:54:57.701Z"
   },
   {
    "duration": 30,
    "start_time": "2022-03-18T17:54:57.754Z"
   },
   {
    "duration": 36,
    "start_time": "2022-03-18T17:54:57.787Z"
   },
   {
    "duration": 4,
    "start_time": "2022-03-18T17:54:57.848Z"
   },
   {
    "duration": 25,
    "start_time": "2022-03-18T17:54:57.854Z"
   },
   {
    "duration": 12,
    "start_time": "2022-03-18T17:54:57.881Z"
   },
   {
    "duration": 310,
    "start_time": "2022-03-18T17:54:57.895Z"
   },
   {
    "duration": 39,
    "start_time": "2022-03-18T17:54:58.207Z"
   },
   {
    "duration": 8,
    "start_time": "2022-03-18T17:54:58.249Z"
   },
   {
    "duration": 44,
    "start_time": "2022-03-18T17:54:58.260Z"
   },
   {
    "duration": 553,
    "start_time": "2022-03-18T17:54:58.307Z"
   },
   {
    "duration": 23,
    "start_time": "2022-03-18T17:54:58.863Z"
   },
   {
    "duration": 24,
    "start_time": "2022-03-18T17:54:58.888Z"
   },
   {
    "duration": 32,
    "start_time": "2022-03-18T17:54:58.942Z"
   },
   {
    "duration": 34,
    "start_time": "2022-03-18T17:54:58.977Z"
   },
   {
    "duration": 694,
    "start_time": "2022-03-18T17:54:59.013Z"
   },
   {
    "duration": 17,
    "start_time": "2022-03-18T17:54:59.710Z"
   },
   {
    "duration": 175,
    "start_time": "2022-03-18T17:54:59.730Z"
   },
   {
    "duration": 0,
    "start_time": "2022-03-18T17:54:59.908Z"
   },
   {
    "duration": 0,
    "start_time": "2022-03-18T17:54:59.910Z"
   },
   {
    "duration": 1125,
    "start_time": "2022-03-18T17:59:09.424Z"
   },
   {
    "duration": 973,
    "start_time": "2022-03-18T18:00:03.152Z"
   },
   {
    "duration": 22,
    "start_time": "2022-03-18T18:01:35.762Z"
   },
   {
    "duration": 21,
    "start_time": "2022-03-18T18:03:53.132Z"
   },
   {
    "duration": 1753,
    "start_time": "2022-03-18T18:04:04.943Z"
   },
   {
    "duration": 64,
    "start_time": "2022-03-18T18:04:06.699Z"
   },
   {
    "duration": 76,
    "start_time": "2022-03-18T18:04:06.766Z"
   },
   {
    "duration": 34,
    "start_time": "2022-03-18T18:04:06.852Z"
   },
   {
    "duration": 8,
    "start_time": "2022-03-18T18:04:06.890Z"
   },
   {
    "duration": 46,
    "start_time": "2022-03-18T18:04:06.902Z"
   },
   {
    "duration": 36,
    "start_time": "2022-03-18T18:04:06.951Z"
   },
   {
    "duration": 27,
    "start_time": "2022-03-18T18:04:06.989Z"
   },
   {
    "duration": 40,
    "start_time": "2022-03-18T18:04:07.018Z"
   },
   {
    "duration": 24,
    "start_time": "2022-03-18T18:04:07.062Z"
   },
   {
    "duration": 37,
    "start_time": "2022-03-18T18:04:07.089Z"
   },
   {
    "duration": 40,
    "start_time": "2022-03-18T18:04:07.143Z"
   },
   {
    "duration": 4,
    "start_time": "2022-03-18T18:04:07.185Z"
   },
   {
    "duration": 16,
    "start_time": "2022-03-18T18:04:07.192Z"
   },
   {
    "duration": 53,
    "start_time": "2022-03-18T18:04:07.211Z"
   },
   {
    "duration": 312,
    "start_time": "2022-03-18T18:04:07.266Z"
   },
   {
    "duration": 33,
    "start_time": "2022-03-18T18:04:07.580Z"
   },
   {
    "duration": 9,
    "start_time": "2022-03-18T18:04:07.616Z"
   },
   {
    "duration": 72,
    "start_time": "2022-03-18T18:04:07.627Z"
   },
   {
    "duration": 432,
    "start_time": "2022-03-18T18:04:07.701Z"
   },
   {
    "duration": 38,
    "start_time": "2022-03-18T18:04:08.138Z"
   },
   {
    "duration": 30,
    "start_time": "2022-03-18T18:04:08.179Z"
   },
   {
    "duration": 36,
    "start_time": "2022-03-18T18:04:08.212Z"
   },
   {
    "duration": 42,
    "start_time": "2022-03-18T18:04:08.251Z"
   },
   {
    "duration": 882,
    "start_time": "2022-03-18T18:04:08.296Z"
   },
   {
    "duration": 9,
    "start_time": "2022-03-18T18:04:09.186Z"
   },
   {
    "duration": 252,
    "start_time": "2022-03-18T18:04:09.198Z"
   },
   {
    "duration": 0,
    "start_time": "2022-03-18T18:04:09.454Z"
   },
   {
    "duration": 0,
    "start_time": "2022-03-18T18:04:09.456Z"
   },
   {
    "duration": 9,
    "start_time": "2022-03-18T18:04:19.873Z"
   },
   {
    "duration": 15,
    "start_time": "2022-03-18T18:04:28.023Z"
   },
   {
    "duration": 22,
    "start_time": "2022-03-18T18:05:41.449Z"
   },
   {
    "duration": 219,
    "start_time": "2022-03-18T18:10:06.390Z"
   },
   {
    "duration": 218,
    "start_time": "2022-03-18T18:10:38.765Z"
   },
   {
    "duration": 200,
    "start_time": "2022-03-18T18:10:59.296Z"
   },
   {
    "duration": 256,
    "start_time": "2022-03-18T18:11:12.471Z"
   },
   {
    "duration": 231,
    "start_time": "2022-03-18T18:12:30.480Z"
   },
   {
    "duration": 28,
    "start_time": "2022-03-18T18:12:58.565Z"
   },
   {
    "duration": 27,
    "start_time": "2022-03-18T18:16:41.042Z"
   },
   {
    "duration": 28,
    "start_time": "2022-03-18T18:19:07.666Z"
   },
   {
    "duration": 21,
    "start_time": "2022-03-18T18:24:41.476Z"
   },
   {
    "duration": 1659,
    "start_time": "2022-03-18T20:54:12.609Z"
   },
   {
    "duration": 57,
    "start_time": "2022-03-18T20:54:14.271Z"
   },
   {
    "duration": 69,
    "start_time": "2022-03-18T20:54:14.330Z"
   },
   {
    "duration": 27,
    "start_time": "2022-03-18T20:54:14.402Z"
   },
   {
    "duration": 7,
    "start_time": "2022-03-18T20:54:14.433Z"
   },
   {
    "duration": 14,
    "start_time": "2022-03-18T20:54:14.468Z"
   },
   {
    "duration": 22,
    "start_time": "2022-03-18T20:54:14.484Z"
   },
   {
    "duration": 20,
    "start_time": "2022-03-18T20:54:14.508Z"
   },
   {
    "duration": 42,
    "start_time": "2022-03-18T20:54:14.530Z"
   },
   {
    "duration": 11,
    "start_time": "2022-03-18T20:54:14.574Z"
   },
   {
    "duration": 25,
    "start_time": "2022-03-18T20:54:14.587Z"
   },
   {
    "duration": 63,
    "start_time": "2022-03-18T20:54:14.614Z"
   },
   {
    "duration": 3,
    "start_time": "2022-03-18T20:54:14.680Z"
   },
   {
    "duration": 30,
    "start_time": "2022-03-18T20:54:14.688Z"
   },
   {
    "duration": 14,
    "start_time": "2022-03-18T20:54:14.722Z"
   },
   {
    "duration": 305,
    "start_time": "2022-03-18T20:54:14.740Z"
   },
   {
    "duration": 34,
    "start_time": "2022-03-18T20:54:15.047Z"
   },
   {
    "duration": 6,
    "start_time": "2022-03-18T20:54:15.083Z"
   },
   {
    "duration": 39,
    "start_time": "2022-03-18T20:54:15.091Z"
   },
   {
    "duration": 416,
    "start_time": "2022-03-18T20:54:15.132Z"
   },
   {
    "duration": 32,
    "start_time": "2022-03-18T20:54:15.551Z"
   },
   {
    "duration": 23,
    "start_time": "2022-03-18T20:54:15.585Z"
   },
   {
    "duration": 24,
    "start_time": "2022-03-18T20:54:15.610Z"
   },
   {
    "duration": 30,
    "start_time": "2022-03-18T20:54:15.669Z"
   },
   {
    "duration": 622,
    "start_time": "2022-03-18T20:54:15.702Z"
   },
   {
    "duration": 13,
    "start_time": "2022-03-18T20:54:16.327Z"
   },
   {
    "duration": 6,
    "start_time": "2022-03-18T20:54:16.342Z"
   },
   {
    "duration": 6,
    "start_time": "2022-03-18T20:54:16.350Z"
   },
   {
    "duration": 10,
    "start_time": "2022-03-18T20:54:16.368Z"
   },
   {
    "duration": 29,
    "start_time": "2022-03-18T21:02:04.574Z"
   },
   {
    "duration": 263,
    "start_time": "2022-03-18T21:03:41.537Z"
   },
   {
    "duration": 251,
    "start_time": "2022-03-18T21:07:13.850Z"
   },
   {
    "duration": 268,
    "start_time": "2022-03-18T21:07:32.758Z"
   },
   {
    "duration": 25,
    "start_time": "2022-03-18T21:08:35.376Z"
   },
   {
    "duration": 27,
    "start_time": "2022-03-18T21:13:01.421Z"
   },
   {
    "duration": 252,
    "start_time": "2022-03-18T21:14:17.913Z"
   },
   {
    "duration": 251,
    "start_time": "2022-03-18T21:14:46.048Z"
   },
   {
    "duration": 345,
    "start_time": "2022-03-18T21:15:09.674Z"
   },
   {
    "duration": 253,
    "start_time": "2022-03-18T21:15:12.251Z"
   },
   {
    "duration": 252,
    "start_time": "2022-03-18T21:15:41.976Z"
   },
   {
    "duration": 19,
    "start_time": "2022-03-18T21:24:00.671Z"
   },
   {
    "duration": 1463,
    "start_time": "2022-03-18T22:44:30.267Z"
   },
   {
    "duration": 52,
    "start_time": "2022-03-18T22:44:31.733Z"
   },
   {
    "duration": 62,
    "start_time": "2022-03-18T22:44:31.787Z"
   },
   {
    "duration": 41,
    "start_time": "2022-03-18T22:44:31.852Z"
   },
   {
    "duration": 10,
    "start_time": "2022-03-18T22:44:31.895Z"
   },
   {
    "duration": 17,
    "start_time": "2022-03-18T22:44:31.907Z"
   },
   {
    "duration": 61,
    "start_time": "2022-03-18T22:44:31.927Z"
   },
   {
    "duration": 21,
    "start_time": "2022-03-18T22:44:31.990Z"
   },
   {
    "duration": 11,
    "start_time": "2022-03-18T22:44:32.013Z"
   },
   {
    "duration": 45,
    "start_time": "2022-03-18T22:44:32.030Z"
   },
   {
    "duration": 25,
    "start_time": "2022-03-18T22:44:32.078Z"
   },
   {
    "duration": 25,
    "start_time": "2022-03-18T22:44:32.105Z"
   },
   {
    "duration": 4,
    "start_time": "2022-03-18T22:44:32.132Z"
   },
   {
    "duration": 11,
    "start_time": "2022-03-18T22:44:32.168Z"
   },
   {
    "duration": 16,
    "start_time": "2022-03-18T22:44:32.181Z"
   },
   {
    "duration": 285,
    "start_time": "2022-03-18T22:44:32.199Z"
   },
   {
    "duration": 25,
    "start_time": "2022-03-18T22:44:32.486Z"
   },
   {
    "duration": 7,
    "start_time": "2022-03-18T22:44:32.513Z"
   },
   {
    "duration": 62,
    "start_time": "2022-03-18T22:44:32.523Z"
   },
   {
    "duration": 386,
    "start_time": "2022-03-18T22:44:32.587Z"
   },
   {
    "duration": 23,
    "start_time": "2022-03-18T22:44:32.976Z"
   },
   {
    "duration": 22,
    "start_time": "2022-03-18T22:44:33.001Z"
   },
   {
    "duration": 55,
    "start_time": "2022-03-18T22:44:33.026Z"
   },
   {
    "duration": 31,
    "start_time": "2022-03-18T22:44:33.084Z"
   },
   {
    "duration": 710,
    "start_time": "2022-03-18T22:44:33.118Z"
   },
   {
    "duration": 13,
    "start_time": "2022-03-18T22:44:33.830Z"
   },
   {
    "duration": 36,
    "start_time": "2022-03-18T22:44:33.846Z"
   },
   {
    "duration": 268,
    "start_time": "2022-03-18T22:44:33.887Z"
   },
   {
    "duration": 22,
    "start_time": "2022-03-18T22:44:34.157Z"
   },
   {
    "duration": 4,
    "start_time": "2022-03-18T22:44:34.182Z"
   },
   {
    "duration": 244,
    "start_time": "2022-03-18T22:51:33.007Z"
   },
   {
    "duration": 232,
    "start_time": "2022-03-18T22:52:33.794Z"
   },
   {
    "duration": 242,
    "start_time": "2022-03-18T23:12:37.581Z"
   },
   {
    "duration": 10,
    "start_time": "2022-03-18T23:40:12.204Z"
   },
   {
    "duration": 16,
    "start_time": "2022-03-18T23:42:40.734Z"
   },
   {
    "duration": 11,
    "start_time": "2022-03-18T23:46:03.911Z"
   },
   {
    "duration": 13,
    "start_time": "2022-03-18T23:46:11.992Z"
   },
   {
    "duration": 7,
    "start_time": "2022-03-18T23:47:14.820Z"
   },
   {
    "duration": 24,
    "start_time": "2022-03-18T23:50:35.963Z"
   },
   {
    "duration": 36,
    "start_time": "2022-03-18T23:50:54.438Z"
   },
   {
    "duration": 8,
    "start_time": "2022-03-18T23:52:15.210Z"
   },
   {
    "duration": 54,
    "start_time": "2022-03-18T23:57:09.707Z"
   },
   {
    "duration": 19,
    "start_time": "2022-03-18T23:59:19.837Z"
   },
   {
    "duration": 55,
    "start_time": "2022-03-19T00:01:42.143Z"
   },
   {
    "duration": 22,
    "start_time": "2022-03-19T00:02:01.645Z"
   },
   {
    "duration": 1429,
    "start_time": "2022-03-19T01:26:50.377Z"
   },
   {
    "duration": 54,
    "start_time": "2022-03-19T01:26:51.809Z"
   },
   {
    "duration": 63,
    "start_time": "2022-03-19T01:26:51.865Z"
   },
   {
    "duration": 43,
    "start_time": "2022-03-19T01:26:51.933Z"
   },
   {
    "duration": 11,
    "start_time": "2022-03-19T01:26:51.979Z"
   },
   {
    "duration": 16,
    "start_time": "2022-03-19T01:26:51.992Z"
   },
   {
    "duration": 21,
    "start_time": "2022-03-19T01:26:52.010Z"
   },
   {
    "duration": 53,
    "start_time": "2022-03-19T01:26:52.033Z"
   },
   {
    "duration": 8,
    "start_time": "2022-03-19T01:26:52.089Z"
   },
   {
    "duration": 9,
    "start_time": "2022-03-19T01:26:52.101Z"
   },
   {
    "duration": 68,
    "start_time": "2022-03-19T01:26:52.112Z"
   },
   {
    "duration": 25,
    "start_time": "2022-03-19T01:26:52.182Z"
   },
   {
    "duration": 4,
    "start_time": "2022-03-19T01:26:52.209Z"
   },
   {
    "duration": 9,
    "start_time": "2022-03-19T01:26:52.215Z"
   },
   {
    "duration": 48,
    "start_time": "2022-03-19T01:26:52.227Z"
   },
   {
    "duration": 280,
    "start_time": "2022-03-19T01:26:52.278Z"
   },
   {
    "duration": 31,
    "start_time": "2022-03-19T01:26:52.560Z"
   },
   {
    "duration": 9,
    "start_time": "2022-03-19T01:26:52.593Z"
   },
   {
    "duration": 70,
    "start_time": "2022-03-19T01:26:52.604Z"
   },
   {
    "duration": 386,
    "start_time": "2022-03-19T01:26:52.677Z"
   },
   {
    "duration": 25,
    "start_time": "2022-03-19T01:26:53.068Z"
   },
   {
    "duration": 25,
    "start_time": "2022-03-19T01:26:53.096Z"
   },
   {
    "duration": 62,
    "start_time": "2022-03-19T01:26:53.123Z"
   },
   {
    "duration": 34,
    "start_time": "2022-03-19T01:26:53.188Z"
   },
   {
    "duration": 627,
    "start_time": "2022-03-19T01:26:53.225Z"
   },
   {
    "duration": 12,
    "start_time": "2022-03-19T01:26:53.854Z"
   },
   {
    "duration": 28,
    "start_time": "2022-03-19T01:26:53.868Z"
   },
   {
    "duration": 273,
    "start_time": "2022-03-19T01:26:53.901Z"
   },
   {
    "duration": 19,
    "start_time": "2022-03-19T01:26:54.176Z"
   },
   {
    "duration": 259,
    "start_time": "2022-03-19T01:26:54.198Z"
   },
   {
    "duration": 269,
    "start_time": "2022-03-19T01:26:54.467Z"
   },
   {
    "duration": 29,
    "start_time": "2022-03-19T01:26:54.738Z"
   },
   {
    "duration": 7,
    "start_time": "2022-03-19T01:26:54.770Z"
   },
   {
    "duration": 21,
    "start_time": "2022-03-19T01:26:54.779Z"
   },
   {
    "duration": 4,
    "start_time": "2022-03-19T01:26:54.803Z"
   },
   {
    "duration": 139,
    "start_time": "2022-03-19T01:36:01.093Z"
   },
   {
    "duration": 9,
    "start_time": "2022-03-19T01:36:07.376Z"
   },
   {
    "duration": 10,
    "start_time": "2022-03-19T01:37:03.481Z"
   },
   {
    "duration": 233,
    "start_time": "2022-03-19T01:48:10.439Z"
   },
   {
    "duration": 22,
    "start_time": "2022-03-19T02:06:25.430Z"
   },
   {
    "duration": 22,
    "start_time": "2022-03-19T02:06:55.013Z"
   },
   {
    "duration": 10,
    "start_time": "2022-03-19T02:19:57.352Z"
   },
   {
    "duration": 11,
    "start_time": "2022-03-19T02:22:39.574Z"
   },
   {
    "duration": 11,
    "start_time": "2022-03-19T02:22:46.283Z"
   },
   {
    "duration": 18,
    "start_time": "2022-03-19T02:24:25.236Z"
   },
   {
    "duration": 10,
    "start_time": "2022-03-19T02:25:03.478Z"
   },
   {
    "duration": 14,
    "start_time": "2022-03-19T02:25:46.820Z"
   },
   {
    "duration": 1564,
    "start_time": "2022-03-19T02:26:13.685Z"
   },
   {
    "duration": 14,
    "start_time": "2022-03-19T02:26:56.245Z"
   },
   {
    "duration": 1355,
    "start_time": "2022-03-19T02:27:28.091Z"
   },
   {
    "duration": 52,
    "start_time": "2022-03-19T02:27:29.449Z"
   },
   {
    "duration": 71,
    "start_time": "2022-03-19T02:27:29.503Z"
   },
   {
    "duration": 26,
    "start_time": "2022-03-19T02:27:29.577Z"
   },
   {
    "duration": 9,
    "start_time": "2022-03-19T02:27:29.606Z"
   },
   {
    "duration": 21,
    "start_time": "2022-03-19T02:27:29.618Z"
   },
   {
    "duration": 25,
    "start_time": "2022-03-19T02:27:29.669Z"
   },
   {
    "duration": 23,
    "start_time": "2022-03-19T02:27:29.696Z"
   },
   {
    "duration": 46,
    "start_time": "2022-03-19T02:27:29.722Z"
   },
   {
    "duration": 11,
    "start_time": "2022-03-19T02:27:29.772Z"
   },
   {
    "duration": 26,
    "start_time": "2022-03-19T02:27:29.785Z"
   },
   {
    "duration": 57,
    "start_time": "2022-03-19T02:27:29.813Z"
   },
   {
    "duration": 5,
    "start_time": "2022-03-19T02:27:29.872Z"
   },
   {
    "duration": 12,
    "start_time": "2022-03-19T02:27:29.879Z"
   },
   {
    "duration": 12,
    "start_time": "2022-03-19T02:27:29.893Z"
   },
   {
    "duration": 312,
    "start_time": "2022-03-19T02:27:29.906Z"
   },
   {
    "duration": 46,
    "start_time": "2022-03-19T02:27:30.221Z"
   },
   {
    "duration": 8,
    "start_time": "2022-03-19T02:27:30.270Z"
   },
   {
    "duration": 39,
    "start_time": "2022-03-19T02:27:30.280Z"
   },
   {
    "duration": 389,
    "start_time": "2022-03-19T02:27:30.321Z"
   },
   {
    "duration": 24,
    "start_time": "2022-03-19T02:27:30.712Z"
   },
   {
    "duration": 39,
    "start_time": "2022-03-19T02:27:30.738Z"
   },
   {
    "duration": 40,
    "start_time": "2022-03-19T02:27:30.779Z"
   },
   {
    "duration": 30,
    "start_time": "2022-03-19T02:27:30.821Z"
   },
   {
    "duration": 618,
    "start_time": "2022-03-19T02:27:30.854Z"
   },
   {
    "duration": 12,
    "start_time": "2022-03-19T02:27:31.475Z"
   },
   {
    "duration": 29,
    "start_time": "2022-03-19T02:27:31.489Z"
   },
   {
    "duration": 277,
    "start_time": "2022-03-19T02:27:31.523Z"
   },
   {
    "duration": 18,
    "start_time": "2022-03-19T02:27:31.802Z"
   },
   {
    "duration": 234,
    "start_time": "2022-03-19T02:27:31.822Z"
   },
   {
    "duration": 14,
    "start_time": "2022-03-19T02:27:32.058Z"
   },
   {
    "duration": 242,
    "start_time": "2022-03-19T02:27:32.074Z"
   },
   {
    "duration": 9,
    "start_time": "2022-03-19T02:27:32.318Z"
   },
   {
    "duration": 39,
    "start_time": "2022-03-19T02:27:32.329Z"
   },
   {
    "duration": 8,
    "start_time": "2022-03-19T02:27:32.370Z"
   },
   {
    "duration": 22,
    "start_time": "2022-03-19T02:27:32.380Z"
   },
   {
    "duration": 19,
    "start_time": "2022-03-19T02:27:32.404Z"
   },
   {
    "duration": 169,
    "start_time": "2022-03-19T02:27:32.426Z"
   },
   {
    "duration": 0,
    "start_time": "2022-03-19T02:27:32.597Z"
   },
   {
    "duration": 9,
    "start_time": "2022-03-19T02:28:25.460Z"
   },
   {
    "duration": 25,
    "start_time": "2022-03-19T02:31:05.195Z"
   },
   {
    "duration": 17,
    "start_time": "2022-03-19T02:34:31.410Z"
   },
   {
    "duration": 25,
    "start_time": "2022-03-19T02:36:17.631Z"
   },
   {
    "duration": 21,
    "start_time": "2022-03-19T02:49:26.998Z"
   },
   {
    "duration": 22,
    "start_time": "2022-03-19T02:49:45.402Z"
   },
   {
    "duration": 21,
    "start_time": "2022-03-19T02:49:59.588Z"
   },
   {
    "duration": 1512,
    "start_time": "2022-03-19T02:50:52.083Z"
   },
   {
    "duration": 19,
    "start_time": "2022-03-19T02:51:09.329Z"
   },
   {
    "duration": 24,
    "start_time": "2022-03-19T02:51:27.476Z"
   },
   {
    "duration": 18,
    "start_time": "2022-03-19T02:51:37.997Z"
   },
   {
    "duration": 20,
    "start_time": "2022-03-19T02:52:01.891Z"
   },
   {
    "duration": 18,
    "start_time": "2022-03-19T02:52:24.797Z"
   },
   {
    "duration": 17,
    "start_time": "2022-03-19T02:52:31.400Z"
   },
   {
    "duration": 16,
    "start_time": "2022-03-19T02:52:38.724Z"
   },
   {
    "duration": 1402,
    "start_time": "2022-03-19T02:52:48.749Z"
   },
   {
    "duration": 47,
    "start_time": "2022-03-19T02:52:50.154Z"
   },
   {
    "duration": 71,
    "start_time": "2022-03-19T02:52:50.203Z"
   },
   {
    "duration": 26,
    "start_time": "2022-03-19T02:52:50.277Z"
   },
   {
    "duration": 8,
    "start_time": "2022-03-19T02:52:50.305Z"
   },
   {
    "duration": 14,
    "start_time": "2022-03-19T02:52:50.315Z"
   },
   {
    "duration": 20,
    "start_time": "2022-03-19T02:52:50.368Z"
   },
   {
    "duration": 20,
    "start_time": "2022-03-19T02:52:50.390Z"
   },
   {
    "duration": 9,
    "start_time": "2022-03-19T02:52:50.412Z"
   },
   {
    "duration": 48,
    "start_time": "2022-03-19T02:52:50.425Z"
   },
   {
    "duration": 24,
    "start_time": "2022-03-19T02:52:50.476Z"
   },
   {
    "duration": 23,
    "start_time": "2022-03-19T02:52:50.502Z"
   },
   {
    "duration": 3,
    "start_time": "2022-03-19T02:52:50.528Z"
   },
   {
    "duration": 38,
    "start_time": "2022-03-19T02:52:50.533Z"
   },
   {
    "duration": 12,
    "start_time": "2022-03-19T02:52:50.573Z"
   },
   {
    "duration": 281,
    "start_time": "2022-03-19T02:52:50.587Z"
   },
   {
    "duration": 24,
    "start_time": "2022-03-19T02:52:50.870Z"
   },
   {
    "duration": 7,
    "start_time": "2022-03-19T02:52:50.896Z"
   },
   {
    "duration": 65,
    "start_time": "2022-03-19T02:52:50.904Z"
   },
   {
    "duration": 377,
    "start_time": "2022-03-19T02:52:50.971Z"
   },
   {
    "duration": 30,
    "start_time": "2022-03-19T02:52:51.350Z"
   },
   {
    "duration": 23,
    "start_time": "2022-03-19T02:52:51.382Z"
   },
   {
    "duration": 21,
    "start_time": "2022-03-19T02:52:51.407Z"
   },
   {
    "duration": 61,
    "start_time": "2022-03-19T02:52:51.430Z"
   },
   {
    "duration": 607,
    "start_time": "2022-03-19T02:52:51.493Z"
   },
   {
    "duration": 12,
    "start_time": "2022-03-19T02:52:52.103Z"
   },
   {
    "duration": 24,
    "start_time": "2022-03-19T02:52:52.117Z"
   },
   {
    "duration": 263,
    "start_time": "2022-03-19T02:52:52.146Z"
   },
   {
    "duration": 18,
    "start_time": "2022-03-19T02:52:52.412Z"
   },
   {
    "duration": 238,
    "start_time": "2022-03-19T02:52:52.433Z"
   },
   {
    "duration": 9,
    "start_time": "2022-03-19T02:52:52.673Z"
   },
   {
    "duration": 242,
    "start_time": "2022-03-19T02:52:52.684Z"
   },
   {
    "duration": 9,
    "start_time": "2022-03-19T02:52:52.928Z"
   },
   {
    "duration": 35,
    "start_time": "2022-03-19T02:52:52.939Z"
   },
   {
    "duration": 11,
    "start_time": "2022-03-19T02:52:52.976Z"
   },
   {
    "duration": 20,
    "start_time": "2022-03-19T02:52:52.989Z"
   },
   {
    "duration": 21,
    "start_time": "2022-03-19T02:52:53.011Z"
   },
   {
    "duration": 48,
    "start_time": "2022-03-19T02:52:53.034Z"
   },
   {
    "duration": 9,
    "start_time": "2022-03-19T02:52:53.084Z"
   },
   {
    "duration": 27,
    "start_time": "2022-03-19T02:52:53.094Z"
   },
   {
    "duration": 63,
    "start_time": "2022-03-19T02:52:53.123Z"
   },
   {
    "duration": 8,
    "start_time": "2022-03-19T02:52:53.188Z"
   },
   {
    "duration": 6,
    "start_time": "2022-03-19T02:52:53.198Z"
   },
   {
    "duration": 1839,
    "start_time": "2022-03-19T02:54:32.574Z"
   },
   {
    "duration": 20,
    "start_time": "2022-03-19T02:54:42.797Z"
   },
   {
    "duration": 22,
    "start_time": "2022-03-19T02:55:30.822Z"
   },
   {
    "duration": 11,
    "start_time": "2022-03-19T02:58:30.395Z"
   },
   {
    "duration": 21,
    "start_time": "2022-03-19T03:07:22.847Z"
   },
   {
    "duration": 18,
    "start_time": "2022-03-19T03:07:35.905Z"
   },
   {
    "duration": 19,
    "start_time": "2022-03-19T03:08:23.443Z"
   },
   {
    "duration": 20,
    "start_time": "2022-03-19T03:08:59.497Z"
   },
   {
    "duration": 20,
    "start_time": "2022-03-19T04:29:49.248Z"
   },
   {
    "duration": 19,
    "start_time": "2022-03-19T04:30:26.556Z"
   },
   {
    "duration": 18,
    "start_time": "2022-03-19T04:32:10.143Z"
   },
   {
    "duration": 19,
    "start_time": "2022-03-19T04:32:31.270Z"
   },
   {
    "duration": 1663,
    "start_time": "2022-03-19T12:29:17.668Z"
   },
   {
    "duration": 56,
    "start_time": "2022-03-19T12:29:19.335Z"
   },
   {
    "duration": 77,
    "start_time": "2022-03-19T12:29:19.393Z"
   },
   {
    "duration": 42,
    "start_time": "2022-03-19T12:29:19.473Z"
   },
   {
    "duration": 9,
    "start_time": "2022-03-19T12:29:19.517Z"
   },
   {
    "duration": 15,
    "start_time": "2022-03-19T12:29:19.528Z"
   },
   {
    "duration": 25,
    "start_time": "2022-03-19T12:29:19.545Z"
   },
   {
    "duration": 36,
    "start_time": "2022-03-19T12:29:19.572Z"
   },
   {
    "duration": 25,
    "start_time": "2022-03-19T12:29:19.611Z"
   },
   {
    "duration": 9,
    "start_time": "2022-03-19T12:29:19.641Z"
   },
   {
    "duration": 29,
    "start_time": "2022-03-19T12:29:19.652Z"
   },
   {
    "duration": 44,
    "start_time": "2022-03-19T12:29:19.683Z"
   },
   {
    "duration": 3,
    "start_time": "2022-03-19T12:29:19.729Z"
   },
   {
    "duration": 14,
    "start_time": "2022-03-19T12:29:19.734Z"
   },
   {
    "duration": 10,
    "start_time": "2022-03-19T12:29:19.750Z"
   },
   {
    "duration": 278,
    "start_time": "2022-03-19T12:29:19.762Z"
   },
   {
    "duration": 24,
    "start_time": "2022-03-19T12:29:20.043Z"
   },
   {
    "duration": 46,
    "start_time": "2022-03-19T12:29:20.069Z"
   },
   {
    "duration": 35,
    "start_time": "2022-03-19T12:29:20.118Z"
   },
   {
    "duration": 276,
    "start_time": "2022-03-19T12:29:20.155Z"
   },
   {
    "duration": 18,
    "start_time": "2022-03-19T12:29:20.434Z"
   },
   {
    "duration": 16,
    "start_time": "2022-03-19T12:29:20.455Z"
   },
   {
    "duration": 49,
    "start_time": "2022-03-19T12:29:20.473Z"
   },
   {
    "duration": 32,
    "start_time": "2022-03-19T12:29:20.524Z"
   },
   {
    "duration": 620,
    "start_time": "2022-03-19T12:29:20.558Z"
   },
   {
    "duration": 10,
    "start_time": "2022-03-19T12:29:21.179Z"
   },
   {
    "duration": 34,
    "start_time": "2022-03-19T12:29:21.190Z"
   },
   {
    "duration": 189,
    "start_time": "2022-03-19T12:29:21.228Z"
   },
   {
    "duration": 17,
    "start_time": "2022-03-19T12:29:21.419Z"
   },
   {
    "duration": 197,
    "start_time": "2022-03-19T12:29:21.438Z"
   },
   {
    "duration": 6,
    "start_time": "2022-03-19T12:29:21.637Z"
   },
   {
    "duration": 195,
    "start_time": "2022-03-19T12:29:21.645Z"
   },
   {
    "duration": 7,
    "start_time": "2022-03-19T12:29:21.842Z"
   },
   {
    "duration": 13,
    "start_time": "2022-03-19T12:29:21.851Z"
   },
   {
    "duration": 11,
    "start_time": "2022-03-19T12:29:21.866Z"
   },
   {
    "duration": 26,
    "start_time": "2022-03-19T12:29:21.901Z"
   },
   {
    "duration": 21,
    "start_time": "2022-03-19T12:29:21.929Z"
   },
   {
    "duration": 15,
    "start_time": "2022-03-19T12:29:21.952Z"
   },
   {
    "duration": 45,
    "start_time": "2022-03-19T12:29:21.969Z"
   },
   {
    "duration": 18,
    "start_time": "2022-03-19T12:29:22.016Z"
   },
   {
    "duration": 14,
    "start_time": "2022-03-19T12:29:22.037Z"
   },
   {
    "duration": 15,
    "start_time": "2022-03-19T12:29:22.053Z"
   },
   {
    "duration": 22,
    "start_time": "2022-03-19T12:29:22.102Z"
   },
   {
    "duration": 15,
    "start_time": "2022-03-19T12:29:22.126Z"
   },
   {
    "duration": 14,
    "start_time": "2022-03-19T12:29:22.143Z"
   },
   {
    "duration": 45,
    "start_time": "2022-03-19T12:29:22.158Z"
   },
   {
    "duration": 3,
    "start_time": "2022-03-19T12:29:22.205Z"
   },
   {
    "duration": 14,
    "start_time": "2022-03-19T12:29:22.210Z"
   },
   {
    "duration": 124,
    "start_time": "2022-03-19T12:29:22.227Z"
   },
   {
    "duration": 0,
    "start_time": "2022-03-19T12:29:22.353Z"
   },
   {
    "duration": 0,
    "start_time": "2022-03-19T12:29:22.355Z"
   },
   {
    "duration": 0,
    "start_time": "2022-03-19T12:29:22.356Z"
   },
   {
    "duration": 75,
    "start_time": "2022-03-19T16:17:07.015Z"
   },
   {
    "duration": 2136,
    "start_time": "2022-03-19T16:17:20.621Z"
   },
   {
    "duration": 56,
    "start_time": "2022-03-19T16:17:22.760Z"
   },
   {
    "duration": 70,
    "start_time": "2022-03-19T16:17:22.818Z"
   },
   {
    "duration": 29,
    "start_time": "2022-03-19T16:17:22.890Z"
   },
   {
    "duration": 12,
    "start_time": "2022-03-19T16:17:22.943Z"
   },
   {
    "duration": 20,
    "start_time": "2022-03-19T16:17:22.959Z"
   },
   {
    "duration": 23,
    "start_time": "2022-03-19T16:17:22.982Z"
   },
   {
    "duration": 59,
    "start_time": "2022-03-19T16:17:23.007Z"
   },
   {
    "duration": 11,
    "start_time": "2022-03-19T16:17:23.069Z"
   },
   {
    "duration": 12,
    "start_time": "2022-03-19T16:17:23.083Z"
   },
   {
    "duration": 63,
    "start_time": "2022-03-19T16:17:23.097Z"
   },
   {
    "duration": 25,
    "start_time": "2022-03-19T16:17:23.163Z"
   },
   {
    "duration": 3,
    "start_time": "2022-03-19T16:17:23.191Z"
   },
   {
    "duration": 13,
    "start_time": "2022-03-19T16:17:23.198Z"
   },
   {
    "duration": 33,
    "start_time": "2022-03-19T16:17:23.213Z"
   },
   {
    "duration": 329,
    "start_time": "2022-03-19T16:17:23.248Z"
   },
   {
    "duration": 35,
    "start_time": "2022-03-19T16:17:23.580Z"
   },
   {
    "duration": 40,
    "start_time": "2022-03-19T16:17:23.618Z"
   },
   {
    "duration": 40,
    "start_time": "2022-03-19T16:17:23.661Z"
   },
   {
    "duration": 582,
    "start_time": "2022-03-19T16:17:23.703Z"
   },
   {
    "duration": 32,
    "start_time": "2022-03-19T16:17:24.288Z"
   },
   {
    "duration": 45,
    "start_time": "2022-03-19T16:17:24.323Z"
   },
   {
    "duration": 23,
    "start_time": "2022-03-19T16:17:24.370Z"
   },
   {
    "duration": 66,
    "start_time": "2022-03-19T16:17:24.395Z"
   },
   {
    "duration": 717,
    "start_time": "2022-03-19T16:17:24.463Z"
   },
   {
    "duration": 12,
    "start_time": "2022-03-19T16:17:25.183Z"
   },
   {
    "duration": 29,
    "start_time": "2022-03-19T16:17:25.198Z"
   },
   {
    "duration": 301,
    "start_time": "2022-03-19T16:17:25.229Z"
   },
   {
    "duration": 27,
    "start_time": "2022-03-19T16:17:25.533Z"
   },
   {
    "duration": 312,
    "start_time": "2022-03-19T16:17:25.567Z"
   },
   {
    "duration": 9,
    "start_time": "2022-03-19T16:17:25.881Z"
   },
   {
    "duration": 399,
    "start_time": "2022-03-19T16:17:25.892Z"
   },
   {
    "duration": 11,
    "start_time": "2022-03-19T16:17:26.294Z"
   },
   {
    "duration": 45,
    "start_time": "2022-03-19T16:17:26.308Z"
   },
   {
    "duration": 27,
    "start_time": "2022-03-19T16:17:26.356Z"
   },
   {
    "duration": 40,
    "start_time": "2022-03-19T16:17:26.385Z"
   },
   {
    "duration": 40,
    "start_time": "2022-03-19T16:17:26.427Z"
   },
   {
    "duration": 19,
    "start_time": "2022-03-19T16:17:26.469Z"
   },
   {
    "duration": 20,
    "start_time": "2022-03-19T16:17:26.492Z"
   },
   {
    "duration": 49,
    "start_time": "2022-03-19T16:17:26.514Z"
   },
   {
    "duration": 28,
    "start_time": "2022-03-19T16:17:26.571Z"
   },
   {
    "duration": 18,
    "start_time": "2022-03-19T16:17:26.601Z"
   },
   {
    "duration": 69,
    "start_time": "2022-03-19T16:17:26.621Z"
   },
   {
    "duration": 19,
    "start_time": "2022-03-19T16:17:26.692Z"
   },
   {
    "duration": 30,
    "start_time": "2022-03-19T16:17:26.713Z"
   },
   {
    "duration": 25,
    "start_time": "2022-03-19T16:17:26.746Z"
   },
   {
    "duration": 13,
    "start_time": "2022-03-19T16:17:26.774Z"
   },
   {
    "duration": 10,
    "start_time": "2022-03-19T16:17:26.789Z"
   },
   {
    "duration": 190,
    "start_time": "2022-03-19T16:17:26.801Z"
   },
   {
    "duration": 0,
    "start_time": "2022-03-19T16:17:26.994Z"
   },
   {
    "duration": 0,
    "start_time": "2022-03-19T16:17:26.996Z"
   },
   {
    "duration": 0,
    "start_time": "2022-03-19T16:17:26.999Z"
   },
   {
    "duration": 17,
    "start_time": "2022-03-19T16:17:38.192Z"
   },
   {
    "duration": 15,
    "start_time": "2022-03-19T16:17:54.969Z"
   },
   {
    "duration": 16,
    "start_time": "2022-03-19T16:18:50.689Z"
   },
   {
    "duration": 10,
    "start_time": "2022-03-19T16:19:16.423Z"
   },
   {
    "duration": 12,
    "start_time": "2022-03-19T16:19:24.489Z"
   },
   {
    "duration": 9,
    "start_time": "2022-03-19T16:20:32.629Z"
   },
   {
    "duration": 7,
    "start_time": "2022-03-19T16:29:07.951Z"
   },
   {
    "duration": 15,
    "start_time": "2022-03-19T16:35:28.557Z"
   },
   {
    "duration": 11,
    "start_time": "2022-03-19T16:35:47.494Z"
   },
   {
    "duration": 7,
    "start_time": "2022-03-19T16:36:42.194Z"
   },
   {
    "duration": 1647,
    "start_time": "2022-03-19T17:54:17.561Z"
   },
   {
    "duration": 87,
    "start_time": "2022-03-19T17:54:19.210Z"
   },
   {
    "duration": 97,
    "start_time": "2022-03-19T17:54:19.301Z"
   },
   {
    "duration": 53,
    "start_time": "2022-03-19T17:54:19.401Z"
   },
   {
    "duration": 27,
    "start_time": "2022-03-19T17:54:19.457Z"
   },
   {
    "duration": 21,
    "start_time": "2022-03-19T17:54:19.487Z"
   },
   {
    "duration": 39,
    "start_time": "2022-03-19T17:54:19.511Z"
   },
   {
    "duration": 27,
    "start_time": "2022-03-19T17:54:19.552Z"
   },
   {
    "duration": 32,
    "start_time": "2022-03-19T17:54:19.582Z"
   },
   {
    "duration": 33,
    "start_time": "2022-03-19T17:54:19.619Z"
   },
   {
    "duration": 52,
    "start_time": "2022-03-19T17:54:19.658Z"
   },
   {
    "duration": 47,
    "start_time": "2022-03-19T17:54:19.713Z"
   },
   {
    "duration": 4,
    "start_time": "2022-03-19T17:54:19.764Z"
   },
   {
    "duration": 24,
    "start_time": "2022-03-19T17:54:19.773Z"
   },
   {
    "duration": 21,
    "start_time": "2022-03-19T17:54:19.800Z"
   },
   {
    "duration": 332,
    "start_time": "2022-03-19T17:54:19.824Z"
   },
   {
    "duration": 28,
    "start_time": "2022-03-19T17:54:20.158Z"
   },
   {
    "duration": 7,
    "start_time": "2022-03-19T17:54:20.189Z"
   },
   {
    "duration": 79,
    "start_time": "2022-03-19T17:54:20.199Z"
   },
   {
    "duration": 564,
    "start_time": "2022-03-19T17:54:20.281Z"
   },
   {
    "duration": 27,
    "start_time": "2022-03-19T17:54:20.848Z"
   },
   {
    "duration": 24,
    "start_time": "2022-03-19T17:54:20.877Z"
   },
   {
    "duration": 63,
    "start_time": "2022-03-19T17:54:20.903Z"
   },
   {
    "duration": 31,
    "start_time": "2022-03-19T17:54:20.968Z"
   },
   {
    "duration": 726,
    "start_time": "2022-03-19T17:54:21.002Z"
   },
   {
    "duration": 13,
    "start_time": "2022-03-19T17:54:21.730Z"
   },
   {
    "duration": 46,
    "start_time": "2022-03-19T17:54:21.747Z"
   },
   {
    "duration": 306,
    "start_time": "2022-03-19T17:54:21.796Z"
   },
   {
    "duration": 19,
    "start_time": "2022-03-19T17:54:22.106Z"
   },
   {
    "duration": 362,
    "start_time": "2022-03-19T17:54:22.128Z"
   },
   {
    "duration": 12,
    "start_time": "2022-03-19T17:54:22.493Z"
   },
   {
    "duration": 396,
    "start_time": "2022-03-19T17:54:22.507Z"
   },
   {
    "duration": 12,
    "start_time": "2022-03-19T17:54:22.906Z"
   },
   {
    "duration": 39,
    "start_time": "2022-03-19T17:54:22.921Z"
   },
   {
    "duration": 17,
    "start_time": "2022-03-19T17:54:22.966Z"
   },
   {
    "duration": 39,
    "start_time": "2022-03-19T17:54:22.986Z"
   },
   {
    "duration": 42,
    "start_time": "2022-03-19T17:54:23.028Z"
   },
   {
    "duration": 28,
    "start_time": "2022-03-19T17:54:23.073Z"
   },
   {
    "duration": 52,
    "start_time": "2022-03-19T17:54:23.104Z"
   },
   {
    "duration": 21,
    "start_time": "2022-03-19T17:54:23.159Z"
   },
   {
    "duration": 20,
    "start_time": "2022-03-19T17:54:23.186Z"
   },
   {
    "duration": 51,
    "start_time": "2022-03-19T17:54:23.209Z"
   },
   {
    "duration": 28,
    "start_time": "2022-03-19T17:54:23.263Z"
   },
   {
    "duration": 19,
    "start_time": "2022-03-19T17:54:23.294Z"
   },
   {
    "duration": 51,
    "start_time": "2022-03-19T17:54:23.315Z"
   },
   {
    "duration": 27,
    "start_time": "2022-03-19T17:54:23.369Z"
   },
   {
    "duration": 10,
    "start_time": "2022-03-19T17:54:23.398Z"
   },
   {
    "duration": 31,
    "start_time": "2022-03-19T17:54:23.442Z"
   },
   {
    "duration": 8,
    "start_time": "2022-03-19T17:54:23.476Z"
   },
   {
    "duration": 14,
    "start_time": "2022-03-19T17:54:23.487Z"
   },
   {
    "duration": 15,
    "start_time": "2022-03-19T17:54:23.503Z"
   },
   {
    "duration": 8,
    "start_time": "2022-03-19T17:54:23.546Z"
   },
   {
    "duration": 157,
    "start_time": "2022-03-19T18:37:58.556Z"
   },
   {
    "duration": 25,
    "start_time": "2022-03-19T18:38:07.913Z"
   },
   {
    "duration": 30,
    "start_time": "2022-03-19T18:38:20.556Z"
   },
   {
    "duration": 32,
    "start_time": "2022-03-19T18:38:52.561Z"
   },
   {
    "duration": 1581,
    "start_time": "2022-03-19T19:04:09.065Z"
   },
   {
    "duration": 58,
    "start_time": "2022-03-19T19:04:10.651Z"
   },
   {
    "duration": 71,
    "start_time": "2022-03-19T19:04:10.712Z"
   },
   {
    "duration": 27,
    "start_time": "2022-03-19T19:04:10.785Z"
   },
   {
    "duration": 30,
    "start_time": "2022-03-19T19:04:10.815Z"
   },
   {
    "duration": 31,
    "start_time": "2022-03-19T19:04:10.848Z"
   },
   {
    "duration": 23,
    "start_time": "2022-03-19T19:04:10.881Z"
   },
   {
    "duration": 48,
    "start_time": "2022-03-19T19:04:10.906Z"
   },
   {
    "duration": 15,
    "start_time": "2022-03-19T19:04:10.957Z"
   },
   {
    "duration": 11,
    "start_time": "2022-03-19T19:04:10.974Z"
   },
   {
    "duration": 33,
    "start_time": "2022-03-19T19:04:10.987Z"
   },
   {
    "duration": 36,
    "start_time": "2022-03-19T19:04:11.050Z"
   },
   {
    "duration": 11,
    "start_time": "2022-03-19T19:04:11.089Z"
   },
   {
    "duration": 12,
    "start_time": "2022-03-19T19:04:11.104Z"
   },
   {
    "duration": 328,
    "start_time": "2022-03-19T19:04:11.118Z"
   },
   {
    "duration": 31,
    "start_time": "2022-03-19T19:04:11.449Z"
   },
   {
    "duration": 7,
    "start_time": "2022-03-19T19:04:11.483Z"
   },
   {
    "duration": 90,
    "start_time": "2022-03-19T19:04:11.492Z"
   },
   {
    "duration": 441,
    "start_time": "2022-03-19T19:04:11.584Z"
   },
   {
    "duration": 43,
    "start_time": "2022-03-19T19:04:12.028Z"
   },
   {
    "duration": 27,
    "start_time": "2022-03-19T19:04:12.074Z"
   },
   {
    "duration": 56,
    "start_time": "2022-03-19T19:04:12.104Z"
   },
   {
    "duration": 31,
    "start_time": "2022-03-19T19:04:12.166Z"
   },
   {
    "duration": 713,
    "start_time": "2022-03-19T19:04:12.199Z"
   },
   {
    "duration": 13,
    "start_time": "2022-03-19T19:04:12.915Z"
   },
   {
    "duration": 29,
    "start_time": "2022-03-19T19:04:12.931Z"
   },
   {
    "duration": 290,
    "start_time": "2022-03-19T19:04:12.962Z"
   },
   {
    "duration": 22,
    "start_time": "2022-03-19T19:04:13.254Z"
   },
   {
    "duration": 293,
    "start_time": "2022-03-19T19:04:13.280Z"
   },
   {
    "duration": 10,
    "start_time": "2022-03-19T19:04:13.576Z"
   },
   {
    "duration": 287,
    "start_time": "2022-03-19T19:04:13.589Z"
   },
   {
    "duration": 8,
    "start_time": "2022-03-19T19:04:13.879Z"
   },
   {
    "duration": 16,
    "start_time": "2022-03-19T19:04:13.890Z"
   },
   {
    "duration": 35,
    "start_time": "2022-03-19T19:04:13.909Z"
   },
   {
    "duration": 25,
    "start_time": "2022-03-19T19:04:13.947Z"
   },
   {
    "duration": 24,
    "start_time": "2022-03-19T19:04:13.975Z"
   },
   {
    "duration": 49,
    "start_time": "2022-03-19T19:04:14.001Z"
   },
   {
    "duration": 24,
    "start_time": "2022-03-19T19:04:14.053Z"
   },
   {
    "duration": 21,
    "start_time": "2022-03-19T19:04:14.080Z"
   },
   {
    "duration": 54,
    "start_time": "2022-03-19T19:04:14.103Z"
   },
   {
    "duration": 20,
    "start_time": "2022-03-19T19:04:14.163Z"
   },
   {
    "duration": 18,
    "start_time": "2022-03-19T19:04:14.185Z"
   },
   {
    "duration": 52,
    "start_time": "2022-03-19T19:04:14.206Z"
   },
   {
    "duration": 20,
    "start_time": "2022-03-19T19:04:14.261Z"
   },
   {
    "duration": 19,
    "start_time": "2022-03-19T19:04:14.284Z"
   },
   {
    "duration": 41,
    "start_time": "2022-03-19T19:04:14.305Z"
   },
   {
    "duration": 27,
    "start_time": "2022-03-19T19:04:14.350Z"
   },
   {
    "duration": 8,
    "start_time": "2022-03-19T19:04:14.380Z"
   },
   {
    "duration": 13,
    "start_time": "2022-03-19T19:04:14.390Z"
   },
   {
    "duration": 39,
    "start_time": "2022-03-19T19:04:14.406Z"
   },
   {
    "duration": 11,
    "start_time": "2022-03-19T19:04:14.447Z"
   },
   {
    "duration": 1678,
    "start_time": "2022-03-20T01:09:32.669Z"
   },
   {
    "duration": 50,
    "start_time": "2022-03-20T01:09:34.350Z"
   },
   {
    "duration": 60,
    "start_time": "2022-03-20T01:09:34.402Z"
   },
   {
    "duration": 43,
    "start_time": "2022-03-20T01:09:34.465Z"
   },
   {
    "duration": 7,
    "start_time": "2022-03-20T01:09:34.511Z"
   },
   {
    "duration": 15,
    "start_time": "2022-03-20T01:09:34.520Z"
   },
   {
    "duration": 58,
    "start_time": "2022-03-20T01:09:34.537Z"
   },
   {
    "duration": 19,
    "start_time": "2022-03-20T01:09:34.597Z"
   },
   {
    "duration": 13,
    "start_time": "2022-03-20T01:09:34.618Z"
   },
   {
    "duration": 9,
    "start_time": "2022-03-20T01:09:34.634Z"
   },
   {
    "duration": 61,
    "start_time": "2022-03-20T01:09:34.645Z"
   },
   {
    "duration": 27,
    "start_time": "2022-03-20T01:09:34.708Z"
   },
   {
    "duration": 9,
    "start_time": "2022-03-20T01:09:34.737Z"
   },
   {
    "duration": 11,
    "start_time": "2022-03-20T01:09:34.783Z"
   },
   {
    "duration": 278,
    "start_time": "2022-03-20T01:09:34.797Z"
   },
   {
    "duration": 25,
    "start_time": "2022-03-20T01:09:35.078Z"
   },
   {
    "duration": 7,
    "start_time": "2022-03-20T01:09:35.105Z"
   },
   {
    "duration": 70,
    "start_time": "2022-03-20T01:09:35.114Z"
   },
   {
    "duration": 363,
    "start_time": "2022-03-20T01:09:35.186Z"
   },
   {
    "duration": 36,
    "start_time": "2022-03-20T01:09:35.552Z"
   },
   {
    "duration": 22,
    "start_time": "2022-03-20T01:09:35.591Z"
   },
   {
    "duration": 24,
    "start_time": "2022-03-20T01:09:35.616Z"
   },
   {
    "duration": 59,
    "start_time": "2022-03-20T01:09:35.642Z"
   },
   {
    "duration": 603,
    "start_time": "2022-03-20T01:09:35.704Z"
   },
   {
    "duration": 14,
    "start_time": "2022-03-20T01:09:36.310Z"
   },
   {
    "duration": 41,
    "start_time": "2022-03-20T01:09:36.326Z"
   },
   {
    "duration": 265,
    "start_time": "2022-03-20T01:09:36.369Z"
   },
   {
    "duration": 18,
    "start_time": "2022-03-20T01:09:36.637Z"
   },
   {
    "duration": 237,
    "start_time": "2022-03-20T01:09:36.657Z"
   },
   {
    "duration": 10,
    "start_time": "2022-03-20T01:09:36.896Z"
   },
   {
    "duration": 249,
    "start_time": "2022-03-20T01:09:36.908Z"
   },
   {
    "duration": 8,
    "start_time": "2022-03-20T01:09:37.160Z"
   },
   {
    "duration": 15,
    "start_time": "2022-03-20T01:09:37.182Z"
   },
   {
    "duration": 19,
    "start_time": "2022-03-20T01:09:37.200Z"
   },
   {
    "duration": 43,
    "start_time": "2022-03-20T01:09:37.221Z"
   },
   {
    "duration": 35,
    "start_time": "2022-03-20T01:09:37.267Z"
   },
   {
    "duration": 17,
    "start_time": "2022-03-20T01:09:37.306Z"
   },
   {
    "duration": 27,
    "start_time": "2022-03-20T01:09:37.325Z"
   },
   {
    "duration": 36,
    "start_time": "2022-03-20T01:09:37.355Z"
   },
   {
    "duration": 19,
    "start_time": "2022-03-20T01:09:37.394Z"
   },
   {
    "duration": 19,
    "start_time": "2022-03-20T01:09:37.421Z"
   },
   {
    "duration": 53,
    "start_time": "2022-03-20T01:09:37.442Z"
   },
   {
    "duration": 18,
    "start_time": "2022-03-20T01:09:37.497Z"
   },
   {
    "duration": 17,
    "start_time": "2022-03-20T01:09:37.517Z"
   },
   {
    "duration": 49,
    "start_time": "2022-03-20T01:09:37.537Z"
   },
   {
    "duration": 20,
    "start_time": "2022-03-20T01:09:37.589Z"
   },
   {
    "duration": 23,
    "start_time": "2022-03-20T01:09:37.611Z"
   },
   {
    "duration": 28,
    "start_time": "2022-03-20T01:09:37.636Z"
   },
   {
    "duration": 18,
    "start_time": "2022-03-20T01:09:37.666Z"
   },
   {
    "duration": 31,
    "start_time": "2022-03-20T01:09:37.686Z"
   },
   {
    "duration": 31,
    "start_time": "2022-03-20T01:09:37.719Z"
   },
   {
    "duration": 146,
    "start_time": "2022-03-20T04:46:26.382Z"
   },
   {
    "duration": 1278,
    "start_time": "2022-03-20T04:46:41.374Z"
   },
   {
    "duration": 38,
    "start_time": "2022-03-20T04:46:42.655Z"
   },
   {
    "duration": 48,
    "start_time": "2022-03-20T04:46:42.695Z"
   },
   {
    "duration": 16,
    "start_time": "2022-03-20T04:46:42.745Z"
   },
   {
    "duration": 5,
    "start_time": "2022-03-20T04:46:42.763Z"
   },
   {
    "duration": 12,
    "start_time": "2022-03-20T04:46:42.770Z"
   },
   {
    "duration": 15,
    "start_time": "2022-03-20T04:46:42.783Z"
   },
   {
    "duration": 43,
    "start_time": "2022-03-20T04:46:42.799Z"
   },
   {
    "duration": 7,
    "start_time": "2022-03-20T04:46:42.843Z"
   },
   {
    "duration": 12,
    "start_time": "2022-03-20T04:46:42.852Z"
   },
   {
    "duration": 19,
    "start_time": "2022-03-20T04:46:42.866Z"
   },
   {
    "duration": 47,
    "start_time": "2022-03-20T04:46:42.886Z"
   },
   {
    "duration": 7,
    "start_time": "2022-03-20T04:46:42.935Z"
   },
   {
    "duration": 7,
    "start_time": "2022-03-20T04:46:42.945Z"
   },
   {
    "duration": 175,
    "start_time": "2022-03-20T04:46:42.953Z"
   },
   {
    "duration": 17,
    "start_time": "2022-03-20T04:46:43.133Z"
   },
   {
    "duration": 5,
    "start_time": "2022-03-20T04:46:43.152Z"
   },
   {
    "duration": 29,
    "start_time": "2022-03-20T04:46:43.159Z"
   },
   {
    "duration": 342,
    "start_time": "2022-03-20T04:46:43.190Z"
   },
   {
    "duration": 20,
    "start_time": "2022-03-20T04:46:43.535Z"
   },
   {
    "duration": 18,
    "start_time": "2022-03-20T04:46:43.557Z"
   },
   {
    "duration": 21,
    "start_time": "2022-03-20T04:46:43.577Z"
   },
   {
    "duration": 50,
    "start_time": "2022-03-20T04:46:43.600Z"
   },
   {
    "duration": 517,
    "start_time": "2022-03-20T04:46:43.652Z"
   },
   {
    "duration": 9,
    "start_time": "2022-03-20T04:46:44.171Z"
   },
   {
    "duration": 17,
    "start_time": "2022-03-20T04:46:44.182Z"
   },
   {
    "duration": 151,
    "start_time": "2022-03-20T04:46:44.201Z"
   },
   {
    "duration": 12,
    "start_time": "2022-03-20T04:46:44.354Z"
   },
   {
    "duration": 146,
    "start_time": "2022-03-20T04:46:44.367Z"
   },
   {
    "duration": 6,
    "start_time": "2022-03-20T04:46:44.515Z"
   },
   {
    "duration": 141,
    "start_time": "2022-03-20T04:46:44.533Z"
   },
   {
    "duration": 6,
    "start_time": "2022-03-20T04:46:44.676Z"
   },
   {
    "duration": 12,
    "start_time": "2022-03-20T04:46:44.684Z"
   },
   {
    "duration": 5,
    "start_time": "2022-03-20T04:46:44.698Z"
   },
   {
    "duration": 35,
    "start_time": "2022-03-20T04:46:44.705Z"
   },
   {
    "duration": 14,
    "start_time": "2022-03-20T04:46:44.742Z"
   },
   {
    "duration": 13,
    "start_time": "2022-03-20T04:46:44.758Z"
   },
   {
    "duration": 13,
    "start_time": "2022-03-20T04:46:44.773Z"
   },
   {
    "duration": 50,
    "start_time": "2022-03-20T04:46:44.787Z"
   },
   {
    "duration": 12,
    "start_time": "2022-03-20T04:46:44.839Z"
   },
   {
    "duration": 13,
    "start_time": "2022-03-20T04:46:44.856Z"
   },
   {
    "duration": 12,
    "start_time": "2022-03-20T04:46:44.870Z"
   },
   {
    "duration": 14,
    "start_time": "2022-03-20T04:46:44.883Z"
   },
   {
    "duration": 44,
    "start_time": "2022-03-20T04:46:44.898Z"
   },
   {
    "duration": 12,
    "start_time": "2022-03-20T04:46:44.944Z"
   },
   {
    "duration": 8,
    "start_time": "2022-03-20T04:46:44.958Z"
   },
   {
    "duration": 9,
    "start_time": "2022-03-20T04:46:44.968Z"
   },
   {
    "duration": 6,
    "start_time": "2022-03-20T04:46:44.979Z"
   },
   {
    "duration": 12,
    "start_time": "2022-03-20T04:46:44.987Z"
   },
   {
    "duration": 39,
    "start_time": "2022-03-20T04:46:45.000Z"
   },
   {
    "duration": 6,
    "start_time": "2022-03-20T04:46:45.041Z"
   },
   {
    "duration": 19,
    "start_time": "2022-03-20T05:08:55.484Z"
   },
   {
    "duration": 153,
    "start_time": "2022-03-20T05:28:01.833Z"
   },
   {
    "duration": 101,
    "start_time": "2022-03-20T05:28:55.545Z"
   },
   {
    "duration": 15,
    "start_time": "2022-03-20T05:29:51.483Z"
   },
   {
    "duration": 112,
    "start_time": "2022-03-20T06:10:38.701Z"
   },
   {
    "duration": 105,
    "start_time": "2022-03-20T06:11:18.124Z"
   },
   {
    "duration": 121,
    "start_time": "2022-03-20T06:21:06.210Z"
   },
   {
    "duration": 162,
    "start_time": "2022-03-20T10:46:12.732Z"
   },
   {
    "duration": 1858,
    "start_time": "2022-03-20T16:34:42.665Z"
   },
   {
    "duration": 53,
    "start_time": "2022-03-20T16:34:44.526Z"
   },
   {
    "duration": 64,
    "start_time": "2022-03-20T16:34:44.581Z"
   },
   {
    "duration": 59,
    "start_time": "2022-03-20T16:34:44.648Z"
   },
   {
    "duration": 9,
    "start_time": "2022-03-20T16:34:44.711Z"
   },
   {
    "duration": 24,
    "start_time": "2022-03-20T16:34:44.722Z"
   },
   {
    "duration": 48,
    "start_time": "2022-03-20T16:34:44.748Z"
   },
   {
    "duration": 30,
    "start_time": "2022-03-20T16:34:44.798Z"
   },
   {
    "duration": 45,
    "start_time": "2022-03-20T16:34:44.831Z"
   },
   {
    "duration": 15,
    "start_time": "2022-03-20T16:34:44.878Z"
   },
   {
    "duration": 32,
    "start_time": "2022-03-20T16:34:44.896Z"
   },
   {
    "duration": 65,
    "start_time": "2022-03-20T16:34:44.931Z"
   },
   {
    "duration": 10,
    "start_time": "2022-03-20T16:34:44.998Z"
   },
   {
    "duration": 20,
    "start_time": "2022-03-20T16:34:45.013Z"
   },
   {
    "duration": 412,
    "start_time": "2022-03-20T16:34:45.036Z"
   },
   {
    "duration": 45,
    "start_time": "2022-03-20T16:34:45.450Z"
   },
   {
    "duration": 29,
    "start_time": "2022-03-20T16:34:45.498Z"
   },
   {
    "duration": 9,
    "start_time": "2022-03-20T16:34:45.529Z"
   },
   {
    "duration": 65,
    "start_time": "2022-03-20T16:34:45.541Z"
   },
   {
    "duration": 427,
    "start_time": "2022-03-20T16:34:45.608Z"
   },
   {
    "duration": 37,
    "start_time": "2022-03-20T16:34:46.037Z"
   },
   {
    "duration": 26,
    "start_time": "2022-03-20T16:34:46.077Z"
   },
   {
    "duration": 24,
    "start_time": "2022-03-20T16:34:46.106Z"
   },
   {
    "duration": 63,
    "start_time": "2022-03-20T16:34:46.133Z"
   },
   {
    "duration": 868,
    "start_time": "2022-03-20T16:34:46.199Z"
   },
   {
    "duration": 13,
    "start_time": "2022-03-20T16:34:47.069Z"
   },
   {
    "duration": 44,
    "start_time": "2022-03-20T16:34:47.084Z"
   },
   {
    "duration": 297,
    "start_time": "2022-03-20T16:34:47.130Z"
   },
   {
    "duration": 19,
    "start_time": "2022-03-20T16:34:47.430Z"
   },
   {
    "duration": 281,
    "start_time": "2022-03-20T16:34:47.452Z"
   },
   {
    "duration": 10,
    "start_time": "2022-03-20T16:34:47.735Z"
   },
   {
    "duration": 283,
    "start_time": "2022-03-20T16:34:47.749Z"
   },
   {
    "duration": 10,
    "start_time": "2022-03-20T16:34:48.035Z"
   },
   {
    "duration": 39,
    "start_time": "2022-03-20T16:34:48.048Z"
   },
   {
    "duration": 10,
    "start_time": "2022-03-20T16:34:48.089Z"
   },
   {
    "duration": 24,
    "start_time": "2022-03-20T16:34:48.103Z"
   },
   {
    "duration": 51,
    "start_time": "2022-03-20T16:34:48.130Z"
   },
   {
    "duration": 19,
    "start_time": "2022-03-20T16:34:48.183Z"
   },
   {
    "duration": 19,
    "start_time": "2022-03-20T16:34:48.205Z"
   },
   {
    "duration": 56,
    "start_time": "2022-03-20T16:34:48.227Z"
   },
   {
    "duration": 19,
    "start_time": "2022-03-20T16:34:48.289Z"
   },
   {
    "duration": 19,
    "start_time": "2022-03-20T16:34:48.310Z"
   },
   {
    "duration": 51,
    "start_time": "2022-03-20T16:34:48.331Z"
   },
   {
    "duration": 27,
    "start_time": "2022-03-20T16:34:48.385Z"
   },
   {
    "duration": 19,
    "start_time": "2022-03-20T16:34:48.415Z"
   },
   {
    "duration": 64,
    "start_time": "2022-03-20T16:34:48.437Z"
   },
   {
    "duration": 10,
    "start_time": "2022-03-20T16:34:48.503Z"
   },
   {
    "duration": 12,
    "start_time": "2022-03-20T16:34:48.516Z"
   },
   {
    "duration": 8,
    "start_time": "2022-03-20T16:34:48.532Z"
   },
   {
    "duration": 13,
    "start_time": "2022-03-20T16:34:48.575Z"
   },
   {
    "duration": 13,
    "start_time": "2022-03-20T16:34:48.591Z"
   },
   {
    "duration": 6,
    "start_time": "2022-03-20T16:34:48.607Z"
   },
   {
    "duration": 8,
    "start_time": "2022-03-20T18:10:11.700Z"
   },
   {
    "duration": 10,
    "start_time": "2022-03-20T18:10:24.347Z"
   },
   {
    "duration": 1667,
    "start_time": "2022-03-20T18:16:08.118Z"
   },
   {
    "duration": 48,
    "start_time": "2022-03-20T18:16:09.787Z"
   },
   {
    "duration": 82,
    "start_time": "2022-03-20T18:16:09.838Z"
   },
   {
    "duration": 33,
    "start_time": "2022-03-20T18:16:09.923Z"
   },
   {
    "duration": 16,
    "start_time": "2022-03-20T18:16:09.980Z"
   },
   {
    "duration": 21,
    "start_time": "2022-03-20T18:16:09.998Z"
   },
   {
    "duration": 27,
    "start_time": "2022-03-20T18:16:10.022Z"
   },
   {
    "duration": 46,
    "start_time": "2022-03-20T18:16:10.052Z"
   },
   {
    "duration": 13,
    "start_time": "2022-03-20T18:16:10.101Z"
   },
   {
    "duration": 18,
    "start_time": "2022-03-20T18:16:10.117Z"
   },
   {
    "duration": 75,
    "start_time": "2022-03-20T18:16:10.137Z"
   },
   {
    "duration": 28,
    "start_time": "2022-03-20T18:16:10.216Z"
   },
   {
    "duration": 10,
    "start_time": "2022-03-20T18:16:10.246Z"
   },
   {
    "duration": 24,
    "start_time": "2022-03-20T18:16:10.275Z"
   },
   {
    "duration": 15,
    "start_time": "2022-03-20T18:16:10.302Z"
   },
   {
    "duration": 329,
    "start_time": "2022-03-20T18:16:10.319Z"
   },
   {
    "duration": 47,
    "start_time": "2022-03-20T18:16:10.650Z"
   },
   {
    "duration": 30,
    "start_time": "2022-03-20T18:16:10.700Z"
   },
   {
    "duration": 7,
    "start_time": "2022-03-20T18:16:10.733Z"
   },
   {
    "duration": 76,
    "start_time": "2022-03-20T18:16:10.743Z"
   },
   {
    "duration": 417,
    "start_time": "2022-03-20T18:16:10.822Z"
   },
   {
    "duration": 43,
    "start_time": "2022-03-20T18:16:11.241Z"
   },
   {
    "duration": 24,
    "start_time": "2022-03-20T18:16:11.287Z"
   },
   {
    "duration": 38,
    "start_time": "2022-03-20T18:16:11.315Z"
   },
   {
    "duration": 32,
    "start_time": "2022-03-20T18:16:11.381Z"
   },
   {
    "duration": 663,
    "start_time": "2022-03-20T18:16:11.416Z"
   },
   {
    "duration": 18,
    "start_time": "2022-03-20T18:16:12.084Z"
   },
   {
    "duration": 41,
    "start_time": "2022-03-20T18:16:12.106Z"
   },
   {
    "duration": 309,
    "start_time": "2022-03-20T18:16:12.150Z"
   },
   {
    "duration": 31,
    "start_time": "2022-03-20T18:16:12.462Z"
   },
   {
    "duration": 354,
    "start_time": "2022-03-20T18:16:12.496Z"
   },
   {
    "duration": 21,
    "start_time": "2022-03-20T18:16:12.853Z"
   },
   {
    "duration": 276,
    "start_time": "2022-03-20T18:16:12.877Z"
   },
   {
    "duration": 22,
    "start_time": "2022-03-20T18:16:13.155Z"
   },
   {
    "duration": 25,
    "start_time": "2022-03-20T18:16:13.180Z"
   },
   {
    "duration": 8,
    "start_time": "2022-03-20T18:16:13.207Z"
   },
   {
    "duration": 21,
    "start_time": "2022-03-20T18:16:13.217Z"
   },
   {
    "duration": 34,
    "start_time": "2022-03-20T18:16:13.277Z"
   },
   {
    "duration": 19,
    "start_time": "2022-03-20T18:16:13.313Z"
   },
   {
    "duration": 19,
    "start_time": "2022-03-20T18:16:13.335Z"
   },
   {
    "duration": 20,
    "start_time": "2022-03-20T18:16:13.376Z"
   },
   {
    "duration": 21,
    "start_time": "2022-03-20T18:16:13.399Z"
   },
   {
    "duration": 57,
    "start_time": "2022-03-20T18:16:13.423Z"
   },
   {
    "duration": 22,
    "start_time": "2022-03-20T18:16:13.483Z"
   },
   {
    "duration": 20,
    "start_time": "2022-03-20T18:16:13.507Z"
   },
   {
    "duration": 48,
    "start_time": "2022-03-20T18:16:13.529Z"
   },
   {
    "duration": 23,
    "start_time": "2022-03-20T18:16:13.582Z"
   },
   {
    "duration": 12,
    "start_time": "2022-03-20T18:16:13.608Z"
   },
   {
    "duration": 18,
    "start_time": "2022-03-20T18:16:13.622Z"
   },
   {
    "duration": 32,
    "start_time": "2022-03-20T18:16:13.643Z"
   },
   {
    "duration": 24,
    "start_time": "2022-03-20T18:16:13.681Z"
   },
   {
    "duration": 13,
    "start_time": "2022-03-20T18:16:13.708Z"
   },
   {
    "duration": 9,
    "start_time": "2022-03-20T18:16:13.724Z"
   },
   {
    "duration": 13,
    "start_time": "2022-03-20T18:18:06.778Z"
   },
   {
    "duration": 10,
    "start_time": "2022-03-20T18:18:20.165Z"
   },
   {
    "duration": 14,
    "start_time": "2022-03-20T18:18:40.295Z"
   },
   {
    "duration": 11,
    "start_time": "2022-03-20T18:18:55.117Z"
   },
   {
    "duration": 24,
    "start_time": "2022-03-20T18:19:01.265Z"
   },
   {
    "duration": 35,
    "start_time": "2022-03-20T18:20:31.924Z"
   },
   {
    "duration": 166,
    "start_time": "2022-03-20T18:25:39.074Z"
   },
   {
    "duration": 511,
    "start_time": "2022-03-20T18:26:33.319Z"
   },
   {
    "duration": 707,
    "start_time": "2022-03-20T18:28:05.084Z"
   },
   {
    "duration": 816,
    "start_time": "2022-03-20T18:28:19.526Z"
   },
   {
    "duration": 25,
    "start_time": "2022-03-20T18:28:44.322Z"
   },
   {
    "duration": 2072,
    "start_time": "2022-03-20T18:29:02.615Z"
   },
   {
    "duration": 0,
    "start_time": "2022-03-20T18:29:04.693Z"
   },
   {
    "duration": 0,
    "start_time": "2022-03-20T18:29:04.695Z"
   },
   {
    "duration": 0,
    "start_time": "2022-03-20T18:29:04.697Z"
   },
   {
    "duration": 0,
    "start_time": "2022-03-20T18:29:04.699Z"
   },
   {
    "duration": 0,
    "start_time": "2022-03-20T18:29:04.701Z"
   },
   {
    "duration": 0,
    "start_time": "2022-03-20T18:29:04.704Z"
   },
   {
    "duration": 1,
    "start_time": "2022-03-20T18:29:04.705Z"
   },
   {
    "duration": 0,
    "start_time": "2022-03-20T18:29:04.707Z"
   },
   {
    "duration": 0,
    "start_time": "2022-03-20T18:29:04.709Z"
   },
   {
    "duration": 0,
    "start_time": "2022-03-20T18:29:04.711Z"
   },
   {
    "duration": 0,
    "start_time": "2022-03-20T18:29:04.714Z"
   },
   {
    "duration": 0,
    "start_time": "2022-03-20T18:29:04.715Z"
   },
   {
    "duration": 0,
    "start_time": "2022-03-20T18:29:04.717Z"
   },
   {
    "duration": 0,
    "start_time": "2022-03-20T18:29:04.719Z"
   },
   {
    "duration": 0,
    "start_time": "2022-03-20T18:29:04.721Z"
   },
   {
    "duration": 0,
    "start_time": "2022-03-20T18:29:04.724Z"
   },
   {
    "duration": 0,
    "start_time": "2022-03-20T18:29:04.726Z"
   },
   {
    "duration": 0,
    "start_time": "2022-03-20T18:29:04.728Z"
   },
   {
    "duration": 0,
    "start_time": "2022-03-20T18:29:04.775Z"
   },
   {
    "duration": 0,
    "start_time": "2022-03-20T18:29:04.777Z"
   },
   {
    "duration": 0,
    "start_time": "2022-03-20T18:29:04.779Z"
   },
   {
    "duration": 0,
    "start_time": "2022-03-20T18:29:04.781Z"
   },
   {
    "duration": 0,
    "start_time": "2022-03-20T18:29:04.783Z"
   },
   {
    "duration": 0,
    "start_time": "2022-03-20T18:29:04.785Z"
   },
   {
    "duration": 0,
    "start_time": "2022-03-20T18:29:04.787Z"
   },
   {
    "duration": 0,
    "start_time": "2022-03-20T18:29:04.789Z"
   },
   {
    "duration": 0,
    "start_time": "2022-03-20T18:29:04.791Z"
   },
   {
    "duration": 0,
    "start_time": "2022-03-20T18:29:04.792Z"
   },
   {
    "duration": 0,
    "start_time": "2022-03-20T18:29:04.794Z"
   },
   {
    "duration": 0,
    "start_time": "2022-03-20T18:29:04.795Z"
   },
   {
    "duration": 0,
    "start_time": "2022-03-20T18:29:04.796Z"
   },
   {
    "duration": 0,
    "start_time": "2022-03-20T18:29:04.797Z"
   },
   {
    "duration": 0,
    "start_time": "2022-03-20T18:29:04.798Z"
   },
   {
    "duration": 0,
    "start_time": "2022-03-20T18:29:04.799Z"
   },
   {
    "duration": 0,
    "start_time": "2022-03-20T18:29:04.801Z"
   },
   {
    "duration": 0,
    "start_time": "2022-03-20T18:29:04.802Z"
   },
   {
    "duration": 0,
    "start_time": "2022-03-20T18:29:04.803Z"
   },
   {
    "duration": 0,
    "start_time": "2022-03-20T18:29:04.805Z"
   },
   {
    "duration": 0,
    "start_time": "2022-03-20T18:29:04.806Z"
   },
   {
    "duration": 0,
    "start_time": "2022-03-20T18:29:04.807Z"
   },
   {
    "duration": 0,
    "start_time": "2022-03-20T18:29:04.809Z"
   },
   {
    "duration": 0,
    "start_time": "2022-03-20T18:29:04.811Z"
   },
   {
    "duration": 0,
    "start_time": "2022-03-20T18:29:04.812Z"
   },
   {
    "duration": 0,
    "start_time": "2022-03-20T18:29:04.874Z"
   },
   {
    "duration": 0,
    "start_time": "2022-03-20T18:29:04.876Z"
   },
   {
    "duration": 0,
    "start_time": "2022-03-20T18:29:04.877Z"
   },
   {
    "duration": 0,
    "start_time": "2022-03-20T18:29:04.879Z"
   },
   {
    "duration": 0,
    "start_time": "2022-03-20T18:29:04.880Z"
   },
   {
    "duration": 0,
    "start_time": "2022-03-20T18:29:04.881Z"
   },
   {
    "duration": 0,
    "start_time": "2022-03-20T18:29:04.883Z"
   },
   {
    "duration": 0,
    "start_time": "2022-03-20T18:29:04.884Z"
   },
   {
    "duration": 0,
    "start_time": "2022-03-20T18:29:04.886Z"
   },
   {
    "duration": 955,
    "start_time": "2022-03-20T18:29:22.933Z"
   },
   {
    "duration": 50,
    "start_time": "2022-03-20T18:29:23.892Z"
   },
   {
    "duration": 78,
    "start_time": "2022-03-20T18:29:23.944Z"
   },
   {
    "duration": 49,
    "start_time": "2022-03-20T18:29:24.025Z"
   },
   {
    "duration": 8,
    "start_time": "2022-03-20T18:29:24.077Z"
   },
   {
    "duration": 30,
    "start_time": "2022-03-20T18:29:24.088Z"
   },
   {
    "duration": 56,
    "start_time": "2022-03-20T18:29:24.120Z"
   },
   {
    "duration": 29,
    "start_time": "2022-03-20T18:29:24.179Z"
   },
   {
    "duration": 13,
    "start_time": "2022-03-20T18:29:24.211Z"
   },
   {
    "duration": 47,
    "start_time": "2022-03-20T18:29:24.227Z"
   },
   {
    "duration": 54,
    "start_time": "2022-03-20T18:29:24.277Z"
   },
   {
    "duration": 53,
    "start_time": "2022-03-20T18:29:24.336Z"
   },
   {
    "duration": 14,
    "start_time": "2022-03-20T18:29:24.392Z"
   },
   {
    "duration": 18,
    "start_time": "2022-03-20T18:29:24.411Z"
   },
   {
    "duration": 50,
    "start_time": "2022-03-20T18:29:24.432Z"
   },
   {
    "duration": 302,
    "start_time": "2022-03-20T18:29:24.485Z"
   },
   {
    "duration": 30,
    "start_time": "2022-03-20T18:29:24.791Z"
   },
   {
    "duration": 542,
    "start_time": "2022-03-20T18:29:29.133Z"
   },
   {
    "duration": 521,
    "start_time": "2022-03-20T18:30:02.343Z"
   },
   {
    "duration": 510,
    "start_time": "2022-03-20T18:31:39.154Z"
   },
   {
    "duration": 529,
    "start_time": "2022-03-20T18:32:15.889Z"
   },
   {
    "duration": 7,
    "start_time": "2022-03-20T18:32:55.006Z"
   },
   {
    "duration": 70,
    "start_time": "2022-03-20T18:32:55.016Z"
   },
   {
    "duration": 0,
    "start_time": "2022-03-20T18:32:55.091Z"
   },
   {
    "duration": 0,
    "start_time": "2022-03-20T18:32:55.093Z"
   },
   {
    "duration": 0,
    "start_time": "2022-03-20T18:32:55.095Z"
   },
   {
    "duration": 0,
    "start_time": "2022-03-20T18:32:55.199Z"
   },
   {
    "duration": 0,
    "start_time": "2022-03-20T18:32:55.200Z"
   },
   {
    "duration": 0,
    "start_time": "2022-03-20T18:32:55.202Z"
   },
   {
    "duration": 0,
    "start_time": "2022-03-20T18:32:55.203Z"
   },
   {
    "duration": 0,
    "start_time": "2022-03-20T18:32:55.204Z"
   },
   {
    "duration": 0,
    "start_time": "2022-03-20T18:32:55.206Z"
   },
   {
    "duration": 0,
    "start_time": "2022-03-20T18:32:55.208Z"
   },
   {
    "duration": 0,
    "start_time": "2022-03-20T18:32:55.209Z"
   },
   {
    "duration": 0,
    "start_time": "2022-03-20T18:32:55.211Z"
   },
   {
    "duration": 0,
    "start_time": "2022-03-20T18:32:55.213Z"
   },
   {
    "duration": 0,
    "start_time": "2022-03-20T18:32:55.214Z"
   },
   {
    "duration": 0,
    "start_time": "2022-03-20T18:32:55.215Z"
   },
   {
    "duration": 0,
    "start_time": "2022-03-20T18:32:55.217Z"
   },
   {
    "duration": 0,
    "start_time": "2022-03-20T18:32:55.219Z"
   },
   {
    "duration": 0,
    "start_time": "2022-03-20T18:32:55.223Z"
   },
   {
    "duration": 0,
    "start_time": "2022-03-20T18:32:55.226Z"
   },
   {
    "duration": 0,
    "start_time": "2022-03-20T18:32:55.273Z"
   },
   {
    "duration": 0,
    "start_time": "2022-03-20T18:32:55.275Z"
   },
   {
    "duration": 0,
    "start_time": "2022-03-20T18:32:55.277Z"
   },
   {
    "duration": 0,
    "start_time": "2022-03-20T18:32:55.280Z"
   },
   {
    "duration": 0,
    "start_time": "2022-03-20T18:32:55.281Z"
   },
   {
    "duration": 0,
    "start_time": "2022-03-20T18:32:55.283Z"
   },
   {
    "duration": 0,
    "start_time": "2022-03-20T18:32:55.285Z"
   },
   {
    "duration": 0,
    "start_time": "2022-03-20T18:32:55.286Z"
   },
   {
    "duration": 0,
    "start_time": "2022-03-20T18:32:55.288Z"
   },
   {
    "duration": 0,
    "start_time": "2022-03-20T18:32:55.289Z"
   },
   {
    "duration": 1,
    "start_time": "2022-03-20T18:32:55.290Z"
   },
   {
    "duration": 13,
    "start_time": "2022-03-20T18:32:55.296Z"
   },
   {
    "duration": 0,
    "start_time": "2022-03-20T18:32:55.311Z"
   },
   {
    "duration": 0,
    "start_time": "2022-03-20T18:32:55.312Z"
   },
   {
    "duration": 15,
    "start_time": "2022-03-20T18:33:22.095Z"
   },
   {
    "duration": 1496,
    "start_time": "2022-03-20T18:33:45.305Z"
   },
   {
    "duration": 50,
    "start_time": "2022-03-20T18:33:46.805Z"
   },
   {
    "duration": 73,
    "start_time": "2022-03-20T18:33:46.857Z"
   },
   {
    "duration": 54,
    "start_time": "2022-03-20T18:33:46.933Z"
   },
   {
    "duration": 34,
    "start_time": "2022-03-20T18:33:46.992Z"
   },
   {
    "duration": 30,
    "start_time": "2022-03-20T18:33:47.028Z"
   },
   {
    "duration": 44,
    "start_time": "2022-03-20T18:33:47.061Z"
   },
   {
    "duration": 19,
    "start_time": "2022-03-20T18:33:47.108Z"
   },
   {
    "duration": 10,
    "start_time": "2022-03-20T18:33:47.130Z"
   },
   {
    "duration": 38,
    "start_time": "2022-03-20T18:33:47.143Z"
   },
   {
    "duration": 49,
    "start_time": "2022-03-20T18:33:47.184Z"
   },
   {
    "duration": 45,
    "start_time": "2022-03-20T18:33:47.235Z"
   },
   {
    "duration": 48,
    "start_time": "2022-03-20T18:33:47.283Z"
   },
   {
    "duration": 44,
    "start_time": "2022-03-20T18:33:47.336Z"
   },
   {
    "duration": 28,
    "start_time": "2022-03-20T18:33:47.382Z"
   },
   {
    "duration": 323,
    "start_time": "2022-03-20T18:33:47.412Z"
   },
   {
    "duration": 40,
    "start_time": "2022-03-20T18:33:47.737Z"
   },
   {
    "duration": 543,
    "start_time": "2022-03-20T18:33:47.779Z"
   },
   {
    "duration": 8,
    "start_time": "2022-03-20T18:33:48.326Z"
   },
   {
    "duration": 180,
    "start_time": "2022-03-20T18:33:48.336Z"
   },
   {
    "duration": 0,
    "start_time": "2022-03-20T18:33:48.519Z"
   },
   {
    "duration": 0,
    "start_time": "2022-03-20T18:33:48.521Z"
   },
   {
    "duration": 0,
    "start_time": "2022-03-20T18:33:48.523Z"
   },
   {
    "duration": 0,
    "start_time": "2022-03-20T18:33:48.524Z"
   },
   {
    "duration": 0,
    "start_time": "2022-03-20T18:33:48.526Z"
   },
   {
    "duration": 0,
    "start_time": "2022-03-20T18:33:48.527Z"
   },
   {
    "duration": 0,
    "start_time": "2022-03-20T18:33:48.530Z"
   },
   {
    "duration": 0,
    "start_time": "2022-03-20T18:33:48.532Z"
   },
   {
    "duration": 0,
    "start_time": "2022-03-20T18:33:48.534Z"
   },
   {
    "duration": 0,
    "start_time": "2022-03-20T18:33:48.536Z"
   },
   {
    "duration": 0,
    "start_time": "2022-03-20T18:33:48.537Z"
   },
   {
    "duration": 0,
    "start_time": "2022-03-20T18:33:48.574Z"
   },
   {
    "duration": 0,
    "start_time": "2022-03-20T18:33:48.576Z"
   },
   {
    "duration": 0,
    "start_time": "2022-03-20T18:33:48.578Z"
   },
   {
    "duration": 0,
    "start_time": "2022-03-20T18:33:48.579Z"
   },
   {
    "duration": 0,
    "start_time": "2022-03-20T18:33:48.581Z"
   },
   {
    "duration": 0,
    "start_time": "2022-03-20T18:33:48.582Z"
   },
   {
    "duration": 0,
    "start_time": "2022-03-20T18:33:48.584Z"
   },
   {
    "duration": 0,
    "start_time": "2022-03-20T18:33:48.586Z"
   },
   {
    "duration": 0,
    "start_time": "2022-03-20T18:33:48.588Z"
   },
   {
    "duration": 0,
    "start_time": "2022-03-20T18:33:48.589Z"
   },
   {
    "duration": 0,
    "start_time": "2022-03-20T18:33:48.591Z"
   },
   {
    "duration": 0,
    "start_time": "2022-03-20T18:33:48.593Z"
   },
   {
    "duration": 0,
    "start_time": "2022-03-20T18:33:48.594Z"
   },
   {
    "duration": 0,
    "start_time": "2022-03-20T18:33:48.595Z"
   },
   {
    "duration": 0,
    "start_time": "2022-03-20T18:33:48.597Z"
   },
   {
    "duration": 0,
    "start_time": "2022-03-20T18:33:48.598Z"
   },
   {
    "duration": 0,
    "start_time": "2022-03-20T18:33:48.599Z"
   },
   {
    "duration": 0,
    "start_time": "2022-03-20T18:33:48.601Z"
   },
   {
    "duration": 0,
    "start_time": "2022-03-20T18:33:48.602Z"
   },
   {
    "duration": 0,
    "start_time": "2022-03-20T18:33:48.604Z"
   },
   {
    "duration": 0,
    "start_time": "2022-03-20T18:33:48.606Z"
   },
   {
    "duration": 0,
    "start_time": "2022-03-20T18:33:48.607Z"
   },
   {
    "duration": 10,
    "start_time": "2022-03-20T18:34:35.335Z"
   },
   {
    "duration": 36,
    "start_time": "2022-03-20T18:34:38.914Z"
   },
   {
    "duration": 658,
    "start_time": "2022-03-20T18:34:45.274Z"
   },
   {
    "duration": 391,
    "start_time": "2022-03-20T18:34:59.707Z"
   },
   {
    "duration": 24,
    "start_time": "2022-03-20T18:35:00.101Z"
   },
   {
    "duration": 46,
    "start_time": "2022-03-20T18:35:00.127Z"
   },
   {
    "duration": 23,
    "start_time": "2022-03-20T18:35:00.176Z"
   },
   {
    "duration": 34,
    "start_time": "2022-03-20T18:35:00.203Z"
   },
   {
    "duration": 647,
    "start_time": "2022-03-20T18:35:00.239Z"
   },
   {
    "duration": 12,
    "start_time": "2022-03-20T18:35:00.889Z"
   },
   {
    "duration": 29,
    "start_time": "2022-03-20T18:35:00.904Z"
   },
   {
    "duration": 287,
    "start_time": "2022-03-20T18:35:00.935Z"
   },
   {
    "duration": 24,
    "start_time": "2022-03-20T18:35:01.225Z"
   },
   {
    "duration": 278,
    "start_time": "2022-03-20T18:35:01.251Z"
   },
   {
    "duration": 10,
    "start_time": "2022-03-20T18:35:01.531Z"
   },
   {
    "duration": 469,
    "start_time": "2022-03-20T18:35:01.544Z"
   },
   {
    "duration": 13,
    "start_time": "2022-03-20T18:35:02.020Z"
   },
   {
    "duration": 42,
    "start_time": "2022-03-20T18:35:02.035Z"
   },
   {
    "duration": 15,
    "start_time": "2022-03-20T18:35:02.079Z"
   },
   {
    "duration": 48,
    "start_time": "2022-03-20T18:35:02.097Z"
   },
   {
    "duration": 34,
    "start_time": "2022-03-20T18:35:02.148Z"
   },
   {
    "duration": 44,
    "start_time": "2022-03-20T18:35:02.185Z"
   },
   {
    "duration": 37,
    "start_time": "2022-03-20T18:35:02.231Z"
   },
   {
    "duration": 29,
    "start_time": "2022-03-20T18:35:02.271Z"
   },
   {
    "duration": 42,
    "start_time": "2022-03-20T18:35:02.303Z"
   },
   {
    "duration": 33,
    "start_time": "2022-03-20T18:35:02.348Z"
   },
   {
    "duration": 29,
    "start_time": "2022-03-20T18:35:02.383Z"
   },
   {
    "duration": 29,
    "start_time": "2022-03-20T18:35:02.414Z"
   },
   {
    "duration": 17,
    "start_time": "2022-03-20T18:35:02.446Z"
   },
   {
    "duration": 36,
    "start_time": "2022-03-20T18:35:02.465Z"
   },
   {
    "duration": 16,
    "start_time": "2022-03-20T18:35:02.503Z"
   },
   {
    "duration": 37,
    "start_time": "2022-03-20T18:35:02.521Z"
   },
   {
    "duration": 20,
    "start_time": "2022-03-20T18:35:02.560Z"
   },
   {
    "duration": 41,
    "start_time": "2022-03-20T18:35:02.582Z"
   },
   {
    "duration": 29,
    "start_time": "2022-03-20T18:35:02.626Z"
   },
   {
    "duration": 27,
    "start_time": "2022-03-20T18:35:02.657Z"
   },
   {
    "duration": 42,
    "start_time": "2022-03-20T18:35:58.255Z"
   },
   {
    "duration": 374,
    "start_time": "2022-03-20T18:36:15.917Z"
   },
   {
    "duration": 36,
    "start_time": "2022-03-20T18:36:34.223Z"
   },
   {
    "duration": 18,
    "start_time": "2022-03-20T18:45:18.616Z"
   },
   {
    "duration": 1478,
    "start_time": "2022-03-20T18:45:51.479Z"
   },
   {
    "duration": 53,
    "start_time": "2022-03-20T18:45:52.960Z"
   },
   {
    "duration": 70,
    "start_time": "2022-03-20T18:45:53.015Z"
   },
   {
    "duration": 30,
    "start_time": "2022-03-20T18:45:53.088Z"
   },
   {
    "duration": 13,
    "start_time": "2022-03-20T18:45:53.122Z"
   },
   {
    "duration": 45,
    "start_time": "2022-03-20T18:45:53.137Z"
   },
   {
    "duration": 28,
    "start_time": "2022-03-20T18:45:53.184Z"
   },
   {
    "duration": 20,
    "start_time": "2022-03-20T18:45:53.214Z"
   },
   {
    "duration": 38,
    "start_time": "2022-03-20T18:45:53.236Z"
   },
   {
    "duration": 11,
    "start_time": "2022-03-20T18:45:53.276Z"
   },
   {
    "duration": 33,
    "start_time": "2022-03-20T18:45:53.289Z"
   },
   {
    "duration": 62,
    "start_time": "2022-03-20T18:45:53.324Z"
   },
   {
    "duration": 10,
    "start_time": "2022-03-20T18:45:53.388Z"
   },
   {
    "duration": 16,
    "start_time": "2022-03-20T18:45:53.403Z"
   },
   {
    "duration": 22,
    "start_time": "2022-03-20T18:45:53.422Z"
   },
   {
    "duration": 313,
    "start_time": "2022-03-20T18:45:53.446Z"
   },
   {
    "duration": 33,
    "start_time": "2022-03-20T18:45:53.762Z"
   },
   {
    "duration": 534,
    "start_time": "2022-03-20T18:45:53.798Z"
   },
   {
    "duration": 7,
    "start_time": "2022-03-20T18:45:54.335Z"
   },
   {
    "duration": 55,
    "start_time": "2022-03-20T18:45:54.345Z"
   },
   {
    "duration": 390,
    "start_time": "2022-03-20T18:45:54.402Z"
   },
   {
    "duration": 22,
    "start_time": "2022-03-20T18:45:54.795Z"
   },
   {
    "duration": 59,
    "start_time": "2022-03-20T18:45:54.820Z"
   },
   {
    "duration": 19,
    "start_time": "2022-03-20T18:45:54.882Z"
   },
   {
    "duration": 29,
    "start_time": "2022-03-20T18:45:54.903Z"
   },
   {
    "duration": 522,
    "start_time": "2022-03-20T18:45:54.934Z"
   },
   {
    "duration": 20,
    "start_time": "2022-03-20T18:45:55.458Z"
   },
   {
    "duration": 26,
    "start_time": "2022-03-20T18:45:55.480Z"
   },
   {
    "duration": 291,
    "start_time": "2022-03-20T18:45:55.509Z"
   },
   {
    "duration": 18,
    "start_time": "2022-03-20T18:45:55.803Z"
   },
   {
    "duration": 260,
    "start_time": "2022-03-20T18:45:55.823Z"
   },
   {
    "duration": 10,
    "start_time": "2022-03-20T18:45:56.085Z"
   },
   {
    "duration": 380,
    "start_time": "2022-03-20T18:45:56.098Z"
   },
   {
    "duration": 12,
    "start_time": "2022-03-20T18:45:56.481Z"
   },
   {
    "duration": 17,
    "start_time": "2022-03-20T18:45:56.496Z"
   },
   {
    "duration": 10,
    "start_time": "2022-03-20T18:45:56.515Z"
   },
   {
    "duration": 62,
    "start_time": "2022-03-20T18:45:56.527Z"
   },
   {
    "duration": 22,
    "start_time": "2022-03-20T18:45:56.592Z"
   },
   {
    "duration": 20,
    "start_time": "2022-03-20T18:45:56.617Z"
   },
   {
    "duration": 140,
    "start_time": "2022-03-20T18:45:56.639Z"
   },
   {
    "duration": 18,
    "start_time": "2022-03-20T18:45:56.785Z"
   },
   {
    "duration": 21,
    "start_time": "2022-03-20T18:45:56.805Z"
   },
   {
    "duration": 48,
    "start_time": "2022-03-20T18:45:56.828Z"
   },
   {
    "duration": 27,
    "start_time": "2022-03-20T18:45:56.879Z"
   },
   {
    "duration": 19,
    "start_time": "2022-03-20T18:45:56.908Z"
   },
   {
    "duration": 49,
    "start_time": "2022-03-20T18:45:56.930Z"
   },
   {
    "duration": 20,
    "start_time": "2022-03-20T18:45:56.983Z"
   },
   {
    "duration": 11,
    "start_time": "2022-03-20T18:45:57.006Z"
   },
   {
    "duration": 11,
    "start_time": "2022-03-20T18:45:57.019Z"
   },
   {
    "duration": 46,
    "start_time": "2022-03-20T18:45:57.033Z"
   },
   {
    "duration": 15,
    "start_time": "2022-03-20T18:45:57.082Z"
   },
   {
    "duration": 11,
    "start_time": "2022-03-20T18:45:57.099Z"
   },
   {
    "duration": 8,
    "start_time": "2022-03-20T18:45:57.113Z"
   },
   {
    "duration": 21,
    "start_time": "2022-03-20T18:49:41.428Z"
   },
   {
    "duration": 30,
    "start_time": "2022-03-20T18:50:19.668Z"
   },
   {
    "duration": 493,
    "start_time": "2022-03-20T18:50:43.499Z"
   },
   {
    "duration": 263,
    "start_time": "2022-03-20T18:57:55.634Z"
   },
   {
    "duration": 54,
    "start_time": "2022-03-20T19:01:27.699Z"
   },
   {
    "duration": 18,
    "start_time": "2022-03-20T19:01:56.694Z"
   },
   {
    "duration": 264,
    "start_time": "2022-03-20T19:02:52.386Z"
   },
   {
    "duration": 270,
    "start_time": "2022-03-20T19:03:08.648Z"
   },
   {
    "duration": 415,
    "start_time": "2022-03-20T19:03:31.173Z"
   },
   {
    "duration": 368,
    "start_time": "2022-03-20T19:03:40.363Z"
   },
   {
    "duration": 287,
    "start_time": "2022-03-20T19:04:14.179Z"
   },
   {
    "duration": 273,
    "start_time": "2022-03-20T19:04:33.703Z"
   },
   {
    "duration": 320,
    "start_time": "2022-03-20T19:05:40.890Z"
   },
   {
    "duration": 285,
    "start_time": "2022-03-20T19:06:57.032Z"
   },
   {
    "duration": 447,
    "start_time": "2022-03-20T19:07:59.580Z"
   },
   {
    "duration": 1728,
    "start_time": "2022-03-20T19:08:24.268Z"
   },
   {
    "duration": 52,
    "start_time": "2022-03-20T19:08:25.999Z"
   },
   {
    "duration": 74,
    "start_time": "2022-03-20T19:08:26.054Z"
   },
   {
    "duration": 56,
    "start_time": "2022-03-20T19:08:26.131Z"
   },
   {
    "duration": 9,
    "start_time": "2022-03-20T19:08:26.191Z"
   },
   {
    "duration": 23,
    "start_time": "2022-03-20T19:08:26.203Z"
   },
   {
    "duration": 69,
    "start_time": "2022-03-20T19:08:26.229Z"
   },
   {
    "duration": 29,
    "start_time": "2022-03-20T19:08:26.301Z"
   },
   {
    "duration": 13,
    "start_time": "2022-03-20T19:08:26.333Z"
   },
   {
    "duration": 15,
    "start_time": "2022-03-20T19:08:26.373Z"
   },
   {
    "duration": 32,
    "start_time": "2022-03-20T19:08:26.390Z"
   },
   {
    "duration": 61,
    "start_time": "2022-03-20T19:08:26.424Z"
   },
   {
    "duration": 13,
    "start_time": "2022-03-20T19:08:26.489Z"
   },
   {
    "duration": 12,
    "start_time": "2022-03-20T19:08:26.507Z"
   },
   {
    "duration": 52,
    "start_time": "2022-03-20T19:08:26.522Z"
   },
   {
    "duration": 308,
    "start_time": "2022-03-20T19:08:26.578Z"
   },
   {
    "duration": 26,
    "start_time": "2022-03-20T19:08:26.888Z"
   },
   {
    "duration": 546,
    "start_time": "2022-03-20T19:08:26.916Z"
   },
   {
    "duration": 9,
    "start_time": "2022-03-20T19:08:27.473Z"
   },
   {
    "duration": 37,
    "start_time": "2022-03-20T19:08:27.485Z"
   },
   {
    "duration": 424,
    "start_time": "2022-03-20T19:08:27.524Z"
   },
   {
    "duration": 33,
    "start_time": "2022-03-20T19:08:27.950Z"
   },
   {
    "duration": 36,
    "start_time": "2022-03-20T19:08:27.985Z"
   },
   {
    "duration": 19,
    "start_time": "2022-03-20T19:08:28.023Z"
   },
   {
    "duration": 300,
    "start_time": "2022-03-20T19:08:28.045Z"
   },
   {
    "duration": 45,
    "start_time": "2022-03-20T19:08:28.348Z"
   },
   {
    "duration": 512,
    "start_time": "2022-03-20T19:08:28.396Z"
   },
   {
    "duration": 12,
    "start_time": "2022-03-20T19:08:28.911Z"
   },
   {
    "duration": 78,
    "start_time": "2022-03-20T19:08:28.926Z"
   },
   {
    "duration": 411,
    "start_time": "2022-03-20T19:08:29.006Z"
   },
   {
    "duration": 23,
    "start_time": "2022-03-20T19:08:29.419Z"
   },
   {
    "duration": 285,
    "start_time": "2022-03-20T19:08:29.445Z"
   },
   {
    "duration": 11,
    "start_time": "2022-03-20T19:08:29.733Z"
   },
   {
    "duration": 356,
    "start_time": "2022-03-20T19:08:29.746Z"
   },
   {
    "duration": 9,
    "start_time": "2022-03-20T19:08:30.104Z"
   },
   {
    "duration": 19,
    "start_time": "2022-03-20T19:08:30.115Z"
   },
   {
    "duration": 39,
    "start_time": "2022-03-20T19:08:30.136Z"
   },
   {
    "duration": 20,
    "start_time": "2022-03-20T19:08:30.177Z"
   },
   {
    "duration": 24,
    "start_time": "2022-03-20T19:08:30.199Z"
   },
   {
    "duration": 49,
    "start_time": "2022-03-20T19:08:30.225Z"
   },
   {
    "duration": 19,
    "start_time": "2022-03-20T19:08:30.281Z"
   },
   {
    "duration": 20,
    "start_time": "2022-03-20T19:08:30.303Z"
   },
   {
    "duration": 51,
    "start_time": "2022-03-20T19:08:30.325Z"
   },
   {
    "duration": 18,
    "start_time": "2022-03-20T19:08:30.380Z"
   },
   {
    "duration": 19,
    "start_time": "2022-03-20T19:08:30.400Z"
   },
   {
    "duration": 18,
    "start_time": "2022-03-20T19:08:30.421Z"
   },
   {
    "duration": 18,
    "start_time": "2022-03-20T19:08:30.475Z"
   },
   {
    "duration": 24,
    "start_time": "2022-03-20T19:08:30.495Z"
   },
   {
    "duration": 8,
    "start_time": "2022-03-20T19:08:30.521Z"
   },
   {
    "duration": 47,
    "start_time": "2022-03-20T19:08:30.532Z"
   },
   {
    "duration": 18,
    "start_time": "2022-03-20T19:08:30.581Z"
   },
   {
    "duration": 26,
    "start_time": "2022-03-20T19:08:30.602Z"
   },
   {
    "duration": 18,
    "start_time": "2022-03-20T19:08:30.630Z"
   },
   {
    "duration": 32,
    "start_time": "2022-03-20T19:08:30.651Z"
   },
   {
    "duration": 271,
    "start_time": "2022-03-20T19:10:50.722Z"
   },
   {
    "duration": 254,
    "start_time": "2022-03-20T19:19:20.338Z"
   },
   {
    "duration": 232,
    "start_time": "2022-03-20T19:20:06.490Z"
   },
   {
    "duration": 255,
    "start_time": "2022-03-20T19:20:32.161Z"
   },
   {
    "duration": 12,
    "start_time": "2022-03-20T19:21:21.336Z"
   },
   {
    "duration": 9,
    "start_time": "2022-03-20T19:21:35.217Z"
   },
   {
    "duration": 244,
    "start_time": "2022-03-20T19:22:35.868Z"
   },
   {
    "duration": 9,
    "start_time": "2022-03-20T19:23:08.602Z"
   },
   {
    "duration": 300,
    "start_time": "2022-03-20T19:32:28.010Z"
   },
   {
    "duration": 150,
    "start_time": "2022-03-20T19:35:21.157Z"
   },
   {
    "duration": 1513,
    "start_time": "2022-03-20T19:35:36.317Z"
   },
   {
    "duration": 54,
    "start_time": "2022-03-20T19:35:37.833Z"
   },
   {
    "duration": 61,
    "start_time": "2022-03-20T19:35:37.889Z"
   },
   {
    "duration": 48,
    "start_time": "2022-03-20T19:35:37.953Z"
   },
   {
    "duration": 14,
    "start_time": "2022-03-20T19:35:38.003Z"
   },
   {
    "duration": 17,
    "start_time": "2022-03-20T19:35:38.019Z"
   },
   {
    "duration": 54,
    "start_time": "2022-03-20T19:35:38.038Z"
   },
   {
    "duration": 23,
    "start_time": "2022-03-20T19:35:38.094Z"
   },
   {
    "duration": 15,
    "start_time": "2022-03-20T19:35:38.119Z"
   },
   {
    "duration": 53,
    "start_time": "2022-03-20T19:35:38.138Z"
   },
   {
    "duration": 33,
    "start_time": "2022-03-20T19:35:38.193Z"
   },
   {
    "duration": 54,
    "start_time": "2022-03-20T19:35:38.228Z"
   },
   {
    "duration": 10,
    "start_time": "2022-03-20T19:35:38.284Z"
   },
   {
    "duration": 20,
    "start_time": "2022-03-20T19:35:38.296Z"
   },
   {
    "duration": 11,
    "start_time": "2022-03-20T19:35:38.318Z"
   },
   {
    "duration": 323,
    "start_time": "2022-03-20T19:35:38.332Z"
   },
   {
    "duration": 30,
    "start_time": "2022-03-20T19:35:38.658Z"
   },
   {
    "duration": 575,
    "start_time": "2022-03-20T19:35:38.690Z"
   },
   {
    "duration": 8,
    "start_time": "2022-03-20T19:35:39.273Z"
   },
   {
    "duration": 50,
    "start_time": "2022-03-20T19:35:39.284Z"
   },
   {
    "duration": 497,
    "start_time": "2022-03-20T19:35:39.337Z"
   },
   {
    "duration": 24,
    "start_time": "2022-03-20T19:35:39.837Z"
   },
   {
    "duration": 49,
    "start_time": "2022-03-20T19:35:39.875Z"
   },
   {
    "duration": 48,
    "start_time": "2022-03-20T19:35:39.927Z"
   },
   {
    "duration": 374,
    "start_time": "2022-03-20T19:35:39.978Z"
   },
   {
    "duration": 47,
    "start_time": "2022-03-20T19:35:40.355Z"
   },
   {
    "duration": 519,
    "start_time": "2022-03-20T19:35:40.405Z"
   },
   {
    "duration": 11,
    "start_time": "2022-03-20T19:35:40.930Z"
   },
   {
    "duration": 56,
    "start_time": "2022-03-20T19:35:40.943Z"
   },
   {
    "duration": 285,
    "start_time": "2022-03-20T19:35:41.001Z"
   },
   {
    "duration": 294,
    "start_time": "2022-03-20T19:35:41.288Z"
   },
   {
    "duration": 18,
    "start_time": "2022-03-20T19:35:41.584Z"
   },
   {
    "duration": 360,
    "start_time": "2022-03-20T19:35:41.605Z"
   },
   {
    "duration": 255,
    "start_time": "2022-03-20T19:35:41.973Z"
   },
   {
    "duration": 9,
    "start_time": "2022-03-20T19:35:42.230Z"
   },
   {
    "duration": 32,
    "start_time": "2022-03-20T19:35:42.242Z"
   },
   {
    "duration": 274,
    "start_time": "2022-03-20T19:35:42.277Z"
   },
   {
    "duration": 326,
    "start_time": "2022-03-20T19:35:42.554Z"
   },
   {
    "duration": 12,
    "start_time": "2022-03-20T19:35:42.883Z"
   },
   {
    "duration": 16,
    "start_time": "2022-03-20T19:35:42.898Z"
   },
   {
    "duration": 19,
    "start_time": "2022-03-20T19:35:42.917Z"
   },
   {
    "duration": 41,
    "start_time": "2022-03-20T19:35:42.938Z"
   },
   {
    "duration": 68,
    "start_time": "2022-03-20T19:35:42.981Z"
   },
   {
    "duration": 192,
    "start_time": "2022-03-20T19:35:43.051Z"
   },
   {
    "duration": 20,
    "start_time": "2022-03-20T19:35:43.245Z"
   },
   {
    "duration": 19,
    "start_time": "2022-03-20T19:35:43.275Z"
   },
   {
    "duration": 32,
    "start_time": "2022-03-20T19:35:43.296Z"
   },
   {
    "duration": 18,
    "start_time": "2022-03-20T19:35:43.330Z"
   },
   {
    "duration": 24,
    "start_time": "2022-03-20T19:35:43.374Z"
   },
   {
    "duration": 31,
    "start_time": "2022-03-20T19:35:43.400Z"
   },
   {
    "duration": 39,
    "start_time": "2022-03-20T19:35:43.434Z"
   },
   {
    "duration": 17,
    "start_time": "2022-03-20T19:35:43.475Z"
   },
   {
    "duration": 21,
    "start_time": "2022-03-20T19:35:43.494Z"
   },
   {
    "duration": 17,
    "start_time": "2022-03-20T19:35:43.517Z"
   },
   {
    "duration": 41,
    "start_time": "2022-03-20T19:35:43.537Z"
   },
   {
    "duration": 19,
    "start_time": "2022-03-20T19:35:43.580Z"
   },
   {
    "duration": 11,
    "start_time": "2022-03-20T19:35:43.601Z"
   },
   {
    "duration": 14,
    "start_time": "2022-03-20T19:35:43.614Z"
   },
   {
    "duration": 11,
    "start_time": "2022-03-20T19:35:43.630Z"
   },
   {
    "duration": 35,
    "start_time": "2022-03-20T19:35:43.643Z"
   },
   {
    "duration": 316,
    "start_time": "2022-03-20T19:36:59.470Z"
   },
   {
    "duration": 14,
    "start_time": "2022-03-20T19:38:08.885Z"
   },
   {
    "duration": 443,
    "start_time": "2022-03-20T19:38:13.892Z"
   },
   {
    "duration": 192,
    "start_time": "2022-03-20T19:38:22.473Z"
   },
   {
    "duration": 1510,
    "start_time": "2022-03-20T19:38:31.806Z"
   },
   {
    "duration": 51,
    "start_time": "2022-03-20T19:38:33.319Z"
   },
   {
    "duration": 63,
    "start_time": "2022-03-20T19:38:33.374Z"
   },
   {
    "duration": 52,
    "start_time": "2022-03-20T19:38:33.440Z"
   },
   {
    "duration": 21,
    "start_time": "2022-03-20T19:38:33.494Z"
   },
   {
    "duration": 38,
    "start_time": "2022-03-20T19:38:33.518Z"
   },
   {
    "duration": 48,
    "start_time": "2022-03-20T19:38:33.558Z"
   },
   {
    "duration": 22,
    "start_time": "2022-03-20T19:38:33.608Z"
   },
   {
    "duration": 26,
    "start_time": "2022-03-20T19:38:33.633Z"
   },
   {
    "duration": 33,
    "start_time": "2022-03-20T19:38:33.663Z"
   },
   {
    "duration": 39,
    "start_time": "2022-03-20T19:38:33.698Z"
   },
   {
    "duration": 30,
    "start_time": "2022-03-20T19:38:33.740Z"
   },
   {
    "duration": 10,
    "start_time": "2022-03-20T19:38:33.772Z"
   },
   {
    "duration": 34,
    "start_time": "2022-03-20T19:38:33.785Z"
   },
   {
    "duration": 32,
    "start_time": "2022-03-20T19:38:33.821Z"
   },
   {
    "duration": 284,
    "start_time": "2022-03-20T19:38:33.856Z"
   },
   {
    "duration": 37,
    "start_time": "2022-03-20T19:38:34.142Z"
   },
   {
    "duration": 519,
    "start_time": "2022-03-20T19:38:34.181Z"
   },
   {
    "duration": 8,
    "start_time": "2022-03-20T19:38:34.702Z"
   },
   {
    "duration": 56,
    "start_time": "2022-03-20T19:38:34.712Z"
   },
   {
    "duration": 418,
    "start_time": "2022-03-20T19:38:34.774Z"
   },
   {
    "duration": 20,
    "start_time": "2022-03-20T19:38:35.194Z"
   },
   {
    "duration": 64,
    "start_time": "2022-03-20T19:38:35.217Z"
   },
   {
    "duration": 45,
    "start_time": "2022-03-20T19:38:35.283Z"
   },
   {
    "duration": 266,
    "start_time": "2022-03-20T19:38:35.331Z"
   },
   {
    "duration": 29,
    "start_time": "2022-03-20T19:38:35.599Z"
   },
   {
    "duration": 531,
    "start_time": "2022-03-20T19:38:35.630Z"
   },
   {
    "duration": 13,
    "start_time": "2022-03-20T19:38:36.176Z"
   },
   {
    "duration": 43,
    "start_time": "2022-03-20T19:38:36.191Z"
   },
   {
    "duration": 296,
    "start_time": "2022-03-20T19:38:36.237Z"
   },
   {
    "duration": 292,
    "start_time": "2022-03-20T19:38:36.536Z"
   },
   {
    "duration": 18,
    "start_time": "2022-03-20T19:38:36.830Z"
   },
   {
    "duration": 343,
    "start_time": "2022-03-20T19:38:36.850Z"
   },
   {
    "duration": 253,
    "start_time": "2022-03-20T19:38:37.196Z"
   },
   {
    "duration": 9,
    "start_time": "2022-03-20T19:38:37.451Z"
   },
   {
    "duration": 9,
    "start_time": "2022-03-20T19:38:37.474Z"
   },
   {
    "duration": 276,
    "start_time": "2022-03-20T19:38:37.485Z"
   },
   {
    "duration": 257,
    "start_time": "2022-03-20T19:38:37.764Z"
   },
   {
    "duration": 8,
    "start_time": "2022-03-20T19:38:38.023Z"
   },
   {
    "duration": 36,
    "start_time": "2022-03-20T19:38:38.033Z"
   },
   {
    "duration": 28,
    "start_time": "2022-03-20T19:38:38.071Z"
   },
   {
    "duration": 13,
    "start_time": "2022-03-20T19:38:38.101Z"
   },
   {
    "duration": 30,
    "start_time": "2022-03-20T19:38:38.117Z"
   },
   {
    "duration": 200,
    "start_time": "2022-03-20T19:38:38.150Z"
   },
   {
    "duration": 29,
    "start_time": "2022-03-20T19:38:38.352Z"
   },
   {
    "duration": 28,
    "start_time": "2022-03-20T19:38:38.383Z"
   },
   {
    "duration": 17,
    "start_time": "2022-03-20T19:38:38.413Z"
   },
   {
    "duration": 41,
    "start_time": "2022-03-20T19:38:38.433Z"
   },
   {
    "duration": 18,
    "start_time": "2022-03-20T19:38:38.477Z"
   },
   {
    "duration": 26,
    "start_time": "2022-03-20T19:38:38.497Z"
   },
   {
    "duration": 31,
    "start_time": "2022-03-20T19:38:38.526Z"
   },
   {
    "duration": 19,
    "start_time": "2022-03-20T19:38:38.574Z"
   },
   {
    "duration": 28,
    "start_time": "2022-03-20T19:38:38.596Z"
   },
   {
    "duration": 21,
    "start_time": "2022-03-20T19:38:38.627Z"
   },
   {
    "duration": 28,
    "start_time": "2022-03-20T19:38:38.651Z"
   },
   {
    "duration": 20,
    "start_time": "2022-03-20T19:38:38.681Z"
   },
   {
    "duration": 12,
    "start_time": "2022-03-20T19:38:38.703Z"
   },
   {
    "duration": 14,
    "start_time": "2022-03-20T19:38:38.717Z"
   },
   {
    "duration": 18,
    "start_time": "2022-03-20T19:38:38.734Z"
   },
   {
    "duration": 23,
    "start_time": "2022-03-20T19:38:38.754Z"
   },
   {
    "duration": 10,
    "start_time": "2022-03-20T19:41:28.332Z"
   },
   {
    "duration": 29,
    "start_time": "2022-03-20T19:46:07.834Z"
   },
   {
    "duration": 153,
    "start_time": "2022-03-20T19:47:49.724Z"
   },
   {
    "duration": 337,
    "start_time": "2022-03-20T19:47:59.308Z"
   },
   {
    "duration": 409,
    "start_time": "2022-03-20T19:48:48.472Z"
   },
   {
    "duration": 1474,
    "start_time": "2022-03-20T21:07:46.295Z"
   },
   {
    "duration": 49,
    "start_time": "2022-03-20T21:07:47.774Z"
   },
   {
    "duration": 75,
    "start_time": "2022-03-20T21:07:47.826Z"
   },
   {
    "duration": 31,
    "start_time": "2022-03-20T21:07:47.903Z"
   },
   {
    "duration": 7,
    "start_time": "2022-03-20T21:07:47.937Z"
   },
   {
    "duration": 15,
    "start_time": "2022-03-20T21:07:47.975Z"
   },
   {
    "duration": 22,
    "start_time": "2022-03-20T21:07:47.992Z"
   },
   {
    "duration": 21,
    "start_time": "2022-03-20T21:07:48.016Z"
   },
   {
    "duration": 10,
    "start_time": "2022-03-20T21:07:48.075Z"
   },
   {
    "duration": 10,
    "start_time": "2022-03-20T21:07:48.090Z"
   },
   {
    "duration": 31,
    "start_time": "2022-03-20T21:07:48.102Z"
   },
   {
    "duration": 61,
    "start_time": "2022-03-20T21:07:48.135Z"
   },
   {
    "duration": 10,
    "start_time": "2022-03-20T21:07:48.198Z"
   },
   {
    "duration": 20,
    "start_time": "2022-03-20T21:07:48.210Z"
   },
   {
    "duration": 12,
    "start_time": "2022-03-20T21:07:48.232Z"
   },
   {
    "duration": 313,
    "start_time": "2022-03-20T21:07:48.246Z"
   },
   {
    "duration": 33,
    "start_time": "2022-03-20T21:07:48.562Z"
   },
   {
    "duration": 544,
    "start_time": "2022-03-20T21:07:48.598Z"
   },
   {
    "duration": 8,
    "start_time": "2022-03-20T21:07:49.145Z"
   },
   {
    "duration": 52,
    "start_time": "2022-03-20T21:07:49.155Z"
   },
   {
    "duration": 412,
    "start_time": "2022-03-20T21:07:49.209Z"
   },
   {
    "duration": 22,
    "start_time": "2022-03-20T21:07:49.623Z"
   },
   {
    "duration": 61,
    "start_time": "2022-03-20T21:07:49.647Z"
   },
   {
    "duration": 22,
    "start_time": "2022-03-20T21:07:49.710Z"
   },
   {
    "duration": 310,
    "start_time": "2022-03-20T21:07:49.734Z"
   },
   {
    "duration": 48,
    "start_time": "2022-03-20T21:07:50.046Z"
   },
   {
    "duration": 515,
    "start_time": "2022-03-20T21:07:50.096Z"
   },
   {
    "duration": 12,
    "start_time": "2022-03-20T21:07:50.617Z"
   },
   {
    "duration": 62,
    "start_time": "2022-03-20T21:07:50.631Z"
   },
   {
    "duration": 287,
    "start_time": "2022-03-20T21:07:50.696Z"
   },
   {
    "duration": 294,
    "start_time": "2022-03-20T21:07:50.985Z"
   },
   {
    "duration": 19,
    "start_time": "2022-03-20T21:07:51.281Z"
   },
   {
    "duration": 376,
    "start_time": "2022-03-20T21:07:51.303Z"
   },
   {
    "duration": 254,
    "start_time": "2022-03-20T21:07:51.681Z"
   },
   {
    "duration": 10,
    "start_time": "2022-03-20T21:07:51.937Z"
   },
   {
    "duration": 36,
    "start_time": "2022-03-20T21:07:51.949Z"
   },
   {
    "duration": 288,
    "start_time": "2022-03-20T21:07:51.988Z"
   },
   {
    "duration": 278,
    "start_time": "2022-03-20T21:07:52.279Z"
   },
   {
    "duration": 15,
    "start_time": "2022-03-20T21:07:52.560Z"
   },
   {
    "duration": 11,
    "start_time": "2022-03-20T21:07:52.577Z"
   },
   {
    "duration": 17,
    "start_time": "2022-03-20T21:07:52.590Z"
   },
   {
    "duration": 19,
    "start_time": "2022-03-20T21:07:52.610Z"
   },
   {
    "duration": 47,
    "start_time": "2022-03-20T21:07:52.632Z"
   },
   {
    "duration": 20,
    "start_time": "2022-03-20T21:07:52.682Z"
   },
   {
    "duration": 207,
    "start_time": "2022-03-20T21:07:52.704Z"
   },
   {
    "duration": 20,
    "start_time": "2022-03-20T21:07:52.914Z"
   },
   {
    "duration": 388,
    "start_time": "2022-03-20T21:07:52.936Z"
   },
   {
    "duration": 25,
    "start_time": "2022-03-20T21:07:53.326Z"
   },
   {
    "duration": 22,
    "start_time": "2022-03-20T21:07:53.373Z"
   },
   {
    "duration": 19,
    "start_time": "2022-03-20T21:07:53.397Z"
   },
   {
    "duration": 54,
    "start_time": "2022-03-20T21:07:53.418Z"
   },
   {
    "duration": 22,
    "start_time": "2022-03-20T21:07:53.474Z"
   },
   {
    "duration": 36,
    "start_time": "2022-03-20T21:07:53.498Z"
   },
   {
    "duration": 25,
    "start_time": "2022-03-20T21:07:53.537Z"
   },
   {
    "duration": 27,
    "start_time": "2022-03-20T21:07:53.573Z"
   },
   {
    "duration": 23,
    "start_time": "2022-03-20T21:07:53.602Z"
   },
   {
    "duration": 8,
    "start_time": "2022-03-20T21:07:53.628Z"
   },
   {
    "duration": 9,
    "start_time": "2022-03-20T21:07:53.638Z"
   },
   {
    "duration": 32,
    "start_time": "2022-03-20T21:07:53.649Z"
   },
   {
    "duration": 33,
    "start_time": "2022-03-20T21:07:53.683Z"
   },
   {
    "duration": 11,
    "start_time": "2022-03-20T21:07:53.718Z"
   },
   {
    "duration": 17,
    "start_time": "2022-03-20T21:07:53.731Z"
   },
   {
    "duration": 20,
    "start_time": "2022-03-20T21:13:19.113Z"
   },
   {
    "duration": 142,
    "start_time": "2022-03-20T21:17:07.340Z"
   },
   {
    "duration": 14,
    "start_time": "2022-03-20T21:17:14.468Z"
   },
   {
    "duration": 413,
    "start_time": "2022-03-20T21:17:44.551Z"
   },
   {
    "duration": 16,
    "start_time": "2022-03-20T21:18:16.003Z"
   },
   {
    "duration": 16,
    "start_time": "2022-03-20T21:18:22.099Z"
   },
   {
    "duration": 19,
    "start_time": "2022-03-20T21:18:26.518Z"
   },
   {
    "duration": 209,
    "start_time": "2022-03-20T21:18:30.646Z"
   },
   {
    "duration": 143,
    "start_time": "2022-03-20T21:19:50.072Z"
   },
   {
    "duration": 159,
    "start_time": "2022-03-20T21:23:48.123Z"
   },
   {
    "duration": 160,
    "start_time": "2022-03-20T21:24:02.169Z"
   },
   {
    "duration": 19,
    "start_time": "2022-03-20T21:24:37.874Z"
   },
   {
    "duration": 253,
    "start_time": "2022-03-20T21:24:51.635Z"
   },
   {
    "duration": 297,
    "start_time": "2022-03-20T21:25:09.694Z"
   },
   {
    "duration": 19,
    "start_time": "2022-03-20T21:25:53.418Z"
   },
   {
    "duration": 460,
    "start_time": "2022-03-20T21:26:14.896Z"
   },
   {
    "duration": 16,
    "start_time": "2022-03-20T21:36:38.129Z"
   },
   {
    "duration": 19,
    "start_time": "2022-03-20T21:36:42.651Z"
   },
   {
    "duration": 18,
    "start_time": "2022-03-20T21:36:52.105Z"
   },
   {
    "duration": 18,
    "start_time": "2022-03-20T21:37:04.294Z"
   },
   {
    "duration": 318,
    "start_time": "2022-03-20T21:37:52.902Z"
   },
   {
    "duration": 463,
    "start_time": "2022-03-20T21:38:03.429Z"
   },
   {
    "duration": 19,
    "start_time": "2022-03-20T21:41:07.807Z"
   },
   {
    "duration": 20,
    "start_time": "2022-03-20T21:41:18.462Z"
   },
   {
    "duration": 20,
    "start_time": "2022-03-20T21:41:27.789Z"
   },
   {
    "duration": 19,
    "start_time": "2022-03-20T21:43:24.544Z"
   },
   {
    "duration": 19,
    "start_time": "2022-03-20T21:43:36.841Z"
   },
   {
    "duration": 19,
    "start_time": "2022-03-20T21:43:50.405Z"
   },
   {
    "duration": 1461,
    "start_time": "2022-03-20T22:07:26.749Z"
   },
   {
    "duration": 1255,
    "start_time": "2022-03-21T16:10:40.547Z"
   },
   {
    "duration": 141,
    "start_time": "2022-03-21T16:10:41.804Z"
   },
   {
    "duration": 41,
    "start_time": "2022-03-21T16:10:41.946Z"
   },
   {
    "duration": 19,
    "start_time": "2022-03-21T16:10:41.990Z"
   },
   {
    "duration": 5,
    "start_time": "2022-03-21T16:10:42.010Z"
   },
   {
    "duration": 13,
    "start_time": "2022-03-21T16:10:42.017Z"
   },
   {
    "duration": 14,
    "start_time": "2022-03-21T16:10:42.032Z"
   },
   {
    "duration": 13,
    "start_time": "2022-03-21T16:10:42.048Z"
   },
   {
    "duration": 6,
    "start_time": "2022-03-21T16:10:42.063Z"
   },
   {
    "duration": 41,
    "start_time": "2022-03-21T16:10:42.072Z"
   },
   {
    "duration": 20,
    "start_time": "2022-03-21T16:10:42.114Z"
   },
   {
    "duration": 19,
    "start_time": "2022-03-21T16:10:42.135Z"
   },
   {
    "duration": 7,
    "start_time": "2022-03-21T16:10:42.156Z"
   },
   {
    "duration": 9,
    "start_time": "2022-03-21T16:10:42.165Z"
   },
   {
    "duration": 38,
    "start_time": "2022-03-21T16:10:42.176Z"
   },
   {
    "duration": 182,
    "start_time": "2022-03-21T16:10:42.216Z"
   },
   {
    "duration": 21,
    "start_time": "2022-03-21T16:10:42.400Z"
   },
   {
    "duration": 329,
    "start_time": "2022-03-21T16:10:42.423Z"
   },
   {
    "duration": 6,
    "start_time": "2022-03-21T16:10:42.753Z"
   },
   {
    "duration": 44,
    "start_time": "2022-03-21T16:10:42.761Z"
   },
   {
    "duration": 234,
    "start_time": "2022-03-21T16:10:42.807Z"
   },
   {
    "duration": 12,
    "start_time": "2022-03-21T16:10:43.043Z"
   },
   {
    "duration": 21,
    "start_time": "2022-03-21T16:10:43.056Z"
   },
   {
    "duration": 34,
    "start_time": "2022-03-21T16:10:43.078Z"
   },
   {
    "duration": 172,
    "start_time": "2022-03-21T16:10:43.113Z"
   },
   {
    "duration": 27,
    "start_time": "2022-03-21T16:10:43.287Z"
   },
   {
    "duration": 305,
    "start_time": "2022-03-21T16:10:43.316Z"
   },
   {
    "duration": 8,
    "start_time": "2022-03-21T16:10:43.625Z"
   },
   {
    "duration": 23,
    "start_time": "2022-03-21T16:10:43.634Z"
   },
   {
    "duration": 184,
    "start_time": "2022-03-21T16:10:43.658Z"
   },
   {
    "duration": 165,
    "start_time": "2022-03-21T16:10:43.844Z"
   },
   {
    "duration": 12,
    "start_time": "2022-03-21T16:10:44.010Z"
   },
   {
    "duration": 230,
    "start_time": "2022-03-21T16:10:44.023Z"
   },
   {
    "duration": 155,
    "start_time": "2022-03-21T16:10:44.254Z"
   },
   {
    "duration": 6,
    "start_time": "2022-03-21T16:10:44.411Z"
   },
   {
    "duration": 8,
    "start_time": "2022-03-21T16:10:44.418Z"
   },
   {
    "duration": 165,
    "start_time": "2022-03-21T16:10:44.427Z"
   },
   {
    "duration": 160,
    "start_time": "2022-03-21T16:10:44.594Z"
   },
   {
    "duration": 7,
    "start_time": "2022-03-21T16:10:44.756Z"
   },
   {
    "duration": 8,
    "start_time": "2022-03-21T16:10:44.764Z"
   },
   {
    "duration": 14,
    "start_time": "2022-03-21T16:10:44.774Z"
   },
   {
    "duration": 21,
    "start_time": "2022-03-21T16:10:44.791Z"
   },
   {
    "duration": 11,
    "start_time": "2022-03-21T16:10:44.814Z"
   },
   {
    "duration": 8,
    "start_time": "2022-03-21T16:10:44.827Z"
   },
   {
    "duration": 128,
    "start_time": "2022-03-21T16:10:44.837Z"
   },
   {
    "duration": 14,
    "start_time": "2022-03-21T16:10:44.967Z"
   },
   {
    "duration": 202,
    "start_time": "2022-03-21T16:10:44.983Z"
   },
   {
    "duration": 25,
    "start_time": "2022-03-21T16:10:45.187Z"
   },
   {
    "duration": 13,
    "start_time": "2022-03-21T16:10:45.214Z"
   },
   {
    "duration": 13,
    "start_time": "2022-03-21T16:10:45.229Z"
   },
   {
    "duration": 302,
    "start_time": "2022-03-21T16:10:45.244Z"
   },
   {
    "duration": 14,
    "start_time": "2022-03-21T16:10:45.548Z"
   },
   {
    "duration": 15,
    "start_time": "2022-03-21T16:10:45.564Z"
   },
   {
    "duration": 29,
    "start_time": "2022-03-21T16:10:45.581Z"
   },
   {
    "duration": 366,
    "start_time": "2022-03-21T16:10:45.611Z"
   },
   {
    "duration": 12,
    "start_time": "2022-03-21T16:10:45.979Z"
   },
   {
    "duration": 12,
    "start_time": "2022-03-21T16:10:46.008Z"
   },
   {
    "duration": 11,
    "start_time": "2022-03-21T16:10:46.022Z"
   },
   {
    "duration": 539,
    "start_time": "2022-03-21T16:10:46.035Z"
   },
   {
    "duration": 6,
    "start_time": "2022-03-21T16:10:46.575Z"
   },
   {
    "duration": 7,
    "start_time": "2022-03-21T16:10:46.583Z"
   },
   {
    "duration": 23,
    "start_time": "2022-03-21T16:10:46.592Z"
   },
   {
    "duration": 8,
    "start_time": "2022-03-21T16:10:46.617Z"
   },
   {
    "duration": 6,
    "start_time": "2022-03-21T16:10:46.626Z"
   },
   {
    "duration": 7,
    "start_time": "2022-03-21T16:10:46.634Z"
   },
   {
    "duration": 216,
    "start_time": "2022-03-21T16:12:18.201Z"
   },
   {
    "duration": 160,
    "start_time": "2022-03-21T16:12:47.216Z"
   },
   {
    "duration": 64,
    "start_time": "2022-03-21T16:28:27.924Z"
   }
  ],
  "kernelspec": {
   "display_name": "Python 3 (ipykernel)",
   "language": "python",
   "name": "python3"
  },
  "language_info": {
   "codemirror_mode": {
    "name": "ipython",
    "version": 3
   },
   "file_extension": ".py",
   "mimetype": "text/x-python",
   "name": "python",
   "nbconvert_exporter": "python",
   "pygments_lexer": "ipython3",
   "version": "3.9.5"
  },
  "toc": {
   "base_numbering": 1,
   "nav_menu": {},
   "number_sections": true,
   "sideBar": true,
   "skip_h1_title": true,
   "title_cell": "Table of Contents",
   "title_sidebar": "Contents",
   "toc_cell": false,
   "toc_position": {},
   "toc_section_display": true,
   "toc_window_display": false
  }
 },
 "nbformat": 4,
 "nbformat_minor": 2
}
