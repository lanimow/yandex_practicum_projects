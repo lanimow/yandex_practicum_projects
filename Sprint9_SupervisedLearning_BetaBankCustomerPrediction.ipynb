{
 "cells": [
  {
   "cell_type": "markdown",
   "metadata": {},
   "source": [
    "# Project Description"
   ]
  },
  {
   "cell_type": "markdown",
   "metadata": {},
   "source": [
    "Beta Bank customers are leaving: little by little, chipping away every month. The bankers figured out it’s cheaper to save the existing customers rather than to attract new ones.\n",
    "\n",
    "We need to predict whether a customer will leave the bank soon. You have the data on clients’ past behavior and termination of contracts with the bank.\n",
    "\n",
    "Build a model with the maximum possible F1 score. To pass the project, you need an F1 score of at least 0.59. Check the F1 for the test set.\n",
    "\n",
    "Additionally, measure the AUC-ROC metric and compare it with the F1."
   ]
  },
  {
   "cell_type": "markdown",
   "metadata": {},
   "source": [
    "# Initialization"
   ]
  },
  {
   "cell_type": "code",
   "execution_count": 4,
   "metadata": {},
   "outputs": [
    {
     "name": "stdout",
     "output_type": "stream",
     "text": [
      "Requirement already satisfied: imbalanced-learn in /home/jovyan/.local/lib/python3.9/site-packages (0.9.1)\n",
      "Requirement already satisfied: scikit-learn>=1.1.0 in /home/jovyan/.local/lib/python3.9/site-packages (from imbalanced-learn) (1.1.1)\n",
      "Requirement already satisfied: numpy>=1.17.3 in /opt/conda/lib/python3.9/site-packages (from imbalanced-learn) (1.22.3)\n",
      "Requirement already satisfied: joblib>=1.0.0 in /opt/conda/lib/python3.9/site-packages (from imbalanced-learn) (1.1.0)\n",
      "Requirement already satisfied: threadpoolctl>=2.0.0 in /opt/conda/lib/python3.9/site-packages (from imbalanced-learn) (3.1.0)\n",
      "Requirement already satisfied: scipy>=1.3.2 in /opt/conda/lib/python3.9/site-packages (from imbalanced-learn) (1.8.0)\n"
     ]
    },
    {
     "ename": "ModuleNotFoundError",
     "evalue": "No module named 'imblearn'",
     "output_type": "error",
     "traceback": [
      "\u001b[0;31m---------------------------------------------------------------------------\u001b[0m",
      "\u001b[0;31mModuleNotFoundError\u001b[0m                       Traceback (most recent call last)",
      "\u001b[0;32m/tmp/ipykernel_253/52047691.py\u001b[0m in \u001b[0;36m<module>\u001b[0;34m\u001b[0m\n\u001b[1;32m     13\u001b[0m \u001b[0;32mfrom\u001b[0m \u001b[0msklearn\u001b[0m\u001b[0;34m.\u001b[0m\u001b[0mmetrics\u001b[0m \u001b[0;32mimport\u001b[0m \u001b[0mprecision_score\u001b[0m\u001b[0;34m,\u001b[0m \u001b[0mrecall_score\u001b[0m\u001b[0;34m,\u001b[0m \u001b[0mf1_score\u001b[0m\u001b[0;34m\u001b[0m\u001b[0;34m\u001b[0m\u001b[0m\n\u001b[1;32m     14\u001b[0m \u001b[0;32mfrom\u001b[0m \u001b[0msklearn\u001b[0m\u001b[0;34m.\u001b[0m\u001b[0mmetrics\u001b[0m \u001b[0;32mimport\u001b[0m \u001b[0mconfusion_matrix\u001b[0m\u001b[0;34m,\u001b[0m \u001b[0mroc_auc_score\u001b[0m\u001b[0;34m,\u001b[0m \u001b[0mplot_roc_curve\u001b[0m\u001b[0;34m\u001b[0m\u001b[0;34m\u001b[0m\u001b[0m\n\u001b[0;32m---> 15\u001b[0;31m \u001b[0;32mfrom\u001b[0m \u001b[0mimblearn\u001b[0m \u001b[0;32mimport\u001b[0m \u001b[0munder_sampling\u001b[0m\u001b[0;34m,\u001b[0m \u001b[0mover_sampling\u001b[0m\u001b[0;34m\u001b[0m\u001b[0;34m\u001b[0m\u001b[0m\n\u001b[0m\u001b[1;32m     16\u001b[0m \u001b[0;32mfrom\u001b[0m \u001b[0mimblearn\u001b[0m\u001b[0;34m.\u001b[0m\u001b[0mover_sampling\u001b[0m \u001b[0;32mimport\u001b[0m \u001b[0mSMOTE\u001b[0m\u001b[0;34m\u001b[0m\u001b[0;34m\u001b[0m\u001b[0m\n\u001b[1;32m     17\u001b[0m \u001b[0;32mfrom\u001b[0m \u001b[0mimblearn\u001b[0m\u001b[0;34m.\u001b[0m\u001b[0munder_sampling\u001b[0m \u001b[0;32mimport\u001b[0m \u001b[0mRandomUnderSampler\u001b[0m\u001b[0;34m\u001b[0m\u001b[0;34m\u001b[0m\u001b[0m\n",
      "\u001b[0;31mModuleNotFoundError\u001b[0m: No module named 'imblearn'"
     ]
    }
   ],
   "source": [
    "# Load all the libraries\n",
    "\n",
    "!pip install --user imbalanced-learn\n",
    "import pandas as pd\n",
    "import numpy as np\n",
    "import matplotlib.pyplot as plt\n",
    "import seaborn as sns\n",
    "from sklearn.preprocessing import StandardScaler\n",
    "from sklearn.linear_model import LogisticRegression\n",
    "from sklearn.tree import DecisionTreeClassifier\n",
    "from sklearn.ensemble import RandomForestClassifier\n",
    "from sklearn.model_selection import train_test_split\n",
    "from sklearn.metrics import precision_score, recall_score, f1_score\n",
    "from sklearn.metrics import confusion_matrix, roc_auc_score, plot_roc_curve\n",
    "from imblearn import under_sampling, over_sampling\n",
    "from imblearn.over_sampling import SMOTE\n",
    "from imblearn.under_sampling import RandomUnderSampler\n",
    "import warnings\n",
    "warnings.filterwarnings(\"ignore\")\n"
   ]
  },
  {
   "cell_type": "markdown",
   "metadata": {},
   "source": [
    "# Load Data"
   ]
  },
  {
   "cell_type": "code",
   "execution_count": 5,
   "metadata": {},
   "outputs": [],
   "source": [
    "# Load the data file\n",
    "try:\n",
    "    customers = pd.read_csv('/datasets/Churn.csv')\n",
    "except:\n",
    "    customers = pd.read_csv('Churn.csv')\n",
    "    "
   ]
  },
  {
   "cell_type": "markdown",
   "metadata": {},
   "source": [
    "# Explore the Data"
   ]
  },
  {
   "cell_type": "code",
   "execution_count": 6,
   "metadata": {},
   "outputs": [
    {
     "name": "stdout",
     "output_type": "stream",
     "text": [
      "<class 'pandas.core.frame.DataFrame'>\n",
      "RangeIndex: 10000 entries, 0 to 9999\n",
      "Data columns (total 14 columns):\n",
      " #   Column           Non-Null Count  Dtype  \n",
      "---  ------           --------------  -----  \n",
      " 0   RowNumber        10000 non-null  int64  \n",
      " 1   CustomerId       10000 non-null  int64  \n",
      " 2   Surname          10000 non-null  object \n",
      " 3   CreditScore      10000 non-null  int64  \n",
      " 4   Geography        10000 non-null  object \n",
      " 5   Gender           10000 non-null  object \n",
      " 6   Age              10000 non-null  int64  \n",
      " 7   Tenure           9091 non-null   float64\n",
      " 8   Balance          10000 non-null  float64\n",
      " 9   NumOfProducts    10000 non-null  int64  \n",
      " 10  HasCrCard        10000 non-null  int64  \n",
      " 11  IsActiveMember   10000 non-null  int64  \n",
      " 12  EstimatedSalary  10000 non-null  float64\n",
      " 13  Exited           10000 non-null  int64  \n",
      "dtypes: float64(3), int64(8), object(3)\n",
      "memory usage: 1.1+ MB\n"
     ]
    },
    {
     "data": {
      "text/html": [
       "<div>\n",
       "<style scoped>\n",
       "    .dataframe tbody tr th:only-of-type {\n",
       "        vertical-align: middle;\n",
       "    }\n",
       "\n",
       "    .dataframe tbody tr th {\n",
       "        vertical-align: top;\n",
       "    }\n",
       "\n",
       "    .dataframe thead th {\n",
       "        text-align: right;\n",
       "    }\n",
       "</style>\n",
       "<table border=\"1\" class=\"dataframe\">\n",
       "  <thead>\n",
       "    <tr style=\"text-align: right;\">\n",
       "      <th></th>\n",
       "      <th>RowNumber</th>\n",
       "      <th>CustomerId</th>\n",
       "      <th>CreditScore</th>\n",
       "      <th>Age</th>\n",
       "      <th>Tenure</th>\n",
       "      <th>Balance</th>\n",
       "      <th>NumOfProducts</th>\n",
       "      <th>HasCrCard</th>\n",
       "      <th>IsActiveMember</th>\n",
       "      <th>EstimatedSalary</th>\n",
       "      <th>Exited</th>\n",
       "    </tr>\n",
       "  </thead>\n",
       "  <tbody>\n",
       "    <tr>\n",
       "      <th>count</th>\n",
       "      <td>10000.00000</td>\n",
       "      <td>1.000000e+04</td>\n",
       "      <td>10000.000000</td>\n",
       "      <td>10000.000000</td>\n",
       "      <td>9091.000000</td>\n",
       "      <td>10000.000000</td>\n",
       "      <td>10000.000000</td>\n",
       "      <td>10000.00000</td>\n",
       "      <td>10000.000000</td>\n",
       "      <td>10000.000000</td>\n",
       "      <td>10000.000000</td>\n",
       "    </tr>\n",
       "    <tr>\n",
       "      <th>mean</th>\n",
       "      <td>5000.50000</td>\n",
       "      <td>1.569094e+07</td>\n",
       "      <td>650.528800</td>\n",
       "      <td>38.921800</td>\n",
       "      <td>4.997690</td>\n",
       "      <td>76485.889288</td>\n",
       "      <td>1.530200</td>\n",
       "      <td>0.70550</td>\n",
       "      <td>0.515100</td>\n",
       "      <td>100090.239881</td>\n",
       "      <td>0.203700</td>\n",
       "    </tr>\n",
       "    <tr>\n",
       "      <th>std</th>\n",
       "      <td>2886.89568</td>\n",
       "      <td>7.193619e+04</td>\n",
       "      <td>96.653299</td>\n",
       "      <td>10.487806</td>\n",
       "      <td>2.894723</td>\n",
       "      <td>62397.405202</td>\n",
       "      <td>0.581654</td>\n",
       "      <td>0.45584</td>\n",
       "      <td>0.499797</td>\n",
       "      <td>57510.492818</td>\n",
       "      <td>0.402769</td>\n",
       "    </tr>\n",
       "    <tr>\n",
       "      <th>min</th>\n",
       "      <td>1.00000</td>\n",
       "      <td>1.556570e+07</td>\n",
       "      <td>350.000000</td>\n",
       "      <td>18.000000</td>\n",
       "      <td>0.000000</td>\n",
       "      <td>0.000000</td>\n",
       "      <td>1.000000</td>\n",
       "      <td>0.00000</td>\n",
       "      <td>0.000000</td>\n",
       "      <td>11.580000</td>\n",
       "      <td>0.000000</td>\n",
       "    </tr>\n",
       "    <tr>\n",
       "      <th>25%</th>\n",
       "      <td>2500.75000</td>\n",
       "      <td>1.562853e+07</td>\n",
       "      <td>584.000000</td>\n",
       "      <td>32.000000</td>\n",
       "      <td>2.000000</td>\n",
       "      <td>0.000000</td>\n",
       "      <td>1.000000</td>\n",
       "      <td>0.00000</td>\n",
       "      <td>0.000000</td>\n",
       "      <td>51002.110000</td>\n",
       "      <td>0.000000</td>\n",
       "    </tr>\n",
       "    <tr>\n",
       "      <th>50%</th>\n",
       "      <td>5000.50000</td>\n",
       "      <td>1.569074e+07</td>\n",
       "      <td>652.000000</td>\n",
       "      <td>37.000000</td>\n",
       "      <td>5.000000</td>\n",
       "      <td>97198.540000</td>\n",
       "      <td>1.000000</td>\n",
       "      <td>1.00000</td>\n",
       "      <td>1.000000</td>\n",
       "      <td>100193.915000</td>\n",
       "      <td>0.000000</td>\n",
       "    </tr>\n",
       "    <tr>\n",
       "      <th>75%</th>\n",
       "      <td>7500.25000</td>\n",
       "      <td>1.575323e+07</td>\n",
       "      <td>718.000000</td>\n",
       "      <td>44.000000</td>\n",
       "      <td>7.000000</td>\n",
       "      <td>127644.240000</td>\n",
       "      <td>2.000000</td>\n",
       "      <td>1.00000</td>\n",
       "      <td>1.000000</td>\n",
       "      <td>149388.247500</td>\n",
       "      <td>0.000000</td>\n",
       "    </tr>\n",
       "    <tr>\n",
       "      <th>max</th>\n",
       "      <td>10000.00000</td>\n",
       "      <td>1.581569e+07</td>\n",
       "      <td>850.000000</td>\n",
       "      <td>92.000000</td>\n",
       "      <td>10.000000</td>\n",
       "      <td>250898.090000</td>\n",
       "      <td>4.000000</td>\n",
       "      <td>1.00000</td>\n",
       "      <td>1.000000</td>\n",
       "      <td>199992.480000</td>\n",
       "      <td>1.000000</td>\n",
       "    </tr>\n",
       "  </tbody>\n",
       "</table>\n",
       "</div>"
      ],
      "text/plain": [
       "         RowNumber    CustomerId   CreditScore           Age       Tenure  \\\n",
       "count  10000.00000  1.000000e+04  10000.000000  10000.000000  9091.000000   \n",
       "mean    5000.50000  1.569094e+07    650.528800     38.921800     4.997690   \n",
       "std     2886.89568  7.193619e+04     96.653299     10.487806     2.894723   \n",
       "min        1.00000  1.556570e+07    350.000000     18.000000     0.000000   \n",
       "25%     2500.75000  1.562853e+07    584.000000     32.000000     2.000000   \n",
       "50%     5000.50000  1.569074e+07    652.000000     37.000000     5.000000   \n",
       "75%     7500.25000  1.575323e+07    718.000000     44.000000     7.000000   \n",
       "max    10000.00000  1.581569e+07    850.000000     92.000000    10.000000   \n",
       "\n",
       "             Balance  NumOfProducts    HasCrCard  IsActiveMember  \\\n",
       "count   10000.000000   10000.000000  10000.00000    10000.000000   \n",
       "mean    76485.889288       1.530200      0.70550        0.515100   \n",
       "std     62397.405202       0.581654      0.45584        0.499797   \n",
       "min         0.000000       1.000000      0.00000        0.000000   \n",
       "25%         0.000000       1.000000      0.00000        0.000000   \n",
       "50%     97198.540000       1.000000      1.00000        1.000000   \n",
       "75%    127644.240000       2.000000      1.00000        1.000000   \n",
       "max    250898.090000       4.000000      1.00000        1.000000   \n",
       "\n",
       "       EstimatedSalary        Exited  \n",
       "count     10000.000000  10000.000000  \n",
       "mean     100090.239881      0.203700  \n",
       "std       57510.492818      0.402769  \n",
       "min          11.580000      0.000000  \n",
       "25%       51002.110000      0.000000  \n",
       "50%      100193.915000      0.000000  \n",
       "75%      149388.247500      0.000000  \n",
       "max      199992.480000      1.000000  "
      ]
     },
     "execution_count": 6,
     "metadata": {},
     "output_type": "execute_result"
    }
   ],
   "source": [
    "# Print general information about the 'customers' dataframe\n",
    "customers.info()\n",
    "customers.describe()\n"
   ]
  },
  {
   "cell_type": "code",
   "execution_count": 7,
   "metadata": {},
   "outputs": [
    {
     "data": {
      "text/html": [
       "<div>\n",
       "<style scoped>\n",
       "    .dataframe tbody tr th:only-of-type {\n",
       "        vertical-align: middle;\n",
       "    }\n",
       "\n",
       "    .dataframe tbody tr th {\n",
       "        vertical-align: top;\n",
       "    }\n",
       "\n",
       "    .dataframe thead th {\n",
       "        text-align: right;\n",
       "    }\n",
       "</style>\n",
       "<table border=\"1\" class=\"dataframe\">\n",
       "  <thead>\n",
       "    <tr style=\"text-align: right;\">\n",
       "      <th></th>\n",
       "      <th>RowNumber</th>\n",
       "      <th>CustomerId</th>\n",
       "      <th>Surname</th>\n",
       "      <th>CreditScore</th>\n",
       "      <th>Geography</th>\n",
       "      <th>Gender</th>\n",
       "      <th>Age</th>\n",
       "      <th>Tenure</th>\n",
       "      <th>Balance</th>\n",
       "      <th>NumOfProducts</th>\n",
       "      <th>HasCrCard</th>\n",
       "      <th>IsActiveMember</th>\n",
       "      <th>EstimatedSalary</th>\n",
       "      <th>Exited</th>\n",
       "    </tr>\n",
       "  </thead>\n",
       "  <tbody>\n",
       "    <tr>\n",
       "      <th>0</th>\n",
       "      <td>1</td>\n",
       "      <td>15634602</td>\n",
       "      <td>Hargrave</td>\n",
       "      <td>619</td>\n",
       "      <td>France</td>\n",
       "      <td>Female</td>\n",
       "      <td>42</td>\n",
       "      <td>2.0</td>\n",
       "      <td>0.00</td>\n",
       "      <td>1</td>\n",
       "      <td>1</td>\n",
       "      <td>1</td>\n",
       "      <td>101348.88</td>\n",
       "      <td>1</td>\n",
       "    </tr>\n",
       "    <tr>\n",
       "      <th>1</th>\n",
       "      <td>2</td>\n",
       "      <td>15647311</td>\n",
       "      <td>Hill</td>\n",
       "      <td>608</td>\n",
       "      <td>Spain</td>\n",
       "      <td>Female</td>\n",
       "      <td>41</td>\n",
       "      <td>1.0</td>\n",
       "      <td>83807.86</td>\n",
       "      <td>1</td>\n",
       "      <td>0</td>\n",
       "      <td>1</td>\n",
       "      <td>112542.58</td>\n",
       "      <td>0</td>\n",
       "    </tr>\n",
       "    <tr>\n",
       "      <th>2</th>\n",
       "      <td>3</td>\n",
       "      <td>15619304</td>\n",
       "      <td>Onio</td>\n",
       "      <td>502</td>\n",
       "      <td>France</td>\n",
       "      <td>Female</td>\n",
       "      <td>42</td>\n",
       "      <td>8.0</td>\n",
       "      <td>159660.80</td>\n",
       "      <td>3</td>\n",
       "      <td>1</td>\n",
       "      <td>0</td>\n",
       "      <td>113931.57</td>\n",
       "      <td>1</td>\n",
       "    </tr>\n",
       "    <tr>\n",
       "      <th>3</th>\n",
       "      <td>4</td>\n",
       "      <td>15701354</td>\n",
       "      <td>Boni</td>\n",
       "      <td>699</td>\n",
       "      <td>France</td>\n",
       "      <td>Female</td>\n",
       "      <td>39</td>\n",
       "      <td>1.0</td>\n",
       "      <td>0.00</td>\n",
       "      <td>2</td>\n",
       "      <td>0</td>\n",
       "      <td>0</td>\n",
       "      <td>93826.63</td>\n",
       "      <td>0</td>\n",
       "    </tr>\n",
       "    <tr>\n",
       "      <th>4</th>\n",
       "      <td>5</td>\n",
       "      <td>15737888</td>\n",
       "      <td>Mitchell</td>\n",
       "      <td>850</td>\n",
       "      <td>Spain</td>\n",
       "      <td>Female</td>\n",
       "      <td>43</td>\n",
       "      <td>2.0</td>\n",
       "      <td>125510.82</td>\n",
       "      <td>1</td>\n",
       "      <td>1</td>\n",
       "      <td>1</td>\n",
       "      <td>79084.10</td>\n",
       "      <td>0</td>\n",
       "    </tr>\n",
       "    <tr>\n",
       "      <th>...</th>\n",
       "      <td>...</td>\n",
       "      <td>...</td>\n",
       "      <td>...</td>\n",
       "      <td>...</td>\n",
       "      <td>...</td>\n",
       "      <td>...</td>\n",
       "      <td>...</td>\n",
       "      <td>...</td>\n",
       "      <td>...</td>\n",
       "      <td>...</td>\n",
       "      <td>...</td>\n",
       "      <td>...</td>\n",
       "      <td>...</td>\n",
       "      <td>...</td>\n",
       "    </tr>\n",
       "    <tr>\n",
       "      <th>9995</th>\n",
       "      <td>9996</td>\n",
       "      <td>15606229</td>\n",
       "      <td>Obijiaku</td>\n",
       "      <td>771</td>\n",
       "      <td>France</td>\n",
       "      <td>Male</td>\n",
       "      <td>39</td>\n",
       "      <td>5.0</td>\n",
       "      <td>0.00</td>\n",
       "      <td>2</td>\n",
       "      <td>1</td>\n",
       "      <td>0</td>\n",
       "      <td>96270.64</td>\n",
       "      <td>0</td>\n",
       "    </tr>\n",
       "    <tr>\n",
       "      <th>9996</th>\n",
       "      <td>9997</td>\n",
       "      <td>15569892</td>\n",
       "      <td>Johnstone</td>\n",
       "      <td>516</td>\n",
       "      <td>France</td>\n",
       "      <td>Male</td>\n",
       "      <td>35</td>\n",
       "      <td>10.0</td>\n",
       "      <td>57369.61</td>\n",
       "      <td>1</td>\n",
       "      <td>1</td>\n",
       "      <td>1</td>\n",
       "      <td>101699.77</td>\n",
       "      <td>0</td>\n",
       "    </tr>\n",
       "    <tr>\n",
       "      <th>9997</th>\n",
       "      <td>9998</td>\n",
       "      <td>15584532</td>\n",
       "      <td>Liu</td>\n",
       "      <td>709</td>\n",
       "      <td>France</td>\n",
       "      <td>Female</td>\n",
       "      <td>36</td>\n",
       "      <td>7.0</td>\n",
       "      <td>0.00</td>\n",
       "      <td>1</td>\n",
       "      <td>0</td>\n",
       "      <td>1</td>\n",
       "      <td>42085.58</td>\n",
       "      <td>1</td>\n",
       "    </tr>\n",
       "    <tr>\n",
       "      <th>9998</th>\n",
       "      <td>9999</td>\n",
       "      <td>15682355</td>\n",
       "      <td>Sabbatini</td>\n",
       "      <td>772</td>\n",
       "      <td>Germany</td>\n",
       "      <td>Male</td>\n",
       "      <td>42</td>\n",
       "      <td>3.0</td>\n",
       "      <td>75075.31</td>\n",
       "      <td>2</td>\n",
       "      <td>1</td>\n",
       "      <td>0</td>\n",
       "      <td>92888.52</td>\n",
       "      <td>1</td>\n",
       "    </tr>\n",
       "    <tr>\n",
       "      <th>9999</th>\n",
       "      <td>10000</td>\n",
       "      <td>15628319</td>\n",
       "      <td>Walker</td>\n",
       "      <td>792</td>\n",
       "      <td>France</td>\n",
       "      <td>Female</td>\n",
       "      <td>28</td>\n",
       "      <td>NaN</td>\n",
       "      <td>130142.79</td>\n",
       "      <td>1</td>\n",
       "      <td>1</td>\n",
       "      <td>0</td>\n",
       "      <td>38190.78</td>\n",
       "      <td>0</td>\n",
       "    </tr>\n",
       "  </tbody>\n",
       "</table>\n",
       "<p>10000 rows × 14 columns</p>\n",
       "</div>"
      ],
      "text/plain": [
       "      RowNumber  CustomerId    Surname  CreditScore Geography  Gender  Age  \\\n",
       "0             1    15634602   Hargrave          619    France  Female   42   \n",
       "1             2    15647311       Hill          608     Spain  Female   41   \n",
       "2             3    15619304       Onio          502    France  Female   42   \n",
       "3             4    15701354       Boni          699    France  Female   39   \n",
       "4             5    15737888   Mitchell          850     Spain  Female   43   \n",
       "...         ...         ...        ...          ...       ...     ...  ...   \n",
       "9995       9996    15606229   Obijiaku          771    France    Male   39   \n",
       "9996       9997    15569892  Johnstone          516    France    Male   35   \n",
       "9997       9998    15584532        Liu          709    France  Female   36   \n",
       "9998       9999    15682355  Sabbatini          772   Germany    Male   42   \n",
       "9999      10000    15628319     Walker          792    France  Female   28   \n",
       "\n",
       "      Tenure    Balance  NumOfProducts  HasCrCard  IsActiveMember  \\\n",
       "0        2.0       0.00              1          1               1   \n",
       "1        1.0   83807.86              1          0               1   \n",
       "2        8.0  159660.80              3          1               0   \n",
       "3        1.0       0.00              2          0               0   \n",
       "4        2.0  125510.82              1          1               1   \n",
       "...      ...        ...            ...        ...             ...   \n",
       "9995     5.0       0.00              2          1               0   \n",
       "9996    10.0   57369.61              1          1               1   \n",
       "9997     7.0       0.00              1          0               1   \n",
       "9998     3.0   75075.31              2          1               0   \n",
       "9999     NaN  130142.79              1          1               0   \n",
       "\n",
       "      EstimatedSalary  Exited  \n",
       "0           101348.88       1  \n",
       "1           112542.58       0  \n",
       "2           113931.57       1  \n",
       "3            93826.63       0  \n",
       "4            79084.10       0  \n",
       "...               ...     ...  \n",
       "9995         96270.64       0  \n",
       "9996        101699.77       0  \n",
       "9997         42085.58       1  \n",
       "9998         92888.52       1  \n",
       "9999         38190.78       0  \n",
       "\n",
       "[10000 rows x 14 columns]"
      ]
     },
     "execution_count": 7,
     "metadata": {},
     "output_type": "execute_result"
    }
   ],
   "source": [
    "# Print a sample of the data for 'customers'\n",
    "customers\n"
   ]
  },
  {
   "cell_type": "code",
   "execution_count": 8,
   "metadata": {},
   "outputs": [
    {
     "data": {
      "text/plain": [
       "array(['France', 'Spain', 'Germany'], dtype=object)"
      ]
     },
     "execution_count": 8,
     "metadata": {},
     "output_type": "execute_result"
    }
   ],
   "source": [
    "# Check all the unique values in the 'Geography' column\n",
    "customers['Geography'].unique()\n"
   ]
  },
  {
   "cell_type": "code",
   "execution_count": 9,
   "metadata": {},
   "outputs": [
    {
     "data": {
      "text/plain": [
       "array(['Female', 'Male'], dtype=object)"
      ]
     },
     "execution_count": 9,
     "metadata": {},
     "output_type": "execute_result"
    }
   ],
   "source": [
    "# Check all the unique values in the 'Gender' column\n",
    "customers['Gender'].unique()\n"
   ]
  },
  {
   "cell_type": "code",
   "execution_count": 10,
   "metadata": {},
   "outputs": [
    {
     "data": {
      "text/plain": [
       "array([ 2.,  1.,  8.,  7.,  4.,  6.,  3., 10.,  5.,  9.,  0., nan])"
      ]
     },
     "execution_count": 10,
     "metadata": {},
     "output_type": "execute_result"
    }
   ],
   "source": [
    "# Check all the unique values in the 'Tenure' column\n",
    "customers['Tenure'].unique()\n"
   ]
  },
  {
   "cell_type": "code",
   "execution_count": 11,
   "metadata": {},
   "outputs": [
    {
     "data": {
      "text/plain": [
       "0    7963\n",
       "1    2037\n",
       "Name: Exited, dtype: int64"
      ]
     },
     "execution_count": 11,
     "metadata": {},
     "output_type": "execute_result"
    },
    {
     "data": {
      "image/png": "[encoded data removed]",
      "text/plain": [
       "<Figure size 432x288 with 1 Axes>"
      ]
     },
     "metadata": {
      "needs_background": "light"
     },
     "output_type": "display_data"
    }
   ],
   "source": [
    "# Examine the frequencies of the values in the 'Exited' column\n",
    "pd.value_counts(customers['Exited']).plot.bar()\n",
    "plt.title('\"Exited\" values')\n",
    "plt.xlabel('Values')\n",
    "plt.ylabel('Frequency')\n",
    "customers['Exited'].value_counts()\n"
   ]
  },
  {
   "cell_type": "markdown",
   "metadata": {},
   "source": [
    "Based on the above exploration of the data, these are the potential issues that should be addressed:\n",
    "\n",
    "1) There are features that have no relevance to whether or not a customer would leave the bank (i.e. 'RowNumber', 'CustomerId', and 'Surname')\n",
    "\n",
    "2) There are 909 missing values in the 'Tenure' feature\n",
    "\n",
    "3) There are two categorical features ('Geography' and 'Gender') that must be changed into dummy variables\n",
    "\n",
    "4) The values in the 'Exited' target are unbalanced (the positives are far fewer than the negatives)\n",
    "\n",
    "5) The numeric features are differently scaled"
   ]
  },
  {
   "cell_type": "markdown",
   "metadata": {},
   "source": [
    "# Clean the Data"
   ]
  },
  {
   "cell_type": "code",
   "execution_count": 12,
   "metadata": {},
   "outputs": [
    {
     "data": {
      "text/html": [
       "<div>\n",
       "<style scoped>\n",
       "    .dataframe tbody tr th:only-of-type {\n",
       "        vertical-align: middle;\n",
       "    }\n",
       "\n",
       "    .dataframe tbody tr th {\n",
       "        vertical-align: top;\n",
       "    }\n",
       "\n",
       "    .dataframe thead th {\n",
       "        text-align: right;\n",
       "    }\n",
       "</style>\n",
       "<table border=\"1\" class=\"dataframe\">\n",
       "  <thead>\n",
       "    <tr style=\"text-align: right;\">\n",
       "      <th></th>\n",
       "      <th>CreditScore</th>\n",
       "      <th>Geography</th>\n",
       "      <th>Gender</th>\n",
       "      <th>Age</th>\n",
       "      <th>Tenure</th>\n",
       "      <th>Balance</th>\n",
       "      <th>NumOfProducts</th>\n",
       "      <th>HasCrCard</th>\n",
       "      <th>IsActiveMember</th>\n",
       "      <th>EstimatedSalary</th>\n",
       "      <th>Exited</th>\n",
       "    </tr>\n",
       "  </thead>\n",
       "  <tbody>\n",
       "    <tr>\n",
       "      <th>0</th>\n",
       "      <td>619</td>\n",
       "      <td>France</td>\n",
       "      <td>Female</td>\n",
       "      <td>42</td>\n",
       "      <td>2.0</td>\n",
       "      <td>0.00</td>\n",
       "      <td>1</td>\n",
       "      <td>1</td>\n",
       "      <td>1</td>\n",
       "      <td>101348.88</td>\n",
       "      <td>1</td>\n",
       "    </tr>\n",
       "    <tr>\n",
       "      <th>1</th>\n",
       "      <td>608</td>\n",
       "      <td>Spain</td>\n",
       "      <td>Female</td>\n",
       "      <td>41</td>\n",
       "      <td>1.0</td>\n",
       "      <td>83807.86</td>\n",
       "      <td>1</td>\n",
       "      <td>0</td>\n",
       "      <td>1</td>\n",
       "      <td>112542.58</td>\n",
       "      <td>0</td>\n",
       "    </tr>\n",
       "    <tr>\n",
       "      <th>2</th>\n",
       "      <td>502</td>\n",
       "      <td>France</td>\n",
       "      <td>Female</td>\n",
       "      <td>42</td>\n",
       "      <td>8.0</td>\n",
       "      <td>159660.80</td>\n",
       "      <td>3</td>\n",
       "      <td>1</td>\n",
       "      <td>0</td>\n",
       "      <td>113931.57</td>\n",
       "      <td>1</td>\n",
       "    </tr>\n",
       "    <tr>\n",
       "      <th>3</th>\n",
       "      <td>699</td>\n",
       "      <td>France</td>\n",
       "      <td>Female</td>\n",
       "      <td>39</td>\n",
       "      <td>1.0</td>\n",
       "      <td>0.00</td>\n",
       "      <td>2</td>\n",
       "      <td>0</td>\n",
       "      <td>0</td>\n",
       "      <td>93826.63</td>\n",
       "      <td>0</td>\n",
       "    </tr>\n",
       "    <tr>\n",
       "      <th>4</th>\n",
       "      <td>850</td>\n",
       "      <td>Spain</td>\n",
       "      <td>Female</td>\n",
       "      <td>43</td>\n",
       "      <td>2.0</td>\n",
       "      <td>125510.82</td>\n",
       "      <td>1</td>\n",
       "      <td>1</td>\n",
       "      <td>1</td>\n",
       "      <td>79084.10</td>\n",
       "      <td>0</td>\n",
       "    </tr>\n",
       "    <tr>\n",
       "      <th>...</th>\n",
       "      <td>...</td>\n",
       "      <td>...</td>\n",
       "      <td>...</td>\n",
       "      <td>...</td>\n",
       "      <td>...</td>\n",
       "      <td>...</td>\n",
       "      <td>...</td>\n",
       "      <td>...</td>\n",
       "      <td>...</td>\n",
       "      <td>...</td>\n",
       "      <td>...</td>\n",
       "    </tr>\n",
       "    <tr>\n",
       "      <th>9995</th>\n",
       "      <td>771</td>\n",
       "      <td>France</td>\n",
       "      <td>Male</td>\n",
       "      <td>39</td>\n",
       "      <td>5.0</td>\n",
       "      <td>0.00</td>\n",
       "      <td>2</td>\n",
       "      <td>1</td>\n",
       "      <td>0</td>\n",
       "      <td>96270.64</td>\n",
       "      <td>0</td>\n",
       "    </tr>\n",
       "    <tr>\n",
       "      <th>9996</th>\n",
       "      <td>516</td>\n",
       "      <td>France</td>\n",
       "      <td>Male</td>\n",
       "      <td>35</td>\n",
       "      <td>10.0</td>\n",
       "      <td>57369.61</td>\n",
       "      <td>1</td>\n",
       "      <td>1</td>\n",
       "      <td>1</td>\n",
       "      <td>101699.77</td>\n",
       "      <td>0</td>\n",
       "    </tr>\n",
       "    <tr>\n",
       "      <th>9997</th>\n",
       "      <td>709</td>\n",
       "      <td>France</td>\n",
       "      <td>Female</td>\n",
       "      <td>36</td>\n",
       "      <td>7.0</td>\n",
       "      <td>0.00</td>\n",
       "      <td>1</td>\n",
       "      <td>0</td>\n",
       "      <td>1</td>\n",
       "      <td>42085.58</td>\n",
       "      <td>1</td>\n",
       "    </tr>\n",
       "    <tr>\n",
       "      <th>9998</th>\n",
       "      <td>772</td>\n",
       "      <td>Germany</td>\n",
       "      <td>Male</td>\n",
       "      <td>42</td>\n",
       "      <td>3.0</td>\n",
       "      <td>75075.31</td>\n",
       "      <td>2</td>\n",
       "      <td>1</td>\n",
       "      <td>0</td>\n",
       "      <td>92888.52</td>\n",
       "      <td>1</td>\n",
       "    </tr>\n",
       "    <tr>\n",
       "      <th>9999</th>\n",
       "      <td>792</td>\n",
       "      <td>France</td>\n",
       "      <td>Female</td>\n",
       "      <td>28</td>\n",
       "      <td>NaN</td>\n",
       "      <td>130142.79</td>\n",
       "      <td>1</td>\n",
       "      <td>1</td>\n",
       "      <td>0</td>\n",
       "      <td>38190.78</td>\n",
       "      <td>0</td>\n",
       "    </tr>\n",
       "  </tbody>\n",
       "</table>\n",
       "<p>10000 rows × 11 columns</p>\n",
       "</div>"
      ],
      "text/plain": [
       "      CreditScore Geography  Gender  Age  Tenure    Balance  NumOfProducts  \\\n",
       "0             619    France  Female   42     2.0       0.00              1   \n",
       "1             608     Spain  Female   41     1.0   83807.86              1   \n",
       "2             502    France  Female   42     8.0  159660.80              3   \n",
       "3             699    France  Female   39     1.0       0.00              2   \n",
       "4             850     Spain  Female   43     2.0  125510.82              1   \n",
       "...           ...       ...     ...  ...     ...        ...            ...   \n",
       "9995          771    France    Male   39     5.0       0.00              2   \n",
       "9996          516    France    Male   35    10.0   57369.61              1   \n",
       "9997          709    France  Female   36     7.0       0.00              1   \n",
       "9998          772   Germany    Male   42     3.0   75075.31              2   \n",
       "9999          792    France  Female   28     NaN  130142.79              1   \n",
       "\n",
       "      HasCrCard  IsActiveMember  EstimatedSalary  Exited  \n",
       "0             1               1        101348.88       1  \n",
       "1             0               1        112542.58       0  \n",
       "2             1               0        113931.57       1  \n",
       "3             0               0         93826.63       0  \n",
       "4             1               1         79084.10       0  \n",
       "...         ...             ...              ...     ...  \n",
       "9995          1               0         96270.64       0  \n",
       "9996          1               1        101699.77       0  \n",
       "9997          0               1         42085.58       1  \n",
       "9998          1               0         92888.52       1  \n",
       "9999          1               0         38190.78       0  \n",
       "\n",
       "[10000 rows x 11 columns]"
      ]
     },
     "execution_count": 12,
     "metadata": {},
     "output_type": "execute_result"
    }
   ],
   "source": [
    "# Drop features that have no relation to the target ('RowNumber', 'CustomerId', and 'Surname')\n",
    "customers = customers.drop(['RowNumber', 'CustomerId', 'Surname'], axis = 1)\n",
    "customers\n"
   ]
  },
  {
   "cell_type": "code",
   "execution_count": 13,
   "metadata": {},
   "outputs": [
    {
     "data": {
      "text/plain": [
       "0"
      ]
     },
     "execution_count": 13,
     "metadata": {},
     "output_type": "execute_result"
    }
   ],
   "source": [
    "# Fill in missing values in the 'Tenure' column with the mean\n",
    "customers['Tenure'].fillna(customers['Tenure'].mean(), inplace = True)\n",
    "customers['Tenure'].isna().sum()\n"
   ]
  },
  {
   "cell_type": "code",
   "execution_count": 14,
   "metadata": {},
   "outputs": [
    {
     "data": {
      "text/html": [
       "<div>\n",
       "<style scoped>\n",
       "    .dataframe tbody tr th:only-of-type {\n",
       "        vertical-align: middle;\n",
       "    }\n",
       "\n",
       "    .dataframe tbody tr th {\n",
       "        vertical-align: top;\n",
       "    }\n",
       "\n",
       "    .dataframe thead th {\n",
       "        text-align: right;\n",
       "    }\n",
       "</style>\n",
       "<table border=\"1\" class=\"dataframe\">\n",
       "  <thead>\n",
       "    <tr style=\"text-align: right;\">\n",
       "      <th></th>\n",
       "      <th>CreditScore</th>\n",
       "      <th>Geography</th>\n",
       "      <th>Gender</th>\n",
       "      <th>Age</th>\n",
       "      <th>Tenure</th>\n",
       "      <th>Balance</th>\n",
       "      <th>NumOfProducts</th>\n",
       "      <th>HasCrCard</th>\n",
       "      <th>IsActiveMember</th>\n",
       "      <th>EstimatedSalary</th>\n",
       "      <th>Exited</th>\n",
       "      <th>Germany</th>\n",
       "      <th>Spain</th>\n",
       "    </tr>\n",
       "  </thead>\n",
       "  <tbody>\n",
       "    <tr>\n",
       "      <th>0</th>\n",
       "      <td>619</td>\n",
       "      <td>France</td>\n",
       "      <td>Female</td>\n",
       "      <td>42</td>\n",
       "      <td>2.00000</td>\n",
       "      <td>0.00</td>\n",
       "      <td>1</td>\n",
       "      <td>1</td>\n",
       "      <td>1</td>\n",
       "      <td>101348.88</td>\n",
       "      <td>1</td>\n",
       "      <td>0</td>\n",
       "      <td>0</td>\n",
       "    </tr>\n",
       "    <tr>\n",
       "      <th>1</th>\n",
       "      <td>608</td>\n",
       "      <td>Spain</td>\n",
       "      <td>Female</td>\n",
       "      <td>41</td>\n",
       "      <td>1.00000</td>\n",
       "      <td>83807.86</td>\n",
       "      <td>1</td>\n",
       "      <td>0</td>\n",
       "      <td>1</td>\n",
       "      <td>112542.58</td>\n",
       "      <td>0</td>\n",
       "      <td>0</td>\n",
       "      <td>1</td>\n",
       "    </tr>\n",
       "    <tr>\n",
       "      <th>2</th>\n",
       "      <td>502</td>\n",
       "      <td>France</td>\n",
       "      <td>Female</td>\n",
       "      <td>42</td>\n",
       "      <td>8.00000</td>\n",
       "      <td>159660.80</td>\n",
       "      <td>3</td>\n",
       "      <td>1</td>\n",
       "      <td>0</td>\n",
       "      <td>113931.57</td>\n",
       "      <td>1</td>\n",
       "      <td>0</td>\n",
       "      <td>0</td>\n",
       "    </tr>\n",
       "    <tr>\n",
       "      <th>3</th>\n",
       "      <td>699</td>\n",
       "      <td>France</td>\n",
       "      <td>Female</td>\n",
       "      <td>39</td>\n",
       "      <td>1.00000</td>\n",
       "      <td>0.00</td>\n",
       "      <td>2</td>\n",
       "      <td>0</td>\n",
       "      <td>0</td>\n",
       "      <td>93826.63</td>\n",
       "      <td>0</td>\n",
       "      <td>0</td>\n",
       "      <td>0</td>\n",
       "    </tr>\n",
       "    <tr>\n",
       "      <th>4</th>\n",
       "      <td>850</td>\n",
       "      <td>Spain</td>\n",
       "      <td>Female</td>\n",
       "      <td>43</td>\n",
       "      <td>2.00000</td>\n",
       "      <td>125510.82</td>\n",
       "      <td>1</td>\n",
       "      <td>1</td>\n",
       "      <td>1</td>\n",
       "      <td>79084.10</td>\n",
       "      <td>0</td>\n",
       "      <td>0</td>\n",
       "      <td>1</td>\n",
       "    </tr>\n",
       "    <tr>\n",
       "      <th>...</th>\n",
       "      <td>...</td>\n",
       "      <td>...</td>\n",
       "      <td>...</td>\n",
       "      <td>...</td>\n",
       "      <td>...</td>\n",
       "      <td>...</td>\n",
       "      <td>...</td>\n",
       "      <td>...</td>\n",
       "      <td>...</td>\n",
       "      <td>...</td>\n",
       "      <td>...</td>\n",
       "      <td>...</td>\n",
       "      <td>...</td>\n",
       "    </tr>\n",
       "    <tr>\n",
       "      <th>9995</th>\n",
       "      <td>771</td>\n",
       "      <td>France</td>\n",
       "      <td>Male</td>\n",
       "      <td>39</td>\n",
       "      <td>5.00000</td>\n",
       "      <td>0.00</td>\n",
       "      <td>2</td>\n",
       "      <td>1</td>\n",
       "      <td>0</td>\n",
       "      <td>96270.64</td>\n",
       "      <td>0</td>\n",
       "      <td>0</td>\n",
       "      <td>0</td>\n",
       "    </tr>\n",
       "    <tr>\n",
       "      <th>9996</th>\n",
       "      <td>516</td>\n",
       "      <td>France</td>\n",
       "      <td>Male</td>\n",
       "      <td>35</td>\n",
       "      <td>10.00000</td>\n",
       "      <td>57369.61</td>\n",
       "      <td>1</td>\n",
       "      <td>1</td>\n",
       "      <td>1</td>\n",
       "      <td>101699.77</td>\n",
       "      <td>0</td>\n",
       "      <td>0</td>\n",
       "      <td>0</td>\n",
       "    </tr>\n",
       "    <tr>\n",
       "      <th>9997</th>\n",
       "      <td>709</td>\n",
       "      <td>France</td>\n",
       "      <td>Female</td>\n",
       "      <td>36</td>\n",
       "      <td>7.00000</td>\n",
       "      <td>0.00</td>\n",
       "      <td>1</td>\n",
       "      <td>0</td>\n",
       "      <td>1</td>\n",
       "      <td>42085.58</td>\n",
       "      <td>1</td>\n",
       "      <td>0</td>\n",
       "      <td>0</td>\n",
       "    </tr>\n",
       "    <tr>\n",
       "      <th>9998</th>\n",
       "      <td>772</td>\n",
       "      <td>Germany</td>\n",
       "      <td>Male</td>\n",
       "      <td>42</td>\n",
       "      <td>3.00000</td>\n",
       "      <td>75075.31</td>\n",
       "      <td>2</td>\n",
       "      <td>1</td>\n",
       "      <td>0</td>\n",
       "      <td>92888.52</td>\n",
       "      <td>1</td>\n",
       "      <td>1</td>\n",
       "      <td>0</td>\n",
       "    </tr>\n",
       "    <tr>\n",
       "      <th>9999</th>\n",
       "      <td>792</td>\n",
       "      <td>France</td>\n",
       "      <td>Female</td>\n",
       "      <td>28</td>\n",
       "      <td>4.99769</td>\n",
       "      <td>130142.79</td>\n",
       "      <td>1</td>\n",
       "      <td>1</td>\n",
       "      <td>0</td>\n",
       "      <td>38190.78</td>\n",
       "      <td>0</td>\n",
       "      <td>0</td>\n",
       "      <td>0</td>\n",
       "    </tr>\n",
       "  </tbody>\n",
       "</table>\n",
       "<p>10000 rows × 13 columns</p>\n",
       "</div>"
      ],
      "text/plain": [
       "      CreditScore Geography  Gender  Age    Tenure    Balance  NumOfProducts  \\\n",
       "0             619    France  Female   42   2.00000       0.00              1   \n",
       "1             608     Spain  Female   41   1.00000   83807.86              1   \n",
       "2             502    France  Female   42   8.00000  159660.80              3   \n",
       "3             699    France  Female   39   1.00000       0.00              2   \n",
       "4             850     Spain  Female   43   2.00000  125510.82              1   \n",
       "...           ...       ...     ...  ...       ...        ...            ...   \n",
       "9995          771    France    Male   39   5.00000       0.00              2   \n",
       "9996          516    France    Male   35  10.00000   57369.61              1   \n",
       "9997          709    France  Female   36   7.00000       0.00              1   \n",
       "9998          772   Germany    Male   42   3.00000   75075.31              2   \n",
       "9999          792    France  Female   28   4.99769  130142.79              1   \n",
       "\n",
       "      HasCrCard  IsActiveMember  EstimatedSalary  Exited  Germany  Spain  \n",
       "0             1               1        101348.88       1        0      0  \n",
       "1             0               1        112542.58       0        0      1  \n",
       "2             1               0        113931.57       1        0      0  \n",
       "3             0               0         93826.63       0        0      0  \n",
       "4             1               1         79084.10       0        0      1  \n",
       "...         ...             ...              ...     ...      ...    ...  \n",
       "9995          1               0         96270.64       0        0      0  \n",
       "9996          1               1        101699.77       0        0      0  \n",
       "9997          0               1         42085.58       1        0      0  \n",
       "9998          1               0         92888.52       1        1      0  \n",
       "9999          1               0         38190.78       0        0      0  \n",
       "\n",
       "[10000 rows x 13 columns]"
      ]
     },
     "execution_count": 14,
     "metadata": {},
     "output_type": "execute_result"
    }
   ],
   "source": [
    "# Use One-Hot Encoding on the 'Geography' column to create separate columns for each feature value\n",
    "geography_dummy = pd.get_dummies(customers['Geography'], drop_first = True)\n",
    "customers = pd.concat([customers, geography_dummy], axis=1)\n",
    "customers\n"
   ]
  },
  {
   "cell_type": "code",
   "execution_count": 15,
   "metadata": {},
   "outputs": [
    {
     "data": {
      "text/html": [
       "<div>\n",
       "<style scoped>\n",
       "    .dataframe tbody tr th:only-of-type {\n",
       "        vertical-align: middle;\n",
       "    }\n",
       "\n",
       "    .dataframe tbody tr th {\n",
       "        vertical-align: top;\n",
       "    }\n",
       "\n",
       "    .dataframe thead th {\n",
       "        text-align: right;\n",
       "    }\n",
       "</style>\n",
       "<table border=\"1\" class=\"dataframe\">\n",
       "  <thead>\n",
       "    <tr style=\"text-align: right;\">\n",
       "      <th></th>\n",
       "      <th>CreditScore</th>\n",
       "      <th>Geography</th>\n",
       "      <th>Gender</th>\n",
       "      <th>Age</th>\n",
       "      <th>Tenure</th>\n",
       "      <th>Balance</th>\n",
       "      <th>NumOfProducts</th>\n",
       "      <th>HasCrCard</th>\n",
       "      <th>IsActiveMember</th>\n",
       "      <th>EstimatedSalary</th>\n",
       "      <th>Exited</th>\n",
       "      <th>Germany</th>\n",
       "      <th>Spain</th>\n",
       "      <th>Male</th>\n",
       "    </tr>\n",
       "  </thead>\n",
       "  <tbody>\n",
       "    <tr>\n",
       "      <th>0</th>\n",
       "      <td>619</td>\n",
       "      <td>France</td>\n",
       "      <td>Female</td>\n",
       "      <td>42</td>\n",
       "      <td>2.00000</td>\n",
       "      <td>0.00</td>\n",
       "      <td>1</td>\n",
       "      <td>1</td>\n",
       "      <td>1</td>\n",
       "      <td>101348.88</td>\n",
       "      <td>1</td>\n",
       "      <td>0</td>\n",
       "      <td>0</td>\n",
       "      <td>0</td>\n",
       "    </tr>\n",
       "    <tr>\n",
       "      <th>1</th>\n",
       "      <td>608</td>\n",
       "      <td>Spain</td>\n",
       "      <td>Female</td>\n",
       "      <td>41</td>\n",
       "      <td>1.00000</td>\n",
       "      <td>83807.86</td>\n",
       "      <td>1</td>\n",
       "      <td>0</td>\n",
       "      <td>1</td>\n",
       "      <td>112542.58</td>\n",
       "      <td>0</td>\n",
       "      <td>0</td>\n",
       "      <td>1</td>\n",
       "      <td>0</td>\n",
       "    </tr>\n",
       "    <tr>\n",
       "      <th>2</th>\n",
       "      <td>502</td>\n",
       "      <td>France</td>\n",
       "      <td>Female</td>\n",
       "      <td>42</td>\n",
       "      <td>8.00000</td>\n",
       "      <td>159660.80</td>\n",
       "      <td>3</td>\n",
       "      <td>1</td>\n",
       "      <td>0</td>\n",
       "      <td>113931.57</td>\n",
       "      <td>1</td>\n",
       "      <td>0</td>\n",
       "      <td>0</td>\n",
       "      <td>0</td>\n",
       "    </tr>\n",
       "    <tr>\n",
       "      <th>3</th>\n",
       "      <td>699</td>\n",
       "      <td>France</td>\n",
       "      <td>Female</td>\n",
       "      <td>39</td>\n",
       "      <td>1.00000</td>\n",
       "      <td>0.00</td>\n",
       "      <td>2</td>\n",
       "      <td>0</td>\n",
       "      <td>0</td>\n",
       "      <td>93826.63</td>\n",
       "      <td>0</td>\n",
       "      <td>0</td>\n",
       "      <td>0</td>\n",
       "      <td>0</td>\n",
       "    </tr>\n",
       "    <tr>\n",
       "      <th>4</th>\n",
       "      <td>850</td>\n",
       "      <td>Spain</td>\n",
       "      <td>Female</td>\n",
       "      <td>43</td>\n",
       "      <td>2.00000</td>\n",
       "      <td>125510.82</td>\n",
       "      <td>1</td>\n",
       "      <td>1</td>\n",
       "      <td>1</td>\n",
       "      <td>79084.10</td>\n",
       "      <td>0</td>\n",
       "      <td>0</td>\n",
       "      <td>1</td>\n",
       "      <td>0</td>\n",
       "    </tr>\n",
       "    <tr>\n",
       "      <th>...</th>\n",
       "      <td>...</td>\n",
       "      <td>...</td>\n",
       "      <td>...</td>\n",
       "      <td>...</td>\n",
       "      <td>...</td>\n",
       "      <td>...</td>\n",
       "      <td>...</td>\n",
       "      <td>...</td>\n",
       "      <td>...</td>\n",
       "      <td>...</td>\n",
       "      <td>...</td>\n",
       "      <td>...</td>\n",
       "      <td>...</td>\n",
       "      <td>...</td>\n",
       "    </tr>\n",
       "    <tr>\n",
       "      <th>9995</th>\n",
       "      <td>771</td>\n",
       "      <td>France</td>\n",
       "      <td>Male</td>\n",
       "      <td>39</td>\n",
       "      <td>5.00000</td>\n",
       "      <td>0.00</td>\n",
       "      <td>2</td>\n",
       "      <td>1</td>\n",
       "      <td>0</td>\n",
       "      <td>96270.64</td>\n",
       "      <td>0</td>\n",
       "      <td>0</td>\n",
       "      <td>0</td>\n",
       "      <td>1</td>\n",
       "    </tr>\n",
       "    <tr>\n",
       "      <th>9996</th>\n",
       "      <td>516</td>\n",
       "      <td>France</td>\n",
       "      <td>Male</td>\n",
       "      <td>35</td>\n",
       "      <td>10.00000</td>\n",
       "      <td>57369.61</td>\n",
       "      <td>1</td>\n",
       "      <td>1</td>\n",
       "      <td>1</td>\n",
       "      <td>101699.77</td>\n",
       "      <td>0</td>\n",
       "      <td>0</td>\n",
       "      <td>0</td>\n",
       "      <td>1</td>\n",
       "    </tr>\n",
       "    <tr>\n",
       "      <th>9997</th>\n",
       "      <td>709</td>\n",
       "      <td>France</td>\n",
       "      <td>Female</td>\n",
       "      <td>36</td>\n",
       "      <td>7.00000</td>\n",
       "      <td>0.00</td>\n",
       "      <td>1</td>\n",
       "      <td>0</td>\n",
       "      <td>1</td>\n",
       "      <td>42085.58</td>\n",
       "      <td>1</td>\n",
       "      <td>0</td>\n",
       "      <td>0</td>\n",
       "      <td>0</td>\n",
       "    </tr>\n",
       "    <tr>\n",
       "      <th>9998</th>\n",
       "      <td>772</td>\n",
       "      <td>Germany</td>\n",
       "      <td>Male</td>\n",
       "      <td>42</td>\n",
       "      <td>3.00000</td>\n",
       "      <td>75075.31</td>\n",
       "      <td>2</td>\n",
       "      <td>1</td>\n",
       "      <td>0</td>\n",
       "      <td>92888.52</td>\n",
       "      <td>1</td>\n",
       "      <td>1</td>\n",
       "      <td>0</td>\n",
       "      <td>1</td>\n",
       "    </tr>\n",
       "    <tr>\n",
       "      <th>9999</th>\n",
       "      <td>792</td>\n",
       "      <td>France</td>\n",
       "      <td>Female</td>\n",
       "      <td>28</td>\n",
       "      <td>4.99769</td>\n",
       "      <td>130142.79</td>\n",
       "      <td>1</td>\n",
       "      <td>1</td>\n",
       "      <td>0</td>\n",
       "      <td>38190.78</td>\n",
       "      <td>0</td>\n",
       "      <td>0</td>\n",
       "      <td>0</td>\n",
       "      <td>0</td>\n",
       "    </tr>\n",
       "  </tbody>\n",
       "</table>\n",
       "<p>10000 rows × 14 columns</p>\n",
       "</div>"
      ],
      "text/plain": [
       "      CreditScore Geography  Gender  Age    Tenure    Balance  NumOfProducts  \\\n",
       "0             619    France  Female   42   2.00000       0.00              1   \n",
       "1             608     Spain  Female   41   1.00000   83807.86              1   \n",
       "2             502    France  Female   42   8.00000  159660.80              3   \n",
       "3             699    France  Female   39   1.00000       0.00              2   \n",
       "4             850     Spain  Female   43   2.00000  125510.82              1   \n",
       "...           ...       ...     ...  ...       ...        ...            ...   \n",
       "9995          771    France    Male   39   5.00000       0.00              2   \n",
       "9996          516    France    Male   35  10.00000   57369.61              1   \n",
       "9997          709    France  Female   36   7.00000       0.00              1   \n",
       "9998          772   Germany    Male   42   3.00000   75075.31              2   \n",
       "9999          792    France  Female   28   4.99769  130142.79              1   \n",
       "\n",
       "      HasCrCard  IsActiveMember  EstimatedSalary  Exited  Germany  Spain  Male  \n",
       "0             1               1        101348.88       1        0      0     0  \n",
       "1             0               1        112542.58       0        0      1     0  \n",
       "2             1               0        113931.57       1        0      0     0  \n",
       "3             0               0         93826.63       0        0      0     0  \n",
       "4             1               1         79084.10       0        0      1     0  \n",
       "...         ...             ...              ...     ...      ...    ...   ...  \n",
       "9995          1               0         96270.64       0        0      0     1  \n",
       "9996          1               1        101699.77       0        0      0     1  \n",
       "9997          0               1         42085.58       1        0      0     0  \n",
       "9998          1               0         92888.52       1        1      0     1  \n",
       "9999          1               0         38190.78       0        0      0     0  \n",
       "\n",
       "[10000 rows x 14 columns]"
      ]
     },
     "execution_count": 15,
     "metadata": {},
     "output_type": "execute_result"
    }
   ],
   "source": [
    "# Use One-Hot Encoding on the 'Gender' column to create separate columns for each feature value\n",
    "gender_dummy = pd.get_dummies(customers['Gender'], drop_first = True)\n",
    "customers = pd.concat([customers, gender_dummy], axis=1)\n",
    "customers\n"
   ]
  },
  {
   "cell_type": "code",
   "execution_count": 16,
   "metadata": {},
   "outputs": [
    {
     "data": {
      "text/html": [
       "<div>\n",
       "<style scoped>\n",
       "    .dataframe tbody tr th:only-of-type {\n",
       "        vertical-align: middle;\n",
       "    }\n",
       "\n",
       "    .dataframe tbody tr th {\n",
       "        vertical-align: top;\n",
       "    }\n",
       "\n",
       "    .dataframe thead th {\n",
       "        text-align: right;\n",
       "    }\n",
       "</style>\n",
       "<table border=\"1\" class=\"dataframe\">\n",
       "  <thead>\n",
       "    <tr style=\"text-align: right;\">\n",
       "      <th></th>\n",
       "      <th>CreditScore</th>\n",
       "      <th>Age</th>\n",
       "      <th>Tenure</th>\n",
       "      <th>Balance</th>\n",
       "      <th>NumOfProducts</th>\n",
       "      <th>HasCrCard</th>\n",
       "      <th>IsActiveMember</th>\n",
       "      <th>EstimatedSalary</th>\n",
       "      <th>Exited</th>\n",
       "      <th>Germany</th>\n",
       "      <th>Spain</th>\n",
       "      <th>Male</th>\n",
       "    </tr>\n",
       "  </thead>\n",
       "  <tbody>\n",
       "    <tr>\n",
       "      <th>0</th>\n",
       "      <td>619</td>\n",
       "      <td>42</td>\n",
       "      <td>2.00000</td>\n",
       "      <td>0.00</td>\n",
       "      <td>1</td>\n",
       "      <td>1</td>\n",
       "      <td>1</td>\n",
       "      <td>101348.88</td>\n",
       "      <td>1</td>\n",
       "      <td>0</td>\n",
       "      <td>0</td>\n",
       "      <td>0</td>\n",
       "    </tr>\n",
       "    <tr>\n",
       "      <th>1</th>\n",
       "      <td>608</td>\n",
       "      <td>41</td>\n",
       "      <td>1.00000</td>\n",
       "      <td>83807.86</td>\n",
       "      <td>1</td>\n",
       "      <td>0</td>\n",
       "      <td>1</td>\n",
       "      <td>112542.58</td>\n",
       "      <td>0</td>\n",
       "      <td>0</td>\n",
       "      <td>1</td>\n",
       "      <td>0</td>\n",
       "    </tr>\n",
       "    <tr>\n",
       "      <th>2</th>\n",
       "      <td>502</td>\n",
       "      <td>42</td>\n",
       "      <td>8.00000</td>\n",
       "      <td>159660.80</td>\n",
       "      <td>3</td>\n",
       "      <td>1</td>\n",
       "      <td>0</td>\n",
       "      <td>113931.57</td>\n",
       "      <td>1</td>\n",
       "      <td>0</td>\n",
       "      <td>0</td>\n",
       "      <td>0</td>\n",
       "    </tr>\n",
       "    <tr>\n",
       "      <th>3</th>\n",
       "      <td>699</td>\n",
       "      <td>39</td>\n",
       "      <td>1.00000</td>\n",
       "      <td>0.00</td>\n",
       "      <td>2</td>\n",
       "      <td>0</td>\n",
       "      <td>0</td>\n",
       "      <td>93826.63</td>\n",
       "      <td>0</td>\n",
       "      <td>0</td>\n",
       "      <td>0</td>\n",
       "      <td>0</td>\n",
       "    </tr>\n",
       "    <tr>\n",
       "      <th>4</th>\n",
       "      <td>850</td>\n",
       "      <td>43</td>\n",
       "      <td>2.00000</td>\n",
       "      <td>125510.82</td>\n",
       "      <td>1</td>\n",
       "      <td>1</td>\n",
       "      <td>1</td>\n",
       "      <td>79084.10</td>\n",
       "      <td>0</td>\n",
       "      <td>0</td>\n",
       "      <td>1</td>\n",
       "      <td>0</td>\n",
       "    </tr>\n",
       "    <tr>\n",
       "      <th>...</th>\n",
       "      <td>...</td>\n",
       "      <td>...</td>\n",
       "      <td>...</td>\n",
       "      <td>...</td>\n",
       "      <td>...</td>\n",
       "      <td>...</td>\n",
       "      <td>...</td>\n",
       "      <td>...</td>\n",
       "      <td>...</td>\n",
       "      <td>...</td>\n",
       "      <td>...</td>\n",
       "      <td>...</td>\n",
       "    </tr>\n",
       "    <tr>\n",
       "      <th>9995</th>\n",
       "      <td>771</td>\n",
       "      <td>39</td>\n",
       "      <td>5.00000</td>\n",
       "      <td>0.00</td>\n",
       "      <td>2</td>\n",
       "      <td>1</td>\n",
       "      <td>0</td>\n",
       "      <td>96270.64</td>\n",
       "      <td>0</td>\n",
       "      <td>0</td>\n",
       "      <td>0</td>\n",
       "      <td>1</td>\n",
       "    </tr>\n",
       "    <tr>\n",
       "      <th>9996</th>\n",
       "      <td>516</td>\n",
       "      <td>35</td>\n",
       "      <td>10.00000</td>\n",
       "      <td>57369.61</td>\n",
       "      <td>1</td>\n",
       "      <td>1</td>\n",
       "      <td>1</td>\n",
       "      <td>101699.77</td>\n",
       "      <td>0</td>\n",
       "      <td>0</td>\n",
       "      <td>0</td>\n",
       "      <td>1</td>\n",
       "    </tr>\n",
       "    <tr>\n",
       "      <th>9997</th>\n",
       "      <td>709</td>\n",
       "      <td>36</td>\n",
       "      <td>7.00000</td>\n",
       "      <td>0.00</td>\n",
       "      <td>1</td>\n",
       "      <td>0</td>\n",
       "      <td>1</td>\n",
       "      <td>42085.58</td>\n",
       "      <td>1</td>\n",
       "      <td>0</td>\n",
       "      <td>0</td>\n",
       "      <td>0</td>\n",
       "    </tr>\n",
       "    <tr>\n",
       "      <th>9998</th>\n",
       "      <td>772</td>\n",
       "      <td>42</td>\n",
       "      <td>3.00000</td>\n",
       "      <td>75075.31</td>\n",
       "      <td>2</td>\n",
       "      <td>1</td>\n",
       "      <td>0</td>\n",
       "      <td>92888.52</td>\n",
       "      <td>1</td>\n",
       "      <td>1</td>\n",
       "      <td>0</td>\n",
       "      <td>1</td>\n",
       "    </tr>\n",
       "    <tr>\n",
       "      <th>9999</th>\n",
       "      <td>792</td>\n",
       "      <td>28</td>\n",
       "      <td>4.99769</td>\n",
       "      <td>130142.79</td>\n",
       "      <td>1</td>\n",
       "      <td>1</td>\n",
       "      <td>0</td>\n",
       "      <td>38190.78</td>\n",
       "      <td>0</td>\n",
       "      <td>0</td>\n",
       "      <td>0</td>\n",
       "      <td>0</td>\n",
       "    </tr>\n",
       "  </tbody>\n",
       "</table>\n",
       "<p>10000 rows × 12 columns</p>\n",
       "</div>"
      ],
      "text/plain": [
       "      CreditScore  Age    Tenure    Balance  NumOfProducts  HasCrCard  \\\n",
       "0             619   42   2.00000       0.00              1          1   \n",
       "1             608   41   1.00000   83807.86              1          0   \n",
       "2             502   42   8.00000  159660.80              3          1   \n",
       "3             699   39   1.00000       0.00              2          0   \n",
       "4             850   43   2.00000  125510.82              1          1   \n",
       "...           ...  ...       ...        ...            ...        ...   \n",
       "9995          771   39   5.00000       0.00              2          1   \n",
       "9996          516   35  10.00000   57369.61              1          1   \n",
       "9997          709   36   7.00000       0.00              1          0   \n",
       "9998          772   42   3.00000   75075.31              2          1   \n",
       "9999          792   28   4.99769  130142.79              1          1   \n",
       "\n",
       "      IsActiveMember  EstimatedSalary  Exited  Germany  Spain  Male  \n",
       "0                  1        101348.88       1        0      0     0  \n",
       "1                  1        112542.58       0        0      1     0  \n",
       "2                  0        113931.57       1        0      0     0  \n",
       "3                  0         93826.63       0        0      0     0  \n",
       "4                  1         79084.10       0        0      1     0  \n",
       "...              ...              ...     ...      ...    ...   ...  \n",
       "9995               0         96270.64       0        0      0     1  \n",
       "9996               1        101699.77       0        0      0     1  \n",
       "9997               1         42085.58       1        0      0     0  \n",
       "9998               0         92888.52       1        1      0     1  \n",
       "9999               0         38190.78       0        0      0     0  \n",
       "\n",
       "[10000 rows x 12 columns]"
      ]
     },
     "execution_count": 16,
     "metadata": {},
     "output_type": "execute_result"
    }
   ],
   "source": [
    "# Drop the original 'Geography' and 'Gender' features\n",
    "customers = customers.drop(['Geography', 'Gender'], axis = 1)\n",
    "customers\n"
   ]
  },
  {
   "cell_type": "markdown",
   "metadata": {},
   "source": [
    "The following changes were made through the data cleaning process to address the issues identified in the data exploration process:\n",
    "\n",
    "1) The features that have no relation to the target ('RowNumber', 'CustomerId', and 'Surname') were dropped\n",
    "\n",
    "2) The missing values in the 'Tenure' feature were filled with the mean value\n",
    "\n",
    "3) The 'Geography' and 'Gender' features were One-Hot Encoded into separate columns\n",
    "\n",
    "4) The imbalanced 'Exited' target is addressed using class balancing techniques below\n",
    "\n",
    "5) The remaining numeric features are normalized below"
   ]
  },
  {
   "cell_type": "markdown",
   "metadata": {},
   "source": [
    "# Examine the Balance of Classes"
   ]
  },
  {
   "cell_type": "code",
   "execution_count": 17,
   "metadata": {},
   "outputs": [],
   "source": [
    "# Split the data into a training, validation, and test set\n",
    "features = customers.drop(['Exited'], axis=1) # The features consists of all the columns except 'Exited'\n",
    "target = customers['Exited'] # The target is the 'Exited' column\n",
    "\n",
    "# Use train_test_split to create the training set (60% of the data) and the remaining data\n",
    "features_train, features_rem, target_train, target_rem = train_test_split(features,\n",
    "                                                                          target,\n",
    "                                                                          train_size = 0.6,\n",
    "                                                                          random_state = 12345)\n",
    "\n",
    "# Use train_test_split to split the remaining data into the validation and test set (20% of the data each)\n",
    "features_valid, features_test, target_valid, target_test = train_test_split(features_rem,\n",
    "                                                                            target_rem,\n",
    "                                                                            test_size = 0.5,\n",
    "                                                                            random_state = 12345)\n"
   ]
  },
  {
   "cell_type": "code",
   "execution_count": 19,
   "metadata": {},
   "outputs": [
    {
     "name": "stderr",
     "output_type": "stream",
     "text": [
      "/tmp/ipykernel_253/1111049819.py:6: SettingWithCopyWarning: \n",
      "A value is trying to be set on a copy of a slice from a DataFrame.\n",
      "Try using .loc[row_indexer,col_indexer] = value instead\n",
      "\n",
      "See the caveats in the documentation: https://pandas.pydata.org/pandas-docs/stable/user_guide/indexing.html#returning-a-view-versus-a-copy\n",
      "  features_train[numeric] = scaler.transform(features_train[numeric])\n",
      "/opt/conda/lib/python3.9/site-packages/pandas/core/indexing.py:1738: SettingWithCopyWarning: \n",
      "A value is trying to be set on a copy of a slice from a DataFrame.\n",
      "Try using .loc[row_indexer,col_indexer] = value instead\n",
      "\n",
      "See the caveats in the documentation: https://pandas.pydata.org/pandas-docs/stable/user_guide/indexing.html#returning-a-view-versus-a-copy\n",
      "  self._setitem_single_column(loc, value[:, i].tolist(), pi)\n",
      "/tmp/ipykernel_253/1111049819.py:7: SettingWithCopyWarning: \n",
      "A value is trying to be set on a copy of a slice from a DataFrame.\n",
      "Try using .loc[row_indexer,col_indexer] = value instead\n",
      "\n",
      "See the caveats in the documentation: https://pandas.pydata.org/pandas-docs/stable/user_guide/indexing.html#returning-a-view-versus-a-copy\n",
      "  features_valid[numeric] = scaler.transform(features_valid[numeric])\n",
      "/opt/conda/lib/python3.9/site-packages/pandas/core/indexing.py:1738: SettingWithCopyWarning: \n",
      "A value is trying to be set on a copy of a slice from a DataFrame.\n",
      "Try using .loc[row_indexer,col_indexer] = value instead\n",
      "\n",
      "See the caveats in the documentation: https://pandas.pydata.org/pandas-docs/stable/user_guide/indexing.html#returning-a-view-versus-a-copy\n",
      "  self._setitem_single_column(loc, value[:, i].tolist(), pi)\n",
      "/tmp/ipykernel_253/1111049819.py:8: SettingWithCopyWarning: \n",
      "A value is trying to be set on a copy of a slice from a DataFrame.\n",
      "Try using .loc[row_indexer,col_indexer] = value instead\n",
      "\n",
      "See the caveats in the documentation: https://pandas.pydata.org/pandas-docs/stable/user_guide/indexing.html#returning-a-view-versus-a-copy\n",
      "  features_test[numeric] = scaler.transform(features_test[numeric])\n",
      "/opt/conda/lib/python3.9/site-packages/pandas/core/indexing.py:1738: SettingWithCopyWarning: \n",
      "A value is trying to be set on a copy of a slice from a DataFrame.\n",
      "Try using .loc[row_indexer,col_indexer] = value instead\n",
      "\n",
      "See the caveats in the documentation: https://pandas.pydata.org/pandas-docs/stable/user_guide/indexing.html#returning-a-view-versus-a-copy\n",
      "  self._setitem_single_column(loc, value[:, i].tolist(), pi)\n"
     ]
    },
    {
     "data": {
      "text/html": [
       "<div>\n",
       "<style scoped>\n",
       "    .dataframe tbody tr th:only-of-type {\n",
       "        vertical-align: middle;\n",
       "    }\n",
       "\n",
       "    .dataframe tbody tr th {\n",
       "        vertical-align: top;\n",
       "    }\n",
       "\n",
       "    .dataframe thead th {\n",
       "        text-align: right;\n",
       "    }\n",
       "</style>\n",
       "<table border=\"1\" class=\"dataframe\">\n",
       "  <thead>\n",
       "    <tr style=\"text-align: right;\">\n",
       "      <th></th>\n",
       "      <th>CreditScore</th>\n",
       "      <th>Age</th>\n",
       "      <th>Tenure</th>\n",
       "      <th>Balance</th>\n",
       "      <th>NumOfProducts</th>\n",
       "      <th>HasCrCard</th>\n",
       "      <th>IsActiveMember</th>\n",
       "      <th>EstimatedSalary</th>\n",
       "      <th>Germany</th>\n",
       "      <th>Spain</th>\n",
       "      <th>Male</th>\n",
       "    </tr>\n",
       "  </thead>\n",
       "  <tbody>\n",
       "    <tr>\n",
       "      <th>7041</th>\n",
       "      <td>-2.226392</td>\n",
       "      <td>-0.088482</td>\n",
       "      <td>-1.101612</td>\n",
       "      <td>-1.233163</td>\n",
       "      <td>0.830152</td>\n",
       "      <td>1</td>\n",
       "      <td>0</td>\n",
       "      <td>0.647083</td>\n",
       "      <td>0</td>\n",
       "      <td>0</td>\n",
       "      <td>1</td>\n",
       "    </tr>\n",
       "    <tr>\n",
       "      <th>5709</th>\n",
       "      <td>-0.087120</td>\n",
       "      <td>0.006422</td>\n",
       "      <td>1.446348</td>\n",
       "      <td>-1.233163</td>\n",
       "      <td>-0.891560</td>\n",
       "      <td>1</td>\n",
       "      <td>0</td>\n",
       "      <td>-1.658410</td>\n",
       "      <td>0</td>\n",
       "      <td>0</td>\n",
       "      <td>0</td>\n",
       "    </tr>\n",
       "    <tr>\n",
       "      <th>7117</th>\n",
       "      <td>-0.917905</td>\n",
       "      <td>-0.752805</td>\n",
       "      <td>-0.009629</td>\n",
       "      <td>0.722307</td>\n",
       "      <td>-0.891560</td>\n",
       "      <td>1</td>\n",
       "      <td>1</td>\n",
       "      <td>-1.369334</td>\n",
       "      <td>0</td>\n",
       "      <td>1</td>\n",
       "      <td>1</td>\n",
       "    </tr>\n",
       "    <tr>\n",
       "      <th>7775</th>\n",
       "      <td>-0.253277</td>\n",
       "      <td>0.101325</td>\n",
       "      <td>1.810342</td>\n",
       "      <td>-1.233163</td>\n",
       "      <td>0.830152</td>\n",
       "      <td>1</td>\n",
       "      <td>0</td>\n",
       "      <td>0.075086</td>\n",
       "      <td>0</td>\n",
       "      <td>1</td>\n",
       "      <td>1</td>\n",
       "    </tr>\n",
       "    <tr>\n",
       "      <th>8735</th>\n",
       "      <td>0.785204</td>\n",
       "      <td>-0.847708</td>\n",
       "      <td>1.810342</td>\n",
       "      <td>0.615625</td>\n",
       "      <td>-0.891560</td>\n",
       "      <td>0</td>\n",
       "      <td>1</td>\n",
       "      <td>-1.070919</td>\n",
       "      <td>0</td>\n",
       "      <td>0</td>\n",
       "      <td>1</td>\n",
       "    </tr>\n",
       "    <tr>\n",
       "      <th>...</th>\n",
       "      <td>...</td>\n",
       "      <td>...</td>\n",
       "      <td>...</td>\n",
       "      <td>...</td>\n",
       "      <td>...</td>\n",
       "      <td>...</td>\n",
       "      <td>...</td>\n",
       "      <td>...</td>\n",
       "      <td>...</td>\n",
       "      <td>...</td>\n",
       "      <td>...</td>\n",
       "    </tr>\n",
       "    <tr>\n",
       "      <th>9335</th>\n",
       "      <td>0.878668</td>\n",
       "      <td>1.050359</td>\n",
       "      <td>-0.373623</td>\n",
       "      <td>0.820368</td>\n",
       "      <td>0.830152</td>\n",
       "      <td>1</td>\n",
       "      <td>0</td>\n",
       "      <td>-1.650024</td>\n",
       "      <td>1</td>\n",
       "      <td>0</td>\n",
       "      <td>1</td>\n",
       "    </tr>\n",
       "    <tr>\n",
       "      <th>7999</th>\n",
       "      <td>1.802916</td>\n",
       "      <td>-1.227322</td>\n",
       "      <td>-0.009629</td>\n",
       "      <td>1.063628</td>\n",
       "      <td>-0.891560</td>\n",
       "      <td>0</td>\n",
       "      <td>0</td>\n",
       "      <td>-0.679113</td>\n",
       "      <td>0</td>\n",
       "      <td>0</td>\n",
       "      <td>1</td>\n",
       "    </tr>\n",
       "    <tr>\n",
       "      <th>6139</th>\n",
       "      <td>-0.004041</td>\n",
       "      <td>-0.183385</td>\n",
       "      <td>-0.373623</td>\n",
       "      <td>-1.233163</td>\n",
       "      <td>0.830152</td>\n",
       "      <td>1</td>\n",
       "      <td>0</td>\n",
       "      <td>0.760240</td>\n",
       "      <td>0</td>\n",
       "      <td>0</td>\n",
       "      <td>0</td>\n",
       "    </tr>\n",
       "    <tr>\n",
       "      <th>9473</th>\n",
       "      <td>-0.460973</td>\n",
       "      <td>0.575842</td>\n",
       "      <td>-0.373623</td>\n",
       "      <td>-1.233163</td>\n",
       "      <td>0.830152</td>\n",
       "      <td>0</td>\n",
       "      <td>0</td>\n",
       "      <td>-1.087632</td>\n",
       "      <td>0</td>\n",
       "      <td>1</td>\n",
       "      <td>1</td>\n",
       "    </tr>\n",
       "    <tr>\n",
       "      <th>3366</th>\n",
       "      <td>-0.128659</td>\n",
       "      <td>3.328040</td>\n",
       "      <td>-1.101612</td>\n",
       "      <td>0.647257</td>\n",
       "      <td>-0.891560</td>\n",
       "      <td>1</td>\n",
       "      <td>1</td>\n",
       "      <td>-1.132091</td>\n",
       "      <td>1</td>\n",
       "      <td>0</td>\n",
       "      <td>0</td>\n",
       "    </tr>\n",
       "  </tbody>\n",
       "</table>\n",
       "<p>2000 rows × 11 columns</p>\n",
       "</div>"
      ],
      "text/plain": [
       "      CreditScore       Age    Tenure   Balance  NumOfProducts  HasCrCard  \\\n",
       "7041    -2.226392 -0.088482 -1.101612 -1.233163       0.830152          1   \n",
       "5709    -0.087120  0.006422  1.446348 -1.233163      -0.891560          1   \n",
       "7117    -0.917905 -0.752805 -0.009629  0.722307      -0.891560          1   \n",
       "7775    -0.253277  0.101325  1.810342 -1.233163       0.830152          1   \n",
       "8735     0.785204 -0.847708  1.810342  0.615625      -0.891560          0   \n",
       "...           ...       ...       ...       ...            ...        ...   \n",
       "9335     0.878668  1.050359 -0.373623  0.820368       0.830152          1   \n",
       "7999     1.802916 -1.227322 -0.009629  1.063628      -0.891560          0   \n",
       "6139    -0.004041 -0.183385 -0.373623 -1.233163       0.830152          1   \n",
       "9473    -0.460973  0.575842 -0.373623 -1.233163       0.830152          0   \n",
       "3366    -0.128659  3.328040 -1.101612  0.647257      -0.891560          1   \n",
       "\n",
       "      IsActiveMember  EstimatedSalary  Germany  Spain  Male  \n",
       "7041               0         0.647083        0      0     1  \n",
       "5709               0        -1.658410        0      0     0  \n",
       "7117               1        -1.369334        0      1     1  \n",
       "7775               0         0.075086        0      1     1  \n",
       "8735               1        -1.070919        0      0     1  \n",
       "...              ...              ...      ...    ...   ...  \n",
       "9335               0        -1.650024        1      0     1  \n",
       "7999               0        -0.679113        0      0     1  \n",
       "6139               0         0.760240        0      0     0  \n",
       "9473               0        -1.087632        0      1     1  \n",
       "3366               1        -1.132091        1      0     0  \n",
       "\n",
       "[2000 rows x 11 columns]"
      ]
     },
     "execution_count": 19,
     "metadata": {},
     "output_type": "execute_result"
    }
   ],
   "source": [
    "# Normalize the numeric features to ensure that the data is normalized\n",
    "numeric = ['CreditScore', 'Age', 'Tenure', 'Balance', 'NumOfProducts', 'EstimatedSalary']\n",
    "\n",
    "scaler = StandardScaler()\n",
    "scaler.fit(features_train[numeric])\n",
    "features_train[numeric] = scaler.transform(features_train[numeric])\n",
    "features_valid[numeric] = scaler.transform(features_valid[numeric])\n",
    "features_test[numeric] = scaler.transform(features_test[numeric])\n",
    "\n",
    "features_test\n"
   ]
  },
  {
   "cell_type": "code",
   "execution_count": 16,
   "metadata": {},
   "outputs": [
    {
     "name": "stdout",
     "output_type": "stream",
     "text": [
      "Accuracy of the best model on the validation set: 0.5706293706293706\n",
      "Accuracy of the best model on the test set: 0.8275\n",
      "F1 score of the best model on the validation set: 0.5706293706293706\n",
      "F1 score of the best model on the test set: 0.5293315143246929\n"
     ]
    }
   ],
   "source": [
    "# Train the Decision Tree Classifier model without taking into consideration the imbalance of classes\n",
    "\n",
    "# Create a for loop to tune the model's max depth and identify the depth that produces the highest F1 score\n",
    "best_model = None\n",
    "best_score = 0\n",
    "\n",
    "for depth in range(1, 11):\n",
    "    model = DecisionTreeClassifier(random_state = 12345, max_depth = depth) # create a model with the given depth\n",
    "    model.fit(features_train, target_train) # train the model using the training set\n",
    "    score = f1_score(target_valid, model.predict(features_valid)) # calculate the F1 score using the validation set\n",
    "    if score > best_score: # identify the best model based on F1 score\n",
    "        best_model = model\n",
    "        best_score = score\n",
    "        \n",
    "print(\"Accuracy of the best model on the validation set:\", best_score) # calculate best model's F1 score using the validation set\n",
    "\n",
    "best_model.fit(features_train, target_train) # train the best model using the training set\n",
    "final_score = best_model.score(features_test, target_test) # calculate best model's accuracy score using the test set\n",
    "\n",
    "print(f'Accuracy of the best model on the test set: {final_score}')\n",
    "\n",
    "predicted_valid = best_model.predict(features_valid)\n",
    "\n",
    "print(f'F1 score of the best model on the validation set: {f1_score(target_valid, predicted_valid)}')\n",
    "\n",
    "predicted_test = best_model.predict(features_test)\n",
    "\n",
    "print(f'F1 score of the best model on the test set: {f1_score(target_test, predicted_test)}')\n"
   ]
  },
  {
   "cell_type": "code",
   "execution_count": 17,
   "metadata": {},
   "outputs": [
    {
     "name": "stdout",
     "output_type": "stream",
     "text": [
      "ROC/AUC Score: 0.7819909724751938\n"
     ]
    }
   ],
   "source": [
    "# Calculate the ROC/AUC score for the Random Forest Classifier model using the balanced SMOTE data\n",
    "probabilities_test = best_model.predict_proba(features_test)\n",
    "probabilities_one_test = probabilities_test[:, 1]\n",
    "auc_roc_final = roc_auc_score(target_test, probabilities_one_test)\n",
    "print(f'ROC/AUC Score: {auc_roc_final}')\n"
   ]
  },
  {
   "cell_type": "code",
   "execution_count": 18,
   "metadata": {},
   "outputs": [
    {
     "name": "stdout",
     "output_type": "stream",
     "text": [
      "Accuracy of the best model on the validation set (n_estimators = 15): 0.5843023255813955\n",
      "Accuracy of the best model on the test set: 0.844\n",
      "F1 score of the best model on the validation set: 0.5843023255813955\n",
      "F1 score of the best model on the test set: 0.5517241379310345\n"
     ]
    }
   ],
   "source": [
    "# Train the Random Forest Classifier model without taking into consideration the imbalance of classes\n",
    "\n",
    "# Create a for loop to tune the model's number of estimators and identify the number that produces the highest F1 score\n",
    "best_score = 0\n",
    "best_est = 0\n",
    "\n",
    "for est in range(1, 51): # choose hyperparameter range\n",
    "    model = RandomForestClassifier(random_state = 12345, n_estimators = est) # set number of trees\n",
    "    model.fit(features_train, target_train) # train model on training set\n",
    "    score = f1_score(target_valid, model.predict(features_valid)) # calculate F1 score on validation set\n",
    "    if score > best_score:\n",
    "        best_score = score # save best accuracy score on validation set\n",
    "        best_est = est # save number of estimators corresponding to best F1 score\n",
    "\n",
    "print(\"Accuracy of the best model on the validation set (n_estimators = {}): {}\".format(best_est, best_score)) # calculate best model's F1 score using the validation set\n",
    "\n",
    "final_model = RandomForestClassifier(random_state = 12345, n_estimators = best_est)\n",
    "final_model.fit(features_train, target_train) # train the best model using the training set\n",
    "final_score = final_model.score(features_test, target_test) # calculate best model's F1 score using the test set\n",
    "\n",
    "print(f'Accuracy of the best model on the test set: {final_score}')\n",
    "\n",
    "predicted_valid = final_model.predict(features_valid)\n",
    "\n",
    "print(f'F1 score of the best model on the validation set: {f1_score(target_valid, predicted_valid)}')\n",
    "\n",
    "predicted_test = final_model.predict(features_test)\n",
    "\n",
    "print(f'F1 score of the best model on the test set: {f1_score(target_test, predicted_test)}')\n"
   ]
  },
  {
   "cell_type": "code",
   "execution_count": 19,
   "metadata": {},
   "outputs": [
    {
     "name": "stdout",
     "output_type": "stream",
     "text": [
      "ROC/AUC Score: 0.8316273680013072\n"
     ]
    }
   ],
   "source": [
    "# Calculate the ROC/AUC score for the Random Forest Classifier model using the balanced SMOTE data\n",
    "probabilities_test = final_model.predict_proba(features_test)\n",
    "probabilities_one_test = probabilities_test[:, 1]\n",
    "auc_roc_final = roc_auc_score(target_test, probabilities_one_test)\n",
    "print(f'ROC/AUC Score: {auc_roc_final}')\n"
   ]
  },
  {
   "cell_type": "markdown",
   "metadata": {},
   "source": [
    "A Decision Tree Classifier Model and a Random Forest Classifier model were used to calculate accuracy and F1 scores for the unbalanced dataset. The results were pretty similar to one another but as you'll see below in comparison to the balanced datasets, on the lower side. As for the ROC-AUC scores, the Decision Tree Classifier model results for the unbalanced dataset (0.78) was a little lower than that of the Random Forest Classifier model (0.83). However, the ROC-AUC scores for the unbalanced Random Forest Classifier had very similar results to the balanced Random Forest Classifier below (0.84). So while the two models have a similar ability to separate out classes, the unbalanced models have lower levels of precision and recall than the balanced models. "
   ]
  },
  {
   "cell_type": "markdown",
   "metadata": {},
   "source": [
    "# Fix the Imbalance of Classes"
   ]
  },
  {
   "cell_type": "code",
   "execution_count": 20,
   "metadata": {},
   "outputs": [],
   "source": [
    "# Use SMOTE to oversample the minority class\n",
    "sm = SMOTE(random_state = 12345)\n",
    "features_train_sm, target_train_sm = sm.fit_resample(features_train, target_train)\n"
   ]
  },
  {
   "cell_type": "code",
   "execution_count": 21,
   "metadata": {},
   "outputs": [
    {
     "data": {
      "text/plain": [
       "0    4804\n",
       "1    1196\n",
       "Name: Exited, dtype: int64"
      ]
     },
     "execution_count": 21,
     "metadata": {},
     "output_type": "execute_result"
    }
   ],
   "source": [
    "# Examine the value counts of 'target_train' prior to implementing SMOTE\n",
    "target_train.value_counts()\n"
   ]
  },
  {
   "cell_type": "code",
   "execution_count": 22,
   "metadata": {},
   "outputs": [
    {
     "data": {
      "text/plain": [
       "0    4804\n",
       "1    4804\n",
       "Name: Exited, dtype: int64"
      ]
     },
     "execution_count": 22,
     "metadata": {},
     "output_type": "execute_result"
    }
   ],
   "source": [
    "# Examine the value counts of 'target_train_sm' after implementing SMOTE\n",
    "target_train_sm.value_counts()\n"
   ]
  },
  {
   "cell_type": "code",
   "execution_count": 23,
   "metadata": {},
   "outputs": [],
   "source": [
    "# Use RandomUnderSampler to undersample the majority class\n",
    "rus = RandomUnderSampler(random_state = 12345, replacement = True)\n",
    "features_train_rus, target_train_rus = rus.fit_resample(features_train, target_train)\n"
   ]
  },
  {
   "cell_type": "code",
   "execution_count": 24,
   "metadata": {},
   "outputs": [
    {
     "data": {
      "text/plain": [
       "0    1196\n",
       "1    1196\n",
       "Name: Exited, dtype: int64"
      ]
     },
     "execution_count": 24,
     "metadata": {},
     "output_type": "execute_result"
    }
   ],
   "source": [
    "# Examine the value counts of 'target_train_rus' after implementing RandomUnderSampler\n",
    "target_train_rus.value_counts()\n"
   ]
  },
  {
   "cell_type": "markdown",
   "metadata": {},
   "source": [
    "In order to address the class imbalance, SMOTE was used to oversample the data and RandomUnderSampler was used to undersample the data."
   ]
  },
  {
   "cell_type": "markdown",
   "metadata": {},
   "source": [
    "# Train and Select the Best Model"
   ]
  },
  {
   "cell_type": "code",
   "execution_count": 25,
   "metadata": {},
   "outputs": [
    {
     "name": "stdout",
     "output_type": "stream",
     "text": [
      "Accuracy of the best model on the validation set: 0.5703703703703703\n",
      "Accuracy of the best model on the test set: 0.7735\n",
      "F1 score of the best model on the validation set: 0.5703703703703703\n",
      "F1 score of the best model on the test set: 0.5706161137440758\n"
     ]
    }
   ],
   "source": [
    "# Train the Decision Tree Classifier model using the balanced SMOTE data\n",
    "\n",
    "# Create a for loop to tune the model's max depth and identify the depth that produces the highest F1 score\n",
    "best_model = None\n",
    "best_score = 0\n",
    "\n",
    "for depth in range(1, 11):\n",
    "    model = DecisionTreeClassifier(random_state = 12345, max_depth = depth) # create a model with the given depth\n",
    "    model.fit(features_train_sm, target_train_sm) # train the model using the training set\n",
    "    score = f1_score(target_valid, model.predict(features_valid))\n",
    "    if score > best_score: # identify the best model based on F1 score\n",
    "        best_model = model\n",
    "        best_score = score\n",
    "        \n",
    "print(\"Accuracy of the best model on the validation set:\", best_score) # calculate best model's accuracy score using the validation set\n",
    "\n",
    "best_model.fit(features_train_sm, target_train_sm) # train the best model using the training set\n",
    "final_score = best_model.score(features_test, target_test) # calculate best model's accuracy score using the test set\n",
    "\n",
    "print(f'Accuracy of the best model on the test set: {final_score}')\n",
    "\n",
    "predicted_valid = best_model.predict(features_valid)\n",
    "\n",
    "print(f'F1 score of the best model on the validation set: {f1_score(target_valid, predicted_valid)}')\n",
    "\n",
    "predicted_test = best_model.predict(features_test)\n",
    "\n",
    "print(f'F1 score of the best model on the test set: {f1_score(target_test, predicted_test)}')\n"
   ]
  },
  {
   "cell_type": "code",
   "execution_count": 26,
   "metadata": {},
   "outputs": [
    {
     "name": "stdout",
     "output_type": "stream",
     "text": [
      "Accuracy of the best model on the validation set (n_estimators = 40): 0.5887961859356377\n",
      "Accuracy of the best model on the test set: 0.8315\n",
      "F1 score of the best model on the validation set: 0.5887961859356377\n",
      "F1 score of the best model on the test set: 0.592503022974607\n"
     ]
    }
   ],
   "source": [
    "# Train the Random Forest Classifier model using the balanced SMOTE data\n",
    "\n",
    "# Create a for loop to tune the model's number of estimators and identify the number that produces the highest F1 score\n",
    "best_score = 0\n",
    "best_est = 0\n",
    "\n",
    "for est in range(1, 50): # choose hyperparameter range\n",
    "    model = RandomForestClassifier(random_state = 12345, n_estimators = est) # set number of trees\n",
    "    model.fit(features_train_sm, target_train_sm) # train model on training set\n",
    "    score = f1_score(target_valid, model.predict(features_valid)) # calculate F1 score on validation set\n",
    "    if score > best_score:\n",
    "        best_score = score # save best F1 score on validation set\n",
    "        best_est = est # save number of estimators corresponding to best F1 score\n",
    "\n",
    "print(\"Accuracy of the best model on the validation set (n_estimators = {}): {}\".format(best_est, best_score)) # calculate best model's accuracy score using the validation set\n",
    "\n",
    "final_model = RandomForestClassifier(random_state = 12345, n_estimators = best_est)\n",
    "final_model.fit(features_train_sm, target_train_sm) # train the best model using the training set\n",
    "final_score = final_model.score(features_test, target_test) # calculate best model's accuracy score using the test set\n",
    "\n",
    "print(f'Accuracy of the best model on the test set: {final_score}')\n",
    "\n",
    "predicted_valid = final_model.predict(features_valid)\n",
    "\n",
    "print(f'F1 score of the best model on the validation set: {f1_score(target_valid, predicted_valid)}')\n",
    "\n",
    "final_predicted_test = final_model.predict(features_test)\n",
    "\n",
    "print(f'F1 score of the best model on the test set: {f1_score(target_test, final_predicted_test)}')\n"
   ]
  },
  {
   "cell_type": "code",
   "execution_count": 27,
   "metadata": {},
   "outputs": [
    {
     "name": "stdout",
     "output_type": "stream",
     "text": [
      "Accuracy of the best model on the validation set: 0.5659690627843494\n",
      "Accuracy of the best model on the test set: 0.759\n",
      "F1 score of the best model on the validation set: 0.5659690627843494\n",
      "F1 score of the best model on the test set: 0.5657657657657658\n"
     ]
    }
   ],
   "source": [
    "# Train the Decision Tree Classifier model using the balanced RandomUnderSampler data\n",
    "\n",
    "# Create a for loop to tune the model's max depth and identify the depth that produces the highest F1 score\n",
    "best_model = None\n",
    "best_score = 0\n",
    "\n",
    "for depth in range(1, 11):\n",
    "    model = DecisionTreeClassifier(random_state = 12345, max_depth = depth) # create a model with the given depth\n",
    "    model.fit(features_train_rus, target_train_rus) # train the model using the training set\n",
    "    score = f1_score(target_valid, model.predict(features_valid)) # calculate the F1 score using the validation set\n",
    "    if score > best_score: # identify the best model based on F1 score\n",
    "        best_model = model\n",
    "        best_score = score\n",
    "        \n",
    "print(\"Accuracy of the best model on the validation set:\", best_score) # calculate best model's accuracy score using the validation set\n",
    "\n",
    "best_model.fit(features_train_rus, target_train_rus) # train the best model using the training set\n",
    "final_score = best_model.score(features_test, target_test) # calculate best model's accuracy score using the test set\n",
    "\n",
    "print(f'Accuracy of the best model on the test set: {final_score}')\n",
    "\n",
    "predicted_valid = best_model.predict(features_valid)\n",
    "\n",
    "print(f'F1 score of the best model on the validation set: {f1_score(target_valid, predicted_valid)}')\n",
    "\n",
    "predicted_test = best_model.predict(features_test)\n",
    "\n",
    "print(f'F1 score of the best model on the test set: {f1_score(target_test, predicted_test)}')\n"
   ]
  },
  {
   "cell_type": "code",
   "execution_count": 28,
   "metadata": {},
   "outputs": [
    {
     "name": "stdout",
     "output_type": "stream",
     "text": [
      "Accuracy of the best model on the validation set (n_estimators = 18): 0.5959409594095941\n",
      "Accuracy of the best model on the test set: 0.759\n",
      "F1 score of the best model on the validation set: 0.5959409594095941\n",
      "F1 score of the best model on the test set: 0.5711610486891385\n"
     ]
    }
   ],
   "source": [
    "# Train the Random Forest Classifier model using the balanced RandomUnderSampler data\n",
    "\n",
    "# Create a for loop to tune the model's number of estimators and identify the number that produces the highest F1 score\n",
    "best_score = 0\n",
    "best_est = 0\n",
    "\n",
    "for est in range(1, 30): # choose hyperparameter range\n",
    "    model = RandomForestClassifier(random_state = 12345, n_estimators = est) # set number of trees\n",
    "    model.fit(features_train_rus, target_train_rus) # train model on training set\n",
    "    score = f1_score(target_valid, model.predict(features_valid)) # calculate F1 score on validation set\n",
    "    if score > best_score:\n",
    "        best_score = score # save best F1 score on validation set\n",
    "        best_est = est # save number of estimators corresponding to best F1 score\n",
    "\n",
    "print(\"Accuracy of the best model on the validation set (n_estimators = {}): {}\".format(best_est, best_score)) # calculate best model's accuracy score using the validation set\n",
    "\n",
    "best_model = RandomForestClassifier(random_state = 12345, n_estimators = best_est)\n",
    "best_model.fit(features_train_rus, target_train_rus) # train the best model using the training set\n",
    "best_score = final_model.score(features_test, target_test) # calculate best model's accuracy score using the test set\n",
    "\n",
    "print(f'Accuracy of the best model on the test set: {final_score}')\n",
    "\n",
    "predicted_valid = best_model.predict(features_valid)\n",
    "\n",
    "print(f'F1 score of the best model on the validation set: {f1_score(target_valid, predicted_valid)}')\n",
    "\n",
    "predicted_test = best_model.predict(features_test)\n",
    "\n",
    "print(f'F1 score of the best model on the test set: {f1_score(target_test, predicted_test)}')\n"
   ]
  },
  {
   "cell_type": "markdown",
   "metadata": {},
   "source": [
    "Based on the results of the training and testing of the Decision Tree Classifier Model and a Random Forest Classifier on both the SMOTE and RandomUnderSampler balanced data, the Random Forest Classifier model using the balanced SMOTE data produced the best results:\n",
    "\n",
    "Accuracy of the best model on the validation set (n_estimators = 40): 0.5887961859356377\n",
    "\n",
    "Accuracy of the best model on the test set: 0.8315\n",
    "\n",
    "F1 score of the best model on the validation set: 0.5887961859356377\n",
    "\n",
    "F1 score of the best model on the test set: 0.592503022974607 (over the required minimum of 0.59)\n"
   ]
  },
  {
   "cell_type": "markdown",
   "metadata": {},
   "source": [
    "# Perform Final Testing"
   ]
  },
  {
   "cell_type": "code",
   "execution_count": 29,
   "metadata": {},
   "outputs": [
    {
     "name": "stdout",
     "output_type": "stream",
     "text": [
      "ROC/AUC Score: 0.8372512071428678\n"
     ]
    }
   ],
   "source": [
    "# Calculate the ROC/AUC score for the Random Forest Classifier model using the balanced SMOTE data\n",
    "probabilities_test = final_model.predict_proba(features_test)\n",
    "probabilities_one_test = probabilities_test[:, 1]\n",
    "auc_roc_final = roc_auc_score(target_test, probabilities_one_test)\n",
    "print(f'ROC/AUC Score: {auc_roc_final}')\n"
   ]
  },
  {
   "cell_type": "code",
   "execution_count": 30,
   "metadata": {},
   "outputs": [
    {
     "data": {
      "image/png": "[encoded data removed]",
      "text/plain": [
       "<Figure size 800x400 with 2 Axes>"
      ]
     },
     "metadata": {
      "needs_background": "light"
     },
     "output_type": "display_data"
    }
   ],
   "source": [
    "# Plot a confusion matrix to visualize the \n",
    "cf_matrix = confusion_matrix(target_test, final_predicted_test)\n",
    "plt.figure(figsize=(10, 5), dpi=80)\n",
    "\n",
    "ax = sns.heatmap(cf_matrix, annot=True, cmap='Blues', fmt='g')\n",
    "ax.set_xlabel('Predicted Values')\n",
    "ax.set_ylabel('Actual Values ');\n",
    "ax.xaxis.set_ticklabels(['False','True'])\n",
    "ax.yaxis.set_ticklabels(['False','True'])\n",
    "plt.show()\n"
   ]
  },
  {
   "cell_type": "markdown",
   "metadata": {},
   "source": [
    "The AUC/ROC score for the Random Forest Classifier model using the balanced SMOTE data is 0.84. Since this value is substantially higher than 0.5 (no ability to separate out classes), it indicates that the model does have a good measure of separability. This metric is higher than the obtained F1 value of 0.59 which is an indicator of precision and recall. Based on the values in the confusion matrix, the True Positive Rate is 0.58 and the True Negative Rate is 0.90. The model is better at predicting negative classes than positive classes but it performs better than random for both."
   ]
  },
  {
   "cell_type": "markdown",
   "metadata": {},
   "source": [
    "# Conclusion"
   ]
  },
  {
   "cell_type": "markdown",
   "metadata": {},
   "source": [
    "The **Random Forest Classifier model using the balanced SMOTE data**, which is able to produce an accuracy score of 0.83 and an F1 score of 0.59 with the test data, is the best model that Beta Bank can utilize from this analysis to predict whether a customer will leave their bank. "
   ]
  }
 ],
 "metadata": {
  "ExecuteTimeLog": [
   {
    "duration": 1581,
    "start_time": "2022-05-04T01:39:37.743Z"
   },
   {
    "duration": 28,
    "start_time": "2022-05-04T01:39:39.326Z"
   },
   {
    "duration": 47,
    "start_time": "2022-05-04T01:39:39.356Z"
   },
   {
    "duration": 20,
    "start_time": "2022-05-04T01:39:39.404Z"
   },
   {
    "duration": 3,
    "start_time": "2022-05-04T01:48:52.438Z"
   },
   {
    "duration": 19,
    "start_time": "2022-05-04T01:49:01.260Z"
   },
   {
    "duration": 4,
    "start_time": "2022-05-04T01:49:27.294Z"
   },
   {
    "duration": 2041,
    "start_time": "2022-05-04T21:02:53.185Z"
   },
   {
    "duration": 31,
    "start_time": "2022-05-04T21:02:55.228Z"
   },
   {
    "duration": 54,
    "start_time": "2022-05-04T21:02:55.261Z"
   },
   {
    "duration": 30,
    "start_time": "2022-05-04T21:02:55.317Z"
   },
   {
    "duration": 6,
    "start_time": "2022-05-04T21:02:55.350Z"
   },
   {
    "duration": 3,
    "start_time": "2022-05-04T21:02:55.358Z"
   },
   {
    "duration": 4,
    "start_time": "2022-05-04T21:02:55.363Z"
   },
   {
    "duration": 6,
    "start_time": "2022-05-04T21:04:13.183Z"
   },
   {
    "duration": 8,
    "start_time": "2022-05-04T21:05:02.532Z"
   },
   {
    "duration": 1542,
    "start_time": "2022-05-04T21:39:42.829Z"
   },
   {
    "duration": 30,
    "start_time": "2022-05-04T21:39:44.373Z"
   },
   {
    "duration": 58,
    "start_time": "2022-05-04T21:39:44.405Z"
   },
   {
    "duration": 27,
    "start_time": "2022-05-04T21:39:44.465Z"
   },
   {
    "duration": 5,
    "start_time": "2022-05-04T21:39:44.495Z"
   },
   {
    "duration": 6,
    "start_time": "2022-05-04T21:39:44.522Z"
   },
   {
    "duration": 7,
    "start_time": "2022-05-04T21:39:44.530Z"
   },
   {
    "duration": 16,
    "start_time": "2022-05-04T21:39:44.541Z"
   },
   {
    "duration": 11,
    "start_time": "2022-05-04T21:39:44.559Z"
   },
   {
    "duration": 8,
    "start_time": "2022-05-04T21:39:44.571Z"
   },
   {
    "duration": 152,
    "start_time": "2022-05-04T21:39:44.581Z"
   },
   {
    "duration": 0,
    "start_time": "2022-05-04T21:39:44.735Z"
   },
   {
    "duration": 0,
    "start_time": "2022-05-04T21:39:44.736Z"
   },
   {
    "duration": 21,
    "start_time": "2022-05-04T21:40:40.747Z"
   },
   {
    "duration": 1611,
    "start_time": "2022-05-05T00:26:59.237Z"
   },
   {
    "duration": 31,
    "start_time": "2022-05-05T00:27:00.850Z"
   },
   {
    "duration": 52,
    "start_time": "2022-05-05T00:27:00.882Z"
   },
   {
    "duration": 21,
    "start_time": "2022-05-05T00:27:00.936Z"
   },
   {
    "duration": 17,
    "start_time": "2022-05-05T00:27:00.959Z"
   },
   {
    "duration": 23,
    "start_time": "2022-05-05T00:27:00.977Z"
   },
   {
    "duration": 18,
    "start_time": "2022-05-05T00:27:01.001Z"
   },
   {
    "duration": 25,
    "start_time": "2022-05-05T00:27:01.021Z"
   },
   {
    "duration": 33,
    "start_time": "2022-05-05T00:27:01.048Z"
   },
   {
    "duration": 10,
    "start_time": "2022-05-05T00:27:01.083Z"
   },
   {
    "duration": 26,
    "start_time": "2022-05-05T00:27:01.095Z"
   },
   {
    "duration": 23,
    "start_time": "2022-05-05T00:28:38.079Z"
   },
   {
    "duration": 25,
    "start_time": "2022-05-05T00:28:51.469Z"
   },
   {
    "duration": 31,
    "start_time": "2022-05-05T00:29:13.731Z"
   },
   {
    "duration": 29,
    "start_time": "2022-05-05T00:30:04.898Z"
   },
   {
    "duration": 1606,
    "start_time": "2022-05-05T00:30:20.163Z"
   },
   {
    "duration": 32,
    "start_time": "2022-05-05T00:30:21.771Z"
   },
   {
    "duration": 51,
    "start_time": "2022-05-05T00:30:21.805Z"
   },
   {
    "duration": 22,
    "start_time": "2022-05-05T00:30:21.858Z"
   },
   {
    "duration": 5,
    "start_time": "2022-05-05T00:30:21.882Z"
   },
   {
    "duration": 5,
    "start_time": "2022-05-05T00:30:21.889Z"
   },
   {
    "duration": 28,
    "start_time": "2022-05-05T00:30:21.896Z"
   },
   {
    "duration": 26,
    "start_time": "2022-05-05T00:30:21.926Z"
   },
   {
    "duration": 28,
    "start_time": "2022-05-05T00:30:21.954Z"
   },
   {
    "duration": 7,
    "start_time": "2022-05-05T00:30:21.983Z"
   },
   {
    "duration": 23,
    "start_time": "2022-05-05T00:30:22.023Z"
   },
   {
    "duration": 1743,
    "start_time": "2022-05-05T00:36:05.952Z"
   },
   {
    "duration": 32,
    "start_time": "2022-05-05T00:36:07.697Z"
   },
   {
    "duration": 51,
    "start_time": "2022-05-05T00:36:07.731Z"
   },
   {
    "duration": 20,
    "start_time": "2022-05-05T00:36:07.784Z"
   },
   {
    "duration": 5,
    "start_time": "2022-05-05T00:36:07.823Z"
   },
   {
    "duration": 9,
    "start_time": "2022-05-05T00:36:07.830Z"
   },
   {
    "duration": 5,
    "start_time": "2022-05-05T00:36:07.841Z"
   },
   {
    "duration": 20,
    "start_time": "2022-05-05T00:36:07.848Z"
   },
   {
    "duration": 63,
    "start_time": "2022-05-05T00:36:07.870Z"
   },
   {
    "duration": 28,
    "start_time": "2022-05-05T00:36:07.937Z"
   },
   {
    "duration": 7,
    "start_time": "2022-05-05T00:36:07.968Z"
   },
   {
    "duration": 23,
    "start_time": "2022-05-05T00:36:45.181Z"
   },
   {
    "duration": 5,
    "start_time": "2022-05-05T00:36:54.022Z"
   },
   {
    "duration": 111,
    "start_time": "2022-05-05T00:37:00.600Z"
   },
   {
    "duration": 1895,
    "start_time": "2022-05-05T00:37:15.787Z"
   },
   {
    "duration": 31,
    "start_time": "2022-05-05T00:37:17.684Z"
   },
   {
    "duration": 51,
    "start_time": "2022-05-05T00:37:17.717Z"
   },
   {
    "duration": 22,
    "start_time": "2022-05-05T00:37:17.770Z"
   },
   {
    "duration": 7,
    "start_time": "2022-05-05T00:37:17.794Z"
   },
   {
    "duration": 5,
    "start_time": "2022-05-05T00:37:17.823Z"
   },
   {
    "duration": 6,
    "start_time": "2022-05-05T00:37:17.830Z"
   },
   {
    "duration": 31,
    "start_time": "2022-05-05T00:37:17.837Z"
   },
   {
    "duration": 25,
    "start_time": "2022-05-05T00:37:17.869Z"
   },
   {
    "duration": 47,
    "start_time": "2022-05-05T00:37:17.896Z"
   },
   {
    "duration": 7,
    "start_time": "2022-05-05T00:37:17.944Z"
   },
   {
    "duration": 6,
    "start_time": "2022-05-05T00:41:09.648Z"
   },
   {
    "duration": 117,
    "start_time": "2022-05-05T00:41:15.506Z"
   },
   {
    "duration": 1523,
    "start_time": "2022-05-05T00:41:29.169Z"
   },
   {
    "duration": 31,
    "start_time": "2022-05-05T00:41:30.694Z"
   },
   {
    "duration": 51,
    "start_time": "2022-05-05T00:41:30.727Z"
   },
   {
    "duration": 22,
    "start_time": "2022-05-05T00:41:30.780Z"
   },
   {
    "duration": 5,
    "start_time": "2022-05-05T00:41:30.824Z"
   },
   {
    "duration": 13,
    "start_time": "2022-05-05T00:41:30.831Z"
   },
   {
    "duration": 10,
    "start_time": "2022-05-05T00:41:30.846Z"
   },
   {
    "duration": 26,
    "start_time": "2022-05-05T00:41:30.858Z"
   },
   {
    "duration": 42,
    "start_time": "2022-05-05T00:41:30.886Z"
   },
   {
    "duration": 25,
    "start_time": "2022-05-05T00:41:30.930Z"
   },
   {
    "duration": 20,
    "start_time": "2022-05-05T00:41:30.957Z"
   },
   {
    "duration": 44,
    "start_time": "2022-05-05T00:41:30.980Z"
   },
   {
    "duration": 1690,
    "start_time": "2022-05-05T00:43:19.987Z"
   },
   {
    "duration": 31,
    "start_time": "2022-05-05T00:43:21.679Z"
   },
   {
    "duration": 49,
    "start_time": "2022-05-05T00:43:21.712Z"
   },
   {
    "duration": 20,
    "start_time": "2022-05-05T00:43:21.763Z"
   },
   {
    "duration": 5,
    "start_time": "2022-05-05T00:43:21.785Z"
   },
   {
    "duration": 5,
    "start_time": "2022-05-05T00:43:21.792Z"
   },
   {
    "duration": 5,
    "start_time": "2022-05-05T00:43:21.822Z"
   },
   {
    "duration": 23,
    "start_time": "2022-05-05T00:43:21.829Z"
   },
   {
    "duration": 22,
    "start_time": "2022-05-05T00:43:21.853Z"
   },
   {
    "duration": 46,
    "start_time": "2022-05-05T00:43:21.877Z"
   },
   {
    "duration": 18,
    "start_time": "2022-05-05T00:43:21.925Z"
   },
   {
    "duration": 6,
    "start_time": "2022-05-05T00:43:21.945Z"
   },
   {
    "duration": 1665,
    "start_time": "2022-05-05T03:22:41.475Z"
   },
   {
    "duration": 202,
    "start_time": "2022-05-05T03:22:43.142Z"
   },
   {
    "duration": 56,
    "start_time": "2022-05-05T03:22:43.346Z"
   },
   {
    "duration": 23,
    "start_time": "2022-05-05T03:22:43.404Z"
   },
   {
    "duration": 6,
    "start_time": "2022-05-05T03:22:43.433Z"
   },
   {
    "duration": 7,
    "start_time": "2022-05-05T03:22:43.441Z"
   },
   {
    "duration": 8,
    "start_time": "2022-05-05T03:22:43.450Z"
   },
   {
    "duration": 22,
    "start_time": "2022-05-05T03:22:43.460Z"
   },
   {
    "duration": 52,
    "start_time": "2022-05-05T03:22:43.483Z"
   },
   {
    "duration": 24,
    "start_time": "2022-05-05T03:22:43.537Z"
   },
   {
    "duration": 19,
    "start_time": "2022-05-05T03:22:43.563Z"
   },
   {
    "duration": 5,
    "start_time": "2022-05-05T03:22:43.584Z"
   },
   {
    "duration": 42,
    "start_time": "2022-05-05T03:22:43.591Z"
   },
   {
    "duration": 1870,
    "start_time": "2022-05-05T18:49:08.876Z"
   },
   {
    "duration": 39,
    "start_time": "2022-05-05T18:49:10.749Z"
   },
   {
    "duration": 54,
    "start_time": "2022-05-05T18:49:10.789Z"
   },
   {
    "duration": 24,
    "start_time": "2022-05-05T18:49:10.845Z"
   },
   {
    "duration": 7,
    "start_time": "2022-05-05T18:49:10.872Z"
   },
   {
    "duration": 9,
    "start_time": "2022-05-05T18:49:10.881Z"
   },
   {
    "duration": 10,
    "start_time": "2022-05-05T18:49:10.891Z"
   },
   {
    "duration": 21,
    "start_time": "2022-05-05T18:49:10.903Z"
   },
   {
    "duration": 57,
    "start_time": "2022-05-05T18:49:10.926Z"
   },
   {
    "duration": 32,
    "start_time": "2022-05-05T18:49:10.985Z"
   },
   {
    "duration": 40,
    "start_time": "2022-05-05T18:49:11.019Z"
   },
   {
    "duration": 7,
    "start_time": "2022-05-05T18:49:11.061Z"
   },
   {
    "duration": 12,
    "start_time": "2022-05-05T18:49:11.070Z"
   },
   {
    "duration": 55,
    "start_time": "2022-05-05T18:49:11.084Z"
   },
   {
    "duration": 2,
    "start_time": "2022-05-05T18:49:11.141Z"
   },
   {
    "duration": 193,
    "start_time": "2022-05-05T18:55:32.799Z"
   },
   {
    "duration": 5,
    "start_time": "2022-05-05T18:57:49.741Z"
   },
   {
    "duration": 191,
    "start_time": "2022-05-05T19:00:54.854Z"
   },
   {
    "duration": 1514,
    "start_time": "2022-05-05T19:54:32.688Z"
   },
   {
    "duration": 27,
    "start_time": "2022-05-05T19:54:34.204Z"
   },
   {
    "duration": 82,
    "start_time": "2022-05-05T19:54:34.233Z"
   },
   {
    "duration": 43,
    "start_time": "2022-05-05T19:54:34.318Z"
   },
   {
    "duration": 7,
    "start_time": "2022-05-05T19:54:34.363Z"
   },
   {
    "duration": 6,
    "start_time": "2022-05-05T19:54:34.372Z"
   },
   {
    "duration": 8,
    "start_time": "2022-05-05T19:54:34.380Z"
   },
   {
    "duration": 32,
    "start_time": "2022-05-05T19:54:34.390Z"
   },
   {
    "duration": 65,
    "start_time": "2022-05-05T19:54:34.424Z"
   },
   {
    "duration": 40,
    "start_time": "2022-05-05T19:54:34.492Z"
   },
   {
    "duration": 46,
    "start_time": "2022-05-05T19:54:34.534Z"
   },
   {
    "duration": 7,
    "start_time": "2022-05-05T19:54:34.582Z"
   },
   {
    "duration": 16,
    "start_time": "2022-05-05T19:54:34.591Z"
   },
   {
    "duration": 72,
    "start_time": "2022-05-05T19:54:34.610Z"
   },
   {
    "duration": 273,
    "start_time": "2022-05-05T19:54:34.684Z"
   },
   {
    "duration": 13658,
    "start_time": "2022-05-05T19:57:24.267Z"
   },
   {
    "duration": 186,
    "start_time": "2022-05-05T20:00:19.492Z"
   },
   {
    "duration": 4,
    "start_time": "2022-05-05T20:01:24.561Z"
   },
   {
    "duration": 14,
    "start_time": "2022-05-05T20:02:16.929Z"
   },
   {
    "duration": 13,
    "start_time": "2022-05-05T20:04:45.792Z"
   },
   {
    "duration": 7032,
    "start_time": "2022-05-05T20:23:16.252Z"
   },
   {
    "duration": 5983,
    "start_time": "2022-05-05T20:23:36.230Z"
   },
   {
    "duration": 14,
    "start_time": "2022-05-05T20:24:18.272Z"
   },
   {
    "duration": 2407,
    "start_time": "2022-05-05T20:24:24.512Z"
   },
   {
    "duration": 1096,
    "start_time": "2022-05-05T20:24:33.383Z"
   },
   {
    "duration": 2563,
    "start_time": "2022-05-05T20:24:45.878Z"
   },
   {
    "duration": 2502,
    "start_time": "2022-05-05T20:26:22.193Z"
   },
   {
    "duration": 2474,
    "start_time": "2022-05-05T20:26:51.917Z"
   },
   {
    "duration": 1308,
    "start_time": "2022-05-05T20:27:47.443Z"
   },
   {
    "duration": 4,
    "start_time": "2022-05-05T20:27:52.524Z"
   },
   {
    "duration": 4,
    "start_time": "2022-05-05T20:29:01.878Z"
   },
   {
    "duration": 8,
    "start_time": "2022-05-05T20:29:05.689Z"
   },
   {
    "duration": 2498,
    "start_time": "2022-05-05T20:30:31.789Z"
   },
   {
    "duration": 8864,
    "start_time": "2022-05-06T20:22:53.222Z"
   },
   {
    "duration": 0,
    "start_time": "2022-05-06T20:23:02.090Z"
   },
   {
    "duration": 0,
    "start_time": "2022-05-06T20:23:02.091Z"
   },
   {
    "duration": 0,
    "start_time": "2022-05-06T20:23:02.093Z"
   },
   {
    "duration": 0,
    "start_time": "2022-05-06T20:23:02.094Z"
   },
   {
    "duration": 0,
    "start_time": "2022-05-06T20:23:02.096Z"
   },
   {
    "duration": 0,
    "start_time": "2022-05-06T20:23:02.097Z"
   },
   {
    "duration": 0,
    "start_time": "2022-05-06T20:23:02.098Z"
   },
   {
    "duration": 0,
    "start_time": "2022-05-06T20:23:02.100Z"
   },
   {
    "duration": 0,
    "start_time": "2022-05-06T20:23:02.101Z"
   },
   {
    "duration": 0,
    "start_time": "2022-05-06T20:23:02.103Z"
   },
   {
    "duration": 0,
    "start_time": "2022-05-06T20:23:02.104Z"
   },
   {
    "duration": 0,
    "start_time": "2022-05-06T20:23:02.105Z"
   },
   {
    "duration": 0,
    "start_time": "2022-05-06T20:23:02.106Z"
   },
   {
    "duration": 0,
    "start_time": "2022-05-06T20:23:02.108Z"
   },
   {
    "duration": 0,
    "start_time": "2022-05-06T20:23:02.109Z"
   },
   {
    "duration": 7176,
    "start_time": "2022-05-06T20:23:29.296Z"
   },
   {
    "duration": 4679,
    "start_time": "2022-05-06T20:23:44.597Z"
   },
   {
    "duration": 31,
    "start_time": "2022-05-06T20:23:49.279Z"
   },
   {
    "duration": 90,
    "start_time": "2022-05-06T20:23:49.312Z"
   },
   {
    "duration": 29,
    "start_time": "2022-05-06T20:23:49.405Z"
   },
   {
    "duration": 7,
    "start_time": "2022-05-06T20:23:49.452Z"
   },
   {
    "duration": 9,
    "start_time": "2022-05-06T20:23:49.461Z"
   },
   {
    "duration": 15,
    "start_time": "2022-05-06T20:23:49.472Z"
   },
   {
    "duration": 31,
    "start_time": "2022-05-06T20:23:49.489Z"
   },
   {
    "duration": 60,
    "start_time": "2022-05-06T20:23:49.522Z"
   },
   {
    "duration": 35,
    "start_time": "2022-05-06T20:23:49.586Z"
   },
   {
    "duration": 53,
    "start_time": "2022-05-06T20:23:49.623Z"
   },
   {
    "duration": 7,
    "start_time": "2022-05-06T20:23:49.679Z"
   },
   {
    "duration": 14,
    "start_time": "2022-05-06T20:23:49.688Z"
   },
   {
    "duration": 75,
    "start_time": "2022-05-06T20:23:49.704Z"
   },
   {
    "duration": 265,
    "start_time": "2022-05-06T20:23:49.781Z"
   },
   {
    "duration": 12676,
    "start_time": "2022-05-06T20:23:50.048Z"
   },
   {
    "duration": 41,
    "start_time": "2022-05-06T20:30:11.305Z"
   },
   {
    "duration": 7,
    "start_time": "2022-05-06T20:31:34.364Z"
   },
   {
    "duration": 7,
    "start_time": "2022-05-06T20:31:49.468Z"
   },
   {
    "duration": 215,
    "start_time": "2022-05-06T20:40:34.416Z"
   },
   {
    "duration": 190,
    "start_time": "2022-05-06T20:40:49.815Z"
   },
   {
    "duration": 7,
    "start_time": "2022-05-06T20:46:13.183Z"
   },
   {
    "duration": 15,
    "start_time": "2022-05-06T20:48:18.382Z"
   },
   {
    "duration": 7,
    "start_time": "2022-05-06T20:48:59.332Z"
   },
   {
    "duration": 6,
    "start_time": "2022-05-06T20:54:03.066Z"
   },
   {
    "duration": 493,
    "start_time": "2022-05-06T21:09:52.074Z"
   },
   {
    "duration": 22226,
    "start_time": "2022-05-06T21:13:38.332Z"
   },
   {
    "duration": 42589,
    "start_time": "2022-05-06T21:14:40.249Z"
   },
   {
    "duration": 22291,
    "start_time": "2022-05-06T21:15:34.538Z"
   },
   {
    "duration": 7665,
    "start_time": "2022-05-06T21:16:06.474Z"
   },
   {
    "duration": 156,
    "start_time": "2022-05-06T21:19:14.293Z"
   },
   {
    "duration": 2388,
    "start_time": "2022-05-06T21:19:58.100Z"
   },
   {
    "duration": 6148,
    "start_time": "2022-05-06T21:20:12.471Z"
   },
   {
    "duration": 24119,
    "start_time": "2022-05-06T21:27:04.911Z"
   },
   {
    "duration": 2336,
    "start_time": "2022-05-06T21:27:40.898Z"
   },
   {
    "duration": 12899,
    "start_time": "2022-05-06T21:28:21.262Z"
   },
   {
    "duration": 262,
    "start_time": "2022-05-06T21:29:14.086Z"
   },
   {
    "duration": 2277,
    "start_time": "2022-05-06T21:32:07.058Z"
   },
   {
    "duration": 2499,
    "start_time": "2022-05-06T21:32:22.874Z"
   },
   {
    "duration": 162,
    "start_time": "2022-05-06T21:42:20.985Z"
   },
   {
    "duration": 58,
    "start_time": "2022-05-06T21:42:31.951Z"
   },
   {
    "duration": 447,
    "start_time": "2022-05-06T21:42:34.608Z"
   },
   {
    "duration": 1015,
    "start_time": "2022-05-06T21:44:37.539Z"
   },
   {
    "duration": 7729,
    "start_time": "2022-05-07T00:23:44.856Z"
   },
   {
    "duration": 0,
    "start_time": "2022-05-07T00:23:52.588Z"
   },
   {
    "duration": 1,
    "start_time": "2022-05-07T00:23:52.589Z"
   },
   {
    "duration": 0,
    "start_time": "2022-05-07T00:23:52.591Z"
   },
   {
    "duration": 0,
    "start_time": "2022-05-07T00:23:52.593Z"
   },
   {
    "duration": 0,
    "start_time": "2022-05-07T00:23:52.594Z"
   },
   {
    "duration": 0,
    "start_time": "2022-05-07T00:23:52.595Z"
   },
   {
    "duration": 0,
    "start_time": "2022-05-07T00:23:52.597Z"
   },
   {
    "duration": 0,
    "start_time": "2022-05-07T00:23:52.597Z"
   },
   {
    "duration": 0,
    "start_time": "2022-05-07T00:23:52.599Z"
   },
   {
    "duration": 0,
    "start_time": "2022-05-07T00:23:52.600Z"
   },
   {
    "duration": 0,
    "start_time": "2022-05-07T00:23:52.601Z"
   },
   {
    "duration": 0,
    "start_time": "2022-05-07T00:23:52.602Z"
   },
   {
    "duration": 0,
    "start_time": "2022-05-07T00:23:52.603Z"
   },
   {
    "duration": 0,
    "start_time": "2022-05-07T00:23:52.604Z"
   },
   {
    "duration": 0,
    "start_time": "2022-05-07T00:23:52.605Z"
   },
   {
    "duration": 0,
    "start_time": "2022-05-07T00:23:52.606Z"
   },
   {
    "duration": 0,
    "start_time": "2022-05-07T00:23:52.607Z"
   },
   {
    "duration": 1,
    "start_time": "2022-05-07T00:23:52.608Z"
   },
   {
    "duration": 0,
    "start_time": "2022-05-07T00:23:52.610Z"
   },
   {
    "duration": 0,
    "start_time": "2022-05-07T00:23:52.611Z"
   },
   {
    "duration": 0,
    "start_time": "2022-05-07T00:23:52.612Z"
   },
   {
    "duration": 0,
    "start_time": "2022-05-07T00:23:52.613Z"
   },
   {
    "duration": 0,
    "start_time": "2022-05-07T00:23:52.614Z"
   },
   {
    "duration": 0,
    "start_time": "2022-05-07T00:23:52.615Z"
   },
   {
    "duration": 0,
    "start_time": "2022-05-07T00:23:52.616Z"
   },
   {
    "duration": 0,
    "start_time": "2022-05-07T00:23:52.617Z"
   },
   {
    "duration": 2210,
    "start_time": "2022-05-07T00:24:14.453Z"
   },
   {
    "duration": 12,
    "start_time": "2022-05-07T00:24:24.379Z"
   },
   {
    "duration": 3424,
    "start_time": "2022-05-07T00:24:49.001Z"
   },
   {
    "duration": 24,
    "start_time": "2022-05-07T00:24:56.157Z"
   },
   {
    "duration": 46,
    "start_time": "2022-05-07T00:24:59.652Z"
   },
   {
    "duration": 20,
    "start_time": "2022-05-07T00:25:01.958Z"
   },
   {
    "duration": 4,
    "start_time": "2022-05-07T00:25:05.832Z"
   },
   {
    "duration": 4,
    "start_time": "2022-05-07T00:25:08.036Z"
   },
   {
    "duration": 4,
    "start_time": "2022-05-07T00:25:09.021Z"
   },
   {
    "duration": 125,
    "start_time": "2022-05-07T00:25:13.239Z"
   },
   {
    "duration": 18,
    "start_time": "2022-05-07T00:25:24.913Z"
   },
   {
    "duration": 21,
    "start_time": "2022-05-07T00:25:35.187Z"
   },
   {
    "duration": 22,
    "start_time": "2022-05-07T00:25:46.320Z"
   },
   {
    "duration": 18,
    "start_time": "2022-05-07T00:25:52.437Z"
   },
   {
    "duration": 6,
    "start_time": "2022-05-07T00:26:00.127Z"
   },
   {
    "duration": 9,
    "start_time": "2022-05-07T00:26:04.105Z"
   },
   {
    "duration": 9,
    "start_time": "2022-05-07T00:27:08.280Z"
   },
   {
    "duration": 25,
    "start_time": "2022-05-07T00:27:23.432Z"
   },
   {
    "duration": 176,
    "start_time": "2022-05-07T00:27:35.598Z"
   },
   {
    "duration": 8645,
    "start_time": "2022-05-07T00:28:28.954Z"
   },
   {
    "duration": 39,
    "start_time": "2022-05-07T00:28:49.601Z"
   },
   {
    "duration": 5,
    "start_time": "2022-05-07T00:28:51.344Z"
   },
   {
    "duration": 5,
    "start_time": "2022-05-07T00:28:57.941Z"
   },
   {
    "duration": 9,
    "start_time": "2022-05-07T00:29:10.140Z"
   },
   {
    "duration": 5,
    "start_time": "2022-05-07T00:29:13.035Z"
   },
   {
    "duration": 315,
    "start_time": "2022-05-07T00:30:10.979Z"
   },
   {
    "duration": 275,
    "start_time": "2022-05-07T00:30:55.122Z"
   },
   {
    "duration": 5073,
    "start_time": "2022-05-07T00:31:08.129Z"
   },
   {
    "duration": 98,
    "start_time": "2022-05-07T00:31:18.980Z"
   },
   {
    "duration": 1586,
    "start_time": "2022-05-07T00:31:27.466Z"
   },
   {
    "duration": 607,
    "start_time": "2022-05-07T00:31:55.479Z"
   },
   {
    "duration": 5094,
    "start_time": "2022-05-07T00:32:08.899Z"
   },
   {
    "duration": 5781,
    "start_time": "2022-05-07T00:36:23.269Z"
   },
   {
    "duration": 5375,
    "start_time": "2022-05-07T00:39:24.800Z"
   },
   {
    "duration": 5174,
    "start_time": "2022-05-07T00:39:44.534Z"
   },
   {
    "duration": 4807,
    "start_time": "2022-05-07T00:40:20.170Z"
   },
   {
    "duration": 5521,
    "start_time": "2022-05-07T00:40:42.031Z"
   },
   {
    "duration": 5635,
    "start_time": "2022-05-07T00:40:54.357Z"
   },
   {
    "duration": 6216,
    "start_time": "2022-05-07T00:41:24.776Z"
   },
   {
    "duration": 5719,
    "start_time": "2022-05-07T00:43:40.734Z"
   },
   {
    "duration": 5286,
    "start_time": "2022-05-07T00:44:14.115Z"
   },
   {
    "duration": 5330,
    "start_time": "2022-05-07T00:44:36.332Z"
   },
   {
    "duration": 14276,
    "start_time": "2022-05-07T00:44:56.171Z"
   },
   {
    "duration": 41541,
    "start_time": "2022-05-07T00:45:26.009Z"
   },
   {
    "duration": 119,
    "start_time": "2022-05-07T00:46:42.627Z"
   },
   {
    "duration": 5662,
    "start_time": "2022-05-07T00:46:50.696Z"
   },
   {
    "duration": 5271,
    "start_time": "2022-05-07T00:47:33.620Z"
   },
   {
    "duration": 15203,
    "start_time": "2022-05-07T00:47:50.260Z"
   },
   {
    "duration": 15544,
    "start_time": "2022-05-07T00:49:45.011Z"
   },
   {
    "duration": 16441,
    "start_time": "2022-05-07T00:50:04.895Z"
   },
   {
    "duration": 15763,
    "start_time": "2022-05-07T00:50:51.145Z"
   },
   {
    "duration": 9,
    "start_time": "2022-05-07T00:51:40.260Z"
   },
   {
    "duration": 12,
    "start_time": "2022-05-07T00:51:45.988Z"
   },
   {
    "duration": 2099,
    "start_time": "2022-05-07T00:53:20.539Z"
   },
   {
    "duration": 12,
    "start_time": "2022-05-07T00:53:40.741Z"
   },
   {
    "duration": 3590,
    "start_time": "2022-05-07T00:56:17.651Z"
   },
   {
    "duration": 30,
    "start_time": "2022-05-07T00:56:21.243Z"
   },
   {
    "duration": 51,
    "start_time": "2022-05-07T00:56:21.274Z"
   },
   {
    "duration": 19,
    "start_time": "2022-05-07T00:56:21.327Z"
   },
   {
    "duration": 10,
    "start_time": "2022-05-07T00:56:21.349Z"
   },
   {
    "duration": 10,
    "start_time": "2022-05-07T00:56:21.361Z"
   },
   {
    "duration": 20,
    "start_time": "2022-05-07T00:56:21.373Z"
   },
   {
    "duration": 137,
    "start_time": "2022-05-07T00:56:21.395Z"
   },
   {
    "duration": 20,
    "start_time": "2022-05-07T00:56:21.533Z"
   },
   {
    "duration": 39,
    "start_time": "2022-05-07T00:56:21.555Z"
   },
   {
    "duration": 23,
    "start_time": "2022-05-07T00:56:21.595Z"
   },
   {
    "duration": 138,
    "start_time": "2022-05-07T00:56:21.620Z"
   },
   {
    "duration": 0,
    "start_time": "2022-05-07T00:56:21.760Z"
   },
   {
    "duration": 0,
    "start_time": "2022-05-07T00:56:21.761Z"
   },
   {
    "duration": 0,
    "start_time": "2022-05-07T00:56:21.762Z"
   },
   {
    "duration": 0,
    "start_time": "2022-05-07T00:56:21.763Z"
   },
   {
    "duration": 0,
    "start_time": "2022-05-07T00:56:21.764Z"
   },
   {
    "duration": 0,
    "start_time": "2022-05-07T00:56:21.765Z"
   },
   {
    "duration": 0,
    "start_time": "2022-05-07T00:56:21.766Z"
   },
   {
    "duration": 0,
    "start_time": "2022-05-07T00:56:21.767Z"
   },
   {
    "duration": 0,
    "start_time": "2022-05-07T00:56:21.768Z"
   },
   {
    "duration": 0,
    "start_time": "2022-05-07T00:56:21.769Z"
   },
   {
    "duration": 0,
    "start_time": "2022-05-07T00:56:21.770Z"
   },
   {
    "duration": 0,
    "start_time": "2022-05-07T00:56:21.771Z"
   },
   {
    "duration": 0,
    "start_time": "2022-05-07T00:56:21.772Z"
   },
   {
    "duration": 0,
    "start_time": "2022-05-07T00:56:21.793Z"
   },
   {
    "duration": 0,
    "start_time": "2022-05-07T00:56:21.794Z"
   },
   {
    "duration": 0,
    "start_time": "2022-05-07T00:56:21.795Z"
   },
   {
    "duration": 0,
    "start_time": "2022-05-07T00:56:21.796Z"
   },
   {
    "duration": 4394,
    "start_time": "2022-05-07T00:56:44.865Z"
   },
   {
    "duration": 25,
    "start_time": "2022-05-07T00:56:49.261Z"
   },
   {
    "duration": 52,
    "start_time": "2022-05-07T00:56:49.287Z"
   },
   {
    "duration": 20,
    "start_time": "2022-05-07T00:56:49.341Z"
   },
   {
    "duration": 5,
    "start_time": "2022-05-07T00:56:49.364Z"
   },
   {
    "duration": 5,
    "start_time": "2022-05-07T00:56:49.394Z"
   },
   {
    "duration": 6,
    "start_time": "2022-05-07T00:56:49.401Z"
   },
   {
    "duration": 148,
    "start_time": "2022-05-07T00:56:49.409Z"
   },
   {
    "duration": 20,
    "start_time": "2022-05-07T00:56:49.559Z"
   },
   {
    "duration": 21,
    "start_time": "2022-05-07T00:56:49.593Z"
   },
   {
    "duration": 23,
    "start_time": "2022-05-07T00:56:49.616Z"
   },
   {
    "duration": 13,
    "start_time": "2022-05-07T00:56:49.640Z"
   },
   {
    "duration": 2275,
    "start_time": "2022-05-07T00:56:49.655Z"
   },
   {
    "duration": 0,
    "start_time": "2022-05-07T00:56:51.932Z"
   },
   {
    "duration": 0,
    "start_time": "2022-05-07T00:56:51.933Z"
   },
   {
    "duration": 0,
    "start_time": "2022-05-07T00:56:51.935Z"
   },
   {
    "duration": 0,
    "start_time": "2022-05-07T00:56:51.936Z"
   },
   {
    "duration": 0,
    "start_time": "2022-05-07T00:56:51.938Z"
   },
   {
    "duration": 0,
    "start_time": "2022-05-07T00:56:51.939Z"
   },
   {
    "duration": 0,
    "start_time": "2022-05-07T00:56:51.941Z"
   },
   {
    "duration": 0,
    "start_time": "2022-05-07T00:56:51.943Z"
   },
   {
    "duration": 0,
    "start_time": "2022-05-07T00:56:51.945Z"
   },
   {
    "duration": 0,
    "start_time": "2022-05-07T00:56:51.946Z"
   },
   {
    "duration": 0,
    "start_time": "2022-05-07T00:56:51.947Z"
   },
   {
    "duration": 0,
    "start_time": "2022-05-07T00:56:51.949Z"
   },
   {
    "duration": 0,
    "start_time": "2022-05-07T00:56:51.951Z"
   },
   {
    "duration": 0,
    "start_time": "2022-05-07T00:56:51.952Z"
   },
   {
    "duration": 0,
    "start_time": "2022-05-07T00:56:51.954Z"
   },
   {
    "duration": 0,
    "start_time": "2022-05-07T00:56:51.955Z"
   },
   {
    "duration": 3461,
    "start_time": "2022-05-07T00:57:49.007Z"
   },
   {
    "duration": 24,
    "start_time": "2022-05-07T00:57:52.470Z"
   },
   {
    "duration": 48,
    "start_time": "2022-05-07T00:57:52.496Z"
   },
   {
    "duration": 19,
    "start_time": "2022-05-07T00:57:52.546Z"
   },
   {
    "duration": 5,
    "start_time": "2022-05-07T00:57:52.567Z"
   },
   {
    "duration": 23,
    "start_time": "2022-05-07T00:57:52.573Z"
   },
   {
    "duration": 7,
    "start_time": "2022-05-07T00:57:52.598Z"
   },
   {
    "duration": 151,
    "start_time": "2022-05-07T00:57:52.607Z"
   },
   {
    "duration": 18,
    "start_time": "2022-05-07T00:57:52.760Z"
   },
   {
    "duration": 31,
    "start_time": "2022-05-07T00:57:52.779Z"
   },
   {
    "duration": 22,
    "start_time": "2022-05-07T00:57:52.811Z"
   },
   {
    "duration": 12,
    "start_time": "2022-05-07T00:57:52.834Z"
   },
   {
    "duration": 2,
    "start_time": "2022-05-07T00:57:52.848Z"
   },
   {
    "duration": 12,
    "start_time": "2022-05-07T00:57:52.853Z"
   },
   {
    "duration": 43,
    "start_time": "2022-05-07T00:57:52.866Z"
   },
   {
    "duration": 112,
    "start_time": "2022-05-07T00:57:52.911Z"
   },
   {
    "duration": 5783,
    "start_time": "2022-05-07T00:57:53.024Z"
   },
   {
    "duration": 22,
    "start_time": "2022-05-07T00:57:58.808Z"
   },
   {
    "duration": 4,
    "start_time": "2022-05-07T00:57:58.832Z"
   },
   {
    "duration": 21,
    "start_time": "2022-05-07T00:57:58.838Z"
   },
   {
    "duration": 11,
    "start_time": "2022-05-07T00:57:58.861Z"
   },
   {
    "duration": 8,
    "start_time": "2022-05-07T00:57:58.874Z"
   },
   {
    "duration": 209,
    "start_time": "2022-05-07T00:57:58.893Z"
   },
   {
    "duration": 322,
    "start_time": "2022-05-07T00:57:59.103Z"
   },
   {
    "duration": 10417,
    "start_time": "2022-05-07T00:57:59.427Z"
   },
   {
    "duration": 115,
    "start_time": "2022-05-07T00:58:09.847Z"
   },
   {
    "duration": 1341,
    "start_time": "2022-05-07T00:58:09.963Z"
   },
   {
    "duration": 10446,
    "start_time": "2022-05-07T00:58:11.305Z"
   },
   {
    "duration": 9,
    "start_time": "2022-05-07T00:58:21.753Z"
   },
   {
    "duration": 13666,
    "start_time": "2022-05-07T00:58:25.977Z"
   },
   {
    "duration": 3500,
    "start_time": "2022-05-07T00:59:24.117Z"
   },
   {
    "duration": 24,
    "start_time": "2022-05-07T00:59:27.619Z"
   },
   {
    "duration": 48,
    "start_time": "2022-05-07T00:59:27.645Z"
   },
   {
    "duration": 20,
    "start_time": "2022-05-07T00:59:27.695Z"
   },
   {
    "duration": 4,
    "start_time": "2022-05-07T00:59:27.717Z"
   },
   {
    "duration": 9,
    "start_time": "2022-05-07T00:59:27.723Z"
   },
   {
    "duration": 7,
    "start_time": "2022-05-07T00:59:27.734Z"
   },
   {
    "duration": 153,
    "start_time": "2022-05-07T00:59:27.743Z"
   },
   {
    "duration": 19,
    "start_time": "2022-05-07T00:59:27.898Z"
   },
   {
    "duration": 21,
    "start_time": "2022-05-07T00:59:27.921Z"
   },
   {
    "duration": 22,
    "start_time": "2022-05-07T00:59:27.944Z"
   },
   {
    "duration": 41,
    "start_time": "2022-05-07T00:59:27.968Z"
   },
   {
    "duration": 5,
    "start_time": "2022-05-07T00:59:28.011Z"
   },
   {
    "duration": 12,
    "start_time": "2022-05-07T00:59:28.018Z"
   },
   {
    "duration": 25,
    "start_time": "2022-05-07T00:59:28.032Z"
   },
   {
    "duration": 203,
    "start_time": "2022-05-07T00:59:28.059Z"
   },
   {
    "duration": 8916,
    "start_time": "2022-05-07T00:59:28.264Z"
   },
   {
    "duration": 49,
    "start_time": "2022-05-07T00:59:37.182Z"
   },
   {
    "duration": 5,
    "start_time": "2022-05-07T00:59:37.233Z"
   },
   {
    "duration": 25,
    "start_time": "2022-05-07T00:59:37.240Z"
   },
   {
    "duration": 30,
    "start_time": "2022-05-07T00:59:37.267Z"
   },
   {
    "duration": 19,
    "start_time": "2022-05-07T00:59:37.299Z"
   },
   {
    "duration": 876,
    "start_time": "2022-05-07T00:59:37.320Z"
   },
   {
    "duration": 393,
    "start_time": "2022-05-07T00:59:38.199Z"
   },
   {
    "duration": 20198,
    "start_time": "2022-05-07T00:59:38.594Z"
   },
   {
    "duration": 104,
    "start_time": "2022-05-07T00:59:58.794Z"
   },
   {
    "duration": 1654,
    "start_time": "2022-05-07T00:59:58.899Z"
   },
   {
    "duration": 16165,
    "start_time": "2022-05-07T01:00:00.556Z"
   },
   {
    "duration": 12,
    "start_time": "2022-05-07T01:00:16.723Z"
   },
   {
    "duration": 14292,
    "start_time": "2022-05-07T01:06:28.685Z"
   },
   {
    "duration": 298,
    "start_time": "2022-05-07T01:07:53.377Z"
   },
   {
    "duration": 14940,
    "start_time": "2022-05-07T01:12:06.508Z"
   },
   {
    "duration": 14511,
    "start_time": "2022-05-07T01:12:37.135Z"
   },
   {
    "duration": 309,
    "start_time": "2022-05-07T01:14:30.472Z"
   },
   {
    "duration": 107,
    "start_time": "2022-05-07T01:15:43.417Z"
   },
   {
    "duration": 1655,
    "start_time": "2022-05-07T01:16:52.664Z"
   },
   {
    "duration": 4481,
    "start_time": "2022-05-07T01:17:37.528Z"
   },
   {
    "duration": 2347,
    "start_time": "2022-05-07T01:17:53.057Z"
   },
   {
    "duration": 14253,
    "start_time": "2022-05-07T01:28:34.957Z"
   },
   {
    "duration": 155,
    "start_time": "2022-05-07T01:29:35.029Z"
   },
   {
    "duration": 15,
    "start_time": "2022-05-07T01:30:03.814Z"
   },
   {
    "duration": 14,
    "start_time": "2022-05-07T01:30:47.995Z"
   },
   {
    "duration": 5,
    "start_time": "2022-05-07T01:31:27.609Z"
   },
   {
    "duration": 5,
    "start_time": "2022-05-07T01:34:28.264Z"
   },
   {
    "duration": 18,
    "start_time": "2022-05-07T01:35:44.699Z"
   },
   {
    "duration": 3452,
    "start_time": "2022-05-07T01:36:06.045Z"
   },
   {
    "duration": 340,
    "start_time": "2022-05-07T01:36:14.571Z"
   },
   {
    "duration": 190,
    "start_time": "2022-05-07T02:12:49.955Z"
   },
   {
    "duration": 8445,
    "start_time": "2022-05-07T02:13:03.831Z"
   },
   {
    "duration": 4526,
    "start_time": "2022-05-07T03:18:05.761Z"
   },
   {
    "duration": 29,
    "start_time": "2022-05-07T03:18:10.289Z"
   },
   {
    "duration": 48,
    "start_time": "2022-05-07T03:18:10.319Z"
   },
   {
    "duration": 32,
    "start_time": "2022-05-07T03:18:10.369Z"
   },
   {
    "duration": 5,
    "start_time": "2022-05-07T03:18:10.404Z"
   },
   {
    "duration": 5,
    "start_time": "2022-05-07T03:18:10.411Z"
   },
   {
    "duration": 4,
    "start_time": "2022-05-07T03:18:10.418Z"
   },
   {
    "duration": 151,
    "start_time": "2022-05-07T03:18:10.424Z"
   },
   {
    "duration": 29,
    "start_time": "2022-05-07T03:18:10.576Z"
   },
   {
    "duration": 7,
    "start_time": "2022-05-07T03:18:10.606Z"
   },
   {
    "duration": 21,
    "start_time": "2022-05-07T03:18:10.615Z"
   },
   {
    "duration": 22,
    "start_time": "2022-05-07T03:18:10.638Z"
   },
   {
    "duration": 17,
    "start_time": "2022-05-07T03:18:10.692Z"
   },
   {
    "duration": 11,
    "start_time": "2022-05-07T03:18:10.713Z"
   },
   {
    "duration": 26,
    "start_time": "2022-05-07T03:18:10.726Z"
   },
   {
    "duration": 221,
    "start_time": "2022-05-07T03:18:10.753Z"
   },
   {
    "duration": 8787,
    "start_time": "2022-05-07T03:18:10.976Z"
   },
   {
    "duration": 48,
    "start_time": "2022-05-07T03:18:19.765Z"
   },
   {
    "duration": 6,
    "start_time": "2022-05-07T03:18:19.815Z"
   },
   {
    "duration": 6,
    "start_time": "2022-05-07T03:18:19.823Z"
   },
   {
    "duration": 12,
    "start_time": "2022-05-07T03:18:19.831Z"
   },
   {
    "duration": 4,
    "start_time": "2022-05-07T03:18:19.845Z"
   },
   {
    "duration": 328,
    "start_time": "2022-05-07T03:18:19.851Z"
   },
   {
    "duration": 14296,
    "start_time": "2022-05-07T03:18:20.180Z"
   },
   {
    "duration": 114,
    "start_time": "2022-05-07T03:18:34.478Z"
   },
   {
    "duration": 1644,
    "start_time": "2022-05-07T03:18:34.594Z"
   },
   {
    "duration": 5,
    "start_time": "2022-05-07T03:18:36.240Z"
   },
   {
    "duration": 296,
    "start_time": "2022-05-07T03:18:36.246Z"
   },
   {
    "duration": 4442,
    "start_time": "2022-05-07T03:19:38.440Z"
   },
   {
    "duration": 47141,
    "start_time": "2022-05-07T18:43:15.124Z"
   },
   {
    "duration": 0,
    "start_time": "2022-05-07T18:44:02.268Z"
   },
   {
    "duration": 0,
    "start_time": "2022-05-07T18:44:02.269Z"
   },
   {
    "duration": 0,
    "start_time": "2022-05-07T18:44:02.270Z"
   },
   {
    "duration": 0,
    "start_time": "2022-05-07T18:44:02.271Z"
   },
   {
    "duration": 0,
    "start_time": "2022-05-07T18:44:02.272Z"
   },
   {
    "duration": 0,
    "start_time": "2022-05-07T18:44:02.273Z"
   },
   {
    "duration": 0,
    "start_time": "2022-05-07T18:44:02.274Z"
   },
   {
    "duration": 0,
    "start_time": "2022-05-07T18:44:02.275Z"
   },
   {
    "duration": 0,
    "start_time": "2022-05-07T18:44:02.276Z"
   },
   {
    "duration": 0,
    "start_time": "2022-05-07T18:44:02.277Z"
   },
   {
    "duration": 0,
    "start_time": "2022-05-07T18:44:02.278Z"
   },
   {
    "duration": 0,
    "start_time": "2022-05-07T18:44:02.279Z"
   },
   {
    "duration": 0,
    "start_time": "2022-05-07T18:44:02.281Z"
   },
   {
    "duration": 0,
    "start_time": "2022-05-07T18:44:02.282Z"
   },
   {
    "duration": 0,
    "start_time": "2022-05-07T18:44:02.283Z"
   },
   {
    "duration": 0,
    "start_time": "2022-05-07T18:44:02.283Z"
   },
   {
    "duration": 0,
    "start_time": "2022-05-07T18:44:02.285Z"
   },
   {
    "duration": 0,
    "start_time": "2022-05-07T18:44:02.286Z"
   },
   {
    "duration": 0,
    "start_time": "2022-05-07T18:44:02.287Z"
   },
   {
    "duration": 0,
    "start_time": "2022-05-07T18:44:02.287Z"
   },
   {
    "duration": 0,
    "start_time": "2022-05-07T18:44:02.323Z"
   },
   {
    "duration": 0,
    "start_time": "2022-05-07T18:44:02.324Z"
   },
   {
    "duration": 0,
    "start_time": "2022-05-07T18:44:02.325Z"
   },
   {
    "duration": 0,
    "start_time": "2022-05-07T18:44:02.326Z"
   },
   {
    "duration": 0,
    "start_time": "2022-05-07T18:44:02.327Z"
   },
   {
    "duration": 0,
    "start_time": "2022-05-07T18:44:02.328Z"
   },
   {
    "duration": 0,
    "start_time": "2022-05-07T18:44:02.329Z"
   },
   {
    "duration": 42418,
    "start_time": "2022-05-07T18:45:15.947Z"
   },
   {
    "duration": 0,
    "start_time": "2022-05-07T18:45:58.368Z"
   },
   {
    "duration": 0,
    "start_time": "2022-05-07T18:45:58.369Z"
   },
   {
    "duration": 0,
    "start_time": "2022-05-07T18:45:58.370Z"
   },
   {
    "duration": 0,
    "start_time": "2022-05-07T18:45:58.371Z"
   },
   {
    "duration": 0,
    "start_time": "2022-05-07T18:45:58.372Z"
   },
   {
    "duration": 0,
    "start_time": "2022-05-07T18:45:58.373Z"
   },
   {
    "duration": 0,
    "start_time": "2022-05-07T18:45:58.374Z"
   },
   {
    "duration": 0,
    "start_time": "2022-05-07T18:45:58.375Z"
   },
   {
    "duration": 0,
    "start_time": "2022-05-07T18:45:58.376Z"
   },
   {
    "duration": 0,
    "start_time": "2022-05-07T18:45:58.377Z"
   },
   {
    "duration": 0,
    "start_time": "2022-05-07T18:45:58.379Z"
   },
   {
    "duration": 0,
    "start_time": "2022-05-07T18:45:58.380Z"
   },
   {
    "duration": 0,
    "start_time": "2022-05-07T18:45:58.381Z"
   },
   {
    "duration": 0,
    "start_time": "2022-05-07T18:45:58.382Z"
   },
   {
    "duration": 0,
    "start_time": "2022-05-07T18:45:58.383Z"
   },
   {
    "duration": 0,
    "start_time": "2022-05-07T18:45:58.384Z"
   },
   {
    "duration": 0,
    "start_time": "2022-05-07T18:45:58.385Z"
   },
   {
    "duration": 0,
    "start_time": "2022-05-07T18:45:58.386Z"
   },
   {
    "duration": 0,
    "start_time": "2022-05-07T18:45:58.388Z"
   },
   {
    "duration": 0,
    "start_time": "2022-05-07T18:45:58.389Z"
   },
   {
    "duration": 0,
    "start_time": "2022-05-07T18:45:58.422Z"
   },
   {
    "duration": 0,
    "start_time": "2022-05-07T18:45:58.424Z"
   },
   {
    "duration": 0,
    "start_time": "2022-05-07T18:45:58.425Z"
   },
   {
    "duration": 0,
    "start_time": "2022-05-07T18:45:58.426Z"
   },
   {
    "duration": 0,
    "start_time": "2022-05-07T18:45:58.427Z"
   },
   {
    "duration": 0,
    "start_time": "2022-05-07T18:45:58.428Z"
   },
   {
    "duration": 0,
    "start_time": "2022-05-07T18:45:58.429Z"
   },
   {
    "duration": 3706,
    "start_time": "2022-05-07T18:46:26.363Z"
   },
   {
    "duration": 30,
    "start_time": "2022-05-07T18:46:30.072Z"
   },
   {
    "duration": 56,
    "start_time": "2022-05-07T18:46:30.104Z"
   },
   {
    "duration": 21,
    "start_time": "2022-05-07T18:46:30.162Z"
   },
   {
    "duration": 17,
    "start_time": "2022-05-07T18:46:30.185Z"
   },
   {
    "duration": 19,
    "start_time": "2022-05-07T18:46:30.204Z"
   },
   {
    "duration": 18,
    "start_time": "2022-05-07T18:46:30.225Z"
   },
   {
    "duration": 154,
    "start_time": "2022-05-07T18:46:30.245Z"
   },
   {
    "duration": 22,
    "start_time": "2022-05-07T18:46:30.401Z"
   },
   {
    "duration": 13,
    "start_time": "2022-05-07T18:46:30.425Z"
   },
   {
    "duration": 39,
    "start_time": "2022-05-07T18:46:30.440Z"
   },
   {
    "duration": 27,
    "start_time": "2022-05-07T18:46:30.480Z"
   },
   {
    "duration": 28,
    "start_time": "2022-05-07T18:46:30.508Z"
   },
   {
    "duration": 10,
    "start_time": "2022-05-07T18:46:30.539Z"
   },
   {
    "duration": 44,
    "start_time": "2022-05-07T18:46:30.551Z"
   },
   {
    "duration": 234,
    "start_time": "2022-05-07T18:46:30.596Z"
   },
   {
    "duration": 9608,
    "start_time": "2022-05-07T18:46:30.832Z"
   },
   {
    "duration": 43,
    "start_time": "2022-05-07T18:46:40.442Z"
   },
   {
    "duration": 5,
    "start_time": "2022-05-07T18:46:40.487Z"
   },
   {
    "duration": 30,
    "start_time": "2022-05-07T18:46:40.494Z"
   },
   {
    "duration": 12,
    "start_time": "2022-05-07T18:46:40.525Z"
   },
   {
    "duration": 6,
    "start_time": "2022-05-07T18:46:40.538Z"
   },
   {
    "duration": 336,
    "start_time": "2022-05-07T18:46:40.546Z"
   },
   {
    "duration": 20746,
    "start_time": "2022-05-07T18:46:40.884Z"
   },
   {
    "duration": 182,
    "start_time": "2022-05-07T18:47:01.633Z"
   },
   {
    "duration": 2519,
    "start_time": "2022-05-07T18:47:01.822Z"
   },
   {
    "duration": 8,
    "start_time": "2022-05-07T18:47:04.343Z"
   },
   {
    "duration": 277,
    "start_time": "2022-05-07T18:47:04.353Z"
   },
   {
    "duration": 15264,
    "start_time": "2022-05-08T21:56:44.122Z"
   },
   {
    "duration": 0,
    "start_time": "2022-05-08T21:56:59.389Z"
   },
   {
    "duration": 0,
    "start_time": "2022-05-08T21:56:59.391Z"
   },
   {
    "duration": 0,
    "start_time": "2022-05-08T21:56:59.393Z"
   },
   {
    "duration": 0,
    "start_time": "2022-05-08T21:56:59.394Z"
   },
   {
    "duration": 0,
    "start_time": "2022-05-08T21:56:59.396Z"
   },
   {
    "duration": 0,
    "start_time": "2022-05-08T21:56:59.398Z"
   },
   {
    "duration": 0,
    "start_time": "2022-05-08T21:56:59.400Z"
   },
   {
    "duration": 0,
    "start_time": "2022-05-08T21:56:59.425Z"
   },
   {
    "duration": 0,
    "start_time": "2022-05-08T21:56:59.427Z"
   },
   {
    "duration": 0,
    "start_time": "2022-05-08T21:56:59.429Z"
   },
   {
    "duration": 0,
    "start_time": "2022-05-08T21:56:59.431Z"
   },
   {
    "duration": 0,
    "start_time": "2022-05-08T21:56:59.433Z"
   },
   {
    "duration": 0,
    "start_time": "2022-05-08T21:56:59.435Z"
   },
   {
    "duration": 0,
    "start_time": "2022-05-08T21:56:59.437Z"
   },
   {
    "duration": 0,
    "start_time": "2022-05-08T21:56:59.438Z"
   },
   {
    "duration": 0,
    "start_time": "2022-05-08T21:56:59.441Z"
   },
   {
    "duration": 0,
    "start_time": "2022-05-08T21:56:59.442Z"
   },
   {
    "duration": 0,
    "start_time": "2022-05-08T21:56:59.444Z"
   },
   {
    "duration": 0,
    "start_time": "2022-05-08T21:56:59.446Z"
   },
   {
    "duration": 0,
    "start_time": "2022-05-08T21:56:59.448Z"
   },
   {
    "duration": 0,
    "start_time": "2022-05-08T21:56:59.450Z"
   },
   {
    "duration": 0,
    "start_time": "2022-05-08T21:56:59.451Z"
   },
   {
    "duration": 0,
    "start_time": "2022-05-08T21:56:59.453Z"
   },
   {
    "duration": 0,
    "start_time": "2022-05-08T21:56:59.455Z"
   },
   {
    "duration": 0,
    "start_time": "2022-05-08T21:56:59.457Z"
   },
   {
    "duration": 0,
    "start_time": "2022-05-08T21:56:59.458Z"
   },
   {
    "duration": 0,
    "start_time": "2022-05-08T21:56:59.460Z"
   },
   {
    "duration": 5078,
    "start_time": "2022-05-08T21:57:33.360Z"
   },
   {
    "duration": 37,
    "start_time": "2022-05-08T21:57:38.441Z"
   },
   {
    "duration": 87,
    "start_time": "2022-05-08T21:57:38.481Z"
   },
   {
    "duration": 33,
    "start_time": "2022-05-08T21:57:38.571Z"
   },
   {
    "duration": 7,
    "start_time": "2022-05-08T21:57:38.624Z"
   },
   {
    "duration": 10,
    "start_time": "2022-05-08T21:57:38.634Z"
   },
   {
    "duration": 8,
    "start_time": "2022-05-08T21:57:38.646Z"
   },
   {
    "duration": 251,
    "start_time": "2022-05-08T21:57:38.656Z"
   },
   {
    "duration": 35,
    "start_time": "2022-05-08T21:57:38.909Z"
   },
   {
    "duration": 9,
    "start_time": "2022-05-08T21:57:38.948Z"
   },
   {
    "duration": 35,
    "start_time": "2022-05-08T21:57:38.959Z"
   },
   {
    "duration": 63,
    "start_time": "2022-05-08T21:57:38.996Z"
   },
   {
    "duration": 29,
    "start_time": "2022-05-08T21:57:39.061Z"
   },
   {
    "duration": 43,
    "start_time": "2022-05-08T21:57:39.092Z"
   },
   {
    "duration": 42,
    "start_time": "2022-05-08T21:57:39.138Z"
   },
   {
    "duration": 308,
    "start_time": "2022-05-08T21:57:39.183Z"
   },
   {
    "duration": 13083,
    "start_time": "2022-05-08T21:57:39.493Z"
   },
   {
    "duration": 51,
    "start_time": "2022-05-08T21:57:52.578Z"
   },
   {
    "duration": 7,
    "start_time": "2022-05-08T21:57:52.631Z"
   },
   {
    "duration": 11,
    "start_time": "2022-05-08T21:57:52.640Z"
   },
   {
    "duration": 16,
    "start_time": "2022-05-08T21:57:52.653Z"
   },
   {
    "duration": 8,
    "start_time": "2022-05-08T21:57:52.671Z"
   },
   {
    "duration": 446,
    "start_time": "2022-05-08T21:57:52.725Z"
   },
   {
    "duration": 20750,
    "start_time": "2022-05-08T21:57:53.174Z"
   },
   {
    "duration": 173,
    "start_time": "2022-05-08T21:58:13.926Z"
   },
   {
    "duration": 2660,
    "start_time": "2022-05-08T21:58:14.101Z"
   },
   {
    "duration": 210,
    "start_time": "2022-05-08T21:58:16.763Z"
   },
   {
    "duration": 0,
    "start_time": "2022-05-08T21:58:16.976Z"
   },
   {
    "duration": 41,
    "start_time": "2022-05-08T22:01:45.663Z"
   },
   {
    "duration": 34,
    "start_time": "2022-05-08T22:01:57.581Z"
   },
   {
    "duration": 5308,
    "start_time": "2022-05-08T22:05:58.725Z"
   },
   {
    "duration": 34,
    "start_time": "2022-05-08T22:06:04.036Z"
   },
   {
    "duration": 95,
    "start_time": "2022-05-08T22:06:04.073Z"
   },
   {
    "duration": 56,
    "start_time": "2022-05-08T22:06:04.170Z"
   },
   {
    "duration": 6,
    "start_time": "2022-05-08T22:06:04.229Z"
   },
   {
    "duration": 9,
    "start_time": "2022-05-08T22:06:04.237Z"
   },
   {
    "duration": 8,
    "start_time": "2022-05-08T22:06:04.248Z"
   },
   {
    "duration": 253,
    "start_time": "2022-05-08T22:06:04.259Z"
   },
   {
    "duration": 35,
    "start_time": "2022-05-08T22:06:04.514Z"
   },
   {
    "duration": 11,
    "start_time": "2022-05-08T22:06:04.551Z"
   },
   {
    "duration": 63,
    "start_time": "2022-05-08T22:06:04.565Z"
   },
   {
    "duration": 37,
    "start_time": "2022-05-08T22:06:04.630Z"
   },
   {
    "duration": 27,
    "start_time": "2022-05-08T22:06:04.669Z"
   },
   {
    "duration": 19,
    "start_time": "2022-05-08T22:06:04.728Z"
   },
   {
    "duration": 83,
    "start_time": "2022-05-08T22:06:04.750Z"
   },
   {
    "duration": 308,
    "start_time": "2022-05-08T22:06:04.836Z"
   },
   {
    "duration": 10,
    "start_time": "2022-05-08T22:06:05.147Z"
   },
   {
    "duration": 13331,
    "start_time": "2022-05-08T22:06:05.160Z"
   },
   {
    "duration": 32,
    "start_time": "2022-05-08T22:06:18.494Z"
   },
   {
    "duration": 44,
    "start_time": "2022-05-08T22:06:18.528Z"
   },
   {
    "duration": 8,
    "start_time": "2022-05-08T22:06:18.574Z"
   },
   {
    "duration": 42,
    "start_time": "2022-05-08T22:06:18.584Z"
   },
   {
    "duration": 14,
    "start_time": "2022-05-08T22:06:18.628Z"
   },
   {
    "duration": 13,
    "start_time": "2022-05-08T22:06:18.645Z"
   },
   {
    "duration": 463,
    "start_time": "2022-05-08T22:06:18.661Z"
   },
   {
    "duration": 21605,
    "start_time": "2022-05-08T22:06:19.127Z"
   },
   {
    "duration": 248,
    "start_time": "2022-05-08T22:06:40.734Z"
   },
   {
    "duration": 2492,
    "start_time": "2022-05-08T22:06:40.984Z"
   },
   {
    "duration": 51,
    "start_time": "2022-05-08T22:06:43.480Z"
   },
   {
    "duration": 396,
    "start_time": "2022-05-08T22:06:43.534Z"
   },
   {
    "duration": 7154,
    "start_time": "2022-06-02T01:32:04.143Z"
   },
   {
    "duration": 0,
    "start_time": "2022-06-02T01:32:11.299Z"
   },
   {
    "duration": 0,
    "start_time": "2022-06-02T01:32:11.300Z"
   },
   {
    "duration": 0,
    "start_time": "2022-06-02T01:32:11.301Z"
   },
   {
    "duration": 0,
    "start_time": "2022-06-02T01:32:11.302Z"
   },
   {
    "duration": 0,
    "start_time": "2022-06-02T01:32:11.303Z"
   },
   {
    "duration": 0,
    "start_time": "2022-06-02T01:32:11.304Z"
   },
   {
    "duration": 0,
    "start_time": "2022-06-02T01:32:11.305Z"
   },
   {
    "duration": 0,
    "start_time": "2022-06-02T01:32:11.306Z"
   },
   {
    "duration": 0,
    "start_time": "2022-06-02T01:32:11.307Z"
   },
   {
    "duration": 0,
    "start_time": "2022-06-02T01:32:11.308Z"
   },
   {
    "duration": 0,
    "start_time": "2022-06-02T01:32:11.309Z"
   },
   {
    "duration": 0,
    "start_time": "2022-06-02T01:32:11.310Z"
   },
   {
    "duration": 0,
    "start_time": "2022-06-02T01:32:11.327Z"
   },
   {
    "duration": 2005,
    "start_time": "2022-06-02T01:32:16.265Z"
   },
   {
    "duration": 0,
    "start_time": "2022-06-02T01:32:18.272Z"
   },
   {
    "duration": 0,
    "start_time": "2022-06-02T01:32:18.274Z"
   },
   {
    "duration": 0,
    "start_time": "2022-06-02T01:32:18.276Z"
   },
   {
    "duration": 0,
    "start_time": "2022-06-02T01:32:18.277Z"
   },
   {
    "duration": 0,
    "start_time": "2022-06-02T01:32:18.278Z"
   },
   {
    "duration": 0,
    "start_time": "2022-06-02T01:32:18.279Z"
   },
   {
    "duration": 0,
    "start_time": "2022-06-02T01:32:18.281Z"
   },
   {
    "duration": 0,
    "start_time": "2022-06-02T01:32:18.282Z"
   },
   {
    "duration": 0,
    "start_time": "2022-06-02T01:32:18.283Z"
   },
   {
    "duration": 0,
    "start_time": "2022-06-02T01:32:18.285Z"
   },
   {
    "duration": 0,
    "start_time": "2022-06-02T01:32:18.286Z"
   },
   {
    "duration": 0,
    "start_time": "2022-06-02T01:32:18.287Z"
   },
   {
    "duration": 0,
    "start_time": "2022-06-02T01:32:18.289Z"
   },
   {
    "duration": 1954,
    "start_time": "2022-06-02T01:32:29.113Z"
   },
   {
    "duration": 1925,
    "start_time": "2022-06-02T01:32:39.589Z"
   },
   {
    "duration": 94,
    "start_time": "2022-06-02T01:32:42.809Z"
   },
   {
    "duration": 48,
    "start_time": "2022-06-02T01:32:44.629Z"
   },
   {
    "duration": 19,
    "start_time": "2022-06-02T01:32:50.429Z"
   },
   {
    "duration": 5,
    "start_time": "2022-06-02T01:32:51.028Z"
   },
   {
    "duration": 5,
    "start_time": "2022-06-02T01:32:51.698Z"
   },
   {
    "duration": 5,
    "start_time": "2022-06-02T01:32:52.171Z"
   },
   {
    "duration": 121,
    "start_time": "2022-06-02T01:32:52.447Z"
   },
   {
    "duration": 18,
    "start_time": "2022-06-02T01:32:54.329Z"
   },
   {
    "duration": 5,
    "start_time": "2022-06-02T01:32:56.159Z"
   },
   {
    "duration": 19,
    "start_time": "2022-06-02T01:32:57.537Z"
   },
   {
    "duration": 21,
    "start_time": "2022-06-02T01:32:58.049Z"
   },
   {
    "duration": 16,
    "start_time": "2022-06-02T01:32:59.723Z"
   },
   {
    "duration": 11,
    "start_time": "2022-06-02T01:33:02.225Z"
   },
   {
    "duration": 30,
    "start_time": "2022-06-02T01:33:04.145Z"
   },
   {
    "duration": 38,
    "start_time": "2022-06-02T01:33:19.613Z"
   }
  ],
  "kernelspec": {
   "display_name": "Python 3 (ipykernel)",
   "language": "python",
   "name": "python3"
  },
  "language_info": {
   "codemirror_mode": {
    "name": "ipython",
    "version": 3
   },
   "file_extension": ".py",
   "mimetype": "text/x-python",
   "name": "python",
   "nbconvert_exporter": "python",
   "pygments_lexer": "ipython3",
   "version": "3.9.5"
  },
  "toc": {
   "base_numbering": 1,
   "nav_menu": {},
   "number_sections": true,
   "sideBar": true,
   "skip_h1_title": true,
   "title_cell": "Table of Contents",
   "title_sidebar": "Contents",
   "toc_cell": false,
   "toc_position": {},
   "toc_section_display": true,
   "toc_window_display": false
  }
 },
 "nbformat": 4,
 "nbformat_minor": 2
}
