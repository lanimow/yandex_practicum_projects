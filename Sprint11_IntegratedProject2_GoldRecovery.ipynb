{
 "cells": [
  {
   "cell_type": "markdown",
   "metadata": {},
   "source": [
    "# Project Description"
   ]
  },
  {
   "cell_type": "markdown",
   "metadata": {},
   "source": [
    "Prepare a prototype of a machine learning model for Zyfra. The company develops efficiency solutions for heavy industry.\n",
    "\n",
    "The model should predict the amount of gold recovered from gold ore. You have the data on extraction and purification.\n",
    "The model will help to optimize the production and eliminate unprofitable parameters.\n",
    "\n",
    "You need to: Prepare the data; Perform data analysis; Develop and train a model.\n",
    "\n",
    "To complete the project, you may want to use documentation from pandas, matplotlib, and sklearn.\n",
    "The next lesson is about the ore purification process. You will pick the information that is important for the model development."
   ]
  },
  {
   "cell_type": "markdown",
   "metadata": {},
   "source": [
    "# Initialization"
   ]
  },
  {
   "cell_type": "code",
   "execution_count": 3,
   "metadata": {},
   "outputs": [],
   "source": [
    "import pandas as pd\n",
    "import numpy as np\n",
    "from numpy.random import RandomState\n",
    "import matplotlib.pyplot as plt\n",
    "import seaborn as sns\n",
    "from sklearn.metrics import mean_absolute_error\n",
    "from sklearn.model_selection import train_test_split\n",
    "from sklearn.linear_model import LinearRegression\n",
    "from sklearn.tree import DecisionTreeRegressor\n",
    "from sklearn.ensemble import RandomForestRegressor\n",
    "from sklearn.model_selection import cross_val_score\n",
    "from sklearn.metrics import mean_squared_error\n",
    "from sklearn.preprocessing import StandardScaler\n",
    "import warnings\n",
    "warnings.filterwarnings(\"ignore\")\n"
   ]
  },
  {
   "cell_type": "markdown",
   "metadata": {},
   "source": [
    "# Load data"
   ]
  },
  {
   "cell_type": "code",
   "execution_count": 4,
   "metadata": {},
   "outputs": [],
   "source": [
    "# Load the data files\n",
    "try:\n",
    "    df = pd.read_csv('/datasets/gold_recovery_train.csv')\n",
    "except:\n",
    "    train = pd.read_csv('gold_recovery_train.csv')\n",
    "try:\n",
    "    test = pd.read_csv('/datasets/gold_recovery_test.csv')\n",
    "except:\n",
    "    test = pd.read_csv('gold_recovery_test.csv')\n",
    "try:\n",
    "    full = pd.read_csv('/datasets/gold_recovery_full.csv')\n",
    "except:\n",
    "    full = pd.read_csv('gold_recovery_full.csv')\n",
    "    "
   ]
  },
  {
   "cell_type": "markdown",
   "metadata": {},
   "source": [
    "# Explore the data"
   ]
  },
  {
   "cell_type": "code",
   "execution_count": 3,
   "metadata": {},
   "outputs": [
    {
     "name": "stdout",
     "output_type": "stream",
     "text": [
      "<class 'pandas.core.frame.DataFrame'>\n",
      "RangeIndex: 16860 entries, 0 to 16859\n",
      "Data columns (total 87 columns):\n",
      " #   Column                                              Non-Null Count  Dtype  \n",
      "---  ------                                              --------------  -----  \n",
      " 0   date                                                16860 non-null  object \n",
      " 1   final.output.concentrate_ag                         16788 non-null  float64\n",
      " 2   final.output.concentrate_pb                         16788 non-null  float64\n",
      " 3   final.output.concentrate_sol                        16490 non-null  float64\n",
      " 4   final.output.concentrate_au                         16789 non-null  float64\n",
      " 5   final.output.recovery                               15339 non-null  float64\n",
      " 6   final.output.tail_ag                                16794 non-null  float64\n",
      " 7   final.output.tail_pb                                16677 non-null  float64\n",
      " 8   final.output.tail_sol                               16715 non-null  float64\n",
      " 9   final.output.tail_au                                16794 non-null  float64\n",
      " 10  primary_cleaner.input.sulfate                       15553 non-null  float64\n",
      " 11  primary_cleaner.input.depressant                    15598 non-null  float64\n",
      " 12  primary_cleaner.input.feed_size                     16860 non-null  float64\n",
      " 13  primary_cleaner.input.xanthate                      15875 non-null  float64\n",
      " 14  primary_cleaner.output.concentrate_ag               16778 non-null  float64\n",
      " 15  primary_cleaner.output.concentrate_pb               16502 non-null  float64\n",
      " 16  primary_cleaner.output.concentrate_sol              16224 non-null  float64\n",
      " 17  primary_cleaner.output.concentrate_au               16778 non-null  float64\n",
      " 18  primary_cleaner.output.tail_ag                      16777 non-null  float64\n",
      " 19  primary_cleaner.output.tail_pb                      16761 non-null  float64\n",
      " 20  primary_cleaner.output.tail_sol                     16579 non-null  float64\n",
      " 21  primary_cleaner.output.tail_au                      16777 non-null  float64\n",
      " 22  primary_cleaner.state.floatbank8_a_air              16820 non-null  float64\n",
      " 23  primary_cleaner.state.floatbank8_a_level            16827 non-null  float64\n",
      " 24  primary_cleaner.state.floatbank8_b_air              16820 non-null  float64\n",
      " 25  primary_cleaner.state.floatbank8_b_level            16833 non-null  float64\n",
      " 26  primary_cleaner.state.floatbank8_c_air              16822 non-null  float64\n",
      " 27  primary_cleaner.state.floatbank8_c_level            16833 non-null  float64\n",
      " 28  primary_cleaner.state.floatbank8_d_air              16821 non-null  float64\n",
      " 29  primary_cleaner.state.floatbank8_d_level            16833 non-null  float64\n",
      " 30  rougher.calculation.sulfate_to_au_concentrate       16833 non-null  float64\n",
      " 31  rougher.calculation.floatbank10_sulfate_to_au_feed  16833 non-null  float64\n",
      " 32  rougher.calculation.floatbank11_sulfate_to_au_feed  16833 non-null  float64\n",
      " 33  rougher.calculation.au_pb_ratio                     15618 non-null  float64\n",
      " 34  rougher.input.feed_ag                               16778 non-null  float64\n",
      " 35  rougher.input.feed_pb                               16632 non-null  float64\n",
      " 36  rougher.input.feed_rate                             16347 non-null  float64\n",
      " 37  rougher.input.feed_size                             16443 non-null  float64\n",
      " 38  rougher.input.feed_sol                              16568 non-null  float64\n",
      " 39  rougher.input.feed_au                               16777 non-null  float64\n",
      " 40  rougher.input.floatbank10_sulfate                   15816 non-null  float64\n",
      " 41  rougher.input.floatbank10_xanthate                  16514 non-null  float64\n",
      " 42  rougher.input.floatbank11_sulfate                   16237 non-null  float64\n",
      " 43  rougher.input.floatbank11_xanthate                  14956 non-null  float64\n",
      " 44  rougher.output.concentrate_ag                       16778 non-null  float64\n",
      " 45  rougher.output.concentrate_pb                       16778 non-null  float64\n",
      " 46  rougher.output.concentrate_sol                      16698 non-null  float64\n",
      " 47  rougher.output.concentrate_au                       16778 non-null  float64\n",
      " 48  rougher.output.recovery                             14287 non-null  float64\n",
      " 49  rougher.output.tail_ag                              14610 non-null  float64\n",
      " 50  rougher.output.tail_pb                              16778 non-null  float64\n",
      " 51  rougher.output.tail_sol                             14611 non-null  float64\n",
      " 52  rougher.output.tail_au                              14611 non-null  float64\n",
      " 53  rougher.state.floatbank10_a_air                     16807 non-null  float64\n",
      " 54  rougher.state.floatbank10_a_level                   16807 non-null  float64\n",
      " 55  rougher.state.floatbank10_b_air                     16807 non-null  float64\n",
      " 56  rougher.state.floatbank10_b_level                   16807 non-null  float64\n",
      " 57  rougher.state.floatbank10_c_air                     16807 non-null  float64\n",
      " 58  rougher.state.floatbank10_c_level                   16814 non-null  float64\n",
      " 59  rougher.state.floatbank10_d_air                     16802 non-null  float64\n",
      " 60  rougher.state.floatbank10_d_level                   16809 non-null  float64\n",
      " 61  rougher.state.floatbank10_e_air                     16257 non-null  float64\n",
      " 62  rougher.state.floatbank10_e_level                   16809 non-null  float64\n",
      " 63  rougher.state.floatbank10_f_air                     16802 non-null  float64\n",
      " 64  rougher.state.floatbank10_f_level                   16802 non-null  float64\n",
      " 65  secondary_cleaner.output.tail_ag                    16776 non-null  float64\n",
      " 66  secondary_cleaner.output.tail_pb                    16764 non-null  float64\n",
      " 67  secondary_cleaner.output.tail_sol                   14874 non-null  float64\n",
      " 68  secondary_cleaner.output.tail_au                    16778 non-null  float64\n",
      " 69  secondary_cleaner.state.floatbank2_a_air            16497 non-null  float64\n",
      " 70  secondary_cleaner.state.floatbank2_a_level          16751 non-null  float64\n",
      " 71  secondary_cleaner.state.floatbank2_b_air            16705 non-null  float64\n",
      " 72  secondary_cleaner.state.floatbank2_b_level          16748 non-null  float64\n",
      " 73  secondary_cleaner.state.floatbank3_a_air            16763 non-null  float64\n",
      " 74  secondary_cleaner.state.floatbank3_a_level          16747 non-null  float64\n",
      " 75  secondary_cleaner.state.floatbank3_b_air            16752 non-null  float64\n",
      " 76  secondary_cleaner.state.floatbank3_b_level          16750 non-null  float64\n",
      " 77  secondary_cleaner.state.floatbank4_a_air            16731 non-null  float64\n",
      " 78  secondary_cleaner.state.floatbank4_a_level          16747 non-null  float64\n",
      " 79  secondary_cleaner.state.floatbank4_b_air            16768 non-null  float64\n",
      " 80  secondary_cleaner.state.floatbank4_b_level          16767 non-null  float64\n",
      " 81  secondary_cleaner.state.floatbank5_a_air            16775 non-null  float64\n",
      " 82  secondary_cleaner.state.floatbank5_a_level          16775 non-null  float64\n",
      " 83  secondary_cleaner.state.floatbank5_b_air            16775 non-null  float64\n",
      " 84  secondary_cleaner.state.floatbank5_b_level          16776 non-null  float64\n",
      " 85  secondary_cleaner.state.floatbank6_a_air            16757 non-null  float64\n",
      " 86  secondary_cleaner.state.floatbank6_a_level          16775 non-null  float64\n",
      "dtypes: float64(86), object(1)\n",
      "memory usage: 11.2+ MB\n"
     ]
    },
    {
     "data": {
      "text/html": [
       "<div>\n",
       "<style scoped>\n",
       "    .dataframe tbody tr th:only-of-type {\n",
       "        vertical-align: middle;\n",
       "    }\n",
       "\n",
       "    .dataframe tbody tr th {\n",
       "        vertical-align: top;\n",
       "    }\n",
       "\n",
       "    .dataframe thead th {\n",
       "        text-align: right;\n",
       "    }\n",
       "</style>\n",
       "<table border=\"1\" class=\"dataframe\">\n",
       "  <thead>\n",
       "    <tr style=\"text-align: right;\">\n",
       "      <th></th>\n",
       "      <th>final.output.concentrate_ag</th>\n",
       "      <th>final.output.concentrate_pb</th>\n",
       "      <th>final.output.concentrate_sol</th>\n",
       "      <th>final.output.concentrate_au</th>\n",
       "      <th>final.output.recovery</th>\n",
       "      <th>final.output.tail_ag</th>\n",
       "      <th>final.output.tail_pb</th>\n",
       "      <th>final.output.tail_sol</th>\n",
       "      <th>final.output.tail_au</th>\n",
       "      <th>primary_cleaner.input.sulfate</th>\n",
       "      <th>...</th>\n",
       "      <th>secondary_cleaner.state.floatbank4_a_air</th>\n",
       "      <th>secondary_cleaner.state.floatbank4_a_level</th>\n",
       "      <th>secondary_cleaner.state.floatbank4_b_air</th>\n",
       "      <th>secondary_cleaner.state.floatbank4_b_level</th>\n",
       "      <th>secondary_cleaner.state.floatbank5_a_air</th>\n",
       "      <th>secondary_cleaner.state.floatbank5_a_level</th>\n",
       "      <th>secondary_cleaner.state.floatbank5_b_air</th>\n",
       "      <th>secondary_cleaner.state.floatbank5_b_level</th>\n",
       "      <th>secondary_cleaner.state.floatbank6_a_air</th>\n",
       "      <th>secondary_cleaner.state.floatbank6_a_level</th>\n",
       "    </tr>\n",
       "  </thead>\n",
       "  <tbody>\n",
       "    <tr>\n",
       "      <th>count</th>\n",
       "      <td>16788.000000</td>\n",
       "      <td>16788.000000</td>\n",
       "      <td>16490.000000</td>\n",
       "      <td>16789.000000</td>\n",
       "      <td>15339.000000</td>\n",
       "      <td>16794.000000</td>\n",
       "      <td>16677.000000</td>\n",
       "      <td>16715.000000</td>\n",
       "      <td>16794.000000</td>\n",
       "      <td>15553.000000</td>\n",
       "      <td>...</td>\n",
       "      <td>16731.000000</td>\n",
       "      <td>16747.000000</td>\n",
       "      <td>16768.000000</td>\n",
       "      <td>16767.000000</td>\n",
       "      <td>16775.000000</td>\n",
       "      <td>16775.000000</td>\n",
       "      <td>16775.000000</td>\n",
       "      <td>16776.000000</td>\n",
       "      <td>16757.000000</td>\n",
       "      <td>16775.000000</td>\n",
       "    </tr>\n",
       "    <tr>\n",
       "      <th>mean</th>\n",
       "      <td>4.716907</td>\n",
       "      <td>9.113559</td>\n",
       "      <td>8.301123</td>\n",
       "      <td>39.467217</td>\n",
       "      <td>67.213166</td>\n",
       "      <td>8.757048</td>\n",
       "      <td>2.360327</td>\n",
       "      <td>9.303932</td>\n",
       "      <td>2.687512</td>\n",
       "      <td>129.479789</td>\n",
       "      <td>...</td>\n",
       "      <td>19.101874</td>\n",
       "      <td>-494.164481</td>\n",
       "      <td>14.778164</td>\n",
       "      <td>-476.600082</td>\n",
       "      <td>15.779488</td>\n",
       "      <td>-500.230146</td>\n",
       "      <td>12.377241</td>\n",
       "      <td>-498.956257</td>\n",
       "      <td>18.429208</td>\n",
       "      <td>-521.801826</td>\n",
       "    </tr>\n",
       "    <tr>\n",
       "      <th>std</th>\n",
       "      <td>2.096718</td>\n",
       "      <td>3.389495</td>\n",
       "      <td>3.825760</td>\n",
       "      <td>13.917227</td>\n",
       "      <td>11.960446</td>\n",
       "      <td>3.634103</td>\n",
       "      <td>1.215576</td>\n",
       "      <td>4.263208</td>\n",
       "      <td>1.272757</td>\n",
       "      <td>45.386931</td>\n",
       "      <td>...</td>\n",
       "      <td>6.883163</td>\n",
       "      <td>84.803334</td>\n",
       "      <td>5.999149</td>\n",
       "      <td>89.381172</td>\n",
       "      <td>6.834703</td>\n",
       "      <td>76.983542</td>\n",
       "      <td>6.219989</td>\n",
       "      <td>82.146207</td>\n",
       "      <td>6.958294</td>\n",
       "      <td>77.170888</td>\n",
       "    </tr>\n",
       "    <tr>\n",
       "      <th>min</th>\n",
       "      <td>0.000000</td>\n",
       "      <td>0.000000</td>\n",
       "      <td>0.000000</td>\n",
       "      <td>0.000000</td>\n",
       "      <td>0.000000</td>\n",
       "      <td>0.000000</td>\n",
       "      <td>0.000000</td>\n",
       "      <td>0.000000</td>\n",
       "      <td>0.000000</td>\n",
       "      <td>0.000003</td>\n",
       "      <td>...</td>\n",
       "      <td>0.000000</td>\n",
       "      <td>-799.920713</td>\n",
       "      <td>0.000000</td>\n",
       "      <td>-800.021781</td>\n",
       "      <td>-0.423260</td>\n",
       "      <td>-799.741097</td>\n",
       "      <td>0.427084</td>\n",
       "      <td>-800.258209</td>\n",
       "      <td>0.024270</td>\n",
       "      <td>-810.473526</td>\n",
       "    </tr>\n",
       "    <tr>\n",
       "      <th>25%</th>\n",
       "      <td>3.971262</td>\n",
       "      <td>8.825748</td>\n",
       "      <td>6.939185</td>\n",
       "      <td>42.055722</td>\n",
       "      <td>62.625685</td>\n",
       "      <td>7.610544</td>\n",
       "      <td>1.641604</td>\n",
       "      <td>7.870275</td>\n",
       "      <td>2.172953</td>\n",
       "      <td>103.064021</td>\n",
       "      <td>...</td>\n",
       "      <td>14.508299</td>\n",
       "      <td>-500.837689</td>\n",
       "      <td>10.741388</td>\n",
       "      <td>-500.269182</td>\n",
       "      <td>10.977713</td>\n",
       "      <td>-500.530594</td>\n",
       "      <td>8.925586</td>\n",
       "      <td>-500.147603</td>\n",
       "      <td>13.977626</td>\n",
       "      <td>-501.080595</td>\n",
       "    </tr>\n",
       "    <tr>\n",
       "      <th>50%</th>\n",
       "      <td>4.869346</td>\n",
       "      <td>10.065316</td>\n",
       "      <td>8.557228</td>\n",
       "      <td>44.498874</td>\n",
       "      <td>67.644601</td>\n",
       "      <td>9.220393</td>\n",
       "      <td>2.453690</td>\n",
       "      <td>10.021968</td>\n",
       "      <td>2.781132</td>\n",
       "      <td>131.783108</td>\n",
       "      <td>...</td>\n",
       "      <td>19.986958</td>\n",
       "      <td>-499.778379</td>\n",
       "      <td>14.943933</td>\n",
       "      <td>-499.593286</td>\n",
       "      <td>15.998340</td>\n",
       "      <td>-499.784231</td>\n",
       "      <td>11.092839</td>\n",
       "      <td>-499.933330</td>\n",
       "      <td>18.034960</td>\n",
       "      <td>-500.109898</td>\n",
       "    </tr>\n",
       "    <tr>\n",
       "      <th>75%</th>\n",
       "      <td>5.821176</td>\n",
       "      <td>11.054809</td>\n",
       "      <td>10.289741</td>\n",
       "      <td>45.976222</td>\n",
       "      <td>72.824595</td>\n",
       "      <td>10.971110</td>\n",
       "      <td>3.192404</td>\n",
       "      <td>11.648573</td>\n",
       "      <td>3.416936</td>\n",
       "      <td>159.539839</td>\n",
       "      <td>...</td>\n",
       "      <td>24.983961</td>\n",
       "      <td>-494.648754</td>\n",
       "      <td>20.023751</td>\n",
       "      <td>-400.137948</td>\n",
       "      <td>20.000701</td>\n",
       "      <td>-496.531781</td>\n",
       "      <td>15.979467</td>\n",
       "      <td>-498.418000</td>\n",
       "      <td>24.984992</td>\n",
       "      <td>-499.565540</td>\n",
       "    </tr>\n",
       "    <tr>\n",
       "      <th>max</th>\n",
       "      <td>16.001945</td>\n",
       "      <td>17.031899</td>\n",
       "      <td>18.124851</td>\n",
       "      <td>53.611374</td>\n",
       "      <td>100.000000</td>\n",
       "      <td>19.552149</td>\n",
       "      <td>6.086532</td>\n",
       "      <td>22.317730</td>\n",
       "      <td>9.789625</td>\n",
       "      <td>251.999948</td>\n",
       "      <td>...</td>\n",
       "      <td>60.000000</td>\n",
       "      <td>-127.692333</td>\n",
       "      <td>28.003828</td>\n",
       "      <td>-71.472472</td>\n",
       "      <td>63.116298</td>\n",
       "      <td>-275.073125</td>\n",
       "      <td>39.846228</td>\n",
       "      <td>-120.190931</td>\n",
       "      <td>54.876806</td>\n",
       "      <td>-39.784927</td>\n",
       "    </tr>\n",
       "  </tbody>\n",
       "</table>\n",
       "<p>8 rows × 86 columns</p>\n",
       "</div>"
      ],
      "text/plain": [
       "       final.output.concentrate_ag  final.output.concentrate_pb  \\\n",
       "count                 16788.000000                 16788.000000   \n",
       "mean                      4.716907                     9.113559   \n",
       "std                       2.096718                     3.389495   \n",
       "min                       0.000000                     0.000000   \n",
       "25%                       3.971262                     8.825748   \n",
       "50%                       4.869346                    10.065316   \n",
       "75%                       5.821176                    11.054809   \n",
       "max                      16.001945                    17.031899   \n",
       "\n",
       "       final.output.concentrate_sol  final.output.concentrate_au  \\\n",
       "count                  16490.000000                 16789.000000   \n",
       "mean                       8.301123                    39.467217   \n",
       "std                        3.825760                    13.917227   \n",
       "min                        0.000000                     0.000000   \n",
       "25%                        6.939185                    42.055722   \n",
       "50%                        8.557228                    44.498874   \n",
       "75%                       10.289741                    45.976222   \n",
       "max                       18.124851                    53.611374   \n",
       "\n",
       "       final.output.recovery  final.output.tail_ag  final.output.tail_pb  \\\n",
       "count           15339.000000          16794.000000          16677.000000   \n",
       "mean               67.213166              8.757048              2.360327   \n",
       "std                11.960446              3.634103              1.215576   \n",
       "min                 0.000000              0.000000              0.000000   \n",
       "25%                62.625685              7.610544              1.641604   \n",
       "50%                67.644601              9.220393              2.453690   \n",
       "75%                72.824595             10.971110              3.192404   \n",
       "max               100.000000             19.552149              6.086532   \n",
       "\n",
       "       final.output.tail_sol  final.output.tail_au  \\\n",
       "count           16715.000000          16794.000000   \n",
       "mean                9.303932              2.687512   \n",
       "std                 4.263208              1.272757   \n",
       "min                 0.000000              0.000000   \n",
       "25%                 7.870275              2.172953   \n",
       "50%                10.021968              2.781132   \n",
       "75%                11.648573              3.416936   \n",
       "max                22.317730              9.789625   \n",
       "\n",
       "       primary_cleaner.input.sulfate  ...  \\\n",
       "count                   15553.000000  ...   \n",
       "mean                      129.479789  ...   \n",
       "std                        45.386931  ...   \n",
       "min                         0.000003  ...   \n",
       "25%                       103.064021  ...   \n",
       "50%                       131.783108  ...   \n",
       "75%                       159.539839  ...   \n",
       "max                       251.999948  ...   \n",
       "\n",
       "       secondary_cleaner.state.floatbank4_a_air  \\\n",
       "count                              16731.000000   \n",
       "mean                                  19.101874   \n",
       "std                                    6.883163   \n",
       "min                                    0.000000   \n",
       "25%                                   14.508299   \n",
       "50%                                   19.986958   \n",
       "75%                                   24.983961   \n",
       "max                                   60.000000   \n",
       "\n",
       "       secondary_cleaner.state.floatbank4_a_level  \\\n",
       "count                                16747.000000   \n",
       "mean                                  -494.164481   \n",
       "std                                     84.803334   \n",
       "min                                   -799.920713   \n",
       "25%                                   -500.837689   \n",
       "50%                                   -499.778379   \n",
       "75%                                   -494.648754   \n",
       "max                                   -127.692333   \n",
       "\n",
       "       secondary_cleaner.state.floatbank4_b_air  \\\n",
       "count                              16768.000000   \n",
       "mean                                  14.778164   \n",
       "std                                    5.999149   \n",
       "min                                    0.000000   \n",
       "25%                                   10.741388   \n",
       "50%                                   14.943933   \n",
       "75%                                   20.023751   \n",
       "max                                   28.003828   \n",
       "\n",
       "       secondary_cleaner.state.floatbank4_b_level  \\\n",
       "count                                16767.000000   \n",
       "mean                                  -476.600082   \n",
       "std                                     89.381172   \n",
       "min                                   -800.021781   \n",
       "25%                                   -500.269182   \n",
       "50%                                   -499.593286   \n",
       "75%                                   -400.137948   \n",
       "max                                    -71.472472   \n",
       "\n",
       "       secondary_cleaner.state.floatbank5_a_air  \\\n",
       "count                              16775.000000   \n",
       "mean                                  15.779488   \n",
       "std                                    6.834703   \n",
       "min                                   -0.423260   \n",
       "25%                                   10.977713   \n",
       "50%                                   15.998340   \n",
       "75%                                   20.000701   \n",
       "max                                   63.116298   \n",
       "\n",
       "       secondary_cleaner.state.floatbank5_a_level  \\\n",
       "count                                16775.000000   \n",
       "mean                                  -500.230146   \n",
       "std                                     76.983542   \n",
       "min                                   -799.741097   \n",
       "25%                                   -500.530594   \n",
       "50%                                   -499.784231   \n",
       "75%                                   -496.531781   \n",
       "max                                   -275.073125   \n",
       "\n",
       "       secondary_cleaner.state.floatbank5_b_air  \\\n",
       "count                              16775.000000   \n",
       "mean                                  12.377241   \n",
       "std                                    6.219989   \n",
       "min                                    0.427084   \n",
       "25%                                    8.925586   \n",
       "50%                                   11.092839   \n",
       "75%                                   15.979467   \n",
       "max                                   39.846228   \n",
       "\n",
       "       secondary_cleaner.state.floatbank5_b_level  \\\n",
       "count                                16776.000000   \n",
       "mean                                  -498.956257   \n",
       "std                                     82.146207   \n",
       "min                                   -800.258209   \n",
       "25%                                   -500.147603   \n",
       "50%                                   -499.933330   \n",
       "75%                                   -498.418000   \n",
       "max                                   -120.190931   \n",
       "\n",
       "       secondary_cleaner.state.floatbank6_a_air  \\\n",
       "count                              16757.000000   \n",
       "mean                                  18.429208   \n",
       "std                                    6.958294   \n",
       "min                                    0.024270   \n",
       "25%                                   13.977626   \n",
       "50%                                   18.034960   \n",
       "75%                                   24.984992   \n",
       "max                                   54.876806   \n",
       "\n",
       "       secondary_cleaner.state.floatbank6_a_level  \n",
       "count                                16775.000000  \n",
       "mean                                  -521.801826  \n",
       "std                                     77.170888  \n",
       "min                                   -810.473526  \n",
       "25%                                   -501.080595  \n",
       "50%                                   -500.109898  \n",
       "75%                                   -499.565540  \n",
       "max                                    -39.784927  \n",
       "\n",
       "[8 rows x 86 columns]"
      ]
     },
     "execution_count": 3,
     "metadata": {},
     "output_type": "execute_result"
    }
   ],
   "source": [
    "# Print general information about the 'train' dataframe\n",
    "train.info()\n",
    "train.describe()\n"
   ]
  },
  {
   "cell_type": "code",
   "execution_count": 4,
   "metadata": {},
   "outputs": [
    {
     "data": {
      "text/html": [
       "<div>\n",
       "<style scoped>\n",
       "    .dataframe tbody tr th:only-of-type {\n",
       "        vertical-align: middle;\n",
       "    }\n",
       "\n",
       "    .dataframe tbody tr th {\n",
       "        vertical-align: top;\n",
       "    }\n",
       "\n",
       "    .dataframe thead th {\n",
       "        text-align: right;\n",
       "    }\n",
       "</style>\n",
       "<table border=\"1\" class=\"dataframe\">\n",
       "  <thead>\n",
       "    <tr style=\"text-align: right;\">\n",
       "      <th></th>\n",
       "      <th>date</th>\n",
       "      <th>final.output.concentrate_ag</th>\n",
       "      <th>final.output.concentrate_pb</th>\n",
       "      <th>final.output.concentrate_sol</th>\n",
       "      <th>final.output.concentrate_au</th>\n",
       "      <th>final.output.recovery</th>\n",
       "      <th>final.output.tail_ag</th>\n",
       "      <th>final.output.tail_pb</th>\n",
       "      <th>final.output.tail_sol</th>\n",
       "      <th>final.output.tail_au</th>\n",
       "      <th>...</th>\n",
       "      <th>secondary_cleaner.state.floatbank4_a_air</th>\n",
       "      <th>secondary_cleaner.state.floatbank4_a_level</th>\n",
       "      <th>secondary_cleaner.state.floatbank4_b_air</th>\n",
       "      <th>secondary_cleaner.state.floatbank4_b_level</th>\n",
       "      <th>secondary_cleaner.state.floatbank5_a_air</th>\n",
       "      <th>secondary_cleaner.state.floatbank5_a_level</th>\n",
       "      <th>secondary_cleaner.state.floatbank5_b_air</th>\n",
       "      <th>secondary_cleaner.state.floatbank5_b_level</th>\n",
       "      <th>secondary_cleaner.state.floatbank6_a_air</th>\n",
       "      <th>secondary_cleaner.state.floatbank6_a_level</th>\n",
       "    </tr>\n",
       "  </thead>\n",
       "  <tbody>\n",
       "    <tr>\n",
       "      <th>0</th>\n",
       "      <td>2016-01-15 00:00:00</td>\n",
       "      <td>6.055403</td>\n",
       "      <td>9.889648</td>\n",
       "      <td>5.507324</td>\n",
       "      <td>42.192020</td>\n",
       "      <td>70.541216</td>\n",
       "      <td>10.411962</td>\n",
       "      <td>0.895447</td>\n",
       "      <td>16.904297</td>\n",
       "      <td>2.143149</td>\n",
       "      <td>...</td>\n",
       "      <td>14.016835</td>\n",
       "      <td>-502.488007</td>\n",
       "      <td>12.099931</td>\n",
       "      <td>-504.715942</td>\n",
       "      <td>9.925633</td>\n",
       "      <td>-498.310211</td>\n",
       "      <td>8.079666</td>\n",
       "      <td>-500.470978</td>\n",
       "      <td>14.151341</td>\n",
       "      <td>-605.841980</td>\n",
       "    </tr>\n",
       "    <tr>\n",
       "      <th>1</th>\n",
       "      <td>2016-01-15 01:00:00</td>\n",
       "      <td>6.029369</td>\n",
       "      <td>9.968944</td>\n",
       "      <td>5.257781</td>\n",
       "      <td>42.701629</td>\n",
       "      <td>69.266198</td>\n",
       "      <td>10.462676</td>\n",
       "      <td>0.927452</td>\n",
       "      <td>16.634514</td>\n",
       "      <td>2.224930</td>\n",
       "      <td>...</td>\n",
       "      <td>13.992281</td>\n",
       "      <td>-505.503262</td>\n",
       "      <td>11.950531</td>\n",
       "      <td>-501.331529</td>\n",
       "      <td>10.039245</td>\n",
       "      <td>-500.169983</td>\n",
       "      <td>7.984757</td>\n",
       "      <td>-500.582168</td>\n",
       "      <td>13.998353</td>\n",
       "      <td>-599.787184</td>\n",
       "    </tr>\n",
       "    <tr>\n",
       "      <th>2</th>\n",
       "      <td>2016-01-15 02:00:00</td>\n",
       "      <td>6.055926</td>\n",
       "      <td>10.213995</td>\n",
       "      <td>5.383759</td>\n",
       "      <td>42.657501</td>\n",
       "      <td>68.116445</td>\n",
       "      <td>10.507046</td>\n",
       "      <td>0.953716</td>\n",
       "      <td>16.208849</td>\n",
       "      <td>2.257889</td>\n",
       "      <td>...</td>\n",
       "      <td>14.015015</td>\n",
       "      <td>-502.520901</td>\n",
       "      <td>11.912783</td>\n",
       "      <td>-501.133383</td>\n",
       "      <td>10.070913</td>\n",
       "      <td>-500.129135</td>\n",
       "      <td>8.013877</td>\n",
       "      <td>-500.517572</td>\n",
       "      <td>14.028663</td>\n",
       "      <td>-601.427363</td>\n",
       "    </tr>\n",
       "    <tr>\n",
       "      <th>3</th>\n",
       "      <td>2016-01-15 03:00:00</td>\n",
       "      <td>6.047977</td>\n",
       "      <td>9.977019</td>\n",
       "      <td>4.858634</td>\n",
       "      <td>42.689819</td>\n",
       "      <td>68.347543</td>\n",
       "      <td>10.422762</td>\n",
       "      <td>0.883763</td>\n",
       "      <td>16.532835</td>\n",
       "      <td>2.146849</td>\n",
       "      <td>...</td>\n",
       "      <td>14.036510</td>\n",
       "      <td>-500.857308</td>\n",
       "      <td>11.999550</td>\n",
       "      <td>-501.193686</td>\n",
       "      <td>9.970366</td>\n",
       "      <td>-499.201640</td>\n",
       "      <td>7.977324</td>\n",
       "      <td>-500.255908</td>\n",
       "      <td>14.005551</td>\n",
       "      <td>-599.996129</td>\n",
       "    </tr>\n",
       "    <tr>\n",
       "      <th>4</th>\n",
       "      <td>2016-01-15 04:00:00</td>\n",
       "      <td>6.148599</td>\n",
       "      <td>10.142511</td>\n",
       "      <td>4.939416</td>\n",
       "      <td>42.774141</td>\n",
       "      <td>66.927016</td>\n",
       "      <td>10.360302</td>\n",
       "      <td>0.792826</td>\n",
       "      <td>16.525686</td>\n",
       "      <td>2.055292</td>\n",
       "      <td>...</td>\n",
       "      <td>14.027298</td>\n",
       "      <td>-499.838632</td>\n",
       "      <td>11.953070</td>\n",
       "      <td>-501.053894</td>\n",
       "      <td>9.925709</td>\n",
       "      <td>-501.686727</td>\n",
       "      <td>7.894242</td>\n",
       "      <td>-500.356035</td>\n",
       "      <td>13.996647</td>\n",
       "      <td>-601.496691</td>\n",
       "    </tr>\n",
       "    <tr>\n",
       "      <th>...</th>\n",
       "      <td>...</td>\n",
       "      <td>...</td>\n",
       "      <td>...</td>\n",
       "      <td>...</td>\n",
       "      <td>...</td>\n",
       "      <td>...</td>\n",
       "      <td>...</td>\n",
       "      <td>...</td>\n",
       "      <td>...</td>\n",
       "      <td>...</td>\n",
       "      <td>...</td>\n",
       "      <td>...</td>\n",
       "      <td>...</td>\n",
       "      <td>...</td>\n",
       "      <td>...</td>\n",
       "      <td>...</td>\n",
       "      <td>...</td>\n",
       "      <td>...</td>\n",
       "      <td>...</td>\n",
       "      <td>...</td>\n",
       "      <td>...</td>\n",
       "    </tr>\n",
       "    <tr>\n",
       "      <th>16855</th>\n",
       "      <td>2018-08-18 06:59:59</td>\n",
       "      <td>3.224920</td>\n",
       "      <td>11.356233</td>\n",
       "      <td>6.803482</td>\n",
       "      <td>46.713954</td>\n",
       "      <td>73.755150</td>\n",
       "      <td>8.769645</td>\n",
       "      <td>3.141541</td>\n",
       "      <td>10.403181</td>\n",
       "      <td>1.529220</td>\n",
       "      <td>...</td>\n",
       "      <td>23.031497</td>\n",
       "      <td>-501.167942</td>\n",
       "      <td>20.007571</td>\n",
       "      <td>-499.740028</td>\n",
       "      <td>18.006038</td>\n",
       "      <td>-499.834374</td>\n",
       "      <td>13.001114</td>\n",
       "      <td>-500.155694</td>\n",
       "      <td>20.007840</td>\n",
       "      <td>-501.296428</td>\n",
       "    </tr>\n",
       "    <tr>\n",
       "      <th>16856</th>\n",
       "      <td>2018-08-18 07:59:59</td>\n",
       "      <td>3.195978</td>\n",
       "      <td>11.349355</td>\n",
       "      <td>6.862249</td>\n",
       "      <td>46.866780</td>\n",
       "      <td>69.049291</td>\n",
       "      <td>8.897321</td>\n",
       "      <td>3.130493</td>\n",
       "      <td>10.549470</td>\n",
       "      <td>1.612542</td>\n",
       "      <td>...</td>\n",
       "      <td>22.960095</td>\n",
       "      <td>-501.612783</td>\n",
       "      <td>20.035660</td>\n",
       "      <td>-500.251357</td>\n",
       "      <td>17.998535</td>\n",
       "      <td>-500.395178</td>\n",
       "      <td>12.954048</td>\n",
       "      <td>-499.895163</td>\n",
       "      <td>19.968498</td>\n",
       "      <td>-501.041608</td>\n",
       "    </tr>\n",
       "    <tr>\n",
       "      <th>16857</th>\n",
       "      <td>2018-08-18 08:59:59</td>\n",
       "      <td>3.109998</td>\n",
       "      <td>11.434366</td>\n",
       "      <td>6.886013</td>\n",
       "      <td>46.795691</td>\n",
       "      <td>67.002189</td>\n",
       "      <td>8.529606</td>\n",
       "      <td>2.911418</td>\n",
       "      <td>11.115147</td>\n",
       "      <td>1.596616</td>\n",
       "      <td>...</td>\n",
       "      <td>23.015718</td>\n",
       "      <td>-501.711599</td>\n",
       "      <td>19.951231</td>\n",
       "      <td>-499.857027</td>\n",
       "      <td>18.019543</td>\n",
       "      <td>-500.451156</td>\n",
       "      <td>13.023431</td>\n",
       "      <td>-499.914391</td>\n",
       "      <td>19.990885</td>\n",
       "      <td>-501.518452</td>\n",
       "    </tr>\n",
       "    <tr>\n",
       "      <th>16858</th>\n",
       "      <td>2018-08-18 09:59:59</td>\n",
       "      <td>3.367241</td>\n",
       "      <td>11.625587</td>\n",
       "      <td>6.799433</td>\n",
       "      <td>46.408188</td>\n",
       "      <td>65.523246</td>\n",
       "      <td>8.777171</td>\n",
       "      <td>2.819214</td>\n",
       "      <td>10.463847</td>\n",
       "      <td>1.602879</td>\n",
       "      <td>...</td>\n",
       "      <td>23.024963</td>\n",
       "      <td>-501.153409</td>\n",
       "      <td>20.054122</td>\n",
       "      <td>-500.314711</td>\n",
       "      <td>17.979515</td>\n",
       "      <td>-499.272871</td>\n",
       "      <td>12.992404</td>\n",
       "      <td>-499.976268</td>\n",
       "      <td>20.013986</td>\n",
       "      <td>-500.625471</td>\n",
       "    </tr>\n",
       "    <tr>\n",
       "      <th>16859</th>\n",
       "      <td>2018-08-18 10:59:59</td>\n",
       "      <td>3.598375</td>\n",
       "      <td>11.737832</td>\n",
       "      <td>6.717509</td>\n",
       "      <td>46.299438</td>\n",
       "      <td>70.281454</td>\n",
       "      <td>8.406690</td>\n",
       "      <td>2.517518</td>\n",
       "      <td>10.652193</td>\n",
       "      <td>1.389434</td>\n",
       "      <td>...</td>\n",
       "      <td>23.018622</td>\n",
       "      <td>-500.492702</td>\n",
       "      <td>20.020205</td>\n",
       "      <td>-500.220296</td>\n",
       "      <td>17.963512</td>\n",
       "      <td>-499.939490</td>\n",
       "      <td>12.990306</td>\n",
       "      <td>-500.080993</td>\n",
       "      <td>19.990336</td>\n",
       "      <td>-499.191575</td>\n",
       "    </tr>\n",
       "  </tbody>\n",
       "</table>\n",
       "<p>16860 rows × 87 columns</p>\n",
       "</div>"
      ],
      "text/plain": [
       "                      date  final.output.concentrate_ag  \\\n",
       "0      2016-01-15 00:00:00                     6.055403   \n",
       "1      2016-01-15 01:00:00                     6.029369   \n",
       "2      2016-01-15 02:00:00                     6.055926   \n",
       "3      2016-01-15 03:00:00                     6.047977   \n",
       "4      2016-01-15 04:00:00                     6.148599   \n",
       "...                    ...                          ...   \n",
       "16855  2018-08-18 06:59:59                     3.224920   \n",
       "16856  2018-08-18 07:59:59                     3.195978   \n",
       "16857  2018-08-18 08:59:59                     3.109998   \n",
       "16858  2018-08-18 09:59:59                     3.367241   \n",
       "16859  2018-08-18 10:59:59                     3.598375   \n",
       "\n",
       "       final.output.concentrate_pb  final.output.concentrate_sol  \\\n",
       "0                         9.889648                      5.507324   \n",
       "1                         9.968944                      5.257781   \n",
       "2                        10.213995                      5.383759   \n",
       "3                         9.977019                      4.858634   \n",
       "4                        10.142511                      4.939416   \n",
       "...                            ...                           ...   \n",
       "16855                    11.356233                      6.803482   \n",
       "16856                    11.349355                      6.862249   \n",
       "16857                    11.434366                      6.886013   \n",
       "16858                    11.625587                      6.799433   \n",
       "16859                    11.737832                      6.717509   \n",
       "\n",
       "       final.output.concentrate_au  final.output.recovery  \\\n",
       "0                        42.192020              70.541216   \n",
       "1                        42.701629              69.266198   \n",
       "2                        42.657501              68.116445   \n",
       "3                        42.689819              68.347543   \n",
       "4                        42.774141              66.927016   \n",
       "...                            ...                    ...   \n",
       "16855                    46.713954              73.755150   \n",
       "16856                    46.866780              69.049291   \n",
       "16857                    46.795691              67.002189   \n",
       "16858                    46.408188              65.523246   \n",
       "16859                    46.299438              70.281454   \n",
       "\n",
       "       final.output.tail_ag  final.output.tail_pb  final.output.tail_sol  \\\n",
       "0                 10.411962              0.895447              16.904297   \n",
       "1                 10.462676              0.927452              16.634514   \n",
       "2                 10.507046              0.953716              16.208849   \n",
       "3                 10.422762              0.883763              16.532835   \n",
       "4                 10.360302              0.792826              16.525686   \n",
       "...                     ...                   ...                    ...   \n",
       "16855              8.769645              3.141541              10.403181   \n",
       "16856              8.897321              3.130493              10.549470   \n",
       "16857              8.529606              2.911418              11.115147   \n",
       "16858              8.777171              2.819214              10.463847   \n",
       "16859              8.406690              2.517518              10.652193   \n",
       "\n",
       "       final.output.tail_au  ...  secondary_cleaner.state.floatbank4_a_air  \\\n",
       "0                  2.143149  ...                                 14.016835   \n",
       "1                  2.224930  ...                                 13.992281   \n",
       "2                  2.257889  ...                                 14.015015   \n",
       "3                  2.146849  ...                                 14.036510   \n",
       "4                  2.055292  ...                                 14.027298   \n",
       "...                     ...  ...                                       ...   \n",
       "16855              1.529220  ...                                 23.031497   \n",
       "16856              1.612542  ...                                 22.960095   \n",
       "16857              1.596616  ...                                 23.015718   \n",
       "16858              1.602879  ...                                 23.024963   \n",
       "16859              1.389434  ...                                 23.018622   \n",
       "\n",
       "       secondary_cleaner.state.floatbank4_a_level  \\\n",
       "0                                     -502.488007   \n",
       "1                                     -505.503262   \n",
       "2                                     -502.520901   \n",
       "3                                     -500.857308   \n",
       "4                                     -499.838632   \n",
       "...                                           ...   \n",
       "16855                                 -501.167942   \n",
       "16856                                 -501.612783   \n",
       "16857                                 -501.711599   \n",
       "16858                                 -501.153409   \n",
       "16859                                 -500.492702   \n",
       "\n",
       "       secondary_cleaner.state.floatbank4_b_air  \\\n",
       "0                                     12.099931   \n",
       "1                                     11.950531   \n",
       "2                                     11.912783   \n",
       "3                                     11.999550   \n",
       "4                                     11.953070   \n",
       "...                                         ...   \n",
       "16855                                 20.007571   \n",
       "16856                                 20.035660   \n",
       "16857                                 19.951231   \n",
       "16858                                 20.054122   \n",
       "16859                                 20.020205   \n",
       "\n",
       "       secondary_cleaner.state.floatbank4_b_level  \\\n",
       "0                                     -504.715942   \n",
       "1                                     -501.331529   \n",
       "2                                     -501.133383   \n",
       "3                                     -501.193686   \n",
       "4                                     -501.053894   \n",
       "...                                           ...   \n",
       "16855                                 -499.740028   \n",
       "16856                                 -500.251357   \n",
       "16857                                 -499.857027   \n",
       "16858                                 -500.314711   \n",
       "16859                                 -500.220296   \n",
       "\n",
       "       secondary_cleaner.state.floatbank5_a_air  \\\n",
       "0                                      9.925633   \n",
       "1                                     10.039245   \n",
       "2                                     10.070913   \n",
       "3                                      9.970366   \n",
       "4                                      9.925709   \n",
       "...                                         ...   \n",
       "16855                                 18.006038   \n",
       "16856                                 17.998535   \n",
       "16857                                 18.019543   \n",
       "16858                                 17.979515   \n",
       "16859                                 17.963512   \n",
       "\n",
       "       secondary_cleaner.state.floatbank5_a_level  \\\n",
       "0                                     -498.310211   \n",
       "1                                     -500.169983   \n",
       "2                                     -500.129135   \n",
       "3                                     -499.201640   \n",
       "4                                     -501.686727   \n",
       "...                                           ...   \n",
       "16855                                 -499.834374   \n",
       "16856                                 -500.395178   \n",
       "16857                                 -500.451156   \n",
       "16858                                 -499.272871   \n",
       "16859                                 -499.939490   \n",
       "\n",
       "       secondary_cleaner.state.floatbank5_b_air  \\\n",
       "0                                      8.079666   \n",
       "1                                      7.984757   \n",
       "2                                      8.013877   \n",
       "3                                      7.977324   \n",
       "4                                      7.894242   \n",
       "...                                         ...   \n",
       "16855                                 13.001114   \n",
       "16856                                 12.954048   \n",
       "16857                                 13.023431   \n",
       "16858                                 12.992404   \n",
       "16859                                 12.990306   \n",
       "\n",
       "       secondary_cleaner.state.floatbank5_b_level  \\\n",
       "0                                     -500.470978   \n",
       "1                                     -500.582168   \n",
       "2                                     -500.517572   \n",
       "3                                     -500.255908   \n",
       "4                                     -500.356035   \n",
       "...                                           ...   \n",
       "16855                                 -500.155694   \n",
       "16856                                 -499.895163   \n",
       "16857                                 -499.914391   \n",
       "16858                                 -499.976268   \n",
       "16859                                 -500.080993   \n",
       "\n",
       "       secondary_cleaner.state.floatbank6_a_air  \\\n",
       "0                                     14.151341   \n",
       "1                                     13.998353   \n",
       "2                                     14.028663   \n",
       "3                                     14.005551   \n",
       "4                                     13.996647   \n",
       "...                                         ...   \n",
       "16855                                 20.007840   \n",
       "16856                                 19.968498   \n",
       "16857                                 19.990885   \n",
       "16858                                 20.013986   \n",
       "16859                                 19.990336   \n",
       "\n",
       "       secondary_cleaner.state.floatbank6_a_level  \n",
       "0                                     -605.841980  \n",
       "1                                     -599.787184  \n",
       "2                                     -601.427363  \n",
       "3                                     -599.996129  \n",
       "4                                     -601.496691  \n",
       "...                                           ...  \n",
       "16855                                 -501.296428  \n",
       "16856                                 -501.041608  \n",
       "16857                                 -501.518452  \n",
       "16858                                 -500.625471  \n",
       "16859                                 -499.191575  \n",
       "\n",
       "[16860 rows x 87 columns]"
      ]
     },
     "execution_count": 4,
     "metadata": {},
     "output_type": "execute_result"
    }
   ],
   "source": [
    "# Print a sample of the data for 'train'\n",
    "train\n"
   ]
  },
  {
   "cell_type": "code",
   "execution_count": 5,
   "metadata": {},
   "outputs": [
    {
     "name": "stdout",
     "output_type": "stream",
     "text": [
      "<class 'pandas.core.frame.DataFrame'>\n",
      "RangeIndex: 5856 entries, 0 to 5855\n",
      "Data columns (total 53 columns):\n",
      " #   Column                                      Non-Null Count  Dtype  \n",
      "---  ------                                      --------------  -----  \n",
      " 0   date                                        5856 non-null   object \n",
      " 1   primary_cleaner.input.sulfate               5554 non-null   float64\n",
      " 2   primary_cleaner.input.depressant            5572 non-null   float64\n",
      " 3   primary_cleaner.input.feed_size             5856 non-null   float64\n",
      " 4   primary_cleaner.input.xanthate              5690 non-null   float64\n",
      " 5   primary_cleaner.state.floatbank8_a_air      5840 non-null   float64\n",
      " 6   primary_cleaner.state.floatbank8_a_level    5840 non-null   float64\n",
      " 7   primary_cleaner.state.floatbank8_b_air      5840 non-null   float64\n",
      " 8   primary_cleaner.state.floatbank8_b_level    5840 non-null   float64\n",
      " 9   primary_cleaner.state.floatbank8_c_air      5840 non-null   float64\n",
      " 10  primary_cleaner.state.floatbank8_c_level    5840 non-null   float64\n",
      " 11  primary_cleaner.state.floatbank8_d_air      5840 non-null   float64\n",
      " 12  primary_cleaner.state.floatbank8_d_level    5840 non-null   float64\n",
      " 13  rougher.input.feed_ag                       5840 non-null   float64\n",
      " 14  rougher.input.feed_pb                       5840 non-null   float64\n",
      " 15  rougher.input.feed_rate                     5816 non-null   float64\n",
      " 16  rougher.input.feed_size                     5834 non-null   float64\n",
      " 17  rougher.input.feed_sol                      5789 non-null   float64\n",
      " 18  rougher.input.feed_au                       5840 non-null   float64\n",
      " 19  rougher.input.floatbank10_sulfate           5599 non-null   float64\n",
      " 20  rougher.input.floatbank10_xanthate          5733 non-null   float64\n",
      " 21  rougher.input.floatbank11_sulfate           5801 non-null   float64\n",
      " 22  rougher.input.floatbank11_xanthate          5503 non-null   float64\n",
      " 23  rougher.state.floatbank10_a_air             5839 non-null   float64\n",
      " 24  rougher.state.floatbank10_a_level           5840 non-null   float64\n",
      " 25  rougher.state.floatbank10_b_air             5839 non-null   float64\n",
      " 26  rougher.state.floatbank10_b_level           5840 non-null   float64\n",
      " 27  rougher.state.floatbank10_c_air             5839 non-null   float64\n",
      " 28  rougher.state.floatbank10_c_level           5840 non-null   float64\n",
      " 29  rougher.state.floatbank10_d_air             5839 non-null   float64\n",
      " 30  rougher.state.floatbank10_d_level           5840 non-null   float64\n",
      " 31  rougher.state.floatbank10_e_air             5839 non-null   float64\n",
      " 32  rougher.state.floatbank10_e_level           5840 non-null   float64\n",
      " 33  rougher.state.floatbank10_f_air             5839 non-null   float64\n",
      " 34  rougher.state.floatbank10_f_level           5840 non-null   float64\n",
      " 35  secondary_cleaner.state.floatbank2_a_air    5836 non-null   float64\n",
      " 36  secondary_cleaner.state.floatbank2_a_level  5840 non-null   float64\n",
      " 37  secondary_cleaner.state.floatbank2_b_air    5833 non-null   float64\n",
      " 38  secondary_cleaner.state.floatbank2_b_level  5840 non-null   float64\n",
      " 39  secondary_cleaner.state.floatbank3_a_air    5822 non-null   float64\n",
      " 40  secondary_cleaner.state.floatbank3_a_level  5840 non-null   float64\n",
      " 41  secondary_cleaner.state.floatbank3_b_air    5840 non-null   float64\n",
      " 42  secondary_cleaner.state.floatbank3_b_level  5840 non-null   float64\n",
      " 43  secondary_cleaner.state.floatbank4_a_air    5840 non-null   float64\n",
      " 44  secondary_cleaner.state.floatbank4_a_level  5840 non-null   float64\n",
      " 45  secondary_cleaner.state.floatbank4_b_air    5840 non-null   float64\n",
      " 46  secondary_cleaner.state.floatbank4_b_level  5840 non-null   float64\n",
      " 47  secondary_cleaner.state.floatbank5_a_air    5840 non-null   float64\n",
      " 48  secondary_cleaner.state.floatbank5_a_level  5840 non-null   float64\n",
      " 49  secondary_cleaner.state.floatbank5_b_air    5840 non-null   float64\n",
      " 50  secondary_cleaner.state.floatbank5_b_level  5840 non-null   float64\n",
      " 51  secondary_cleaner.state.floatbank6_a_air    5840 non-null   float64\n",
      " 52  secondary_cleaner.state.floatbank6_a_level  5840 non-null   float64\n",
      "dtypes: float64(52), object(1)\n",
      "memory usage: 2.4+ MB\n"
     ]
    },
    {
     "data": {
      "text/html": [
       "<div>\n",
       "<style scoped>\n",
       "    .dataframe tbody tr th:only-of-type {\n",
       "        vertical-align: middle;\n",
       "    }\n",
       "\n",
       "    .dataframe tbody tr th {\n",
       "        vertical-align: top;\n",
       "    }\n",
       "\n",
       "    .dataframe thead th {\n",
       "        text-align: right;\n",
       "    }\n",
       "</style>\n",
       "<table border=\"1\" class=\"dataframe\">\n",
       "  <thead>\n",
       "    <tr style=\"text-align: right;\">\n",
       "      <th></th>\n",
       "      <th>primary_cleaner.input.sulfate</th>\n",
       "      <th>primary_cleaner.input.depressant</th>\n",
       "      <th>primary_cleaner.input.feed_size</th>\n",
       "      <th>primary_cleaner.input.xanthate</th>\n",
       "      <th>primary_cleaner.state.floatbank8_a_air</th>\n",
       "      <th>primary_cleaner.state.floatbank8_a_level</th>\n",
       "      <th>primary_cleaner.state.floatbank8_b_air</th>\n",
       "      <th>primary_cleaner.state.floatbank8_b_level</th>\n",
       "      <th>primary_cleaner.state.floatbank8_c_air</th>\n",
       "      <th>primary_cleaner.state.floatbank8_c_level</th>\n",
       "      <th>...</th>\n",
       "      <th>secondary_cleaner.state.floatbank4_a_air</th>\n",
       "      <th>secondary_cleaner.state.floatbank4_a_level</th>\n",
       "      <th>secondary_cleaner.state.floatbank4_b_air</th>\n",
       "      <th>secondary_cleaner.state.floatbank4_b_level</th>\n",
       "      <th>secondary_cleaner.state.floatbank5_a_air</th>\n",
       "      <th>secondary_cleaner.state.floatbank5_a_level</th>\n",
       "      <th>secondary_cleaner.state.floatbank5_b_air</th>\n",
       "      <th>secondary_cleaner.state.floatbank5_b_level</th>\n",
       "      <th>secondary_cleaner.state.floatbank6_a_air</th>\n",
       "      <th>secondary_cleaner.state.floatbank6_a_level</th>\n",
       "    </tr>\n",
       "  </thead>\n",
       "  <tbody>\n",
       "    <tr>\n",
       "      <th>count</th>\n",
       "      <td>5554.000000</td>\n",
       "      <td>5572.000000</td>\n",
       "      <td>5856.000000</td>\n",
       "      <td>5690.000000</td>\n",
       "      <td>5840.000000</td>\n",
       "      <td>5840.000000</td>\n",
       "      <td>5840.000000</td>\n",
       "      <td>5840.000000</td>\n",
       "      <td>5840.000000</td>\n",
       "      <td>5840.000000</td>\n",
       "      <td>...</td>\n",
       "      <td>5840.000000</td>\n",
       "      <td>5840.000000</td>\n",
       "      <td>5840.000000</td>\n",
       "      <td>5840.000000</td>\n",
       "      <td>5840.000000</td>\n",
       "      <td>5840.000000</td>\n",
       "      <td>5840.000000</td>\n",
       "      <td>5840.000000</td>\n",
       "      <td>5840.000000</td>\n",
       "      <td>5840.000000</td>\n",
       "    </tr>\n",
       "    <tr>\n",
       "      <th>mean</th>\n",
       "      <td>170.515243</td>\n",
       "      <td>8.482873</td>\n",
       "      <td>7.264651</td>\n",
       "      <td>1.321420</td>\n",
       "      <td>1481.990241</td>\n",
       "      <td>-509.057796</td>\n",
       "      <td>1486.908670</td>\n",
       "      <td>-511.743956</td>\n",
       "      <td>1468.495216</td>\n",
       "      <td>-509.741212</td>\n",
       "      <td>...</td>\n",
       "      <td>15.636031</td>\n",
       "      <td>-516.266074</td>\n",
       "      <td>13.145702</td>\n",
       "      <td>-476.338907</td>\n",
       "      <td>12.308967</td>\n",
       "      <td>-512.208126</td>\n",
       "      <td>9.470986</td>\n",
       "      <td>-505.017827</td>\n",
       "      <td>16.678722</td>\n",
       "      <td>-512.351694</td>\n",
       "    </tr>\n",
       "    <tr>\n",
       "      <th>std</th>\n",
       "      <td>49.608602</td>\n",
       "      <td>3.353105</td>\n",
       "      <td>0.611526</td>\n",
       "      <td>0.693246</td>\n",
       "      <td>310.453166</td>\n",
       "      <td>61.339256</td>\n",
       "      <td>313.224286</td>\n",
       "      <td>67.139074</td>\n",
       "      <td>309.980748</td>\n",
       "      <td>62.671873</td>\n",
       "      <td>...</td>\n",
       "      <td>4.660835</td>\n",
       "      <td>62.756748</td>\n",
       "      <td>4.304086</td>\n",
       "      <td>105.549424</td>\n",
       "      <td>3.762827</td>\n",
       "      <td>58.864651</td>\n",
       "      <td>3.312471</td>\n",
       "      <td>68.785898</td>\n",
       "      <td>5.404514</td>\n",
       "      <td>69.919839</td>\n",
       "    </tr>\n",
       "    <tr>\n",
       "      <th>min</th>\n",
       "      <td>0.000103</td>\n",
       "      <td>0.000031</td>\n",
       "      <td>5.650000</td>\n",
       "      <td>0.000003</td>\n",
       "      <td>0.000000</td>\n",
       "      <td>-799.773788</td>\n",
       "      <td>0.000000</td>\n",
       "      <td>-800.029078</td>\n",
       "      <td>0.000000</td>\n",
       "      <td>-799.995127</td>\n",
       "      <td>...</td>\n",
       "      <td>0.000000</td>\n",
       "      <td>-799.798523</td>\n",
       "      <td>0.000000</td>\n",
       "      <td>-800.836914</td>\n",
       "      <td>-0.223393</td>\n",
       "      <td>-799.661076</td>\n",
       "      <td>0.528083</td>\n",
       "      <td>-800.220337</td>\n",
       "      <td>-0.079426</td>\n",
       "      <td>-809.859706</td>\n",
       "    </tr>\n",
       "    <tr>\n",
       "      <th>25%</th>\n",
       "      <td>143.340022</td>\n",
       "      <td>6.411500</td>\n",
       "      <td>6.885625</td>\n",
       "      <td>0.888769</td>\n",
       "      <td>1497.190681</td>\n",
       "      <td>-500.455211</td>\n",
       "      <td>1497.150234</td>\n",
       "      <td>-500.936639</td>\n",
       "      <td>1437.050321</td>\n",
       "      <td>-501.300441</td>\n",
       "      <td>...</td>\n",
       "      <td>12.057838</td>\n",
       "      <td>-501.054741</td>\n",
       "      <td>11.880119</td>\n",
       "      <td>-500.419113</td>\n",
       "      <td>10.123459</td>\n",
       "      <td>-500.879383</td>\n",
       "      <td>7.991208</td>\n",
       "      <td>-500.223089</td>\n",
       "      <td>13.012422</td>\n",
       "      <td>-500.833821</td>\n",
       "    </tr>\n",
       "    <tr>\n",
       "      <th>50%</th>\n",
       "      <td>176.103893</td>\n",
       "      <td>8.023252</td>\n",
       "      <td>7.259333</td>\n",
       "      <td>1.183362</td>\n",
       "      <td>1554.659783</td>\n",
       "      <td>-499.997402</td>\n",
       "      <td>1553.268084</td>\n",
       "      <td>-500.066588</td>\n",
       "      <td>1546.160672</td>\n",
       "      <td>-500.079537</td>\n",
       "      <td>...</td>\n",
       "      <td>17.001867</td>\n",
       "      <td>-500.160145</td>\n",
       "      <td>14.952102</td>\n",
       "      <td>-499.644328</td>\n",
       "      <td>12.062877</td>\n",
       "      <td>-500.047621</td>\n",
       "      <td>9.980774</td>\n",
       "      <td>-500.001338</td>\n",
       "      <td>16.007242</td>\n",
       "      <td>-500.041085</td>\n",
       "    </tr>\n",
       "    <tr>\n",
       "      <th>75%</th>\n",
       "      <td>207.240761</td>\n",
       "      <td>10.017725</td>\n",
       "      <td>7.650000</td>\n",
       "      <td>1.763797</td>\n",
       "      <td>1601.681656</td>\n",
       "      <td>-499.575313</td>\n",
       "      <td>1601.784707</td>\n",
       "      <td>-499.323361</td>\n",
       "      <td>1600.785573</td>\n",
       "      <td>-499.009545</td>\n",
       "      <td>...</td>\n",
       "      <td>18.030985</td>\n",
       "      <td>-499.441529</td>\n",
       "      <td>15.940011</td>\n",
       "      <td>-401.523664</td>\n",
       "      <td>15.017881</td>\n",
       "      <td>-499.297033</td>\n",
       "      <td>11.992176</td>\n",
       "      <td>-499.722835</td>\n",
       "      <td>21.009076</td>\n",
       "      <td>-499.395621</td>\n",
       "    </tr>\n",
       "    <tr>\n",
       "      <th>max</th>\n",
       "      <td>274.409626</td>\n",
       "      <td>40.024582</td>\n",
       "      <td>15.500000</td>\n",
       "      <td>5.433169</td>\n",
       "      <td>2212.432090</td>\n",
       "      <td>-57.195404</td>\n",
       "      <td>1975.147923</td>\n",
       "      <td>-142.527229</td>\n",
       "      <td>1715.053773</td>\n",
       "      <td>-150.937035</td>\n",
       "      <td>...</td>\n",
       "      <td>30.051797</td>\n",
       "      <td>-401.565212</td>\n",
       "      <td>31.269706</td>\n",
       "      <td>-6.506986</td>\n",
       "      <td>25.258848</td>\n",
       "      <td>-244.483566</td>\n",
       "      <td>14.090194</td>\n",
       "      <td>-126.463446</td>\n",
       "      <td>26.705889</td>\n",
       "      <td>-29.093593</td>\n",
       "    </tr>\n",
       "  </tbody>\n",
       "</table>\n",
       "<p>8 rows × 52 columns</p>\n",
       "</div>"
      ],
      "text/plain": [
       "       primary_cleaner.input.sulfate  primary_cleaner.input.depressant  \\\n",
       "count                    5554.000000                       5572.000000   \n",
       "mean                      170.515243                          8.482873   \n",
       "std                        49.608602                          3.353105   \n",
       "min                         0.000103                          0.000031   \n",
       "25%                       143.340022                          6.411500   \n",
       "50%                       176.103893                          8.023252   \n",
       "75%                       207.240761                         10.017725   \n",
       "max                       274.409626                         40.024582   \n",
       "\n",
       "       primary_cleaner.input.feed_size  primary_cleaner.input.xanthate  \\\n",
       "count                      5856.000000                     5690.000000   \n",
       "mean                          7.264651                        1.321420   \n",
       "std                           0.611526                        0.693246   \n",
       "min                           5.650000                        0.000003   \n",
       "25%                           6.885625                        0.888769   \n",
       "50%                           7.259333                        1.183362   \n",
       "75%                           7.650000                        1.763797   \n",
       "max                          15.500000                        5.433169   \n",
       "\n",
       "       primary_cleaner.state.floatbank8_a_air  \\\n",
       "count                             5840.000000   \n",
       "mean                              1481.990241   \n",
       "std                                310.453166   \n",
       "min                                  0.000000   \n",
       "25%                               1497.190681   \n",
       "50%                               1554.659783   \n",
       "75%                               1601.681656   \n",
       "max                               2212.432090   \n",
       "\n",
       "       primary_cleaner.state.floatbank8_a_level  \\\n",
       "count                               5840.000000   \n",
       "mean                                -509.057796   \n",
       "std                                   61.339256   \n",
       "min                                 -799.773788   \n",
       "25%                                 -500.455211   \n",
       "50%                                 -499.997402   \n",
       "75%                                 -499.575313   \n",
       "max                                  -57.195404   \n",
       "\n",
       "       primary_cleaner.state.floatbank8_b_air  \\\n",
       "count                             5840.000000   \n",
       "mean                              1486.908670   \n",
       "std                                313.224286   \n",
       "min                                  0.000000   \n",
       "25%                               1497.150234   \n",
       "50%                               1553.268084   \n",
       "75%                               1601.784707   \n",
       "max                               1975.147923   \n",
       "\n",
       "       primary_cleaner.state.floatbank8_b_level  \\\n",
       "count                               5840.000000   \n",
       "mean                                -511.743956   \n",
       "std                                   67.139074   \n",
       "min                                 -800.029078   \n",
       "25%                                 -500.936639   \n",
       "50%                                 -500.066588   \n",
       "75%                                 -499.323361   \n",
       "max                                 -142.527229   \n",
       "\n",
       "       primary_cleaner.state.floatbank8_c_air  \\\n",
       "count                             5840.000000   \n",
       "mean                              1468.495216   \n",
       "std                                309.980748   \n",
       "min                                  0.000000   \n",
       "25%                               1437.050321   \n",
       "50%                               1546.160672   \n",
       "75%                               1600.785573   \n",
       "max                               1715.053773   \n",
       "\n",
       "       primary_cleaner.state.floatbank8_c_level  ...  \\\n",
       "count                               5840.000000  ...   \n",
       "mean                                -509.741212  ...   \n",
       "std                                   62.671873  ...   \n",
       "min                                 -799.995127  ...   \n",
       "25%                                 -501.300441  ...   \n",
       "50%                                 -500.079537  ...   \n",
       "75%                                 -499.009545  ...   \n",
       "max                                 -150.937035  ...   \n",
       "\n",
       "       secondary_cleaner.state.floatbank4_a_air  \\\n",
       "count                               5840.000000   \n",
       "mean                                  15.636031   \n",
       "std                                    4.660835   \n",
       "min                                    0.000000   \n",
       "25%                                   12.057838   \n",
       "50%                                   17.001867   \n",
       "75%                                   18.030985   \n",
       "max                                   30.051797   \n",
       "\n",
       "       secondary_cleaner.state.floatbank4_a_level  \\\n",
       "count                                 5840.000000   \n",
       "mean                                  -516.266074   \n",
       "std                                     62.756748   \n",
       "min                                   -799.798523   \n",
       "25%                                   -501.054741   \n",
       "50%                                   -500.160145   \n",
       "75%                                   -499.441529   \n",
       "max                                   -401.565212   \n",
       "\n",
       "       secondary_cleaner.state.floatbank4_b_air  \\\n",
       "count                               5840.000000   \n",
       "mean                                  13.145702   \n",
       "std                                    4.304086   \n",
       "min                                    0.000000   \n",
       "25%                                   11.880119   \n",
       "50%                                   14.952102   \n",
       "75%                                   15.940011   \n",
       "max                                   31.269706   \n",
       "\n",
       "       secondary_cleaner.state.floatbank4_b_level  \\\n",
       "count                                 5840.000000   \n",
       "mean                                  -476.338907   \n",
       "std                                    105.549424   \n",
       "min                                   -800.836914   \n",
       "25%                                   -500.419113   \n",
       "50%                                   -499.644328   \n",
       "75%                                   -401.523664   \n",
       "max                                     -6.506986   \n",
       "\n",
       "       secondary_cleaner.state.floatbank5_a_air  \\\n",
       "count                               5840.000000   \n",
       "mean                                  12.308967   \n",
       "std                                    3.762827   \n",
       "min                                   -0.223393   \n",
       "25%                                   10.123459   \n",
       "50%                                   12.062877   \n",
       "75%                                   15.017881   \n",
       "max                                   25.258848   \n",
       "\n",
       "       secondary_cleaner.state.floatbank5_a_level  \\\n",
       "count                                 5840.000000   \n",
       "mean                                  -512.208126   \n",
       "std                                     58.864651   \n",
       "min                                   -799.661076   \n",
       "25%                                   -500.879383   \n",
       "50%                                   -500.047621   \n",
       "75%                                   -499.297033   \n",
       "max                                   -244.483566   \n",
       "\n",
       "       secondary_cleaner.state.floatbank5_b_air  \\\n",
       "count                               5840.000000   \n",
       "mean                                   9.470986   \n",
       "std                                    3.312471   \n",
       "min                                    0.528083   \n",
       "25%                                    7.991208   \n",
       "50%                                    9.980774   \n",
       "75%                                   11.992176   \n",
       "max                                   14.090194   \n",
       "\n",
       "       secondary_cleaner.state.floatbank5_b_level  \\\n",
       "count                                 5840.000000   \n",
       "mean                                  -505.017827   \n",
       "std                                     68.785898   \n",
       "min                                   -800.220337   \n",
       "25%                                   -500.223089   \n",
       "50%                                   -500.001338   \n",
       "75%                                   -499.722835   \n",
       "max                                   -126.463446   \n",
       "\n",
       "       secondary_cleaner.state.floatbank6_a_air  \\\n",
       "count                               5840.000000   \n",
       "mean                                  16.678722   \n",
       "std                                    5.404514   \n",
       "min                                   -0.079426   \n",
       "25%                                   13.012422   \n",
       "50%                                   16.007242   \n",
       "75%                                   21.009076   \n",
       "max                                   26.705889   \n",
       "\n",
       "       secondary_cleaner.state.floatbank6_a_level  \n",
       "count                                 5840.000000  \n",
       "mean                                  -512.351694  \n",
       "std                                     69.919839  \n",
       "min                                   -809.859706  \n",
       "25%                                   -500.833821  \n",
       "50%                                   -500.041085  \n",
       "75%                                   -499.395621  \n",
       "max                                    -29.093593  \n",
       "\n",
       "[8 rows x 52 columns]"
      ]
     },
     "execution_count": 5,
     "metadata": {},
     "output_type": "execute_result"
    }
   ],
   "source": [
    "# Print general information about the 'test' dataframe\n",
    "test.info()\n",
    "test.describe()\n"
   ]
  },
  {
   "cell_type": "code",
   "execution_count": 6,
   "metadata": {},
   "outputs": [
    {
     "data": {
      "text/html": [
       "<div>\n",
       "<style scoped>\n",
       "    .dataframe tbody tr th:only-of-type {\n",
       "        vertical-align: middle;\n",
       "    }\n",
       "\n",
       "    .dataframe tbody tr th {\n",
       "        vertical-align: top;\n",
       "    }\n",
       "\n",
       "    .dataframe thead th {\n",
       "        text-align: right;\n",
       "    }\n",
       "</style>\n",
       "<table border=\"1\" class=\"dataframe\">\n",
       "  <thead>\n",
       "    <tr style=\"text-align: right;\">\n",
       "      <th></th>\n",
       "      <th>date</th>\n",
       "      <th>primary_cleaner.input.sulfate</th>\n",
       "      <th>primary_cleaner.input.depressant</th>\n",
       "      <th>primary_cleaner.input.feed_size</th>\n",
       "      <th>primary_cleaner.input.xanthate</th>\n",
       "      <th>primary_cleaner.state.floatbank8_a_air</th>\n",
       "      <th>primary_cleaner.state.floatbank8_a_level</th>\n",
       "      <th>primary_cleaner.state.floatbank8_b_air</th>\n",
       "      <th>primary_cleaner.state.floatbank8_b_level</th>\n",
       "      <th>primary_cleaner.state.floatbank8_c_air</th>\n",
       "      <th>...</th>\n",
       "      <th>secondary_cleaner.state.floatbank4_a_air</th>\n",
       "      <th>secondary_cleaner.state.floatbank4_a_level</th>\n",
       "      <th>secondary_cleaner.state.floatbank4_b_air</th>\n",
       "      <th>secondary_cleaner.state.floatbank4_b_level</th>\n",
       "      <th>secondary_cleaner.state.floatbank5_a_air</th>\n",
       "      <th>secondary_cleaner.state.floatbank5_a_level</th>\n",
       "      <th>secondary_cleaner.state.floatbank5_b_air</th>\n",
       "      <th>secondary_cleaner.state.floatbank5_b_level</th>\n",
       "      <th>secondary_cleaner.state.floatbank6_a_air</th>\n",
       "      <th>secondary_cleaner.state.floatbank6_a_level</th>\n",
       "    </tr>\n",
       "  </thead>\n",
       "  <tbody>\n",
       "    <tr>\n",
       "      <th>0</th>\n",
       "      <td>2016-09-01 00:59:59</td>\n",
       "      <td>210.800909</td>\n",
       "      <td>14.993118</td>\n",
       "      <td>8.080000</td>\n",
       "      <td>1.005021</td>\n",
       "      <td>1398.981301</td>\n",
       "      <td>-500.225577</td>\n",
       "      <td>1399.144926</td>\n",
       "      <td>-499.919735</td>\n",
       "      <td>1400.102998</td>\n",
       "      <td>...</td>\n",
       "      <td>12.023554</td>\n",
       "      <td>-497.795834</td>\n",
       "      <td>8.016656</td>\n",
       "      <td>-501.289139</td>\n",
       "      <td>7.946562</td>\n",
       "      <td>-432.317850</td>\n",
       "      <td>4.872511</td>\n",
       "      <td>-500.037437</td>\n",
       "      <td>26.705889</td>\n",
       "      <td>-499.709414</td>\n",
       "    </tr>\n",
       "    <tr>\n",
       "      <th>1</th>\n",
       "      <td>2016-09-01 01:59:59</td>\n",
       "      <td>215.392455</td>\n",
       "      <td>14.987471</td>\n",
       "      <td>8.080000</td>\n",
       "      <td>0.990469</td>\n",
       "      <td>1398.777912</td>\n",
       "      <td>-500.057435</td>\n",
       "      <td>1398.055362</td>\n",
       "      <td>-499.778182</td>\n",
       "      <td>1396.151033</td>\n",
       "      <td>...</td>\n",
       "      <td>12.058140</td>\n",
       "      <td>-498.695773</td>\n",
       "      <td>8.130979</td>\n",
       "      <td>-499.634209</td>\n",
       "      <td>7.958270</td>\n",
       "      <td>-525.839648</td>\n",
       "      <td>4.878850</td>\n",
       "      <td>-500.162375</td>\n",
       "      <td>25.019940</td>\n",
       "      <td>-499.819438</td>\n",
       "    </tr>\n",
       "    <tr>\n",
       "      <th>2</th>\n",
       "      <td>2016-09-01 02:59:59</td>\n",
       "      <td>215.259946</td>\n",
       "      <td>12.884934</td>\n",
       "      <td>7.786667</td>\n",
       "      <td>0.996043</td>\n",
       "      <td>1398.493666</td>\n",
       "      <td>-500.868360</td>\n",
       "      <td>1398.860436</td>\n",
       "      <td>-499.764529</td>\n",
       "      <td>1398.075709</td>\n",
       "      <td>...</td>\n",
       "      <td>11.962366</td>\n",
       "      <td>-498.767484</td>\n",
       "      <td>8.096893</td>\n",
       "      <td>-500.827423</td>\n",
       "      <td>8.071056</td>\n",
       "      <td>-500.801673</td>\n",
       "      <td>4.905125</td>\n",
       "      <td>-499.828510</td>\n",
       "      <td>24.994862</td>\n",
       "      <td>-500.622559</td>\n",
       "    </tr>\n",
       "    <tr>\n",
       "      <th>3</th>\n",
       "      <td>2016-09-01 03:59:59</td>\n",
       "      <td>215.336236</td>\n",
       "      <td>12.006805</td>\n",
       "      <td>7.640000</td>\n",
       "      <td>0.863514</td>\n",
       "      <td>1399.618111</td>\n",
       "      <td>-498.863574</td>\n",
       "      <td>1397.440120</td>\n",
       "      <td>-499.211024</td>\n",
       "      <td>1400.129303</td>\n",
       "      <td>...</td>\n",
       "      <td>12.033091</td>\n",
       "      <td>-498.350935</td>\n",
       "      <td>8.074946</td>\n",
       "      <td>-499.474407</td>\n",
       "      <td>7.897085</td>\n",
       "      <td>-500.868509</td>\n",
       "      <td>4.931400</td>\n",
       "      <td>-499.963623</td>\n",
       "      <td>24.948919</td>\n",
       "      <td>-498.709987</td>\n",
       "    </tr>\n",
       "    <tr>\n",
       "      <th>4</th>\n",
       "      <td>2016-09-01 04:59:59</td>\n",
       "      <td>199.099327</td>\n",
       "      <td>10.682530</td>\n",
       "      <td>7.530000</td>\n",
       "      <td>0.805575</td>\n",
       "      <td>1401.268123</td>\n",
       "      <td>-500.808305</td>\n",
       "      <td>1398.128818</td>\n",
       "      <td>-499.504543</td>\n",
       "      <td>1402.172226</td>\n",
       "      <td>...</td>\n",
       "      <td>12.025367</td>\n",
       "      <td>-500.786497</td>\n",
       "      <td>8.054678</td>\n",
       "      <td>-500.397500</td>\n",
       "      <td>8.107890</td>\n",
       "      <td>-509.526725</td>\n",
       "      <td>4.957674</td>\n",
       "      <td>-500.360026</td>\n",
       "      <td>25.003331</td>\n",
       "      <td>-500.856333</td>\n",
       "    </tr>\n",
       "    <tr>\n",
       "      <th>...</th>\n",
       "      <td>...</td>\n",
       "      <td>...</td>\n",
       "      <td>...</td>\n",
       "      <td>...</td>\n",
       "      <td>...</td>\n",
       "      <td>...</td>\n",
       "      <td>...</td>\n",
       "      <td>...</td>\n",
       "      <td>...</td>\n",
       "      <td>...</td>\n",
       "      <td>...</td>\n",
       "      <td>...</td>\n",
       "      <td>...</td>\n",
       "      <td>...</td>\n",
       "      <td>...</td>\n",
       "      <td>...</td>\n",
       "      <td>...</td>\n",
       "      <td>...</td>\n",
       "      <td>...</td>\n",
       "      <td>...</td>\n",
       "      <td>...</td>\n",
       "    </tr>\n",
       "    <tr>\n",
       "      <th>5851</th>\n",
       "      <td>2017-12-31 19:59:59</td>\n",
       "      <td>173.957757</td>\n",
       "      <td>15.963399</td>\n",
       "      <td>8.070000</td>\n",
       "      <td>0.896701</td>\n",
       "      <td>1401.930554</td>\n",
       "      <td>-499.728848</td>\n",
       "      <td>1401.441445</td>\n",
       "      <td>-499.193423</td>\n",
       "      <td>1399.810313</td>\n",
       "      <td>...</td>\n",
       "      <td>13.995957</td>\n",
       "      <td>-500.157454</td>\n",
       "      <td>12.069155</td>\n",
       "      <td>-499.673279</td>\n",
       "      <td>7.977259</td>\n",
       "      <td>-499.516126</td>\n",
       "      <td>5.933319</td>\n",
       "      <td>-499.965973</td>\n",
       "      <td>8.987171</td>\n",
       "      <td>-499.755909</td>\n",
       "    </tr>\n",
       "    <tr>\n",
       "      <th>5852</th>\n",
       "      <td>2017-12-31 20:59:59</td>\n",
       "      <td>172.910270</td>\n",
       "      <td>16.002605</td>\n",
       "      <td>8.070000</td>\n",
       "      <td>0.896519</td>\n",
       "      <td>1447.075722</td>\n",
       "      <td>-494.716823</td>\n",
       "      <td>1448.851892</td>\n",
       "      <td>-465.963026</td>\n",
       "      <td>1443.890424</td>\n",
       "      <td>...</td>\n",
       "      <td>16.749781</td>\n",
       "      <td>-496.031539</td>\n",
       "      <td>13.365371</td>\n",
       "      <td>-499.122723</td>\n",
       "      <td>9.288553</td>\n",
       "      <td>-496.892967</td>\n",
       "      <td>7.372897</td>\n",
       "      <td>-499.942956</td>\n",
       "      <td>8.986832</td>\n",
       "      <td>-499.903761</td>\n",
       "    </tr>\n",
       "    <tr>\n",
       "      <th>5853</th>\n",
       "      <td>2017-12-31 21:59:59</td>\n",
       "      <td>171.135718</td>\n",
       "      <td>15.993669</td>\n",
       "      <td>8.070000</td>\n",
       "      <td>1.165996</td>\n",
       "      <td>1498.836182</td>\n",
       "      <td>-501.770403</td>\n",
       "      <td>1499.572353</td>\n",
       "      <td>-495.516347</td>\n",
       "      <td>1502.749213</td>\n",
       "      <td>...</td>\n",
       "      <td>19.994130</td>\n",
       "      <td>-499.791312</td>\n",
       "      <td>15.101425</td>\n",
       "      <td>-499.936252</td>\n",
       "      <td>10.989181</td>\n",
       "      <td>-498.347898</td>\n",
       "      <td>9.020944</td>\n",
       "      <td>-500.040448</td>\n",
       "      <td>8.982038</td>\n",
       "      <td>-497.789882</td>\n",
       "    </tr>\n",
       "    <tr>\n",
       "      <th>5854</th>\n",
       "      <td>2017-12-31 22:59:59</td>\n",
       "      <td>179.697158</td>\n",
       "      <td>15.438979</td>\n",
       "      <td>8.070000</td>\n",
       "      <td>1.501068</td>\n",
       "      <td>1498.466243</td>\n",
       "      <td>-500.483984</td>\n",
       "      <td>1497.986986</td>\n",
       "      <td>-519.200340</td>\n",
       "      <td>1496.569047</td>\n",
       "      <td>...</td>\n",
       "      <td>19.958760</td>\n",
       "      <td>-499.958750</td>\n",
       "      <td>15.026853</td>\n",
       "      <td>-499.723143</td>\n",
       "      <td>11.011607</td>\n",
       "      <td>-499.985046</td>\n",
       "      <td>9.009783</td>\n",
       "      <td>-499.937902</td>\n",
       "      <td>9.012660</td>\n",
       "      <td>-500.154284</td>\n",
       "    </tr>\n",
       "    <tr>\n",
       "      <th>5855</th>\n",
       "      <td>2017-12-31 23:59:59</td>\n",
       "      <td>181.556856</td>\n",
       "      <td>14.995850</td>\n",
       "      <td>8.070000</td>\n",
       "      <td>1.623454</td>\n",
       "      <td>1498.096303</td>\n",
       "      <td>-499.796922</td>\n",
       "      <td>1501.743791</td>\n",
       "      <td>-505.146931</td>\n",
       "      <td>1499.535978</td>\n",
       "      <td>...</td>\n",
       "      <td>20.034715</td>\n",
       "      <td>-500.728588</td>\n",
       "      <td>14.914199</td>\n",
       "      <td>-499.948518</td>\n",
       "      <td>10.986607</td>\n",
       "      <td>-500.658027</td>\n",
       "      <td>8.989497</td>\n",
       "      <td>-500.337588</td>\n",
       "      <td>8.988632</td>\n",
       "      <td>-500.764937</td>\n",
       "    </tr>\n",
       "  </tbody>\n",
       "</table>\n",
       "<p>5856 rows × 53 columns</p>\n",
       "</div>"
      ],
      "text/plain": [
       "                     date  primary_cleaner.input.sulfate  \\\n",
       "0     2016-09-01 00:59:59                     210.800909   \n",
       "1     2016-09-01 01:59:59                     215.392455   \n",
       "2     2016-09-01 02:59:59                     215.259946   \n",
       "3     2016-09-01 03:59:59                     215.336236   \n",
       "4     2016-09-01 04:59:59                     199.099327   \n",
       "...                   ...                            ...   \n",
       "5851  2017-12-31 19:59:59                     173.957757   \n",
       "5852  2017-12-31 20:59:59                     172.910270   \n",
       "5853  2017-12-31 21:59:59                     171.135718   \n",
       "5854  2017-12-31 22:59:59                     179.697158   \n",
       "5855  2017-12-31 23:59:59                     181.556856   \n",
       "\n",
       "      primary_cleaner.input.depressant  primary_cleaner.input.feed_size  \\\n",
       "0                            14.993118                         8.080000   \n",
       "1                            14.987471                         8.080000   \n",
       "2                            12.884934                         7.786667   \n",
       "3                            12.006805                         7.640000   \n",
       "4                            10.682530                         7.530000   \n",
       "...                                ...                              ...   \n",
       "5851                         15.963399                         8.070000   \n",
       "5852                         16.002605                         8.070000   \n",
       "5853                         15.993669                         8.070000   \n",
       "5854                         15.438979                         8.070000   \n",
       "5855                         14.995850                         8.070000   \n",
       "\n",
       "      primary_cleaner.input.xanthate  primary_cleaner.state.floatbank8_a_air  \\\n",
       "0                           1.005021                             1398.981301   \n",
       "1                           0.990469                             1398.777912   \n",
       "2                           0.996043                             1398.493666   \n",
       "3                           0.863514                             1399.618111   \n",
       "4                           0.805575                             1401.268123   \n",
       "...                              ...                                     ...   \n",
       "5851                        0.896701                             1401.930554   \n",
       "5852                        0.896519                             1447.075722   \n",
       "5853                        1.165996                             1498.836182   \n",
       "5854                        1.501068                             1498.466243   \n",
       "5855                        1.623454                             1498.096303   \n",
       "\n",
       "      primary_cleaner.state.floatbank8_a_level  \\\n",
       "0                                  -500.225577   \n",
       "1                                  -500.057435   \n",
       "2                                  -500.868360   \n",
       "3                                  -498.863574   \n",
       "4                                  -500.808305   \n",
       "...                                        ...   \n",
       "5851                               -499.728848   \n",
       "5852                               -494.716823   \n",
       "5853                               -501.770403   \n",
       "5854                               -500.483984   \n",
       "5855                               -499.796922   \n",
       "\n",
       "      primary_cleaner.state.floatbank8_b_air  \\\n",
       "0                                1399.144926   \n",
       "1                                1398.055362   \n",
       "2                                1398.860436   \n",
       "3                                1397.440120   \n",
       "4                                1398.128818   \n",
       "...                                      ...   \n",
       "5851                             1401.441445   \n",
       "5852                             1448.851892   \n",
       "5853                             1499.572353   \n",
       "5854                             1497.986986   \n",
       "5855                             1501.743791   \n",
       "\n",
       "      primary_cleaner.state.floatbank8_b_level  \\\n",
       "0                                  -499.919735   \n",
       "1                                  -499.778182   \n",
       "2                                  -499.764529   \n",
       "3                                  -499.211024   \n",
       "4                                  -499.504543   \n",
       "...                                        ...   \n",
       "5851                               -499.193423   \n",
       "5852                               -465.963026   \n",
       "5853                               -495.516347   \n",
       "5854                               -519.200340   \n",
       "5855                               -505.146931   \n",
       "\n",
       "      primary_cleaner.state.floatbank8_c_air  ...  \\\n",
       "0                                1400.102998  ...   \n",
       "1                                1396.151033  ...   \n",
       "2                                1398.075709  ...   \n",
       "3                                1400.129303  ...   \n",
       "4                                1402.172226  ...   \n",
       "...                                      ...  ...   \n",
       "5851                             1399.810313  ...   \n",
       "5852                             1443.890424  ...   \n",
       "5853                             1502.749213  ...   \n",
       "5854                             1496.569047  ...   \n",
       "5855                             1499.535978  ...   \n",
       "\n",
       "      secondary_cleaner.state.floatbank4_a_air  \\\n",
       "0                                    12.023554   \n",
       "1                                    12.058140   \n",
       "2                                    11.962366   \n",
       "3                                    12.033091   \n",
       "4                                    12.025367   \n",
       "...                                        ...   \n",
       "5851                                 13.995957   \n",
       "5852                                 16.749781   \n",
       "5853                                 19.994130   \n",
       "5854                                 19.958760   \n",
       "5855                                 20.034715   \n",
       "\n",
       "      secondary_cleaner.state.floatbank4_a_level  \\\n",
       "0                                    -497.795834   \n",
       "1                                    -498.695773   \n",
       "2                                    -498.767484   \n",
       "3                                    -498.350935   \n",
       "4                                    -500.786497   \n",
       "...                                          ...   \n",
       "5851                                 -500.157454   \n",
       "5852                                 -496.031539   \n",
       "5853                                 -499.791312   \n",
       "5854                                 -499.958750   \n",
       "5855                                 -500.728588   \n",
       "\n",
       "      secondary_cleaner.state.floatbank4_b_air  \\\n",
       "0                                     8.016656   \n",
       "1                                     8.130979   \n",
       "2                                     8.096893   \n",
       "3                                     8.074946   \n",
       "4                                     8.054678   \n",
       "...                                        ...   \n",
       "5851                                 12.069155   \n",
       "5852                                 13.365371   \n",
       "5853                                 15.101425   \n",
       "5854                                 15.026853   \n",
       "5855                                 14.914199   \n",
       "\n",
       "      secondary_cleaner.state.floatbank4_b_level  \\\n",
       "0                                    -501.289139   \n",
       "1                                    -499.634209   \n",
       "2                                    -500.827423   \n",
       "3                                    -499.474407   \n",
       "4                                    -500.397500   \n",
       "...                                          ...   \n",
       "5851                                 -499.673279   \n",
       "5852                                 -499.122723   \n",
       "5853                                 -499.936252   \n",
       "5854                                 -499.723143   \n",
       "5855                                 -499.948518   \n",
       "\n",
       "      secondary_cleaner.state.floatbank5_a_air  \\\n",
       "0                                     7.946562   \n",
       "1                                     7.958270   \n",
       "2                                     8.071056   \n",
       "3                                     7.897085   \n",
       "4                                     8.107890   \n",
       "...                                        ...   \n",
       "5851                                  7.977259   \n",
       "5852                                  9.288553   \n",
       "5853                                 10.989181   \n",
       "5854                                 11.011607   \n",
       "5855                                 10.986607   \n",
       "\n",
       "      secondary_cleaner.state.floatbank5_a_level  \\\n",
       "0                                    -432.317850   \n",
       "1                                    -525.839648   \n",
       "2                                    -500.801673   \n",
       "3                                    -500.868509   \n",
       "4                                    -509.526725   \n",
       "...                                          ...   \n",
       "5851                                 -499.516126   \n",
       "5852                                 -496.892967   \n",
       "5853                                 -498.347898   \n",
       "5854                                 -499.985046   \n",
       "5855                                 -500.658027   \n",
       "\n",
       "      secondary_cleaner.state.floatbank5_b_air  \\\n",
       "0                                     4.872511   \n",
       "1                                     4.878850   \n",
       "2                                     4.905125   \n",
       "3                                     4.931400   \n",
       "4                                     4.957674   \n",
       "...                                        ...   \n",
       "5851                                  5.933319   \n",
       "5852                                  7.372897   \n",
       "5853                                  9.020944   \n",
       "5854                                  9.009783   \n",
       "5855                                  8.989497   \n",
       "\n",
       "      secondary_cleaner.state.floatbank5_b_level  \\\n",
       "0                                    -500.037437   \n",
       "1                                    -500.162375   \n",
       "2                                    -499.828510   \n",
       "3                                    -499.963623   \n",
       "4                                    -500.360026   \n",
       "...                                          ...   \n",
       "5851                                 -499.965973   \n",
       "5852                                 -499.942956   \n",
       "5853                                 -500.040448   \n",
       "5854                                 -499.937902   \n",
       "5855                                 -500.337588   \n",
       "\n",
       "      secondary_cleaner.state.floatbank6_a_air  \\\n",
       "0                                    26.705889   \n",
       "1                                    25.019940   \n",
       "2                                    24.994862   \n",
       "3                                    24.948919   \n",
       "4                                    25.003331   \n",
       "...                                        ...   \n",
       "5851                                  8.987171   \n",
       "5852                                  8.986832   \n",
       "5853                                  8.982038   \n",
       "5854                                  9.012660   \n",
       "5855                                  8.988632   \n",
       "\n",
       "      secondary_cleaner.state.floatbank6_a_level  \n",
       "0                                    -499.709414  \n",
       "1                                    -499.819438  \n",
       "2                                    -500.622559  \n",
       "3                                    -498.709987  \n",
       "4                                    -500.856333  \n",
       "...                                          ...  \n",
       "5851                                 -499.755909  \n",
       "5852                                 -499.903761  \n",
       "5853                                 -497.789882  \n",
       "5854                                 -500.154284  \n",
       "5855                                 -500.764937  \n",
       "\n",
       "[5856 rows x 53 columns]"
      ]
     },
     "execution_count": 6,
     "metadata": {},
     "output_type": "execute_result"
    }
   ],
   "source": [
    "# Print a sample of the data for 'test'\n",
    "test\n"
   ]
  },
  {
   "cell_type": "code",
   "execution_count": 7,
   "metadata": {},
   "outputs": [
    {
     "name": "stdout",
     "output_type": "stream",
     "text": [
      "<class 'pandas.core.frame.DataFrame'>\n",
      "RangeIndex: 22716 entries, 0 to 22715\n",
      "Data columns (total 87 columns):\n",
      " #   Column                                              Non-Null Count  Dtype  \n",
      "---  ------                                              --------------  -----  \n",
      " 0   date                                                22716 non-null  object \n",
      " 1   final.output.concentrate_ag                         22627 non-null  float64\n",
      " 2   final.output.concentrate_pb                         22629 non-null  float64\n",
      " 3   final.output.concentrate_sol                        22331 non-null  float64\n",
      " 4   final.output.concentrate_au                         22630 non-null  float64\n",
      " 5   final.output.recovery                               20753 non-null  float64\n",
      " 6   final.output.tail_ag                                22633 non-null  float64\n",
      " 7   final.output.tail_pb                                22516 non-null  float64\n",
      " 8   final.output.tail_sol                               22445 non-null  float64\n",
      " 9   final.output.tail_au                                22635 non-null  float64\n",
      " 10  primary_cleaner.input.sulfate                       21107 non-null  float64\n",
      " 11  primary_cleaner.input.depressant                    21170 non-null  float64\n",
      " 12  primary_cleaner.input.feed_size                     22716 non-null  float64\n",
      " 13  primary_cleaner.input.xanthate                      21565 non-null  float64\n",
      " 14  primary_cleaner.output.concentrate_ag               22618 non-null  float64\n",
      " 15  primary_cleaner.output.concentrate_pb               22268 non-null  float64\n",
      " 16  primary_cleaner.output.concentrate_sol              21918 non-null  float64\n",
      " 17  primary_cleaner.output.concentrate_au               22618 non-null  float64\n",
      " 18  primary_cleaner.output.tail_ag                      22614 non-null  float64\n",
      " 19  primary_cleaner.output.tail_pb                      22594 non-null  float64\n",
      " 20  primary_cleaner.output.tail_sol                     22365 non-null  float64\n",
      " 21  primary_cleaner.output.tail_au                      22617 non-null  float64\n",
      " 22  primary_cleaner.state.floatbank8_a_air              22660 non-null  float64\n",
      " 23  primary_cleaner.state.floatbank8_a_level            22667 non-null  float64\n",
      " 24  primary_cleaner.state.floatbank8_b_air              22660 non-null  float64\n",
      " 25  primary_cleaner.state.floatbank8_b_level            22673 non-null  float64\n",
      " 26  primary_cleaner.state.floatbank8_c_air              22662 non-null  float64\n",
      " 27  primary_cleaner.state.floatbank8_c_level            22673 non-null  float64\n",
      " 28  primary_cleaner.state.floatbank8_d_air              22661 non-null  float64\n",
      " 29  primary_cleaner.state.floatbank8_d_level            22673 non-null  float64\n",
      " 30  rougher.calculation.sulfate_to_au_concentrate       22672 non-null  float64\n",
      " 31  rougher.calculation.floatbank10_sulfate_to_au_feed  22672 non-null  float64\n",
      " 32  rougher.calculation.floatbank11_sulfate_to_au_feed  22672 non-null  float64\n",
      " 33  rougher.calculation.au_pb_ratio                     21089 non-null  float64\n",
      " 34  rougher.input.feed_ag                               22618 non-null  float64\n",
      " 35  rougher.input.feed_pb                               22472 non-null  float64\n",
      " 36  rougher.input.feed_rate                             22163 non-null  float64\n",
      " 37  rougher.input.feed_size                             22277 non-null  float64\n",
      " 38  rougher.input.feed_sol                              22357 non-null  float64\n",
      " 39  rougher.input.feed_au                               22617 non-null  float64\n",
      " 40  rougher.input.floatbank10_sulfate                   21415 non-null  float64\n",
      " 41  rougher.input.floatbank10_xanthate                  22247 non-null  float64\n",
      " 42  rougher.input.floatbank11_sulfate                   22038 non-null  float64\n",
      " 43  rougher.input.floatbank11_xanthate                  20459 non-null  float64\n",
      " 44  rougher.output.concentrate_ag                       22618 non-null  float64\n",
      " 45  rougher.output.concentrate_pb                       22618 non-null  float64\n",
      " 46  rougher.output.concentrate_sol                      22526 non-null  float64\n",
      " 47  rougher.output.concentrate_au                       22618 non-null  float64\n",
      " 48  rougher.output.recovery                             19597 non-null  float64\n",
      " 49  rougher.output.tail_ag                              19979 non-null  float64\n",
      " 50  rougher.output.tail_pb                              22618 non-null  float64\n",
      " 51  rougher.output.tail_sol                             19980 non-null  float64\n",
      " 52  rougher.output.tail_au                              19980 non-null  float64\n",
      " 53  rougher.state.floatbank10_a_air                     22646 non-null  float64\n",
      " 54  rougher.state.floatbank10_a_level                   22647 non-null  float64\n",
      " 55  rougher.state.floatbank10_b_air                     22646 non-null  float64\n",
      " 56  rougher.state.floatbank10_b_level                   22647 non-null  float64\n",
      " 57  rougher.state.floatbank10_c_air                     22646 non-null  float64\n",
      " 58  rougher.state.floatbank10_c_level                   22654 non-null  float64\n",
      " 59  rougher.state.floatbank10_d_air                     22641 non-null  float64\n",
      " 60  rougher.state.floatbank10_d_level                   22649 non-null  float64\n",
      " 61  rougher.state.floatbank10_e_air                     22096 non-null  float64\n",
      " 62  rougher.state.floatbank10_e_level                   22649 non-null  float64\n",
      " 63  rougher.state.floatbank10_f_air                     22641 non-null  float64\n",
      " 64  rougher.state.floatbank10_f_level                   22642 non-null  float64\n",
      " 65  secondary_cleaner.output.tail_ag                    22616 non-null  float64\n",
      " 66  secondary_cleaner.output.tail_pb                    22600 non-null  float64\n",
      " 67  secondary_cleaner.output.tail_sol                   20501 non-null  float64\n",
      " 68  secondary_cleaner.output.tail_au                    22618 non-null  float64\n",
      " 69  secondary_cleaner.state.floatbank2_a_air            22333 non-null  float64\n",
      " 70  secondary_cleaner.state.floatbank2_a_level          22591 non-null  float64\n",
      " 71  secondary_cleaner.state.floatbank2_b_air            22538 non-null  float64\n",
      " 72  secondary_cleaner.state.floatbank2_b_level          22588 non-null  float64\n",
      " 73  secondary_cleaner.state.floatbank3_a_air            22585 non-null  float64\n",
      " 74  secondary_cleaner.state.floatbank3_a_level          22587 non-null  float64\n",
      " 75  secondary_cleaner.state.floatbank3_b_air            22592 non-null  float64\n",
      " 76  secondary_cleaner.state.floatbank3_b_level          22590 non-null  float64\n",
      " 77  secondary_cleaner.state.floatbank4_a_air            22571 non-null  float64\n",
      " 78  secondary_cleaner.state.floatbank4_a_level          22587 non-null  float64\n",
      " 79  secondary_cleaner.state.floatbank4_b_air            22608 non-null  float64\n",
      " 80  secondary_cleaner.state.floatbank4_b_level          22607 non-null  float64\n",
      " 81  secondary_cleaner.state.floatbank5_a_air            22615 non-null  float64\n",
      " 82  secondary_cleaner.state.floatbank5_a_level          22615 non-null  float64\n",
      " 83  secondary_cleaner.state.floatbank5_b_air            22615 non-null  float64\n",
      " 84  secondary_cleaner.state.floatbank5_b_level          22616 non-null  float64\n",
      " 85  secondary_cleaner.state.floatbank6_a_air            22597 non-null  float64\n",
      " 86  secondary_cleaner.state.floatbank6_a_level          22615 non-null  float64\n",
      "dtypes: float64(86), object(1)\n",
      "memory usage: 15.1+ MB\n"
     ]
    },
    {
     "data": {
      "text/html": [
       "<div>\n",
       "<style scoped>\n",
       "    .dataframe tbody tr th:only-of-type {\n",
       "        vertical-align: middle;\n",
       "    }\n",
       "\n",
       "    .dataframe tbody tr th {\n",
       "        vertical-align: top;\n",
       "    }\n",
       "\n",
       "    .dataframe thead th {\n",
       "        text-align: right;\n",
       "    }\n",
       "</style>\n",
       "<table border=\"1\" class=\"dataframe\">\n",
       "  <thead>\n",
       "    <tr style=\"text-align: right;\">\n",
       "      <th></th>\n",
       "      <th>final.output.concentrate_ag</th>\n",
       "      <th>final.output.concentrate_pb</th>\n",
       "      <th>final.output.concentrate_sol</th>\n",
       "      <th>final.output.concentrate_au</th>\n",
       "      <th>final.output.recovery</th>\n",
       "      <th>final.output.tail_ag</th>\n",
       "      <th>final.output.tail_pb</th>\n",
       "      <th>final.output.tail_sol</th>\n",
       "      <th>final.output.tail_au</th>\n",
       "      <th>primary_cleaner.input.sulfate</th>\n",
       "      <th>...</th>\n",
       "      <th>secondary_cleaner.state.floatbank4_a_air</th>\n",
       "      <th>secondary_cleaner.state.floatbank4_a_level</th>\n",
       "      <th>secondary_cleaner.state.floatbank4_b_air</th>\n",
       "      <th>secondary_cleaner.state.floatbank4_b_level</th>\n",
       "      <th>secondary_cleaner.state.floatbank5_a_air</th>\n",
       "      <th>secondary_cleaner.state.floatbank5_a_level</th>\n",
       "      <th>secondary_cleaner.state.floatbank5_b_air</th>\n",
       "      <th>secondary_cleaner.state.floatbank5_b_level</th>\n",
       "      <th>secondary_cleaner.state.floatbank6_a_air</th>\n",
       "      <th>secondary_cleaner.state.floatbank6_a_level</th>\n",
       "    </tr>\n",
       "  </thead>\n",
       "  <tbody>\n",
       "    <tr>\n",
       "      <th>count</th>\n",
       "      <td>22627.000000</td>\n",
       "      <td>22629.000000</td>\n",
       "      <td>22331.000000</td>\n",
       "      <td>22630.000000</td>\n",
       "      <td>20753.000000</td>\n",
       "      <td>22633.000000</td>\n",
       "      <td>22516.000000</td>\n",
       "      <td>22445.000000</td>\n",
       "      <td>22635.000000</td>\n",
       "      <td>21107.000000</td>\n",
       "      <td>...</td>\n",
       "      <td>22571.000000</td>\n",
       "      <td>22587.000000</td>\n",
       "      <td>22608.000000</td>\n",
       "      <td>22607.000000</td>\n",
       "      <td>22615.000000</td>\n",
       "      <td>22615.000000</td>\n",
       "      <td>22615.000000</td>\n",
       "      <td>22616.000000</td>\n",
       "      <td>22597.000000</td>\n",
       "      <td>22615.000000</td>\n",
       "    </tr>\n",
       "    <tr>\n",
       "      <th>mean</th>\n",
       "      <td>4.781559</td>\n",
       "      <td>9.095308</td>\n",
       "      <td>8.640317</td>\n",
       "      <td>40.001172</td>\n",
       "      <td>67.447488</td>\n",
       "      <td>8.923690</td>\n",
       "      <td>2.488252</td>\n",
       "      <td>9.523632</td>\n",
       "      <td>2.827459</td>\n",
       "      <td>140.277672</td>\n",
       "      <td>...</td>\n",
       "      <td>18.205125</td>\n",
       "      <td>-499.878977</td>\n",
       "      <td>14.356474</td>\n",
       "      <td>-476.532613</td>\n",
       "      <td>14.883276</td>\n",
       "      <td>-503.323288</td>\n",
       "      <td>11.626743</td>\n",
       "      <td>-500.521502</td>\n",
       "      <td>17.976810</td>\n",
       "      <td>-519.361465</td>\n",
       "    </tr>\n",
       "    <tr>\n",
       "      <th>std</th>\n",
       "      <td>2.030128</td>\n",
       "      <td>3.230797</td>\n",
       "      <td>3.785035</td>\n",
       "      <td>13.398062</td>\n",
       "      <td>11.616034</td>\n",
       "      <td>3.517917</td>\n",
       "      <td>1.189407</td>\n",
       "      <td>4.079739</td>\n",
       "      <td>1.262834</td>\n",
       "      <td>49.919004</td>\n",
       "      <td>...</td>\n",
       "      <td>6.560700</td>\n",
       "      <td>80.273964</td>\n",
       "      <td>5.655791</td>\n",
       "      <td>93.822791</td>\n",
       "      <td>6.372811</td>\n",
       "      <td>72.925589</td>\n",
       "      <td>5.757449</td>\n",
       "      <td>78.956292</td>\n",
       "      <td>6.636203</td>\n",
       "      <td>75.477151</td>\n",
       "    </tr>\n",
       "    <tr>\n",
       "      <th>min</th>\n",
       "      <td>0.000000</td>\n",
       "      <td>0.000000</td>\n",
       "      <td>0.000000</td>\n",
       "      <td>0.000000</td>\n",
       "      <td>0.000000</td>\n",
       "      <td>0.000000</td>\n",
       "      <td>0.000000</td>\n",
       "      <td>0.000000</td>\n",
       "      <td>0.000000</td>\n",
       "      <td>0.000003</td>\n",
       "      <td>...</td>\n",
       "      <td>0.000000</td>\n",
       "      <td>-799.920713</td>\n",
       "      <td>0.000000</td>\n",
       "      <td>-800.836914</td>\n",
       "      <td>-0.423260</td>\n",
       "      <td>-799.741097</td>\n",
       "      <td>0.427084</td>\n",
       "      <td>-800.258209</td>\n",
       "      <td>-0.079426</td>\n",
       "      <td>-810.473526</td>\n",
       "    </tr>\n",
       "    <tr>\n",
       "      <th>25%</th>\n",
       "      <td>4.018525</td>\n",
       "      <td>8.750171</td>\n",
       "      <td>7.116799</td>\n",
       "      <td>42.383721</td>\n",
       "      <td>63.282393</td>\n",
       "      <td>7.684016</td>\n",
       "      <td>1.805376</td>\n",
       "      <td>8.143576</td>\n",
       "      <td>2.303108</td>\n",
       "      <td>110.177081</td>\n",
       "      <td>...</td>\n",
       "      <td>14.095940</td>\n",
       "      <td>-500.896232</td>\n",
       "      <td>10.882675</td>\n",
       "      <td>-500.309169</td>\n",
       "      <td>10.941299</td>\n",
       "      <td>-500.628697</td>\n",
       "      <td>8.037533</td>\n",
       "      <td>-500.167897</td>\n",
       "      <td>13.968418</td>\n",
       "      <td>-500.981671</td>\n",
       "    </tr>\n",
       "    <tr>\n",
       "      <th>50%</th>\n",
       "      <td>4.953729</td>\n",
       "      <td>9.914519</td>\n",
       "      <td>8.908792</td>\n",
       "      <td>44.653436</td>\n",
       "      <td>68.322258</td>\n",
       "      <td>9.484369</td>\n",
       "      <td>2.653001</td>\n",
       "      <td>10.212998</td>\n",
       "      <td>2.913794</td>\n",
       "      <td>141.330501</td>\n",
       "      <td>...</td>\n",
       "      <td>18.007326</td>\n",
       "      <td>-499.917108</td>\n",
       "      <td>14.947646</td>\n",
       "      <td>-499.612292</td>\n",
       "      <td>14.859117</td>\n",
       "      <td>-499.865158</td>\n",
       "      <td>10.989756</td>\n",
       "      <td>-499.951980</td>\n",
       "      <td>18.004215</td>\n",
       "      <td>-500.095463</td>\n",
       "    </tr>\n",
       "    <tr>\n",
       "      <th>75%</th>\n",
       "      <td>5.862593</td>\n",
       "      <td>10.929839</td>\n",
       "      <td>10.705824</td>\n",
       "      <td>46.111999</td>\n",
       "      <td>72.950836</td>\n",
       "      <td>11.084557</td>\n",
       "      <td>3.287790</td>\n",
       "      <td>11.860824</td>\n",
       "      <td>3.555077</td>\n",
       "      <td>174.049914</td>\n",
       "      <td>...</td>\n",
       "      <td>22.998194</td>\n",
       "      <td>-498.361545</td>\n",
       "      <td>17.977502</td>\n",
       "      <td>-400.224147</td>\n",
       "      <td>18.014914</td>\n",
       "      <td>-498.489381</td>\n",
       "      <td>14.001193</td>\n",
       "      <td>-499.492354</td>\n",
       "      <td>23.009704</td>\n",
       "      <td>-499.526388</td>\n",
       "    </tr>\n",
       "    <tr>\n",
       "      <th>max</th>\n",
       "      <td>16.001945</td>\n",
       "      <td>17.031899</td>\n",
       "      <td>19.615720</td>\n",
       "      <td>53.611374</td>\n",
       "      <td>100.000000</td>\n",
       "      <td>19.552149</td>\n",
       "      <td>6.086532</td>\n",
       "      <td>22.861749</td>\n",
       "      <td>9.789625</td>\n",
       "      <td>274.409626</td>\n",
       "      <td>...</td>\n",
       "      <td>60.000000</td>\n",
       "      <td>-127.692333</td>\n",
       "      <td>31.269706</td>\n",
       "      <td>-6.506986</td>\n",
       "      <td>63.116298</td>\n",
       "      <td>-244.483566</td>\n",
       "      <td>39.846228</td>\n",
       "      <td>-120.190931</td>\n",
       "      <td>54.876806</td>\n",
       "      <td>-29.093593</td>\n",
       "    </tr>\n",
       "  </tbody>\n",
       "</table>\n",
       "<p>8 rows × 86 columns</p>\n",
       "</div>"
      ],
      "text/plain": [
       "       final.output.concentrate_ag  final.output.concentrate_pb  \\\n",
       "count                 22627.000000                 22629.000000   \n",
       "mean                      4.781559                     9.095308   \n",
       "std                       2.030128                     3.230797   \n",
       "min                       0.000000                     0.000000   \n",
       "25%                       4.018525                     8.750171   \n",
       "50%                       4.953729                     9.914519   \n",
       "75%                       5.862593                    10.929839   \n",
       "max                      16.001945                    17.031899   \n",
       "\n",
       "       final.output.concentrate_sol  final.output.concentrate_au  \\\n",
       "count                  22331.000000                 22630.000000   \n",
       "mean                       8.640317                    40.001172   \n",
       "std                        3.785035                    13.398062   \n",
       "min                        0.000000                     0.000000   \n",
       "25%                        7.116799                    42.383721   \n",
       "50%                        8.908792                    44.653436   \n",
       "75%                       10.705824                    46.111999   \n",
       "max                       19.615720                    53.611374   \n",
       "\n",
       "       final.output.recovery  final.output.tail_ag  final.output.tail_pb  \\\n",
       "count           20753.000000          22633.000000          22516.000000   \n",
       "mean               67.447488              8.923690              2.488252   \n",
       "std                11.616034              3.517917              1.189407   \n",
       "min                 0.000000              0.000000              0.000000   \n",
       "25%                63.282393              7.684016              1.805376   \n",
       "50%                68.322258              9.484369              2.653001   \n",
       "75%                72.950836             11.084557              3.287790   \n",
       "max               100.000000             19.552149              6.086532   \n",
       "\n",
       "       final.output.tail_sol  final.output.tail_au  \\\n",
       "count           22445.000000          22635.000000   \n",
       "mean                9.523632              2.827459   \n",
       "std                 4.079739              1.262834   \n",
       "min                 0.000000              0.000000   \n",
       "25%                 8.143576              2.303108   \n",
       "50%                10.212998              2.913794   \n",
       "75%                11.860824              3.555077   \n",
       "max                22.861749              9.789625   \n",
       "\n",
       "       primary_cleaner.input.sulfate  ...  \\\n",
       "count                   21107.000000  ...   \n",
       "mean                      140.277672  ...   \n",
       "std                        49.919004  ...   \n",
       "min                         0.000003  ...   \n",
       "25%                       110.177081  ...   \n",
       "50%                       141.330501  ...   \n",
       "75%                       174.049914  ...   \n",
       "max                       274.409626  ...   \n",
       "\n",
       "       secondary_cleaner.state.floatbank4_a_air  \\\n",
       "count                              22571.000000   \n",
       "mean                                  18.205125   \n",
       "std                                    6.560700   \n",
       "min                                    0.000000   \n",
       "25%                                   14.095940   \n",
       "50%                                   18.007326   \n",
       "75%                                   22.998194   \n",
       "max                                   60.000000   \n",
       "\n",
       "       secondary_cleaner.state.floatbank4_a_level  \\\n",
       "count                                22587.000000   \n",
       "mean                                  -499.878977   \n",
       "std                                     80.273964   \n",
       "min                                   -799.920713   \n",
       "25%                                   -500.896232   \n",
       "50%                                   -499.917108   \n",
       "75%                                   -498.361545   \n",
       "max                                   -127.692333   \n",
       "\n",
       "       secondary_cleaner.state.floatbank4_b_air  \\\n",
       "count                              22608.000000   \n",
       "mean                                  14.356474   \n",
       "std                                    5.655791   \n",
       "min                                    0.000000   \n",
       "25%                                   10.882675   \n",
       "50%                                   14.947646   \n",
       "75%                                   17.977502   \n",
       "max                                   31.269706   \n",
       "\n",
       "       secondary_cleaner.state.floatbank4_b_level  \\\n",
       "count                                22607.000000   \n",
       "mean                                  -476.532613   \n",
       "std                                     93.822791   \n",
       "min                                   -800.836914   \n",
       "25%                                   -500.309169   \n",
       "50%                                   -499.612292   \n",
       "75%                                   -400.224147   \n",
       "max                                     -6.506986   \n",
       "\n",
       "       secondary_cleaner.state.floatbank5_a_air  \\\n",
       "count                              22615.000000   \n",
       "mean                                  14.883276   \n",
       "std                                    6.372811   \n",
       "min                                   -0.423260   \n",
       "25%                                   10.941299   \n",
       "50%                                   14.859117   \n",
       "75%                                   18.014914   \n",
       "max                                   63.116298   \n",
       "\n",
       "       secondary_cleaner.state.floatbank5_a_level  \\\n",
       "count                                22615.000000   \n",
       "mean                                  -503.323288   \n",
       "std                                     72.925589   \n",
       "min                                   -799.741097   \n",
       "25%                                   -500.628697   \n",
       "50%                                   -499.865158   \n",
       "75%                                   -498.489381   \n",
       "max                                   -244.483566   \n",
       "\n",
       "       secondary_cleaner.state.floatbank5_b_air  \\\n",
       "count                              22615.000000   \n",
       "mean                                  11.626743   \n",
       "std                                    5.757449   \n",
       "min                                    0.427084   \n",
       "25%                                    8.037533   \n",
       "50%                                   10.989756   \n",
       "75%                                   14.001193   \n",
       "max                                   39.846228   \n",
       "\n",
       "       secondary_cleaner.state.floatbank5_b_level  \\\n",
       "count                                22616.000000   \n",
       "mean                                  -500.521502   \n",
       "std                                     78.956292   \n",
       "min                                   -800.258209   \n",
       "25%                                   -500.167897   \n",
       "50%                                   -499.951980   \n",
       "75%                                   -499.492354   \n",
       "max                                   -120.190931   \n",
       "\n",
       "       secondary_cleaner.state.floatbank6_a_air  \\\n",
       "count                              22597.000000   \n",
       "mean                                  17.976810   \n",
       "std                                    6.636203   \n",
       "min                                   -0.079426   \n",
       "25%                                   13.968418   \n",
       "50%                                   18.004215   \n",
       "75%                                   23.009704   \n",
       "max                                   54.876806   \n",
       "\n",
       "       secondary_cleaner.state.floatbank6_a_level  \n",
       "count                                22615.000000  \n",
       "mean                                  -519.361465  \n",
       "std                                     75.477151  \n",
       "min                                   -810.473526  \n",
       "25%                                   -500.981671  \n",
       "50%                                   -500.095463  \n",
       "75%                                   -499.526388  \n",
       "max                                    -29.093593  \n",
       "\n",
       "[8 rows x 86 columns]"
      ]
     },
     "execution_count": 7,
     "metadata": {},
     "output_type": "execute_result"
    }
   ],
   "source": [
    "# Print general information about the 'full' dataframe\n",
    "full.info()\n",
    "full.describe()\n"
   ]
  },
  {
   "cell_type": "code",
   "execution_count": 8,
   "metadata": {},
   "outputs": [
    {
     "data": {
      "text/html": [
       "<div>\n",
       "<style scoped>\n",
       "    .dataframe tbody tr th:only-of-type {\n",
       "        vertical-align: middle;\n",
       "    }\n",
       "\n",
       "    .dataframe tbody tr th {\n",
       "        vertical-align: top;\n",
       "    }\n",
       "\n",
       "    .dataframe thead th {\n",
       "        text-align: right;\n",
       "    }\n",
       "</style>\n",
       "<table border=\"1\" class=\"dataframe\">\n",
       "  <thead>\n",
       "    <tr style=\"text-align: right;\">\n",
       "      <th></th>\n",
       "      <th>date</th>\n",
       "      <th>final.output.concentrate_ag</th>\n",
       "      <th>final.output.concentrate_pb</th>\n",
       "      <th>final.output.concentrate_sol</th>\n",
       "      <th>final.output.concentrate_au</th>\n",
       "      <th>final.output.recovery</th>\n",
       "      <th>final.output.tail_ag</th>\n",
       "      <th>final.output.tail_pb</th>\n",
       "      <th>final.output.tail_sol</th>\n",
       "      <th>final.output.tail_au</th>\n",
       "      <th>...</th>\n",
       "      <th>secondary_cleaner.state.floatbank4_a_air</th>\n",
       "      <th>secondary_cleaner.state.floatbank4_a_level</th>\n",
       "      <th>secondary_cleaner.state.floatbank4_b_air</th>\n",
       "      <th>secondary_cleaner.state.floatbank4_b_level</th>\n",
       "      <th>secondary_cleaner.state.floatbank5_a_air</th>\n",
       "      <th>secondary_cleaner.state.floatbank5_a_level</th>\n",
       "      <th>secondary_cleaner.state.floatbank5_b_air</th>\n",
       "      <th>secondary_cleaner.state.floatbank5_b_level</th>\n",
       "      <th>secondary_cleaner.state.floatbank6_a_air</th>\n",
       "      <th>secondary_cleaner.state.floatbank6_a_level</th>\n",
       "    </tr>\n",
       "  </thead>\n",
       "  <tbody>\n",
       "    <tr>\n",
       "      <th>0</th>\n",
       "      <td>2016-01-15 00:00:00</td>\n",
       "      <td>6.055403</td>\n",
       "      <td>9.889648</td>\n",
       "      <td>5.507324</td>\n",
       "      <td>42.192020</td>\n",
       "      <td>70.541216</td>\n",
       "      <td>10.411962</td>\n",
       "      <td>0.895447</td>\n",
       "      <td>16.904297</td>\n",
       "      <td>2.143149</td>\n",
       "      <td>...</td>\n",
       "      <td>14.016835</td>\n",
       "      <td>-502.488007</td>\n",
       "      <td>12.099931</td>\n",
       "      <td>-504.715942</td>\n",
       "      <td>9.925633</td>\n",
       "      <td>-498.310211</td>\n",
       "      <td>8.079666</td>\n",
       "      <td>-500.470978</td>\n",
       "      <td>14.151341</td>\n",
       "      <td>-605.841980</td>\n",
       "    </tr>\n",
       "    <tr>\n",
       "      <th>1</th>\n",
       "      <td>2016-01-15 01:00:00</td>\n",
       "      <td>6.029369</td>\n",
       "      <td>9.968944</td>\n",
       "      <td>5.257781</td>\n",
       "      <td>42.701629</td>\n",
       "      <td>69.266198</td>\n",
       "      <td>10.462676</td>\n",
       "      <td>0.927452</td>\n",
       "      <td>16.634514</td>\n",
       "      <td>2.224930</td>\n",
       "      <td>...</td>\n",
       "      <td>13.992281</td>\n",
       "      <td>-505.503262</td>\n",
       "      <td>11.950531</td>\n",
       "      <td>-501.331529</td>\n",
       "      <td>10.039245</td>\n",
       "      <td>-500.169983</td>\n",
       "      <td>7.984757</td>\n",
       "      <td>-500.582168</td>\n",
       "      <td>13.998353</td>\n",
       "      <td>-599.787184</td>\n",
       "    </tr>\n",
       "    <tr>\n",
       "      <th>2</th>\n",
       "      <td>2016-01-15 02:00:00</td>\n",
       "      <td>6.055926</td>\n",
       "      <td>10.213995</td>\n",
       "      <td>5.383759</td>\n",
       "      <td>42.657501</td>\n",
       "      <td>68.116445</td>\n",
       "      <td>10.507046</td>\n",
       "      <td>0.953716</td>\n",
       "      <td>16.208849</td>\n",
       "      <td>2.257889</td>\n",
       "      <td>...</td>\n",
       "      <td>14.015015</td>\n",
       "      <td>-502.520901</td>\n",
       "      <td>11.912783</td>\n",
       "      <td>-501.133383</td>\n",
       "      <td>10.070913</td>\n",
       "      <td>-500.129135</td>\n",
       "      <td>8.013877</td>\n",
       "      <td>-500.517572</td>\n",
       "      <td>14.028663</td>\n",
       "      <td>-601.427363</td>\n",
       "    </tr>\n",
       "    <tr>\n",
       "      <th>3</th>\n",
       "      <td>2016-01-15 03:00:00</td>\n",
       "      <td>6.047977</td>\n",
       "      <td>9.977019</td>\n",
       "      <td>4.858634</td>\n",
       "      <td>42.689819</td>\n",
       "      <td>68.347543</td>\n",
       "      <td>10.422762</td>\n",
       "      <td>0.883763</td>\n",
       "      <td>16.532835</td>\n",
       "      <td>2.146849</td>\n",
       "      <td>...</td>\n",
       "      <td>14.036510</td>\n",
       "      <td>-500.857308</td>\n",
       "      <td>11.999550</td>\n",
       "      <td>-501.193686</td>\n",
       "      <td>9.970366</td>\n",
       "      <td>-499.201640</td>\n",
       "      <td>7.977324</td>\n",
       "      <td>-500.255908</td>\n",
       "      <td>14.005551</td>\n",
       "      <td>-599.996129</td>\n",
       "    </tr>\n",
       "    <tr>\n",
       "      <th>4</th>\n",
       "      <td>2016-01-15 04:00:00</td>\n",
       "      <td>6.148599</td>\n",
       "      <td>10.142511</td>\n",
       "      <td>4.939416</td>\n",
       "      <td>42.774141</td>\n",
       "      <td>66.927016</td>\n",
       "      <td>10.360302</td>\n",
       "      <td>0.792826</td>\n",
       "      <td>16.525686</td>\n",
       "      <td>2.055292</td>\n",
       "      <td>...</td>\n",
       "      <td>14.027298</td>\n",
       "      <td>-499.838632</td>\n",
       "      <td>11.953070</td>\n",
       "      <td>-501.053894</td>\n",
       "      <td>9.925709</td>\n",
       "      <td>-501.686727</td>\n",
       "      <td>7.894242</td>\n",
       "      <td>-500.356035</td>\n",
       "      <td>13.996647</td>\n",
       "      <td>-601.496691</td>\n",
       "    </tr>\n",
       "    <tr>\n",
       "      <th>...</th>\n",
       "      <td>...</td>\n",
       "      <td>...</td>\n",
       "      <td>...</td>\n",
       "      <td>...</td>\n",
       "      <td>...</td>\n",
       "      <td>...</td>\n",
       "      <td>...</td>\n",
       "      <td>...</td>\n",
       "      <td>...</td>\n",
       "      <td>...</td>\n",
       "      <td>...</td>\n",
       "      <td>...</td>\n",
       "      <td>...</td>\n",
       "      <td>...</td>\n",
       "      <td>...</td>\n",
       "      <td>...</td>\n",
       "      <td>...</td>\n",
       "      <td>...</td>\n",
       "      <td>...</td>\n",
       "      <td>...</td>\n",
       "      <td>...</td>\n",
       "    </tr>\n",
       "    <tr>\n",
       "      <th>22711</th>\n",
       "      <td>2018-08-18 06:59:59</td>\n",
       "      <td>3.224920</td>\n",
       "      <td>11.356233</td>\n",
       "      <td>6.803482</td>\n",
       "      <td>46.713954</td>\n",
       "      <td>73.755150</td>\n",
       "      <td>8.769645</td>\n",
       "      <td>3.141541</td>\n",
       "      <td>10.403181</td>\n",
       "      <td>1.529220</td>\n",
       "      <td>...</td>\n",
       "      <td>23.031497</td>\n",
       "      <td>-501.167942</td>\n",
       "      <td>20.007571</td>\n",
       "      <td>-499.740028</td>\n",
       "      <td>18.006038</td>\n",
       "      <td>-499.834374</td>\n",
       "      <td>13.001114</td>\n",
       "      <td>-500.155694</td>\n",
       "      <td>20.007840</td>\n",
       "      <td>-501.296428</td>\n",
       "    </tr>\n",
       "    <tr>\n",
       "      <th>22712</th>\n",
       "      <td>2018-08-18 07:59:59</td>\n",
       "      <td>3.195978</td>\n",
       "      <td>11.349355</td>\n",
       "      <td>6.862249</td>\n",
       "      <td>46.866780</td>\n",
       "      <td>69.049291</td>\n",
       "      <td>8.897321</td>\n",
       "      <td>3.130493</td>\n",
       "      <td>10.549470</td>\n",
       "      <td>1.612542</td>\n",
       "      <td>...</td>\n",
       "      <td>22.960095</td>\n",
       "      <td>-501.612783</td>\n",
       "      <td>20.035660</td>\n",
       "      <td>-500.251357</td>\n",
       "      <td>17.998535</td>\n",
       "      <td>-500.395178</td>\n",
       "      <td>12.954048</td>\n",
       "      <td>-499.895163</td>\n",
       "      <td>19.968498</td>\n",
       "      <td>-501.041608</td>\n",
       "    </tr>\n",
       "    <tr>\n",
       "      <th>22713</th>\n",
       "      <td>2018-08-18 08:59:59</td>\n",
       "      <td>3.109998</td>\n",
       "      <td>11.434366</td>\n",
       "      <td>6.886013</td>\n",
       "      <td>46.795691</td>\n",
       "      <td>67.002189</td>\n",
       "      <td>8.529606</td>\n",
       "      <td>2.911418</td>\n",
       "      <td>11.115147</td>\n",
       "      <td>1.596616</td>\n",
       "      <td>...</td>\n",
       "      <td>23.015718</td>\n",
       "      <td>-501.711599</td>\n",
       "      <td>19.951231</td>\n",
       "      <td>-499.857027</td>\n",
       "      <td>18.019543</td>\n",
       "      <td>-500.451156</td>\n",
       "      <td>13.023431</td>\n",
       "      <td>-499.914391</td>\n",
       "      <td>19.990885</td>\n",
       "      <td>-501.518452</td>\n",
       "    </tr>\n",
       "    <tr>\n",
       "      <th>22714</th>\n",
       "      <td>2018-08-18 09:59:59</td>\n",
       "      <td>3.367241</td>\n",
       "      <td>11.625587</td>\n",
       "      <td>6.799433</td>\n",
       "      <td>46.408188</td>\n",
       "      <td>65.523246</td>\n",
       "      <td>8.777171</td>\n",
       "      <td>2.819214</td>\n",
       "      <td>10.463847</td>\n",
       "      <td>1.602879</td>\n",
       "      <td>...</td>\n",
       "      <td>23.024963</td>\n",
       "      <td>-501.153409</td>\n",
       "      <td>20.054122</td>\n",
       "      <td>-500.314711</td>\n",
       "      <td>17.979515</td>\n",
       "      <td>-499.272871</td>\n",
       "      <td>12.992404</td>\n",
       "      <td>-499.976268</td>\n",
       "      <td>20.013986</td>\n",
       "      <td>-500.625471</td>\n",
       "    </tr>\n",
       "    <tr>\n",
       "      <th>22715</th>\n",
       "      <td>2018-08-18 10:59:59</td>\n",
       "      <td>3.598375</td>\n",
       "      <td>11.737832</td>\n",
       "      <td>6.717509</td>\n",
       "      <td>46.299438</td>\n",
       "      <td>70.281454</td>\n",
       "      <td>8.406690</td>\n",
       "      <td>2.517518</td>\n",
       "      <td>10.652193</td>\n",
       "      <td>1.389434</td>\n",
       "      <td>...</td>\n",
       "      <td>23.018622</td>\n",
       "      <td>-500.492702</td>\n",
       "      <td>20.020205</td>\n",
       "      <td>-500.220296</td>\n",
       "      <td>17.963512</td>\n",
       "      <td>-499.939490</td>\n",
       "      <td>12.990306</td>\n",
       "      <td>-500.080993</td>\n",
       "      <td>19.990336</td>\n",
       "      <td>-499.191575</td>\n",
       "    </tr>\n",
       "  </tbody>\n",
       "</table>\n",
       "<p>22716 rows × 87 columns</p>\n",
       "</div>"
      ],
      "text/plain": [
       "                      date  final.output.concentrate_ag  \\\n",
       "0      2016-01-15 00:00:00                     6.055403   \n",
       "1      2016-01-15 01:00:00                     6.029369   \n",
       "2      2016-01-15 02:00:00                     6.055926   \n",
       "3      2016-01-15 03:00:00                     6.047977   \n",
       "4      2016-01-15 04:00:00                     6.148599   \n",
       "...                    ...                          ...   \n",
       "22711  2018-08-18 06:59:59                     3.224920   \n",
       "22712  2018-08-18 07:59:59                     3.195978   \n",
       "22713  2018-08-18 08:59:59                     3.109998   \n",
       "22714  2018-08-18 09:59:59                     3.367241   \n",
       "22715  2018-08-18 10:59:59                     3.598375   \n",
       "\n",
       "       final.output.concentrate_pb  final.output.concentrate_sol  \\\n",
       "0                         9.889648                      5.507324   \n",
       "1                         9.968944                      5.257781   \n",
       "2                        10.213995                      5.383759   \n",
       "3                         9.977019                      4.858634   \n",
       "4                        10.142511                      4.939416   \n",
       "...                            ...                           ...   \n",
       "22711                    11.356233                      6.803482   \n",
       "22712                    11.349355                      6.862249   \n",
       "22713                    11.434366                      6.886013   \n",
       "22714                    11.625587                      6.799433   \n",
       "22715                    11.737832                      6.717509   \n",
       "\n",
       "       final.output.concentrate_au  final.output.recovery  \\\n",
       "0                        42.192020              70.541216   \n",
       "1                        42.701629              69.266198   \n",
       "2                        42.657501              68.116445   \n",
       "3                        42.689819              68.347543   \n",
       "4                        42.774141              66.927016   \n",
       "...                            ...                    ...   \n",
       "22711                    46.713954              73.755150   \n",
       "22712                    46.866780              69.049291   \n",
       "22713                    46.795691              67.002189   \n",
       "22714                    46.408188              65.523246   \n",
       "22715                    46.299438              70.281454   \n",
       "\n",
       "       final.output.tail_ag  final.output.tail_pb  final.output.tail_sol  \\\n",
       "0                 10.411962              0.895447              16.904297   \n",
       "1                 10.462676              0.927452              16.634514   \n",
       "2                 10.507046              0.953716              16.208849   \n",
       "3                 10.422762              0.883763              16.532835   \n",
       "4                 10.360302              0.792826              16.525686   \n",
       "...                     ...                   ...                    ...   \n",
       "22711              8.769645              3.141541              10.403181   \n",
       "22712              8.897321              3.130493              10.549470   \n",
       "22713              8.529606              2.911418              11.115147   \n",
       "22714              8.777171              2.819214              10.463847   \n",
       "22715              8.406690              2.517518              10.652193   \n",
       "\n",
       "       final.output.tail_au  ...  secondary_cleaner.state.floatbank4_a_air  \\\n",
       "0                  2.143149  ...                                 14.016835   \n",
       "1                  2.224930  ...                                 13.992281   \n",
       "2                  2.257889  ...                                 14.015015   \n",
       "3                  2.146849  ...                                 14.036510   \n",
       "4                  2.055292  ...                                 14.027298   \n",
       "...                     ...  ...                                       ...   \n",
       "22711              1.529220  ...                                 23.031497   \n",
       "22712              1.612542  ...                                 22.960095   \n",
       "22713              1.596616  ...                                 23.015718   \n",
       "22714              1.602879  ...                                 23.024963   \n",
       "22715              1.389434  ...                                 23.018622   \n",
       "\n",
       "       secondary_cleaner.state.floatbank4_a_level  \\\n",
       "0                                     -502.488007   \n",
       "1                                     -505.503262   \n",
       "2                                     -502.520901   \n",
       "3                                     -500.857308   \n",
       "4                                     -499.838632   \n",
       "...                                           ...   \n",
       "22711                                 -501.167942   \n",
       "22712                                 -501.612783   \n",
       "22713                                 -501.711599   \n",
       "22714                                 -501.153409   \n",
       "22715                                 -500.492702   \n",
       "\n",
       "       secondary_cleaner.state.floatbank4_b_air  \\\n",
       "0                                     12.099931   \n",
       "1                                     11.950531   \n",
       "2                                     11.912783   \n",
       "3                                     11.999550   \n",
       "4                                     11.953070   \n",
       "...                                         ...   \n",
       "22711                                 20.007571   \n",
       "22712                                 20.035660   \n",
       "22713                                 19.951231   \n",
       "22714                                 20.054122   \n",
       "22715                                 20.020205   \n",
       "\n",
       "       secondary_cleaner.state.floatbank4_b_level  \\\n",
       "0                                     -504.715942   \n",
       "1                                     -501.331529   \n",
       "2                                     -501.133383   \n",
       "3                                     -501.193686   \n",
       "4                                     -501.053894   \n",
       "...                                           ...   \n",
       "22711                                 -499.740028   \n",
       "22712                                 -500.251357   \n",
       "22713                                 -499.857027   \n",
       "22714                                 -500.314711   \n",
       "22715                                 -500.220296   \n",
       "\n",
       "       secondary_cleaner.state.floatbank5_a_air  \\\n",
       "0                                      9.925633   \n",
       "1                                     10.039245   \n",
       "2                                     10.070913   \n",
       "3                                      9.970366   \n",
       "4                                      9.925709   \n",
       "...                                         ...   \n",
       "22711                                 18.006038   \n",
       "22712                                 17.998535   \n",
       "22713                                 18.019543   \n",
       "22714                                 17.979515   \n",
       "22715                                 17.963512   \n",
       "\n",
       "       secondary_cleaner.state.floatbank5_a_level  \\\n",
       "0                                     -498.310211   \n",
       "1                                     -500.169983   \n",
       "2                                     -500.129135   \n",
       "3                                     -499.201640   \n",
       "4                                     -501.686727   \n",
       "...                                           ...   \n",
       "22711                                 -499.834374   \n",
       "22712                                 -500.395178   \n",
       "22713                                 -500.451156   \n",
       "22714                                 -499.272871   \n",
       "22715                                 -499.939490   \n",
       "\n",
       "       secondary_cleaner.state.floatbank5_b_air  \\\n",
       "0                                      8.079666   \n",
       "1                                      7.984757   \n",
       "2                                      8.013877   \n",
       "3                                      7.977324   \n",
       "4                                      7.894242   \n",
       "...                                         ...   \n",
       "22711                                 13.001114   \n",
       "22712                                 12.954048   \n",
       "22713                                 13.023431   \n",
       "22714                                 12.992404   \n",
       "22715                                 12.990306   \n",
       "\n",
       "       secondary_cleaner.state.floatbank5_b_level  \\\n",
       "0                                     -500.470978   \n",
       "1                                     -500.582168   \n",
       "2                                     -500.517572   \n",
       "3                                     -500.255908   \n",
       "4                                     -500.356035   \n",
       "...                                           ...   \n",
       "22711                                 -500.155694   \n",
       "22712                                 -499.895163   \n",
       "22713                                 -499.914391   \n",
       "22714                                 -499.976268   \n",
       "22715                                 -500.080993   \n",
       "\n",
       "       secondary_cleaner.state.floatbank6_a_air  \\\n",
       "0                                     14.151341   \n",
       "1                                     13.998353   \n",
       "2                                     14.028663   \n",
       "3                                     14.005551   \n",
       "4                                     13.996647   \n",
       "...                                         ...   \n",
       "22711                                 20.007840   \n",
       "22712                                 19.968498   \n",
       "22713                                 19.990885   \n",
       "22714                                 20.013986   \n",
       "22715                                 19.990336   \n",
       "\n",
       "       secondary_cleaner.state.floatbank6_a_level  \n",
       "0                                     -605.841980  \n",
       "1                                     -599.787184  \n",
       "2                                     -601.427363  \n",
       "3                                     -599.996129  \n",
       "4                                     -601.496691  \n",
       "...                                           ...  \n",
       "22711                                 -501.296428  \n",
       "22712                                 -501.041608  \n",
       "22713                                 -501.518452  \n",
       "22714                                 -500.625471  \n",
       "22715                                 -499.191575  \n",
       "\n",
       "[22716 rows x 87 columns]"
      ]
     },
     "execution_count": 8,
     "metadata": {},
     "output_type": "execute_result"
    }
   ],
   "source": [
    "# Print a sample of the data for 'full'\n",
    "full\n"
   ]
  },
  {
   "cell_type": "code",
   "execution_count": 9,
   "metadata": {},
   "outputs": [],
   "source": [
    "# Check that recovery is calculated correctly. Using the training set, calculate recovery for the rougher.output.recovery feature\n",
    "train['recovery'] = (train['rougher.output.concentrate_au'] * (train['rougher.input.feed_au'] - train['rougher.output.tail_au'])) / (train['rougher.input.feed_au'] * (train['rougher.output.concentrate_au'] - train['rougher.output.tail_au'])) * 100\n"
   ]
  },
  {
   "cell_type": "code",
   "execution_count": 10,
   "metadata": {},
   "outputs": [
    {
     "data": {
      "text/html": [
       "<div>\n",
       "<style scoped>\n",
       "    .dataframe tbody tr th:only-of-type {\n",
       "        vertical-align: middle;\n",
       "    }\n",
       "\n",
       "    .dataframe tbody tr th {\n",
       "        vertical-align: top;\n",
       "    }\n",
       "\n",
       "    .dataframe thead th {\n",
       "        text-align: right;\n",
       "    }\n",
       "</style>\n",
       "<table border=\"1\" class=\"dataframe\">\n",
       "  <thead>\n",
       "    <tr style=\"text-align: right;\">\n",
       "      <th></th>\n",
       "      <th>recovery</th>\n",
       "      <th>rougher.output.recovery</th>\n",
       "    </tr>\n",
       "  </thead>\n",
       "  <tbody>\n",
       "    <tr>\n",
       "      <th>0</th>\n",
       "      <td>87.107763</td>\n",
       "      <td>87.107763</td>\n",
       "    </tr>\n",
       "    <tr>\n",
       "      <th>1</th>\n",
       "      <td>86.843261</td>\n",
       "      <td>86.843261</td>\n",
       "    </tr>\n",
       "    <tr>\n",
       "      <th>2</th>\n",
       "      <td>86.842308</td>\n",
       "      <td>86.842308</td>\n",
       "    </tr>\n",
       "    <tr>\n",
       "      <th>3</th>\n",
       "      <td>87.226430</td>\n",
       "      <td>87.226430</td>\n",
       "    </tr>\n",
       "    <tr>\n",
       "      <th>4</th>\n",
       "      <td>86.688794</td>\n",
       "      <td>86.688794</td>\n",
       "    </tr>\n",
       "    <tr>\n",
       "      <th>...</th>\n",
       "      <td>...</td>\n",
       "      <td>...</td>\n",
       "    </tr>\n",
       "    <tr>\n",
       "      <th>16855</th>\n",
       "      <td>89.574376</td>\n",
       "      <td>89.574376</td>\n",
       "    </tr>\n",
       "    <tr>\n",
       "      <th>16856</th>\n",
       "      <td>87.724007</td>\n",
       "      <td>87.724007</td>\n",
       "    </tr>\n",
       "    <tr>\n",
       "      <th>16857</th>\n",
       "      <td>88.890579</td>\n",
       "      <td>88.890579</td>\n",
       "    </tr>\n",
       "    <tr>\n",
       "      <th>16858</th>\n",
       "      <td>89.858126</td>\n",
       "      <td>89.858126</td>\n",
       "    </tr>\n",
       "    <tr>\n",
       "      <th>16859</th>\n",
       "      <td>89.514960</td>\n",
       "      <td>89.514960</td>\n",
       "    </tr>\n",
       "  </tbody>\n",
       "</table>\n",
       "<p>16860 rows × 2 columns</p>\n",
       "</div>"
      ],
      "text/plain": [
       "        recovery  rougher.output.recovery\n",
       "0      87.107763                87.107763\n",
       "1      86.843261                86.843261\n",
       "2      86.842308                86.842308\n",
       "3      87.226430                87.226430\n",
       "4      86.688794                86.688794\n",
       "...          ...                      ...\n",
       "16855  89.574376                89.574376\n",
       "16856  87.724007                87.724007\n",
       "16857  88.890579                88.890579\n",
       "16858  89.858126                89.858126\n",
       "16859  89.514960                89.514960\n",
       "\n",
       "[16860 rows x 2 columns]"
      ]
     },
     "execution_count": 10,
     "metadata": {},
     "output_type": "execute_result"
    }
   ],
   "source": [
    "# Check the calculated 'recovery' column side by side with the 'rougher.output.recovery' column\n",
    "recovery = train[['recovery', 'rougher.output.recovery']]\n",
    "recovery\n"
   ]
  },
  {
   "cell_type": "code",
   "execution_count": 11,
   "metadata": {},
   "outputs": [
    {
     "data": {
      "text/plain": [
       "9.303415616264301e-15"
      ]
     },
     "execution_count": 11,
     "metadata": {},
     "output_type": "execute_result"
    }
   ],
   "source": [
    "# Find the MAE between your calculations and the feature values\n",
    "recovery.dropna(inplace = True)\n",
    "mean_absolute_error(recovery['recovery'], recovery['rougher.output.recovery'])\n"
   ]
  },
  {
   "cell_type": "code",
   "execution_count": 11,
   "metadata": {},
   "outputs": [
    {
     "data": {
      "text/plain": [
       "0        87.107763\n",
       "1        86.843261\n",
       "2        86.842308\n",
       "3        87.226430\n",
       "4        86.688794\n",
       "           ...    \n",
       "16855    89.574376\n",
       "16856    87.724007\n",
       "16857    88.890579\n",
       "16858    89.858126\n",
       "16859    89.514960\n",
       "Length: 16860, dtype: float64"
      ]
     },
     "execution_count": 11,
     "metadata": {},
     "output_type": "execute_result"
    }
   ],
   "source": [
    "# reviewer's example\n",
    "(train['rougher.output.concentrate_au'] * (train['rougher.input.feed_au'] - \\\n",
    "                                           train['rougher.output.tail_au'])) /\\\n",
    "(train['rougher.input.feed_au'] * (train['rougher.output.concentrate_au'] - \\\n",
    "                                   train['rougher.output.tail_au'])) * 100"
   ]
  },
  {
   "cell_type": "code",
   "execution_count": null,
   "metadata": {},
   "outputs": [],
   "source": []
  },
  {
   "cell_type": "code",
   "execution_count": 12,
   "metadata": {},
   "outputs": [
    {
     "data": {
      "text/plain": [
       "['final.output.concentrate_ag',\n",
       " 'final.output.concentrate_au',\n",
       " 'final.output.concentrate_pb',\n",
       " 'final.output.concentrate_sol',\n",
       " 'final.output.recovery',\n",
       " 'final.output.tail_ag',\n",
       " 'final.output.tail_au',\n",
       " 'final.output.tail_pb',\n",
       " 'final.output.tail_sol',\n",
       " 'primary_cleaner.output.concentrate_ag',\n",
       " 'primary_cleaner.output.concentrate_au',\n",
       " 'primary_cleaner.output.concentrate_pb',\n",
       " 'primary_cleaner.output.concentrate_sol',\n",
       " 'primary_cleaner.output.tail_ag',\n",
       " 'primary_cleaner.output.tail_au',\n",
       " 'primary_cleaner.output.tail_pb',\n",
       " 'primary_cleaner.output.tail_sol',\n",
       " 'recovery',\n",
       " 'rougher.calculation.au_pb_ratio',\n",
       " 'rougher.calculation.floatbank10_sulfate_to_au_feed',\n",
       " 'rougher.calculation.floatbank11_sulfate_to_au_feed',\n",
       " 'rougher.calculation.sulfate_to_au_concentrate',\n",
       " 'rougher.output.concentrate_ag',\n",
       " 'rougher.output.concentrate_au',\n",
       " 'rougher.output.concentrate_pb',\n",
       " 'rougher.output.concentrate_sol',\n",
       " 'rougher.output.recovery',\n",
       " 'rougher.output.tail_ag',\n",
       " 'rougher.output.tail_au',\n",
       " 'rougher.output.tail_pb',\n",
       " 'rougher.output.tail_sol',\n",
       " 'secondary_cleaner.output.tail_ag',\n",
       " 'secondary_cleaner.output.tail_au',\n",
       " 'secondary_cleaner.output.tail_pb',\n",
       " 'secondary_cleaner.output.tail_sol']"
      ]
     },
     "execution_count": 12,
     "metadata": {},
     "output_type": "execute_result"
    }
   ],
   "source": [
    "# Analyze the features not available in the test set\n",
    "train_columns = list(train.columns.difference(test.columns))\n",
    "train_columns\n"
   ]
  },
  {
   "cell_type": "markdown",
   "metadata": {},
   "source": [
    "Based on the above exploration, it appears that the recovery was indeed calculated correctly. The values that were calculated manually and the 'rougher.output.recovery' column show the same values and the very small MAE of 9.303415616264301e-15 further prove that the recovery values are accurate.\n",
    "\n",
    "As for the features that are not available in the test set as shown in 'train_columns' above, the parameters appear to be outputs which represent product parameters. Because they are product parameters, they were excluded from the test set though they appear in the train set. However, for the purposes of this analysis, one output parameter must be chosen and included in the train set as the target. In this case, 'rougher.output.recovery' and 'final.output.recovery' and will be chosen as targets."
   ]
  },
  {
   "cell_type": "markdown",
   "metadata": {},
   "source": [
    "# Perform data preprocessing"
   ]
  },
  {
   "cell_type": "code",
   "execution_count": 13,
   "metadata": {},
   "outputs": [
    {
     "data": {
      "text/plain": [
       "['final.output.concentrate_ag',\n",
       " 'final.output.concentrate_au',\n",
       " 'final.output.concentrate_pb',\n",
       " 'final.output.concentrate_sol',\n",
       " 'final.output.tail_ag',\n",
       " 'final.output.tail_au',\n",
       " 'final.output.tail_pb',\n",
       " 'final.output.tail_sol',\n",
       " 'primary_cleaner.output.concentrate_ag',\n",
       " 'primary_cleaner.output.concentrate_au',\n",
       " 'primary_cleaner.output.concentrate_pb',\n",
       " 'primary_cleaner.output.concentrate_sol',\n",
       " 'primary_cleaner.output.tail_ag',\n",
       " 'primary_cleaner.output.tail_au',\n",
       " 'primary_cleaner.output.tail_pb',\n",
       " 'primary_cleaner.output.tail_sol',\n",
       " 'recovery',\n",
       " 'rougher.calculation.au_pb_ratio',\n",
       " 'rougher.calculation.floatbank10_sulfate_to_au_feed',\n",
       " 'rougher.calculation.floatbank11_sulfate_to_au_feed',\n",
       " 'rougher.calculation.sulfate_to_au_concentrate',\n",
       " 'rougher.output.concentrate_ag',\n",
       " 'rougher.output.concentrate_au',\n",
       " 'rougher.output.concentrate_pb',\n",
       " 'rougher.output.concentrate_sol',\n",
       " 'rougher.output.tail_ag',\n",
       " 'rougher.output.tail_au',\n",
       " 'rougher.output.tail_pb',\n",
       " 'rougher.output.tail_sol',\n",
       " 'secondary_cleaner.output.tail_ag',\n",
       " 'secondary_cleaner.output.tail_au',\n",
       " 'secondary_cleaner.output.tail_pb',\n",
       " 'secondary_cleaner.output.tail_sol']"
      ]
     },
     "execution_count": 13,
     "metadata": {},
     "output_type": "execute_result"
    }
   ],
   "source": [
    "# Remove the target ('final.output.recovery') from the list so it is not removed from the final train dataframe\n",
    "train_columns.remove('final.output.recovery')\n",
    "train_columns.remove('rougher.output.recovery')\n",
    "train_columns\n"
   ]
  },
  {
   "cell_type": "code",
   "execution_count": 14,
   "metadata": {},
   "outputs": [
    {
     "name": "stdout",
     "output_type": "stream",
     "text": [
      "<class 'pandas.core.frame.DataFrame'>\n",
      "RangeIndex: 16860 entries, 0 to 16859\n",
      "Data columns (total 55 columns):\n",
      " #   Column                                      Non-Null Count  Dtype  \n",
      "---  ------                                      --------------  -----  \n",
      " 0   date                                        16860 non-null  object \n",
      " 1   final.output.recovery                       15339 non-null  float64\n",
      " 2   primary_cleaner.input.sulfate               15553 non-null  float64\n",
      " 3   primary_cleaner.input.depressant            15598 non-null  float64\n",
      " 4   primary_cleaner.input.feed_size             16860 non-null  float64\n",
      " 5   primary_cleaner.input.xanthate              15875 non-null  float64\n",
      " 6   primary_cleaner.state.floatbank8_a_air      16820 non-null  float64\n",
      " 7   primary_cleaner.state.floatbank8_a_level    16827 non-null  float64\n",
      " 8   primary_cleaner.state.floatbank8_b_air      16820 non-null  float64\n",
      " 9   primary_cleaner.state.floatbank8_b_level    16833 non-null  float64\n",
      " 10  primary_cleaner.state.floatbank8_c_air      16822 non-null  float64\n",
      " 11  primary_cleaner.state.floatbank8_c_level    16833 non-null  float64\n",
      " 12  primary_cleaner.state.floatbank8_d_air      16821 non-null  float64\n",
      " 13  primary_cleaner.state.floatbank8_d_level    16833 non-null  float64\n",
      " 14  rougher.input.feed_ag                       16778 non-null  float64\n",
      " 15  rougher.input.feed_pb                       16632 non-null  float64\n",
      " 16  rougher.input.feed_rate                     16347 non-null  float64\n",
      " 17  rougher.input.feed_size                     16443 non-null  float64\n",
      " 18  rougher.input.feed_sol                      16568 non-null  float64\n",
      " 19  rougher.input.feed_au                       16777 non-null  float64\n",
      " 20  rougher.input.floatbank10_sulfate           15816 non-null  float64\n",
      " 21  rougher.input.floatbank10_xanthate          16514 non-null  float64\n",
      " 22  rougher.input.floatbank11_sulfate           16237 non-null  float64\n",
      " 23  rougher.input.floatbank11_xanthate          14956 non-null  float64\n",
      " 24  rougher.output.recovery                     14287 non-null  float64\n",
      " 25  rougher.state.floatbank10_a_air             16807 non-null  float64\n",
      " 26  rougher.state.floatbank10_a_level           16807 non-null  float64\n",
      " 27  rougher.state.floatbank10_b_air             16807 non-null  float64\n",
      " 28  rougher.state.floatbank10_b_level           16807 non-null  float64\n",
      " 29  rougher.state.floatbank10_c_air             16807 non-null  float64\n",
      " 30  rougher.state.floatbank10_c_level           16814 non-null  float64\n",
      " 31  rougher.state.floatbank10_d_air             16802 non-null  float64\n",
      " 32  rougher.state.floatbank10_d_level           16809 non-null  float64\n",
      " 33  rougher.state.floatbank10_e_air             16257 non-null  float64\n",
      " 34  rougher.state.floatbank10_e_level           16809 non-null  float64\n",
      " 35  rougher.state.floatbank10_f_air             16802 non-null  float64\n",
      " 36  rougher.state.floatbank10_f_level           16802 non-null  float64\n",
      " 37  secondary_cleaner.state.floatbank2_a_air    16497 non-null  float64\n",
      " 38  secondary_cleaner.state.floatbank2_a_level  16751 non-null  float64\n",
      " 39  secondary_cleaner.state.floatbank2_b_air    16705 non-null  float64\n",
      " 40  secondary_cleaner.state.floatbank2_b_level  16748 non-null  float64\n",
      " 41  secondary_cleaner.state.floatbank3_a_air    16763 non-null  float64\n",
      " 42  secondary_cleaner.state.floatbank3_a_level  16747 non-null  float64\n",
      " 43  secondary_cleaner.state.floatbank3_b_air    16752 non-null  float64\n",
      " 44  secondary_cleaner.state.floatbank3_b_level  16750 non-null  float64\n",
      " 45  secondary_cleaner.state.floatbank4_a_air    16731 non-null  float64\n",
      " 46  secondary_cleaner.state.floatbank4_a_level  16747 non-null  float64\n",
      " 47  secondary_cleaner.state.floatbank4_b_air    16768 non-null  float64\n",
      " 48  secondary_cleaner.state.floatbank4_b_level  16767 non-null  float64\n",
      " 49  secondary_cleaner.state.floatbank5_a_air    16775 non-null  float64\n",
      " 50  secondary_cleaner.state.floatbank5_a_level  16775 non-null  float64\n",
      " 51  secondary_cleaner.state.floatbank5_b_air    16775 non-null  float64\n",
      " 52  secondary_cleaner.state.floatbank5_b_level  16776 non-null  float64\n",
      " 53  secondary_cleaner.state.floatbank6_a_air    16757 non-null  float64\n",
      " 54  secondary_cleaner.state.floatbank6_a_level  16775 non-null  float64\n",
      "dtypes: float64(54), object(1)\n",
      "memory usage: 7.1+ MB\n"
     ]
    }
   ],
   "source": [
    "# Drop the columns in the 'train_columns' list from the train set so the features match the test set\n",
    "train = train.drop(train_columns, axis = 1)\n",
    "train.info()\n"
   ]
  },
  {
   "cell_type": "code",
   "execution_count": 15,
   "metadata": {},
   "outputs": [
    {
     "name": "stdout",
     "output_type": "stream",
     "text": [
      "<class 'pandas.core.frame.DataFrame'>\n",
      "RangeIndex: 16860 entries, 0 to 16859\n",
      "Data columns (total 55 columns):\n",
      " #   Column                                      Non-Null Count  Dtype  \n",
      "---  ------                                      --------------  -----  \n",
      " 0   date                                        16860 non-null  object \n",
      " 1   final.output.recovery                       16860 non-null  float64\n",
      " 2   primary_cleaner.input.sulfate               16860 non-null  float64\n",
      " 3   primary_cleaner.input.depressant            16860 non-null  float64\n",
      " 4   primary_cleaner.input.feed_size             16860 non-null  float64\n",
      " 5   primary_cleaner.input.xanthate              16860 non-null  float64\n",
      " 6   primary_cleaner.state.floatbank8_a_air      16860 non-null  float64\n",
      " 7   primary_cleaner.state.floatbank8_a_level    16860 non-null  float64\n",
      " 8   primary_cleaner.state.floatbank8_b_air      16860 non-null  float64\n",
      " 9   primary_cleaner.state.floatbank8_b_level    16860 non-null  float64\n",
      " 10  primary_cleaner.state.floatbank8_c_air      16860 non-null  float64\n",
      " 11  primary_cleaner.state.floatbank8_c_level    16860 non-null  float64\n",
      " 12  primary_cleaner.state.floatbank8_d_air      16860 non-null  float64\n",
      " 13  primary_cleaner.state.floatbank8_d_level    16860 non-null  float64\n",
      " 14  rougher.input.feed_ag                       16860 non-null  float64\n",
      " 15  rougher.input.feed_pb                       16860 non-null  float64\n",
      " 16  rougher.input.feed_rate                     16860 non-null  float64\n",
      " 17  rougher.input.feed_size                     16860 non-null  float64\n",
      " 18  rougher.input.feed_sol                      16860 non-null  float64\n",
      " 19  rougher.input.feed_au                       16860 non-null  float64\n",
      " 20  rougher.input.floatbank10_sulfate           16860 non-null  float64\n",
      " 21  rougher.input.floatbank10_xanthate          16860 non-null  float64\n",
      " 22  rougher.input.floatbank11_sulfate           16860 non-null  float64\n",
      " 23  rougher.input.floatbank11_xanthate          16860 non-null  float64\n",
      " 24  rougher.output.recovery                     16860 non-null  float64\n",
      " 25  rougher.state.floatbank10_a_air             16860 non-null  float64\n",
      " 26  rougher.state.floatbank10_a_level           16860 non-null  float64\n",
      " 27  rougher.state.floatbank10_b_air             16860 non-null  float64\n",
      " 28  rougher.state.floatbank10_b_level           16860 non-null  float64\n",
      " 29  rougher.state.floatbank10_c_air             16860 non-null  float64\n",
      " 30  rougher.state.floatbank10_c_level           16860 non-null  float64\n",
      " 31  rougher.state.floatbank10_d_air             16860 non-null  float64\n",
      " 32  rougher.state.floatbank10_d_level           16860 non-null  float64\n",
      " 33  rougher.state.floatbank10_e_air             16860 non-null  float64\n",
      " 34  rougher.state.floatbank10_e_level           16860 non-null  float64\n",
      " 35  rougher.state.floatbank10_f_air             16860 non-null  float64\n",
      " 36  rougher.state.floatbank10_f_level           16860 non-null  float64\n",
      " 37  secondary_cleaner.state.floatbank2_a_air    16860 non-null  float64\n",
      " 38  secondary_cleaner.state.floatbank2_a_level  16860 non-null  float64\n",
      " 39  secondary_cleaner.state.floatbank2_b_air    16860 non-null  float64\n",
      " 40  secondary_cleaner.state.floatbank2_b_level  16860 non-null  float64\n",
      " 41  secondary_cleaner.state.floatbank3_a_air    16860 non-null  float64\n",
      " 42  secondary_cleaner.state.floatbank3_a_level  16860 non-null  float64\n",
      " 43  secondary_cleaner.state.floatbank3_b_air    16860 non-null  float64\n",
      " 44  secondary_cleaner.state.floatbank3_b_level  16860 non-null  float64\n",
      " 45  secondary_cleaner.state.floatbank4_a_air    16860 non-null  float64\n",
      " 46  secondary_cleaner.state.floatbank4_a_level  16860 non-null  float64\n",
      " 47  secondary_cleaner.state.floatbank4_b_air    16860 non-null  float64\n",
      " 48  secondary_cleaner.state.floatbank4_b_level  16860 non-null  float64\n",
      " 49  secondary_cleaner.state.floatbank5_a_air    16860 non-null  float64\n",
      " 50  secondary_cleaner.state.floatbank5_a_level  16860 non-null  float64\n",
      " 51  secondary_cleaner.state.floatbank5_b_air    16860 non-null  float64\n",
      " 52  secondary_cleaner.state.floatbank5_b_level  16860 non-null  float64\n",
      " 53  secondary_cleaner.state.floatbank6_a_air    16860 non-null  float64\n",
      " 54  secondary_cleaner.state.floatbank6_a_level  16860 non-null  float64\n",
      "dtypes: float64(54), object(1)\n",
      "memory usage: 7.1+ MB\n"
     ]
    }
   ],
   "source": [
    "# Fill in missing values from the train set with the median value for each column\n",
    "train.fillna(train.median(), inplace = True)\n",
    "train.info()\n"
   ]
  },
  {
   "cell_type": "code",
   "execution_count": 16,
   "metadata": {},
   "outputs": [
    {
     "name": "stdout",
     "output_type": "stream",
     "text": [
      "<class 'pandas.core.frame.DataFrame'>\n",
      "RangeIndex: 5856 entries, 0 to 5855\n",
      "Data columns (total 53 columns):\n",
      " #   Column                                      Non-Null Count  Dtype  \n",
      "---  ------                                      --------------  -----  \n",
      " 0   date                                        5856 non-null   object \n",
      " 1   primary_cleaner.input.sulfate               5856 non-null   float64\n",
      " 2   primary_cleaner.input.depressant            5856 non-null   float64\n",
      " 3   primary_cleaner.input.feed_size             5856 non-null   float64\n",
      " 4   primary_cleaner.input.xanthate              5856 non-null   float64\n",
      " 5   primary_cleaner.state.floatbank8_a_air      5856 non-null   float64\n",
      " 6   primary_cleaner.state.floatbank8_a_level    5856 non-null   float64\n",
      " 7   primary_cleaner.state.floatbank8_b_air      5856 non-null   float64\n",
      " 8   primary_cleaner.state.floatbank8_b_level    5856 non-null   float64\n",
      " 9   primary_cleaner.state.floatbank8_c_air      5856 non-null   float64\n",
      " 10  primary_cleaner.state.floatbank8_c_level    5856 non-null   float64\n",
      " 11  primary_cleaner.state.floatbank8_d_air      5856 non-null   float64\n",
      " 12  primary_cleaner.state.floatbank8_d_level    5856 non-null   float64\n",
      " 13  rougher.input.feed_ag                       5856 non-null   float64\n",
      " 14  rougher.input.feed_pb                       5856 non-null   float64\n",
      " 15  rougher.input.feed_rate                     5856 non-null   float64\n",
      " 16  rougher.input.feed_size                     5856 non-null   float64\n",
      " 17  rougher.input.feed_sol                      5856 non-null   float64\n",
      " 18  rougher.input.feed_au                       5856 non-null   float64\n",
      " 19  rougher.input.floatbank10_sulfate           5856 non-null   float64\n",
      " 20  rougher.input.floatbank10_xanthate          5856 non-null   float64\n",
      " 21  rougher.input.floatbank11_sulfate           5856 non-null   float64\n",
      " 22  rougher.input.floatbank11_xanthate          5856 non-null   float64\n",
      " 23  rougher.state.floatbank10_a_air             5856 non-null   float64\n",
      " 24  rougher.state.floatbank10_a_level           5856 non-null   float64\n",
      " 25  rougher.state.floatbank10_b_air             5856 non-null   float64\n",
      " 26  rougher.state.floatbank10_b_level           5856 non-null   float64\n",
      " 27  rougher.state.floatbank10_c_air             5856 non-null   float64\n",
      " 28  rougher.state.floatbank10_c_level           5856 non-null   float64\n",
      " 29  rougher.state.floatbank10_d_air             5856 non-null   float64\n",
      " 30  rougher.state.floatbank10_d_level           5856 non-null   float64\n",
      " 31  rougher.state.floatbank10_e_air             5856 non-null   float64\n",
      " 32  rougher.state.floatbank10_e_level           5856 non-null   float64\n",
      " 33  rougher.state.floatbank10_f_air             5856 non-null   float64\n",
      " 34  rougher.state.floatbank10_f_level           5856 non-null   float64\n",
      " 35  secondary_cleaner.state.floatbank2_a_air    5856 non-null   float64\n",
      " 36  secondary_cleaner.state.floatbank2_a_level  5856 non-null   float64\n",
      " 37  secondary_cleaner.state.floatbank2_b_air    5856 non-null   float64\n",
      " 38  secondary_cleaner.state.floatbank2_b_level  5856 non-null   float64\n",
      " 39  secondary_cleaner.state.floatbank3_a_air    5856 non-null   float64\n",
      " 40  secondary_cleaner.state.floatbank3_a_level  5856 non-null   float64\n",
      " 41  secondary_cleaner.state.floatbank3_b_air    5856 non-null   float64\n",
      " 42  secondary_cleaner.state.floatbank3_b_level  5856 non-null   float64\n",
      " 43  secondary_cleaner.state.floatbank4_a_air    5856 non-null   float64\n",
      " 44  secondary_cleaner.state.floatbank4_a_level  5856 non-null   float64\n",
      " 45  secondary_cleaner.state.floatbank4_b_air    5856 non-null   float64\n",
      " 46  secondary_cleaner.state.floatbank4_b_level  5856 non-null   float64\n",
      " 47  secondary_cleaner.state.floatbank5_a_air    5856 non-null   float64\n",
      " 48  secondary_cleaner.state.floatbank5_a_level  5856 non-null   float64\n",
      " 49  secondary_cleaner.state.floatbank5_b_air    5856 non-null   float64\n",
      " 50  secondary_cleaner.state.floatbank5_b_level  5856 non-null   float64\n",
      " 51  secondary_cleaner.state.floatbank6_a_air    5856 non-null   float64\n",
      " 52  secondary_cleaner.state.floatbank6_a_level  5856 non-null   float64\n",
      "dtypes: float64(52), object(1)\n",
      "memory usage: 2.4+ MB\n"
     ]
    }
   ],
   "source": [
    "# Fill in missing values from the test set with the median value for each column\n",
    "test.fillna(test.median(), inplace = True)\n",
    "test.info()\n"
   ]
  },
  {
   "cell_type": "code",
   "execution_count": 17,
   "metadata": {},
   "outputs": [],
   "source": [
    "# Drop the 'date' feature from the train and test set\n",
    "train = train.drop('date', axis = 1)\n",
    "test = test.drop('date', axis = 1)\n"
   ]
  },
  {
   "cell_type": "markdown",
   "metadata": {},
   "source": [
    "To prepare the data for analysis, the train set was cleaned so that it contains the same feature parameters as the test set as well as the target which is the 'final.output.recovery' column. Then the missing values in the train and test set were filled with median values in order to preserve as much data as possible. Median values were selected for filling in the missing values since they are less sensitive to extreme values like mean values may be. Finally, the 'date' feature was dropped from the train and test sets as they do not have relevance to the target in question."
   ]
  },
  {
   "cell_type": "markdown",
   "metadata": {},
   "source": [
    "# Analyze the data"
   ]
  },
  {
   "cell_type": "code",
   "execution_count": 18,
   "metadata": {},
   "outputs": [
    {
     "data": {
      "image/png": "[encoded data removed]",
      "text/plain": [
       "<Figure size 504x288 with 1 Axes>"
      ]
     },
     "metadata": {
      "needs_background": "light"
     },
     "output_type": "display_data"
    }
   ],
   "source": [
    "# Take note of how the concentrations of Au change depending on the purification stage\n",
    "\n",
    "# Plot a histogram to visualize the changes\n",
    "full['rougher.output.concentrate_au'].hist(bins=20, figsize=(7, 4), alpha=.5, density=True)\n",
    "full['primary_cleaner.output.concentrate_au'].hist(bins=20, figsize=(7, 4), alpha=.5, density=True)\n",
    "full['final.output.concentrate_au'].hist(bins=20, figsize=(7, 4), alpha=.5, density=True)\n",
    "\n",
    "plt.title('Au Concentration Changes by Purification Stage')\n",
    "plt.ylabel('Observations')\n",
    "plt.xlabel('Concentrate')\n",
    "plt.legend(['Rougher Concentrate', 'Primary Output Concentrate', 'Final Concentrate'])\n",
    "plt.show()\n"
   ]
  },
  {
   "cell_type": "markdown",
   "metadata": {},
   "source": [
    "The above histogram shows that the concentration of gold is lowest in the rougher concentrate, higher in the primary output concentrate, and highest in the final concentrate. This result is as expected since gold concentrations will logically get higher as it goes through more stages of purification and non-gold substances are filtered out."
   ]
  },
  {
   "cell_type": "code",
   "execution_count": 19,
   "metadata": {},
   "outputs": [
    {
     "data": {
      "image/png": "[encoded data removed]",
      "text/plain": [
       "<Figure size 504x288 with 1 Axes>"
      ]
     },
     "metadata": {
      "needs_background": "light"
     },
     "output_type": "display_data"
    }
   ],
   "source": [
    "# Take note of how the concentrations of Ag change depending on the purification stage\n",
    "\n",
    "# Plot a histogram to visualize the changes\n",
    "full['rougher.output.concentrate_ag'].hist(bins=20, figsize=(7, 4), alpha=.5, density=True)\n",
    "full['primary_cleaner.output.concentrate_ag'].hist(bins=20, figsize=(7, 4), alpha=.5, density=True)\n",
    "full['final.output.concentrate_ag'].hist(bins=20, figsize=(7, 4), alpha=.5, density=True)\n",
    "\n",
    "plt.title('Ag Concentration Changes by Purification Stage')\n",
    "plt.ylabel('Observations')\n",
    "plt.xlabel('Concentrate')\n",
    "plt.legend(['Rougher Concentrate', 'Primary Output Concentrate', 'Final Concentrate'])\n",
    "plt.show()\n"
   ]
  },
  {
   "cell_type": "markdown",
   "metadata": {},
   "source": [
    "This histogram of silver concentrations depicts the opposite trend found in the gold concentrations. With each subsequent purification stage, the concentration of silver goes down which also makes sense since the process of gold purification will remove other substances such as silver at each purification stage."
   ]
  },
  {
   "cell_type": "code",
   "execution_count": 20,
   "metadata": {},
   "outputs": [
    {
     "data": {
      "image/png": "[encoded data removed]",
      "text/plain": [
       "<Figure size 504x288 with 1 Axes>"
      ]
     },
     "metadata": {
      "needs_background": "light"
     },
     "output_type": "display_data"
    }
   ],
   "source": [
    "# Take note of how the concentrations of Pb change depending on the purification stage\n",
    "\n",
    "# Plot a histogram to visualize the changes\n",
    "full['rougher.output.concentrate_pb'].hist(bins=20, figsize=(7, 4), alpha=.5, density=True)\n",
    "full['primary_cleaner.output.concentrate_pb'].hist(bins=20, figsize=(7, 4), alpha=.5, density=True)\n",
    "full['final.output.concentrate_pb'].hist(bins=20, figsize=(7, 4), alpha=.5, density=True)\n",
    "\n",
    "plt.title('Pb Concentration Changes by Purification Stage')\n",
    "plt.ylabel('Observations')\n",
    "plt.xlabel('Concentrate')\n",
    "plt.legend(['Rougher Concentrate', 'Primary Output Concentrate', 'Final Concentrate'])\n",
    "plt.show()\n"
   ]
  },
  {
   "cell_type": "markdown",
   "metadata": {},
   "source": [
    "The result in the above histogram of lead concentration changes is a little more unusual than the other two graphs. It shows that the rougher concentrate had smaller concentrations than the primary output and final concentrates. However, while this may not necessarily be the expected result, it is possible that the process may not be as effective as it could be and could have had trouble filtering out lead in some instances, leading to the variations in lead concentrations that we see in the histogram. Since there does seem to be a clear pattern as opposed to random distributions of lead concentrations, the data for lead concentration will not be eliminated from the analysis."
   ]
  },
  {
   "cell_type": "code",
   "execution_count": 21,
   "metadata": {},
   "outputs": [
    {
     "data": {
      "image/png": "[encoded data removed]",
      "text/plain": [
       "<Figure size 504x288 with 1 Axes>"
      ]
     },
     "metadata": {
      "needs_background": "light"
     },
     "output_type": "display_data"
    }
   ],
   "source": [
    "# Compare the feed particle size distributions in the training set and in the test set. If the distributions vary significantly, the model evaluation will be incorrect\n",
    "\n",
    "# Plot a histogram to visualize the distributions\n",
    "train['rougher.input.feed_size'].hist(bins=20, figsize=(7, 4), alpha=.5, density=True)\n",
    "test['rougher.input.feed_size'].hist(bins=20, figsize=(7, 4), alpha=.5, density=True)\n",
    "\n",
    "plt.title('Rougher Input Feed Size Distributions in Training and Test Set')\n",
    "plt.ylabel('Observations')\n",
    "plt.xlabel('Feed Size')\n",
    "plt.legend(['Train', 'Test'])\n",
    "plt.show()\n"
   ]
  },
  {
   "cell_type": "markdown",
   "metadata": {},
   "source": [
    "Based on the above histogram of the feed particle size distributions in the training and test set, they seem to be relatively similar, indicating that the model evaluation will be valid."
   ]
  },
  {
   "cell_type": "markdown",
   "metadata": {},
   "source": [
    "# Build models"
   ]
  },
  {
   "cell_type": "code",
   "execution_count": 22,
   "metadata": {},
   "outputs": [],
   "source": [
    "# Write a function to calculate the final sMAPE value.\n",
    "def smape(estimator, features, target):\n",
    "    pred = estimator.predict(features)\n",
    "    return 1/len(target) * np.sum(2 * np.abs(pred - target) / (np.abs(target) + np.abs(pred))*100)\n"
   ]
  },
  {
   "cell_type": "code",
   "execution_count": 23,
   "metadata": {},
   "outputs": [],
   "source": [
    "# Create the features and target variables that will be used for the following models to predict 'final.output.recovery'\n",
    "features = train.drop(['final.output.recovery', 'rougher.output.recovery'], axis=1) # The features consists of all the columns except 'final.output.recovery' and 'rougher.output.recovery'\n",
    "target_final = train['final.output.recovery'] # The target is the 'final.output.recovery' column\n"
   ]
  },
  {
   "cell_type": "code",
   "execution_count": 24,
   "metadata": {},
   "outputs": [],
   "source": [
    "# Normalize the numeric features to ensure that the data is appropriately scaled\n",
    "scaler = StandardScaler()\n",
    "scaler.fit(features)\n",
    "features[features.columns] = scaler.transform(features[features.columns])\n",
    "test[test.columns] = scaler.transform(test[test.columns])\n"
   ]
  },
  {
   "cell_type": "code",
   "execution_count": 25,
   "metadata": {},
   "outputs": [],
   "source": [
    "# Create a function that will calculate the cross-validation sMAPE values for Linear Regression, Decision Tree Regression, and Random Forest Regression Models\n",
    "def cross_val_model(model_name, features, target, num_params=2, start_params=1, random_state=12345, cv=5, scoring=smape):\n",
    "    best_model = None\n",
    "    best_param = 0 \n",
    "    best_score = float('Inf')\n",
    "    for param in range(start_params, num_params):\n",
    "        if model_name == 'Linear Regression':\n",
    "            model = LinearRegression() # initialize model constructor\n",
    "        elif model_name == 'Decision Tree Regression':\n",
    "            model = DecisionTreeRegressor(random_state = random_state, max_depth = param) # create a model with the given depth\n",
    "        elif model_name == 'Random Forest Regression':\n",
    "            model = RandomForestRegressor(random_state = random_state, n_estimators = param) # set number of trees\n",
    "        cv_scores = cross_val_score(model, features, target, cv = cv, scoring = smape)\n",
    "        score = cv_scores.mean()\n",
    "        if score < best_score: # identify the best model based on sMAPE value\n",
    "            best_score = score\n",
    "            best_model = model \n",
    "            best_param = param\n",
    "        \n",
    "    print(f'Cross Validation (sMAPE) Score: {best_score}')\n",
    "    print(f'Best Param: {best_param}')\n",
    "    return best_model\n",
    "            "
   ]
  },
  {
   "cell_type": "markdown",
   "metadata": {},
   "source": [
    "## Linear Regression (final.output.recovery)"
   ]
  },
  {
   "cell_type": "code",
   "execution_count": 26,
   "metadata": {},
   "outputs": [
    {
     "name": "stdout",
     "output_type": "stream",
     "text": [
      "Cross Validation (sMAPE) Score: 13.006911806902465\n",
      "Best Param: 1\n"
     ]
    }
   ],
   "source": [
    "# Use the cross_val_model function to get the sMAPE for a Linear Regression model\n",
    "final_lr_model = cross_val_model('Linear Regression', features, target_final)\n"
   ]
  },
  {
   "cell_type": "markdown",
   "metadata": {},
   "source": [
    "## Decision Tree Regression (final.output.recovery)"
   ]
  },
  {
   "cell_type": "code",
   "execution_count": 27,
   "metadata": {},
   "outputs": [
    {
     "name": "stdout",
     "output_type": "stream",
     "text": [
      "Cross Validation (sMAPE) Score: 11.643230837174208\n",
      "Best Param: 2\n"
     ]
    }
   ],
   "source": [
    "# Use the cross_val_model function to get the sMAPE for a Decision Tree Regression model\n",
    "final_dtr_model = cross_val_model('Decision Tree Regression', features, target_final, num_params=11)\n"
   ]
  },
  {
   "cell_type": "markdown",
   "metadata": {},
   "source": [
    "## Random Forest Regression (final.output.recovery)"
   ]
  },
  {
   "cell_type": "code",
   "execution_count": 28,
   "metadata": {},
   "outputs": [
    {
     "name": "stdout",
     "output_type": "stream",
     "text": [
      "Cross Validation (sMAPE) Score: 12.98359137470008\n",
      "Best Param: 20\n"
     ]
    }
   ],
   "source": [
    "# Use the cross_val_model function to get the sMAPE for a Random Forest Regression model\n",
    "final_rfr_model = cross_val_model('Random Forest Regression', features, target_final, start_params=20, num_params=21)\n"
   ]
  },
  {
   "cell_type": "code",
   "execution_count": 29,
   "metadata": {},
   "outputs": [],
   "source": [
    "# Create the features and target variables that will be used for the following models to predict 'rougher.output.recovery'\n",
    "features = train.drop(['final.output.recovery', 'rougher.output.recovery'], axis=1) # The features consists of all the columns except 'final.output.recovery' and 'rougher.output.recovery'\n",
    "target_rougher = train['rougher.output.recovery'] # The target is the 'rougher.output.recovery' column\n"
   ]
  },
  {
   "cell_type": "code",
   "execution_count": 30,
   "metadata": {},
   "outputs": [],
   "source": [
    "# Normalize the numeric features to ensure that the data is appropriately scaled\n",
    "scaler = StandardScaler()\n",
    "scaler.fit(features)\n",
    "features[features.columns] = scaler.transform(features[features.columns])\n"
   ]
  },
  {
   "cell_type": "markdown",
   "metadata": {},
   "source": [
    "## Linear Regression (rougher.output.recovery)"
   ]
  },
  {
   "cell_type": "code",
   "execution_count": 31,
   "metadata": {},
   "outputs": [
    {
     "name": "stdout",
     "output_type": "stream",
     "text": [
      "Cross Validation (sMAPE) Score: 11.215213323227042\n",
      "Best Param: 1\n"
     ]
    }
   ],
   "source": [
    "# Use the cross_val_model function to get the sMAPE for a Linear Regression model\n",
    "rougher_lr_model = cross_val_model('Linear Regression', features, target_rougher)\n"
   ]
  },
  {
   "cell_type": "markdown",
   "metadata": {},
   "source": [
    "## Decision Tree Regressor (rougher.output.recovery)"
   ]
  },
  {
   "cell_type": "code",
   "execution_count": 32,
   "metadata": {},
   "outputs": [
    {
     "name": "stdout",
     "output_type": "stream",
     "text": [
      "Cross Validation (sMAPE) Score: 10.918664752387535\n",
      "Best Param: 3\n"
     ]
    }
   ],
   "source": [
    "# Use the cross_val_model function to get the sMAPE for a Decision Tree Regression model\n",
    "rougher_dtr_model = cross_val_model('Decision Tree Regression', features, target_rougher, num_params=11)\n",
    "\n"
   ]
  },
  {
   "cell_type": "markdown",
   "metadata": {},
   "source": [
    "## Random Forest Regressor (rougher.output.recovery)"
   ]
  },
  {
   "cell_type": "code",
   "execution_count": 33,
   "metadata": {},
   "outputs": [
    {
     "name": "stdout",
     "output_type": "stream",
     "text": [
      "Cross Validation (sMAPE) Score: 13.025611608365242\n",
      "Best Param: 20\n"
     ]
    }
   ],
   "source": [
    "# Use the cross_val_model function to get the sMAPE for a Random Forest Regression model\n",
    "rougher_rfr_model = cross_val_model('Random Forest Regression', features, target_rougher, start_params=20, num_params=21)\n"
   ]
  },
  {
   "cell_type": "code",
   "execution_count": 34,
   "metadata": {},
   "outputs": [
    {
     "data": {
      "text/html": [
       "<div>\n",
       "<style scoped>\n",
       "    .dataframe tbody tr th:only-of-type {\n",
       "        vertical-align: middle;\n",
       "    }\n",
       "\n",
       "    .dataframe tbody tr th {\n",
       "        vertical-align: top;\n",
       "    }\n",
       "\n",
       "    .dataframe thead th {\n",
       "        text-align: right;\n",
       "    }\n",
       "</style>\n",
       "<table border=\"1\" class=\"dataframe\">\n",
       "  <thead>\n",
       "    <tr style=\"text-align: right;\">\n",
       "      <th></th>\n",
       "      <th>0</th>\n",
       "    </tr>\n",
       "  </thead>\n",
       "  <tbody>\n",
       "    <tr>\n",
       "      <th>count</th>\n",
       "      <td>5856.000000</td>\n",
       "    </tr>\n",
       "    <tr>\n",
       "      <th>mean</th>\n",
       "      <td>68.656704</td>\n",
       "    </tr>\n",
       "    <tr>\n",
       "      <th>std</th>\n",
       "      <td>2.613116</td>\n",
       "    </tr>\n",
       "    <tr>\n",
       "      <th>min</th>\n",
       "      <td>57.859450</td>\n",
       "    </tr>\n",
       "    <tr>\n",
       "      <th>25%</th>\n",
       "      <td>69.550915</td>\n",
       "    </tr>\n",
       "    <tr>\n",
       "      <th>50%</th>\n",
       "      <td>69.550915</td>\n",
       "    </tr>\n",
       "    <tr>\n",
       "      <th>75%</th>\n",
       "      <td>69.550915</td>\n",
       "    </tr>\n",
       "    <tr>\n",
       "      <th>max</th>\n",
       "      <td>91.657493</td>\n",
       "    </tr>\n",
       "  </tbody>\n",
       "</table>\n",
       "</div>"
      ],
      "text/plain": [
       "                 0\n",
       "count  5856.000000\n",
       "mean     68.656704\n",
       "std       2.613116\n",
       "min      57.859450\n",
       "25%      69.550915\n",
       "50%      69.550915\n",
       "75%      69.550915\n",
       "max      91.657493"
      ]
     },
     "execution_count": 34,
     "metadata": {},
     "output_type": "execute_result"
    }
   ],
   "source": [
    "# Test the Decision Tree Model (which had the best sMAPE for both the rougher and final output targets) using the test sample for final.output.recovery\n",
    "final_model = DecisionTreeRegressor(random_state = 12345, max_depth = 2)\n",
    "final_model.fit(features, target_final)\n",
    "final_pred = pd.DataFrame(final_model.predict(test))\n",
    "final_pred.describe()\n"
   ]
  },
  {
   "cell_type": "code",
   "execution_count": 35,
   "metadata": {},
   "outputs": [
    {
     "data": {
      "text/html": [
       "<div>\n",
       "<style scoped>\n",
       "    .dataframe tbody tr th:only-of-type {\n",
       "        vertical-align: middle;\n",
       "    }\n",
       "\n",
       "    .dataframe tbody tr th {\n",
       "        vertical-align: top;\n",
       "    }\n",
       "\n",
       "    .dataframe thead th {\n",
       "        text-align: right;\n",
       "    }\n",
       "</style>\n",
       "<table border=\"1\" class=\"dataframe\">\n",
       "  <thead>\n",
       "    <tr style=\"text-align: right;\">\n",
       "      <th></th>\n",
       "      <th>0</th>\n",
       "    </tr>\n",
       "  </thead>\n",
       "  <tbody>\n",
       "    <tr>\n",
       "      <th>count</th>\n",
       "      <td>5856.000000</td>\n",
       "    </tr>\n",
       "    <tr>\n",
       "      <th>mean</th>\n",
       "      <td>81.863459</td>\n",
       "    </tr>\n",
       "    <tr>\n",
       "      <th>std</th>\n",
       "      <td>7.396100</td>\n",
       "    </tr>\n",
       "    <tr>\n",
       "      <th>min</th>\n",
       "      <td>14.895017</td>\n",
       "    </tr>\n",
       "    <tr>\n",
       "      <th>25%</th>\n",
       "      <td>83.521127</td>\n",
       "    </tr>\n",
       "    <tr>\n",
       "      <th>50%</th>\n",
       "      <td>83.521127</td>\n",
       "    </tr>\n",
       "    <tr>\n",
       "      <th>75%</th>\n",
       "      <td>83.521127</td>\n",
       "    </tr>\n",
       "    <tr>\n",
       "      <th>max</th>\n",
       "      <td>88.585625</td>\n",
       "    </tr>\n",
       "  </tbody>\n",
       "</table>\n",
       "</div>"
      ],
      "text/plain": [
       "                 0\n",
       "count  5856.000000\n",
       "mean     81.863459\n",
       "std       7.396100\n",
       "min      14.895017\n",
       "25%      83.521127\n",
       "50%      83.521127\n",
       "75%      83.521127\n",
       "max      88.585625"
      ]
     },
     "execution_count": 35,
     "metadata": {},
     "output_type": "execute_result"
    }
   ],
   "source": [
    "# Test the Decision Tree Model (which had the best sMAPE for both the rougher and final output targets) using the test sample for rougher.output.recovery\n",
    "rougher_model = DecisionTreeRegressor(random_state = 12345, max_depth = 3)\n",
    "rougher_model.fit(features, target_rougher)\n",
    "rougher_pred = pd.DataFrame(rougher_model.predict(test))\n",
    "rougher_pred.describe()\n"
   ]
  },
  {
   "cell_type": "code",
   "execution_count": 36,
   "metadata": {},
   "outputs": [
    {
     "data": {
      "image/png": "[encoded data removed]",
      "text/plain": [
       "<Figure size 504x288 with 1 Axes>"
      ]
     },
     "metadata": {
      "needs_background": "light"
     },
     "output_type": "display_data"
    }
   ],
   "source": [
    "# Plot a histogram to visualize the distribution\n",
    "final_pred[0].hist(bins=20, figsize=(7, 4), alpha=.5, density=True)\n",
    "rougher_pred[0].hist(bins=20, figsize=(7, 4), alpha=.5, density=True)\n",
    "\n",
    "plt.title('Final and Rougher Output Recovery')\n",
    "plt.ylabel('Observations')\n",
    "plt.xlabel('Output Recovery')\n",
    "plt.legend(['Final', 'Rougher'])\n",
    "plt.show()\n"
   ]
  },
  {
   "cell_type": "markdown",
   "metadata": {},
   "source": [
    "Based on the predictions of the Decision Tree models, the predicted final output values were lower than that of the predicted rougher output values. The mean value for final output was 68.7 while the mean value for the rougher output was 81.9. Although the expectation was for the final output values to be higher than that of the rougher output, perhaps there is a reason within the technical process of gold refinement that causes the rougher concentrations to be higher than the final concentrations."
   ]
  },
  {
   "cell_type": "code",
   "execution_count": null,
   "metadata": {},
   "outputs": [],
   "source": []
  }
 ],
 "metadata": {
  "ExecuteTimeLog": [
   {
    "duration": 1855,
    "start_time": "2022-05-27T14:13:36.126Z"
   },
   {
    "duration": 1563,
    "start_time": "2022-05-27T14:14:01.699Z"
   },
   {
    "duration": 50,
    "start_time": "2022-05-27T14:14:21.938Z"
   },
   {
    "duration": 3,
    "start_time": "2022-05-27T14:23:38.904Z"
   },
   {
    "duration": 646,
    "start_time": "2022-05-27T14:23:40.764Z"
   },
   {
    "duration": 1210,
    "start_time": "2022-05-27T14:24:33.450Z"
   },
   {
    "duration": 449,
    "start_time": "2022-05-27T14:24:34.662Z"
   },
   {
    "duration": 0,
    "start_time": "2022-05-27T14:24:35.113Z"
   },
   {
    "duration": 0,
    "start_time": "2022-05-27T14:24:35.115Z"
   },
   {
    "duration": 0,
    "start_time": "2022-05-27T14:24:35.116Z"
   },
   {
    "duration": 0,
    "start_time": "2022-05-27T14:24:35.117Z"
   },
   {
    "duration": 0,
    "start_time": "2022-05-27T14:24:35.118Z"
   },
   {
    "duration": 0,
    "start_time": "2022-05-27T14:24:35.118Z"
   },
   {
    "duration": 0,
    "start_time": "2022-05-27T14:24:35.119Z"
   },
   {
    "duration": 0,
    "start_time": "2022-05-27T14:24:35.120Z"
   },
   {
    "duration": 0,
    "start_time": "2022-05-27T14:24:35.121Z"
   },
   {
    "duration": 1071,
    "start_time": "2022-05-27T14:24:48.401Z"
   },
   {
    "duration": 255,
    "start_time": "2022-05-27T14:25:06.390Z"
   },
   {
    "duration": 27,
    "start_time": "2022-05-27T14:25:22.774Z"
   },
   {
    "duration": 134,
    "start_time": "2022-05-27T14:26:33.546Z"
   },
   {
    "duration": 26,
    "start_time": "2022-05-27T14:26:39.854Z"
   },
   {
    "duration": 291,
    "start_time": "2022-05-27T14:26:59.562Z"
   },
   {
    "duration": 29,
    "start_time": "2022-05-27T14:27:01.733Z"
   },
   {
    "duration": 1434,
    "start_time": "2022-05-28T19:59:44.781Z"
   },
   {
    "duration": 3819,
    "start_time": "2022-05-28T19:59:46.217Z"
   },
   {
    "duration": 261,
    "start_time": "2022-05-28T19:59:50.038Z"
   },
   {
    "duration": 33,
    "start_time": "2022-05-28T19:59:50.301Z"
   },
   {
    "duration": 148,
    "start_time": "2022-05-28T19:59:50.336Z"
   },
   {
    "duration": 25,
    "start_time": "2022-05-28T19:59:50.485Z"
   },
   {
    "duration": 298,
    "start_time": "2022-05-28T19:59:50.511Z"
   },
   {
    "duration": 46,
    "start_time": "2022-05-28T19:59:50.812Z"
   },
   {
    "duration": 7,
    "start_time": "2022-05-28T19:59:50.859Z"
   },
   {
    "duration": 3,
    "start_time": "2022-05-28T19:59:50.867Z"
   },
   {
    "duration": 10,
    "start_time": "2022-05-28T19:59:50.871Z"
   },
   {
    "duration": 6,
    "start_time": "2022-05-28T19:59:50.882Z"
   },
   {
    "duration": 6,
    "start_time": "2022-05-28T19:59:50.890Z"
   },
   {
    "duration": 4,
    "start_time": "2022-05-28T19:59:50.898Z"
   },
   {
    "duration": 8,
    "start_time": "2022-05-28T19:59:50.903Z"
   },
   {
    "duration": 7,
    "start_time": "2022-05-28T20:00:44.818Z"
   },
   {
    "duration": 6,
    "start_time": "2022-05-28T20:02:37.888Z"
   },
   {
    "duration": 20,
    "start_time": "2022-05-28T20:03:46.160Z"
   },
   {
    "duration": 7,
    "start_time": "2022-05-28T20:04:05.824Z"
   },
   {
    "duration": 12,
    "start_time": "2022-05-28T20:04:09.845Z"
   },
   {
    "duration": 28,
    "start_time": "2022-05-28T20:08:08.628Z"
   },
   {
    "duration": 1330,
    "start_time": "2022-05-28T20:14:16.647Z"
   },
   {
    "duration": 857,
    "start_time": "2022-05-28T20:14:17.979Z"
   },
   {
    "duration": 273,
    "start_time": "2022-05-28T20:14:18.838Z"
   },
   {
    "duration": 37,
    "start_time": "2022-05-28T20:14:19.112Z"
   },
   {
    "duration": 176,
    "start_time": "2022-05-28T20:14:19.151Z"
   },
   {
    "duration": 35,
    "start_time": "2022-05-28T20:14:19.329Z"
   },
   {
    "duration": 321,
    "start_time": "2022-05-28T20:14:19.365Z"
   },
   {
    "duration": 37,
    "start_time": "2022-05-28T20:14:19.687Z"
   },
   {
    "duration": 8,
    "start_time": "2022-05-28T20:14:19.725Z"
   },
   {
    "duration": 20,
    "start_time": "2022-05-28T20:14:19.735Z"
   },
   {
    "duration": 29,
    "start_time": "2022-05-28T20:14:19.757Z"
   },
   {
    "duration": 2,
    "start_time": "2022-05-28T20:14:19.788Z"
   },
   {
    "duration": 32,
    "start_time": "2022-05-28T20:14:19.792Z"
   },
   {
    "duration": 3,
    "start_time": "2022-05-28T20:14:19.828Z"
   },
   {
    "duration": 7,
    "start_time": "2022-05-28T20:14:19.833Z"
   },
   {
    "duration": 4,
    "start_time": "2022-05-28T20:14:19.842Z"
   },
   {
    "duration": 6,
    "start_time": "2022-05-28T20:14:19.847Z"
   },
   {
    "duration": 16,
    "start_time": "2022-05-28T20:15:45.444Z"
   },
   {
    "duration": 3,
    "start_time": "2022-05-28T20:18:09.347Z"
   },
   {
    "duration": 128,
    "start_time": "2022-05-28T20:19:56.642Z"
   },
   {
    "duration": 7,
    "start_time": "2022-05-28T20:23:34.011Z"
   },
   {
    "duration": 1218,
    "start_time": "2022-05-28T21:08:44.891Z"
   },
   {
    "duration": 787,
    "start_time": "2022-05-28T21:08:46.111Z"
   },
   {
    "duration": 252,
    "start_time": "2022-05-28T21:08:46.899Z"
   },
   {
    "duration": 28,
    "start_time": "2022-05-28T21:08:47.153Z"
   },
   {
    "duration": 154,
    "start_time": "2022-05-28T21:08:47.184Z"
   },
   {
    "duration": 25,
    "start_time": "2022-05-28T21:08:47.340Z"
   },
   {
    "duration": 286,
    "start_time": "2022-05-28T21:08:47.367Z"
   },
   {
    "duration": 29,
    "start_time": "2022-05-28T21:08:47.654Z"
   },
   {
    "duration": 8,
    "start_time": "2022-05-28T21:08:47.684Z"
   },
   {
    "duration": 38,
    "start_time": "2022-05-28T21:08:47.693Z"
   },
   {
    "duration": 7,
    "start_time": "2022-05-28T21:08:47.732Z"
   },
   {
    "duration": 3,
    "start_time": "2022-05-28T21:08:47.740Z"
   },
   {
    "duration": 4,
    "start_time": "2022-05-28T21:08:47.744Z"
   },
   {
    "duration": 5,
    "start_time": "2022-05-28T21:08:47.750Z"
   },
   {
    "duration": 5,
    "start_time": "2022-05-28T21:08:47.756Z"
   },
   {
    "duration": 8,
    "start_time": "2022-05-28T21:08:47.762Z"
   },
   {
    "duration": 5,
    "start_time": "2022-05-28T21:33:43.604Z"
   },
   {
    "duration": 4,
    "start_time": "2022-05-28T21:33:55.203Z"
   },
   {
    "duration": 5,
    "start_time": "2022-05-28T21:37:16.707Z"
   },
   {
    "duration": 4,
    "start_time": "2022-05-28T21:37:24.407Z"
   },
   {
    "duration": 6,
    "start_time": "2022-05-28T21:38:49.287Z"
   },
   {
    "duration": 10,
    "start_time": "2022-05-28T22:00:36.880Z"
   },
   {
    "duration": 12,
    "start_time": "2022-05-28T22:01:19.261Z"
   },
   {
    "duration": 22,
    "start_time": "2022-05-28T22:02:52.739Z"
   },
   {
    "duration": 111,
    "start_time": "2022-05-28T22:04:00.321Z"
   },
   {
    "duration": 33,
    "start_time": "2022-05-28T22:04:26.679Z"
   },
   {
    "duration": 1280,
    "start_time": "2022-05-28T22:04:48.039Z"
   },
   {
    "duration": 790,
    "start_time": "2022-05-28T22:04:49.320Z"
   },
   {
    "duration": 245,
    "start_time": "2022-05-28T22:04:50.111Z"
   },
   {
    "duration": 26,
    "start_time": "2022-05-28T22:04:50.357Z"
   },
   {
    "duration": 141,
    "start_time": "2022-05-28T22:04:50.385Z"
   },
   {
    "duration": 24,
    "start_time": "2022-05-28T22:04:50.528Z"
   },
   {
    "duration": 271,
    "start_time": "2022-05-28T22:04:50.553Z"
   },
   {
    "duration": 26,
    "start_time": "2022-05-28T22:04:50.825Z"
   },
   {
    "duration": 7,
    "start_time": "2022-05-28T22:04:50.853Z"
   },
   {
    "duration": 21,
    "start_time": "2022-05-28T22:04:50.862Z"
   },
   {
    "duration": 6,
    "start_time": "2022-05-28T22:04:50.885Z"
   },
   {
    "duration": 33,
    "start_time": "2022-05-28T22:04:50.892Z"
   },
   {
    "duration": 31,
    "start_time": "2022-05-28T22:04:50.927Z"
   },
   {
    "duration": 24,
    "start_time": "2022-05-28T22:04:50.960Z"
   },
   {
    "duration": 3,
    "start_time": "2022-05-28T22:04:50.985Z"
   },
   {
    "duration": 13,
    "start_time": "2022-05-28T22:04:50.990Z"
   },
   {
    "duration": 18,
    "start_time": "2022-05-28T22:04:51.005Z"
   },
   {
    "duration": 9,
    "start_time": "2022-05-28T22:04:51.025Z"
   },
   {
    "duration": 5,
    "start_time": "2022-05-28T22:07:00.833Z"
   },
   {
    "duration": 107,
    "start_time": "2022-05-28T22:11:17.204Z"
   },
   {
    "duration": 1262,
    "start_time": "2022-05-28T22:11:36.919Z"
   },
   {
    "duration": 899,
    "start_time": "2022-05-28T22:11:38.183Z"
   },
   {
    "duration": 265,
    "start_time": "2022-05-28T22:11:39.084Z"
   },
   {
    "duration": 26,
    "start_time": "2022-05-28T22:11:39.351Z"
   },
   {
    "duration": 150,
    "start_time": "2022-05-28T22:11:39.379Z"
   },
   {
    "duration": 25,
    "start_time": "2022-05-28T22:11:39.531Z"
   },
   {
    "duration": 286,
    "start_time": "2022-05-28T22:11:39.558Z"
   },
   {
    "duration": 26,
    "start_time": "2022-05-28T22:11:39.846Z"
   },
   {
    "duration": 8,
    "start_time": "2022-05-28T22:11:39.874Z"
   },
   {
    "duration": 41,
    "start_time": "2022-05-28T22:11:39.884Z"
   },
   {
    "duration": 8,
    "start_time": "2022-05-28T22:11:39.926Z"
   },
   {
    "duration": 4,
    "start_time": "2022-05-28T22:11:39.935Z"
   },
   {
    "duration": 33,
    "start_time": "2022-05-28T22:11:39.940Z"
   },
   {
    "duration": 14,
    "start_time": "2022-05-28T22:11:39.975Z"
   },
   {
    "duration": 2,
    "start_time": "2022-05-28T22:11:39.991Z"
   },
   {
    "duration": 30,
    "start_time": "2022-05-28T22:11:39.994Z"
   },
   {
    "duration": 5,
    "start_time": "2022-05-28T22:11:40.026Z"
   },
   {
    "duration": 5,
    "start_time": "2022-05-28T22:11:40.032Z"
   },
   {
    "duration": 4,
    "start_time": "2022-05-28T22:13:07.026Z"
   },
   {
    "duration": 115,
    "start_time": "2022-05-28T22:16:14.192Z"
   },
   {
    "duration": 1242,
    "start_time": "2022-05-28T22:16:31.240Z"
   },
   {
    "duration": 831,
    "start_time": "2022-05-28T22:16:32.484Z"
   },
   {
    "duration": 240,
    "start_time": "2022-05-28T22:16:33.316Z"
   },
   {
    "duration": 25,
    "start_time": "2022-05-28T22:16:33.557Z"
   },
   {
    "duration": 143,
    "start_time": "2022-05-28T22:16:33.584Z"
   },
   {
    "duration": 25,
    "start_time": "2022-05-28T22:16:33.728Z"
   },
   {
    "duration": 274,
    "start_time": "2022-05-28T22:16:33.754Z"
   },
   {
    "duration": 28,
    "start_time": "2022-05-28T22:16:34.030Z"
   },
   {
    "duration": 7,
    "start_time": "2022-05-28T22:16:34.060Z"
   },
   {
    "duration": 19,
    "start_time": "2022-05-28T22:16:34.069Z"
   },
   {
    "duration": 34,
    "start_time": "2022-05-28T22:16:34.090Z"
   },
   {
    "duration": 5,
    "start_time": "2022-05-28T22:16:34.125Z"
   },
   {
    "duration": 120,
    "start_time": "2022-05-28T22:16:34.131Z"
   },
   {
    "duration": 0,
    "start_time": "2022-05-28T22:16:34.253Z"
   },
   {
    "duration": 0,
    "start_time": "2022-05-28T22:16:34.254Z"
   },
   {
    "duration": 0,
    "start_time": "2022-05-28T22:16:34.256Z"
   },
   {
    "duration": 1,
    "start_time": "2022-05-28T22:16:34.256Z"
   },
   {
    "duration": 0,
    "start_time": "2022-05-28T22:16:34.257Z"
   },
   {
    "duration": 14,
    "start_time": "2022-05-28T22:17:14.732Z"
   },
   {
    "duration": 6,
    "start_time": "2022-05-28T22:17:25.691Z"
   },
   {
    "duration": 13,
    "start_time": "2022-05-28T22:17:30.829Z"
   },
   {
    "duration": 1255,
    "start_time": "2022-05-28T22:17:46.636Z"
   },
   {
    "duration": 795,
    "start_time": "2022-05-28T22:17:47.893Z"
   },
   {
    "duration": 253,
    "start_time": "2022-05-28T22:17:48.689Z"
   },
   {
    "duration": 32,
    "start_time": "2022-05-28T22:17:48.944Z"
   },
   {
    "duration": 155,
    "start_time": "2022-05-28T22:17:48.978Z"
   },
   {
    "duration": 25,
    "start_time": "2022-05-28T22:17:49.134Z"
   },
   {
    "duration": 305,
    "start_time": "2022-05-28T22:17:49.161Z"
   },
   {
    "duration": 29,
    "start_time": "2022-05-28T22:17:49.468Z"
   },
   {
    "duration": 25,
    "start_time": "2022-05-28T22:17:49.499Z"
   },
   {
    "duration": 22,
    "start_time": "2022-05-28T22:17:49.526Z"
   },
   {
    "duration": 7,
    "start_time": "2022-05-28T22:17:49.549Z"
   },
   {
    "duration": 5,
    "start_time": "2022-05-28T22:17:49.557Z"
   },
   {
    "duration": 63,
    "start_time": "2022-05-28T22:17:49.563Z"
   },
   {
    "duration": 20,
    "start_time": "2022-05-28T22:17:49.627Z"
   },
   {
    "duration": 3,
    "start_time": "2022-05-28T22:17:49.648Z"
   },
   {
    "duration": 6,
    "start_time": "2022-05-28T22:17:49.652Z"
   },
   {
    "duration": 9,
    "start_time": "2022-05-28T22:17:49.659Z"
   },
   {
    "duration": 5,
    "start_time": "2022-05-28T22:17:49.670Z"
   },
   {
    "duration": 145,
    "start_time": "2022-05-28T22:17:58.914Z"
   },
   {
    "duration": 1265,
    "start_time": "2022-05-28T22:18:09.934Z"
   },
   {
    "duration": 798,
    "start_time": "2022-05-28T22:18:11.201Z"
   },
   {
    "duration": 266,
    "start_time": "2022-05-28T22:18:12.001Z"
   },
   {
    "duration": 27,
    "start_time": "2022-05-28T22:18:12.270Z"
   },
   {
    "duration": 147,
    "start_time": "2022-05-28T22:18:12.299Z"
   },
   {
    "duration": 25,
    "start_time": "2022-05-28T22:18:12.447Z"
   },
   {
    "duration": 317,
    "start_time": "2022-05-28T22:18:12.473Z"
   },
   {
    "duration": 33,
    "start_time": "2022-05-28T22:18:12.791Z"
   },
   {
    "duration": 7,
    "start_time": "2022-05-28T22:18:12.826Z"
   },
   {
    "duration": 27,
    "start_time": "2022-05-28T22:18:12.835Z"
   },
   {
    "duration": 7,
    "start_time": "2022-05-28T22:18:12.863Z"
   },
   {
    "duration": 7,
    "start_time": "2022-05-28T22:18:12.871Z"
   },
   {
    "duration": 19,
    "start_time": "2022-05-28T22:18:12.879Z"
   },
   {
    "duration": 39,
    "start_time": "2022-05-28T22:18:12.899Z"
   },
   {
    "duration": 2,
    "start_time": "2022-05-28T22:18:12.940Z"
   },
   {
    "duration": 7,
    "start_time": "2022-05-28T22:18:12.943Z"
   },
   {
    "duration": 4,
    "start_time": "2022-05-28T22:18:12.952Z"
   },
   {
    "duration": 17,
    "start_time": "2022-05-28T22:18:12.958Z"
   },
   {
    "duration": 1507,
    "start_time": "2022-05-29T15:31:34.943Z"
   },
   {
    "duration": 3854,
    "start_time": "2022-05-29T15:31:36.455Z"
   },
   {
    "duration": 264,
    "start_time": "2022-05-29T15:31:40.311Z"
   },
   {
    "duration": 24,
    "start_time": "2022-05-29T15:31:40.577Z"
   },
   {
    "duration": 144,
    "start_time": "2022-05-29T15:31:40.602Z"
   },
   {
    "duration": 26,
    "start_time": "2022-05-29T15:31:40.748Z"
   },
   {
    "duration": 298,
    "start_time": "2022-05-29T15:31:40.775Z"
   },
   {
    "duration": 26,
    "start_time": "2022-05-29T15:31:41.074Z"
   },
   {
    "duration": 7,
    "start_time": "2022-05-29T15:31:41.102Z"
   },
   {
    "duration": 31,
    "start_time": "2022-05-29T15:31:41.110Z"
   },
   {
    "duration": 7,
    "start_time": "2022-05-29T15:31:41.142Z"
   },
   {
    "duration": 6,
    "start_time": "2022-05-29T15:31:41.151Z"
   },
   {
    "duration": 8,
    "start_time": "2022-05-29T15:31:41.158Z"
   },
   {
    "duration": 16,
    "start_time": "2022-05-29T15:31:41.168Z"
   },
   {
    "duration": 18,
    "start_time": "2022-05-29T15:31:41.185Z"
   },
   {
    "duration": 26,
    "start_time": "2022-05-29T15:31:41.204Z"
   },
   {
    "duration": 21,
    "start_time": "2022-05-29T15:31:41.231Z"
   },
   {
    "duration": 5,
    "start_time": "2022-05-29T15:31:41.254Z"
   },
   {
    "duration": 5,
    "start_time": "2022-05-29T15:31:41.261Z"
   },
   {
    "duration": 16,
    "start_time": "2022-05-29T15:42:30.901Z"
   },
   {
    "duration": 904,
    "start_time": "2022-05-29T15:46:54.140Z"
   },
   {
    "duration": 1212,
    "start_time": "2022-05-29T15:47:02.694Z"
   },
   {
    "duration": 782,
    "start_time": "2022-05-29T15:47:03.909Z"
   },
   {
    "duration": 375,
    "start_time": "2022-05-29T15:47:04.693Z"
   },
   {
    "duration": 26,
    "start_time": "2022-05-29T15:47:05.069Z"
   },
   {
    "duration": 155,
    "start_time": "2022-05-29T15:47:05.097Z"
   },
   {
    "duration": 31,
    "start_time": "2022-05-29T15:47:05.254Z"
   },
   {
    "duration": 290,
    "start_time": "2022-05-29T15:47:05.287Z"
   },
   {
    "duration": 28,
    "start_time": "2022-05-29T15:47:05.579Z"
   },
   {
    "duration": 30,
    "start_time": "2022-05-29T15:47:05.608Z"
   },
   {
    "duration": 18,
    "start_time": "2022-05-29T15:47:05.639Z"
   },
   {
    "duration": 6,
    "start_time": "2022-05-29T15:47:05.659Z"
   },
   {
    "duration": 8,
    "start_time": "2022-05-29T15:47:05.666Z"
   },
   {
    "duration": 7,
    "start_time": "2022-05-29T15:47:05.675Z"
   },
   {
    "duration": 20,
    "start_time": "2022-05-29T15:47:05.684Z"
   },
   {
    "duration": 42,
    "start_time": "2022-05-29T15:47:05.706Z"
   },
   {
    "duration": 16,
    "start_time": "2022-05-29T15:47:05.750Z"
   },
   {
    "duration": 2,
    "start_time": "2022-05-29T15:47:05.768Z"
   },
   {
    "duration": 10,
    "start_time": "2022-05-29T15:47:05.771Z"
   },
   {
    "duration": 7,
    "start_time": "2022-05-29T15:47:05.783Z"
   },
   {
    "duration": 13,
    "start_time": "2022-05-29T15:47:05.791Z"
   },
   {
    "duration": 85,
    "start_time": "2022-05-29T19:22:22.169Z"
   },
   {
    "duration": 1756,
    "start_time": "2022-05-29T19:22:38.666Z"
   },
   {
    "duration": 3938,
    "start_time": "2022-05-29T19:22:40.429Z"
   },
   {
    "duration": 296,
    "start_time": "2022-05-29T19:22:44.369Z"
   },
   {
    "duration": 29,
    "start_time": "2022-05-29T19:22:44.667Z"
   },
   {
    "duration": 172,
    "start_time": "2022-05-29T19:22:44.698Z"
   },
   {
    "duration": 27,
    "start_time": "2022-05-29T19:22:44.871Z"
   },
   {
    "duration": 347,
    "start_time": "2022-05-29T19:22:44.899Z"
   },
   {
    "duration": 31,
    "start_time": "2022-05-29T19:22:45.249Z"
   },
   {
    "duration": 6,
    "start_time": "2022-05-29T19:22:45.282Z"
   },
   {
    "duration": 21,
    "start_time": "2022-05-29T19:22:45.289Z"
   },
   {
    "duration": 9,
    "start_time": "2022-05-29T19:22:45.325Z"
   },
   {
    "duration": 13,
    "start_time": "2022-05-29T19:22:45.339Z"
   },
   {
    "duration": 9,
    "start_time": "2022-05-29T19:22:45.354Z"
   },
   {
    "duration": 26,
    "start_time": "2022-05-29T19:22:45.366Z"
   },
   {
    "duration": 176,
    "start_time": "2022-05-29T19:22:49.497Z"
   },
   {
    "duration": 29,
    "start_time": "2022-05-29T19:23:01.935Z"
   },
   {
    "duration": 128,
    "start_time": "2022-05-29T19:23:06.458Z"
   },
   {
    "duration": 1379,
    "start_time": "2022-05-29T19:23:15.010Z"
   },
   {
    "duration": 895,
    "start_time": "2022-05-29T19:23:16.392Z"
   },
   {
    "duration": 297,
    "start_time": "2022-05-29T19:23:17.288Z"
   },
   {
    "duration": 41,
    "start_time": "2022-05-29T19:23:17.587Z"
   },
   {
    "duration": 148,
    "start_time": "2022-05-29T19:23:17.631Z"
   },
   {
    "duration": 26,
    "start_time": "2022-05-29T19:23:17.781Z"
   },
   {
    "duration": 357,
    "start_time": "2022-05-29T19:23:17.809Z"
   },
   {
    "duration": 28,
    "start_time": "2022-05-29T19:23:18.167Z"
   },
   {
    "duration": 6,
    "start_time": "2022-05-29T19:23:18.197Z"
   },
   {
    "duration": 47,
    "start_time": "2022-05-29T19:23:18.205Z"
   },
   {
    "duration": 8,
    "start_time": "2022-05-29T19:23:18.253Z"
   },
   {
    "duration": 5,
    "start_time": "2022-05-29T19:23:18.262Z"
   },
   {
    "duration": 8,
    "start_time": "2022-05-29T19:23:18.269Z"
   },
   {
    "duration": 20,
    "start_time": "2022-05-29T19:23:18.279Z"
   },
   {
    "duration": 55,
    "start_time": "2022-05-29T19:23:18.300Z"
   },
   {
    "duration": 110,
    "start_time": "2022-05-29T19:23:25.131Z"
   },
   {
    "duration": 16,
    "start_time": "2022-05-29T19:23:30.035Z"
   },
   {
    "duration": 1358,
    "start_time": "2022-05-29T19:23:38.342Z"
   },
   {
    "duration": 892,
    "start_time": "2022-05-29T19:23:39.703Z"
   },
   {
    "duration": 297,
    "start_time": "2022-05-29T19:23:40.596Z"
   },
   {
    "duration": 35,
    "start_time": "2022-05-29T19:23:40.895Z"
   },
   {
    "duration": 172,
    "start_time": "2022-05-29T19:23:40.932Z"
   },
   {
    "duration": 47,
    "start_time": "2022-05-29T19:23:41.106Z"
   },
   {
    "duration": 319,
    "start_time": "2022-05-29T19:23:41.155Z"
   },
   {
    "duration": 30,
    "start_time": "2022-05-29T19:23:41.476Z"
   },
   {
    "duration": 15,
    "start_time": "2022-05-29T19:23:41.508Z"
   },
   {
    "duration": 28,
    "start_time": "2022-05-29T19:23:41.525Z"
   },
   {
    "duration": 6,
    "start_time": "2022-05-29T19:23:41.555Z"
   },
   {
    "duration": 7,
    "start_time": "2022-05-29T19:23:41.563Z"
   },
   {
    "duration": 7,
    "start_time": "2022-05-29T19:23:41.571Z"
   },
   {
    "duration": 61,
    "start_time": "2022-05-29T19:23:41.580Z"
   },
   {
    "duration": 56,
    "start_time": "2022-05-29T19:23:41.644Z"
   },
   {
    "duration": 13,
    "start_time": "2022-05-29T19:25:33.058Z"
   },
   {
    "duration": 156,
    "start_time": "2022-05-29T19:25:41.634Z"
   },
   {
    "duration": 36,
    "start_time": "2022-05-29T19:27:49.362Z"
   },
   {
    "duration": 138,
    "start_time": "2022-05-29T19:27:57.254Z"
   },
   {
    "duration": 1634,
    "start_time": "2022-05-29T19:29:02.283Z"
   },
   {
    "duration": 956,
    "start_time": "2022-05-29T19:29:03.919Z"
   },
   {
    "duration": 265,
    "start_time": "2022-05-29T19:29:04.877Z"
   },
   {
    "duration": 29,
    "start_time": "2022-05-29T19:29:05.144Z"
   },
   {
    "duration": 151,
    "start_time": "2022-05-29T19:29:05.176Z"
   },
   {
    "duration": 34,
    "start_time": "2022-05-29T19:29:05.329Z"
   },
   {
    "duration": 320,
    "start_time": "2022-05-29T19:29:05.365Z"
   },
   {
    "duration": 27,
    "start_time": "2022-05-29T19:29:05.687Z"
   },
   {
    "duration": 10,
    "start_time": "2022-05-29T19:29:05.724Z"
   },
   {
    "duration": 24,
    "start_time": "2022-05-29T19:29:05.736Z"
   },
   {
    "duration": 6,
    "start_time": "2022-05-29T19:29:05.761Z"
   },
   {
    "duration": 6,
    "start_time": "2022-05-29T19:29:05.769Z"
   },
   {
    "duration": 13,
    "start_time": "2022-05-29T19:29:05.776Z"
   },
   {
    "duration": 53,
    "start_time": "2022-05-29T19:29:05.792Z"
   },
   {
    "duration": 35,
    "start_time": "2022-05-29T19:29:05.846Z"
   },
   {
    "duration": 54,
    "start_time": "2022-05-29T19:29:05.883Z"
   },
   {
    "duration": 23,
    "start_time": "2022-05-29T19:29:17.179Z"
   },
   {
    "duration": 1311,
    "start_time": "2022-05-29T20:46:21.319Z"
   },
   {
    "duration": 2358,
    "start_time": "2022-05-29T20:46:22.633Z"
   },
   {
    "duration": 241,
    "start_time": "2022-05-29T20:46:24.992Z"
   },
   {
    "duration": 28,
    "start_time": "2022-05-29T20:46:25.235Z"
   },
   {
    "duration": 144,
    "start_time": "2022-05-29T20:46:25.265Z"
   },
   {
    "duration": 29,
    "start_time": "2022-05-29T20:46:25.410Z"
   },
   {
    "duration": 292,
    "start_time": "2022-05-29T20:46:25.440Z"
   },
   {
    "duration": 28,
    "start_time": "2022-05-29T20:46:25.733Z"
   },
   {
    "duration": 6,
    "start_time": "2022-05-29T20:46:25.763Z"
   },
   {
    "duration": 22,
    "start_time": "2022-05-29T20:46:25.770Z"
   },
   {
    "duration": 6,
    "start_time": "2022-05-29T20:46:25.793Z"
   },
   {
    "duration": 4,
    "start_time": "2022-05-29T20:46:25.823Z"
   },
   {
    "duration": 6,
    "start_time": "2022-05-29T20:46:25.829Z"
   },
   {
    "duration": 18,
    "start_time": "2022-05-29T20:46:25.837Z"
   },
   {
    "duration": 34,
    "start_time": "2022-05-29T20:46:25.856Z"
   },
   {
    "duration": 46,
    "start_time": "2022-05-29T20:46:25.892Z"
   },
   {
    "duration": 326,
    "start_time": "2022-05-29T20:46:25.939Z"
   },
   {
    "duration": 251,
    "start_time": "2022-05-29T20:48:02.356Z"
   },
   {
    "duration": 268,
    "start_time": "2022-05-29T20:51:17.539Z"
   },
   {
    "duration": 247,
    "start_time": "2022-05-29T20:55:03.870Z"
   },
   {
    "duration": 556,
    "start_time": "2022-05-29T20:56:05.876Z"
   },
   {
    "duration": 387,
    "start_time": "2022-05-29T20:56:42.223Z"
   },
   {
    "duration": 205,
    "start_time": "2022-05-29T21:03:46.779Z"
   },
   {
    "duration": 184,
    "start_time": "2022-05-29T21:05:11.096Z"
   },
   {
    "duration": 1210,
    "start_time": "2022-05-29T22:22:44.670Z"
   },
   {
    "duration": 768,
    "start_time": "2022-05-29T22:22:45.882Z"
   },
   {
    "duration": 243,
    "start_time": "2022-05-29T22:22:46.652Z"
   },
   {
    "duration": 38,
    "start_time": "2022-05-29T22:22:46.896Z"
   },
   {
    "duration": 140,
    "start_time": "2022-05-29T22:22:46.936Z"
   },
   {
    "duration": 28,
    "start_time": "2022-05-29T22:22:47.078Z"
   },
   {
    "duration": 264,
    "start_time": "2022-05-29T22:22:47.123Z"
   },
   {
    "duration": 36,
    "start_time": "2022-05-29T22:22:47.388Z"
   },
   {
    "duration": 6,
    "start_time": "2022-05-29T22:22:47.425Z"
   },
   {
    "duration": 23,
    "start_time": "2022-05-29T22:22:47.433Z"
   },
   {
    "duration": 6,
    "start_time": "2022-05-29T22:22:47.457Z"
   },
   {
    "duration": 4,
    "start_time": "2022-05-29T22:22:47.465Z"
   },
   {
    "duration": 124,
    "start_time": "2022-05-29T22:22:47.471Z"
   },
   {
    "duration": 0,
    "start_time": "2022-05-29T22:22:47.597Z"
   },
   {
    "duration": 0,
    "start_time": "2022-05-29T22:22:47.598Z"
   },
   {
    "duration": 0,
    "start_time": "2022-05-29T22:22:47.599Z"
   },
   {
    "duration": 0,
    "start_time": "2022-05-29T22:22:47.600Z"
   },
   {
    "duration": 0,
    "start_time": "2022-05-29T22:22:47.601Z"
   },
   {
    "duration": 0,
    "start_time": "2022-05-29T22:22:47.602Z"
   },
   {
    "duration": 0,
    "start_time": "2022-05-29T22:22:47.602Z"
   },
   {
    "duration": 0,
    "start_time": "2022-05-29T22:22:47.603Z"
   },
   {
    "duration": 0,
    "start_time": "2022-05-29T22:22:47.604Z"
   },
   {
    "duration": 0,
    "start_time": "2022-05-29T22:22:47.623Z"
   },
   {
    "duration": 0,
    "start_time": "2022-05-29T22:22:47.624Z"
   },
   {
    "duration": 4,
    "start_time": "2022-05-29T22:23:16.487Z"
   },
   {
    "duration": 1222,
    "start_time": "2022-05-29T22:26:32.177Z"
   },
   {
    "duration": 802,
    "start_time": "2022-05-29T22:26:33.400Z"
   },
   {
    "duration": 249,
    "start_time": "2022-05-29T22:26:34.203Z"
   },
   {
    "duration": 27,
    "start_time": "2022-05-29T22:26:34.454Z"
   },
   {
    "duration": 146,
    "start_time": "2022-05-29T22:26:34.483Z"
   },
   {
    "duration": 25,
    "start_time": "2022-05-29T22:26:34.630Z"
   },
   {
    "duration": 278,
    "start_time": "2022-05-29T22:26:34.657Z"
   },
   {
    "duration": 27,
    "start_time": "2022-05-29T22:26:34.937Z"
   },
   {
    "duration": 5,
    "start_time": "2022-05-29T22:26:34.966Z"
   },
   {
    "duration": 23,
    "start_time": "2022-05-29T22:26:34.972Z"
   },
   {
    "duration": 28,
    "start_time": "2022-05-29T22:26:34.996Z"
   },
   {
    "duration": 5,
    "start_time": "2022-05-29T22:26:35.026Z"
   },
   {
    "duration": 7,
    "start_time": "2022-05-29T22:26:35.033Z"
   },
   {
    "duration": 19,
    "start_time": "2022-05-29T22:26:35.043Z"
   },
   {
    "duration": 60,
    "start_time": "2022-05-29T22:26:35.064Z"
   },
   {
    "duration": 24,
    "start_time": "2022-05-29T22:26:35.126Z"
   },
   {
    "duration": 281,
    "start_time": "2022-05-29T22:26:35.152Z"
   },
   {
    "duration": 233,
    "start_time": "2022-05-29T22:26:35.434Z"
   },
   {
    "duration": 248,
    "start_time": "2022-05-29T22:26:35.669Z"
   },
   {
    "duration": 213,
    "start_time": "2022-05-29T22:26:35.923Z"
   },
   {
    "duration": 3,
    "start_time": "2022-05-29T22:26:36.138Z"
   },
   {
    "duration": 11,
    "start_time": "2022-05-29T22:26:36.143Z"
   },
   {
    "duration": 5,
    "start_time": "2022-05-29T22:26:36.155Z"
   },
   {
    "duration": 113,
    "start_time": "2022-05-29T22:26:36.161Z"
   },
   {
    "duration": 3,
    "start_time": "2022-05-29T22:32:55.739Z"
   },
   {
    "duration": 1486,
    "start_time": "2022-05-30T16:24:44.505Z"
   },
   {
    "duration": 4212,
    "start_time": "2022-05-30T16:24:45.993Z"
   },
   {
    "duration": 247,
    "start_time": "2022-05-30T16:24:50.207Z"
   },
   {
    "duration": 27,
    "start_time": "2022-05-30T16:24:50.456Z"
   },
   {
    "duration": 143,
    "start_time": "2022-05-30T16:24:50.485Z"
   },
   {
    "duration": 26,
    "start_time": "2022-05-30T16:24:50.629Z"
   },
   {
    "duration": 277,
    "start_time": "2022-05-30T16:24:50.656Z"
   },
   {
    "duration": 27,
    "start_time": "2022-05-30T16:24:50.935Z"
   },
   {
    "duration": 6,
    "start_time": "2022-05-30T16:24:50.964Z"
   },
   {
    "duration": 23,
    "start_time": "2022-05-30T16:24:50.974Z"
   },
   {
    "duration": 30,
    "start_time": "2022-05-30T16:24:50.998Z"
   },
   {
    "duration": 5,
    "start_time": "2022-05-30T16:24:51.029Z"
   },
   {
    "duration": 12,
    "start_time": "2022-05-30T16:24:51.035Z"
   },
   {
    "duration": 26,
    "start_time": "2022-05-30T16:24:51.049Z"
   },
   {
    "duration": 77,
    "start_time": "2022-05-30T16:24:51.077Z"
   },
   {
    "duration": 38,
    "start_time": "2022-05-30T16:24:51.156Z"
   },
   {
    "duration": 340,
    "start_time": "2022-05-30T16:24:51.196Z"
   },
   {
    "duration": 249,
    "start_time": "2022-05-30T16:24:51.537Z"
   },
   {
    "duration": 287,
    "start_time": "2022-05-30T16:24:51.787Z"
   },
   {
    "duration": 297,
    "start_time": "2022-05-30T16:24:52.077Z"
   },
   {
    "duration": 4,
    "start_time": "2022-05-30T16:24:52.375Z"
   },
   {
    "duration": 132,
    "start_time": "2022-05-30T16:24:52.380Z"
   },
   {
    "duration": 0,
    "start_time": "2022-05-30T16:24:52.514Z"
   },
   {
    "duration": 0,
    "start_time": "2022-05-30T16:24:52.515Z"
   },
   {
    "duration": 0,
    "start_time": "2022-05-30T16:24:52.516Z"
   },
   {
    "duration": 0,
    "start_time": "2022-05-30T16:24:52.517Z"
   },
   {
    "duration": 14,
    "start_time": "2022-05-30T16:25:39.334Z"
   },
   {
    "duration": 8,
    "start_time": "2022-05-30T18:39:34.227Z"
   },
   {
    "duration": 1572,
    "start_time": "2022-05-30T18:39:41.343Z"
   },
   {
    "duration": 4203,
    "start_time": "2022-05-30T18:39:42.917Z"
   },
   {
    "duration": 263,
    "start_time": "2022-05-30T18:39:47.121Z"
   },
   {
    "duration": 25,
    "start_time": "2022-05-30T18:39:47.386Z"
   },
   {
    "duration": 155,
    "start_time": "2022-05-30T18:39:47.412Z"
   },
   {
    "duration": 26,
    "start_time": "2022-05-30T18:39:47.569Z"
   },
   {
    "duration": 305,
    "start_time": "2022-05-30T18:39:47.598Z"
   },
   {
    "duration": 45,
    "start_time": "2022-05-30T18:39:47.905Z"
   },
   {
    "duration": 6,
    "start_time": "2022-05-30T18:39:47.951Z"
   },
   {
    "duration": 20,
    "start_time": "2022-05-30T18:39:47.959Z"
   },
   {
    "duration": 6,
    "start_time": "2022-05-30T18:39:47.981Z"
   },
   {
    "duration": 7,
    "start_time": "2022-05-30T18:39:47.988Z"
   },
   {
    "duration": 34,
    "start_time": "2022-05-30T18:39:47.996Z"
   },
   {
    "duration": 17,
    "start_time": "2022-05-30T18:39:48.042Z"
   },
   {
    "duration": 36,
    "start_time": "2022-05-30T18:39:48.060Z"
   },
   {
    "duration": 39,
    "start_time": "2022-05-30T18:39:48.097Z"
   },
   {
    "duration": 7,
    "start_time": "2022-05-30T18:39:48.141Z"
   },
   {
    "duration": 297,
    "start_time": "2022-05-30T18:39:48.150Z"
   },
   {
    "duration": 297,
    "start_time": "2022-05-30T18:39:48.449Z"
   },
   {
    "duration": 293,
    "start_time": "2022-05-30T18:39:48.747Z"
   },
   {
    "duration": 209,
    "start_time": "2022-05-30T18:39:49.042Z"
   },
   {
    "duration": 2,
    "start_time": "2022-05-30T18:39:49.253Z"
   },
   {
    "duration": 16,
    "start_time": "2022-05-30T18:39:49.257Z"
   },
   {
    "duration": 133,
    "start_time": "2022-05-30T18:39:49.275Z"
   },
   {
    "duration": 0,
    "start_time": "2022-05-30T18:39:49.409Z"
   },
   {
    "duration": 0,
    "start_time": "2022-05-30T18:39:49.411Z"
   },
   {
    "duration": 0,
    "start_time": "2022-05-30T18:39:49.411Z"
   },
   {
    "duration": 0,
    "start_time": "2022-05-30T18:39:49.413Z"
   },
   {
    "duration": 1461,
    "start_time": "2022-05-31T02:52:33.440Z"
   },
   {
    "duration": 3987,
    "start_time": "2022-05-31T02:52:34.903Z"
   },
   {
    "duration": 307,
    "start_time": "2022-05-31T02:52:38.891Z"
   },
   {
    "duration": 38,
    "start_time": "2022-05-31T02:52:39.200Z"
   },
   {
    "duration": 157,
    "start_time": "2022-05-31T02:52:39.241Z"
   },
   {
    "duration": 33,
    "start_time": "2022-05-31T02:52:39.399Z"
   },
   {
    "duration": 273,
    "start_time": "2022-05-31T02:52:39.434Z"
   },
   {
    "duration": 32,
    "start_time": "2022-05-31T02:52:39.709Z"
   },
   {
    "duration": 6,
    "start_time": "2022-05-31T02:52:39.742Z"
   },
   {
    "duration": 21,
    "start_time": "2022-05-31T02:52:39.749Z"
   },
   {
    "duration": 7,
    "start_time": "2022-05-31T02:52:39.772Z"
   },
   {
    "duration": 6,
    "start_time": "2022-05-31T02:52:39.781Z"
   },
   {
    "duration": 10,
    "start_time": "2022-05-31T02:52:39.788Z"
   },
   {
    "duration": 40,
    "start_time": "2022-05-31T02:52:39.800Z"
   },
   {
    "duration": 36,
    "start_time": "2022-05-31T02:52:39.842Z"
   },
   {
    "duration": 23,
    "start_time": "2022-05-31T02:52:39.880Z"
   },
   {
    "duration": 24,
    "start_time": "2022-05-31T02:52:39.904Z"
   },
   {
    "duration": 318,
    "start_time": "2022-05-31T02:52:39.930Z"
   },
   {
    "duration": 264,
    "start_time": "2022-05-31T02:52:40.250Z"
   },
   {
    "duration": 292,
    "start_time": "2022-05-31T02:52:40.516Z"
   },
   {
    "duration": 244,
    "start_time": "2022-05-31T02:52:40.810Z"
   },
   {
    "duration": 3,
    "start_time": "2022-05-31T02:52:41.056Z"
   },
   {
    "duration": 18,
    "start_time": "2022-05-31T02:52:41.060Z"
   },
   {
    "duration": 132,
    "start_time": "2022-05-31T02:52:41.080Z"
   },
   {
    "duration": 0,
    "start_time": "2022-05-31T02:52:41.214Z"
   },
   {
    "duration": 0,
    "start_time": "2022-05-31T02:52:41.215Z"
   },
   {
    "duration": 0,
    "start_time": "2022-05-31T02:52:41.216Z"
   },
   {
    "duration": 0,
    "start_time": "2022-05-31T02:52:41.217Z"
   },
   {
    "duration": 6,
    "start_time": "2022-05-31T02:53:06.177Z"
   },
   {
    "duration": 11,
    "start_time": "2022-05-31T02:53:11.032Z"
   },
   {
    "duration": 23,
    "start_time": "2022-05-31T02:53:41.665Z"
   },
   {
    "duration": 183,
    "start_time": "2022-05-31T03:00:56.247Z"
   },
   {
    "duration": 106,
    "start_time": "2022-05-31T03:01:13.742Z"
   },
   {
    "duration": 13,
    "start_time": "2022-05-31T03:01:19.541Z"
   },
   {
    "duration": 19,
    "start_time": "2022-05-31T03:01:21.075Z"
   },
   {
    "duration": 167,
    "start_time": "2022-05-31T03:01:24.675Z"
   },
   {
    "duration": 26,
    "start_time": "2022-05-31T03:05:56.543Z"
   },
   {
    "duration": 30,
    "start_time": "2022-05-31T03:06:16.924Z"
   },
   {
    "duration": 212,
    "start_time": "2022-05-31T03:06:25.517Z"
   },
   {
    "duration": 4,
    "start_time": "2022-05-31T03:06:32.114Z"
   },
   {
    "duration": 541,
    "start_time": "2022-05-31T03:06:36.578Z"
   },
   {
    "duration": 195,
    "start_time": "2022-05-31T03:07:14.237Z"
   },
   {
    "duration": 30,
    "start_time": "2022-05-31T03:17:55.954Z"
   },
   {
    "duration": 1323,
    "start_time": "2022-05-31T20:02:53.272Z"
   },
   {
    "duration": 3814,
    "start_time": "2022-05-31T20:02:54.596Z"
   },
   {
    "duration": 233,
    "start_time": "2022-05-31T20:02:58.412Z"
   },
   {
    "duration": 23,
    "start_time": "2022-05-31T20:02:58.647Z"
   },
   {
    "duration": 135,
    "start_time": "2022-05-31T20:02:58.672Z"
   },
   {
    "duration": 33,
    "start_time": "2022-05-31T20:02:58.809Z"
   },
   {
    "duration": 257,
    "start_time": "2022-05-31T20:02:58.844Z"
   },
   {
    "duration": 30,
    "start_time": "2022-05-31T20:02:59.103Z"
   },
   {
    "duration": 6,
    "start_time": "2022-05-31T20:02:59.135Z"
   },
   {
    "duration": 19,
    "start_time": "2022-05-31T20:02:59.143Z"
   },
   {
    "duration": 7,
    "start_time": "2022-05-31T20:02:59.164Z"
   },
   {
    "duration": 6,
    "start_time": "2022-05-31T20:02:59.172Z"
   },
   {
    "duration": 6,
    "start_time": "2022-05-31T20:02:59.180Z"
   },
   {
    "duration": 47,
    "start_time": "2022-05-31T20:02:59.188Z"
   },
   {
    "duration": 41,
    "start_time": "2022-05-31T20:02:59.237Z"
   },
   {
    "duration": 21,
    "start_time": "2022-05-31T20:02:59.280Z"
   },
   {
    "duration": 25,
    "start_time": "2022-05-31T20:02:59.302Z"
   },
   {
    "duration": 313,
    "start_time": "2022-05-31T20:02:59.329Z"
   },
   {
    "duration": 263,
    "start_time": "2022-05-31T20:02:59.643Z"
   },
   {
    "duration": 277,
    "start_time": "2022-05-31T20:02:59.907Z"
   },
   {
    "duration": 210,
    "start_time": "2022-05-31T20:03:00.186Z"
   },
   {
    "duration": 2,
    "start_time": "2022-05-31T20:03:00.398Z"
   },
   {
    "duration": 20,
    "start_time": "2022-05-31T20:03:00.402Z"
   },
   {
    "duration": 125,
    "start_time": "2022-05-31T20:03:00.423Z"
   },
   {
    "duration": 0,
    "start_time": "2022-05-31T20:03:00.549Z"
   },
   {
    "duration": 0,
    "start_time": "2022-05-31T20:03:00.551Z"
   },
   {
    "duration": 0,
    "start_time": "2022-05-31T20:03:00.552Z"
   },
   {
    "duration": 0,
    "start_time": "2022-05-31T20:03:00.553Z"
   },
   {
    "duration": 0,
    "start_time": "2022-05-31T20:03:00.553Z"
   },
   {
    "duration": 0,
    "start_time": "2022-05-31T20:03:00.555Z"
   },
   {
    "duration": 0,
    "start_time": "2022-05-31T20:03:00.556Z"
   },
   {
    "duration": 0,
    "start_time": "2022-05-31T20:03:00.557Z"
   },
   {
    "duration": 0,
    "start_time": "2022-05-31T20:03:00.558Z"
   },
   {
    "duration": 0,
    "start_time": "2022-05-31T20:03:00.559Z"
   },
   {
    "duration": 0,
    "start_time": "2022-05-31T20:03:00.560Z"
   },
   {
    "duration": 3,
    "start_time": "2022-05-31T20:06:44.386Z"
   },
   {
    "duration": 1119,
    "start_time": "2022-05-31T20:13:44.273Z"
   },
   {
    "duration": 734,
    "start_time": "2022-05-31T20:13:45.394Z"
   },
   {
    "duration": 281,
    "start_time": "2022-05-31T20:13:46.129Z"
   },
   {
    "duration": 46,
    "start_time": "2022-05-31T20:13:46.411Z"
   },
   {
    "duration": 149,
    "start_time": "2022-05-31T20:13:46.460Z"
   },
   {
    "duration": 33,
    "start_time": "2022-05-31T20:13:46.610Z"
   },
   {
    "duration": 260,
    "start_time": "2022-05-31T20:13:46.644Z"
   },
   {
    "duration": 30,
    "start_time": "2022-05-31T20:13:46.905Z"
   },
   {
    "duration": 5,
    "start_time": "2022-05-31T20:13:46.937Z"
   },
   {
    "duration": 20,
    "start_time": "2022-05-31T20:13:46.943Z"
   },
   {
    "duration": 7,
    "start_time": "2022-05-31T20:13:46.964Z"
   },
   {
    "duration": 6,
    "start_time": "2022-05-31T20:13:46.972Z"
   },
   {
    "duration": 5,
    "start_time": "2022-05-31T20:13:46.980Z"
   },
   {
    "duration": 43,
    "start_time": "2022-05-31T20:13:46.987Z"
   },
   {
    "duration": 32,
    "start_time": "2022-05-31T20:13:47.032Z"
   },
   {
    "duration": 19,
    "start_time": "2022-05-31T20:13:47.065Z"
   },
   {
    "duration": 6,
    "start_time": "2022-05-31T20:13:47.085Z"
   },
   {
    "duration": 265,
    "start_time": "2022-05-31T20:13:47.093Z"
   },
   {
    "duration": 239,
    "start_time": "2022-05-31T20:13:47.360Z"
   },
   {
    "duration": 267,
    "start_time": "2022-05-31T20:13:47.602Z"
   },
   {
    "duration": 187,
    "start_time": "2022-05-31T20:13:47.870Z"
   },
   {
    "duration": 2,
    "start_time": "2022-05-31T20:13:48.059Z"
   },
   {
    "duration": 17,
    "start_time": "2022-05-31T20:13:48.063Z"
   },
   {
    "duration": 4,
    "start_time": "2022-05-31T20:13:48.081Z"
   },
   {
    "duration": 133,
    "start_time": "2022-05-31T20:13:48.087Z"
   },
   {
    "duration": 0,
    "start_time": "2022-05-31T20:13:48.221Z"
   },
   {
    "duration": 0,
    "start_time": "2022-05-31T20:13:48.227Z"
   },
   {
    "duration": 12,
    "start_time": "2022-05-31T20:13:55.865Z"
   },
   {
    "duration": 33,
    "start_time": "2022-05-31T20:13:58.198Z"
   },
   {
    "duration": 162,
    "start_time": "2022-05-31T20:14:10.165Z"
   },
   {
    "duration": 1338,
    "start_time": "2022-05-31T20:14:14.300Z"
   },
   {
    "duration": 1378,
    "start_time": "2022-05-31T20:14:25.152Z"
   },
   {
    "duration": 1149,
    "start_time": "2022-05-31T20:15:49.382Z"
   },
   {
    "duration": 10,
    "start_time": "2022-05-31T20:20:10.998Z"
   },
   {
    "duration": 3009,
    "start_time": "2022-05-31T20:20:12.632Z"
   },
   {
    "duration": 2925,
    "start_time": "2022-05-31T20:20:28.557Z"
   },
   {
    "duration": 18,
    "start_time": "2022-05-31T20:20:39.047Z"
   },
   {
    "duration": 2935,
    "start_time": "2022-05-31T20:21:21.579Z"
   },
   {
    "duration": 1204,
    "start_time": "2022-05-31T20:21:37.112Z"
   },
   {
    "duration": 758,
    "start_time": "2022-05-31T20:21:38.318Z"
   },
   {
    "duration": 267,
    "start_time": "2022-05-31T20:21:39.078Z"
   },
   {
    "duration": 25,
    "start_time": "2022-05-31T20:21:39.347Z"
   },
   {
    "duration": 139,
    "start_time": "2022-05-31T20:21:39.374Z"
   },
   {
    "duration": 28,
    "start_time": "2022-05-31T20:21:39.515Z"
   },
   {
    "duration": 278,
    "start_time": "2022-05-31T20:21:39.544Z"
   },
   {
    "duration": 28,
    "start_time": "2022-05-31T20:21:39.824Z"
   },
   {
    "duration": 6,
    "start_time": "2022-05-31T20:21:39.854Z"
   },
   {
    "duration": 31,
    "start_time": "2022-05-31T20:21:39.861Z"
   },
   {
    "duration": 18,
    "start_time": "2022-05-31T20:21:39.894Z"
   },
   {
    "duration": 14,
    "start_time": "2022-05-31T20:21:39.914Z"
   },
   {
    "duration": 18,
    "start_time": "2022-05-31T20:21:39.929Z"
   },
   {
    "duration": 31,
    "start_time": "2022-05-31T20:21:39.949Z"
   },
   {
    "duration": 57,
    "start_time": "2022-05-31T20:21:39.982Z"
   },
   {
    "duration": 20,
    "start_time": "2022-05-31T20:21:40.041Z"
   },
   {
    "duration": 7,
    "start_time": "2022-05-31T20:21:40.062Z"
   },
   {
    "duration": 276,
    "start_time": "2022-05-31T20:21:40.070Z"
   },
   {
    "duration": 225,
    "start_time": "2022-05-31T20:21:40.347Z"
   },
   {
    "duration": 244,
    "start_time": "2022-05-31T20:21:40.574Z"
   },
   {
    "duration": 195,
    "start_time": "2022-05-31T20:21:40.819Z"
   },
   {
    "duration": 3,
    "start_time": "2022-05-31T20:21:41.016Z"
   },
   {
    "duration": 12,
    "start_time": "2022-05-31T20:21:41.027Z"
   },
   {
    "duration": 5,
    "start_time": "2022-05-31T20:21:41.040Z"
   },
   {
    "duration": 31,
    "start_time": "2022-05-31T20:21:41.047Z"
   },
   {
    "duration": 248,
    "start_time": "2022-05-31T20:21:41.079Z"
   },
   {
    "duration": 1006,
    "start_time": "2022-05-31T20:21:41.329Z"
   },
   {
    "duration": 3110,
    "start_time": "2022-05-31T20:21:45.188Z"
   },
   {
    "duration": 2959,
    "start_time": "2022-05-31T20:23:59.284Z"
   },
   {
    "duration": 1139,
    "start_time": "2022-05-31T20:25:21.958Z"
   },
   {
    "duration": 771,
    "start_time": "2022-05-31T20:25:23.099Z"
   },
   {
    "duration": 238,
    "start_time": "2022-05-31T20:25:23.872Z"
   },
   {
    "duration": 30,
    "start_time": "2022-05-31T20:25:24.112Z"
   },
   {
    "duration": 135,
    "start_time": "2022-05-31T20:25:24.144Z"
   },
   {
    "duration": 23,
    "start_time": "2022-05-31T20:25:24.281Z"
   },
   {
    "duration": 262,
    "start_time": "2022-05-31T20:25:24.305Z"
   },
   {
    "duration": 26,
    "start_time": "2022-05-31T20:25:24.569Z"
   },
   {
    "duration": 6,
    "start_time": "2022-05-31T20:25:24.596Z"
   },
   {
    "duration": 38,
    "start_time": "2022-05-31T20:25:24.603Z"
   },
   {
    "duration": 10,
    "start_time": "2022-05-31T20:25:24.643Z"
   },
   {
    "duration": 11,
    "start_time": "2022-05-31T20:25:24.654Z"
   },
   {
    "duration": 21,
    "start_time": "2022-05-31T20:25:24.666Z"
   },
   {
    "duration": 34,
    "start_time": "2022-05-31T20:25:24.689Z"
   },
   {
    "duration": 45,
    "start_time": "2022-05-31T20:25:24.724Z"
   },
   {
    "duration": 24,
    "start_time": "2022-05-31T20:25:24.770Z"
   },
   {
    "duration": 7,
    "start_time": "2022-05-31T20:25:24.795Z"
   },
   {
    "duration": 264,
    "start_time": "2022-05-31T20:25:24.803Z"
   },
   {
    "duration": 241,
    "start_time": "2022-05-31T20:25:25.068Z"
   },
   {
    "duration": 246,
    "start_time": "2022-05-31T20:25:25.311Z"
   },
   {
    "duration": 186,
    "start_time": "2022-05-31T20:25:25.559Z"
   },
   {
    "duration": 2,
    "start_time": "2022-05-31T20:25:25.747Z"
   },
   {
    "duration": 17,
    "start_time": "2022-05-31T20:25:25.751Z"
   },
   {
    "duration": 6,
    "start_time": "2022-05-31T20:25:25.769Z"
   },
   {
    "duration": 22,
    "start_time": "2022-05-31T20:25:25.776Z"
   },
   {
    "duration": 228,
    "start_time": "2022-05-31T20:25:25.800Z"
   },
   {
    "duration": 1598,
    "start_time": "2022-05-31T20:25:26.030Z"
   },
   {
    "duration": 3023,
    "start_time": "2022-05-31T20:25:32.619Z"
   },
   {
    "duration": 2932,
    "start_time": "2022-05-31T20:43:07.896Z"
   },
   {
    "duration": 3119,
    "start_time": "2022-05-31T20:43:34.071Z"
   },
   {
    "duration": 2982,
    "start_time": "2022-05-31T20:43:43.521Z"
   },
   {
    "duration": 3010,
    "start_time": "2022-05-31T20:44:54.052Z"
   },
   {
    "duration": 3453,
    "start_time": "2022-05-31T20:47:16.375Z"
   },
   {
    "duration": 3686,
    "start_time": "2022-05-31T20:47:31.856Z"
   },
   {
    "duration": 2959,
    "start_time": "2022-05-31T20:48:33.572Z"
   },
   {
    "duration": 2728,
    "start_time": "2022-05-31T20:48:43.318Z"
   },
   {
    "duration": 3,
    "start_time": "2022-05-31T20:56:14.638Z"
   },
   {
    "duration": 9,
    "start_time": "2022-05-31T20:56:19.906Z"
   },
   {
    "duration": 19,
    "start_time": "2022-05-31T20:56:53.361Z"
   },
   {
    "duration": 319,
    "start_time": "2022-05-31T20:58:44.511Z"
   },
   {
    "duration": 1510,
    "start_time": "2022-05-31T20:59:42.139Z"
   },
   {
    "duration": 14,
    "start_time": "2022-05-31T21:05:32.909Z"
   },
   {
    "duration": 3,
    "start_time": "2022-05-31T21:06:55.604Z"
   },
   {
    "duration": 1171,
    "start_time": "2022-05-31T21:06:59.059Z"
   },
   {
    "duration": 16390,
    "start_time": "2022-05-31T21:07:09.575Z"
   },
   {
    "duration": 9,
    "start_time": "2022-05-31T21:08:08.947Z"
   },
   {
    "duration": 714,
    "start_time": "2022-05-31T21:08:16.109Z"
   },
   {
    "duration": 3956231,
    "start_time": "2022-05-31T21:09:44.940Z"
   },
   {
    "duration": 1620,
    "start_time": "2022-06-01T02:28:04.946Z"
   },
   {
    "duration": 3654,
    "start_time": "2022-06-01T02:28:06.568Z"
   },
   {
    "duration": 278,
    "start_time": "2022-06-01T02:28:10.224Z"
   },
   {
    "duration": 30,
    "start_time": "2022-06-01T02:28:10.504Z"
   },
   {
    "duration": 166,
    "start_time": "2022-06-01T02:28:10.536Z"
   },
   {
    "duration": 28,
    "start_time": "2022-06-01T02:28:10.703Z"
   },
   {
    "duration": 314,
    "start_time": "2022-06-01T02:28:10.733Z"
   },
   {
    "duration": 44,
    "start_time": "2022-06-01T02:28:11.049Z"
   },
   {
    "duration": 6,
    "start_time": "2022-06-01T02:28:11.100Z"
   },
   {
    "duration": 37,
    "start_time": "2022-06-01T02:28:11.107Z"
   },
   {
    "duration": 23,
    "start_time": "2022-06-01T02:28:11.145Z"
   },
   {
    "duration": 61,
    "start_time": "2022-06-01T02:28:11.169Z"
   },
   {
    "duration": 22,
    "start_time": "2022-06-01T02:28:11.231Z"
   },
   {
    "duration": 41,
    "start_time": "2022-06-01T02:28:11.255Z"
   },
   {
    "duration": 50,
    "start_time": "2022-06-01T02:28:11.297Z"
   },
   {
    "duration": 26,
    "start_time": "2022-06-01T02:28:11.348Z"
   },
   {
    "duration": 7,
    "start_time": "2022-06-01T02:28:11.376Z"
   },
   {
    "duration": 345,
    "start_time": "2022-06-01T02:28:11.385Z"
   },
   {
    "duration": 325,
    "start_time": "2022-06-01T02:28:11.732Z"
   },
   {
    "duration": 300,
    "start_time": "2022-06-01T02:28:12.058Z"
   },
   {
    "duration": 243,
    "start_time": "2022-06-01T02:28:12.360Z"
   },
   {
    "duration": 4,
    "start_time": "2022-06-01T02:28:12.605Z"
   },
   {
    "duration": 38,
    "start_time": "2022-06-01T02:28:12.611Z"
   },
   {
    "duration": 27,
    "start_time": "2022-06-01T02:28:12.651Z"
   },
   {
    "duration": 7,
    "start_time": "2022-06-01T02:28:23.101Z"
   },
   {
    "duration": 50,
    "start_time": "2022-06-01T02:30:15.968Z"
   },
   {
    "duration": 24,
    "start_time": "2022-06-01T02:30:19.404Z"
   },
   {
    "duration": 5,
    "start_time": "2022-06-01T02:30:22.489Z"
   },
   {
    "duration": 1493,
    "start_time": "2022-06-01T02:30:43.608Z"
   },
   {
    "duration": 18118,
    "start_time": "2022-06-01T02:31:23.526Z"
   },
   {
    "duration": 5,
    "start_time": "2022-06-01T02:33:01.563Z"
   },
   {
    "duration": 5,
    "start_time": "2022-06-01T02:33:07.834Z"
   },
   {
    "duration": 18278,
    "start_time": "2022-06-01T02:33:17.155Z"
   },
   {
    "duration": 192444,
    "start_time": "2022-06-01T02:35:46.368Z"
   },
   {
    "duration": 120,
    "start_time": "2022-06-01T02:40:30.847Z"
   },
   {
    "duration": 4,
    "start_time": "2022-06-01T02:40:36.783Z"
   },
   {
    "duration": 896839,
    "start_time": "2022-06-01T02:40:40.560Z"
   },
   {
    "duration": 2041,
    "start_time": "2022-06-01T22:43:56.729Z"
   },
   {
    "duration": 1495,
    "start_time": "2022-06-01T22:43:58.772Z"
   },
   {
    "duration": 493,
    "start_time": "2022-06-01T22:44:00.268Z"
   },
   {
    "duration": 85,
    "start_time": "2022-06-01T22:44:00.763Z"
   },
   {
    "duration": 285,
    "start_time": "2022-06-01T22:44:00.850Z"
   },
   {
    "duration": 23,
    "start_time": "2022-06-01T22:44:01.137Z"
   },
   {
    "duration": 584,
    "start_time": "2022-06-01T22:44:01.162Z"
   },
   {
    "duration": 82,
    "start_time": "2022-06-01T22:44:01.747Z"
   },
   {
    "duration": 6,
    "start_time": "2022-06-01T22:44:01.831Z"
   },
   {
    "duration": 95,
    "start_time": "2022-06-01T22:44:01.839Z"
   },
   {
    "duration": 8,
    "start_time": "2022-06-01T22:44:01.936Z"
   },
   {
    "duration": 17,
    "start_time": "2022-06-01T22:44:01.946Z"
   },
   {
    "duration": 64,
    "start_time": "2022-06-01T22:44:01.965Z"
   },
   {
    "duration": 25,
    "start_time": "2022-06-01T22:44:02.032Z"
   },
   {
    "duration": 91,
    "start_time": "2022-06-01T22:44:02.059Z"
   },
   {
    "duration": 77,
    "start_time": "2022-06-01T22:44:02.151Z"
   },
   {
    "duration": 7,
    "start_time": "2022-06-01T22:44:02.230Z"
   },
   {
    "duration": 529,
    "start_time": "2022-06-01T22:44:02.239Z"
   },
   {
    "duration": 489,
    "start_time": "2022-06-01T22:44:02.770Z"
   },
   {
    "duration": 568,
    "start_time": "2022-06-01T22:44:03.262Z"
   },
   {
    "duration": 410,
    "start_time": "2022-06-01T22:44:03.832Z"
   },
   {
    "duration": 4,
    "start_time": "2022-06-01T22:44:04.243Z"
   },
   {
    "duration": 11,
    "start_time": "2022-06-01T22:44:04.248Z"
   },
   {
    "duration": 82,
    "start_time": "2022-06-01T22:44:04.260Z"
   },
   {
    "duration": 5,
    "start_time": "2022-06-01T22:44:04.344Z"
   },
   {
    "duration": 1577,
    "start_time": "2022-06-01T22:44:04.350Z"
   },
   {
    "duration": 6,
    "start_time": "2022-06-01T22:45:55.630Z"
   },
   {
    "duration": 1687,
    "start_time": "2022-06-01T22:45:58.043Z"
   },
   {
    "duration": 33976,
    "start_time": "2022-06-01T22:46:58.369Z"
   },
   {
    "duration": 241662,
    "start_time": "2022-06-01T22:48:40.694Z"
   },
   {
    "duration": 2158,
    "start_time": "2022-06-01T22:52:53.480Z"
   },
   {
    "duration": 1609,
    "start_time": "2022-06-01T22:52:55.640Z"
   },
   {
    "duration": 520,
    "start_time": "2022-06-01T22:52:57.250Z"
   },
   {
    "duration": 80,
    "start_time": "2022-06-01T22:52:57.771Z"
   },
   {
    "duration": 289,
    "start_time": "2022-06-01T22:52:57.853Z"
   },
   {
    "duration": 25,
    "start_time": "2022-06-01T22:52:58.144Z"
   },
   {
    "duration": 520,
    "start_time": "2022-06-01T22:52:58.228Z"
   },
   {
    "duration": 84,
    "start_time": "2022-06-01T22:52:58.750Z"
   },
   {
    "duration": 7,
    "start_time": "2022-06-01T22:52:58.836Z"
   },
   {
    "duration": 22,
    "start_time": "2022-06-01T22:52:58.844Z"
   },
   {
    "duration": 65,
    "start_time": "2022-06-01T22:52:58.867Z"
   },
   {
    "duration": 6,
    "start_time": "2022-06-01T22:52:58.935Z"
   },
   {
    "duration": 6,
    "start_time": "2022-06-01T22:52:58.942Z"
   },
   {
    "duration": 80,
    "start_time": "2022-06-01T22:52:58.952Z"
   },
   {
    "duration": 34,
    "start_time": "2022-06-01T22:52:59.034Z"
   },
   {
    "duration": 22,
    "start_time": "2022-06-01T22:52:59.127Z"
   },
   {
    "duration": 6,
    "start_time": "2022-06-01T22:52:59.150Z"
   },
   {
    "duration": 576,
    "start_time": "2022-06-01T22:52:59.157Z"
   },
   {
    "duration": 433,
    "start_time": "2022-06-01T22:52:59.735Z"
   },
   {
    "duration": 501,
    "start_time": "2022-06-01T22:53:00.169Z"
   },
   {
    "duration": 345,
    "start_time": "2022-06-01T22:53:00.727Z"
   },
   {
    "duration": 3,
    "start_time": "2022-06-01T22:53:01.127Z"
   },
   {
    "duration": 14,
    "start_time": "2022-06-01T22:53:01.132Z"
   },
   {
    "duration": 82,
    "start_time": "2022-06-01T22:53:01.148Z"
   },
   {
    "duration": 4,
    "start_time": "2022-06-01T22:53:01.232Z"
   },
   {
    "duration": 1296,
    "start_time": "2022-06-01T22:53:01.237Z"
   },
   {
    "duration": 33797,
    "start_time": "2022-06-01T22:53:02.536Z"
   },
   {
    "duration": 345418,
    "start_time": "2022-06-01T22:53:36.336Z"
   },
   {
    "duration": 6,
    "start_time": "2022-06-01T22:59:21.755Z"
   },
   {
    "duration": 80,
    "start_time": "2022-06-01T22:59:21.762Z"
   },
   {
    "duration": 1684,
    "start_time": "2022-06-01T22:59:21.844Z"
   },
   {
    "duration": 33501,
    "start_time": "2022-06-01T22:59:23.530Z"
   },
   {
    "duration": 31400,
    "start_time": "2022-06-01T23:40:11.373Z"
   },
   {
    "duration": 356977,
    "start_time": "2022-06-01T23:40:44.787Z"
   },
   {
    "duration": 6,
    "start_time": "2022-06-02T01:22:20.916Z"
   },
   {
    "duration": 10,
    "start_time": "2022-06-02T01:22:50.317Z"
   },
   {
    "duration": 7,
    "start_time": "2022-06-02T01:23:07.675Z"
   },
   {
    "duration": 182,
    "start_time": "2022-06-02T01:23:10.215Z"
   },
   {
    "duration": 177,
    "start_time": "2022-06-02T01:23:33.452Z"
   },
   {
    "duration": 121,
    "start_time": "2022-06-02T01:24:41.773Z"
   },
   {
    "duration": 135,
    "start_time": "2022-06-02T01:25:00.038Z"
   },
   {
    "duration": 195,
    "start_time": "2022-06-02T01:25:36.084Z"
   },
   {
    "duration": 167,
    "start_time": "2022-06-02T01:25:52.469Z"
   },
   {
    "duration": 5,
    "start_time": "2022-06-02T01:27:21.122Z"
   },
   {
    "duration": 1181,
    "start_time": "2022-06-02T01:27:33.629Z"
   },
   {
    "duration": 764,
    "start_time": "2022-06-02T01:27:34.812Z"
   },
   {
    "duration": 234,
    "start_time": "2022-06-02T01:27:35.578Z"
   },
   {
    "duration": 29,
    "start_time": "2022-06-02T01:27:35.813Z"
   },
   {
    "duration": 130,
    "start_time": "2022-06-02T01:27:35.844Z"
   },
   {
    "duration": 23,
    "start_time": "2022-06-02T01:27:35.975Z"
   },
   {
    "duration": 282,
    "start_time": "2022-06-02T01:27:35.999Z"
   },
   {
    "duration": 45,
    "start_time": "2022-06-02T01:27:36.283Z"
   },
   {
    "duration": 7,
    "start_time": "2022-06-02T01:27:36.330Z"
   },
   {
    "duration": 35,
    "start_time": "2022-06-02T01:27:36.338Z"
   },
   {
    "duration": 9,
    "start_time": "2022-06-02T01:27:36.375Z"
   },
   {
    "duration": 6,
    "start_time": "2022-06-02T01:27:36.386Z"
   },
   {
    "duration": 7,
    "start_time": "2022-06-02T01:27:36.394Z"
   },
   {
    "duration": 35,
    "start_time": "2022-06-02T01:27:36.404Z"
   },
   {
    "duration": 33,
    "start_time": "2022-06-02T01:27:36.441Z"
   },
   {
    "duration": 21,
    "start_time": "2022-06-02T01:27:36.475Z"
   },
   {
    "duration": 29,
    "start_time": "2022-06-02T01:27:36.498Z"
   },
   {
    "duration": 255,
    "start_time": "2022-06-02T01:27:36.529Z"
   },
   {
    "duration": 226,
    "start_time": "2022-06-02T01:27:36.785Z"
   },
   {
    "duration": 248,
    "start_time": "2022-06-02T01:27:37.012Z"
   },
   {
    "duration": 205,
    "start_time": "2022-06-02T01:27:37.262Z"
   },
   {
    "duration": 3,
    "start_time": "2022-06-02T01:27:37.468Z"
   },
   {
    "duration": 8,
    "start_time": "2022-06-02T01:27:37.472Z"
   },
   {
    "duration": 31,
    "start_time": "2022-06-02T01:27:40.667Z"
   },
   {
    "duration": 5,
    "start_time": "2022-06-02T01:27:41.386Z"
   },
   {
    "duration": 1218,
    "start_time": "2022-06-02T01:28:03.453Z"
   },
   {
    "duration": 791,
    "start_time": "2022-06-02T01:28:04.673Z"
   },
   {
    "duration": 240,
    "start_time": "2022-06-02T01:28:05.466Z"
   },
   {
    "duration": 36,
    "start_time": "2022-06-02T01:28:05.709Z"
   },
   {
    "duration": 141,
    "start_time": "2022-06-02T01:28:05.747Z"
   },
   {
    "duration": 24,
    "start_time": "2022-06-02T01:28:05.890Z"
   },
   {
    "duration": 263,
    "start_time": "2022-06-02T01:28:05.928Z"
   },
   {
    "duration": 44,
    "start_time": "2022-06-02T01:28:06.192Z"
   },
   {
    "duration": 6,
    "start_time": "2022-06-02T01:28:06.238Z"
   },
   {
    "duration": 27,
    "start_time": "2022-06-02T01:28:06.247Z"
   },
   {
    "duration": 8,
    "start_time": "2022-06-02T01:28:06.275Z"
   },
   {
    "duration": 12,
    "start_time": "2022-06-02T01:28:06.285Z"
   },
   {
    "duration": 29,
    "start_time": "2022-06-02T01:28:06.299Z"
   },
   {
    "duration": 25,
    "start_time": "2022-06-02T01:28:06.330Z"
   },
   {
    "duration": 42,
    "start_time": "2022-06-02T01:28:06.357Z"
   },
   {
    "duration": 40,
    "start_time": "2022-06-02T01:28:06.400Z"
   },
   {
    "duration": 6,
    "start_time": "2022-06-02T01:28:06.441Z"
   },
   {
    "duration": 269,
    "start_time": "2022-06-02T01:28:06.449Z"
   },
   {
    "duration": 234,
    "start_time": "2022-06-02T01:28:06.719Z"
   },
   {
    "duration": 334,
    "start_time": "2022-06-02T01:28:06.954Z"
   },
   {
    "duration": 236,
    "start_time": "2022-06-02T01:28:07.326Z"
   },
   {
    "duration": 3,
    "start_time": "2022-06-02T01:28:07.564Z"
   },
   {
    "duration": 8,
    "start_time": "2022-06-02T01:28:07.568Z"
   },
   {
    "duration": 7,
    "start_time": "2022-06-02T01:28:11.768Z"
   },
   {
    "duration": 24,
    "start_time": "2022-06-02T01:28:13.660Z"
   },
   {
    "duration": 22,
    "start_time": "2022-06-02T01:28:38.136Z"
   },
   {
    "duration": 5,
    "start_time": "2022-06-02T01:28:48.632Z"
   },
   {
    "duration": 120,
    "start_time": "2022-06-02T01:35:11.860Z"
   },
   {
    "duration": 1295,
    "start_time": "2022-06-02T01:35:21.523Z"
   },
   {
    "duration": 787,
    "start_time": "2022-06-02T01:35:22.820Z"
   },
   {
    "duration": 262,
    "start_time": "2022-06-02T01:35:23.608Z"
   },
   {
    "duration": 32,
    "start_time": "2022-06-02T01:35:23.872Z"
   },
   {
    "duration": 145,
    "start_time": "2022-06-02T01:35:23.906Z"
   },
   {
    "duration": 25,
    "start_time": "2022-06-02T01:35:24.052Z"
   },
   {
    "duration": 283,
    "start_time": "2022-06-02T01:35:24.078Z"
   },
   {
    "duration": 27,
    "start_time": "2022-06-02T01:35:24.362Z"
   },
   {
    "duration": 6,
    "start_time": "2022-06-02T01:35:24.391Z"
   },
   {
    "duration": 53,
    "start_time": "2022-06-02T01:35:24.398Z"
   },
   {
    "duration": 8,
    "start_time": "2022-06-02T01:35:24.452Z"
   },
   {
    "duration": 28,
    "start_time": "2022-06-02T01:35:24.462Z"
   },
   {
    "duration": 24,
    "start_time": "2022-06-02T01:35:24.491Z"
   },
   {
    "duration": 46,
    "start_time": "2022-06-02T01:35:24.517Z"
   },
   {
    "duration": 57,
    "start_time": "2022-06-02T01:35:24.565Z"
   },
   {
    "duration": 22,
    "start_time": "2022-06-02T01:35:24.624Z"
   },
   {
    "duration": 12,
    "start_time": "2022-06-02T01:35:24.647Z"
   },
   {
    "duration": 305,
    "start_time": "2022-06-02T01:35:24.661Z"
   },
   {
    "duration": 240,
    "start_time": "2022-06-02T01:35:24.967Z"
   },
   {
    "duration": 255,
    "start_time": "2022-06-02T01:35:25.208Z"
   },
   {
    "duration": 194,
    "start_time": "2022-06-02T01:35:25.464Z"
   },
   {
    "duration": 3,
    "start_time": "2022-06-02T01:35:25.659Z"
   },
   {
    "duration": 26,
    "start_time": "2022-06-02T01:35:25.664Z"
   },
   {
    "duration": 53,
    "start_time": "2022-06-02T01:35:25.691Z"
   },
   {
    "duration": 29,
    "start_time": "2022-06-02T01:35:46.847Z"
   },
   {
    "duration": 26,
    "start_time": "2022-06-02T01:36:05.755Z"
   },
   {
    "duration": 24,
    "start_time": "2022-06-02T01:36:13.495Z"
   },
   {
    "duration": 18,
    "start_time": "2022-06-02T01:36:34.713Z"
   },
   {
    "duration": 185,
    "start_time": "2022-06-02T01:36:46.804Z"
   },
   {
    "duration": 1255,
    "start_time": "2022-06-02T01:37:14.551Z"
   },
   {
    "duration": 828,
    "start_time": "2022-06-02T01:37:15.807Z"
   },
   {
    "duration": 251,
    "start_time": "2022-06-02T01:37:16.636Z"
   },
   {
    "duration": 25,
    "start_time": "2022-06-02T01:37:16.889Z"
   },
   {
    "duration": 138,
    "start_time": "2022-06-02T01:37:16.926Z"
   },
   {
    "duration": 25,
    "start_time": "2022-06-02T01:37:17.065Z"
   },
   {
    "duration": 275,
    "start_time": "2022-06-02T01:37:17.091Z"
   },
   {
    "duration": 25,
    "start_time": "2022-06-02T01:37:17.368Z"
   },
   {
    "duration": 6,
    "start_time": "2022-06-02T01:37:17.394Z"
   },
   {
    "duration": 38,
    "start_time": "2022-06-02T01:37:17.401Z"
   },
   {
    "duration": 7,
    "start_time": "2022-06-02T01:37:17.440Z"
   },
   {
    "duration": 4,
    "start_time": "2022-06-02T01:37:17.448Z"
   },
   {
    "duration": 5,
    "start_time": "2022-06-02T01:37:17.454Z"
   },
   {
    "duration": 17,
    "start_time": "2022-06-02T01:37:17.462Z"
   },
   {
    "duration": 58,
    "start_time": "2022-06-02T01:37:17.481Z"
   },
   {
    "duration": 22,
    "start_time": "2022-06-02T01:37:17.541Z"
   },
   {
    "duration": 6,
    "start_time": "2022-06-02T01:37:17.564Z"
   },
   {
    "duration": 281,
    "start_time": "2022-06-02T01:37:17.571Z"
   },
   {
    "duration": 232,
    "start_time": "2022-06-02T01:37:17.853Z"
   },
   {
    "duration": 252,
    "start_time": "2022-06-02T01:37:18.087Z"
   },
   {
    "duration": 198,
    "start_time": "2022-06-02T01:37:18.341Z"
   },
   {
    "duration": 3,
    "start_time": "2022-06-02T01:37:18.541Z"
   },
   {
    "duration": 10,
    "start_time": "2022-06-02T01:37:18.545Z"
   },
   {
    "duration": 26,
    "start_time": "2022-06-02T01:37:18.557Z"
   },
   {
    "duration": 28,
    "start_time": "2022-06-02T01:37:18.584Z"
   },
   {
    "duration": 22,
    "start_time": "2022-06-02T01:37:18.627Z"
   },
   {
    "duration": 7,
    "start_time": "2022-06-02T01:37:18.651Z"
   },
   {
    "duration": 1472,
    "start_time": "2022-06-02T01:37:18.659Z"
   },
   {
    "duration": 10406,
    "start_time": "2022-06-02T01:37:20.133Z"
   },
   {
    "duration": 0,
    "start_time": "2022-06-02T01:37:30.541Z"
   },
   {
    "duration": 0,
    "start_time": "2022-06-02T01:37:30.543Z"
   },
   {
    "duration": 0,
    "start_time": "2022-06-02T01:37:30.544Z"
   },
   {
    "duration": 0,
    "start_time": "2022-06-02T01:37:30.545Z"
   },
   {
    "duration": 0,
    "start_time": "2022-06-02T01:37:30.546Z"
   },
   {
    "duration": 0,
    "start_time": "2022-06-02T01:37:30.547Z"
   },
   {
    "duration": 0,
    "start_time": "2022-06-02T01:37:30.548Z"
   },
   {
    "duration": 0,
    "start_time": "2022-06-02T01:37:30.549Z"
   },
   {
    "duration": 4,
    "start_time": "2022-06-02T01:37:41.451Z"
   },
   {
    "duration": 793,
    "start_time": "2022-06-02T01:37:41.456Z"
   },
   {
    "duration": 234,
    "start_time": "2022-06-02T01:37:42.250Z"
   },
   {
    "duration": 28,
    "start_time": "2022-06-02T01:37:42.485Z"
   },
   {
    "duration": 220,
    "start_time": "2022-06-02T01:37:42.515Z"
   },
   {
    "duration": 31,
    "start_time": "2022-06-02T01:37:42.737Z"
   },
   {
    "duration": 258,
    "start_time": "2022-06-02T01:37:42.770Z"
   },
   {
    "duration": 25,
    "start_time": "2022-06-02T01:37:43.029Z"
   },
   {
    "duration": 8,
    "start_time": "2022-06-02T01:37:43.056Z"
   },
   {
    "duration": 19,
    "start_time": "2022-06-02T01:37:43.066Z"
   },
   {
    "duration": 6,
    "start_time": "2022-06-02T01:37:43.086Z"
   },
   {
    "duration": 37,
    "start_time": "2022-06-02T01:37:43.094Z"
   },
   {
    "duration": 20,
    "start_time": "2022-06-02T01:37:43.132Z"
   },
   {
    "duration": 45,
    "start_time": "2022-06-02T01:37:43.155Z"
   },
   {
    "duration": 33,
    "start_time": "2022-06-02T01:37:43.202Z"
   },
   {
    "duration": 25,
    "start_time": "2022-06-02T01:37:43.236Z"
   },
   {
    "duration": 7,
    "start_time": "2022-06-02T01:37:43.263Z"
   },
   {
    "duration": 256,
    "start_time": "2022-06-02T01:37:43.271Z"
   },
   {
    "duration": 226,
    "start_time": "2022-06-02T01:37:43.528Z"
   },
   {
    "duration": 244,
    "start_time": "2022-06-02T01:37:43.756Z"
   },
   {
    "duration": 195,
    "start_time": "2022-06-02T01:37:44.002Z"
   },
   {
    "duration": 4,
    "start_time": "2022-06-02T01:37:44.198Z"
   },
   {
    "duration": 41,
    "start_time": "2022-06-02T01:37:44.203Z"
   },
   {
    "duration": 45,
    "start_time": "2022-06-02T01:37:44.246Z"
   },
   {
    "duration": 25,
    "start_time": "2022-06-02T01:37:44.292Z"
   },
   {
    "duration": 32,
    "start_time": "2022-06-02T01:37:44.318Z"
   },
   {
    "duration": 4,
    "start_time": "2022-06-02T01:37:44.352Z"
   },
   {
    "duration": 161,
    "start_time": "2022-06-02T01:37:52.851Z"
   },
   {
    "duration": 173,
    "start_time": "2022-06-02T01:38:03.554Z"
   },
   {
    "duration": 122,
    "start_time": "2022-06-02T01:38:23.591Z"
   },
   {
    "duration": 4,
    "start_time": "2022-06-02T01:50:35.071Z"
   },
   {
    "duration": 744,
    "start_time": "2022-06-02T01:50:35.077Z"
   },
   {
    "duration": 229,
    "start_time": "2022-06-02T01:50:35.823Z"
   },
   {
    "duration": 24,
    "start_time": "2022-06-02T01:50:36.054Z"
   },
   {
    "duration": 148,
    "start_time": "2022-06-02T01:50:36.080Z"
   },
   {
    "duration": 31,
    "start_time": "2022-06-02T01:50:36.230Z"
   },
   {
    "duration": 295,
    "start_time": "2022-06-02T01:50:36.263Z"
   },
   {
    "duration": 24,
    "start_time": "2022-06-02T01:50:36.559Z"
   },
   {
    "duration": 5,
    "start_time": "2022-06-02T01:50:36.585Z"
   },
   {
    "duration": 25,
    "start_time": "2022-06-02T01:50:36.591Z"
   },
   {
    "duration": 5,
    "start_time": "2022-06-02T01:50:36.628Z"
   },
   {
    "duration": 11,
    "start_time": "2022-06-02T01:50:36.635Z"
   },
   {
    "duration": 7,
    "start_time": "2022-06-02T01:50:36.649Z"
   },
   {
    "duration": 24,
    "start_time": "2022-06-02T01:50:36.657Z"
   },
   {
    "duration": 30,
    "start_time": "2022-06-02T01:50:36.682Z"
   },
   {
    "duration": 19,
    "start_time": "2022-06-02T01:50:36.727Z"
   },
   {
    "duration": 5,
    "start_time": "2022-06-02T01:50:36.748Z"
   },
   {
    "duration": 249,
    "start_time": "2022-06-02T01:50:36.755Z"
   },
   {
    "duration": 327,
    "start_time": "2022-06-02T01:50:37.005Z"
   },
   {
    "duration": 243,
    "start_time": "2022-06-02T01:50:37.333Z"
   },
   {
    "duration": 188,
    "start_time": "2022-06-02T01:50:37.577Z"
   },
   {
    "duration": 3,
    "start_time": "2022-06-02T01:50:37.767Z"
   },
   {
    "duration": 11,
    "start_time": "2022-06-02T01:50:37.771Z"
   },
   {
    "duration": 24,
    "start_time": "2022-06-02T01:50:37.784Z"
   },
   {
    "duration": 35,
    "start_time": "2022-06-02T01:50:37.810Z"
   },
   {
    "duration": 22,
    "start_time": "2022-06-02T01:50:37.846Z"
   },
   {
    "duration": 4,
    "start_time": "2022-06-02T01:50:37.870Z"
   },
   {
    "duration": 1452,
    "start_time": "2022-06-02T01:50:37.876Z"
   },
   {
    "duration": 15729,
    "start_time": "2022-06-02T01:50:39.330Z"
   },
   {
    "duration": 60872,
    "start_time": "2022-06-02T01:50:55.060Z"
   },
   {
    "duration": 6,
    "start_time": "2022-06-02T01:51:55.933Z"
   },
   {
    "duration": 27,
    "start_time": "2022-06-02T01:51:55.940Z"
   },
   {
    "duration": 1562,
    "start_time": "2022-06-02T01:51:55.968Z"
   },
   {
    "duration": 16169,
    "start_time": "2022-06-02T01:54:46.960Z"
   },
   {
    "duration": 59214,
    "start_time": "2022-06-02T01:55:03.132Z"
   },
   {
    "duration": 175,
    "start_time": "2022-06-02T01:56:02.348Z"
   },
   {
    "duration": 132,
    "start_time": "2022-06-02T01:56:02.526Z"
   },
   {
    "duration": 1310,
    "start_time": "2022-06-02T02:29:29.325Z"
   },
   {
    "duration": 800,
    "start_time": "2022-06-02T02:29:30.637Z"
   },
   {
    "duration": 293,
    "start_time": "2022-06-02T02:29:31.439Z"
   },
   {
    "duration": 28,
    "start_time": "2022-06-02T02:29:31.733Z"
   },
   {
    "duration": 171,
    "start_time": "2022-06-02T02:29:31.765Z"
   },
   {
    "duration": 41,
    "start_time": "2022-06-02T02:29:31.938Z"
   },
   {
    "duration": 309,
    "start_time": "2022-06-02T02:29:31.981Z"
   },
   {
    "duration": 42,
    "start_time": "2022-06-02T02:29:32.291Z"
   },
   {
    "duration": 6,
    "start_time": "2022-06-02T02:29:32.335Z"
   },
   {
    "duration": 47,
    "start_time": "2022-06-02T02:29:32.342Z"
   },
   {
    "duration": 25,
    "start_time": "2022-06-02T02:29:32.390Z"
   },
   {
    "duration": 16,
    "start_time": "2022-06-02T02:29:32.416Z"
   },
   {
    "duration": 25,
    "start_time": "2022-06-02T02:29:32.434Z"
   },
   {
    "duration": 32,
    "start_time": "2022-06-02T02:29:32.462Z"
   },
   {
    "duration": 48,
    "start_time": "2022-06-02T02:29:32.495Z"
   },
   {
    "duration": 22,
    "start_time": "2022-06-02T02:29:32.544Z"
   },
   {
    "duration": 6,
    "start_time": "2022-06-02T02:29:32.568Z"
   },
   {
    "duration": 277,
    "start_time": "2022-06-02T02:29:32.576Z"
   },
   {
    "duration": 242,
    "start_time": "2022-06-02T02:29:32.854Z"
   },
   {
    "duration": 277,
    "start_time": "2022-06-02T02:29:33.098Z"
   },
   {
    "duration": 200,
    "start_time": "2022-06-02T02:29:33.376Z"
   },
   {
    "duration": 3,
    "start_time": "2022-06-02T02:29:33.578Z"
   },
   {
    "duration": 11,
    "start_time": "2022-06-02T02:29:33.582Z"
   },
   {
    "duration": 41,
    "start_time": "2022-06-02T02:29:33.594Z"
   },
   {
    "duration": 31,
    "start_time": "2022-06-02T02:29:33.637Z"
   },
   {
    "duration": 24,
    "start_time": "2022-06-02T02:29:33.670Z"
   },
   {
    "duration": 5,
    "start_time": "2022-06-02T02:29:33.696Z"
   },
   {
    "duration": 1335,
    "start_time": "2022-06-02T02:29:33.703Z"
   },
   {
    "duration": 16524,
    "start_time": "2022-06-02T02:29:35.129Z"
   },
   {
    "duration": 63361,
    "start_time": "2022-06-02T02:29:51.654Z"
   },
   {
    "duration": 11,
    "start_time": "2022-06-02T02:30:55.017Z"
   },
   {
    "duration": 33,
    "start_time": "2022-06-02T02:30:55.029Z"
   },
   {
    "duration": 1472,
    "start_time": "2022-06-02T02:30:55.064Z"
   },
   {
    "duration": 16773,
    "start_time": "2022-06-02T02:30:56.539Z"
   },
   {
    "duration": 60797,
    "start_time": "2022-06-02T02:31:13.313Z"
   },
   {
    "duration": 185,
    "start_time": "2022-06-02T02:32:14.112Z"
   },
   {
    "duration": 274,
    "start_time": "2022-06-02T02:32:14.298Z"
   },
   {
    "duration": 428,
    "start_time": "2022-06-02T02:32:14.574Z"
   },
   {
    "duration": 312,
    "start_time": "2022-06-02T02:38:12.784Z"
   },
   {
    "duration": 271,
    "start_time": "2022-06-02T02:39:55.195Z"
   },
   {
    "duration": 269,
    "start_time": "2022-06-02T02:40:08.389Z"
   },
   {
    "duration": 205,
    "start_time": "2022-06-02T02:40:21.613Z"
   },
   {
    "duration": 272,
    "start_time": "2022-06-02T02:40:31.802Z"
   },
   {
    "duration": 1518,
    "start_time": "2022-06-02T17:07:48.547Z"
   },
   {
    "duration": 4109,
    "start_time": "2022-06-02T17:07:50.067Z"
   },
   {
    "duration": 275,
    "start_time": "2022-06-02T17:07:54.178Z"
   },
   {
    "duration": 29,
    "start_time": "2022-06-02T17:07:54.464Z"
   },
   {
    "duration": 153,
    "start_time": "2022-06-02T17:07:54.495Z"
   },
   {
    "duration": 32,
    "start_time": "2022-06-02T17:07:54.650Z"
   },
   {
    "duration": 293,
    "start_time": "2022-06-02T17:07:54.684Z"
   },
   {
    "duration": 29,
    "start_time": "2022-06-02T17:07:54.979Z"
   },
   {
    "duration": 6,
    "start_time": "2022-06-02T17:07:55.010Z"
   },
   {
    "duration": 46,
    "start_time": "2022-06-02T17:07:55.019Z"
   },
   {
    "duration": 7,
    "start_time": "2022-06-02T17:07:55.067Z"
   },
   {
    "duration": 14,
    "start_time": "2022-06-02T17:07:55.076Z"
   },
   {
    "duration": 9,
    "start_time": "2022-06-02T17:07:55.091Z"
   },
   {
    "duration": 21,
    "start_time": "2022-06-02T17:07:55.101Z"
   },
   {
    "duration": 53,
    "start_time": "2022-06-02T17:07:55.124Z"
   },
   {
    "duration": 24,
    "start_time": "2022-06-02T17:07:55.178Z"
   },
   {
    "duration": 7,
    "start_time": "2022-06-02T17:07:55.204Z"
   },
   {
    "duration": 333,
    "start_time": "2022-06-02T17:07:55.213Z"
   },
   {
    "duration": 272,
    "start_time": "2022-06-02T17:07:55.548Z"
   },
   {
    "duration": 284,
    "start_time": "2022-06-02T17:07:55.821Z"
   },
   {
    "duration": 225,
    "start_time": "2022-06-02T17:07:56.107Z"
   },
   {
    "duration": 4,
    "start_time": "2022-06-02T17:07:56.333Z"
   },
   {
    "duration": 11,
    "start_time": "2022-06-02T17:07:56.338Z"
   },
   {
    "duration": 43,
    "start_time": "2022-06-02T17:07:56.351Z"
   },
   {
    "duration": 6,
    "start_time": "2022-06-02T17:07:56.395Z"
   },
   {
    "duration": 1367,
    "start_time": "2022-06-02T17:07:56.402Z"
   },
   {
    "duration": 18335,
    "start_time": "2022-06-02T17:07:57.772Z"
   },
   {
    "duration": 69865,
    "start_time": "2022-06-02T17:08:16.110Z"
   },
   {
    "duration": 6,
    "start_time": "2022-06-02T17:09:25.977Z"
   },
   {
    "duration": 46,
    "start_time": "2022-06-02T17:09:25.985Z"
   },
   {
    "duration": 1733,
    "start_time": "2022-06-02T17:09:26.033Z"
   },
   {
    "duration": 18739,
    "start_time": "2022-06-02T17:09:27.769Z"
   },
   {
    "duration": 67999,
    "start_time": "2022-06-02T17:09:46.510Z"
   },
   {
    "duration": 192,
    "start_time": "2022-06-02T17:10:54.510Z"
   },
   {
    "duration": 289,
    "start_time": "2022-06-02T17:10:54.704Z"
   },
   {
    "duration": 307,
    "start_time": "2022-06-02T17:10:54.995Z"
   },
   {
    "duration": 1530,
    "start_time": "2022-06-02T17:10:56.936Z"
   },
   {
    "duration": 1288,
    "start_time": "2022-06-02T17:11:21.380Z"
   },
   {
    "duration": 863,
    "start_time": "2022-06-02T17:11:22.670Z"
   },
   {
    "duration": 288,
    "start_time": "2022-06-02T17:11:23.535Z"
   },
   {
    "duration": 28,
    "start_time": "2022-06-02T17:11:23.825Z"
   },
   {
    "duration": 176,
    "start_time": "2022-06-02T17:11:23.865Z"
   },
   {
    "duration": 54,
    "start_time": "2022-06-02T17:11:24.043Z"
   },
   {
    "duration": 287,
    "start_time": "2022-06-02T17:11:24.271Z"
   },
   {
    "duration": 30,
    "start_time": "2022-06-02T17:11:24.737Z"
   },
   {
    "duration": 9,
    "start_time": "2022-06-02T17:11:30.714Z"
   },
   {
    "duration": 9,
    "start_time": "2022-06-02T17:11:31.781Z"
   },
   {
    "duration": 8,
    "start_time": "2022-06-02T17:14:49.303Z"
   },
   {
    "duration": 1492,
    "start_time": "2022-06-28T17:49:17.979Z"
   },
   {
    "duration": 991,
    "start_time": "2022-06-28T17:49:22.372Z"
   },
   {
    "duration": 4,
    "start_time": "2022-06-28T17:50:55.245Z"
   },
   {
    "duration": 1200,
    "start_time": "2022-06-28T17:50:56.973Z"
   }
  ],
  "kernelspec": {
   "display_name": "Python 3 (ipykernel)",
   "language": "python",
   "name": "python3"
  },
  "language_info": {
   "codemirror_mode": {
    "name": "ipython",
    "version": 3
   },
   "file_extension": ".py",
   "mimetype": "text/x-python",
   "name": "python",
   "nbconvert_exporter": "python",
   "pygments_lexer": "ipython3",
   "version": "3.9.5"
  },
  "toc": {
   "base_numbering": 1,
   "nav_menu": {},
   "number_sections": true,
   "sideBar": true,
   "skip_h1_title": true,
   "title_cell": "Table of Contents",
   "title_sidebar": "Contents",
   "toc_cell": false,
   "toc_position": {},
   "toc_section_display": true,
   "toc_window_display": false
  }
 },
 "nbformat": 4,
 "nbformat_minor": 2
}
