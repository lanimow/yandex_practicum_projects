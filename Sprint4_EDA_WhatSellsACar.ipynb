{
 "cells": [
  {
   "cell_type": "markdown",
   "metadata": {},
   "source": [
    "# What sells a car?\n",
    "\n",
    "You're an analyst at Crankshaft List. Hundreds of free advertisements for vehicles are published on your site every day. You need to study data collected over the last few years and determine which factors influence the price of a vehicle."
   ]
  },
  {
   "cell_type": "markdown",
   "metadata": {},
   "source": [
    "#### Project Purpose\n",
    "\n",
    "The purpose of this project is to examine the relationships that exist between the price of a vehicle and various factors of interest that are specified at the time of ad listing.\n",
    "\n",
    "#### Plan of Action\n",
    "\n",
    "To complete this project, the dataset will be examined in order to determine the rows with missing values, incorrect data types and potential outliers that should be treated or excluded from the analysis. Once the data is cleaned, the core parameters, price, age, mileage, number of cylinders, and condition of each vehicle will be studied using histograms, boxplots, and scatterplots. Then, after determining which vehicle types had the highest number of ad listings, the two highest types will be used to analyze whether the price depends on age, mileage, condition, transmission type, and color using correlation matrices and plots."
   ]
  },
  {
   "cell_type": "markdown",
   "metadata": {},
   "source": [
    "## Initialization"
   ]
  },
  {
   "cell_type": "code",
   "execution_count": 89,
   "metadata": {},
   "outputs": [],
   "source": [
    "# Load all the libraries\n",
    "import pandas as pd\n",
    "import numpy as np\n",
    "from matplotlib import pyplot as plt\n",
    "%matplotlib inline\n",
    "import warnings\n",
    "warnings.filterwarnings(\"ignore\")\n"
   ]
  },
  {
   "cell_type": "markdown",
   "metadata": {},
   "source": [
    "The pandas, numpy, and pyplot libraries were loaded to utilize in the analysis. Import warnings to prevent filter warnings from appearing in the output."
   ]
  },
  {
   "cell_type": "markdown",
   "metadata": {},
   "source": [
    "### Load data"
   ]
  },
  {
   "cell_type": "code",
   "execution_count": 90,
   "metadata": {},
   "outputs": [],
   "source": [
    "# Load the data file into a DataFrame\n",
    "vehicles_us = pd.read_csv('/datasets/vehicles_us.csv')\n"
   ]
  },
  {
   "cell_type": "markdown",
   "metadata": {},
   "source": [
    "The data file was loaded as the dataframe 'vehicles_us'."
   ]
  },
  {
   "cell_type": "markdown",
   "metadata": {},
   "source": [
    "### Explore initial data"
   ]
  },
  {
   "cell_type": "markdown",
   "metadata": {},
   "source": [
    "The dataset contains the following fields:\n",
    "- `price`\n",
    "- `model_year`\n",
    "- `model`\n",
    "- `condition`\n",
    "- `cylinders`\n",
    "- `fuel` — gas, diesel, etc.\n",
    "- `odometer` — the vehicle's mileage when the ad was published\n",
    "- `transmission`\n",
    "- `paint_color`\n",
    "- `is_4wd` — whether the vehicle has 4-wheel drive (Boolean type)\n",
    "- `date_posted` — the date the ad was published\n",
    "- `days_listed` — from publication to removal"
   ]
  },
  {
   "cell_type": "code",
   "execution_count": 91,
   "metadata": {},
   "outputs": [
    {
     "name": "stdout",
     "output_type": "stream",
     "text": [
      "<class 'pandas.core.frame.DataFrame'>\n",
      "RangeIndex: 51525 entries, 0 to 51524\n",
      "Data columns (total 13 columns):\n",
      "price           51525 non-null int64\n",
      "model_year      47906 non-null float64\n",
      "model           51525 non-null object\n",
      "condition       51525 non-null object\n",
      "cylinders       46265 non-null float64\n",
      "fuel            51525 non-null object\n",
      "odometer        43633 non-null float64\n",
      "transmission    51525 non-null object\n",
      "type            51525 non-null object\n",
      "paint_color     42258 non-null object\n",
      "is_4wd          25572 non-null float64\n",
      "date_posted     51525 non-null object\n",
      "days_listed     51525 non-null int64\n",
      "dtypes: float64(4), int64(2), object(7)\n",
      "memory usage: 5.1+ MB\n"
     ]
    },
    {
     "data": {
      "text/html": [
       "<div>\n",
       "<style scoped>\n",
       "    .dataframe tbody tr th:only-of-type {\n",
       "        vertical-align: middle;\n",
       "    }\n",
       "\n",
       "    .dataframe tbody tr th {\n",
       "        vertical-align: top;\n",
       "    }\n",
       "\n",
       "    .dataframe thead th {\n",
       "        text-align: right;\n",
       "    }\n",
       "</style>\n",
       "<table border=\"1\" class=\"dataframe\">\n",
       "  <thead>\n",
       "    <tr style=\"text-align: right;\">\n",
       "      <th></th>\n",
       "      <th>price</th>\n",
       "      <th>model_year</th>\n",
       "      <th>model</th>\n",
       "      <th>condition</th>\n",
       "      <th>cylinders</th>\n",
       "      <th>fuel</th>\n",
       "      <th>odometer</th>\n",
       "      <th>transmission</th>\n",
       "      <th>type</th>\n",
       "      <th>paint_color</th>\n",
       "      <th>is_4wd</th>\n",
       "      <th>date_posted</th>\n",
       "      <th>days_listed</th>\n",
       "    </tr>\n",
       "  </thead>\n",
       "  <tbody>\n",
       "    <tr>\n",
       "      <td>count</td>\n",
       "      <td>51525.000000</td>\n",
       "      <td>47906.000000</td>\n",
       "      <td>51525</td>\n",
       "      <td>51525</td>\n",
       "      <td>46265.000000</td>\n",
       "      <td>51525</td>\n",
       "      <td>43633.000000</td>\n",
       "      <td>51525</td>\n",
       "      <td>51525</td>\n",
       "      <td>42258</td>\n",
       "      <td>25572.0</td>\n",
       "      <td>51525</td>\n",
       "      <td>51525.00000</td>\n",
       "    </tr>\n",
       "    <tr>\n",
       "      <td>unique</td>\n",
       "      <td>NaN</td>\n",
       "      <td>NaN</td>\n",
       "      <td>100</td>\n",
       "      <td>6</td>\n",
       "      <td>NaN</td>\n",
       "      <td>5</td>\n",
       "      <td>NaN</td>\n",
       "      <td>3</td>\n",
       "      <td>13</td>\n",
       "      <td>12</td>\n",
       "      <td>NaN</td>\n",
       "      <td>354</td>\n",
       "      <td>NaN</td>\n",
       "    </tr>\n",
       "    <tr>\n",
       "      <td>top</td>\n",
       "      <td>NaN</td>\n",
       "      <td>NaN</td>\n",
       "      <td>ford f-150</td>\n",
       "      <td>excellent</td>\n",
       "      <td>NaN</td>\n",
       "      <td>gas</td>\n",
       "      <td>NaN</td>\n",
       "      <td>automatic</td>\n",
       "      <td>SUV</td>\n",
       "      <td>white</td>\n",
       "      <td>NaN</td>\n",
       "      <td>2019-03-17</td>\n",
       "      <td>NaN</td>\n",
       "    </tr>\n",
       "    <tr>\n",
       "      <td>freq</td>\n",
       "      <td>NaN</td>\n",
       "      <td>NaN</td>\n",
       "      <td>2796</td>\n",
       "      <td>24773</td>\n",
       "      <td>NaN</td>\n",
       "      <td>47288</td>\n",
       "      <td>NaN</td>\n",
       "      <td>46902</td>\n",
       "      <td>12405</td>\n",
       "      <td>10029</td>\n",
       "      <td>NaN</td>\n",
       "      <td>186</td>\n",
       "      <td>NaN</td>\n",
       "    </tr>\n",
       "    <tr>\n",
       "      <td>mean</td>\n",
       "      <td>12132.464920</td>\n",
       "      <td>2009.750470</td>\n",
       "      <td>NaN</td>\n",
       "      <td>NaN</td>\n",
       "      <td>6.125235</td>\n",
       "      <td>NaN</td>\n",
       "      <td>115553.461738</td>\n",
       "      <td>NaN</td>\n",
       "      <td>NaN</td>\n",
       "      <td>NaN</td>\n",
       "      <td>1.0</td>\n",
       "      <td>NaN</td>\n",
       "      <td>39.55476</td>\n",
       "    </tr>\n",
       "    <tr>\n",
       "      <td>std</td>\n",
       "      <td>10040.803015</td>\n",
       "      <td>6.282065</td>\n",
       "      <td>NaN</td>\n",
       "      <td>NaN</td>\n",
       "      <td>1.660360</td>\n",
       "      <td>NaN</td>\n",
       "      <td>65094.611341</td>\n",
       "      <td>NaN</td>\n",
       "      <td>NaN</td>\n",
       "      <td>NaN</td>\n",
       "      <td>0.0</td>\n",
       "      <td>NaN</td>\n",
       "      <td>28.20427</td>\n",
       "    </tr>\n",
       "    <tr>\n",
       "      <td>min</td>\n",
       "      <td>1.000000</td>\n",
       "      <td>1908.000000</td>\n",
       "      <td>NaN</td>\n",
       "      <td>NaN</td>\n",
       "      <td>3.000000</td>\n",
       "      <td>NaN</td>\n",
       "      <td>0.000000</td>\n",
       "      <td>NaN</td>\n",
       "      <td>NaN</td>\n",
       "      <td>NaN</td>\n",
       "      <td>1.0</td>\n",
       "      <td>NaN</td>\n",
       "      <td>0.00000</td>\n",
       "    </tr>\n",
       "    <tr>\n",
       "      <td>25%</td>\n",
       "      <td>5000.000000</td>\n",
       "      <td>2006.000000</td>\n",
       "      <td>NaN</td>\n",
       "      <td>NaN</td>\n",
       "      <td>4.000000</td>\n",
       "      <td>NaN</td>\n",
       "      <td>70000.000000</td>\n",
       "      <td>NaN</td>\n",
       "      <td>NaN</td>\n",
       "      <td>NaN</td>\n",
       "      <td>1.0</td>\n",
       "      <td>NaN</td>\n",
       "      <td>19.00000</td>\n",
       "    </tr>\n",
       "    <tr>\n",
       "      <td>50%</td>\n",
       "      <td>9000.000000</td>\n",
       "      <td>2011.000000</td>\n",
       "      <td>NaN</td>\n",
       "      <td>NaN</td>\n",
       "      <td>6.000000</td>\n",
       "      <td>NaN</td>\n",
       "      <td>113000.000000</td>\n",
       "      <td>NaN</td>\n",
       "      <td>NaN</td>\n",
       "      <td>NaN</td>\n",
       "      <td>1.0</td>\n",
       "      <td>NaN</td>\n",
       "      <td>33.00000</td>\n",
       "    </tr>\n",
       "    <tr>\n",
       "      <td>75%</td>\n",
       "      <td>16839.000000</td>\n",
       "      <td>2014.000000</td>\n",
       "      <td>NaN</td>\n",
       "      <td>NaN</td>\n",
       "      <td>8.000000</td>\n",
       "      <td>NaN</td>\n",
       "      <td>155000.000000</td>\n",
       "      <td>NaN</td>\n",
       "      <td>NaN</td>\n",
       "      <td>NaN</td>\n",
       "      <td>1.0</td>\n",
       "      <td>NaN</td>\n",
       "      <td>53.00000</td>\n",
       "    </tr>\n",
       "    <tr>\n",
       "      <td>max</td>\n",
       "      <td>375000.000000</td>\n",
       "      <td>2019.000000</td>\n",
       "      <td>NaN</td>\n",
       "      <td>NaN</td>\n",
       "      <td>12.000000</td>\n",
       "      <td>NaN</td>\n",
       "      <td>990000.000000</td>\n",
       "      <td>NaN</td>\n",
       "      <td>NaN</td>\n",
       "      <td>NaN</td>\n",
       "      <td>1.0</td>\n",
       "      <td>NaN</td>\n",
       "      <td>271.00000</td>\n",
       "    </tr>\n",
       "  </tbody>\n",
       "</table>\n",
       "</div>"
      ],
      "text/plain": [
       "                price    model_year       model  condition     cylinders  \\\n",
       "count    51525.000000  47906.000000       51525      51525  46265.000000   \n",
       "unique            NaN           NaN         100          6           NaN   \n",
       "top               NaN           NaN  ford f-150  excellent           NaN   \n",
       "freq              NaN           NaN        2796      24773           NaN   \n",
       "mean     12132.464920   2009.750470         NaN        NaN      6.125235   \n",
       "std      10040.803015      6.282065         NaN        NaN      1.660360   \n",
       "min          1.000000   1908.000000         NaN        NaN      3.000000   \n",
       "25%       5000.000000   2006.000000         NaN        NaN      4.000000   \n",
       "50%       9000.000000   2011.000000         NaN        NaN      6.000000   \n",
       "75%      16839.000000   2014.000000         NaN        NaN      8.000000   \n",
       "max     375000.000000   2019.000000         NaN        NaN     12.000000   \n",
       "\n",
       "         fuel       odometer transmission   type paint_color   is_4wd  \\\n",
       "count   51525   43633.000000        51525  51525       42258  25572.0   \n",
       "unique      5            NaN            3     13          12      NaN   \n",
       "top       gas            NaN    automatic    SUV       white      NaN   \n",
       "freq    47288            NaN        46902  12405       10029      NaN   \n",
       "mean      NaN  115553.461738          NaN    NaN         NaN      1.0   \n",
       "std       NaN   65094.611341          NaN    NaN         NaN      0.0   \n",
       "min       NaN       0.000000          NaN    NaN         NaN      1.0   \n",
       "25%       NaN   70000.000000          NaN    NaN         NaN      1.0   \n",
       "50%       NaN  113000.000000          NaN    NaN         NaN      1.0   \n",
       "75%       NaN  155000.000000          NaN    NaN         NaN      1.0   \n",
       "max       NaN  990000.000000          NaN    NaN         NaN      1.0   \n",
       "\n",
       "       date_posted  days_listed  \n",
       "count        51525  51525.00000  \n",
       "unique         354          NaN  \n",
       "top     2019-03-17          NaN  \n",
       "freq           186          NaN  \n",
       "mean           NaN     39.55476  \n",
       "std            NaN     28.20427  \n",
       "min            NaN      0.00000  \n",
       "25%            NaN     19.00000  \n",
       "50%            NaN     33.00000  \n",
       "75%            NaN     53.00000  \n",
       "max            NaN    271.00000  "
      ]
     },
     "execution_count": 91,
     "metadata": {},
     "output_type": "execute_result"
    }
   ],
   "source": [
    "# Print the general/summary information about the dataframe\n",
    "vehicles_us.info()\n",
    "vehicles_us.describe(include = 'all')\n"
   ]
  },
  {
   "cell_type": "code",
   "execution_count": 92,
   "metadata": {},
   "outputs": [
    {
     "name": "stdout",
     "output_type": "stream",
     "text": [
      "    price  model_year                     model  condition  cylinders fuel  \\\n",
      "0    9400      2011.0                    bmw x5       good        6.0  gas   \n",
      "1   25500         NaN                ford f-150       good        6.0  gas   \n",
      "2    5500      2013.0            hyundai sonata   like new        4.0  gas   \n",
      "3    1500      2003.0                ford f-150       fair        8.0  gas   \n",
      "4   14900      2017.0              chrysler 200  excellent        4.0  gas   \n",
      "5   14990      2014.0              chrysler 300  excellent        6.0  gas   \n",
      "6   12990      2015.0              toyota camry  excellent        4.0  gas   \n",
      "7   15990      2013.0               honda pilot  excellent        6.0  gas   \n",
      "8   11500      2012.0               kia sorento  excellent        4.0  gas   \n",
      "9    9200      2008.0               honda pilot  excellent        NaN  gas   \n",
      "10  19500      2011.0  chevrolet silverado 1500  excellent        8.0  gas   \n",
      "11   8990      2012.0              honda accord  excellent        4.0  gas   \n",
      "12  18990      2012.0                  ram 1500  excellent        8.0  gas   \n",
      "13  16500      2018.0            hyundai sonata  excellent        4.0  gas   \n",
      "14  12990      2009.0                 gmc yukon  excellent        8.0  gas   \n",
      "15  17990      2013.0                  ram 1500  excellent        8.0  gas   \n",
      "16  14990      2010.0                  ram 1500  excellent        8.0  gas   \n",
      "17  13990      2014.0             jeep cherokee  excellent        6.0  gas   \n",
      "18  12500      2013.0        chevrolet traverse  excellent        6.0  gas   \n",
      "19  13990      2018.0           hyundai elantra  excellent        4.0  gas   \n",
      "\n",
      "    odometer transmission    type paint_color  is_4wd date_posted  days_listed  \n",
      "0   145000.0    automatic     SUV         NaN     1.0  2018-06-23           19  \n",
      "1    88705.0    automatic  pickup       white     1.0  2018-10-19           50  \n",
      "2   110000.0    automatic   sedan         red     NaN  2019-02-07           79  \n",
      "3        NaN    automatic  pickup         NaN     NaN  2019-03-22            9  \n",
      "4    80903.0    automatic   sedan       black     NaN  2019-04-02           28  \n",
      "5    57954.0    automatic   sedan       black     1.0  2018-06-20           15  \n",
      "6    79212.0    automatic   sedan       white     NaN  2018-12-27           73  \n",
      "7   109473.0    automatic     SUV       black     1.0  2019-01-07           68  \n",
      "8   104174.0    automatic     SUV         NaN     1.0  2018-07-16           19  \n",
      "9   147191.0    automatic     SUV        blue     1.0  2019-02-15           17  \n",
      "10  128413.0    automatic  pickup       black     1.0  2018-09-17           38  \n",
      "11  111142.0    automatic   sedan        grey     NaN  2019-03-28           29  \n",
      "12  140742.0    automatic  pickup         NaN     1.0  2019-04-02           37  \n",
      "13   22104.0    automatic   sedan      silver     NaN  2019-01-14           29  \n",
      "14  132285.0    automatic     SUV       black     1.0  2019-01-31           24  \n",
      "15       NaN    automatic  pickup         red     1.0  2018-05-15          111  \n",
      "16  130725.0    automatic  pickup         red     1.0  2018-12-30           13  \n",
      "17  100669.0    automatic     SUV         red     1.0  2018-08-16           25  \n",
      "18  128325.0    automatic     SUV       white     1.0  2019-04-09           13  \n",
      "19   31932.0    automatic   sedan         red     NaN  2018-08-25           27  \n"
     ]
    }
   ],
   "source": [
    "# Print a sample of data\n",
    "print(vehicles_us.head(20))\n"
   ]
  },
  {
   "cell_type": "markdown",
   "metadata": {},
   "source": [
    "In the dataset vehicles_us, there are **51525 rows and 13 columns.**\n",
    "\n",
    "Based on the general information and printed data sample above, the following are potential issues that may warrant further investigation and change:\n",
    "\n",
    "**1) Missing values:**\n",
    "The 'model_year', 'cylinders', 'odometer', 'paint_color', and 'is_4wd' columns contain missing values.\n",
    "\n",
    "**2) Incorrect data types:**\n",
    "The 'model_year', 'cylinders', 'odometer', and 'is_4wd' columns are float values though they should be integer values for greater efficiency. The 'date_posted' column is also inputted as string values though they should be datetime values.\n",
    "\n",
    "**3) Problematic values:**\n",
    "The spread of values in the 'odometer' column are quite large, ranging from 0 to 990,000. Although such extreme values may technically be plausible, they should be examined closely to ensure that they should be included in the final analysis and not dropped."
   ]
  },
  {
   "cell_type": "markdown",
   "metadata": {},
   "source": [
    "### Conclusions and further steps\n",
    "\n",
    "Due to the issues noted above--missing values, incorrect data types, and problematic values--the following will be the plan of action to ensure that the data is made suitable for the required analysis:\n",
    "\n",
    "1) Missing values will be examined and addressed as deemed necessary. If a variable is determined to be a characteristic that may be accurately extrapolated from the available set of non-missing data, it will be filled.\n",
    "\n",
    "2) The columns containing inappropriate float values will be changed to integer types and the data in the 'date_posted' column will be changed from string to datetime values.\n",
    "\n",
    "3) A boxplot will be used to visualize the data in the 'odometer' column and the potential outliers will be determined and removed as deemed necessary."
   ]
  },
  {
   "cell_type": "markdown",
   "metadata": {},
   "source": [
    "## Treat missing values"
   ]
  },
  {
   "cell_type": "code",
   "execution_count": 93,
   "metadata": {},
   "outputs": [
    {
     "data": {
      "text/plain": [
       "price               0\n",
       "model_year       3619\n",
       "model               0\n",
       "condition           0\n",
       "cylinders        5260\n",
       "fuel                0\n",
       "odometer         7892\n",
       "transmission        0\n",
       "type                0\n",
       "paint_color      9267\n",
       "is_4wd          25953\n",
       "date_posted         0\n",
       "days_listed         0\n",
       "dtype: int64"
      ]
     },
     "execution_count": 93,
     "metadata": {},
     "output_type": "execute_result"
    }
   ],
   "source": [
    "# Print the number of missing values found in each column\n",
    "vehicles_us.isna().sum()"
   ]
  },
  {
   "cell_type": "code",
   "execution_count": 94,
   "metadata": {},
   "outputs": [
    {
     "data": {
      "text/html": [
       "<div>\n",
       "<style scoped>\n",
       "    .dataframe tbody tr th:only-of-type {\n",
       "        vertical-align: middle;\n",
       "    }\n",
       "\n",
       "    .dataframe tbody tr th {\n",
       "        vertical-align: top;\n",
       "    }\n",
       "\n",
       "    .dataframe thead th {\n",
       "        text-align: right;\n",
       "    }\n",
       "</style>\n",
       "<table border=\"1\" class=\"dataframe\">\n",
       "  <thead>\n",
       "    <tr style=\"text-align: right;\">\n",
       "      <th></th>\n",
       "      <th>price</th>\n",
       "      <th>model_year</th>\n",
       "      <th>cylinders</th>\n",
       "      <th>odometer</th>\n",
       "      <th>is_4wd</th>\n",
       "      <th>days_listed</th>\n",
       "    </tr>\n",
       "  </thead>\n",
       "  <tbody>\n",
       "    <tr>\n",
       "      <td>price</td>\n",
       "      <td>1.000000</td>\n",
       "      <td>0.428656</td>\n",
       "      <td>0.296627</td>\n",
       "      <td>-0.420299</td>\n",
       "      <td>NaN</td>\n",
       "      <td>-0.000682</td>\n",
       "    </tr>\n",
       "    <tr>\n",
       "      <td>model_year</td>\n",
       "      <td>0.428656</td>\n",
       "      <td>1.000000</td>\n",
       "      <td>-0.148040</td>\n",
       "      <td>-0.473948</td>\n",
       "      <td>NaN</td>\n",
       "      <td>-0.005703</td>\n",
       "    </tr>\n",
       "    <tr>\n",
       "      <td>cylinders</td>\n",
       "      <td>0.296627</td>\n",
       "      <td>-0.148040</td>\n",
       "      <td>1.000000</td>\n",
       "      <td>0.090160</td>\n",
       "      <td>NaN</td>\n",
       "      <td>0.005517</td>\n",
       "    </tr>\n",
       "    <tr>\n",
       "      <td>odometer</td>\n",
       "      <td>-0.420299</td>\n",
       "      <td>-0.473948</td>\n",
       "      <td>0.090160</td>\n",
       "      <td>1.000000</td>\n",
       "      <td>NaN</td>\n",
       "      <td>0.003804</td>\n",
       "    </tr>\n",
       "    <tr>\n",
       "      <td>is_4wd</td>\n",
       "      <td>NaN</td>\n",
       "      <td>NaN</td>\n",
       "      <td>NaN</td>\n",
       "      <td>NaN</td>\n",
       "      <td>NaN</td>\n",
       "      <td>NaN</td>\n",
       "    </tr>\n",
       "    <tr>\n",
       "      <td>days_listed</td>\n",
       "      <td>-0.000682</td>\n",
       "      <td>-0.005703</td>\n",
       "      <td>0.005517</td>\n",
       "      <td>0.003804</td>\n",
       "      <td>NaN</td>\n",
       "      <td>1.000000</td>\n",
       "    </tr>\n",
       "  </tbody>\n",
       "</table>\n",
       "</div>"
      ],
      "text/plain": [
       "                price  model_year  cylinders  odometer  is_4wd  days_listed\n",
       "price        1.000000    0.428656   0.296627 -0.420299     NaN    -0.000682\n",
       "model_year   0.428656    1.000000  -0.148040 -0.473948     NaN    -0.005703\n",
       "cylinders    0.296627   -0.148040   1.000000  0.090160     NaN     0.005517\n",
       "odometer    -0.420299   -0.473948   0.090160  1.000000     NaN     0.003804\n",
       "is_4wd            NaN         NaN        NaN       NaN     NaN          NaN\n",
       "days_listed -0.000682   -0.005703   0.005517  0.003804     NaN     1.000000"
      ]
     },
     "execution_count": 94,
     "metadata": {},
     "output_type": "execute_result"
    }
   ],
   "source": [
    "# Calculate the Pearson correlation coefficient for every pair of numeric columns\n",
    "vehicles_us.corr()\n"
   ]
  },
  {
   "cell_type": "markdown",
   "metadata": {},
   "source": [
    "Though there are 5 columns that contain missing data in the dataset, only the 'cylinders' and 'is_4wd' columns seem appropriate to fill. The reason being that the values in the 'cylinders' are relatively standardized based on the type of vehicle and the missing values in the 'is_4wd' column are simply vehicles that are not 4 wheel drive which means they can be filled in with a value of 0. Due to the highly variable and subjective nature of the 'model_year', 'odometer', and 'paint_color' columns, as well as the low level of correlation that is indicated for the numeric columns based on the Pearson correlation coefficients above, it does not seem appropriate to extrapolate values to fill in the missing values. Therefore, they will not be filled in or dropped in order to preserve as much of the data as possible for the remainder of the analysis."
   ]
  },
  {
   "cell_type": "code",
   "execution_count": 95,
   "metadata": {},
   "outputs": [],
   "source": [
    "# Fill in the missing values in the'is_4wd' to '0'\n",
    "vehicles_us['is_4wd'].fillna(0, inplace = True)\n"
   ]
  },
  {
   "cell_type": "code",
   "execution_count": 96,
   "metadata": {},
   "outputs": [
    {
     "data": {
      "text/plain": [
       "price              0\n",
       "model_year      3619\n",
       "model              0\n",
       "condition          0\n",
       "cylinders       5260\n",
       "fuel               0\n",
       "odometer        7892\n",
       "transmission       0\n",
       "type               0\n",
       "paint_color     9267\n",
       "is_4wd             0\n",
       "date_posted        0\n",
       "days_listed        0\n",
       "dtype: int64"
      ]
     },
     "execution_count": 96,
     "metadata": {},
     "output_type": "execute_result"
    }
   ],
   "source": [
    "# Check to make sure the 'is_4wd' column was successfully filled in\n",
    "vehicles_us.isna().sum()\n"
   ]
  },
  {
   "cell_type": "markdown",
   "metadata": {},
   "source": [
    "The fill_na() method was utilized to fill the missing values in the 'is_4wd' column in with a value of 0. The isna() method was used to confirm that the missing values were appropriately filled."
   ]
  },
  {
   "cell_type": "code",
   "execution_count": 97,
   "metadata": {},
   "outputs": [
    {
     "name": "stdout",
     "output_type": "stream",
     "text": [
      "type\n",
      "SUV             6.0\n",
      "bus            10.0\n",
      "convertible     8.0\n",
      "coupe           6.0\n",
      "hatchback       4.0\n",
      "mini-van        6.0\n",
      "offroad         6.0\n",
      "other           6.0\n",
      "pickup          8.0\n",
      "sedan           4.0\n",
      "truck           8.0\n",
      "van             6.0\n",
      "wagon           4.0\n",
      "Name: cylinders, dtype: float64\n"
     ]
    }
   ],
   "source": [
    "# Look at the median values for 'cylinders' based on the 'type' column\n",
    "cylinders_by_type = vehicles_us.groupby(['type'])['cylinders'].median()\n",
    "print(cylinders_by_type)\n"
   ]
  },
  {
   "cell_type": "markdown",
   "metadata": {},
   "source": [
    "The median values of the 'cylinders' column by the 'type' column were generated and showed reasonable estimations for the number of cylinders that can be used to fill the missing data in the column."
   ]
  },
  {
   "cell_type": "code",
   "execution_count": 98,
   "metadata": {},
   "outputs": [],
   "source": [
    "# Create a new column containing a list of string values from the 'type' and 'cylinders' column for each row to be used in the following 'fill_cylinders' function\n",
    "vehicles_us['filler'] = vehicles_us[['type', 'cylinders']].values.tolist()\n"
   ]
  },
  {
   "cell_type": "code",
   "execution_count": 99,
   "metadata": {},
   "outputs": [],
   "source": [
    "# Write a function that we will use for filling in missing values in the 'cylinders' column\n",
    "def fill_cylinders(filler):\n",
    "    if pd.isna(filler[1]):\n",
    "        return vehicles_us[(vehicles_us['type'] == filler[0])]['cylinders'].median()\n",
    "    else:\n",
    "        return filler[1]\n",
    "    "
   ]
  },
  {
   "cell_type": "markdown",
   "metadata": {},
   "source": [
    "A new column called 'filler' was created in 'vehicles_us' that contains a list of string values from the 'type' and 'cylinders' columns which are needed as inputs for the function 'fill_cylinders' which is designed to fill in missing values in the 'cylinders' column."
   ]
  },
  {
   "cell_type": "code",
   "execution_count": 100,
   "metadata": {},
   "outputs": [
    {
     "data": {
      "text/plain": [
       "6.0"
      ]
     },
     "execution_count": 100,
     "metadata": {},
     "output_type": "execute_result"
    }
   ],
   "source": [
    "# Check if the function works based on the results of the grouping above\n",
    "fill_cylinders(['SUV', float('NaN')])\n"
   ]
  },
  {
   "cell_type": "code",
   "execution_count": 101,
   "metadata": {},
   "outputs": [
    {
     "data": {
      "text/plain": [
       "10"
      ]
     },
     "execution_count": 101,
     "metadata": {},
     "output_type": "execute_result"
    }
   ],
   "source": [
    "# Check if the function works in the case that it encounters a non-missing value in the 'cylinders' column\n",
    "fill_cylinders(['SUV', 10])\n"
   ]
  },
  {
   "cell_type": "markdown",
   "metadata": {},
   "source": [
    "The function was tested with sample inputs and returned accurate results."
   ]
  },
  {
   "cell_type": "code",
   "execution_count": 102,
   "metadata": {},
   "outputs": [
    {
     "data": {
      "text/html": [
       "<div>\n",
       "<style scoped>\n",
       "    .dataframe tbody tr th:only-of-type {\n",
       "        vertical-align: middle;\n",
       "    }\n",
       "\n",
       "    .dataframe tbody tr th {\n",
       "        vertical-align: top;\n",
       "    }\n",
       "\n",
       "    .dataframe thead th {\n",
       "        text-align: right;\n",
       "    }\n",
       "</style>\n",
       "<table border=\"1\" class=\"dataframe\">\n",
       "  <thead>\n",
       "    <tr style=\"text-align: right;\">\n",
       "      <th></th>\n",
       "      <th>price</th>\n",
       "      <th>model_year</th>\n",
       "      <th>model</th>\n",
       "      <th>condition</th>\n",
       "      <th>cylinders</th>\n",
       "      <th>fuel</th>\n",
       "      <th>odometer</th>\n",
       "      <th>transmission</th>\n",
       "      <th>type</th>\n",
       "      <th>paint_color</th>\n",
       "      <th>is_4wd</th>\n",
       "      <th>date_posted</th>\n",
       "      <th>days_listed</th>\n",
       "      <th>filler</th>\n",
       "    </tr>\n",
       "  </thead>\n",
       "  <tbody>\n",
       "    <tr>\n",
       "      <td>0</td>\n",
       "      <td>9400</td>\n",
       "      <td>2011.0</td>\n",
       "      <td>bmw x5</td>\n",
       "      <td>good</td>\n",
       "      <td>6.0</td>\n",
       "      <td>gas</td>\n",
       "      <td>145000.0</td>\n",
       "      <td>automatic</td>\n",
       "      <td>SUV</td>\n",
       "      <td>NaN</td>\n",
       "      <td>1.0</td>\n",
       "      <td>2018-06-23</td>\n",
       "      <td>19</td>\n",
       "      <td>[SUV, 6.0]</td>\n",
       "    </tr>\n",
       "    <tr>\n",
       "      <td>1</td>\n",
       "      <td>25500</td>\n",
       "      <td>NaN</td>\n",
       "      <td>ford f-150</td>\n",
       "      <td>good</td>\n",
       "      <td>6.0</td>\n",
       "      <td>gas</td>\n",
       "      <td>88705.0</td>\n",
       "      <td>automatic</td>\n",
       "      <td>pickup</td>\n",
       "      <td>white</td>\n",
       "      <td>1.0</td>\n",
       "      <td>2018-10-19</td>\n",
       "      <td>50</td>\n",
       "      <td>[pickup, 6.0]</td>\n",
       "    </tr>\n",
       "    <tr>\n",
       "      <td>2</td>\n",
       "      <td>5500</td>\n",
       "      <td>2013.0</td>\n",
       "      <td>hyundai sonata</td>\n",
       "      <td>like new</td>\n",
       "      <td>4.0</td>\n",
       "      <td>gas</td>\n",
       "      <td>110000.0</td>\n",
       "      <td>automatic</td>\n",
       "      <td>sedan</td>\n",
       "      <td>red</td>\n",
       "      <td>0.0</td>\n",
       "      <td>2019-02-07</td>\n",
       "      <td>79</td>\n",
       "      <td>[sedan, 4.0]</td>\n",
       "    </tr>\n",
       "    <tr>\n",
       "      <td>3</td>\n",
       "      <td>1500</td>\n",
       "      <td>2003.0</td>\n",
       "      <td>ford f-150</td>\n",
       "      <td>fair</td>\n",
       "      <td>8.0</td>\n",
       "      <td>gas</td>\n",
       "      <td>NaN</td>\n",
       "      <td>automatic</td>\n",
       "      <td>pickup</td>\n",
       "      <td>NaN</td>\n",
       "      <td>0.0</td>\n",
       "      <td>2019-03-22</td>\n",
       "      <td>9</td>\n",
       "      <td>[pickup, 8.0]</td>\n",
       "    </tr>\n",
       "    <tr>\n",
       "      <td>4</td>\n",
       "      <td>14900</td>\n",
       "      <td>2017.0</td>\n",
       "      <td>chrysler 200</td>\n",
       "      <td>excellent</td>\n",
       "      <td>4.0</td>\n",
       "      <td>gas</td>\n",
       "      <td>80903.0</td>\n",
       "      <td>automatic</td>\n",
       "      <td>sedan</td>\n",
       "      <td>black</td>\n",
       "      <td>0.0</td>\n",
       "      <td>2019-04-02</td>\n",
       "      <td>28</td>\n",
       "      <td>[sedan, 4.0]</td>\n",
       "    </tr>\n",
       "    <tr>\n",
       "      <td>5</td>\n",
       "      <td>14990</td>\n",
       "      <td>2014.0</td>\n",
       "      <td>chrysler 300</td>\n",
       "      <td>excellent</td>\n",
       "      <td>6.0</td>\n",
       "      <td>gas</td>\n",
       "      <td>57954.0</td>\n",
       "      <td>automatic</td>\n",
       "      <td>sedan</td>\n",
       "      <td>black</td>\n",
       "      <td>1.0</td>\n",
       "      <td>2018-06-20</td>\n",
       "      <td>15</td>\n",
       "      <td>[sedan, 6.0]</td>\n",
       "    </tr>\n",
       "    <tr>\n",
       "      <td>6</td>\n",
       "      <td>12990</td>\n",
       "      <td>2015.0</td>\n",
       "      <td>toyota camry</td>\n",
       "      <td>excellent</td>\n",
       "      <td>4.0</td>\n",
       "      <td>gas</td>\n",
       "      <td>79212.0</td>\n",
       "      <td>automatic</td>\n",
       "      <td>sedan</td>\n",
       "      <td>white</td>\n",
       "      <td>0.0</td>\n",
       "      <td>2018-12-27</td>\n",
       "      <td>73</td>\n",
       "      <td>[sedan, 4.0]</td>\n",
       "    </tr>\n",
       "    <tr>\n",
       "      <td>7</td>\n",
       "      <td>15990</td>\n",
       "      <td>2013.0</td>\n",
       "      <td>honda pilot</td>\n",
       "      <td>excellent</td>\n",
       "      <td>6.0</td>\n",
       "      <td>gas</td>\n",
       "      <td>109473.0</td>\n",
       "      <td>automatic</td>\n",
       "      <td>SUV</td>\n",
       "      <td>black</td>\n",
       "      <td>1.0</td>\n",
       "      <td>2019-01-07</td>\n",
       "      <td>68</td>\n",
       "      <td>[SUV, 6.0]</td>\n",
       "    </tr>\n",
       "    <tr>\n",
       "      <td>8</td>\n",
       "      <td>11500</td>\n",
       "      <td>2012.0</td>\n",
       "      <td>kia sorento</td>\n",
       "      <td>excellent</td>\n",
       "      <td>4.0</td>\n",
       "      <td>gas</td>\n",
       "      <td>104174.0</td>\n",
       "      <td>automatic</td>\n",
       "      <td>SUV</td>\n",
       "      <td>NaN</td>\n",
       "      <td>1.0</td>\n",
       "      <td>2018-07-16</td>\n",
       "      <td>19</td>\n",
       "      <td>[SUV, 4.0]</td>\n",
       "    </tr>\n",
       "    <tr>\n",
       "      <td>9</td>\n",
       "      <td>9200</td>\n",
       "      <td>2008.0</td>\n",
       "      <td>honda pilot</td>\n",
       "      <td>excellent</td>\n",
       "      <td>6.0</td>\n",
       "      <td>gas</td>\n",
       "      <td>147191.0</td>\n",
       "      <td>automatic</td>\n",
       "      <td>SUV</td>\n",
       "      <td>blue</td>\n",
       "      <td>1.0</td>\n",
       "      <td>2019-02-15</td>\n",
       "      <td>17</td>\n",
       "      <td>[SUV, nan]</td>\n",
       "    </tr>\n",
       "    <tr>\n",
       "      <td>10</td>\n",
       "      <td>19500</td>\n",
       "      <td>2011.0</td>\n",
       "      <td>chevrolet silverado 1500</td>\n",
       "      <td>excellent</td>\n",
       "      <td>8.0</td>\n",
       "      <td>gas</td>\n",
       "      <td>128413.0</td>\n",
       "      <td>automatic</td>\n",
       "      <td>pickup</td>\n",
       "      <td>black</td>\n",
       "      <td>1.0</td>\n",
       "      <td>2018-09-17</td>\n",
       "      <td>38</td>\n",
       "      <td>[pickup, 8.0]</td>\n",
       "    </tr>\n",
       "    <tr>\n",
       "      <td>11</td>\n",
       "      <td>8990</td>\n",
       "      <td>2012.0</td>\n",
       "      <td>honda accord</td>\n",
       "      <td>excellent</td>\n",
       "      <td>4.0</td>\n",
       "      <td>gas</td>\n",
       "      <td>111142.0</td>\n",
       "      <td>automatic</td>\n",
       "      <td>sedan</td>\n",
       "      <td>grey</td>\n",
       "      <td>0.0</td>\n",
       "      <td>2019-03-28</td>\n",
       "      <td>29</td>\n",
       "      <td>[sedan, 4.0]</td>\n",
       "    </tr>\n",
       "    <tr>\n",
       "      <td>12</td>\n",
       "      <td>18990</td>\n",
       "      <td>2012.0</td>\n",
       "      <td>ram 1500</td>\n",
       "      <td>excellent</td>\n",
       "      <td>8.0</td>\n",
       "      <td>gas</td>\n",
       "      <td>140742.0</td>\n",
       "      <td>automatic</td>\n",
       "      <td>pickup</td>\n",
       "      <td>NaN</td>\n",
       "      <td>1.0</td>\n",
       "      <td>2019-04-02</td>\n",
       "      <td>37</td>\n",
       "      <td>[pickup, 8.0]</td>\n",
       "    </tr>\n",
       "    <tr>\n",
       "      <td>13</td>\n",
       "      <td>16500</td>\n",
       "      <td>2018.0</td>\n",
       "      <td>hyundai sonata</td>\n",
       "      <td>excellent</td>\n",
       "      <td>4.0</td>\n",
       "      <td>gas</td>\n",
       "      <td>22104.0</td>\n",
       "      <td>automatic</td>\n",
       "      <td>sedan</td>\n",
       "      <td>silver</td>\n",
       "      <td>0.0</td>\n",
       "      <td>2019-01-14</td>\n",
       "      <td>29</td>\n",
       "      <td>[sedan, 4.0]</td>\n",
       "    </tr>\n",
       "    <tr>\n",
       "      <td>14</td>\n",
       "      <td>12990</td>\n",
       "      <td>2009.0</td>\n",
       "      <td>gmc yukon</td>\n",
       "      <td>excellent</td>\n",
       "      <td>8.0</td>\n",
       "      <td>gas</td>\n",
       "      <td>132285.0</td>\n",
       "      <td>automatic</td>\n",
       "      <td>SUV</td>\n",
       "      <td>black</td>\n",
       "      <td>1.0</td>\n",
       "      <td>2019-01-31</td>\n",
       "      <td>24</td>\n",
       "      <td>[SUV, 8.0]</td>\n",
       "    </tr>\n",
       "  </tbody>\n",
       "</table>\n",
       "</div>"
      ],
      "text/plain": [
       "    price  model_year                     model  condition  cylinders fuel  \\\n",
       "0    9400      2011.0                    bmw x5       good        6.0  gas   \n",
       "1   25500         NaN                ford f-150       good        6.0  gas   \n",
       "2    5500      2013.0            hyundai sonata   like new        4.0  gas   \n",
       "3    1500      2003.0                ford f-150       fair        8.0  gas   \n",
       "4   14900      2017.0              chrysler 200  excellent        4.0  gas   \n",
       "5   14990      2014.0              chrysler 300  excellent        6.0  gas   \n",
       "6   12990      2015.0              toyota camry  excellent        4.0  gas   \n",
       "7   15990      2013.0               honda pilot  excellent        6.0  gas   \n",
       "8   11500      2012.0               kia sorento  excellent        4.0  gas   \n",
       "9    9200      2008.0               honda pilot  excellent        6.0  gas   \n",
       "10  19500      2011.0  chevrolet silverado 1500  excellent        8.0  gas   \n",
       "11   8990      2012.0              honda accord  excellent        4.0  gas   \n",
       "12  18990      2012.0                  ram 1500  excellent        8.0  gas   \n",
       "13  16500      2018.0            hyundai sonata  excellent        4.0  gas   \n",
       "14  12990      2009.0                 gmc yukon  excellent        8.0  gas   \n",
       "\n",
       "    odometer transmission    type paint_color  is_4wd date_posted  \\\n",
       "0   145000.0    automatic     SUV         NaN     1.0  2018-06-23   \n",
       "1    88705.0    automatic  pickup       white     1.0  2018-10-19   \n",
       "2   110000.0    automatic   sedan         red     0.0  2019-02-07   \n",
       "3        NaN    automatic  pickup         NaN     0.0  2019-03-22   \n",
       "4    80903.0    automatic   sedan       black     0.0  2019-04-02   \n",
       "5    57954.0    automatic   sedan       black     1.0  2018-06-20   \n",
       "6    79212.0    automatic   sedan       white     0.0  2018-12-27   \n",
       "7   109473.0    automatic     SUV       black     1.0  2019-01-07   \n",
       "8   104174.0    automatic     SUV         NaN     1.0  2018-07-16   \n",
       "9   147191.0    automatic     SUV        blue     1.0  2019-02-15   \n",
       "10  128413.0    automatic  pickup       black     1.0  2018-09-17   \n",
       "11  111142.0    automatic   sedan        grey     0.0  2019-03-28   \n",
       "12  140742.0    automatic  pickup         NaN     1.0  2019-04-02   \n",
       "13   22104.0    automatic   sedan      silver     0.0  2019-01-14   \n",
       "14  132285.0    automatic     SUV       black     1.0  2019-01-31   \n",
       "\n",
       "    days_listed         filler  \n",
       "0            19     [SUV, 6.0]  \n",
       "1            50  [pickup, 6.0]  \n",
       "2            79   [sedan, 4.0]  \n",
       "3             9  [pickup, 8.0]  \n",
       "4            28   [sedan, 4.0]  \n",
       "5            15   [sedan, 6.0]  \n",
       "6            73   [sedan, 4.0]  \n",
       "7            68     [SUV, 6.0]  \n",
       "8            19     [SUV, 4.0]  \n",
       "9            17     [SUV, nan]  \n",
       "10           38  [pickup, 8.0]  \n",
       "11           29   [sedan, 4.0]  \n",
       "12           37  [pickup, 8.0]  \n",
       "13           29   [sedan, 4.0]  \n",
       "14           24     [SUV, 8.0]  "
      ]
     },
     "execution_count": 102,
     "metadata": {},
     "output_type": "execute_result"
    }
   ],
   "source": [
    "# Apply the 'fill_cylinders' function to every row in 'cylinders' and print the first 15 rows\n",
    "vehicles_us['cylinders'] = vehicles_us['filler'].apply(fill_cylinders)\n",
    "vehicles_us.head(15)\n"
   ]
  },
  {
   "cell_type": "code",
   "execution_count": 103,
   "metadata": {},
   "outputs": [
    {
     "name": "stdout",
     "output_type": "stream",
     "text": [
      "<class 'pandas.core.frame.DataFrame'>\n",
      "RangeIndex: 51525 entries, 0 to 51524\n",
      "Data columns (total 14 columns):\n",
      "price           51525 non-null int64\n",
      "model_year      47906 non-null float64\n",
      "model           51525 non-null object\n",
      "condition       51525 non-null object\n",
      "cylinders       51525 non-null float64\n",
      "fuel            51525 non-null object\n",
      "odometer        43633 non-null float64\n",
      "transmission    51525 non-null object\n",
      "type            51525 non-null object\n",
      "paint_color     42258 non-null object\n",
      "is_4wd          51525 non-null float64\n",
      "date_posted     51525 non-null object\n",
      "days_listed     51525 non-null int64\n",
      "filler          51525 non-null object\n",
      "dtypes: float64(4), int64(2), object(8)\n",
      "memory usage: 5.5+ MB\n"
     ]
    }
   ],
   "source": [
    "# Make sure that the 'cylinders' column was appropriately filled in and no longer contains missing values\n",
    "vehicles_us.info()\n"
   ]
  },
  {
   "cell_type": "markdown",
   "metadata": {},
   "source": [
    "The 'fill_cylinders' function was applied to the 'cylinders' column to fill in all the missing values with the median cylinder values by type. The summary of the dataset revealed that the application of the function was successful as there are no longer missing values in the 'cylinders' column."
   ]
  },
  {
   "cell_type": "markdown",
   "metadata": {},
   "source": [
    "## Fix data types"
   ]
  },
  {
   "cell_type": "markdown",
   "metadata": {},
   "source": [
    "With the missing values addressed, the float values in the 'model_year', 'cylinders', 'odometer', and 'is_4wd' columns will be changed to integer values and the string values in the 'date_posted' column will be changed to datetime values."
   ]
  },
  {
   "cell_type": "code",
   "execution_count": 104,
   "metadata": {},
   "outputs": [],
   "source": [
    "# Change the float type 'model_year' column to integer type\n",
    "vehicles_us['model_year'] = vehicles_us['model_year'].astype('Int64')\n"
   ]
  },
  {
   "cell_type": "code",
   "execution_count": 105,
   "metadata": {},
   "outputs": [
    {
     "name": "stdout",
     "output_type": "stream",
     "text": [
      "0        2011\n",
      "1         NaN\n",
      "2        2013\n",
      "3        2003\n",
      "4        2017\n",
      "         ... \n",
      "51520    2013\n",
      "51521    2002\n",
      "51522    2009\n",
      "51523    2013\n",
      "51524    2014\n",
      "Name: model_year, Length: 51525, dtype: Int64\n"
     ]
    }
   ],
   "source": [
    "# Check to ensure the change to integer type was successful\n",
    "print(vehicles_us['model_year'])\n"
   ]
  },
  {
   "cell_type": "code",
   "execution_count": 106,
   "metadata": {},
   "outputs": [],
   "source": [
    "# Change the float type 'cylinders' column to integer type\n",
    "vehicles_us['cylinders'] = vehicles_us['cylinders'].astype('Int64')\n"
   ]
  },
  {
   "cell_type": "code",
   "execution_count": 107,
   "metadata": {},
   "outputs": [
    {
     "name": "stdout",
     "output_type": "stream",
     "text": [
      "0        6\n",
      "1        6\n",
      "2        4\n",
      "3        8\n",
      "4        4\n",
      "        ..\n",
      "51520    6\n",
      "51521    4\n",
      "51522    4\n",
      "51523    4\n",
      "51524    4\n",
      "Name: cylinders, Length: 51525, dtype: Int64\n"
     ]
    }
   ],
   "source": [
    "# Check to ensure the change to integer type was successful\n",
    "print(vehicles_us['cylinders'])\n"
   ]
  },
  {
   "cell_type": "code",
   "execution_count": 108,
   "metadata": {},
   "outputs": [],
   "source": [
    "# Change the float type 'odometer' column to integer type\n",
    "vehicles_us['odometer'] = vehicles_us['odometer'].astype('Int64')\n"
   ]
  },
  {
   "cell_type": "code",
   "execution_count": 109,
   "metadata": {},
   "outputs": [
    {
     "name": "stdout",
     "output_type": "stream",
     "text": [
      "0        145000\n",
      "1         88705\n",
      "2        110000\n",
      "3           NaN\n",
      "4         80903\n",
      "          ...  \n",
      "51520     88136\n",
      "51521    181500\n",
      "51522    128000\n",
      "51523    139573\n",
      "51524       NaN\n",
      "Name: odometer, Length: 51525, dtype: Int64\n"
     ]
    }
   ],
   "source": [
    "# Check to ensure the change to integer type was successful\n",
    "print(vehicles_us['odometer'])\n"
   ]
  },
  {
   "cell_type": "code",
   "execution_count": 110,
   "metadata": {},
   "outputs": [],
   "source": [
    "# Change the float type 'is_4wd' column to integer type\n",
    "vehicles_us['is_4wd'] = vehicles_us['is_4wd'].astype('Int64')\n"
   ]
  },
  {
   "cell_type": "code",
   "execution_count": 111,
   "metadata": {},
   "outputs": [
    {
     "name": "stdout",
     "output_type": "stream",
     "text": [
      "0        1\n",
      "1        1\n",
      "2        0\n",
      "3        0\n",
      "4        0\n",
      "        ..\n",
      "51520    0\n",
      "51521    0\n",
      "51522    0\n",
      "51523    0\n",
      "51524    0\n",
      "Name: is_4wd, Length: 51525, dtype: Int64\n"
     ]
    }
   ],
   "source": [
    "# Check to ensure the change to integer type was successful\n",
    "print(vehicles_us['is_4wd'])\n"
   ]
  },
  {
   "cell_type": "markdown",
   "metadata": {},
   "source": [
    "The float values in the 'model_year', 'cylinders', 'odometer', and 'is_4wd' columns were successfully changed to integer values."
   ]
  },
  {
   "cell_type": "code",
   "execution_count": 112,
   "metadata": {},
   "outputs": [],
   "source": [
    "# Change the string type 'date_posted' column to datetime type\n",
    "vehicles_us['date_posted'] = pd.to_datetime(vehicles_us['date_posted'])\n"
   ]
  },
  {
   "cell_type": "code",
   "execution_count": 113,
   "metadata": {},
   "outputs": [
    {
     "name": "stdout",
     "output_type": "stream",
     "text": [
      "0       2018-06-23\n",
      "1       2018-10-19\n",
      "2       2019-02-07\n",
      "3       2019-03-22\n",
      "4       2019-04-02\n",
      "           ...    \n",
      "51520   2018-10-03\n",
      "51521   2018-11-14\n",
      "51522   2018-11-15\n",
      "51523   2018-07-02\n",
      "51524   2018-06-05\n",
      "Name: date_posted, Length: 51525, dtype: datetime64[ns]\n"
     ]
    }
   ],
   "source": [
    "# Check to ensure the change to datetime type was successful\n",
    "print(vehicles_us['date_posted'])\n"
   ]
  },
  {
   "cell_type": "markdown",
   "metadata": {},
   "source": [
    "The string values in the 'date_posted' column was successfully changed to datetime values."
   ]
  },
  {
   "cell_type": "markdown",
   "metadata": {},
   "source": [
    "## Enrich data"
   ]
  },
  {
   "cell_type": "markdown",
   "metadata": {},
   "source": [
    "In order to enrich the current dataset, additional columns with factors calculated using existing columns will be created to help with the analysis."
   ]
  },
  {
   "cell_type": "code",
   "execution_count": 114,
   "metadata": {},
   "outputs": [
    {
     "name": "stdout",
     "output_type": "stream",
     "text": [
      "<class 'pandas.core.frame.DataFrame'>\n",
      "RangeIndex: 51525 entries, 0 to 51524\n",
      "Data columns (total 17 columns):\n",
      "price           51525 non-null int64\n",
      "model_year      47906 non-null Int64\n",
      "model           51525 non-null object\n",
      "condition       51525 non-null object\n",
      "cylinders       51525 non-null Int64\n",
      "fuel            51525 non-null object\n",
      "odometer        43633 non-null Int64\n",
      "transmission    51525 non-null object\n",
      "type            51525 non-null object\n",
      "paint_color     42258 non-null object\n",
      "is_4wd          51525 non-null Int64\n",
      "date_posted     51525 non-null datetime64[ns]\n",
      "days_listed     51525 non-null int64\n",
      "filler          51525 non-null object\n",
      "day_of_week     51525 non-null int64\n",
      "month           51525 non-null int64\n",
      "year            51525 non-null int64\n",
      "dtypes: Int64(4), datetime64[ns](1), int64(5), object(7)\n",
      "memory usage: 6.9+ MB\n"
     ]
    }
   ],
   "source": [
    "# Add columns for datetime values (day of week, month, and year) for when each ad was placed\n",
    "vehicles_us['day_of_week'] = pd.DatetimeIndex(vehicles_us['date_posted']).dayofweek\n",
    "vehicles_us['month'] = pd.DatetimeIndex(vehicles_us['date_posted']).month\n",
    "vehicles_us['year'] = pd.DatetimeIndex(vehicles_us['date_posted']).year\n",
    "vehicles_us.info()"
   ]
  },
  {
   "cell_type": "markdown",
   "metadata": {},
   "source": [
    "Columns for the day of the week, month, and year that each ad was placed were successfully generated."
   ]
  },
  {
   "cell_type": "code",
   "execution_count": 115,
   "metadata": {},
   "outputs": [
    {
     "name": "stdout",
     "output_type": "stream",
     "text": [
      "   price  model_year           model  condition  cylinders fuel  odometer  \\\n",
      "0   9400        2011          bmw x5       good          6  gas    145000   \n",
      "1  25500         NaN      ford f-150       good          6  gas     88705   \n",
      "2   5500        2013  hyundai sonata   like new          4  gas    110000   \n",
      "3   1500        2003      ford f-150       fair          8  gas       NaN   \n",
      "4  14900        2017    chrysler 200  excellent          4  gas     80903   \n",
      "\n",
      "  transmission    type paint_color  is_4wd date_posted  days_listed  \\\n",
      "0    automatic     SUV         NaN       1  2018-06-23           19   \n",
      "1    automatic  pickup       white       1  2018-10-19           50   \n",
      "2    automatic   sedan         red       0  2019-02-07           79   \n",
      "3    automatic  pickup         NaN       0  2019-03-22            9   \n",
      "4    automatic   sedan       black       0  2019-04-02           28   \n",
      "\n",
      "          filler  day_of_week  month  year  age  \n",
      "0     [SUV, 6.0]            5      6  2018    7  \n",
      "1  [pickup, 6.0]            4     10  2018  NaN  \n",
      "2   [sedan, 4.0]            3      2  2019    6  \n",
      "3  [pickup, 8.0]            4      3  2019   16  \n",
      "4   [sedan, 4.0]            1      4  2019    2  \n"
     ]
    }
   ],
   "source": [
    "# Add a new column to 'vehicles_us' called 'age' with each vehicle's age when the ad was placed\n",
    "vehicles_us['age'] = vehicles_us['year'] - vehicles_us['model_year']\n",
    "print(vehicles_us.head())\n"
   ]
  },
  {
   "cell_type": "markdown",
   "metadata": {},
   "source": [
    "A new column called 'age' that contains the age of the vehicle when the ad was placed (year of ad placement minus the model year of the vehicle) was successfully generated. "
   ]
  },
  {
   "cell_type": "code",
   "execution_count": 116,
   "metadata": {},
   "outputs": [
    {
     "name": "stdout",
     "output_type": "stream",
     "text": [
      "   price  model_year           model  condition  cylinders fuel  odometer  \\\n",
      "0   9400        2011          bmw x5       good          6  gas    145000   \n",
      "1  25500         NaN      ford f-150       good          6  gas     88705   \n",
      "2   5500        2013  hyundai sonata   like new          4  gas    110000   \n",
      "3   1500        2003      ford f-150       fair          8  gas       NaN   \n",
      "4  14900        2017    chrysler 200  excellent          4  gas     80903   \n",
      "\n",
      "  transmission    type paint_color  is_4wd date_posted  days_listed  \\\n",
      "0    automatic     SUV         NaN       1  2018-06-23           19   \n",
      "1    automatic  pickup       white       1  2018-10-19           50   \n",
      "2    automatic   sedan         red       0  2019-02-07           79   \n",
      "3    automatic  pickup         NaN       0  2019-03-22            9   \n",
      "4    automatic   sedan       black       0  2019-04-02           28   \n",
      "\n",
      "          filler  day_of_week  month  year  age  avg_mileage  \n",
      "0     [SUV, 6.0]            5      6  2018    7        20714  \n",
      "1  [pickup, 6.0]            4     10  2018  NaN          NaN  \n",
      "2   [sedan, 4.0]            3      2  2019    6        18333  \n",
      "3  [pickup, 8.0]            4      3  2019   16          NaN  \n",
      "4   [sedan, 4.0]            1      4  2019    2        40452  \n"
     ]
    }
   ],
   "source": [
    "# Add the vehicle's average mileage per year\n",
    "vehicles_us['avg_mileage'] = (vehicles_us['odometer'] / vehicles_us['age']).round(decimals = 0).astype('Int64')\n",
    "print(vehicles_us.head())\n"
   ]
  },
  {
   "cell_type": "markdown",
   "metadata": {},
   "source": [
    "A new column called 'avg_mileage' that contains the average mileage per year of each vehicle (odometer value divided by the age of the vehicle when the ad was placed) was successfully generated."
   ]
  },
  {
   "cell_type": "code",
   "execution_count": 117,
   "metadata": {},
   "outputs": [
    {
     "data": {
      "text/plain": [
       "array(['good', 'like new', 'fair', 'excellent', 'salvage', 'new'],\n",
       "      dtype=object)"
      ]
     },
     "execution_count": 117,
     "metadata": {},
     "output_type": "execute_result"
    }
   ],
   "source": [
    "# The unique values in the 'condition' column were examined in order to figure out numeric categories to assign to the condition values for ease of analysis\n",
    "vehicles_us['condition'].unique()\n"
   ]
  },
  {
   "cell_type": "code",
   "execution_count": 118,
   "metadata": {},
   "outputs": [],
   "source": [
    "# Create a function to assign numeric categories that correspond to the various condition types\n",
    "def categorize_condition(condition):\n",
    "    if condition == 'salvage':\n",
    "        return 0\n",
    "    elif condition == 'fair':\n",
    "        return 1\n",
    "    elif condition == 'good':\n",
    "        return 2\n",
    "    elif condition == 'excellent':\n",
    "        return 3\n",
    "    elif condition == 'like new':\n",
    "        return 4\n",
    "    elif condition == 'new':\n",
    "        return 5\n",
    "    else:\n",
    "        return \"unknown\"\n"
   ]
  },
  {
   "cell_type": "code",
   "execution_count": 119,
   "metadata": {},
   "outputs": [
    {
     "name": "stdout",
     "output_type": "stream",
     "text": [
      "   price  model_year           model  condition  cylinders fuel  odometer  \\\n",
      "0   9400        2011          bmw x5       good          6  gas    145000   \n",
      "1  25500         NaN      ford f-150       good          6  gas     88705   \n",
      "2   5500        2013  hyundai sonata   like new          4  gas    110000   \n",
      "3   1500        2003      ford f-150       fair          8  gas       NaN   \n",
      "4  14900        2017    chrysler 200  excellent          4  gas     80903   \n",
      "\n",
      "  transmission    type paint_color  is_4wd date_posted  days_listed  \\\n",
      "0    automatic     SUV         NaN       1  2018-06-23           19   \n",
      "1    automatic  pickup       white       1  2018-10-19           50   \n",
      "2    automatic   sedan         red       0  2019-02-07           79   \n",
      "3    automatic  pickup         NaN       0  2019-03-22            9   \n",
      "4    automatic   sedan       black       0  2019-04-02           28   \n",
      "\n",
      "          filler  day_of_week  month  year  age  avg_mileage  condition_cat  \n",
      "0     [SUV, 6.0]            5      6  2018    7        20714              2  \n",
      "1  [pickup, 6.0]            4     10  2018  NaN          NaN              2  \n",
      "2   [sedan, 4.0]            3      2  2019    6        18333              4  \n",
      "3  [pickup, 8.0]            4      3  2019   16          NaN              1  \n",
      "4   [sedan, 4.0]            1      4  2019    2        40452              3  \n"
     ]
    }
   ],
   "source": [
    "# Apply the 'categorize_condition' function to the 'condition' column to create a new column called 'condition_cat'\n",
    "vehicles_us['condition_cat'] = vehicles_us['condition'].apply(categorize_condition)\n",
    "print(vehicles_us.head())\n"
   ]
  },
  {
   "cell_type": "markdown",
   "metadata": {},
   "source": [
    "The 'categorize_condition' function was created to assign numeric categories that correspond to the condition types in the 'condition' column. The function was then applied to create a new column called 'condition_cat'."
   ]
  },
  {
   "cell_type": "code",
   "execution_count": 120,
   "metadata": {},
   "outputs": [
    {
     "name": "stdout",
     "output_type": "stream",
     "text": [
      "   price  model_year           model  condition  cylinders fuel  odometer  \\\n",
      "0   9400        2011          bmw x5       good          6  gas    145000   \n",
      "1  25500         NaN      ford f-150       good          6  gas     88705   \n",
      "2   5500        2013  hyundai sonata   like new          4  gas    110000   \n",
      "3   1500        2003      ford f-150       fair          8  gas       NaN   \n",
      "4  14900        2017    chrysler 200  excellent          4  gas     80903   \n",
      "\n",
      "  transmission    type paint_color  is_4wd date_posted  days_listed  \\\n",
      "0    automatic     SUV         NaN       1  2018-06-23           19   \n",
      "1    automatic  pickup       white       1  2018-10-19           50   \n",
      "2    automatic   sedan         red       0  2019-02-07           79   \n",
      "3    automatic  pickup         NaN       0  2019-03-22            9   \n",
      "4    automatic   sedan       black       0  2019-04-02           28   \n",
      "\n",
      "   day_of_week  month  year  age  avg_mileage  condition_cat  \n",
      "0            5      6  2018    7        20714              2  \n",
      "1            4     10  2018  NaN          NaN              2  \n",
      "2            3      2  2019    6        18333              4  \n",
      "3            4      3  2019   16          NaN              1  \n",
      "4            1      4  2019    2        40452              3  \n"
     ]
    }
   ],
   "source": [
    "# Drop the 'filler' column that was temporarily created for the 'fill_cylinders' function\n",
    "vehicles_us = vehicles_us.drop(columns = ['filler'], axis = 1)\n",
    "print(vehicles_us.head())\n"
   ]
  },
  {
   "cell_type": "markdown",
   "metadata": {},
   "source": [
    "Finally, the temporary 'filler' column used for the 'fill_cylinders' function earlier in the data cleaning process was dropped from 'vehicles_us' as it is no longer needed for the remainder of the analysis."
   ]
  },
  {
   "cell_type": "markdown",
   "metadata": {},
   "source": [
    "## Check clean data"
   ]
  },
  {
   "cell_type": "markdown",
   "metadata": {},
   "source": [
    "The final cleaned 'vehicles_us' dataframe that will be used for the remainder of the analysis is displayed below:"
   ]
  },
  {
   "cell_type": "code",
   "execution_count": 121,
   "metadata": {},
   "outputs": [
    {
     "name": "stdout",
     "output_type": "stream",
     "text": [
      "<class 'pandas.core.frame.DataFrame'>\n",
      "RangeIndex: 51525 entries, 0 to 51524\n",
      "Data columns (total 19 columns):\n",
      "price            51525 non-null int64\n",
      "model_year       47906 non-null Int64\n",
      "model            51525 non-null object\n",
      "condition        51525 non-null object\n",
      "cylinders        51525 non-null Int64\n",
      "fuel             51525 non-null object\n",
      "odometer         43633 non-null Int64\n",
      "transmission     51525 non-null object\n",
      "type             51525 non-null object\n",
      "paint_color      42258 non-null object\n",
      "is_4wd           51525 non-null Int64\n",
      "date_posted      51525 non-null datetime64[ns]\n",
      "days_listed      51525 non-null int64\n",
      "day_of_week      51525 non-null int64\n",
      "month            51525 non-null int64\n",
      "year             51525 non-null int64\n",
      "age              47906 non-null Int64\n",
      "avg_mileage      38751 non-null Int64\n",
      "condition_cat    51525 non-null int64\n",
      "dtypes: Int64(6), datetime64[ns](1), int64(6), object(6)\n",
      "memory usage: 7.8+ MB\n",
      "None\n"
     ]
    }
   ],
   "source": [
    "# Print the general/summary information on the 'vehicles_us' dataframe\n",
    "print(vehicles_us.info())\n"
   ]
  },
  {
   "cell_type": "code",
   "execution_count": 122,
   "metadata": {},
   "outputs": [
    {
     "data": {
      "text/html": [
       "<div>\n",
       "<style scoped>\n",
       "    .dataframe tbody tr th:only-of-type {\n",
       "        vertical-align: middle;\n",
       "    }\n",
       "\n",
       "    .dataframe tbody tr th {\n",
       "        vertical-align: top;\n",
       "    }\n",
       "\n",
       "    .dataframe thead th {\n",
       "        text-align: right;\n",
       "    }\n",
       "</style>\n",
       "<table border=\"1\" class=\"dataframe\">\n",
       "  <thead>\n",
       "    <tr style=\"text-align: right;\">\n",
       "      <th></th>\n",
       "      <th>price</th>\n",
       "      <th>model_year</th>\n",
       "      <th>model</th>\n",
       "      <th>condition</th>\n",
       "      <th>cylinders</th>\n",
       "      <th>fuel</th>\n",
       "      <th>odometer</th>\n",
       "      <th>transmission</th>\n",
       "      <th>type</th>\n",
       "      <th>paint_color</th>\n",
       "      <th>is_4wd</th>\n",
       "      <th>date_posted</th>\n",
       "      <th>days_listed</th>\n",
       "      <th>day_of_week</th>\n",
       "      <th>month</th>\n",
       "      <th>year</th>\n",
       "      <th>age</th>\n",
       "      <th>avg_mileage</th>\n",
       "      <th>condition_cat</th>\n",
       "    </tr>\n",
       "  </thead>\n",
       "  <tbody>\n",
       "    <tr>\n",
       "      <td>0</td>\n",
       "      <td>9400</td>\n",
       "      <td>2011</td>\n",
       "      <td>bmw x5</td>\n",
       "      <td>good</td>\n",
       "      <td>6</td>\n",
       "      <td>gas</td>\n",
       "      <td>145000</td>\n",
       "      <td>automatic</td>\n",
       "      <td>SUV</td>\n",
       "      <td>NaN</td>\n",
       "      <td>1</td>\n",
       "      <td>2018-06-23</td>\n",
       "      <td>19</td>\n",
       "      <td>5</td>\n",
       "      <td>6</td>\n",
       "      <td>2018</td>\n",
       "      <td>7</td>\n",
       "      <td>20714</td>\n",
       "      <td>2</td>\n",
       "    </tr>\n",
       "    <tr>\n",
       "      <td>1</td>\n",
       "      <td>25500</td>\n",
       "      <td>NaN</td>\n",
       "      <td>ford f-150</td>\n",
       "      <td>good</td>\n",
       "      <td>6</td>\n",
       "      <td>gas</td>\n",
       "      <td>88705</td>\n",
       "      <td>automatic</td>\n",
       "      <td>pickup</td>\n",
       "      <td>white</td>\n",
       "      <td>1</td>\n",
       "      <td>2018-10-19</td>\n",
       "      <td>50</td>\n",
       "      <td>4</td>\n",
       "      <td>10</td>\n",
       "      <td>2018</td>\n",
       "      <td>NaN</td>\n",
       "      <td>NaN</td>\n",
       "      <td>2</td>\n",
       "    </tr>\n",
       "    <tr>\n",
       "      <td>2</td>\n",
       "      <td>5500</td>\n",
       "      <td>2013</td>\n",
       "      <td>hyundai sonata</td>\n",
       "      <td>like new</td>\n",
       "      <td>4</td>\n",
       "      <td>gas</td>\n",
       "      <td>110000</td>\n",
       "      <td>automatic</td>\n",
       "      <td>sedan</td>\n",
       "      <td>red</td>\n",
       "      <td>0</td>\n",
       "      <td>2019-02-07</td>\n",
       "      <td>79</td>\n",
       "      <td>3</td>\n",
       "      <td>2</td>\n",
       "      <td>2019</td>\n",
       "      <td>6</td>\n",
       "      <td>18333</td>\n",
       "      <td>4</td>\n",
       "    </tr>\n",
       "    <tr>\n",
       "      <td>3</td>\n",
       "      <td>1500</td>\n",
       "      <td>2003</td>\n",
       "      <td>ford f-150</td>\n",
       "      <td>fair</td>\n",
       "      <td>8</td>\n",
       "      <td>gas</td>\n",
       "      <td>NaN</td>\n",
       "      <td>automatic</td>\n",
       "      <td>pickup</td>\n",
       "      <td>NaN</td>\n",
       "      <td>0</td>\n",
       "      <td>2019-03-22</td>\n",
       "      <td>9</td>\n",
       "      <td>4</td>\n",
       "      <td>3</td>\n",
       "      <td>2019</td>\n",
       "      <td>16</td>\n",
       "      <td>NaN</td>\n",
       "      <td>1</td>\n",
       "    </tr>\n",
       "    <tr>\n",
       "      <td>4</td>\n",
       "      <td>14900</td>\n",
       "      <td>2017</td>\n",
       "      <td>chrysler 200</td>\n",
       "      <td>excellent</td>\n",
       "      <td>4</td>\n",
       "      <td>gas</td>\n",
       "      <td>80903</td>\n",
       "      <td>automatic</td>\n",
       "      <td>sedan</td>\n",
       "      <td>black</td>\n",
       "      <td>0</td>\n",
       "      <td>2019-04-02</td>\n",
       "      <td>28</td>\n",
       "      <td>1</td>\n",
       "      <td>4</td>\n",
       "      <td>2019</td>\n",
       "      <td>2</td>\n",
       "      <td>40452</td>\n",
       "      <td>3</td>\n",
       "    </tr>\n",
       "    <tr>\n",
       "      <td>5</td>\n",
       "      <td>14990</td>\n",
       "      <td>2014</td>\n",
       "      <td>chrysler 300</td>\n",
       "      <td>excellent</td>\n",
       "      <td>6</td>\n",
       "      <td>gas</td>\n",
       "      <td>57954</td>\n",
       "      <td>automatic</td>\n",
       "      <td>sedan</td>\n",
       "      <td>black</td>\n",
       "      <td>1</td>\n",
       "      <td>2018-06-20</td>\n",
       "      <td>15</td>\n",
       "      <td>2</td>\n",
       "      <td>6</td>\n",
       "      <td>2018</td>\n",
       "      <td>4</td>\n",
       "      <td>14488</td>\n",
       "      <td>3</td>\n",
       "    </tr>\n",
       "    <tr>\n",
       "      <td>6</td>\n",
       "      <td>12990</td>\n",
       "      <td>2015</td>\n",
       "      <td>toyota camry</td>\n",
       "      <td>excellent</td>\n",
       "      <td>4</td>\n",
       "      <td>gas</td>\n",
       "      <td>79212</td>\n",
       "      <td>automatic</td>\n",
       "      <td>sedan</td>\n",
       "      <td>white</td>\n",
       "      <td>0</td>\n",
       "      <td>2018-12-27</td>\n",
       "      <td>73</td>\n",
       "      <td>3</td>\n",
       "      <td>12</td>\n",
       "      <td>2018</td>\n",
       "      <td>3</td>\n",
       "      <td>26404</td>\n",
       "      <td>3</td>\n",
       "    </tr>\n",
       "    <tr>\n",
       "      <td>7</td>\n",
       "      <td>15990</td>\n",
       "      <td>2013</td>\n",
       "      <td>honda pilot</td>\n",
       "      <td>excellent</td>\n",
       "      <td>6</td>\n",
       "      <td>gas</td>\n",
       "      <td>109473</td>\n",
       "      <td>automatic</td>\n",
       "      <td>SUV</td>\n",
       "      <td>black</td>\n",
       "      <td>1</td>\n",
       "      <td>2019-01-07</td>\n",
       "      <td>68</td>\n",
       "      <td>0</td>\n",
       "      <td>1</td>\n",
       "      <td>2019</td>\n",
       "      <td>6</td>\n",
       "      <td>18246</td>\n",
       "      <td>3</td>\n",
       "    </tr>\n",
       "    <tr>\n",
       "      <td>8</td>\n",
       "      <td>11500</td>\n",
       "      <td>2012</td>\n",
       "      <td>kia sorento</td>\n",
       "      <td>excellent</td>\n",
       "      <td>4</td>\n",
       "      <td>gas</td>\n",
       "      <td>104174</td>\n",
       "      <td>automatic</td>\n",
       "      <td>SUV</td>\n",
       "      <td>NaN</td>\n",
       "      <td>1</td>\n",
       "      <td>2018-07-16</td>\n",
       "      <td>19</td>\n",
       "      <td>0</td>\n",
       "      <td>7</td>\n",
       "      <td>2018</td>\n",
       "      <td>6</td>\n",
       "      <td>17362</td>\n",
       "      <td>3</td>\n",
       "    </tr>\n",
       "    <tr>\n",
       "      <td>9</td>\n",
       "      <td>9200</td>\n",
       "      <td>2008</td>\n",
       "      <td>honda pilot</td>\n",
       "      <td>excellent</td>\n",
       "      <td>6</td>\n",
       "      <td>gas</td>\n",
       "      <td>147191</td>\n",
       "      <td>automatic</td>\n",
       "      <td>SUV</td>\n",
       "      <td>blue</td>\n",
       "      <td>1</td>\n",
       "      <td>2019-02-15</td>\n",
       "      <td>17</td>\n",
       "      <td>4</td>\n",
       "      <td>2</td>\n",
       "      <td>2019</td>\n",
       "      <td>11</td>\n",
       "      <td>13381</td>\n",
       "      <td>3</td>\n",
       "    </tr>\n",
       "    <tr>\n",
       "      <td>10</td>\n",
       "      <td>19500</td>\n",
       "      <td>2011</td>\n",
       "      <td>chevrolet silverado 1500</td>\n",
       "      <td>excellent</td>\n",
       "      <td>8</td>\n",
       "      <td>gas</td>\n",
       "      <td>128413</td>\n",
       "      <td>automatic</td>\n",
       "      <td>pickup</td>\n",
       "      <td>black</td>\n",
       "      <td>1</td>\n",
       "      <td>2018-09-17</td>\n",
       "      <td>38</td>\n",
       "      <td>0</td>\n",
       "      <td>9</td>\n",
       "      <td>2018</td>\n",
       "      <td>7</td>\n",
       "      <td>18345</td>\n",
       "      <td>3</td>\n",
       "    </tr>\n",
       "    <tr>\n",
       "      <td>11</td>\n",
       "      <td>8990</td>\n",
       "      <td>2012</td>\n",
       "      <td>honda accord</td>\n",
       "      <td>excellent</td>\n",
       "      <td>4</td>\n",
       "      <td>gas</td>\n",
       "      <td>111142</td>\n",
       "      <td>automatic</td>\n",
       "      <td>sedan</td>\n",
       "      <td>grey</td>\n",
       "      <td>0</td>\n",
       "      <td>2019-03-28</td>\n",
       "      <td>29</td>\n",
       "      <td>3</td>\n",
       "      <td>3</td>\n",
       "      <td>2019</td>\n",
       "      <td>7</td>\n",
       "      <td>15877</td>\n",
       "      <td>3</td>\n",
       "    </tr>\n",
       "    <tr>\n",
       "      <td>12</td>\n",
       "      <td>18990</td>\n",
       "      <td>2012</td>\n",
       "      <td>ram 1500</td>\n",
       "      <td>excellent</td>\n",
       "      <td>8</td>\n",
       "      <td>gas</td>\n",
       "      <td>140742</td>\n",
       "      <td>automatic</td>\n",
       "      <td>pickup</td>\n",
       "      <td>NaN</td>\n",
       "      <td>1</td>\n",
       "      <td>2019-04-02</td>\n",
       "      <td>37</td>\n",
       "      <td>1</td>\n",
       "      <td>4</td>\n",
       "      <td>2019</td>\n",
       "      <td>7</td>\n",
       "      <td>20106</td>\n",
       "      <td>3</td>\n",
       "    </tr>\n",
       "    <tr>\n",
       "      <td>13</td>\n",
       "      <td>16500</td>\n",
       "      <td>2018</td>\n",
       "      <td>hyundai sonata</td>\n",
       "      <td>excellent</td>\n",
       "      <td>4</td>\n",
       "      <td>gas</td>\n",
       "      <td>22104</td>\n",
       "      <td>automatic</td>\n",
       "      <td>sedan</td>\n",
       "      <td>silver</td>\n",
       "      <td>0</td>\n",
       "      <td>2019-01-14</td>\n",
       "      <td>29</td>\n",
       "      <td>0</td>\n",
       "      <td>1</td>\n",
       "      <td>2019</td>\n",
       "      <td>1</td>\n",
       "      <td>22104</td>\n",
       "      <td>3</td>\n",
       "    </tr>\n",
       "    <tr>\n",
       "      <td>14</td>\n",
       "      <td>12990</td>\n",
       "      <td>2009</td>\n",
       "      <td>gmc yukon</td>\n",
       "      <td>excellent</td>\n",
       "      <td>8</td>\n",
       "      <td>gas</td>\n",
       "      <td>132285</td>\n",
       "      <td>automatic</td>\n",
       "      <td>SUV</td>\n",
       "      <td>black</td>\n",
       "      <td>1</td>\n",
       "      <td>2019-01-31</td>\n",
       "      <td>24</td>\n",
       "      <td>3</td>\n",
       "      <td>1</td>\n",
       "      <td>2019</td>\n",
       "      <td>10</td>\n",
       "      <td>13228</td>\n",
       "      <td>3</td>\n",
       "    </tr>\n",
       "    <tr>\n",
       "      <td>15</td>\n",
       "      <td>17990</td>\n",
       "      <td>2013</td>\n",
       "      <td>ram 1500</td>\n",
       "      <td>excellent</td>\n",
       "      <td>8</td>\n",
       "      <td>gas</td>\n",
       "      <td>NaN</td>\n",
       "      <td>automatic</td>\n",
       "      <td>pickup</td>\n",
       "      <td>red</td>\n",
       "      <td>1</td>\n",
       "      <td>2018-05-15</td>\n",
       "      <td>111</td>\n",
       "      <td>1</td>\n",
       "      <td>5</td>\n",
       "      <td>2018</td>\n",
       "      <td>5</td>\n",
       "      <td>NaN</td>\n",
       "      <td>3</td>\n",
       "    </tr>\n",
       "    <tr>\n",
       "      <td>16</td>\n",
       "      <td>14990</td>\n",
       "      <td>2010</td>\n",
       "      <td>ram 1500</td>\n",
       "      <td>excellent</td>\n",
       "      <td>8</td>\n",
       "      <td>gas</td>\n",
       "      <td>130725</td>\n",
       "      <td>automatic</td>\n",
       "      <td>pickup</td>\n",
       "      <td>red</td>\n",
       "      <td>1</td>\n",
       "      <td>2018-12-30</td>\n",
       "      <td>13</td>\n",
       "      <td>6</td>\n",
       "      <td>12</td>\n",
       "      <td>2018</td>\n",
       "      <td>8</td>\n",
       "      <td>16341</td>\n",
       "      <td>3</td>\n",
       "    </tr>\n",
       "    <tr>\n",
       "      <td>17</td>\n",
       "      <td>13990</td>\n",
       "      <td>2014</td>\n",
       "      <td>jeep cherokee</td>\n",
       "      <td>excellent</td>\n",
       "      <td>6</td>\n",
       "      <td>gas</td>\n",
       "      <td>100669</td>\n",
       "      <td>automatic</td>\n",
       "      <td>SUV</td>\n",
       "      <td>red</td>\n",
       "      <td>1</td>\n",
       "      <td>2018-08-16</td>\n",
       "      <td>25</td>\n",
       "      <td>3</td>\n",
       "      <td>8</td>\n",
       "      <td>2018</td>\n",
       "      <td>4</td>\n",
       "      <td>25167</td>\n",
       "      <td>3</td>\n",
       "    </tr>\n",
       "    <tr>\n",
       "      <td>18</td>\n",
       "      <td>12500</td>\n",
       "      <td>2013</td>\n",
       "      <td>chevrolet traverse</td>\n",
       "      <td>excellent</td>\n",
       "      <td>6</td>\n",
       "      <td>gas</td>\n",
       "      <td>128325</td>\n",
       "      <td>automatic</td>\n",
       "      <td>SUV</td>\n",
       "      <td>white</td>\n",
       "      <td>1</td>\n",
       "      <td>2019-04-09</td>\n",
       "      <td>13</td>\n",
       "      <td>1</td>\n",
       "      <td>4</td>\n",
       "      <td>2019</td>\n",
       "      <td>6</td>\n",
       "      <td>21388</td>\n",
       "      <td>3</td>\n",
       "    </tr>\n",
       "    <tr>\n",
       "      <td>19</td>\n",
       "      <td>13990</td>\n",
       "      <td>2018</td>\n",
       "      <td>hyundai elantra</td>\n",
       "      <td>excellent</td>\n",
       "      <td>4</td>\n",
       "      <td>gas</td>\n",
       "      <td>31932</td>\n",
       "      <td>automatic</td>\n",
       "      <td>sedan</td>\n",
       "      <td>red</td>\n",
       "      <td>0</td>\n",
       "      <td>2018-08-25</td>\n",
       "      <td>27</td>\n",
       "      <td>5</td>\n",
       "      <td>8</td>\n",
       "      <td>2018</td>\n",
       "      <td>0</td>\n",
       "      <td>NaN</td>\n",
       "      <td>3</td>\n",
       "    </tr>\n",
       "  </tbody>\n",
       "</table>\n",
       "</div>"
      ],
      "text/plain": [
       "    price  model_year                     model  condition  cylinders fuel  \\\n",
       "0    9400        2011                    bmw x5       good          6  gas   \n",
       "1   25500         NaN                ford f-150       good          6  gas   \n",
       "2    5500        2013            hyundai sonata   like new          4  gas   \n",
       "3    1500        2003                ford f-150       fair          8  gas   \n",
       "4   14900        2017              chrysler 200  excellent          4  gas   \n",
       "5   14990        2014              chrysler 300  excellent          6  gas   \n",
       "6   12990        2015              toyota camry  excellent          4  gas   \n",
       "7   15990        2013               honda pilot  excellent          6  gas   \n",
       "8   11500        2012               kia sorento  excellent          4  gas   \n",
       "9    9200        2008               honda pilot  excellent          6  gas   \n",
       "10  19500        2011  chevrolet silverado 1500  excellent          8  gas   \n",
       "11   8990        2012              honda accord  excellent          4  gas   \n",
       "12  18990        2012                  ram 1500  excellent          8  gas   \n",
       "13  16500        2018            hyundai sonata  excellent          4  gas   \n",
       "14  12990        2009                 gmc yukon  excellent          8  gas   \n",
       "15  17990        2013                  ram 1500  excellent          8  gas   \n",
       "16  14990        2010                  ram 1500  excellent          8  gas   \n",
       "17  13990        2014             jeep cherokee  excellent          6  gas   \n",
       "18  12500        2013        chevrolet traverse  excellent          6  gas   \n",
       "19  13990        2018           hyundai elantra  excellent          4  gas   \n",
       "\n",
       "    odometer transmission    type paint_color  is_4wd date_posted  \\\n",
       "0     145000    automatic     SUV         NaN       1  2018-06-23   \n",
       "1      88705    automatic  pickup       white       1  2018-10-19   \n",
       "2     110000    automatic   sedan         red       0  2019-02-07   \n",
       "3        NaN    automatic  pickup         NaN       0  2019-03-22   \n",
       "4      80903    automatic   sedan       black       0  2019-04-02   \n",
       "5      57954    automatic   sedan       black       1  2018-06-20   \n",
       "6      79212    automatic   sedan       white       0  2018-12-27   \n",
       "7     109473    automatic     SUV       black       1  2019-01-07   \n",
       "8     104174    automatic     SUV         NaN       1  2018-07-16   \n",
       "9     147191    automatic     SUV        blue       1  2019-02-15   \n",
       "10    128413    automatic  pickup       black       1  2018-09-17   \n",
       "11    111142    automatic   sedan        grey       0  2019-03-28   \n",
       "12    140742    automatic  pickup         NaN       1  2019-04-02   \n",
       "13     22104    automatic   sedan      silver       0  2019-01-14   \n",
       "14    132285    automatic     SUV       black       1  2019-01-31   \n",
       "15       NaN    automatic  pickup         red       1  2018-05-15   \n",
       "16    130725    automatic  pickup         red       1  2018-12-30   \n",
       "17    100669    automatic     SUV         red       1  2018-08-16   \n",
       "18    128325    automatic     SUV       white       1  2019-04-09   \n",
       "19     31932    automatic   sedan         red       0  2018-08-25   \n",
       "\n",
       "    days_listed  day_of_week  month  year  age  avg_mileage  condition_cat  \n",
       "0            19            5      6  2018    7        20714              2  \n",
       "1            50            4     10  2018  NaN          NaN              2  \n",
       "2            79            3      2  2019    6        18333              4  \n",
       "3             9            4      3  2019   16          NaN              1  \n",
       "4            28            1      4  2019    2        40452              3  \n",
       "5            15            2      6  2018    4        14488              3  \n",
       "6            73            3     12  2018    3        26404              3  \n",
       "7            68            0      1  2019    6        18246              3  \n",
       "8            19            0      7  2018    6        17362              3  \n",
       "9            17            4      2  2019   11        13381              3  \n",
       "10           38            0      9  2018    7        18345              3  \n",
       "11           29            3      3  2019    7        15877              3  \n",
       "12           37            1      4  2019    7        20106              3  \n",
       "13           29            0      1  2019    1        22104              3  \n",
       "14           24            3      1  2019   10        13228              3  \n",
       "15          111            1      5  2018    5          NaN              3  \n",
       "16           13            6     12  2018    8        16341              3  \n",
       "17           25            3      8  2018    4        25167              3  \n",
       "18           13            1      4  2019    6        21388              3  \n",
       "19           27            5      8  2018    0          NaN              3  "
      ]
     },
     "metadata": {},
     "output_type": "display_data"
    }
   ],
   "source": [
    "# Print a sample of data\n",
    "display(vehicles_us.head(20))\n"
   ]
  },
  {
   "cell_type": "markdown",
   "metadata": {},
   "source": [
    "## Study core parameters\n",
    "\n",
    "The core parameters are the following:\n",
    "- Price\n",
    "- The vehicle's age when the ad was placed\n",
    "- Mileage\n",
    "- Number of cylinders\n",
    "- Condition\n",
    "\n",
    "In order to study the above parameters, boxplots and histograms will be generated for each to examine the spread of the data and to identify any problems that should be resolved (primarily outliers)."
   ]
  },
  {
   "cell_type": "code",
   "execution_count": 123,
   "metadata": {},
   "outputs": [
    {
     "data": {
      "image/png": "[encoded data removed]",
      "text/plain": [
       "<Figure size 504x504 with 1 Axes>"
      ]
     },
     "metadata": {
      "needs_background": "light"
     },
     "output_type": "display_data"
    }
   ],
   "source": [
    "# Create a boxplot for the price parameter\n",
    "vehicles_us['price'].plot(kind='box', figsize = (7, 7), grid = True);\n"
   ]
  },
  {
   "cell_type": "code",
   "execution_count": 124,
   "metadata": {},
   "outputs": [
    {
     "data": {
      "image/png": "[encoded data removed]",
      "text/plain": [
       "<Figure size 504x504 with 1 Axes>"
      ]
     },
     "metadata": {
      "needs_background": "light"
     },
     "output_type": "display_data"
    }
   ],
   "source": [
    "# Create a histogram for the price parameter\n",
    "vehicles_us['price'].plot(kind='hist', figsize = (7, 7), bins = 10, grid = True);\n"
   ]
  },
  {
   "cell_type": "markdown",
   "metadata": {},
   "source": [
    "Looking at the price parameter boxplot, it is clear that there are quite a few outliers that are unusually high. However, the histogram reveals that most of the data is aggregated between about \\\\$0-$75,000."
   ]
  },
  {
   "cell_type": "code",
   "execution_count": 125,
   "metadata": {},
   "outputs": [
    {
     "data": {
      "image/png": "[encoded data removed]",
      "text/plain": [
       "<Figure size 504x504 with 1 Axes>"
      ]
     },
     "metadata": {
      "needs_background": "light"
     },
     "output_type": "display_data"
    }
   ],
   "source": [
    "# Create a boxplot for the age parameter\n",
    "vehicles_us['age'].plot(kind='box', figsize = (7, 7));\n"
   ]
  },
  {
   "cell_type": "code",
   "execution_count": 126,
   "metadata": {},
   "outputs": [
    {
     "data": {
      "image/png": "[encoded data removed]",
      "text/plain": [
       "<Figure size 504x504 with 1 Axes>"
      ]
     },
     "metadata": {
      "needs_background": "light"
     },
     "output_type": "display_data"
    }
   ],
   "source": [
    "# Create a histogram for the age parameter\n",
    "vehicles_us['age'].plot(kind='hist', figsize = (7, 7), bins = 10, grid = True);\n"
   ]
  },
  {
   "cell_type": "markdown",
   "metadata": {},
   "source": [
    "The age parameter boxplot also shows quite a few outliers that are unusually high. However, the histogram reveals that most of the data is aggregated between about 1-35 years."
   ]
  },
  {
   "cell_type": "code",
   "execution_count": 127,
   "metadata": {},
   "outputs": [
    {
     "data": {
      "image/png": "[encoded data removed]",
      "text/plain": [
       "<Figure size 504x504 with 1 Axes>"
      ]
     },
     "metadata": {
      "needs_background": "light"
     },
     "output_type": "display_data"
    }
   ],
   "source": [
    "# Create a boxplot for the mileage parameter\n",
    "vehicles_us['odometer'].plot(kind='box', figsize = (7, 7));\n"
   ]
  },
  {
   "cell_type": "code",
   "execution_count": 128,
   "metadata": {},
   "outputs": [
    {
     "data": {
      "image/png": "[encoded data removed]",
      "text/plain": [
       "<Figure size 504x504 with 1 Axes>"
      ]
     },
     "metadata": {
      "needs_background": "light"
     },
     "output_type": "display_data"
    }
   ],
   "source": [
    "# Create a histogram for the mileage parameter\n",
    "vehicles_us['odometer'].plot(kind='hist', figsize = (7, 7), bins = 10, grid = True);\n"
   ]
  },
  {
   "cell_type": "markdown",
   "metadata": {},
   "source": [
    "Similar to the last two parameters, the mileage parameter boxplot also shows quite a few outliers that are unusually high. However, the histogram reveals that most of the data is aggregated between about 0-400,000 miles."
   ]
  },
  {
   "cell_type": "code",
   "execution_count": 129,
   "metadata": {},
   "outputs": [
    {
     "data": {
      "image/png": "[encoded data removed]",
      "text/plain": [
       "<Figure size 504x504 with 1 Axes>"
      ]
     },
     "metadata": {
      "needs_background": "light"
     },
     "output_type": "display_data"
    }
   ],
   "source": [
    "# Create a boxplot for the cylinders parameter\n",
    "vehicles_us['cylinders'].plot(kind='box', figsize = (7, 7));\n"
   ]
  },
  {
   "cell_type": "code",
   "execution_count": 130,
   "metadata": {},
   "outputs": [
    {
     "data": {
      "image/png": "[encoded data removed]",
      "text/plain": [
       "<Figure size 504x504 with 1 Axes>"
      ]
     },
     "metadata": {
      "needs_background": "light"
     },
     "output_type": "display_data"
    }
   ],
   "source": [
    "# Create a histogram for the cylinders parameter\n",
    "vehicles_us['cylinders'].plot(kind='hist', figsize = (7, 7), bins = 10, grid = True);\n"
   ]
  },
  {
   "cell_type": "markdown",
   "metadata": {},
   "source": [
    "The boxplot for the cylinders parameter shows a more even distribution of data with no outliers (due to the standardized nature of cylinders). The histogram shows that most of the vehicles have between 4-8 cylinders."
   ]
  },
  {
   "cell_type": "code",
   "execution_count": 131,
   "metadata": {},
   "outputs": [
    {
     "data": {
      "image/png": "[encoded data removed]",
      "text/plain": [
       "<Figure size 504x504 with 1 Axes>"
      ]
     },
     "metadata": {
      "needs_background": "light"
     },
     "output_type": "display_data"
    }
   ],
   "source": [
    "# Create a boxplot for the condition parameter\n",
    "vehicles_us['condition_cat'].plot(kind='box', figsize = (7, 7));\n"
   ]
  },
  {
   "cell_type": "code",
   "execution_count": 132,
   "metadata": {},
   "outputs": [
    {
     "data": {
      "image/png": "[encoded data removed]",
      "text/plain": [
       "<Figure size 504x504 with 1 Axes>"
      ]
     },
     "metadata": {
      "needs_background": "light"
     },
     "output_type": "display_data"
    }
   ],
   "source": [
    "# Create a histogram for the condition parameter\n",
    "vehicles_us['condition_cat'].plot(kind='hist', figsize = (7, 7), bins = 10, grid = True);\n"
   ]
  },
  {
   "cell_type": "markdown",
   "metadata": {},
   "source": [
    "Although the boxplot for the condition parameter also shows a relatively even distribution of data, the 'salvage' and 'new' conditions are considered outliers. The histogram shows that most of the vehicles are in 'good' or 'excellent' condition."
   ]
  },
  {
   "cell_type": "markdown",
   "metadata": {},
   "source": [
    "## Study and treat outliers"
   ]
  },
  {
   "cell_type": "markdown",
   "metadata": {},
   "source": [
    "Based on the graphs of the core parameters above, it seems that it would be best to remove the outliers from the 'price', 'age', and 'odometer' parameters in order to prevent them from skewing the data."
   ]
  },
  {
   "cell_type": "code",
   "execution_count": 133,
   "metadata": {},
   "outputs": [],
   "source": [
    "# Calculate the lower and upper limits for outliers in the 'price' parameter\n",
    "price_q1 = vehicles_us['price'].quantile(0.25)\n",
    "price_q3 = vehicles_us['price'].quantile(0.75)\n",
    "price_iqr = price_q3 - price_q1\n",
    "price_lower_lim = price_q1 - 1.5 * price_iqr\n",
    "price_upper_lim = price_q3 + 1.5 * price_iqr\n"
   ]
  },
  {
   "cell_type": "code",
   "execution_count": 134,
   "metadata": {},
   "outputs": [
    {
     "data": {
      "text/plain": [
       "-12758.5"
      ]
     },
     "execution_count": 134,
     "metadata": {},
     "output_type": "execute_result"
    }
   ],
   "source": [
    "# Check value of the lower limit of the 'price' parameter\n",
    "price_lower_lim\n"
   ]
  },
  {
   "cell_type": "code",
   "execution_count": 135,
   "metadata": {},
   "outputs": [
    {
     "data": {
      "text/plain": [
       "34597.5"
      ]
     },
     "execution_count": 135,
     "metadata": {},
     "output_type": "execute_result"
    }
   ],
   "source": [
    "# Check value of the upper limit of the 'price' parameter\n",
    "price_upper_lim\n"
   ]
  },
  {
   "cell_type": "markdown",
   "metadata": {},
   "source": [
    "The lower and upper limits for the outliers in the 'price' parameter were calculated and saved."
   ]
  },
  {
   "cell_type": "code",
   "execution_count": 136,
   "metadata": {},
   "outputs": [],
   "source": [
    "# Calculate the lower and upper limits for outliers in the 'age' parameter\n",
    "age_q1 = vehicles_us['age'].quantile(0.25)\n",
    "age_q3 = vehicles_us['age'].quantile(0.75)\n",
    "age_iqr = age_q3 - age_q1\n",
    "age_lower_lim = age_q1 - 1.5 * age_iqr\n",
    "age_upper_lim = age_q3 + 1.5 * age_iqr\n"
   ]
  },
  {
   "cell_type": "code",
   "execution_count": 137,
   "metadata": {},
   "outputs": [
    {
     "data": {
      "text/plain": [
       "-8.0"
      ]
     },
     "execution_count": 137,
     "metadata": {},
     "output_type": "execute_result"
    }
   ],
   "source": [
    "# Check value of the lower limit of the 'age' parameter\n",
    "age_lower_lim\n"
   ]
  },
  {
   "cell_type": "code",
   "execution_count": 138,
   "metadata": {},
   "outputs": [
    {
     "data": {
      "text/plain": [
       "24.0"
      ]
     },
     "execution_count": 138,
     "metadata": {},
     "output_type": "execute_result"
    }
   ],
   "source": [
    "# Check value of the upper limit of the 'age' parameter\n",
    "age_upper_lim\n"
   ]
  },
  {
   "cell_type": "markdown",
   "metadata": {},
   "source": [
    "The lower and upper limits for the outliers in the 'age' parameter were calculated and saved."
   ]
  },
  {
   "cell_type": "code",
   "execution_count": 139,
   "metadata": {},
   "outputs": [],
   "source": [
    "# Calculate the lower and upper limits for outliers in the 'odometer' parameter\n",
    "odometer_q1 = vehicles_us['odometer'].quantile(0.25)\n",
    "odometer_q3 = vehicles_us['odometer'].quantile(0.75)\n",
    "odometer_iqr = odometer_q3 - odometer_q1\n",
    "odometer_lower_lim = odometer_q1 - 1.5 * odometer_iqr\n",
    "odometer_upper_lim = odometer_q3 + 1.5 * odometer_iqr\n"
   ]
  },
  {
   "cell_type": "code",
   "execution_count": 140,
   "metadata": {},
   "outputs": [
    {
     "data": {
      "text/plain": [
       "-57500.0"
      ]
     },
     "execution_count": 140,
     "metadata": {},
     "output_type": "execute_result"
    }
   ],
   "source": [
    "# Check value of the lower limit of the 'odometer' parameter\n",
    "odometer_lower_lim\n"
   ]
  },
  {
   "cell_type": "code",
   "execution_count": 141,
   "metadata": {},
   "outputs": [
    {
     "data": {
      "text/plain": [
       "282500.0"
      ]
     },
     "execution_count": 141,
     "metadata": {},
     "output_type": "execute_result"
    }
   ],
   "source": [
    "# Check value of the upper limit of the 'odometer' parameter\n",
    "odometer_upper_lim\n"
   ]
  },
  {
   "cell_type": "markdown",
   "metadata": {},
   "source": [
    "The lower and upper limits for the outliers in the 'odometer' parameter were calculated and saved."
   ]
  },
  {
   "cell_type": "code",
   "execution_count": 142,
   "metadata": {},
   "outputs": [
    {
     "name": "stdout",
     "output_type": "stream",
     "text": [
      "<class 'pandas.core.frame.DataFrame'>\n",
      "Int64Index: 49879 entries, 0 to 51524\n",
      "Data columns (total 19 columns):\n",
      "price            49879 non-null int64\n",
      "model_year       46348 non-null Int64\n",
      "model            49879 non-null object\n",
      "condition        49879 non-null object\n",
      "cylinders        49879 non-null Int64\n",
      "fuel             49879 non-null object\n",
      "odometer         42252 non-null Int64\n",
      "transmission     49879 non-null object\n",
      "type             49879 non-null object\n",
      "paint_color      40900 non-null object\n",
      "is_4wd           49879 non-null Int64\n",
      "date_posted      49879 non-null datetime64[ns]\n",
      "days_listed      49879 non-null int64\n",
      "day_of_week      49879 non-null int64\n",
      "month            49879 non-null int64\n",
      "year             49879 non-null int64\n",
      "age              46348 non-null Int64\n",
      "avg_mileage      37928 non-null Int64\n",
      "condition_cat    49879 non-null int64\n",
      "dtypes: Int64(6), datetime64[ns](1), int64(6), object(6)\n",
      "memory usage: 7.9+ MB\n"
     ]
    }
   ],
   "source": [
    "# Create a copy of the 'vehicles_us' dataframe and save as 'new_vehicles_us'. Remove rows with outliers in the 'price' columm in 'new_vehicles_us'\n",
    "new_vehicles_us = vehicles_us\n",
    "new_vehicles_us = new_vehicles_us[(new_vehicles_us['price'] > price_lower_lim) & (new_vehicles_us['price'] < price_upper_lim)]\n",
    "new_vehicles_us.info()\n"
   ]
  },
  {
   "cell_type": "markdown",
   "metadata": {},
   "source": [
    "A copy of 'vehicles_us' was saved into a new dataframe called 'new_vehicles_us' in order to have a separate dataframe where the outliers are removed. Based on the lower and upper outlier limits calculated above, rows with outliers from the 'price' column were removed from 'new_vehicles_us'."
   ]
  },
  {
   "cell_type": "code",
   "execution_count": 143,
   "metadata": {},
   "outputs": [
    {
     "name": "stdout",
     "output_type": "stream",
     "text": [
      "<class 'pandas.core.frame.DataFrame'>\n",
      "Int64Index: 45494 entries, 0 to 51524\n",
      "Data columns (total 19 columns):\n",
      "price            45494 non-null int64\n",
      "model_year       45494 non-null Int64\n",
      "model            45494 non-null object\n",
      "condition        45494 non-null object\n",
      "cylinders        45494 non-null Int64\n",
      "fuel             45494 non-null object\n",
      "odometer         38525 non-null Int64\n",
      "transmission     45494 non-null object\n",
      "type             45494 non-null object\n",
      "paint_color      37303 non-null object\n",
      "is_4wd           45494 non-null Int64\n",
      "date_posted      45494 non-null datetime64[ns]\n",
      "days_listed      45494 non-null int64\n",
      "day_of_week      45494 non-null int64\n",
      "month            45494 non-null int64\n",
      "year             45494 non-null int64\n",
      "age              45494 non-null Int64\n",
      "avg_mileage      37201 non-null Int64\n",
      "condition_cat    45494 non-null int64\n",
      "dtypes: Int64(6), datetime64[ns](1), int64(6), object(6)\n",
      "memory usage: 7.2+ MB\n"
     ]
    }
   ],
   "source": [
    "# Remove rows with outliers in the 'age' columm in 'new_vehicles_us'\n",
    "new_vehicles_us = new_vehicles_us[(new_vehicles_us['age'] > age_lower_lim) & (new_vehicles_us['age'] < age_upper_lim)]\n",
    "new_vehicles_us.info()\n"
   ]
  },
  {
   "cell_type": "markdown",
   "metadata": {},
   "source": [
    "Based on the lower and upper outlier limits calculated above, rows with outliers from the 'age' column were removed from 'new_vehicles_us'."
   ]
  },
  {
   "cell_type": "code",
   "execution_count": 144,
   "metadata": {},
   "outputs": [
    {
     "name": "stdout",
     "output_type": "stream",
     "text": [
      "<class 'pandas.core.frame.DataFrame'>\n",
      "Int64Index: 38102 entries, 0 to 51523\n",
      "Data columns (total 19 columns):\n",
      "price            38102 non-null int64\n",
      "model_year       38102 non-null Int64\n",
      "model            38102 non-null object\n",
      "condition        38102 non-null object\n",
      "cylinders        38102 non-null Int64\n",
      "fuel             38102 non-null object\n",
      "odometer         38102 non-null Int64\n",
      "transmission     38102 non-null object\n",
      "type             38102 non-null object\n",
      "paint_color      31282 non-null object\n",
      "is_4wd           38102 non-null Int64\n",
      "date_posted      38102 non-null datetime64[ns]\n",
      "days_listed      38102 non-null int64\n",
      "day_of_week      38102 non-null int64\n",
      "month            38102 non-null int64\n",
      "year             38102 non-null int64\n",
      "age              38102 non-null Int64\n",
      "avg_mileage      36780 non-null Int64\n",
      "condition_cat    38102 non-null int64\n",
      "dtypes: Int64(6), datetime64[ns](1), int64(6), object(6)\n",
      "memory usage: 6.0+ MB\n"
     ]
    }
   ],
   "source": [
    "# Remove rows with outliers in the 'odometer' columm in 'new_vehicles_us'\n",
    "new_vehicles_us = new_vehicles_us[(new_vehicles_us['odometer'] > odometer_lower_lim) & (new_vehicles_us['odometer'] < odometer_upper_lim)]\n",
    "new_vehicles_us.info()\n"
   ]
  },
  {
   "cell_type": "markdown",
   "metadata": {},
   "source": [
    "Based on the lower and upper outlier limits calculated above, rows with outliers from the 'odometer' column were removed from 'new_vehicles_us'."
   ]
  },
  {
   "cell_type": "markdown",
   "metadata": {},
   "source": [
    "## Study core parameters without outliers"
   ]
  },
  {
   "cell_type": "markdown",
   "metadata": {},
   "source": [
    "Using the dataframe 'new_vehicles_us' which omits rows with outliers in the 'price', 'age', and 'odometer' columns, the core parameters will be re-examined."
   ]
  },
  {
   "cell_type": "code",
   "execution_count": 145,
   "metadata": {},
   "outputs": [
    {
     "data": {
      "image/png": "[encoded data removed]",
      "text/plain": [
       "<Figure size 504x504 with 1 Axes>"
      ]
     },
     "metadata": {
      "needs_background": "light"
     },
     "output_type": "display_data"
    }
   ],
   "source": [
    "# Create a new histogram for the price parameter\n",
    "new_vehicles_us['price'].plot(kind='hist', figsize = (7, 7), bins = 10, grid = True);\n"
   ]
  },
  {
   "cell_type": "markdown",
   "metadata": {},
   "source": [
    "Without the outliers skewing the data in the 'price' column, the data looks more evenly distributed with higher frequencies between about \\\\$0-$10,000 and gradually decreasing frequencies as the price increases in value."
   ]
  },
  {
   "cell_type": "code",
   "execution_count": 146,
   "metadata": {},
   "outputs": [
    {
     "data": {
      "image/png": "[encoded data removed]",
      "text/plain": [
       "<Figure size 504x504 with 1 Axes>"
      ]
     },
     "metadata": {
      "needs_background": "light"
     },
     "output_type": "display_data"
    }
   ],
   "source": [
    "# Create a new histogram for the age parameter\n",
    "new_vehicles_us['age'].plot(kind='hist', figsize = (7, 7), bins = 10, grid = True);\n"
   ]
  },
  {
   "cell_type": "markdown",
   "metadata": {},
   "source": [
    "Without the outliers skewing the data in the 'age' column, the data looks more evenly distributed with higher frequencies between about 0-10 years and gradually decreasing frequencies with increasing age."
   ]
  },
  {
   "cell_type": "code",
   "execution_count": 147,
   "metadata": {},
   "outputs": [
    {
     "data": {
      "image/png": "[encoded data removed]",
      "text/plain": [
       "<Figure size 504x504 with 1 Axes>"
      ]
     },
     "metadata": {
      "needs_background": "light"
     },
     "output_type": "display_data"
    }
   ],
   "source": [
    "# Create a new histogram for the odometer parameter\n",
    "new_vehicles_us['odometer'].plot(kind='hist', figsize = (7, 7), bins = 10, grid = True);\n"
   ]
  },
  {
   "cell_type": "markdown",
   "metadata": {},
   "source": [
    "Without the outliers skewing the data in the 'odometer' column, the data looks more evenly distributed with a more normal distribution in which the peak lies near the center of the graph between 75,000-150,000 miles. However, in general, frequencies tend to be a little higher at lower mileage totals than the higher mileage totals."
   ]
  },
  {
   "cell_type": "markdown",
   "metadata": {},
   "source": [
    "## Ads lifetime"
   ]
  },
  {
   "cell_type": "code",
   "execution_count": 148,
   "metadata": {},
   "outputs": [
    {
     "data": {
      "text/plain": [
       "count    38102.000000\n",
       "mean        39.627579\n",
       "std         28.123548\n",
       "min          0.000000\n",
       "25%         19.000000\n",
       "50%         33.000000\n",
       "75%         53.000000\n",
       "max        271.000000\n",
       "Name: days_listed, dtype: float64"
      ]
     },
     "execution_count": 148,
     "metadata": {},
     "output_type": "execute_result"
    }
   ],
   "source": [
    "# Examine the descriptive statistics of the 'days_listed' column of the 'new_vehicles_us' dataframe\n",
    "new_vehicles_us['days_listed'].describe()\n"
   ]
  },
  {
   "cell_type": "code",
   "execution_count": 149,
   "metadata": {},
   "outputs": [
    {
     "data": {
      "image/png": "[encoded data removed]",
      "text/plain": [
       "<Figure size 504x504 with 1 Axes>"
      ]
     },
     "metadata": {
      "needs_background": "light"
     },
     "output_type": "display_data"
    }
   ],
   "source": [
    "# Create a histogram of the 'days_listed' column to examine the frequencies of the values\n",
    "new_vehicles_us['days_listed'].plot(kind='hist', figsize = (7, 7), bins = 10, grid = True);\n"
   ]
  },
  {
   "cell_type": "code",
   "execution_count": 150,
   "metadata": {},
   "outputs": [
    {
     "data": {
      "image/png": "[encoded data removed]",
      "text/plain": [
       "<Figure size 504x504 with 1 Axes>"
      ]
     },
     "metadata": {
      "needs_background": "light"
     },
     "output_type": "display_data"
    }
   ],
   "source": [
    "# Create a boxplot of the 'days_listed' column to examine the distribution of the data\n",
    "new_vehicles_us['days_listed'].plot(kind='box', figsize = (7, 7));\n"
   ]
  },
  {
   "cell_type": "markdown",
   "metadata": {},
   "source": [
    "According to the information above, the average time that a vehicle was listed for was about 39.6 days while the median time that a vehicle was listed for was about 33 days. These values indicate that there are outliers in the dataset with an abnormally high number of days that an ad was listed which is causing the average value to be pulled up higher than the median (or middle) value. This is confirmed by the histogram and boxplot which reveals quite a large number of extreme outliers. When ads were removed quickly (0-25th percentile) they only had a lifetime between 0-19 days while ads listed for an abnormally long time (75-100th percentile) had a lifetime betweeen 53-271 days."
   ]
  },
  {
   "cell_type": "markdown",
   "metadata": {},
   "source": [
    "## Average price per each type of vehicle"
   ]
  },
  {
   "cell_type": "code",
   "execution_count": 151,
   "metadata": {},
   "outputs": [
    {
     "data": {
      "text/html": [
       "<div>\n",
       "<style scoped>\n",
       "    .dataframe tbody tr th:only-of-type {\n",
       "        vertical-align: middle;\n",
       "    }\n",
       "\n",
       "    .dataframe tbody tr th {\n",
       "        vertical-align: top;\n",
       "    }\n",
       "\n",
       "    .dataframe thead th {\n",
       "        text-align: right;\n",
       "    }\n",
       "</style>\n",
       "<table border=\"1\" class=\"dataframe\">\n",
       "  <thead>\n",
       "    <tr style=\"text-align: right;\">\n",
       "      <th></th>\n",
       "      <th>date_posted</th>\n",
       "    </tr>\n",
       "    <tr>\n",
       "      <th>type</th>\n",
       "      <th></th>\n",
       "    </tr>\n",
       "  </thead>\n",
       "  <tbody>\n",
       "    <tr>\n",
       "      <td>SUV</td>\n",
       "      <td>9337</td>\n",
       "    </tr>\n",
       "    <tr>\n",
       "      <td>bus</td>\n",
       "      <td>20</td>\n",
       "    </tr>\n",
       "    <tr>\n",
       "      <td>convertible</td>\n",
       "      <td>270</td>\n",
       "    </tr>\n",
       "    <tr>\n",
       "      <td>coupe</td>\n",
       "      <td>1591</td>\n",
       "    </tr>\n",
       "    <tr>\n",
       "      <td>hatchback</td>\n",
       "      <td>809</td>\n",
       "    </tr>\n",
       "    <tr>\n",
       "      <td>mini-van</td>\n",
       "      <td>918</td>\n",
       "    </tr>\n",
       "    <tr>\n",
       "      <td>offroad</td>\n",
       "      <td>150</td>\n",
       "    </tr>\n",
       "    <tr>\n",
       "      <td>other</td>\n",
       "      <td>185</td>\n",
       "    </tr>\n",
       "    <tr>\n",
       "      <td>pickup</td>\n",
       "      <td>4925</td>\n",
       "    </tr>\n",
       "    <tr>\n",
       "      <td>sedan</td>\n",
       "      <td>9438</td>\n",
       "    </tr>\n",
       "    <tr>\n",
       "      <td>truck</td>\n",
       "      <td>8815</td>\n",
       "    </tr>\n",
       "    <tr>\n",
       "      <td>van</td>\n",
       "      <td>460</td>\n",
       "    </tr>\n",
       "    <tr>\n",
       "      <td>wagon</td>\n",
       "      <td>1184</td>\n",
       "    </tr>\n",
       "  </tbody>\n",
       "</table>\n",
       "</div>"
      ],
      "text/plain": [
       "             date_posted\n",
       "type                    \n",
       "SUV                 9337\n",
       "bus                   20\n",
       "convertible          270\n",
       "coupe               1591\n",
       "hatchback            809\n",
       "mini-van             918\n",
       "offroad              150\n",
       "other                185\n",
       "pickup              4925\n",
       "sedan               9438\n",
       "truck               8815\n",
       "van                  460\n",
       "wagon               1184"
      ]
     },
     "metadata": {},
     "output_type": "display_data"
    }
   ],
   "source": [
    "# Create a pivot table to display the number of ads posted for each type of vehicle\n",
    "ads_per_type = pd.pivot_table(new_vehicles_us, index = 'type', values = 'date_posted', aggfunc = 'count')\n",
    "display(ads_per_type)\n"
   ]
  },
  {
   "cell_type": "code",
   "execution_count": 152,
   "metadata": {},
   "outputs": [
    {
     "data": {
      "text/html": [
       "<div>\n",
       "<style scoped>\n",
       "    .dataframe tbody tr th:only-of-type {\n",
       "        vertical-align: middle;\n",
       "    }\n",
       "\n",
       "    .dataframe tbody tr th {\n",
       "        vertical-align: top;\n",
       "    }\n",
       "\n",
       "    .dataframe thead th {\n",
       "        text-align: right;\n",
       "    }\n",
       "</style>\n",
       "<table border=\"1\" class=\"dataframe\">\n",
       "  <thead>\n",
       "    <tr style=\"text-align: right;\">\n",
       "      <th></th>\n",
       "      <th>price</th>\n",
       "    </tr>\n",
       "    <tr>\n",
       "      <th>type</th>\n",
       "      <th></th>\n",
       "    </tr>\n",
       "  </thead>\n",
       "  <tbody>\n",
       "    <tr>\n",
       "      <td>hatchback</td>\n",
       "      <td>6755.729295</td>\n",
       "    </tr>\n",
       "    <tr>\n",
       "      <td>sedan</td>\n",
       "      <td>6980.768383</td>\n",
       "    </tr>\n",
       "    <tr>\n",
       "      <td>mini-van</td>\n",
       "      <td>8122.911765</td>\n",
       "    </tr>\n",
       "    <tr>\n",
       "      <td>wagon</td>\n",
       "      <td>8901.094595</td>\n",
       "    </tr>\n",
       "    <tr>\n",
       "      <td>van</td>\n",
       "      <td>8964.843478</td>\n",
       "    </tr>\n",
       "    <tr>\n",
       "      <td>other</td>\n",
       "      <td>10296.313514</td>\n",
       "    </tr>\n",
       "    <tr>\n",
       "      <td>SUV</td>\n",
       "      <td>10507.212916</td>\n",
       "    </tr>\n",
       "    <tr>\n",
       "      <td>convertible</td>\n",
       "      <td>13060.737037</td>\n",
       "    </tr>\n",
       "    <tr>\n",
       "      <td>coupe</td>\n",
       "      <td>13555.048397</td>\n",
       "    </tr>\n",
       "    <tr>\n",
       "      <td>offroad</td>\n",
       "      <td>14576.013333</td>\n",
       "    </tr>\n",
       "    <tr>\n",
       "      <td>truck</td>\n",
       "      <td>15076.762791</td>\n",
       "    </tr>\n",
       "    <tr>\n",
       "      <td>pickup</td>\n",
       "      <td>15128.797157</td>\n",
       "    </tr>\n",
       "    <tr>\n",
       "      <td>bus</td>\n",
       "      <td>17563.300000</td>\n",
       "    </tr>\n",
       "  </tbody>\n",
       "</table>\n",
       "</div>"
      ],
      "text/plain": [
       "                    price\n",
       "type                     \n",
       "hatchback     6755.729295\n",
       "sedan         6980.768383\n",
       "mini-van      8122.911765\n",
       "wagon         8901.094595\n",
       "van           8964.843478\n",
       "other        10296.313514\n",
       "SUV          10507.212916\n",
       "convertible  13060.737037\n",
       "coupe        13555.048397\n",
       "offroad      14576.013333\n",
       "truck        15076.762791\n",
       "pickup       15128.797157\n",
       "bus          17563.300000"
      ]
     },
     "metadata": {},
     "output_type": "display_data"
    }
   ],
   "source": [
    "# Create a pivot table to display the average price for each type of vehicle\n",
    "price_per_type = pd.pivot_table(new_vehicles_us, index = 'type', values = 'price', aggfunc = 'mean').sort_values(by = 'price')\n",
    "display(price_per_type)\n"
   ]
  },
  {
   "cell_type": "code",
   "execution_count": 153,
   "metadata": {},
   "outputs": [
    {
     "data": {
      "text/html": [
       "<div>\n",
       "<style scoped>\n",
       "    .dataframe tbody tr th:only-of-type {\n",
       "        vertical-align: middle;\n",
       "    }\n",
       "\n",
       "    .dataframe tbody tr th {\n",
       "        vertical-align: top;\n",
       "    }\n",
       "\n",
       "    .dataframe thead th {\n",
       "        text-align: right;\n",
       "    }\n",
       "</style>\n",
       "<table border=\"1\" class=\"dataframe\">\n",
       "  <thead>\n",
       "    <tr style=\"text-align: right;\">\n",
       "      <th></th>\n",
       "      <th>price</th>\n",
       "      <th>number_of_ads</th>\n",
       "    </tr>\n",
       "    <tr>\n",
       "      <th>type</th>\n",
       "      <th></th>\n",
       "      <th></th>\n",
       "    </tr>\n",
       "  </thead>\n",
       "  <tbody>\n",
       "    <tr>\n",
       "      <td>bus</td>\n",
       "      <td>17563.300000</td>\n",
       "      <td>20</td>\n",
       "    </tr>\n",
       "    <tr>\n",
       "      <td>offroad</td>\n",
       "      <td>14576.013333</td>\n",
       "      <td>150</td>\n",
       "    </tr>\n",
       "    <tr>\n",
       "      <td>other</td>\n",
       "      <td>10296.313514</td>\n",
       "      <td>185</td>\n",
       "    </tr>\n",
       "    <tr>\n",
       "      <td>convertible</td>\n",
       "      <td>13060.737037</td>\n",
       "      <td>270</td>\n",
       "    </tr>\n",
       "    <tr>\n",
       "      <td>van</td>\n",
       "      <td>8964.843478</td>\n",
       "      <td>460</td>\n",
       "    </tr>\n",
       "    <tr>\n",
       "      <td>hatchback</td>\n",
       "      <td>6755.729295</td>\n",
       "      <td>809</td>\n",
       "    </tr>\n",
       "    <tr>\n",
       "      <td>mini-van</td>\n",
       "      <td>8122.911765</td>\n",
       "      <td>918</td>\n",
       "    </tr>\n",
       "    <tr>\n",
       "      <td>wagon</td>\n",
       "      <td>8901.094595</td>\n",
       "      <td>1184</td>\n",
       "    </tr>\n",
       "    <tr>\n",
       "      <td>coupe</td>\n",
       "      <td>13555.048397</td>\n",
       "      <td>1591</td>\n",
       "    </tr>\n",
       "    <tr>\n",
       "      <td>pickup</td>\n",
       "      <td>15128.797157</td>\n",
       "      <td>4925</td>\n",
       "    </tr>\n",
       "    <tr>\n",
       "      <td>truck</td>\n",
       "      <td>15076.762791</td>\n",
       "      <td>8815</td>\n",
       "    </tr>\n",
       "    <tr>\n",
       "      <td>SUV</td>\n",
       "      <td>10507.212916</td>\n",
       "      <td>9337</td>\n",
       "    </tr>\n",
       "    <tr>\n",
       "      <td>sedan</td>\n",
       "      <td>6980.768383</td>\n",
       "      <td>9438</td>\n",
       "    </tr>\n",
       "  </tbody>\n",
       "</table>\n",
       "</div>"
      ],
      "text/plain": [
       "                    price  number_of_ads\n",
       "type                                    \n",
       "bus          17563.300000             20\n",
       "offroad      14576.013333            150\n",
       "other        10296.313514            185\n",
       "convertible  13060.737037            270\n",
       "van           8964.843478            460\n",
       "hatchback     6755.729295            809\n",
       "mini-van      8122.911765            918\n",
       "wagon         8901.094595           1184\n",
       "coupe        13555.048397           1591\n",
       "pickup       15128.797157           4925\n",
       "truck        15076.762791           8815\n",
       "SUV          10507.212916           9337\n",
       "sedan         6980.768383           9438"
      ]
     },
     "metadata": {},
     "output_type": "display_data"
    }
   ],
   "source": [
    "# Combine the two pivot tables by adding the number of ads posted to the 'price_per_type' table\n",
    "price_per_type['number_of_ads'] = ads_per_type['date_posted']\n",
    "price_per_type = price_per_type.sort_values(by = 'number_of_ads')\n",
    "display(price_per_type)\n"
   ]
  },
  {
   "cell_type": "markdown",
   "metadata": {},
   "source": [
    "Pivot tables were generated for the number of ads and price by vehicle type and were then combined to form one table with data from both tables."
   ]
  },
  {
   "cell_type": "code",
   "execution_count": 154,
   "metadata": {},
   "outputs": [
    {
     "data": {
      "image/png": "[encoded data removed]",
      "text/plain": [
       "<Figure size 432x288 with 1 Axes>"
      ]
     },
     "metadata": {
      "needs_background": "light"
     },
     "output_type": "display_data"
    }
   ],
   "source": [
    "# Create a scatterplot of the 'price_per_type' table to show the relationship between the number of ads placed and the price by vehicle type\n",
    "price_per_type.plot.scatter(x = 'price', y = 'number_of_ads');\n"
   ]
  },
  {
   "cell_type": "markdown",
   "metadata": {},
   "source": [
    "A scatterplot of the final 'price_per_type' table was graphed to examine whether or not the price of a vehicle by type is dependent on the number of ads by vehicle type. According to the above plot, there does not seem to be a trend/relationship between the two factors which indicates that they do not seem to be dependent on each other.\n",
    "\n",
    "The two vehicle types with the greatest number of ads turned out to be SUV (9,337 ads) and sedan (9,438 ads)."
   ]
  },
  {
   "cell_type": "markdown",
   "metadata": {},
   "source": [
    "## Price factors"
   ]
  },
  {
   "cell_type": "markdown",
   "metadata": {},
   "source": [
    "In order to determine which factors impact price the most, the two most popular vehicles types based on the previous analysis--SUV and sedan--will be studied to determine whether price depends on age, mileage, condition, transmission type, and color."
   ]
  },
  {
   "cell_type": "code",
   "execution_count": 155,
   "metadata": {},
   "outputs": [
    {
     "data": {
      "text/html": [
       "<div>\n",
       "<style scoped>\n",
       "    .dataframe tbody tr th:only-of-type {\n",
       "        vertical-align: middle;\n",
       "    }\n",
       "\n",
       "    .dataframe tbody tr th {\n",
       "        vertical-align: top;\n",
       "    }\n",
       "\n",
       "    .dataframe thead th {\n",
       "        text-align: right;\n",
       "    }\n",
       "</style>\n",
       "<table border=\"1\" class=\"dataframe\">\n",
       "  <thead>\n",
       "    <tr style=\"text-align: right;\">\n",
       "      <th></th>\n",
       "      <th>price</th>\n",
       "      <th>model_year</th>\n",
       "      <th>model</th>\n",
       "      <th>condition</th>\n",
       "      <th>cylinders</th>\n",
       "      <th>fuel</th>\n",
       "      <th>odometer</th>\n",
       "      <th>transmission</th>\n",
       "      <th>type</th>\n",
       "      <th>paint_color</th>\n",
       "      <th>is_4wd</th>\n",
       "      <th>date_posted</th>\n",
       "      <th>days_listed</th>\n",
       "      <th>day_of_week</th>\n",
       "      <th>month</th>\n",
       "      <th>year</th>\n",
       "      <th>age</th>\n",
       "      <th>avg_mileage</th>\n",
       "      <th>condition_cat</th>\n",
       "    </tr>\n",
       "  </thead>\n",
       "  <tbody>\n",
       "    <tr>\n",
       "      <td>0</td>\n",
       "      <td>9400</td>\n",
       "      <td>2011</td>\n",
       "      <td>bmw x5</td>\n",
       "      <td>good</td>\n",
       "      <td>6</td>\n",
       "      <td>gas</td>\n",
       "      <td>145000</td>\n",
       "      <td>automatic</td>\n",
       "      <td>SUV</td>\n",
       "      <td>NaN</td>\n",
       "      <td>1</td>\n",
       "      <td>2018-06-23</td>\n",
       "      <td>19</td>\n",
       "      <td>5</td>\n",
       "      <td>6</td>\n",
       "      <td>2018</td>\n",
       "      <td>7</td>\n",
       "      <td>20714</td>\n",
       "      <td>2</td>\n",
       "    </tr>\n",
       "    <tr>\n",
       "      <td>7</td>\n",
       "      <td>15990</td>\n",
       "      <td>2013</td>\n",
       "      <td>honda pilot</td>\n",
       "      <td>excellent</td>\n",
       "      <td>6</td>\n",
       "      <td>gas</td>\n",
       "      <td>109473</td>\n",
       "      <td>automatic</td>\n",
       "      <td>SUV</td>\n",
       "      <td>black</td>\n",
       "      <td>1</td>\n",
       "      <td>2019-01-07</td>\n",
       "      <td>68</td>\n",
       "      <td>0</td>\n",
       "      <td>1</td>\n",
       "      <td>2019</td>\n",
       "      <td>6</td>\n",
       "      <td>18246</td>\n",
       "      <td>3</td>\n",
       "    </tr>\n",
       "    <tr>\n",
       "      <td>8</td>\n",
       "      <td>11500</td>\n",
       "      <td>2012</td>\n",
       "      <td>kia sorento</td>\n",
       "      <td>excellent</td>\n",
       "      <td>4</td>\n",
       "      <td>gas</td>\n",
       "      <td>104174</td>\n",
       "      <td>automatic</td>\n",
       "      <td>SUV</td>\n",
       "      <td>NaN</td>\n",
       "      <td>1</td>\n",
       "      <td>2018-07-16</td>\n",
       "      <td>19</td>\n",
       "      <td>0</td>\n",
       "      <td>7</td>\n",
       "      <td>2018</td>\n",
       "      <td>6</td>\n",
       "      <td>17362</td>\n",
       "      <td>3</td>\n",
       "    </tr>\n",
       "    <tr>\n",
       "      <td>9</td>\n",
       "      <td>9200</td>\n",
       "      <td>2008</td>\n",
       "      <td>honda pilot</td>\n",
       "      <td>excellent</td>\n",
       "      <td>6</td>\n",
       "      <td>gas</td>\n",
       "      <td>147191</td>\n",
       "      <td>automatic</td>\n",
       "      <td>SUV</td>\n",
       "      <td>blue</td>\n",
       "      <td>1</td>\n",
       "      <td>2019-02-15</td>\n",
       "      <td>17</td>\n",
       "      <td>4</td>\n",
       "      <td>2</td>\n",
       "      <td>2019</td>\n",
       "      <td>11</td>\n",
       "      <td>13381</td>\n",
       "      <td>3</td>\n",
       "    </tr>\n",
       "    <tr>\n",
       "      <td>14</td>\n",
       "      <td>12990</td>\n",
       "      <td>2009</td>\n",
       "      <td>gmc yukon</td>\n",
       "      <td>excellent</td>\n",
       "      <td>8</td>\n",
       "      <td>gas</td>\n",
       "      <td>132285</td>\n",
       "      <td>automatic</td>\n",
       "      <td>SUV</td>\n",
       "      <td>black</td>\n",
       "      <td>1</td>\n",
       "      <td>2019-01-31</td>\n",
       "      <td>24</td>\n",
       "      <td>3</td>\n",
       "      <td>1</td>\n",
       "      <td>2019</td>\n",
       "      <td>10</td>\n",
       "      <td>13228</td>\n",
       "      <td>3</td>\n",
       "    </tr>\n",
       "    <tr>\n",
       "      <td>...</td>\n",
       "      <td>...</td>\n",
       "      <td>...</td>\n",
       "      <td>...</td>\n",
       "      <td>...</td>\n",
       "      <td>...</td>\n",
       "      <td>...</td>\n",
       "      <td>...</td>\n",
       "      <td>...</td>\n",
       "      <td>...</td>\n",
       "      <td>...</td>\n",
       "      <td>...</td>\n",
       "      <td>...</td>\n",
       "      <td>...</td>\n",
       "      <td>...</td>\n",
       "      <td>...</td>\n",
       "      <td>...</td>\n",
       "      <td>...</td>\n",
       "      <td>...</td>\n",
       "      <td>...</td>\n",
       "    </tr>\n",
       "    <tr>\n",
       "      <td>51494</td>\n",
       "      <td>7999</td>\n",
       "      <td>2009</td>\n",
       "      <td>chevrolet equinox</td>\n",
       "      <td>excellent</td>\n",
       "      <td>6</td>\n",
       "      <td>gas</td>\n",
       "      <td>95021</td>\n",
       "      <td>automatic</td>\n",
       "      <td>SUV</td>\n",
       "      <td>silver</td>\n",
       "      <td>1</td>\n",
       "      <td>2019-01-03</td>\n",
       "      <td>8</td>\n",
       "      <td>3</td>\n",
       "      <td>1</td>\n",
       "      <td>2019</td>\n",
       "      <td>10</td>\n",
       "      <td>9502</td>\n",
       "      <td>3</td>\n",
       "    </tr>\n",
       "    <tr>\n",
       "      <td>51495</td>\n",
       "      <td>9500</td>\n",
       "      <td>2012</td>\n",
       "      <td>chevrolet traverse</td>\n",
       "      <td>good</td>\n",
       "      <td>6</td>\n",
       "      <td>gas</td>\n",
       "      <td>144500</td>\n",
       "      <td>automatic</td>\n",
       "      <td>SUV</td>\n",
       "      <td>NaN</td>\n",
       "      <td>1</td>\n",
       "      <td>2019-03-05</td>\n",
       "      <td>1</td>\n",
       "      <td>1</td>\n",
       "      <td>3</td>\n",
       "      <td>2019</td>\n",
       "      <td>7</td>\n",
       "      <td>20643</td>\n",
       "      <td>2</td>\n",
       "    </tr>\n",
       "    <tr>\n",
       "      <td>51496</td>\n",
       "      <td>4999</td>\n",
       "      <td>2002</td>\n",
       "      <td>toyota 4runner</td>\n",
       "      <td>excellent</td>\n",
       "      <td>6</td>\n",
       "      <td>gas</td>\n",
       "      <td>177901</td>\n",
       "      <td>automatic</td>\n",
       "      <td>SUV</td>\n",
       "      <td>NaN</td>\n",
       "      <td>1</td>\n",
       "      <td>2018-05-26</td>\n",
       "      <td>59</td>\n",
       "      <td>5</td>\n",
       "      <td>5</td>\n",
       "      <td>2018</td>\n",
       "      <td>16</td>\n",
       "      <td>11119</td>\n",
       "      <td>3</td>\n",
       "    </tr>\n",
       "    <tr>\n",
       "      <td>51500</td>\n",
       "      <td>6995</td>\n",
       "      <td>2012</td>\n",
       "      <td>buick enclave</td>\n",
       "      <td>excellent</td>\n",
       "      <td>6</td>\n",
       "      <td>gas</td>\n",
       "      <td>157000</td>\n",
       "      <td>automatic</td>\n",
       "      <td>SUV</td>\n",
       "      <td>white</td>\n",
       "      <td>1</td>\n",
       "      <td>2018-08-04</td>\n",
       "      <td>17</td>\n",
       "      <td>5</td>\n",
       "      <td>8</td>\n",
       "      <td>2018</td>\n",
       "      <td>6</td>\n",
       "      <td>26167</td>\n",
       "      <td>3</td>\n",
       "    </tr>\n",
       "    <tr>\n",
       "      <td>51502</td>\n",
       "      <td>7995</td>\n",
       "      <td>2011</td>\n",
       "      <td>chevrolet equinox</td>\n",
       "      <td>like new</td>\n",
       "      <td>4</td>\n",
       "      <td>gas</td>\n",
       "      <td>111088</td>\n",
       "      <td>automatic</td>\n",
       "      <td>SUV</td>\n",
       "      <td>NaN</td>\n",
       "      <td>0</td>\n",
       "      <td>2019-04-01</td>\n",
       "      <td>175</td>\n",
       "      <td>0</td>\n",
       "      <td>4</td>\n",
       "      <td>2019</td>\n",
       "      <td>8</td>\n",
       "      <td>13886</td>\n",
       "      <td>4</td>\n",
       "    </tr>\n",
       "  </tbody>\n",
       "</table>\n",
       "<p>9337 rows × 19 columns</p>\n",
       "</div>"
      ],
      "text/plain": [
       "       price  model_year               model  condition  cylinders fuel  \\\n",
       "0       9400        2011              bmw x5       good          6  gas   \n",
       "7      15990        2013         honda pilot  excellent          6  gas   \n",
       "8      11500        2012         kia sorento  excellent          4  gas   \n",
       "9       9200        2008         honda pilot  excellent          6  gas   \n",
       "14     12990        2009           gmc yukon  excellent          8  gas   \n",
       "...      ...         ...                 ...        ...        ...  ...   \n",
       "51494   7999        2009   chevrolet equinox  excellent          6  gas   \n",
       "51495   9500        2012  chevrolet traverse       good          6  gas   \n",
       "51496   4999        2002      toyota 4runner  excellent          6  gas   \n",
       "51500   6995        2012       buick enclave  excellent          6  gas   \n",
       "51502   7995        2011   chevrolet equinox   like new          4  gas   \n",
       "\n",
       "       odometer transmission type paint_color  is_4wd date_posted  \\\n",
       "0        145000    automatic  SUV         NaN       1  2018-06-23   \n",
       "7        109473    automatic  SUV       black       1  2019-01-07   \n",
       "8        104174    automatic  SUV         NaN       1  2018-07-16   \n",
       "9        147191    automatic  SUV        blue       1  2019-02-15   \n",
       "14       132285    automatic  SUV       black       1  2019-01-31   \n",
       "...         ...          ...  ...         ...     ...         ...   \n",
       "51494     95021    automatic  SUV      silver       1  2019-01-03   \n",
       "51495    144500    automatic  SUV         NaN       1  2019-03-05   \n",
       "51496    177901    automatic  SUV         NaN       1  2018-05-26   \n",
       "51500    157000    automatic  SUV       white       1  2018-08-04   \n",
       "51502    111088    automatic  SUV         NaN       0  2019-04-01   \n",
       "\n",
       "       days_listed  day_of_week  month  year  age  avg_mileage  condition_cat  \n",
       "0               19            5      6  2018    7        20714              2  \n",
       "7               68            0      1  2019    6        18246              3  \n",
       "8               19            0      7  2018    6        17362              3  \n",
       "9               17            4      2  2019   11        13381              3  \n",
       "14              24            3      1  2019   10        13228              3  \n",
       "...            ...          ...    ...   ...  ...          ...            ...  \n",
       "51494            8            3      1  2019   10         9502              3  \n",
       "51495            1            1      3  2019    7        20643              2  \n",
       "51496           59            5      5  2018   16        11119              3  \n",
       "51500           17            5      8  2018    6        26167              3  \n",
       "51502          175            0      4  2019    8        13886              4  \n",
       "\n",
       "[9337 rows x 19 columns]"
      ]
     },
     "metadata": {},
     "output_type": "display_data"
    }
   ],
   "source": [
    "# Create a slice of the new_vehicles_us dataframe that only includes data on SUV vehicle types\n",
    "suv_data = new_vehicles_us[new_vehicles_us['type'] == 'SUV']\n",
    "display(suv_data)\n"
   ]
  },
  {
   "cell_type": "markdown",
   "metadata": {},
   "source": [
    "For the purpose of this analysis, a slice of the new_vehicles_us dataframe that only includes data on SUV vehicle types was created and was named 'suv_data'"
   ]
  },
  {
   "cell_type": "code",
   "execution_count": 156,
   "metadata": {},
   "outputs": [
    {
     "data": {
      "text/plain": [
       "black     1647\n",
       "white     1464\n",
       "silver    1211\n",
       "grey       903\n",
       "blue       782\n",
       "red        696\n",
       "green      320\n",
       "brown      276\n",
       "custom     231\n",
       "orange      64\n",
       "yellow      32\n",
       "purple      31\n",
       "Name: paint_color, dtype: int64"
      ]
     },
     "execution_count": 156,
     "metadata": {},
     "output_type": "execute_result"
    }
   ],
   "source": [
    "# Check the counts of each value in the 'paint_color' column of 'suv_data' to ensure there is sufficient data (at least 50 rows) to be included in the analysis\n",
    "suv_data['paint_color'].value_counts()\n"
   ]
  },
  {
   "cell_type": "code",
   "execution_count": 157,
   "metadata": {},
   "outputs": [
    {
     "data": {
      "text/plain": [
       "automatic    8862\n",
       "manual        351\n",
       "other         124\n",
       "Name: transmission, dtype: int64"
      ]
     },
     "execution_count": 157,
     "metadata": {},
     "output_type": "execute_result"
    }
   ],
   "source": [
    "# Check the counts of each value in the 'transmission' column of 'suv_data' to ensure there is sufficient data (at least 50 rows) to be included in the analysis\n",
    "suv_data['transmission'].value_counts()\n"
   ]
  },
  {
   "cell_type": "code",
   "execution_count": 158,
   "metadata": {},
   "outputs": [
    {
     "data": {
      "text/plain": [
       "3    4930\n",
       "2    3302\n",
       "4     864\n",
       "1     217\n",
       "5      13\n",
       "0      11\n",
       "Name: condition_cat, dtype: int64"
      ]
     },
     "execution_count": 158,
     "metadata": {},
     "output_type": "execute_result"
    }
   ],
   "source": [
    "# Check the counts of each value in the 'condition_cat' column of 'suv_data' to ensure there is sufficient data (at least 50 rows) to be included in the analysis\n",
    "suv_data['condition_cat'].value_counts()\n"
   ]
  },
  {
   "cell_type": "markdown",
   "metadata": {},
   "source": [
    "In order to ensure that the analysis of the categorical variables in 'suv_data' is valid, the count of each category was examined to see if any contained less than 50 data points. Since the 'yellow' and 'purple' categories in 'paint_color' contain 32 and 31 data points respectively, and the 'new' and 'salvage' categories in 'condition_cat' contain 13 and 11 data points respectively, they will not be included in the boxplot analysis."
   ]
  },
  {
   "cell_type": "code",
   "execution_count": 159,
   "metadata": {},
   "outputs": [
    {
     "name": "stdout",
     "output_type": "stream",
     "text": [
      "<class 'pandas.core.frame.DataFrame'>\n",
      "Int64Index: 9337 entries, 0 to 51502\n",
      "Data columns (total 4 columns):\n",
      "price            9337 non-null int64\n",
      "age              9337 non-null Int64\n",
      "odometer         9337 non-null Int64\n",
      "condition_cat    9337 non-null int64\n",
      "dtypes: Int64(2), int64(2)\n",
      "memory usage: 383.0 KB\n"
     ]
    }
   ],
   "source": [
    "# Create a slice of 'suv_data' for plotting the matrix\n",
    "suv_scatter = suv_data[['price', 'age', 'odometer', 'condition_cat']]\n",
    "suv_scatter.info()\n"
   ]
  },
  {
   "cell_type": "code",
   "execution_count": 160,
   "metadata": {},
   "outputs": [
    {
     "name": "stdout",
     "output_type": "stream",
     "text": [
      "<class 'pandas.core.frame.DataFrame'>\n",
      "Int64Index: 9337 entries, 0 to 51502\n",
      "Data columns (total 4 columns):\n",
      "price            9337 non-null float64\n",
      "age              9337 non-null float64\n",
      "odometer         9337 non-null float64\n",
      "condition_cat    9337 non-null float64\n",
      "dtypes: float64(4)\n",
      "memory usage: 364.7 KB\n"
     ]
    }
   ],
   "source": [
    "# Convert 'suv_scatter' columns into float values to prevent errors when plotting the matrix\n",
    "suv_scatter = suv_scatter.astype(float)\n",
    "suv_scatter.info()\n"
   ]
  },
  {
   "cell_type": "markdown",
   "metadata": {},
   "source": [
    "A slice of 'suv_data' containing the columns that are necessary for plotting the scatterplot matrix was created and called 'suv_scatter'. The columns in 'suv_scatter' were all converted to float types to prevent errors when plotting the matrix."
   ]
  },
  {
   "cell_type": "code",
   "execution_count": 161,
   "metadata": {
    "scrolled": true
   },
   "outputs": [
    {
     "data": {
      "image/png": "[encoded data removed]",
      "text/plain": [
       "<Figure size 432x288 with 16 Axes>"
      ]
     },
     "metadata": {
      "needs_background": "light"
     },
     "output_type": "display_data"
    }
   ],
   "source": [
    "# Create a matrix of scatter plots for 'suv_scatter' to compare the variables of interest and their impact on price\n",
    "pd.plotting.scatter_matrix(suv_scatter);\n"
   ]
  },
  {
   "cell_type": "code",
   "execution_count": 162,
   "metadata": {},
   "outputs": [
    {
     "data": {
      "text/html": [
       "<div>\n",
       "<style scoped>\n",
       "    .dataframe tbody tr th:only-of-type {\n",
       "        vertical-align: middle;\n",
       "    }\n",
       "\n",
       "    .dataframe tbody tr th {\n",
       "        vertical-align: top;\n",
       "    }\n",
       "\n",
       "    .dataframe thead th {\n",
       "        text-align: right;\n",
       "    }\n",
       "</style>\n",
       "<table border=\"1\" class=\"dataframe\">\n",
       "  <thead>\n",
       "    <tr style=\"text-align: right;\">\n",
       "      <th></th>\n",
       "      <th>price</th>\n",
       "      <th>model_year</th>\n",
       "      <th>cylinders</th>\n",
       "      <th>odometer</th>\n",
       "      <th>is_4wd</th>\n",
       "      <th>days_listed</th>\n",
       "      <th>day_of_week</th>\n",
       "      <th>month</th>\n",
       "      <th>year</th>\n",
       "      <th>age</th>\n",
       "      <th>avg_mileage</th>\n",
       "      <th>condition_cat</th>\n",
       "    </tr>\n",
       "  </thead>\n",
       "  <tbody>\n",
       "    <tr>\n",
       "      <td>price</td>\n",
       "      <td>1.000000</td>\n",
       "      <td>0.603277</td>\n",
       "      <td>-0.008680</td>\n",
       "      <td>-0.514459</td>\n",
       "      <td>0.119590</td>\n",
       "      <td>-0.020636</td>\n",
       "      <td>0.006706</td>\n",
       "      <td>-0.005697</td>\n",
       "      <td>-0.003523</td>\n",
       "      <td>-0.601853</td>\n",
       "      <td>0.283830</td>\n",
       "      <td>0.258658</td>\n",
       "    </tr>\n",
       "    <tr>\n",
       "      <td>model_year</td>\n",
       "      <td>0.603277</td>\n",
       "      <td>1.000000</td>\n",
       "      <td>-0.269585</td>\n",
       "      <td>-0.620907</td>\n",
       "      <td>-0.067725</td>\n",
       "      <td>-0.022994</td>\n",
       "      <td>-0.003529</td>\n",
       "      <td>-0.017770</td>\n",
       "      <td>0.014954</td>\n",
       "      <td>-0.995718</td>\n",
       "      <td>0.557232</td>\n",
       "      <td>0.319779</td>\n",
       "    </tr>\n",
       "    <tr>\n",
       "      <td>cylinders</td>\n",
       "      <td>-0.008680</td>\n",
       "      <td>-0.269585</td>\n",
       "      <td>1.000000</td>\n",
       "      <td>0.229197</td>\n",
       "      <td>0.114163</td>\n",
       "      <td>0.022694</td>\n",
       "      <td>-0.008177</td>\n",
       "      <td>-0.001525</td>\n",
       "      <td>-0.003865</td>\n",
       "      <td>0.268446</td>\n",
       "      <td>-0.140468</td>\n",
       "      <td>-0.093662</td>\n",
       "    </tr>\n",
       "    <tr>\n",
       "      <td>odometer</td>\n",
       "      <td>-0.514459</td>\n",
       "      <td>-0.620907</td>\n",
       "      <td>0.229197</td>\n",
       "      <td>1.000000</td>\n",
       "      <td>0.024065</td>\n",
       "      <td>0.015040</td>\n",
       "      <td>0.006040</td>\n",
       "      <td>0.009122</td>\n",
       "      <td>-0.006309</td>\n",
       "      <td>0.618523</td>\n",
       "      <td>0.021995</td>\n",
       "      <td>-0.326592</td>\n",
       "    </tr>\n",
       "    <tr>\n",
       "      <td>is_4wd</td>\n",
       "      <td>0.119590</td>\n",
       "      <td>-0.067725</td>\n",
       "      <td>0.114163</td>\n",
       "      <td>0.024065</td>\n",
       "      <td>1.000000</td>\n",
       "      <td>-0.009819</td>\n",
       "      <td>0.030106</td>\n",
       "      <td>0.000059</td>\n",
       "      <td>-0.001212</td>\n",
       "      <td>0.067417</td>\n",
       "      <td>-0.040159</td>\n",
       "      <td>-0.004864</td>\n",
       "    </tr>\n",
       "    <tr>\n",
       "      <td>days_listed</td>\n",
       "      <td>-0.020636</td>\n",
       "      <td>-0.022994</td>\n",
       "      <td>0.022694</td>\n",
       "      <td>0.015040</td>\n",
       "      <td>-0.009819</td>\n",
       "      <td>1.000000</td>\n",
       "      <td>-0.005675</td>\n",
       "      <td>-0.005896</td>\n",
       "      <td>-0.005609</td>\n",
       "      <td>0.022409</td>\n",
       "      <td>-0.017047</td>\n",
       "      <td>-0.020651</td>\n",
       "    </tr>\n",
       "    <tr>\n",
       "      <td>day_of_week</td>\n",
       "      <td>0.006706</td>\n",
       "      <td>-0.003529</td>\n",
       "      <td>-0.008177</td>\n",
       "      <td>0.006040</td>\n",
       "      <td>0.030106</td>\n",
       "      <td>-0.005675</td>\n",
       "      <td>1.000000</td>\n",
       "      <td>0.028739</td>\n",
       "      <td>-0.024077</td>\n",
       "      <td>0.001293</td>\n",
       "      <td>-0.010126</td>\n",
       "      <td>0.006905</td>\n",
       "    </tr>\n",
       "    <tr>\n",
       "      <td>month</td>\n",
       "      <td>-0.005697</td>\n",
       "      <td>-0.017770</td>\n",
       "      <td>-0.001525</td>\n",
       "      <td>0.009122</td>\n",
       "      <td>0.000059</td>\n",
       "      <td>-0.005896</td>\n",
       "      <td>0.028739</td>\n",
       "      <td>1.000000</td>\n",
       "      <td>-0.819858</td>\n",
       "      <td>-0.058080</td>\n",
       "      <td>0.096814</td>\n",
       "      <td>-0.001661</td>\n",
       "    </tr>\n",
       "    <tr>\n",
       "      <td>year</td>\n",
       "      <td>-0.003523</td>\n",
       "      <td>0.014954</td>\n",
       "      <td>-0.003865</td>\n",
       "      <td>-0.006309</td>\n",
       "      <td>-0.001212</td>\n",
       "      <td>-0.005609</td>\n",
       "      <td>-0.024077</td>\n",
       "      <td>-0.819858</td>\n",
       "      <td>1.000000</td>\n",
       "      <td>0.077543</td>\n",
       "      <td>-0.114430</td>\n",
       "      <td>0.001121</td>\n",
       "    </tr>\n",
       "    <tr>\n",
       "      <td>age</td>\n",
       "      <td>-0.601853</td>\n",
       "      <td>-0.995718</td>\n",
       "      <td>0.268446</td>\n",
       "      <td>0.618523</td>\n",
       "      <td>0.067417</td>\n",
       "      <td>0.022409</td>\n",
       "      <td>0.001293</td>\n",
       "      <td>-0.058080</td>\n",
       "      <td>0.077543</td>\n",
       "      <td>1.000000</td>\n",
       "      <td>-0.567335</td>\n",
       "      <td>-0.318748</td>\n",
       "    </tr>\n",
       "    <tr>\n",
       "      <td>avg_mileage</td>\n",
       "      <td>0.283830</td>\n",
       "      <td>0.557232</td>\n",
       "      <td>-0.140468</td>\n",
       "      <td>0.021995</td>\n",
       "      <td>-0.040159</td>\n",
       "      <td>-0.017047</td>\n",
       "      <td>-0.010126</td>\n",
       "      <td>0.096814</td>\n",
       "      <td>-0.114430</td>\n",
       "      <td>-0.567335</td>\n",
       "      <td>1.000000</td>\n",
       "      <td>0.062539</td>\n",
       "    </tr>\n",
       "    <tr>\n",
       "      <td>condition_cat</td>\n",
       "      <td>0.258658</td>\n",
       "      <td>0.319779</td>\n",
       "      <td>-0.093662</td>\n",
       "      <td>-0.326592</td>\n",
       "      <td>-0.004864</td>\n",
       "      <td>-0.020651</td>\n",
       "      <td>0.006905</td>\n",
       "      <td>-0.001661</td>\n",
       "      <td>0.001121</td>\n",
       "      <td>-0.318748</td>\n",
       "      <td>0.062539</td>\n",
       "      <td>1.000000</td>\n",
       "    </tr>\n",
       "  </tbody>\n",
       "</table>\n",
       "</div>"
      ],
      "text/plain": [
       "                  price  model_year  cylinders  odometer    is_4wd  \\\n",
       "price          1.000000    0.603277  -0.008680 -0.514459  0.119590   \n",
       "model_year     0.603277    1.000000  -0.269585 -0.620907 -0.067725   \n",
       "cylinders     -0.008680   -0.269585   1.000000  0.229197  0.114163   \n",
       "odometer      -0.514459   -0.620907   0.229197  1.000000  0.024065   \n",
       "is_4wd         0.119590   -0.067725   0.114163  0.024065  1.000000   \n",
       "days_listed   -0.020636   -0.022994   0.022694  0.015040 -0.009819   \n",
       "day_of_week    0.006706   -0.003529  -0.008177  0.006040  0.030106   \n",
       "month         -0.005697   -0.017770  -0.001525  0.009122  0.000059   \n",
       "year          -0.003523    0.014954  -0.003865 -0.006309 -0.001212   \n",
       "age           -0.601853   -0.995718   0.268446  0.618523  0.067417   \n",
       "avg_mileage    0.283830    0.557232  -0.140468  0.021995 -0.040159   \n",
       "condition_cat  0.258658    0.319779  -0.093662 -0.326592 -0.004864   \n",
       "\n",
       "               days_listed  day_of_week     month      year       age  \\\n",
       "price            -0.020636     0.006706 -0.005697 -0.003523 -0.601853   \n",
       "model_year       -0.022994    -0.003529 -0.017770  0.014954 -0.995718   \n",
       "cylinders         0.022694    -0.008177 -0.001525 -0.003865  0.268446   \n",
       "odometer          0.015040     0.006040  0.009122 -0.006309  0.618523   \n",
       "is_4wd           -0.009819     0.030106  0.000059 -0.001212  0.067417   \n",
       "days_listed       1.000000    -0.005675 -0.005896 -0.005609  0.022409   \n",
       "day_of_week      -0.005675     1.000000  0.028739 -0.024077  0.001293   \n",
       "month            -0.005896     0.028739  1.000000 -0.819858 -0.058080   \n",
       "year             -0.005609    -0.024077 -0.819858  1.000000  0.077543   \n",
       "age               0.022409     0.001293 -0.058080  0.077543  1.000000   \n",
       "avg_mileage      -0.017047    -0.010126  0.096814 -0.114430 -0.567335   \n",
       "condition_cat    -0.020651     0.006905 -0.001661  0.001121 -0.318748   \n",
       "\n",
       "               avg_mileage  condition_cat  \n",
       "price             0.283830       0.258658  \n",
       "model_year        0.557232       0.319779  \n",
       "cylinders        -0.140468      -0.093662  \n",
       "odometer          0.021995      -0.326592  \n",
       "is_4wd           -0.040159      -0.004864  \n",
       "days_listed      -0.017047      -0.020651  \n",
       "day_of_week      -0.010126       0.006905  \n",
       "month             0.096814      -0.001661  \n",
       "year             -0.114430       0.001121  \n",
       "age              -0.567335      -0.318748  \n",
       "avg_mileage       1.000000       0.062539  \n",
       "condition_cat     0.062539       1.000000  "
      ]
     },
     "execution_count": 162,
     "metadata": {},
     "output_type": "execute_result"
    }
   ],
   "source": [
    "# Create a correlation plot for 'suv_data'\n",
    "suv_data.corr()\n"
   ]
  },
  {
   "cell_type": "markdown",
   "metadata": {},
   "source": [
    "A scatterplot matrix and correlation plot were generated in order to examine the relationship between price and the numeric columns (age, mileage, and condition) in 'suv_data'.\n",
    "\n",
    "Based on the results of the analysis on SUV type vehicles, there seems to be a negative correlation that exists between price and both age (-0.600982) and mileage (-0.513200). Older age and higher mileage tends to cause lower pricing for vehicles. The condition did not exhibit any meaningful trends and yielded a low level of correlation (0.257126) likely because the condition is still technically a categorical variable although numeric values were assigned to represent the categories. Therefore, it will be better to examine the relationship between price and condition using boxplots instead."
   ]
  },
  {
   "cell_type": "code",
   "execution_count": 163,
   "metadata": {},
   "outputs": [
    {
     "data": {
      "image/png": "[encoded data removed]",
      "text/plain": [
       "<Figure size 432x288 with 1 Axes>"
      ]
     },
     "metadata": {
      "needs_background": "light"
     },
     "output_type": "display_data"
    }
   ],
   "source": [
    "# Create boxplots to compare transmission and price in 'suv_data'\n",
    "suv_data.boxplot(column = ['price'], by = ['transmission']);\n"
   ]
  },
  {
   "cell_type": "markdown",
   "metadata": {},
   "source": [
    "Based on the above boxplot comparison of transmission type and price for SUV type vehicles, manual transmission vehicles are priced slightly higher than automatic vehicles. Vehicles with transmission types in the 'other' category have lower prices than the manual and automatic transmission vehicles."
   ]
  },
  {
   "cell_type": "code",
   "execution_count": 164,
   "metadata": {},
   "outputs": [
    {
     "data": {
      "image/png": "[encoded data removed]",
      "text/plain": [
       "<Figure size 432x288 with 1 Axes>"
      ]
     },
     "metadata": {
      "needs_background": "light"
     },
     "output_type": "display_data"
    }
   ],
   "source": [
    "# Create boxplots to compare paint color and price in 'suv_data'\n",
    "suv_data.boxplot(column = ['price'], by = ['paint_color']);\n"
   ]
  },
  {
   "cell_type": "markdown",
   "metadata": {},
   "source": [
    "Based on the above boxplot comparison of paint color and price for SUV type vehicles, orange, white, and black vehicles are priced slightly higher than the other paint colors. It should be noted, however, that the 'orange' category had only 64 data points which is why the data may be a little more unreliable than the other categories."
   ]
  },
  {
   "cell_type": "code",
   "execution_count": 165,
   "metadata": {},
   "outputs": [
    {
     "data": {
      "image/png": "[encoded data removed]",
      "text/plain": [
       "<Figure size 432x288 with 1 Axes>"
      ]
     },
     "metadata": {
      "needs_background": "light"
     },
     "output_type": "display_data"
    }
   ],
   "source": [
    "# Create boxplots to compare condition and price in 'suv_data'\n",
    "suv_data.boxplot(column = ['price'], by = ['condition']);\n"
   ]
  },
  {
   "cell_type": "markdown",
   "metadata": {},
   "source": [
    "Based on the above boxplot comparison of condition and price for SUV type vehicles, the 'like new' vehicles were priced the highest, followed by 'excellent', 'good', and 'fair' vehicles."
   ]
  },
  {
   "cell_type": "code",
   "execution_count": 166,
   "metadata": {},
   "outputs": [
    {
     "data": {
      "text/html": [
       "<div>\n",
       "<style scoped>\n",
       "    .dataframe tbody tr th:only-of-type {\n",
       "        vertical-align: middle;\n",
       "    }\n",
       "\n",
       "    .dataframe tbody tr th {\n",
       "        vertical-align: top;\n",
       "    }\n",
       "\n",
       "    .dataframe thead th {\n",
       "        text-align: right;\n",
       "    }\n",
       "</style>\n",
       "<table border=\"1\" class=\"dataframe\">\n",
       "  <thead>\n",
       "    <tr style=\"text-align: right;\">\n",
       "      <th></th>\n",
       "      <th>price</th>\n",
       "      <th>model_year</th>\n",
       "      <th>model</th>\n",
       "      <th>condition</th>\n",
       "      <th>cylinders</th>\n",
       "      <th>fuel</th>\n",
       "      <th>odometer</th>\n",
       "      <th>transmission</th>\n",
       "      <th>type</th>\n",
       "      <th>paint_color</th>\n",
       "      <th>is_4wd</th>\n",
       "      <th>date_posted</th>\n",
       "      <th>days_listed</th>\n",
       "      <th>day_of_week</th>\n",
       "      <th>month</th>\n",
       "      <th>year</th>\n",
       "      <th>age</th>\n",
       "      <th>avg_mileage</th>\n",
       "      <th>condition_cat</th>\n",
       "    </tr>\n",
       "  </thead>\n",
       "  <tbody>\n",
       "    <tr>\n",
       "      <td>2</td>\n",
       "      <td>5500</td>\n",
       "      <td>2013</td>\n",
       "      <td>hyundai sonata</td>\n",
       "      <td>like new</td>\n",
       "      <td>4</td>\n",
       "      <td>gas</td>\n",
       "      <td>110000</td>\n",
       "      <td>automatic</td>\n",
       "      <td>sedan</td>\n",
       "      <td>red</td>\n",
       "      <td>0</td>\n",
       "      <td>2019-02-07</td>\n",
       "      <td>79</td>\n",
       "      <td>3</td>\n",
       "      <td>2</td>\n",
       "      <td>2019</td>\n",
       "      <td>6</td>\n",
       "      <td>18333</td>\n",
       "      <td>4</td>\n",
       "    </tr>\n",
       "    <tr>\n",
       "      <td>4</td>\n",
       "      <td>14900</td>\n",
       "      <td>2017</td>\n",
       "      <td>chrysler 200</td>\n",
       "      <td>excellent</td>\n",
       "      <td>4</td>\n",
       "      <td>gas</td>\n",
       "      <td>80903</td>\n",
       "      <td>automatic</td>\n",
       "      <td>sedan</td>\n",
       "      <td>black</td>\n",
       "      <td>0</td>\n",
       "      <td>2019-04-02</td>\n",
       "      <td>28</td>\n",
       "      <td>1</td>\n",
       "      <td>4</td>\n",
       "      <td>2019</td>\n",
       "      <td>2</td>\n",
       "      <td>40452</td>\n",
       "      <td>3</td>\n",
       "    </tr>\n",
       "    <tr>\n",
       "      <td>5</td>\n",
       "      <td>14990</td>\n",
       "      <td>2014</td>\n",
       "      <td>chrysler 300</td>\n",
       "      <td>excellent</td>\n",
       "      <td>6</td>\n",
       "      <td>gas</td>\n",
       "      <td>57954</td>\n",
       "      <td>automatic</td>\n",
       "      <td>sedan</td>\n",
       "      <td>black</td>\n",
       "      <td>1</td>\n",
       "      <td>2018-06-20</td>\n",
       "      <td>15</td>\n",
       "      <td>2</td>\n",
       "      <td>6</td>\n",
       "      <td>2018</td>\n",
       "      <td>4</td>\n",
       "      <td>14488</td>\n",
       "      <td>3</td>\n",
       "    </tr>\n",
       "    <tr>\n",
       "      <td>6</td>\n",
       "      <td>12990</td>\n",
       "      <td>2015</td>\n",
       "      <td>toyota camry</td>\n",
       "      <td>excellent</td>\n",
       "      <td>4</td>\n",
       "      <td>gas</td>\n",
       "      <td>79212</td>\n",
       "      <td>automatic</td>\n",
       "      <td>sedan</td>\n",
       "      <td>white</td>\n",
       "      <td>0</td>\n",
       "      <td>2018-12-27</td>\n",
       "      <td>73</td>\n",
       "      <td>3</td>\n",
       "      <td>12</td>\n",
       "      <td>2018</td>\n",
       "      <td>3</td>\n",
       "      <td>26404</td>\n",
       "      <td>3</td>\n",
       "    </tr>\n",
       "    <tr>\n",
       "      <td>11</td>\n",
       "      <td>8990</td>\n",
       "      <td>2012</td>\n",
       "      <td>honda accord</td>\n",
       "      <td>excellent</td>\n",
       "      <td>4</td>\n",
       "      <td>gas</td>\n",
       "      <td>111142</td>\n",
       "      <td>automatic</td>\n",
       "      <td>sedan</td>\n",
       "      <td>grey</td>\n",
       "      <td>0</td>\n",
       "      <td>2019-03-28</td>\n",
       "      <td>29</td>\n",
       "      <td>3</td>\n",
       "      <td>3</td>\n",
       "      <td>2019</td>\n",
       "      <td>7</td>\n",
       "      <td>15877</td>\n",
       "      <td>3</td>\n",
       "    </tr>\n",
       "    <tr>\n",
       "      <td>...</td>\n",
       "      <td>...</td>\n",
       "      <td>...</td>\n",
       "      <td>...</td>\n",
       "      <td>...</td>\n",
       "      <td>...</td>\n",
       "      <td>...</td>\n",
       "      <td>...</td>\n",
       "      <td>...</td>\n",
       "      <td>...</td>\n",
       "      <td>...</td>\n",
       "      <td>...</td>\n",
       "      <td>...</td>\n",
       "      <td>...</td>\n",
       "      <td>...</td>\n",
       "      <td>...</td>\n",
       "      <td>...</td>\n",
       "      <td>...</td>\n",
       "      <td>...</td>\n",
       "      <td>...</td>\n",
       "    </tr>\n",
       "    <tr>\n",
       "      <td>51518</td>\n",
       "      <td>3750</td>\n",
       "      <td>2005</td>\n",
       "      <td>ford taurus</td>\n",
       "      <td>excellent</td>\n",
       "      <td>6</td>\n",
       "      <td>gas</td>\n",
       "      <td>110200</td>\n",
       "      <td>automatic</td>\n",
       "      <td>sedan</td>\n",
       "      <td>silver</td>\n",
       "      <td>0</td>\n",
       "      <td>2018-08-10</td>\n",
       "      <td>63</td>\n",
       "      <td>4</td>\n",
       "      <td>8</td>\n",
       "      <td>2018</td>\n",
       "      <td>13</td>\n",
       "      <td>8477</td>\n",
       "      <td>3</td>\n",
       "    </tr>\n",
       "    <tr>\n",
       "      <td>51520</td>\n",
       "      <td>9249</td>\n",
       "      <td>2013</td>\n",
       "      <td>nissan maxima</td>\n",
       "      <td>like new</td>\n",
       "      <td>6</td>\n",
       "      <td>gas</td>\n",
       "      <td>88136</td>\n",
       "      <td>automatic</td>\n",
       "      <td>sedan</td>\n",
       "      <td>black</td>\n",
       "      <td>0</td>\n",
       "      <td>2018-10-03</td>\n",
       "      <td>37</td>\n",
       "      <td>2</td>\n",
       "      <td>10</td>\n",
       "      <td>2018</td>\n",
       "      <td>5</td>\n",
       "      <td>17627</td>\n",
       "      <td>4</td>\n",
       "    </tr>\n",
       "    <tr>\n",
       "      <td>51521</td>\n",
       "      <td>2700</td>\n",
       "      <td>2002</td>\n",
       "      <td>honda civic</td>\n",
       "      <td>salvage</td>\n",
       "      <td>4</td>\n",
       "      <td>gas</td>\n",
       "      <td>181500</td>\n",
       "      <td>automatic</td>\n",
       "      <td>sedan</td>\n",
       "      <td>white</td>\n",
       "      <td>0</td>\n",
       "      <td>2018-11-14</td>\n",
       "      <td>22</td>\n",
       "      <td>2</td>\n",
       "      <td>11</td>\n",
       "      <td>2018</td>\n",
       "      <td>16</td>\n",
       "      <td>11344</td>\n",
       "      <td>0</td>\n",
       "    </tr>\n",
       "    <tr>\n",
       "      <td>51522</td>\n",
       "      <td>3950</td>\n",
       "      <td>2009</td>\n",
       "      <td>hyundai sonata</td>\n",
       "      <td>excellent</td>\n",
       "      <td>4</td>\n",
       "      <td>gas</td>\n",
       "      <td>128000</td>\n",
       "      <td>automatic</td>\n",
       "      <td>sedan</td>\n",
       "      <td>blue</td>\n",
       "      <td>0</td>\n",
       "      <td>2018-11-15</td>\n",
       "      <td>32</td>\n",
       "      <td>3</td>\n",
       "      <td>11</td>\n",
       "      <td>2018</td>\n",
       "      <td>9</td>\n",
       "      <td>14222</td>\n",
       "      <td>3</td>\n",
       "    </tr>\n",
       "    <tr>\n",
       "      <td>51523</td>\n",
       "      <td>7455</td>\n",
       "      <td>2013</td>\n",
       "      <td>toyota corolla</td>\n",
       "      <td>good</td>\n",
       "      <td>4</td>\n",
       "      <td>gas</td>\n",
       "      <td>139573</td>\n",
       "      <td>automatic</td>\n",
       "      <td>sedan</td>\n",
       "      <td>black</td>\n",
       "      <td>0</td>\n",
       "      <td>2018-07-02</td>\n",
       "      <td>71</td>\n",
       "      <td>0</td>\n",
       "      <td>7</td>\n",
       "      <td>2018</td>\n",
       "      <td>5</td>\n",
       "      <td>27915</td>\n",
       "      <td>2</td>\n",
       "    </tr>\n",
       "  </tbody>\n",
       "</table>\n",
       "<p>9438 rows × 19 columns</p>\n",
       "</div>"
      ],
      "text/plain": [
       "       price  model_year           model  condition  cylinders fuel  odometer  \\\n",
       "2       5500        2013  hyundai sonata   like new          4  gas    110000   \n",
       "4      14900        2017    chrysler 200  excellent          4  gas     80903   \n",
       "5      14990        2014    chrysler 300  excellent          6  gas     57954   \n",
       "6      12990        2015    toyota camry  excellent          4  gas     79212   \n",
       "11      8990        2012    honda accord  excellent          4  gas    111142   \n",
       "...      ...         ...             ...        ...        ...  ...       ...   \n",
       "51518   3750        2005     ford taurus  excellent          6  gas    110200   \n",
       "51520   9249        2013   nissan maxima   like new          6  gas     88136   \n",
       "51521   2700        2002     honda civic    salvage          4  gas    181500   \n",
       "51522   3950        2009  hyundai sonata  excellent          4  gas    128000   \n",
       "51523   7455        2013  toyota corolla       good          4  gas    139573   \n",
       "\n",
       "      transmission   type paint_color  is_4wd date_posted  days_listed  \\\n",
       "2        automatic  sedan         red       0  2019-02-07           79   \n",
       "4        automatic  sedan       black       0  2019-04-02           28   \n",
       "5        automatic  sedan       black       1  2018-06-20           15   \n",
       "6        automatic  sedan       white       0  2018-12-27           73   \n",
       "11       automatic  sedan        grey       0  2019-03-28           29   \n",
       "...            ...    ...         ...     ...         ...          ...   \n",
       "51518    automatic  sedan      silver       0  2018-08-10           63   \n",
       "51520    automatic  sedan       black       0  2018-10-03           37   \n",
       "51521    automatic  sedan       white       0  2018-11-14           22   \n",
       "51522    automatic  sedan        blue       0  2018-11-15           32   \n",
       "51523    automatic  sedan       black       0  2018-07-02           71   \n",
       "\n",
       "       day_of_week  month  year  age  avg_mileage  condition_cat  \n",
       "2                3      2  2019    6        18333              4  \n",
       "4                1      4  2019    2        40452              3  \n",
       "5                2      6  2018    4        14488              3  \n",
       "6                3     12  2018    3        26404              3  \n",
       "11               3      3  2019    7        15877              3  \n",
       "...            ...    ...   ...  ...          ...            ...  \n",
       "51518            4      8  2018   13         8477              3  \n",
       "51520            2     10  2018    5        17627              4  \n",
       "51521            2     11  2018   16        11344              0  \n",
       "51522            3     11  2018    9        14222              3  \n",
       "51523            0      7  2018    5        27915              2  \n",
       "\n",
       "[9438 rows x 19 columns]"
      ]
     },
     "metadata": {},
     "output_type": "display_data"
    }
   ],
   "source": [
    "# Create a slice of the new_vehicles_us dataframe that only includes data on sedan vehicle types\n",
    "sedan_data = new_vehicles_us[new_vehicles_us['type'] == 'sedan']\n",
    "display(sedan_data)\n"
   ]
  },
  {
   "cell_type": "markdown",
   "metadata": {},
   "source": [
    "For the purpose of this analysis, a slice of the new_vehicles_us dataframe that only includes data on sedan vehicle types was created and was named 'sedan_data'"
   ]
  },
  {
   "cell_type": "code",
   "execution_count": 167,
   "metadata": {},
   "outputs": [
    {
     "data": {
      "text/plain": [
       "silver    1605\n",
       "black     1383\n",
       "grey      1268\n",
       "white     1193\n",
       "blue       963\n",
       "red        733\n",
       "custom     224\n",
       "brown      190\n",
       "green      150\n",
       "purple      20\n",
       "yellow      15\n",
       "orange       8\n",
       "Name: paint_color, dtype: int64"
      ]
     },
     "execution_count": 167,
     "metadata": {},
     "output_type": "execute_result"
    }
   ],
   "source": [
    "# Check the counts of each value in the 'paint_color' column of 'sedan_data' to ensure there is sufficient data (at least 50 rows) to be included in the analysis\n",
    "sedan_data['paint_color'].value_counts()\n"
   ]
  },
  {
   "cell_type": "code",
   "execution_count": 168,
   "metadata": {},
   "outputs": [
    {
     "data": {
      "text/plain": [
       "automatic    8866\n",
       "manual        464\n",
       "other         108\n",
       "Name: transmission, dtype: int64"
      ]
     },
     "execution_count": 168,
     "metadata": {},
     "output_type": "execute_result"
    }
   ],
   "source": [
    "# Check the counts of each value in the 'transmission' column of 'sedan_data' to ensure there is sufficient data (at least 50 rows) to be included in the analysis\n",
    "sedan_data['transmission'].value_counts()\n"
   ]
  },
  {
   "cell_type": "code",
   "execution_count": 169,
   "metadata": {},
   "outputs": [
    {
     "data": {
      "text/plain": [
       "3    4806\n",
       "2    3340\n",
       "4    1010\n",
       "1     217\n",
       "5      35\n",
       "0      30\n",
       "Name: condition_cat, dtype: int64"
      ]
     },
     "execution_count": 169,
     "metadata": {},
     "output_type": "execute_result"
    }
   ],
   "source": [
    "# Check the counts of each value in the 'condition_cat' column of 'sedan_data' to ensure there is sufficient data (at least 50 rows) to be included in the analysis\n",
    "sedan_data['condition_cat'].value_counts()\n"
   ]
  },
  {
   "cell_type": "markdown",
   "metadata": {},
   "source": [
    "In order to ensure that the analysis of the categorical variables in 'sedan_data' is valid, the count of each category was examined to see if any contained less than 50 data points. Since the 'purple', 'yellow', and 'orange' categories in 'paint_color' contain 20, 15, and 8 data points respectively and the 'new' and 'salvage' categories in 'condition_cat' contain 35 and 30 data points respectively, they will not be included in the boxplot analysis."
   ]
  },
  {
   "cell_type": "code",
   "execution_count": 170,
   "metadata": {},
   "outputs": [
    {
     "name": "stdout",
     "output_type": "stream",
     "text": [
      "<class 'pandas.core.frame.DataFrame'>\n",
      "Int64Index: 9438 entries, 2 to 51523\n",
      "Data columns (total 4 columns):\n",
      "price            9438 non-null int64\n",
      "age              9438 non-null Int64\n",
      "odometer         9438 non-null Int64\n",
      "condition_cat    9438 non-null int64\n",
      "dtypes: Int64(2), int64(2)\n",
      "memory usage: 387.1 KB\n"
     ]
    }
   ],
   "source": [
    "# Create a slice of the 'sedan_data' for plotting the matrix\n",
    "sedan_scatter = sedan_data[['price', 'age', 'odometer', 'condition_cat']]\n",
    "sedan_scatter.info()\n"
   ]
  },
  {
   "cell_type": "code",
   "execution_count": 171,
   "metadata": {},
   "outputs": [
    {
     "name": "stdout",
     "output_type": "stream",
     "text": [
      "<class 'pandas.core.frame.DataFrame'>\n",
      "Int64Index: 9438 entries, 2 to 51523\n",
      "Data columns (total 4 columns):\n",
      "price            9438 non-null float64\n",
      "age              9438 non-null float64\n",
      "odometer         9438 non-null float64\n",
      "condition_cat    9438 non-null float64\n",
      "dtypes: float64(4)\n",
      "memory usage: 368.7 KB\n"
     ]
    }
   ],
   "source": [
    "# Convert 'sedan_scatter' columns into float values to prevent errors when plotting the matrix\n",
    "sedan_scatter = sedan_scatter.astype(float)\n",
    "sedan_scatter.info()\n"
   ]
  },
  {
   "cell_type": "markdown",
   "metadata": {},
   "source": [
    "A slice of 'sedan_data' containing the columns that are necessary for plotting the scatterplot matrix was created and called 'sedan_scatter'. The columns in 'sedan_scatter' were all converted to float types to prevent errors when plotting the matrix."
   ]
  },
  {
   "cell_type": "code",
   "execution_count": 172,
   "metadata": {},
   "outputs": [
    {
     "data": {
      "image/png": "[encoded data removed]",
      "text/plain": [
       "<Figure size 432x288 with 16 Axes>"
      ]
     },
     "metadata": {
      "needs_background": "light"
     },
     "output_type": "display_data"
    }
   ],
   "source": [
    "# Create a matrix of scatter plots for 'sedan_scatter' to compare the variables of interest and their impact on price\n",
    "pd.plotting.scatter_matrix(sedan_scatter);\n"
   ]
  },
  {
   "cell_type": "code",
   "execution_count": 173,
   "metadata": {
    "scrolled": true
   },
   "outputs": [
    {
     "data": {
      "text/html": [
       "<div>\n",
       "<style scoped>\n",
       "    .dataframe tbody tr th:only-of-type {\n",
       "        vertical-align: middle;\n",
       "    }\n",
       "\n",
       "    .dataframe tbody tr th {\n",
       "        vertical-align: top;\n",
       "    }\n",
       "\n",
       "    .dataframe thead th {\n",
       "        text-align: right;\n",
       "    }\n",
       "</style>\n",
       "<table border=\"1\" class=\"dataframe\">\n",
       "  <thead>\n",
       "    <tr style=\"text-align: right;\">\n",
       "      <th></th>\n",
       "      <th>price</th>\n",
       "      <th>model_year</th>\n",
       "      <th>cylinders</th>\n",
       "      <th>odometer</th>\n",
       "      <th>is_4wd</th>\n",
       "      <th>days_listed</th>\n",
       "      <th>day_of_week</th>\n",
       "      <th>month</th>\n",
       "      <th>year</th>\n",
       "      <th>age</th>\n",
       "      <th>avg_mileage</th>\n",
       "      <th>condition_cat</th>\n",
       "    </tr>\n",
       "  </thead>\n",
       "  <tbody>\n",
       "    <tr>\n",
       "      <td>price</td>\n",
       "      <td>1.000000</td>\n",
       "      <td>0.642457</td>\n",
       "      <td>-0.044052</td>\n",
       "      <td>-0.556528</td>\n",
       "      <td>0.032360</td>\n",
       "      <td>0.002215</td>\n",
       "      <td>-0.006052</td>\n",
       "      <td>-0.021333</td>\n",
       "      <td>0.017063</td>\n",
       "      <td>-0.638808</td>\n",
       "      <td>0.289867</td>\n",
       "      <td>0.292589</td>\n",
       "    </tr>\n",
       "    <tr>\n",
       "      <td>model_year</td>\n",
       "      <td>0.642457</td>\n",
       "      <td>1.000000</td>\n",
       "      <td>-0.118770</td>\n",
       "      <td>-0.612058</td>\n",
       "      <td>0.066542</td>\n",
       "      <td>-0.002908</td>\n",
       "      <td>0.002702</td>\n",
       "      <td>-0.022999</td>\n",
       "      <td>0.019408</td>\n",
       "      <td>-0.995032</td>\n",
       "      <td>0.515687</td>\n",
       "      <td>0.315400</td>\n",
       "    </tr>\n",
       "    <tr>\n",
       "      <td>cylinders</td>\n",
       "      <td>-0.044052</td>\n",
       "      <td>-0.118770</td>\n",
       "      <td>1.000000</td>\n",
       "      <td>0.071817</td>\n",
       "      <td>0.223430</td>\n",
       "      <td>-0.004742</td>\n",
       "      <td>-0.002173</td>\n",
       "      <td>-0.002326</td>\n",
       "      <td>-0.001975</td>\n",
       "      <td>0.118213</td>\n",
       "      <td>-0.071962</td>\n",
       "      <td>-0.054078</td>\n",
       "    </tr>\n",
       "    <tr>\n",
       "      <td>odometer</td>\n",
       "      <td>-0.556528</td>\n",
       "      <td>-0.612058</td>\n",
       "      <td>0.071817</td>\n",
       "      <td>1.000000</td>\n",
       "      <td>-0.055958</td>\n",
       "      <td>0.005517</td>\n",
       "      <td>0.002081</td>\n",
       "      <td>0.017514</td>\n",
       "      <td>-0.010101</td>\n",
       "      <td>0.609194</td>\n",
       "      <td>0.083390</td>\n",
       "      <td>-0.327945</td>\n",
       "    </tr>\n",
       "    <tr>\n",
       "      <td>is_4wd</td>\n",
       "      <td>0.032360</td>\n",
       "      <td>0.066542</td>\n",
       "      <td>0.223430</td>\n",
       "      <td>-0.055958</td>\n",
       "      <td>1.000000</td>\n",
       "      <td>0.014320</td>\n",
       "      <td>-0.020603</td>\n",
       "      <td>0.010197</td>\n",
       "      <td>-0.006528</td>\n",
       "      <td>-0.066990</td>\n",
       "      <td>0.012733</td>\n",
       "      <td>0.014962</td>\n",
       "    </tr>\n",
       "    <tr>\n",
       "      <td>days_listed</td>\n",
       "      <td>0.002215</td>\n",
       "      <td>-0.002908</td>\n",
       "      <td>-0.004742</td>\n",
       "      <td>0.005517</td>\n",
       "      <td>0.014320</td>\n",
       "      <td>1.000000</td>\n",
       "      <td>0.006500</td>\n",
       "      <td>-0.010933</td>\n",
       "      <td>0.015229</td>\n",
       "      <td>0.004415</td>\n",
       "      <td>-0.004365</td>\n",
       "      <td>-0.007842</td>\n",
       "    </tr>\n",
       "    <tr>\n",
       "      <td>day_of_week</td>\n",
       "      <td>-0.006052</td>\n",
       "      <td>0.002702</td>\n",
       "      <td>-0.002173</td>\n",
       "      <td>0.002081</td>\n",
       "      <td>-0.020603</td>\n",
       "      <td>0.006500</td>\n",
       "      <td>1.000000</td>\n",
       "      <td>-0.003137</td>\n",
       "      <td>-0.008383</td>\n",
       "      <td>-0.003529</td>\n",
       "      <td>0.009678</td>\n",
       "      <td>-0.004028</td>\n",
       "    </tr>\n",
       "    <tr>\n",
       "      <td>month</td>\n",
       "      <td>-0.021333</td>\n",
       "      <td>-0.022999</td>\n",
       "      <td>-0.002326</td>\n",
       "      <td>0.017514</td>\n",
       "      <td>0.010197</td>\n",
       "      <td>-0.010933</td>\n",
       "      <td>-0.003137</td>\n",
       "      <td>1.000000</td>\n",
       "      <td>-0.817556</td>\n",
       "      <td>-0.058481</td>\n",
       "      <td>0.112887</td>\n",
       "      <td>-0.009470</td>\n",
       "    </tr>\n",
       "    <tr>\n",
       "      <td>year</td>\n",
       "      <td>0.017063</td>\n",
       "      <td>0.019408</td>\n",
       "      <td>-0.001975</td>\n",
       "      <td>-0.010101</td>\n",
       "      <td>-0.006528</td>\n",
       "      <td>0.015229</td>\n",
       "      <td>-0.008383</td>\n",
       "      <td>-0.817556</td>\n",
       "      <td>1.000000</td>\n",
       "      <td>0.080228</td>\n",
       "      <td>-0.135974</td>\n",
       "      <td>0.011983</td>\n",
       "    </tr>\n",
       "    <tr>\n",
       "      <td>age</td>\n",
       "      <td>-0.638808</td>\n",
       "      <td>-0.995032</td>\n",
       "      <td>0.118213</td>\n",
       "      <td>0.609194</td>\n",
       "      <td>-0.066990</td>\n",
       "      <td>0.004415</td>\n",
       "      <td>-0.003529</td>\n",
       "      <td>-0.058481</td>\n",
       "      <td>0.080228</td>\n",
       "      <td>1.000000</td>\n",
       "      <td>-0.528836</td>\n",
       "      <td>-0.313249</td>\n",
       "    </tr>\n",
       "    <tr>\n",
       "      <td>avg_mileage</td>\n",
       "      <td>0.289867</td>\n",
       "      <td>0.515687</td>\n",
       "      <td>-0.071962</td>\n",
       "      <td>0.083390</td>\n",
       "      <td>0.012733</td>\n",
       "      <td>-0.004365</td>\n",
       "      <td>0.009678</td>\n",
       "      <td>0.112887</td>\n",
       "      <td>-0.135974</td>\n",
       "      <td>-0.528836</td>\n",
       "      <td>1.000000</td>\n",
       "      <td>0.064298</td>\n",
       "    </tr>\n",
       "    <tr>\n",
       "      <td>condition_cat</td>\n",
       "      <td>0.292589</td>\n",
       "      <td>0.315400</td>\n",
       "      <td>-0.054078</td>\n",
       "      <td>-0.327945</td>\n",
       "      <td>0.014962</td>\n",
       "      <td>-0.007842</td>\n",
       "      <td>-0.004028</td>\n",
       "      <td>-0.009470</td>\n",
       "      <td>0.011983</td>\n",
       "      <td>-0.313249</td>\n",
       "      <td>0.064298</td>\n",
       "      <td>1.000000</td>\n",
       "    </tr>\n",
       "  </tbody>\n",
       "</table>\n",
       "</div>"
      ],
      "text/plain": [
       "                  price  model_year  cylinders  odometer    is_4wd  \\\n",
       "price          1.000000    0.642457  -0.044052 -0.556528  0.032360   \n",
       "model_year     0.642457    1.000000  -0.118770 -0.612058  0.066542   \n",
       "cylinders     -0.044052   -0.118770   1.000000  0.071817  0.223430   \n",
       "odometer      -0.556528   -0.612058   0.071817  1.000000 -0.055958   \n",
       "is_4wd         0.032360    0.066542   0.223430 -0.055958  1.000000   \n",
       "days_listed    0.002215   -0.002908  -0.004742  0.005517  0.014320   \n",
       "day_of_week   -0.006052    0.002702  -0.002173  0.002081 -0.020603   \n",
       "month         -0.021333   -0.022999  -0.002326  0.017514  0.010197   \n",
       "year           0.017063    0.019408  -0.001975 -0.010101 -0.006528   \n",
       "age           -0.638808   -0.995032   0.118213  0.609194 -0.066990   \n",
       "avg_mileage    0.289867    0.515687  -0.071962  0.083390  0.012733   \n",
       "condition_cat  0.292589    0.315400  -0.054078 -0.327945  0.014962   \n",
       "\n",
       "               days_listed  day_of_week     month      year       age  \\\n",
       "price             0.002215    -0.006052 -0.021333  0.017063 -0.638808   \n",
       "model_year       -0.002908     0.002702 -0.022999  0.019408 -0.995032   \n",
       "cylinders        -0.004742    -0.002173 -0.002326 -0.001975  0.118213   \n",
       "odometer          0.005517     0.002081  0.017514 -0.010101  0.609194   \n",
       "is_4wd            0.014320    -0.020603  0.010197 -0.006528 -0.066990   \n",
       "days_listed       1.000000     0.006500 -0.010933  0.015229  0.004415   \n",
       "day_of_week       0.006500     1.000000 -0.003137 -0.008383 -0.003529   \n",
       "month            -0.010933    -0.003137  1.000000 -0.817556 -0.058481   \n",
       "year              0.015229    -0.008383 -0.817556  1.000000  0.080228   \n",
       "age               0.004415    -0.003529 -0.058481  0.080228  1.000000   \n",
       "avg_mileage      -0.004365     0.009678  0.112887 -0.135974 -0.528836   \n",
       "condition_cat    -0.007842    -0.004028 -0.009470  0.011983 -0.313249   \n",
       "\n",
       "               avg_mileage  condition_cat  \n",
       "price             0.289867       0.292589  \n",
       "model_year        0.515687       0.315400  \n",
       "cylinders        -0.071962      -0.054078  \n",
       "odometer          0.083390      -0.327945  \n",
       "is_4wd            0.012733       0.014962  \n",
       "days_listed      -0.004365      -0.007842  \n",
       "day_of_week       0.009678      -0.004028  \n",
       "month             0.112887      -0.009470  \n",
       "year             -0.135974       0.011983  \n",
       "age              -0.528836      -0.313249  \n",
       "avg_mileage       1.000000       0.064298  \n",
       "condition_cat     0.064298       1.000000  "
      ]
     },
     "execution_count": 173,
     "metadata": {},
     "output_type": "execute_result"
    }
   ],
   "source": [
    "# Create a correlation plot for 'sedan_data'\n",
    "sedan_data.corr()\n"
   ]
  },
  {
   "cell_type": "markdown",
   "metadata": {},
   "source": [
    "A scatterplot matrix and correlation plot were generated in order to examine the relationship between price and the numeric columns (age, mileage, and condition) in 'sedan_data'.\n",
    "\n",
    "Based on the results of the analysis on sedan type vehicles, there seems to be a negative correlation that exists between price and both age (-0.638808) and mileage (-0.556528). Older age and higher mileage tends to cause lower pricing for vehicles. The condition did not exhibit any meaningful trends and yielded a low level of correlation (0.292589) likely because the condition is still technically a categorical variable although numeric values were assigned to represent the categories. Therefore, it will be better to examine the relationship between price and condition using boxplots instead."
   ]
  },
  {
   "cell_type": "code",
   "execution_count": 174,
   "metadata": {},
   "outputs": [
    {
     "data": {
      "image/png": "[encoded data removed]",
      "text/plain": [
       "<Figure size 432x288 with 1 Axes>"
      ]
     },
     "metadata": {
      "needs_background": "light"
     },
     "output_type": "display_data"
    }
   ],
   "source": [
    "# Create boxplots to compare transmission and price in 'sedan_data'\n",
    "sedan_data.boxplot(column = ['price'], by = ['transmission']);\n"
   ]
  },
  {
   "cell_type": "markdown",
   "metadata": {},
   "source": [
    "Based on the above boxplot comparison of transmission type and price for sedan type vehicles, automatic transmission vehicles are priced slightly higher than manual vehicles. Vehicles with transmission types in the 'other' category have lower prices than the manual and automatic transmission vehicles."
   ]
  },
  {
   "cell_type": "code",
   "execution_count": 175,
   "metadata": {},
   "outputs": [
    {
     "data": {
      "image/png": "[encoded data removed]",
      "text/plain": [
       "<Figure size 432x288 with 1 Axes>"
      ]
     },
     "metadata": {
      "needs_background": "light"
     },
     "output_type": "display_data"
    }
   ],
   "source": [
    "# Create boxplots to compare paint color and price in 'sedan_data'\n",
    "sedan_data.boxplot(column = ['price'], by = ['paint_color']);\n"
   ]
  },
  {
   "cell_type": "markdown",
   "metadata": {},
   "source": [
    "Based on the above boxplot comparison of paint color and price for sedan type vehicles, white and black vehicles are priced slightly higher than the other paint colors. However, blue, grey, purple, red, and silver vehicles are similar and not much lower in price."
   ]
  },
  {
   "cell_type": "code",
   "execution_count": 176,
   "metadata": {},
   "outputs": [
    {
     "data": {
      "image/png": "[encoded data removed]",
      "text/plain": [
       "<Figure size 432x288 with 1 Axes>"
      ]
     },
     "metadata": {
      "needs_background": "light"
     },
     "output_type": "display_data"
    }
   ],
   "source": [
    "# Create boxplots to compare condition and price in 'sedan_data'\n",
    "sedan_data.boxplot(column = ['price'], by = ['condition']);\n"
   ]
  },
  {
   "cell_type": "markdown",
   "metadata": {},
   "source": [
    "Based on the above boxplot comparison of condition and price for sedan type vehicles, the 'like new' vehicles were priced the highest, followed by 'excellent', 'good', and 'fair' vehicles."
   ]
  },
  {
   "cell_type": "markdown",
   "metadata": {},
   "source": [
    "## General conclusion"
   ]
  },
  {
   "cell_type": "markdown",
   "metadata": {},
   "source": [
    "**Data Cleaning:**\n",
    "\n",
    "*Missing data:*\n",
    "\n",
    "There were 5 columns that contain missing data in the dataset--'cylinders', 'is_4wd', 'model_year', 'odometer', and 'paint_color'. Only the 'cylinders' and 'is_4wd' columns were filled.\n",
    "\n",
    "The 'cylinders' column was filled since they were relatively standardized based on the type of vehicle. The missing 'cylinders' values were filled with the median cylinder numbers by type.\n",
    "\n",
    "The missing values in the 'is_4wd' column were simply vehicles that are not 4 wheel drive so they were filled in with a value of 0.\n",
    "\n",
    "Due to the highly variable and subjective nature of the 'model_year', 'odometer', and 'paint_color' columns, as well as the low level of correlation that is indicated for the numeric columns based on the Pearson correlation coefficients above, they were not filled.\n",
    "\n",
    "*Incorrect data types:*\n",
    "\n",
    "The float values in the 'model_year', 'cylinders', 'odometer', and 'is_4wd' columns were changed to integer values in order to increase the efficiency of the analysis and the string values in the 'date_posted' column were changed to datetime values to allow for greater functionality in the analysis.\n",
    "\n",
    "*Enriching the data:*\n",
    "\n",
    "Columns were created to include the day of week, month, and year of each posting using the 'date_posted' column. The 'age' and 'avg_mileage' columns were generated by making calculations using existing data and the 'condition_cat' column was generated by assigning numeric values to the categorical values in the 'condition' column.\n",
    "\n",
    "**Data Analysis:**\n",
    "\n",
    "*Studying core parameters/removing outliers:*\n",
    "\n",
    "The core parameters, price, age, mileage, number of cylinders, and condition of each vehicle were studied using histograms, boxplots, and scatterplots. Due to the observation of outliers that were skewing the data to the right, they were removed by calculating the lower and upper bounds and excluding data that lied beyond these bounds for the remainder of the analysis.\n",
    "\n",
    "*Price factors analysis:*\n",
    "\n",
    "Based on the results of the correlation analysis on SUV type vehicles, there seems to be a negative correlation that exists between price and both age (-0.600982) and mileage (-0.513200). Older age and higher mileage tends to cause lower pricing for vehicles. The condition did not exhibit any meaningful trends and yielded a low level of correlation (0.257126). Based on the results of the boxplot analyses, manual transmission vehicles are priced slightly higher than automatic vehicles, orange, white, and black vehicles are priced slightly higher than the other paint colors, and the 'like new' vehicles were priced the highest, followed by 'excellent', 'good', and 'fair' vehicles.\n",
    "\n",
    "Based on the results of the correlation analysis on sedan type vehicles, there seems to be a negative correlation that exists between price and both age (-0.638808) and mileage (-0.556528). Older age and higher mileage tends to cause lower pricing for vehicles. The condition did not exhibit any meaningful trends and yielded a low level of correlation (0.292589). Based on the results of the boxplot analyses, automatic transmission vehicles are priced slightly higher than manual vehicles, white and black vehicles are priced slightly higher than the other paint colors, and the 'like new' vehicles were priced the highest, followed by 'excellent', 'good', and 'fair' vehicles.\n",
    "\n",
    "Overall, the analyses for the SUV and sedan types revealed very similar price trends."
   ]
  },
  {
   "cell_type": "code",
   "execution_count": null,
   "metadata": {},
   "outputs": [],
   "source": []
  }
 ],
 "metadata": {
  "ExecuteTimeLog": [
   {
    "duration": 828,
    "start_time": "2021-11-16T09:21:11.304Z"
   },
   {
    "duration": 893,
    "start_time": "2021-11-16T09:21:17.728Z"
   },
   {
    "duration": 1150,
    "start_time": "2021-11-16T09:21:29.568Z"
   },
   {
    "duration": 3,
    "start_time": "2021-11-16T09:24:14.495Z"
   },
   {
    "duration": 120,
    "start_time": "2021-11-16T09:24:46.630Z"
   },
   {
    "duration": 3,
    "start_time": "2021-11-16T09:28:27.882Z"
   },
   {
    "duration": 4,
    "start_time": "2021-11-16T09:29:54.281Z"
   },
   {
    "duration": 3,
    "start_time": "2021-11-16T09:30:45.936Z"
   },
   {
    "duration": 4,
    "start_time": "2021-11-16T09:31:06.300Z"
   },
   {
    "duration": 113,
    "start_time": "2021-11-16T09:31:37.208Z"
   },
   {
    "duration": 143,
    "start_time": "2021-11-16T09:31:48.656Z"
   },
   {
    "duration": 98,
    "start_time": "2021-11-16T09:31:55.678Z"
   },
   {
    "duration": 3,
    "start_time": "2021-11-16T09:32:08.535Z"
   },
   {
    "duration": 111,
    "start_time": "2021-11-16T09:32:10.120Z"
   },
   {
    "duration": 3,
    "start_time": "2021-11-16T09:32:15.732Z"
   },
   {
    "duration": 4,
    "start_time": "2021-11-16T09:32:29.423Z"
   },
   {
    "duration": 3,
    "start_time": "2021-11-16T10:03:03.074Z"
   },
   {
    "duration": 3,
    "start_time": "2021-11-16T10:10:01.288Z"
   },
   {
    "duration": 3,
    "start_time": "2021-11-16T10:10:46.923Z"
   },
   {
    "duration": 121,
    "start_time": "2021-11-16T10:37:46.494Z"
   },
   {
    "duration": 125,
    "start_time": "2021-11-16T10:38:20.632Z"
   },
   {
    "duration": 112,
    "start_time": "2021-11-16T10:46:53.001Z"
   },
   {
    "duration": 110,
    "start_time": "2021-11-16T10:48:25.775Z"
   },
   {
    "duration": 3,
    "start_time": "2021-11-16T10:50:18.720Z"
   },
   {
    "duration": 4,
    "start_time": "2021-11-16T10:50:37.649Z"
   },
   {
    "duration": 2,
    "start_time": "2021-11-16T10:50:51.884Z"
   },
   {
    "duration": 3,
    "start_time": "2021-11-16T10:51:56.237Z"
   },
   {
    "duration": 101,
    "start_time": "2021-11-16T10:53:13.791Z"
   },
   {
    "duration": 3,
    "start_time": "2021-11-16T10:55:59.186Z"
   },
   {
    "duration": 3,
    "start_time": "2021-11-16T10:56:10.751Z"
   },
   {
    "duration": 3,
    "start_time": "2021-11-16T10:56:49.038Z"
   },
   {
    "duration": 3,
    "start_time": "2021-11-16T10:56:49.174Z"
   },
   {
    "duration": 4,
    "start_time": "2021-11-16T10:56:49.414Z"
   },
   {
    "duration": 3,
    "start_time": "2021-11-16T10:56:49.680Z"
   },
   {
    "duration": 3,
    "start_time": "2021-11-16T10:56:50.370Z"
   },
   {
    "duration": 114,
    "start_time": "2021-11-16T10:59:34.518Z"
   },
   {
    "duration": 3,
    "start_time": "2021-11-16T11:01:41.201Z"
   },
   {
    "duration": 116,
    "start_time": "2021-11-16T11:01:48.754Z"
   },
   {
    "duration": 3,
    "start_time": "2021-11-16T11:02:16.685Z"
   },
   {
    "duration": 3,
    "start_time": "2021-11-16T11:02:19.479Z"
   },
   {
    "duration": 3,
    "start_time": "2021-11-16T11:02:47.067Z"
   },
   {
    "duration": 3,
    "start_time": "2021-11-16T11:02:49.353Z"
   },
   {
    "duration": 3,
    "start_time": "2021-11-16T11:03:07.835Z"
   },
   {
    "duration": 3,
    "start_time": "2021-11-16T11:03:07.953Z"
   },
   {
    "duration": 112,
    "start_time": "2021-11-16T11:07:52.072Z"
   },
   {
    "duration": 187,
    "start_time": "2021-11-16T11:09:23.468Z"
   },
   {
    "duration": 4,
    "start_time": "2021-11-16T11:10:01.455Z"
   },
   {
    "duration": 3,
    "start_time": "2021-11-16T11:10:05.069Z"
   },
   {
    "duration": 4,
    "start_time": "2021-11-16T11:10:13.376Z"
   },
   {
    "duration": 3,
    "start_time": "2021-11-16T11:10:14.434Z"
   },
   {
    "duration": 3,
    "start_time": "2021-11-16T11:10:22.853Z"
   },
   {
    "duration": 4,
    "start_time": "2021-11-16T11:27:29.279Z"
   },
   {
    "duration": 4,
    "start_time": "2021-11-16T11:29:08.919Z"
   },
   {
    "duration": 118,
    "start_time": "2021-11-16T11:29:46.703Z"
   },
   {
    "duration": 437,
    "start_time": "2021-11-16T11:36:02.181Z"
   },
   {
    "duration": 157,
    "start_time": "2021-11-16T11:36:14.388Z"
   },
   {
    "duration": 207,
    "start_time": "2021-11-16T11:47:15.898Z"
   },
   {
    "duration": 3,
    "start_time": "2021-11-16T11:53:52.092Z"
   },
   {
    "duration": 3,
    "start_time": "2021-11-16T11:53:52.236Z"
   },
   {
    "duration": 3,
    "start_time": "2021-11-16T11:59:12.005Z"
   },
   {
    "duration": 112,
    "start_time": "2021-11-16T12:00:33.446Z"
   },
   {
    "duration": 3,
    "start_time": "2021-11-16T12:02:14.453Z"
   },
   {
    "duration": 3,
    "start_time": "2021-11-16T12:02:39.512Z"
   },
   {
    "duration": 106,
    "start_time": "2021-11-16T12:03:03.460Z"
   },
   {
    "duration": 703,
    "start_time": "2022-02-10T14:11:50.905Z"
   },
   {
    "duration": 86,
    "start_time": "2022-02-10T14:11:54.017Z"
   },
   {
    "duration": 63,
    "start_time": "2022-02-10T14:17:12.334Z"
   },
   {
    "duration": 10,
    "start_time": "2022-02-10T14:19:55.439Z"
   },
   {
    "duration": 57,
    "start_time": "2022-02-10T14:38:07.443Z"
   },
   {
    "duration": 42,
    "start_time": "2022-02-10T14:38:25.563Z"
   },
   {
    "duration": 57,
    "start_time": "2022-02-10T14:38:42.500Z"
   },
   {
    "duration": 1718,
    "start_time": "2022-02-10T14:40:20.521Z"
   },
   {
    "duration": 111,
    "start_time": "2022-02-10T14:40:32.748Z"
   },
   {
    "duration": 290,
    "start_time": "2022-02-11T04:37:40.569Z"
   },
   {
    "duration": 733,
    "start_time": "2022-02-11T04:37:45.679Z"
   },
   {
    "duration": 84,
    "start_time": "2022-02-11T04:37:46.414Z"
   },
   {
    "duration": 121,
    "start_time": "2022-02-11T04:37:46.500Z"
   },
   {
    "duration": 11,
    "start_time": "2022-02-11T04:37:46.623Z"
   },
   {
    "duration": 291,
    "start_time": "2022-02-11T04:37:46.635Z"
   },
   {
    "duration": 240,
    "start_time": "2022-02-11T04:37:48.889Z"
   },
   {
    "duration": 20,
    "start_time": "2022-02-11T04:37:58.050Z"
   },
   {
    "duration": 693,
    "start_time": "2022-02-11T22:04:30.449Z"
   },
   {
    "duration": 89,
    "start_time": "2022-02-11T22:04:31.144Z"
   },
   {
    "duration": 191,
    "start_time": "2022-02-11T22:04:31.235Z"
   },
   {
    "duration": 10,
    "start_time": "2022-02-11T22:04:31.428Z"
   },
   {
    "duration": 50,
    "start_time": "2022-02-11T22:04:31.439Z"
   },
   {
    "duration": 359,
    "start_time": "2022-02-11T22:04:48.211Z"
   },
   {
    "duration": 18,
    "start_time": "2022-02-11T22:05:16.330Z"
   },
   {
    "duration": 782,
    "start_time": "2022-02-15T04:50:17.595Z"
   },
   {
    "duration": 109,
    "start_time": "2022-02-15T04:50:18.380Z"
   },
   {
    "duration": 147,
    "start_time": "2022-02-15T04:50:18.492Z"
   },
   {
    "duration": 14,
    "start_time": "2022-02-15T04:50:18.649Z"
   },
   {
    "duration": 27,
    "start_time": "2022-02-15T04:50:18.666Z"
   },
   {
    "duration": 377,
    "start_time": "2022-02-15T04:50:22.076Z"
   },
   {
    "duration": 7,
    "start_time": "2022-02-15T04:50:33.991Z"
   },
   {
    "duration": 25,
    "start_time": "2022-02-15T04:52:23.946Z"
   },
   {
    "duration": 350,
    "start_time": "2022-02-15T04:53:36.534Z"
   },
   {
    "duration": 33,
    "start_time": "2022-02-15T04:55:38.712Z"
   },
   {
    "duration": 25,
    "start_time": "2022-02-15T04:55:55.070Z"
   },
   {
    "duration": 32,
    "start_time": "2022-02-15T04:58:03.731Z"
   },
   {
    "duration": 24,
    "start_time": "2022-02-15T04:58:34.214Z"
   },
   {
    "duration": 31,
    "start_time": "2022-02-15T05:00:32.669Z"
   },
   {
    "duration": 21,
    "start_time": "2022-02-15T05:00:56.688Z"
   },
   {
    "duration": 40,
    "start_time": "2022-02-15T05:01:59.928Z"
   },
   {
    "duration": 21,
    "start_time": "2022-02-15T05:02:22.900Z"
   },
   {
    "duration": 25,
    "start_time": "2022-02-15T05:02:58.563Z"
   },
   {
    "duration": 17,
    "start_time": "2022-02-15T05:03:17.020Z"
   },
   {
    "duration": 15,
    "start_time": "2022-02-15T05:10:38.316Z"
   },
   {
    "duration": 9,
    "start_time": "2022-02-15T05:11:36.896Z"
   },
   {
    "duration": 14,
    "start_time": "2022-02-15T05:12:13.024Z"
   },
   {
    "duration": 30,
    "start_time": "2022-02-15T05:12:49.116Z"
   },
   {
    "duration": 25,
    "start_time": "2022-02-15T05:15:49.462Z"
   },
   {
    "duration": 25,
    "start_time": "2022-02-15T05:19:19.620Z"
   },
   {
    "duration": 21,
    "start_time": "2022-02-15T05:20:48.041Z"
   },
   {
    "duration": 734,
    "start_time": "2022-02-15T15:23:19.398Z"
   },
   {
    "duration": 89,
    "start_time": "2022-02-15T15:23:20.134Z"
   },
   {
    "duration": 102,
    "start_time": "2022-02-15T15:23:20.225Z"
   },
   {
    "duration": 20,
    "start_time": "2022-02-15T15:23:20.330Z"
   },
   {
    "duration": 23,
    "start_time": "2022-02-15T15:23:20.353Z"
   },
   {
    "duration": 19,
    "start_time": "2022-02-15T15:23:20.377Z"
   },
   {
    "duration": 16,
    "start_time": "2022-02-15T15:23:20.398Z"
   },
   {
    "duration": 60,
    "start_time": "2022-02-15T15:23:20.416Z"
   },
   {
    "duration": 27,
    "start_time": "2022-02-15T15:23:20.479Z"
   },
   {
    "duration": 16,
    "start_time": "2022-02-15T15:23:20.508Z"
   },
   {
    "duration": 32,
    "start_time": "2022-02-15T15:23:20.525Z"
   },
   {
    "duration": 18,
    "start_time": "2022-02-15T15:23:20.559Z"
   },
   {
    "duration": 15,
    "start_time": "2022-02-15T15:23:20.578Z"
   },
   {
    "duration": 455,
    "start_time": "2022-02-15T15:23:20.595Z"
   },
   {
    "duration": -725,
    "start_time": "2022-02-15T15:23:21.778Z"
   },
   {
    "duration": -727,
    "start_time": "2022-02-15T15:23:21.781Z"
   },
   {
    "duration": -740,
    "start_time": "2022-02-15T15:23:21.795Z"
   },
   {
    "duration": -744,
    "start_time": "2022-02-15T15:23:21.799Z"
   },
   {
    "duration": -745,
    "start_time": "2022-02-15T15:23:21.801Z"
   },
   {
    "duration": -848,
    "start_time": "2022-02-15T15:23:21.906Z"
   },
   {
    "duration": -861,
    "start_time": "2022-02-15T15:23:21.920Z"
   },
   {
    "duration": -860,
    "start_time": "2022-02-15T15:23:21.922Z"
   },
   {
    "duration": -860,
    "start_time": "2022-02-15T15:23:21.925Z"
   },
   {
    "duration": -860,
    "start_time": "2022-02-15T15:23:21.926Z"
   },
   {
    "duration": -863,
    "start_time": "2022-02-15T15:23:21.929Z"
   },
   {
    "duration": -864,
    "start_time": "2022-02-15T15:23:21.932Z"
   },
   {
    "duration": -866,
    "start_time": "2022-02-15T15:23:21.935Z"
   },
   {
    "duration": -869,
    "start_time": "2022-02-15T15:23:21.938Z"
   },
   {
    "duration": -870,
    "start_time": "2022-02-15T15:23:21.940Z"
   },
   {
    "duration": -871,
    "start_time": "2022-02-15T15:23:21.942Z"
   },
   {
    "duration": -873,
    "start_time": "2022-02-15T15:23:21.944Z"
   },
   {
    "duration": -875,
    "start_time": "2022-02-15T15:23:21.947Z"
   },
   {
    "duration": -876,
    "start_time": "2022-02-15T15:23:21.949Z"
   },
   {
    "duration": -967,
    "start_time": "2022-02-15T15:23:22.041Z"
   },
   {
    "duration": -970,
    "start_time": "2022-02-15T15:23:22.045Z"
   },
   {
    "duration": -983,
    "start_time": "2022-02-15T15:23:22.060Z"
   },
   {
    "duration": 21,
    "start_time": "2022-02-15T15:24:01.056Z"
   },
   {
    "duration": 12,
    "start_time": "2022-02-15T15:24:46.724Z"
   },
   {
    "duration": 980,
    "start_time": "2022-02-15T15:26:52.498Z"
   },
   {
    "duration": 22,
    "start_time": "2022-02-15T15:28:23.501Z"
   },
   {
    "duration": 17,
    "start_time": "2022-02-15T15:30:21.025Z"
   },
   {
    "duration": 15,
    "start_time": "2022-02-15T15:30:56.497Z"
   },
   {
    "duration": 3106,
    "start_time": "2022-02-15T15:33:26.773Z"
   },
   {
    "duration": 16,
    "start_time": "2022-02-15T15:33:34.620Z"
   },
   {
    "duration": 18,
    "start_time": "2022-02-15T15:45:04.062Z"
   },
   {
    "duration": 119,
    "start_time": "2022-02-15T15:58:10.803Z"
   },
   {
    "duration": 5,
    "start_time": "2022-02-15T15:58:26.763Z"
   },
   {
    "duration": 4,
    "start_time": "2022-02-15T15:58:53.633Z"
   },
   {
    "duration": 12,
    "start_time": "2022-02-15T15:58:58.892Z"
   },
   {
    "duration": 24,
    "start_time": "2022-02-15T15:59:12.341Z"
   },
   {
    "duration": 3,
    "start_time": "2022-02-15T16:00:46.560Z"
   },
   {
    "duration": 20,
    "start_time": "2022-02-15T16:00:48.971Z"
   },
   {
    "duration": 16,
    "start_time": "2022-02-15T16:00:59.859Z"
   },
   {
    "duration": 8,
    "start_time": "2022-02-15T16:03:52.031Z"
   },
   {
    "duration": 6,
    "start_time": "2022-02-15T16:10:44.636Z"
   },
   {
    "duration": 7,
    "start_time": "2022-02-15T16:10:57.359Z"
   },
   {
    "duration": 7,
    "start_time": "2022-02-15T16:11:16.581Z"
   },
   {
    "duration": 7,
    "start_time": "2022-02-15T16:11:33.296Z"
   },
   {
    "duration": 10,
    "start_time": "2022-02-15T16:12:08.141Z"
   },
   {
    "duration": 7,
    "start_time": "2022-02-15T16:12:23.696Z"
   },
   {
    "duration": 8,
    "start_time": "2022-02-15T16:12:51.673Z"
   },
   {
    "duration": 368,
    "start_time": "2022-02-15T16:14:12.176Z"
   },
   {
    "duration": 339,
    "start_time": "2022-02-15T16:14:17.259Z"
   },
   {
    "duration": 126,
    "start_time": "2022-02-15T16:14:32.299Z"
   },
   {
    "duration": 126,
    "start_time": "2022-02-15T16:15:32.710Z"
   },
   {
    "duration": 348,
    "start_time": "2022-02-15T16:18:02.296Z"
   },
   {
    "duration": 7,
    "start_time": "2022-02-15T16:18:07.887Z"
   },
   {
    "duration": 16,
    "start_time": "2022-02-15T16:37:11.938Z"
   },
   {
    "duration": 7,
    "start_time": "2022-02-15T16:44:32.099Z"
   },
   {
    "duration": 25,
    "start_time": "2022-02-15T17:22:08.784Z"
   },
   {
    "duration": 9,
    "start_time": "2022-02-15T17:22:31.020Z"
   },
   {
    "duration": 3,
    "start_time": "2022-02-15T17:25:45.791Z"
   },
   {
    "duration": 113,
    "start_time": "2022-02-15T17:27:20.275Z"
   },
   {
    "duration": 678,
    "start_time": "2022-02-15T17:28:06.728Z"
   },
   {
    "duration": 3,
    "start_time": "2022-02-15T17:28:14.351Z"
   },
   {
    "duration": 3,
    "start_time": "2022-02-15T17:29:26.765Z"
   },
   {
    "duration": 3,
    "start_time": "2022-02-15T17:29:27.543Z"
   },
   {
    "duration": 16,
    "start_time": "2022-02-15T17:30:43.091Z"
   },
   {
    "duration": 3,
    "start_time": "2022-02-15T17:45:01.892Z"
   },
   {
    "duration": 711,
    "start_time": "2022-02-15T17:46:34.357Z"
   },
   {
    "duration": 92,
    "start_time": "2022-02-15T17:46:35.070Z"
   },
   {
    "duration": 98,
    "start_time": "2022-02-15T17:46:35.164Z"
   },
   {
    "duration": 12,
    "start_time": "2022-02-15T17:46:35.264Z"
   },
   {
    "duration": 24,
    "start_time": "2022-02-15T17:46:35.278Z"
   },
   {
    "duration": 16,
    "start_time": "2022-02-15T17:46:35.303Z"
   },
   {
    "duration": 26,
    "start_time": "2022-02-15T17:46:35.321Z"
   },
   {
    "duration": 20,
    "start_time": "2022-02-15T17:46:35.349Z"
   },
   {
    "duration": 20,
    "start_time": "2022-02-15T17:46:35.371Z"
   },
   {
    "duration": 8,
    "start_time": "2022-02-15T17:46:35.393Z"
   },
   {
    "duration": 88,
    "start_time": "2022-02-15T17:46:35.402Z"
   },
   {
    "duration": 4,
    "start_time": "2022-02-15T17:46:35.492Z"
   },
   {
    "duration": 25,
    "start_time": "2022-02-15T17:46:35.498Z"
   },
   {
    "duration": 3,
    "start_time": "2022-02-15T17:46:35.525Z"
   },
   {
    "duration": -318,
    "start_time": "2022-02-15T17:46:55.627Z"
   },
   {
    "duration": 1120,
    "start_time": "2022-02-16T19:28:55.557Z"
   },
   {
    "duration": 116,
    "start_time": "2022-02-16T19:28:56.680Z"
   },
   {
    "duration": 167,
    "start_time": "2022-02-16T19:28:56.799Z"
   },
   {
    "duration": 15,
    "start_time": "2022-02-16T19:28:56.969Z"
   },
   {
    "duration": 52,
    "start_time": "2022-02-16T19:28:56.988Z"
   },
   {
    "duration": 28,
    "start_time": "2022-02-16T19:28:57.043Z"
   },
   {
    "duration": 5,
    "start_time": "2022-02-16T19:28:57.073Z"
   },
   {
    "duration": 58,
    "start_time": "2022-02-16T19:28:57.081Z"
   },
   {
    "duration": 32,
    "start_time": "2022-02-16T19:28:57.143Z"
   },
   {
    "duration": 11,
    "start_time": "2022-02-16T19:28:57.178Z"
   },
   {
    "duration": 125,
    "start_time": "2022-02-16T19:28:57.192Z"
   },
   {
    "duration": 5,
    "start_time": "2022-02-16T19:28:57.319Z"
   },
   {
    "duration": 31,
    "start_time": "2022-02-16T19:28:57.333Z"
   },
   {
    "duration": 5,
    "start_time": "2022-02-16T19:28:57.366Z"
   },
   {
    "duration": 48980,
    "start_time": "2022-02-16T19:28:57.373Z"
   },
   {
    "duration": 629,
    "start_time": "2022-02-16T19:38:50.003Z"
   },
   {
    "duration": 30,
    "start_time": "2022-02-16T19:38:59.809Z"
   },
   {
    "duration": 12,
    "start_time": "2022-02-16T20:17:11.973Z"
   },
   {
    "duration": 244,
    "start_time": "2022-02-16T20:27:09.897Z"
   },
   {
    "duration": 7,
    "start_time": "2022-02-16T20:29:49.567Z"
   },
   {
    "duration": 234,
    "start_time": "2022-02-16T20:30:33.582Z"
   },
   {
    "duration": 6,
    "start_time": "2022-02-16T20:30:45.920Z"
   },
   {
    "duration": 7,
    "start_time": "2022-02-16T20:31:55.477Z"
   },
   {
    "duration": 7,
    "start_time": "2022-02-16T20:32:09.972Z"
   },
   {
    "duration": 6,
    "start_time": "2022-02-16T20:36:28.043Z"
   },
   {
    "duration": 7,
    "start_time": "2022-02-16T20:36:29.464Z"
   },
   {
    "duration": 5,
    "start_time": "2022-02-16T20:37:20.617Z"
   },
   {
    "duration": 9,
    "start_time": "2022-02-16T20:37:21.443Z"
   },
   {
    "duration": 21,
    "start_time": "2022-02-16T20:41:11.985Z"
   },
   {
    "duration": 7,
    "start_time": "2022-02-16T20:41:13.177Z"
   },
   {
    "duration": 8,
    "start_time": "2022-02-16T20:47:16.737Z"
   },
   {
    "duration": 274,
    "start_time": "2022-02-16T20:51:50.433Z"
   },
   {
    "duration": 12,
    "start_time": "2022-02-16T20:52:17.221Z"
   },
   {
    "duration": 15,
    "start_time": "2022-02-16T20:52:32.729Z"
   },
   {
    "duration": 28,
    "start_time": "2022-02-16T20:52:53.305Z"
   },
   {
    "duration": 30,
    "start_time": "2022-02-16T21:05:10.942Z"
   },
   {
    "duration": 19,
    "start_time": "2022-02-16T21:05:28.045Z"
   },
   {
    "duration": 275,
    "start_time": "2022-02-16T21:07:22.681Z"
   },
   {
    "duration": 88,
    "start_time": "2022-02-16T21:07:39.430Z"
   },
   {
    "duration": 28,
    "start_time": "2022-02-16T21:07:57.810Z"
   },
   {
    "duration": 22,
    "start_time": "2022-02-16T21:08:13.712Z"
   },
   {
    "duration": 21,
    "start_time": "2022-02-16T21:08:41.504Z"
   },
   {
    "duration": 17,
    "start_time": "2022-02-16T21:11:28.845Z"
   },
   {
    "duration": 18,
    "start_time": "2022-02-16T21:12:03.460Z"
   },
   {
    "duration": 5,
    "start_time": "2022-02-16T21:16:19.874Z"
   },
   {
    "duration": 237,
    "start_time": "2022-02-16T21:19:07.730Z"
   },
   {
    "duration": 5,
    "start_time": "2022-02-16T21:19:12.190Z"
   },
   {
    "duration": 34,
    "start_time": "2022-02-16T21:19:13.322Z"
   },
   {
    "duration": 245,
    "start_time": "2022-02-16T21:19:34.580Z"
   },
   {
    "duration": 844,
    "start_time": "2022-02-16T21:20:14.964Z"
   },
   {
    "duration": 119,
    "start_time": "2022-02-16T21:20:15.811Z"
   },
   {
    "duration": 162,
    "start_time": "2022-02-16T21:20:15.934Z"
   },
   {
    "duration": 15,
    "start_time": "2022-02-16T21:20:16.100Z"
   },
   {
    "duration": 39,
    "start_time": "2022-02-16T21:20:16.117Z"
   },
   {
    "duration": 23,
    "start_time": "2022-02-16T21:20:16.158Z"
   },
   {
    "duration": 4,
    "start_time": "2022-02-16T21:20:16.184Z"
   },
   {
    "duration": 58,
    "start_time": "2022-02-16T21:20:16.190Z"
   },
   {
    "duration": 12,
    "start_time": "2022-02-16T21:20:16.252Z"
   },
   {
    "duration": 109,
    "start_time": "2022-02-16T21:20:16.267Z"
   },
   {
    "duration": 4,
    "start_time": "2022-02-16T21:20:16.379Z"
   },
   {
    "duration": 49,
    "start_time": "2022-02-16T21:20:16.385Z"
   },
   {
    "duration": 5,
    "start_time": "2022-02-16T21:20:16.436Z"
   },
   {
    "duration": 34643,
    "start_time": "2022-02-16T21:20:16.443Z"
   },
   {
    "duration": 42,
    "start_time": "2022-02-16T21:20:51.090Z"
   },
   {
    "duration": 8,
    "start_time": "2022-02-16T21:20:51.135Z"
   },
   {
    "duration": 9,
    "start_time": "2022-02-16T21:20:51.146Z"
   },
   {
    "duration": 13,
    "start_time": "2022-02-16T21:20:51.158Z"
   },
   {
    "duration": 8,
    "start_time": "2022-02-16T21:20:51.174Z"
   },
   {
    "duration": 11,
    "start_time": "2022-02-16T21:20:51.184Z"
   },
   {
    "duration": 51,
    "start_time": "2022-02-16T21:20:51.198Z"
   },
   {
    "duration": 17,
    "start_time": "2022-02-16T21:20:51.252Z"
   },
   {
    "duration": 12,
    "start_time": "2022-02-16T21:20:51.272Z"
   },
   {
    "duration": 24,
    "start_time": "2022-02-16T21:20:51.287Z"
   },
   {
    "duration": 22,
    "start_time": "2022-02-16T21:20:51.314Z"
   },
   {
    "duration": 6,
    "start_time": "2022-02-16T21:20:51.340Z"
   },
   {
    "duration": 26,
    "start_time": "2022-02-16T21:20:51.352Z"
   },
   {
    "duration": 18,
    "start_time": "2022-02-16T21:20:51.382Z"
   },
   {
    "duration": 8,
    "start_time": "2022-02-16T21:20:51.432Z"
   },
   {
    "duration": 4,
    "start_time": "2022-02-16T21:20:51.443Z"
   },
   {
    "duration": 42,
    "start_time": "2022-02-16T21:20:51.450Z"
   },
   {
    "duration": 71,
    "start_time": "2022-02-16T21:20:51.495Z"
   },
   {
    "duration": 3,
    "start_time": "2022-02-16T21:20:51.568Z"
   },
   {
    "duration": 7,
    "start_time": "2022-02-16T21:20:51.573Z"
   },
   {
    "duration": 8,
    "start_time": "2022-02-16T21:20:51.583Z"
   },
   {
    "duration": 8,
    "start_time": "2022-02-16T21:20:51.593Z"
   },
   {
    "duration": 28,
    "start_time": "2022-02-16T21:20:51.604Z"
   },
   {
    "duration": 3,
    "start_time": "2022-02-16T21:20:51.635Z"
   },
   {
    "duration": 5,
    "start_time": "2022-02-16T21:20:51.640Z"
   },
   {
    "duration": 5,
    "start_time": "2022-02-16T21:20:51.647Z"
   },
   {
    "duration": 5,
    "start_time": "2022-02-16T21:20:51.655Z"
   },
   {
    "duration": 6,
    "start_time": "2022-02-16T21:20:51.662Z"
   },
   {
    "duration": 5,
    "start_time": "2022-02-16T21:20:51.670Z"
   },
   {
    "duration": 30,
    "start_time": "2022-02-16T21:26:40.713Z"
   },
   {
    "duration": 33,
    "start_time": "2022-02-16T21:27:25.273Z"
   },
   {
    "duration": 34,
    "start_time": "2022-02-16T21:27:32.667Z"
   },
   {
    "duration": 18,
    "start_time": "2022-02-16T21:27:38.076Z"
   },
   {
    "duration": 43,
    "start_time": "2022-02-16T21:27:43.003Z"
   },
   {
    "duration": 335,
    "start_time": "2022-02-16T21:45:05.345Z"
   },
   {
    "duration": 236,
    "start_time": "2022-02-16T21:45:50.830Z"
   },
   {
    "duration": 238,
    "start_time": "2022-02-16T21:55:04.150Z"
   },
   {
    "duration": 934,
    "start_time": "2022-02-16T21:55:15.052Z"
   },
   {
    "duration": 286,
    "start_time": "2022-02-18T03:32:34.012Z"
   },
   {
    "duration": 743,
    "start_time": "2022-02-18T03:32:40.409Z"
   },
   {
    "duration": 94,
    "start_time": "2022-02-18T03:32:41.154Z"
   },
   {
    "duration": 129,
    "start_time": "2022-02-18T03:32:41.250Z"
   },
   {
    "duration": 10,
    "start_time": "2022-02-18T03:32:41.381Z"
   },
   {
    "duration": 30,
    "start_time": "2022-02-18T03:32:41.393Z"
   },
   {
    "duration": 19,
    "start_time": "2022-02-18T03:32:41.425Z"
   },
   {
    "duration": 3,
    "start_time": "2022-02-18T03:32:41.446Z"
   },
   {
    "duration": 27,
    "start_time": "2022-02-18T03:32:41.452Z"
   },
   {
    "duration": 10,
    "start_time": "2022-02-18T03:32:41.509Z"
   },
   {
    "duration": 95,
    "start_time": "2022-02-18T03:32:41.521Z"
   },
   {
    "duration": 4,
    "start_time": "2022-02-18T03:32:41.618Z"
   },
   {
    "duration": 28,
    "start_time": "2022-02-18T03:32:41.623Z"
   },
   {
    "duration": 3,
    "start_time": "2022-02-18T03:32:41.653Z"
   },
   {
    "duration": 29712,
    "start_time": "2022-02-18T03:32:41.658Z"
   },
   {
    "duration": 36,
    "start_time": "2022-02-18T03:33:11.372Z"
   },
   {
    "duration": 5,
    "start_time": "2022-02-18T03:33:11.410Z"
   },
   {
    "duration": 20,
    "start_time": "2022-02-18T03:33:11.417Z"
   },
   {
    "duration": 18,
    "start_time": "2022-02-18T03:33:11.439Z"
   },
   {
    "duration": 11,
    "start_time": "2022-02-18T03:33:11.459Z"
   },
   {
    "duration": 14,
    "start_time": "2022-02-18T03:33:11.472Z"
   },
   {
    "duration": 20,
    "start_time": "2022-02-18T03:33:11.489Z"
   },
   {
    "duration": 24,
    "start_time": "2022-02-18T03:33:11.512Z"
   },
   {
    "duration": 25,
    "start_time": "2022-02-18T03:33:11.538Z"
   },
   {
    "duration": 21,
    "start_time": "2022-02-18T03:33:11.565Z"
   },
   {
    "duration": 12,
    "start_time": "2022-02-18T03:33:11.588Z"
   },
   {
    "duration": 11,
    "start_time": "2022-02-18T03:33:11.602Z"
   },
   {
    "duration": 26,
    "start_time": "2022-02-18T03:33:11.617Z"
   },
   {
    "duration": 14,
    "start_time": "2022-02-18T03:33:11.645Z"
   },
   {
    "duration": 9,
    "start_time": "2022-02-18T03:33:11.661Z"
   },
   {
    "duration": 16,
    "start_time": "2022-02-18T03:33:11.672Z"
   },
   {
    "duration": 40,
    "start_time": "2022-02-18T03:33:11.690Z"
   },
   {
    "duration": 29,
    "start_time": "2022-02-18T03:33:11.732Z"
   },
   {
    "duration": 23,
    "start_time": "2022-02-18T03:33:11.763Z"
   },
   {
    "duration": 24,
    "start_time": "2022-02-18T03:33:11.808Z"
   },
   {
    "duration": 266,
    "start_time": "2022-02-18T03:33:24.115Z"
   },
   {
    "duration": 651,
    "start_time": "2022-02-18T03:33:32.946Z"
   },
   {
    "duration": 352,
    "start_time": "2022-02-18T03:33:53.269Z"
   },
   {
    "duration": 357,
    "start_time": "2022-02-18T03:33:58.743Z"
   },
   {
    "duration": 359,
    "start_time": "2022-02-18T03:34:07.030Z"
   },
   {
    "duration": 368,
    "start_time": "2022-02-18T03:34:14.898Z"
   },
   {
    "duration": 345,
    "start_time": "2022-02-18T03:34:22.790Z"
   },
   {
    "duration": 170,
    "start_time": "2022-02-18T03:39:41.344Z"
   },
   {
    "duration": 304,
    "start_time": "2022-02-18T03:40:53.583Z"
   },
   {
    "duration": 246,
    "start_time": "2022-02-18T03:42:19.966Z"
   },
   {
    "duration": 251,
    "start_time": "2022-02-18T03:43:15.391Z"
   },
   {
    "duration": 259,
    "start_time": "2022-02-18T03:43:19.603Z"
   },
   {
    "duration": 236,
    "start_time": "2022-02-18T03:43:54.623Z"
   },
   {
    "duration": 265,
    "start_time": "2022-02-18T03:44:31.556Z"
   },
   {
    "duration": 251,
    "start_time": "2022-02-18T03:44:35.622Z"
   },
   {
    "duration": 271,
    "start_time": "2022-02-18T03:45:11.885Z"
   },
   {
    "duration": 278,
    "start_time": "2022-02-18T03:46:27.025Z"
   },
   {
    "duration": 4,
    "start_time": "2022-02-18T03:47:05.337Z"
   },
   {
    "duration": 35,
    "start_time": "2022-02-18T03:47:06.873Z"
   },
   {
    "duration": 35,
    "start_time": "2022-02-18T03:47:14.491Z"
   },
   {
    "duration": 272,
    "start_time": "2022-02-18T03:47:20.015Z"
   },
   {
    "duration": 24,
    "start_time": "2022-02-18T03:47:27.457Z"
   },
   {
    "duration": 214,
    "start_time": "2022-02-18T03:47:40.100Z"
   },
   {
    "duration": 10,
    "start_time": "2022-02-18T03:51:24.375Z"
   },
   {
    "duration": 23,
    "start_time": "2022-02-18T03:52:29.443Z"
   },
   {
    "duration": 44,
    "start_time": "2022-02-18T03:52:39.358Z"
   },
   {
    "duration": 42,
    "start_time": "2022-02-18T03:53:30.813Z"
   },
   {
    "duration": 12,
    "start_time": "2022-02-18T03:53:52.573Z"
   },
   {
    "duration": 303,
    "start_time": "2022-02-18T03:56:43.055Z"
   },
   {
    "duration": 294,
    "start_time": "2022-02-18T03:57:25.955Z"
   },
   {
    "duration": 670,
    "start_time": "2022-02-18T03:58:19.924Z"
   },
   {
    "duration": 300,
    "start_time": "2022-02-18T03:58:43.787Z"
   },
   {
    "duration": 343,
    "start_time": "2022-02-18T03:59:18.191Z"
   },
   {
    "duration": 383,
    "start_time": "2022-02-18T03:59:30.439Z"
   },
   {
    "duration": 307,
    "start_time": "2022-02-18T04:01:58.261Z"
   },
   {
    "duration": 325,
    "start_time": "2022-02-18T04:02:11.069Z"
   },
   {
    "duration": 261,
    "start_time": "2022-02-18T04:02:18.893Z"
   },
   {
    "duration": 195,
    "start_time": "2022-02-18T04:02:26.937Z"
   },
   {
    "duration": 189,
    "start_time": "2022-02-18T04:02:42.209Z"
   },
   {
    "duration": 208,
    "start_time": "2022-02-18T04:03:20.608Z"
   },
   {
    "duration": 285,
    "start_time": "2022-02-18T04:03:33.704Z"
   },
   {
    "duration": 217,
    "start_time": "2022-02-18T04:03:53.572Z"
   },
   {
    "duration": 297,
    "start_time": "2022-02-18T04:04:12.056Z"
   },
   {
    "duration": 265,
    "start_time": "2022-02-18T04:04:24.757Z"
   },
   {
    "duration": 201,
    "start_time": "2022-02-18T04:04:28.479Z"
   },
   {
    "duration": 395,
    "start_time": "2022-02-18T04:04:48.959Z"
   },
   {
    "duration": 177,
    "start_time": "2022-02-18T04:05:03.099Z"
   },
   {
    "duration": 243,
    "start_time": "2022-02-18T04:05:17.947Z"
   },
   {
    "duration": 222,
    "start_time": "2022-02-18T04:07:45.995Z"
   },
   {
    "duration": 377,
    "start_time": "2022-02-18T04:07:59.900Z"
   },
   {
    "duration": 199,
    "start_time": "2022-02-18T04:10:43.999Z"
   },
   {
    "duration": 170,
    "start_time": "2022-02-18T04:25:48.679Z"
   },
   {
    "duration": 247,
    "start_time": "2022-02-18T04:26:18.727Z"
   },
   {
    "duration": 298,
    "start_time": "2022-02-18T04:26:43.895Z"
   },
   {
    "duration": 247,
    "start_time": "2022-02-18T04:26:50.313Z"
   },
   {
    "duration": 8,
    "start_time": "2022-02-18T04:45:25.202Z"
   },
   {
    "duration": 8,
    "start_time": "2022-02-18T04:45:33.640Z"
   },
   {
    "duration": 10,
    "start_time": "2022-02-18T04:45:37.657Z"
   },
   {
    "duration": 8,
    "start_time": "2022-02-18T04:45:53.686Z"
   },
   {
    "duration": 10,
    "start_time": "2022-02-18T04:47:19.111Z"
   },
   {
    "duration": 4,
    "start_time": "2022-02-18T04:48:53.378Z"
   },
   {
    "duration": 9,
    "start_time": "2022-02-18T04:48:55.111Z"
   },
   {
    "duration": 5,
    "start_time": "2022-02-18T04:49:09.792Z"
   },
   {
    "duration": 52,
    "start_time": "2022-02-18T04:50:17.418Z"
   },
   {
    "duration": 4,
    "start_time": "2022-02-18T04:50:35.878Z"
   },
   {
    "duration": 4,
    "start_time": "2022-02-18T04:51:00.642Z"
   },
   {
    "duration": 57,
    "start_time": "2022-02-18T04:51:58.617Z"
   },
   {
    "duration": 5,
    "start_time": "2022-02-18T04:52:21.023Z"
   },
   {
    "duration": 5,
    "start_time": "2022-02-18T04:52:24.282Z"
   },
   {
    "duration": 4,
    "start_time": "2022-02-18T04:52:42.635Z"
   },
   {
    "duration": 13,
    "start_time": "2022-02-18T05:12:52.154Z"
   },
   {
    "duration": 39,
    "start_time": "2022-02-18T05:13:04.688Z"
   },
   {
    "duration": 34,
    "start_time": "2022-02-18T05:13:53.760Z"
   },
   {
    "duration": 32,
    "start_time": "2022-02-18T05:14:20.232Z"
   },
   {
    "duration": 313,
    "start_time": "2022-02-18T05:15:19.827Z"
   },
   {
    "duration": 32,
    "start_time": "2022-02-18T05:15:25.179Z"
   },
   {
    "duration": 32,
    "start_time": "2022-02-18T05:16:29.625Z"
   },
   {
    "duration": 26,
    "start_time": "2022-02-18T05:17:16.935Z"
   },
   {
    "duration": 5,
    "start_time": "2022-02-18T05:17:57.643Z"
   },
   {
    "duration": 198,
    "start_time": "2022-02-18T05:18:51.853Z"
   },
   {
    "duration": 274,
    "start_time": "2022-02-18T05:19:44.206Z"
   },
   {
    "duration": 262,
    "start_time": "2022-02-18T05:21:54.021Z"
   },
   {
    "duration": 366,
    "start_time": "2022-02-18T05:23:30.428Z"
   },
   {
    "duration": 280,
    "start_time": "2022-02-18T05:23:39.829Z"
   },
   {
    "duration": 235,
    "start_time": "2022-02-18T05:24:37.021Z"
   },
   {
    "duration": 319,
    "start_time": "2022-02-18T05:24:43.942Z"
   },
   {
    "duration": 245,
    "start_time": "2022-02-18T05:24:57.666Z"
   },
   {
    "duration": 242,
    "start_time": "2022-02-18T05:25:05.220Z"
   },
   {
    "duration": 239,
    "start_time": "2022-02-18T05:25:12.220Z"
   },
   {
    "duration": 85,
    "start_time": "2022-02-18T05:28:08.786Z"
   },
   {
    "duration": 84,
    "start_time": "2022-02-18T05:28:38.836Z"
   },
   {
    "duration": 124,
    "start_time": "2022-02-18T05:28:42.981Z"
   },
   {
    "duration": 338,
    "start_time": "2022-02-19T05:21:53.050Z"
   },
   {
    "duration": 863,
    "start_time": "2022-02-19T05:22:00.190Z"
   },
   {
    "duration": 189,
    "start_time": "2022-02-19T05:22:01.055Z"
   },
   {
    "duration": 162,
    "start_time": "2022-02-19T05:22:01.248Z"
   },
   {
    "duration": 15,
    "start_time": "2022-02-19T05:22:01.413Z"
   },
   {
    "duration": 27,
    "start_time": "2022-02-19T05:22:01.450Z"
   },
   {
    "duration": 24,
    "start_time": "2022-02-19T05:22:01.479Z"
   },
   {
    "duration": 4,
    "start_time": "2022-02-19T05:22:01.506Z"
   },
   {
    "duration": 55,
    "start_time": "2022-02-19T05:22:01.512Z"
   },
   {
    "duration": 12,
    "start_time": "2022-02-19T05:22:01.572Z"
   },
   {
    "duration": 130,
    "start_time": "2022-02-19T05:22:01.587Z"
   },
   {
    "duration": 4,
    "start_time": "2022-02-19T05:22:01.720Z"
   },
   {
    "duration": 54,
    "start_time": "2022-02-19T05:22:01.726Z"
   },
   {
    "duration": 24,
    "start_time": "2022-02-19T05:22:01.782Z"
   },
   {
    "duration": 33955,
    "start_time": "2022-02-19T05:22:01.808Z"
   },
   {
    "duration": 27,
    "start_time": "2022-02-19T05:22:35.766Z"
   },
   {
    "duration": 8,
    "start_time": "2022-02-19T05:22:35.796Z"
   },
   {
    "duration": 9,
    "start_time": "2022-02-19T05:22:35.806Z"
   },
   {
    "duration": 36,
    "start_time": "2022-02-19T05:22:35.818Z"
   },
   {
    "duration": 11,
    "start_time": "2022-02-19T05:22:35.856Z"
   },
   {
    "duration": 6,
    "start_time": "2022-02-19T05:22:35.870Z"
   },
   {
    "duration": 7,
    "start_time": "2022-02-19T05:22:35.879Z"
   },
   {
    "duration": 9,
    "start_time": "2022-02-19T05:22:35.889Z"
   },
   {
    "duration": 48,
    "start_time": "2022-02-19T05:22:35.901Z"
   },
   {
    "duration": 25,
    "start_time": "2022-02-19T05:22:35.952Z"
   },
   {
    "duration": 7,
    "start_time": "2022-02-19T05:22:35.979Z"
   },
   {
    "duration": 57,
    "start_time": "2022-02-19T05:22:35.988Z"
   },
   {
    "duration": 20,
    "start_time": "2022-02-19T05:22:36.052Z"
   },
   {
    "duration": 23,
    "start_time": "2022-02-19T05:22:36.075Z"
   },
   {
    "duration": 10,
    "start_time": "2022-02-19T05:22:36.101Z"
   },
   {
    "duration": 4,
    "start_time": "2022-02-19T05:22:36.114Z"
   },
   {
    "duration": 88,
    "start_time": "2022-02-19T05:22:36.120Z"
   },
   {
    "duration": 37,
    "start_time": "2022-02-19T05:22:36.211Z"
   },
   {
    "duration": 27,
    "start_time": "2022-02-19T05:22:36.251Z"
   },
   {
    "duration": 36,
    "start_time": "2022-02-19T05:22:36.280Z"
   },
   {
    "duration": 341,
    "start_time": "2022-02-19T05:22:36.319Z"
   },
   {
    "duration": 408,
    "start_time": "2022-02-19T05:22:36.662Z"
   },
   {
    "duration": 481,
    "start_time": "2022-02-19T05:22:37.073Z"
   },
   {
    "duration": 683,
    "start_time": "2022-02-19T05:22:37.556Z"
   },
   {
    "duration": 335,
    "start_time": "2022-02-19T05:22:38.243Z"
   },
   {
    "duration": 428,
    "start_time": "2022-02-19T05:22:38.582Z"
   },
   {
    "duration": 311,
    "start_time": "2022-02-19T05:22:39.013Z"
   },
   {
    "duration": 505,
    "start_time": "2022-02-19T05:22:39.326Z"
   },
   {
    "duration": 283,
    "start_time": "2022-02-19T05:22:39.834Z"
   },
   {
    "duration": 377,
    "start_time": "2022-02-19T05:22:40.120Z"
   },
   {
    "duration": 12,
    "start_time": "2022-02-19T05:22:40.500Z"
   },
   {
    "duration": 6,
    "start_time": "2022-02-19T05:22:40.514Z"
   },
   {
    "duration": 5,
    "start_time": "2022-02-19T05:22:40.548Z"
   },
   {
    "duration": 67,
    "start_time": "2022-02-19T05:22:40.556Z"
   },
   {
    "duration": 25,
    "start_time": "2022-02-19T05:22:40.625Z"
   },
   {
    "duration": 8,
    "start_time": "2022-02-19T05:22:40.652Z"
   },
   {
    "duration": 91,
    "start_time": "2022-02-19T05:22:40.662Z"
   },
   {
    "duration": 5,
    "start_time": "2022-02-19T05:22:40.756Z"
   },
   {
    "duration": 9,
    "start_time": "2022-02-19T05:22:40.764Z"
   },
   {
    "duration": 42,
    "start_time": "2022-02-19T05:22:40.776Z"
   },
   {
    "duration": 65,
    "start_time": "2022-02-19T05:22:40.820Z"
   },
   {
    "duration": 34,
    "start_time": "2022-02-19T05:22:40.888Z"
   },
   {
    "duration": 491,
    "start_time": "2022-02-19T05:29:15.898Z"
   },
   {
    "duration": 428,
    "start_time": "2022-02-19T05:29:28.795Z"
   },
   {
    "duration": 395,
    "start_time": "2022-02-19T05:46:08.172Z"
   },
   {
    "duration": 280,
    "start_time": "2022-02-19T05:46:48.344Z"
   },
   {
    "duration": 12,
    "start_time": "2022-02-19T05:47:23.623Z"
   },
   {
    "duration": 8,
    "start_time": "2022-02-19T05:47:52.146Z"
   },
   {
    "duration": 762,
    "start_time": "2022-02-19T21:33:01.926Z"
   },
   {
    "duration": 96,
    "start_time": "2022-02-19T21:33:02.690Z"
   },
   {
    "duration": 131,
    "start_time": "2022-02-19T21:33:02.789Z"
   },
   {
    "duration": 11,
    "start_time": "2022-02-19T21:33:02.922Z"
   },
   {
    "duration": 25,
    "start_time": "2022-02-19T21:33:02.935Z"
   },
   {
    "duration": 45,
    "start_time": "2022-02-19T21:33:02.963Z"
   },
   {
    "duration": 5,
    "start_time": "2022-02-19T21:33:03.011Z"
   },
   {
    "duration": 28,
    "start_time": "2022-02-19T21:33:03.018Z"
   },
   {
    "duration": 9,
    "start_time": "2022-02-19T21:33:03.049Z"
   },
   {
    "duration": 104,
    "start_time": "2022-02-19T21:33:03.060Z"
   },
   {
    "duration": 4,
    "start_time": "2022-02-19T21:33:03.166Z"
   },
   {
    "duration": 48,
    "start_time": "2022-02-19T21:33:03.172Z"
   },
   {
    "duration": 4,
    "start_time": "2022-02-19T21:33:03.222Z"
   },
   {
    "duration": 30751,
    "start_time": "2022-02-19T21:33:03.228Z"
   },
   {
    "duration": 32,
    "start_time": "2022-02-19T21:33:33.981Z"
   },
   {
    "duration": 5,
    "start_time": "2022-02-19T21:33:34.015Z"
   },
   {
    "duration": 18,
    "start_time": "2022-02-19T21:33:34.022Z"
   },
   {
    "duration": 11,
    "start_time": "2022-02-19T21:33:34.042Z"
   },
   {
    "duration": 8,
    "start_time": "2022-02-19T21:33:34.055Z"
   },
   {
    "duration": 9,
    "start_time": "2022-02-19T21:33:34.065Z"
   },
   {
    "duration": 10,
    "start_time": "2022-02-19T21:33:34.076Z"
   },
   {
    "duration": 22,
    "start_time": "2022-02-19T21:33:34.088Z"
   },
   {
    "duration": 13,
    "start_time": "2022-02-19T21:33:34.112Z"
   },
   {
    "duration": 29,
    "start_time": "2022-02-19T21:33:34.126Z"
   },
   {
    "duration": 5,
    "start_time": "2022-02-19T21:33:34.157Z"
   },
   {
    "duration": 60,
    "start_time": "2022-02-19T21:33:34.163Z"
   },
   {
    "duration": 14,
    "start_time": "2022-02-19T21:33:34.229Z"
   },
   {
    "duration": 21,
    "start_time": "2022-02-19T21:33:34.245Z"
   },
   {
    "duration": 6,
    "start_time": "2022-02-19T21:33:34.268Z"
   },
   {
    "duration": 31,
    "start_time": "2022-02-19T21:33:34.276Z"
   },
   {
    "duration": 33,
    "start_time": "2022-02-19T21:33:34.310Z"
   },
   {
    "duration": 23,
    "start_time": "2022-02-19T21:33:34.345Z"
   },
   {
    "duration": 46,
    "start_time": "2022-02-19T21:33:34.370Z"
   },
   {
    "duration": 26,
    "start_time": "2022-02-19T21:33:34.418Z"
   },
   {
    "duration": 228,
    "start_time": "2022-02-19T21:33:34.446Z"
   },
   {
    "duration": 286,
    "start_time": "2022-02-19T21:33:34.676Z"
   },
   {
    "duration": 228,
    "start_time": "2022-02-19T21:33:34.964Z"
   },
   {
    "duration": 315,
    "start_time": "2022-02-19T21:33:35.194Z"
   },
   {
    "duration": 242,
    "start_time": "2022-02-19T21:33:35.511Z"
   },
   {
    "duration": 320,
    "start_time": "2022-02-19T21:33:35.755Z"
   },
   {
    "duration": 230,
    "start_time": "2022-02-19T21:33:36.077Z"
   },
   {
    "duration": 374,
    "start_time": "2022-02-19T21:33:36.309Z"
   },
   {
    "duration": 194,
    "start_time": "2022-02-19T21:33:36.685Z"
   },
   {
    "duration": 273,
    "start_time": "2022-02-19T21:33:36.881Z"
   },
   {
    "duration": 8,
    "start_time": "2022-02-19T21:33:37.156Z"
   },
   {
    "duration": 8,
    "start_time": "2022-02-19T21:33:37.166Z"
   },
   {
    "duration": 11,
    "start_time": "2022-02-19T21:33:37.176Z"
   },
   {
    "duration": 72,
    "start_time": "2022-02-19T21:33:37.189Z"
   },
   {
    "duration": 5,
    "start_time": "2022-02-19T21:33:37.263Z"
   },
   {
    "duration": 16,
    "start_time": "2022-02-19T21:33:37.269Z"
   },
   {
    "duration": 71,
    "start_time": "2022-02-19T21:33:37.287Z"
   },
   {
    "duration": 3,
    "start_time": "2022-02-19T21:33:37.360Z"
   },
   {
    "duration": 8,
    "start_time": "2022-02-19T21:33:37.365Z"
   },
   {
    "duration": 46,
    "start_time": "2022-02-19T21:33:37.375Z"
   },
   {
    "duration": 33,
    "start_time": "2022-02-19T21:33:37.423Z"
   },
   {
    "duration": 49,
    "start_time": "2022-02-19T21:33:37.458Z"
   },
   {
    "duration": 280,
    "start_time": "2022-02-19T21:33:37.510Z"
   },
   {
    "duration": 294,
    "start_time": "2022-02-19T21:33:37.792Z"
   },
   {
    "duration": 320,
    "start_time": "2022-02-19T21:33:38.089Z"
   },
   {
    "duration": 10,
    "start_time": "2022-02-19T21:33:38.411Z"
   },
   {
    "duration": 6,
    "start_time": "2022-02-19T21:33:38.423Z"
   },
   {
    "duration": 312,
    "start_time": "2022-02-19T21:33:38.430Z"
   },
   {
    "duration": 203,
    "start_time": "2022-02-19T21:33:38.744Z"
   },
   {
    "duration": 5,
    "start_time": "2022-02-19T23:36:30.117Z"
   },
   {
    "duration": 117,
    "start_time": "2022-02-19T23:36:30.125Z"
   },
   {
    "duration": 140,
    "start_time": "2022-02-19T23:36:30.244Z"
   },
   {
    "duration": 23,
    "start_time": "2022-02-19T23:36:30.387Z"
   },
   {
    "duration": 38,
    "start_time": "2022-02-19T23:36:30.412Z"
   },
   {
    "duration": 39,
    "start_time": "2022-02-19T23:36:30.452Z"
   },
   {
    "duration": 20,
    "start_time": "2022-02-19T23:36:30.493Z"
   },
   {
    "duration": 38,
    "start_time": "2022-02-19T23:36:30.515Z"
   },
   {
    "duration": 20,
    "start_time": "2022-02-19T23:36:30.556Z"
   },
   {
    "duration": 107,
    "start_time": "2022-02-19T23:36:30.578Z"
   },
   {
    "duration": 4,
    "start_time": "2022-02-19T23:36:30.687Z"
   },
   {
    "duration": 35,
    "start_time": "2022-02-19T23:36:30.692Z"
   },
   {
    "duration": 16,
    "start_time": "2022-02-19T23:36:30.729Z"
   },
   {
    "duration": 30067,
    "start_time": "2022-02-19T23:36:30.747Z"
   },
   {
    "duration": 23,
    "start_time": "2022-02-19T23:37:00.816Z"
   },
   {
    "duration": 19,
    "start_time": "2022-02-19T23:37:00.842Z"
   },
   {
    "duration": 19,
    "start_time": "2022-02-19T23:37:00.864Z"
   },
   {
    "duration": 34,
    "start_time": "2022-02-19T23:37:00.886Z"
   },
   {
    "duration": 17,
    "start_time": "2022-02-19T23:37:00.922Z"
   },
   {
    "duration": 21,
    "start_time": "2022-02-19T23:37:00.941Z"
   },
   {
    "duration": 16,
    "start_time": "2022-02-19T23:37:00.964Z"
   },
   {
    "duration": 14,
    "start_time": "2022-02-19T23:37:00.982Z"
   },
   {
    "duration": 11,
    "start_time": "2022-02-19T23:37:01.000Z"
   },
   {
    "duration": 25,
    "start_time": "2022-02-19T23:37:01.014Z"
   },
   {
    "duration": 9,
    "start_time": "2022-02-19T23:37:01.042Z"
   },
   {
    "duration": 59,
    "start_time": "2022-02-19T23:37:01.053Z"
   },
   {
    "duration": 15,
    "start_time": "2022-02-19T23:37:01.114Z"
   },
   {
    "duration": 22,
    "start_time": "2022-02-19T23:37:01.131Z"
   },
   {
    "duration": 7,
    "start_time": "2022-02-19T23:37:01.156Z"
   },
   {
    "duration": 13,
    "start_time": "2022-02-19T23:37:01.165Z"
   },
   {
    "duration": 58,
    "start_time": "2022-02-19T23:37:01.180Z"
   },
   {
    "duration": 28,
    "start_time": "2022-02-19T23:37:01.240Z"
   },
   {
    "duration": 22,
    "start_time": "2022-02-19T23:37:01.269Z"
   },
   {
    "duration": 51,
    "start_time": "2022-02-19T23:37:01.293Z"
   },
   {
    "duration": 216,
    "start_time": "2022-02-19T23:37:01.346Z"
   },
   {
    "duration": 270,
    "start_time": "2022-02-19T23:37:01.564Z"
   },
   {
    "duration": 220,
    "start_time": "2022-02-19T23:37:01.837Z"
   },
   {
    "duration": 417,
    "start_time": "2022-02-19T23:37:02.060Z"
   },
   {
    "duration": 244,
    "start_time": "2022-02-19T23:37:02.480Z"
   },
   {
    "duration": 290,
    "start_time": "2022-02-19T23:37:02.726Z"
   },
   {
    "duration": 287,
    "start_time": "2022-02-19T23:37:03.018Z"
   },
   {
    "duration": 406,
    "start_time": "2022-02-19T23:37:03.307Z"
   },
   {
    "duration": 194,
    "start_time": "2022-02-19T23:37:03.715Z"
   },
   {
    "duration": 266,
    "start_time": "2022-02-19T23:37:03.911Z"
   },
   {
    "duration": 8,
    "start_time": "2022-02-19T23:37:04.179Z"
   },
   {
    "duration": 23,
    "start_time": "2022-02-19T23:37:04.189Z"
   },
   {
    "duration": 14,
    "start_time": "2022-02-19T23:37:04.214Z"
   },
   {
    "duration": 70,
    "start_time": "2022-02-19T23:37:04.230Z"
   },
   {
    "duration": 3,
    "start_time": "2022-02-19T23:37:04.303Z"
   },
   {
    "duration": 39,
    "start_time": "2022-02-19T23:37:04.308Z"
   },
   {
    "duration": 64,
    "start_time": "2022-02-19T23:37:04.349Z"
   },
   {
    "duration": 3,
    "start_time": "2022-02-19T23:37:04.415Z"
   },
   {
    "duration": 10,
    "start_time": "2022-02-19T23:37:04.420Z"
   },
   {
    "duration": 49,
    "start_time": "2022-02-19T23:37:04.431Z"
   },
   {
    "duration": 37,
    "start_time": "2022-02-19T23:37:04.482Z"
   },
   {
    "duration": 27,
    "start_time": "2022-02-19T23:37:04.521Z"
   },
   {
    "duration": 294,
    "start_time": "2022-02-19T23:37:04.551Z"
   },
   {
    "duration": 295,
    "start_time": "2022-02-19T23:37:04.847Z"
   },
   {
    "duration": 308,
    "start_time": "2022-02-19T23:37:05.144Z"
   },
   {
    "duration": 11,
    "start_time": "2022-02-19T23:37:05.454Z"
   },
   {
    "duration": 30,
    "start_time": "2022-02-19T23:37:05.468Z"
   },
   {
    "duration": 282,
    "start_time": "2022-02-19T23:37:05.500Z"
   },
   {
    "duration": 193,
    "start_time": "2022-02-19T23:37:05.784Z"
   },
   {
    "duration": 382,
    "start_time": "2022-02-19T23:46:22.862Z"
   },
   {
    "duration": 15,
    "start_time": "2022-02-19T23:46:30.033Z"
   },
   {
    "duration": 20,
    "start_time": "2022-02-19T23:46:43.676Z"
   },
   {
    "duration": 17,
    "start_time": "2022-02-19T23:48:35.675Z"
   },
   {
    "duration": 17,
    "start_time": "2022-02-19T23:50:08.751Z"
   },
   {
    "duration": 45,
    "start_time": "2022-02-19T23:51:43.457Z"
   },
   {
    "duration": 17,
    "start_time": "2022-02-19T23:53:19.378Z"
   },
   {
    "duration": 649,
    "start_time": "2022-02-20T02:42:00.279Z"
   },
   {
    "duration": 92,
    "start_time": "2022-02-20T02:42:00.930Z"
   },
   {
    "duration": 102,
    "start_time": "2022-02-20T02:42:01.024Z"
   },
   {
    "duration": 8,
    "start_time": "2022-02-20T02:42:01.131Z"
   },
   {
    "duration": 22,
    "start_time": "2022-02-20T02:42:01.140Z"
   },
   {
    "duration": 16,
    "start_time": "2022-02-20T02:42:01.164Z"
   },
   {
    "duration": 3,
    "start_time": "2022-02-20T02:42:01.181Z"
   },
   {
    "duration": 21,
    "start_time": "2022-02-20T02:42:01.186Z"
   },
   {
    "duration": 29,
    "start_time": "2022-02-20T02:42:01.210Z"
   },
   {
    "duration": 71,
    "start_time": "2022-02-20T02:42:01.241Z"
   },
   {
    "duration": 3,
    "start_time": "2022-02-20T02:42:01.314Z"
   },
   {
    "duration": 31,
    "start_time": "2022-02-20T02:42:01.318Z"
   },
   {
    "duration": 3,
    "start_time": "2022-02-20T02:42:01.351Z"
   },
   {
    "duration": 21452,
    "start_time": "2022-02-20T02:42:01.356Z"
   },
   {
    "duration": 23,
    "start_time": "2022-02-20T02:42:22.810Z"
   },
   {
    "duration": 5,
    "start_time": "2022-02-20T02:42:22.835Z"
   },
   {
    "duration": 4,
    "start_time": "2022-02-20T02:42:22.842Z"
   },
   {
    "duration": 5,
    "start_time": "2022-02-20T02:42:22.847Z"
   },
   {
    "duration": 11,
    "start_time": "2022-02-20T02:42:22.853Z"
   },
   {
    "duration": 7,
    "start_time": "2022-02-20T02:42:22.866Z"
   },
   {
    "duration": 6,
    "start_time": "2022-02-20T02:42:22.875Z"
   },
   {
    "duration": 11,
    "start_time": "2022-02-20T02:42:22.882Z"
   },
   {
    "duration": 11,
    "start_time": "2022-02-20T02:42:22.895Z"
   },
   {
    "duration": 31,
    "start_time": "2022-02-20T02:42:22.908Z"
   },
   {
    "duration": 4,
    "start_time": "2022-02-20T02:42:22.940Z"
   },
   {
    "duration": 43,
    "start_time": "2022-02-20T02:42:22.946Z"
   },
   {
    "duration": 11,
    "start_time": "2022-02-20T02:42:22.993Z"
   },
   {
    "duration": 31,
    "start_time": "2022-02-20T02:42:23.006Z"
   },
   {
    "duration": 6,
    "start_time": "2022-02-20T02:42:23.039Z"
   },
   {
    "duration": 5,
    "start_time": "2022-02-20T02:42:23.046Z"
   },
   {
    "duration": 33,
    "start_time": "2022-02-20T02:42:23.052Z"
   },
   {
    "duration": 17,
    "start_time": "2022-02-20T02:42:23.086Z"
   },
   {
    "duration": 37,
    "start_time": "2022-02-20T02:42:23.105Z"
   },
   {
    "duration": 19,
    "start_time": "2022-02-20T02:42:23.143Z"
   },
   {
    "duration": 193,
    "start_time": "2022-02-20T02:42:23.164Z"
   },
   {
    "duration": 226,
    "start_time": "2022-02-20T02:42:23.359Z"
   },
   {
    "duration": 191,
    "start_time": "2022-02-20T02:42:23.586Z"
   },
   {
    "duration": 254,
    "start_time": "2022-02-20T02:42:23.779Z"
   },
   {
    "duration": 186,
    "start_time": "2022-02-20T02:42:24.035Z"
   },
   {
    "duration": 247,
    "start_time": "2022-02-20T02:42:24.223Z"
   },
   {
    "duration": 185,
    "start_time": "2022-02-20T02:42:24.472Z"
   },
   {
    "duration": 302,
    "start_time": "2022-02-20T02:42:24.658Z"
   },
   {
    "duration": 163,
    "start_time": "2022-02-20T02:42:24.962Z"
   },
   {
    "duration": 216,
    "start_time": "2022-02-20T02:42:25.127Z"
   },
   {
    "duration": 7,
    "start_time": "2022-02-20T02:42:25.344Z"
   },
   {
    "duration": 4,
    "start_time": "2022-02-20T02:42:25.353Z"
   },
   {
    "duration": 4,
    "start_time": "2022-02-20T02:42:25.359Z"
   },
   {
    "duration": 69,
    "start_time": "2022-02-20T02:42:25.364Z"
   },
   {
    "duration": 3,
    "start_time": "2022-02-20T02:42:25.435Z"
   },
   {
    "duration": 3,
    "start_time": "2022-02-20T02:42:25.440Z"
   },
   {
    "duration": 44,
    "start_time": "2022-02-20T02:42:25.445Z"
   },
   {
    "duration": 3,
    "start_time": "2022-02-20T02:42:25.491Z"
   },
   {
    "duration": 5,
    "start_time": "2022-02-20T02:42:25.495Z"
   },
   {
    "duration": 51,
    "start_time": "2022-02-20T02:42:25.501Z"
   },
   {
    "duration": 27,
    "start_time": "2022-02-20T02:42:25.553Z"
   },
   {
    "duration": 21,
    "start_time": "2022-02-20T02:42:25.581Z"
   },
   {
    "duration": 234,
    "start_time": "2022-02-20T02:42:25.604Z"
   },
   {
    "duration": 233,
    "start_time": "2022-02-20T02:42:25.839Z"
   },
   {
    "duration": 250,
    "start_time": "2022-02-20T02:42:26.073Z"
   },
   {
    "duration": 13,
    "start_time": "2022-02-20T02:42:26.324Z"
   },
   {
    "duration": 4,
    "start_time": "2022-02-20T02:42:26.338Z"
   },
   {
    "duration": 232,
    "start_time": "2022-02-20T02:42:26.344Z"
   },
   {
    "duration": 154,
    "start_time": "2022-02-20T02:42:26.577Z"
   },
   {
    "duration": 13,
    "start_time": "2022-02-20T02:42:26.733Z"
   },
   {
    "duration": 12,
    "start_time": "2022-02-20T02:42:26.748Z"
   },
   {
    "duration": 525,
    "start_time": "2022-02-20T02:48:02.751Z"
   },
   {
    "duration": 15,
    "start_time": "2022-02-20T02:48:31.177Z"
   },
   {
    "duration": 15,
    "start_time": "2022-02-20T03:17:23.805Z"
   },
   {
    "duration": 7,
    "start_time": "2022-02-20T03:19:31.650Z"
   },
   {
    "duration": 320,
    "start_time": "2022-02-20T03:22:13.828Z"
   },
   {
    "duration": 4,
    "start_time": "2022-02-20T03:23:18.402Z"
   },
   {
    "duration": 9,
    "start_time": "2022-02-20T03:23:31.449Z"
   },
   {
    "duration": 306,
    "start_time": "2022-02-20T03:23:39.441Z"
   },
   {
    "duration": 8,
    "start_time": "2022-02-20T03:24:16.235Z"
   },
   {
    "duration": 291,
    "start_time": "2022-02-20T03:24:36.919Z"
   },
   {
    "duration": 240,
    "start_time": "2022-02-20T03:24:54.375Z"
   },
   {
    "duration": 9,
    "start_time": "2022-02-20T03:26:08.808Z"
   },
   {
    "duration": 9,
    "start_time": "2022-02-20T03:26:39.075Z"
   },
   {
    "duration": 8,
    "start_time": "2022-02-20T03:27:23.353Z"
   },
   {
    "duration": 7437,
    "start_time": "2022-02-20T03:27:59.135Z"
   },
   {
    "duration": 281,
    "start_time": "2022-02-20T03:28:10.832Z"
   },
   {
    "duration": 14,
    "start_time": "2022-02-20T04:10:03.265Z"
   },
   {
    "duration": 9,
    "start_time": "2022-02-20T04:11:07.276Z"
   },
   {
    "duration": 29,
    "start_time": "2022-02-20T04:17:58.672Z"
   },
   {
    "duration": 91,
    "start_time": "2022-02-20T04:18:27.197Z"
   },
   {
    "duration": 6,
    "start_time": "2022-02-20T04:20:38.324Z"
   },
   {
    "duration": 7632,
    "start_time": "2022-02-20T04:22:20.469Z"
   },
   {
    "duration": 6,
    "start_time": "2022-02-20T04:22:41.102Z"
   },
   {
    "duration": 7,
    "start_time": "2022-02-20T04:28:58.577Z"
   },
   {
    "duration": 291,
    "start_time": "2022-02-20T04:29:23.221Z"
   },
   {
    "duration": 100,
    "start_time": "2022-02-20T04:29:48.683Z"
   },
   {
    "duration": 11,
    "start_time": "2022-02-20T04:29:55.606Z"
   },
   {
    "duration": 6,
    "start_time": "2022-02-20T04:30:05.206Z"
   },
   {
    "duration": 5,
    "start_time": "2022-02-20T04:31:18.869Z"
   },
   {
    "duration": 15,
    "start_time": "2022-02-20T04:32:51.462Z"
   },
   {
    "duration": 7,
    "start_time": "2022-02-20T04:33:31.720Z"
   },
   {
    "duration": 12210,
    "start_time": "2022-02-20T04:37:54.102Z"
   },
   {
    "duration": 110,
    "start_time": "2022-02-20T04:39:29.794Z"
   },
   {
    "duration": 12497,
    "start_time": "2022-02-20T04:41:11.781Z"
   },
   {
    "duration": 12515,
    "start_time": "2022-02-20T04:43:57.282Z"
   },
   {
    "duration": 15,
    "start_time": "2022-02-20T04:49:01.464Z"
   },
   {
    "duration": 7,
    "start_time": "2022-02-20T04:49:10.867Z"
   },
   {
    "duration": 10,
    "start_time": "2022-02-20T04:49:18.498Z"
   },
   {
    "duration": 6,
    "start_time": "2022-02-20T04:49:23.951Z"
   },
   {
    "duration": 30,
    "start_time": "2022-02-20T04:49:31.041Z"
   },
   {
    "duration": 12498,
    "start_time": "2022-02-20T04:49:36.968Z"
   },
   {
    "duration": 13034,
    "start_time": "2022-02-20T04:51:38.332Z"
   },
   {
    "duration": 688,
    "start_time": "2022-02-20T04:52:00.922Z"
   },
   {
    "duration": 93,
    "start_time": "2022-02-20T04:52:01.612Z"
   },
   {
    "duration": 102,
    "start_time": "2022-02-20T04:52:01.707Z"
   },
   {
    "duration": 9,
    "start_time": "2022-02-20T04:52:01.810Z"
   },
   {
    "duration": 27,
    "start_time": "2022-02-20T04:52:01.821Z"
   },
   {
    "duration": 16,
    "start_time": "2022-02-20T04:52:01.849Z"
   },
   {
    "duration": 3,
    "start_time": "2022-02-20T04:52:01.866Z"
   },
   {
    "duration": 19,
    "start_time": "2022-02-20T04:52:01.871Z"
   },
   {
    "duration": 6,
    "start_time": "2022-02-20T04:52:01.893Z"
   },
   {
    "duration": 88,
    "start_time": "2022-02-20T04:52:01.901Z"
   },
   {
    "duration": 2,
    "start_time": "2022-02-20T04:52:01.991Z"
   },
   {
    "duration": 30,
    "start_time": "2022-02-20T04:52:01.995Z"
   },
   {
    "duration": 4,
    "start_time": "2022-02-20T04:52:02.032Z"
   },
   {
    "duration": 21709,
    "start_time": "2022-02-20T04:52:02.038Z"
   },
   {
    "duration": 20,
    "start_time": "2022-02-20T04:52:23.749Z"
   },
   {
    "duration": 5,
    "start_time": "2022-02-20T04:52:23.771Z"
   },
   {
    "duration": 4,
    "start_time": "2022-02-20T04:52:23.778Z"
   },
   {
    "duration": 5,
    "start_time": "2022-02-20T04:52:23.784Z"
   },
   {
    "duration": 5,
    "start_time": "2022-02-20T04:52:23.790Z"
   },
   {
    "duration": 35,
    "start_time": "2022-02-20T04:52:23.797Z"
   },
   {
    "duration": 4,
    "start_time": "2022-02-20T04:52:23.833Z"
   },
   {
    "duration": 6,
    "start_time": "2022-02-20T04:52:23.838Z"
   },
   {
    "duration": 8,
    "start_time": "2022-02-20T04:52:23.845Z"
   },
   {
    "duration": 21,
    "start_time": "2022-02-20T04:52:23.854Z"
   },
   {
    "duration": 4,
    "start_time": "2022-02-20T04:52:23.876Z"
   },
   {
    "duration": 52,
    "start_time": "2022-02-20T04:52:23.881Z"
   },
   {
    "duration": 10,
    "start_time": "2022-02-20T04:52:23.937Z"
   },
   {
    "duration": 12,
    "start_time": "2022-02-20T04:52:23.950Z"
   },
   {
    "duration": 5,
    "start_time": "2022-02-20T04:52:23.963Z"
   },
   {
    "duration": 4,
    "start_time": "2022-02-20T04:52:23.970Z"
   },
   {
    "duration": 30,
    "start_time": "2022-02-20T04:52:23.975Z"
   },
   {
    "duration": 16,
    "start_time": "2022-02-20T04:52:24.032Z"
   },
   {
    "duration": 16,
    "start_time": "2022-02-20T04:52:24.050Z"
   },
   {
    "duration": 17,
    "start_time": "2022-02-20T04:52:24.068Z"
   },
   {
    "duration": 191,
    "start_time": "2022-02-20T04:52:24.087Z"
   },
   {
    "duration": 225,
    "start_time": "2022-02-20T04:52:24.280Z"
   },
   {
    "duration": 191,
    "start_time": "2022-02-20T04:52:24.507Z"
   },
   {
    "duration": 250,
    "start_time": "2022-02-20T04:52:24.700Z"
   },
   {
    "duration": 190,
    "start_time": "2022-02-20T04:52:24.951Z"
   },
   {
    "duration": 250,
    "start_time": "2022-02-20T04:52:25.142Z"
   },
   {
    "duration": 180,
    "start_time": "2022-02-20T04:52:25.394Z"
   },
   {
    "duration": 303,
    "start_time": "2022-02-20T04:52:25.576Z"
   },
   {
    "duration": 158,
    "start_time": "2022-02-20T04:52:25.880Z"
   },
   {
    "duration": 220,
    "start_time": "2022-02-20T04:52:26.040Z"
   },
   {
    "duration": 8,
    "start_time": "2022-02-20T04:52:26.262Z"
   },
   {
    "duration": 6,
    "start_time": "2022-02-20T04:52:26.271Z"
   },
   {
    "duration": 5,
    "start_time": "2022-02-20T04:52:26.279Z"
   },
   {
    "duration": 68,
    "start_time": "2022-02-20T04:52:26.286Z"
   },
   {
    "duration": 4,
    "start_time": "2022-02-20T04:52:26.355Z"
   },
   {
    "duration": 6,
    "start_time": "2022-02-20T04:52:26.360Z"
   },
   {
    "duration": 68,
    "start_time": "2022-02-20T04:52:26.368Z"
   },
   {
    "duration": 4,
    "start_time": "2022-02-20T04:52:26.438Z"
   },
   {
    "duration": 5,
    "start_time": "2022-02-20T04:52:26.444Z"
   },
   {
    "duration": 29,
    "start_time": "2022-02-20T04:52:26.451Z"
   },
   {
    "duration": 56,
    "start_time": "2022-02-20T04:52:26.482Z"
   },
   {
    "duration": 24,
    "start_time": "2022-02-20T04:52:26.540Z"
   },
   {
    "duration": 231,
    "start_time": "2022-02-20T04:52:26.565Z"
   },
   {
    "duration": 243,
    "start_time": "2022-02-20T04:52:26.798Z"
   },
   {
    "duration": 247,
    "start_time": "2022-02-20T04:52:27.043Z"
   },
   {
    "duration": 8,
    "start_time": "2022-02-20T04:52:27.292Z"
   },
   {
    "duration": 243,
    "start_time": "2022-02-20T04:52:27.301Z"
   },
   {
    "duration": 166,
    "start_time": "2022-02-20T04:52:27.545Z"
   },
   {
    "duration": 19,
    "start_time": "2022-02-20T04:52:27.713Z"
   },
   {
    "duration": 13,
    "start_time": "2022-02-20T04:52:27.734Z"
   },
   {
    "duration": 7,
    "start_time": "2022-02-20T04:52:27.748Z"
   },
   {
    "duration": 281,
    "start_time": "2022-02-20T04:52:27.756Z"
   },
   {
    "duration": 26,
    "start_time": "2022-02-20T04:52:28.039Z"
   },
   {
    "duration": 14,
    "start_time": "2022-02-20T04:52:28.067Z"
   },
   {
    "duration": 5,
    "start_time": "2022-02-20T04:52:28.082Z"
   },
   {
    "duration": 10,
    "start_time": "2022-02-20T04:52:28.088Z"
   },
   {
    "duration": 33,
    "start_time": "2022-02-20T04:52:28.100Z"
   },
   {
    "duration": 30,
    "start_time": "2022-02-20T04:52:28.134Z"
   },
   {
    "duration": 6,
    "start_time": "2022-02-20T04:52:28.165Z"
   },
   {
    "duration": 13,
    "start_time": "2022-02-20T04:52:28.172Z"
   },
   {
    "duration": 5,
    "start_time": "2022-02-20T04:52:28.187Z"
   },
   {
    "duration": 12481,
    "start_time": "2022-02-20T04:53:22.484Z"
   },
   {
    "duration": 12920,
    "start_time": "2022-02-20T04:55:26.775Z"
   },
   {
    "duration": 307,
    "start_time": "2022-02-20T05:00:30.560Z"
   },
   {
    "duration": 13623,
    "start_time": "2022-02-20T05:00:40.012Z"
   },
   {
    "duration": 887,
    "start_time": "2022-02-20T13:05:05.176Z"
   },
   {
    "duration": 116,
    "start_time": "2022-02-20T13:05:06.066Z"
   },
   {
    "duration": 168,
    "start_time": "2022-02-20T13:05:06.186Z"
   },
   {
    "duration": 15,
    "start_time": "2022-02-20T13:05:06.358Z"
   },
   {
    "duration": 35,
    "start_time": "2022-02-20T13:05:06.376Z"
   },
   {
    "duration": 55,
    "start_time": "2022-02-20T13:05:06.413Z"
   },
   {
    "duration": 4,
    "start_time": "2022-02-20T13:05:06.470Z"
   },
   {
    "duration": 31,
    "start_time": "2022-02-20T13:05:06.476Z"
   },
   {
    "duration": 35,
    "start_time": "2022-02-20T13:05:06.513Z"
   },
   {
    "duration": 107,
    "start_time": "2022-02-20T13:05:06.552Z"
   },
   {
    "duration": 5,
    "start_time": "2022-02-20T13:05:06.662Z"
   },
   {
    "duration": 35,
    "start_time": "2022-02-20T13:05:06.669Z"
   },
   {
    "duration": 6,
    "start_time": "2022-02-20T13:05:06.706Z"
   },
   {
    "duration": 35226,
    "start_time": "2022-02-20T13:05:06.715Z"
   },
   {
    "duration": 31,
    "start_time": "2022-02-20T13:05:41.949Z"
   },
   {
    "duration": 6,
    "start_time": "2022-02-20T13:05:41.982Z"
   },
   {
    "duration": 11,
    "start_time": "2022-02-20T13:05:41.990Z"
   },
   {
    "duration": 11,
    "start_time": "2022-02-20T13:05:42.003Z"
   },
   {
    "duration": 34,
    "start_time": "2022-02-20T13:05:42.016Z"
   },
   {
    "duration": 10,
    "start_time": "2022-02-20T13:05:42.054Z"
   },
   {
    "duration": 6,
    "start_time": "2022-02-20T13:05:42.067Z"
   },
   {
    "duration": 11,
    "start_time": "2022-02-20T13:05:42.076Z"
   },
   {
    "duration": 12,
    "start_time": "2022-02-20T13:05:42.090Z"
   },
   {
    "duration": 64,
    "start_time": "2022-02-20T13:05:42.105Z"
   },
   {
    "duration": 7,
    "start_time": "2022-02-20T13:05:42.171Z"
   },
   {
    "duration": 81,
    "start_time": "2022-02-20T13:05:42.182Z"
   },
   {
    "duration": 20,
    "start_time": "2022-02-20T13:05:42.270Z"
   },
   {
    "duration": 22,
    "start_time": "2022-02-20T13:05:42.294Z"
   },
   {
    "duration": 36,
    "start_time": "2022-02-20T13:05:42.318Z"
   },
   {
    "duration": 12,
    "start_time": "2022-02-20T13:05:42.357Z"
   },
   {
    "duration": 48,
    "start_time": "2022-02-20T13:05:42.371Z"
   },
   {
    "duration": 51,
    "start_time": "2022-02-20T13:05:42.421Z"
   },
   {
    "duration": 27,
    "start_time": "2022-02-20T13:05:42.474Z"
   },
   {
    "duration": 58,
    "start_time": "2022-02-20T13:05:42.503Z"
   },
   {
    "duration": 317,
    "start_time": "2022-02-20T13:05:42.564Z"
   },
   {
    "duration": 397,
    "start_time": "2022-02-20T13:05:42.883Z"
   },
   {
    "duration": 314,
    "start_time": "2022-02-20T13:05:43.282Z"
   },
   {
    "duration": 435,
    "start_time": "2022-02-20T13:05:43.598Z"
   },
   {
    "duration": 326,
    "start_time": "2022-02-20T13:05:44.035Z"
   },
   {
    "duration": 430,
    "start_time": "2022-02-20T13:05:44.364Z"
   },
   {
    "duration": 322,
    "start_time": "2022-02-20T13:05:44.796Z"
   },
   {
    "duration": 480,
    "start_time": "2022-02-20T13:05:45.121Z"
   },
   {
    "duration": 269,
    "start_time": "2022-02-20T13:05:45.604Z"
   },
   {
    "duration": 366,
    "start_time": "2022-02-20T13:05:45.876Z"
   },
   {
    "duration": 12,
    "start_time": "2022-02-20T13:05:46.249Z"
   },
   {
    "duration": 6,
    "start_time": "2022-02-20T13:05:46.263Z"
   },
   {
    "duration": 7,
    "start_time": "2022-02-20T13:05:46.271Z"
   },
   {
    "duration": 104,
    "start_time": "2022-02-20T13:05:46.280Z"
   },
   {
    "duration": 5,
    "start_time": "2022-02-20T13:05:46.386Z"
   },
   {
    "duration": 7,
    "start_time": "2022-02-20T13:05:46.393Z"
   },
   {
    "duration": 95,
    "start_time": "2022-02-20T13:05:46.402Z"
   },
   {
    "duration": 4,
    "start_time": "2022-02-20T13:05:46.500Z"
   },
   {
    "duration": 9,
    "start_time": "2022-02-20T13:05:46.507Z"
   },
   {
    "duration": 62,
    "start_time": "2022-02-20T13:05:46.518Z"
   },
   {
    "duration": 42,
    "start_time": "2022-02-20T13:05:46.583Z"
   },
   {
    "duration": 52,
    "start_time": "2022-02-20T13:05:46.627Z"
   },
   {
    "duration": 403,
    "start_time": "2022-02-20T13:05:46.681Z"
   },
   {
    "duration": 539,
    "start_time": "2022-02-20T13:05:47.087Z"
   },
   {
    "duration": 453,
    "start_time": "2022-02-20T13:05:47.629Z"
   },
   {
    "duration": 12,
    "start_time": "2022-02-20T13:05:48.084Z"
   },
   {
    "duration": 419,
    "start_time": "2022-02-20T13:05:48.098Z"
   },
   {
    "duration": 314,
    "start_time": "2022-02-20T13:05:48.520Z"
   },
   {
    "duration": 31,
    "start_time": "2022-02-20T13:05:48.837Z"
   },
   {
    "duration": 22,
    "start_time": "2022-02-20T13:05:48.871Z"
   },
   {
    "duration": 12,
    "start_time": "2022-02-20T13:05:48.896Z"
   },
   {
    "duration": 451,
    "start_time": "2022-02-20T13:05:48.911Z"
   },
   {
    "duration": 47,
    "start_time": "2022-02-20T13:05:49.365Z"
   },
   {
    "duration": 47,
    "start_time": "2022-02-20T13:05:49.415Z"
   },
   {
    "duration": 9,
    "start_time": "2022-02-20T13:05:49.465Z"
   },
   {
    "duration": 27,
    "start_time": "2022-02-20T13:05:49.477Z"
   },
   {
    "duration": 7,
    "start_time": "2022-02-20T13:05:49.507Z"
   },
   {
    "duration": 74,
    "start_time": "2022-02-20T13:05:49.516Z"
   },
   {
    "duration": 9,
    "start_time": "2022-02-20T13:05:49.593Z"
   },
   {
    "duration": 34,
    "start_time": "2022-02-20T13:05:49.604Z"
   },
   {
    "duration": 9,
    "start_time": "2022-02-20T13:05:49.649Z"
   },
   {
    "duration": 25004,
    "start_time": "2022-02-20T13:05:49.661Z"
   },
   {
    "duration": 959,
    "start_time": "2022-02-20T13:10:01.112Z"
   },
   {
    "duration": 125,
    "start_time": "2022-02-20T13:10:02.074Z"
   },
   {
    "duration": 163,
    "start_time": "2022-02-20T13:10:02.202Z"
   },
   {
    "duration": 15,
    "start_time": "2022-02-20T13:10:02.368Z"
   },
   {
    "duration": 47,
    "start_time": "2022-02-20T13:10:02.386Z"
   },
   {
    "duration": 35,
    "start_time": "2022-02-20T13:10:02.436Z"
   },
   {
    "duration": 5,
    "start_time": "2022-02-20T13:10:02.474Z"
   },
   {
    "duration": 33,
    "start_time": "2022-02-20T13:10:02.483Z"
   },
   {
    "duration": 37,
    "start_time": "2022-02-20T13:10:02.519Z"
   },
   {
    "duration": 116,
    "start_time": "2022-02-20T13:10:02.559Z"
   },
   {
    "duration": 5,
    "start_time": "2022-02-20T13:10:02.678Z"
   },
   {
    "duration": 52,
    "start_time": "2022-02-20T13:10:02.685Z"
   },
   {
    "duration": 10,
    "start_time": "2022-02-20T13:10:02.740Z"
   },
   {
    "duration": 36198,
    "start_time": "2022-02-20T13:10:02.752Z"
   },
   {
    "duration": 29,
    "start_time": "2022-02-20T13:10:38.952Z"
   },
   {
    "duration": 5,
    "start_time": "2022-02-20T13:10:38.985Z"
   },
   {
    "duration": 11,
    "start_time": "2022-02-20T13:10:38.993Z"
   },
   {
    "duration": 7,
    "start_time": "2022-02-20T13:10:39.006Z"
   },
   {
    "duration": 41,
    "start_time": "2022-02-20T13:10:39.015Z"
   },
   {
    "duration": 9,
    "start_time": "2022-02-20T13:10:39.059Z"
   },
   {
    "duration": 9,
    "start_time": "2022-02-20T13:10:39.071Z"
   },
   {
    "duration": 6,
    "start_time": "2022-02-20T13:10:39.083Z"
   },
   {
    "duration": 7,
    "start_time": "2022-02-20T13:10:39.095Z"
   },
   {
    "duration": 53,
    "start_time": "2022-02-20T13:10:39.105Z"
   },
   {
    "duration": 6,
    "start_time": "2022-02-20T13:10:39.161Z"
   },
   {
    "duration": 56,
    "start_time": "2022-02-20T13:10:39.169Z"
   },
   {
    "duration": 34,
    "start_time": "2022-02-20T13:10:39.228Z"
   },
   {
    "duration": 25,
    "start_time": "2022-02-20T13:10:39.264Z"
   },
   {
    "duration": 7,
    "start_time": "2022-02-20T13:10:39.291Z"
   },
   {
    "duration": 7,
    "start_time": "2022-02-20T13:10:39.300Z"
   },
   {
    "duration": 80,
    "start_time": "2022-02-20T13:10:39.309Z"
   },
   {
    "duration": 25,
    "start_time": "2022-02-20T13:10:39.392Z"
   },
   {
    "duration": 53,
    "start_time": "2022-02-20T13:10:39.420Z"
   },
   {
    "duration": 42,
    "start_time": "2022-02-20T13:10:39.476Z"
   },
   {
    "duration": 316,
    "start_time": "2022-02-20T13:10:39.521Z"
   },
   {
    "duration": 398,
    "start_time": "2022-02-20T13:10:39.840Z"
   },
   {
    "duration": 331,
    "start_time": "2022-02-20T13:10:40.240Z"
   },
   {
    "duration": 440,
    "start_time": "2022-02-20T13:10:40.573Z"
   },
   {
    "duration": 333,
    "start_time": "2022-02-20T13:10:41.016Z"
   },
   {
    "duration": 429,
    "start_time": "2022-02-20T13:10:41.352Z"
   },
   {
    "duration": 318,
    "start_time": "2022-02-20T13:10:41.784Z"
   },
   {
    "duration": 503,
    "start_time": "2022-02-20T13:10:42.104Z"
   },
   {
    "duration": 282,
    "start_time": "2022-02-20T13:10:42.611Z"
   },
   {
    "duration": 379,
    "start_time": "2022-02-20T13:10:42.896Z"
   },
   {
    "duration": 9,
    "start_time": "2022-02-20T13:10:43.278Z"
   },
   {
    "duration": 5,
    "start_time": "2022-02-20T13:10:43.289Z"
   },
   {
    "duration": 12,
    "start_time": "2022-02-20T13:10:43.297Z"
   },
   {
    "duration": 92,
    "start_time": "2022-02-20T13:10:43.312Z"
   },
   {
    "duration": 6,
    "start_time": "2022-02-20T13:10:43.406Z"
   },
   {
    "duration": 9,
    "start_time": "2022-02-20T13:10:43.415Z"
   },
   {
    "duration": 70,
    "start_time": "2022-02-20T13:10:43.449Z"
   },
   {
    "duration": 5,
    "start_time": "2022-02-20T13:10:43.522Z"
   },
   {
    "duration": 23,
    "start_time": "2022-02-20T13:10:43.529Z"
   },
   {
    "duration": 40,
    "start_time": "2022-02-20T13:10:43.554Z"
   },
   {
    "duration": 63,
    "start_time": "2022-02-20T13:10:43.597Z"
   },
   {
    "duration": 35,
    "start_time": "2022-02-20T13:10:43.663Z"
   },
   {
    "duration": 413,
    "start_time": "2022-02-20T13:10:43.701Z"
   },
   {
    "duration": 420,
    "start_time": "2022-02-20T13:10:44.116Z"
   },
   {
    "duration": 441,
    "start_time": "2022-02-20T13:10:44.539Z"
   },
   {
    "duration": 13,
    "start_time": "2022-02-20T13:10:44.982Z"
   },
   {
    "duration": 405,
    "start_time": "2022-02-20T13:10:44.997Z"
   },
   {
    "duration": 289,
    "start_time": "2022-02-20T13:10:45.405Z"
   },
   {
    "duration": 20,
    "start_time": "2022-02-20T13:10:45.697Z"
   },
   {
    "duration": 44,
    "start_time": "2022-02-20T13:10:45.719Z"
   },
   {
    "duration": 14,
    "start_time": "2022-02-20T13:10:45.766Z"
   },
   {
    "duration": 383,
    "start_time": "2022-02-20T13:10:45.782Z"
   },
   {
    "duration": 44,
    "start_time": "2022-02-20T13:10:46.167Z"
   },
   {
    "duration": 30,
    "start_time": "2022-02-20T13:10:46.219Z"
   },
   {
    "duration": 20,
    "start_time": "2022-02-20T13:10:46.252Z"
   },
   {
    "duration": 9,
    "start_time": "2022-02-20T13:10:46.275Z"
   },
   {
    "duration": 85,
    "start_time": "2022-02-20T13:10:46.287Z"
   },
   {
    "duration": 10,
    "start_time": "2022-02-20T13:10:46.375Z"
   },
   {
    "duration": 21,
    "start_time": "2022-02-20T13:10:46.388Z"
   },
   {
    "duration": 39,
    "start_time": "2022-02-20T13:10:46.411Z"
   },
   {
    "duration": 20,
    "start_time": "2022-02-20T13:10:46.453Z"
   },
   {
    "duration": 15,
    "start_time": "2022-02-20T13:14:41.452Z"
   },
   {
    "duration": 13,
    "start_time": "2022-02-20T13:16:47.765Z"
   },
   {
    "duration": 4300,
    "start_time": "2022-02-20T13:16:51.438Z"
   },
   {
    "duration": 20,
    "start_time": "2022-02-20T13:17:37.180Z"
   },
   {
    "duration": 3208,
    "start_time": "2022-02-20T13:19:11.151Z"
   },
   {
    "duration": 11,
    "start_time": "2022-02-20T13:19:53.535Z"
   },
   {
    "duration": 287,
    "start_time": "2022-02-20T13:21:08.862Z"
   },
   {
    "duration": 2473,
    "start_time": "2022-02-20T13:21:47.407Z"
   },
   {
    "duration": 3355,
    "start_time": "2022-02-20T13:22:14.499Z"
   },
   {
    "duration": 14,
    "start_time": "2022-02-20T13:22:30.558Z"
   },
   {
    "duration": 4188,
    "start_time": "2022-02-20T13:22:51.409Z"
   },
   {
    "duration": 10,
    "start_time": "2022-02-20T13:24:31.504Z"
   },
   {
    "duration": 280,
    "start_time": "2022-02-20T13:25:03.197Z"
   },
   {
    "duration": 10,
    "start_time": "2022-02-20T13:25:23.587Z"
   },
   {
    "duration": 885,
    "start_time": "2022-02-20T13:25:45.916Z"
   },
   {
    "duration": 123,
    "start_time": "2022-02-20T13:25:46.804Z"
   },
   {
    "duration": 165,
    "start_time": "2022-02-20T13:25:46.930Z"
   },
   {
    "duration": 16,
    "start_time": "2022-02-20T13:25:47.098Z"
   },
   {
    "duration": 50,
    "start_time": "2022-02-20T13:25:47.117Z"
   },
   {
    "duration": 33,
    "start_time": "2022-02-20T13:25:47.171Z"
   },
   {
    "duration": 6,
    "start_time": "2022-02-20T13:25:47.207Z"
   },
   {
    "duration": 55,
    "start_time": "2022-02-20T13:25:47.216Z"
   },
   {
    "duration": 13,
    "start_time": "2022-02-20T13:25:47.276Z"
   },
   {
    "duration": 154,
    "start_time": "2022-02-20T13:25:47.294Z"
   },
   {
    "duration": 5,
    "start_time": "2022-02-20T13:25:47.451Z"
   },
   {
    "duration": 40,
    "start_time": "2022-02-20T13:25:47.459Z"
   },
   {
    "duration": 6,
    "start_time": "2022-02-20T13:25:47.501Z"
   },
   {
    "duration": 34526,
    "start_time": "2022-02-20T13:25:47.510Z"
   },
   {
    "duration": 44,
    "start_time": "2022-02-20T13:26:22.040Z"
   },
   {
    "duration": 7,
    "start_time": "2022-02-20T13:26:22.088Z"
   },
   {
    "duration": 12,
    "start_time": "2022-02-20T13:26:22.098Z"
   },
   {
    "duration": 37,
    "start_time": "2022-02-20T13:26:22.113Z"
   },
   {
    "duration": 11,
    "start_time": "2022-02-20T13:26:22.153Z"
   },
   {
    "duration": 9,
    "start_time": "2022-02-20T13:26:22.168Z"
   },
   {
    "duration": 9,
    "start_time": "2022-02-20T13:26:22.180Z"
   },
   {
    "duration": 14,
    "start_time": "2022-02-20T13:26:22.192Z"
   },
   {
    "duration": 39,
    "start_time": "2022-02-20T13:26:22.209Z"
   },
   {
    "duration": 26,
    "start_time": "2022-02-20T13:26:22.251Z"
   },
   {
    "duration": 6,
    "start_time": "2022-02-20T13:26:22.280Z"
   },
   {
    "duration": 80,
    "start_time": "2022-02-20T13:26:22.288Z"
   },
   {
    "duration": 19,
    "start_time": "2022-02-20T13:26:22.377Z"
   },
   {
    "duration": 50,
    "start_time": "2022-02-20T13:26:22.400Z"
   },
   {
    "duration": 9,
    "start_time": "2022-02-20T13:26:22.453Z"
   },
   {
    "duration": 12,
    "start_time": "2022-02-20T13:26:22.465Z"
   },
   {
    "duration": 69,
    "start_time": "2022-02-20T13:26:22.480Z"
   },
   {
    "duration": 27,
    "start_time": "2022-02-20T13:26:22.552Z"
   },
   {
    "duration": 27,
    "start_time": "2022-02-20T13:26:22.581Z"
   },
   {
    "duration": 65,
    "start_time": "2022-02-20T13:26:22.611Z"
   },
   {
    "duration": 421,
    "start_time": "2022-02-20T13:26:22.679Z"
   },
   {
    "duration": 514,
    "start_time": "2022-02-20T13:26:23.102Z"
   },
   {
    "duration": 342,
    "start_time": "2022-02-20T13:26:23.619Z"
   },
   {
    "duration": 447,
    "start_time": "2022-02-20T13:26:23.964Z"
   },
   {
    "duration": 330,
    "start_time": "2022-02-20T13:26:24.414Z"
   },
   {
    "duration": 451,
    "start_time": "2022-02-20T13:26:24.749Z"
   },
   {
    "duration": 316,
    "start_time": "2022-02-20T13:26:25.204Z"
   },
   {
    "duration": 499,
    "start_time": "2022-02-20T13:26:25.523Z"
   },
   {
    "duration": 283,
    "start_time": "2022-02-20T13:26:26.026Z"
   },
   {
    "duration": 389,
    "start_time": "2022-02-20T13:26:26.313Z"
   },
   {
    "duration": 11,
    "start_time": "2022-02-20T13:26:26.706Z"
   },
   {
    "duration": 28,
    "start_time": "2022-02-20T13:26:26.720Z"
   },
   {
    "duration": 7,
    "start_time": "2022-02-20T13:26:26.751Z"
   },
   {
    "duration": 90,
    "start_time": "2022-02-20T13:26:26.760Z"
   },
   {
    "duration": 5,
    "start_time": "2022-02-20T13:26:26.853Z"
   },
   {
    "duration": 10,
    "start_time": "2022-02-20T13:26:26.860Z"
   },
   {
    "duration": 97,
    "start_time": "2022-02-20T13:26:26.872Z"
   },
   {
    "duration": 4,
    "start_time": "2022-02-20T13:26:26.972Z"
   },
   {
    "duration": 12,
    "start_time": "2022-02-20T13:26:26.978Z"
   },
   {
    "duration": 66,
    "start_time": "2022-02-20T13:26:26.993Z"
   },
   {
    "duration": 43,
    "start_time": "2022-02-20T13:26:27.062Z"
   },
   {
    "duration": 61,
    "start_time": "2022-02-20T13:26:27.108Z"
   },
   {
    "duration": 412,
    "start_time": "2022-02-20T13:26:27.172Z"
   },
   {
    "duration": 432,
    "start_time": "2022-02-20T13:26:27.586Z"
   },
   {
    "duration": 445,
    "start_time": "2022-02-20T13:26:28.021Z"
   },
   {
    "duration": 12,
    "start_time": "2022-02-20T13:26:28.469Z"
   },
   {
    "duration": 413,
    "start_time": "2022-02-20T13:26:28.484Z"
   },
   {
    "duration": 282,
    "start_time": "2022-02-20T13:26:28.900Z"
   },
   {
    "duration": 21,
    "start_time": "2022-02-20T13:26:29.185Z"
   },
   {
    "duration": 47,
    "start_time": "2022-02-20T13:26:29.208Z"
   },
   {
    "duration": 12,
    "start_time": "2022-02-20T13:26:29.258Z"
   },
   {
    "duration": 410,
    "start_time": "2022-02-20T13:26:29.273Z"
   },
   {
    "duration": 65,
    "start_time": "2022-02-20T13:26:29.686Z"
   },
   {
    "duration": 9,
    "start_time": "2022-02-20T13:26:29.753Z"
   },
   {
    "duration": 19,
    "start_time": "2022-02-20T13:26:29.764Z"
   },
   {
    "duration": 9,
    "start_time": "2022-02-20T13:26:29.785Z"
   },
   {
    "duration": 22,
    "start_time": "2022-02-20T13:26:29.796Z"
   },
   {
    "duration": 9,
    "start_time": "2022-02-20T13:26:29.849Z"
   },
   {
    "duration": 543,
    "start_time": "2022-02-20T13:26:29.861Z"
   },
   {
    "duration": -78,
    "start_time": "2022-02-20T13:26:30.485Z"
   },
   {
    "duration": -83,
    "start_time": "2022-02-20T13:26:30.491Z"
   },
   {
    "duration": -88,
    "start_time": "2022-02-20T13:26:30.497Z"
   },
   {
    "duration": -93,
    "start_time": "2022-02-20T13:26:30.503Z"
   },
   {
    "duration": -100,
    "start_time": "2022-02-20T13:26:30.512Z"
   },
   {
    "duration": -106,
    "start_time": "2022-02-20T13:26:30.519Z"
   },
   {
    "duration": 9,
    "start_time": "2022-02-20T13:27:29.360Z"
   },
   {
    "duration": 13,
    "start_time": "2022-02-20T13:27:32.727Z"
   },
   {
    "duration": 4034,
    "start_time": "2022-02-20T13:27:44.158Z"
   },
   {
    "duration": 3116,
    "start_time": "2022-02-20T13:28:17.659Z"
   },
   {
    "duration": 11,
    "start_time": "2022-02-20T13:29:10.414Z"
   },
   {
    "duration": 16,
    "start_time": "2022-02-20T13:31:04.208Z"
   },
   {
    "duration": 6298,
    "start_time": "2022-02-20T13:31:19.264Z"
   },
   {
    "duration": 328,
    "start_time": "2022-02-20T13:33:44.644Z"
   },
   {
    "duration": 5088,
    "start_time": "2022-02-20T13:33:52.954Z"
   },
   {
    "duration": 302,
    "start_time": "2022-02-20T13:34:26.665Z"
   },
   {
    "duration": 299,
    "start_time": "2022-02-20T13:34:38.173Z"
   },
   {
    "duration": 12,
    "start_time": "2022-02-20T13:34:48.994Z"
   },
   {
    "duration": 10,
    "start_time": "2022-02-20T13:34:53.248Z"
   },
   {
    "duration": 301,
    "start_time": "2022-02-20T13:34:54.794Z"
   },
   {
    "duration": 16,
    "start_time": "2022-02-20T13:35:23.092Z"
   },
   {
    "duration": 2117,
    "start_time": "2022-02-20T13:35:30.300Z"
   },
   {
    "duration": 7947,
    "start_time": "2022-02-20T13:36:52.275Z"
   },
   {
    "duration": -288,
    "start_time": "2022-02-20T13:37:00.515Z"
   },
   {
    "duration": 9,
    "start_time": "2022-02-20T13:37:11.674Z"
   },
   {
    "duration": 15,
    "start_time": "2022-02-20T13:37:12.747Z"
   },
   {
    "duration": 5178,
    "start_time": "2022-02-20T13:37:17.424Z"
   },
   {
    "duration": 5267,
    "start_time": "2022-02-20T13:37:27.290Z"
   },
   {
    "duration": 715,
    "start_time": "2022-02-20T20:23:15.339Z"
   },
   {
    "duration": 124,
    "start_time": "2022-02-20T20:23:16.056Z"
   },
   {
    "duration": 120,
    "start_time": "2022-02-20T20:23:16.182Z"
   },
   {
    "duration": 14,
    "start_time": "2022-02-20T20:23:16.304Z"
   },
   {
    "duration": 19,
    "start_time": "2022-02-20T20:23:16.321Z"
   },
   {
    "duration": 19,
    "start_time": "2022-02-20T20:23:16.342Z"
   },
   {
    "duration": 3,
    "start_time": "2022-02-20T20:23:16.363Z"
   },
   {
    "duration": 55,
    "start_time": "2022-02-20T20:23:16.368Z"
   },
   {
    "duration": 8,
    "start_time": "2022-02-20T20:23:16.426Z"
   },
   {
    "duration": 96,
    "start_time": "2022-02-20T20:23:16.436Z"
   },
   {
    "duration": 3,
    "start_time": "2022-02-20T20:23:16.534Z"
   },
   {
    "duration": 27,
    "start_time": "2022-02-20T20:23:16.539Z"
   },
   {
    "duration": 4,
    "start_time": "2022-02-20T20:23:16.568Z"
   },
   {
    "duration": 27828,
    "start_time": "2022-02-20T20:23:16.574Z"
   },
   {
    "duration": 41,
    "start_time": "2022-02-20T20:23:44.405Z"
   },
   {
    "duration": 6,
    "start_time": "2022-02-20T20:23:44.449Z"
   },
   {
    "duration": 9,
    "start_time": "2022-02-20T20:23:44.457Z"
   },
   {
    "duration": 8,
    "start_time": "2022-02-20T20:23:44.468Z"
   },
   {
    "duration": 6,
    "start_time": "2022-02-20T20:23:44.478Z"
   },
   {
    "duration": 36,
    "start_time": "2022-02-20T20:23:44.486Z"
   },
   {
    "duration": 5,
    "start_time": "2022-02-20T20:23:44.525Z"
   },
   {
    "duration": 10,
    "start_time": "2022-02-20T20:23:44.532Z"
   },
   {
    "duration": 7,
    "start_time": "2022-02-20T20:23:44.544Z"
   },
   {
    "duration": 18,
    "start_time": "2022-02-20T20:23:44.553Z"
   },
   {
    "duration": 5,
    "start_time": "2022-02-20T20:23:44.573Z"
   },
   {
    "duration": 77,
    "start_time": "2022-02-20T20:23:44.580Z"
   },
   {
    "duration": 13,
    "start_time": "2022-02-20T20:23:44.662Z"
   },
   {
    "duration": 25,
    "start_time": "2022-02-20T20:23:44.678Z"
   },
   {
    "duration": 18,
    "start_time": "2022-02-20T20:23:44.705Z"
   },
   {
    "duration": 4,
    "start_time": "2022-02-20T20:23:44.725Z"
   },
   {
    "duration": 36,
    "start_time": "2022-02-20T20:23:44.731Z"
   },
   {
    "duration": 53,
    "start_time": "2022-02-20T20:23:44.770Z"
   },
   {
    "duration": 23,
    "start_time": "2022-02-20T20:23:44.825Z"
   },
   {
    "duration": 20,
    "start_time": "2022-02-20T20:23:44.850Z"
   },
   {
    "duration": 226,
    "start_time": "2022-02-20T20:23:44.872Z"
   },
   {
    "duration": 338,
    "start_time": "2022-02-20T20:23:45.101Z"
   },
   {
    "duration": 210,
    "start_time": "2022-02-20T20:23:45.441Z"
   },
   {
    "duration": 283,
    "start_time": "2022-02-20T20:23:45.653Z"
   },
   {
    "duration": 212,
    "start_time": "2022-02-20T20:23:45.938Z"
   },
   {
    "duration": 381,
    "start_time": "2022-02-20T20:23:46.152Z"
   },
   {
    "duration": 203,
    "start_time": "2022-02-20T20:23:46.536Z"
   },
   {
    "duration": 337,
    "start_time": "2022-02-20T20:23:46.742Z"
   },
   {
    "duration": 171,
    "start_time": "2022-02-20T20:23:47.081Z"
   },
   {
    "duration": 231,
    "start_time": "2022-02-20T20:23:47.255Z"
   },
   {
    "duration": 8,
    "start_time": "2022-02-20T20:23:47.488Z"
   },
   {
    "duration": 20,
    "start_time": "2022-02-20T20:23:47.498Z"
   },
   {
    "duration": 5,
    "start_time": "2022-02-20T20:23:47.520Z"
   },
   {
    "duration": 67,
    "start_time": "2022-02-20T20:23:47.527Z"
   },
   {
    "duration": 3,
    "start_time": "2022-02-20T20:23:47.597Z"
   },
   {
    "duration": 14,
    "start_time": "2022-02-20T20:23:47.619Z"
   },
   {
    "duration": 55,
    "start_time": "2022-02-20T20:23:47.636Z"
   },
   {
    "duration": 4,
    "start_time": "2022-02-20T20:23:47.693Z"
   },
   {
    "duration": 22,
    "start_time": "2022-02-20T20:23:47.699Z"
   },
   {
    "duration": 44,
    "start_time": "2022-02-20T20:23:47.724Z"
   },
   {
    "duration": 43,
    "start_time": "2022-02-20T20:23:47.770Z"
   },
   {
    "duration": 39,
    "start_time": "2022-02-20T20:23:47.815Z"
   },
   {
    "duration": 281,
    "start_time": "2022-02-20T20:23:47.856Z"
   },
   {
    "duration": 297,
    "start_time": "2022-02-20T20:23:48.139Z"
   },
   {
    "duration": 300,
    "start_time": "2022-02-20T20:23:48.439Z"
   },
   {
    "duration": 10,
    "start_time": "2022-02-20T20:23:48.741Z"
   },
   {
    "duration": 275,
    "start_time": "2022-02-20T20:23:48.754Z"
   },
   {
    "duration": 197,
    "start_time": "2022-02-20T20:23:49.032Z"
   },
   {
    "duration": 15,
    "start_time": "2022-02-20T20:23:49.232Z"
   },
   {
    "duration": 15,
    "start_time": "2022-02-20T20:23:49.248Z"
   },
   {
    "duration": 9,
    "start_time": "2022-02-20T20:23:49.265Z"
   },
   {
    "duration": 374,
    "start_time": "2022-02-20T20:23:49.276Z"
   },
   {
    "duration": 34,
    "start_time": "2022-02-20T20:23:49.652Z"
   },
   {
    "duration": 8,
    "start_time": "2022-02-20T20:23:49.688Z"
   },
   {
    "duration": 35,
    "start_time": "2022-02-20T20:23:49.698Z"
   },
   {
    "duration": 7,
    "start_time": "2022-02-20T20:23:49.735Z"
   },
   {
    "duration": 12,
    "start_time": "2022-02-20T20:23:49.744Z"
   },
   {
    "duration": 6,
    "start_time": "2022-02-20T20:23:49.758Z"
   },
   {
    "duration": 14,
    "start_time": "2022-02-20T20:23:49.766Z"
   },
   {
    "duration": 65,
    "start_time": "2022-02-20T20:23:49.782Z"
   },
   {
    "duration": 8,
    "start_time": "2022-02-20T20:23:49.849Z"
   },
   {
    "duration": 16,
    "start_time": "2022-02-20T20:23:49.859Z"
   },
   {
    "duration": 6,
    "start_time": "2022-02-20T20:23:49.877Z"
   },
   {
    "duration": 34,
    "start_time": "2022-02-20T20:23:49.884Z"
   },
   {
    "duration": 3390,
    "start_time": "2022-02-20T20:23:49.920Z"
   },
   {
    "duration": 13,
    "start_time": "2022-02-20T20:30:41.487Z"
   },
   {
    "duration": 9,
    "start_time": "2022-02-20T20:31:02.122Z"
   },
   {
    "duration": 3639,
    "start_time": "2022-02-20T20:31:15.302Z"
   },
   {
    "duration": 11,
    "start_time": "2022-02-20T20:36:01.149Z"
   },
   {
    "duration": 4718,
    "start_time": "2022-02-20T20:36:27.309Z"
   },
   {
    "duration": 4299,
    "start_time": "2022-02-20T20:36:49.943Z"
   },
   {
    "duration": 5259,
    "start_time": "2022-02-20T20:37:11.587Z"
   },
   {
    "duration": 3377,
    "start_time": "2022-02-20T20:37:37.374Z"
   },
   {
    "duration": 3746,
    "start_time": "2022-02-20T20:38:19.427Z"
   },
   {
    "duration": 431,
    "start_time": "2022-02-20T20:40:11.677Z"
   },
   {
    "duration": 339,
    "start_time": "2022-02-20T20:44:54.009Z"
   },
   {
    "duration": 1270,
    "start_time": "2022-02-20T20:45:45.913Z"
   },
   {
    "duration": 126,
    "start_time": "2022-02-20T20:46:19.519Z"
   },
   {
    "duration": 1204,
    "start_time": "2022-02-20T20:46:25.494Z"
   },
   {
    "duration": 222,
    "start_time": "2022-02-20T20:46:53.478Z"
   },
   {
    "duration": 351,
    "start_time": "2022-02-20T20:47:48.783Z"
   },
   {
    "duration": 451,
    "start_time": "2022-02-20T20:48:14.401Z"
   },
   {
    "duration": 359,
    "start_time": "2022-02-20T20:48:24.001Z"
   },
   {
    "duration": 283,
    "start_time": "2022-02-20T20:50:08.919Z"
   },
   {
    "duration": 4157,
    "start_time": "2022-02-20T20:51:18.046Z"
   },
   {
    "duration": 25,
    "start_time": "2022-02-20T20:52:13.456Z"
   },
   {
    "duration": 273,
    "start_time": "2022-02-20T20:57:43.541Z"
   },
   {
    "duration": 27,
    "start_time": "2022-02-20T20:58:19.942Z"
   },
   {
    "duration": 25,
    "start_time": "2022-02-20T21:03:13.749Z"
   },
   {
    "duration": 226,
    "start_time": "2022-02-20T21:03:29.747Z"
   },
   {
    "duration": 379,
    "start_time": "2022-02-20T21:04:45.918Z"
   },
   {
    "duration": 285,
    "start_time": "2022-02-20T21:05:17.447Z"
   },
   {
    "duration": 9,
    "start_time": "2022-02-20T21:57:05.300Z"
   },
   {
    "duration": 7,
    "start_time": "2022-02-20T22:04:38.508Z"
   },
   {
    "duration": 7,
    "start_time": "2022-02-20T22:05:13.529Z"
   },
   {
    "duration": 794,
    "start_time": "2022-02-20T22:09:03.136Z"
   },
   {
    "duration": 116,
    "start_time": "2022-02-20T22:09:03.932Z"
   },
   {
    "duration": 135,
    "start_time": "2022-02-20T22:09:04.051Z"
   },
   {
    "duration": 9,
    "start_time": "2022-02-20T22:09:04.189Z"
   },
   {
    "duration": 35,
    "start_time": "2022-02-20T22:09:04.201Z"
   },
   {
    "duration": 19,
    "start_time": "2022-02-20T22:09:04.238Z"
   },
   {
    "duration": 3,
    "start_time": "2022-02-20T22:09:04.259Z"
   },
   {
    "duration": 23,
    "start_time": "2022-02-20T22:09:04.263Z"
   },
   {
    "duration": 36,
    "start_time": "2022-02-20T22:09:04.288Z"
   },
   {
    "duration": 96,
    "start_time": "2022-02-20T22:09:04.327Z"
   },
   {
    "duration": 6,
    "start_time": "2022-02-20T22:09:04.425Z"
   },
   {
    "duration": 28,
    "start_time": "2022-02-20T22:09:04.432Z"
   },
   {
    "duration": 4,
    "start_time": "2022-02-20T22:09:04.462Z"
   },
   {
    "duration": 26355,
    "start_time": "2022-02-20T22:09:04.468Z"
   },
   {
    "duration": 22,
    "start_time": "2022-02-20T22:09:30.825Z"
   },
   {
    "duration": 7,
    "start_time": "2022-02-20T22:09:30.849Z"
   },
   {
    "duration": 12,
    "start_time": "2022-02-20T22:09:30.858Z"
   },
   {
    "duration": 9,
    "start_time": "2022-02-20T22:09:30.871Z"
   },
   {
    "duration": 17,
    "start_time": "2022-02-20T22:09:30.881Z"
   },
   {
    "duration": 18,
    "start_time": "2022-02-20T22:09:30.900Z"
   },
   {
    "duration": 11,
    "start_time": "2022-02-20T22:09:30.920Z"
   },
   {
    "duration": 10,
    "start_time": "2022-02-20T22:09:30.933Z"
   },
   {
    "duration": 12,
    "start_time": "2022-02-20T22:09:30.944Z"
   },
   {
    "duration": 26,
    "start_time": "2022-02-20T22:09:30.958Z"
   },
   {
    "duration": 5,
    "start_time": "2022-02-20T22:09:30.985Z"
   },
   {
    "duration": 55,
    "start_time": "2022-02-20T22:09:30.991Z"
   },
   {
    "duration": 12,
    "start_time": "2022-02-20T22:09:31.051Z"
   },
   {
    "duration": 29,
    "start_time": "2022-02-20T22:09:31.066Z"
   },
   {
    "duration": 19,
    "start_time": "2022-02-20T22:09:31.096Z"
   },
   {
    "duration": 16,
    "start_time": "2022-02-20T22:09:31.117Z"
   },
   {
    "duration": 72,
    "start_time": "2022-02-20T22:09:31.135Z"
   },
   {
    "duration": 21,
    "start_time": "2022-02-20T22:09:31.210Z"
   },
   {
    "duration": 26,
    "start_time": "2022-02-20T22:09:31.233Z"
   },
   {
    "duration": 24,
    "start_time": "2022-02-20T22:09:31.261Z"
   },
   {
    "duration": 216,
    "start_time": "2022-02-20T22:09:31.288Z"
   },
   {
    "duration": 253,
    "start_time": "2022-02-20T22:09:31.507Z"
   },
   {
    "duration": 203,
    "start_time": "2022-02-20T22:09:31.762Z"
   },
   {
    "duration": 282,
    "start_time": "2022-02-20T22:09:31.967Z"
   },
   {
    "duration": 222,
    "start_time": "2022-02-20T22:09:32.251Z"
   },
   {
    "duration": 285,
    "start_time": "2022-02-20T22:09:32.475Z"
   },
   {
    "duration": 212,
    "start_time": "2022-02-20T22:09:32.761Z"
   },
   {
    "duration": 368,
    "start_time": "2022-02-20T22:09:32.975Z"
   },
   {
    "duration": 202,
    "start_time": "2022-02-20T22:09:33.346Z"
   },
   {
    "duration": 257,
    "start_time": "2022-02-20T22:09:33.551Z"
   },
   {
    "duration": 13,
    "start_time": "2022-02-20T22:09:33.810Z"
   },
   {
    "duration": 12,
    "start_time": "2022-02-20T22:09:33.824Z"
   },
   {
    "duration": 25,
    "start_time": "2022-02-20T22:09:33.837Z"
   },
   {
    "duration": 83,
    "start_time": "2022-02-20T22:09:33.864Z"
   },
   {
    "duration": 4,
    "start_time": "2022-02-20T22:09:33.948Z"
   },
   {
    "duration": 30,
    "start_time": "2022-02-20T22:09:33.954Z"
   },
   {
    "duration": 70,
    "start_time": "2022-02-20T22:09:33.986Z"
   },
   {
    "duration": 4,
    "start_time": "2022-02-20T22:09:34.058Z"
   },
   {
    "duration": 21,
    "start_time": "2022-02-20T22:09:34.064Z"
   },
   {
    "duration": 57,
    "start_time": "2022-02-20T22:09:34.088Z"
   },
   {
    "duration": 29,
    "start_time": "2022-02-20T22:09:34.147Z"
   },
   {
    "duration": 41,
    "start_time": "2022-02-20T22:09:34.178Z"
   },
   {
    "duration": 251,
    "start_time": "2022-02-20T22:09:34.221Z"
   },
   {
    "duration": 306,
    "start_time": "2022-02-20T22:09:34.474Z"
   },
   {
    "duration": 298,
    "start_time": "2022-02-20T22:09:34.782Z"
   },
   {
    "duration": 11,
    "start_time": "2022-02-20T22:09:35.082Z"
   },
   {
    "duration": 333,
    "start_time": "2022-02-20T22:09:35.095Z"
   },
   {
    "duration": 187,
    "start_time": "2022-02-20T22:09:35.431Z"
   },
   {
    "duration": 22,
    "start_time": "2022-02-20T22:09:35.620Z"
   },
   {
    "duration": 15,
    "start_time": "2022-02-20T22:09:35.643Z"
   },
   {
    "duration": 29,
    "start_time": "2022-02-20T22:09:35.660Z"
   },
   {
    "duration": 319,
    "start_time": "2022-02-20T22:09:35.691Z"
   },
   {
    "duration": 34,
    "start_time": "2022-02-20T22:09:36.012Z"
   },
   {
    "duration": 15,
    "start_time": "2022-02-20T22:09:36.048Z"
   },
   {
    "duration": 12,
    "start_time": "2022-02-20T22:09:36.066Z"
   },
   {
    "duration": 34,
    "start_time": "2022-02-20T22:09:36.080Z"
   },
   {
    "duration": 38,
    "start_time": "2022-02-20T22:09:36.116Z"
   },
   {
    "duration": 28,
    "start_time": "2022-02-20T22:09:36.156Z"
   },
   {
    "duration": 62,
    "start_time": "2022-02-20T22:09:36.186Z"
   },
   {
    "duration": 12,
    "start_time": "2022-02-20T22:09:36.250Z"
   },
   {
    "duration": 26,
    "start_time": "2022-02-20T22:09:36.263Z"
   },
   {
    "duration": 26,
    "start_time": "2022-02-20T22:09:36.291Z"
   },
   {
    "duration": 42,
    "start_time": "2022-02-20T22:09:36.319Z"
   },
   {
    "duration": 31,
    "start_time": "2022-02-20T22:09:36.363Z"
   },
   {
    "duration": 4111,
    "start_time": "2022-02-20T22:09:36.396Z"
   },
   {
    "duration": 32,
    "start_time": "2022-02-20T22:09:40.509Z"
   },
   {
    "duration": 310,
    "start_time": "2022-02-20T22:09:40.549Z"
   },
   {
    "duration": 463,
    "start_time": "2022-02-20T22:09:40.862Z"
   },
   {
    "duration": 297,
    "start_time": "2022-02-20T22:09:41.327Z"
   },
   {
    "duration": 7,
    "start_time": "2022-02-20T22:09:41.626Z"
   },
   {
    "duration": 3552,
    "start_time": "2022-02-20T22:09:41.635Z"
   },
   {
    "duration": 38,
    "start_time": "2022-02-20T22:09:45.189Z"
   },
   {
    "duration": 238,
    "start_time": "2022-02-20T22:09:45.229Z"
   },
   {
    "duration": 405,
    "start_time": "2022-02-20T22:09:45.469Z"
   },
   {
    "duration": 287,
    "start_time": "2022-02-20T22:09:45.876Z"
   },
   {
    "duration": 5,
    "start_time": "2022-02-21T02:11:35.256Z"
   },
   {
    "duration": 195,
    "start_time": "2022-02-21T02:11:53.777Z"
   },
   {
    "duration": 365,
    "start_time": "2022-02-21T02:11:57.302Z"
   },
   {
    "duration": 271,
    "start_time": "2022-02-21T02:12:00.069Z"
   },
   {
    "duration": 205,
    "start_time": "2022-02-21T02:12:04.953Z"
   },
   {
    "duration": 462,
    "start_time": "2022-02-21T02:12:06.931Z"
   },
   {
    "duration": 253,
    "start_time": "2022-02-21T02:12:09.626Z"
   },
   {
    "duration": 753,
    "start_time": "2022-02-21T02:13:05.108Z"
   },
   {
    "duration": 81,
    "start_time": "2022-02-21T02:13:05.863Z"
   },
   {
    "duration": 109,
    "start_time": "2022-02-21T02:13:05.946Z"
   },
   {
    "duration": 11,
    "start_time": "2022-02-21T02:13:06.057Z"
   },
   {
    "duration": 28,
    "start_time": "2022-02-21T02:13:06.070Z"
   },
   {
    "duration": 30,
    "start_time": "2022-02-21T02:13:06.099Z"
   },
   {
    "duration": 4,
    "start_time": "2022-02-21T02:13:06.132Z"
   },
   {
    "duration": 25,
    "start_time": "2022-02-21T02:13:06.139Z"
   },
   {
    "duration": 10,
    "start_time": "2022-02-21T02:13:06.167Z"
   },
   {
    "duration": 110,
    "start_time": "2022-02-21T02:13:06.179Z"
   },
   {
    "duration": 4,
    "start_time": "2022-02-21T02:13:06.291Z"
   },
   {
    "duration": 36,
    "start_time": "2022-02-21T02:13:06.297Z"
   },
   {
    "duration": 3,
    "start_time": "2022-02-21T02:13:06.335Z"
   },
   {
    "duration": 24585,
    "start_time": "2022-02-21T02:13:06.340Z"
   },
   {
    "duration": 21,
    "start_time": "2022-02-21T02:13:30.927Z"
   },
   {
    "duration": 20,
    "start_time": "2022-02-21T02:13:30.949Z"
   },
   {
    "duration": 17,
    "start_time": "2022-02-21T02:13:30.971Z"
   },
   {
    "duration": 11,
    "start_time": "2022-02-21T02:13:30.989Z"
   },
   {
    "duration": 10,
    "start_time": "2022-02-21T02:13:31.001Z"
   },
   {
    "duration": 18,
    "start_time": "2022-02-21T02:13:31.012Z"
   },
   {
    "duration": 8,
    "start_time": "2022-02-21T02:13:31.032Z"
   },
   {
    "duration": 22,
    "start_time": "2022-02-21T02:13:31.042Z"
   },
   {
    "duration": 14,
    "start_time": "2022-02-21T02:13:31.067Z"
   },
   {
    "duration": 27,
    "start_time": "2022-02-21T02:13:31.084Z"
   },
   {
    "duration": 4,
    "start_time": "2022-02-21T02:13:31.113Z"
   },
   {
    "duration": 53,
    "start_time": "2022-02-21T02:13:31.119Z"
   },
   {
    "duration": 11,
    "start_time": "2022-02-21T02:13:31.174Z"
   },
   {
    "duration": 26,
    "start_time": "2022-02-21T02:13:31.186Z"
   },
   {
    "duration": 6,
    "start_time": "2022-02-21T02:13:31.214Z"
   },
   {
    "duration": 17,
    "start_time": "2022-02-21T02:13:31.222Z"
   },
   {
    "duration": 56,
    "start_time": "2022-02-21T02:13:31.241Z"
   },
   {
    "duration": 26,
    "start_time": "2022-02-21T02:13:31.298Z"
   },
   {
    "duration": 20,
    "start_time": "2022-02-21T02:13:31.327Z"
   },
   {
    "duration": 29,
    "start_time": "2022-02-21T02:13:31.349Z"
   },
   {
    "duration": 205,
    "start_time": "2022-02-21T02:13:31.380Z"
   },
   {
    "duration": 240,
    "start_time": "2022-02-21T02:13:31.588Z"
   },
   {
    "duration": 195,
    "start_time": "2022-02-21T02:13:31.830Z"
   },
   {
    "duration": 260,
    "start_time": "2022-02-21T02:13:32.027Z"
   },
   {
    "duration": 198,
    "start_time": "2022-02-21T02:13:32.289Z"
   },
   {
    "duration": 268,
    "start_time": "2022-02-21T02:13:32.489Z"
   },
   {
    "duration": 194,
    "start_time": "2022-02-21T02:13:32.759Z"
   },
   {
    "duration": 325,
    "start_time": "2022-02-21T02:13:32.955Z"
   },
   {
    "duration": 172,
    "start_time": "2022-02-21T02:13:33.282Z"
   },
   {
    "duration": 228,
    "start_time": "2022-02-21T02:13:33.456Z"
   },
   {
    "duration": 7,
    "start_time": "2022-02-21T02:13:33.686Z"
   },
   {
    "duration": 4,
    "start_time": "2022-02-21T02:13:33.694Z"
   },
   {
    "duration": 19,
    "start_time": "2022-02-21T02:13:33.700Z"
   },
   {
    "duration": 51,
    "start_time": "2022-02-21T02:13:33.721Z"
   },
   {
    "duration": 4,
    "start_time": "2022-02-21T02:13:33.774Z"
   },
   {
    "duration": 5,
    "start_time": "2022-02-21T02:13:33.780Z"
   },
   {
    "duration": 73,
    "start_time": "2022-02-21T02:13:33.787Z"
   },
   {
    "duration": 4,
    "start_time": "2022-02-21T02:13:33.862Z"
   },
   {
    "duration": 6,
    "start_time": "2022-02-21T02:13:33.868Z"
   },
   {
    "duration": 55,
    "start_time": "2022-02-21T02:13:33.875Z"
   },
   {
    "duration": 29,
    "start_time": "2022-02-21T02:13:33.932Z"
   },
   {
    "duration": 23,
    "start_time": "2022-02-21T02:13:33.963Z"
   },
   {
    "duration": 252,
    "start_time": "2022-02-21T02:13:33.988Z"
   },
   {
    "duration": 262,
    "start_time": "2022-02-21T02:13:34.242Z"
   },
   {
    "duration": 267,
    "start_time": "2022-02-21T02:13:34.506Z"
   },
   {
    "duration": 8,
    "start_time": "2022-02-21T02:13:34.775Z"
   },
   {
    "duration": 245,
    "start_time": "2022-02-21T02:13:34.785Z"
   },
   {
    "duration": 179,
    "start_time": "2022-02-21T02:13:35.031Z"
   },
   {
    "duration": 18,
    "start_time": "2022-02-21T02:13:35.212Z"
   },
   {
    "duration": 17,
    "start_time": "2022-02-21T02:13:35.232Z"
   },
   {
    "duration": 13,
    "start_time": "2022-02-21T02:13:35.250Z"
   },
   {
    "duration": 274,
    "start_time": "2022-02-21T02:13:35.264Z"
   },
   {
    "duration": 30,
    "start_time": "2022-02-21T02:13:35.540Z"
   },
   {
    "duration": 6,
    "start_time": "2022-02-21T02:13:35.575Z"
   },
   {
    "duration": 8,
    "start_time": "2022-02-21T02:13:35.583Z"
   },
   {
    "duration": 8,
    "start_time": "2022-02-21T02:13:35.592Z"
   },
   {
    "duration": 10,
    "start_time": "2022-02-21T02:13:35.618Z"
   },
   {
    "duration": 11,
    "start_time": "2022-02-21T02:13:35.629Z"
   },
   {
    "duration": 3489,
    "start_time": "2022-02-21T02:13:35.641Z"
   },
   {
    "duration": 24,
    "start_time": "2022-02-21T02:13:39.132Z"
   },
   {
    "duration": 218,
    "start_time": "2022-02-21T02:13:39.158Z"
   },
   {
    "duration": 394,
    "start_time": "2022-02-21T02:13:39.378Z"
   },
   {
    "duration": 261,
    "start_time": "2022-02-21T02:13:39.773Z"
   },
   {
    "duration": 32,
    "start_time": "2022-02-21T02:13:40.036Z"
   },
   {
    "duration": 7,
    "start_time": "2022-02-21T02:13:40.070Z"
   },
   {
    "duration": 10,
    "start_time": "2022-02-21T02:13:40.079Z"
   },
   {
    "duration": 28,
    "start_time": "2022-02-21T02:13:40.091Z"
   },
   {
    "duration": 10,
    "start_time": "2022-02-21T02:13:40.121Z"
   },
   {
    "duration": 7,
    "start_time": "2022-02-21T02:13:40.133Z"
   },
   {
    "duration": 4058,
    "start_time": "2022-02-21T02:13:40.142Z"
   },
   {
    "duration": 32,
    "start_time": "2022-02-21T02:13:44.202Z"
   },
   {
    "duration": 210,
    "start_time": "2022-02-21T02:13:44.235Z"
   },
   {
    "duration": 373,
    "start_time": "2022-02-21T02:13:44.447Z"
   },
   {
    "duration": 273,
    "start_time": "2022-02-21T02:13:44.822Z"
   },
   {
    "duration": 14,
    "start_time": "2022-02-21T14:00:42.750Z"
   },
   {
    "duration": 122,
    "start_time": "2022-02-21T14:00:42.766Z"
   },
   {
    "duration": 157,
    "start_time": "2022-02-21T14:00:42.891Z"
   },
   {
    "duration": 24,
    "start_time": "2022-02-21T14:00:43.050Z"
   },
   {
    "duration": 28,
    "start_time": "2022-02-21T14:00:43.077Z"
   },
   {
    "duration": 55,
    "start_time": "2022-02-21T14:00:43.109Z"
   },
   {
    "duration": 4,
    "start_time": "2022-02-21T14:00:43.167Z"
   },
   {
    "duration": 28,
    "start_time": "2022-02-21T14:00:43.173Z"
   },
   {
    "duration": 13,
    "start_time": "2022-02-21T14:00:43.203Z"
   },
   {
    "duration": 159,
    "start_time": "2022-02-21T14:00:43.218Z"
   },
   {
    "duration": 5,
    "start_time": "2022-02-21T14:00:43.380Z"
   },
   {
    "duration": 27,
    "start_time": "2022-02-21T14:00:43.388Z"
   },
   {
    "duration": 6,
    "start_time": "2022-02-21T14:00:43.417Z"
   },
   {
    "duration": 34798,
    "start_time": "2022-02-21T14:00:43.425Z"
   },
   {
    "duration": 39,
    "start_time": "2022-02-21T14:01:18.225Z"
   },
   {
    "duration": 6,
    "start_time": "2022-02-21T14:01:18.267Z"
   },
   {
    "duration": 8,
    "start_time": "2022-02-21T14:01:18.275Z"
   },
   {
    "duration": 6,
    "start_time": "2022-02-21T14:01:18.286Z"
   },
   {
    "duration": 6,
    "start_time": "2022-02-21T14:01:18.295Z"
   },
   {
    "duration": 58,
    "start_time": "2022-02-21T14:01:18.303Z"
   },
   {
    "duration": 6,
    "start_time": "2022-02-21T14:01:18.363Z"
   },
   {
    "duration": 7,
    "start_time": "2022-02-21T14:01:18.371Z"
   },
   {
    "duration": 6,
    "start_time": "2022-02-21T14:01:18.380Z"
   },
   {
    "duration": 16,
    "start_time": "2022-02-21T14:01:18.389Z"
   },
   {
    "duration": 6,
    "start_time": "2022-02-21T14:01:18.407Z"
   },
   {
    "duration": 96,
    "start_time": "2022-02-21T14:01:18.415Z"
   },
   {
    "duration": 17,
    "start_time": "2022-02-21T14:01:18.513Z"
   },
   {
    "duration": 45,
    "start_time": "2022-02-21T14:01:18.532Z"
   },
   {
    "duration": 8,
    "start_time": "2022-02-21T14:01:18.579Z"
   },
   {
    "duration": 4,
    "start_time": "2022-02-21T14:01:18.590Z"
   },
   {
    "duration": 78,
    "start_time": "2022-02-21T14:01:18.596Z"
   },
   {
    "duration": 25,
    "start_time": "2022-02-21T14:01:18.677Z"
   },
   {
    "duration": 24,
    "start_time": "2022-02-21T14:01:18.705Z"
   },
   {
    "duration": 58,
    "start_time": "2022-02-21T14:01:18.732Z"
   },
   {
    "duration": 308,
    "start_time": "2022-02-21T14:01:18.792Z"
   },
   {
    "duration": 390,
    "start_time": "2022-02-21T14:01:19.103Z"
   },
   {
    "duration": 303,
    "start_time": "2022-02-21T14:01:19.495Z"
   },
   {
    "duration": 439,
    "start_time": "2022-02-21T14:01:19.800Z"
   },
   {
    "duration": 332,
    "start_time": "2022-02-21T14:01:20.242Z"
   },
   {
    "duration": 440,
    "start_time": "2022-02-21T14:01:20.577Z"
   },
   {
    "duration": 325,
    "start_time": "2022-02-21T14:01:21.020Z"
   },
   {
    "duration": 437,
    "start_time": "2022-02-21T14:01:21.348Z"
   },
   {
    "duration": 280,
    "start_time": "2022-02-21T14:01:21.788Z"
   },
   {
    "duration": 392,
    "start_time": "2022-02-21T14:01:22.070Z"
   },
   {
    "duration": 10,
    "start_time": "2022-02-21T14:01:22.465Z"
   },
   {
    "duration": 5,
    "start_time": "2022-02-21T14:01:22.477Z"
   },
   {
    "duration": 9,
    "start_time": "2022-02-21T14:01:22.484Z"
   },
   {
    "duration": 97,
    "start_time": "2022-02-21T14:01:22.495Z"
   },
   {
    "duration": 4,
    "start_time": "2022-02-21T14:01:22.595Z"
   },
   {
    "duration": 8,
    "start_time": "2022-02-21T14:01:22.601Z"
   },
   {
    "duration": 96,
    "start_time": "2022-02-21T14:01:22.612Z"
   },
   {
    "duration": 6,
    "start_time": "2022-02-21T14:01:22.711Z"
   },
   {
    "duration": 8,
    "start_time": "2022-02-21T14:01:22.719Z"
   },
   {
    "duration": 71,
    "start_time": "2022-02-21T14:01:22.730Z"
   },
   {
    "duration": 61,
    "start_time": "2022-02-21T14:01:22.804Z"
   },
   {
    "duration": 33,
    "start_time": "2022-02-21T14:01:22.868Z"
   },
   {
    "duration": 397,
    "start_time": "2022-02-21T14:01:22.903Z"
   },
   {
    "duration": 434,
    "start_time": "2022-02-21T14:01:23.303Z"
   },
   {
    "duration": 451,
    "start_time": "2022-02-21T14:01:23.739Z"
   },
   {
    "duration": 13,
    "start_time": "2022-02-21T14:01:24.193Z"
   },
   {
    "duration": 509,
    "start_time": "2022-02-21T14:01:24.209Z"
   },
   {
    "duration": 294,
    "start_time": "2022-02-21T14:01:24.721Z"
   },
   {
    "duration": 19,
    "start_time": "2022-02-21T14:01:25.018Z"
   },
   {
    "duration": 23,
    "start_time": "2022-02-21T14:01:25.061Z"
   },
   {
    "duration": 31,
    "start_time": "2022-02-21T14:01:25.086Z"
   },
   {
    "duration": 460,
    "start_time": "2022-02-21T14:01:25.120Z"
   },
   {
    "duration": 45,
    "start_time": "2022-02-21T14:01:25.583Z"
   },
   {
    "duration": 8,
    "start_time": "2022-02-21T14:01:25.631Z"
   },
   {
    "duration": 27,
    "start_time": "2022-02-21T14:01:25.641Z"
   },
   {
    "duration": 9,
    "start_time": "2022-02-21T14:01:25.670Z"
   },
   {
    "duration": 11,
    "start_time": "2022-02-21T14:01:25.682Z"
   },
   {
    "duration": 11,
    "start_time": "2022-02-21T14:01:25.696Z"
   },
   {
    "duration": 5944,
    "start_time": "2022-02-21T14:01:25.709Z"
   },
   {
    "duration": 39,
    "start_time": "2022-02-21T14:01:31.655Z"
   },
   {
    "duration": 371,
    "start_time": "2022-02-21T14:01:31.697Z"
   },
   {
    "duration": 735,
    "start_time": "2022-02-21T14:01:32.070Z"
   },
   {
    "duration": 538,
    "start_time": "2022-02-21T14:01:32.807Z"
   },
   {
    "duration": 55,
    "start_time": "2022-02-21T14:01:33.348Z"
   },
   {
    "duration": 8,
    "start_time": "2022-02-21T14:01:33.405Z"
   },
   {
    "duration": 10,
    "start_time": "2022-02-21T14:01:33.415Z"
   },
   {
    "duration": 36,
    "start_time": "2022-02-21T14:01:33.427Z"
   },
   {
    "duration": 10,
    "start_time": "2022-02-21T14:01:33.465Z"
   },
   {
    "duration": 10,
    "start_time": "2022-02-21T14:01:33.478Z"
   },
   {
    "duration": 5455,
    "start_time": "2022-02-21T14:01:33.491Z"
   },
   {
    "duration": 44,
    "start_time": "2022-02-21T14:01:38.949Z"
   },
   {
    "duration": 360,
    "start_time": "2022-02-21T14:01:38.995Z"
   },
   {
    "duration": 609,
    "start_time": "2022-02-21T14:01:39.357Z"
   },
   {
    "duration": 550,
    "start_time": "2022-02-21T14:01:39.968Z"
   },
   {
    "duration": 17,
    "start_time": "2022-02-21T14:07:53.799Z"
   }
  ],
  "kernelspec": {
   "display_name": "Python 3 (ipykernel)",
   "language": "python",
   "name": "python3"
  },
  "language_info": {
   "codemirror_mode": {
    "name": "ipython",
    "version": 3
   },
   "file_extension": ".py",
   "mimetype": "text/x-python",
   "name": "python",
   "nbconvert_exporter": "python",
   "pygments_lexer": "ipython3",
   "version": "3.9.5"
  },
  "toc": {
   "base_numbering": 1,
   "nav_menu": {},
   "number_sections": true,
   "sideBar": true,
   "skip_h1_title": false,
   "title_cell": "Table of Contents",
   "title_sidebar": "Contents",
   "toc_cell": false,
   "toc_position": {
    "height": "calc(100% - 180px)",
    "left": "10px",
    "top": "150px",
    "width": "165px"
   },
   "toc_section_display": true,
   "toc_window_display": false
  }
 },
 "nbformat": 4,
 "nbformat_minor": 2
}
