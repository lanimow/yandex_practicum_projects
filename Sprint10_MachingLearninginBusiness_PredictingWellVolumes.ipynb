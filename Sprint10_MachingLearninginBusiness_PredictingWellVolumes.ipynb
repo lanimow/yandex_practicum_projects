{
 "cells": [
  {
   "cell_type": "markdown",
   "metadata": {},
   "source": [
    "# Project Description"
   ]
  },
  {
   "cell_type": "markdown",
   "metadata": {},
   "source": [
    "You work for the OilyGiant mining company. Your task is to find the best place for a new well.\n",
    "\n",
    "Steps to choose the location:\n",
    "\n",
    "Collect the oil well parameters in the selected region: oil quality and volume of reserves;\n",
    "\n",
    "Build a model for predicting the volume of reserves in the new wells;\n",
    "\n",
    "Pick the oil wells with the highest estimated values;\n",
    "\n",
    "Pick the region with the highest total profit for the selected oil wells.\n",
    "\n",
    "You have data on oil samples from three regions. Parameters of each oil well in the region are already known. Build a model that will help to pick the region with the highest profit margin. Analyze potential profit and risks using the Bootstrapping technique."
   ]
  },
  {
   "cell_type": "markdown",
   "metadata": {},
   "source": [
    "# Initialization"
   ]
  },
  {
   "cell_type": "code",
   "execution_count": 1,
   "metadata": {},
   "outputs": [],
   "source": [
    "import pandas as pd\n",
    "import numpy as np\n",
    "from numpy.random import RandomState\n",
    "import matplotlib.pyplot as plt\n",
    "import seaborn as sns\n",
    "from sklearn.model_selection import train_test_split\n",
    "from sklearn.linear_model import LinearRegression\n",
    "from sklearn.metrics import mean_squared_error\n",
    "import warnings\n",
    "warnings.filterwarnings(\"ignore\")\n"
   ]
  },
  {
   "cell_type": "markdown",
   "metadata": {},
   "source": [
    "# Load data"
   ]
  },
  {
   "cell_type": "code",
   "execution_count": 2,
   "metadata": {},
   "outputs": [],
   "source": [
    "# Load the data files\n",
    "try:\n",
    "    data_0 = pd.read_csv('/datasets/geo_data_0.csv')\n",
    "except:\n",
    "    data_0 = pd.read_csv('geo_data_0.csv')\n",
    "try:\n",
    "    data_1 = pd.read_csv('/datasets/geo_data_1.csv')\n",
    "except:\n",
    "    data_1 = pd.read_csv('geo_data_1.csv')\n",
    "try:\n",
    "    data_2 = pd.read_csv('/datasets/geo_data_2.csv')\n",
    "except:\n",
    "    data_2 = pd.read_csv('geo_data_2.csv')\n",
    "    "
   ]
  },
  {
   "cell_type": "markdown",
   "metadata": {},
   "source": [
    "# Explore the data"
   ]
  },
  {
   "cell_type": "code",
   "execution_count": 3,
   "metadata": {},
   "outputs": [
    {
     "name": "stdout",
     "output_type": "stream",
     "text": [
      "<class 'pandas.core.frame.DataFrame'>\n",
      "RangeIndex: 100000 entries, 0 to 99999\n",
      "Data columns (total 5 columns):\n",
      " #   Column   Non-Null Count   Dtype  \n",
      "---  ------   --------------   -----  \n",
      " 0   id       100000 non-null  object \n",
      " 1   f0       100000 non-null  float64\n",
      " 2   f1       100000 non-null  float64\n",
      " 3   f2       100000 non-null  float64\n",
      " 4   product  100000 non-null  float64\n",
      "dtypes: float64(4), object(1)\n",
      "memory usage: 3.8+ MB\n"
     ]
    },
    {
     "data": {
      "text/html": [
       "<div>\n",
       "<style scoped>\n",
       "    .dataframe tbody tr th:only-of-type {\n",
       "        vertical-align: middle;\n",
       "    }\n",
       "\n",
       "    .dataframe tbody tr th {\n",
       "        vertical-align: top;\n",
       "    }\n",
       "\n",
       "    .dataframe thead th {\n",
       "        text-align: right;\n",
       "    }\n",
       "</style>\n",
       "<table border=\"1\" class=\"dataframe\">\n",
       "  <thead>\n",
       "    <tr style=\"text-align: right;\">\n",
       "      <th></th>\n",
       "      <th>f0</th>\n",
       "      <th>f1</th>\n",
       "      <th>f2</th>\n",
       "      <th>product</th>\n",
       "    </tr>\n",
       "  </thead>\n",
       "  <tbody>\n",
       "    <tr>\n",
       "      <th>count</th>\n",
       "      <td>100000.000000</td>\n",
       "      <td>100000.000000</td>\n",
       "      <td>100000.000000</td>\n",
       "      <td>100000.000000</td>\n",
       "    </tr>\n",
       "    <tr>\n",
       "      <th>mean</th>\n",
       "      <td>0.500419</td>\n",
       "      <td>0.250143</td>\n",
       "      <td>2.502647</td>\n",
       "      <td>92.500000</td>\n",
       "    </tr>\n",
       "    <tr>\n",
       "      <th>std</th>\n",
       "      <td>0.871832</td>\n",
       "      <td>0.504433</td>\n",
       "      <td>3.248248</td>\n",
       "      <td>44.288691</td>\n",
       "    </tr>\n",
       "    <tr>\n",
       "      <th>min</th>\n",
       "      <td>-1.408605</td>\n",
       "      <td>-0.848218</td>\n",
       "      <td>-12.088328</td>\n",
       "      <td>0.000000</td>\n",
       "    </tr>\n",
       "    <tr>\n",
       "      <th>25%</th>\n",
       "      <td>-0.072580</td>\n",
       "      <td>-0.200881</td>\n",
       "      <td>0.287748</td>\n",
       "      <td>56.497507</td>\n",
       "    </tr>\n",
       "    <tr>\n",
       "      <th>50%</th>\n",
       "      <td>0.502360</td>\n",
       "      <td>0.250252</td>\n",
       "      <td>2.515969</td>\n",
       "      <td>91.849972</td>\n",
       "    </tr>\n",
       "    <tr>\n",
       "      <th>75%</th>\n",
       "      <td>1.073581</td>\n",
       "      <td>0.700646</td>\n",
       "      <td>4.715088</td>\n",
       "      <td>128.564089</td>\n",
       "    </tr>\n",
       "    <tr>\n",
       "      <th>max</th>\n",
       "      <td>2.362331</td>\n",
       "      <td>1.343769</td>\n",
       "      <td>16.003790</td>\n",
       "      <td>185.364347</td>\n",
       "    </tr>\n",
       "  </tbody>\n",
       "</table>\n",
       "</div>"
      ],
      "text/plain": [
       "                  f0             f1             f2        product\n",
       "count  100000.000000  100000.000000  100000.000000  100000.000000\n",
       "mean        0.500419       0.250143       2.502647      92.500000\n",
       "std         0.871832       0.504433       3.248248      44.288691\n",
       "min        -1.408605      -0.848218     -12.088328       0.000000\n",
       "25%        -0.072580      -0.200881       0.287748      56.497507\n",
       "50%         0.502360       0.250252       2.515969      91.849972\n",
       "75%         1.073581       0.700646       4.715088     128.564089\n",
       "max         2.362331       1.343769      16.003790     185.364347"
      ]
     },
     "execution_count": 3,
     "metadata": {},
     "output_type": "execute_result"
    }
   ],
   "source": [
    "# Print general information about the 'data_0' dataframe\n",
    "data_0.info()\n",
    "data_0.describe()\n"
   ]
  },
  {
   "cell_type": "code",
   "execution_count": 4,
   "metadata": {},
   "outputs": [
    {
     "data": {
      "text/html": [
       "<div>\n",
       "<style scoped>\n",
       "    .dataframe tbody tr th:only-of-type {\n",
       "        vertical-align: middle;\n",
       "    }\n",
       "\n",
       "    .dataframe tbody tr th {\n",
       "        vertical-align: top;\n",
       "    }\n",
       "\n",
       "    .dataframe thead th {\n",
       "        text-align: right;\n",
       "    }\n",
       "</style>\n",
       "<table border=\"1\" class=\"dataframe\">\n",
       "  <thead>\n",
       "    <tr style=\"text-align: right;\">\n",
       "      <th></th>\n",
       "      <th>id</th>\n",
       "      <th>f0</th>\n",
       "      <th>f1</th>\n",
       "      <th>f2</th>\n",
       "      <th>product</th>\n",
       "    </tr>\n",
       "  </thead>\n",
       "  <tbody>\n",
       "    <tr>\n",
       "      <th>0</th>\n",
       "      <td>txEyH</td>\n",
       "      <td>0.705745</td>\n",
       "      <td>-0.497823</td>\n",
       "      <td>1.221170</td>\n",
       "      <td>105.280062</td>\n",
       "    </tr>\n",
       "    <tr>\n",
       "      <th>1</th>\n",
       "      <td>2acmU</td>\n",
       "      <td>1.334711</td>\n",
       "      <td>-0.340164</td>\n",
       "      <td>4.365080</td>\n",
       "      <td>73.037750</td>\n",
       "    </tr>\n",
       "    <tr>\n",
       "      <th>2</th>\n",
       "      <td>409Wp</td>\n",
       "      <td>1.022732</td>\n",
       "      <td>0.151990</td>\n",
       "      <td>1.419926</td>\n",
       "      <td>85.265647</td>\n",
       "    </tr>\n",
       "    <tr>\n",
       "      <th>3</th>\n",
       "      <td>iJLyR</td>\n",
       "      <td>-0.032172</td>\n",
       "      <td>0.139033</td>\n",
       "      <td>2.978566</td>\n",
       "      <td>168.620776</td>\n",
       "    </tr>\n",
       "    <tr>\n",
       "      <th>4</th>\n",
       "      <td>Xdl7t</td>\n",
       "      <td>1.988431</td>\n",
       "      <td>0.155413</td>\n",
       "      <td>4.751769</td>\n",
       "      <td>154.036647</td>\n",
       "    </tr>\n",
       "    <tr>\n",
       "      <th>...</th>\n",
       "      <td>...</td>\n",
       "      <td>...</td>\n",
       "      <td>...</td>\n",
       "      <td>...</td>\n",
       "      <td>...</td>\n",
       "    </tr>\n",
       "    <tr>\n",
       "      <th>99995</th>\n",
       "      <td>DLsed</td>\n",
       "      <td>0.971957</td>\n",
       "      <td>0.370953</td>\n",
       "      <td>6.075346</td>\n",
       "      <td>110.744026</td>\n",
       "    </tr>\n",
       "    <tr>\n",
       "      <th>99996</th>\n",
       "      <td>QKivN</td>\n",
       "      <td>1.392429</td>\n",
       "      <td>-0.382606</td>\n",
       "      <td>1.273912</td>\n",
       "      <td>122.346843</td>\n",
       "    </tr>\n",
       "    <tr>\n",
       "      <th>99997</th>\n",
       "      <td>3rnvd</td>\n",
       "      <td>1.029585</td>\n",
       "      <td>0.018787</td>\n",
       "      <td>-1.348308</td>\n",
       "      <td>64.375443</td>\n",
       "    </tr>\n",
       "    <tr>\n",
       "      <th>99998</th>\n",
       "      <td>7kl59</td>\n",
       "      <td>0.998163</td>\n",
       "      <td>-0.528582</td>\n",
       "      <td>1.583869</td>\n",
       "      <td>74.040764</td>\n",
       "    </tr>\n",
       "    <tr>\n",
       "      <th>99999</th>\n",
       "      <td>1CWhH</td>\n",
       "      <td>1.764754</td>\n",
       "      <td>-0.266417</td>\n",
       "      <td>5.722849</td>\n",
       "      <td>149.633246</td>\n",
       "    </tr>\n",
       "  </tbody>\n",
       "</table>\n",
       "<p>100000 rows × 5 columns</p>\n",
       "</div>"
      ],
      "text/plain": [
       "          id        f0        f1        f2     product\n",
       "0      txEyH  0.705745 -0.497823  1.221170  105.280062\n",
       "1      2acmU  1.334711 -0.340164  4.365080   73.037750\n",
       "2      409Wp  1.022732  0.151990  1.419926   85.265647\n",
       "3      iJLyR -0.032172  0.139033  2.978566  168.620776\n",
       "4      Xdl7t  1.988431  0.155413  4.751769  154.036647\n",
       "...      ...       ...       ...       ...         ...\n",
       "99995  DLsed  0.971957  0.370953  6.075346  110.744026\n",
       "99996  QKivN  1.392429 -0.382606  1.273912  122.346843\n",
       "99997  3rnvd  1.029585  0.018787 -1.348308   64.375443\n",
       "99998  7kl59  0.998163 -0.528582  1.583869   74.040764\n",
       "99999  1CWhH  1.764754 -0.266417  5.722849  149.633246\n",
       "\n",
       "[100000 rows x 5 columns]"
      ]
     },
     "execution_count": 4,
     "metadata": {},
     "output_type": "execute_result"
    }
   ],
   "source": [
    "# Print a sample of the data for 'data_0'\n",
    "data_0\n"
   ]
  },
  {
   "cell_type": "code",
   "execution_count": 5,
   "metadata": {},
   "outputs": [
    {
     "name": "stdout",
     "output_type": "stream",
     "text": [
      "<class 'pandas.core.frame.DataFrame'>\n",
      "RangeIndex: 100000 entries, 0 to 99999\n",
      "Data columns (total 5 columns):\n",
      " #   Column   Non-Null Count   Dtype  \n",
      "---  ------   --------------   -----  \n",
      " 0   id       100000 non-null  object \n",
      " 1   f0       100000 non-null  float64\n",
      " 2   f1       100000 non-null  float64\n",
      " 3   f2       100000 non-null  float64\n",
      " 4   product  100000 non-null  float64\n",
      "dtypes: float64(4), object(1)\n",
      "memory usage: 3.8+ MB\n"
     ]
    },
    {
     "data": {
      "text/html": [
       "<div>\n",
       "<style scoped>\n",
       "    .dataframe tbody tr th:only-of-type {\n",
       "        vertical-align: middle;\n",
       "    }\n",
       "\n",
       "    .dataframe tbody tr th {\n",
       "        vertical-align: top;\n",
       "    }\n",
       "\n",
       "    .dataframe thead th {\n",
       "        text-align: right;\n",
       "    }\n",
       "</style>\n",
       "<table border=\"1\" class=\"dataframe\">\n",
       "  <thead>\n",
       "    <tr style=\"text-align: right;\">\n",
       "      <th></th>\n",
       "      <th>f0</th>\n",
       "      <th>f1</th>\n",
       "      <th>f2</th>\n",
       "      <th>product</th>\n",
       "    </tr>\n",
       "  </thead>\n",
       "  <tbody>\n",
       "    <tr>\n",
       "      <th>count</th>\n",
       "      <td>100000.000000</td>\n",
       "      <td>100000.000000</td>\n",
       "      <td>100000.000000</td>\n",
       "      <td>100000.000000</td>\n",
       "    </tr>\n",
       "    <tr>\n",
       "      <th>mean</th>\n",
       "      <td>1.141296</td>\n",
       "      <td>-4.796579</td>\n",
       "      <td>2.494541</td>\n",
       "      <td>68.825000</td>\n",
       "    </tr>\n",
       "    <tr>\n",
       "      <th>std</th>\n",
       "      <td>8.965932</td>\n",
       "      <td>5.119872</td>\n",
       "      <td>1.703572</td>\n",
       "      <td>45.944423</td>\n",
       "    </tr>\n",
       "    <tr>\n",
       "      <th>min</th>\n",
       "      <td>-31.609576</td>\n",
       "      <td>-26.358598</td>\n",
       "      <td>-0.018144</td>\n",
       "      <td>0.000000</td>\n",
       "    </tr>\n",
       "    <tr>\n",
       "      <th>25%</th>\n",
       "      <td>-6.298551</td>\n",
       "      <td>-8.267985</td>\n",
       "      <td>1.000021</td>\n",
       "      <td>26.953261</td>\n",
       "    </tr>\n",
       "    <tr>\n",
       "      <th>50%</th>\n",
       "      <td>1.153055</td>\n",
       "      <td>-4.813172</td>\n",
       "      <td>2.011479</td>\n",
       "      <td>57.085625</td>\n",
       "    </tr>\n",
       "    <tr>\n",
       "      <th>75%</th>\n",
       "      <td>8.621015</td>\n",
       "      <td>-1.332816</td>\n",
       "      <td>3.999904</td>\n",
       "      <td>107.813044</td>\n",
       "    </tr>\n",
       "    <tr>\n",
       "      <th>max</th>\n",
       "      <td>29.421755</td>\n",
       "      <td>18.734063</td>\n",
       "      <td>5.019721</td>\n",
       "      <td>137.945408</td>\n",
       "    </tr>\n",
       "  </tbody>\n",
       "</table>\n",
       "</div>"
      ],
      "text/plain": [
       "                  f0             f1             f2        product\n",
       "count  100000.000000  100000.000000  100000.000000  100000.000000\n",
       "mean        1.141296      -4.796579       2.494541      68.825000\n",
       "std         8.965932       5.119872       1.703572      45.944423\n",
       "min       -31.609576     -26.358598      -0.018144       0.000000\n",
       "25%        -6.298551      -8.267985       1.000021      26.953261\n",
       "50%         1.153055      -4.813172       2.011479      57.085625\n",
       "75%         8.621015      -1.332816       3.999904     107.813044\n",
       "max        29.421755      18.734063       5.019721     137.945408"
      ]
     },
     "execution_count": 5,
     "metadata": {},
     "output_type": "execute_result"
    }
   ],
   "source": [
    "# Print general information about the 'data_1' dataframe\n",
    "data_1.info()\n",
    "data_1.describe()\n"
   ]
  },
  {
   "cell_type": "code",
   "execution_count": 6,
   "metadata": {},
   "outputs": [
    {
     "data": {
      "text/html": [
       "<div>\n",
       "<style scoped>\n",
       "    .dataframe tbody tr th:only-of-type {\n",
       "        vertical-align: middle;\n",
       "    }\n",
       "\n",
       "    .dataframe tbody tr th {\n",
       "        vertical-align: top;\n",
       "    }\n",
       "\n",
       "    .dataframe thead th {\n",
       "        text-align: right;\n",
       "    }\n",
       "</style>\n",
       "<table border=\"1\" class=\"dataframe\">\n",
       "  <thead>\n",
       "    <tr style=\"text-align: right;\">\n",
       "      <th></th>\n",
       "      <th>id</th>\n",
       "      <th>f0</th>\n",
       "      <th>f1</th>\n",
       "      <th>f2</th>\n",
       "      <th>product</th>\n",
       "    </tr>\n",
       "  </thead>\n",
       "  <tbody>\n",
       "    <tr>\n",
       "      <th>0</th>\n",
       "      <td>kBEdx</td>\n",
       "      <td>-15.001348</td>\n",
       "      <td>-8.276000</td>\n",
       "      <td>-0.005876</td>\n",
       "      <td>3.179103</td>\n",
       "    </tr>\n",
       "    <tr>\n",
       "      <th>1</th>\n",
       "      <td>62mP7</td>\n",
       "      <td>14.272088</td>\n",
       "      <td>-3.475083</td>\n",
       "      <td>0.999183</td>\n",
       "      <td>26.953261</td>\n",
       "    </tr>\n",
       "    <tr>\n",
       "      <th>2</th>\n",
       "      <td>vyE1P</td>\n",
       "      <td>6.263187</td>\n",
       "      <td>-5.948386</td>\n",
       "      <td>5.001160</td>\n",
       "      <td>134.766305</td>\n",
       "    </tr>\n",
       "    <tr>\n",
       "      <th>3</th>\n",
       "      <td>KcrkZ</td>\n",
       "      <td>-13.081196</td>\n",
       "      <td>-11.506057</td>\n",
       "      <td>4.999415</td>\n",
       "      <td>137.945408</td>\n",
       "    </tr>\n",
       "    <tr>\n",
       "      <th>4</th>\n",
       "      <td>AHL4O</td>\n",
       "      <td>12.702195</td>\n",
       "      <td>-8.147433</td>\n",
       "      <td>5.004363</td>\n",
       "      <td>134.766305</td>\n",
       "    </tr>\n",
       "    <tr>\n",
       "      <th>...</th>\n",
       "      <td>...</td>\n",
       "      <td>...</td>\n",
       "      <td>...</td>\n",
       "      <td>...</td>\n",
       "      <td>...</td>\n",
       "    </tr>\n",
       "    <tr>\n",
       "      <th>99995</th>\n",
       "      <td>QywKC</td>\n",
       "      <td>9.535637</td>\n",
       "      <td>-6.878139</td>\n",
       "      <td>1.998296</td>\n",
       "      <td>53.906522</td>\n",
       "    </tr>\n",
       "    <tr>\n",
       "      <th>99996</th>\n",
       "      <td>ptvty</td>\n",
       "      <td>-10.160631</td>\n",
       "      <td>-12.558096</td>\n",
       "      <td>5.005581</td>\n",
       "      <td>137.945408</td>\n",
       "    </tr>\n",
       "    <tr>\n",
       "      <th>99997</th>\n",
       "      <td>09gWa</td>\n",
       "      <td>-7.378891</td>\n",
       "      <td>-3.084104</td>\n",
       "      <td>4.998651</td>\n",
       "      <td>137.945408</td>\n",
       "    </tr>\n",
       "    <tr>\n",
       "      <th>99998</th>\n",
       "      <td>rqwUm</td>\n",
       "      <td>0.665714</td>\n",
       "      <td>-6.152593</td>\n",
       "      <td>1.000146</td>\n",
       "      <td>30.132364</td>\n",
       "    </tr>\n",
       "    <tr>\n",
       "      <th>99999</th>\n",
       "      <td>relB0</td>\n",
       "      <td>-3.426139</td>\n",
       "      <td>-7.794274</td>\n",
       "      <td>-0.003299</td>\n",
       "      <td>3.179103</td>\n",
       "    </tr>\n",
       "  </tbody>\n",
       "</table>\n",
       "<p>100000 rows × 5 columns</p>\n",
       "</div>"
      ],
      "text/plain": [
       "          id         f0         f1        f2     product\n",
       "0      kBEdx -15.001348  -8.276000 -0.005876    3.179103\n",
       "1      62mP7  14.272088  -3.475083  0.999183   26.953261\n",
       "2      vyE1P   6.263187  -5.948386  5.001160  134.766305\n",
       "3      KcrkZ -13.081196 -11.506057  4.999415  137.945408\n",
       "4      AHL4O  12.702195  -8.147433  5.004363  134.766305\n",
       "...      ...        ...        ...       ...         ...\n",
       "99995  QywKC   9.535637  -6.878139  1.998296   53.906522\n",
       "99996  ptvty -10.160631 -12.558096  5.005581  137.945408\n",
       "99997  09gWa  -7.378891  -3.084104  4.998651  137.945408\n",
       "99998  rqwUm   0.665714  -6.152593  1.000146   30.132364\n",
       "99999  relB0  -3.426139  -7.794274 -0.003299    3.179103\n",
       "\n",
       "[100000 rows x 5 columns]"
      ]
     },
     "execution_count": 6,
     "metadata": {},
     "output_type": "execute_result"
    }
   ],
   "source": [
    "# Print a sample of the data for 'data_1'\n",
    "data_1\n"
   ]
  },
  {
   "cell_type": "code",
   "execution_count": 7,
   "metadata": {},
   "outputs": [
    {
     "name": "stdout",
     "output_type": "stream",
     "text": [
      "<class 'pandas.core.frame.DataFrame'>\n",
      "RangeIndex: 100000 entries, 0 to 99999\n",
      "Data columns (total 5 columns):\n",
      " #   Column   Non-Null Count   Dtype  \n",
      "---  ------   --------------   -----  \n",
      " 0   id       100000 non-null  object \n",
      " 1   f0       100000 non-null  float64\n",
      " 2   f1       100000 non-null  float64\n",
      " 3   f2       100000 non-null  float64\n",
      " 4   product  100000 non-null  float64\n",
      "dtypes: float64(4), object(1)\n",
      "memory usage: 3.8+ MB\n"
     ]
    },
    {
     "data": {
      "text/html": [
       "<div>\n",
       "<style scoped>\n",
       "    .dataframe tbody tr th:only-of-type {\n",
       "        vertical-align: middle;\n",
       "    }\n",
       "\n",
       "    .dataframe tbody tr th {\n",
       "        vertical-align: top;\n",
       "    }\n",
       "\n",
       "    .dataframe thead th {\n",
       "        text-align: right;\n",
       "    }\n",
       "</style>\n",
       "<table border=\"1\" class=\"dataframe\">\n",
       "  <thead>\n",
       "    <tr style=\"text-align: right;\">\n",
       "      <th></th>\n",
       "      <th>f0</th>\n",
       "      <th>f1</th>\n",
       "      <th>f2</th>\n",
       "      <th>product</th>\n",
       "    </tr>\n",
       "  </thead>\n",
       "  <tbody>\n",
       "    <tr>\n",
       "      <th>count</th>\n",
       "      <td>100000.000000</td>\n",
       "      <td>100000.000000</td>\n",
       "      <td>100000.000000</td>\n",
       "      <td>100000.000000</td>\n",
       "    </tr>\n",
       "    <tr>\n",
       "      <th>mean</th>\n",
       "      <td>0.002023</td>\n",
       "      <td>-0.002081</td>\n",
       "      <td>2.495128</td>\n",
       "      <td>95.000000</td>\n",
       "    </tr>\n",
       "    <tr>\n",
       "      <th>std</th>\n",
       "      <td>1.732045</td>\n",
       "      <td>1.730417</td>\n",
       "      <td>3.473445</td>\n",
       "      <td>44.749921</td>\n",
       "    </tr>\n",
       "    <tr>\n",
       "      <th>min</th>\n",
       "      <td>-8.760004</td>\n",
       "      <td>-7.084020</td>\n",
       "      <td>-11.970335</td>\n",
       "      <td>0.000000</td>\n",
       "    </tr>\n",
       "    <tr>\n",
       "      <th>25%</th>\n",
       "      <td>-1.162288</td>\n",
       "      <td>-1.174820</td>\n",
       "      <td>0.130359</td>\n",
       "      <td>59.450441</td>\n",
       "    </tr>\n",
       "    <tr>\n",
       "      <th>50%</th>\n",
       "      <td>0.009424</td>\n",
       "      <td>-0.009482</td>\n",
       "      <td>2.484236</td>\n",
       "      <td>94.925613</td>\n",
       "    </tr>\n",
       "    <tr>\n",
       "      <th>75%</th>\n",
       "      <td>1.158535</td>\n",
       "      <td>1.163678</td>\n",
       "      <td>4.858794</td>\n",
       "      <td>130.595027</td>\n",
       "    </tr>\n",
       "    <tr>\n",
       "      <th>max</th>\n",
       "      <td>7.238262</td>\n",
       "      <td>7.844801</td>\n",
       "      <td>16.739402</td>\n",
       "      <td>190.029838</td>\n",
       "    </tr>\n",
       "  </tbody>\n",
       "</table>\n",
       "</div>"
      ],
      "text/plain": [
       "                  f0             f1             f2        product\n",
       "count  100000.000000  100000.000000  100000.000000  100000.000000\n",
       "mean        0.002023      -0.002081       2.495128      95.000000\n",
       "std         1.732045       1.730417       3.473445      44.749921\n",
       "min        -8.760004      -7.084020     -11.970335       0.000000\n",
       "25%        -1.162288      -1.174820       0.130359      59.450441\n",
       "50%         0.009424      -0.009482       2.484236      94.925613\n",
       "75%         1.158535       1.163678       4.858794     130.595027\n",
       "max         7.238262       7.844801      16.739402     190.029838"
      ]
     },
     "execution_count": 7,
     "metadata": {},
     "output_type": "execute_result"
    }
   ],
   "source": [
    "# Print general information about the 'data_2' dataframe\n",
    "data_2.info()\n",
    "data_2.describe()\n"
   ]
  },
  {
   "cell_type": "code",
   "execution_count": 8,
   "metadata": {},
   "outputs": [
    {
     "data": {
      "text/html": [
       "<div>\n",
       "<style scoped>\n",
       "    .dataframe tbody tr th:only-of-type {\n",
       "        vertical-align: middle;\n",
       "    }\n",
       "\n",
       "    .dataframe tbody tr th {\n",
       "        vertical-align: top;\n",
       "    }\n",
       "\n",
       "    .dataframe thead th {\n",
       "        text-align: right;\n",
       "    }\n",
       "</style>\n",
       "<table border=\"1\" class=\"dataframe\">\n",
       "  <thead>\n",
       "    <tr style=\"text-align: right;\">\n",
       "      <th></th>\n",
       "      <th>id</th>\n",
       "      <th>f0</th>\n",
       "      <th>f1</th>\n",
       "      <th>f2</th>\n",
       "      <th>product</th>\n",
       "    </tr>\n",
       "  </thead>\n",
       "  <tbody>\n",
       "    <tr>\n",
       "      <th>0</th>\n",
       "      <td>fwXo0</td>\n",
       "      <td>-1.146987</td>\n",
       "      <td>0.963328</td>\n",
       "      <td>-0.828965</td>\n",
       "      <td>27.758673</td>\n",
       "    </tr>\n",
       "    <tr>\n",
       "      <th>1</th>\n",
       "      <td>WJtFt</td>\n",
       "      <td>0.262778</td>\n",
       "      <td>0.269839</td>\n",
       "      <td>-2.530187</td>\n",
       "      <td>56.069697</td>\n",
       "    </tr>\n",
       "    <tr>\n",
       "      <th>2</th>\n",
       "      <td>ovLUW</td>\n",
       "      <td>0.194587</td>\n",
       "      <td>0.289035</td>\n",
       "      <td>-5.586433</td>\n",
       "      <td>62.871910</td>\n",
       "    </tr>\n",
       "    <tr>\n",
       "      <th>3</th>\n",
       "      <td>q6cA6</td>\n",
       "      <td>2.236060</td>\n",
       "      <td>-0.553760</td>\n",
       "      <td>0.930038</td>\n",
       "      <td>114.572842</td>\n",
       "    </tr>\n",
       "    <tr>\n",
       "      <th>4</th>\n",
       "      <td>WPMUX</td>\n",
       "      <td>-0.515993</td>\n",
       "      <td>1.716266</td>\n",
       "      <td>5.899011</td>\n",
       "      <td>149.600746</td>\n",
       "    </tr>\n",
       "    <tr>\n",
       "      <th>...</th>\n",
       "      <td>...</td>\n",
       "      <td>...</td>\n",
       "      <td>...</td>\n",
       "      <td>...</td>\n",
       "      <td>...</td>\n",
       "    </tr>\n",
       "    <tr>\n",
       "      <th>99995</th>\n",
       "      <td>4GxBu</td>\n",
       "      <td>-1.777037</td>\n",
       "      <td>1.125220</td>\n",
       "      <td>6.263374</td>\n",
       "      <td>172.327046</td>\n",
       "    </tr>\n",
       "    <tr>\n",
       "      <th>99996</th>\n",
       "      <td>YKFjq</td>\n",
       "      <td>-1.261523</td>\n",
       "      <td>-0.894828</td>\n",
       "      <td>2.524545</td>\n",
       "      <td>138.748846</td>\n",
       "    </tr>\n",
       "    <tr>\n",
       "      <th>99997</th>\n",
       "      <td>tKPY3</td>\n",
       "      <td>-1.199934</td>\n",
       "      <td>-2.957637</td>\n",
       "      <td>5.219411</td>\n",
       "      <td>157.080080</td>\n",
       "    </tr>\n",
       "    <tr>\n",
       "      <th>99998</th>\n",
       "      <td>nmxp2</td>\n",
       "      <td>-2.419896</td>\n",
       "      <td>2.417221</td>\n",
       "      <td>-5.548444</td>\n",
       "      <td>51.795253</td>\n",
       "    </tr>\n",
       "    <tr>\n",
       "      <th>99999</th>\n",
       "      <td>V9kWn</td>\n",
       "      <td>-2.551421</td>\n",
       "      <td>-2.025625</td>\n",
       "      <td>6.090891</td>\n",
       "      <td>102.775767</td>\n",
       "    </tr>\n",
       "  </tbody>\n",
       "</table>\n",
       "<p>100000 rows × 5 columns</p>\n",
       "</div>"
      ],
      "text/plain": [
       "          id        f0        f1        f2     product\n",
       "0      fwXo0 -1.146987  0.963328 -0.828965   27.758673\n",
       "1      WJtFt  0.262778  0.269839 -2.530187   56.069697\n",
       "2      ovLUW  0.194587  0.289035 -5.586433   62.871910\n",
       "3      q6cA6  2.236060 -0.553760  0.930038  114.572842\n",
       "4      WPMUX -0.515993  1.716266  5.899011  149.600746\n",
       "...      ...       ...       ...       ...         ...\n",
       "99995  4GxBu -1.777037  1.125220  6.263374  172.327046\n",
       "99996  YKFjq -1.261523 -0.894828  2.524545  138.748846\n",
       "99997  tKPY3 -1.199934 -2.957637  5.219411  157.080080\n",
       "99998  nmxp2 -2.419896  2.417221 -5.548444   51.795253\n",
       "99999  V9kWn -2.551421 -2.025625  6.090891  102.775767\n",
       "\n",
       "[100000 rows x 5 columns]"
      ]
     },
     "execution_count": 8,
     "metadata": {},
     "output_type": "execute_result"
    }
   ],
   "source": [
    "# Print a sample of the data for 'data_2'\n",
    "data_2\n"
   ]
  },
  {
   "cell_type": "markdown",
   "metadata": {},
   "source": [
    "Based on the exploration of the above data, the only issue that needs to be addressed is the 'id' column which should be dropped since it has no relevance to the target. The 'id' column is dropped from the three dataframes below. However, no further cleaning is needed as the numeric data appears to be normalized, there are no missing data points, and no other apparent issues."
   ]
  },
  {
   "cell_type": "markdown",
   "metadata": {},
   "source": [
    "# Clean the data"
   ]
  },
  {
   "cell_type": "code",
   "execution_count": 9,
   "metadata": {},
   "outputs": [
    {
     "data": {
      "text/html": [
       "<div>\n",
       "<style scoped>\n",
       "    .dataframe tbody tr th:only-of-type {\n",
       "        vertical-align: middle;\n",
       "    }\n",
       "\n",
       "    .dataframe tbody tr th {\n",
       "        vertical-align: top;\n",
       "    }\n",
       "\n",
       "    .dataframe thead th {\n",
       "        text-align: right;\n",
       "    }\n",
       "</style>\n",
       "<table border=\"1\" class=\"dataframe\">\n",
       "  <thead>\n",
       "    <tr style=\"text-align: right;\">\n",
       "      <th></th>\n",
       "      <th>f0</th>\n",
       "      <th>f1</th>\n",
       "      <th>f2</th>\n",
       "      <th>product</th>\n",
       "    </tr>\n",
       "  </thead>\n",
       "  <tbody>\n",
       "    <tr>\n",
       "      <th>0</th>\n",
       "      <td>0.705745</td>\n",
       "      <td>-0.497823</td>\n",
       "      <td>1.221170</td>\n",
       "      <td>105.280062</td>\n",
       "    </tr>\n",
       "    <tr>\n",
       "      <th>1</th>\n",
       "      <td>1.334711</td>\n",
       "      <td>-0.340164</td>\n",
       "      <td>4.365080</td>\n",
       "      <td>73.037750</td>\n",
       "    </tr>\n",
       "    <tr>\n",
       "      <th>2</th>\n",
       "      <td>1.022732</td>\n",
       "      <td>0.151990</td>\n",
       "      <td>1.419926</td>\n",
       "      <td>85.265647</td>\n",
       "    </tr>\n",
       "    <tr>\n",
       "      <th>3</th>\n",
       "      <td>-0.032172</td>\n",
       "      <td>0.139033</td>\n",
       "      <td>2.978566</td>\n",
       "      <td>168.620776</td>\n",
       "    </tr>\n",
       "    <tr>\n",
       "      <th>4</th>\n",
       "      <td>1.988431</td>\n",
       "      <td>0.155413</td>\n",
       "      <td>4.751769</td>\n",
       "      <td>154.036647</td>\n",
       "    </tr>\n",
       "    <tr>\n",
       "      <th>...</th>\n",
       "      <td>...</td>\n",
       "      <td>...</td>\n",
       "      <td>...</td>\n",
       "      <td>...</td>\n",
       "    </tr>\n",
       "    <tr>\n",
       "      <th>99995</th>\n",
       "      <td>0.971957</td>\n",
       "      <td>0.370953</td>\n",
       "      <td>6.075346</td>\n",
       "      <td>110.744026</td>\n",
       "    </tr>\n",
       "    <tr>\n",
       "      <th>99996</th>\n",
       "      <td>1.392429</td>\n",
       "      <td>-0.382606</td>\n",
       "      <td>1.273912</td>\n",
       "      <td>122.346843</td>\n",
       "    </tr>\n",
       "    <tr>\n",
       "      <th>99997</th>\n",
       "      <td>1.029585</td>\n",
       "      <td>0.018787</td>\n",
       "      <td>-1.348308</td>\n",
       "      <td>64.375443</td>\n",
       "    </tr>\n",
       "    <tr>\n",
       "      <th>99998</th>\n",
       "      <td>0.998163</td>\n",
       "      <td>-0.528582</td>\n",
       "      <td>1.583869</td>\n",
       "      <td>74.040764</td>\n",
       "    </tr>\n",
       "    <tr>\n",
       "      <th>99999</th>\n",
       "      <td>1.764754</td>\n",
       "      <td>-0.266417</td>\n",
       "      <td>5.722849</td>\n",
       "      <td>149.633246</td>\n",
       "    </tr>\n",
       "  </tbody>\n",
       "</table>\n",
       "<p>100000 rows × 4 columns</p>\n",
       "</div>"
      ],
      "text/plain": [
       "             f0        f1        f2     product\n",
       "0      0.705745 -0.497823  1.221170  105.280062\n",
       "1      1.334711 -0.340164  4.365080   73.037750\n",
       "2      1.022732  0.151990  1.419926   85.265647\n",
       "3     -0.032172  0.139033  2.978566  168.620776\n",
       "4      1.988431  0.155413  4.751769  154.036647\n",
       "...         ...       ...       ...         ...\n",
       "99995  0.971957  0.370953  6.075346  110.744026\n",
       "99996  1.392429 -0.382606  1.273912  122.346843\n",
       "99997  1.029585  0.018787 -1.348308   64.375443\n",
       "99998  0.998163 -0.528582  1.583869   74.040764\n",
       "99999  1.764754 -0.266417  5.722849  149.633246\n",
       "\n",
       "[100000 rows x 4 columns]"
      ]
     },
     "execution_count": 9,
     "metadata": {},
     "output_type": "execute_result"
    }
   ],
   "source": [
    "# Drop the 'id' feature which has no relation to the target from data_0\n",
    "data_0 = data_0.drop(['id'], axis = 1)\n",
    "data_0\n"
   ]
  },
  {
   "cell_type": "code",
   "execution_count": 10,
   "metadata": {},
   "outputs": [
    {
     "data": {
      "text/html": [
       "<div>\n",
       "<style scoped>\n",
       "    .dataframe tbody tr th:only-of-type {\n",
       "        vertical-align: middle;\n",
       "    }\n",
       "\n",
       "    .dataframe tbody tr th {\n",
       "        vertical-align: top;\n",
       "    }\n",
       "\n",
       "    .dataframe thead th {\n",
       "        text-align: right;\n",
       "    }\n",
       "</style>\n",
       "<table border=\"1\" class=\"dataframe\">\n",
       "  <thead>\n",
       "    <tr style=\"text-align: right;\">\n",
       "      <th></th>\n",
       "      <th>f0</th>\n",
       "      <th>f1</th>\n",
       "      <th>f2</th>\n",
       "      <th>product</th>\n",
       "    </tr>\n",
       "  </thead>\n",
       "  <tbody>\n",
       "    <tr>\n",
       "      <th>0</th>\n",
       "      <td>-15.001348</td>\n",
       "      <td>-8.276000</td>\n",
       "      <td>-0.005876</td>\n",
       "      <td>3.179103</td>\n",
       "    </tr>\n",
       "    <tr>\n",
       "      <th>1</th>\n",
       "      <td>14.272088</td>\n",
       "      <td>-3.475083</td>\n",
       "      <td>0.999183</td>\n",
       "      <td>26.953261</td>\n",
       "    </tr>\n",
       "    <tr>\n",
       "      <th>2</th>\n",
       "      <td>6.263187</td>\n",
       "      <td>-5.948386</td>\n",
       "      <td>5.001160</td>\n",
       "      <td>134.766305</td>\n",
       "    </tr>\n",
       "    <tr>\n",
       "      <th>3</th>\n",
       "      <td>-13.081196</td>\n",
       "      <td>-11.506057</td>\n",
       "      <td>4.999415</td>\n",
       "      <td>137.945408</td>\n",
       "    </tr>\n",
       "    <tr>\n",
       "      <th>4</th>\n",
       "      <td>12.702195</td>\n",
       "      <td>-8.147433</td>\n",
       "      <td>5.004363</td>\n",
       "      <td>134.766305</td>\n",
       "    </tr>\n",
       "    <tr>\n",
       "      <th>...</th>\n",
       "      <td>...</td>\n",
       "      <td>...</td>\n",
       "      <td>...</td>\n",
       "      <td>...</td>\n",
       "    </tr>\n",
       "    <tr>\n",
       "      <th>99995</th>\n",
       "      <td>9.535637</td>\n",
       "      <td>-6.878139</td>\n",
       "      <td>1.998296</td>\n",
       "      <td>53.906522</td>\n",
       "    </tr>\n",
       "    <tr>\n",
       "      <th>99996</th>\n",
       "      <td>-10.160631</td>\n",
       "      <td>-12.558096</td>\n",
       "      <td>5.005581</td>\n",
       "      <td>137.945408</td>\n",
       "    </tr>\n",
       "    <tr>\n",
       "      <th>99997</th>\n",
       "      <td>-7.378891</td>\n",
       "      <td>-3.084104</td>\n",
       "      <td>4.998651</td>\n",
       "      <td>137.945408</td>\n",
       "    </tr>\n",
       "    <tr>\n",
       "      <th>99998</th>\n",
       "      <td>0.665714</td>\n",
       "      <td>-6.152593</td>\n",
       "      <td>1.000146</td>\n",
       "      <td>30.132364</td>\n",
       "    </tr>\n",
       "    <tr>\n",
       "      <th>99999</th>\n",
       "      <td>-3.426139</td>\n",
       "      <td>-7.794274</td>\n",
       "      <td>-0.003299</td>\n",
       "      <td>3.179103</td>\n",
       "    </tr>\n",
       "  </tbody>\n",
       "</table>\n",
       "<p>100000 rows × 4 columns</p>\n",
       "</div>"
      ],
      "text/plain": [
       "              f0         f1        f2     product\n",
       "0     -15.001348  -8.276000 -0.005876    3.179103\n",
       "1      14.272088  -3.475083  0.999183   26.953261\n",
       "2       6.263187  -5.948386  5.001160  134.766305\n",
       "3     -13.081196 -11.506057  4.999415  137.945408\n",
       "4      12.702195  -8.147433  5.004363  134.766305\n",
       "...          ...        ...       ...         ...\n",
       "99995   9.535637  -6.878139  1.998296   53.906522\n",
       "99996 -10.160631 -12.558096  5.005581  137.945408\n",
       "99997  -7.378891  -3.084104  4.998651  137.945408\n",
       "99998   0.665714  -6.152593  1.000146   30.132364\n",
       "99999  -3.426139  -7.794274 -0.003299    3.179103\n",
       "\n",
       "[100000 rows x 4 columns]"
      ]
     },
     "execution_count": 10,
     "metadata": {},
     "output_type": "execute_result"
    }
   ],
   "source": [
    "# Drop the 'id' feature which has no relation to the target from data_0\n",
    "data_1 = data_1.drop(['id'], axis = 1)\n",
    "data_1\n"
   ]
  },
  {
   "cell_type": "code",
   "execution_count": 11,
   "metadata": {},
   "outputs": [
    {
     "data": {
      "text/html": [
       "<div>\n",
       "<style scoped>\n",
       "    .dataframe tbody tr th:only-of-type {\n",
       "        vertical-align: middle;\n",
       "    }\n",
       "\n",
       "    .dataframe tbody tr th {\n",
       "        vertical-align: top;\n",
       "    }\n",
       "\n",
       "    .dataframe thead th {\n",
       "        text-align: right;\n",
       "    }\n",
       "</style>\n",
       "<table border=\"1\" class=\"dataframe\">\n",
       "  <thead>\n",
       "    <tr style=\"text-align: right;\">\n",
       "      <th></th>\n",
       "      <th>f0</th>\n",
       "      <th>f1</th>\n",
       "      <th>f2</th>\n",
       "      <th>product</th>\n",
       "    </tr>\n",
       "  </thead>\n",
       "  <tbody>\n",
       "    <tr>\n",
       "      <th>0</th>\n",
       "      <td>-1.146987</td>\n",
       "      <td>0.963328</td>\n",
       "      <td>-0.828965</td>\n",
       "      <td>27.758673</td>\n",
       "    </tr>\n",
       "    <tr>\n",
       "      <th>1</th>\n",
       "      <td>0.262778</td>\n",
       "      <td>0.269839</td>\n",
       "      <td>-2.530187</td>\n",
       "      <td>56.069697</td>\n",
       "    </tr>\n",
       "    <tr>\n",
       "      <th>2</th>\n",
       "      <td>0.194587</td>\n",
       "      <td>0.289035</td>\n",
       "      <td>-5.586433</td>\n",
       "      <td>62.871910</td>\n",
       "    </tr>\n",
       "    <tr>\n",
       "      <th>3</th>\n",
       "      <td>2.236060</td>\n",
       "      <td>-0.553760</td>\n",
       "      <td>0.930038</td>\n",
       "      <td>114.572842</td>\n",
       "    </tr>\n",
       "    <tr>\n",
       "      <th>4</th>\n",
       "      <td>-0.515993</td>\n",
       "      <td>1.716266</td>\n",
       "      <td>5.899011</td>\n",
       "      <td>149.600746</td>\n",
       "    </tr>\n",
       "    <tr>\n",
       "      <th>...</th>\n",
       "      <td>...</td>\n",
       "      <td>...</td>\n",
       "      <td>...</td>\n",
       "      <td>...</td>\n",
       "    </tr>\n",
       "    <tr>\n",
       "      <th>99995</th>\n",
       "      <td>-1.777037</td>\n",
       "      <td>1.125220</td>\n",
       "      <td>6.263374</td>\n",
       "      <td>172.327046</td>\n",
       "    </tr>\n",
       "    <tr>\n",
       "      <th>99996</th>\n",
       "      <td>-1.261523</td>\n",
       "      <td>-0.894828</td>\n",
       "      <td>2.524545</td>\n",
       "      <td>138.748846</td>\n",
       "    </tr>\n",
       "    <tr>\n",
       "      <th>99997</th>\n",
       "      <td>-1.199934</td>\n",
       "      <td>-2.957637</td>\n",
       "      <td>5.219411</td>\n",
       "      <td>157.080080</td>\n",
       "    </tr>\n",
       "    <tr>\n",
       "      <th>99998</th>\n",
       "      <td>-2.419896</td>\n",
       "      <td>2.417221</td>\n",
       "      <td>-5.548444</td>\n",
       "      <td>51.795253</td>\n",
       "    </tr>\n",
       "    <tr>\n",
       "      <th>99999</th>\n",
       "      <td>-2.551421</td>\n",
       "      <td>-2.025625</td>\n",
       "      <td>6.090891</td>\n",
       "      <td>102.775767</td>\n",
       "    </tr>\n",
       "  </tbody>\n",
       "</table>\n",
       "<p>100000 rows × 4 columns</p>\n",
       "</div>"
      ],
      "text/plain": [
       "             f0        f1        f2     product\n",
       "0     -1.146987  0.963328 -0.828965   27.758673\n",
       "1      0.262778  0.269839 -2.530187   56.069697\n",
       "2      0.194587  0.289035 -5.586433   62.871910\n",
       "3      2.236060 -0.553760  0.930038  114.572842\n",
       "4     -0.515993  1.716266  5.899011  149.600746\n",
       "...         ...       ...       ...         ...\n",
       "99995 -1.777037  1.125220  6.263374  172.327046\n",
       "99996 -1.261523 -0.894828  2.524545  138.748846\n",
       "99997 -1.199934 -2.957637  5.219411  157.080080\n",
       "99998 -2.419896  2.417221 -5.548444   51.795253\n",
       "99999 -2.551421 -2.025625  6.090891  102.775767\n",
       "\n",
       "[100000 rows x 4 columns]"
      ]
     },
     "execution_count": 11,
     "metadata": {},
     "output_type": "execute_result"
    }
   ],
   "source": [
    "# Drop the 'id' feature which has no relation to the target from data_0\n",
    "data_2 = data_2.drop(['id'], axis = 1)\n",
    "data_2\n"
   ]
  },
  {
   "cell_type": "markdown",
   "metadata": {},
   "source": [
    "# Train and test the model for each region"
   ]
  },
  {
   "cell_type": "code",
   "execution_count": 12,
   "metadata": {},
   "outputs": [],
   "source": [
    "# Split data_0 into a training set and validation set at a ratio of 75:25\n",
    "features = data_0.drop(['product'], axis=1) # The features consists of all the columns except 'product'\n",
    "target = data_0['product'] # The target is the 'product' column\n",
    "\n",
    "# Use train_test_split to create the training set (75% of the data) and the validation set (25% of the data)\n",
    "features_train_0, features_valid_0, target_train_0, target_valid_0 = train_test_split(features,\n",
    "                                                                          target,\n",
    "                                                                          train_size = 0.75,\n",
    "                                                                          random_state = 12345)\n"
   ]
  },
  {
   "cell_type": "code",
   "execution_count": 13,
   "metadata": {},
   "outputs": [
    {
     "data": {
      "text/plain": [
       "LinearRegression()"
      ]
     },
     "execution_count": 13,
     "metadata": {},
     "output_type": "execute_result"
    }
   ],
   "source": [
    "# Train the model and make predictions for the validation set\n",
    "model_0 = LinearRegression()\n",
    "model_0.fit(features_train_0, target_train_0)\n"
   ]
  },
  {
   "cell_type": "code",
   "execution_count": 14,
   "metadata": {},
   "outputs": [
    {
     "data": {
      "text/html": [
       "<div>\n",
       "<style scoped>\n",
       "    .dataframe tbody tr th:only-of-type {\n",
       "        vertical-align: middle;\n",
       "    }\n",
       "\n",
       "    .dataframe tbody tr th {\n",
       "        vertical-align: top;\n",
       "    }\n",
       "\n",
       "    .dataframe thead th {\n",
       "        text-align: right;\n",
       "    }\n",
       "</style>\n",
       "<table border=\"1\" class=\"dataframe\">\n",
       "  <thead>\n",
       "    <tr style=\"text-align: right;\">\n",
       "      <th></th>\n",
       "      <th>predictions</th>\n",
       "      <th>product</th>\n",
       "    </tr>\n",
       "  </thead>\n",
       "  <tbody>\n",
       "    <tr>\n",
       "      <th>0</th>\n",
       "      <td>95.894952</td>\n",
       "      <td>10.038645</td>\n",
       "    </tr>\n",
       "    <tr>\n",
       "      <th>1</th>\n",
       "      <td>77.572583</td>\n",
       "      <td>114.551489</td>\n",
       "    </tr>\n",
       "    <tr>\n",
       "      <th>2</th>\n",
       "      <td>77.892640</td>\n",
       "      <td>132.603635</td>\n",
       "    </tr>\n",
       "    <tr>\n",
       "      <th>3</th>\n",
       "      <td>90.175134</td>\n",
       "      <td>169.072125</td>\n",
       "    </tr>\n",
       "    <tr>\n",
       "      <th>4</th>\n",
       "      <td>70.510088</td>\n",
       "      <td>122.325180</td>\n",
       "    </tr>\n",
       "  </tbody>\n",
       "</table>\n",
       "</div>"
      ],
      "text/plain": [
       "   predictions     product\n",
       "0    95.894952   10.038645\n",
       "1    77.572583  114.551489\n",
       "2    77.892640  132.603635\n",
       "3    90.175134  169.072125\n",
       "4    70.510088  122.325180"
      ]
     },
     "execution_count": 14,
     "metadata": {},
     "output_type": "execute_result"
    }
   ],
   "source": [
    "# Save the predictions and correct answers for the validation set for Region 0\n",
    "predictions_valid_0 = model_0.predict(features_valid_0)\n",
    "pred_real_0 = pd.merge(pd.Series(predictions_valid_0, name = 'predictions'), target_valid_0.reset_index(drop=True), right_index=True, left_index=True).reset_index(drop=True)\n",
    "pred_real_0.head()\n"
   ]
  },
  {
   "cell_type": "code",
   "execution_count": 15,
   "metadata": {},
   "outputs": [
    {
     "name": "stdout",
     "output_type": "stream",
     "text": [
      "Average volume of predicted reserves in Region 0: 92.59256778438035\n",
      "RMSE of the linear regression model on the validation set: 37.5794217150813\n",
      "Scaled RSME: 0.4058578632638446\n"
     ]
    }
   ],
   "source": [
    "# Print the average volume of predicted reserves and model RMSE\n",
    "print(f'Average volume of predicted reserves in Region 0: {predictions_valid_0.mean()}')\n",
    "result_0 = (mean_squared_error(target_valid_0, predictions_valid_0)) ** 0.5\n",
    "print(\"RMSE of the linear regression model on the validation set:\", result_0)\n",
    "print(f'Scaled RSME: {result_0/predictions_valid_0.mean()}')\n"
   ]
  },
  {
   "cell_type": "code",
   "execution_count": 16,
   "metadata": {},
   "outputs": [],
   "source": [
    "# Split data_1 into a training set and validation set at a ratio of 75:25\n",
    "features = data_1.drop(['product'], axis=1) # The features consists of all the columns except 'product'\n",
    "target = data_1['product'] # The target is the 'product' column\n",
    "\n",
    "# Use train_test_split to create the training set (75% of the data) and the validation set (25% of the data)\n",
    "features_train_1, features_valid_1, target_train_1, target_valid_1 = train_test_split(features,\n",
    "                                                                          target,\n",
    "                                                                          train_size = 0.75,\n",
    "                                                                          random_state = 12345)\n"
   ]
  },
  {
   "cell_type": "code",
   "execution_count": 17,
   "metadata": {},
   "outputs": [
    {
     "data": {
      "text/plain": [
       "LinearRegression()"
      ]
     },
     "execution_count": 17,
     "metadata": {},
     "output_type": "execute_result"
    }
   ],
   "source": [
    "# Train the model and make predictions for the validation set\n",
    "model_1 = LinearRegression()\n",
    "model_1.fit(features_train_1, target_train_1)\n"
   ]
  },
  {
   "cell_type": "code",
   "execution_count": 18,
   "metadata": {},
   "outputs": [
    {
     "data": {
      "text/html": [
       "<div>\n",
       "<style scoped>\n",
       "    .dataframe tbody tr th:only-of-type {\n",
       "        vertical-align: middle;\n",
       "    }\n",
       "\n",
       "    .dataframe tbody tr th {\n",
       "        vertical-align: top;\n",
       "    }\n",
       "\n",
       "    .dataframe thead th {\n",
       "        text-align: right;\n",
       "    }\n",
       "</style>\n",
       "<table border=\"1\" class=\"dataframe\">\n",
       "  <thead>\n",
       "    <tr style=\"text-align: right;\">\n",
       "      <th></th>\n",
       "      <th>predictions</th>\n",
       "      <th>product</th>\n",
       "    </tr>\n",
       "  </thead>\n",
       "  <tbody>\n",
       "    <tr>\n",
       "      <th>0</th>\n",
       "      <td>82.663314</td>\n",
       "      <td>80.859783</td>\n",
       "    </tr>\n",
       "    <tr>\n",
       "      <th>1</th>\n",
       "      <td>54.431786</td>\n",
       "      <td>53.906522</td>\n",
       "    </tr>\n",
       "    <tr>\n",
       "      <th>2</th>\n",
       "      <td>29.748760</td>\n",
       "      <td>30.132364</td>\n",
       "    </tr>\n",
       "    <tr>\n",
       "      <th>3</th>\n",
       "      <td>53.552133</td>\n",
       "      <td>53.906522</td>\n",
       "    </tr>\n",
       "    <tr>\n",
       "      <th>4</th>\n",
       "      <td>1.243856</td>\n",
       "      <td>0.000000</td>\n",
       "    </tr>\n",
       "  </tbody>\n",
       "</table>\n",
       "</div>"
      ],
      "text/plain": [
       "   predictions    product\n",
       "0    82.663314  80.859783\n",
       "1    54.431786  53.906522\n",
       "2    29.748760  30.132364\n",
       "3    53.552133  53.906522\n",
       "4     1.243856   0.000000"
      ]
     },
     "execution_count": 18,
     "metadata": {},
     "output_type": "execute_result"
    }
   ],
   "source": [
    "# Save the predictions and correct answers for the validation set for Region 0\n",
    "predictions_valid_1 = model_1.predict(features_valid_1)\n",
    "pred_real_1 = pd.merge(pd.Series(predictions_valid_1, name = 'predictions'), target_valid_1.reset_index(drop=True), right_index=True, left_index=True).reset_index(drop=True)\n",
    "pred_real_1.head()\n"
   ]
  },
  {
   "cell_type": "code",
   "execution_count": 19,
   "metadata": {},
   "outputs": [
    {
     "name": "stdout",
     "output_type": "stream",
     "text": [
      "Average volume of predicted reserves in Region 1: 68.728546895446\n",
      "RMSE of the linear regression model on the validation set: 0.893099286775617\n",
      "Scaled RMSE: 0.012994589979244773\n"
     ]
    }
   ],
   "source": [
    "# Print the average volume of predicted reserves and model RMSE\n",
    "print(f'Average volume of predicted reserves in Region 1: {predictions_valid_1.mean()}')\n",
    "result_1 = (mean_squared_error(target_valid_1, predictions_valid_1)) ** 0.5\n",
    "print(\"RMSE of the linear regression model on the validation set:\", result_1)\n",
    "print(f'Scaled RMSE: {result_1/predictions_valid_1.mean()}')\n"
   ]
  },
  {
   "cell_type": "code",
   "execution_count": 20,
   "metadata": {},
   "outputs": [],
   "source": [
    "# Split data_2 into a training set and validation set at a ratio of 75:25\n",
    "features = data_2.drop(['product'], axis=1) # The features consists of all the columns except 'product'\n",
    "target = data_2['product'] # The target is the 'product' column\n",
    "\n",
    "# Use train_test_split to create the training set (75% of the data) and the validation set (25% of the data)\n",
    "features_train_2, features_valid_2, target_train_2, target_valid_2 = train_test_split(features,\n",
    "                                                                          target,\n",
    "                                                                          train_size = 0.75,\n",
    "                                                                          random_state = 12345)\n"
   ]
  },
  {
   "cell_type": "code",
   "execution_count": 21,
   "metadata": {},
   "outputs": [
    {
     "data": {
      "text/plain": [
       "LinearRegression()"
      ]
     },
     "execution_count": 21,
     "metadata": {},
     "output_type": "execute_result"
    }
   ],
   "source": [
    "# Train the model and make predictions for the validation set\n",
    "model_2 = LinearRegression()\n",
    "model_2.fit(features_train_2, target_train_2)\n"
   ]
  },
  {
   "cell_type": "code",
   "execution_count": 22,
   "metadata": {},
   "outputs": [
    {
     "data": {
      "text/html": [
       "<div>\n",
       "<style scoped>\n",
       "    .dataframe tbody tr th:only-of-type {\n",
       "        vertical-align: middle;\n",
       "    }\n",
       "\n",
       "    .dataframe tbody tr th {\n",
       "        vertical-align: top;\n",
       "    }\n",
       "\n",
       "    .dataframe thead th {\n",
       "        text-align: right;\n",
       "    }\n",
       "</style>\n",
       "<table border=\"1\" class=\"dataframe\">\n",
       "  <thead>\n",
       "    <tr style=\"text-align: right;\">\n",
       "      <th></th>\n",
       "      <th>predictions</th>\n",
       "      <th>product</th>\n",
       "    </tr>\n",
       "  </thead>\n",
       "  <tbody>\n",
       "    <tr>\n",
       "      <th>0</th>\n",
       "      <td>93.599633</td>\n",
       "      <td>61.212375</td>\n",
       "    </tr>\n",
       "    <tr>\n",
       "      <th>1</th>\n",
       "      <td>75.105159</td>\n",
       "      <td>41.850118</td>\n",
       "    </tr>\n",
       "    <tr>\n",
       "      <th>2</th>\n",
       "      <td>90.066809</td>\n",
       "      <td>57.776581</td>\n",
       "    </tr>\n",
       "    <tr>\n",
       "      <th>3</th>\n",
       "      <td>105.162375</td>\n",
       "      <td>100.053761</td>\n",
       "    </tr>\n",
       "    <tr>\n",
       "      <th>4</th>\n",
       "      <td>115.303310</td>\n",
       "      <td>109.897122</td>\n",
       "    </tr>\n",
       "  </tbody>\n",
       "</table>\n",
       "</div>"
      ],
      "text/plain": [
       "   predictions     product\n",
       "0    93.599633   61.212375\n",
       "1    75.105159   41.850118\n",
       "2    90.066809   57.776581\n",
       "3   105.162375  100.053761\n",
       "4   115.303310  109.897122"
      ]
     },
     "execution_count": 22,
     "metadata": {},
     "output_type": "execute_result"
    }
   ],
   "source": [
    "# Save the predictions and correct answers for the validation set for Region 2\n",
    "predictions_valid_2 = model_2.predict(features_valid_2)\n",
    "pred_real_2 = pd.merge(pd.Series(predictions_valid_2, name = 'predictions'), target_valid_2.reset_index(drop=True), right_index=True, left_index=True).reset_index(drop=True)\n",
    "pred_real_2.head()\n"
   ]
  },
  {
   "cell_type": "code",
   "execution_count": 23,
   "metadata": {},
   "outputs": [
    {
     "name": "stdout",
     "output_type": "stream",
     "text": [
      "Average volume of predicted reserves in Region 2: 94.96504596800489\n",
      "RMSE of the linear regression model on the validation set: 40.02970873393434\n",
      "Scaled RSME: 0.42152044813858075\n"
     ]
    }
   ],
   "source": [
    "# Print the average volume of predicted reserves and model RMSE\n",
    "print(f'Average volume of predicted reserves in Region 2: {predictions_valid_2.mean()}')\n",
    "result_2 = (mean_squared_error(target_valid_2, predictions_valid_2)) ** 0.5\n",
    "print(\"RMSE of the linear regression model on the validation set:\", result_2)\n",
    "print(f'Scaled RSME: {result_2/predictions_valid_2.mean()}')\n"
   ]
  },
  {
   "cell_type": "markdown",
   "metadata": {},
   "source": [
    "Based on the above analysis, Region 2 had the highest average volume of predicted reserves (95.0), Region 0 had the next highest average volume (92.6) and Region 1 had the lowest average volume (68.7). However, the RMSE for Region 1 was far lower than that of Region 2 and Region 0, even when it was scaled. This indicates that the model poorly fits the data from Region 2 and 0."
   ]
  },
  {
   "cell_type": "markdown",
   "metadata": {},
   "source": [
    "Got it, I tried to organize and break up the code based on the project instructions so it would be easy to grade and follow but will keep this in mind for future projects!"
   ]
  },
  {
   "cell_type": "markdown",
   "metadata": {},
   "source": [
    "# Prepare for profit calculation"
   ]
  },
  {
   "cell_type": "code",
   "execution_count": 24,
   "metadata": {},
   "outputs": [],
   "source": [
    "# Store all key values for calculations in separate variables\n",
    "UNIT_DEVELOPMENT_BUDGET = 100000000/200\n",
    "UNIT_REVENUE = 4500\n"
   ]
  },
  {
   "cell_type": "markdown",
   "metadata": {},
   "source": [
    "I didn't realize this was a convention! Thank you for letting me know!"
   ]
  },
  {
   "cell_type": "code",
   "execution_count": 25,
   "metadata": {},
   "outputs": [
    {
     "name": "stdout",
     "output_type": "stream",
     "text": [
      "Volume of reserves sufficient for developing a new well without losses: 111.11111111111111\n"
     ]
    }
   ],
   "source": [
    "# Calculate the volume of reserves sufficient for developing a new well without losses.\n",
    "# Compare the obtained value with the average volume of reserves in each region\n",
    "SUFFICIENT_VOLUME = UNIT_DEVELOPMENT_BUDGET / UNIT_REVENUE\n",
    "print(f'Volume of reserves sufficient for developing a new well without losses: {SUFFICIENT_VOLUME}')\n"
   ]
  },
  {
   "cell_type": "markdown",
   "metadata": {},
   "source": [
    "Based on the above calculation, each well must produce 111.11 units of volume in order to prevent financial loss. However, based on the calculated average volumes of reserves for each region, none of the Regions have averages greater than the sufficient volume.\n"
   ]
  },
  {
   "cell_type": "markdown",
   "metadata": {},
   "source": [
    "# Write a function to calculate profit from a set of selected oil wells and model predictions"
   ]
  },
  {
   "cell_type": "code",
   "execution_count": 26,
   "metadata": {},
   "outputs": [],
   "source": [
    "# Write a function to calculate profit for the selected oil wells and model predictions. Pick 200 wells with the highest values of predictions\n",
    "def calculate_profit(pred_real):\n",
    "    pred_real = pred_real.nlargest(200, 'predictions')\n",
    "    return (pred_real['product'].sum() * 4500 - 100000000)\n"
   ]
  },
  {
   "cell_type": "code",
   "execution_count": 27,
   "metadata": {},
   "outputs": [
    {
     "data": {
      "text/plain": [
       "33208260.43139851"
      ]
     },
     "execution_count": 27,
     "metadata": {},
     "output_type": "execute_result"
    }
   ],
   "source": [
    "# Calculate profits for Region 0\n",
    "region_0_profit = calculate_profit(pred_real_0)\n",
    "region_0_profit\n"
   ]
  },
  {
   "cell_type": "code",
   "execution_count": 28,
   "metadata": {},
   "outputs": [
    {
     "data": {
      "text/plain": [
       "24150866.966815114"
      ]
     },
     "execution_count": 28,
     "metadata": {},
     "output_type": "execute_result"
    }
   ],
   "source": [
    "# Calculate profits for Region 1\n",
    "region_1_profit = calculate_profit(pred_real_1)\n",
    "region_1_profit\n"
   ]
  },
  {
   "cell_type": "code",
   "execution_count": 29,
   "metadata": {},
   "outputs": [
    {
     "data": {
      "text/plain": [
       "27103499.635998324"
      ]
     },
     "execution_count": 29,
     "metadata": {},
     "output_type": "execute_result"
    }
   ],
   "source": [
    "# Calculate profits for Region 2\n",
    "region_2_profit = calculate_profit(pred_real_2)\n",
    "region_2_profit\n"
   ]
  },
  {
   "cell_type": "markdown",
   "metadata": {},
   "source": [
    "The calculated profits show that the most profitable area is Region 0 with (32,208,260 USD) which points towards choosing Region 0 for oil well development."
   ]
  },
  {
   "cell_type": "markdown",
   "metadata": {},
   "source": [
    "# Calculate risks and profit for each region"
   ]
  },
  {
   "cell_type": "code",
   "execution_count": 30,
   "metadata": {},
   "outputs": [
    {
     "data": {
      "text/plain": [
       "0      6.054641e+06\n",
       "1      5.363934e+06\n",
       "2      2.937858e+06\n",
       "3      1.789934e+06\n",
       "4      2.719929e+06\n",
       "           ...     \n",
       "995    5.253551e+06\n",
       "996    7.790094e+06\n",
       "997    6.494122e+06\n",
       "998    3.149995e+06\n",
       "999    2.197184e+06\n",
       "Length: 1000, dtype: float64"
      ]
     },
     "execution_count": 30,
     "metadata": {},
     "output_type": "execute_result"
    }
   ],
   "source": [
    "# Use the bootstrapping technique with 1000 samples to find the distribution of profit for Region 0\n",
    "state = np.random.RandomState(12345)\n",
    "profits_0 = []\n",
    "for i in range(1000):\n",
    "    subsample_0 = pred_real_0.sample(500, replace = True, random_state = state)\n",
    "    profits_0.append(calculate_profit(subsample_0))\n",
    "\n",
    "profits_0 = pd.Series(profits_0)\n",
    "profits_0\n"
   ]
  },
  {
   "cell_type": "code",
   "execution_count": 31,
   "metadata": {},
   "outputs": [
    {
     "data": {
      "text/plain": [
       "0      2.280162e+06\n",
       "1      3.343157e+06\n",
       "2      2.537047e+06\n",
       "3      6.139661e+06\n",
       "4      3.571430e+06\n",
       "           ...     \n",
       "995    6.831945e+06\n",
       "996    6.468698e+06\n",
       "997    2.386523e+06\n",
       "998    4.142425e+06\n",
       "999    1.245778e+06\n",
       "Length: 1000, dtype: float64"
      ]
     },
     "execution_count": 31,
     "metadata": {},
     "output_type": "execute_result"
    }
   ],
   "source": [
    "# Use the bootstrapping technique with 1000 samples to find the distribution of profit for Region 1\n",
    "state = np.random.RandomState(12345)\n",
    "profits_1 = []\n",
    "for i in range(1000):\n",
    "    subsample_1 = pred_real_1.sample(500, replace = True, random_state = state)\n",
    "    profits_1.append(calculate_profit(subsample_1))\n",
    "\n",
    "profits_1 = pd.Series(profits_1)\n",
    "profits_1\n"
   ]
  },
  {
   "cell_type": "code",
   "execution_count": 32,
   "metadata": {},
   "outputs": [
    {
     "data": {
      "text/plain": [
       "0     -7.189923e+05\n",
       "1      6.459964e+06\n",
       "2      6.261756e+06\n",
       "3      4.123517e+06\n",
       "4     -5.596049e+05\n",
       "           ...     \n",
       "995    5.668660e+06\n",
       "996   -5.850207e+05\n",
       "997    5.902561e+06\n",
       "998    4.977628e+06\n",
       "999    2.009241e+06\n",
       "Length: 1000, dtype: float64"
      ]
     },
     "execution_count": 32,
     "metadata": {},
     "output_type": "execute_result"
    }
   ],
   "source": [
    "# Use the bootstrapping technique with 1000 samples to find the distribution of profit for Region 1\n",
    "state = np.random.RandomState(12345)\n",
    "profits_2 = []\n",
    "for i in range(1000):\n",
    "    subsample_2 = pred_real_2.sample(500, replace = True, random_state = state)\n",
    "    profits_2.append(calculate_profit(subsample_2))\n",
    "\n",
    "profits_2 = pd.Series(profits_2)\n",
    "profits_2\n"
   ]
  },
  {
   "cell_type": "code",
   "execution_count": 33,
   "metadata": {},
   "outputs": [
    {
     "name": "stdout",
     "output_type": "stream",
     "text": [
      "Average profit: 3961649.8480237117\n",
      "95% confidence interval: [-1112155.4589049604, 9097669.41553423]\n",
      "Risk of losses: 6.9%\n"
     ]
    }
   ],
   "source": [
    "# Find average profit, 95% confidence interval and risk of losses for Region 0\n",
    "# Loss is negative profit, calculate it as a probability and then express as a percentage.\n",
    "print(f'Average profit: {profits_0.mean()}')\n",
    "      \n",
    "lower = profits_0.quantile(0.025)\n",
    "upper = profits_0.quantile(0.975)\n",
    "print(f'95% confidence interval: [{lower}, {upper}]')\n",
    "\n",
    "print(f'Risk of losses: {(profits_0 < 0).mean() * 100}%')\n"
   ]
  },
  {
   "cell_type": "markdown",
   "metadata": {},
   "source": [
    "Thank you for this suggestion!"
   ]
  },
  {
   "cell_type": "code",
   "execution_count": 34,
   "metadata": {},
   "outputs": [
    {
     "name": "stdout",
     "output_type": "stream",
     "text": [
      "Average profit: 4560451.057866608\n",
      "95% confidence interval: [338205.0939898458, 8522894.538660347]\n",
      "Risk of losses: 1.5%\n"
     ]
    }
   ],
   "source": [
    "# Find average profit, 95% confidence interval and risk of losses for Region 1\n",
    "# Loss is negative profit, calculate it as a probability and then express as a percentage.\n",
    "print(f'Average profit: {profits_1.mean()}')\n",
    "      \n",
    "lower = profits_1.quantile(0.025)\n",
    "upper = profits_1.quantile(0.975)\n",
    "print(f'95% confidence interval: [{lower}, {upper}]')\n",
    "\n",
    "print(f'Risk of losses: {(profits_1 < 0).mean() * 100}%')\n"
   ]
  },
  {
   "cell_type": "code",
   "execution_count": 35,
   "metadata": {},
   "outputs": [
    {
     "name": "stdout",
     "output_type": "stream",
     "text": [
      "Average profit: 4044038.665683568\n",
      "95% confidence interval: [-1633504.1339559986, 9503595.749237997]\n",
      "Risk of losses: 7.6%\n"
     ]
    }
   ],
   "source": [
    "# Find average profit, 95% confidence interval and risk of losses for Region 2\n",
    "# Loss is negative profit, calculate it as a probability and then express as a percentage.\n",
    "print(f'Average profit: {profits_2.mean()}')\n",
    "      \n",
    "lower = profits_2.quantile(0.025)\n",
    "upper = profits_2.quantile(0.975)\n",
    "print(f'95% confidence interval: [{lower}, {upper}]')\n",
    "\n",
    "print(f'Risk of losses: {(profits_2 < 0).mean() * 100}%')\n"
   ]
  },
  {
   "cell_type": "markdown",
   "metadata": {},
   "source": [
    "Based on the average profits, confidence intervals, risk of losses, and RMSE, the Region that I would recommend overall would be **Region 1**. The reason being that Region 1 has the highest average profit, a risk of losses that is still below 2.5%, and the lowest RMSE for the linear regression model. "
   ]
  },
  {
   "cell_type": "code",
   "execution_count": null,
   "metadata": {},
   "outputs": [],
   "source": []
  }
 ],
 "metadata": {
  "ExecuteTimeLog": [
   {
    "duration": 1638,
    "start_time": "2022-05-17T20:11:05.233Z"
   },
   {
    "duration": 1683,
    "start_time": "2022-05-17T20:14:09.400Z"
   },
   {
    "duration": 124,
    "start_time": "2022-05-17T20:42:20.258Z"
   },
   {
    "duration": 49,
    "start_time": "2022-05-17T20:42:43.193Z"
   },
   {
    "duration": 42,
    "start_time": "2022-05-17T20:42:56.590Z"
   },
   {
    "duration": 13,
    "start_time": "2022-05-17T20:43:24.466Z"
   },
   {
    "duration": 12,
    "start_time": "2022-05-17T20:43:42.266Z"
   },
   {
    "duration": 30,
    "start_time": "2022-05-17T20:43:52.335Z"
   },
   {
    "duration": 1416,
    "start_time": "2022-05-23T02:42:17.216Z"
   },
   {
    "duration": 854,
    "start_time": "2022-05-23T02:42:18.634Z"
   },
   {
    "duration": 131,
    "start_time": "2022-05-23T02:42:19.491Z"
   },
   {
    "duration": 13,
    "start_time": "2022-05-23T02:42:19.624Z"
   },
   {
    "duration": 86,
    "start_time": "2022-05-23T02:42:19.640Z"
   },
   {
    "duration": 15,
    "start_time": "2022-05-23T02:42:19.728Z"
   },
   {
    "duration": 52,
    "start_time": "2022-05-23T02:42:19.745Z"
   },
   {
    "duration": 40,
    "start_time": "2022-05-23T02:42:19.798Z"
   },
   {
    "duration": 18,
    "start_time": "2022-05-23T02:42:26.387Z"
   },
   {
    "duration": 15,
    "start_time": "2022-05-23T02:42:57.421Z"
   },
   {
    "duration": 15,
    "start_time": "2022-05-23T02:42:58.780Z"
   },
   {
    "duration": 16,
    "start_time": "2022-05-23T02:50:20.161Z"
   },
   {
    "duration": 16,
    "start_time": "2022-05-23T02:51:18.440Z"
   },
   {
    "duration": 21,
    "start_time": "2022-05-23T02:53:15.648Z"
   },
   {
    "duration": 16,
    "start_time": "2022-05-23T02:58:01.240Z"
   },
   {
    "duration": 11,
    "start_time": "2022-05-23T02:58:05.904Z"
   },
   {
    "duration": 141,
    "start_time": "2022-05-23T02:58:16.302Z"
   },
   {
    "duration": 3,
    "start_time": "2022-05-23T02:58:31.582Z"
   },
   {
    "duration": 14,
    "start_time": "2022-05-23T02:58:39.430Z"
   },
   {
    "duration": 5,
    "start_time": "2022-05-23T02:58:52.711Z"
   },
   {
    "duration": 16,
    "start_time": "2022-05-23T02:59:12.876Z"
   },
   {
    "duration": 5,
    "start_time": "2022-05-23T02:59:47.604Z"
   },
   {
    "duration": 6,
    "start_time": "2022-05-23T03:00:04.775Z"
   },
   {
    "duration": 14,
    "start_time": "2022-05-23T03:00:14.562Z"
   },
   {
    "duration": 6,
    "start_time": "2022-05-23T03:00:17.073Z"
   },
   {
    "duration": 4,
    "start_time": "2022-05-23T03:00:17.871Z"
   },
   {
    "duration": 16,
    "start_time": "2022-05-23T03:00:23.845Z"
   },
   {
    "duration": 16,
    "start_time": "2022-05-23T03:00:39.431Z"
   },
   {
    "duration": 9,
    "start_time": "2022-05-23T03:00:48.031Z"
   },
   {
    "duration": 5,
    "start_time": "2022-05-23T03:01:08.471Z"
   },
   {
    "duration": 12,
    "start_time": "2022-05-23T03:01:18.583Z"
   },
   {
    "duration": 14,
    "start_time": "2022-05-23T03:01:19.287Z"
   },
   {
    "duration": 5,
    "start_time": "2022-05-23T03:01:20.572Z"
   },
   {
    "duration": 3,
    "start_time": "2022-05-23T03:01:25.377Z"
   },
   {
    "duration": 1523,
    "start_time": "2022-05-23T20:26:53.480Z"
   },
   {
    "duration": 2340,
    "start_time": "2022-05-23T20:26:55.010Z"
   },
   {
    "duration": 76,
    "start_time": "2022-05-23T20:26:57.353Z"
   },
   {
    "duration": 18,
    "start_time": "2022-05-23T20:26:57.431Z"
   },
   {
    "duration": 82,
    "start_time": "2022-05-23T20:26:57.452Z"
   },
   {
    "duration": 18,
    "start_time": "2022-05-23T20:26:57.536Z"
   },
   {
    "duration": 72,
    "start_time": "2022-05-23T20:26:57.556Z"
   },
   {
    "duration": 17,
    "start_time": "2022-05-23T20:26:57.630Z"
   },
   {
    "duration": 26,
    "start_time": "2022-05-23T20:26:57.650Z"
   },
   {
    "duration": 59,
    "start_time": "2022-05-23T20:26:57.678Z"
   },
   {
    "duration": 22,
    "start_time": "2022-05-23T20:26:57.739Z"
   },
   {
    "duration": 20,
    "start_time": "2022-05-23T20:26:57.763Z"
   },
   {
    "duration": 50,
    "start_time": "2022-05-23T20:26:57.785Z"
   },
   {
    "duration": 13,
    "start_time": "2022-05-23T20:26:57.837Z"
   },
   {
    "duration": 42,
    "start_time": "2022-05-23T20:26:57.852Z"
   },
   {
    "duration": 109,
    "start_time": "2022-05-23T20:26:57.902Z"
   },
   {
    "duration": 16,
    "start_time": "2022-05-23T20:26:58.013Z"
   },
   {
    "duration": 8,
    "start_time": "2022-05-23T20:26:58.031Z"
   },
   {
    "duration": 179,
    "start_time": "2022-05-23T20:26:58.041Z"
   },
   {
    "duration": 22,
    "start_time": "2022-05-23T20:26:58.222Z"
   },
   {
    "duration": 16,
    "start_time": "2022-05-23T20:26:58.247Z"
   },
   {
    "duration": 9,
    "start_time": "2022-05-23T20:26:58.265Z"
   },
   {
    "duration": 100,
    "start_time": "2022-05-23T20:26:58.295Z"
   },
   {
    "duration": 24,
    "start_time": "2022-05-23T20:26:58.397Z"
   },
   {
    "duration": 12,
    "start_time": "2022-05-23T20:26:58.424Z"
   },
   {
    "duration": 11,
    "start_time": "2022-05-23T20:26:58.437Z"
   },
   {
    "duration": 6,
    "start_time": "2022-05-23T20:26:58.450Z"
   },
   {
    "duration": 15,
    "start_time": "2022-05-23T20:26:58.458Z"
   },
   {
    "duration": 6,
    "start_time": "2022-05-23T20:26:58.474Z"
   },
   {
    "duration": 11,
    "start_time": "2022-05-23T20:26:58.481Z"
   },
   {
    "duration": 18,
    "start_time": "2022-05-23T20:26:58.493Z"
   },
   {
    "duration": 8,
    "start_time": "2022-05-23T20:26:58.513Z"
   },
   {
    "duration": 119,
    "start_time": "2022-05-23T20:28:42.410Z"
   },
   {
    "duration": 1541,
    "start_time": "2022-05-23T20:31:27.090Z"
   },
   {
    "duration": 423,
    "start_time": "2022-05-23T20:31:28.634Z"
   },
   {
    "duration": 70,
    "start_time": "2022-05-23T20:31:29.059Z"
   },
   {
    "duration": 14,
    "start_time": "2022-05-23T20:31:29.131Z"
   },
   {
    "duration": 85,
    "start_time": "2022-05-23T20:31:29.148Z"
   },
   {
    "duration": 12,
    "start_time": "2022-05-23T20:31:29.235Z"
   },
   {
    "duration": 64,
    "start_time": "2022-05-23T20:31:29.249Z"
   },
   {
    "duration": 15,
    "start_time": "2022-05-23T20:31:29.315Z"
   },
   {
    "duration": 20,
    "start_time": "2022-05-23T20:31:29.333Z"
   },
   {
    "duration": 16,
    "start_time": "2022-05-23T20:31:29.355Z"
   },
   {
    "duration": 40,
    "start_time": "2022-05-23T20:31:29.372Z"
   },
   {
    "duration": 18,
    "start_time": "2022-05-23T20:31:29.414Z"
   },
   {
    "duration": 133,
    "start_time": "2022-05-23T20:31:29.434Z"
   },
   {
    "duration": 0,
    "start_time": "2022-05-23T20:31:29.569Z"
   },
   {
    "duration": 0,
    "start_time": "2022-05-23T20:31:29.570Z"
   },
   {
    "duration": 0,
    "start_time": "2022-05-23T20:31:29.571Z"
   },
   {
    "duration": 0,
    "start_time": "2022-05-23T20:31:29.573Z"
   },
   {
    "duration": 0,
    "start_time": "2022-05-23T20:31:29.574Z"
   },
   {
    "duration": 0,
    "start_time": "2022-05-23T20:31:29.575Z"
   },
   {
    "duration": 0,
    "start_time": "2022-05-23T20:31:29.576Z"
   },
   {
    "duration": 0,
    "start_time": "2022-05-23T20:31:29.577Z"
   },
   {
    "duration": 0,
    "start_time": "2022-05-23T20:31:29.579Z"
   },
   {
    "duration": 3,
    "start_time": "2022-05-23T20:31:44.804Z"
   },
   {
    "duration": 375,
    "start_time": "2022-05-23T20:31:44.809Z"
   },
   {
    "duration": 47,
    "start_time": "2022-05-23T20:31:45.185Z"
   },
   {
    "duration": 13,
    "start_time": "2022-05-23T20:31:45.234Z"
   },
   {
    "duration": 67,
    "start_time": "2022-05-23T20:31:45.250Z"
   },
   {
    "duration": 11,
    "start_time": "2022-05-23T20:31:45.318Z"
   },
   {
    "duration": 65,
    "start_time": "2022-05-23T20:31:45.331Z"
   },
   {
    "duration": 15,
    "start_time": "2022-05-23T20:31:45.398Z"
   },
   {
    "duration": 18,
    "start_time": "2022-05-23T20:31:45.415Z"
   },
   {
    "duration": 21,
    "start_time": "2022-05-23T20:31:45.435Z"
   },
   {
    "duration": 37,
    "start_time": "2022-05-23T20:31:45.459Z"
   },
   {
    "duration": 20,
    "start_time": "2022-05-23T20:31:45.498Z"
   },
   {
    "duration": 14,
    "start_time": "2022-05-23T20:31:49.471Z"
   },
   {
    "duration": 93,
    "start_time": "2022-05-23T20:31:51.805Z"
   },
   {
    "duration": 4,
    "start_time": "2022-05-23T20:31:52.612Z"
   },
   {
    "duration": 18,
    "start_time": "2022-05-23T20:31:54.296Z"
   },
   {
    "duration": 16,
    "start_time": "2022-05-23T20:31:56.609Z"
   },
   {
    "duration": 7,
    "start_time": "2022-05-23T20:31:57.712Z"
   },
   {
    "duration": 5,
    "start_time": "2022-05-23T20:31:59.455Z"
   },
   {
    "duration": 14,
    "start_time": "2022-05-23T20:32:01.139Z"
   },
   {
    "duration": 12,
    "start_time": "2022-05-23T20:32:02.802Z"
   },
   {
    "duration": 12,
    "start_time": "2022-05-23T20:32:03.817Z"
   },
   {
    "duration": 7,
    "start_time": "2022-05-23T20:32:04.998Z"
   },
   {
    "duration": 6,
    "start_time": "2022-05-23T20:52:27.429Z"
   },
   {
    "duration": 5,
    "start_time": "2022-05-23T20:52:50.076Z"
   },
   {
    "duration": 5,
    "start_time": "2022-05-23T20:53:04.512Z"
   },
   {
    "duration": 3,
    "start_time": "2022-05-23T21:33:03.073Z"
   },
   {
    "duration": 3,
    "start_time": "2022-05-23T21:33:03.773Z"
   },
   {
    "duration": 5,
    "start_time": "2022-05-23T21:33:11.220Z"
   },
   {
    "duration": 79,
    "start_time": "2022-05-23T21:38:51.691Z"
   },
   {
    "duration": 3,
    "start_time": "2022-05-23T21:39:08.387Z"
   },
   {
    "duration": 1184,
    "start_time": "2022-05-23T22:49:44.206Z"
   },
   {
    "duration": 371,
    "start_time": "2022-05-23T22:49:45.395Z"
   },
   {
    "duration": 59,
    "start_time": "2022-05-23T22:49:45.768Z"
   },
   {
    "duration": 13,
    "start_time": "2022-05-23T22:49:45.829Z"
   },
   {
    "duration": 62,
    "start_time": "2022-05-23T22:49:45.844Z"
   },
   {
    "duration": 12,
    "start_time": "2022-05-23T22:49:45.908Z"
   },
   {
    "duration": 49,
    "start_time": "2022-05-23T22:49:45.921Z"
   },
   {
    "duration": 28,
    "start_time": "2022-05-23T22:49:45.972Z"
   },
   {
    "duration": 31,
    "start_time": "2022-05-23T22:49:46.002Z"
   },
   {
    "duration": 24,
    "start_time": "2022-05-23T22:49:46.034Z"
   },
   {
    "duration": 37,
    "start_time": "2022-05-23T22:49:46.059Z"
   },
   {
    "duration": 24,
    "start_time": "2022-05-23T22:49:46.098Z"
   },
   {
    "duration": 34,
    "start_time": "2022-05-23T22:49:46.124Z"
   },
   {
    "duration": 8,
    "start_time": "2022-05-23T22:49:46.162Z"
   },
   {
    "duration": 140,
    "start_time": "2022-05-23T22:49:46.171Z"
   },
   {
    "duration": 29,
    "start_time": "2022-05-23T22:49:46.312Z"
   },
   {
    "duration": 28,
    "start_time": "2022-05-23T22:49:46.342Z"
   },
   {
    "duration": 22,
    "start_time": "2022-05-23T22:49:46.372Z"
   },
   {
    "duration": 103,
    "start_time": "2022-05-23T22:49:46.397Z"
   },
   {
    "duration": 123,
    "start_time": "2022-05-23T22:49:46.501Z"
   },
   {
    "duration": 32,
    "start_time": "2022-05-23T22:49:46.625Z"
   },
   {
    "duration": 16,
    "start_time": "2022-05-23T22:49:46.658Z"
   },
   {
    "duration": 117,
    "start_time": "2022-05-23T22:49:46.677Z"
   },
   {
    "duration": 8,
    "start_time": "2022-05-23T22:49:46.797Z"
   },
   {
    "duration": 7,
    "start_time": "2022-05-23T22:49:46.807Z"
   },
   {
    "duration": 9,
    "start_time": "2022-05-23T22:49:46.815Z"
   },
   {
    "duration": 158,
    "start_time": "2022-05-23T22:49:46.826Z"
   },
   {
    "duration": 0,
    "start_time": "2022-05-23T22:49:46.986Z"
   },
   {
    "duration": 0,
    "start_time": "2022-05-23T22:49:46.987Z"
   },
   {
    "duration": 0,
    "start_time": "2022-05-23T22:49:46.988Z"
   },
   {
    "duration": 0,
    "start_time": "2022-05-23T22:49:46.995Z"
   },
   {
    "duration": 0,
    "start_time": "2022-05-23T22:49:46.997Z"
   },
   {
    "duration": 18,
    "start_time": "2022-05-23T22:49:57.307Z"
   },
   {
    "duration": 21,
    "start_time": "2022-05-23T22:51:55.439Z"
   },
   {
    "duration": 18,
    "start_time": "2022-05-23T22:52:24.109Z"
   },
   {
    "duration": 1423,
    "start_time": "2022-05-24T03:10:22.510Z"
   },
   {
    "duration": 2083,
    "start_time": "2022-05-24T03:10:23.935Z"
   },
   {
    "duration": 52,
    "start_time": "2022-05-24T03:10:26.020Z"
   },
   {
    "duration": 11,
    "start_time": "2022-05-24T03:10:26.074Z"
   },
   {
    "duration": 47,
    "start_time": "2022-05-24T03:10:26.087Z"
   },
   {
    "duration": 19,
    "start_time": "2022-05-24T03:10:26.140Z"
   },
   {
    "duration": 51,
    "start_time": "2022-05-24T03:10:26.161Z"
   },
   {
    "duration": 40,
    "start_time": "2022-05-24T03:10:26.213Z"
   },
   {
    "duration": 12,
    "start_time": "2022-05-24T03:10:26.254Z"
   },
   {
    "duration": 20,
    "start_time": "2022-05-24T03:10:26.268Z"
   },
   {
    "duration": 18,
    "start_time": "2022-05-24T03:10:26.290Z"
   },
   {
    "duration": 25,
    "start_time": "2022-05-24T03:10:26.309Z"
   },
   {
    "duration": 22,
    "start_time": "2022-05-24T03:10:26.336Z"
   },
   {
    "duration": 17,
    "start_time": "2022-05-24T03:10:26.360Z"
   },
   {
    "duration": 10,
    "start_time": "2022-05-24T03:10:26.443Z"
   },
   {
    "duration": 116,
    "start_time": "2022-05-24T03:10:26.457Z"
   },
   {
    "duration": 12,
    "start_time": "2022-05-24T03:10:26.575Z"
   },
   {
    "duration": 7,
    "start_time": "2022-05-24T03:10:26.589Z"
   },
   {
    "duration": 116,
    "start_time": "2022-05-24T03:10:26.644Z"
   },
   {
    "duration": 15,
    "start_time": "2022-05-24T03:10:26.762Z"
   },
   {
    "duration": 13,
    "start_time": "2022-05-24T03:10:26.779Z"
   },
   {
    "duration": 4,
    "start_time": "2022-05-24T03:10:26.794Z"
   },
   {
    "duration": 167,
    "start_time": "2022-05-24T03:10:26.800Z"
   },
   {
    "duration": 10,
    "start_time": "2022-05-24T03:10:26.968Z"
   },
   {
    "duration": 10,
    "start_time": "2022-05-24T03:10:26.980Z"
   },
   {
    "duration": 8,
    "start_time": "2022-05-24T03:10:26.992Z"
   },
   {
    "duration": 120,
    "start_time": "2022-05-24T03:10:30.338Z"
   },
   {
    "duration": 3,
    "start_time": "2022-05-24T03:11:51.433Z"
   },
   {
    "duration": 12,
    "start_time": "2022-05-24T03:17:47.576Z"
   },
   {
    "duration": 9,
    "start_time": "2022-05-24T03:17:56.411Z"
   },
   {
    "duration": 3,
    "start_time": "2022-05-24T03:18:40.056Z"
   },
   {
    "duration": 2,
    "start_time": "2022-05-24T03:26:57.856Z"
   },
   {
    "duration": 7,
    "start_time": "2022-05-24T03:27:48.960Z"
   },
   {
    "duration": 3,
    "start_time": "2022-05-24T03:27:56.089Z"
   },
   {
    "duration": 9,
    "start_time": "2022-05-24T03:28:10.014Z"
   },
   {
    "duration": 9,
    "start_time": "2022-05-24T03:28:14.263Z"
   },
   {
    "duration": 3,
    "start_time": "2022-05-24T03:28:27.191Z"
   },
   {
    "duration": 21,
    "start_time": "2022-05-24T03:31:49.496Z"
   },
   {
    "duration": 13,
    "start_time": "2022-05-24T03:32:32.818Z"
   },
   {
    "duration": 9,
    "start_time": "2022-05-24T03:32:48.833Z"
   },
   {
    "duration": 8,
    "start_time": "2022-05-24T03:33:20.954Z"
   },
   {
    "duration": 14,
    "start_time": "2022-05-24T03:34:22.681Z"
   },
   {
    "duration": 8,
    "start_time": "2022-05-24T03:34:32.005Z"
   },
   {
    "duration": 10,
    "start_time": "2022-05-24T03:34:56.320Z"
   },
   {
    "duration": 12,
    "start_time": "2022-05-24T03:35:20.053Z"
   },
   {
    "duration": 10,
    "start_time": "2022-05-24T03:35:51.516Z"
   },
   {
    "duration": 11,
    "start_time": "2022-05-24T03:36:03.916Z"
   },
   {
    "duration": 7,
    "start_time": "2022-05-24T03:36:38.276Z"
   },
   {
    "duration": 10,
    "start_time": "2022-05-24T03:38:30.941Z"
   },
   {
    "duration": 12,
    "start_time": "2022-05-24T03:38:58.363Z"
   },
   {
    "duration": 5,
    "start_time": "2022-05-24T03:39:07.884Z"
   },
   {
    "duration": 12,
    "start_time": "2022-05-24T03:40:53.140Z"
   },
   {
    "duration": 12,
    "start_time": "2022-05-24T03:42:01.054Z"
   },
   {
    "duration": 6,
    "start_time": "2022-05-24T03:42:09.772Z"
   },
   {
    "duration": 2,
    "start_time": "2022-05-24T04:05:23.586Z"
   },
   {
    "duration": 350,
    "start_time": "2022-05-24T04:05:41.919Z"
   },
   {
    "duration": 56,
    "start_time": "2022-05-24T04:07:56.157Z"
   },
   {
    "duration": 5,
    "start_time": "2022-05-24T04:08:05.438Z"
   },
   {
    "duration": 6,
    "start_time": "2022-05-24T04:08:39.679Z"
   },
   {
    "duration": 6,
    "start_time": "2022-05-24T04:08:55.854Z"
   },
   {
    "duration": 6,
    "start_time": "2022-05-24T04:09:03.258Z"
   },
   {
    "duration": 5,
    "start_time": "2022-05-24T04:11:59.678Z"
   },
   {
    "duration": 6,
    "start_time": "2022-05-24T04:12:07.250Z"
   },
   {
    "duration": 5,
    "start_time": "2022-05-24T04:12:12.356Z"
   },
   {
    "duration": 3,
    "start_time": "2022-05-24T04:21:08.273Z"
   },
   {
    "duration": 4,
    "start_time": "2022-05-24T04:21:08.735Z"
   },
   {
    "duration": 4,
    "start_time": "2022-05-24T04:21:09.247Z"
   },
   {
    "duration": 5,
    "start_time": "2022-05-24T04:21:24.488Z"
   },
   {
    "duration": 6,
    "start_time": "2022-05-24T04:21:25.993Z"
   },
   {
    "duration": 7,
    "start_time": "2022-05-24T04:21:26.348Z"
   },
   {
    "duration": 1557,
    "start_time": "2022-05-24T16:47:51.070Z"
   },
   {
    "duration": 878,
    "start_time": "2022-05-24T16:47:52.630Z"
   },
   {
    "duration": 60,
    "start_time": "2022-05-24T16:47:53.510Z"
   },
   {
    "duration": 13,
    "start_time": "2022-05-24T16:47:53.571Z"
   },
   {
    "duration": 66,
    "start_time": "2022-05-24T16:47:53.587Z"
   },
   {
    "duration": 11,
    "start_time": "2022-05-24T16:47:53.655Z"
   },
   {
    "duration": 69,
    "start_time": "2022-05-24T16:47:53.667Z"
   },
   {
    "duration": 14,
    "start_time": "2022-05-24T16:47:53.738Z"
   },
   {
    "duration": 15,
    "start_time": "2022-05-24T16:47:53.753Z"
   },
   {
    "duration": 19,
    "start_time": "2022-05-24T16:47:53.769Z"
   },
   {
    "duration": 43,
    "start_time": "2022-05-24T16:47:53.790Z"
   },
   {
    "duration": 27,
    "start_time": "2022-05-24T16:47:53.834Z"
   },
   {
    "duration": 16,
    "start_time": "2022-05-24T16:47:53.863Z"
   },
   {
    "duration": 42,
    "start_time": "2022-05-24T16:47:53.884Z"
   },
   {
    "duration": 101,
    "start_time": "2022-05-24T16:47:53.929Z"
   },
   {
    "duration": 25,
    "start_time": "2022-05-24T16:47:54.032Z"
   },
   {
    "duration": 14,
    "start_time": "2022-05-24T16:47:54.059Z"
   },
   {
    "duration": 50,
    "start_time": "2022-05-24T16:47:54.076Z"
   },
   {
    "duration": 110,
    "start_time": "2022-05-24T16:47:54.129Z"
   },
   {
    "duration": 17,
    "start_time": "2022-05-24T16:47:54.241Z"
   },
   {
    "duration": 19,
    "start_time": "2022-05-24T16:47:54.260Z"
   },
   {
    "duration": 46,
    "start_time": "2022-05-24T16:47:54.281Z"
   },
   {
    "duration": 113,
    "start_time": "2022-05-24T16:47:54.336Z"
   },
   {
    "duration": 23,
    "start_time": "2022-05-24T16:47:54.451Z"
   },
   {
    "duration": 16,
    "start_time": "2022-05-24T16:47:54.476Z"
   },
   {
    "duration": 13,
    "start_time": "2022-05-24T16:47:54.494Z"
   },
   {
    "duration": 41,
    "start_time": "2022-05-24T16:47:54.510Z"
   },
   {
    "duration": 24,
    "start_time": "2022-05-24T16:47:54.556Z"
   },
   {
    "duration": 15,
    "start_time": "2022-05-24T16:47:54.583Z"
   },
   {
    "duration": 25,
    "start_time": "2022-05-24T16:47:54.600Z"
   },
   {
    "duration": 38,
    "start_time": "2022-05-24T16:47:54.627Z"
   },
   {
    "duration": 9,
    "start_time": "2022-05-24T16:47:54.667Z"
   },
   {
    "duration": 16,
    "start_time": "2022-05-24T16:47:54.678Z"
   },
   {
    "duration": 18,
    "start_time": "2022-05-24T16:47:54.696Z"
   },
   {
    "duration": 26,
    "start_time": "2022-05-24T16:47:54.716Z"
   },
   {
    "duration": 19,
    "start_time": "2022-05-24T16:47:54.744Z"
   },
   {
    "duration": 10,
    "start_time": "2022-05-24T16:47:54.765Z"
   },
   {
    "duration": 6,
    "start_time": "2022-05-24T16:47:54.777Z"
   },
   {
    "duration": 9,
    "start_time": "2022-05-24T16:47:54.785Z"
   },
   {
    "duration": 126,
    "start_time": "2022-05-24T16:47:54.795Z"
   },
   {
    "duration": 0,
    "start_time": "2022-05-24T16:47:54.922Z"
   },
   {
    "duration": 0,
    "start_time": "2022-05-24T16:47:54.924Z"
   },
   {
    "duration": 927,
    "start_time": "2022-05-24T17:53:56.989Z"
   },
   {
    "duration": 1274,
    "start_time": "2022-05-24T17:54:08.292Z"
   },
   {
    "duration": 886,
    "start_time": "2022-05-24T17:54:37.645Z"
   },
   {
    "duration": 904,
    "start_time": "2022-05-24T17:56:13.841Z"
   },
   {
    "duration": 1007,
    "start_time": "2022-05-24T17:57:01.004Z"
   },
   {
    "duration": 16330,
    "start_time": "2022-05-24T17:58:05.486Z"
   },
   {
    "duration": 17951,
    "start_time": "2022-05-24T17:59:02.457Z"
   },
   {
    "duration": 943,
    "start_time": "2022-05-24T18:00:25.319Z"
   },
   {
    "duration": 943,
    "start_time": "2022-05-24T18:00:28.666Z"
   },
   {
    "duration": 1328,
    "start_time": "2022-05-24T18:01:10.399Z"
   },
   {
    "duration": 404,
    "start_time": "2022-05-24T18:01:11.729Z"
   },
   {
    "duration": 62,
    "start_time": "2022-05-24T18:01:12.134Z"
   },
   {
    "duration": 11,
    "start_time": "2022-05-24T18:01:12.198Z"
   },
   {
    "duration": 48,
    "start_time": "2022-05-24T18:01:12.225Z"
   },
   {
    "duration": 12,
    "start_time": "2022-05-24T18:01:12.275Z"
   },
   {
    "duration": 70,
    "start_time": "2022-05-24T18:01:12.288Z"
   },
   {
    "duration": 12,
    "start_time": "2022-05-24T18:01:12.360Z"
   },
   {
    "duration": 35,
    "start_time": "2022-05-24T18:01:12.373Z"
   },
   {
    "duration": 21,
    "start_time": "2022-05-24T18:01:12.410Z"
   },
   {
    "duration": 23,
    "start_time": "2022-05-24T18:01:12.433Z"
   },
   {
    "duration": 17,
    "start_time": "2022-05-24T18:01:12.458Z"
   },
   {
    "duration": 17,
    "start_time": "2022-05-24T18:01:12.476Z"
   },
   {
    "duration": 33,
    "start_time": "2022-05-24T18:01:12.496Z"
   },
   {
    "duration": 106,
    "start_time": "2022-05-24T18:01:12.532Z"
   },
   {
    "duration": 95,
    "start_time": "2022-05-24T18:01:12.640Z"
   },
   {
    "duration": 14,
    "start_time": "2022-05-24T18:01:12.737Z"
   },
   {
    "duration": 74,
    "start_time": "2022-05-24T18:01:12.753Z"
   },
   {
    "duration": 109,
    "start_time": "2022-05-24T18:01:12.831Z"
   },
   {
    "duration": 24,
    "start_time": "2022-05-24T18:01:12.942Z"
   },
   {
    "duration": 32,
    "start_time": "2022-05-24T18:01:12.968Z"
   },
   {
    "duration": 11,
    "start_time": "2022-05-24T18:01:13.002Z"
   },
   {
    "duration": 119,
    "start_time": "2022-05-24T18:01:13.027Z"
   },
   {
    "duration": 79,
    "start_time": "2022-05-24T18:01:13.148Z"
   },
   {
    "duration": 12,
    "start_time": "2022-05-24T18:01:13.229Z"
   },
   {
    "duration": 10,
    "start_time": "2022-05-24T18:01:13.243Z"
   },
   {
    "duration": 14,
    "start_time": "2022-05-24T18:01:13.254Z"
   },
   {
    "duration": 25,
    "start_time": "2022-05-24T18:01:13.270Z"
   },
   {
    "duration": 12,
    "start_time": "2022-05-24T18:01:13.296Z"
   },
   {
    "duration": 18,
    "start_time": "2022-05-24T18:01:13.309Z"
   },
   {
    "duration": 21,
    "start_time": "2022-05-24T18:01:13.328Z"
   },
   {
    "duration": 9,
    "start_time": "2022-05-24T18:01:13.350Z"
   },
   {
    "duration": 9,
    "start_time": "2022-05-24T18:01:13.361Z"
   },
   {
    "duration": 30,
    "start_time": "2022-05-24T18:01:13.371Z"
   },
   {
    "duration": 9,
    "start_time": "2022-05-24T18:01:13.403Z"
   },
   {
    "duration": 13,
    "start_time": "2022-05-24T18:01:13.414Z"
   },
   {
    "duration": 13,
    "start_time": "2022-05-24T18:01:13.429Z"
   },
   {
    "duration": 8,
    "start_time": "2022-05-24T18:01:13.444Z"
   },
   {
    "duration": 12,
    "start_time": "2022-05-24T18:01:13.453Z"
   },
   {
    "duration": 1419,
    "start_time": "2022-05-24T18:02:00.733Z"
   },
   {
    "duration": 396,
    "start_time": "2022-05-24T18:02:02.154Z"
   },
   {
    "duration": 53,
    "start_time": "2022-05-24T18:02:02.551Z"
   },
   {
    "duration": 21,
    "start_time": "2022-05-24T18:02:02.606Z"
   },
   {
    "duration": 57,
    "start_time": "2022-05-24T18:02:02.630Z"
   },
   {
    "duration": 12,
    "start_time": "2022-05-24T18:02:02.688Z"
   },
   {
    "duration": 107,
    "start_time": "2022-05-24T18:02:02.701Z"
   },
   {
    "duration": 14,
    "start_time": "2022-05-24T18:02:02.810Z"
   },
   {
    "duration": 60,
    "start_time": "2022-05-24T18:02:02.826Z"
   },
   {
    "duration": 44,
    "start_time": "2022-05-24T18:02:02.888Z"
   },
   {
    "duration": 55,
    "start_time": "2022-05-24T18:02:02.934Z"
   },
   {
    "duration": 98,
    "start_time": "2022-05-24T18:02:02.990Z"
   },
   {
    "duration": 42,
    "start_time": "2022-05-24T18:02:03.090Z"
   },
   {
    "duration": 18,
    "start_time": "2022-05-24T18:02:03.136Z"
   },
   {
    "duration": 107,
    "start_time": "2022-05-24T18:02:03.227Z"
   },
   {
    "duration": 23,
    "start_time": "2022-05-24T18:02:03.335Z"
   },
   {
    "duration": 15,
    "start_time": "2022-05-24T18:02:03.359Z"
   },
   {
    "duration": 5,
    "start_time": "2022-05-24T18:02:03.375Z"
   },
   {
    "duration": 153,
    "start_time": "2022-05-24T18:02:03.382Z"
   },
   {
    "duration": 24,
    "start_time": "2022-05-24T18:02:03.537Z"
   },
   {
    "duration": 21,
    "start_time": "2022-05-24T18:02:03.563Z"
   },
   {
    "duration": 11,
    "start_time": "2022-05-24T18:02:03.586Z"
   },
   {
    "duration": 130,
    "start_time": "2022-05-24T18:02:03.599Z"
   },
   {
    "duration": 21,
    "start_time": "2022-05-24T18:02:03.731Z"
   },
   {
    "duration": 23,
    "start_time": "2022-05-24T18:02:03.754Z"
   },
   {
    "duration": 18,
    "start_time": "2022-05-24T18:02:03.778Z"
   },
   {
    "duration": 17,
    "start_time": "2022-05-24T18:02:03.797Z"
   },
   {
    "duration": 29,
    "start_time": "2022-05-24T18:02:03.816Z"
   },
   {
    "duration": 33,
    "start_time": "2022-05-24T18:02:03.847Z"
   },
   {
    "duration": 17,
    "start_time": "2022-05-24T18:02:03.882Z"
   },
   {
    "duration": 14,
    "start_time": "2022-05-24T18:02:03.901Z"
   },
   {
    "duration": 11,
    "start_time": "2022-05-24T18:02:03.917Z"
   },
   {
    "duration": 16,
    "start_time": "2022-05-24T18:02:03.930Z"
   },
   {
    "duration": 77,
    "start_time": "2022-05-24T18:02:03.948Z"
   },
   {
    "duration": 11,
    "start_time": "2022-05-24T18:02:04.027Z"
   },
   {
    "duration": 7,
    "start_time": "2022-05-24T18:02:04.039Z"
   },
   {
    "duration": 13,
    "start_time": "2022-05-24T18:02:04.048Z"
   },
   {
    "duration": 17,
    "start_time": "2022-05-24T18:02:04.063Z"
   },
   {
    "duration": 17,
    "start_time": "2022-05-24T18:02:04.082Z"
   },
   {
    "duration": 996,
    "start_time": "2022-05-24T18:02:04.100Z"
   },
   {
    "duration": 4,
    "start_time": "2022-05-24T18:02:05.100Z"
   },
   {
    "duration": 0,
    "start_time": "2022-05-24T18:02:05.105Z"
   },
   {
    "duration": 253,
    "start_time": "2022-05-24T18:04:37.469Z"
   },
   {
    "duration": 190,
    "start_time": "2022-05-24T18:06:44.349Z"
   },
   {
    "duration": 905,
    "start_time": "2022-05-24T18:07:47.256Z"
   },
   {
    "duration": 1277,
    "start_time": "2022-05-24T18:08:19.248Z"
   },
   {
    "duration": 391,
    "start_time": "2022-05-24T18:08:20.527Z"
   },
   {
    "duration": 57,
    "start_time": "2022-05-24T18:08:20.919Z"
   },
   {
    "duration": 12,
    "start_time": "2022-05-24T18:08:20.978Z"
   },
   {
    "duration": 65,
    "start_time": "2022-05-24T18:08:20.992Z"
   },
   {
    "duration": 12,
    "start_time": "2022-05-24T18:08:21.059Z"
   },
   {
    "duration": 58,
    "start_time": "2022-05-24T18:08:21.073Z"
   },
   {
    "duration": 11,
    "start_time": "2022-05-24T18:08:21.133Z"
   },
   {
    "duration": 18,
    "start_time": "2022-05-24T18:08:21.146Z"
   },
   {
    "duration": 20,
    "start_time": "2022-05-24T18:08:21.167Z"
   },
   {
    "duration": 18,
    "start_time": "2022-05-24T18:08:21.188Z"
   },
   {
    "duration": 31,
    "start_time": "2022-05-24T18:08:21.208Z"
   },
   {
    "duration": 14,
    "start_time": "2022-05-24T18:08:21.241Z"
   },
   {
    "duration": 70,
    "start_time": "2022-05-24T18:08:21.257Z"
   },
   {
    "duration": 96,
    "start_time": "2022-05-24T18:08:21.330Z"
   },
   {
    "duration": 13,
    "start_time": "2022-05-24T18:08:21.428Z"
   },
   {
    "duration": 13,
    "start_time": "2022-05-24T18:08:21.443Z"
   },
   {
    "duration": 7,
    "start_time": "2022-05-24T18:08:21.457Z"
   },
   {
    "duration": 162,
    "start_time": "2022-05-24T18:08:21.466Z"
   },
   {
    "duration": 14,
    "start_time": "2022-05-24T18:08:21.629Z"
   },
   {
    "duration": 14,
    "start_time": "2022-05-24T18:08:21.644Z"
   },
   {
    "duration": 4,
    "start_time": "2022-05-24T18:08:21.660Z"
   },
   {
    "duration": 67,
    "start_time": "2022-05-24T18:08:21.666Z"
   },
   {
    "duration": 97,
    "start_time": "2022-05-24T18:08:21.736Z"
   },
   {
    "duration": 7,
    "start_time": "2022-05-24T18:08:21.834Z"
   },
   {
    "duration": 5,
    "start_time": "2022-05-24T18:08:21.843Z"
   },
   {
    "duration": 14,
    "start_time": "2022-05-24T18:08:21.849Z"
   },
   {
    "duration": 18,
    "start_time": "2022-05-24T18:08:21.866Z"
   },
   {
    "duration": 18,
    "start_time": "2022-05-24T18:08:21.885Z"
   },
   {
    "duration": 6,
    "start_time": "2022-05-24T18:08:21.905Z"
   },
   {
    "duration": 20,
    "start_time": "2022-05-24T18:08:21.912Z"
   },
   {
    "duration": 5,
    "start_time": "2022-05-24T18:08:21.934Z"
   },
   {
    "duration": 7,
    "start_time": "2022-05-24T18:08:21.941Z"
   },
   {
    "duration": 12,
    "start_time": "2022-05-24T18:08:21.950Z"
   },
   {
    "duration": 15,
    "start_time": "2022-05-24T18:08:21.964Z"
   },
   {
    "duration": 37,
    "start_time": "2022-05-24T18:08:21.981Z"
   },
   {
    "duration": 11,
    "start_time": "2022-05-24T18:08:22.020Z"
   },
   {
    "duration": 7,
    "start_time": "2022-05-24T18:08:22.033Z"
   },
   {
    "duration": 21,
    "start_time": "2022-05-24T18:08:22.041Z"
   },
   {
    "duration": 886,
    "start_time": "2022-05-24T18:08:22.064Z"
   },
   {
    "duration": 218,
    "start_time": "2022-05-24T18:08:22.952Z"
   },
   {
    "duration": 0,
    "start_time": "2022-05-24T18:08:23.171Z"
   },
   {
    "duration": 909,
    "start_time": "2022-05-24T18:11:43.353Z"
   },
   {
    "duration": 974,
    "start_time": "2022-05-24T18:12:04.147Z"
   },
   {
    "duration": 855,
    "start_time": "2022-05-24T18:12:14.673Z"
   },
   {
    "duration": 866,
    "start_time": "2022-05-24T18:13:17.162Z"
   },
   {
    "duration": 938,
    "start_time": "2022-05-24T18:15:09.753Z"
   },
   {
    "duration": 830,
    "start_time": "2022-05-24T18:15:17.620Z"
   },
   {
    "duration": 7,
    "start_time": "2022-05-24T18:21:21.983Z"
   },
   {
    "duration": 6,
    "start_time": "2022-05-24T18:21:48.716Z"
   },
   {
    "duration": 848,
    "start_time": "2022-05-24T18:24:49.070Z"
   },
   {
    "duration": 922,
    "start_time": "2022-05-24T18:25:51.978Z"
   },
   {
    "duration": 1299,
    "start_time": "2022-05-24T18:45:12.701Z"
   },
   {
    "duration": 965,
    "start_time": "2022-05-24T18:45:41.454Z"
   },
   {
    "duration": 8,
    "start_time": "2022-05-24T19:04:33.859Z"
   },
   {
    "duration": 1061,
    "start_time": "2022-05-24T19:04:33.871Z"
   },
   {
    "duration": 1038,
    "start_time": "2022-05-24T19:04:34.934Z"
   },
   {
    "duration": 990,
    "start_time": "2022-05-24T19:04:35.974Z"
   },
   {
    "duration": 174,
    "start_time": "2022-05-24T19:04:36.966Z"
   },
   {
    "duration": 0,
    "start_time": "2022-05-24T19:04:37.142Z"
   },
   {
    "duration": 1341,
    "start_time": "2022-05-24T19:04:51.123Z"
   },
   {
    "duration": 438,
    "start_time": "2022-05-24T19:04:52.467Z"
   },
   {
    "duration": 69,
    "start_time": "2022-05-24T19:04:52.906Z"
   },
   {
    "duration": 13,
    "start_time": "2022-05-24T19:04:52.976Z"
   },
   {
    "duration": 72,
    "start_time": "2022-05-24T19:04:52.992Z"
   },
   {
    "duration": 12,
    "start_time": "2022-05-24T19:04:53.067Z"
   },
   {
    "duration": 69,
    "start_time": "2022-05-24T19:04:53.081Z"
   },
   {
    "duration": 13,
    "start_time": "2022-05-24T19:04:53.152Z"
   },
   {
    "duration": 17,
    "start_time": "2022-05-24T19:04:53.167Z"
   },
   {
    "duration": 42,
    "start_time": "2022-05-24T19:04:53.185Z"
   },
   {
    "duration": 21,
    "start_time": "2022-05-24T19:04:53.229Z"
   },
   {
    "duration": 31,
    "start_time": "2022-05-24T19:04:53.252Z"
   },
   {
    "duration": 16,
    "start_time": "2022-05-24T19:04:53.285Z"
   },
   {
    "duration": 22,
    "start_time": "2022-05-24T19:04:53.304Z"
   },
   {
    "duration": 102,
    "start_time": "2022-05-24T19:04:53.331Z"
   },
   {
    "duration": 15,
    "start_time": "2022-05-24T19:04:53.436Z"
   },
   {
    "duration": 91,
    "start_time": "2022-05-24T19:04:53.453Z"
   },
   {
    "duration": 81,
    "start_time": "2022-05-24T19:04:53.546Z"
   },
   {
    "duration": 100,
    "start_time": "2022-05-24T19:04:53.630Z"
   },
   {
    "duration": 21,
    "start_time": "2022-05-24T19:04:53.732Z"
   },
   {
    "duration": 17,
    "start_time": "2022-05-24T19:04:53.755Z"
   },
   {
    "duration": 5,
    "start_time": "2022-05-24T19:04:53.774Z"
   },
   {
    "duration": 154,
    "start_time": "2022-05-24T19:04:53.781Z"
   },
   {
    "duration": 8,
    "start_time": "2022-05-24T19:04:53.937Z"
   },
   {
    "duration": 8,
    "start_time": "2022-05-24T19:04:53.947Z"
   },
   {
    "duration": 12,
    "start_time": "2022-05-24T19:04:53.957Z"
   },
   {
    "duration": 7,
    "start_time": "2022-05-24T19:04:53.970Z"
   },
   {
    "duration": 19,
    "start_time": "2022-05-24T19:04:53.978Z"
   },
   {
    "duration": 7,
    "start_time": "2022-05-24T19:04:53.998Z"
   },
   {
    "duration": 7,
    "start_time": "2022-05-24T19:04:54.007Z"
   },
   {
    "duration": 23,
    "start_time": "2022-05-24T19:04:54.025Z"
   },
   {
    "duration": 14,
    "start_time": "2022-05-24T19:04:54.050Z"
   },
   {
    "duration": 7,
    "start_time": "2022-05-24T19:04:54.067Z"
   },
   {
    "duration": 23,
    "start_time": "2022-05-24T19:04:54.076Z"
   },
   {
    "duration": 8,
    "start_time": "2022-05-24T19:04:54.101Z"
   },
   {
    "duration": 20,
    "start_time": "2022-05-24T19:04:54.111Z"
   },
   {
    "duration": 17,
    "start_time": "2022-05-24T19:04:54.134Z"
   },
   {
    "duration": 8,
    "start_time": "2022-05-24T19:04:54.153Z"
   },
   {
    "duration": 14,
    "start_time": "2022-05-24T19:04:54.164Z"
   },
   {
    "duration": 1815,
    "start_time": "2022-05-24T19:05:33.591Z"
   },
   {
    "duration": 4,
    "start_time": "2022-05-24T19:07:42.317Z"
   },
   {
    "duration": 7,
    "start_time": "2022-05-24T19:07:43.213Z"
   },
   {
    "duration": 3,
    "start_time": "2022-05-24T19:07:51.258Z"
   },
   {
    "duration": 8,
    "start_time": "2022-05-24T19:07:52.331Z"
   },
   {
    "duration": 7,
    "start_time": "2022-05-24T19:07:56.161Z"
   },
   {
    "duration": 8,
    "start_time": "2022-05-24T19:07:57.254Z"
   },
   {
    "duration": 1618,
    "start_time": "2022-05-24T19:08:07.587Z"
   },
   {
    "duration": 1656,
    "start_time": "2022-05-24T19:08:46.286Z"
   },
   {
    "duration": 1668,
    "start_time": "2022-05-24T19:08:56.901Z"
   },
   {
    "duration": 1645,
    "start_time": "2022-05-24T19:09:16.232Z"
   },
   {
    "duration": 5,
    "start_time": "2022-05-24T19:09:25.656Z"
   },
   {
    "duration": 8,
    "start_time": "2022-05-24T19:09:34.959Z"
   },
   {
    "duration": 5,
    "start_time": "2022-05-24T19:12:01.291Z"
   },
   {
    "duration": 6,
    "start_time": "2022-05-24T19:12:05.249Z"
   },
   {
    "duration": 4,
    "start_time": "2022-05-24T19:12:15.712Z"
   },
   {
    "duration": 6,
    "start_time": "2022-05-24T19:12:26.544Z"
   },
   {
    "duration": 5,
    "start_time": "2022-05-24T19:13:25.355Z"
   },
   {
    "duration": 5,
    "start_time": "2022-05-24T19:13:38.293Z"
   },
   {
    "duration": 5,
    "start_time": "2022-05-24T19:14:05.287Z"
   },
   {
    "duration": 10,
    "start_time": "2022-05-24T19:14:06.755Z"
   },
   {
    "duration": 10,
    "start_time": "2022-05-24T19:14:08.271Z"
   },
   {
    "duration": 8,
    "start_time": "2022-05-24T19:14:09.723Z"
   },
   {
    "duration": 1750,
    "start_time": "2022-05-24T19:14:13.622Z"
   },
   {
    "duration": 1777,
    "start_time": "2022-05-24T19:14:18.338Z"
   },
   {
    "duration": 1702,
    "start_time": "2022-05-24T19:14:22.375Z"
   },
   {
    "duration": 8,
    "start_time": "2022-05-24T19:14:28.421Z"
   },
   {
    "duration": 7,
    "start_time": "2022-05-24T19:14:30.430Z"
   },
   {
    "duration": 5,
    "start_time": "2022-05-24T19:14:31.326Z"
   },
   {
    "duration": 6,
    "start_time": "2022-05-24T19:14:32.812Z"
   },
   {
    "duration": 1392,
    "start_time": "2022-05-24T19:16:43.049Z"
   },
   {
    "duration": 441,
    "start_time": "2022-05-24T19:16:44.443Z"
   },
   {
    "duration": 64,
    "start_time": "2022-05-24T19:16:44.885Z"
   },
   {
    "duration": 13,
    "start_time": "2022-05-24T19:16:44.951Z"
   },
   {
    "duration": 71,
    "start_time": "2022-05-24T19:16:44.965Z"
   },
   {
    "duration": 14,
    "start_time": "2022-05-24T19:16:45.038Z"
   },
   {
    "duration": 53,
    "start_time": "2022-05-24T19:16:45.053Z"
   },
   {
    "duration": 34,
    "start_time": "2022-05-24T19:16:45.108Z"
   },
   {
    "duration": 16,
    "start_time": "2022-05-24T19:16:45.144Z"
   },
   {
    "duration": 17,
    "start_time": "2022-05-24T19:16:45.163Z"
   },
   {
    "duration": 19,
    "start_time": "2022-05-24T19:16:45.182Z"
   },
   {
    "duration": 38,
    "start_time": "2022-05-24T19:16:45.203Z"
   },
   {
    "duration": 14,
    "start_time": "2022-05-24T19:16:45.244Z"
   },
   {
    "duration": 7,
    "start_time": "2022-05-24T19:16:45.259Z"
   },
   {
    "duration": 176,
    "start_time": "2022-05-24T19:16:45.269Z"
   },
   {
    "duration": 14,
    "start_time": "2022-05-24T19:16:45.447Z"
   },
   {
    "duration": 13,
    "start_time": "2022-05-24T19:16:45.463Z"
   },
   {
    "duration": 6,
    "start_time": "2022-05-24T19:16:45.478Z"
   },
   {
    "duration": 162,
    "start_time": "2022-05-24T19:16:45.487Z"
   },
   {
    "duration": 18,
    "start_time": "2022-05-24T19:16:45.651Z"
   },
   {
    "duration": 19,
    "start_time": "2022-05-24T19:16:45.671Z"
   },
   {
    "duration": 40,
    "start_time": "2022-05-24T19:16:45.692Z"
   },
   {
    "duration": 9,
    "start_time": "2022-05-24T19:16:45.735Z"
   },
   {
    "duration": 12,
    "start_time": "2022-05-24T19:16:45.828Z"
   },
   {
    "duration": 9,
    "start_time": "2022-05-24T19:16:45.843Z"
   },
   {
    "duration": 10,
    "start_time": "2022-05-24T19:16:45.854Z"
   },
   {
    "duration": 7,
    "start_time": "2022-05-24T19:16:45.865Z"
   },
   {
    "duration": 56,
    "start_time": "2022-05-24T19:16:45.875Z"
   },
   {
    "duration": 10,
    "start_time": "2022-05-24T19:16:45.934Z"
   },
   {
    "duration": 8,
    "start_time": "2022-05-24T19:16:45.945Z"
   },
   {
    "duration": 17,
    "start_time": "2022-05-24T19:16:45.954Z"
   },
   {
    "duration": 8,
    "start_time": "2022-05-24T19:16:45.973Z"
   },
   {
    "duration": 7,
    "start_time": "2022-05-24T19:16:45.982Z"
   },
   {
    "duration": 39,
    "start_time": "2022-05-24T19:16:45.991Z"
   },
   {
    "duration": 13,
    "start_time": "2022-05-24T19:16:46.033Z"
   },
   {
    "duration": 4,
    "start_time": "2022-05-24T19:16:46.047Z"
   },
   {
    "duration": 13,
    "start_time": "2022-05-24T19:16:46.052Z"
   },
   {
    "duration": 8,
    "start_time": "2022-05-24T19:16:46.066Z"
   },
   {
    "duration": 11,
    "start_time": "2022-05-24T19:16:46.076Z"
   },
   {
    "duration": 1854,
    "start_time": "2022-05-24T19:16:46.089Z"
   },
   {
    "duration": 1729,
    "start_time": "2022-05-24T19:16:47.944Z"
   },
   {
    "duration": 1727,
    "start_time": "2022-05-24T19:16:49.675Z"
   },
   {
    "duration": 7,
    "start_time": "2022-05-24T19:16:51.404Z"
   },
   {
    "duration": 16,
    "start_time": "2022-05-24T19:16:51.413Z"
   },
   {
    "duration": 18,
    "start_time": "2022-05-24T19:16:51.431Z"
   },
   {
    "duration": 8,
    "start_time": "2022-05-24T19:16:51.451Z"
   },
   {
    "duration": 6,
    "start_time": "2022-05-24T19:16:51.460Z"
   },
   {
    "duration": 4,
    "start_time": "2022-05-24T19:17:33.672Z"
   },
   {
    "duration": 431,
    "start_time": "2022-05-24T19:17:33.678Z"
   },
   {
    "duration": 55,
    "start_time": "2022-05-24T19:17:34.111Z"
   },
   {
    "duration": 11,
    "start_time": "2022-05-24T19:17:34.168Z"
   },
   {
    "duration": 71,
    "start_time": "2022-05-24T19:17:34.181Z"
   },
   {
    "duration": 11,
    "start_time": "2022-05-24T19:17:34.253Z"
   },
   {
    "duration": 61,
    "start_time": "2022-05-24T19:17:34.266Z"
   },
   {
    "duration": 15,
    "start_time": "2022-05-24T19:17:34.330Z"
   },
   {
    "duration": 13,
    "start_time": "2022-05-24T19:17:34.346Z"
   },
   {
    "duration": 18,
    "start_time": "2022-05-24T19:17:34.360Z"
   },
   {
    "duration": 25,
    "start_time": "2022-05-24T19:17:34.381Z"
   },
   {
    "duration": 23,
    "start_time": "2022-05-24T19:17:34.426Z"
   },
   {
    "duration": 22,
    "start_time": "2022-05-24T19:17:34.451Z"
   },
   {
    "duration": 6,
    "start_time": "2022-05-24T19:17:34.477Z"
   },
   {
    "duration": 150,
    "start_time": "2022-05-24T19:17:34.485Z"
   },
   {
    "duration": 23,
    "start_time": "2022-05-24T19:17:34.636Z"
   },
   {
    "duration": 10,
    "start_time": "2022-05-24T19:17:34.661Z"
   },
   {
    "duration": 5,
    "start_time": "2022-05-24T19:17:34.672Z"
   },
   {
    "duration": 8,
    "start_time": "2022-05-24T19:17:34.727Z"
   },
   {
    "duration": 102,
    "start_time": "2022-05-24T19:17:34.737Z"
   },
   {
    "duration": 16,
    "start_time": "2022-05-24T19:17:34.842Z"
   },
   {
    "duration": 7,
    "start_time": "2022-05-24T19:17:34.860Z"
   },
   {
    "duration": 173,
    "start_time": "2022-05-24T19:17:34.871Z"
   },
   {
    "duration": 6,
    "start_time": "2022-05-24T19:17:35.046Z"
   },
   {
    "duration": 8,
    "start_time": "2022-05-24T19:17:35.054Z"
   },
   {
    "duration": 9,
    "start_time": "2022-05-24T19:17:35.064Z"
   },
   {
    "duration": 17,
    "start_time": "2022-05-24T19:17:35.075Z"
   },
   {
    "duration": 17,
    "start_time": "2022-05-24T19:17:35.094Z"
   },
   {
    "duration": 21,
    "start_time": "2022-05-24T19:17:35.113Z"
   },
   {
    "duration": 10,
    "start_time": "2022-05-24T19:17:35.137Z"
   },
   {
    "duration": 25,
    "start_time": "2022-05-24T19:17:35.149Z"
   },
   {
    "duration": 6,
    "start_time": "2022-05-24T19:17:35.175Z"
   },
   {
    "duration": 6,
    "start_time": "2022-05-24T19:17:35.183Z"
   },
   {
    "duration": 15,
    "start_time": "2022-05-24T19:17:35.190Z"
   },
   {
    "duration": 7,
    "start_time": "2022-05-24T19:17:35.207Z"
   },
   {
    "duration": 16,
    "start_time": "2022-05-24T19:17:35.216Z"
   },
   {
    "duration": 28,
    "start_time": "2022-05-24T19:17:35.233Z"
   },
   {
    "duration": 7,
    "start_time": "2022-05-24T19:17:35.263Z"
   },
   {
    "duration": 9,
    "start_time": "2022-05-24T19:17:35.272Z"
   },
   {
    "duration": 1840,
    "start_time": "2022-05-24T19:17:35.283Z"
   },
   {
    "duration": 1769,
    "start_time": "2022-05-24T19:17:37.127Z"
   },
   {
    "duration": 1757,
    "start_time": "2022-05-24T19:17:38.897Z"
   },
   {
    "duration": 7,
    "start_time": "2022-05-24T19:17:40.656Z"
   },
   {
    "duration": 8,
    "start_time": "2022-05-24T19:17:40.664Z"
   },
   {
    "duration": 5,
    "start_time": "2022-05-24T19:17:40.674Z"
   },
   {
    "duration": 7,
    "start_time": "2022-05-24T19:17:40.681Z"
   },
   {
    "duration": 4,
    "start_time": "2022-05-24T19:17:40.689Z"
   },
   {
    "duration": 5,
    "start_time": "2022-05-24T19:17:54.023Z"
   },
   {
    "duration": 470,
    "start_time": "2022-05-24T19:17:54.030Z"
   },
   {
    "duration": 63,
    "start_time": "2022-05-24T19:17:54.502Z"
   },
   {
    "duration": 17,
    "start_time": "2022-05-24T19:17:54.567Z"
   },
   {
    "duration": 78,
    "start_time": "2022-05-24T19:17:54.586Z"
   },
   {
    "duration": 13,
    "start_time": "2022-05-24T19:17:54.665Z"
   },
   {
    "duration": 71,
    "start_time": "2022-05-24T19:17:54.680Z"
   },
   {
    "duration": 14,
    "start_time": "2022-05-24T19:17:54.752Z"
   },
   {
    "duration": 15,
    "start_time": "2022-05-24T19:17:54.767Z"
   },
   {
    "duration": 18,
    "start_time": "2022-05-24T19:17:54.784Z"
   },
   {
    "duration": 19,
    "start_time": "2022-05-24T19:17:54.827Z"
   },
   {
    "duration": 15,
    "start_time": "2022-05-24T19:17:54.848Z"
   },
   {
    "duration": 11,
    "start_time": "2022-05-24T19:17:54.865Z"
   },
   {
    "duration": 60,
    "start_time": "2022-05-24T19:17:54.878Z"
   },
   {
    "duration": 110,
    "start_time": "2022-05-24T19:17:54.941Z"
   },
   {
    "duration": 15,
    "start_time": "2022-05-24T19:17:55.053Z"
   },
   {
    "duration": 10,
    "start_time": "2022-05-24T19:17:55.070Z"
   },
   {
    "duration": 51,
    "start_time": "2022-05-24T19:17:55.082Z"
   },
   {
    "duration": 97,
    "start_time": "2022-05-24T19:17:55.135Z"
   },
   {
    "duration": 24,
    "start_time": "2022-05-24T19:17:55.234Z"
   },
   {
    "duration": 12,
    "start_time": "2022-05-24T19:17:55.260Z"
   },
   {
    "duration": 66,
    "start_time": "2022-05-24T19:17:55.274Z"
   },
   {
    "duration": 87,
    "start_time": "2022-05-24T19:17:55.343Z"
   },
   {
    "duration": 10,
    "start_time": "2022-05-24T19:17:55.432Z"
   },
   {
    "duration": 12,
    "start_time": "2022-05-24T19:17:55.444Z"
   },
   {
    "duration": 5,
    "start_time": "2022-05-24T19:17:55.458Z"
   },
   {
    "duration": 9,
    "start_time": "2022-05-24T19:17:55.529Z"
   },
   {
    "duration": 25,
    "start_time": "2022-05-24T19:17:55.540Z"
   },
   {
    "duration": 7,
    "start_time": "2022-05-24T19:17:55.567Z"
   },
   {
    "duration": 8,
    "start_time": "2022-05-24T19:17:55.576Z"
   },
   {
    "duration": 17,
    "start_time": "2022-05-24T19:17:55.586Z"
   },
   {
    "duration": 22,
    "start_time": "2022-05-24T19:17:55.605Z"
   },
   {
    "duration": 4,
    "start_time": "2022-05-24T19:17:55.628Z"
   },
   {
    "duration": 19,
    "start_time": "2022-05-24T19:17:55.636Z"
   },
   {
    "duration": 5,
    "start_time": "2022-05-24T19:17:55.657Z"
   },
   {
    "duration": 5,
    "start_time": "2022-05-24T19:17:55.663Z"
   },
   {
    "duration": 10,
    "start_time": "2022-05-24T19:17:55.670Z"
   },
   {
    "duration": 7,
    "start_time": "2022-05-24T19:17:55.682Z"
   },
   {
    "duration": 10,
    "start_time": "2022-05-24T19:17:55.690Z"
   },
   {
    "duration": 1871,
    "start_time": "2022-05-24T19:17:55.701Z"
   },
   {
    "duration": 1890,
    "start_time": "2022-05-24T19:17:57.576Z"
   },
   {
    "duration": 1977,
    "start_time": "2022-05-24T19:17:59.468Z"
   },
   {
    "duration": 8,
    "start_time": "2022-05-24T19:18:01.447Z"
   },
   {
    "duration": 63,
    "start_time": "2022-05-24T19:18:01.457Z"
   },
   {
    "duration": 65,
    "start_time": "2022-05-24T19:18:01.521Z"
   },
   {
    "duration": 71,
    "start_time": "2022-05-24T19:18:01.588Z"
   },
   {
    "duration": 36,
    "start_time": "2022-05-24T19:18:01.662Z"
   },
   {
    "duration": 4,
    "start_time": "2022-05-24T19:18:25.782Z"
   },
   {
    "duration": 426,
    "start_time": "2022-05-24T19:18:25.787Z"
   },
   {
    "duration": 58,
    "start_time": "2022-05-24T19:18:26.215Z"
   },
   {
    "duration": 11,
    "start_time": "2022-05-24T19:18:26.275Z"
   },
   {
    "duration": 67,
    "start_time": "2022-05-24T19:18:26.288Z"
   },
   {
    "duration": 11,
    "start_time": "2022-05-24T19:18:26.356Z"
   },
   {
    "duration": 62,
    "start_time": "2022-05-24T19:18:26.369Z"
   },
   {
    "duration": 15,
    "start_time": "2022-05-24T19:18:26.435Z"
   },
   {
    "duration": 11,
    "start_time": "2022-05-24T19:18:26.452Z"
   },
   {
    "duration": 15,
    "start_time": "2022-05-24T19:18:26.465Z"
   },
   {
    "duration": 15,
    "start_time": "2022-05-24T19:18:26.482Z"
   },
   {
    "duration": 43,
    "start_time": "2022-05-24T19:18:26.499Z"
   },
   {
    "duration": 13,
    "start_time": "2022-05-24T19:18:26.543Z"
   },
   {
    "duration": 69,
    "start_time": "2022-05-24T19:18:26.560Z"
   },
   {
    "duration": 116,
    "start_time": "2022-05-24T19:18:26.631Z"
   },
   {
    "duration": 15,
    "start_time": "2022-05-24T19:18:26.748Z"
   },
   {
    "duration": 11,
    "start_time": "2022-05-24T19:18:26.765Z"
   },
   {
    "duration": 7,
    "start_time": "2022-05-24T19:18:26.778Z"
   },
   {
    "duration": 111,
    "start_time": "2022-05-24T19:18:26.825Z"
   },
   {
    "duration": 15,
    "start_time": "2022-05-24T19:18:26.939Z"
   },
   {
    "duration": 10,
    "start_time": "2022-05-24T19:18:26.956Z"
   },
   {
    "duration": 4,
    "start_time": "2022-05-24T19:18:26.968Z"
   },
   {
    "duration": 172,
    "start_time": "2022-05-24T19:18:26.974Z"
   },
   {
    "duration": 5,
    "start_time": "2022-05-24T19:18:27.148Z"
   },
   {
    "duration": 6,
    "start_time": "2022-05-24T19:18:27.155Z"
   },
   {
    "duration": 8,
    "start_time": "2022-05-24T19:18:27.163Z"
   },
   {
    "duration": 6,
    "start_time": "2022-05-24T19:18:27.172Z"
   },
   {
    "duration": 20,
    "start_time": "2022-05-24T19:18:27.179Z"
   },
   {
    "duration": 9,
    "start_time": "2022-05-24T19:18:27.201Z"
   },
   {
    "duration": 17,
    "start_time": "2022-05-24T19:18:27.212Z"
   },
   {
    "duration": 19,
    "start_time": "2022-05-24T19:18:27.230Z"
   },
   {
    "duration": 7,
    "start_time": "2022-05-24T19:18:27.250Z"
   },
   {
    "duration": 8,
    "start_time": "2022-05-24T19:18:27.258Z"
   },
   {
    "duration": 17,
    "start_time": "2022-05-24T19:18:27.267Z"
   },
   {
    "duration": 5,
    "start_time": "2022-05-24T19:18:27.286Z"
   },
   {
    "duration": 6,
    "start_time": "2022-05-24T19:18:27.292Z"
   },
   {
    "duration": 9,
    "start_time": "2022-05-24T19:18:27.299Z"
   },
   {
    "duration": 32,
    "start_time": "2022-05-24T19:18:27.309Z"
   },
   {
    "duration": 10,
    "start_time": "2022-05-24T19:18:27.343Z"
   },
   {
    "duration": 1703,
    "start_time": "2022-05-24T19:18:27.355Z"
   },
   {
    "duration": 1765,
    "start_time": "2022-05-24T19:18:29.061Z"
   },
   {
    "duration": 1759,
    "start_time": "2022-05-24T19:18:30.833Z"
   },
   {
    "duration": 7,
    "start_time": "2022-05-24T19:18:32.594Z"
   },
   {
    "duration": 41,
    "start_time": "2022-05-24T19:18:32.603Z"
   },
   {
    "duration": 18,
    "start_time": "2022-05-24T19:18:32.645Z"
   },
   {
    "duration": 15,
    "start_time": "2022-05-24T19:18:32.665Z"
   },
   {
    "duration": 8,
    "start_time": "2022-05-24T19:18:32.682Z"
   },
   {
    "duration": 1384,
    "start_time": "2022-05-25T02:08:49.414Z"
   },
   {
    "duration": 804,
    "start_time": "2022-05-25T02:08:50.800Z"
   },
   {
    "duration": 49,
    "start_time": "2022-05-25T02:08:51.606Z"
   },
   {
    "duration": 11,
    "start_time": "2022-05-25T02:08:51.657Z"
   },
   {
    "duration": 48,
    "start_time": "2022-05-25T02:08:51.670Z"
   },
   {
    "duration": 11,
    "start_time": "2022-05-25T02:08:51.727Z"
   },
   {
    "duration": 42,
    "start_time": "2022-05-25T02:08:51.739Z"
   },
   {
    "duration": 11,
    "start_time": "2022-05-25T02:08:51.783Z"
   },
   {
    "duration": 35,
    "start_time": "2022-05-25T02:08:51.796Z"
   },
   {
    "duration": 18,
    "start_time": "2022-05-25T02:08:51.833Z"
   },
   {
    "duration": 21,
    "start_time": "2022-05-25T02:08:51.852Z"
   },
   {
    "duration": 18,
    "start_time": "2022-05-25T02:08:51.874Z"
   },
   {
    "duration": 13,
    "start_time": "2022-05-25T02:08:51.894Z"
   },
   {
    "duration": 21,
    "start_time": "2022-05-25T02:08:51.909Z"
   },
   {
    "duration": 100,
    "start_time": "2022-05-25T02:08:51.932Z"
   },
   {
    "duration": 101,
    "start_time": "2022-05-25T02:08:52.037Z"
   },
   {
    "duration": 12,
    "start_time": "2022-05-25T02:08:52.139Z"
   },
   {
    "duration": 6,
    "start_time": "2022-05-25T02:08:52.153Z"
   },
   {
    "duration": 82,
    "start_time": "2022-05-25T02:08:52.160Z"
   },
   {
    "duration": 13,
    "start_time": "2022-05-25T02:08:52.327Z"
   },
   {
    "duration": 15,
    "start_time": "2022-05-25T02:08:52.341Z"
   },
   {
    "duration": 8,
    "start_time": "2022-05-25T02:08:52.358Z"
   },
   {
    "duration": 12,
    "start_time": "2022-05-25T02:08:52.429Z"
   },
   {
    "duration": 4,
    "start_time": "2022-05-25T02:08:52.528Z"
   },
   {
    "duration": 11,
    "start_time": "2022-05-25T02:08:52.534Z"
   },
   {
    "duration": 12,
    "start_time": "2022-05-25T02:08:52.547Z"
   },
   {
    "duration": 18,
    "start_time": "2022-05-25T02:08:52.561Z"
   },
   {
    "duration": 18,
    "start_time": "2022-05-25T02:08:52.581Z"
   },
   {
    "duration": 5,
    "start_time": "2022-05-25T02:08:52.600Z"
   },
   {
    "duration": 5,
    "start_time": "2022-05-25T02:08:52.606Z"
   },
   {
    "duration": 14,
    "start_time": "2022-05-25T02:08:52.612Z"
   },
   {
    "duration": 6,
    "start_time": "2022-05-25T02:08:52.627Z"
   },
   {
    "duration": 3,
    "start_time": "2022-05-25T02:08:52.634Z"
   },
   {
    "duration": 13,
    "start_time": "2022-05-25T02:08:52.639Z"
   },
   {
    "duration": 5,
    "start_time": "2022-05-25T02:08:52.653Z"
   },
   {
    "duration": 8,
    "start_time": "2022-05-25T02:08:52.659Z"
   },
   {
    "duration": 7,
    "start_time": "2022-05-25T02:08:52.668Z"
   },
   {
    "duration": 6,
    "start_time": "2022-05-25T02:08:52.676Z"
   },
   {
    "duration": 1510,
    "start_time": "2022-05-25T02:08:52.684Z"
   },
   {
    "duration": 1502,
    "start_time": "2022-05-25T02:08:54.196Z"
   },
   {
    "duration": 1576,
    "start_time": "2022-05-25T02:08:55.702Z"
   },
   {
    "duration": 7,
    "start_time": "2022-05-25T02:08:57.280Z"
   },
   {
    "duration": 9,
    "start_time": "2022-05-25T02:08:57.289Z"
   },
   {
    "duration": 9,
    "start_time": "2022-05-25T02:08:57.299Z"
   },
   {
    "duration": 18,
    "start_time": "2022-05-25T02:08:57.310Z"
   },
   {
    "duration": 3,
    "start_time": "2022-05-25T02:08:57.329Z"
   },
   {
    "duration": 6,
    "start_time": "2022-05-25T02:09:50.847Z"
   },
   {
    "duration": 8,
    "start_time": "2022-05-25T02:09:56.256Z"
   },
   {
    "duration": 7,
    "start_time": "2022-05-25T02:11:02.903Z"
   },
   {
    "duration": 8,
    "start_time": "2022-05-25T02:11:46.975Z"
   },
   {
    "duration": 1462,
    "start_time": "2022-05-26T16:51:05.214Z"
   },
   {
    "duration": 2325,
    "start_time": "2022-05-26T16:51:06.678Z"
   },
   {
    "duration": 57,
    "start_time": "2022-05-26T16:51:09.005Z"
   },
   {
    "duration": 20,
    "start_time": "2022-05-26T16:51:09.064Z"
   },
   {
    "duration": 52,
    "start_time": "2022-05-26T16:51:09.086Z"
   },
   {
    "duration": 14,
    "start_time": "2022-05-26T16:51:09.140Z"
   },
   {
    "duration": 73,
    "start_time": "2022-05-26T16:51:09.157Z"
   },
   {
    "duration": 13,
    "start_time": "2022-05-26T16:51:09.231Z"
   },
   {
    "duration": 39,
    "start_time": "2022-05-26T16:51:09.246Z"
   },
   {
    "duration": 16,
    "start_time": "2022-05-26T16:51:09.287Z"
   },
   {
    "duration": 18,
    "start_time": "2022-05-26T16:51:09.305Z"
   },
   {
    "duration": 18,
    "start_time": "2022-05-26T16:51:09.324Z"
   },
   {
    "duration": 15,
    "start_time": "2022-05-26T16:51:09.343Z"
   },
   {
    "duration": 28,
    "start_time": "2022-05-26T16:51:09.360Z"
   },
   {
    "duration": 101,
    "start_time": "2022-05-26T16:51:09.390Z"
   },
   {
    "duration": 99,
    "start_time": "2022-05-26T16:51:09.496Z"
   },
   {
    "duration": 15,
    "start_time": "2022-05-26T16:51:09.597Z"
   },
   {
    "duration": 5,
    "start_time": "2022-05-26T16:51:09.614Z"
   },
   {
    "duration": 67,
    "start_time": "2022-05-26T16:51:09.623Z"
   },
   {
    "duration": 106,
    "start_time": "2022-05-26T16:51:09.693Z"
   },
   {
    "duration": 16,
    "start_time": "2022-05-26T16:51:09.801Z"
   },
   {
    "duration": 10,
    "start_time": "2022-05-26T16:51:09.819Z"
   },
   {
    "duration": 153,
    "start_time": "2022-05-26T16:51:09.832Z"
   },
   {
    "duration": 3,
    "start_time": "2022-05-26T16:51:09.987Z"
   },
   {
    "duration": 7,
    "start_time": "2022-05-26T16:51:09.991Z"
   },
   {
    "duration": 13,
    "start_time": "2022-05-26T16:51:09.999Z"
   },
   {
    "duration": 132,
    "start_time": "2022-05-26T16:51:10.014Z"
   },
   {
    "duration": 0,
    "start_time": "2022-05-26T16:51:10.148Z"
   },
   {
    "duration": 0,
    "start_time": "2022-05-26T16:51:10.149Z"
   },
   {
    "duration": 0,
    "start_time": "2022-05-26T16:51:10.151Z"
   },
   {
    "duration": 0,
    "start_time": "2022-05-26T16:51:10.152Z"
   },
   {
    "duration": 0,
    "start_time": "2022-05-26T16:51:10.155Z"
   },
   {
    "duration": 0,
    "start_time": "2022-05-26T16:51:10.156Z"
   },
   {
    "duration": 0,
    "start_time": "2022-05-26T16:51:10.158Z"
   },
   {
    "duration": 0,
    "start_time": "2022-05-26T16:51:10.160Z"
   },
   {
    "duration": 0,
    "start_time": "2022-05-26T16:51:10.161Z"
   },
   {
    "duration": 0,
    "start_time": "2022-05-26T16:51:10.184Z"
   },
   {
    "duration": 0,
    "start_time": "2022-05-26T16:51:10.186Z"
   },
   {
    "duration": 0,
    "start_time": "2022-05-26T16:51:10.187Z"
   },
   {
    "duration": 0,
    "start_time": "2022-05-26T16:51:10.190Z"
   },
   {
    "duration": 0,
    "start_time": "2022-05-26T16:51:10.191Z"
   },
   {
    "duration": 17,
    "start_time": "2022-05-26T16:52:36.994Z"
   },
   {
    "duration": 19,
    "start_time": "2022-05-26T16:52:59.675Z"
   },
   {
    "duration": 14,
    "start_time": "2022-05-26T16:53:19.955Z"
   },
   {
    "duration": 14,
    "start_time": "2022-05-26T16:53:47.682Z"
   },
   {
    "duration": 14,
    "start_time": "2022-05-26T16:53:58.483Z"
   },
   {
    "duration": 29,
    "start_time": "2022-05-26T16:54:18.668Z"
   },
   {
    "duration": 17,
    "start_time": "2022-05-26T16:54:31.713Z"
   },
   {
    "duration": 16,
    "start_time": "2022-05-26T16:54:58.622Z"
   },
   {
    "duration": 9,
    "start_time": "2022-05-26T16:55:25.452Z"
   },
   {
    "duration": 4,
    "start_time": "2022-05-26T16:55:34.385Z"
   },
   {
    "duration": 7,
    "start_time": "2022-05-26T16:55:58.063Z"
   },
   {
    "duration": 11,
    "start_time": "2022-05-26T16:56:18.871Z"
   },
   {
    "duration": 14,
    "start_time": "2022-05-26T17:04:37.454Z"
   },
   {
    "duration": 14,
    "start_time": "2022-05-26T17:05:09.309Z"
   },
   {
    "duration": 17,
    "start_time": "2022-05-26T17:05:43.764Z"
   },
   {
    "duration": 41,
    "start_time": "2022-05-26T17:06:23.444Z"
   },
   {
    "duration": 12,
    "start_time": "2022-05-26T17:07:10.762Z"
   },
   {
    "duration": 3,
    "start_time": "2022-05-26T17:07:20.870Z"
   },
   {
    "duration": 23,
    "start_time": "2022-05-26T17:07:24.326Z"
   },
   {
    "duration": 4,
    "start_time": "2022-05-26T17:07:34.063Z"
   },
   {
    "duration": 9,
    "start_time": "2022-05-26T17:07:35.744Z"
   },
   {
    "duration": 7,
    "start_time": "2022-05-26T17:07:38.847Z"
   },
   {
    "duration": 7,
    "start_time": "2022-05-26T17:07:41.319Z"
   },
   {
    "duration": 13,
    "start_time": "2022-05-26T17:09:45.478Z"
   },
   {
    "duration": 18,
    "start_time": "2022-05-26T17:11:23.887Z"
   },
   {
    "duration": 23,
    "start_time": "2022-05-26T17:14:32.272Z"
   },
   {
    "duration": 15,
    "start_time": "2022-05-26T17:14:41.813Z"
   },
   {
    "duration": 12,
    "start_time": "2022-05-26T17:15:02.120Z"
   },
   {
    "duration": 6,
    "start_time": "2022-05-26T17:15:48.802Z"
   },
   {
    "duration": 10,
    "start_time": "2022-05-26T17:15:57.040Z"
   },
   {
    "duration": 52,
    "start_time": "2022-05-26T17:16:28.358Z"
   },
   {
    "duration": 16,
    "start_time": "2022-05-26T17:16:43.758Z"
   },
   {
    "duration": 17,
    "start_time": "2022-05-26T17:17:01.447Z"
   },
   {
    "duration": 1171,
    "start_time": "2022-05-26T17:19:38.359Z"
   },
   {
    "duration": 1189,
    "start_time": "2022-05-26T17:20:39.225Z"
   },
   {
    "duration": 1187,
    "start_time": "2022-05-26T17:20:43.355Z"
   },
   {
    "duration": 290,
    "start_time": "2022-05-26T17:21:50.599Z"
   },
   {
    "duration": 7,
    "start_time": "2022-05-26T17:22:16.327Z"
   },
   {
    "duration": 7,
    "start_time": "2022-05-26T17:22:26.871Z"
   },
   {
    "duration": 6,
    "start_time": "2022-05-26T17:22:59.590Z"
   },
   {
    "duration": 7,
    "start_time": "2022-05-26T17:23:00.830Z"
   },
   {
    "duration": 3,
    "start_time": "2022-05-26T17:26:18.084Z"
   },
   {
    "duration": 3,
    "start_time": "2022-05-26T17:26:22.219Z"
   },
   {
    "duration": 4,
    "start_time": "2022-05-26T17:26:24.503Z"
   },
   {
    "duration": 3,
    "start_time": "2022-05-26T17:26:40.962Z"
   },
   {
    "duration": 1309,
    "start_time": "2022-05-26T17:31:34.968Z"
   },
   {
    "duration": 438,
    "start_time": "2022-05-26T17:31:36.279Z"
   },
   {
    "duration": 56,
    "start_time": "2022-05-26T17:31:36.719Z"
   },
   {
    "duration": 16,
    "start_time": "2022-05-26T17:31:36.785Z"
   },
   {
    "duration": 59,
    "start_time": "2022-05-26T17:31:36.803Z"
   },
   {
    "duration": 13,
    "start_time": "2022-05-26T17:31:36.865Z"
   },
   {
    "duration": 53,
    "start_time": "2022-05-26T17:31:36.894Z"
   },
   {
    "duration": 11,
    "start_time": "2022-05-26T17:31:36.949Z"
   },
   {
    "duration": 32,
    "start_time": "2022-05-26T17:31:36.962Z"
   },
   {
    "duration": 17,
    "start_time": "2022-05-26T17:31:36.996Z"
   },
   {
    "duration": 17,
    "start_time": "2022-05-26T17:31:37.015Z"
   },
   {
    "duration": 22,
    "start_time": "2022-05-26T17:31:37.034Z"
   },
   {
    "duration": 41,
    "start_time": "2022-05-26T17:31:37.058Z"
   },
   {
    "duration": 87,
    "start_time": "2022-05-26T17:31:37.102Z"
   },
   {
    "duration": 14,
    "start_time": "2022-05-26T17:31:37.190Z"
   },
   {
    "duration": 93,
    "start_time": "2022-05-26T17:31:37.206Z"
   },
   {
    "duration": 26,
    "start_time": "2022-05-26T17:31:37.301Z"
   },
   {
    "duration": 62,
    "start_time": "2022-05-26T17:31:37.329Z"
   },
   {
    "duration": 116,
    "start_time": "2022-05-26T17:31:37.393Z"
   },
   {
    "duration": 15,
    "start_time": "2022-05-26T17:31:37.510Z"
   },
   {
    "duration": 14,
    "start_time": "2022-05-26T17:31:37.527Z"
   },
   {
    "duration": 48,
    "start_time": "2022-05-26T17:31:37.543Z"
   },
   {
    "duration": 105,
    "start_time": "2022-05-26T17:31:37.593Z"
   },
   {
    "duration": 6,
    "start_time": "2022-05-26T17:31:37.700Z"
   },
   {
    "duration": 6,
    "start_time": "2022-05-26T17:31:37.708Z"
   },
   {
    "duration": 5,
    "start_time": "2022-05-26T17:31:37.716Z"
   },
   {
    "duration": 11,
    "start_time": "2022-05-26T17:31:37.723Z"
   },
   {
    "duration": 7,
    "start_time": "2022-05-26T17:31:37.736Z"
   },
   {
    "duration": 7,
    "start_time": "2022-05-26T17:31:37.745Z"
   },
   {
    "duration": 1286,
    "start_time": "2022-05-26T17:31:37.754Z"
   },
   {
    "duration": 1188,
    "start_time": "2022-05-26T17:31:39.042Z"
   },
   {
    "duration": 1185,
    "start_time": "2022-05-26T17:31:40.232Z"
   },
   {
    "duration": 8,
    "start_time": "2022-05-26T17:31:41.419Z"
   },
   {
    "duration": 10,
    "start_time": "2022-05-26T17:31:41.428Z"
   },
   {
    "duration": 7,
    "start_time": "2022-05-26T17:31:41.440Z"
   },
   {
    "duration": 1443,
    "start_time": "2022-05-27T06:30:48.355Z"
   },
   {
    "duration": 1978,
    "start_time": "2022-05-27T06:30:49.799Z"
   },
   {
    "duration": 54,
    "start_time": "2022-05-27T06:30:51.779Z"
   },
   {
    "duration": 10,
    "start_time": "2022-05-27T06:30:51.835Z"
   },
   {
    "duration": 65,
    "start_time": "2022-05-27T06:30:51.847Z"
   },
   {
    "duration": 11,
    "start_time": "2022-05-27T06:30:51.914Z"
   },
   {
    "duration": 90,
    "start_time": "2022-05-27T06:30:51.926Z"
   },
   {
    "duration": 12,
    "start_time": "2022-05-27T06:30:52.018Z"
   },
   {
    "duration": 43,
    "start_time": "2022-05-27T06:30:52.031Z"
   },
   {
    "duration": 35,
    "start_time": "2022-05-27T06:30:52.078Z"
   },
   {
    "duration": 41,
    "start_time": "2022-05-27T06:30:52.114Z"
   },
   {
    "duration": 33,
    "start_time": "2022-05-27T06:30:52.157Z"
   },
   {
    "duration": 24,
    "start_time": "2022-05-27T06:30:52.191Z"
   },
   {
    "duration": 49,
    "start_time": "2022-05-27T06:30:52.216Z"
   },
   {
    "duration": 117,
    "start_time": "2022-05-27T06:30:52.268Z"
   },
   {
    "duration": 31,
    "start_time": "2022-05-27T06:30:52.386Z"
   },
   {
    "duration": 36,
    "start_time": "2022-05-27T06:30:52.418Z"
   },
   {
    "duration": 37,
    "start_time": "2022-05-27T06:30:52.456Z"
   },
   {
    "duration": 171,
    "start_time": "2022-05-27T06:30:52.495Z"
   },
   {
    "duration": 26,
    "start_time": "2022-05-27T06:30:52.668Z"
   },
   {
    "duration": 22,
    "start_time": "2022-05-27T06:30:52.696Z"
   },
   {
    "duration": 139,
    "start_time": "2022-05-27T06:30:52.720Z"
   },
   {
    "duration": 27,
    "start_time": "2022-05-27T06:30:52.861Z"
   },
   {
    "duration": 23,
    "start_time": "2022-05-27T06:30:52.890Z"
   },
   {
    "duration": 22,
    "start_time": "2022-05-27T06:30:52.915Z"
   },
   {
    "duration": 24,
    "start_time": "2022-05-27T06:30:52.939Z"
   },
   {
    "duration": 28,
    "start_time": "2022-05-27T06:30:52.966Z"
   },
   {
    "duration": 15,
    "start_time": "2022-05-27T06:30:52.998Z"
   },
   {
    "duration": 19,
    "start_time": "2022-05-27T06:30:53.015Z"
   },
   {
    "duration": 1377,
    "start_time": "2022-05-27T06:30:53.036Z"
   },
   {
    "duration": 1085,
    "start_time": "2022-05-27T06:30:54.414Z"
   },
   {
    "duration": 1028,
    "start_time": "2022-05-27T06:30:55.500Z"
   },
   {
    "duration": 8,
    "start_time": "2022-05-27T06:30:56.530Z"
   },
   {
    "duration": 27,
    "start_time": "2022-05-27T06:30:56.540Z"
   },
   {
    "duration": 25,
    "start_time": "2022-05-27T06:30:56.569Z"
   }
  ],
  "kernelspec": {
   "display_name": "Python 3 (ipykernel)",
   "language": "python",
   "name": "python3"
  },
  "language_info": {
   "codemirror_mode": {
    "name": "ipython",
    "version": 3
   },
   "file_extension": ".py",
   "mimetype": "text/x-python",
   "name": "python",
   "nbconvert_exporter": "python",
   "pygments_lexer": "ipython3",
   "version": "3.9.5"
  },
  "toc": {
   "base_numbering": 1,
   "nav_menu": {},
   "number_sections": true,
   "sideBar": true,
   "skip_h1_title": true,
   "title_cell": "Table of Contents",
   "title_sidebar": "Contents",
   "toc_cell": false,
   "toc_position": {},
   "toc_section_display": true,
   "toc_window_display": false
  }
 },
 "nbformat": 4,
 "nbformat_minor": 2
}
