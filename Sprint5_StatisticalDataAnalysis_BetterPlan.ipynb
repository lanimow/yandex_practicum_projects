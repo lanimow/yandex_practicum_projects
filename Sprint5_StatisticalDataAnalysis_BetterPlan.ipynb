{
 "cells": [
  {
   "cell_type": "markdown",
   "metadata": {},
   "source": [
    "# Which one is a better plan?\n",
    "\n",
    "You work as an analyst for the telecom operator Megaline. The company offers its clients two prepaid plans, Surf and Ultimate. The commercial department wants to know which of the plans brings in more revenue in order to adjust the advertising budget.\n",
    "\n",
    "You are going to carry out a preliminary analysis of the plans based on a relatively small client selection. You'll have the data on 500 Megaline clients: who the clients are, where they're from, which plan they use, and the number of calls they made and text messages they sent in 2018. Your job is to analyze the clients' behavior and determine which prepaid plan brings in more revenue."
   ]
  },
  {
   "cell_type": "markdown",
   "metadata": {},
   "source": [
    "## Initialization"
   ]
  },
  {
   "cell_type": "markdown",
   "metadata": {},
   "source": [
    "The pandas, numpy, stats, pyplot, and seaborn libraries were loaded to utilize in the analysis. Import warnings to prevent filter warnings from appearing in the output."
   ]
  },
  {
   "cell_type": "code",
   "execution_count": 1,
   "metadata": {},
   "outputs": [],
   "source": [
    "# Loading all the libraries\n",
    "import pandas as pd\n",
    "import numpy as np\n",
    "from scipy import stats as st\n",
    "from matplotlib import pyplot as plt\n",
    "%matplotlib inline\n",
    "import seaborn as sns\n",
    "import warnings\n",
    "warnings.filterwarnings(\"ignore\")\n"
   ]
  },
  {
   "cell_type": "markdown",
   "metadata": {},
   "source": [
    "## Load data"
   ]
  },
  {
   "cell_type": "markdown",
   "metadata": {},
   "source": [
    "Using try-except constructions to avoid errors during data importing, the 5 relevant dataframes for calls, internet, messages, plans, and users of Megaline were imported in."
   ]
  },
  {
   "cell_type": "code",
   "execution_count": 2,
   "metadata": {},
   "outputs": [],
   "source": [
    "# Load the data files into different DataFrames\n",
    "try:\n",
    "    calls = pd.read_csv('/datasets/megaline_calls.csv')\n",
    "except:\n",
    "    calls = pd.read_csv('megaline_calls.csv')\n",
    "    \n",
    "try:\n",
    "    internet = pd.read_csv('/datasets/megaline_internet.csv')\n",
    "except:\n",
    "    internet = pd.read_csv('megaline_internet.csv')\n",
    "    \n",
    "try:\n",
    "    messages = pd.read_csv('/datasets/megaline_messages.csv')\n",
    "except:\n",
    "    messages = pd.read_csv('megaline_messages.csv')\n",
    "\n",
    "try:\n",
    "    plans = pd.read_csv('/datasets/megaline_plans.csv')\n",
    "except:\n",
    "    plans = pd.read_csv('megaline_plans.csv')\n",
    "    \n",
    "try:\n",
    "    users = pd.read_csv('/datasets/megaline_users.csv')\n",
    "except:\n",
    "    users = pd.read_csv('megaline_users.csv')\n"
   ]
  },
  {
   "cell_type": "markdown",
   "metadata": {},
   "source": [
    "## Prepare the data"
   ]
  },
  {
   "cell_type": "markdown",
   "metadata": {},
   "source": [
    "Below, each of the dataframes will be explored, fixed, and enriched as necessary for the subsequent analysis."
   ]
  },
  {
   "cell_type": "markdown",
   "metadata": {},
   "source": [
    "## Plans"
   ]
  },
  {
   "cell_type": "code",
   "execution_count": 3,
   "metadata": {},
   "outputs": [
    {
     "name": "stdout",
     "output_type": "stream",
     "text": [
      "<class 'pandas.core.frame.DataFrame'>\n",
      "RangeIndex: 2 entries, 0 to 1\n",
      "Data columns (total 8 columns):\n",
      " #   Column                 Non-Null Count  Dtype  \n",
      "---  ------                 --------------  -----  \n",
      " 0   messages_included      2 non-null      int64  \n",
      " 1   mb_per_month_included  2 non-null      int64  \n",
      " 2   minutes_included       2 non-null      int64  \n",
      " 3   usd_monthly_pay        2 non-null      int64  \n",
      " 4   usd_per_gb             2 non-null      int64  \n",
      " 5   usd_per_message        2 non-null      float64\n",
      " 6   usd_per_minute         2 non-null      float64\n",
      " 7   plan_name              2 non-null      object \n",
      "dtypes: float64(2), int64(5), object(1)\n",
      "memory usage: 256.0+ bytes\n"
     ]
    }
   ],
   "source": [
    "# Print the general/summary information about the 'plans' DataFrame\n",
    "plans.info()\n"
   ]
  },
  {
   "cell_type": "code",
   "execution_count": 4,
   "metadata": {},
   "outputs": [
    {
     "data": {
      "text/html": [
       "<div>\n",
       "<style scoped>\n",
       "    .dataframe tbody tr th:only-of-type {\n",
       "        vertical-align: middle;\n",
       "    }\n",
       "\n",
       "    .dataframe tbody tr th {\n",
       "        vertical-align: top;\n",
       "    }\n",
       "\n",
       "    .dataframe thead th {\n",
       "        text-align: right;\n",
       "    }\n",
       "</style>\n",
       "<table border=\"1\" class=\"dataframe\">\n",
       "  <thead>\n",
       "    <tr style=\"text-align: right;\">\n",
       "      <th></th>\n",
       "      <th>messages_included</th>\n",
       "      <th>mb_per_month_included</th>\n",
       "      <th>minutes_included</th>\n",
       "      <th>usd_monthly_pay</th>\n",
       "      <th>usd_per_gb</th>\n",
       "      <th>usd_per_message</th>\n",
       "      <th>usd_per_minute</th>\n",
       "      <th>plan_name</th>\n",
       "    </tr>\n",
       "  </thead>\n",
       "  <tbody>\n",
       "    <tr>\n",
       "      <th>0</th>\n",
       "      <td>50</td>\n",
       "      <td>15360</td>\n",
       "      <td>500</td>\n",
       "      <td>20</td>\n",
       "      <td>10</td>\n",
       "      <td>0.03</td>\n",
       "      <td>0.03</td>\n",
       "      <td>surf</td>\n",
       "    </tr>\n",
       "    <tr>\n",
       "      <th>1</th>\n",
       "      <td>1000</td>\n",
       "      <td>30720</td>\n",
       "      <td>3000</td>\n",
       "      <td>70</td>\n",
       "      <td>7</td>\n",
       "      <td>0.01</td>\n",
       "      <td>0.01</td>\n",
       "      <td>ultimate</td>\n",
       "    </tr>\n",
       "  </tbody>\n",
       "</table>\n",
       "</div>"
      ],
      "text/plain": [
       "   messages_included  mb_per_month_included  minutes_included  \\\n",
       "0                 50                  15360               500   \n",
       "1               1000                  30720              3000   \n",
       "\n",
       "   usd_monthly_pay  usd_per_gb  usd_per_message  usd_per_minute plan_name  \n",
       "0               20          10             0.03            0.03      surf  \n",
       "1               70           7             0.01            0.01  ultimate  "
      ]
     },
     "metadata": {},
     "output_type": "display_data"
    }
   ],
   "source": [
    "# Print a sample of data for 'plans'\n",
    "display(plans)\n"
   ]
  },
  {
   "cell_type": "markdown",
   "metadata": {},
   "source": [
    "The \"plans\" dataframe contains information about Megaline's Surf and Ultimate plans. It includes the pricing schemes that will be relevant later in the analysis when calculating the the costs for each plan for users.\n",
    "\n",
    "There is no missing data in this dataframe based on the provided descriptions of each plan and no other discrepancies that must be fixed so nothing will be changed for this dataframe."
   ]
  },
  {
   "cell_type": "markdown",
   "metadata": {},
   "source": [
    "## Users"
   ]
  },
  {
   "cell_type": "code",
   "execution_count": 5,
   "metadata": {},
   "outputs": [
    {
     "name": "stdout",
     "output_type": "stream",
     "text": [
      "<class 'pandas.core.frame.DataFrame'>\n",
      "RangeIndex: 500 entries, 0 to 499\n",
      "Data columns (total 8 columns):\n",
      " #   Column      Non-Null Count  Dtype \n",
      "---  ------      --------------  ----- \n",
      " 0   user_id     500 non-null    int64 \n",
      " 1   first_name  500 non-null    object\n",
      " 2   last_name   500 non-null    object\n",
      " 3   age         500 non-null    int64 \n",
      " 4   city        500 non-null    object\n",
      " 5   reg_date    500 non-null    object\n",
      " 6   plan        500 non-null    object\n",
      " 7   churn_date  34 non-null     object\n",
      "dtypes: int64(2), object(6)\n",
      "memory usage: 31.4+ KB\n"
     ]
    },
    {
     "data": {
      "text/html": [
       "<div>\n",
       "<style scoped>\n",
       "    .dataframe tbody tr th:only-of-type {\n",
       "        vertical-align: middle;\n",
       "    }\n",
       "\n",
       "    .dataframe tbody tr th {\n",
       "        vertical-align: top;\n",
       "    }\n",
       "\n",
       "    .dataframe thead th {\n",
       "        text-align: right;\n",
       "    }\n",
       "</style>\n",
       "<table border=\"1\" class=\"dataframe\">\n",
       "  <thead>\n",
       "    <tr style=\"text-align: right;\">\n",
       "      <th></th>\n",
       "      <th>user_id</th>\n",
       "      <th>age</th>\n",
       "    </tr>\n",
       "  </thead>\n",
       "  <tbody>\n",
       "    <tr>\n",
       "      <th>count</th>\n",
       "      <td>500.000000</td>\n",
       "      <td>500.000000</td>\n",
       "    </tr>\n",
       "    <tr>\n",
       "      <th>mean</th>\n",
       "      <td>1249.500000</td>\n",
       "      <td>45.486000</td>\n",
       "    </tr>\n",
       "    <tr>\n",
       "      <th>std</th>\n",
       "      <td>144.481833</td>\n",
       "      <td>16.972269</td>\n",
       "    </tr>\n",
       "    <tr>\n",
       "      <th>min</th>\n",
       "      <td>1000.000000</td>\n",
       "      <td>18.000000</td>\n",
       "    </tr>\n",
       "    <tr>\n",
       "      <th>25%</th>\n",
       "      <td>1124.750000</td>\n",
       "      <td>30.000000</td>\n",
       "    </tr>\n",
       "    <tr>\n",
       "      <th>50%</th>\n",
       "      <td>1249.500000</td>\n",
       "      <td>46.000000</td>\n",
       "    </tr>\n",
       "    <tr>\n",
       "      <th>75%</th>\n",
       "      <td>1374.250000</td>\n",
       "      <td>61.000000</td>\n",
       "    </tr>\n",
       "    <tr>\n",
       "      <th>max</th>\n",
       "      <td>1499.000000</td>\n",
       "      <td>75.000000</td>\n",
       "    </tr>\n",
       "  </tbody>\n",
       "</table>\n",
       "</div>"
      ],
      "text/plain": [
       "           user_id         age\n",
       "count   500.000000  500.000000\n",
       "mean   1249.500000   45.486000\n",
       "std     144.481833   16.972269\n",
       "min    1000.000000   18.000000\n",
       "25%    1124.750000   30.000000\n",
       "50%    1249.500000   46.000000\n",
       "75%    1374.250000   61.000000\n",
       "max    1499.000000   75.000000"
      ]
     },
     "execution_count": 5,
     "metadata": {},
     "output_type": "execute_result"
    }
   ],
   "source": [
    "# Print the general/summary information about the 'users' DataFrame\n",
    "users.info()\n",
    "users.describe()\n"
   ]
  },
  {
   "cell_type": "code",
   "execution_count": 6,
   "metadata": {},
   "outputs": [
    {
     "data": {
      "text/html": [
       "<div>\n",
       "<style scoped>\n",
       "    .dataframe tbody tr th:only-of-type {\n",
       "        vertical-align: middle;\n",
       "    }\n",
       "\n",
       "    .dataframe tbody tr th {\n",
       "        vertical-align: top;\n",
       "    }\n",
       "\n",
       "    .dataframe thead th {\n",
       "        text-align: right;\n",
       "    }\n",
       "</style>\n",
       "<table border=\"1\" class=\"dataframe\">\n",
       "  <thead>\n",
       "    <tr style=\"text-align: right;\">\n",
       "      <th></th>\n",
       "      <th>user_id</th>\n",
       "      <th>first_name</th>\n",
       "      <th>last_name</th>\n",
       "      <th>age</th>\n",
       "      <th>city</th>\n",
       "      <th>reg_date</th>\n",
       "      <th>plan</th>\n",
       "      <th>churn_date</th>\n",
       "    </tr>\n",
       "  </thead>\n",
       "  <tbody>\n",
       "    <tr>\n",
       "      <th>0</th>\n",
       "      <td>1000</td>\n",
       "      <td>Anamaria</td>\n",
       "      <td>Bauer</td>\n",
       "      <td>45</td>\n",
       "      <td>Atlanta-Sandy Springs-Roswell, GA MSA</td>\n",
       "      <td>2018-12-24</td>\n",
       "      <td>ultimate</td>\n",
       "      <td>NaN</td>\n",
       "    </tr>\n",
       "    <tr>\n",
       "      <th>1</th>\n",
       "      <td>1001</td>\n",
       "      <td>Mickey</td>\n",
       "      <td>Wilkerson</td>\n",
       "      <td>28</td>\n",
       "      <td>Seattle-Tacoma-Bellevue, WA MSA</td>\n",
       "      <td>2018-08-13</td>\n",
       "      <td>surf</td>\n",
       "      <td>NaN</td>\n",
       "    </tr>\n",
       "    <tr>\n",
       "      <th>2</th>\n",
       "      <td>1002</td>\n",
       "      <td>Carlee</td>\n",
       "      <td>Hoffman</td>\n",
       "      <td>36</td>\n",
       "      <td>Las Vegas-Henderson-Paradise, NV MSA</td>\n",
       "      <td>2018-10-21</td>\n",
       "      <td>surf</td>\n",
       "      <td>NaN</td>\n",
       "    </tr>\n",
       "    <tr>\n",
       "      <th>3</th>\n",
       "      <td>1003</td>\n",
       "      <td>Reynaldo</td>\n",
       "      <td>Jenkins</td>\n",
       "      <td>52</td>\n",
       "      <td>Tulsa, OK MSA</td>\n",
       "      <td>2018-01-28</td>\n",
       "      <td>surf</td>\n",
       "      <td>NaN</td>\n",
       "    </tr>\n",
       "    <tr>\n",
       "      <th>4</th>\n",
       "      <td>1004</td>\n",
       "      <td>Leonila</td>\n",
       "      <td>Thompson</td>\n",
       "      <td>40</td>\n",
       "      <td>Seattle-Tacoma-Bellevue, WA MSA</td>\n",
       "      <td>2018-05-23</td>\n",
       "      <td>surf</td>\n",
       "      <td>NaN</td>\n",
       "    </tr>\n",
       "    <tr>\n",
       "      <th>5</th>\n",
       "      <td>1005</td>\n",
       "      <td>Livia</td>\n",
       "      <td>Shields</td>\n",
       "      <td>31</td>\n",
       "      <td>Dallas-Fort Worth-Arlington, TX MSA</td>\n",
       "      <td>2018-11-29</td>\n",
       "      <td>surf</td>\n",
       "      <td>NaN</td>\n",
       "    </tr>\n",
       "    <tr>\n",
       "      <th>6</th>\n",
       "      <td>1006</td>\n",
       "      <td>Jesusa</td>\n",
       "      <td>Bradford</td>\n",
       "      <td>73</td>\n",
       "      <td>San Francisco-Oakland-Berkeley, CA MSA</td>\n",
       "      <td>2018-11-27</td>\n",
       "      <td>ultimate</td>\n",
       "      <td>2018-12-18</td>\n",
       "    </tr>\n",
       "    <tr>\n",
       "      <th>7</th>\n",
       "      <td>1007</td>\n",
       "      <td>Eusebio</td>\n",
       "      <td>Welch</td>\n",
       "      <td>42</td>\n",
       "      <td>Grand Rapids-Kentwood, MI MSA</td>\n",
       "      <td>2018-07-11</td>\n",
       "      <td>surf</td>\n",
       "      <td>NaN</td>\n",
       "    </tr>\n",
       "    <tr>\n",
       "      <th>8</th>\n",
       "      <td>1008</td>\n",
       "      <td>Emely</td>\n",
       "      <td>Hoffman</td>\n",
       "      <td>53</td>\n",
       "      <td>Orlando-Kissimmee-Sanford, FL MSA</td>\n",
       "      <td>2018-08-03</td>\n",
       "      <td>ultimate</td>\n",
       "      <td>NaN</td>\n",
       "    </tr>\n",
       "    <tr>\n",
       "      <th>9</th>\n",
       "      <td>1009</td>\n",
       "      <td>Gerry</td>\n",
       "      <td>Little</td>\n",
       "      <td>19</td>\n",
       "      <td>San Jose-Sunnyvale-Santa Clara, CA MSA</td>\n",
       "      <td>2018-04-22</td>\n",
       "      <td>surf</td>\n",
       "      <td>NaN</td>\n",
       "    </tr>\n",
       "    <tr>\n",
       "      <th>10</th>\n",
       "      <td>1010</td>\n",
       "      <td>Wilber</td>\n",
       "      <td>Blair</td>\n",
       "      <td>52</td>\n",
       "      <td>Dallas-Fort Worth-Arlington, TX MSA</td>\n",
       "      <td>2018-03-09</td>\n",
       "      <td>surf</td>\n",
       "      <td>NaN</td>\n",
       "    </tr>\n",
       "    <tr>\n",
       "      <th>11</th>\n",
       "      <td>1011</td>\n",
       "      <td>Halina</td>\n",
       "      <td>Henry</td>\n",
       "      <td>73</td>\n",
       "      <td>Cleveland-Elyria, OH MSA</td>\n",
       "      <td>2018-01-18</td>\n",
       "      <td>ultimate</td>\n",
       "      <td>NaN</td>\n",
       "    </tr>\n",
       "    <tr>\n",
       "      <th>12</th>\n",
       "      <td>1012</td>\n",
       "      <td>Jonelle</td>\n",
       "      <td>Mcbride</td>\n",
       "      <td>59</td>\n",
       "      <td>Chicago-Naperville-Elgin, IL-IN-WI MSA</td>\n",
       "      <td>2018-06-28</td>\n",
       "      <td>surf</td>\n",
       "      <td>2018-11-16</td>\n",
       "    </tr>\n",
       "    <tr>\n",
       "      <th>13</th>\n",
       "      <td>1013</td>\n",
       "      <td>Nicolas</td>\n",
       "      <td>Snider</td>\n",
       "      <td>50</td>\n",
       "      <td>Knoxville, TN MSA</td>\n",
       "      <td>2018-12-01</td>\n",
       "      <td>ultimate</td>\n",
       "      <td>NaN</td>\n",
       "    </tr>\n",
       "    <tr>\n",
       "      <th>14</th>\n",
       "      <td>1014</td>\n",
       "      <td>Edmundo</td>\n",
       "      <td>Simon</td>\n",
       "      <td>61</td>\n",
       "      <td>New York-Newark-Jersey City, NY-NJ-PA MSA</td>\n",
       "      <td>2018-11-25</td>\n",
       "      <td>surf</td>\n",
       "      <td>NaN</td>\n",
       "    </tr>\n",
       "    <tr>\n",
       "      <th>15</th>\n",
       "      <td>1015</td>\n",
       "      <td>Beata</td>\n",
       "      <td>Carpenter</td>\n",
       "      <td>26</td>\n",
       "      <td>Pittsburgh, PA MSA</td>\n",
       "      <td>2018-12-05</td>\n",
       "      <td>surf</td>\n",
       "      <td>NaN</td>\n",
       "    </tr>\n",
       "    <tr>\n",
       "      <th>16</th>\n",
       "      <td>1016</td>\n",
       "      <td>Jann</td>\n",
       "      <td>Salinas</td>\n",
       "      <td>30</td>\n",
       "      <td>Fresno, CA MSA</td>\n",
       "      <td>2018-10-25</td>\n",
       "      <td>surf</td>\n",
       "      <td>NaN</td>\n",
       "    </tr>\n",
       "    <tr>\n",
       "      <th>17</th>\n",
       "      <td>1017</td>\n",
       "      <td>Boris</td>\n",
       "      <td>Gates</td>\n",
       "      <td>61</td>\n",
       "      <td>Washington-Arlington-Alexandria, DC-VA-MD-WV MSA</td>\n",
       "      <td>2018-08-26</td>\n",
       "      <td>surf</td>\n",
       "      <td>NaN</td>\n",
       "    </tr>\n",
       "    <tr>\n",
       "      <th>18</th>\n",
       "      <td>1018</td>\n",
       "      <td>Dennis</td>\n",
       "      <td>Grimes</td>\n",
       "      <td>70</td>\n",
       "      <td>Indianapolis-Carmel-Anderson, IN MSA</td>\n",
       "      <td>2018-10-17</td>\n",
       "      <td>surf</td>\n",
       "      <td>NaN</td>\n",
       "    </tr>\n",
       "    <tr>\n",
       "      <th>19</th>\n",
       "      <td>1019</td>\n",
       "      <td>Shizue</td>\n",
       "      <td>Landry</td>\n",
       "      <td>34</td>\n",
       "      <td>Jacksonville, FL MSA</td>\n",
       "      <td>2018-01-16</td>\n",
       "      <td>surf</td>\n",
       "      <td>NaN</td>\n",
       "    </tr>\n",
       "  </tbody>\n",
       "</table>\n",
       "</div>"
      ],
      "text/plain": [
       "    user_id first_name  last_name  age  \\\n",
       "0      1000   Anamaria      Bauer   45   \n",
       "1      1001     Mickey  Wilkerson   28   \n",
       "2      1002     Carlee    Hoffman   36   \n",
       "3      1003   Reynaldo    Jenkins   52   \n",
       "4      1004    Leonila   Thompson   40   \n",
       "5      1005      Livia    Shields   31   \n",
       "6      1006     Jesusa   Bradford   73   \n",
       "7      1007    Eusebio      Welch   42   \n",
       "8      1008      Emely    Hoffman   53   \n",
       "9      1009      Gerry     Little   19   \n",
       "10     1010     Wilber      Blair   52   \n",
       "11     1011     Halina      Henry   73   \n",
       "12     1012    Jonelle    Mcbride   59   \n",
       "13     1013    Nicolas     Snider   50   \n",
       "14     1014    Edmundo      Simon   61   \n",
       "15     1015      Beata  Carpenter   26   \n",
       "16     1016       Jann    Salinas   30   \n",
       "17     1017      Boris      Gates   61   \n",
       "18     1018     Dennis     Grimes   70   \n",
       "19     1019     Shizue     Landry   34   \n",
       "\n",
       "                                                city    reg_date      plan  \\\n",
       "0              Atlanta-Sandy Springs-Roswell, GA MSA  2018-12-24  ultimate   \n",
       "1                    Seattle-Tacoma-Bellevue, WA MSA  2018-08-13      surf   \n",
       "2               Las Vegas-Henderson-Paradise, NV MSA  2018-10-21      surf   \n",
       "3                                      Tulsa, OK MSA  2018-01-28      surf   \n",
       "4                    Seattle-Tacoma-Bellevue, WA MSA  2018-05-23      surf   \n",
       "5                Dallas-Fort Worth-Arlington, TX MSA  2018-11-29      surf   \n",
       "6             San Francisco-Oakland-Berkeley, CA MSA  2018-11-27  ultimate   \n",
       "7                      Grand Rapids-Kentwood, MI MSA  2018-07-11      surf   \n",
       "8                  Orlando-Kissimmee-Sanford, FL MSA  2018-08-03  ultimate   \n",
       "9             San Jose-Sunnyvale-Santa Clara, CA MSA  2018-04-22      surf   \n",
       "10               Dallas-Fort Worth-Arlington, TX MSA  2018-03-09      surf   \n",
       "11                          Cleveland-Elyria, OH MSA  2018-01-18  ultimate   \n",
       "12            Chicago-Naperville-Elgin, IL-IN-WI MSA  2018-06-28      surf   \n",
       "13                                 Knoxville, TN MSA  2018-12-01  ultimate   \n",
       "14         New York-Newark-Jersey City, NY-NJ-PA MSA  2018-11-25      surf   \n",
       "15                                Pittsburgh, PA MSA  2018-12-05      surf   \n",
       "16                                    Fresno, CA MSA  2018-10-25      surf   \n",
       "17  Washington-Arlington-Alexandria, DC-VA-MD-WV MSA  2018-08-26      surf   \n",
       "18              Indianapolis-Carmel-Anderson, IN MSA  2018-10-17      surf   \n",
       "19                              Jacksonville, FL MSA  2018-01-16      surf   \n",
       "\n",
       "    churn_date  \n",
       "0          NaN  \n",
       "1          NaN  \n",
       "2          NaN  \n",
       "3          NaN  \n",
       "4          NaN  \n",
       "5          NaN  \n",
       "6   2018-12-18  \n",
       "7          NaN  \n",
       "8          NaN  \n",
       "9          NaN  \n",
       "10         NaN  \n",
       "11         NaN  \n",
       "12  2018-11-16  \n",
       "13         NaN  \n",
       "14         NaN  \n",
       "15         NaN  \n",
       "16         NaN  \n",
       "17         NaN  \n",
       "18         NaN  \n",
       "19         NaN  "
      ]
     },
     "metadata": {},
     "output_type": "display_data"
    }
   ],
   "source": [
    "# Print a sample of data for 'users'\n",
    "display(users.head(20))\n"
   ]
  },
  {
   "cell_type": "code",
   "execution_count": 7,
   "metadata": {},
   "outputs": [
    {
     "data": {
      "text/plain": [
       "0"
      ]
     },
     "execution_count": 7,
     "metadata": {},
     "output_type": "execute_result"
    }
   ],
   "source": [
    "# Check to ensure that there are no duplicated users in the dataframe\n",
    "users.duplicated().sum()\n"
   ]
  },
  {
   "cell_type": "markdown",
   "metadata": {},
   "source": [
    "The 'users' dataframe includes information about each of the 500 users selected for the purpose of this analysis. The only two columns that will need to be changed in terms of data type are the 'reg_date' and 'churn_date' columns which are currently object data types. They will instead be changed to the datetime type below for more functionality and consistency.\n",
    "\n",
    "As for the missing values, it appears as though the 'churn_date' column is the only one with missing values, 466 to be exact. However, these missing values do not need to be filled as data in this column is only appropriate in the case that the user stopped using services. If the value is missing, the calling plan was being used when this database was extracted."
   ]
  },
  {
   "cell_type": "markdown",
   "metadata": {},
   "source": [
    "### Fix Data"
   ]
  },
  {
   "cell_type": "code",
   "execution_count": 8,
   "metadata": {},
   "outputs": [
    {
     "data": {
      "text/plain": [
       "0   2018-12-24\n",
       "1   2018-08-13\n",
       "2   2018-10-21\n",
       "3   2018-01-28\n",
       "4   2018-05-23\n",
       "5   2018-11-29\n",
       "6   2018-11-27\n",
       "7   2018-07-11\n",
       "8   2018-08-03\n",
       "9   2018-04-22\n",
       "Name: reg_date, dtype: datetime64[ns]"
      ]
     },
     "metadata": {},
     "output_type": "display_data"
    }
   ],
   "source": [
    "# Change the 'reg_date' column to datetime data type\n",
    "users['reg_date'] = pd.to_datetime(users['reg_date'])\n",
    "display(users['reg_date'].head(10))\n"
   ]
  },
  {
   "cell_type": "code",
   "execution_count": 9,
   "metadata": {},
   "outputs": [
    {
     "data": {
      "text/plain": [
       "0          NaT\n",
       "1          NaT\n",
       "2          NaT\n",
       "3          NaT\n",
       "4          NaT\n",
       "5          NaT\n",
       "6   2018-12-18\n",
       "7          NaT\n",
       "8          NaT\n",
       "9          NaT\n",
       "Name: churn_date, dtype: datetime64[ns]"
      ]
     },
     "metadata": {},
     "output_type": "display_data"
    }
   ],
   "source": [
    "# Change the 'churn_date' column to datetime data type\n",
    "users['churn_date'] = pd.to_datetime(users['churn_date'], errors = 'ignore')\n",
    "display(users['churn_date'].head(10))\n"
   ]
  },
  {
   "cell_type": "markdown",
   "metadata": {},
   "source": [
    "## Calls"
   ]
  },
  {
   "cell_type": "code",
   "execution_count": 10,
   "metadata": {},
   "outputs": [
    {
     "name": "stdout",
     "output_type": "stream",
     "text": [
      "<class 'pandas.core.frame.DataFrame'>\n",
      "RangeIndex: 137735 entries, 0 to 137734\n",
      "Data columns (total 4 columns):\n",
      " #   Column     Non-Null Count   Dtype  \n",
      "---  ------     --------------   -----  \n",
      " 0   id         137735 non-null  object \n",
      " 1   user_id    137735 non-null  int64  \n",
      " 2   call_date  137735 non-null  object \n",
      " 3   duration   137735 non-null  float64\n",
      "dtypes: float64(1), int64(1), object(2)\n",
      "memory usage: 4.2+ MB\n"
     ]
    },
    {
     "data": {
      "text/html": [
       "<div>\n",
       "<style scoped>\n",
       "    .dataframe tbody tr th:only-of-type {\n",
       "        vertical-align: middle;\n",
       "    }\n",
       "\n",
       "    .dataframe tbody tr th {\n",
       "        vertical-align: top;\n",
       "    }\n",
       "\n",
       "    .dataframe thead th {\n",
       "        text-align: right;\n",
       "    }\n",
       "</style>\n",
       "<table border=\"1\" class=\"dataframe\">\n",
       "  <thead>\n",
       "    <tr style=\"text-align: right;\">\n",
       "      <th></th>\n",
       "      <th>user_id</th>\n",
       "      <th>duration</th>\n",
       "    </tr>\n",
       "  </thead>\n",
       "  <tbody>\n",
       "    <tr>\n",
       "      <th>count</th>\n",
       "      <td>137735.000000</td>\n",
       "      <td>137735.000000</td>\n",
       "    </tr>\n",
       "    <tr>\n",
       "      <th>mean</th>\n",
       "      <td>1247.658046</td>\n",
       "      <td>6.745927</td>\n",
       "    </tr>\n",
       "    <tr>\n",
       "      <th>std</th>\n",
       "      <td>139.416268</td>\n",
       "      <td>5.839241</td>\n",
       "    </tr>\n",
       "    <tr>\n",
       "      <th>min</th>\n",
       "      <td>1000.000000</td>\n",
       "      <td>0.000000</td>\n",
       "    </tr>\n",
       "    <tr>\n",
       "      <th>25%</th>\n",
       "      <td>1128.000000</td>\n",
       "      <td>1.290000</td>\n",
       "    </tr>\n",
       "    <tr>\n",
       "      <th>50%</th>\n",
       "      <td>1247.000000</td>\n",
       "      <td>5.980000</td>\n",
       "    </tr>\n",
       "    <tr>\n",
       "      <th>75%</th>\n",
       "      <td>1365.000000</td>\n",
       "      <td>10.690000</td>\n",
       "    </tr>\n",
       "    <tr>\n",
       "      <th>max</th>\n",
       "      <td>1499.000000</td>\n",
       "      <td>37.600000</td>\n",
       "    </tr>\n",
       "  </tbody>\n",
       "</table>\n",
       "</div>"
      ],
      "text/plain": [
       "             user_id       duration\n",
       "count  137735.000000  137735.000000\n",
       "mean     1247.658046       6.745927\n",
       "std       139.416268       5.839241\n",
       "min      1000.000000       0.000000\n",
       "25%      1128.000000       1.290000\n",
       "50%      1247.000000       5.980000\n",
       "75%      1365.000000      10.690000\n",
       "max      1499.000000      37.600000"
      ]
     },
     "execution_count": 10,
     "metadata": {},
     "output_type": "execute_result"
    }
   ],
   "source": [
    "# Print the general/summary information about the 'calls' DataFrame\n",
    "calls.info()\n",
    "calls.describe()\n"
   ]
  },
  {
   "cell_type": "code",
   "execution_count": 11,
   "metadata": {},
   "outputs": [
    {
     "data": {
      "text/html": [
       "<div>\n",
       "<style scoped>\n",
       "    .dataframe tbody tr th:only-of-type {\n",
       "        vertical-align: middle;\n",
       "    }\n",
       "\n",
       "    .dataframe tbody tr th {\n",
       "        vertical-align: top;\n",
       "    }\n",
       "\n",
       "    .dataframe thead th {\n",
       "        text-align: right;\n",
       "    }\n",
       "</style>\n",
       "<table border=\"1\" class=\"dataframe\">\n",
       "  <thead>\n",
       "    <tr style=\"text-align: right;\">\n",
       "      <th></th>\n",
       "      <th>id</th>\n",
       "      <th>user_id</th>\n",
       "      <th>call_date</th>\n",
       "      <th>duration</th>\n",
       "    </tr>\n",
       "  </thead>\n",
       "  <tbody>\n",
       "    <tr>\n",
       "      <th>0</th>\n",
       "      <td>1000_93</td>\n",
       "      <td>1000</td>\n",
       "      <td>2018-12-27</td>\n",
       "      <td>8.52</td>\n",
       "    </tr>\n",
       "    <tr>\n",
       "      <th>1</th>\n",
       "      <td>1000_145</td>\n",
       "      <td>1000</td>\n",
       "      <td>2018-12-27</td>\n",
       "      <td>13.66</td>\n",
       "    </tr>\n",
       "    <tr>\n",
       "      <th>2</th>\n",
       "      <td>1000_247</td>\n",
       "      <td>1000</td>\n",
       "      <td>2018-12-27</td>\n",
       "      <td>14.48</td>\n",
       "    </tr>\n",
       "    <tr>\n",
       "      <th>3</th>\n",
       "      <td>1000_309</td>\n",
       "      <td>1000</td>\n",
       "      <td>2018-12-28</td>\n",
       "      <td>5.76</td>\n",
       "    </tr>\n",
       "    <tr>\n",
       "      <th>4</th>\n",
       "      <td>1000_380</td>\n",
       "      <td>1000</td>\n",
       "      <td>2018-12-30</td>\n",
       "      <td>4.22</td>\n",
       "    </tr>\n",
       "    <tr>\n",
       "      <th>5</th>\n",
       "      <td>1000_388</td>\n",
       "      <td>1000</td>\n",
       "      <td>2018-12-31</td>\n",
       "      <td>2.20</td>\n",
       "    </tr>\n",
       "    <tr>\n",
       "      <th>6</th>\n",
       "      <td>1000_510</td>\n",
       "      <td>1000</td>\n",
       "      <td>2018-12-27</td>\n",
       "      <td>5.75</td>\n",
       "    </tr>\n",
       "    <tr>\n",
       "      <th>7</th>\n",
       "      <td>1000_521</td>\n",
       "      <td>1000</td>\n",
       "      <td>2018-12-28</td>\n",
       "      <td>14.18</td>\n",
       "    </tr>\n",
       "    <tr>\n",
       "      <th>8</th>\n",
       "      <td>1000_530</td>\n",
       "      <td>1000</td>\n",
       "      <td>2018-12-28</td>\n",
       "      <td>5.77</td>\n",
       "    </tr>\n",
       "    <tr>\n",
       "      <th>9</th>\n",
       "      <td>1000_544</td>\n",
       "      <td>1000</td>\n",
       "      <td>2018-12-26</td>\n",
       "      <td>4.40</td>\n",
       "    </tr>\n",
       "    <tr>\n",
       "      <th>10</th>\n",
       "      <td>1000_693</td>\n",
       "      <td>1000</td>\n",
       "      <td>2018-12-31</td>\n",
       "      <td>4.31</td>\n",
       "    </tr>\n",
       "    <tr>\n",
       "      <th>11</th>\n",
       "      <td>1000_705</td>\n",
       "      <td>1000</td>\n",
       "      <td>2018-12-31</td>\n",
       "      <td>12.78</td>\n",
       "    </tr>\n",
       "    <tr>\n",
       "      <th>12</th>\n",
       "      <td>1000_735</td>\n",
       "      <td>1000</td>\n",
       "      <td>2018-12-29</td>\n",
       "      <td>1.70</td>\n",
       "    </tr>\n",
       "    <tr>\n",
       "      <th>13</th>\n",
       "      <td>1000_778</td>\n",
       "      <td>1000</td>\n",
       "      <td>2018-12-28</td>\n",
       "      <td>3.29</td>\n",
       "    </tr>\n",
       "    <tr>\n",
       "      <th>14</th>\n",
       "      <td>1000_826</td>\n",
       "      <td>1000</td>\n",
       "      <td>2018-12-26</td>\n",
       "      <td>9.96</td>\n",
       "    </tr>\n",
       "    <tr>\n",
       "      <th>15</th>\n",
       "      <td>1000_842</td>\n",
       "      <td>1000</td>\n",
       "      <td>2018-12-27</td>\n",
       "      <td>5.85</td>\n",
       "    </tr>\n",
       "    <tr>\n",
       "      <th>16</th>\n",
       "      <td>1001_0</td>\n",
       "      <td>1001</td>\n",
       "      <td>2018-09-06</td>\n",
       "      <td>10.06</td>\n",
       "    </tr>\n",
       "    <tr>\n",
       "      <th>17</th>\n",
       "      <td>1001_1</td>\n",
       "      <td>1001</td>\n",
       "      <td>2018-10-12</td>\n",
       "      <td>1.00</td>\n",
       "    </tr>\n",
       "    <tr>\n",
       "      <th>18</th>\n",
       "      <td>1001_2</td>\n",
       "      <td>1001</td>\n",
       "      <td>2018-10-17</td>\n",
       "      <td>15.83</td>\n",
       "    </tr>\n",
       "    <tr>\n",
       "      <th>19</th>\n",
       "      <td>1001_4</td>\n",
       "      <td>1001</td>\n",
       "      <td>2018-12-05</td>\n",
       "      <td>0.00</td>\n",
       "    </tr>\n",
       "  </tbody>\n",
       "</table>\n",
       "</div>"
      ],
      "text/plain": [
       "          id  user_id   call_date  duration\n",
       "0    1000_93     1000  2018-12-27      8.52\n",
       "1   1000_145     1000  2018-12-27     13.66\n",
       "2   1000_247     1000  2018-12-27     14.48\n",
       "3   1000_309     1000  2018-12-28      5.76\n",
       "4   1000_380     1000  2018-12-30      4.22\n",
       "5   1000_388     1000  2018-12-31      2.20\n",
       "6   1000_510     1000  2018-12-27      5.75\n",
       "7   1000_521     1000  2018-12-28     14.18\n",
       "8   1000_530     1000  2018-12-28      5.77\n",
       "9   1000_544     1000  2018-12-26      4.40\n",
       "10  1000_693     1000  2018-12-31      4.31\n",
       "11  1000_705     1000  2018-12-31     12.78\n",
       "12  1000_735     1000  2018-12-29      1.70\n",
       "13  1000_778     1000  2018-12-28      3.29\n",
       "14  1000_826     1000  2018-12-26      9.96\n",
       "15  1000_842     1000  2018-12-27      5.85\n",
       "16    1001_0     1001  2018-09-06     10.06\n",
       "17    1001_1     1001  2018-10-12      1.00\n",
       "18    1001_2     1001  2018-10-17     15.83\n",
       "19    1001_4     1001  2018-12-05      0.00"
      ]
     },
     "metadata": {},
     "output_type": "display_data"
    }
   ],
   "source": [
    "# Print a sample of data for 'calls'\n",
    "display(calls.head(20))\n"
   ]
  },
  {
   "cell_type": "code",
   "execution_count": 12,
   "metadata": {},
   "outputs": [
    {
     "data": {
      "text/plain": [
       "id           0.194823\n",
       "user_id      0.194823\n",
       "call_date    0.194823\n",
       "duration     0.194823\n",
       "dtype: float64"
      ]
     },
     "execution_count": 12,
     "metadata": {},
     "output_type": "execute_result"
    }
   ],
   "source": [
    "# Check how many of the calls had a duration of 0 seconds\n",
    "(calls[calls['duration'] == 0].count())/calls.shape[0]\n"
   ]
  },
  {
   "cell_type": "markdown",
   "metadata": {},
   "source": [
    "The 'calls' dataframe contains info on all the calls that were made by users. The only column that would benefit from a data type change is the 'call_date' column which is currently an object type versus a datetime type. It will be changed below to datetime.\n",
    "\n",
    "Although the dataframe does not contain any missing data, it should be noted that about 19% of the calls turned out to be 0 minutes in duration which indicates that though a call was placed, it likely did not go through. Since calls are only billed when they are over 1 second in duration, the rows in which the 'duration' column has a value of 0 should be dropped for the analysis. Also, since seconds are rounded up to minutes in all cases of 'duration' greater than 0 seconds, all remaining 'duration' values will be rounded up for ease of analysis.\n",
    "\n",
    "Finally, in order to make it easier to examine costs for each per monthly pay period, a column that contains just the month of service for each call will be generated to further enrich the data."
   ]
  },
  {
   "cell_type": "markdown",
   "metadata": {},
   "source": [
    "### Fix data"
   ]
  },
  {
   "cell_type": "code",
   "execution_count": 13,
   "metadata": {},
   "outputs": [
    {
     "data": {
      "text/plain": [
       "0   2018-12-27\n",
       "1   2018-12-27\n",
       "2   2018-12-27\n",
       "3   2018-12-28\n",
       "4   2018-12-30\n",
       "5   2018-12-31\n",
       "6   2018-12-27\n",
       "7   2018-12-28\n",
       "8   2018-12-28\n",
       "9   2018-12-26\n",
       "Name: call_date, dtype: datetime64[ns]"
      ]
     },
     "metadata": {},
     "output_type": "display_data"
    }
   ],
   "source": [
    "# Change the 'call_date' column to datetime data type\n",
    "calls['call_date'] = pd.to_datetime(calls['call_date'], errors = 'ignore')\n",
    "display(calls['call_date'].head(10))\n"
   ]
  },
  {
   "cell_type": "code",
   "execution_count": 14,
   "metadata": {},
   "outputs": [
    {
     "data": {
      "text/plain": [
       "id           0\n",
       "user_id      0\n",
       "call_date    0\n",
       "duration     0\n",
       "dtype: int64"
      ]
     },
     "execution_count": 14,
     "metadata": {},
     "output_type": "execute_result"
    }
   ],
   "source": [
    "# Keep only rows with more than 0 seconds in the 'duration' column\n",
    "calls = calls[calls['duration'] > 0]\n",
    "calls[calls['duration'] == 0].count()\n"
   ]
  },
  {
   "cell_type": "code",
   "execution_count": 15,
   "metadata": {},
   "outputs": [
    {
     "data": {
      "text/plain": [
       "0     9\n",
       "1    14\n",
       "2    15\n",
       "3     6\n",
       "4     5\n",
       "Name: duration, dtype: int64"
      ]
     },
     "metadata": {},
     "output_type": "display_data"
    }
   ],
   "source": [
    "# Round up all the 'duration' values to the nearest minute\n",
    "calls['duration'] = np.ceil(calls['duration']).astype(int)\n",
    "display(calls['duration'].head())\n"
   ]
  },
  {
   "cell_type": "markdown",
   "metadata": {},
   "source": [
    "### Enrich data"
   ]
  },
  {
   "cell_type": "code",
   "execution_count": 16,
   "metadata": {},
   "outputs": [
    {
     "data": {
      "text/plain": [
       "0    12\n",
       "1    12\n",
       "2    12\n",
       "3    12\n",
       "4    12\n",
       "Name: month, dtype: int64"
      ]
     },
     "metadata": {},
     "output_type": "display_data"
    }
   ],
   "source": [
    "# Create a new column for the months in which each call was placed\n",
    "calls['month'] = pd.DatetimeIndex(calls['call_date']).month\n",
    "display(calls['month'].head())\n"
   ]
  },
  {
   "cell_type": "markdown",
   "metadata": {},
   "source": [
    "## Messages"
   ]
  },
  {
   "cell_type": "code",
   "execution_count": 17,
   "metadata": {},
   "outputs": [
    {
     "name": "stdout",
     "output_type": "stream",
     "text": [
      "<class 'pandas.core.frame.DataFrame'>\n",
      "RangeIndex: 76051 entries, 0 to 76050\n",
      "Data columns (total 3 columns):\n",
      " #   Column        Non-Null Count  Dtype \n",
      "---  ------        --------------  ----- \n",
      " 0   id            76051 non-null  object\n",
      " 1   user_id       76051 non-null  int64 \n",
      " 2   message_date  76051 non-null  object\n",
      "dtypes: int64(1), object(2)\n",
      "memory usage: 1.7+ MB\n"
     ]
    }
   ],
   "source": [
    "# Print the general/summary information about the 'messages' DataFrame\n",
    "messages.info()\n"
   ]
  },
  {
   "cell_type": "code",
   "execution_count": 18,
   "metadata": {},
   "outputs": [
    {
     "data": {
      "text/html": [
       "<div>\n",
       "<style scoped>\n",
       "    .dataframe tbody tr th:only-of-type {\n",
       "        vertical-align: middle;\n",
       "    }\n",
       "\n",
       "    .dataframe tbody tr th {\n",
       "        vertical-align: top;\n",
       "    }\n",
       "\n",
       "    .dataframe thead th {\n",
       "        text-align: right;\n",
       "    }\n",
       "</style>\n",
       "<table border=\"1\" class=\"dataframe\">\n",
       "  <thead>\n",
       "    <tr style=\"text-align: right;\">\n",
       "      <th></th>\n",
       "      <th>id</th>\n",
       "      <th>user_id</th>\n",
       "      <th>message_date</th>\n",
       "    </tr>\n",
       "  </thead>\n",
       "  <tbody>\n",
       "    <tr>\n",
       "      <th>0</th>\n",
       "      <td>1000_125</td>\n",
       "      <td>1000</td>\n",
       "      <td>2018-12-27</td>\n",
       "    </tr>\n",
       "    <tr>\n",
       "      <th>1</th>\n",
       "      <td>1000_160</td>\n",
       "      <td>1000</td>\n",
       "      <td>2018-12-31</td>\n",
       "    </tr>\n",
       "    <tr>\n",
       "      <th>2</th>\n",
       "      <td>1000_223</td>\n",
       "      <td>1000</td>\n",
       "      <td>2018-12-31</td>\n",
       "    </tr>\n",
       "    <tr>\n",
       "      <th>3</th>\n",
       "      <td>1000_251</td>\n",
       "      <td>1000</td>\n",
       "      <td>2018-12-27</td>\n",
       "    </tr>\n",
       "    <tr>\n",
       "      <th>4</th>\n",
       "      <td>1000_255</td>\n",
       "      <td>1000</td>\n",
       "      <td>2018-12-26</td>\n",
       "    </tr>\n",
       "    <tr>\n",
       "      <th>5</th>\n",
       "      <td>1000_346</td>\n",
       "      <td>1000</td>\n",
       "      <td>2018-12-29</td>\n",
       "    </tr>\n",
       "    <tr>\n",
       "      <th>6</th>\n",
       "      <td>1000_386</td>\n",
       "      <td>1000</td>\n",
       "      <td>2018-12-30</td>\n",
       "    </tr>\n",
       "    <tr>\n",
       "      <th>7</th>\n",
       "      <td>1000_413</td>\n",
       "      <td>1000</td>\n",
       "      <td>2018-12-31</td>\n",
       "    </tr>\n",
       "    <tr>\n",
       "      <th>8</th>\n",
       "      <td>1000_502</td>\n",
       "      <td>1000</td>\n",
       "      <td>2018-12-27</td>\n",
       "    </tr>\n",
       "    <tr>\n",
       "      <th>9</th>\n",
       "      <td>1000_525</td>\n",
       "      <td>1000</td>\n",
       "      <td>2018-12-28</td>\n",
       "    </tr>\n",
       "    <tr>\n",
       "      <th>10</th>\n",
       "      <td>1000_567</td>\n",
       "      <td>1000</td>\n",
       "      <td>2018-12-25</td>\n",
       "    </tr>\n",
       "    <tr>\n",
       "      <th>11</th>\n",
       "      <td>1001_1</td>\n",
       "      <td>1001</td>\n",
       "      <td>2018-11-14</td>\n",
       "    </tr>\n",
       "    <tr>\n",
       "      <th>12</th>\n",
       "      <td>1001_2</td>\n",
       "      <td>1001</td>\n",
       "      <td>2018-08-17</td>\n",
       "    </tr>\n",
       "    <tr>\n",
       "      <th>13</th>\n",
       "      <td>1001_5</td>\n",
       "      <td>1001</td>\n",
       "      <td>2018-12-05</td>\n",
       "    </tr>\n",
       "    <tr>\n",
       "      <th>14</th>\n",
       "      <td>1001_7</td>\n",
       "      <td>1001</td>\n",
       "      <td>2018-11-28</td>\n",
       "    </tr>\n",
       "    <tr>\n",
       "      <th>15</th>\n",
       "      <td>1001_9</td>\n",
       "      <td>1001</td>\n",
       "      <td>2018-10-23</td>\n",
       "    </tr>\n",
       "    <tr>\n",
       "      <th>16</th>\n",
       "      <td>1001_10</td>\n",
       "      <td>1001</td>\n",
       "      <td>2018-09-01</td>\n",
       "    </tr>\n",
       "    <tr>\n",
       "      <th>17</th>\n",
       "      <td>1001_11</td>\n",
       "      <td>1001</td>\n",
       "      <td>2018-11-18</td>\n",
       "    </tr>\n",
       "    <tr>\n",
       "      <th>18</th>\n",
       "      <td>1001_17</td>\n",
       "      <td>1001</td>\n",
       "      <td>2018-12-11</td>\n",
       "    </tr>\n",
       "    <tr>\n",
       "      <th>19</th>\n",
       "      <td>1001_18</td>\n",
       "      <td>1001</td>\n",
       "      <td>2018-10-01</td>\n",
       "    </tr>\n",
       "  </tbody>\n",
       "</table>\n",
       "</div>"
      ],
      "text/plain": [
       "          id  user_id message_date\n",
       "0   1000_125     1000   2018-12-27\n",
       "1   1000_160     1000   2018-12-31\n",
       "2   1000_223     1000   2018-12-31\n",
       "3   1000_251     1000   2018-12-27\n",
       "4   1000_255     1000   2018-12-26\n",
       "5   1000_346     1000   2018-12-29\n",
       "6   1000_386     1000   2018-12-30\n",
       "7   1000_413     1000   2018-12-31\n",
       "8   1000_502     1000   2018-12-27\n",
       "9   1000_525     1000   2018-12-28\n",
       "10  1000_567     1000   2018-12-25\n",
       "11    1001_1     1001   2018-11-14\n",
       "12    1001_2     1001   2018-08-17\n",
       "13    1001_5     1001   2018-12-05\n",
       "14    1001_7     1001   2018-11-28\n",
       "15    1001_9     1001   2018-10-23\n",
       "16   1001_10     1001   2018-09-01\n",
       "17   1001_11     1001   2018-11-18\n",
       "18   1001_17     1001   2018-12-11\n",
       "19   1001_18     1001   2018-10-01"
      ]
     },
     "metadata": {},
     "output_type": "display_data"
    }
   ],
   "source": [
    "# Print a sample of data for 'messages'\n",
    "display(messages.head(20))\n"
   ]
  },
  {
   "cell_type": "markdown",
   "metadata": {},
   "source": [
    "The 'messages' dataframe contains info on all the messages that were sent by users. The only column that would benefit from a data type change is the 'message_date' column which is currently an object type versus a datetime type. It will be changed below to datetime.\n",
    "\n",
    "There appear no missing values or unusual artifacts that need fixing in this dataframe but in order to make it easier to examine costs for each per monthly pay period, a column that contains just the month of service for each message will be generated to further enrich the data."
   ]
  },
  {
   "cell_type": "markdown",
   "metadata": {},
   "source": [
    "### Fix data"
   ]
  },
  {
   "cell_type": "code",
   "execution_count": 19,
   "metadata": {},
   "outputs": [
    {
     "data": {
      "text/plain": [
       "0   2018-12-27\n",
       "1   2018-12-31\n",
       "2   2018-12-31\n",
       "3   2018-12-27\n",
       "4   2018-12-26\n",
       "5   2018-12-29\n",
       "6   2018-12-30\n",
       "7   2018-12-31\n",
       "8   2018-12-27\n",
       "9   2018-12-28\n",
       "Name: message_date, dtype: datetime64[ns]"
      ]
     },
     "metadata": {},
     "output_type": "display_data"
    }
   ],
   "source": [
    "# Change the 'message_date' column to datetime data type\n",
    "messages['message_date'] = pd.to_datetime(messages['message_date'], errors = 'ignore')\n",
    "display(messages['message_date'].head(10))\n"
   ]
  },
  {
   "cell_type": "markdown",
   "metadata": {},
   "source": [
    "### Enrich data"
   ]
  },
  {
   "cell_type": "code",
   "execution_count": 20,
   "metadata": {},
   "outputs": [
    {
     "data": {
      "text/plain": [
       "0    12\n",
       "1    12\n",
       "2    12\n",
       "3    12\n",
       "4    12\n",
       "Name: month, dtype: int64"
      ]
     },
     "metadata": {},
     "output_type": "display_data"
    }
   ],
   "source": [
    "# Create a new column for the months in which each message was sent\n",
    "messages['month'] = pd.DatetimeIndex(messages['message_date']).month\n",
    "display(messages['month'].head())\n"
   ]
  },
  {
   "cell_type": "markdown",
   "metadata": {},
   "source": [
    "## Internet"
   ]
  },
  {
   "cell_type": "code",
   "execution_count": 21,
   "metadata": {},
   "outputs": [
    {
     "name": "stdout",
     "output_type": "stream",
     "text": [
      "<class 'pandas.core.frame.DataFrame'>\n",
      "RangeIndex: 104825 entries, 0 to 104824\n",
      "Data columns (total 4 columns):\n",
      " #   Column        Non-Null Count   Dtype  \n",
      "---  ------        --------------   -----  \n",
      " 0   id            104825 non-null  object \n",
      " 1   user_id       104825 non-null  int64  \n",
      " 2   session_date  104825 non-null  object \n",
      " 3   mb_used       104825 non-null  float64\n",
      "dtypes: float64(1), int64(1), object(2)\n",
      "memory usage: 3.2+ MB\n"
     ]
    }
   ],
   "source": [
    "# Print the general/summary information about the 'internet' DataFrame\n",
    "internet.info()\n"
   ]
  },
  {
   "cell_type": "code",
   "execution_count": 22,
   "metadata": {},
   "outputs": [
    {
     "data": {
      "text/html": [
       "<div>\n",
       "<style scoped>\n",
       "    .dataframe tbody tr th:only-of-type {\n",
       "        vertical-align: middle;\n",
       "    }\n",
       "\n",
       "    .dataframe tbody tr th {\n",
       "        vertical-align: top;\n",
       "    }\n",
       "\n",
       "    .dataframe thead th {\n",
       "        text-align: right;\n",
       "    }\n",
       "</style>\n",
       "<table border=\"1\" class=\"dataframe\">\n",
       "  <thead>\n",
       "    <tr style=\"text-align: right;\">\n",
       "      <th></th>\n",
       "      <th>id</th>\n",
       "      <th>user_id</th>\n",
       "      <th>session_date</th>\n",
       "      <th>mb_used</th>\n",
       "    </tr>\n",
       "  </thead>\n",
       "  <tbody>\n",
       "    <tr>\n",
       "      <th>0</th>\n",
       "      <td>1000_13</td>\n",
       "      <td>1000</td>\n",
       "      <td>2018-12-29</td>\n",
       "      <td>89.86</td>\n",
       "    </tr>\n",
       "    <tr>\n",
       "      <th>1</th>\n",
       "      <td>1000_204</td>\n",
       "      <td>1000</td>\n",
       "      <td>2018-12-31</td>\n",
       "      <td>0.00</td>\n",
       "    </tr>\n",
       "    <tr>\n",
       "      <th>2</th>\n",
       "      <td>1000_379</td>\n",
       "      <td>1000</td>\n",
       "      <td>2018-12-28</td>\n",
       "      <td>660.40</td>\n",
       "    </tr>\n",
       "    <tr>\n",
       "      <th>3</th>\n",
       "      <td>1000_413</td>\n",
       "      <td>1000</td>\n",
       "      <td>2018-12-26</td>\n",
       "      <td>270.99</td>\n",
       "    </tr>\n",
       "    <tr>\n",
       "      <th>4</th>\n",
       "      <td>1000_442</td>\n",
       "      <td>1000</td>\n",
       "      <td>2018-12-27</td>\n",
       "      <td>880.22</td>\n",
       "    </tr>\n",
       "    <tr>\n",
       "      <th>5</th>\n",
       "      <td>1001_0</td>\n",
       "      <td>1001</td>\n",
       "      <td>2018-08-24</td>\n",
       "      <td>284.68</td>\n",
       "    </tr>\n",
       "    <tr>\n",
       "      <th>6</th>\n",
       "      <td>1001_3</td>\n",
       "      <td>1001</td>\n",
       "      <td>2018-12-09</td>\n",
       "      <td>656.04</td>\n",
       "    </tr>\n",
       "    <tr>\n",
       "      <th>7</th>\n",
       "      <td>1001_4</td>\n",
       "      <td>1001</td>\n",
       "      <td>2018-11-04</td>\n",
       "      <td>16.97</td>\n",
       "    </tr>\n",
       "    <tr>\n",
       "      <th>8</th>\n",
       "      <td>1001_10</td>\n",
       "      <td>1001</td>\n",
       "      <td>2018-11-27</td>\n",
       "      <td>135.18</td>\n",
       "    </tr>\n",
       "    <tr>\n",
       "      <th>9</th>\n",
       "      <td>1001_15</td>\n",
       "      <td>1001</td>\n",
       "      <td>2018-12-13</td>\n",
       "      <td>761.92</td>\n",
       "    </tr>\n",
       "    <tr>\n",
       "      <th>10</th>\n",
       "      <td>1001_16</td>\n",
       "      <td>1001</td>\n",
       "      <td>2018-10-28</td>\n",
       "      <td>501.53</td>\n",
       "    </tr>\n",
       "    <tr>\n",
       "      <th>11</th>\n",
       "      <td>1001_17</td>\n",
       "      <td>1001</td>\n",
       "      <td>2018-09-05</td>\n",
       "      <td>727.29</td>\n",
       "    </tr>\n",
       "    <tr>\n",
       "      <th>12</th>\n",
       "      <td>1001_24</td>\n",
       "      <td>1001</td>\n",
       "      <td>2018-09-05</td>\n",
       "      <td>622.03</td>\n",
       "    </tr>\n",
       "    <tr>\n",
       "      <th>13</th>\n",
       "      <td>1001_25</td>\n",
       "      <td>1001</td>\n",
       "      <td>2018-10-14</td>\n",
       "      <td>310.43</td>\n",
       "    </tr>\n",
       "    <tr>\n",
       "      <th>14</th>\n",
       "      <td>1001_26</td>\n",
       "      <td>1001</td>\n",
       "      <td>2018-09-17</td>\n",
       "      <td>0.00</td>\n",
       "    </tr>\n",
       "    <tr>\n",
       "      <th>15</th>\n",
       "      <td>1001_27</td>\n",
       "      <td>1001</td>\n",
       "      <td>2018-12-13</td>\n",
       "      <td>149.17</td>\n",
       "    </tr>\n",
       "    <tr>\n",
       "      <th>16</th>\n",
       "      <td>1001_28</td>\n",
       "      <td>1001</td>\n",
       "      <td>2018-10-17</td>\n",
       "      <td>0.00</td>\n",
       "    </tr>\n",
       "    <tr>\n",
       "      <th>17</th>\n",
       "      <td>1001_29</td>\n",
       "      <td>1001</td>\n",
       "      <td>2018-10-09</td>\n",
       "      <td>1067.99</td>\n",
       "    </tr>\n",
       "    <tr>\n",
       "      <th>18</th>\n",
       "      <td>1001_30</td>\n",
       "      <td>1001</td>\n",
       "      <td>2018-12-27</td>\n",
       "      <td>157.20</td>\n",
       "    </tr>\n",
       "    <tr>\n",
       "      <th>19</th>\n",
       "      <td>1001_33</td>\n",
       "      <td>1001</td>\n",
       "      <td>2018-09-27</td>\n",
       "      <td>236.40</td>\n",
       "    </tr>\n",
       "  </tbody>\n",
       "</table>\n",
       "</div>"
      ],
      "text/plain": [
       "          id  user_id session_date  mb_used\n",
       "0    1000_13     1000   2018-12-29    89.86\n",
       "1   1000_204     1000   2018-12-31     0.00\n",
       "2   1000_379     1000   2018-12-28   660.40\n",
       "3   1000_413     1000   2018-12-26   270.99\n",
       "4   1000_442     1000   2018-12-27   880.22\n",
       "5     1001_0     1001   2018-08-24   284.68\n",
       "6     1001_3     1001   2018-12-09   656.04\n",
       "7     1001_4     1001   2018-11-04    16.97\n",
       "8    1001_10     1001   2018-11-27   135.18\n",
       "9    1001_15     1001   2018-12-13   761.92\n",
       "10   1001_16     1001   2018-10-28   501.53\n",
       "11   1001_17     1001   2018-09-05   727.29\n",
       "12   1001_24     1001   2018-09-05   622.03\n",
       "13   1001_25     1001   2018-10-14   310.43\n",
       "14   1001_26     1001   2018-09-17     0.00\n",
       "15   1001_27     1001   2018-12-13   149.17\n",
       "16   1001_28     1001   2018-10-17     0.00\n",
       "17   1001_29     1001   2018-10-09  1067.99\n",
       "18   1001_30     1001   2018-12-27   157.20\n",
       "19   1001_33     1001   2018-09-27   236.40"
      ]
     },
     "metadata": {},
     "output_type": "display_data"
    }
   ],
   "source": [
    "# Print a sample of data for 'internet'\n",
    "display(internet.head(20))\n"
   ]
  },
  {
   "cell_type": "code",
   "execution_count": 23,
   "metadata": {},
   "outputs": [
    {
     "data": {
      "text/plain": [
       "id              0.131142\n",
       "user_id         0.131142\n",
       "session_date    0.131142\n",
       "mb_used         0.131142\n",
       "dtype: float64"
      ]
     },
     "execution_count": 23,
     "metadata": {},
     "output_type": "execute_result"
    }
   ],
   "source": [
    "# Check how many of the web sessions had a volume of 0MB\n",
    "internet[internet['mb_used'] == 0].count()/internet.shape[0]\n"
   ]
  },
  {
   "cell_type": "markdown",
   "metadata": {},
   "source": [
    "The 'internet' dataframe contains info on all the sessions that were logged by users. The only column that would benefit from a data type change is the 'session_date' column which is currently an object type versus a datetime type. It will be changed below to datetime.\n",
    "\n",
    "Although the dataframe does not contain any missing data, it should be noted that about 13% of the sessions used 0MB of data which indicates that though a session may have been initialized, no data was actually used. Since sessions are only billed when MB are utilized, the rows in which the 'mb_used' column has a value of 0 should be dropped for the analysis.\n",
    "\n",
    "Finally, in order to make it easier to examine costs for each per monthly pay period, a column that contains just the month of service for each internet session will be generated to further enrich the data."
   ]
  },
  {
   "cell_type": "markdown",
   "metadata": {},
   "source": [
    "### Fix data"
   ]
  },
  {
   "cell_type": "code",
   "execution_count": 24,
   "metadata": {},
   "outputs": [
    {
     "data": {
      "text/plain": [
       "0   2018-12-29\n",
       "1   2018-12-31\n",
       "2   2018-12-28\n",
       "3   2018-12-26\n",
       "4   2018-12-27\n",
       "5   2018-08-24\n",
       "6   2018-12-09\n",
       "7   2018-11-04\n",
       "8   2018-11-27\n",
       "9   2018-12-13\n",
       "Name: session_date, dtype: datetime64[ns]"
      ]
     },
     "metadata": {},
     "output_type": "display_data"
    }
   ],
   "source": [
    "# Change the 'session_date' column to datetime data type\n",
    "internet['session_date'] = pd.to_datetime(internet['session_date'], errors = 'ignore')\n",
    "display(internet['session_date'].head(10))\n"
   ]
  },
  {
   "cell_type": "code",
   "execution_count": 25,
   "metadata": {},
   "outputs": [
    {
     "data": {
      "text/plain": [
       "id              0\n",
       "user_id         0\n",
       "session_date    0\n",
       "mb_used         0\n",
       "dtype: int64"
      ]
     },
     "execution_count": 25,
     "metadata": {},
     "output_type": "execute_result"
    }
   ],
   "source": [
    "# Keep only rows with more than 0MB utilized in the 'mb_used' column\n",
    "internet = internet[internet['mb_used'] > 0]\n",
    "internet[internet['mb_used'] == 0].count()\n"
   ]
  },
  {
   "cell_type": "markdown",
   "metadata": {},
   "source": [
    "### Enrich data"
   ]
  },
  {
   "cell_type": "code",
   "execution_count": 26,
   "metadata": {},
   "outputs": [
    {
     "data": {
      "text/plain": [
       "0    12\n",
       "2    12\n",
       "3    12\n",
       "4    12\n",
       "5     8\n",
       "Name: month, dtype: int64"
      ]
     },
     "metadata": {},
     "output_type": "display_data"
    }
   ],
   "source": [
    "# Create a new column for the months in which each session was initialized\n",
    "internet['month'] = pd.DatetimeIndex(internet['session_date']).month\n",
    "display(internet['month'].head())\n"
   ]
  },
  {
   "cell_type": "markdown",
   "metadata": {},
   "source": [
    "## Study plan conditions"
   ]
  },
  {
   "cell_type": "code",
   "execution_count": 27,
   "metadata": {},
   "outputs": [
    {
     "data": {
      "text/html": [
       "<div>\n",
       "<style scoped>\n",
       "    .dataframe tbody tr th:only-of-type {\n",
       "        vertical-align: middle;\n",
       "    }\n",
       "\n",
       "    .dataframe tbody tr th {\n",
       "        vertical-align: top;\n",
       "    }\n",
       "\n",
       "    .dataframe thead th {\n",
       "        text-align: right;\n",
       "    }\n",
       "</style>\n",
       "<table border=\"1\" class=\"dataframe\">\n",
       "  <thead>\n",
       "    <tr style=\"text-align: right;\">\n",
       "      <th></th>\n",
       "      <th>messages_included</th>\n",
       "      <th>mb_per_month_included</th>\n",
       "      <th>minutes_included</th>\n",
       "      <th>usd_monthly_pay</th>\n",
       "      <th>usd_per_gb</th>\n",
       "      <th>usd_per_message</th>\n",
       "      <th>usd_per_minute</th>\n",
       "      <th>plan_name</th>\n",
       "    </tr>\n",
       "  </thead>\n",
       "  <tbody>\n",
       "    <tr>\n",
       "      <th>0</th>\n",
       "      <td>50</td>\n",
       "      <td>15360</td>\n",
       "      <td>500</td>\n",
       "      <td>20</td>\n",
       "      <td>10</td>\n",
       "      <td>0.03</td>\n",
       "      <td>0.03</td>\n",
       "      <td>surf</td>\n",
       "    </tr>\n",
       "    <tr>\n",
       "      <th>1</th>\n",
       "      <td>1000</td>\n",
       "      <td>30720</td>\n",
       "      <td>3000</td>\n",
       "      <td>70</td>\n",
       "      <td>7</td>\n",
       "      <td>0.01</td>\n",
       "      <td>0.01</td>\n",
       "      <td>ultimate</td>\n",
       "    </tr>\n",
       "  </tbody>\n",
       "</table>\n",
       "</div>"
      ],
      "text/plain": [
       "   messages_included  mb_per_month_included  minutes_included  \\\n",
       "0                 50                  15360               500   \n",
       "1               1000                  30720              3000   \n",
       "\n",
       "   usd_monthly_pay  usd_per_gb  usd_per_message  usd_per_minute plan_name  \n",
       "0               20          10             0.03            0.03      surf  \n",
       "1               70           7             0.01            0.01  ultimate  "
      ]
     },
     "metadata": {},
     "output_type": "display_data"
    }
   ],
   "source": [
    "# Print out the plan conditions and make sure they are clear\n",
    "display(plans)\n"
   ]
  },
  {
   "cell_type": "markdown",
   "metadata": {},
   "source": [
    "## Aggregate data per user\n",
    "\n",
    "Using the now clean dataframes, aggregate all the data per user per month in order to have just one record per user per month."
   ]
  },
  {
   "cell_type": "code",
   "execution_count": 28,
   "metadata": {},
   "outputs": [
    {
     "data": {
      "text/html": [
       "<div>\n",
       "<style scoped>\n",
       "    .dataframe tbody tr th:only-of-type {\n",
       "        vertical-align: middle;\n",
       "    }\n",
       "\n",
       "    .dataframe tbody tr th {\n",
       "        vertical-align: top;\n",
       "    }\n",
       "\n",
       "    .dataframe thead th {\n",
       "        text-align: right;\n",
       "    }\n",
       "</style>\n",
       "<table border=\"1\" class=\"dataframe\">\n",
       "  <thead>\n",
       "    <tr style=\"text-align: right;\">\n",
       "      <th></th>\n",
       "      <th></th>\n",
       "      <th>id</th>\n",
       "    </tr>\n",
       "    <tr>\n",
       "      <th>user_id</th>\n",
       "      <th>month</th>\n",
       "      <th></th>\n",
       "    </tr>\n",
       "  </thead>\n",
       "  <tbody>\n",
       "    <tr>\n",
       "      <th>1000</th>\n",
       "      <th>12</th>\n",
       "      <td>16</td>\n",
       "    </tr>\n",
       "    <tr>\n",
       "      <th rowspan=\"4\" valign=\"top\">1001</th>\n",
       "      <th>8</th>\n",
       "      <td>22</td>\n",
       "    </tr>\n",
       "    <tr>\n",
       "      <th>9</th>\n",
       "      <td>38</td>\n",
       "    </tr>\n",
       "    <tr>\n",
       "      <th>10</th>\n",
       "      <td>47</td>\n",
       "    </tr>\n",
       "    <tr>\n",
       "      <th>11</th>\n",
       "      <td>49</td>\n",
       "    </tr>\n",
       "  </tbody>\n",
       "</table>\n",
       "</div>"
      ],
      "text/plain": [
       "               id\n",
       "user_id month    \n",
       "1000    12     16\n",
       "1001    8      22\n",
       "        9      38\n",
       "        10     47\n",
       "        11     49"
      ]
     },
     "metadata": {},
     "output_type": "display_data"
    }
   ],
   "source": [
    "# Calculate the number of calls made by each user per month. Save the result.\n",
    "calls_per_user = pd.pivot_table(calls, values = 'id', index = ['user_id', 'month'], aggfunc = 'count')\n",
    "display(calls_per_user.head())\n"
   ]
  },
  {
   "cell_type": "code",
   "execution_count": 29,
   "metadata": {},
   "outputs": [
    {
     "data": {
      "text/html": [
       "<div>\n",
       "<style scoped>\n",
       "    .dataframe tbody tr th:only-of-type {\n",
       "        vertical-align: middle;\n",
       "    }\n",
       "\n",
       "    .dataframe tbody tr th {\n",
       "        vertical-align: top;\n",
       "    }\n",
       "\n",
       "    .dataframe thead th {\n",
       "        text-align: right;\n",
       "    }\n",
       "</style>\n",
       "<table border=\"1\" class=\"dataframe\">\n",
       "  <thead>\n",
       "    <tr style=\"text-align: right;\">\n",
       "      <th></th>\n",
       "      <th></th>\n",
       "      <th>duration</th>\n",
       "    </tr>\n",
       "    <tr>\n",
       "      <th>user_id</th>\n",
       "      <th>month</th>\n",
       "      <th></th>\n",
       "    </tr>\n",
       "  </thead>\n",
       "  <tbody>\n",
       "    <tr>\n",
       "      <th>1000</th>\n",
       "      <th>12</th>\n",
       "      <td>124</td>\n",
       "    </tr>\n",
       "    <tr>\n",
       "      <th rowspan=\"4\" valign=\"top\">1001</th>\n",
       "      <th>8</th>\n",
       "      <td>182</td>\n",
       "    </tr>\n",
       "    <tr>\n",
       "      <th>9</th>\n",
       "      <td>315</td>\n",
       "    </tr>\n",
       "    <tr>\n",
       "      <th>10</th>\n",
       "      <td>393</td>\n",
       "    </tr>\n",
       "    <tr>\n",
       "      <th>11</th>\n",
       "      <td>426</td>\n",
       "    </tr>\n",
       "  </tbody>\n",
       "</table>\n",
       "</div>"
      ],
      "text/plain": [
       "               duration\n",
       "user_id month          \n",
       "1000    12          124\n",
       "1001    8           182\n",
       "        9           315\n",
       "        10          393\n",
       "        11          426"
      ]
     },
     "metadata": {},
     "output_type": "display_data"
    }
   ],
   "source": [
    "# Calculate the amount of minutes spent by each user per month. Save the result.\n",
    "minutes_per_month = pd.pivot_table(calls, values = 'duration', index = ['user_id', 'month'], aggfunc = 'sum')\n",
    "display(minutes_per_month.head())\n"
   ]
  },
  {
   "cell_type": "code",
   "execution_count": 30,
   "metadata": {},
   "outputs": [
    {
     "data": {
      "text/html": [
       "<div>\n",
       "<style scoped>\n",
       "    .dataframe tbody tr th:only-of-type {\n",
       "        vertical-align: middle;\n",
       "    }\n",
       "\n",
       "    .dataframe tbody tr th {\n",
       "        vertical-align: top;\n",
       "    }\n",
       "\n",
       "    .dataframe thead th {\n",
       "        text-align: right;\n",
       "    }\n",
       "</style>\n",
       "<table border=\"1\" class=\"dataframe\">\n",
       "  <thead>\n",
       "    <tr style=\"text-align: right;\">\n",
       "      <th></th>\n",
       "      <th></th>\n",
       "      <th>id</th>\n",
       "    </tr>\n",
       "    <tr>\n",
       "      <th>user_id</th>\n",
       "      <th>month</th>\n",
       "      <th></th>\n",
       "    </tr>\n",
       "  </thead>\n",
       "  <tbody>\n",
       "    <tr>\n",
       "      <th>1000</th>\n",
       "      <th>12</th>\n",
       "      <td>11</td>\n",
       "    </tr>\n",
       "    <tr>\n",
       "      <th rowspan=\"4\" valign=\"top\">1001</th>\n",
       "      <th>8</th>\n",
       "      <td>30</td>\n",
       "    </tr>\n",
       "    <tr>\n",
       "      <th>9</th>\n",
       "      <td>44</td>\n",
       "    </tr>\n",
       "    <tr>\n",
       "      <th>10</th>\n",
       "      <td>53</td>\n",
       "    </tr>\n",
       "    <tr>\n",
       "      <th>11</th>\n",
       "      <td>36</td>\n",
       "    </tr>\n",
       "  </tbody>\n",
       "</table>\n",
       "</div>"
      ],
      "text/plain": [
       "               id\n",
       "user_id month    \n",
       "1000    12     11\n",
       "1001    8      30\n",
       "        9      44\n",
       "        10     53\n",
       "        11     36"
      ]
     },
     "metadata": {},
     "output_type": "display_data"
    }
   ],
   "source": [
    "# Calculate the number of messages sent by each user per month. Save the result.\n",
    "messages_per_month = pd.pivot_table(messages, values = 'id', index = ['user_id', 'month'], aggfunc = 'count')\n",
    "display(messages_per_month.head())\n"
   ]
  },
  {
   "cell_type": "code",
   "execution_count": 31,
   "metadata": {},
   "outputs": [
    {
     "data": {
      "text/html": [
       "<div>\n",
       "<style scoped>\n",
       "    .dataframe tbody tr th:only-of-type {\n",
       "        vertical-align: middle;\n",
       "    }\n",
       "\n",
       "    .dataframe tbody tr th {\n",
       "        vertical-align: top;\n",
       "    }\n",
       "\n",
       "    .dataframe thead th {\n",
       "        text-align: right;\n",
       "    }\n",
       "</style>\n",
       "<table border=\"1\" class=\"dataframe\">\n",
       "  <thead>\n",
       "    <tr style=\"text-align: right;\">\n",
       "      <th></th>\n",
       "      <th></th>\n",
       "      <th>mb_used</th>\n",
       "      <th>gb_used</th>\n",
       "    </tr>\n",
       "    <tr>\n",
       "      <th>user_id</th>\n",
       "      <th>month</th>\n",
       "      <th></th>\n",
       "      <th></th>\n",
       "    </tr>\n",
       "  </thead>\n",
       "  <tbody>\n",
       "    <tr>\n",
       "      <th>1000</th>\n",
       "      <th>12</th>\n",
       "      <td>1901.47</td>\n",
       "      <td>2.0</td>\n",
       "    </tr>\n",
       "    <tr>\n",
       "      <th rowspan=\"4\" valign=\"top\">1001</th>\n",
       "      <th>8</th>\n",
       "      <td>6919.15</td>\n",
       "      <td>7.0</td>\n",
       "    </tr>\n",
       "    <tr>\n",
       "      <th>9</th>\n",
       "      <td>13314.82</td>\n",
       "      <td>14.0</td>\n",
       "    </tr>\n",
       "    <tr>\n",
       "      <th>10</th>\n",
       "      <td>22330.49</td>\n",
       "      <td>22.0</td>\n",
       "    </tr>\n",
       "    <tr>\n",
       "      <th>11</th>\n",
       "      <td>18504.30</td>\n",
       "      <td>19.0</td>\n",
       "    </tr>\n",
       "  </tbody>\n",
       "</table>\n",
       "</div>"
      ],
      "text/plain": [
       "                mb_used  gb_used\n",
       "user_id month                   \n",
       "1000    12      1901.47      2.0\n",
       "1001    8       6919.15      7.0\n",
       "        9      13314.82     14.0\n",
       "        10     22330.49     22.0\n",
       "        11     18504.30     19.0"
      ]
     },
     "metadata": {},
     "output_type": "display_data"
    }
   ],
   "source": [
    "# Calculate the volume of internet traffic used by each user per month. Save the result.\n",
    "internet_per_month = pd.pivot_table(internet, values = 'mb_used', index = ['user_id', 'month'], aggfunc = 'sum')\n",
    "internet_per_month['gb_used'] = np.ceil(internet_per_month['mb_used']/1024)\n",
    "display(internet_per_month.head())\n"
   ]
  },
  {
   "cell_type": "markdown",
   "metadata": {},
   "source": [
    "Using all of the relevant data extracted from the 'calls', 'messages', and 'internet' dataframes above, merge all the  aggregated data together into one DataFrame so each record represents what a unique user consumed in a given month."
   ]
  },
  {
   "cell_type": "code",
   "execution_count": 32,
   "metadata": {},
   "outputs": [
    {
     "data": {
      "text/html": [
       "<div>\n",
       "<style scoped>\n",
       "    .dataframe tbody tr th:only-of-type {\n",
       "        vertical-align: middle;\n",
       "    }\n",
       "\n",
       "    .dataframe tbody tr th {\n",
       "        vertical-align: top;\n",
       "    }\n",
       "\n",
       "    .dataframe thead th {\n",
       "        text-align: right;\n",
       "    }\n",
       "</style>\n",
       "<table border=\"1\" class=\"dataframe\">\n",
       "  <thead>\n",
       "    <tr style=\"text-align: right;\">\n",
       "      <th></th>\n",
       "      <th></th>\n",
       "      <th>calls</th>\n",
       "      <th>duration</th>\n",
       "      <th>messages</th>\n",
       "      <th>mb_used</th>\n",
       "      <th>gb_used</th>\n",
       "    </tr>\n",
       "    <tr>\n",
       "      <th>user_id</th>\n",
       "      <th>month</th>\n",
       "      <th></th>\n",
       "      <th></th>\n",
       "      <th></th>\n",
       "      <th></th>\n",
       "      <th></th>\n",
       "    </tr>\n",
       "  </thead>\n",
       "  <tbody>\n",
       "    <tr>\n",
       "      <th>1000</th>\n",
       "      <th>12</th>\n",
       "      <td>16.0</td>\n",
       "      <td>124.0</td>\n",
       "      <td>11.0</td>\n",
       "      <td>1901.47</td>\n",
       "      <td>2.0</td>\n",
       "    </tr>\n",
       "    <tr>\n",
       "      <th rowspan=\"4\" valign=\"top\">1001</th>\n",
       "      <th>8</th>\n",
       "      <td>22.0</td>\n",
       "      <td>182.0</td>\n",
       "      <td>30.0</td>\n",
       "      <td>6919.15</td>\n",
       "      <td>7.0</td>\n",
       "    </tr>\n",
       "    <tr>\n",
       "      <th>9</th>\n",
       "      <td>38.0</td>\n",
       "      <td>315.0</td>\n",
       "      <td>44.0</td>\n",
       "      <td>13314.82</td>\n",
       "      <td>14.0</td>\n",
       "    </tr>\n",
       "    <tr>\n",
       "      <th>10</th>\n",
       "      <td>47.0</td>\n",
       "      <td>393.0</td>\n",
       "      <td>53.0</td>\n",
       "      <td>22330.49</td>\n",
       "      <td>22.0</td>\n",
       "    </tr>\n",
       "    <tr>\n",
       "      <th>11</th>\n",
       "      <td>49.0</td>\n",
       "      <td>426.0</td>\n",
       "      <td>36.0</td>\n",
       "      <td>18504.30</td>\n",
       "      <td>19.0</td>\n",
       "    </tr>\n",
       "  </tbody>\n",
       "</table>\n",
       "</div>"
      ],
      "text/plain": [
       "               calls  duration  messages   mb_used  gb_used\n",
       "user_id month                                              \n",
       "1000    12      16.0     124.0      11.0   1901.47      2.0\n",
       "1001    8       22.0     182.0      30.0   6919.15      7.0\n",
       "        9       38.0     315.0      44.0  13314.82     14.0\n",
       "        10      47.0     393.0      53.0  22330.49     22.0\n",
       "        11      49.0     426.0      36.0  18504.30     19.0"
      ]
     },
     "metadata": {},
     "output_type": "display_data"
    }
   ],
   "source": [
    "# Merge the data for calls, minutes, messages, internet based on user_id and month\n",
    "monthly_usage = calls_per_user.merge(minutes_per_month, how = 'outer', on = ['user_id','month']).merge(messages_per_month, how = 'outer', on = ['user_id','month']).merge(internet_per_month, how = 'outer', on = ['user_id','month']) \n",
    "monthly_usage.rename(columns = {'id_x': 'calls', 'id_y': 'messages'}, inplace=True)\n",
    "display(monthly_usage.head())\n"
   ]
  },
  {
   "cell_type": "code",
   "execution_count": 33,
   "metadata": {},
   "outputs": [
    {
     "data": {
      "text/html": [
       "<div>\n",
       "<style scoped>\n",
       "    .dataframe tbody tr th:only-of-type {\n",
       "        vertical-align: middle;\n",
       "    }\n",
       "\n",
       "    .dataframe tbody tr th {\n",
       "        vertical-align: top;\n",
       "    }\n",
       "\n",
       "    .dataframe thead th {\n",
       "        text-align: right;\n",
       "    }\n",
       "</style>\n",
       "<table border=\"1\" class=\"dataframe\">\n",
       "  <thead>\n",
       "    <tr style=\"text-align: right;\">\n",
       "      <th></th>\n",
       "      <th></th>\n",
       "      <th>calls</th>\n",
       "      <th>duration</th>\n",
       "      <th>messages</th>\n",
       "      <th>mb_used</th>\n",
       "      <th>gb_used</th>\n",
       "      <th>plan</th>\n",
       "    </tr>\n",
       "    <tr>\n",
       "      <th>user_id</th>\n",
       "      <th>month</th>\n",
       "      <th></th>\n",
       "      <th></th>\n",
       "      <th></th>\n",
       "      <th></th>\n",
       "      <th></th>\n",
       "      <th></th>\n",
       "    </tr>\n",
       "  </thead>\n",
       "  <tbody>\n",
       "    <tr>\n",
       "      <th>1000</th>\n",
       "      <th>12</th>\n",
       "      <td>16.0</td>\n",
       "      <td>124.0</td>\n",
       "      <td>11.0</td>\n",
       "      <td>1901.47</td>\n",
       "      <td>2.0</td>\n",
       "      <td>ultimate</td>\n",
       "    </tr>\n",
       "    <tr>\n",
       "      <th rowspan=\"4\" valign=\"top\">1001</th>\n",
       "      <th>8</th>\n",
       "      <td>22.0</td>\n",
       "      <td>182.0</td>\n",
       "      <td>30.0</td>\n",
       "      <td>6919.15</td>\n",
       "      <td>7.0</td>\n",
       "      <td>surf</td>\n",
       "    </tr>\n",
       "    <tr>\n",
       "      <th>9</th>\n",
       "      <td>38.0</td>\n",
       "      <td>315.0</td>\n",
       "      <td>44.0</td>\n",
       "      <td>13314.82</td>\n",
       "      <td>14.0</td>\n",
       "      <td>surf</td>\n",
       "    </tr>\n",
       "    <tr>\n",
       "      <th>10</th>\n",
       "      <td>47.0</td>\n",
       "      <td>393.0</td>\n",
       "      <td>53.0</td>\n",
       "      <td>22330.49</td>\n",
       "      <td>22.0</td>\n",
       "      <td>surf</td>\n",
       "    </tr>\n",
       "    <tr>\n",
       "      <th>11</th>\n",
       "      <td>49.0</td>\n",
       "      <td>426.0</td>\n",
       "      <td>36.0</td>\n",
       "      <td>18504.30</td>\n",
       "      <td>19.0</td>\n",
       "      <td>surf</td>\n",
       "    </tr>\n",
       "    <tr>\n",
       "      <th>...</th>\n",
       "      <th>...</th>\n",
       "      <td>...</td>\n",
       "      <td>...</td>\n",
       "      <td>...</td>\n",
       "      <td>...</td>\n",
       "      <td>...</td>\n",
       "      <td>...</td>\n",
       "    </tr>\n",
       "    <tr>\n",
       "      <th>1407</th>\n",
       "      <th>11</th>\n",
       "      <td>NaN</td>\n",
       "      <td>NaN</td>\n",
       "      <td>1.0</td>\n",
       "      <td>290.06</td>\n",
       "      <td>1.0</td>\n",
       "      <td>ultimate</td>\n",
       "    </tr>\n",
       "    <tr>\n",
       "      <th>1482</th>\n",
       "      <th>10</th>\n",
       "      <td>NaN</td>\n",
       "      <td>NaN</td>\n",
       "      <td>2.0</td>\n",
       "      <td>NaN</td>\n",
       "      <td>NaN</td>\n",
       "      <td>ultimate</td>\n",
       "    </tr>\n",
       "    <tr>\n",
       "      <th>1094</th>\n",
       "      <th>10</th>\n",
       "      <td>NaN</td>\n",
       "      <td>NaN</td>\n",
       "      <td>NaN</td>\n",
       "      <td>1728.71</td>\n",
       "      <td>2.0</td>\n",
       "      <td>surf</td>\n",
       "    </tr>\n",
       "    <tr>\n",
       "      <th>1108</th>\n",
       "      <th>12</th>\n",
       "      <td>NaN</td>\n",
       "      <td>NaN</td>\n",
       "      <td>NaN</td>\n",
       "      <td>233.17</td>\n",
       "      <td>1.0</td>\n",
       "      <td>ultimate</td>\n",
       "    </tr>\n",
       "    <tr>\n",
       "      <th>1311</th>\n",
       "      <th>6</th>\n",
       "      <td>NaN</td>\n",
       "      <td>NaN</td>\n",
       "      <td>NaN</td>\n",
       "      <td>1498.83</td>\n",
       "      <td>2.0</td>\n",
       "      <td>ultimate</td>\n",
       "    </tr>\n",
       "  </tbody>\n",
       "</table>\n",
       "<p>2293 rows × 6 columns</p>\n",
       "</div>"
      ],
      "text/plain": [
       "               calls  duration  messages   mb_used  gb_used      plan\n",
       "user_id month                                                        \n",
       "1000    12      16.0     124.0      11.0   1901.47      2.0  ultimate\n",
       "1001    8       22.0     182.0      30.0   6919.15      7.0      surf\n",
       "        9       38.0     315.0      44.0  13314.82     14.0      surf\n",
       "        10      47.0     393.0      53.0  22330.49     22.0      surf\n",
       "        11      49.0     426.0      36.0  18504.30     19.0      surf\n",
       "...              ...       ...       ...       ...      ...       ...\n",
       "1407    11       NaN       NaN       1.0    290.06      1.0  ultimate\n",
       "1482    10       NaN       NaN       2.0       NaN      NaN  ultimate\n",
       "1094    10       NaN       NaN       NaN   1728.71      2.0      surf\n",
       "1108    12       NaN       NaN       NaN    233.17      1.0  ultimate\n",
       "1311    6        NaN       NaN       NaN   1498.83      2.0  ultimate\n",
       "\n",
       "[2293 rows x 6 columns]"
      ]
     },
     "metadata": {},
     "output_type": "display_data"
    }
   ],
   "source": [
    "# Add the plan information\n",
    "users.set_index('user_id', inplace=True)\n",
    "monthly_usage = monthly_usage.join(users[['plan']], how='inner')\n",
    "display(monthly_usage)\n"
   ]
  },
  {
   "cell_type": "markdown",
   "metadata": {},
   "source": [
    "Using the merged aggregate data in 'monthly_usage', calculate the monthly revenue from each user by subtracting the free package limit from the total number of calls, text messages, and data; multiplying the result by the calling plan value; adding the monthly charge depending on the calling plan. The program 'monthly_revenue' is defined and applied below to generate the new 'revenue' column in 'monthly_usage'."
   ]
  },
  {
   "cell_type": "code",
   "execution_count": 34,
   "metadata": {},
   "outputs": [
    {
     "data": {
      "text/plain": [
       "user_id  month\n",
       "1000     12       [16.0, 124.0, 11.0, 2.0, ultimate]\n",
       "1001     8            [22.0, 182.0, 30.0, 7.0, surf]\n",
       "         9           [38.0, 315.0, 44.0, 14.0, surf]\n",
       "         10          [47.0, 393.0, 53.0, 22.0, surf]\n",
       "         11          [49.0, 426.0, 36.0, 19.0, surf]\n",
       "Name: filler, dtype: object"
      ]
     },
     "metadata": {},
     "output_type": "display_data"
    }
   ],
   "source": [
    "# Create a new column containing a list of string values from the columns of interest for each row to be used in the following 'monthly_revenue' function\n",
    "monthly_usage['filler'] = monthly_usage[['calls', 'duration', 'messages', 'gb_used', 'plan']].values.tolist()\n",
    "display(monthly_usage['filler'].head())\n"
   ]
  },
  {
   "cell_type": "code",
   "execution_count": 35,
   "metadata": {},
   "outputs": [],
   "source": [
    "# Create a function to calculate the monthly revenue for each user\n",
    "def monthly_revenue(filler):\n",
    "    if filler[4] == 'surf':\n",
    "        return 20 + max(0, ((filler[1] - 500) * 0.03)) + max(0, ((filler[2] - 50) * 0.03)) + max(0, ((filler[3] - 15) * 10))\n",
    "    elif filler[4] == 'ultimate':\n",
    "        return 70 + max(0, ((filler[1] - 3000) * 0.01)) + max(0, ((filler[2] - 1000) * 0.01)) + max(0, ((filler[3] - 30) * 7))\n",
    "    else:\n",
    "        return 'unknown'\n",
    "    "
   ]
  },
  {
   "cell_type": "code",
   "execution_count": 36,
   "metadata": {},
   "outputs": [
    {
     "data": {
      "text/plain": [
       "158.12"
      ]
     },
     "execution_count": 36,
     "metadata": {},
     "output_type": "execute_result"
    }
   ],
   "source": [
    "# Check to see if the function is working appropriately for a sample 'surf' user\n",
    "monthly_revenue([118, 1104, 50.0, 27.0, 'surf'])\n"
   ]
  },
  {
   "cell_type": "code",
   "execution_count": 37,
   "metadata": {},
   "outputs": [
    {
     "data": {
      "text/plain": [
       "70"
      ]
     },
     "execution_count": 37,
     "metadata": {},
     "output_type": "execute_result"
    }
   ],
   "source": [
    "# Check to see if the function is working appropriately for a sample 'ultimate' user\n",
    "monthly_revenue([2, 10, 15.0, 3.0, 'ultimate'])\n"
   ]
  },
  {
   "cell_type": "code",
   "execution_count": 38,
   "metadata": {},
   "outputs": [
    {
     "data": {
      "text/html": [
       "<div>\n",
       "<style scoped>\n",
       "    .dataframe tbody tr th:only-of-type {\n",
       "        vertical-align: middle;\n",
       "    }\n",
       "\n",
       "    .dataframe tbody tr th {\n",
       "        vertical-align: top;\n",
       "    }\n",
       "\n",
       "    .dataframe thead th {\n",
       "        text-align: right;\n",
       "    }\n",
       "</style>\n",
       "<table border=\"1\" class=\"dataframe\">\n",
       "  <thead>\n",
       "    <tr style=\"text-align: right;\">\n",
       "      <th></th>\n",
       "      <th></th>\n",
       "      <th>calls</th>\n",
       "      <th>duration</th>\n",
       "      <th>messages</th>\n",
       "      <th>mb_used</th>\n",
       "      <th>gb_used</th>\n",
       "      <th>plan</th>\n",
       "      <th>filler</th>\n",
       "      <th>revenue</th>\n",
       "    </tr>\n",
       "    <tr>\n",
       "      <th>user_id</th>\n",
       "      <th>month</th>\n",
       "      <th></th>\n",
       "      <th></th>\n",
       "      <th></th>\n",
       "      <th></th>\n",
       "      <th></th>\n",
       "      <th></th>\n",
       "      <th></th>\n",
       "      <th></th>\n",
       "    </tr>\n",
       "  </thead>\n",
       "  <tbody>\n",
       "    <tr>\n",
       "      <th>1000</th>\n",
       "      <th>12</th>\n",
       "      <td>16.0</td>\n",
       "      <td>124.0</td>\n",
       "      <td>11.0</td>\n",
       "      <td>1901.47</td>\n",
       "      <td>2.0</td>\n",
       "      <td>ultimate</td>\n",
       "      <td>[16.0, 124.0, 11.0, 2.0, ultimate]</td>\n",
       "      <td>70.00</td>\n",
       "    </tr>\n",
       "    <tr>\n",
       "      <th rowspan=\"4\" valign=\"top\">1001</th>\n",
       "      <th>8</th>\n",
       "      <td>22.0</td>\n",
       "      <td>182.0</td>\n",
       "      <td>30.0</td>\n",
       "      <td>6919.15</td>\n",
       "      <td>7.0</td>\n",
       "      <td>surf</td>\n",
       "      <td>[22.0, 182.0, 30.0, 7.0, surf]</td>\n",
       "      <td>20.00</td>\n",
       "    </tr>\n",
       "    <tr>\n",
       "      <th>9</th>\n",
       "      <td>38.0</td>\n",
       "      <td>315.0</td>\n",
       "      <td>44.0</td>\n",
       "      <td>13314.82</td>\n",
       "      <td>14.0</td>\n",
       "      <td>surf</td>\n",
       "      <td>[38.0, 315.0, 44.0, 14.0, surf]</td>\n",
       "      <td>20.00</td>\n",
       "    </tr>\n",
       "    <tr>\n",
       "      <th>10</th>\n",
       "      <td>47.0</td>\n",
       "      <td>393.0</td>\n",
       "      <td>53.0</td>\n",
       "      <td>22330.49</td>\n",
       "      <td>22.0</td>\n",
       "      <td>surf</td>\n",
       "      <td>[47.0, 393.0, 53.0, 22.0, surf]</td>\n",
       "      <td>90.09</td>\n",
       "    </tr>\n",
       "    <tr>\n",
       "      <th>11</th>\n",
       "      <td>49.0</td>\n",
       "      <td>426.0</td>\n",
       "      <td>36.0</td>\n",
       "      <td>18504.30</td>\n",
       "      <td>19.0</td>\n",
       "      <td>surf</td>\n",
       "      <td>[49.0, 426.0, 36.0, 19.0, surf]</td>\n",
       "      <td>60.00</td>\n",
       "    </tr>\n",
       "  </tbody>\n",
       "</table>\n",
       "</div>"
      ],
      "text/plain": [
       "               calls  duration  messages   mb_used  gb_used      plan  \\\n",
       "user_id month                                                           \n",
       "1000    12      16.0     124.0      11.0   1901.47      2.0  ultimate   \n",
       "1001    8       22.0     182.0      30.0   6919.15      7.0      surf   \n",
       "        9       38.0     315.0      44.0  13314.82     14.0      surf   \n",
       "        10      47.0     393.0      53.0  22330.49     22.0      surf   \n",
       "        11      49.0     426.0      36.0  18504.30     19.0      surf   \n",
       "\n",
       "                                           filler  revenue  \n",
       "user_id month                                               \n",
       "1000    12     [16.0, 124.0, 11.0, 2.0, ultimate]    70.00  \n",
       "1001    8          [22.0, 182.0, 30.0, 7.0, surf]    20.00  \n",
       "        9         [38.0, 315.0, 44.0, 14.0, surf]    20.00  \n",
       "        10        [47.0, 393.0, 53.0, 22.0, surf]    90.09  \n",
       "        11        [49.0, 426.0, 36.0, 19.0, surf]    60.00  "
      ]
     },
     "metadata": {},
     "output_type": "display_data"
    }
   ],
   "source": [
    "# Apply the 'monthly_revenue' function to the 'filler' column to create a new column called 'revenue'\n",
    "monthly_usage['revenue'] = monthly_usage['filler'].apply(monthly_revenue)\n",
    "display(monthly_usage.head())\n"
   ]
  },
  {
   "cell_type": "code",
   "execution_count": 39,
   "metadata": {},
   "outputs": [
    {
     "data": {
      "text/html": [
       "<div>\n",
       "<style scoped>\n",
       "    .dataframe tbody tr th:only-of-type {\n",
       "        vertical-align: middle;\n",
       "    }\n",
       "\n",
       "    .dataframe tbody tr th {\n",
       "        vertical-align: top;\n",
       "    }\n",
       "\n",
       "    .dataframe thead th {\n",
       "        text-align: right;\n",
       "    }\n",
       "</style>\n",
       "<table border=\"1\" class=\"dataframe\">\n",
       "  <thead>\n",
       "    <tr style=\"text-align: right;\">\n",
       "      <th></th>\n",
       "      <th></th>\n",
       "      <th>calls</th>\n",
       "      <th>duration</th>\n",
       "      <th>messages</th>\n",
       "      <th>mb_used</th>\n",
       "      <th>gb_used</th>\n",
       "      <th>plan</th>\n",
       "      <th>revenue</th>\n",
       "    </tr>\n",
       "    <tr>\n",
       "      <th>user_id</th>\n",
       "      <th>month</th>\n",
       "      <th></th>\n",
       "      <th></th>\n",
       "      <th></th>\n",
       "      <th></th>\n",
       "      <th></th>\n",
       "      <th></th>\n",
       "      <th></th>\n",
       "    </tr>\n",
       "  </thead>\n",
       "  <tbody>\n",
       "    <tr>\n",
       "      <th>1000</th>\n",
       "      <th>12</th>\n",
       "      <td>16.0</td>\n",
       "      <td>124.0</td>\n",
       "      <td>11.0</td>\n",
       "      <td>1901.47</td>\n",
       "      <td>2.0</td>\n",
       "      <td>ultimate</td>\n",
       "      <td>70.00</td>\n",
       "    </tr>\n",
       "    <tr>\n",
       "      <th rowspan=\"4\" valign=\"top\">1001</th>\n",
       "      <th>8</th>\n",
       "      <td>22.0</td>\n",
       "      <td>182.0</td>\n",
       "      <td>30.0</td>\n",
       "      <td>6919.15</td>\n",
       "      <td>7.0</td>\n",
       "      <td>surf</td>\n",
       "      <td>20.00</td>\n",
       "    </tr>\n",
       "    <tr>\n",
       "      <th>9</th>\n",
       "      <td>38.0</td>\n",
       "      <td>315.0</td>\n",
       "      <td>44.0</td>\n",
       "      <td>13314.82</td>\n",
       "      <td>14.0</td>\n",
       "      <td>surf</td>\n",
       "      <td>20.00</td>\n",
       "    </tr>\n",
       "    <tr>\n",
       "      <th>10</th>\n",
       "      <td>47.0</td>\n",
       "      <td>393.0</td>\n",
       "      <td>53.0</td>\n",
       "      <td>22330.49</td>\n",
       "      <td>22.0</td>\n",
       "      <td>surf</td>\n",
       "      <td>90.09</td>\n",
       "    </tr>\n",
       "    <tr>\n",
       "      <th>11</th>\n",
       "      <td>49.0</td>\n",
       "      <td>426.0</td>\n",
       "      <td>36.0</td>\n",
       "      <td>18504.30</td>\n",
       "      <td>19.0</td>\n",
       "      <td>surf</td>\n",
       "      <td>60.00</td>\n",
       "    </tr>\n",
       "  </tbody>\n",
       "</table>\n",
       "</div>"
      ],
      "text/plain": [
       "               calls  duration  messages   mb_used  gb_used      plan  revenue\n",
       "user_id month                                                                 \n",
       "1000    12      16.0     124.0      11.0   1901.47      2.0  ultimate    70.00\n",
       "1001    8       22.0     182.0      30.0   6919.15      7.0      surf    20.00\n",
       "        9       38.0     315.0      44.0  13314.82     14.0      surf    20.00\n",
       "        10      47.0     393.0      53.0  22330.49     22.0      surf    90.09\n",
       "        11      49.0     426.0      36.0  18504.30     19.0      surf    60.00"
      ]
     },
     "metadata": {},
     "output_type": "display_data"
    }
   ],
   "source": [
    "# Drop the 'filler' column that was temporarily created for the 'monthly_revenue' function\n",
    "monthly_usage = monthly_usage.drop(columns = ['filler'], axis = 1)\n",
    "display(monthly_usage.head())\n"
   ]
  },
  {
   "cell_type": "markdown",
   "metadata": {},
   "source": [
    "## Study user behaviour"
   ]
  },
  {
   "cell_type": "markdown",
   "metadata": {},
   "source": [
    "Using the 'monthly_usage' dataframe calculate descriptive statistics for the aggregated and merged data to reveal trends and patterns. Create plots to aid in visually understanding the data. Given that the main task is to compare the plans and decide on which one is more profitable, the statistics and the plots are calculated on a per-plan basis."
   ]
  },
  {
   "cell_type": "markdown",
   "metadata": {},
   "source": [
    "### Calls"
   ]
  },
  {
   "cell_type": "code",
   "execution_count": 40,
   "metadata": {},
   "outputs": [
    {
     "data": {
      "text/plain": [
       "month  plan    \n",
       "1      surf        203.000000\n",
       "       ultimate    193.500000\n",
       "2      surf        297.000000\n",
       "       ultimate    470.333333\n",
       "3      surf        330.000000\n",
       "Name: duration, dtype: float64"
      ]
     },
     "metadata": {},
     "output_type": "display_data"
    }
   ],
   "source": [
    "# Compare average duration of calls per each plan per each distinct month\n",
    "average_duration = monthly_usage.groupby(['month', 'plan'])['duration'].mean()\n",
    "display(average_duration.head())\n"
   ]
  },
  {
   "cell_type": "code",
   "execution_count": 41,
   "metadata": {},
   "outputs": [
    {
     "data": {
      "image/png": "[encoded data removed]",
      "text/plain": [
       "<Figure size 432x288 with 1 Axes>"
      ]
     },
     "metadata": {
      "needs_background": "light"
     },
     "output_type": "display_data"
    }
   ],
   "source": [
    "# Plot a bar plot to visualize the average duration of calls per plan per month\n",
    "average_duration.unstack().plot(kind='bar')\n",
    "plt.title('Average duration of calls per plan per month')\n",
    "plt.ylabel('Average Duration in Minutes')\n",
    "plt.xlabel('Month')\n",
    "plt.legend(['Surf', 'Ultimate'])\n",
    "plt.show()\n"
   ]
  },
  {
   "cell_type": "markdown",
   "metadata": {},
   "source": [
    "Based on the barplot above visualizing the average duration of calls per plan per month, it appears that in general, average call duration is almost the same each month for users of both surf and ultimate plans with the exception of February in which the average for ultimate plan users is around 200 minutes higher than that of surf plan users."
   ]
  },
  {
   "cell_type": "code",
   "execution_count": 42,
   "metadata": {},
   "outputs": [
    {
     "data": {
      "text/html": [
       "<div>\n",
       "<style scoped>\n",
       "    .dataframe tbody tr th:only-of-type {\n",
       "        vertical-align: middle;\n",
       "    }\n",
       "\n",
       "    .dataframe tbody tr th {\n",
       "        vertical-align: top;\n",
       "    }\n",
       "\n",
       "    .dataframe thead th {\n",
       "        text-align: right;\n",
       "    }\n",
       "</style>\n",
       "<table border=\"1\" class=\"dataframe\">\n",
       "  <thead>\n",
       "    <tr style=\"text-align: right;\">\n",
       "      <th></th>\n",
       "      <th>month</th>\n",
       "      <th>plan</th>\n",
       "      <th>user_id</th>\n",
       "      <th>duration</th>\n",
       "    </tr>\n",
       "  </thead>\n",
       "  <tbody>\n",
       "    <tr>\n",
       "      <th>0</th>\n",
       "      <td>1</td>\n",
       "      <td>surf</td>\n",
       "      <td>1042</td>\n",
       "      <td>114.0</td>\n",
       "    </tr>\n",
       "    <tr>\n",
       "      <th>1</th>\n",
       "      <td>1</td>\n",
       "      <td>surf</td>\n",
       "      <td>1362</td>\n",
       "      <td>292.0</td>\n",
       "    </tr>\n",
       "    <tr>\n",
       "      <th>2</th>\n",
       "      <td>1</td>\n",
       "      <td>ultimate</td>\n",
       "      <td>1077</td>\n",
       "      <td>290.0</td>\n",
       "    </tr>\n",
       "    <tr>\n",
       "      <th>3</th>\n",
       "      <td>1</td>\n",
       "      <td>ultimate</td>\n",
       "      <td>1185</td>\n",
       "      <td>181.0</td>\n",
       "    </tr>\n",
       "    <tr>\n",
       "      <th>4</th>\n",
       "      <td>1</td>\n",
       "      <td>ultimate</td>\n",
       "      <td>1196</td>\n",
       "      <td>287.0</td>\n",
       "    </tr>\n",
       "  </tbody>\n",
       "</table>\n",
       "</div>"
      ],
      "text/plain": [
       "   month      plan  user_id  duration\n",
       "0      1      surf     1042     114.0\n",
       "1      1      surf     1362     292.0\n",
       "2      1  ultimate     1077     290.0\n",
       "3      1  ultimate     1185     181.0\n",
       "4      1  ultimate     1196     287.0"
      ]
     },
     "metadata": {},
     "output_type": "display_data"
    }
   ],
   "source": [
    "# Compare the number of minutes users of each plan require each month\n",
    "minutes_per_month = monthly_usage.groupby(['month', 'plan', 'user_id'])['duration'].sum().reset_index()\n",
    "display(minutes_per_month.head())\n"
   ]
  },
  {
   "cell_type": "code",
   "execution_count": 43,
   "metadata": {},
   "outputs": [
    {
     "data": {
      "image/png": "[encoded data removed]",
      "text/plain": [
       "<Figure size 504x288 with 1 Axes>"
      ]
     },
     "metadata": {
      "needs_background": "light"
     },
     "output_type": "display_data"
    }
   ],
   "source": [
    "# Plot a histogram to visualize the number of minutes required per month per user by plan type\n",
    "minutes_per_month[minutes_per_month.plan == 'surf']['duration'].hist(\n",
    "    bins=20, figsize=(7, 4), alpha=.5, density=True\n",
    ")\n",
    "minutes_per_month[minutes_per_month.plan == 'ultimate']['duration'].hist(\n",
    "    bins=20, figsize=(7, 4), alpha=.5, density=True\n",
    ")\n",
    "plt.title('Minutes required per month per user by plan type')\n",
    "plt.ylabel('Users')\n",
    "plt.xlabel('Minutes per Month')\n",
    "plt.legend(['Surf', 'Ultimate'])\n",
    "plt.show()\n"
   ]
  },
  {
   "cell_type": "markdown",
   "metadata": {},
   "source": [
    "Based on the above histogram visualizing the number of minutes required per month per user by plan type, there is also a high degree of similarily between users of both plan types as the histograms seem to align almost exactly."
   ]
  },
  {
   "cell_type": "code",
   "execution_count": 44,
   "metadata": {},
   "outputs": [
    {
     "name": "stdout",
     "output_type": "stream",
     "text": [
      "Monthly call duration mean for surf: 436.80246113989637\n",
      "Monthly call duration variance for surf: 52481.561082726934\n",
      "Monthly call duration mean for ultimate: 435.2865168539326\n",
      "Monthly call duration variance for ultimate: 56387.08516253417\n"
     ]
    }
   ],
   "source": [
    "# Calculate the mean and the variance of the monthly call duration for surf versus ultimate plans\n",
    "monthly_duration_mean_surf = monthly_usage[monthly_usage['plan'] == 'surf']['duration'].mean()\n",
    "print(f'Monthly call duration mean for surf: {monthly_duration_mean_surf}')\n",
    "\n",
    "monthly_duration_var_surf = monthly_usage[monthly_usage['plan'] == 'surf']['duration'].var()\n",
    "print(f'Monthly call duration variance for surf: {monthly_duration_var_surf}')\n",
    "\n",
    "monthly_duration_mean_ultimate = monthly_usage[monthly_usage['plan'] == 'ultimate']['duration'].mean()\n",
    "print(f'Monthly call duration mean for ultimate: {monthly_duration_mean_ultimate}')\n",
    "\n",
    "monthly_duration_var_ultimate = monthly_usage[monthly_usage['plan'] == 'ultimate']['duration'].var()\n",
    "print(f'Monthly call duration variance for ultimate: {monthly_duration_var_ultimate}')\n"
   ]
  },
  {
   "cell_type": "markdown",
   "metadata": {},
   "source": [
    "Looking at the above means and the variances of call duration for users of surf versus ultimate, again the means and variances are very similar which shows that the amount and the spread of the data reveal similar call behavior and usage between users in the two groups."
   ]
  },
  {
   "cell_type": "code",
   "execution_count": 45,
   "metadata": {},
   "outputs": [
    {
     "data": {
      "image/png": "[encoded data removed]",
      "text/plain": [
       "<Figure size 720x360 with 1 Axes>"
      ]
     },
     "metadata": {
      "needs_background": "light"
     },
     "output_type": "display_data"
    }
   ],
   "source": [
    "# Plot a boxplot to visualize the distribution of the monthly call duration\n",
    "monthly_usage[['duration', 'plan']].boxplot(figsize=(10, 5), by='plan')\n",
    "\n",
    "plt.title('Distribution of monthly call duration by plan')\n",
    "plt.ylabel('Monthly Call Duration')\n",
    "plt.xlabel('Plan')\n",
    "plt.xticks([1, 2], ['Surf', 'Ultimate'])\n",
    "plt.show()\n"
   ]
  },
  {
   "cell_type": "markdown",
   "metadata": {},
   "source": [
    "Finally, the above boxplot showing the distribution of monthly call durations by plan per user reveals that the durations are extremely similar in spread with almost identical means and ranges.\n",
    "\n",
    "All the data aligns to conclude that call behavior is extremely similar for both surf and ultimate plan users."
   ]
  },
  {
   "cell_type": "markdown",
   "metadata": {},
   "source": [
    "### Messages"
   ]
  },
  {
   "cell_type": "code",
   "execution_count": 46,
   "metadata": {},
   "outputs": [
    {
     "data": {
      "text/plain": [
       "month  plan    \n",
       "1      surf        21.000000\n",
       "       ultimate    20.666667\n",
       "2      surf        21.600000\n",
       "       ultimate    25.166667\n",
       "3      surf        21.937500\n",
       "Name: messages, dtype: float64"
      ]
     },
     "metadata": {},
     "output_type": "display_data"
    }
   ],
   "source": [
    "# Compare average number of messages sent per each plan per each distinct month\n",
    "average_messages = monthly_usage.groupby(['month', 'plan'])['messages'].mean()\n",
    "display(average_messages.head())\n"
   ]
  },
  {
   "cell_type": "code",
   "execution_count": 47,
   "metadata": {},
   "outputs": [
    {
     "data": {
      "image/png": "[encoded data removed]",
      "text/plain": [
       "<Figure size 432x288 with 1 Axes>"
      ]
     },
     "metadata": {
      "needs_background": "light"
     },
     "output_type": "display_data"
    }
   ],
   "source": [
    "# Plot a bar plot to visualize the average number of messages per plan per month\n",
    "average_messages.unstack().plot(kind='bar')\n",
    "plt.title('Average number of messages per plan per month')\n",
    "plt.ylabel('Average Number of Messages')\n",
    "plt.xlabel('Month')\n",
    "plt.legend(['Surf', 'Ultimate'])\n",
    "plt.show()\n"
   ]
  },
  {
   "cell_type": "markdown",
   "metadata": {},
   "source": [
    "Based on the barplot above visualizing the average number of messages per plan per month, it appears that in general, ultimate plan users send more messages on average per month consistently throughout the year with the exception of January in which the average was slightly lower than the average for surf users. "
   ]
  },
  {
   "cell_type": "code",
   "execution_count": 48,
   "metadata": {},
   "outputs": [
    {
     "data": {
      "text/html": [
       "<div>\n",
       "<style scoped>\n",
       "    .dataframe tbody tr th:only-of-type {\n",
       "        vertical-align: middle;\n",
       "    }\n",
       "\n",
       "    .dataframe tbody tr th {\n",
       "        vertical-align: top;\n",
       "    }\n",
       "\n",
       "    .dataframe thead th {\n",
       "        text-align: right;\n",
       "    }\n",
       "</style>\n",
       "<table border=\"1\" class=\"dataframe\">\n",
       "  <thead>\n",
       "    <tr style=\"text-align: right;\">\n",
       "      <th></th>\n",
       "      <th>month</th>\n",
       "      <th>plan</th>\n",
       "      <th>user_id</th>\n",
       "      <th>messages</th>\n",
       "    </tr>\n",
       "  </thead>\n",
       "  <tbody>\n",
       "    <tr>\n",
       "      <th>0</th>\n",
       "      <td>1</td>\n",
       "      <td>surf</td>\n",
       "      <td>1042</td>\n",
       "      <td>0.0</td>\n",
       "    </tr>\n",
       "    <tr>\n",
       "      <th>1</th>\n",
       "      <td>1</td>\n",
       "      <td>surf</td>\n",
       "      <td>1362</td>\n",
       "      <td>21.0</td>\n",
       "    </tr>\n",
       "    <tr>\n",
       "      <th>2</th>\n",
       "      <td>1</td>\n",
       "      <td>ultimate</td>\n",
       "      <td>1077</td>\n",
       "      <td>37.0</td>\n",
       "    </tr>\n",
       "    <tr>\n",
       "      <th>3</th>\n",
       "      <td>1</td>\n",
       "      <td>ultimate</td>\n",
       "      <td>1185</td>\n",
       "      <td>0.0</td>\n",
       "    </tr>\n",
       "    <tr>\n",
       "      <th>4</th>\n",
       "      <td>1</td>\n",
       "      <td>ultimate</td>\n",
       "      <td>1196</td>\n",
       "      <td>23.0</td>\n",
       "    </tr>\n",
       "  </tbody>\n",
       "</table>\n",
       "</div>"
      ],
      "text/plain": [
       "   month      plan  user_id  messages\n",
       "0      1      surf     1042       0.0\n",
       "1      1      surf     1362      21.0\n",
       "2      1  ultimate     1077      37.0\n",
       "3      1  ultimate     1185       0.0\n",
       "4      1  ultimate     1196      23.0"
      ]
     },
     "metadata": {},
     "output_type": "display_data"
    }
   ],
   "source": [
    "# Compare the number of messages users of each plan tend to send each month\n",
    "messages_per_month = monthly_usage.groupby(['month', 'plan', 'user_id'])['messages'].sum().reset_index()\n",
    "display(messages_per_month.head())\n"
   ]
  },
  {
   "cell_type": "code",
   "execution_count": 49,
   "metadata": {},
   "outputs": [
    {
     "data": {
      "image/png": "[encoded data removed]",
      "text/plain": [
       "<Figure size 504x288 with 1 Axes>"
      ]
     },
     "metadata": {
      "needs_background": "light"
     },
     "output_type": "display_data"
    }
   ],
   "source": [
    "# Plot a histogram to visualize the number of messages required per month per user by plan type\n",
    "messages_per_month[messages_per_month.plan == 'surf']['messages'].hist(\n",
    "    bins=20, figsize=(7, 4), alpha=.5, density=True\n",
    ")\n",
    "messages_per_month[messages_per_month.plan == 'ultimate']['messages'].hist(\n",
    "    bins=20, figsize=(7, 4), alpha=.5, density=True\n",
    ")\n",
    "plt.title('Messages required per month per user by plan type')\n",
    "plt.ylabel('Users')\n",
    "plt.xlabel('Messages per Month')\n",
    "plt.legend(['Surf', 'Ultimate'])\n",
    "plt.show()\n"
   ]
  },
  {
   "cell_type": "markdown",
   "metadata": {},
   "source": [
    "Based on the above histogram visualizing the number of messages required per month per user by plan type, it appears that more surf users utilize 50 or fewer messages per month while more ultimate users go beyond 50 messages per month. However, there are a few surf plan users who are outliers, using 150+ messages per month. "
   ]
  },
  {
   "cell_type": "code",
   "execution_count": 50,
   "metadata": {},
   "outputs": [
    {
     "name": "stdout",
     "output_type": "stream",
     "text": [
      "Monthly messages mean for surf: 40.10965630114566\n",
      "Monthly messages variance for surf: 1091.3442310038054\n",
      "Monthly messages mean for ultimate: 46.29623287671233\n",
      "Monthly messages variance for ultimate: 1085.183107568317\n"
     ]
    }
   ],
   "source": [
    "# Calculate the mean and the variance of the monthly messaging totals for surf versus ultimate plans\n",
    "monthly_messages_mean_surf = monthly_usage[monthly_usage['plan'] == 'surf']['messages'].mean()\n",
    "print(f'Monthly messages mean for surf: {monthly_messages_mean_surf}')\n",
    "\n",
    "monthly_messages_var_surf = monthly_usage[monthly_usage['plan'] == 'surf']['messages'].var()\n",
    "print(f'Monthly messages variance for surf: {monthly_messages_var_surf}')\n",
    "\n",
    "monthly_messages_mean_ultimate = monthly_usage[monthly_usage['plan'] == 'ultimate']['messages'].mean()\n",
    "print(f'Monthly messages mean for ultimate: {monthly_messages_mean_ultimate}')\n",
    "\n",
    "monthly_messages_var_ultimate = monthly_usage[monthly_usage['plan'] == 'ultimate']['messages'].var()\n",
    "print(f'Monthly messages variance for ultimate: {monthly_messages_var_ultimate}')\n"
   ]
  },
  {
   "cell_type": "markdown",
   "metadata": {},
   "source": [
    "Looking at the above means and the variances of messages sent for users of surf versus ultimate, the mean messages for ultimate users is higher than that of surf users with similar variance values for both plans."
   ]
  },
  {
   "cell_type": "code",
   "execution_count": 51,
   "metadata": {},
   "outputs": [
    {
     "data": {
      "image/png": "[encoded data removed]",
      "text/plain": [
       "<Figure size 720x360 with 1 Axes>"
      ]
     },
     "metadata": {
      "needs_background": "light"
     },
     "output_type": "display_data"
    }
   ],
   "source": [
    "# Plot a boxplot to visualize the distribution of the monthly messages\n",
    "monthly_usage[['messages', 'plan']].boxplot(figsize=(10, 5), by='plan')\n",
    "\n",
    "plt.title('Distribution of monthly messages by plan')\n",
    "plt.ylabel('Monthly Messages')\n",
    "plt.xlabel('Plan')\n",
    "plt.xticks([1, 2], ['Surf', 'Ultimate'])\n",
    "plt.show()\n"
   ]
  },
  {
   "cell_type": "markdown",
   "metadata": {},
   "source": [
    "Finally, the above boxplot showing the distribution of monthly messages sent by plan per user reveals that the number of messages sent are slightly higher among ultimate users versus surf users though there are a few very high outliers in the surf group.\n",
    "\n",
    "Based on all this data, it appears that users of the ultimate plan tend to send more messages on average in comparison to users of the surf plan."
   ]
  },
  {
   "cell_type": "markdown",
   "metadata": {},
   "source": [
    "### Internet"
   ]
  },
  {
   "cell_type": "code",
   "execution_count": 52,
   "metadata": {},
   "outputs": [
    {
     "data": {
      "text/plain": [
       "month  plan    \n",
       "1      surf         5.000000\n",
       "       ultimate     7.250000\n",
       "2      surf        12.222222\n",
       "       ultimate    17.285714\n",
       "3      surf        13.565217\n",
       "Name: gb_used, dtype: float64"
      ]
     },
     "metadata": {},
     "output_type": "display_data"
    }
   ],
   "source": [
    "# Compare average amount of data used per each plan per each distinct month\n",
    "average_gb_used = monthly_usage.groupby(['month', 'plan'])['gb_used'].mean()\n",
    "display(average_gb_used.head())\n"
   ]
  },
  {
   "cell_type": "code",
   "execution_count": 53,
   "metadata": {},
   "outputs": [
    {
     "data": {
      "image/png": "[encoded data removed]",
      "text/plain": [
       "<Figure size 432x288 with 1 Axes>"
      ]
     },
     "metadata": {
      "needs_background": "light"
     },
     "output_type": "display_data"
    }
   ],
   "source": [
    "# Plot a bar plot to visualize the average amount of data used per plan per month\n",
    "average_gb_used.unstack().plot(kind='bar')\n",
    "plt.title('Average amount of data used per plan per month')\n",
    "plt.ylabel('Average Amount of Data in GB')\n",
    "plt.xlabel('Month')\n",
    "plt.legend(['Surf', 'Ultimate'])\n",
    "plt.show()\n"
   ]
  },
  {
   "cell_type": "markdown",
   "metadata": {},
   "source": [
    "Based on the barplot above visualizing the average amount of data used per plan per month, it appears that in general, ultimate plan users tend to use more data on average per month consistently throughout the year with the exception of July in which the average was slightly lower than the average for surf users. The difference in data utilization is more stark from January to May but is much more similar in number for the rest of the year."
   ]
  },
  {
   "cell_type": "code",
   "execution_count": 54,
   "metadata": {},
   "outputs": [
    {
     "data": {
      "text/html": [
       "<div>\n",
       "<style scoped>\n",
       "    .dataframe tbody tr th:only-of-type {\n",
       "        vertical-align: middle;\n",
       "    }\n",
       "\n",
       "    .dataframe tbody tr th {\n",
       "        vertical-align: top;\n",
       "    }\n",
       "\n",
       "    .dataframe thead th {\n",
       "        text-align: right;\n",
       "    }\n",
       "</style>\n",
       "<table border=\"1\" class=\"dataframe\">\n",
       "  <thead>\n",
       "    <tr style=\"text-align: right;\">\n",
       "      <th></th>\n",
       "      <th>month</th>\n",
       "      <th>plan</th>\n",
       "      <th>user_id</th>\n",
       "      <th>gb_used</th>\n",
       "    </tr>\n",
       "  </thead>\n",
       "  <tbody>\n",
       "    <tr>\n",
       "      <th>0</th>\n",
       "      <td>1</td>\n",
       "      <td>surf</td>\n",
       "      <td>1042</td>\n",
       "      <td>2.0</td>\n",
       "    </tr>\n",
       "    <tr>\n",
       "      <th>1</th>\n",
       "      <td>1</td>\n",
       "      <td>surf</td>\n",
       "      <td>1362</td>\n",
       "      <td>8.0</td>\n",
       "    </tr>\n",
       "    <tr>\n",
       "      <th>2</th>\n",
       "      <td>1</td>\n",
       "      <td>ultimate</td>\n",
       "      <td>1077</td>\n",
       "      <td>11.0</td>\n",
       "    </tr>\n",
       "    <tr>\n",
       "      <th>3</th>\n",
       "      <td>1</td>\n",
       "      <td>ultimate</td>\n",
       "      <td>1185</td>\n",
       "      <td>7.0</td>\n",
       "    </tr>\n",
       "    <tr>\n",
       "      <th>4</th>\n",
       "      <td>1</td>\n",
       "      <td>ultimate</td>\n",
       "      <td>1196</td>\n",
       "      <td>9.0</td>\n",
       "    </tr>\n",
       "  </tbody>\n",
       "</table>\n",
       "</div>"
      ],
      "text/plain": [
       "   month      plan  user_id  gb_used\n",
       "0      1      surf     1042      2.0\n",
       "1      1      surf     1362      8.0\n",
       "2      1  ultimate     1077     11.0\n",
       "3      1  ultimate     1185      7.0\n",
       "4      1  ultimate     1196      9.0"
      ]
     },
     "metadata": {},
     "output_type": "display_data"
    }
   ],
   "source": [
    "# Compare the amount of data users of each plan use each month\n",
    "gb_per_month = monthly_usage.groupby(['month', 'plan', 'user_id'])['gb_used'].sum().reset_index()\n",
    "display(gb_per_month.head())\n"
   ]
  },
  {
   "cell_type": "code",
   "execution_count": 55,
   "metadata": {},
   "outputs": [
    {
     "data": {
      "image/png": "[encoded data removed]",
      "text/plain": [
       "<Figure size 504x288 with 1 Axes>"
      ]
     },
     "metadata": {
      "needs_background": "light"
     },
     "output_type": "display_data"
    }
   ],
   "source": [
    "# Plot a histogram to visualize the amount of data required per month per user by plan type\n",
    "gb_per_month[gb_per_month.plan == 'surf']['gb_used'].hist(\n",
    "    bins=20, figsize=(7, 4), alpha=.5, density=True\n",
    ")\n",
    "gb_per_month[gb_per_month.plan == 'ultimate']['gb_used'].hist(\n",
    "    bins=20, figsize=(7, 4), alpha=.5, density=True\n",
    ")\n",
    "plt.title('Amount of data required per month per user by plan type')\n",
    "plt.ylabel('Users')\n",
    "plt.xlabel('Data in GB used per Month')\n",
    "plt.legend(['Surf', 'Ultimate'])\n",
    "plt.show()\n"
   ]
  },
  {
   "cell_type": "markdown",
   "metadata": {},
   "source": [
    "Based on the above histogram visualizing the amount of data required per month per user by plan type, although it appears as though the two distributions look relatively similar, more ultimate users tend to use higher amounts of data per month than surf users."
   ]
  },
  {
   "cell_type": "code",
   "execution_count": 56,
   "metadata": {},
   "outputs": [
    {
     "name": "stdout",
     "output_type": "stream",
     "text": [
      "Monthly data mean for surf: 16.831193838254173\n",
      "Monthly data variance for surf: 59.473734090854755\n",
      "Monthly data mean for ultimate: 17.331015299026426\n",
      "Monthly data variance for ultimate: 1085.183107568317\n"
     ]
    }
   ],
   "source": [
    "# Calculate the mean and the variance of the monthly data usage totals for surf versus ultimate plans\n",
    "monthly_data_mean_surf = monthly_usage[monthly_usage['plan'] == 'surf']['gb_used'].mean()\n",
    "print(f'Monthly data mean for surf: {monthly_data_mean_surf}')\n",
    "\n",
    "monthly_data_var_surf = monthly_usage[monthly_usage['plan'] == 'surf']['gb_used'].var()\n",
    "print(f'Monthly data variance for surf: {monthly_data_var_surf}')\n",
    "\n",
    "monthly_data_mean_ultimate = monthly_usage[monthly_usage['plan'] == 'ultimate']['gb_used'].mean()\n",
    "print(f'Monthly data mean for ultimate: {monthly_data_mean_ultimate}')\n",
    "\n",
    "monthly_data_var_ultimate = monthly_usage[monthly_usage['plan'] == 'ultimate']['messages'].var()\n",
    "print(f'Monthly data variance for ultimate: {monthly_data_var_ultimate}')\n"
   ]
  },
  {
   "cell_type": "markdown",
   "metadata": {},
   "source": [
    "Looking at the above means and the variances of data used for users of surf versus ultimate, the mean messages for ultimate users is slightly higher than that of surf users. The variance, however is much higher for ultimate users than for surf users which indicates a larger spread of data for ultimate users."
   ]
  },
  {
   "cell_type": "code",
   "execution_count": 57,
   "metadata": {},
   "outputs": [
    {
     "data": {
      "image/png": "[encoded data removed]",
      "text/plain": [
       "<Figure size 720x360 with 1 Axes>"
      ]
     },
     "metadata": {
      "needs_background": "light"
     },
     "output_type": "display_data"
    }
   ],
   "source": [
    "# Plot a boxplot to visualize the distribution of the monthly data usage\n",
    "monthly_usage[['gb_used', 'plan']].boxplot(figsize=(10, 5), by='plan')\n",
    "\n",
    "plt.title('Distribution of data usage by plan')\n",
    "plt.ylabel('Monthly Data Usage in GB')\n",
    "plt.xlabel('Plan')\n",
    "plt.xticks([1, 2], ['Surf', 'Ultimate'])\n",
    "plt.show()\n"
   ]
  },
  {
   "cell_type": "markdown",
   "metadata": {},
   "source": [
    "Finally, the above boxplot showing the distribution of monthly data used by plan per user reveals that the distribution of usage is very similar.\n",
    "\n",
    "Based on all this data, it appears that users of the ultimate plan tend to use slightly more data on average in comparison to users of the surf plan."
   ]
  },
  {
   "cell_type": "markdown",
   "metadata": {},
   "source": [
    "## Revenue"
   ]
  },
  {
   "cell_type": "markdown",
   "metadata": {},
   "source": [
    "A similar analysis that was done above for calls, messages, and internet to determine user behavior will be performed on revenue below."
   ]
  },
  {
   "cell_type": "code",
   "execution_count": 58,
   "metadata": {},
   "outputs": [
    {
     "data": {
      "text/plain": [
       "month  plan    \n",
       "1      surf        20.000000\n",
       "       ultimate    70.000000\n",
       "2      surf        34.396667\n",
       "       ultimate    70.000000\n",
       "3      surf        45.941304\n",
       "Name: revenue, dtype: float64"
      ]
     },
     "metadata": {},
     "output_type": "display_data"
    }
   ],
   "source": [
    "# Compare average revenue per each plan per each distinct month\n",
    "average_revenue = monthly_usage.groupby(['month', 'plan'])['revenue'].mean()\n",
    "display(average_revenue.head())\n"
   ]
  },
  {
   "cell_type": "code",
   "execution_count": 59,
   "metadata": {},
   "outputs": [
    {
     "data": {
      "image/png": "[encoded data removed]",
      "text/plain": [
       "<Figure size 432x288 with 1 Axes>"
      ]
     },
     "metadata": {
      "needs_background": "light"
     },
     "output_type": "display_data"
    }
   ],
   "source": [
    "# Plot a bar plot to visualize the average amount of data used per plan per month\n",
    "average_revenue.unstack().plot(kind='bar')\n",
    "plt.title('Average revenue per month per plan')\n",
    "plt.ylabel('Average Revenue')\n",
    "plt.xlabel('Month')\n",
    "plt.legend(['Surf', 'Ultimate'])\n",
    "plt.show()\n"
   ]
  },
  {
   "cell_type": "markdown",
   "metadata": {},
   "source": [
    "Based on the barplot above visualizing the average revenue per plan per month, it appears that across the board, ultimate plan users had higher revenue than surf plan users with larger differences towards the beinning of the year."
   ]
  },
  {
   "cell_type": "code",
   "execution_count": 60,
   "metadata": {},
   "outputs": [
    {
     "data": {
      "text/html": [
       "<div>\n",
       "<style scoped>\n",
       "    .dataframe tbody tr th:only-of-type {\n",
       "        vertical-align: middle;\n",
       "    }\n",
       "\n",
       "    .dataframe tbody tr th {\n",
       "        vertical-align: top;\n",
       "    }\n",
       "\n",
       "    .dataframe thead th {\n",
       "        text-align: right;\n",
       "    }\n",
       "</style>\n",
       "<table border=\"1\" class=\"dataframe\">\n",
       "  <thead>\n",
       "    <tr style=\"text-align: right;\">\n",
       "      <th></th>\n",
       "      <th>month</th>\n",
       "      <th>plan</th>\n",
       "      <th>user_id</th>\n",
       "      <th>revenue</th>\n",
       "    </tr>\n",
       "  </thead>\n",
       "  <tbody>\n",
       "    <tr>\n",
       "      <th>0</th>\n",
       "      <td>1</td>\n",
       "      <td>surf</td>\n",
       "      <td>1042</td>\n",
       "      <td>20.0</td>\n",
       "    </tr>\n",
       "    <tr>\n",
       "      <th>1</th>\n",
       "      <td>1</td>\n",
       "      <td>surf</td>\n",
       "      <td>1362</td>\n",
       "      <td>20.0</td>\n",
       "    </tr>\n",
       "    <tr>\n",
       "      <th>2</th>\n",
       "      <td>1</td>\n",
       "      <td>ultimate</td>\n",
       "      <td>1077</td>\n",
       "      <td>70.0</td>\n",
       "    </tr>\n",
       "    <tr>\n",
       "      <th>3</th>\n",
       "      <td>1</td>\n",
       "      <td>ultimate</td>\n",
       "      <td>1185</td>\n",
       "      <td>70.0</td>\n",
       "    </tr>\n",
       "    <tr>\n",
       "      <th>4</th>\n",
       "      <td>1</td>\n",
       "      <td>ultimate</td>\n",
       "      <td>1196</td>\n",
       "      <td>70.0</td>\n",
       "    </tr>\n",
       "  </tbody>\n",
       "</table>\n",
       "</div>"
      ],
      "text/plain": [
       "   month      plan  user_id  revenue\n",
       "0      1      surf     1042     20.0\n",
       "1      1      surf     1362     20.0\n",
       "2      1  ultimate     1077     70.0\n",
       "3      1  ultimate     1185     70.0\n",
       "4      1  ultimate     1196     70.0"
      ]
     },
     "metadata": {},
     "output_type": "display_data"
    }
   ],
   "source": [
    "# Compare the amount of revenue users of each plan generated each month\n",
    "revenue_per_month = monthly_usage.groupby(['month', 'plan', 'user_id'])['revenue'].sum().reset_index()\n",
    "display(revenue_per_month.head())\n"
   ]
  },
  {
   "cell_type": "code",
   "execution_count": 61,
   "metadata": {},
   "outputs": [
    {
     "data": {
      "image/png": "[encoded data removed]",
      "text/plain": [
       "<Figure size 504x288 with 1 Axes>"
      ]
     },
     "metadata": {
      "needs_background": "light"
     },
     "output_type": "display_data"
    }
   ],
   "source": [
    "# Plot a histogram to visualize the amount of revenue per month per user by plan type\n",
    "revenue_per_month[revenue_per_month.plan == 'surf']['revenue'].hist(\n",
    "    bins=20, figsize=(7, 4), alpha=.5, density=True\n",
    ")\n",
    "revenue_per_month[revenue_per_month.plan == 'ultimate']['revenue'].hist(\n",
    "    bins=20, figsize=(7, 4), alpha=.5, density=True\n",
    ")\n",
    "plt.title('Amount of revenue generated per month per user by plan type')\n",
    "plt.ylabel('Users')\n",
    "plt.xlabel('Revenue Generated per Month')\n",
    "plt.legend(['Surf', 'Ultimate'])\n",
    "plt.show()\n"
   ]
  },
  {
   "cell_type": "markdown",
   "metadata": {},
   "source": [
    "Based on the above histogram visualizing the revenue generated per month per user by plan type, there is quite a stark difference between ultimate users and surf users. While surf users tend to have a much greater distribution of revenue values, most of the ultimate users are concentrated at around $70/month which is the baseline monthly charge for the plan. "
   ]
  },
  {
   "cell_type": "code",
   "execution_count": 62,
   "metadata": {},
   "outputs": [
    {
     "name": "stdout",
     "output_type": "stream",
     "text": [
      "Monthly revenue mean for surf: 60.706408137317226\n",
      "Monthly revenue variance for surf: 3067.835152293878\n",
      "Monthly revenue mean for ultimate: 72.31388888888888\n",
      "Monthly revenue variance for ultimate: 129.8484855509195\n"
     ]
    }
   ],
   "source": [
    "# Calculate the mean and the variance of the monthly revenue totals for surf versus ultimate plans\n",
    "monthly_revenue_mean_surf = monthly_usage[monthly_usage['plan'] == 'surf']['revenue'].mean()\n",
    "print(f'Monthly revenue mean for surf: {monthly_revenue_mean_surf}')\n",
    "\n",
    "monthly_revenue_var_surf = monthly_usage[monthly_usage['plan'] == 'surf']['revenue'].var()\n",
    "print(f'Monthly revenue variance for surf: {monthly_revenue_var_surf}')\n",
    "\n",
    "monthly_revenue_mean_ultimate = monthly_usage[monthly_usage['plan'] == 'ultimate']['revenue'].mean()\n",
    "print(f'Monthly revenue mean for ultimate: {monthly_revenue_mean_ultimate}')\n",
    "\n",
    "monthly_revenue_var_ultimate = monthly_usage[monthly_usage['plan'] == 'ultimate']['revenue'].var()\n",
    "print(f'Monthly revenue variance for ultimate: {monthly_revenue_var_ultimate}')\n"
   ]
  },
  {
   "cell_type": "markdown",
   "metadata": {},
   "source": [
    "Looking at the above means and the variances of revenue for surf versus ultimate, the mean revenue is quite higher for ultimate than that of surf but the variance for surf is much higher than that of ultimate. This indicates a greater concentration of values around the mean for ultimate users than surf users."
   ]
  },
  {
   "cell_type": "code",
   "execution_count": 63,
   "metadata": {},
   "outputs": [
    {
     "data": {
      "image/png": "[encoded data removed]",
      "text/plain": [
       "<Figure size 720x360 with 1 Axes>"
      ]
     },
     "metadata": {
      "needs_background": "light"
     },
     "output_type": "display_data"
    }
   ],
   "source": [
    "# Plot a boxplot to visualize the distribution of the monthly data usage\n",
    "monthly_usage[['revenue', 'plan']].boxplot(figsize=(10, 5), by='plan')\n",
    "\n",
    "plt.title('Distribution of revenue by plan')\n",
    "plt.ylabel('Monthly Revenue')\n",
    "plt.xlabel('Plan')\n",
    "plt.xticks([1, 2], ['Surf', 'Ultimate'])\n",
    "plt.show()\n"
   ]
  },
  {
   "cell_type": "markdown",
   "metadata": {},
   "source": [
    "Finally, the above boxplot showing the distribution of monthly revenue by plan per user reveals that the distribution of usage is quite different. As observed in the prior visualizations and calculations, the revenue for surf users is much more distributed than the revenue for ultimate users and the average revenue is higher for ultimate users than surf users.\n",
    "\n",
    "Based on all this data, it appears that users of the ultimate plan tend to have higher revenue than that users of the surf plan as most of the surf plan users tend to have monthly revenue values under the ultimate plan baseline monthly charge of $70/month while most ultimate users tend to have revenue values of exactly the baseline monthly charge, indicating that they tend not to exceed their monthly package limits."
   ]
  },
  {
   "cell_type": "markdown",
   "metadata": {},
   "source": [
    "## Test statistical hypotheses"
   ]
  },
  {
   "cell_type": "markdown",
   "metadata": {},
   "source": [
    "**Test the hypothesis that the average revenue from users of the Ultimate and Surf calling plans differs.**"
   ]
  },
  {
   "cell_type": "markdown",
   "metadata": {},
   "source": [
    "Null Hypothesis: Average revenue from users of the Surf calling plan is equal to users of the Ultimate calling plan\n",
    "\n",
    "Alternative Hypothesis: Average revenue from users of the Surf calling plan is not equal to users of the Ultimate calling plan\n",
    "\n",
    "Statistical Test: 2-sided t-test\n",
    "\n",
    "Alpha Value: 0.05"
   ]
  },
  {
   "cell_type": "code",
   "execution_count": 64,
   "metadata": {},
   "outputs": [
    {
     "data": {
      "text/plain": [
       "0    20.0\n",
       "1    20.0\n",
       "6    20.0\n",
       "7    20.0\n",
       "8    30.0\n",
       "Name: revenue, dtype: float64"
      ]
     },
     "metadata": {},
     "output_type": "display_data"
    },
    {
     "data": {
      "text/plain": [
       "1573"
      ]
     },
     "execution_count": 64,
     "metadata": {},
     "output_type": "execute_result"
    }
   ],
   "source": [
    "# Create an array for the average monthly revenue of Surf users\n",
    "surf_monthly_avg = revenue_per_month[revenue_per_month['plan'] == 'surf']['revenue']\n",
    "display(surf_monthly_avg.head())\n",
    "surf_monthly_avg.count()\n"
   ]
  },
  {
   "cell_type": "code",
   "execution_count": 65,
   "metadata": {},
   "outputs": [
    {
     "data": {
      "text/plain": [
       "2     70.0\n",
       "3     70.0\n",
       "4     70.0\n",
       "5     70.0\n",
       "15    70.0\n",
       "Name: revenue, dtype: float64"
      ]
     },
     "metadata": {},
     "output_type": "display_data"
    },
    {
     "data": {
      "text/plain": [
       "720"
      ]
     },
     "execution_count": 65,
     "metadata": {},
     "output_type": "execute_result"
    }
   ],
   "source": [
    "# Create an array for the average monthly revenue of Ultimate users\n",
    "ultimate_monthly_avg = revenue_per_month[revenue_per_month['plan'] == 'ultimate']['revenue']\n",
    "display(ultimate_monthly_avg.head())\n",
    "ultimate_monthly_avg.count()\n"
   ]
  },
  {
   "cell_type": "code",
   "execution_count": 66,
   "metadata": {},
   "outputs": [
    {
     "name": "stdout",
     "output_type": "stream",
     "text": [
      "p-value:  3.1703905481136763e-15\n",
      "We reject the null hypothesis\n"
     ]
    }
   ],
   "source": [
    "# Test the hypothesis\n",
    "alpha = 0.05\n",
    "\n",
    "results = st.ttest_ind(surf_monthly_avg, ultimate_monthly_avg, equal_var = False)\n",
    "\n",
    "print('p-value: ', results.pvalue)\n",
    "\n",
    "if results.pvalue < alpha:\n",
    "    print(\"We reject the null hypothesis\")\n",
    "else:\n",
    "    print(\"We can't reject the null hypothesis\")\n"
   ]
  },
  {
   "cell_type": "markdown",
   "metadata": {},
   "source": [
    "**Test the hypothesis that the average revenue from users in the NY-NJ area is different from that of the users from the other regions.**"
   ]
  },
  {
   "cell_type": "markdown",
   "metadata": {},
   "source": [
    "Null Hypothesis: Average revenue from users in the NY-NJ area is equal to users from other regions\n",
    "\n",
    "Alternative Hypothesis: Average revenue from users in the NY-NJ area is not equal to users from other regions\n",
    "\n",
    "Statistical Test: 2-sided t-test\n",
    "\n",
    "Alpha Value: 0.05"
   ]
  },
  {
   "cell_type": "code",
   "execution_count": 67,
   "metadata": {},
   "outputs": [
    {
     "data": {
      "text/html": [
       "<div>\n",
       "<style scoped>\n",
       "    .dataframe tbody tr th:only-of-type {\n",
       "        vertical-align: middle;\n",
       "    }\n",
       "\n",
       "    .dataframe tbody tr th {\n",
       "        vertical-align: top;\n",
       "    }\n",
       "\n",
       "    .dataframe thead th {\n",
       "        text-align: right;\n",
       "    }\n",
       "</style>\n",
       "<table border=\"1\" class=\"dataframe\">\n",
       "  <thead>\n",
       "    <tr style=\"text-align: right;\">\n",
       "      <th></th>\n",
       "      <th>month</th>\n",
       "      <th>plan</th>\n",
       "      <th>user_id</th>\n",
       "      <th>revenue</th>\n",
       "      <th>city</th>\n",
       "    </tr>\n",
       "  </thead>\n",
       "  <tbody>\n",
       "    <tr>\n",
       "      <th>0</th>\n",
       "      <td>1</td>\n",
       "      <td>surf</td>\n",
       "      <td>1042</td>\n",
       "      <td>20.0</td>\n",
       "      <td>Philadelphia-Camden-Wilmington, PA-NJ-DE-MD MSA</td>\n",
       "    </tr>\n",
       "    <tr>\n",
       "      <th>1</th>\n",
       "      <td>1</td>\n",
       "      <td>surf</td>\n",
       "      <td>1362</td>\n",
       "      <td>20.0</td>\n",
       "      <td>Denver-Aurora-Lakewood, CO MSA</td>\n",
       "    </tr>\n",
       "    <tr>\n",
       "      <th>2</th>\n",
       "      <td>1</td>\n",
       "      <td>ultimate</td>\n",
       "      <td>1077</td>\n",
       "      <td>70.0</td>\n",
       "      <td>Charlotte-Concord-Gastonia, NC-SC MSA</td>\n",
       "    </tr>\n",
       "    <tr>\n",
       "      <th>3</th>\n",
       "      <td>1</td>\n",
       "      <td>ultimate</td>\n",
       "      <td>1185</td>\n",
       "      <td>70.0</td>\n",
       "      <td>Louisville/Jefferson County, KY-IN MSA</td>\n",
       "    </tr>\n",
       "    <tr>\n",
       "      <th>4</th>\n",
       "      <td>1</td>\n",
       "      <td>ultimate</td>\n",
       "      <td>1196</td>\n",
       "      <td>70.0</td>\n",
       "      <td>Los Angeles-Long Beach-Anaheim, CA MSA</td>\n",
       "    </tr>\n",
       "    <tr>\n",
       "      <th>5</th>\n",
       "      <td>1</td>\n",
       "      <td>ultimate</td>\n",
       "      <td>1214</td>\n",
       "      <td>70.0</td>\n",
       "      <td>San Francisco-Oakland-Berkeley, CA MSA</td>\n",
       "    </tr>\n",
       "    <tr>\n",
       "      <th>6</th>\n",
       "      <td>2</td>\n",
       "      <td>surf</td>\n",
       "      <td>1042</td>\n",
       "      <td>20.0</td>\n",
       "      <td>Philadelphia-Camden-Wilmington, PA-NJ-DE-MD MSA</td>\n",
       "    </tr>\n",
       "    <tr>\n",
       "      <th>7</th>\n",
       "      <td>2</td>\n",
       "      <td>surf</td>\n",
       "      <td>1099</td>\n",
       "      <td>20.0</td>\n",
       "      <td>New York-Newark-Jersey City, NY-NJ-PA MSA</td>\n",
       "    </tr>\n",
       "    <tr>\n",
       "      <th>8</th>\n",
       "      <td>2</td>\n",
       "      <td>surf</td>\n",
       "      <td>1138</td>\n",
       "      <td>30.0</td>\n",
       "      <td>Riverside-San Bernardino-Ontario, CA MSA</td>\n",
       "    </tr>\n",
       "    <tr>\n",
       "      <th>9</th>\n",
       "      <td>2</td>\n",
       "      <td>surf</td>\n",
       "      <td>1171</td>\n",
       "      <td>30.0</td>\n",
       "      <td>Boston-Cambridge-Newton, MA-NH MSA</td>\n",
       "    </tr>\n",
       "  </tbody>\n",
       "</table>\n",
       "</div>"
      ],
      "text/plain": [
       "   month      plan  user_id  revenue  \\\n",
       "0      1      surf     1042     20.0   \n",
       "1      1      surf     1362     20.0   \n",
       "2      1  ultimate     1077     70.0   \n",
       "3      1  ultimate     1185     70.0   \n",
       "4      1  ultimate     1196     70.0   \n",
       "5      1  ultimate     1214     70.0   \n",
       "6      2      surf     1042     20.0   \n",
       "7      2      surf     1099     20.0   \n",
       "8      2      surf     1138     30.0   \n",
       "9      2      surf     1171     30.0   \n",
       "\n",
       "                                              city  \n",
       "0  Philadelphia-Camden-Wilmington, PA-NJ-DE-MD MSA  \n",
       "1                   Denver-Aurora-Lakewood, CO MSA  \n",
       "2            Charlotte-Concord-Gastonia, NC-SC MSA  \n",
       "3           Louisville/Jefferson County, KY-IN MSA  \n",
       "4           Los Angeles-Long Beach-Anaheim, CA MSA  \n",
       "5           San Francisco-Oakland-Berkeley, CA MSA  \n",
       "6  Philadelphia-Camden-Wilmington, PA-NJ-DE-MD MSA  \n",
       "7        New York-Newark-Jersey City, NY-NJ-PA MSA  \n",
       "8         Riverside-San Bernardino-Ontario, CA MSA  \n",
       "9               Boston-Cambridge-Newton, MA-NH MSA  "
      ]
     },
     "metadata": {},
     "output_type": "display_data"
    }
   ],
   "source": [
    "# Add the 'city' column from the 'users' dataframe to the 'revenue_per_month' dataframe\n",
    "revenue_per_month = pd.merge(revenue_per_month, users['city'], on = 'user_id', how='left')\n",
    "display(revenue_per_month.head(10))\n"
   ]
  },
  {
   "cell_type": "code",
   "execution_count": 68,
   "metadata": {},
   "outputs": [
    {
     "data": {
      "text/plain": [
       "7     20.00\n",
       "14    70.00\n",
       "25    86.84\n",
       "29    20.00\n",
       "34    20.00\n",
       "Name: revenue, dtype: float64"
      ]
     },
     "metadata": {},
     "output_type": "display_data"
    },
    {
     "data": {
      "text/plain": [
       "377"
      ]
     },
     "execution_count": 68,
     "metadata": {},
     "output_type": "execute_result"
    }
   ],
   "source": [
    "# Create an array for the average monthly revenue of users from the NY-NJ area\n",
    "nynj_monthly_avg = revenue_per_month[revenue_per_month['city'] == 'New York-Newark-Jersey City, NY-NJ-PA MSA']['revenue']\n",
    "display(nynj_monthly_avg.head())\n",
    "nynj_monthly_avg.count()\n"
   ]
  },
  {
   "cell_type": "code",
   "execution_count": 69,
   "metadata": {},
   "outputs": [
    {
     "data": {
      "text/plain": [
       "0    20.0\n",
       "1    20.0\n",
       "2    70.0\n",
       "3    70.0\n",
       "4    70.0\n",
       "Name: revenue, dtype: float64"
      ]
     },
     "metadata": {},
     "output_type": "display_data"
    },
    {
     "data": {
      "text/plain": [
       "1916"
      ]
     },
     "execution_count": 69,
     "metadata": {},
     "output_type": "execute_result"
    }
   ],
   "source": [
    "# Create an array for the average monthly revenue of users not from the NY-NJ area\n",
    "othercities_monthly_avg = revenue_per_month[revenue_per_month['city'] != 'New York-Newark-Jersey City, NY-NJ-PA MSA']['revenue']\n",
    "display(othercities_monthly_avg.head())\n",
    "othercities_monthly_avg.count()\n"
   ]
  },
  {
   "cell_type": "code",
   "execution_count": 70,
   "metadata": {},
   "outputs": [
    {
     "name": "stdout",
     "output_type": "stream",
     "text": [
      "p-value:  0.03352561588530083\n",
      "We reject the null hypothesis\n"
     ]
    }
   ],
   "source": [
    "# Test the hypothesis\n",
    "alpha = 0.05\n",
    "\n",
    "results = st.ttest_ind(nynj_monthly_avg, othercities_monthly_avg, equal_var = False)\n",
    "\n",
    "print('p-value: ', results.pvalue)\n",
    "\n",
    "if results.pvalue < alpha:\n",
    "    print(\"We reject the null hypothesis\")\n",
    "else:\n",
    "    print(\"We can't reject the null hypothesis\")\n",
    "    "
   ]
  },
  {
   "cell_type": "markdown",
   "metadata": {},
   "source": [
    "## General conclusion\n",
    "\n",
    "The following are the overarching conclusions that can be made about the data based on the above analyses:\n",
    "\n",
    "**Calls**\n",
    "\n",
    "-Call behavior is extremely similar for both surf and ultimate plan users.\n",
    "\n",
    "**Messages:**\n",
    "\n",
    "-Users of the ultimate plan tend to send more messages on average in comparison to users of the surf plan.\n",
    "\n",
    "**Internet:**\n",
    "\n",
    "-Users of the ultimate plan tend to use slightly more data on average in comparison to users of the surf plan.\n",
    "\n",
    "**Revenue:**\n",
    "\n",
    "-Users of the ultimate plan tend to have higher revenue than that users of the surf plan\n",
    "\n",
    "-The results of the 2-sided t-test indicate that the higher revenue detected among ultimate plan users in comparison to surf plan users is statistically significant\n",
    "\n",
    "-The results of the 2-sided t-test indicate that the lower revenue detected among users in the NY-NJ area compared to users in other regions is statistically significant\n",
    "\n",
    "**Recommendation for Megaline**\n",
    "\n",
    "Based on the results above, the commercial department of Megaline should focus their advertisement budget on promoting the Ultimate Plan which brings in more revenue on average than the Surf Plan. It should also concentrate their efforts on bringing revenue up in the NY-NJ area as it generates less revenue than other regions."
   ]
  }
 ],
 "metadata": {
  "ExecuteTimeLog": [
   {
    "duration": 828,
    "start_time": "2021-11-16T09:21:11.304Z"
   },
   {
    "duration": 893,
    "start_time": "2021-11-16T09:21:17.728Z"
   },
   {
    "duration": 1150,
    "start_time": "2021-11-16T09:21:29.568Z"
   },
   {
    "duration": 3,
    "start_time": "2021-11-16T09:24:14.495Z"
   },
   {
    "duration": 120,
    "start_time": "2021-11-16T09:24:46.630Z"
   },
   {
    "duration": 3,
    "start_time": "2021-11-16T09:28:27.882Z"
   },
   {
    "duration": 4,
    "start_time": "2021-11-16T09:29:54.281Z"
   },
   {
    "duration": 3,
    "start_time": "2021-11-16T09:30:45.936Z"
   },
   {
    "duration": 4,
    "start_time": "2021-11-16T09:31:06.300Z"
   },
   {
    "duration": 113,
    "start_time": "2021-11-16T09:31:37.208Z"
   },
   {
    "duration": 143,
    "start_time": "2021-11-16T09:31:48.656Z"
   },
   {
    "duration": 98,
    "start_time": "2021-11-16T09:31:55.678Z"
   },
   {
    "duration": 3,
    "start_time": "2021-11-16T09:32:08.535Z"
   },
   {
    "duration": 111,
    "start_time": "2021-11-16T09:32:10.120Z"
   },
   {
    "duration": 3,
    "start_time": "2021-11-16T09:32:15.732Z"
   },
   {
    "duration": 4,
    "start_time": "2021-11-16T09:32:29.423Z"
   },
   {
    "duration": 3,
    "start_time": "2021-11-16T10:03:03.074Z"
   },
   {
    "duration": 3,
    "start_time": "2021-11-16T10:10:01.288Z"
   },
   {
    "duration": 3,
    "start_time": "2021-11-16T10:10:46.923Z"
   },
   {
    "duration": 121,
    "start_time": "2021-11-16T10:37:46.494Z"
   },
   {
    "duration": 125,
    "start_time": "2021-11-16T10:38:20.632Z"
   },
   {
    "duration": 112,
    "start_time": "2021-11-16T10:46:53.001Z"
   },
   {
    "duration": 110,
    "start_time": "2021-11-16T10:48:25.775Z"
   },
   {
    "duration": 3,
    "start_time": "2021-11-16T10:50:18.720Z"
   },
   {
    "duration": 4,
    "start_time": "2021-11-16T10:50:37.649Z"
   },
   {
    "duration": 2,
    "start_time": "2021-11-16T10:50:51.884Z"
   },
   {
    "duration": 3,
    "start_time": "2021-11-16T10:51:56.237Z"
   },
   {
    "duration": 101,
    "start_time": "2021-11-16T10:53:13.791Z"
   },
   {
    "duration": 3,
    "start_time": "2021-11-16T10:55:59.186Z"
   },
   {
    "duration": 3,
    "start_time": "2021-11-16T10:56:10.751Z"
   },
   {
    "duration": 3,
    "start_time": "2021-11-16T10:56:49.038Z"
   },
   {
    "duration": 3,
    "start_time": "2021-11-16T10:56:49.174Z"
   },
   {
    "duration": 4,
    "start_time": "2021-11-16T10:56:49.414Z"
   },
   {
    "duration": 3,
    "start_time": "2021-11-16T10:56:49.680Z"
   },
   {
    "duration": 3,
    "start_time": "2021-11-16T10:56:50.370Z"
   },
   {
    "duration": 114,
    "start_time": "2021-11-16T10:59:34.518Z"
   },
   {
    "duration": 3,
    "start_time": "2021-11-16T11:01:41.201Z"
   },
   {
    "duration": 116,
    "start_time": "2021-11-16T11:01:48.754Z"
   },
   {
    "duration": 3,
    "start_time": "2021-11-16T11:02:16.685Z"
   },
   {
    "duration": 3,
    "start_time": "2021-11-16T11:02:19.479Z"
   },
   {
    "duration": 3,
    "start_time": "2021-11-16T11:02:47.067Z"
   },
   {
    "duration": 3,
    "start_time": "2021-11-16T11:02:49.353Z"
   },
   {
    "duration": 3,
    "start_time": "2021-11-16T11:03:07.835Z"
   },
   {
    "duration": 3,
    "start_time": "2021-11-16T11:03:07.953Z"
   },
   {
    "duration": 112,
    "start_time": "2021-11-16T11:07:52.072Z"
   },
   {
    "duration": 187,
    "start_time": "2021-11-16T11:09:23.468Z"
   },
   {
    "duration": 4,
    "start_time": "2021-11-16T11:10:01.455Z"
   },
   {
    "duration": 3,
    "start_time": "2021-11-16T11:10:05.069Z"
   },
   {
    "duration": 4,
    "start_time": "2021-11-16T11:10:13.376Z"
   },
   {
    "duration": 3,
    "start_time": "2021-11-16T11:10:14.434Z"
   },
   {
    "duration": 3,
    "start_time": "2021-11-16T11:10:22.853Z"
   },
   {
    "duration": 4,
    "start_time": "2021-11-16T11:27:29.279Z"
   },
   {
    "duration": 4,
    "start_time": "2021-11-16T11:29:08.919Z"
   },
   {
    "duration": 118,
    "start_time": "2021-11-16T11:29:46.703Z"
   },
   {
    "duration": 437,
    "start_time": "2021-11-16T11:36:02.181Z"
   },
   {
    "duration": 157,
    "start_time": "2021-11-16T11:36:14.388Z"
   },
   {
    "duration": 207,
    "start_time": "2021-11-16T11:47:15.898Z"
   },
   {
    "duration": 3,
    "start_time": "2021-11-16T11:53:52.092Z"
   },
   {
    "duration": 3,
    "start_time": "2021-11-16T11:53:52.236Z"
   },
   {
    "duration": 3,
    "start_time": "2021-11-16T11:59:12.005Z"
   },
   {
    "duration": 112,
    "start_time": "2021-11-16T12:00:33.446Z"
   },
   {
    "duration": 3,
    "start_time": "2021-11-16T12:02:14.453Z"
   },
   {
    "duration": 3,
    "start_time": "2021-11-16T12:02:39.512Z"
   },
   {
    "duration": 106,
    "start_time": "2021-11-16T12:03:03.460Z"
   },
   {
    "duration": 3,
    "start_time": "2021-11-17T20:37:21.139Z"
   },
   {
    "duration": 3,
    "start_time": "2021-11-17T20:37:22.229Z"
   },
   {
    "duration": 3,
    "start_time": "2021-11-17T20:38:38.806Z"
   },
   {
    "duration": 3,
    "start_time": "2021-11-17T20:38:41.958Z"
   },
   {
    "duration": 3,
    "start_time": "2021-11-17T20:43:46.551Z"
   },
   {
    "duration": 4,
    "start_time": "2021-11-17T20:58:21.835Z"
   },
   {
    "duration": 3,
    "start_time": "2021-11-17T20:59:21.872Z"
   },
   {
    "duration": 4,
    "start_time": "2021-11-17T20:59:45.352Z"
   },
   {
    "duration": 4,
    "start_time": "2021-11-17T20:59:49.646Z"
   },
   {
    "duration": 159,
    "start_time": "2021-11-17T21:02:26.949Z"
   },
   {
    "duration": 3,
    "start_time": "2021-11-17T21:03:53.461Z"
   },
   {
    "duration": 3,
    "start_time": "2021-11-17T21:03:53.694Z"
   },
   {
    "duration": 3,
    "start_time": "2021-11-17T21:05:28.145Z"
   },
   {
    "duration": 116,
    "start_time": "2021-11-17T21:05:57.787Z"
   },
   {
    "duration": 3,
    "start_time": "2021-11-17T21:06:37.993Z"
   },
   {
    "duration": 3,
    "start_time": "2021-11-17T21:06:38.261Z"
   },
   {
    "duration": 3,
    "start_time": "2021-11-17T21:11:54.358Z"
   },
   {
    "duration": 3,
    "start_time": "2021-11-17T21:12:43.846Z"
   },
   {
    "duration": 4,
    "start_time": "2021-11-17T21:13:08.773Z"
   },
   {
    "duration": 3,
    "start_time": "2021-11-17T21:14:44.441Z"
   },
   {
    "duration": 3,
    "start_time": "2021-11-17T21:15:42.059Z"
   },
   {
    "duration": 4,
    "start_time": "2021-11-17T21:15:51.995Z"
   },
   {
    "duration": 3,
    "start_time": "2021-11-17T21:15:53.923Z"
   },
   {
    "duration": 3,
    "start_time": "2021-11-17T21:15:55.282Z"
   },
   {
    "duration": 3,
    "start_time": "2021-11-17T21:16:28.492Z"
   },
   {
    "duration": 3,
    "start_time": "2021-11-17T21:16:32.603Z"
   },
   {
    "duration": 3,
    "start_time": "2021-11-17T21:17:06.941Z"
   },
   {
    "duration": 98,
    "start_time": "2021-11-17T21:18:05.733Z"
   },
   {
    "duration": 4,
    "start_time": "2021-11-17T21:21:35.255Z"
   },
   {
    "duration": 3,
    "start_time": "2021-11-17T21:21:37.804Z"
   },
   {
    "duration": 4,
    "start_time": "2021-11-17T21:23:06.071Z"
   },
   {
    "duration": 3,
    "start_time": "2021-11-17T21:23:24.799Z"
   },
   {
    "duration": 3,
    "start_time": "2021-11-17T21:23:32.591Z"
   },
   {
    "duration": 98,
    "start_time": "2021-11-17T21:28:31.559Z"
   },
   {
    "duration": 3,
    "start_time": "2021-11-17T21:28:45.448Z"
   },
   {
    "duration": 3,
    "start_time": "2021-11-17T21:29:17.303Z"
   },
   {
    "duration": 3,
    "start_time": "2021-11-17T21:29:29.617Z"
   },
   {
    "duration": 3,
    "start_time": "2021-11-17T21:29:32.681Z"
   },
   {
    "duration": 3,
    "start_time": "2021-11-17T21:36:11.474Z"
   },
   {
    "duration": 3,
    "start_time": "2021-11-17T21:36:14.791Z"
   },
   {
    "duration": 3,
    "start_time": "2021-11-17T21:36:53.943Z"
   },
   {
    "duration": 3,
    "start_time": "2021-11-17T21:36:56.165Z"
   },
   {
    "duration": 4,
    "start_time": "2021-11-17T21:37:16.590Z"
   },
   {
    "duration": 3,
    "start_time": "2021-11-17T21:37:22.702Z"
   },
   {
    "duration": 4,
    "start_time": "2021-11-17T21:38:03.479Z"
   },
   {
    "duration": 3,
    "start_time": "2021-11-17T21:38:08.601Z"
   },
   {
    "duration": 3,
    "start_time": "2021-11-17T21:38:12.928Z"
   },
   {
    "duration": 3,
    "start_time": "2021-11-17T21:38:48.896Z"
   },
   {
    "duration": 2,
    "start_time": "2021-11-17T21:38:49.171Z"
   },
   {
    "duration": 4,
    "start_time": "2021-11-17T21:39:57.889Z"
   },
   {
    "duration": 3,
    "start_time": "2021-11-17T21:39:58.057Z"
   },
   {
    "duration": 3,
    "start_time": "2021-11-17T21:41:20.108Z"
   },
   {
    "duration": 3,
    "start_time": "2021-11-17T21:41:20.629Z"
   },
   {
    "duration": 3,
    "start_time": "2021-11-17T21:42:49.136Z"
   },
   {
    "duration": 3,
    "start_time": "2021-11-17T21:43:15.137Z"
   },
   {
    "duration": 4,
    "start_time": "2021-11-17T21:43:16.766Z"
   },
   {
    "duration": 4,
    "start_time": "2021-11-17T21:43:31.711Z"
   },
   {
    "duration": 3,
    "start_time": "2021-11-17T21:43:36.312Z"
   },
   {
    "duration": 4,
    "start_time": "2021-11-17T21:45:08.825Z"
   },
   {
    "duration": 4,
    "start_time": "2021-11-17T21:45:10.119Z"
   },
   {
    "duration": 4,
    "start_time": "2021-11-17T21:45:13.748Z"
   },
   {
    "duration": 3,
    "start_time": "2021-11-17T21:45:22.219Z"
   },
   {
    "duration": 3,
    "start_time": "2021-11-17T21:45:33.412Z"
   },
   {
    "duration": 2,
    "start_time": "2021-11-17T21:46:01.885Z"
   },
   {
    "duration": 3,
    "start_time": "2021-11-17T21:46:03.628Z"
   },
   {
    "duration": 107,
    "start_time": "2021-11-17T21:47:32.512Z"
   },
   {
    "duration": 103,
    "start_time": "2021-11-17T21:50:36.243Z"
   },
   {
    "duration": 3,
    "start_time": "2021-11-18T06:28:31.440Z"
   },
   {
    "duration": 3,
    "start_time": "2021-11-18T06:29:00.168Z"
   },
   {
    "duration": 3,
    "start_time": "2021-11-18T06:31:27.008Z"
   },
   {
    "duration": 2,
    "start_time": "2021-11-18T06:35:34.288Z"
   },
   {
    "duration": 2,
    "start_time": "2021-11-18T06:38:04.527Z"
   },
   {
    "duration": 720,
    "start_time": "2022-03-04T03:43:24.579Z"
   },
   {
    "duration": 321,
    "start_time": "2022-03-04T03:49:19.528Z"
   },
   {
    "duration": 7,
    "start_time": "2022-03-04T03:54:06.901Z"
   },
   {
    "duration": 7,
    "start_time": "2022-03-04T03:54:32.930Z"
   },
   {
    "duration": 17,
    "start_time": "2022-03-04T03:54:49.068Z"
   },
   {
    "duration": 12,
    "start_time": "2022-03-04T03:55:05.243Z"
   },
   {
    "duration": 15,
    "start_time": "2022-03-04T03:55:15.933Z"
   },
   {
    "duration": 7,
    "start_time": "2022-03-04T03:55:50.416Z"
   },
   {
    "duration": 12,
    "start_time": "2022-03-04T03:56:10.177Z"
   },
   {
    "duration": 13,
    "start_time": "2022-03-04T03:57:33.243Z"
   },
   {
    "duration": 20,
    "start_time": "2022-03-04T04:00:20.520Z"
   },
   {
    "duration": 37,
    "start_time": "2022-03-04T04:00:37.729Z"
   },
   {
    "duration": 12,
    "start_time": "2022-03-04T04:01:41.317Z"
   },
   {
    "duration": 10,
    "start_time": "2022-03-04T04:02:02.273Z"
   },
   {
    "duration": 9,
    "start_time": "2022-03-04T04:02:34.640Z"
   },
   {
    "duration": 10,
    "start_time": "2022-03-04T04:03:09.814Z"
   },
   {
    "duration": 1425,
    "start_time": "2022-03-05T18:47:50.462Z"
   },
   {
    "duration": 385,
    "start_time": "2022-03-05T18:47:54.840Z"
   },
   {
    "duration": 276,
    "start_time": "2022-03-07T03:37:48.011Z"
   },
   {
    "duration": 1432,
    "start_time": "2022-03-07T03:38:03.423Z"
   },
   {
    "duration": 358,
    "start_time": "2022-03-07T03:38:04.857Z"
   },
   {
    "duration": 10,
    "start_time": "2022-03-07T03:38:05.218Z"
   },
   {
    "duration": 19,
    "start_time": "2022-03-07T03:38:05.232Z"
   },
   {
    "duration": 65,
    "start_time": "2022-03-07T03:38:05.254Z"
   },
   {
    "duration": 19,
    "start_time": "2022-03-07T03:38:05.322Z"
   },
   {
    "duration": 81,
    "start_time": "2022-03-07T03:38:05.345Z"
   },
   {
    "duration": 15,
    "start_time": "2022-03-07T03:38:05.432Z"
   },
   {
    "duration": 44,
    "start_time": "2022-03-07T03:38:05.451Z"
   },
   {
    "duration": 13,
    "start_time": "2022-03-07T03:38:05.498Z"
   },
   {
    "duration": 23,
    "start_time": "2022-03-07T03:38:05.514Z"
   },
   {
    "duration": 14,
    "start_time": "2022-03-07T03:38:05.540Z"
   },
   {
    "duration": 4,
    "start_time": "2022-03-07T03:38:05.587Z"
   },
   {
    "duration": 9,
    "start_time": "2022-03-07T03:38:05.594Z"
   },
   {
    "duration": 5,
    "start_time": "2022-03-07T03:38:05.605Z"
   },
   {
    "duration": 8,
    "start_time": "2022-03-07T03:38:05.613Z"
   },
   {
    "duration": 5,
    "start_time": "2022-03-07T03:38:05.624Z"
   },
   {
    "duration": 5,
    "start_time": "2022-03-07T03:38:05.632Z"
   },
   {
    "duration": 47,
    "start_time": "2022-03-07T03:38:05.640Z"
   },
   {
    "duration": 3,
    "start_time": "2022-03-07T03:38:05.690Z"
   },
   {
    "duration": 6,
    "start_time": "2022-03-07T03:38:05.696Z"
   },
   {
    "duration": 7,
    "start_time": "2022-03-07T03:38:05.704Z"
   },
   {
    "duration": 4,
    "start_time": "2022-03-07T03:38:05.716Z"
   },
   {
    "duration": 11,
    "start_time": "2022-03-07T03:38:05.723Z"
   },
   {
    "duration": 14,
    "start_time": "2022-03-07T03:38:05.737Z"
   },
   {
    "duration": 34,
    "start_time": "2022-03-07T03:38:05.753Z"
   },
   {
    "duration": 4,
    "start_time": "2022-03-07T03:38:05.790Z"
   },
   {
    "duration": 6,
    "start_time": "2022-03-07T03:38:05.797Z"
   },
   {
    "duration": 26,
    "start_time": "2022-03-07T03:38:30.244Z"
   },
   {
    "duration": 340,
    "start_time": "2022-03-07T03:47:03.179Z"
   },
   {
    "duration": 15,
    "start_time": "2022-03-07T03:47:12.435Z"
   },
   {
    "duration": 593,
    "start_time": "2022-03-07T03:47:35.367Z"
   },
   {
    "duration": 14,
    "start_time": "2022-03-07T03:47:43.480Z"
   },
   {
    "duration": 13,
    "start_time": "2022-03-07T03:54:26.752Z"
   },
   {
    "duration": 17,
    "start_time": "2022-03-07T03:55:13.875Z"
   },
   {
    "duration": 1585,
    "start_time": "2022-03-09T21:13:33.980Z"
   },
   {
    "duration": 368,
    "start_time": "2022-03-09T21:13:35.568Z"
   },
   {
    "duration": 297,
    "start_time": "2022-03-09T21:13:35.939Z"
   },
   {
    "duration": 322,
    "start_time": "2022-03-09T21:13:36.239Z"
   },
   {
    "duration": 205,
    "start_time": "2022-03-09T21:13:36.564Z"
   },
   {
    "duration": 258,
    "start_time": "2022-03-09T21:13:36.772Z"
   },
   {
    "duration": 284,
    "start_time": "2022-03-09T21:13:37.032Z"
   },
   {
    "duration": 178,
    "start_time": "2022-03-09T21:13:37.320Z"
   },
   {
    "duration": 242,
    "start_time": "2022-03-09T21:13:37.502Z"
   },
   {
    "duration": 197,
    "start_time": "2022-03-09T21:13:37.747Z"
   },
   {
    "duration": 224,
    "start_time": "2022-03-09T21:13:37.947Z"
   },
   {
    "duration": 241,
    "start_time": "2022-03-09T21:13:38.174Z"
   },
   {
    "duration": 226,
    "start_time": "2022-03-09T21:13:38.418Z"
   },
   {
    "duration": 224,
    "start_time": "2022-03-09T21:13:38.647Z"
   },
   {
    "duration": 282,
    "start_time": "2022-03-09T21:13:38.874Z"
   },
   {
    "duration": 227,
    "start_time": "2022-03-09T21:13:39.158Z"
   },
   {
    "duration": 211,
    "start_time": "2022-03-09T21:13:39.387Z"
   },
   {
    "duration": 368,
    "start_time": "2022-03-09T21:13:39.600Z"
   },
   {
    "duration": 246,
    "start_time": "2022-03-09T21:13:39.970Z"
   },
   {
    "duration": 325,
    "start_time": "2022-03-09T21:13:40.219Z"
   },
   {
    "duration": 295,
    "start_time": "2022-03-09T21:13:40.547Z"
   },
   {
    "duration": 281,
    "start_time": "2022-03-09T21:13:40.845Z"
   },
   {
    "duration": 644,
    "start_time": "2022-03-09T21:13:41.130Z"
   },
   {
    "duration": 324,
    "start_time": "2022-03-09T21:13:41.777Z"
   },
   {
    "duration": 271,
    "start_time": "2022-03-09T21:13:42.103Z"
   },
   {
    "duration": 330,
    "start_time": "2022-03-09T21:13:42.377Z"
   },
   {
    "duration": 296,
    "start_time": "2022-03-09T21:13:42.710Z"
   },
   {
    "duration": 208,
    "start_time": "2022-03-09T21:13:43.009Z"
   },
   {
    "duration": 265,
    "start_time": "2022-03-09T21:13:43.219Z"
   },
   {
    "duration": 261,
    "start_time": "2022-03-09T21:13:43.487Z"
   },
   {
    "duration": 5,
    "start_time": "2022-03-09T21:41:26.162Z"
   },
   {
    "duration": 5,
    "start_time": "2022-03-09T21:42:41.203Z"
   },
   {
    "duration": 12,
    "start_time": "2022-03-09T21:43:41.096Z"
   },
   {
    "duration": 18,
    "start_time": "2022-03-09T21:44:01.500Z"
   },
   {
    "duration": 10,
    "start_time": "2022-03-09T21:47:47.861Z"
   },
   {
    "duration": 10,
    "start_time": "2022-03-09T21:47:53.915Z"
   },
   {
    "duration": 9,
    "start_time": "2022-03-09T22:07:22.389Z"
   },
   {
    "duration": 10,
    "start_time": "2022-03-09T22:10:03.602Z"
   },
   {
    "duration": 11,
    "start_time": "2022-03-09T22:10:37.045Z"
   },
   {
    "duration": 10,
    "start_time": "2022-03-09T22:11:59.081Z"
   },
   {
    "duration": 1747,
    "start_time": "2022-03-09T22:12:56.826Z"
   },
   {
    "duration": 377,
    "start_time": "2022-03-09T22:12:58.576Z"
   },
   {
    "duration": 9,
    "start_time": "2022-03-09T22:12:58.957Z"
   },
   {
    "duration": 291,
    "start_time": "2022-03-09T22:12:58.969Z"
   },
   {
    "duration": 268,
    "start_time": "2022-03-09T22:12:59.263Z"
   },
   {
    "duration": 284,
    "start_time": "2022-03-09T22:12:59.534Z"
   },
   {
    "duration": 302,
    "start_time": "2022-03-09T22:12:59.820Z"
   },
   {
    "duration": 279,
    "start_time": "2022-03-09T22:13:00.128Z"
   },
   {
    "duration": 382,
    "start_time": "2022-03-09T22:13:00.411Z"
   },
   {
    "duration": 277,
    "start_time": "2022-03-09T22:13:00.795Z"
   },
   {
    "duration": 261,
    "start_time": "2022-03-09T22:13:01.075Z"
   },
   {
    "duration": 287,
    "start_time": "2022-03-09T22:13:01.338Z"
   },
   {
    "duration": 339,
    "start_time": "2022-03-09T22:13:01.628Z"
   },
   {
    "duration": 196,
    "start_time": "2022-03-09T22:13:01.970Z"
   },
   {
    "duration": 286,
    "start_time": "2022-03-09T22:13:02.168Z"
   },
   {
    "duration": 254,
    "start_time": "2022-03-09T22:13:02.457Z"
   },
   {
    "duration": 294,
    "start_time": "2022-03-09T22:13:02.713Z"
   },
   {
    "duration": 345,
    "start_time": "2022-03-09T22:13:03.009Z"
   },
   {
    "duration": 278,
    "start_time": "2022-03-09T22:13:03.357Z"
   },
   {
    "duration": 239,
    "start_time": "2022-03-09T22:13:03.638Z"
   },
   {
    "duration": 228,
    "start_time": "2022-03-09T22:13:03.879Z"
   },
   {
    "duration": 316,
    "start_time": "2022-03-09T22:13:04.110Z"
   },
   {
    "duration": 269,
    "start_time": "2022-03-09T22:13:04.431Z"
   },
   {
    "duration": 307,
    "start_time": "2022-03-09T22:13:04.703Z"
   },
   {
    "duration": 278,
    "start_time": "2022-03-09T22:13:05.013Z"
   },
   {
    "duration": 346,
    "start_time": "2022-03-09T22:13:05.293Z"
   },
   {
    "duration": 397,
    "start_time": "2022-03-09T22:13:05.641Z"
   },
   {
    "duration": 264,
    "start_time": "2022-03-09T22:13:06.041Z"
   },
   {
    "duration": 272,
    "start_time": "2022-03-09T22:13:06.307Z"
   },
   {
    "duration": 246,
    "start_time": "2022-03-09T22:13:06.581Z"
   },
   {
    "duration": 283,
    "start_time": "2022-03-09T22:13:06.830Z"
   },
   {
    "duration": 253,
    "start_time": "2022-03-09T22:13:07.115Z"
   },
   {
    "duration": 258,
    "start_time": "2022-03-09T22:13:07.371Z"
   },
   {
    "duration": 234,
    "start_time": "2022-03-09T22:13:07.632Z"
   },
   {
    "duration": 249,
    "start_time": "2022-03-09T22:13:07.869Z"
   },
   {
    "duration": 273,
    "start_time": "2022-03-09T22:13:08.120Z"
   },
   {
    "duration": 1073,
    "start_time": "2022-03-10T23:22:07.034Z"
   },
   {
    "duration": 278,
    "start_time": "2022-03-10T23:22:08.109Z"
   },
   {
    "duration": 6,
    "start_time": "2022-03-10T23:22:08.388Z"
   },
   {
    "duration": 11,
    "start_time": "2022-03-10T23:22:08.396Z"
   },
   {
    "duration": 3,
    "start_time": "2022-03-10T23:22:08.408Z"
   },
   {
    "duration": 10,
    "start_time": "2022-03-10T23:22:08.413Z"
   },
   {
    "duration": 15,
    "start_time": "2022-03-10T23:22:08.424Z"
   },
   {
    "duration": 15,
    "start_time": "2022-03-10T23:22:08.442Z"
   },
   {
    "duration": 10,
    "start_time": "2022-03-10T23:22:08.459Z"
   },
   {
    "duration": 8,
    "start_time": "2022-03-10T23:22:08.470Z"
   },
   {
    "duration": 27,
    "start_time": "2022-03-10T23:22:08.479Z"
   },
   {
    "duration": 6,
    "start_time": "2022-03-10T23:22:08.507Z"
   },
   {
    "duration": 33,
    "start_time": "2022-03-10T23:22:08.514Z"
   },
   {
    "duration": 7,
    "start_time": "2022-03-10T23:22:08.548Z"
   },
   {
    "duration": 16,
    "start_time": "2022-03-10T23:22:08.557Z"
   },
   {
    "duration": 9,
    "start_time": "2022-03-10T23:22:08.574Z"
   },
   {
    "duration": 6,
    "start_time": "2022-03-10T23:22:08.605Z"
   },
   {
    "duration": 12,
    "start_time": "2022-03-10T23:22:08.613Z"
   },
   {
    "duration": 7,
    "start_time": "2022-03-10T23:22:08.627Z"
   },
   {
    "duration": 13,
    "start_time": "2022-03-10T23:22:08.635Z"
   },
   {
    "duration": 2,
    "start_time": "2022-03-10T23:22:08.649Z"
   },
   {
    "duration": 5,
    "start_time": "2022-03-10T23:22:08.653Z"
   },
   {
    "duration": 4,
    "start_time": "2022-03-10T23:22:08.661Z"
   },
   {
    "duration": 5,
    "start_time": "2022-03-10T23:22:08.666Z"
   },
   {
    "duration": 10,
    "start_time": "2022-03-10T23:22:08.672Z"
   },
   {
    "duration": 9,
    "start_time": "2022-03-10T23:22:08.683Z"
   },
   {
    "duration": 7,
    "start_time": "2022-03-10T23:22:08.705Z"
   },
   {
    "duration": 4,
    "start_time": "2022-03-10T23:22:08.714Z"
   },
   {
    "duration": 7,
    "start_time": "2022-03-10T23:22:08.719Z"
   },
   {
    "duration": 7,
    "start_time": "2022-03-10T23:22:08.727Z"
   },
   {
    "duration": 4,
    "start_time": "2022-03-10T23:22:08.735Z"
   },
   {
    "duration": 6,
    "start_time": "2022-03-10T23:22:08.740Z"
   },
   {
    "duration": 5,
    "start_time": "2022-03-10T23:22:08.747Z"
   },
   {
    "duration": 5,
    "start_time": "2022-03-10T23:22:08.753Z"
   },
   {
    "duration": 6,
    "start_time": "2022-03-10T23:22:08.759Z"
   },
   {
    "duration": 6,
    "start_time": "2022-03-10T23:22:08.766Z"
   },
   {
    "duration": 105,
    "start_time": "2022-03-10T23:30:12.385Z"
   },
   {
    "duration": 374,
    "start_time": "2022-03-10T23:30:18.566Z"
   },
   {
    "duration": 13,
    "start_time": "2022-03-10T23:30:27.685Z"
   },
   {
    "duration": 13,
    "start_time": "2022-03-10T23:30:41.000Z"
   },
   {
    "duration": 1097,
    "start_time": "2022-03-11T14:52:19.232Z"
   },
   {
    "duration": 972,
    "start_time": "2022-03-11T14:52:20.330Z"
   },
   {
    "duration": 6,
    "start_time": "2022-03-11T14:52:21.303Z"
   },
   {
    "duration": 13,
    "start_time": "2022-03-11T14:52:21.311Z"
   },
   {
    "duration": 5,
    "start_time": "2022-03-11T14:52:21.326Z"
   },
   {
    "duration": 5,
    "start_time": "2022-03-11T14:52:21.332Z"
   },
   {
    "duration": 16,
    "start_time": "2022-03-11T14:52:21.338Z"
   },
   {
    "duration": 16,
    "start_time": "2022-03-11T14:52:21.356Z"
   },
   {
    "duration": 27,
    "start_time": "2022-03-11T14:52:21.374Z"
   },
   {
    "duration": 7,
    "start_time": "2022-03-11T14:52:21.403Z"
   },
   {
    "duration": 15,
    "start_time": "2022-03-11T14:52:21.412Z"
   },
   {
    "duration": 22,
    "start_time": "2022-03-11T14:52:21.428Z"
   },
   {
    "duration": 38,
    "start_time": "2022-03-11T14:52:21.452Z"
   },
   {
    "duration": 8,
    "start_time": "2022-03-11T14:52:21.491Z"
   },
   {
    "duration": 29,
    "start_time": "2022-03-11T14:52:21.500Z"
   },
   {
    "duration": 9,
    "start_time": "2022-03-11T14:52:21.530Z"
   },
   {
    "duration": 22,
    "start_time": "2022-03-11T14:52:21.541Z"
   },
   {
    "duration": 22,
    "start_time": "2022-03-11T14:52:21.565Z"
   },
   {
    "duration": 13,
    "start_time": "2022-03-11T14:52:21.588Z"
   },
   {
    "duration": 13,
    "start_time": "2022-03-11T14:52:21.602Z"
   },
   {
    "duration": 12,
    "start_time": "2022-03-11T14:52:21.616Z"
   },
   {
    "duration": 15,
    "start_time": "2022-03-11T14:52:21.630Z"
   },
   {
    "duration": 19,
    "start_time": "2022-03-11T14:52:21.647Z"
   },
   {
    "duration": 16,
    "start_time": "2022-03-11T14:52:21.668Z"
   },
   {
    "duration": 9,
    "start_time": "2022-03-11T14:52:21.686Z"
   },
   {
    "duration": 20,
    "start_time": "2022-03-11T14:52:21.697Z"
   },
   {
    "duration": 20,
    "start_time": "2022-03-11T14:52:21.719Z"
   },
   {
    "duration": 21,
    "start_time": "2022-03-11T14:52:21.740Z"
   },
   {
    "duration": 20,
    "start_time": "2022-03-11T14:52:21.762Z"
   },
   {
    "duration": 18,
    "start_time": "2022-03-11T14:52:21.784Z"
   },
   {
    "duration": 16,
    "start_time": "2022-03-11T14:52:21.803Z"
   },
   {
    "duration": 18,
    "start_time": "2022-03-11T14:52:21.821Z"
   },
   {
    "duration": 16,
    "start_time": "2022-03-11T14:52:21.841Z"
   },
   {
    "duration": 16,
    "start_time": "2022-03-11T14:52:21.858Z"
   },
   {
    "duration": 25,
    "start_time": "2022-03-11T14:52:21.875Z"
   },
   {
    "duration": 17,
    "start_time": "2022-03-11T14:52:21.901Z"
   },
   {
    "duration": 22,
    "start_time": "2022-03-11T14:55:02.479Z"
   },
   {
    "duration": 18,
    "start_time": "2022-03-11T14:58:02.319Z"
   },
   {
    "duration": 6,
    "start_time": "2022-03-11T14:58:29.387Z"
   },
   {
    "duration": 7,
    "start_time": "2022-03-11T14:58:33.948Z"
   },
   {
    "duration": 13,
    "start_time": "2022-03-11T14:59:05.788Z"
   },
   {
    "duration": 6,
    "start_time": "2022-03-11T15:02:10.423Z"
   },
   {
    "duration": 8,
    "start_time": "2022-03-11T15:02:27.976Z"
   },
   {
    "duration": 14,
    "start_time": "2022-03-11T15:07:16.944Z"
   },
   {
    "duration": 15,
    "start_time": "2022-03-11T15:20:00.210Z"
   },
   {
    "duration": 11,
    "start_time": "2022-03-11T15:21:07.611Z"
   },
   {
    "duration": 11,
    "start_time": "2022-03-11T15:27:36.358Z"
   },
   {
    "duration": 268,
    "start_time": "2022-03-11T20:51:34.814Z"
   },
   {
    "duration": 1160,
    "start_time": "2022-03-11T20:51:57.548Z"
   },
   {
    "duration": 269,
    "start_time": "2022-03-11T20:51:58.710Z"
   },
   {
    "duration": 6,
    "start_time": "2022-03-11T20:51:58.981Z"
   },
   {
    "duration": 16,
    "start_time": "2022-03-11T20:51:58.989Z"
   },
   {
    "duration": 5,
    "start_time": "2022-03-11T20:51:59.007Z"
   },
   {
    "duration": 5,
    "start_time": "2022-03-11T20:51:59.014Z"
   },
   {
    "duration": 12,
    "start_time": "2022-03-11T20:51:59.020Z"
   },
   {
    "duration": 34,
    "start_time": "2022-03-11T20:51:59.035Z"
   },
   {
    "duration": 11,
    "start_time": "2022-03-11T20:51:59.071Z"
   },
   {
    "duration": 7,
    "start_time": "2022-03-11T20:51:59.083Z"
   },
   {
    "duration": 8,
    "start_time": "2022-03-11T20:51:59.091Z"
   },
   {
    "duration": 9,
    "start_time": "2022-03-11T20:51:59.100Z"
   },
   {
    "duration": 62,
    "start_time": "2022-03-11T20:51:59.110Z"
   },
   {
    "duration": 9,
    "start_time": "2022-03-11T20:51:59.173Z"
   },
   {
    "duration": 17,
    "start_time": "2022-03-11T20:51:59.183Z"
   },
   {
    "duration": 25,
    "start_time": "2022-03-11T20:51:59.202Z"
   },
   {
    "duration": 41,
    "start_time": "2022-03-11T20:51:59.229Z"
   },
   {
    "duration": 6,
    "start_time": "2022-03-11T20:51:59.271Z"
   },
   {
    "duration": 14,
    "start_time": "2022-03-11T20:51:59.278Z"
   },
   {
    "duration": 10,
    "start_time": "2022-03-11T20:51:59.294Z"
   },
   {
    "duration": 8,
    "start_time": "2022-03-11T20:51:59.305Z"
   },
   {
    "duration": 15,
    "start_time": "2022-03-11T20:51:59.314Z"
   },
   {
    "duration": 40,
    "start_time": "2022-03-11T20:51:59.332Z"
   },
   {
    "duration": 13,
    "start_time": "2022-03-11T20:51:59.374Z"
   },
   {
    "duration": 8,
    "start_time": "2022-03-11T20:51:59.388Z"
   },
   {
    "duration": 12,
    "start_time": "2022-03-11T20:51:59.397Z"
   },
   {
    "duration": 17,
    "start_time": "2022-03-11T20:51:59.410Z"
   },
   {
    "duration": 34,
    "start_time": "2022-03-11T20:51:59.429Z"
   },
   {
    "duration": 5,
    "start_time": "2022-03-11T20:51:59.465Z"
   },
   {
    "duration": 5,
    "start_time": "2022-03-11T20:51:59.472Z"
   },
   {
    "duration": 6,
    "start_time": "2022-03-11T20:51:59.478Z"
   },
   {
    "duration": 5,
    "start_time": "2022-03-11T20:51:59.485Z"
   },
   {
    "duration": 5,
    "start_time": "2022-03-11T20:51:59.492Z"
   },
   {
    "duration": 5,
    "start_time": "2022-03-11T20:51:59.498Z"
   },
   {
    "duration": 9,
    "start_time": "2022-03-11T20:51:59.504Z"
   },
   {
    "duration": 5,
    "start_time": "2022-03-11T20:51:59.514Z"
   },
   {
    "duration": 5,
    "start_time": "2022-03-11T20:51:59.520Z"
   },
   {
    "duration": 7,
    "start_time": "2022-03-11T20:51:59.526Z"
   },
   {
    "duration": 6,
    "start_time": "2022-03-11T20:51:59.534Z"
   },
   {
    "duration": 5,
    "start_time": "2022-03-11T20:51:59.541Z"
   },
   {
    "duration": 15,
    "start_time": "2022-03-11T20:51:59.548Z"
   },
   {
    "duration": 5,
    "start_time": "2022-03-11T20:51:59.565Z"
   },
   {
    "duration": 4,
    "start_time": "2022-03-11T20:51:59.572Z"
   },
   {
    "duration": 13,
    "start_time": "2022-03-11T20:53:55.943Z"
   },
   {
    "duration": 15,
    "start_time": "2022-03-11T20:55:47.431Z"
   },
   {
    "duration": 6,
    "start_time": "2022-03-11T20:57:28.549Z"
   },
   {
    "duration": 7,
    "start_time": "2022-03-11T20:57:57.208Z"
   },
   {
    "duration": 7,
    "start_time": "2022-03-11T20:58:08.433Z"
   },
   {
    "duration": 8,
    "start_time": "2022-03-11T20:59:02.533Z"
   },
   {
    "duration": 315,
    "start_time": "2022-03-11T21:33:32.792Z"
   },
   {
    "duration": 382,
    "start_time": "2022-03-11T21:33:49.210Z"
   },
   {
    "duration": 149,
    "start_time": "2022-03-11T21:33:53.396Z"
   },
   {
    "duration": 24,
    "start_time": "2022-03-11T21:34:06.619Z"
   },
   {
    "duration": 148,
    "start_time": "2022-03-11T21:41:30.231Z"
   },
   {
    "duration": 25,
    "start_time": "2022-03-11T21:41:45.234Z"
   },
   {
    "duration": 22,
    "start_time": "2022-03-11T21:42:22.884Z"
   },
   {
    "duration": 245,
    "start_time": "2022-03-11T21:44:16.468Z"
   },
   {
    "duration": 19,
    "start_time": "2022-03-11T21:44:22.897Z"
   },
   {
    "duration": 23,
    "start_time": "2022-03-11T21:44:48.953Z"
   },
   {
    "duration": 30,
    "start_time": "2022-03-11T21:45:43.966Z"
   },
   {
    "duration": 22,
    "start_time": "2022-03-11T21:48:10.791Z"
   },
   {
    "duration": 1105,
    "start_time": "2022-03-11T21:57:03.519Z"
   },
   {
    "duration": 251,
    "start_time": "2022-03-11T21:57:04.626Z"
   },
   {
    "duration": 7,
    "start_time": "2022-03-11T21:57:04.879Z"
   },
   {
    "duration": 14,
    "start_time": "2022-03-11T21:57:04.888Z"
   },
   {
    "duration": 3,
    "start_time": "2022-03-11T21:57:04.904Z"
   },
   {
    "duration": 4,
    "start_time": "2022-03-11T21:57:04.908Z"
   },
   {
    "duration": 5,
    "start_time": "2022-03-11T21:57:04.914Z"
   },
   {
    "duration": 19,
    "start_time": "2022-03-11T21:57:04.921Z"
   },
   {
    "duration": 22,
    "start_time": "2022-03-11T21:57:04.942Z"
   },
   {
    "duration": 6,
    "start_time": "2022-03-11T21:57:04.965Z"
   },
   {
    "duration": 6,
    "start_time": "2022-03-11T21:57:04.973Z"
   },
   {
    "duration": 6,
    "start_time": "2022-03-11T21:57:04.981Z"
   },
   {
    "duration": 40,
    "start_time": "2022-03-11T21:57:04.988Z"
   },
   {
    "duration": 41,
    "start_time": "2022-03-11T21:57:05.030Z"
   },
   {
    "duration": 16,
    "start_time": "2022-03-11T21:57:05.073Z"
   },
   {
    "duration": 26,
    "start_time": "2022-03-11T21:57:05.092Z"
   },
   {
    "duration": 47,
    "start_time": "2022-03-11T21:57:05.120Z"
   },
   {
    "duration": 7,
    "start_time": "2022-03-11T21:57:05.169Z"
   },
   {
    "duration": 16,
    "start_time": "2022-03-11T21:57:05.178Z"
   },
   {
    "duration": 11,
    "start_time": "2022-03-11T21:57:05.196Z"
   },
   {
    "duration": 9,
    "start_time": "2022-03-11T21:57:05.208Z"
   },
   {
    "duration": 46,
    "start_time": "2022-03-11T21:57:05.218Z"
   },
   {
    "duration": 12,
    "start_time": "2022-03-11T21:57:05.268Z"
   },
   {
    "duration": 13,
    "start_time": "2022-03-11T21:57:05.282Z"
   },
   {
    "duration": 9,
    "start_time": "2022-03-11T21:57:05.297Z"
   },
   {
    "duration": 14,
    "start_time": "2022-03-11T21:57:05.307Z"
   },
   {
    "duration": 46,
    "start_time": "2022-03-11T21:57:05.323Z"
   },
   {
    "duration": 13,
    "start_time": "2022-03-11T21:57:05.371Z"
   },
   {
    "duration": 14,
    "start_time": "2022-03-11T21:57:05.386Z"
   },
   {
    "duration": 2,
    "start_time": "2022-03-11T21:57:05.401Z"
   },
   {
    "duration": 12,
    "start_time": "2022-03-11T21:57:05.404Z"
   },
   {
    "duration": 59,
    "start_time": "2022-03-11T21:57:05.417Z"
   },
   {
    "duration": 20,
    "start_time": "2022-03-11T21:57:05.477Z"
   },
   {
    "duration": 22,
    "start_time": "2022-03-11T21:57:05.499Z"
   },
   {
    "duration": 307,
    "start_time": "2022-03-11T21:57:05.523Z"
   },
   {
    "duration": -313,
    "start_time": "2022-03-11T21:57:06.145Z"
   },
   {
    "duration": -316,
    "start_time": "2022-03-11T21:57:06.149Z"
   },
   {
    "duration": -317,
    "start_time": "2022-03-11T21:57:06.151Z"
   },
   {
    "duration": -319,
    "start_time": "2022-03-11T21:57:06.154Z"
   },
   {
    "duration": -321,
    "start_time": "2022-03-11T21:57:06.157Z"
   },
   {
    "duration": -337,
    "start_time": "2022-03-11T21:57:06.174Z"
   },
   {
    "duration": -339,
    "start_time": "2022-03-11T21:57:06.177Z"
   },
   {
    "duration": -343,
    "start_time": "2022-03-11T21:57:06.182Z"
   },
   {
    "duration": -345,
    "start_time": "2022-03-11T21:57:06.185Z"
   },
   {
    "duration": -347,
    "start_time": "2022-03-11T21:57:06.188Z"
   },
   {
    "duration": -351,
    "start_time": "2022-03-11T21:57:06.193Z"
   },
   {
    "duration": 21,
    "start_time": "2022-03-11T21:57:27.794Z"
   },
   {
    "duration": 1161,
    "start_time": "2022-03-12T00:53:15.355Z"
   },
   {
    "duration": 258,
    "start_time": "2022-03-12T00:53:16.518Z"
   },
   {
    "duration": 6,
    "start_time": "2022-03-12T00:53:16.778Z"
   },
   {
    "duration": 15,
    "start_time": "2022-03-12T00:53:16.786Z"
   },
   {
    "duration": 4,
    "start_time": "2022-03-12T00:53:16.803Z"
   },
   {
    "duration": 5,
    "start_time": "2022-03-12T00:53:16.808Z"
   },
   {
    "duration": 5,
    "start_time": "2022-03-12T00:53:16.815Z"
   },
   {
    "duration": 19,
    "start_time": "2022-03-12T00:53:16.822Z"
   },
   {
    "duration": 11,
    "start_time": "2022-03-12T00:53:16.843Z"
   },
   {
    "duration": 6,
    "start_time": "2022-03-12T00:53:16.862Z"
   },
   {
    "duration": 7,
    "start_time": "2022-03-12T00:53:16.869Z"
   },
   {
    "duration": 10,
    "start_time": "2022-03-12T00:53:16.877Z"
   },
   {
    "duration": 41,
    "start_time": "2022-03-12T00:53:16.888Z"
   },
   {
    "duration": 8,
    "start_time": "2022-03-12T00:53:16.931Z"
   },
   {
    "duration": 36,
    "start_time": "2022-03-12T00:53:16.940Z"
   },
   {
    "duration": 23,
    "start_time": "2022-03-12T00:53:16.977Z"
   },
   {
    "duration": 15,
    "start_time": "2022-03-12T00:53:17.002Z"
   },
   {
    "duration": 7,
    "start_time": "2022-03-12T00:53:17.018Z"
   },
   {
    "duration": 37,
    "start_time": "2022-03-12T00:53:17.027Z"
   },
   {
    "duration": 10,
    "start_time": "2022-03-12T00:53:17.065Z"
   },
   {
    "duration": 10,
    "start_time": "2022-03-12T00:53:17.077Z"
   },
   {
    "duration": 13,
    "start_time": "2022-03-12T00:53:17.089Z"
   },
   {
    "duration": 11,
    "start_time": "2022-03-12T00:53:17.105Z"
   },
   {
    "duration": 12,
    "start_time": "2022-03-12T00:53:17.118Z"
   },
   {
    "duration": 33,
    "start_time": "2022-03-12T00:53:17.131Z"
   },
   {
    "duration": 14,
    "start_time": "2022-03-12T00:53:17.166Z"
   },
   {
    "duration": 17,
    "start_time": "2022-03-12T00:53:17.181Z"
   },
   {
    "duration": 11,
    "start_time": "2022-03-12T00:53:17.199Z"
   },
   {
    "duration": 13,
    "start_time": "2022-03-12T00:53:17.212Z"
   },
   {
    "duration": 2,
    "start_time": "2022-03-12T00:53:17.226Z"
   },
   {
    "duration": 39,
    "start_time": "2022-03-12T00:53:17.229Z"
   },
   {
    "duration": 33,
    "start_time": "2022-03-12T00:53:17.269Z"
   },
   {
    "duration": 18,
    "start_time": "2022-03-12T00:53:17.304Z"
   },
   {
    "duration": 41,
    "start_time": "2022-03-12T00:53:17.323Z"
   },
   {
    "duration": 19,
    "start_time": "2022-03-12T00:53:17.366Z"
   },
   {
    "duration": 2,
    "start_time": "2022-03-12T00:53:17.387Z"
   },
   {
    "duration": 4,
    "start_time": "2022-03-12T00:53:17.391Z"
   },
   {
    "duration": 4,
    "start_time": "2022-03-12T00:53:17.397Z"
   },
   {
    "duration": 4,
    "start_time": "2022-03-12T00:53:17.402Z"
   },
   {
    "duration": 5,
    "start_time": "2022-03-12T00:53:17.408Z"
   },
   {
    "duration": 4,
    "start_time": "2022-03-12T00:53:17.415Z"
   },
   {
    "duration": 4,
    "start_time": "2022-03-12T00:53:17.421Z"
   },
   {
    "duration": 7,
    "start_time": "2022-03-12T00:53:17.427Z"
   },
   {
    "duration": 31,
    "start_time": "2022-03-12T00:53:17.435Z"
   },
   {
    "duration": 5,
    "start_time": "2022-03-12T00:53:17.468Z"
   },
   {
    "duration": 7,
    "start_time": "2022-03-12T00:53:17.475Z"
   },
   {
    "duration": 12,
    "start_time": "2022-03-12T01:02:08.465Z"
   },
   {
    "duration": 13,
    "start_time": "2022-03-12T01:02:24.559Z"
   },
   {
    "duration": 16,
    "start_time": "2022-03-12T01:03:00.682Z"
   },
   {
    "duration": 37,
    "start_time": "2022-03-12T01:04:10.174Z"
   },
   {
    "duration": 21,
    "start_time": "2022-03-12T01:04:18.702Z"
   },
   {
    "duration": 23,
    "start_time": "2022-03-12T01:04:24.763Z"
   },
   {
    "duration": 22,
    "start_time": "2022-03-12T01:04:32.538Z"
   },
   {
    "duration": 1132,
    "start_time": "2022-03-12T03:09:09.303Z"
   },
   {
    "duration": 268,
    "start_time": "2022-03-12T03:09:10.437Z"
   },
   {
    "duration": 7,
    "start_time": "2022-03-12T03:09:10.707Z"
   },
   {
    "duration": 13,
    "start_time": "2022-03-12T03:09:10.716Z"
   },
   {
    "duration": 2,
    "start_time": "2022-03-12T03:09:10.731Z"
   },
   {
    "duration": 5,
    "start_time": "2022-03-12T03:09:10.735Z"
   },
   {
    "duration": 6,
    "start_time": "2022-03-12T03:09:10.741Z"
   },
   {
    "duration": 24,
    "start_time": "2022-03-12T03:09:10.749Z"
   },
   {
    "duration": 11,
    "start_time": "2022-03-12T03:09:10.775Z"
   },
   {
    "duration": 6,
    "start_time": "2022-03-12T03:09:10.788Z"
   },
   {
    "duration": 6,
    "start_time": "2022-03-12T03:09:10.796Z"
   },
   {
    "duration": 9,
    "start_time": "2022-03-12T03:09:10.803Z"
   },
   {
    "duration": 65,
    "start_time": "2022-03-12T03:09:10.813Z"
   },
   {
    "duration": 9,
    "start_time": "2022-03-12T03:09:10.879Z"
   },
   {
    "duration": 21,
    "start_time": "2022-03-12T03:09:10.890Z"
   },
   {
    "duration": 26,
    "start_time": "2022-03-12T03:09:10.912Z"
   },
   {
    "duration": 38,
    "start_time": "2022-03-12T03:09:10.939Z"
   },
   {
    "duration": 5,
    "start_time": "2022-03-12T03:09:10.979Z"
   },
   {
    "duration": 19,
    "start_time": "2022-03-12T03:09:10.986Z"
   },
   {
    "duration": 13,
    "start_time": "2022-03-12T03:09:11.006Z"
   },
   {
    "duration": 9,
    "start_time": "2022-03-12T03:09:11.021Z"
   },
   {
    "duration": 43,
    "start_time": "2022-03-12T03:09:11.032Z"
   },
   {
    "duration": 12,
    "start_time": "2022-03-12T03:09:11.078Z"
   },
   {
    "duration": 13,
    "start_time": "2022-03-12T03:09:11.092Z"
   },
   {
    "duration": 9,
    "start_time": "2022-03-12T03:09:11.106Z"
   },
   {
    "duration": 54,
    "start_time": "2022-03-12T03:09:11.116Z"
   },
   {
    "duration": 18,
    "start_time": "2022-03-12T03:09:11.171Z"
   },
   {
    "duration": 12,
    "start_time": "2022-03-12T03:09:11.191Z"
   },
   {
    "duration": 14,
    "start_time": "2022-03-12T03:09:11.205Z"
   },
   {
    "duration": 2,
    "start_time": "2022-03-12T03:09:11.220Z"
   },
   {
    "duration": 8,
    "start_time": "2022-03-12T03:09:11.263Z"
   },
   {
    "duration": 35,
    "start_time": "2022-03-12T03:09:11.273Z"
   },
   {
    "duration": 20,
    "start_time": "2022-03-12T03:09:11.310Z"
   },
   {
    "duration": 52,
    "start_time": "2022-03-12T03:09:11.331Z"
   },
   {
    "duration": 18,
    "start_time": "2022-03-12T03:09:11.385Z"
   },
   {
    "duration": 22,
    "start_time": "2022-03-12T03:09:11.404Z"
   },
   {
    "duration": 2,
    "start_time": "2022-03-12T03:09:11.427Z"
   },
   {
    "duration": 32,
    "start_time": "2022-03-12T03:09:11.431Z"
   },
   {
    "duration": 2,
    "start_time": "2022-03-12T03:09:11.465Z"
   },
   {
    "duration": 4,
    "start_time": "2022-03-12T03:09:11.469Z"
   },
   {
    "duration": 5,
    "start_time": "2022-03-12T03:09:11.475Z"
   },
   {
    "duration": 5,
    "start_time": "2022-03-12T03:09:11.481Z"
   },
   {
    "duration": 5,
    "start_time": "2022-03-12T03:09:11.488Z"
   },
   {
    "duration": 6,
    "start_time": "2022-03-12T03:09:11.494Z"
   },
   {
    "duration": 5,
    "start_time": "2022-03-12T03:09:11.502Z"
   },
   {
    "duration": 6,
    "start_time": "2022-03-12T03:09:11.508Z"
   },
   {
    "duration": 23,
    "start_time": "2022-03-12T03:09:30.903Z"
   },
   {
    "duration": 29,
    "start_time": "2022-03-12T03:09:52.476Z"
   },
   {
    "duration": 26,
    "start_time": "2022-03-12T03:10:39.918Z"
   },
   {
    "duration": 29,
    "start_time": "2022-03-12T03:13:33.164Z"
   },
   {
    "duration": 30,
    "start_time": "2022-03-12T03:17:40.797Z"
   },
   {
    "duration": 29,
    "start_time": "2022-03-12T03:22:39.375Z"
   },
   {
    "duration": 32,
    "start_time": "2022-03-12T03:22:45.755Z"
   },
   {
    "duration": 382,
    "start_time": "2022-03-12T03:31:51.431Z"
   },
   {
    "duration": 16,
    "start_time": "2022-03-12T03:32:06.459Z"
   },
   {
    "duration": 29,
    "start_time": "2022-03-12T03:32:36.624Z"
   },
   {
    "duration": 233,
    "start_time": "2022-03-12T03:38:20.599Z"
   },
   {
    "duration": 19,
    "start_time": "2022-03-12T03:39:45.644Z"
   },
   {
    "duration": 249,
    "start_time": "2022-03-12T03:45:19.422Z"
   },
   {
    "duration": 17,
    "start_time": "2022-03-12T03:45:37.210Z"
   },
   {
    "duration": 22,
    "start_time": "2022-03-12T03:46:50.042Z"
   },
   {
    "duration": 14,
    "start_time": "2022-03-12T03:47:25.942Z"
   },
   {
    "duration": 16,
    "start_time": "2022-03-12T03:47:36.997Z"
   },
   {
    "duration": 230,
    "start_time": "2022-03-12T03:47:53.837Z"
   },
   {
    "duration": 14,
    "start_time": "2022-03-12T03:47:56.059Z"
   },
   {
    "duration": 275,
    "start_time": "2022-03-12T03:48:01.627Z"
   },
   {
    "duration": 30,
    "start_time": "2022-03-12T03:48:16.686Z"
   },
   {
    "duration": 19,
    "start_time": "2022-03-12T03:48:20.274Z"
   },
   {
    "duration": 76,
    "start_time": "2022-03-12T03:48:28.825Z"
   },
   {
    "duration": 12,
    "start_time": "2022-03-12T03:48:32.672Z"
   },
   {
    "duration": 27,
    "start_time": "2022-03-12T03:49:09.444Z"
   },
   {
    "duration": 238,
    "start_time": "2022-03-12T03:49:36.720Z"
   },
   {
    "duration": 28,
    "start_time": "2022-03-12T03:50:40.962Z"
   },
   {
    "duration": 27,
    "start_time": "2022-03-12T03:50:43.719Z"
   },
   {
    "duration": 239,
    "start_time": "2022-03-12T03:51:26.568Z"
   },
   {
    "duration": 240,
    "start_time": "2022-03-12T03:52:20.906Z"
   },
   {
    "duration": 73,
    "start_time": "2022-03-12T03:54:22.601Z"
   },
   {
    "duration": 250,
    "start_time": "2022-03-12T03:54:29.884Z"
   },
   {
    "duration": 27,
    "start_time": "2022-03-12T03:54:43.956Z"
   },
   {
    "duration": 227,
    "start_time": "2022-03-12T03:54:44.349Z"
   },
   {
    "duration": 268,
    "start_time": "2022-03-12T03:56:25.475Z"
   },
   {
    "duration": 31,
    "start_time": "2022-03-12T03:56:53.395Z"
   },
   {
    "duration": 18,
    "start_time": "2022-03-12T03:57:05.769Z"
   },
   {
    "duration": 19,
    "start_time": "2022-03-12T03:57:30.270Z"
   },
   {
    "duration": 43,
    "start_time": "2022-03-12T03:57:49.136Z"
   },
   {
    "duration": 37,
    "start_time": "2022-03-12T03:57:58.178Z"
   },
   {
    "duration": 33,
    "start_time": "2022-03-12T03:58:06.557Z"
   },
   {
    "duration": 33,
    "start_time": "2022-03-12T03:58:31.526Z"
   },
   {
    "duration": 1104,
    "start_time": "2022-03-12T03:59:39.667Z"
   },
   {
    "duration": 257,
    "start_time": "2022-03-12T03:59:40.772Z"
   },
   {
    "duration": 6,
    "start_time": "2022-03-12T03:59:41.031Z"
   },
   {
    "duration": 13,
    "start_time": "2022-03-12T03:59:41.039Z"
   },
   {
    "duration": 3,
    "start_time": "2022-03-12T03:59:41.054Z"
   },
   {
    "duration": 5,
    "start_time": "2022-03-12T03:59:41.058Z"
   },
   {
    "duration": 5,
    "start_time": "2022-03-12T03:59:41.065Z"
   },
   {
    "duration": 24,
    "start_time": "2022-03-12T03:59:41.072Z"
   },
   {
    "duration": 11,
    "start_time": "2022-03-12T03:59:41.099Z"
   },
   {
    "duration": 7,
    "start_time": "2022-03-12T03:59:41.112Z"
   },
   {
    "duration": 6,
    "start_time": "2022-03-12T03:59:41.121Z"
   },
   {
    "duration": 9,
    "start_time": "2022-03-12T03:59:41.129Z"
   },
   {
    "duration": 57,
    "start_time": "2022-03-12T03:59:41.139Z"
   },
   {
    "duration": 8,
    "start_time": "2022-03-12T03:59:41.198Z"
   },
   {
    "duration": 15,
    "start_time": "2022-03-12T03:59:41.207Z"
   },
   {
    "duration": 49,
    "start_time": "2022-03-12T03:59:41.224Z"
   },
   {
    "duration": 15,
    "start_time": "2022-03-12T03:59:41.275Z"
   },
   {
    "duration": 6,
    "start_time": "2022-03-12T03:59:41.291Z"
   },
   {
    "duration": 15,
    "start_time": "2022-03-12T03:59:41.299Z"
   },
   {
    "duration": 10,
    "start_time": "2022-03-12T03:59:41.316Z"
   },
   {
    "duration": 37,
    "start_time": "2022-03-12T03:59:41.327Z"
   },
   {
    "duration": 22,
    "start_time": "2022-03-12T03:59:41.366Z"
   },
   {
    "duration": 11,
    "start_time": "2022-03-12T03:59:41.391Z"
   },
   {
    "duration": 13,
    "start_time": "2022-03-12T03:59:41.403Z"
   },
   {
    "duration": 8,
    "start_time": "2022-03-12T03:59:41.417Z"
   },
   {
    "duration": 11,
    "start_time": "2022-03-12T03:59:41.426Z"
   },
   {
    "duration": 18,
    "start_time": "2022-03-12T03:59:41.462Z"
   },
   {
    "duration": 11,
    "start_time": "2022-03-12T03:59:41.481Z"
   },
   {
    "duration": 12,
    "start_time": "2022-03-12T03:59:41.494Z"
   },
   {
    "duration": 2,
    "start_time": "2022-03-12T03:59:41.507Z"
   },
   {
    "duration": 9,
    "start_time": "2022-03-12T03:59:41.510Z"
   },
   {
    "duration": 60,
    "start_time": "2022-03-12T03:59:41.521Z"
   },
   {
    "duration": 18,
    "start_time": "2022-03-12T03:59:41.583Z"
   },
   {
    "duration": 21,
    "start_time": "2022-03-12T03:59:41.602Z"
   },
   {
    "duration": 39,
    "start_time": "2022-03-12T03:59:41.625Z"
   },
   {
    "duration": 31,
    "start_time": "2022-03-12T03:59:46.810Z"
   },
   {
    "duration": 10,
    "start_time": "2022-03-12T03:59:52.877Z"
   },
   {
    "duration": 12,
    "start_time": "2022-03-12T04:01:02.734Z"
   },
   {
    "duration": 11,
    "start_time": "2022-03-12T04:01:28.167Z"
   },
   {
    "duration": 331,
    "start_time": "2022-03-12T04:01:53.276Z"
   },
   {
    "duration": 18,
    "start_time": "2022-03-12T04:02:04.944Z"
   },
   {
    "duration": 10,
    "start_time": "2022-03-12T04:03:02.000Z"
   },
   {
    "duration": 5,
    "start_time": "2022-03-12T04:05:00.672Z"
   },
   {
    "duration": 283,
    "start_time": "2022-03-12T04:05:00.680Z"
   },
   {
    "duration": 5,
    "start_time": "2022-03-12T04:05:00.965Z"
   },
   {
    "duration": 15,
    "start_time": "2022-03-12T04:05:00.972Z"
   },
   {
    "duration": 7,
    "start_time": "2022-03-12T04:05:00.989Z"
   },
   {
    "duration": 7,
    "start_time": "2022-03-12T04:05:00.997Z"
   },
   {
    "duration": 6,
    "start_time": "2022-03-12T04:05:01.007Z"
   },
   {
    "duration": 21,
    "start_time": "2022-03-12T04:05:01.015Z"
   },
   {
    "duration": 10,
    "start_time": "2022-03-12T04:05:01.038Z"
   },
   {
    "duration": 17,
    "start_time": "2022-03-12T04:05:01.050Z"
   },
   {
    "duration": 11,
    "start_time": "2022-03-12T04:05:01.069Z"
   },
   {
    "duration": 11,
    "start_time": "2022-03-12T04:05:01.081Z"
   },
   {
    "duration": 38,
    "start_time": "2022-03-12T04:05:01.093Z"
   },
   {
    "duration": 8,
    "start_time": "2022-03-12T04:05:01.133Z"
   },
   {
    "duration": 14,
    "start_time": "2022-03-12T04:05:01.163Z"
   },
   {
    "duration": 35,
    "start_time": "2022-03-12T04:05:01.179Z"
   },
   {
    "duration": 15,
    "start_time": "2022-03-12T04:05:01.215Z"
   },
   {
    "duration": 5,
    "start_time": "2022-03-12T04:05:01.232Z"
   },
   {
    "duration": 36,
    "start_time": "2022-03-12T04:05:01.240Z"
   },
   {
    "duration": 12,
    "start_time": "2022-03-12T04:05:01.278Z"
   },
   {
    "duration": 10,
    "start_time": "2022-03-12T04:05:01.291Z"
   },
   {
    "duration": 19,
    "start_time": "2022-03-12T04:05:01.303Z"
   },
   {
    "duration": 12,
    "start_time": "2022-03-12T04:05:01.323Z"
   },
   {
    "duration": 40,
    "start_time": "2022-03-12T04:05:01.336Z"
   },
   {
    "duration": 24,
    "start_time": "2022-03-12T04:05:01.378Z"
   },
   {
    "duration": 23,
    "start_time": "2022-03-12T04:05:01.403Z"
   },
   {
    "duration": 19,
    "start_time": "2022-03-12T04:05:01.428Z"
   },
   {
    "duration": 25,
    "start_time": "2022-03-12T04:05:01.449Z"
   },
   {
    "duration": 14,
    "start_time": "2022-03-12T04:05:01.476Z"
   },
   {
    "duration": 3,
    "start_time": "2022-03-12T04:05:01.492Z"
   },
   {
    "duration": 21,
    "start_time": "2022-03-12T04:05:01.496Z"
   },
   {
    "duration": 56,
    "start_time": "2022-03-12T04:05:01.519Z"
   },
   {
    "duration": 20,
    "start_time": "2022-03-12T04:05:01.576Z"
   },
   {
    "duration": 25,
    "start_time": "2022-03-12T04:05:01.598Z"
   },
   {
    "duration": 46,
    "start_time": "2022-03-12T04:05:01.625Z"
   },
   {
    "duration": 28,
    "start_time": "2022-03-12T04:05:03.792Z"
   },
   {
    "duration": 262,
    "start_time": "2022-03-12T04:05:11.417Z"
   },
   {
    "duration": 232,
    "start_time": "2022-03-12T04:06:02.361Z"
   },
   {
    "duration": 235,
    "start_time": "2022-03-12T04:07:27.875Z"
   },
   {
    "duration": 5,
    "start_time": "2022-03-12T04:07:53.870Z"
   },
   {
    "duration": 267,
    "start_time": "2022-03-12T04:07:53.884Z"
   },
   {
    "duration": 5,
    "start_time": "2022-03-12T04:07:54.153Z"
   },
   {
    "duration": 11,
    "start_time": "2022-03-12T04:07:54.160Z"
   },
   {
    "duration": 3,
    "start_time": "2022-03-12T04:07:54.173Z"
   },
   {
    "duration": 4,
    "start_time": "2022-03-12T04:07:54.178Z"
   },
   {
    "duration": 4,
    "start_time": "2022-03-12T04:07:54.183Z"
   },
   {
    "duration": 18,
    "start_time": "2022-03-12T04:07:54.189Z"
   },
   {
    "duration": 10,
    "start_time": "2022-03-12T04:07:54.210Z"
   },
   {
    "duration": 6,
    "start_time": "2022-03-12T04:07:54.222Z"
   },
   {
    "duration": 35,
    "start_time": "2022-03-12T04:07:54.230Z"
   },
   {
    "duration": 9,
    "start_time": "2022-03-12T04:07:54.267Z"
   },
   {
    "duration": 38,
    "start_time": "2022-03-12T04:07:54.278Z"
   },
   {
    "duration": 8,
    "start_time": "2022-03-12T04:07:54.318Z"
   },
   {
    "duration": 36,
    "start_time": "2022-03-12T04:07:54.328Z"
   },
   {
    "duration": 24,
    "start_time": "2022-03-12T04:07:54.366Z"
   },
   {
    "duration": 17,
    "start_time": "2022-03-12T04:07:54.392Z"
   },
   {
    "duration": 5,
    "start_time": "2022-03-12T04:07:54.411Z"
   },
   {
    "duration": 15,
    "start_time": "2022-03-12T04:07:54.418Z"
   },
   {
    "duration": 11,
    "start_time": "2022-03-12T04:07:54.464Z"
   },
   {
    "duration": 8,
    "start_time": "2022-03-12T04:07:54.477Z"
   },
   {
    "duration": 17,
    "start_time": "2022-03-12T04:07:54.487Z"
   },
   {
    "duration": 12,
    "start_time": "2022-03-12T04:07:54.506Z"
   },
   {
    "duration": 45,
    "start_time": "2022-03-12T04:07:54.520Z"
   },
   {
    "duration": 9,
    "start_time": "2022-03-12T04:07:54.567Z"
   },
   {
    "duration": 13,
    "start_time": "2022-03-12T04:07:54.577Z"
   },
   {
    "duration": 26,
    "start_time": "2022-03-12T04:07:54.592Z"
   },
   {
    "duration": 15,
    "start_time": "2022-03-12T04:07:54.620Z"
   },
   {
    "duration": 14,
    "start_time": "2022-03-12T04:07:54.663Z"
   },
   {
    "duration": 2,
    "start_time": "2022-03-12T04:07:54.679Z"
   },
   {
    "duration": 10,
    "start_time": "2022-03-12T04:07:54.682Z"
   },
   {
    "duration": 41,
    "start_time": "2022-03-12T04:07:54.693Z"
   },
   {
    "duration": 39,
    "start_time": "2022-03-12T04:07:54.736Z"
   },
   {
    "duration": 22,
    "start_time": "2022-03-12T04:07:54.776Z"
   },
   {
    "duration": 18,
    "start_time": "2022-03-12T04:07:54.799Z"
   },
   {
    "duration": 46,
    "start_time": "2022-03-12T04:07:54.819Z"
   },
   {
    "duration": 18,
    "start_time": "2022-03-12T04:07:58.359Z"
   },
   {
    "duration": 246,
    "start_time": "2022-03-12T15:05:03.477Z"
   },
   {
    "duration": 1125,
    "start_time": "2022-03-12T15:05:12.196Z"
   },
   {
    "duration": 279,
    "start_time": "2022-03-12T15:05:13.323Z"
   },
   {
    "duration": 7,
    "start_time": "2022-03-12T15:05:13.604Z"
   },
   {
    "duration": 15,
    "start_time": "2022-03-12T15:05:13.612Z"
   },
   {
    "duration": 6,
    "start_time": "2022-03-12T15:05:13.629Z"
   },
   {
    "duration": 5,
    "start_time": "2022-03-12T15:05:13.636Z"
   },
   {
    "duration": 10,
    "start_time": "2022-03-12T15:05:13.643Z"
   },
   {
    "duration": 30,
    "start_time": "2022-03-12T15:05:13.655Z"
   },
   {
    "duration": 12,
    "start_time": "2022-03-12T15:05:13.687Z"
   },
   {
    "duration": 12,
    "start_time": "2022-03-12T15:05:13.701Z"
   },
   {
    "duration": 8,
    "start_time": "2022-03-12T15:05:13.715Z"
   },
   {
    "duration": 23,
    "start_time": "2022-03-12T15:05:13.724Z"
   },
   {
    "duration": 43,
    "start_time": "2022-03-12T15:05:13.749Z"
   },
   {
    "duration": 9,
    "start_time": "2022-03-12T15:05:13.793Z"
   },
   {
    "duration": 19,
    "start_time": "2022-03-12T15:05:13.804Z"
   },
   {
    "duration": 26,
    "start_time": "2022-03-12T15:05:13.838Z"
   },
   {
    "duration": 17,
    "start_time": "2022-03-12T15:05:13.865Z"
   },
   {
    "duration": 6,
    "start_time": "2022-03-12T15:05:13.883Z"
   },
   {
    "duration": 47,
    "start_time": "2022-03-12T15:05:13.891Z"
   },
   {
    "duration": 11,
    "start_time": "2022-03-12T15:05:13.940Z"
   },
   {
    "duration": 9,
    "start_time": "2022-03-12T15:05:13.953Z"
   },
   {
    "duration": 18,
    "start_time": "2022-03-12T15:05:13.964Z"
   },
   {
    "duration": 13,
    "start_time": "2022-03-12T15:05:13.985Z"
   },
   {
    "duration": 39,
    "start_time": "2022-03-12T15:05:14.000Z"
   },
   {
    "duration": 10,
    "start_time": "2022-03-12T15:05:14.040Z"
   },
   {
    "duration": 16,
    "start_time": "2022-03-12T15:05:14.052Z"
   },
   {
    "duration": 21,
    "start_time": "2022-03-12T15:05:14.070Z"
   },
   {
    "duration": 47,
    "start_time": "2022-03-12T15:05:14.093Z"
   },
   {
    "duration": 14,
    "start_time": "2022-03-12T15:05:14.142Z"
   },
   {
    "duration": 3,
    "start_time": "2022-03-12T15:05:14.158Z"
   },
   {
    "duration": 12,
    "start_time": "2022-03-12T15:05:14.162Z"
   },
   {
    "duration": 63,
    "start_time": "2022-03-12T15:05:14.176Z"
   },
   {
    "duration": 21,
    "start_time": "2022-03-12T15:05:14.240Z"
   },
   {
    "duration": 23,
    "start_time": "2022-03-12T15:05:14.263Z"
   },
   {
    "duration": 20,
    "start_time": "2022-03-12T15:05:14.287Z"
   },
   {
    "duration": 58,
    "start_time": "2022-03-12T15:05:14.308Z"
   },
   {
    "duration": 18,
    "start_time": "2022-03-12T15:05:14.368Z"
   },
   {
    "duration": 14,
    "start_time": "2022-03-12T15:05:14.388Z"
   },
   {
    "duration": 72,
    "start_time": "2022-03-12T15:05:14.404Z"
   },
   {
    "duration": -864,
    "start_time": "2022-03-12T15:05:15.342Z"
   },
   {
    "duration": -866,
    "start_time": "2022-03-12T15:05:15.345Z"
   },
   {
    "duration": -867,
    "start_time": "2022-03-12T15:05:15.347Z"
   },
   {
    "duration": -870,
    "start_time": "2022-03-12T15:05:15.351Z"
   },
   {
    "duration": -872,
    "start_time": "2022-03-12T15:05:15.354Z"
   },
   {
    "duration": -976,
    "start_time": "2022-03-12T15:05:15.459Z"
   },
   {
    "duration": -979,
    "start_time": "2022-03-12T15:05:15.463Z"
   },
   {
    "duration": -982,
    "start_time": "2022-03-12T15:05:15.467Z"
   },
   {
    "duration": 11,
    "start_time": "2022-03-12T15:05:44.799Z"
   },
   {
    "duration": 21,
    "start_time": "2022-03-12T15:22:47.586Z"
   },
   {
    "duration": 30,
    "start_time": "2022-03-12T15:23:32.362Z"
   },
   {
    "duration": 273,
    "start_time": "2022-03-12T15:23:56.981Z"
   },
   {
    "duration": 1145,
    "start_time": "2022-03-12T15:24:27.342Z"
   },
   {
    "duration": 268,
    "start_time": "2022-03-12T15:24:28.489Z"
   },
   {
    "duration": 6,
    "start_time": "2022-03-12T15:24:28.759Z"
   },
   {
    "duration": 14,
    "start_time": "2022-03-12T15:24:28.767Z"
   },
   {
    "duration": 5,
    "start_time": "2022-03-12T15:24:28.783Z"
   },
   {
    "duration": 8,
    "start_time": "2022-03-12T15:24:28.790Z"
   },
   {
    "duration": 10,
    "start_time": "2022-03-12T15:24:28.799Z"
   },
   {
    "duration": 20,
    "start_time": "2022-03-12T15:24:28.811Z"
   },
   {
    "duration": 11,
    "start_time": "2022-03-12T15:24:28.833Z"
   },
   {
    "duration": 15,
    "start_time": "2022-03-12T15:24:28.845Z"
   },
   {
    "duration": 14,
    "start_time": "2022-03-12T15:24:28.862Z"
   },
   {
    "duration": 12,
    "start_time": "2022-03-12T15:24:28.878Z"
   },
   {
    "duration": 47,
    "start_time": "2022-03-12T15:24:28.891Z"
   },
   {
    "duration": 8,
    "start_time": "2022-03-12T15:24:28.940Z"
   },
   {
    "duration": 21,
    "start_time": "2022-03-12T15:24:28.949Z"
   },
   {
    "duration": 24,
    "start_time": "2022-03-12T15:24:28.971Z"
   },
   {
    "duration": 15,
    "start_time": "2022-03-12T15:24:28.997Z"
   },
   {
    "duration": 27,
    "start_time": "2022-03-12T15:24:29.014Z"
   },
   {
    "duration": 14,
    "start_time": "2022-03-12T15:24:29.043Z"
   },
   {
    "duration": 11,
    "start_time": "2022-03-12T15:24:29.059Z"
   },
   {
    "duration": 8,
    "start_time": "2022-03-12T15:24:29.071Z"
   },
   {
    "duration": 17,
    "start_time": "2022-03-12T15:24:29.080Z"
   },
   {
    "duration": 41,
    "start_time": "2022-03-12T15:24:29.101Z"
   },
   {
    "duration": 13,
    "start_time": "2022-03-12T15:24:29.144Z"
   },
   {
    "duration": 8,
    "start_time": "2022-03-12T15:24:29.159Z"
   },
   {
    "duration": 12,
    "start_time": "2022-03-12T15:24:29.169Z"
   },
   {
    "duration": 17,
    "start_time": "2022-03-12T15:24:29.182Z"
   },
   {
    "duration": 47,
    "start_time": "2022-03-12T15:24:29.201Z"
   },
   {
    "duration": 13,
    "start_time": "2022-03-12T15:24:29.249Z"
   },
   {
    "duration": 2,
    "start_time": "2022-03-12T15:24:29.264Z"
   },
   {
    "duration": 11,
    "start_time": "2022-03-12T15:24:29.267Z"
   },
   {
    "duration": 59,
    "start_time": "2022-03-12T15:24:29.280Z"
   },
   {
    "duration": 20,
    "start_time": "2022-03-12T15:24:29.340Z"
   },
   {
    "duration": 23,
    "start_time": "2022-03-12T15:24:29.361Z"
   },
   {
    "duration": 21,
    "start_time": "2022-03-12T15:24:29.385Z"
   },
   {
    "duration": 52,
    "start_time": "2022-03-12T15:24:29.408Z"
   },
   {
    "duration": 3,
    "start_time": "2022-03-12T15:24:29.462Z"
   },
   {
    "duration": 22,
    "start_time": "2022-03-12T15:24:29.466Z"
   },
   {
    "duration": 9,
    "start_time": "2022-03-12T15:24:29.490Z"
   },
   {
    "duration": 63,
    "start_time": "2022-03-12T15:24:29.501Z"
   },
   {
    "duration": -623,
    "start_time": "2022-03-12T15:24:30.189Z"
   },
   {
    "duration": -625,
    "start_time": "2022-03-12T15:24:30.192Z"
   },
   {
    "duration": -628,
    "start_time": "2022-03-12T15:24:30.196Z"
   },
   {
    "duration": -630,
    "start_time": "2022-03-12T15:24:30.199Z"
   },
   {
    "duration": -632,
    "start_time": "2022-03-12T15:24:30.202Z"
   },
   {
    "duration": -635,
    "start_time": "2022-03-12T15:24:30.206Z"
   },
   {
    "duration": -637,
    "start_time": "2022-03-12T15:24:30.209Z"
   },
   {
    "duration": -639,
    "start_time": "2022-03-12T15:24:30.212Z"
   },
   {
    "duration": 4,
    "start_time": "2022-03-12T16:07:22.894Z"
   },
   {
    "duration": 4,
    "start_time": "2022-03-12T16:07:33.886Z"
   },
   {
    "duration": 70,
    "start_time": "2022-03-12T16:18:01.285Z"
   },
   {
    "duration": 163,
    "start_time": "2022-03-12T16:18:22.243Z"
   },
   {
    "duration": 69,
    "start_time": "2022-03-12T16:18:36.658Z"
   },
   {
    "duration": 59,
    "start_time": "2022-03-12T16:18:43.879Z"
   },
   {
    "duration": 56,
    "start_time": "2022-03-12T16:19:03.027Z"
   },
   {
    "duration": 55,
    "start_time": "2022-03-12T16:19:59.244Z"
   },
   {
    "duration": 61,
    "start_time": "2022-03-12T16:20:23.770Z"
   },
   {
    "duration": 57,
    "start_time": "2022-03-12T16:22:22.930Z"
   },
   {
    "duration": 62,
    "start_time": "2022-03-12T16:22:36.497Z"
   },
   {
    "duration": 3,
    "start_time": "2022-03-12T16:25:26.656Z"
   },
   {
    "duration": 7,
    "start_time": "2022-03-12T16:25:49.103Z"
   },
   {
    "duration": 252,
    "start_time": "2022-03-12T16:31:20.281Z"
   },
   {
    "duration": 4,
    "start_time": "2022-03-12T16:31:35.468Z"
   },
   {
    "duration": 4,
    "start_time": "2022-03-12T16:32:10.993Z"
   },
   {
    "duration": 13,
    "start_time": "2022-03-12T16:32:37.410Z"
   },
   {
    "duration": 5,
    "start_time": "2022-03-12T16:33:00.260Z"
   },
   {
    "duration": 6,
    "start_time": "2022-03-12T16:33:47.087Z"
   },
   {
    "duration": 4,
    "start_time": "2022-03-12T16:33:48.403Z"
   },
   {
    "duration": 4,
    "start_time": "2022-03-12T16:34:44.695Z"
   },
   {
    "duration": 321,
    "start_time": "2022-03-12T16:35:45.292Z"
   },
   {
    "duration": 55,
    "start_time": "2022-03-12T16:35:50.098Z"
   },
   {
    "duration": 4,
    "start_time": "2022-03-12T16:35:57.259Z"
   },
   {
    "duration": 12,
    "start_time": "2022-03-12T16:36:20.583Z"
   },
   {
    "duration": 17,
    "start_time": "2022-03-12T16:36:26.310Z"
   },
   {
    "duration": 19,
    "start_time": "2022-03-12T16:37:26.509Z"
   },
   {
    "duration": 17,
    "start_time": "2022-03-12T16:37:50.748Z"
   },
   {
    "duration": 10,
    "start_time": "2022-03-12T16:39:40.962Z"
   },
   {
    "duration": 173,
    "start_time": "2022-03-12T16:39:46.348Z"
   },
   {
    "duration": 1137,
    "start_time": "2022-03-12T16:40:03.771Z"
   },
   {
    "duration": 270,
    "start_time": "2022-03-12T16:40:04.909Z"
   },
   {
    "duration": 7,
    "start_time": "2022-03-12T16:40:05.181Z"
   },
   {
    "duration": 16,
    "start_time": "2022-03-12T16:40:05.190Z"
   },
   {
    "duration": 7,
    "start_time": "2022-03-12T16:40:05.207Z"
   },
   {
    "duration": 20,
    "start_time": "2022-03-12T16:40:05.215Z"
   },
   {
    "duration": 12,
    "start_time": "2022-03-12T16:40:05.237Z"
   },
   {
    "duration": 24,
    "start_time": "2022-03-12T16:40:05.251Z"
   },
   {
    "duration": 11,
    "start_time": "2022-03-12T16:40:05.278Z"
   },
   {
    "duration": 7,
    "start_time": "2022-03-12T16:40:05.291Z"
   },
   {
    "duration": 11,
    "start_time": "2022-03-12T16:40:05.299Z"
   },
   {
    "duration": 11,
    "start_time": "2022-03-12T16:40:05.311Z"
   },
   {
    "duration": 42,
    "start_time": "2022-03-12T16:40:05.338Z"
   },
   {
    "duration": 9,
    "start_time": "2022-03-12T16:40:05.382Z"
   },
   {
    "duration": 23,
    "start_time": "2022-03-12T16:40:05.393Z"
   },
   {
    "duration": 25,
    "start_time": "2022-03-12T16:40:05.437Z"
   },
   {
    "duration": 16,
    "start_time": "2022-03-12T16:40:05.463Z"
   },
   {
    "duration": 6,
    "start_time": "2022-03-12T16:40:05.480Z"
   },
   {
    "duration": 20,
    "start_time": "2022-03-12T16:40:05.488Z"
   },
   {
    "duration": 11,
    "start_time": "2022-03-12T16:40:05.538Z"
   },
   {
    "duration": 13,
    "start_time": "2022-03-12T16:40:05.551Z"
   },
   {
    "duration": 19,
    "start_time": "2022-03-12T16:40:05.566Z"
   },
   {
    "duration": 12,
    "start_time": "2022-03-12T16:40:05.586Z"
   },
   {
    "duration": 12,
    "start_time": "2022-03-12T16:40:05.600Z"
   },
   {
    "duration": 31,
    "start_time": "2022-03-12T16:40:05.614Z"
   },
   {
    "duration": 13,
    "start_time": "2022-03-12T16:40:05.647Z"
   },
   {
    "duration": 18,
    "start_time": "2022-03-12T16:40:05.663Z"
   },
   {
    "duration": 13,
    "start_time": "2022-03-12T16:40:05.683Z"
   },
   {
    "duration": 43,
    "start_time": "2022-03-12T16:40:05.698Z"
   },
   {
    "duration": 2,
    "start_time": "2022-03-12T16:40:05.742Z"
   },
   {
    "duration": 11,
    "start_time": "2022-03-12T16:40:05.746Z"
   },
   {
    "duration": 40,
    "start_time": "2022-03-12T16:40:05.759Z"
   },
   {
    "duration": 19,
    "start_time": "2022-03-12T16:40:05.801Z"
   },
   {
    "duration": 22,
    "start_time": "2022-03-12T16:40:05.839Z"
   },
   {
    "duration": 27,
    "start_time": "2022-03-12T16:40:05.862Z"
   },
   {
    "duration": 48,
    "start_time": "2022-03-12T16:40:05.891Z"
   },
   {
    "duration": 20,
    "start_time": "2022-03-12T16:40:05.940Z"
   },
   {
    "duration": 12,
    "start_time": "2022-03-12T16:40:05.962Z"
   },
   {
    "duration": 12,
    "start_time": "2022-03-12T16:40:05.976Z"
   },
   {
    "duration": 12,
    "start_time": "2022-03-12T16:40:05.990Z"
   },
   {
    "duration": 22,
    "start_time": "2022-03-12T16:40:06.004Z"
   },
   {
    "duration": 24,
    "start_time": "2022-03-12T16:40:06.028Z"
   },
   {
    "duration": 29,
    "start_time": "2022-03-12T16:40:06.054Z"
   },
   {
    "duration": 7,
    "start_time": "2022-03-12T16:40:06.084Z"
   },
   {
    "duration": 14,
    "start_time": "2022-03-12T16:40:06.093Z"
   },
   {
    "duration": 15,
    "start_time": "2022-03-12T16:40:06.109Z"
   },
   {
    "duration": 17,
    "start_time": "2022-03-12T16:40:06.126Z"
   },
   {
    "duration": 15,
    "start_time": "2022-03-12T16:40:06.145Z"
   },
   {
    "duration": 27,
    "start_time": "2022-03-12T16:40:06.161Z"
   },
   {
    "duration": 19,
    "start_time": "2022-03-12T16:40:06.190Z"
   },
   {
    "duration": 21,
    "start_time": "2022-03-12T16:40:06.211Z"
   },
   {
    "duration": 11,
    "start_time": "2022-03-12T17:48:59.850Z"
   },
   {
    "duration": 1124,
    "start_time": "2022-03-12T17:49:07.769Z"
   },
   {
    "duration": 262,
    "start_time": "2022-03-12T17:49:08.895Z"
   },
   {
    "duration": 6,
    "start_time": "2022-03-12T17:49:09.159Z"
   },
   {
    "duration": 18,
    "start_time": "2022-03-12T17:49:09.167Z"
   },
   {
    "duration": 4,
    "start_time": "2022-03-12T17:49:09.186Z"
   },
   {
    "duration": 5,
    "start_time": "2022-03-12T17:49:09.191Z"
   },
   {
    "duration": 4,
    "start_time": "2022-03-12T17:49:09.197Z"
   },
   {
    "duration": 21,
    "start_time": "2022-03-12T17:49:09.204Z"
   },
   {
    "duration": 11,
    "start_time": "2022-03-12T17:49:09.227Z"
   },
   {
    "duration": 10,
    "start_time": "2022-03-12T17:49:09.240Z"
   },
   {
    "duration": 6,
    "start_time": "2022-03-12T17:49:09.251Z"
   },
   {
    "duration": 8,
    "start_time": "2022-03-12T17:49:09.259Z"
   },
   {
    "duration": 39,
    "start_time": "2022-03-12T17:49:09.269Z"
   },
   {
    "duration": 10,
    "start_time": "2022-03-12T17:49:09.338Z"
   },
   {
    "duration": 16,
    "start_time": "2022-03-12T17:49:09.350Z"
   },
   {
    "duration": 24,
    "start_time": "2022-03-12T17:49:09.368Z"
   },
   {
    "duration": 14,
    "start_time": "2022-03-12T17:49:09.394Z"
   },
   {
    "duration": 32,
    "start_time": "2022-03-12T17:49:09.410Z"
   },
   {
    "duration": 16,
    "start_time": "2022-03-12T17:49:09.443Z"
   },
   {
    "duration": 11,
    "start_time": "2022-03-12T17:49:09.460Z"
   },
   {
    "duration": 9,
    "start_time": "2022-03-12T17:49:09.473Z"
   },
   {
    "duration": 16,
    "start_time": "2022-03-12T17:49:09.483Z"
   },
   {
    "duration": 44,
    "start_time": "2022-03-12T17:49:09.503Z"
   },
   {
    "duration": 13,
    "start_time": "2022-03-12T17:49:09.550Z"
   },
   {
    "duration": 9,
    "start_time": "2022-03-12T17:49:09.565Z"
   },
   {
    "duration": 13,
    "start_time": "2022-03-12T17:49:09.576Z"
   },
   {
    "duration": 19,
    "start_time": "2022-03-12T17:49:09.591Z"
   },
   {
    "duration": 39,
    "start_time": "2022-03-12T17:49:09.611Z"
   },
   {
    "duration": 13,
    "start_time": "2022-03-12T17:49:09.652Z"
   },
   {
    "duration": 2,
    "start_time": "2022-03-12T17:49:09.667Z"
   },
   {
    "duration": 13,
    "start_time": "2022-03-12T17:49:09.670Z"
   },
   {
    "duration": 59,
    "start_time": "2022-03-12T17:49:09.684Z"
   },
   {
    "duration": 20,
    "start_time": "2022-03-12T17:49:09.745Z"
   },
   {
    "duration": 24,
    "start_time": "2022-03-12T17:49:09.766Z"
   },
   {
    "duration": 45,
    "start_time": "2022-03-12T17:49:09.792Z"
   },
   {
    "duration": 30,
    "start_time": "2022-03-12T17:49:09.839Z"
   },
   {
    "duration": 22,
    "start_time": "2022-03-12T17:49:09.871Z"
   },
   {
    "duration": 10,
    "start_time": "2022-03-12T17:49:09.894Z"
   },
   {
    "duration": 33,
    "start_time": "2022-03-12T17:49:09.905Z"
   },
   {
    "duration": 8,
    "start_time": "2022-03-12T17:49:09.940Z"
   },
   {
    "duration": 6,
    "start_time": "2022-03-12T17:49:09.950Z"
   },
   {
    "duration": 19,
    "start_time": "2022-03-12T17:49:09.958Z"
   },
   {
    "duration": 15,
    "start_time": "2022-03-12T17:49:09.978Z"
   },
   {
    "duration": 2,
    "start_time": "2022-03-12T17:49:09.994Z"
   },
   {
    "duration": 6,
    "start_time": "2022-03-12T17:49:09.998Z"
   },
   {
    "duration": 32,
    "start_time": "2022-03-12T17:49:10.006Z"
   },
   {
    "duration": 6,
    "start_time": "2022-03-12T17:49:10.040Z"
   },
   {
    "duration": 6,
    "start_time": "2022-03-12T17:49:10.048Z"
   },
   {
    "duration": 6,
    "start_time": "2022-03-12T17:49:10.056Z"
   },
   {
    "duration": 5,
    "start_time": "2022-03-12T17:49:10.064Z"
   },
   {
    "duration": 7,
    "start_time": "2022-03-12T17:49:10.070Z"
   },
   {
    "duration": 7,
    "start_time": "2022-03-12T18:07:26.639Z"
   },
   {
    "duration": 9,
    "start_time": "2022-03-12T18:07:37.333Z"
   },
   {
    "duration": 313,
    "start_time": "2022-03-12T18:08:55.962Z"
   },
   {
    "duration": 251,
    "start_time": "2022-03-12T18:14:27.918Z"
   },
   {
    "duration": 259,
    "start_time": "2022-03-12T18:21:45.500Z"
   },
   {
    "duration": 904,
    "start_time": "2022-03-12T18:22:03.866Z"
   },
   {
    "duration": 971,
    "start_time": "2022-03-12T18:22:21.029Z"
   },
   {
    "duration": 7,
    "start_time": "2022-03-12T18:23:06.103Z"
   },
   {
    "duration": 5,
    "start_time": "2022-03-12T18:23:46.008Z"
   },
   {
    "duration": 4,
    "start_time": "2022-03-12T18:23:56.812Z"
   },
   {
    "duration": 5,
    "start_time": "2022-03-12T18:24:03.445Z"
   },
   {
    "duration": 1107,
    "start_time": "2022-03-12T18:24:19.900Z"
   },
   {
    "duration": 270,
    "start_time": "2022-03-12T18:24:21.009Z"
   },
   {
    "duration": 7,
    "start_time": "2022-03-12T18:24:21.281Z"
   },
   {
    "duration": 13,
    "start_time": "2022-03-12T18:24:21.290Z"
   },
   {
    "duration": 4,
    "start_time": "2022-03-12T18:24:21.305Z"
   },
   {
    "duration": 5,
    "start_time": "2022-03-12T18:24:21.310Z"
   },
   {
    "duration": 6,
    "start_time": "2022-03-12T18:24:21.316Z"
   },
   {
    "duration": 21,
    "start_time": "2022-03-12T18:24:21.324Z"
   },
   {
    "duration": 11,
    "start_time": "2022-03-12T18:24:21.347Z"
   },
   {
    "duration": 17,
    "start_time": "2022-03-12T18:24:21.359Z"
   },
   {
    "duration": 7,
    "start_time": "2022-03-12T18:24:21.377Z"
   },
   {
    "duration": 9,
    "start_time": "2022-03-12T18:24:21.385Z"
   },
   {
    "duration": 56,
    "start_time": "2022-03-12T18:24:21.396Z"
   },
   {
    "duration": 9,
    "start_time": "2022-03-12T18:24:21.453Z"
   },
   {
    "duration": 20,
    "start_time": "2022-03-12T18:24:21.463Z"
   },
   {
    "duration": 25,
    "start_time": "2022-03-12T18:24:21.485Z"
   },
   {
    "duration": 37,
    "start_time": "2022-03-12T18:24:21.511Z"
   },
   {
    "duration": 6,
    "start_time": "2022-03-12T18:24:21.549Z"
   },
   {
    "duration": 16,
    "start_time": "2022-03-12T18:24:21.557Z"
   },
   {
    "duration": 12,
    "start_time": "2022-03-12T18:24:21.574Z"
   },
   {
    "duration": 7,
    "start_time": "2022-03-12T18:24:21.588Z"
   },
   {
    "duration": 49,
    "start_time": "2022-03-12T18:24:21.597Z"
   },
   {
    "duration": 12,
    "start_time": "2022-03-12T18:24:21.649Z"
   },
   {
    "duration": 14,
    "start_time": "2022-03-12T18:24:21.663Z"
   },
   {
    "duration": 9,
    "start_time": "2022-03-12T18:24:21.678Z"
   },
   {
    "duration": 12,
    "start_time": "2022-03-12T18:24:21.689Z"
   },
   {
    "duration": 48,
    "start_time": "2022-03-12T18:24:21.702Z"
   },
   {
    "duration": 13,
    "start_time": "2022-03-12T18:24:21.751Z"
   },
   {
    "duration": 13,
    "start_time": "2022-03-12T18:24:21.766Z"
   },
   {
    "duration": 2,
    "start_time": "2022-03-12T18:24:21.781Z"
   },
   {
    "duration": 12,
    "start_time": "2022-03-12T18:24:21.784Z"
   },
   {
    "duration": 64,
    "start_time": "2022-03-12T18:24:21.797Z"
   },
   {
    "duration": 20,
    "start_time": "2022-03-12T18:24:21.863Z"
   },
   {
    "duration": 22,
    "start_time": "2022-03-12T18:24:21.884Z"
   },
   {
    "duration": 42,
    "start_time": "2022-03-12T18:24:21.908Z"
   },
   {
    "duration": 29,
    "start_time": "2022-03-12T18:24:21.951Z"
   },
   {
    "duration": 19,
    "start_time": "2022-03-12T18:24:21.981Z"
   },
   {
    "duration": 9,
    "start_time": "2022-03-12T18:24:22.001Z"
   },
   {
    "duration": 4,
    "start_time": "2022-03-12T18:24:22.038Z"
   },
   {
    "duration": 8,
    "start_time": "2022-03-12T18:24:22.044Z"
   },
   {
    "duration": 6,
    "start_time": "2022-03-12T18:24:22.053Z"
   },
   {
    "duration": 24,
    "start_time": "2022-03-12T18:24:22.060Z"
   },
   {
    "duration": 16,
    "start_time": "2022-03-12T18:24:22.086Z"
   },
   {
    "duration": 290,
    "start_time": "2022-03-12T18:24:22.103Z"
   },
   {
    "duration": 4,
    "start_time": "2022-03-12T18:24:22.395Z"
   },
   {
    "duration": 5,
    "start_time": "2022-03-12T18:24:22.400Z"
   },
   {
    "duration": 4,
    "start_time": "2022-03-12T18:24:22.407Z"
   },
   {
    "duration": 4,
    "start_time": "2022-03-12T18:24:22.413Z"
   },
   {
    "duration": 5,
    "start_time": "2022-03-12T18:24:22.419Z"
   },
   {
    "duration": 8,
    "start_time": "2022-03-12T18:24:22.438Z"
   },
   {
    "duration": 4,
    "start_time": "2022-03-12T18:24:22.448Z"
   },
   {
    "duration": 221,
    "start_time": "2022-03-12T18:24:53.890Z"
   },
   {
    "duration": 263,
    "start_time": "2022-03-12T18:25:13.815Z"
   },
   {
    "duration": 300,
    "start_time": "2022-03-12T18:26:44.873Z"
   },
   {
    "duration": 21432,
    "start_time": "2022-03-12T18:29:19.844Z"
   },
   {
    "duration": 233,
    "start_time": "2022-03-12T18:29:57.519Z"
   },
   {
    "duration": 12,
    "start_time": "2022-03-12T18:50:32.947Z"
   },
   {
    "duration": 268,
    "start_time": "2022-03-12T18:53:26.587Z"
   },
   {
    "duration": 172,
    "start_time": "2022-03-12T18:54:31.694Z"
   },
   {
    "duration": 4153,
    "start_time": "2022-03-12T18:54:45.677Z"
   },
   {
    "duration": 19,
    "start_time": "2022-03-12T18:55:00.043Z"
   },
   {
    "duration": 174,
    "start_time": "2022-03-12T18:57:13.058Z"
   },
   {
    "duration": 186,
    "start_time": "2022-03-12T18:57:41.422Z"
   },
   {
    "duration": 12,
    "start_time": "2022-03-12T20:50:31.571Z"
   },
   {
    "duration": 17,
    "start_time": "2022-03-12T20:51:18.621Z"
   },
   {
    "duration": 13,
    "start_time": "2022-03-12T20:52:17.382Z"
   },
   {
    "duration": 19,
    "start_time": "2022-03-12T20:53:55.324Z"
   },
   {
    "duration": 167,
    "start_time": "2022-03-12T20:54:17.981Z"
   },
   {
    "duration": 17,
    "start_time": "2022-03-12T20:55:04.112Z"
   },
   {
    "duration": 1661,
    "start_time": "2022-03-12T20:55:06.707Z"
   },
   {
    "duration": 305,
    "start_time": "2022-03-12T20:55:45.067Z"
   },
   {
    "duration": 284,
    "start_time": "2022-03-12T21:05:38.426Z"
   },
   {
    "duration": 253,
    "start_time": "2022-03-12T21:08:00.320Z"
   },
   {
    "duration": 249,
    "start_time": "2022-03-12T21:09:27.467Z"
   },
   {
    "duration": 257,
    "start_time": "2022-03-12T21:10:08.598Z"
   },
   {
    "duration": 10,
    "start_time": "2022-03-12T21:10:13.840Z"
   },
   {
    "duration": 9,
    "start_time": "2022-03-12T21:10:23.486Z"
   },
   {
    "duration": 309,
    "start_time": "2022-03-12T21:11:40.555Z"
   },
   {
    "duration": 21,
    "start_time": "2022-03-12T21:11:44.557Z"
   },
   {
    "duration": 14,
    "start_time": "2022-03-12T21:11:48.635Z"
   },
   {
    "duration": 10,
    "start_time": "2022-03-12T21:15:13.371Z"
   },
   {
    "duration": 6,
    "start_time": "2022-03-12T21:19:23.347Z"
   },
   {
    "duration": 6,
    "start_time": "2022-03-12T21:20:21.318Z"
   },
   {
    "duration": 173,
    "start_time": "2022-03-12T21:21:32.136Z"
   },
   {
    "duration": 8,
    "start_time": "2022-03-12T21:22:12.399Z"
   },
   {
    "duration": 12,
    "start_time": "2022-03-12T21:23:22.117Z"
   },
   {
    "duration": 209,
    "start_time": "2022-03-12T21:29:00.498Z"
   },
   {
    "duration": 199,
    "start_time": "2022-03-12T21:30:36.172Z"
   },
   {
    "duration": 320,
    "start_time": "2022-03-12T21:31:41.189Z"
   },
   {
    "duration": 207,
    "start_time": "2022-03-12T21:31:45.111Z"
   },
   {
    "duration": 198,
    "start_time": "2022-03-12T21:32:12.791Z"
   },
   {
    "duration": 9,
    "start_time": "2022-03-12T22:00:04.082Z"
   },
   {
    "duration": 240,
    "start_time": "2022-03-12T22:10:31.587Z"
   },
   {
    "duration": 14,
    "start_time": "2022-03-12T22:12:04.206Z"
   },
   {
    "duration": 277,
    "start_time": "2022-03-12T22:13:37.965Z"
   },
   {
    "duration": 281,
    "start_time": "2022-03-12T22:13:40.807Z"
   },
   {
    "duration": 183,
    "start_time": "2022-03-12T22:17:10.982Z"
   },
   {
    "duration": 11,
    "start_time": "2022-03-12T22:17:31.749Z"
   },
   {
    "duration": 189,
    "start_time": "2022-03-12T22:18:43.866Z"
   },
   {
    "duration": 8,
    "start_time": "2022-03-12T22:22:04.203Z"
   },
   {
    "duration": 239,
    "start_time": "2022-03-12T22:25:26.761Z"
   },
   {
    "duration": 16,
    "start_time": "2022-03-12T22:28:10.787Z"
   },
   {
    "duration": 309,
    "start_time": "2022-03-12T22:30:11.990Z"
   },
   {
    "duration": 12,
    "start_time": "2022-03-12T22:33:21.267Z"
   },
   {
    "duration": 202,
    "start_time": "2022-03-12T22:36:52.228Z"
   },
   {
    "duration": 9,
    "start_time": "2022-03-12T22:40:03.047Z"
   },
   {
    "duration": 236,
    "start_time": "2022-03-12T22:41:27.446Z"
   },
   {
    "duration": 13,
    "start_time": "2022-03-12T22:42:52.888Z"
   },
   {
    "duration": 402,
    "start_time": "2022-03-12T22:44:30.503Z"
   },
   {
    "duration": 11,
    "start_time": "2022-03-12T22:52:37.884Z"
   },
   {
    "duration": 212,
    "start_time": "2022-03-12T22:53:29.867Z"
   },
   {
    "duration": 5,
    "start_time": "2022-03-12T23:08:11.596Z"
   },
   {
    "duration": 1694,
    "start_time": "2022-03-13T18:42:34.798Z"
   },
   {
    "duration": 452,
    "start_time": "2022-03-13T18:42:36.495Z"
   },
   {
    "duration": 10,
    "start_time": "2022-03-13T18:42:36.951Z"
   },
   {
    "duration": 32,
    "start_time": "2022-03-13T18:42:36.964Z"
   },
   {
    "duration": 4,
    "start_time": "2022-03-13T18:42:36.999Z"
   },
   {
    "duration": 6,
    "start_time": "2022-03-13T18:42:37.006Z"
   },
   {
    "duration": 7,
    "start_time": "2022-03-13T18:42:37.015Z"
   },
   {
    "duration": 54,
    "start_time": "2022-03-13T18:42:37.027Z"
   },
   {
    "duration": 20,
    "start_time": "2022-03-13T18:42:37.085Z"
   },
   {
    "duration": 11,
    "start_time": "2022-03-13T18:42:37.108Z"
   },
   {
    "duration": 10,
    "start_time": "2022-03-13T18:42:37.122Z"
   },
   {
    "duration": 16,
    "start_time": "2022-03-13T18:42:37.173Z"
   },
   {
    "duration": 58,
    "start_time": "2022-03-13T18:42:37.192Z"
   },
   {
    "duration": 32,
    "start_time": "2022-03-13T18:42:37.253Z"
   },
   {
    "duration": 24,
    "start_time": "2022-03-13T18:42:37.287Z"
   },
   {
    "duration": 72,
    "start_time": "2022-03-13T18:42:37.314Z"
   },
   {
    "duration": 22,
    "start_time": "2022-03-13T18:42:37.388Z"
   },
   {
    "duration": 9,
    "start_time": "2022-03-13T18:42:37.413Z"
   },
   {
    "duration": 54,
    "start_time": "2022-03-13T18:42:37.424Z"
   },
   {
    "duration": 23,
    "start_time": "2022-03-13T18:42:37.481Z"
   },
   {
    "duration": 17,
    "start_time": "2022-03-13T18:42:37.507Z"
   },
   {
    "duration": 55,
    "start_time": "2022-03-13T18:42:37.527Z"
   },
   {
    "duration": 17,
    "start_time": "2022-03-13T18:42:37.588Z"
   },
   {
    "duration": 17,
    "start_time": "2022-03-13T18:42:37.611Z"
   },
   {
    "duration": 50,
    "start_time": "2022-03-13T18:42:37.631Z"
   },
   {
    "duration": 14,
    "start_time": "2022-03-13T18:42:37.684Z"
   },
   {
    "duration": 26,
    "start_time": "2022-03-13T18:42:37.700Z"
   },
   {
    "duration": 47,
    "start_time": "2022-03-13T18:42:37.728Z"
   },
   {
    "duration": 20,
    "start_time": "2022-03-13T18:42:37.777Z"
   },
   {
    "duration": 3,
    "start_time": "2022-03-13T18:42:37.799Z"
   },
   {
    "duration": 15,
    "start_time": "2022-03-13T18:42:37.805Z"
   },
   {
    "duration": 79,
    "start_time": "2022-03-13T18:42:37.822Z"
   },
   {
    "duration": 27,
    "start_time": "2022-03-13T18:42:37.903Z"
   },
   {
    "duration": 56,
    "start_time": "2022-03-13T18:42:37.933Z"
   },
   {
    "duration": 45,
    "start_time": "2022-03-13T18:42:37.991Z"
   },
   {
    "duration": 71,
    "start_time": "2022-03-13T18:42:38.039Z"
   },
   {
    "duration": 34,
    "start_time": "2022-03-13T18:42:38.113Z"
   },
   {
    "duration": 39,
    "start_time": "2022-03-13T18:42:38.149Z"
   },
   {
    "duration": 19,
    "start_time": "2022-03-13T18:42:38.190Z"
   },
   {
    "duration": 13,
    "start_time": "2022-03-13T18:42:38.211Z"
   },
   {
    "duration": 27,
    "start_time": "2022-03-13T18:42:38.227Z"
   },
   {
    "duration": 54,
    "start_time": "2022-03-13T18:42:38.257Z"
   },
   {
    "duration": 40,
    "start_time": "2022-03-13T18:42:38.314Z"
   },
   {
    "duration": 17,
    "start_time": "2022-03-13T18:42:38.356Z"
   },
   {
    "duration": 407,
    "start_time": "2022-03-13T18:42:38.375Z"
   },
   {
    "duration": 20,
    "start_time": "2022-03-13T18:42:38.784Z"
   },
   {
    "duration": 490,
    "start_time": "2022-03-13T18:42:38.806Z"
   },
   {
    "duration": 451,
    "start_time": "2022-03-13T18:42:39.298Z"
   },
   {
    "duration": -104,
    "start_time": "2022-03-13T18:42:39.855Z"
   },
   {
    "duration": -107,
    "start_time": "2022-03-13T18:42:39.860Z"
   },
   {
    "duration": -110,
    "start_time": "2022-03-13T18:42:39.864Z"
   },
   {
    "duration": -113,
    "start_time": "2022-03-13T18:42:39.869Z"
   },
   {
    "duration": -116,
    "start_time": "2022-03-13T18:42:39.873Z"
   },
   {
    "duration": -118,
    "start_time": "2022-03-13T18:42:39.877Z"
   },
   {
    "duration": -120,
    "start_time": "2022-03-13T18:42:39.881Z"
   },
   {
    "duration": -122,
    "start_time": "2022-03-13T18:42:39.884Z"
   },
   {
    "duration": -124,
    "start_time": "2022-03-13T18:42:39.888Z"
   },
   {
    "duration": -128,
    "start_time": "2022-03-13T18:42:39.893Z"
   },
   {
    "duration": -129,
    "start_time": "2022-03-13T18:42:39.896Z"
   },
   {
    "duration": -132,
    "start_time": "2022-03-13T18:42:39.900Z"
   },
   {
    "duration": -133,
    "start_time": "2022-03-13T18:42:39.903Z"
   },
   {
    "duration": -142,
    "start_time": "2022-03-13T18:42:39.914Z"
   },
   {
    "duration": -191,
    "start_time": "2022-03-13T18:42:39.964Z"
   },
   {
    "duration": -210,
    "start_time": "2022-03-13T18:42:39.985Z"
   },
   {
    "duration": -212,
    "start_time": "2022-03-13T18:42:39.988Z"
   },
   {
    "duration": -215,
    "start_time": "2022-03-13T18:42:39.993Z"
   },
   {
    "duration": -217,
    "start_time": "2022-03-13T18:42:39.996Z"
   },
   {
    "duration": -221,
    "start_time": "2022-03-13T18:42:40.001Z"
   },
   {
    "duration": -224,
    "start_time": "2022-03-13T18:42:40.006Z"
   },
   {
    "duration": -228,
    "start_time": "2022-03-13T18:42:40.011Z"
   },
   {
    "duration": -231,
    "start_time": "2022-03-13T18:42:40.015Z"
   },
   {
    "duration": -232,
    "start_time": "2022-03-13T18:42:40.018Z"
   },
   {
    "duration": -235,
    "start_time": "2022-03-13T18:42:40.022Z"
   },
   {
    "duration": 16,
    "start_time": "2022-03-13T18:43:23.352Z"
   },
   {
    "duration": 324,
    "start_time": "2022-03-13T18:43:29.378Z"
   },
   {
    "duration": 11,
    "start_time": "2022-03-13T18:43:34.767Z"
   },
   {
    "duration": 371,
    "start_time": "2022-03-13T18:43:35.971Z"
   },
   {
    "duration": 3,
    "start_time": "2022-03-13T18:43:39.978Z"
   },
   {
    "duration": 23,
    "start_time": "2022-03-13T18:43:40.802Z"
   },
   {
    "duration": 569,
    "start_time": "2022-03-13T18:43:41.664Z"
   },
   {
    "duration": 18,
    "start_time": "2022-03-13T18:43:42.270Z"
   },
   {
    "duration": 352,
    "start_time": "2022-03-13T18:43:42.762Z"
   },
   {
    "duration": 3,
    "start_time": "2022-03-13T18:43:45.477Z"
   },
   {
    "duration": 12,
    "start_time": "2022-03-13T18:43:45.786Z"
   },
   {
    "duration": 394,
    "start_time": "2022-03-13T18:43:46.123Z"
   },
   {
    "duration": 20,
    "start_time": "2022-03-13T18:43:46.674Z"
   },
   {
    "duration": 478,
    "start_time": "2022-03-13T18:43:46.995Z"
   },
   {
    "duration": 16,
    "start_time": "2022-03-13T18:43:47.476Z"
   },
   {
    "duration": 328,
    "start_time": "2022-03-13T18:43:47.738Z"
   },
   {
    "duration": 14,
    "start_time": "2022-03-13T18:43:50.437Z"
   },
   {
    "duration": 382,
    "start_time": "2022-03-13T18:43:50.744Z"
   },
   {
    "duration": 20,
    "start_time": "2022-03-13T18:43:51.129Z"
   },
   {
    "duration": 468,
    "start_time": "2022-03-13T18:43:51.236Z"
   },
   {
    "duration": 16,
    "start_time": "2022-03-13T18:43:51.707Z"
   },
   {
    "duration": 310,
    "start_time": "2022-03-13T18:43:52.256Z"
   },
   {
    "duration": 10,
    "start_time": "2022-03-13T18:43:58.921Z"
   },
   {
    "duration": 461,
    "start_time": "2022-03-13T18:44:17.573Z"
   },
   {
    "duration": 2619,
    "start_time": "2022-03-13T18:44:30.750Z"
   },
   {
    "duration": 12,
    "start_time": "2022-03-13T18:44:42.658Z"
   },
   {
    "duration": 6478,
    "start_time": "2022-03-13T18:45:38.396Z"
   },
   {
    "duration": 13,
    "start_time": "2022-03-13T18:46:28.479Z"
   },
   {
    "duration": 7,
    "start_time": "2022-03-13T18:48:34.202Z"
   },
   {
    "duration": 3,
    "start_time": "2022-03-13T18:54:20.433Z"
   },
   {
    "duration": 8,
    "start_time": "2022-03-13T18:55:31.516Z"
   },
   {
    "duration": 6697,
    "start_time": "2022-03-13T18:55:46.882Z"
   },
   {
    "duration": 390,
    "start_time": "2022-03-13T18:56:50.715Z"
   },
   {
    "duration": 289,
    "start_time": "2022-03-13T18:58:09.083Z"
   },
   {
    "duration": 1616,
    "start_time": "2022-03-13T19:46:18.930Z"
   },
   {
    "duration": 365,
    "start_time": "2022-03-13T19:46:20.549Z"
   },
   {
    "duration": 10,
    "start_time": "2022-03-13T19:46:20.917Z"
   },
   {
    "duration": 20,
    "start_time": "2022-03-13T19:46:20.930Z"
   },
   {
    "duration": 3,
    "start_time": "2022-03-13T19:46:20.952Z"
   },
   {
    "duration": 6,
    "start_time": "2022-03-13T19:46:20.957Z"
   },
   {
    "duration": 7,
    "start_time": "2022-03-13T19:46:20.966Z"
   },
   {
    "duration": 33,
    "start_time": "2022-03-13T19:46:20.975Z"
   },
   {
    "duration": 25,
    "start_time": "2022-03-13T19:46:21.012Z"
   },
   {
    "duration": 40,
    "start_time": "2022-03-13T19:46:21.042Z"
   },
   {
    "duration": 48,
    "start_time": "2022-03-13T19:46:21.085Z"
   },
   {
    "duration": 20,
    "start_time": "2022-03-13T19:46:21.136Z"
   },
   {
    "duration": 66,
    "start_time": "2022-03-13T19:46:21.159Z"
   },
   {
    "duration": 13,
    "start_time": "2022-03-13T19:46:21.228Z"
   },
   {
    "duration": 52,
    "start_time": "2022-03-13T19:46:21.244Z"
   },
   {
    "duration": 42,
    "start_time": "2022-03-13T19:46:21.299Z"
   },
   {
    "duration": 38,
    "start_time": "2022-03-13T19:46:21.344Z"
   },
   {
    "duration": 9,
    "start_time": "2022-03-13T19:46:21.384Z"
   },
   {
    "duration": 37,
    "start_time": "2022-03-13T19:46:21.396Z"
   },
   {
    "duration": 42,
    "start_time": "2022-03-13T19:46:21.435Z"
   },
   {
    "duration": 13,
    "start_time": "2022-03-13T19:46:21.480Z"
   },
   {
    "duration": 26,
    "start_time": "2022-03-13T19:46:21.497Z"
   },
   {
    "duration": 51,
    "start_time": "2022-03-13T19:46:21.525Z"
   },
   {
    "duration": 19,
    "start_time": "2022-03-13T19:46:21.579Z"
   },
   {
    "duration": 19,
    "start_time": "2022-03-13T19:46:21.602Z"
   },
   {
    "duration": 50,
    "start_time": "2022-03-13T19:46:21.624Z"
   },
   {
    "duration": 27,
    "start_time": "2022-03-13T19:46:21.683Z"
   },
   {
    "duration": 17,
    "start_time": "2022-03-13T19:46:21.714Z"
   },
   {
    "duration": 48,
    "start_time": "2022-03-13T19:46:21.734Z"
   },
   {
    "duration": 3,
    "start_time": "2022-03-13T19:46:21.784Z"
   },
   {
    "duration": 14,
    "start_time": "2022-03-13T19:46:21.790Z"
   },
   {
    "duration": 78,
    "start_time": "2022-03-13T19:46:21.807Z"
   },
   {
    "duration": 29,
    "start_time": "2022-03-13T19:46:21.888Z"
   },
   {
    "duration": 57,
    "start_time": "2022-03-13T19:46:21.920Z"
   },
   {
    "duration": 34,
    "start_time": "2022-03-13T19:46:21.980Z"
   },
   {
    "duration": 75,
    "start_time": "2022-03-13T19:46:22.017Z"
   },
   {
    "duration": 34,
    "start_time": "2022-03-13T19:46:22.095Z"
   },
   {
    "duration": 16,
    "start_time": "2022-03-13T19:46:22.131Z"
   },
   {
    "duration": 10,
    "start_time": "2022-03-13T19:46:22.174Z"
   },
   {
    "duration": 9,
    "start_time": "2022-03-13T19:46:22.188Z"
   },
   {
    "duration": 9,
    "start_time": "2022-03-13T19:46:22.200Z"
   },
   {
    "duration": 29,
    "start_time": "2022-03-13T19:46:22.212Z"
   },
   {
    "duration": 21,
    "start_time": "2022-03-13T19:46:22.274Z"
   },
   {
    "duration": 11,
    "start_time": "2022-03-13T19:46:22.298Z"
   },
   {
    "duration": 432,
    "start_time": "2022-03-13T19:46:22.311Z"
   },
   {
    "duration": 33,
    "start_time": "2022-03-13T19:46:22.745Z"
   },
   {
    "duration": 510,
    "start_time": "2022-03-13T19:46:22.781Z"
   },
   {
    "duration": 17,
    "start_time": "2022-03-13T19:46:23.293Z"
   },
   {
    "duration": 363,
    "start_time": "2022-03-13T19:46:23.313Z"
   },
   {
    "duration": 14,
    "start_time": "2022-03-13T19:46:23.679Z"
   },
   {
    "duration": 435,
    "start_time": "2022-03-13T19:46:23.696Z"
   },
   {
    "duration": 3,
    "start_time": "2022-03-13T19:46:24.134Z"
   },
   {
    "duration": 37,
    "start_time": "2022-03-13T19:46:24.140Z"
   },
   {
    "duration": 546,
    "start_time": "2022-03-13T19:46:24.180Z"
   },
   {
    "duration": 17,
    "start_time": "2022-03-13T19:46:24.729Z"
   },
   {
    "duration": 352,
    "start_time": "2022-03-13T19:46:24.749Z"
   },
   {
    "duration": 3,
    "start_time": "2022-03-13T19:46:25.104Z"
   },
   {
    "duration": 16,
    "start_time": "2022-03-13T19:46:25.110Z"
   },
   {
    "duration": 434,
    "start_time": "2022-03-13T19:46:25.128Z"
   },
   {
    "duration": 25,
    "start_time": "2022-03-13T19:46:25.565Z"
   },
   {
    "duration": 524,
    "start_time": "2022-03-13T19:46:25.592Z"
   },
   {
    "duration": 16,
    "start_time": "2022-03-13T19:46:26.119Z"
   },
   {
    "duration": 357,
    "start_time": "2022-03-13T19:46:26.137Z"
   },
   {
    "duration": 12,
    "start_time": "2022-03-13T19:46:26.496Z"
   },
   {
    "duration": 407,
    "start_time": "2022-03-13T19:46:26.510Z"
   },
   {
    "duration": 19,
    "start_time": "2022-03-13T19:46:26.920Z"
   },
   {
    "duration": 504,
    "start_time": "2022-03-13T19:46:26.942Z"
   },
   {
    "duration": 32,
    "start_time": "2022-03-13T19:46:27.449Z"
   },
   {
    "duration": 336,
    "start_time": "2022-03-13T19:46:27.483Z"
   },
   {
    "duration": 11,
    "start_time": "2022-03-13T19:46:27.821Z"
   },
   {
    "duration": 10,
    "start_time": "2022-03-13T19:46:27.835Z"
   },
   {
    "duration": 8,
    "start_time": "2022-03-13T19:46:27.874Z"
   },
   {
    "duration": 19,
    "start_time": "2022-03-13T19:46:27.885Z"
   },
   {
    "duration": 2,
    "start_time": "2022-03-13T19:46:27.907Z"
   },
   {
    "duration": 431,
    "start_time": "2022-03-13T19:49:16.468Z"
   },
   {
    "duration": 305,
    "start_time": "2022-03-13T19:49:27.974Z"
   },
   {
    "duration": 303,
    "start_time": "2022-03-13T19:49:52.267Z"
   },
   {
    "duration": 283,
    "start_time": "2022-03-13T19:51:33.371Z"
   },
   {
    "duration": 273,
    "start_time": "2022-03-13T19:53:21.884Z"
   },
   {
    "duration": 295,
    "start_time": "2022-03-13T19:57:25.513Z"
   },
   {
    "duration": 281,
    "start_time": "2022-03-13T20:04:32.931Z"
   },
   {
    "duration": 278,
    "start_time": "2022-03-13T20:04:44.669Z"
   },
   {
    "duration": 468,
    "start_time": "2022-03-13T20:05:02.370Z"
   },
   {
    "duration": 402,
    "start_time": "2022-03-13T20:05:46.548Z"
   },
   {
    "duration": 13,
    "start_time": "2022-03-13T20:08:45.044Z"
   },
   {
    "duration": 21,
    "start_time": "2022-03-13T20:09:03.800Z"
   },
   {
    "duration": 23,
    "start_time": "2022-03-13T20:09:46.435Z"
   },
   {
    "duration": 1545,
    "start_time": "2022-03-13T20:09:59.278Z"
   },
   {
    "duration": 385,
    "start_time": "2022-03-13T20:10:00.826Z"
   },
   {
    "duration": 10,
    "start_time": "2022-03-13T20:10:01.215Z"
   },
   {
    "duration": 39,
    "start_time": "2022-03-13T20:10:01.230Z"
   },
   {
    "duration": 22,
    "start_time": "2022-03-13T20:10:01.273Z"
   },
   {
    "duration": 12,
    "start_time": "2022-03-13T20:10:01.298Z"
   },
   {
    "duration": 11,
    "start_time": "2022-03-13T20:10:01.313Z"
   },
   {
    "duration": 47,
    "start_time": "2022-03-13T20:10:01.329Z"
   },
   {
    "duration": 43,
    "start_time": "2022-03-13T20:10:01.380Z"
   },
   {
    "duration": 22,
    "start_time": "2022-03-13T20:10:01.426Z"
   },
   {
    "duration": 15,
    "start_time": "2022-03-13T20:10:01.451Z"
   },
   {
    "duration": 33,
    "start_time": "2022-03-13T20:10:01.469Z"
   },
   {
    "duration": 67,
    "start_time": "2022-03-13T20:10:01.505Z"
   },
   {
    "duration": 14,
    "start_time": "2022-03-13T20:10:01.574Z"
   },
   {
    "duration": 37,
    "start_time": "2022-03-13T20:10:01.590Z"
   },
   {
    "duration": 53,
    "start_time": "2022-03-13T20:10:01.629Z"
   },
   {
    "duration": 22,
    "start_time": "2022-03-13T20:10:01.685Z"
   },
   {
    "duration": 10,
    "start_time": "2022-03-13T20:10:01.709Z"
   },
   {
    "duration": 63,
    "start_time": "2022-03-13T20:10:01.722Z"
   },
   {
    "duration": 17,
    "start_time": "2022-03-13T20:10:01.787Z"
   },
   {
    "duration": 13,
    "start_time": "2022-03-13T20:10:01.808Z"
   },
   {
    "duration": 55,
    "start_time": "2022-03-13T20:10:01.824Z"
   },
   {
    "duration": 17,
    "start_time": "2022-03-13T20:10:01.885Z"
   },
   {
    "duration": 21,
    "start_time": "2022-03-13T20:10:01.906Z"
   },
   {
    "duration": 49,
    "start_time": "2022-03-13T20:10:01.929Z"
   },
   {
    "duration": 16,
    "start_time": "2022-03-13T20:10:01.980Z"
   },
   {
    "duration": 26,
    "start_time": "2022-03-13T20:10:01.999Z"
   },
   {
    "duration": 55,
    "start_time": "2022-03-13T20:10:02.028Z"
   },
   {
    "duration": 20,
    "start_time": "2022-03-13T20:10:02.085Z"
   },
   {
    "duration": 3,
    "start_time": "2022-03-13T20:10:02.107Z"
   },
   {
    "duration": 16,
    "start_time": "2022-03-13T20:10:02.113Z"
   },
   {
    "duration": 50,
    "start_time": "2022-03-13T20:10:02.172Z"
   },
   {
    "duration": 59,
    "start_time": "2022-03-13T20:10:02.225Z"
   },
   {
    "duration": 32,
    "start_time": "2022-03-13T20:10:02.286Z"
   },
   {
    "duration": 66,
    "start_time": "2022-03-13T20:10:02.320Z"
   },
   {
    "duration": 49,
    "start_time": "2022-03-13T20:10:02.388Z"
   },
   {
    "duration": 57,
    "start_time": "2022-03-13T20:10:02.439Z"
   },
   {
    "duration": 17,
    "start_time": "2022-03-13T20:10:02.498Z"
   },
   {
    "duration": 18,
    "start_time": "2022-03-13T20:10:02.518Z"
   },
   {
    "duration": 34,
    "start_time": "2022-03-13T20:10:02.541Z"
   },
   {
    "duration": 11,
    "start_time": "2022-03-13T20:10:02.578Z"
   },
   {
    "duration": 30,
    "start_time": "2022-03-13T20:10:02.592Z"
   },
   {
    "duration": 30,
    "start_time": "2022-03-13T20:10:02.624Z"
   },
   {
    "duration": 14,
    "start_time": "2022-03-13T20:10:02.674Z"
   },
   {
    "duration": 427,
    "start_time": "2022-03-13T20:10:02.690Z"
   },
   {
    "duration": 22,
    "start_time": "2022-03-13T20:10:03.120Z"
   },
   {
    "duration": 504,
    "start_time": "2022-03-13T20:10:03.144Z"
   },
   {
    "duration": 28,
    "start_time": "2022-03-13T20:10:03.651Z"
   },
   {
    "duration": 367,
    "start_time": "2022-03-13T20:10:03.682Z"
   },
   {
    "duration": 24,
    "start_time": "2022-03-13T20:10:04.051Z"
   },
   {
    "duration": 411,
    "start_time": "2022-03-13T20:10:04.077Z"
   },
   {
    "duration": 3,
    "start_time": "2022-03-13T20:10:04.491Z"
   },
   {
    "duration": 24,
    "start_time": "2022-03-13T20:10:04.496Z"
   },
   {
    "duration": 584,
    "start_time": "2022-03-13T20:10:04.523Z"
   },
   {
    "duration": 19,
    "start_time": "2022-03-13T20:10:05.111Z"
   },
   {
    "duration": 372,
    "start_time": "2022-03-13T20:10:05.134Z"
   },
   {
    "duration": 3,
    "start_time": "2022-03-13T20:10:05.509Z"
   },
   {
    "duration": 16,
    "start_time": "2022-03-13T20:10:05.515Z"
   },
   {
    "duration": 432,
    "start_time": "2022-03-13T20:10:05.534Z"
   },
   {
    "duration": 21,
    "start_time": "2022-03-13T20:10:05.974Z"
   },
   {
    "duration": 500,
    "start_time": "2022-03-13T20:10:05.997Z"
   },
   {
    "duration": 18,
    "start_time": "2022-03-13T20:10:06.500Z"
   },
   {
    "duration": 465,
    "start_time": "2022-03-13T20:10:06.520Z"
   },
   {
    "duration": 12,
    "start_time": "2022-03-13T20:10:06.988Z"
   },
   {
    "duration": 420,
    "start_time": "2022-03-13T20:10:07.003Z"
   },
   {
    "duration": 24,
    "start_time": "2022-03-13T20:10:07.425Z"
   },
   {
    "duration": 511,
    "start_time": "2022-03-13T20:10:07.452Z"
   },
   {
    "duration": 20,
    "start_time": "2022-03-13T20:10:07.976Z"
   },
   {
    "duration": 350,
    "start_time": "2022-03-13T20:10:07.999Z"
   },
   {
    "duration": 28,
    "start_time": "2022-03-13T20:10:08.352Z"
   },
   {
    "duration": 32,
    "start_time": "2022-03-13T20:10:08.382Z"
   },
   {
    "duration": 7,
    "start_time": "2022-03-13T20:10:08.417Z"
   },
   {
    "duration": 44,
    "start_time": "2022-03-13T20:10:08.427Z"
   },
   {
    "duration": 480,
    "start_time": "2022-03-13T20:10:08.473Z"
   },
   {
    "duration": -133,
    "start_time": "2022-03-13T20:10:09.089Z"
   },
   {
    "duration": -135,
    "start_time": "2022-03-13T20:10:09.093Z"
   },
   {
    "duration": 22,
    "start_time": "2022-03-13T20:10:38.158Z"
   },
   {
    "duration": 25,
    "start_time": "2022-03-13T20:13:49.605Z"
   },
   {
    "duration": 14,
    "start_time": "2022-03-13T20:14:31.419Z"
   },
   {
    "duration": 12,
    "start_time": "2022-03-13T20:15:57.821Z"
   },
   {
    "duration": 5,
    "start_time": "2022-03-13T20:16:15.488Z"
   },
   {
    "duration": 6,
    "start_time": "2022-03-13T20:16:33.154Z"
   },
   {
    "duration": 5,
    "start_time": "2022-03-13T20:16:39.626Z"
   },
   {
    "duration": 7,
    "start_time": "2022-03-13T20:17:45.637Z"
   },
   {
    "duration": 6,
    "start_time": "2022-03-13T20:19:18.999Z"
   },
   {
    "duration": 7,
    "start_time": "2022-03-13T20:19:29.317Z"
   },
   {
    "duration": 6,
    "start_time": "2022-03-13T20:19:39.646Z"
   },
   {
    "duration": 7,
    "start_time": "2022-03-13T20:19:45.024Z"
   },
   {
    "duration": 1550,
    "start_time": "2022-03-14T00:23:33.603Z"
   },
   {
    "duration": 391,
    "start_time": "2022-03-14T00:23:35.156Z"
   },
   {
    "duration": 11,
    "start_time": "2022-03-14T00:23:35.550Z"
   },
   {
    "duration": 25,
    "start_time": "2022-03-14T00:23:35.564Z"
   },
   {
    "duration": 34,
    "start_time": "2022-03-14T00:23:35.592Z"
   },
   {
    "duration": 19,
    "start_time": "2022-03-14T00:23:35.628Z"
   },
   {
    "duration": 32,
    "start_time": "2022-03-14T00:23:35.649Z"
   },
   {
    "duration": 30,
    "start_time": "2022-03-14T00:23:35.683Z"
   },
   {
    "duration": 31,
    "start_time": "2022-03-14T00:23:35.717Z"
   },
   {
    "duration": 73,
    "start_time": "2022-03-14T00:23:35.751Z"
   },
   {
    "duration": 13,
    "start_time": "2022-03-14T00:23:35.827Z"
   },
   {
    "duration": 46,
    "start_time": "2022-03-14T00:23:35.843Z"
   },
   {
    "duration": 36,
    "start_time": "2022-03-14T00:23:35.892Z"
   },
   {
    "duration": 42,
    "start_time": "2022-03-14T00:23:35.930Z"
   },
   {
    "duration": 8,
    "start_time": "2022-03-14T00:23:35.975Z"
   },
   {
    "duration": 28,
    "start_time": "2022-03-14T00:23:35.985Z"
   },
   {
    "duration": 15,
    "start_time": "2022-03-14T00:23:36.016Z"
   },
   {
    "duration": 46,
    "start_time": "2022-03-14T00:23:36.034Z"
   },
   {
    "duration": 27,
    "start_time": "2022-03-14T00:23:36.083Z"
   },
   {
    "duration": 19,
    "start_time": "2022-03-14T00:23:36.113Z"
   },
   {
    "duration": 50,
    "start_time": "2022-03-14T00:23:36.135Z"
   },
   {
    "duration": 28,
    "start_time": "2022-03-14T00:23:36.188Z"
   },
   {
    "duration": 29,
    "start_time": "2022-03-14T00:23:36.220Z"
   },
   {
    "duration": 36,
    "start_time": "2022-03-14T00:23:36.251Z"
   },
   {
    "duration": 18,
    "start_time": "2022-03-14T00:23:36.289Z"
   },
   {
    "duration": 31,
    "start_time": "2022-03-14T00:23:36.309Z"
   },
   {
    "duration": 29,
    "start_time": "2022-03-14T00:23:36.346Z"
   },
   {
    "duration": 48,
    "start_time": "2022-03-14T00:23:36.378Z"
   },
   {
    "duration": 53,
    "start_time": "2022-03-14T00:23:36.428Z"
   },
   {
    "duration": 32,
    "start_time": "2022-03-14T00:23:36.483Z"
   },
   {
    "duration": 59,
    "start_time": "2022-03-14T00:23:36.518Z"
   },
   {
    "duration": 46,
    "start_time": "2022-03-14T00:23:36.579Z"
   },
   {
    "duration": 56,
    "start_time": "2022-03-14T00:23:36.628Z"
   },
   {
    "duration": 40,
    "start_time": "2022-03-14T00:23:36.687Z"
   },
   {
    "duration": 22,
    "start_time": "2022-03-14T00:23:36.730Z"
   },
   {
    "duration": 38,
    "start_time": "2022-03-14T00:23:36.755Z"
   },
   {
    "duration": 36,
    "start_time": "2022-03-14T00:23:36.796Z"
   },
   {
    "duration": 28,
    "start_time": "2022-03-14T00:23:36.835Z"
   },
   {
    "duration": 21,
    "start_time": "2022-03-14T00:23:36.866Z"
   },
   {
    "duration": 14,
    "start_time": "2022-03-14T00:23:36.890Z"
   },
   {
    "duration": 408,
    "start_time": "2022-03-14T00:23:36.907Z"
   },
   {
    "duration": 19,
    "start_time": "2022-03-14T00:23:37.318Z"
   },
   {
    "duration": 480,
    "start_time": "2022-03-14T00:23:37.340Z"
   },
   {
    "duration": 16,
    "start_time": "2022-03-14T00:23:37.822Z"
   },
   {
    "duration": 349,
    "start_time": "2022-03-14T00:23:37.840Z"
   },
   {
    "duration": 11,
    "start_time": "2022-03-14T00:23:38.192Z"
   },
   {
    "duration": 385,
    "start_time": "2022-03-14T00:23:38.205Z"
   },
   {
    "duration": 20,
    "start_time": "2022-03-14T00:23:38.593Z"
   },
   {
    "duration": 609,
    "start_time": "2022-03-14T00:23:38.616Z"
   },
   {
    "duration": 18,
    "start_time": "2022-03-14T00:23:39.229Z"
   },
   {
    "duration": 341,
    "start_time": "2022-03-14T00:23:39.249Z"
   },
   {
    "duration": 10,
    "start_time": "2022-03-14T00:23:39.593Z"
   },
   {
    "duration": 403,
    "start_time": "2022-03-14T00:23:39.606Z"
   },
   {
    "duration": 23,
    "start_time": "2022-03-14T00:23:40.011Z"
   },
   {
    "duration": 527,
    "start_time": "2022-03-14T00:23:40.037Z"
   },
   {
    "duration": 19,
    "start_time": "2022-03-14T00:23:40.574Z"
   },
   {
    "duration": 352,
    "start_time": "2022-03-14T00:23:40.596Z"
   },
   {
    "duration": 27,
    "start_time": "2022-03-14T00:23:40.951Z"
   },
   {
    "duration": 404,
    "start_time": "2022-03-14T00:23:40.981Z"
   },
   {
    "duration": 22,
    "start_time": "2022-03-14T00:23:41.388Z"
   },
   {
    "duration": 505,
    "start_time": "2022-03-14T00:23:41.413Z"
   },
   {
    "duration": 17,
    "start_time": "2022-03-14T00:23:41.922Z"
   },
   {
    "duration": 339,
    "start_time": "2022-03-14T00:23:41.941Z"
   },
   {
    "duration": 11,
    "start_time": "2022-03-14T00:23:42.282Z"
   },
   {
    "duration": 37,
    "start_time": "2022-03-14T00:23:42.295Z"
   },
   {
    "duration": 37,
    "start_time": "2022-03-14T00:23:42.335Z"
   },
   {
    "duration": 27,
    "start_time": "2022-03-14T00:23:42.375Z"
   },
   {
    "duration": 20,
    "start_time": "2022-03-14T00:23:42.404Z"
   },
   {
    "duration": 22,
    "start_time": "2022-03-14T00:23:42.427Z"
   },
   {
    "duration": 23,
    "start_time": "2022-03-14T00:23:42.452Z"
   },
   {
    "duration": 1249,
    "start_time": "2022-03-14T19:05:36.980Z"
   },
   {
    "duration": 262,
    "start_time": "2022-03-14T19:05:38.231Z"
   },
   {
    "duration": 11,
    "start_time": "2022-03-14T19:05:38.495Z"
   },
   {
    "duration": 13,
    "start_time": "2022-03-14T19:05:38.508Z"
   },
   {
    "duration": 19,
    "start_time": "2022-03-14T19:05:38.522Z"
   },
   {
    "duration": 11,
    "start_time": "2022-03-14T19:05:38.542Z"
   },
   {
    "duration": 12,
    "start_time": "2022-03-14T19:05:38.554Z"
   },
   {
    "duration": 6,
    "start_time": "2022-03-14T19:05:38.568Z"
   },
   {
    "duration": 8,
    "start_time": "2022-03-14T19:05:38.575Z"
   },
   {
    "duration": 51,
    "start_time": "2022-03-14T19:05:38.585Z"
   },
   {
    "duration": 33,
    "start_time": "2022-03-14T19:05:38.638Z"
   },
   {
    "duration": 14,
    "start_time": "2022-03-14T19:05:38.672Z"
   },
   {
    "duration": 24,
    "start_time": "2022-03-14T19:05:38.688Z"
   },
   {
    "duration": 14,
    "start_time": "2022-03-14T19:05:38.714Z"
   },
   {
    "duration": 34,
    "start_time": "2022-03-14T19:05:38.730Z"
   },
   {
    "duration": 16,
    "start_time": "2022-03-14T19:05:38.766Z"
   },
   {
    "duration": 13,
    "start_time": "2022-03-14T19:05:38.783Z"
   },
   {
    "duration": 9,
    "start_time": "2022-03-14T19:05:38.797Z"
   },
   {
    "duration": 16,
    "start_time": "2022-03-14T19:05:38.807Z"
   },
   {
    "duration": 41,
    "start_time": "2022-03-14T19:05:38.824Z"
   },
   {
    "duration": 16,
    "start_time": "2022-03-14T19:05:38.867Z"
   },
   {
    "duration": 8,
    "start_time": "2022-03-14T19:05:38.884Z"
   },
   {
    "duration": 9,
    "start_time": "2022-03-14T19:05:38.896Z"
   },
   {
    "duration": 18,
    "start_time": "2022-03-14T19:05:38.908Z"
   },
   {
    "duration": 43,
    "start_time": "2022-03-14T19:05:38.927Z"
   },
   {
    "duration": 13,
    "start_time": "2022-03-14T19:05:38.972Z"
   },
   {
    "duration": 8,
    "start_time": "2022-03-14T19:05:38.986Z"
   },
   {
    "duration": 36,
    "start_time": "2022-03-14T19:05:38.995Z"
   },
   {
    "duration": 40,
    "start_time": "2022-03-14T19:05:39.033Z"
   },
   {
    "duration": 20,
    "start_time": "2022-03-14T19:05:39.075Z"
   },
   {
    "duration": 19,
    "start_time": "2022-03-14T19:05:39.097Z"
   },
   {
    "duration": 46,
    "start_time": "2022-03-14T19:05:39.118Z"
   },
   {
    "duration": 17,
    "start_time": "2022-03-14T19:05:39.165Z"
   },
   {
    "duration": 10,
    "start_time": "2022-03-14T19:05:39.183Z"
   },
   {
    "duration": 4,
    "start_time": "2022-03-14T19:05:39.194Z"
   },
   {
    "duration": 5,
    "start_time": "2022-03-14T19:05:39.200Z"
   },
   {
    "duration": 5,
    "start_time": "2022-03-14T19:05:39.206Z"
   },
   {
    "duration": 17,
    "start_time": "2022-03-14T19:05:39.212Z"
   },
   {
    "duration": 12,
    "start_time": "2022-03-14T19:05:39.263Z"
   },
   {
    "duration": 8,
    "start_time": "2022-03-14T19:05:39.277Z"
   },
   {
    "duration": 1034,
    "start_time": "2022-03-14T19:05:39.286Z"
   },
   {
    "duration": 11,
    "start_time": "2022-03-14T19:05:40.322Z"
   },
   {
    "duration": 269,
    "start_time": "2022-03-14T19:05:40.335Z"
   },
   {
    "duration": 10,
    "start_time": "2022-03-14T19:05:40.606Z"
   },
   {
    "duration": 204,
    "start_time": "2022-03-14T19:05:40.617Z"
   },
   {
    "duration": 6,
    "start_time": "2022-03-14T19:05:40.823Z"
   },
   {
    "duration": 277,
    "start_time": "2022-03-14T19:05:40.831Z"
   },
   {
    "duration": 12,
    "start_time": "2022-03-14T19:05:41.110Z"
   },
   {
    "duration": 271,
    "start_time": "2022-03-14T19:05:41.123Z"
   },
   {
    "duration": 9,
    "start_time": "2022-03-14T19:05:41.396Z"
   },
   {
    "duration": 192,
    "start_time": "2022-03-14T19:05:41.407Z"
   },
   {
    "duration": 8,
    "start_time": "2022-03-14T19:05:41.600Z"
   },
   {
    "duration": 224,
    "start_time": "2022-03-14T19:05:41.609Z"
   },
   {
    "duration": 12,
    "start_time": "2022-03-14T19:05:41.835Z"
   },
   {
    "duration": 264,
    "start_time": "2022-03-14T19:05:41.863Z"
   },
   {
    "duration": 12,
    "start_time": "2022-03-14T19:05:42.129Z"
   },
   {
    "duration": 195,
    "start_time": "2022-03-14T19:05:42.142Z"
   },
   {
    "duration": 7,
    "start_time": "2022-03-14T19:05:42.338Z"
   },
   {
    "duration": 216,
    "start_time": "2022-03-14T19:05:42.346Z"
   },
   {
    "duration": 11,
    "start_time": "2022-03-14T19:05:42.564Z"
   },
   {
    "duration": 276,
    "start_time": "2022-03-14T19:05:42.576Z"
   },
   {
    "duration": 16,
    "start_time": "2022-03-14T19:05:42.853Z"
   },
   {
    "duration": 185,
    "start_time": "2022-03-14T19:05:42.871Z"
   },
   {
    "duration": 7,
    "start_time": "2022-03-14T19:05:43.062Z"
   },
   {
    "duration": 9,
    "start_time": "2022-03-14T19:05:43.071Z"
   },
   {
    "duration": 6,
    "start_time": "2022-03-14T19:05:43.081Z"
   },
   {
    "duration": 12,
    "start_time": "2022-03-14T19:05:43.088Z"
   },
   {
    "duration": 7,
    "start_time": "2022-03-14T19:05:43.104Z"
   },
   {
    "duration": 7,
    "start_time": "2022-03-14T19:05:43.112Z"
   },
   {
    "duration": 5,
    "start_time": "2022-03-14T19:05:43.163Z"
   },
   {
    "duration": 6,
    "start_time": "2022-03-14T19:11:00.025Z"
   },
   {
    "duration": 323,
    "start_time": "2022-03-14T19:12:36.762Z"
   },
   {
    "duration": 4,
    "start_time": "2022-03-14T19:12:45.935Z"
   },
   {
    "duration": 14,
    "start_time": "2022-03-14T19:12:47.923Z"
   },
   {
    "duration": 15,
    "start_time": "2022-03-14T19:12:55.044Z"
   },
   {
    "duration": 241,
    "start_time": "2022-03-14T22:43:22.240Z"
   },
   {
    "duration": 1089,
    "start_time": "2022-03-14T22:43:31.583Z"
   },
   {
    "duration": 302,
    "start_time": "2022-03-14T22:43:32.674Z"
   },
   {
    "duration": 7,
    "start_time": "2022-03-14T22:43:32.978Z"
   },
   {
    "duration": 16,
    "start_time": "2022-03-14T22:43:32.987Z"
   },
   {
    "duration": 31,
    "start_time": "2022-03-14T22:43:33.004Z"
   },
   {
    "duration": 11,
    "start_time": "2022-03-14T22:43:33.037Z"
   },
   {
    "duration": 12,
    "start_time": "2022-03-14T22:43:33.050Z"
   },
   {
    "duration": 6,
    "start_time": "2022-03-14T22:43:33.064Z"
   },
   {
    "duration": 8,
    "start_time": "2022-03-14T22:43:33.072Z"
   },
   {
    "duration": 44,
    "start_time": "2022-03-14T22:43:33.082Z"
   },
   {
    "duration": 17,
    "start_time": "2022-03-14T22:43:33.128Z"
   },
   {
    "duration": 20,
    "start_time": "2022-03-14T22:43:33.147Z"
   },
   {
    "duration": 23,
    "start_time": "2022-03-14T22:43:33.169Z"
   },
   {
    "duration": 14,
    "start_time": "2022-03-14T22:43:33.193Z"
   },
   {
    "duration": 31,
    "start_time": "2022-03-14T22:43:33.208Z"
   },
   {
    "duration": 16,
    "start_time": "2022-03-14T22:43:33.240Z"
   },
   {
    "duration": 11,
    "start_time": "2022-03-14T22:43:33.257Z"
   },
   {
    "duration": 8,
    "start_time": "2022-03-14T22:43:33.269Z"
   },
   {
    "duration": 17,
    "start_time": "2022-03-14T22:43:33.278Z"
   },
   {
    "duration": 11,
    "start_time": "2022-03-14T22:43:33.296Z"
   },
   {
    "duration": 13,
    "start_time": "2022-03-14T22:43:33.338Z"
   },
   {
    "duration": 11,
    "start_time": "2022-03-14T22:43:33.353Z"
   },
   {
    "duration": 11,
    "start_time": "2022-03-14T22:43:33.366Z"
   },
   {
    "duration": 17,
    "start_time": "2022-03-14T22:43:33.379Z"
   },
   {
    "duration": 41,
    "start_time": "2022-03-14T22:43:33.398Z"
   },
   {
    "duration": 13,
    "start_time": "2022-03-14T22:43:33.441Z"
   },
   {
    "duration": 8,
    "start_time": "2022-03-14T22:43:33.458Z"
   },
   {
    "duration": 42,
    "start_time": "2022-03-14T22:43:33.468Z"
   },
   {
    "duration": 36,
    "start_time": "2022-03-14T22:43:33.511Z"
   },
   {
    "duration": 22,
    "start_time": "2022-03-14T22:43:33.549Z"
   },
   {
    "duration": 21,
    "start_time": "2022-03-14T22:43:33.573Z"
   },
   {
    "duration": 49,
    "start_time": "2022-03-14T22:43:33.595Z"
   },
   {
    "duration": 21,
    "start_time": "2022-03-14T22:43:33.646Z"
   },
   {
    "duration": 11,
    "start_time": "2022-03-14T22:43:33.668Z"
   },
   {
    "duration": 4,
    "start_time": "2022-03-14T22:43:33.681Z"
   },
   {
    "duration": 6,
    "start_time": "2022-03-14T22:43:33.687Z"
   },
   {
    "duration": 6,
    "start_time": "2022-03-14T22:43:33.695Z"
   },
   {
    "duration": 47,
    "start_time": "2022-03-14T22:43:33.702Z"
   },
   {
    "duration": 19,
    "start_time": "2022-03-14T22:43:33.751Z"
   },
   {
    "duration": 10,
    "start_time": "2022-03-14T22:43:33.771Z"
   },
   {
    "duration": 243,
    "start_time": "2022-03-14T22:43:33.783Z"
   },
   {
    "duration": 18,
    "start_time": "2022-03-14T22:43:34.028Z"
   },
   {
    "duration": 298,
    "start_time": "2022-03-14T22:43:34.048Z"
   },
   {
    "duration": 12,
    "start_time": "2022-03-14T22:43:34.348Z"
   },
   {
    "duration": 234,
    "start_time": "2022-03-14T22:43:34.362Z"
   },
   {
    "duration": 9,
    "start_time": "2022-03-14T22:43:34.598Z"
   },
   {
    "duration": 256,
    "start_time": "2022-03-14T22:43:34.609Z"
   },
   {
    "duration": 15,
    "start_time": "2022-03-14T22:43:34.866Z"
   },
   {
    "duration": 377,
    "start_time": "2022-03-14T22:43:34.883Z"
   },
   {
    "duration": 12,
    "start_time": "2022-03-14T22:43:35.262Z"
   },
   {
    "duration": 210,
    "start_time": "2022-03-14T22:43:35.276Z"
   },
   {
    "duration": 10,
    "start_time": "2022-03-14T22:43:35.488Z"
   },
   {
    "duration": 251,
    "start_time": "2022-03-14T22:43:35.500Z"
   },
   {
    "duration": 13,
    "start_time": "2022-03-14T22:43:35.753Z"
   },
   {
    "duration": 302,
    "start_time": "2022-03-14T22:43:35.768Z"
   },
   {
    "duration": 12,
    "start_time": "2022-03-14T22:43:36.073Z"
   },
   {
    "duration": 216,
    "start_time": "2022-03-14T22:43:36.087Z"
   },
   {
    "duration": 9,
    "start_time": "2022-03-14T22:43:36.305Z"
   },
   {
    "duration": 251,
    "start_time": "2022-03-14T22:43:36.316Z"
   },
   {
    "duration": 14,
    "start_time": "2022-03-14T22:43:36.569Z"
   },
   {
    "duration": 304,
    "start_time": "2022-03-14T22:43:36.585Z"
   },
   {
    "duration": 12,
    "start_time": "2022-03-14T22:43:36.891Z"
   },
   {
    "duration": 215,
    "start_time": "2022-03-14T22:43:36.905Z"
   },
   {
    "duration": 18,
    "start_time": "2022-03-14T22:43:37.123Z"
   },
   {
    "duration": 9,
    "start_time": "2022-03-14T22:43:37.143Z"
   },
   {
    "duration": 8,
    "start_time": "2022-03-14T22:43:37.154Z"
   },
   {
    "duration": 15,
    "start_time": "2022-03-14T22:43:37.164Z"
   },
   {
    "duration": 9,
    "start_time": "2022-03-14T22:43:37.181Z"
   },
   {
    "duration": 50,
    "start_time": "2022-03-14T22:43:37.192Z"
   },
   {
    "duration": 5,
    "start_time": "2022-03-14T22:43:37.244Z"
   },
   {
    "duration": 1124,
    "start_time": "2022-03-14T22:45:38.342Z"
   },
   {
    "duration": 267,
    "start_time": "2022-03-14T22:45:39.468Z"
   },
   {
    "duration": 7,
    "start_time": "2022-03-14T22:45:39.737Z"
   },
   {
    "duration": 12,
    "start_time": "2022-03-14T22:45:39.746Z"
   },
   {
    "duration": 20,
    "start_time": "2022-03-14T22:45:39.759Z"
   },
   {
    "duration": 10,
    "start_time": "2022-03-14T22:45:39.781Z"
   },
   {
    "duration": 9,
    "start_time": "2022-03-14T22:45:39.793Z"
   },
   {
    "duration": 6,
    "start_time": "2022-03-14T22:45:39.803Z"
   },
   {
    "duration": 7,
    "start_time": "2022-03-14T22:45:39.839Z"
   },
   {
    "duration": 42,
    "start_time": "2022-03-14T22:45:39.848Z"
   },
   {
    "duration": 8,
    "start_time": "2022-03-14T22:45:39.891Z"
   },
   {
    "duration": 17,
    "start_time": "2022-03-14T22:45:39.901Z"
   },
   {
    "duration": 24,
    "start_time": "2022-03-14T22:45:39.938Z"
   },
   {
    "duration": 16,
    "start_time": "2022-03-14T22:45:39.963Z"
   },
   {
    "duration": 5,
    "start_time": "2022-03-14T22:45:39.981Z"
   },
   {
    "duration": 22,
    "start_time": "2022-03-14T22:45:39.988Z"
   },
   {
    "duration": 33,
    "start_time": "2022-03-14T22:45:40.011Z"
   },
   {
    "duration": 8,
    "start_time": "2022-03-14T22:45:40.046Z"
   },
   {
    "duration": 22,
    "start_time": "2022-03-14T22:45:40.056Z"
   },
   {
    "duration": 12,
    "start_time": "2022-03-14T22:45:40.080Z"
   },
   {
    "duration": 12,
    "start_time": "2022-03-14T22:45:40.094Z"
   },
   {
    "duration": 38,
    "start_time": "2022-03-14T22:45:40.108Z"
   },
   {
    "duration": 15,
    "start_time": "2022-03-14T22:45:40.148Z"
   },
   {
    "duration": 18,
    "start_time": "2022-03-14T22:45:40.164Z"
   },
   {
    "duration": 12,
    "start_time": "2022-03-14T22:45:40.183Z"
   },
   {
    "duration": 42,
    "start_time": "2022-03-14T22:45:40.197Z"
   },
   {
    "duration": 8,
    "start_time": "2022-03-14T22:45:40.242Z"
   },
   {
    "duration": 34,
    "start_time": "2022-03-14T22:45:40.252Z"
   },
   {
    "duration": 19,
    "start_time": "2022-03-14T22:45:40.287Z"
   },
   {
    "duration": 48,
    "start_time": "2022-03-14T22:45:40.307Z"
   },
   {
    "duration": 22,
    "start_time": "2022-03-14T22:45:40.357Z"
   },
   {
    "duration": 30,
    "start_time": "2022-03-14T22:45:40.380Z"
   },
   {
    "duration": 44,
    "start_time": "2022-03-14T22:45:40.411Z"
   },
   {
    "duration": 12,
    "start_time": "2022-03-14T22:45:40.457Z"
   },
   {
    "duration": 6,
    "start_time": "2022-03-14T22:45:40.470Z"
   },
   {
    "duration": 11,
    "start_time": "2022-03-14T22:45:40.478Z"
   },
   {
    "duration": 7,
    "start_time": "2022-03-14T22:45:40.491Z"
   },
   {
    "duration": 44,
    "start_time": "2022-03-14T22:45:40.500Z"
   },
   {
    "duration": 15,
    "start_time": "2022-03-14T22:45:40.546Z"
   },
   {
    "duration": 9,
    "start_time": "2022-03-14T22:45:40.563Z"
   },
   {
    "duration": 252,
    "start_time": "2022-03-14T22:45:40.574Z"
   },
   {
    "duration": 18,
    "start_time": "2022-03-14T22:45:40.827Z"
   },
   {
    "duration": 300,
    "start_time": "2022-03-14T22:45:40.847Z"
   },
   {
    "duration": 11,
    "start_time": "2022-03-14T22:45:41.148Z"
   },
   {
    "duration": 214,
    "start_time": "2022-03-14T22:45:41.160Z"
   },
   {
    "duration": 8,
    "start_time": "2022-03-14T22:45:41.375Z"
   },
   {
    "duration": 246,
    "start_time": "2022-03-14T22:45:41.384Z"
   },
   {
    "duration": 17,
    "start_time": "2022-03-14T22:45:41.632Z"
   },
   {
    "duration": 362,
    "start_time": "2022-03-14T22:45:41.651Z"
   },
   {
    "duration": 10,
    "start_time": "2022-03-14T22:45:42.015Z"
   },
   {
    "duration": 210,
    "start_time": "2022-03-14T22:45:42.027Z"
   },
   {
    "duration": 8,
    "start_time": "2022-03-14T22:45:42.239Z"
   },
   {
    "duration": 253,
    "start_time": "2022-03-14T22:45:42.249Z"
   },
   {
    "duration": 14,
    "start_time": "2022-03-14T22:45:42.503Z"
   },
   {
    "duration": 307,
    "start_time": "2022-03-14T22:45:42.519Z"
   },
   {
    "duration": 15,
    "start_time": "2022-03-14T22:45:42.828Z"
   },
   {
    "duration": 207,
    "start_time": "2022-03-14T22:45:42.845Z"
   },
   {
    "duration": 9,
    "start_time": "2022-03-14T22:45:43.055Z"
   },
   {
    "duration": 245,
    "start_time": "2022-03-14T22:45:43.066Z"
   },
   {
    "duration": 12,
    "start_time": "2022-03-14T22:45:43.313Z"
   },
   {
    "duration": 300,
    "start_time": "2022-03-14T22:45:43.327Z"
   },
   {
    "duration": 11,
    "start_time": "2022-03-14T22:45:43.637Z"
   },
   {
    "duration": 202,
    "start_time": "2022-03-14T22:45:43.650Z"
   },
   {
    "duration": 8,
    "start_time": "2022-03-14T22:45:43.854Z"
   },
   {
    "duration": 11,
    "start_time": "2022-03-14T22:45:43.863Z"
   },
   {
    "duration": 9,
    "start_time": "2022-03-14T22:45:43.875Z"
   },
   {
    "duration": 18,
    "start_time": "2022-03-14T22:45:43.885Z"
   },
   {
    "duration": 8,
    "start_time": "2022-03-14T22:45:43.904Z"
   },
   {
    "duration": 30,
    "start_time": "2022-03-14T22:45:43.913Z"
   },
   {
    "duration": 5,
    "start_time": "2022-03-14T22:45:43.945Z"
   },
   {
    "duration": 1502,
    "start_time": "2022-03-18T20:56:12.762Z"
   },
   {
    "duration": 334,
    "start_time": "2022-03-18T20:56:14.268Z"
   },
   {
    "duration": 17,
    "start_time": "2022-03-18T20:56:14.604Z"
   },
   {
    "duration": 22,
    "start_time": "2022-03-18T20:56:14.624Z"
   },
   {
    "duration": 41,
    "start_time": "2022-03-18T20:56:14.649Z"
   },
   {
    "duration": 44,
    "start_time": "2022-03-18T20:56:14.693Z"
   },
   {
    "duration": 25,
    "start_time": "2022-03-18T20:56:14.741Z"
   },
   {
    "duration": 8,
    "start_time": "2022-03-18T20:56:14.769Z"
   },
   {
    "duration": 13,
    "start_time": "2022-03-18T20:56:14.780Z"
   },
   {
    "duration": 89,
    "start_time": "2022-03-18T20:56:14.795Z"
   },
   {
    "duration": 21,
    "start_time": "2022-03-18T20:56:14.886Z"
   },
   {
    "duration": 22,
    "start_time": "2022-03-18T20:56:14.909Z"
   },
   {
    "duration": 62,
    "start_time": "2022-03-18T20:56:14.933Z"
   },
   {
    "duration": 22,
    "start_time": "2022-03-18T20:56:15.000Z"
   },
   {
    "duration": 9,
    "start_time": "2022-03-18T20:56:15.024Z"
   },
   {
    "duration": 24,
    "start_time": "2022-03-18T20:56:15.067Z"
   },
   {
    "duration": 21,
    "start_time": "2022-03-18T20:56:15.093Z"
   },
   {
    "duration": 12,
    "start_time": "2022-03-18T20:56:15.116Z"
   },
   {
    "duration": 58,
    "start_time": "2022-03-18T20:56:15.130Z"
   },
   {
    "duration": 18,
    "start_time": "2022-03-18T20:56:15.190Z"
   },
   {
    "duration": 27,
    "start_time": "2022-03-18T20:56:15.210Z"
   },
   {
    "duration": 16,
    "start_time": "2022-03-18T20:56:15.268Z"
   },
   {
    "duration": 15,
    "start_time": "2022-03-18T20:56:15.288Z"
   },
   {
    "duration": 69,
    "start_time": "2022-03-18T20:56:15.306Z"
   },
   {
    "duration": 17,
    "start_time": "2022-03-18T20:56:15.378Z"
   },
   {
    "duration": 21,
    "start_time": "2022-03-18T20:56:15.397Z"
   },
   {
    "duration": 12,
    "start_time": "2022-03-18T20:56:15.420Z"
   },
   {
    "duration": 46,
    "start_time": "2022-03-18T20:56:15.467Z"
   },
   {
    "duration": 63,
    "start_time": "2022-03-18T20:56:15.516Z"
   },
   {
    "duration": 31,
    "start_time": "2022-03-18T20:56:15.582Z"
   },
   {
    "duration": 61,
    "start_time": "2022-03-18T20:56:15.616Z"
   },
   {
    "duration": 43,
    "start_time": "2022-03-18T20:56:15.680Z"
   },
   {
    "duration": 59,
    "start_time": "2022-03-18T20:56:15.725Z"
   },
   {
    "duration": 16,
    "start_time": "2022-03-18T20:56:15.787Z"
   },
   {
    "duration": 7,
    "start_time": "2022-03-18T20:56:15.805Z"
   },
   {
    "duration": 7,
    "start_time": "2022-03-18T20:56:15.815Z"
   },
   {
    "duration": 45,
    "start_time": "2022-03-18T20:56:15.824Z"
   },
   {
    "duration": 27,
    "start_time": "2022-03-18T20:56:15.871Z"
   },
   {
    "duration": 23,
    "start_time": "2022-03-18T20:56:15.901Z"
   },
   {
    "duration": 47,
    "start_time": "2022-03-18T20:56:15.926Z"
   },
   {
    "duration": 343,
    "start_time": "2022-03-18T20:56:15.981Z"
   },
   {
    "duration": 21,
    "start_time": "2022-03-18T20:56:16.327Z"
   },
   {
    "duration": 350,
    "start_time": "2022-03-18T20:56:16.368Z"
   },
   {
    "duration": 15,
    "start_time": "2022-03-18T20:56:16.721Z"
   },
   {
    "duration": 263,
    "start_time": "2022-03-18T20:56:16.738Z"
   },
   {
    "duration": 13,
    "start_time": "2022-03-18T20:56:17.003Z"
   },
   {
    "duration": 328,
    "start_time": "2022-03-18T20:56:17.018Z"
   },
   {
    "duration": 31,
    "start_time": "2022-03-18T20:56:17.348Z"
   },
   {
    "duration": 355,
    "start_time": "2022-03-18T20:56:17.382Z"
   },
   {
    "duration": 27,
    "start_time": "2022-03-18T20:56:17.740Z"
   },
   {
    "duration": 242,
    "start_time": "2022-03-18T20:56:17.770Z"
   },
   {
    "duration": 11,
    "start_time": "2022-03-18T20:56:18.014Z"
   },
   {
    "duration": 350,
    "start_time": "2022-03-18T20:56:18.027Z"
   },
   {
    "duration": 18,
    "start_time": "2022-03-18T20:56:18.380Z"
   },
   {
    "duration": 394,
    "start_time": "2022-03-18T20:56:18.401Z"
   },
   {
    "duration": 15,
    "start_time": "2022-03-18T20:56:18.797Z"
   },
   {
    "duration": 362,
    "start_time": "2022-03-18T20:56:18.815Z"
   },
   {
    "duration": 12,
    "start_time": "2022-03-18T20:56:19.179Z"
   },
   {
    "duration": 358,
    "start_time": "2022-03-18T20:56:19.193Z"
   },
   {
    "duration": 24,
    "start_time": "2022-03-18T20:56:19.553Z"
   },
   {
    "duration": 381,
    "start_time": "2022-03-18T20:56:19.580Z"
   },
   {
    "duration": 16,
    "start_time": "2022-03-18T20:56:19.967Z"
   },
   {
    "duration": 255,
    "start_time": "2022-03-18T20:56:19.985Z"
   },
   {
    "duration": 11,
    "start_time": "2022-03-18T20:56:20.242Z"
   },
   {
    "duration": 21,
    "start_time": "2022-03-18T20:56:20.255Z"
   },
   {
    "duration": 7,
    "start_time": "2022-03-18T20:56:20.279Z"
   },
   {
    "duration": 20,
    "start_time": "2022-03-18T20:56:20.288Z"
   },
   {
    "duration": 64,
    "start_time": "2022-03-18T20:56:20.310Z"
   },
   {
    "duration": 12,
    "start_time": "2022-03-18T20:56:20.377Z"
   },
   {
    "duration": 7,
    "start_time": "2022-03-18T20:56:20.391Z"
   },
   {
    "duration": 1015,
    "start_time": "2022-09-02T19:41:14.862Z"
   }
  ],
  "kernelspec": {
   "display_name": "Python 3 (ipykernel)",
   "language": "python",
   "name": "python3"
  },
  "language_info": {
   "codemirror_mode": {
    "name": "ipython",
    "version": 3
   },
   "file_extension": ".py",
   "mimetype": "text/x-python",
   "name": "python",
   "nbconvert_exporter": "python",
   "pygments_lexer": "ipython3",
   "version": "3.9.5"
  },
  "toc": {
   "base_numbering": 1,
   "nav_menu": {},
   "number_sections": true,
   "sideBar": true,
   "skip_h1_title": false,
   "title_cell": "Table of Contents",
   "title_sidebar": "Contents",
   "toc_cell": false,
   "toc_position": {
    "height": "calc(100% - 180px)",
    "left": "10px",
    "top": "150px",
    "width": "174.396px"
   },
   "toc_section_display": true,
   "toc_window_display": false
  }
 },
 "nbformat": 4,
 "nbformat_minor": 2
}
