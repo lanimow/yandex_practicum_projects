{
 "cells": [
  {
   "cell_type": "markdown",
   "metadata": {},
   "source": [
    "# Project Description"
   ]
  },
  {
   "cell_type": "markdown",
   "metadata": {},
   "source": [
    "Mobile carrier Megaline has found out that many of their subscribers use legacy plans. They want to develop a model that would analyze subscribers' behavior and recommend one of Megaline's newer plans: Smart or Ultra.\n",
    "\n",
    "You have access to behavior data about subscribers who have already switched to the new plans (from the project for the Statistical Data Analysis course). For this classification task, you need to develop a model that will pick the right plan. Since you’ve already performed the data preprocessing step, you can move straight to creating the model.\n",
    "\n",
    "Develop a model with the highest possible accuracy. In this project, the threshold for accuracy is 0.75. Check the accuracy using the test dataset."
   ]
  },
  {
   "cell_type": "markdown",
   "metadata": {},
   "source": [
    "# Initialization"
   ]
  },
  {
   "cell_type": "code",
   "execution_count": 14,
   "metadata": {},
   "outputs": [],
   "source": [
    "# Load all the libraries\n",
    "import pandas as pd\n",
    "import numpy as np\n",
    "import matplotlib.pyplot as plt\n",
    "from sklearn.linear_model import LogisticRegression\n",
    "from sklearn.tree import DecisionTreeClassifier\n",
    "from sklearn.ensemble import RandomForestClassifier\n",
    "from sklearn.model_selection import train_test_split\n",
    "from sklearn.metrics import precision_score\n",
    "from sklearn.metrics import recall_score\n",
    "import warnings\n",
    "warnings.filterwarnings(\"ignore\")\n"
   ]
  },
  {
   "cell_type": "markdown",
   "metadata": {},
   "source": [
    "# Load Data"
   ]
  },
  {
   "cell_type": "code",
   "execution_count": 15,
   "metadata": {},
   "outputs": [],
   "source": [
    "# Load the data files into different DataFrames\n",
    "try:\n",
    "    users_behavior = pd.read_csv('/datasets/users_behavior.csv')\n",
    "except:\n",
    "    users_behavior = pd.read_csv('users_behavior.csv')\n",
    "    "
   ]
  },
  {
   "cell_type": "markdown",
   "metadata": {},
   "source": [
    "# Explore the Data"
   ]
  },
  {
   "cell_type": "code",
   "execution_count": 16,
   "metadata": {},
   "outputs": [
    {
     "name": "stdout",
     "output_type": "stream",
     "text": [
      "<class 'pandas.core.frame.DataFrame'>\n",
      "RangeIndex: 3214 entries, 0 to 3213\n",
      "Data columns (total 5 columns):\n",
      " #   Column    Non-Null Count  Dtype  \n",
      "---  ------    --------------  -----  \n",
      " 0   calls     3214 non-null   float64\n",
      " 1   minutes   3214 non-null   float64\n",
      " 2   messages  3214 non-null   float64\n",
      " 3   mb_used   3214 non-null   float64\n",
      " 4   is_ultra  3214 non-null   int64  \n",
      "dtypes: float64(4), int64(1)\n",
      "memory usage: 125.7 KB\n"
     ]
    },
    {
     "data": {
      "text/html": [
       "<div>\n",
       "<style scoped>\n",
       "    .dataframe tbody tr th:only-of-type {\n",
       "        vertical-align: middle;\n",
       "    }\n",
       "\n",
       "    .dataframe tbody tr th {\n",
       "        vertical-align: top;\n",
       "    }\n",
       "\n",
       "    .dataframe thead th {\n",
       "        text-align: right;\n",
       "    }\n",
       "</style>\n",
       "<table border=\"1\" class=\"dataframe\">\n",
       "  <thead>\n",
       "    <tr style=\"text-align: right;\">\n",
       "      <th></th>\n",
       "      <th>calls</th>\n",
       "      <th>minutes</th>\n",
       "      <th>messages</th>\n",
       "      <th>mb_used</th>\n",
       "      <th>is_ultra</th>\n",
       "    </tr>\n",
       "  </thead>\n",
       "  <tbody>\n",
       "    <tr>\n",
       "      <th>count</th>\n",
       "      <td>3214.000000</td>\n",
       "      <td>3214.000000</td>\n",
       "      <td>3214.000000</td>\n",
       "      <td>3214.000000</td>\n",
       "      <td>3214.000000</td>\n",
       "    </tr>\n",
       "    <tr>\n",
       "      <th>mean</th>\n",
       "      <td>63.038892</td>\n",
       "      <td>438.208787</td>\n",
       "      <td>38.281269</td>\n",
       "      <td>17207.673836</td>\n",
       "      <td>0.306472</td>\n",
       "    </tr>\n",
       "    <tr>\n",
       "      <th>std</th>\n",
       "      <td>33.236368</td>\n",
       "      <td>234.569872</td>\n",
       "      <td>36.148326</td>\n",
       "      <td>7570.968246</td>\n",
       "      <td>0.461100</td>\n",
       "    </tr>\n",
       "    <tr>\n",
       "      <th>min</th>\n",
       "      <td>0.000000</td>\n",
       "      <td>0.000000</td>\n",
       "      <td>0.000000</td>\n",
       "      <td>0.000000</td>\n",
       "      <td>0.000000</td>\n",
       "    </tr>\n",
       "    <tr>\n",
       "      <th>25%</th>\n",
       "      <td>40.000000</td>\n",
       "      <td>274.575000</td>\n",
       "      <td>9.000000</td>\n",
       "      <td>12491.902500</td>\n",
       "      <td>0.000000</td>\n",
       "    </tr>\n",
       "    <tr>\n",
       "      <th>50%</th>\n",
       "      <td>62.000000</td>\n",
       "      <td>430.600000</td>\n",
       "      <td>30.000000</td>\n",
       "      <td>16943.235000</td>\n",
       "      <td>0.000000</td>\n",
       "    </tr>\n",
       "    <tr>\n",
       "      <th>75%</th>\n",
       "      <td>82.000000</td>\n",
       "      <td>571.927500</td>\n",
       "      <td>57.000000</td>\n",
       "      <td>21424.700000</td>\n",
       "      <td>1.000000</td>\n",
       "    </tr>\n",
       "    <tr>\n",
       "      <th>max</th>\n",
       "      <td>244.000000</td>\n",
       "      <td>1632.060000</td>\n",
       "      <td>224.000000</td>\n",
       "      <td>49745.730000</td>\n",
       "      <td>1.000000</td>\n",
       "    </tr>\n",
       "  </tbody>\n",
       "</table>\n",
       "</div>"
      ],
      "text/plain": [
       "             calls      minutes     messages       mb_used     is_ultra\n",
       "count  3214.000000  3214.000000  3214.000000   3214.000000  3214.000000\n",
       "mean     63.038892   438.208787    38.281269  17207.673836     0.306472\n",
       "std      33.236368   234.569872    36.148326   7570.968246     0.461100\n",
       "min       0.000000     0.000000     0.000000      0.000000     0.000000\n",
       "25%      40.000000   274.575000     9.000000  12491.902500     0.000000\n",
       "50%      62.000000   430.600000    30.000000  16943.235000     0.000000\n",
       "75%      82.000000   571.927500    57.000000  21424.700000     1.000000\n",
       "max     244.000000  1632.060000   224.000000  49745.730000     1.000000"
      ]
     },
     "execution_count": 16,
     "metadata": {},
     "output_type": "execute_result"
    }
   ],
   "source": [
    "# Print general information about the 'names_trips' dataframe\n",
    "users_behavior.info()\n",
    "users_behavior.describe()\n"
   ]
  },
  {
   "cell_type": "code",
   "execution_count": 17,
   "metadata": {},
   "outputs": [
    {
     "data": {
      "text/html": [
       "<div>\n",
       "<style scoped>\n",
       "    .dataframe tbody tr th:only-of-type {\n",
       "        vertical-align: middle;\n",
       "    }\n",
       "\n",
       "    .dataframe tbody tr th {\n",
       "        vertical-align: top;\n",
       "    }\n",
       "\n",
       "    .dataframe thead th {\n",
       "        text-align: right;\n",
       "    }\n",
       "</style>\n",
       "<table border=\"1\" class=\"dataframe\">\n",
       "  <thead>\n",
       "    <tr style=\"text-align: right;\">\n",
       "      <th></th>\n",
       "      <th>calls</th>\n",
       "      <th>minutes</th>\n",
       "      <th>messages</th>\n",
       "      <th>mb_used</th>\n",
       "      <th>is_ultra</th>\n",
       "    </tr>\n",
       "  </thead>\n",
       "  <tbody>\n",
       "    <tr>\n",
       "      <th>0</th>\n",
       "      <td>40.0</td>\n",
       "      <td>311.90</td>\n",
       "      <td>83.0</td>\n",
       "      <td>19915.42</td>\n",
       "      <td>0</td>\n",
       "    </tr>\n",
       "    <tr>\n",
       "      <th>1</th>\n",
       "      <td>85.0</td>\n",
       "      <td>516.75</td>\n",
       "      <td>56.0</td>\n",
       "      <td>22696.96</td>\n",
       "      <td>0</td>\n",
       "    </tr>\n",
       "    <tr>\n",
       "      <th>2</th>\n",
       "      <td>77.0</td>\n",
       "      <td>467.66</td>\n",
       "      <td>86.0</td>\n",
       "      <td>21060.45</td>\n",
       "      <td>0</td>\n",
       "    </tr>\n",
       "    <tr>\n",
       "      <th>3</th>\n",
       "      <td>106.0</td>\n",
       "      <td>745.53</td>\n",
       "      <td>81.0</td>\n",
       "      <td>8437.39</td>\n",
       "      <td>1</td>\n",
       "    </tr>\n",
       "    <tr>\n",
       "      <th>4</th>\n",
       "      <td>66.0</td>\n",
       "      <td>418.74</td>\n",
       "      <td>1.0</td>\n",
       "      <td>14502.75</td>\n",
       "      <td>0</td>\n",
       "    </tr>\n",
       "    <tr>\n",
       "      <th>...</th>\n",
       "      <td>...</td>\n",
       "      <td>...</td>\n",
       "      <td>...</td>\n",
       "      <td>...</td>\n",
       "      <td>...</td>\n",
       "    </tr>\n",
       "    <tr>\n",
       "      <th>3209</th>\n",
       "      <td>122.0</td>\n",
       "      <td>910.98</td>\n",
       "      <td>20.0</td>\n",
       "      <td>35124.90</td>\n",
       "      <td>1</td>\n",
       "    </tr>\n",
       "    <tr>\n",
       "      <th>3210</th>\n",
       "      <td>25.0</td>\n",
       "      <td>190.36</td>\n",
       "      <td>0.0</td>\n",
       "      <td>3275.61</td>\n",
       "      <td>0</td>\n",
       "    </tr>\n",
       "    <tr>\n",
       "      <th>3211</th>\n",
       "      <td>97.0</td>\n",
       "      <td>634.44</td>\n",
       "      <td>70.0</td>\n",
       "      <td>13974.06</td>\n",
       "      <td>0</td>\n",
       "    </tr>\n",
       "    <tr>\n",
       "      <th>3212</th>\n",
       "      <td>64.0</td>\n",
       "      <td>462.32</td>\n",
       "      <td>90.0</td>\n",
       "      <td>31239.78</td>\n",
       "      <td>0</td>\n",
       "    </tr>\n",
       "    <tr>\n",
       "      <th>3213</th>\n",
       "      <td>80.0</td>\n",
       "      <td>566.09</td>\n",
       "      <td>6.0</td>\n",
       "      <td>29480.52</td>\n",
       "      <td>1</td>\n",
       "    </tr>\n",
       "  </tbody>\n",
       "</table>\n",
       "<p>3214 rows × 5 columns</p>\n",
       "</div>"
      ],
      "text/plain": [
       "      calls  minutes  messages   mb_used  is_ultra\n",
       "0      40.0   311.90      83.0  19915.42         0\n",
       "1      85.0   516.75      56.0  22696.96         0\n",
       "2      77.0   467.66      86.0  21060.45         0\n",
       "3     106.0   745.53      81.0   8437.39         1\n",
       "4      66.0   418.74       1.0  14502.75         0\n",
       "...     ...      ...       ...       ...       ...\n",
       "3209  122.0   910.98      20.0  35124.90         1\n",
       "3210   25.0   190.36       0.0   3275.61         0\n",
       "3211   97.0   634.44      70.0  13974.06         0\n",
       "3212   64.0   462.32      90.0  31239.78         0\n",
       "3213   80.0   566.09       6.0  29480.52         1\n",
       "\n",
       "[3214 rows x 5 columns]"
      ]
     },
     "execution_count": 17,
     "metadata": {},
     "output_type": "execute_result"
    }
   ],
   "source": [
    "# Print a sample of the data for 'users_behavior'\n",
    "users_behavior\n"
   ]
  },
  {
   "cell_type": "markdown",
   "metadata": {},
   "source": [
    "# Develop and Test Models"
   ]
  },
  {
   "cell_type": "code",
   "execution_count": 18,
   "metadata": {},
   "outputs": [],
   "source": [
    "# Create the training, validation, and test sets that will be used for the following models\n",
    "features = users_behavior.drop(['is_ultra'], axis=1) # The features consists of all the columns except 'is_ultra'\n",
    "target = users_behavior['is_ultra'] # The target is the 'is_ultra' column\n",
    "\n",
    "# Use train_test_split to create the training set (60% of the data) and the remaining data\n",
    "features_train, features_rem, target_train, target_rem = train_test_split(features,\n",
    "                                                                          target,\n",
    "                                                                          train_size = 0.6,\n",
    "                                                                          random_state = 12345)\n",
    "\n",
    "# Use train_test_split to split the remaining data into the validation and test set (20% of the data each)\n",
    "features_valid, features_test, target_valid, target_test = train_test_split(features_rem,\n",
    "                                                                            target_rem,\n",
    "                                                                            test_size = 0.5,\n",
    "                                                                            random_state = 12345)\n"
   ]
  },
  {
   "cell_type": "markdown",
   "metadata": {},
   "source": [
    "## Logistic Regression"
   ]
  },
  {
   "cell_type": "code",
   "execution_count": 19,
   "metadata": {},
   "outputs": [
    {
     "name": "stdout",
     "output_type": "stream",
     "text": [
      "Accuracy of the model on the test set: 0.6842923794712286\n"
     ]
    }
   ],
   "source": [
    "# Concatenate the training and validation set to create a larger training set\n",
    "features_train_valid = pd.concat([features_train, features_valid], ignore_index = True)\n",
    "target_train_valid = pd.concat([target_train, target_valid], ignore_index = True)\n",
    "\n",
    "# Create the model with the given parameters\n",
    "model = LogisticRegression(random_state = 12345, solver = 'lbfgs')\n",
    "\n",
    "model.fit(features_train_valid, target_train_valid) # train the model using the training set\n",
    "final_score = model.score(features_test, target_test) # calculate model's accuracy score using the test set\n",
    "\n",
    "print(f'Accuracy of the model on the test set: {final_score}')\n"
   ]
  },
  {
   "cell_type": "markdown",
   "metadata": {},
   "source": [
    "The above logistic regression model yielded an accuracy score of 0.68 which is under the required threshold of 0.75 for this analysis. This may be due to the fact that the model is very simple and does not really involve hypertuning the parameters as is common in other models."
   ]
  },
  {
   "cell_type": "code",
   "execution_count": 20,
   "metadata": {},
   "outputs": [
    {
     "name": "stdout",
     "output_type": "stream",
     "text": [
      "Precision score for decision tree classifier: 0.5\n",
      "Recall score for decision tree classifier: 0.03940886699507389\n"
     ]
    }
   ],
   "source": [
    "# Sanity check the model using model evaluation metrics--precision and recall\n",
    "pred = model.predict(features_test)\n",
    "\n",
    "precision = precision_score(target_test, pred) # calculate the precision score based on the target and predicted values\n",
    "print(f'Precision score for decision tree classifier: {precision}')\n",
    "\n",
    "recall = recall_score(target_test, pred) # calculate the recall score based on the target and predicted values\n",
    "print(f'Recall score for decision tree classifier: {recall}')\n",
    "\n"
   ]
  },
  {
   "cell_type": "markdown",
   "metadata": {},
   "source": [
    "In order to sanity check the logistic regression model and ensure that it is functioning properly and performing better than chance, the precision score and recall score was calculated for the model. The precision score represents the ability of the classifier not to label as positive a sample that is negative. The score for this model was 0.5, meaning that the model's predictions included the same number of true positives and false positives. The recall score represents the ability of the classifier to find all the positive samples. The score is 0.04, meaning the model's predictions included fewer true positives than false negatives."
   ]
  },
  {
   "cell_type": "markdown",
   "metadata": {},
   "source": [
    "## Decision Tree Classifier"
   ]
  },
  {
   "cell_type": "code",
   "execution_count": 21,
   "metadata": {},
   "outputs": [
    {
     "name": "stdout",
     "output_type": "stream",
     "text": [
      "Accuracy of the best model on the validation set: 0.7853810264385692\n",
      "Accuracy of the best model on the test set: 0.7791601866251944\n"
     ]
    }
   ],
   "source": [
    "# Create and determine the accuracy of a Decision Tree Classifier model\n",
    "\n",
    "# Create a for loop to tune the model's max depth and identify the depth that produces the highest accuracy score\n",
    "best_model = None\n",
    "best_score = 0\n",
    "scores = []\n",
    "\n",
    "for depth in range(1, 11):\n",
    "    model = DecisionTreeClassifier(random_state = 12345, max_depth = depth) # create a model with the given depth\n",
    "    model.fit(features_train, target_train) # train the model using the training set\n",
    "    score = model.score(features_valid, target_valid) # calculate the accuracy using the validation set\n",
    "    if score > best_score: # identify the best model based on accuracy\n",
    "        best_model = model\n",
    "        best_score = score\n",
    "    scores.append(score) # keep a running list of the accuracy scores by depth\n",
    "        \n",
    "print(\"Accuracy of the best model on the validation set:\", best_score)\n",
    "\n",
    "best_model.fit(features_train, target_train) # train the best model using the training set\n",
    "final_score = best_model.score(features_test, target_test) # calculate best model's accuracy score using the test set\n",
    "\n",
    "print(f'Accuracy of the best model on the test set: {final_score}')\n"
   ]
  },
  {
   "cell_type": "code",
   "execution_count": 22,
   "metadata": {},
   "outputs": [
    {
     "data": {
      "image/png": "[encoded data removed]",
      "text/plain": [
       "<Figure size 432x288 with 1 Axes>"
      ]
     },
     "metadata": {
      "needs_background": "light"
     },
     "output_type": "display_data"
    }
   ],
   "source": [
    "# Plot the accuracy scores for depths between 1-10 to identify trends\n",
    "plt.plot(range(1, 11), scores)\n",
    "plt.title('Accuracy scores for depths beween 1-10')\n",
    "plt.xlabel('Depth')\n",
    "plt.ylabel('Accuracy score')\n",
    "plt.show()\n"
   ]
  },
  {
   "cell_type": "markdown",
   "metadata": {},
   "source": [
    "The Decision Tree Classifier model above performed a little better in terms of accuracy than the Logistic Regression model with a score of 0.78, slightly above the 0.75 threshold which means that it is acceptable for the purposes of this analysis. In order to maximize the accuracy, tree depths between 1-10 were visualized and tested to choose the best performing depth in the final model. Decision Tree models can be a little tricky as tree depths that are too low may cause underfitting while tree depths that are too high may cause overfitting. This method of looping through various options helped to select the best possible combination resulting in the highest level of accuracy."
   ]
  },
  {
   "cell_type": "code",
   "execution_count": 23,
   "metadata": {},
   "outputs": [
    {
     "name": "stdout",
     "output_type": "stream",
     "text": [
      "Precision score for decision tree classifier: 0.744\n",
      "Recall score for decision tree classifier: 0.458128078817734\n"
     ]
    }
   ],
   "source": [
    "# Sanity check the model using model evaluation metrics--precision and recall\n",
    "pred = best_model.predict(features_test)\n",
    "\n",
    "precision = precision_score(target_test, pred) # calculate the precision score based on the target and predicted values\n",
    "print(f'Precision score for decision tree classifier: {precision}')\n",
    "\n",
    "recall = recall_score(target_test, pred)\n",
    "print(f'Recall score for decision tree classifier: {recall}') # calculate the recall score based on the target and predicted values\n"
   ]
  },
  {
   "cell_type": "markdown",
   "metadata": {},
   "source": [
    "A sanity check was also preformed on the decision tree classifer model and yielded a score of 0.74 which is better than the logistic regression model. The recall score was found to be 0.46 which is also much better than the logistic regression model, but still not great as the model's predictions included fewer true positives than false negatives."
   ]
  },
  {
   "cell_type": "markdown",
   "metadata": {},
   "source": [
    "## Random Forest Classifier"
   ]
  },
  {
   "cell_type": "code",
   "execution_count": 24,
   "metadata": {},
   "outputs": [
    {
     "name": "stdout",
     "output_type": "stream",
     "text": [
      "Accuracy of the best model on the validation set (n_estimators = 23): 0.7947122861586314\n",
      "Accuracy of the best model on the test set: 0.7807153965785381\n"
     ]
    }
   ],
   "source": [
    "# Create and determine the accuracy of a Random Forest Classifier model\n",
    "\n",
    "# Create a for loop to tune the model's number of estimators and identify the number that produces the highest accuracy score\n",
    "best_score = 0\n",
    "best_est = 0\n",
    "scores = []\n",
    "\n",
    "for est in range(1, 51): # choose hyperparameter range\n",
    "    model = RandomForestClassifier(random_state = 12345, n_estimators = est) # set number of trees\n",
    "    model.fit(features_train, target_train) # train model on training set\n",
    "    score = model.score(features_valid, target_valid) # calculate accuracy score on validation set\n",
    "    if score > best_score:\n",
    "        best_score = score # save best accuracy score on validation set\n",
    "        best_est = est # save number of estimators corresponding to best accuracy score\n",
    "    scores.append(score) # keep a running list of the accuracy scores by estimators\n",
    "\n",
    "print(\"Accuracy of the best model on the validation set (n_estimators = {}): {}\".format(best_est, best_score))\n",
    "\n",
    "final_model = RandomForestClassifier(random_state = 12345, n_estimators = best_est)\n",
    "final_model.fit(features_train, target_train) # train the best model using the training set\n",
    "final_score = final_model.score(features_test, target_test) # calculate best model's accuracy score using the test set\n",
    "\n",
    "print(f'Accuracy of the best model on the test set: {final_score}')\n"
   ]
  },
  {
   "cell_type": "code",
   "execution_count": 25,
   "metadata": {
    "scrolled": true
   },
   "outputs": [
    {
     "data": {
      "image/png": "[encoded data removed]",
      "text/plain": [
       "<Figure size 432x288 with 1 Axes>"
      ]
     },
     "metadata": {
      "needs_background": "light"
     },
     "output_type": "display_data"
    }
   ],
   "source": [
    "# Plot the accuracy scores for estimators between 1-50 to identify trends\n",
    "plt.plot(range(1, 51), scores)\n",
    "plt.title('Accuracy scores for number of estimators beween 1-50')\n",
    "plt.xlabel('Number of estimators')\n",
    "plt.ylabel('Accuracy score')\n",
    "plt.show()\n"
   ]
  },
  {
   "cell_type": "markdown",
   "metadata": {},
   "source": [
    "The Random Forest Classifier performed the best of the 3 models with an accuracy of 0.78, a tad higher than what was yielded from the Decision Tree Classifier. The model was tuned by looping through the number of estimators (trees) employed in the model between 1-50 to select the number that would yield the highest accuracy score. Based on the visualization, the best number of estimators was 23 which was the value used in the final model. Random Forest models often have the highest accuracy because they use an ensemble of trees instead of just one. "
   ]
  },
  {
   "cell_type": "code",
   "execution_count": 26,
   "metadata": {},
   "outputs": [
    {
     "name": "stdout",
     "output_type": "stream",
     "text": [
      "Precision score for random forest classifier: 0.6781609195402298\n",
      "Recall score for random forest classifier: 0.5812807881773399\n"
     ]
    }
   ],
   "source": [
    "# Sanity check the model using model evaluation metrics--precision and recall\n",
    "pred = final_model.predict(features_test)\n",
    "\n",
    "precision = precision_score(target_test, pred) # calculate the precision score based on the target and predicted values\n",
    "print(f'Precision score for random forest classifier: {precision}')\n",
    "\n",
    "recall = recall_score(target_test, pred)\n",
    "print(f'Recall score for random forest classifier: {recall}') #calculate the recall score based on the target and predicted values\n"
   ]
  },
  {
   "cell_type": "markdown",
   "metadata": {},
   "source": [
    "A sanity check was also preformed on the Random Forest Classifer model and yielded a score of 0.68 which is indicates that it does a a little worse at avoiding false positive classifications than the Decision Tree Classifier. The recall score was found to be 0.58 which is the highest value found in all three models, but still predicting just a few more true positives than false negatives."
   ]
  },
  {
   "cell_type": "markdown",
   "metadata": {},
   "source": [
    "# Conclusion"
   ]
  },
  {
   "cell_type": "markdown",
   "metadata": {},
   "source": [
    "-Logistic Regression Model: Accuracy Score--0.68; Precision Score--0.5; Recall Score--0.04\n",
    "\n",
    "-Decision Tree Classifier: Accuracy Score--0.779; Precision Score--0.74; Recall Score--0.46\n",
    "\n",
    "-Random Forest Classifier: Accuracy Score--0.78; Precision Score--0.68; Recall Score--0.58\n",
    "\n",
    "Recommendation: Megaline should utilize the **Random Forest Classifier Model** to help recommend plans to their customers as it has the highest accuracy of the 3 investigated models and had precision and recall scores higher than 0.50 on the sanity check which helps to show that it is able to make accurate predictions better than chance."
   ]
  }
 ],
 "metadata": {
  "ExecuteTimeLog": [
   {
    "duration": 1328,
    "start_time": "2022-04-16T01:33:27.588Z"
   },
   {
    "duration": 19,
    "start_time": "2022-04-16T01:33:32.127Z"
   },
   {
    "duration": 30,
    "start_time": "2022-04-16T01:33:57.434Z"
   },
   {
    "duration": 12,
    "start_time": "2022-04-16T01:34:05.475Z"
   },
   {
    "duration": 6,
    "start_time": "2022-04-16T01:35:30.231Z"
   },
   {
    "duration": 1334,
    "start_time": "2022-04-19T15:52:34.016Z"
   },
   {
    "duration": 23,
    "start_time": "2022-04-19T15:52:35.361Z"
   },
   {
    "duration": 51,
    "start_time": "2022-04-19T15:52:35.386Z"
   },
   {
    "duration": 28,
    "start_time": "2022-04-19T15:52:35.442Z"
   },
   {
    "duration": 6,
    "start_time": "2022-04-19T15:52:35.472Z"
   },
   {
    "duration": 1200,
    "start_time": "2022-04-19T18:03:46.192Z"
   },
   {
    "duration": 19,
    "start_time": "2022-04-19T18:03:47.394Z"
   },
   {
    "duration": 35,
    "start_time": "2022-04-19T18:03:47.415Z"
   },
   {
    "duration": 12,
    "start_time": "2022-04-19T18:03:47.451Z"
   },
   {
    "duration": 7,
    "start_time": "2022-04-19T18:03:47.466Z"
   },
   {
    "duration": 4,
    "start_time": "2022-04-19T18:03:47.474Z"
   },
   {
    "duration": 5,
    "start_time": "2022-04-19T18:03:47.479Z"
   },
   {
    "duration": 4732,
    "start_time": "2022-04-19T18:03:47.486Z"
   },
   {
    "duration": 1174,
    "start_time": "2022-04-20T21:55:29.908Z"
   },
   {
    "duration": 13,
    "start_time": "2022-04-20T21:55:31.085Z"
   },
   {
    "duration": 60,
    "start_time": "2022-04-20T21:55:31.100Z"
   },
   {
    "duration": 11,
    "start_time": "2022-04-20T21:55:31.161Z"
   },
   {
    "duration": 47,
    "start_time": "2022-04-20T21:55:31.174Z"
   },
   {
    "duration": 634,
    "start_time": "2022-04-20T21:55:31.223Z"
   },
   {
    "duration": 4,
    "start_time": "2022-04-20T21:55:31.858Z"
   },
   {
    "duration": 11,
    "start_time": "2022-04-20T21:55:31.863Z"
   },
   {
    "duration": 4383,
    "start_time": "2022-04-20T21:55:31.875Z"
   },
   {
    "duration": 103,
    "start_time": "2022-04-20T22:02:30.922Z"
   },
   {
    "duration": 3,
    "start_time": "2022-04-20T22:02:35.925Z"
   },
   {
    "duration": 259,
    "start_time": "2022-04-20T22:02:40.887Z"
   },
   {
    "duration": 50,
    "start_time": "2022-04-21T15:33:27.841Z"
   },
   {
    "duration": 1149,
    "start_time": "2022-04-21T15:33:38.676Z"
   },
   {
    "duration": 19,
    "start_time": "2022-04-21T15:33:39.827Z"
   },
   {
    "duration": 39,
    "start_time": "2022-04-21T15:33:39.848Z"
   },
   {
    "duration": 12,
    "start_time": "2022-04-21T15:33:39.889Z"
   },
   {
    "duration": 6,
    "start_time": "2022-04-21T15:33:39.903Z"
   },
   {
    "duration": 664,
    "start_time": "2022-04-21T15:33:39.911Z"
   },
   {
    "duration": 762,
    "start_time": "2022-04-21T15:33:40.577Z"
   },
   {
    "duration": 672,
    "start_time": "2022-04-21T15:33:41.340Z"
   },
   {
    "duration": 548,
    "start_time": "2022-04-21T15:33:42.013Z"
   },
   {
    "duration": 5,
    "start_time": "2022-04-21T15:33:42.563Z"
   },
   {
    "duration": 6,
    "start_time": "2022-04-21T15:33:42.573Z"
   },
   {
    "duration": 4743,
    "start_time": "2022-04-21T15:33:42.581Z"
   },
   {
    "duration": 110,
    "start_time": "2022-04-21T15:33:54.449Z"
   },
   {
    "duration": 5683,
    "start_time": "2022-04-21T15:34:13.999Z"
   },
   {
    "duration": 105,
    "start_time": "2022-04-21T15:34:26.023Z"
   },
   {
    "duration": 652,
    "start_time": "2022-04-21T15:37:05.002Z"
   },
   {
    "duration": 1404,
    "start_time": "2022-04-21T20:17:42.274Z"
   },
   {
    "duration": 0,
    "start_time": "2022-04-21T20:17:43.680Z"
   },
   {
    "duration": 0,
    "start_time": "2022-04-21T20:17:43.681Z"
   },
   {
    "duration": 0,
    "start_time": "2022-04-21T20:17:43.683Z"
   },
   {
    "duration": 0,
    "start_time": "2022-04-21T20:17:43.684Z"
   },
   {
    "duration": 0,
    "start_time": "2022-04-21T20:17:43.685Z"
   },
   {
    "duration": 0,
    "start_time": "2022-04-21T20:17:43.686Z"
   },
   {
    "duration": 0,
    "start_time": "2022-04-21T20:17:43.687Z"
   },
   {
    "duration": 0,
    "start_time": "2022-04-21T20:17:43.692Z"
   },
   {
    "duration": 0,
    "start_time": "2022-04-21T20:17:43.693Z"
   },
   {
    "duration": 0,
    "start_time": "2022-04-21T20:17:43.694Z"
   },
   {
    "duration": 0,
    "start_time": "2022-04-21T20:17:43.695Z"
   },
   {
    "duration": 1334,
    "start_time": "2022-04-21T20:18:03.098Z"
   },
   {
    "duration": 0,
    "start_time": "2022-04-21T20:18:04.435Z"
   },
   {
    "duration": 0,
    "start_time": "2022-04-21T20:18:04.436Z"
   },
   {
    "duration": 0,
    "start_time": "2022-04-21T20:18:04.437Z"
   },
   {
    "duration": 0,
    "start_time": "2022-04-21T20:18:04.438Z"
   },
   {
    "duration": 0,
    "start_time": "2022-04-21T20:18:04.439Z"
   },
   {
    "duration": 0,
    "start_time": "2022-04-21T20:18:04.440Z"
   },
   {
    "duration": 0,
    "start_time": "2022-04-21T20:18:04.441Z"
   },
   {
    "duration": 0,
    "start_time": "2022-04-21T20:18:04.442Z"
   },
   {
    "duration": 0,
    "start_time": "2022-04-21T20:18:04.443Z"
   },
   {
    "duration": 0,
    "start_time": "2022-04-21T20:18:04.444Z"
   },
   {
    "duration": 0,
    "start_time": "2022-04-21T20:18:04.445Z"
   },
   {
    "duration": 12,
    "start_time": "2022-04-21T20:21:43.642Z"
   },
   {
    "duration": 4,
    "start_time": "2022-04-21T20:23:28.155Z"
   },
   {
    "duration": 13,
    "start_time": "2022-04-21T20:36:37.091Z"
   },
   {
    "duration": 12,
    "start_time": "2022-04-21T20:37:03.499Z"
   },
   {
    "duration": 1277,
    "start_time": "2022-04-21T20:37:15.555Z"
   },
   {
    "duration": 14,
    "start_time": "2022-04-21T20:37:16.834Z"
   },
   {
    "duration": 48,
    "start_time": "2022-04-21T20:37:16.849Z"
   },
   {
    "duration": 13,
    "start_time": "2022-04-21T20:37:16.898Z"
   },
   {
    "duration": 7,
    "start_time": "2022-04-21T20:37:16.914Z"
   },
   {
    "duration": 574,
    "start_time": "2022-04-21T20:37:16.923Z"
   },
   {
    "duration": 1006,
    "start_time": "2022-04-21T20:37:17.499Z"
   },
   {
    "duration": 0,
    "start_time": "2022-04-21T20:37:18.506Z"
   },
   {
    "duration": 0,
    "start_time": "2022-04-21T20:37:18.508Z"
   },
   {
    "duration": 0,
    "start_time": "2022-04-21T20:37:18.509Z"
   },
   {
    "duration": 0,
    "start_time": "2022-04-21T20:37:18.510Z"
   },
   {
    "duration": 0,
    "start_time": "2022-04-21T20:37:18.511Z"
   },
   {
    "duration": 754,
    "start_time": "2022-04-21T20:38:02.994Z"
   },
   {
    "duration": 729,
    "start_time": "2022-04-21T21:49:33.732Z"
   },
   {
    "duration": 1248,
    "start_time": "2022-04-21T21:49:46.118Z"
   },
   {
    "duration": 567,
    "start_time": "2022-04-21T21:49:54.842Z"
   },
   {
    "duration": 2534,
    "start_time": "2022-04-21T21:50:12.446Z"
   },
   {
    "duration": 102,
    "start_time": "2022-04-21T21:50:19.329Z"
   },
   {
    "duration": 7209,
    "start_time": "2022-04-21T21:50:35.004Z"
   },
   {
    "duration": 109,
    "start_time": "2022-04-21T21:50:47.902Z"
   },
   {
    "duration": 219,
    "start_time": "2022-04-21T21:53:58.070Z"
   },
   {
    "duration": 5274,
    "start_time": "2022-04-21T22:04:05.372Z"
   },
   {
    "duration": 1458,
    "start_time": "2022-04-22T01:25:09.075Z"
   },
   {
    "duration": 18,
    "start_time": "2022-04-22T01:25:10.536Z"
   },
   {
    "duration": 31,
    "start_time": "2022-04-22T01:25:10.556Z"
   },
   {
    "duration": 12,
    "start_time": "2022-04-22T01:25:10.588Z"
   },
   {
    "duration": 450,
    "start_time": "2022-04-22T01:25:10.602Z"
   },
   {
    "duration": 4713,
    "start_time": "2022-04-22T01:25:11.054Z"
   },
   {
    "duration": 127,
    "start_time": "2022-04-22T01:25:15.769Z"
   },
   {
    "duration": 113,
    "start_time": "2022-04-22T01:25:15.897Z"
   },
   {
    "duration": 107,
    "start_time": "2022-04-22T01:25:37.611Z"
   },
   {
    "duration": 40,
    "start_time": "2022-04-22T01:27:38.704Z"
   },
   {
    "duration": 171,
    "start_time": "2022-04-22T02:27:42.478Z"
   },
   {
    "duration": 1860,
    "start_time": "2022-04-22T19:39:55.527Z"
   },
   {
    "duration": 30,
    "start_time": "2022-04-22T19:39:57.389Z"
   },
   {
    "duration": 43,
    "start_time": "2022-04-22T19:39:57.420Z"
   },
   {
    "duration": 11,
    "start_time": "2022-04-22T19:39:57.465Z"
   },
   {
    "duration": 1443,
    "start_time": "2022-04-22T19:39:57.479Z"
   },
   {
    "duration": 5799,
    "start_time": "2022-04-22T19:39:58.927Z"
   },
   {
    "duration": 140,
    "start_time": "2022-04-22T19:40:04.728Z"
   },
   {
    "duration": 41,
    "start_time": "2022-04-22T19:40:04.870Z"
   },
   {
    "duration": 132,
    "start_time": "2022-04-22T19:40:04.913Z"
   },
   {
    "duration": 438,
    "start_time": "2022-04-22T19:41:03.087Z"
   },
   {
    "duration": 40,
    "start_time": "2022-04-22T19:45:38.651Z"
   },
   {
    "duration": 189,
    "start_time": "2022-04-22T19:46:20.734Z"
   },
   {
    "duration": 110,
    "start_time": "2022-04-22T19:53:02.216Z"
   },
   {
    "duration": 44,
    "start_time": "2022-04-22T19:54:39.863Z"
   },
   {
    "duration": 123,
    "start_time": "2022-04-22T19:54:45.969Z"
   },
   {
    "duration": 77,
    "start_time": "2022-04-22T19:54:59.537Z"
   },
   {
    "duration": 112,
    "start_time": "2022-04-22T19:55:02.323Z"
   },
   {
    "duration": 176,
    "start_time": "2022-04-22T19:56:07.852Z"
   },
   {
    "duration": 112,
    "start_time": "2022-04-22T19:56:18.731Z"
   },
   {
    "duration": 4,
    "start_time": "2022-04-22T20:06:15.387Z"
   },
   {
    "duration": 10,
    "start_time": "2022-04-22T20:10:36.450Z"
   },
   {
    "duration": 191,
    "start_time": "2022-04-22T20:11:50.152Z"
   },
   {
    "duration": 8,
    "start_time": "2022-04-22T20:11:58.423Z"
   },
   {
    "duration": 10,
    "start_time": "2022-04-22T20:13:01.758Z"
   },
   {
    "duration": 9,
    "start_time": "2022-04-22T20:13:30.401Z"
   },
   {
    "duration": 9,
    "start_time": "2022-04-22T20:15:53.626Z"
   },
   {
    "duration": 20,
    "start_time": "2022-04-22T20:19:33.555Z"
   },
   {
    "duration": 4835,
    "start_time": "2022-04-22T20:19:37.819Z"
   },
   {
    "duration": 118,
    "start_time": "2022-04-22T20:19:42.656Z"
   },
   {
    "duration": 21,
    "start_time": "2022-04-22T20:19:42.776Z"
   },
   {
    "duration": 2186,
    "start_time": "2022-04-23T01:29:54.596Z"
   },
   {
    "duration": 101,
    "start_time": "2022-04-23T01:29:56.785Z"
   },
   {
    "duration": 48,
    "start_time": "2022-04-23T01:29:56.888Z"
   },
   {
    "duration": 18,
    "start_time": "2022-04-23T01:29:56.938Z"
   },
   {
    "duration": 336,
    "start_time": "2022-04-23T01:29:56.959Z"
   },
   {
    "duration": 196,
    "start_time": "2022-04-23T01:29:57.299Z"
   },
   {
    "duration": 333,
    "start_time": "2022-04-23T01:29:57.498Z"
   },
   {
    "duration": 0,
    "start_time": "2022-04-23T01:29:57.834Z"
   },
   {
    "duration": 0,
    "start_time": "2022-04-23T01:29:57.836Z"
   },
   {
    "duration": 0,
    "start_time": "2022-04-23T01:29:57.838Z"
   },
   {
    "duration": 0,
    "start_time": "2022-04-23T01:29:57.840Z"
   },
   {
    "duration": 0,
    "start_time": "2022-04-23T01:29:57.842Z"
   },
   {
    "duration": 103,
    "start_time": "2022-04-23T01:30:37.102Z"
   },
   {
    "duration": 111,
    "start_time": "2022-04-23T01:30:50.208Z"
   },
   {
    "duration": 1913,
    "start_time": "2022-04-23T01:31:01.160Z"
   },
   {
    "duration": 22,
    "start_time": "2022-04-23T01:31:03.076Z"
   },
   {
    "duration": 47,
    "start_time": "2022-04-23T01:31:03.100Z"
   },
   {
    "duration": 18,
    "start_time": "2022-04-23T01:31:03.150Z"
   },
   {
    "duration": 306,
    "start_time": "2022-04-23T01:31:03.195Z"
   },
   {
    "duration": 105,
    "start_time": "2022-04-23T01:31:03.594Z"
   },
   {
    "duration": 207,
    "start_time": "2022-04-23T01:31:03.702Z"
   },
   {
    "duration": 203,
    "start_time": "2022-04-23T01:31:03.911Z"
   },
   {
    "duration": 13,
    "start_time": "2022-04-23T01:31:04.117Z"
   },
   {
    "duration": 6629,
    "start_time": "2022-04-23T01:31:04.132Z"
   },
   {
    "duration": 176,
    "start_time": "2022-04-23T01:31:10.763Z"
   },
   {
    "duration": 28,
    "start_time": "2022-04-23T01:31:10.941Z"
   },
   {
    "duration": 36873,
    "start_time": "2022-04-23T14:21:54.586Z"
   },
   {
    "duration": 13,
    "start_time": "2022-04-23T14:22:31.461Z"
   },
   {
    "duration": 86,
    "start_time": "2022-04-23T14:22:31.477Z"
   },
   {
    "duration": 12,
    "start_time": "2022-04-23T14:22:31.564Z"
   },
   {
    "duration": 149,
    "start_time": "2022-04-23T14:22:31.578Z"
   },
   {
    "duration": 95,
    "start_time": "2022-04-23T14:22:31.729Z"
   },
   {
    "duration": 159,
    "start_time": "2022-04-23T14:22:31.826Z"
   },
   {
    "duration": 140,
    "start_time": "2022-04-23T14:22:31.986Z"
   },
   {
    "duration": 14,
    "start_time": "2022-04-23T14:22:32.128Z"
   },
   {
    "duration": 6661,
    "start_time": "2022-04-23T14:22:32.145Z"
   },
   {
    "duration": 176,
    "start_time": "2022-04-23T14:22:38.808Z"
   },
   {
    "duration": 22,
    "start_time": "2022-04-23T14:22:38.986Z"
   },
   {
    "duration": 1697,
    "start_time": "2022-04-25T02:00:48.810Z"
   },
   {
    "duration": 20,
    "start_time": "2022-04-25T02:00:50.509Z"
   },
   {
    "duration": 34,
    "start_time": "2022-04-25T02:00:50.530Z"
   },
   {
    "duration": 13,
    "start_time": "2022-04-25T02:00:50.566Z"
   },
   {
    "duration": 17,
    "start_time": "2022-04-25T02:00:50.581Z"
   },
   {
    "duration": 301,
    "start_time": "2022-04-25T02:00:50.600Z"
   },
   {
    "duration": 9,
    "start_time": "2022-04-25T02:04:47.038Z"
   },
   {
    "duration": 1640,
    "start_time": "2022-04-25T02:05:03.354Z"
   },
   {
    "duration": 21,
    "start_time": "2022-04-25T02:05:04.996Z"
   },
   {
    "duration": 38,
    "start_time": "2022-04-25T02:05:05.019Z"
   },
   {
    "duration": 37,
    "start_time": "2022-04-25T02:05:05.060Z"
   },
   {
    "duration": 8,
    "start_time": "2022-04-25T02:05:05.100Z"
   },
   {
    "duration": 25,
    "start_time": "2022-04-25T02:05:05.110Z"
   },
   {
    "duration": 24,
    "start_time": "2022-04-25T02:05:12.599Z"
   },
   {
    "duration": 281,
    "start_time": "2022-04-25T02:05:21.913Z"
   },
   {
    "duration": 8,
    "start_time": "2022-04-25T02:05:37.667Z"
   },
   {
    "duration": 8,
    "start_time": "2022-04-25T02:05:43.653Z"
   },
   {
    "duration": 272,
    "start_time": "2022-04-25T02:05:45.524Z"
   },
   {
    "duration": 8,
    "start_time": "2022-04-25T02:05:56.729Z"
   },
   {
    "duration": 25,
    "start_time": "2022-04-25T02:05:58.993Z"
   },
   {
    "duration": 10,
    "start_time": "2022-04-25T02:08:21.790Z"
   },
   {
    "duration": 403,
    "start_time": "2022-04-25T02:08:25.590Z"
   },
   {
    "duration": 382,
    "start_time": "2022-04-25T02:08:30.719Z"
   },
   {
    "duration": 164,
    "start_time": "2022-04-25T02:08:37.838Z"
   },
   {
    "duration": 743,
    "start_time": "2022-04-25T02:10:49.553Z"
   },
   {
    "duration": 8,
    "start_time": "2022-04-25T02:11:00.482Z"
   },
   {
    "duration": 63,
    "start_time": "2022-04-25T02:11:03.741Z"
   },
   {
    "duration": 6,
    "start_time": "2022-04-25T02:16:18.665Z"
   },
   {
    "duration": 111,
    "start_time": "2022-04-25T02:16:26.730Z"
   },
   {
    "duration": 4,
    "start_time": "2022-04-25T02:16:28.630Z"
   },
   {
    "duration": 6,
    "start_time": "2022-04-25T02:16:37.452Z"
   },
   {
    "duration": 1613,
    "start_time": "2022-04-25T02:29:58.476Z"
   },
   {
    "duration": 19,
    "start_time": "2022-04-25T02:30:00.091Z"
   },
   {
    "duration": 34,
    "start_time": "2022-04-25T02:30:00.112Z"
   },
   {
    "duration": 12,
    "start_time": "2022-04-25T02:30:00.147Z"
   },
   {
    "duration": 8,
    "start_time": "2022-04-25T02:30:00.162Z"
   },
   {
    "duration": 323,
    "start_time": "2022-04-25T02:30:00.171Z"
   },
   {
    "duration": 106,
    "start_time": "2022-04-25T02:30:00.496Z"
   },
   {
    "duration": 165,
    "start_time": "2022-04-25T02:30:00.694Z"
   },
   {
    "duration": 141,
    "start_time": "2022-04-25T02:30:00.861Z"
   },
   {
    "duration": 10,
    "start_time": "2022-04-25T02:30:01.004Z"
   },
   {
    "duration": 5467,
    "start_time": "2022-04-25T02:30:01.016Z"
   },
   {
    "duration": 123,
    "start_time": "2022-04-25T02:30:06.485Z"
   },
   {
    "duration": 24,
    "start_time": "2022-04-25T02:30:06.610Z"
   },
   {
    "duration": 6,
    "start_time": "2022-04-25T02:30:06.636Z"
   },
   {
    "duration": 248,
    "start_time": "2022-04-25T02:34:24.649Z"
   },
   {
    "duration": 8,
    "start_time": "2022-04-25T02:34:30.763Z"
   },
   {
    "duration": 256,
    "start_time": "2022-04-25T02:34:32.437Z"
   },
   {
    "duration": 12,
    "start_time": "2022-04-25T02:34:36.011Z"
   },
   {
    "duration": 1529,
    "start_time": "2022-04-25T02:43:40.783Z"
   },
   {
    "duration": 15,
    "start_time": "2022-04-25T02:43:42.314Z"
   },
   {
    "duration": 32,
    "start_time": "2022-04-25T02:43:42.331Z"
   },
   {
    "duration": 12,
    "start_time": "2022-04-25T02:43:42.366Z"
   },
   {
    "duration": 9,
    "start_time": "2022-04-25T02:43:42.392Z"
   },
   {
    "duration": 292,
    "start_time": "2022-04-25T02:43:42.402Z"
   },
   {
    "duration": 104,
    "start_time": "2022-04-25T02:43:42.696Z"
   },
   {
    "duration": 167,
    "start_time": "2022-04-25T02:43:42.803Z"
   },
   {
    "duration": 148,
    "start_time": "2022-04-25T02:43:42.971Z"
   },
   {
    "duration": 10,
    "start_time": "2022-04-25T02:43:43.121Z"
   },
   {
    "duration": 5410,
    "start_time": "2022-04-25T02:43:43.133Z"
   },
   {
    "duration": 127,
    "start_time": "2022-04-25T02:43:48.545Z"
   },
   {
    "duration": 27,
    "start_time": "2022-04-25T02:43:48.674Z"
   },
   {
    "duration": 1454,
    "start_time": "2022-04-25T02:56:31.537Z"
   },
   {
    "duration": 14,
    "start_time": "2022-04-25T02:56:32.993Z"
   },
   {
    "duration": 32,
    "start_time": "2022-04-25T02:56:33.009Z"
   },
   {
    "duration": 12,
    "start_time": "2022-04-25T02:56:33.042Z"
   },
   {
    "duration": 7,
    "start_time": "2022-04-25T02:56:33.057Z"
   },
   {
    "duration": 333,
    "start_time": "2022-04-25T02:56:33.065Z"
   },
   {
    "duration": 103,
    "start_time": "2022-04-25T02:56:33.400Z"
   },
   {
    "duration": 166,
    "start_time": "2022-04-25T02:56:33.592Z"
   },
   {
    "duration": 146,
    "start_time": "2022-04-25T02:56:33.759Z"
   },
   {
    "duration": 10,
    "start_time": "2022-04-25T02:56:33.907Z"
   },
   {
    "duration": 5278,
    "start_time": "2022-04-25T02:56:33.919Z"
   },
   {
    "duration": 129,
    "start_time": "2022-04-25T02:56:39.199Z"
   },
   {
    "duration": 22,
    "start_time": "2022-04-25T02:56:39.330Z"
   },
   {
    "duration": 2150,
    "start_time": "2022-04-25T09:55:08.015Z"
   },
   {
    "duration": 18,
    "start_time": "2022-04-25T09:55:10.167Z"
   },
   {
    "duration": 35,
    "start_time": "2022-04-25T09:55:10.187Z"
   },
   {
    "duration": 12,
    "start_time": "2022-04-25T09:55:10.224Z"
   },
   {
    "duration": 7,
    "start_time": "2022-04-25T09:55:10.238Z"
   },
   {
    "duration": 368,
    "start_time": "2022-04-25T09:55:10.247Z"
   },
   {
    "duration": 195,
    "start_time": "2022-04-25T09:55:10.617Z"
   },
   {
    "duration": 161,
    "start_time": "2022-04-25T09:55:10.815Z"
   },
   {
    "duration": 147,
    "start_time": "2022-04-25T09:55:10.978Z"
   },
   {
    "duration": 10,
    "start_time": "2022-04-25T09:55:11.127Z"
   },
   {
    "duration": 5139,
    "start_time": "2022-04-25T09:55:11.138Z"
   },
   {
    "duration": 119,
    "start_time": "2022-04-25T09:55:16.279Z"
   },
   {
    "duration": 28,
    "start_time": "2022-04-25T09:55:16.399Z"
   },
   {
    "duration": 2499,
    "start_time": "2022-04-25T13:40:55.954Z"
   },
   {
    "duration": 62,
    "start_time": "2022-04-25T13:40:58.456Z"
   },
   {
    "duration": 53,
    "start_time": "2022-04-25T13:40:58.522Z"
   },
   {
    "duration": 27,
    "start_time": "2022-04-25T13:40:58.577Z"
   },
   {
    "duration": 14,
    "start_time": "2022-04-25T13:40:58.611Z"
   },
   {
    "duration": 656,
    "start_time": "2022-04-25T13:40:58.627Z"
   },
   {
    "duration": 16,
    "start_time": "2022-04-25T13:41:07.146Z"
   },
   {
    "duration": 2665,
    "start_time": "2022-04-25T13:42:57.765Z"
   },
   {
    "duration": 16,
    "start_time": "2022-04-25T13:43:00.433Z"
   },
   {
    "duration": 84,
    "start_time": "2022-04-25T13:43:00.452Z"
   },
   {
    "duration": 43,
    "start_time": "2022-04-25T13:43:00.540Z"
   },
   {
    "duration": 26,
    "start_time": "2022-04-25T13:43:00.587Z"
   },
   {
    "duration": 1083,
    "start_time": "2022-04-25T13:43:00.616Z"
   },
   {
    "duration": 97,
    "start_time": "2022-04-25T13:43:01.702Z"
   },
   {
    "duration": 137,
    "start_time": "2022-04-25T13:43:01.802Z"
   },
   {
    "duration": 224,
    "start_time": "2022-04-25T13:43:01.941Z"
   },
   {
    "duration": 27,
    "start_time": "2022-04-25T13:43:02.168Z"
   },
   {
    "duration": 9232,
    "start_time": "2022-04-25T13:43:02.198Z"
   },
   {
    "duration": 212,
    "start_time": "2022-04-25T13:43:11.434Z"
   },
   {
    "duration": 36,
    "start_time": "2022-04-25T13:43:11.649Z"
   },
   {
    "duration": 2243,
    "start_time": "2022-04-25T13:56:28.872Z"
   },
   {
    "duration": 22,
    "start_time": "2022-04-25T13:56:31.121Z"
   },
   {
    "duration": 73,
    "start_time": "2022-04-25T13:56:31.145Z"
   },
   {
    "duration": 21,
    "start_time": "2022-04-25T13:56:31.221Z"
   },
   {
    "duration": 38,
    "start_time": "2022-04-25T13:56:31.246Z"
   },
   {
    "duration": 813,
    "start_time": "2022-04-25T13:56:31.287Z"
   },
   {
    "duration": 93,
    "start_time": "2022-04-25T13:56:32.117Z"
   },
   {
    "duration": 147,
    "start_time": "2022-04-25T13:56:32.213Z"
   },
   {
    "duration": 269,
    "start_time": "2022-04-25T13:56:32.365Z"
   },
   {
    "duration": 17,
    "start_time": "2022-04-25T13:56:32.636Z"
   },
   {
    "duration": 10140,
    "start_time": "2022-04-25T13:56:32.656Z"
   },
   {
    "duration": 272,
    "start_time": "2022-04-25T13:56:42.799Z"
   },
   {
    "duration": 33,
    "start_time": "2022-04-25T13:56:43.075Z"
   },
   {
    "duration": 4,
    "start_time": "2022-04-25T14:19:08.607Z"
   },
   {
    "duration": 33,
    "start_time": "2022-04-25T14:19:08.614Z"
   },
   {
    "duration": 32,
    "start_time": "2022-04-25T14:19:08.649Z"
   },
   {
    "duration": 13,
    "start_time": "2022-04-25T14:19:08.683Z"
   },
   {
    "duration": 14,
    "start_time": "2022-04-25T14:19:08.698Z"
   },
   {
    "duration": 494,
    "start_time": "2022-04-25T14:19:08.714Z"
   },
   {
    "duration": 101,
    "start_time": "2022-04-25T14:19:09.210Z"
   },
   {
    "duration": 78,
    "start_time": "2022-04-25T14:19:09.313Z"
   },
   {
    "duration": 142,
    "start_time": "2022-04-25T14:19:09.407Z"
   },
   {
    "duration": 9,
    "start_time": "2022-04-25T14:19:09.552Z"
   },
   {
    "duration": 5523,
    "start_time": "2022-04-25T14:19:09.563Z"
   },
   {
    "duration": 140,
    "start_time": "2022-04-25T14:19:15.088Z"
   },
   {
    "duration": 15,
    "start_time": "2022-04-25T14:19:15.230Z"
   }
  ],
  "kernelspec": {
   "display_name": "Python 3 (ipykernel)",
   "language": "python",
   "name": "python3"
  },
  "language_info": {
   "codemirror_mode": {
    "name": "ipython",
    "version": 3
   },
   "file_extension": ".py",
   "mimetype": "text/x-python",
   "name": "python",
   "nbconvert_exporter": "python",
   "pygments_lexer": "ipython3",
   "version": "3.9.5"
  },
  "toc": {
   "base_numbering": 1,
   "nav_menu": {},
   "number_sections": true,
   "sideBar": true,
   "skip_h1_title": true,
   "title_cell": "Table of Contents",
   "title_sidebar": "Contents",
   "toc_cell": false,
   "toc_position": {},
   "toc_section_display": true,
   "toc_window_display": false
  }
 },
 "nbformat": 4,
 "nbformat_minor": 2
}
