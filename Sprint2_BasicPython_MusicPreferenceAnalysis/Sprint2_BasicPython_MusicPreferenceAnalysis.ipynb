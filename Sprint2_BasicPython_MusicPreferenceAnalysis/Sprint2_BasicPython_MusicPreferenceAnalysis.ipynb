{
 "cells": [
  {
   "cell_type": "markdown",
   "metadata": {
    "id": "E0vqbgi9ay0H"
   },
   "source": [
    "# Yandex.Music"
   ]
  },
  {
   "cell_type": "markdown",
   "metadata": {
    "id": "fhq_eyov_Zcs"
   },
   "source": [
    "# Contents <a id='back'></a>\n",
    "\n",
    "* [Introduction](#intro)\n",
    "* [Stage 1. Data overview](#data_review)\n",
    "    * [Conclusions](#data_review_conclusions)\n",
    "* [Stage 2. Data preprocessing](#data_preprocessing)\n",
    "    * [2.1 Header style](#header_style)\n",
    "    * [2.2 Missing values](#missing_values)\n",
    "    * [2.3 Duplicates](#duplicates)\n",
    "    * [2.4 Conclusions](#data_preprocessing_conclusions)\n",
    "* [Stage 3. Testing the hypotheses](#hypotheses)\n",
    "    * [3.1 Hypothesis 1: user activity in the two cities](#activity)\n",
    "    * [3.2 Hypothesis 2: music preferences on Monday and Friday](#week)\n",
    "    * [3.3 Hypothesis 3: genre preferences in Springfield and Shelbyville](#genre)\n",
    "* [Findings](#end)"
   ]
  },
  {
   "cell_type": "markdown",
   "metadata": {
    "id": "VUC88oWjTJw2"
   },
   "source": [
    "## Introduction <a id='intro'></a>\n",
    "Whenever we're doing research, we need to formulate hypotheses that we can then test. Sometimes we accept these hypotheses; other times, we reject them. To make the right decisions, a business must be able to understand whether or not it's making the right assumptions.\n",
    "\n",
    "In this project, you'll compare the music preferences of the cities of Springfield and Shelbyville. You'll study real Yandex.Music data to test the hypotheses below and compare user behavior for these two cities.\n",
    "\n",
    "### Goal: \n",
    "Test three hypotheses:\n",
    "1. User activity differs depending on the day of the week and from city to city. \n",
    "2. On Monday mornings, Springfield and Shelbyville residents listen to different genres. This is also true for Friday evenings. \n",
    "3. Springfield and Shelbyville listeners have different preferences. In Springfield, they prefer pop, while Shelbyville has more rap fans.\n",
    "\n",
    "### Stages \n",
    "Data on user behavior is stored in the file `/datasets/music_project_en.csv`. There is no information about the quality of the data, so you will need to explore it before testing the hypotheses. \n",
    "\n",
    "First, you'll evaluate the quality of the data and see whether its issues are significant. Then, during data preprocessing, you will try to account for the most critical problems.\n",
    " \n",
    "Your project will consist of three stages:\n",
    " 1. Data overview\n",
    " 2. Data preprocessing\n",
    " 3. Testing the hypotheses\n",
    " \n",
    "[Back to Contents](#back)"
   ]
  },
  {
   "cell_type": "markdown",
   "metadata": {
    "id": "Ml1hmfXC_Zcs"
   },
   "source": [
    "## Stage 1. Data overview <a id='data_review'></a>\n",
    "\n",
    "Open the data on Yandex.Music and explore it."
   ]
  },
  {
   "cell_type": "markdown",
   "metadata": {
    "id": "57eAOGIz_Zcs"
   },
   "source": [
    "You'll need `pandas`, so import it."
   ]
  },
  {
   "cell_type": "code",
   "execution_count": 1,
   "metadata": {
    "id": "AXN7PHPN_Zcs"
   },
   "outputs": [],
   "source": [
    "# importing pandas\n",
    "import pandas as pd\n"
   ]
  },
  {
   "cell_type": "markdown",
   "metadata": {
    "id": "SG23P8tt_Zcs"
   },
   "source": [
    "Read the file `music_project_en.csv` from the `/datasets/` folder and save it in the `df` variable:"
   ]
  },
  {
   "cell_type": "code",
   "execution_count": 2,
   "metadata": {
    "id": "fFVu7vqh_Zct"
   },
   "outputs": [
    {
     "data": {
      "text/html": [
       "<div>\n",
       "<style scoped>\n",
       "    .dataframe tbody tr th:only-of-type {\n",
       "        vertical-align: middle;\n",
       "    }\n",
       "\n",
       "    .dataframe tbody tr th {\n",
       "        vertical-align: top;\n",
       "    }\n",
       "\n",
       "    .dataframe thead th {\n",
       "        text-align: right;\n",
       "    }\n",
       "</style>\n",
       "<table border=\"1\" class=\"dataframe\">\n",
       "  <thead>\n",
       "    <tr style=\"text-align: right;\">\n",
       "      <th></th>\n",
       "      <th>userID</th>\n",
       "      <th>Track</th>\n",
       "      <th>artist</th>\n",
       "      <th>genre</th>\n",
       "      <th>City</th>\n",
       "      <th>time</th>\n",
       "      <th>Day</th>\n",
       "    </tr>\n",
       "  </thead>\n",
       "  <tbody>\n",
       "    <tr>\n",
       "      <td>count</td>\n",
       "      <td>65079</td>\n",
       "      <td>63736</td>\n",
       "      <td>57512</td>\n",
       "      <td>63881</td>\n",
       "      <td>65079</td>\n",
       "      <td>65079</td>\n",
       "      <td>65079</td>\n",
       "    </tr>\n",
       "    <tr>\n",
       "      <td>unique</td>\n",
       "      <td>41748</td>\n",
       "      <td>39666</td>\n",
       "      <td>37806</td>\n",
       "      <td>268</td>\n",
       "      <td>2</td>\n",
       "      <td>20392</td>\n",
       "      <td>3</td>\n",
       "    </tr>\n",
       "    <tr>\n",
       "      <td>top</td>\n",
       "      <td>A8AE9169</td>\n",
       "      <td>Brand</td>\n",
       "      <td>Kartvelli</td>\n",
       "      <td>pop</td>\n",
       "      <td>Springfield</td>\n",
       "      <td>21:51:22</td>\n",
       "      <td>Friday</td>\n",
       "    </tr>\n",
       "    <tr>\n",
       "      <td>freq</td>\n",
       "      <td>76</td>\n",
       "      <td>136</td>\n",
       "      <td>136</td>\n",
       "      <td>8850</td>\n",
       "      <td>45360</td>\n",
       "      <td>14</td>\n",
       "      <td>23149</td>\n",
       "    </tr>\n",
       "  </tbody>\n",
       "</table>\n",
       "</div>"
      ],
      "text/plain": [
       "          userID  Track     artist  genre       City        time     Day\n",
       "count      65079  63736      57512  63881        65079     65079   65079\n",
       "unique     41748  39666      37806    268            2     20392       3\n",
       "top     A8AE9169  Brand  Kartvelli    pop  Springfield  21:51:22  Friday\n",
       "freq          76    136        136   8850        45360        14   23149"
      ]
     },
     "execution_count": 2,
     "metadata": {},
     "output_type": "execute_result"
    }
   ],
   "source": [
    "# reading the file and storing it to df\n",
    "df = pd.read_csv(\"/datasets/music_project_en.csv\")\n",
    "df.describe(include = 'all')"
   ]
  },
  {
   "cell_type": "markdown",
   "metadata": {
    "id": "rDoOMd3uTqnZ"
   },
   "source": [
    "Print the first 10 table rows:"
   ]
  },
  {
   "cell_type": "code",
   "execution_count": 3,
   "metadata": {
    "id": "oWTVX3gW_Zct"
   },
   "outputs": [
    {
     "data": {
      "text/html": [
       "<div>\n",
       "<style scoped>\n",
       "    .dataframe tbody tr th:only-of-type {\n",
       "        vertical-align: middle;\n",
       "    }\n",
       "\n",
       "    .dataframe tbody tr th {\n",
       "        vertical-align: top;\n",
       "    }\n",
       "\n",
       "    .dataframe thead th {\n",
       "        text-align: right;\n",
       "    }\n",
       "</style>\n",
       "<table border=\"1\" class=\"dataframe\">\n",
       "  <thead>\n",
       "    <tr style=\"text-align: right;\">\n",
       "      <th></th>\n",
       "      <th>userID</th>\n",
       "      <th>Track</th>\n",
       "      <th>artist</th>\n",
       "      <th>genre</th>\n",
       "      <th>City</th>\n",
       "      <th>time</th>\n",
       "      <th>Day</th>\n",
       "    </tr>\n",
       "  </thead>\n",
       "  <tbody>\n",
       "    <tr>\n",
       "      <td>0</td>\n",
       "      <td>FFB692EC</td>\n",
       "      <td>Kamigata To Boots</td>\n",
       "      <td>The Mass Missile</td>\n",
       "      <td>rock</td>\n",
       "      <td>Shelbyville</td>\n",
       "      <td>20:28:33</td>\n",
       "      <td>Wednesday</td>\n",
       "    </tr>\n",
       "    <tr>\n",
       "      <td>1</td>\n",
       "      <td>55204538</td>\n",
       "      <td>Delayed Because of Accident</td>\n",
       "      <td>Andreas Rönnberg</td>\n",
       "      <td>rock</td>\n",
       "      <td>Springfield</td>\n",
       "      <td>14:07:09</td>\n",
       "      <td>Friday</td>\n",
       "    </tr>\n",
       "    <tr>\n",
       "      <td>2</td>\n",
       "      <td>20EC38</td>\n",
       "      <td>Funiculì funiculà</td>\n",
       "      <td>Mario Lanza</td>\n",
       "      <td>pop</td>\n",
       "      <td>Shelbyville</td>\n",
       "      <td>20:58:07</td>\n",
       "      <td>Wednesday</td>\n",
       "    </tr>\n",
       "    <tr>\n",
       "      <td>3</td>\n",
       "      <td>A3DD03C9</td>\n",
       "      <td>Dragons in the Sunset</td>\n",
       "      <td>Fire + Ice</td>\n",
       "      <td>folk</td>\n",
       "      <td>Shelbyville</td>\n",
       "      <td>08:37:09</td>\n",
       "      <td>Monday</td>\n",
       "    </tr>\n",
       "    <tr>\n",
       "      <td>4</td>\n",
       "      <td>E2DC1FAE</td>\n",
       "      <td>Soul People</td>\n",
       "      <td>Space Echo</td>\n",
       "      <td>dance</td>\n",
       "      <td>Springfield</td>\n",
       "      <td>08:34:34</td>\n",
       "      <td>Monday</td>\n",
       "    </tr>\n",
       "    <tr>\n",
       "      <td>5</td>\n",
       "      <td>842029A1</td>\n",
       "      <td>Chains</td>\n",
       "      <td>Obladaet</td>\n",
       "      <td>rusrap</td>\n",
       "      <td>Shelbyville</td>\n",
       "      <td>13:09:41</td>\n",
       "      <td>Friday</td>\n",
       "    </tr>\n",
       "    <tr>\n",
       "      <td>6</td>\n",
       "      <td>4CB90AA5</td>\n",
       "      <td>True</td>\n",
       "      <td>Roman Messer</td>\n",
       "      <td>dance</td>\n",
       "      <td>Springfield</td>\n",
       "      <td>13:00:07</td>\n",
       "      <td>Wednesday</td>\n",
       "    </tr>\n",
       "    <tr>\n",
       "      <td>7</td>\n",
       "      <td>F03E1C1F</td>\n",
       "      <td>Feeling This Way</td>\n",
       "      <td>Polina Griffith</td>\n",
       "      <td>dance</td>\n",
       "      <td>Springfield</td>\n",
       "      <td>20:47:49</td>\n",
       "      <td>Wednesday</td>\n",
       "    </tr>\n",
       "    <tr>\n",
       "      <td>8</td>\n",
       "      <td>8FA1D3BE</td>\n",
       "      <td>L’estate</td>\n",
       "      <td>Julia Dalia</td>\n",
       "      <td>ruspop</td>\n",
       "      <td>Springfield</td>\n",
       "      <td>09:17:40</td>\n",
       "      <td>Friday</td>\n",
       "    </tr>\n",
       "    <tr>\n",
       "      <td>9</td>\n",
       "      <td>E772D5C0</td>\n",
       "      <td>Pessimist</td>\n",
       "      <td>NaN</td>\n",
       "      <td>dance</td>\n",
       "      <td>Shelbyville</td>\n",
       "      <td>21:20:49</td>\n",
       "      <td>Wednesday</td>\n",
       "    </tr>\n",
       "  </tbody>\n",
       "</table>\n",
       "</div>"
      ],
      "text/plain": [
       "     userID                        Track            artist   genre  \\\n",
       "0  FFB692EC            Kamigata To Boots  The Mass Missile    rock   \n",
       "1  55204538  Delayed Because of Accident  Andreas Rönnberg    rock   \n",
       "2    20EC38            Funiculì funiculà       Mario Lanza     pop   \n",
       "3  A3DD03C9        Dragons in the Sunset        Fire + Ice    folk   \n",
       "4  E2DC1FAE                  Soul People        Space Echo   dance   \n",
       "5  842029A1                       Chains          Obladaet  rusrap   \n",
       "6  4CB90AA5                         True      Roman Messer   dance   \n",
       "7  F03E1C1F             Feeling This Way   Polina Griffith   dance   \n",
       "8  8FA1D3BE                     L’estate       Julia Dalia  ruspop   \n",
       "9  E772D5C0                    Pessimist               NaN   dance   \n",
       "\n",
       "        City        time        Day  \n",
       "0  Shelbyville  20:28:33  Wednesday  \n",
       "1  Springfield  14:07:09     Friday  \n",
       "2  Shelbyville  20:58:07  Wednesday  \n",
       "3  Shelbyville  08:37:09     Monday  \n",
       "4  Springfield  08:34:34     Monday  \n",
       "5  Shelbyville  13:09:41     Friday  \n",
       "6  Springfield  13:00:07  Wednesday  \n",
       "7  Springfield  20:47:49  Wednesday  \n",
       "8  Springfield  09:17:40     Friday  \n",
       "9  Shelbyville  21:20:49  Wednesday  "
      ]
     },
     "metadata": {},
     "output_type": "display_data"
    }
   ],
   "source": [
    "# obtaining the first 10 rows from the df table\n",
    "display(df.head(10))"
   ]
  },
  {
   "cell_type": "markdown",
   "metadata": {
    "id": "EO73Kwic_Zct"
   },
   "source": [
    "Obtaining the general information about the table with one command:"
   ]
  },
  {
   "cell_type": "code",
   "execution_count": 4,
   "metadata": {
    "id": "DSf2kIb-_Zct"
   },
   "outputs": [
    {
     "name": "stdout",
     "output_type": "stream",
     "text": [
      "<class 'pandas.core.frame.DataFrame'>\n",
      "RangeIndex: 65079 entries, 0 to 65078\n",
      "Data columns (total 7 columns):\n",
      "  userID    65079 non-null object\n",
      "Track       63736 non-null object\n",
      "artist      57512 non-null object\n",
      "genre       63881 non-null object\n",
      "  City      65079 non-null object\n",
      "time        65079 non-null object\n",
      "Day         65079 non-null object\n",
      "dtypes: object(7)\n",
      "memory usage: 3.5+ MB\n"
     ]
    }
   ],
   "source": [
    "# obtaining general information about the data in df\n",
    "df.info()"
   ]
  },
  {
   "cell_type": "markdown",
   "metadata": {
    "id": "TaQ2Iwbr_Zct"
   },
   "source": [
    "The table contains seven columns. They all store the same data type: `object`.\n",
    "\n",
    "According to the documentation:\n",
    "- `'userID'` — user identifier\n",
    "- `'Track'` — track title\n",
    "- `'artist'` — artist's name\n",
    "- `'genre'`\n",
    "- `'City'` — user's city\n",
    "- `'time'` — the exact time the track was played\n",
    "- `'Day'` — day of the week\n",
    "\n",
    "We can see three issues with style in the column names:\n",
    "1. Some names are uppercase, some are lowercase.\n",
    "2. There are spaces in some names.\n",
    "3. The name that consists of two words (\"userID\") does not separate the words with an underscore.\n",
    "\n",
    "The number of column values is different. This means the data contains missing values.\n"
   ]
  },
  {
   "cell_type": "markdown",
   "metadata": {
    "id": "MCB6-dXG_Zct"
   },
   "source": [
    "### Conclusions <a id='data_review_conclusions'></a> \n",
    "\n",
    "Each row in the table stores data on a track that was played. Some columns describe the track itself: its title, artist and genre. The rest convey information about the user: the city they come from, the time they played the track. \n",
    "\n",
    "It's clear that the data is sufficient to test the hypotheses. However, there are missing values.\n",
    "\n",
    "To move forward, we need to preprocess the data."
   ]
  },
  {
   "cell_type": "markdown",
   "metadata": {
    "id": "3eL__vcwViOi"
   },
   "source": [
    "[Back to Contents](#back)"
   ]
  },
  {
   "cell_type": "markdown",
   "metadata": {
    "id": "SjYF6Ub9_Zct"
   },
   "source": [
    "## Stage 2. Data preprocessing <a id='data_preprocessing'></a>\n",
    "Correct the formatting in the column headers and deal with the missing values. Then, check whether there are duplicates in the data."
   ]
  },
  {
   "cell_type": "markdown",
   "metadata": {
    "id": "dIaKXr29_Zct"
   },
   "source": [
    "### Header style <a id='header_style'></a>\n",
    "Print the column header:"
   ]
  },
  {
   "cell_type": "code",
   "execution_count": 5,
   "metadata": {
    "id": "oKOTdF_Q_Zct"
   },
   "outputs": [
    {
     "data": {
      "text/plain": [
       "Index(['  userID', 'Track', 'artist', 'genre', '  City  ', 'time', 'Day'], dtype='object')"
      ]
     },
     "execution_count": 5,
     "metadata": {},
     "output_type": "execute_result"
    }
   ],
   "source": [
    "# the list of column names in the df table\n",
    "df.columns"
   ]
  },
  {
   "cell_type": "markdown",
   "metadata": {
    "id": "zj5534cv_Zct"
   },
   "source": [
    "Change column names according to the rules of good style:\n",
    "* If the name has several words, use snake_case\n",
    "* All characters must be lowercase\n",
    "* Delete spaces"
   ]
  },
  {
   "cell_type": "code",
   "execution_count": 6,
   "metadata": {
    "id": "ISlFqs5y_Zct"
   },
   "outputs": [],
   "source": [
    "# renaming columns\n",
    "df = df.rename(columns = {'  userID': 'user_id', 'Track': 'track', '  City  ': 'city', 'Day': 'day'})"
   ]
  },
  {
   "cell_type": "markdown",
   "metadata": {
    "id": "1dqbh00J_Zct"
   },
   "source": [
    "Check the result. Print the names of the columns once more:"
   ]
  },
  {
   "cell_type": "code",
   "execution_count": 7,
   "metadata": {
    "id": "d4NOAmTW_Zct"
   },
   "outputs": [
    {
     "data": {
      "text/plain": [
       "Index(['user_id', 'track', 'artist', 'genre', 'city', 'time', 'day'], dtype='object')"
      ]
     },
     "execution_count": 7,
     "metadata": {},
     "output_type": "execute_result"
    }
   ],
   "source": [
    "# checking result: the list of column names\n",
    "df.columns"
   ]
  },
  {
   "cell_type": "markdown",
   "metadata": {
    "id": "xYJk6ksJVpOl"
   },
   "source": [
    "[Back to Contents](#back)"
   ]
  },
  {
   "cell_type": "markdown",
   "metadata": {
    "id": "5ISfbcfY_Zct"
   },
   "source": [
    "### Missing values <a id='missing_values'></a>\n",
    "First, find the number of missing values in the table. To do so, use two `pandas` methods:"
   ]
  },
  {
   "cell_type": "code",
   "execution_count": 8,
   "metadata": {
    "id": "RskX29qr_Zct"
   },
   "outputs": [
    {
     "data": {
      "text/plain": [
       "user_id       0\n",
       "track      1343\n",
       "artist     7567\n",
       "genre      1198\n",
       "city          0\n",
       "time          0\n",
       "day           0\n",
       "dtype: int64"
      ]
     },
     "execution_count": 8,
     "metadata": {},
     "output_type": "execute_result"
    }
   ],
   "source": [
    "# calculating missing values\n",
    "df.isnull().sum()"
   ]
  },
  {
   "cell_type": "code",
   "execution_count": 9,
   "metadata": {},
   "outputs": [
    {
     "data": {
      "text/html": [
       "<style  type=\"text/css\" >\n",
       "    #T_5fca8e6c_70a4_11ec_8fa2_02420a39c97arow0_col0 {\n",
       "            background-color:  #3b4cc0;\n",
       "            color:  #f1f1f1;\n",
       "        }    #T_5fca8e6c_70a4_11ec_8fa2_02420a39c97arow1_col0 {\n",
       "            background-color:  #7396f5;\n",
       "            color:  #000000;\n",
       "        }    #T_5fca8e6c_70a4_11ec_8fa2_02420a39c97arow2_col0 {\n",
       "            background-color:  #b40426;\n",
       "            color:  #f1f1f1;\n",
       "        }    #T_5fca8e6c_70a4_11ec_8fa2_02420a39c97arow3_col0 {\n",
       "            background-color:  #6c8ff1;\n",
       "            color:  #000000;\n",
       "        }    #T_5fca8e6c_70a4_11ec_8fa2_02420a39c97arow4_col0 {\n",
       "            background-color:  #3b4cc0;\n",
       "            color:  #f1f1f1;\n",
       "        }    #T_5fca8e6c_70a4_11ec_8fa2_02420a39c97arow5_col0 {\n",
       "            background-color:  #3b4cc0;\n",
       "            color:  #f1f1f1;\n",
       "        }    #T_5fca8e6c_70a4_11ec_8fa2_02420a39c97arow6_col0 {\n",
       "            background-color:  #3b4cc0;\n",
       "            color:  #f1f1f1;\n",
       "        }</style><table id=\"T_5fca8e6c_70a4_11ec_8fa2_02420a39c97a\" ><thead>    <tr>        <th class=\"blank level0\" ></th>        <th class=\"col_heading level0 col0\" >0</th>    </tr></thead><tbody>\n",
       "                <tr>\n",
       "                        <th id=\"T_5fca8e6c_70a4_11ec_8fa2_02420a39c97alevel0_row0\" class=\"row_heading level0 row0\" >user_id</th>\n",
       "                        <td id=\"T_5fca8e6c_70a4_11ec_8fa2_02420a39c97arow0_col0\" class=\"data row0 col0\" >0</td>\n",
       "            </tr>\n",
       "            <tr>\n",
       "                        <th id=\"T_5fca8e6c_70a4_11ec_8fa2_02420a39c97alevel0_row1\" class=\"row_heading level0 row1\" >track</th>\n",
       "                        <td id=\"T_5fca8e6c_70a4_11ec_8fa2_02420a39c97arow1_col0\" class=\"data row1 col0\" >2.06</td>\n",
       "            </tr>\n",
       "            <tr>\n",
       "                        <th id=\"T_5fca8e6c_70a4_11ec_8fa2_02420a39c97alevel0_row2\" class=\"row_heading level0 row2\" >artist</th>\n",
       "                        <td id=\"T_5fca8e6c_70a4_11ec_8fa2_02420a39c97arow2_col0\" class=\"data row2 col0\" >11.63</td>\n",
       "            </tr>\n",
       "            <tr>\n",
       "                        <th id=\"T_5fca8e6c_70a4_11ec_8fa2_02420a39c97alevel0_row3\" class=\"row_heading level0 row3\" >genre</th>\n",
       "                        <td id=\"T_5fca8e6c_70a4_11ec_8fa2_02420a39c97arow3_col0\" class=\"data row3 col0\" >1.84</td>\n",
       "            </tr>\n",
       "            <tr>\n",
       "                        <th id=\"T_5fca8e6c_70a4_11ec_8fa2_02420a39c97alevel0_row4\" class=\"row_heading level0 row4\" >city</th>\n",
       "                        <td id=\"T_5fca8e6c_70a4_11ec_8fa2_02420a39c97arow4_col0\" class=\"data row4 col0\" >0</td>\n",
       "            </tr>\n",
       "            <tr>\n",
       "                        <th id=\"T_5fca8e6c_70a4_11ec_8fa2_02420a39c97alevel0_row5\" class=\"row_heading level0 row5\" >time</th>\n",
       "                        <td id=\"T_5fca8e6c_70a4_11ec_8fa2_02420a39c97arow5_col0\" class=\"data row5 col0\" >0</td>\n",
       "            </tr>\n",
       "            <tr>\n",
       "                        <th id=\"T_5fca8e6c_70a4_11ec_8fa2_02420a39c97alevel0_row6\" class=\"row_heading level0 row6\" >day</th>\n",
       "                        <td id=\"T_5fca8e6c_70a4_11ec_8fa2_02420a39c97arow6_col0\" class=\"data row6 col0\" >0</td>\n",
       "            </tr>\n",
       "    </tbody></table>"
      ],
      "text/plain": [
       "<pandas.io.formats.style.Styler at 0x7f4c9c8c35d0>"
      ]
     },
     "execution_count": 9,
     "metadata": {},
     "output_type": "execute_result"
    }
   ],
   "source": [
    "# calculating the percentage of missing values in the columns\n",
    "df.isna().sum()*100/len(df)\n",
    "df.isna().mean()*100\n",
    "pd.DataFrame(round((df.isna().mean()*100),2)).style.background_gradient('coolwarm')"
   ]
  },
  {
   "cell_type": "markdown",
   "metadata": {
    "id": "qubhgnlO_Zct"
   },
   "source": [
    "Not all missing values affect the research. For instance, the missing values in `track` and `artist` are not critical. You can simply replace them with clear markers.\n",
    "\n",
    "But missing values in `'genre'` can affect the comparison of music preferences in Springfield and Shelbyville. In real life, it would be useful to learn the reasons why the data is missing and try to make up for them. But we do not have that opportunity in this project. So you will have to:\n",
    "* Fill in these missing values with markers\n",
    "* Evaluate how much the missing values may affect your computations"
   ]
  },
  {
   "cell_type": "markdown",
   "metadata": {
    "id": "fSv2laPA_Zct"
   },
   "source": [
    "Replace the missing values in `'track'`, `'artist'`, and `'genre'` with the string `'unknown'`. To do this, create the `columns_to_replace` list, loop over it with `for`, and replace the missing values in each of the columns:"
   ]
  },
  {
   "cell_type": "code",
   "execution_count": 10,
   "metadata": {
    "id": "KplB5qWs_Zct"
   },
   "outputs": [],
   "source": [
    "# looping over column names and replacing missing values with 'unknown'\n",
    "columns_to_replace = ['track', 'artist', 'genre']\n",
    "\n",
    "for col in columns_to_replace:\n",
    "    df[[col]] = df[[col]].fillna('unknown')"
   ]
  },
  {
   "cell_type": "markdown",
   "metadata": {
    "id": "Ilsm-MZo_Zct"
   },
   "source": [
    "Make sure the table contains no more missing values. Count the missing values again."
   ]
  },
  {
   "cell_type": "code",
   "execution_count": 11,
   "metadata": {
    "id": "Tq4nYRX4_Zct"
   },
   "outputs": [
    {
     "data": {
      "text/plain": [
       "user_id    0\n",
       "track      0\n",
       "artist     0\n",
       "genre      0\n",
       "city       0\n",
       "time       0\n",
       "day        0\n",
       "dtype: int64"
      ]
     },
     "execution_count": 11,
     "metadata": {},
     "output_type": "execute_result"
    }
   ],
   "source": [
    "# counting missing values\n",
    "df.isnull().sum()"
   ]
  },
  {
   "cell_type": "markdown",
   "metadata": {
    "id": "74ZIBmq9VrsK"
   },
   "source": [
    "[Back to Contents](#back)"
   ]
  },
  {
   "cell_type": "markdown",
   "metadata": {
    "id": "BWKRtBJ3_Zct"
   },
   "source": [
    "### Duplicates <a id='duplicates'></a>\n",
    "Find the number of obvious duplicates in the table using one command:"
   ]
  },
  {
   "cell_type": "code",
   "execution_count": 12,
   "metadata": {
    "id": "36eES_S0_Zct"
   },
   "outputs": [
    {
     "data": {
      "text/plain": [
       "3826"
      ]
     },
     "execution_count": 12,
     "metadata": {},
     "output_type": "execute_result"
    }
   ],
   "source": [
    "# counting clear duplicates\n",
    "df.duplicated().sum()"
   ]
  },
  {
   "cell_type": "markdown",
   "metadata": {
    "id": "Ot25h6XR_Zct"
   },
   "source": [
    "Call the `pandas` method for getting rid of obvious duplicates:"
   ]
  },
  {
   "cell_type": "code",
   "execution_count": 13,
   "metadata": {
    "id": "exFHq6tt_Zct"
   },
   "outputs": [],
   "source": [
    "# removing obvious duplicates\n",
    "df = df.drop_duplicates()"
   ]
  },
  {
   "cell_type": "markdown",
   "metadata": {
    "id": "Im2YwBEG_Zct"
   },
   "source": [
    "Count obvious duplicates once more to make sure you have removed all of them:"
   ]
  },
  {
   "cell_type": "code",
   "execution_count": 14,
   "metadata": {
    "id": "-8PuNWQ0_Zct"
   },
   "outputs": [
    {
     "data": {
      "text/plain": [
       "0"
      ]
     },
     "execution_count": 14,
     "metadata": {},
     "output_type": "execute_result"
    }
   ],
   "source": [
    "# checking for duplicates\n",
    "df.duplicated().sum()"
   ]
  },
  {
   "cell_type": "markdown",
   "metadata": {
    "id": "QlFBsxAr_Zct"
   },
   "source": [
    "Now get rid of implicit duplicates in the `genre` column. For example, the name of a genre can be written in different ways. Such errors will also affect the result."
   ]
  },
  {
   "cell_type": "markdown",
   "metadata": {
    "id": "eSjWwsOh_Zct"
   },
   "source": [
    "Print a list of unique genre names, sorted in alphabetical order. To do so:\n",
    "* Retrieve the intended DataFrame column \n",
    "* Apply a sorting method to it\n",
    "* For the sorted column, call the method that will return all unique column values"
   ]
  },
  {
   "cell_type": "code",
   "execution_count": 15,
   "metadata": {
    "id": "JIUcqzZN_Zct"
   },
   "outputs": [
    {
     "data": {
      "text/plain": [
       "['acid',\n",
       " 'acoustic',\n",
       " 'action',\n",
       " 'adult',\n",
       " 'africa',\n",
       " 'afrikaans',\n",
       " 'alternative',\n",
       " 'ambient',\n",
       " 'americana',\n",
       " 'animated',\n",
       " 'anime',\n",
       " 'arabesk',\n",
       " 'arabic',\n",
       " 'arena',\n",
       " 'argentinetango',\n",
       " 'art',\n",
       " 'audiobook',\n",
       " 'avantgarde',\n",
       " 'axé',\n",
       " 'baile',\n",
       " 'balkan',\n",
       " 'beats',\n",
       " 'bigroom',\n",
       " 'black',\n",
       " 'bluegrass',\n",
       " 'blues',\n",
       " 'bollywood',\n",
       " 'bossa',\n",
       " 'brazilian',\n",
       " 'breakbeat',\n",
       " 'breaks',\n",
       " 'broadway',\n",
       " 'cantautori',\n",
       " 'cantopop',\n",
       " 'canzone',\n",
       " 'caribbean',\n",
       " 'caucasian',\n",
       " 'celtic',\n",
       " 'chamber',\n",
       " 'children',\n",
       " 'chill',\n",
       " 'chinese',\n",
       " 'choral',\n",
       " 'christian',\n",
       " 'christmas',\n",
       " 'classical',\n",
       " 'classicmetal',\n",
       " 'club',\n",
       " 'colombian',\n",
       " 'comedy',\n",
       " 'conjazz',\n",
       " 'contemporary',\n",
       " 'country',\n",
       " 'cuban',\n",
       " 'dance',\n",
       " 'dancehall',\n",
       " 'dancepop',\n",
       " 'dark',\n",
       " 'death',\n",
       " 'deep',\n",
       " 'deutschrock',\n",
       " 'deutschspr',\n",
       " 'dirty',\n",
       " 'disco',\n",
       " 'dnb',\n",
       " 'documentary',\n",
       " 'downbeat',\n",
       " 'downtempo',\n",
       " 'drum',\n",
       " 'dub',\n",
       " 'dubstep',\n",
       " 'eastern',\n",
       " 'easy',\n",
       " 'electronic',\n",
       " 'electropop',\n",
       " 'emo',\n",
       " 'entehno',\n",
       " 'epicmetal',\n",
       " 'estrada',\n",
       " 'ethnic',\n",
       " 'eurofolk',\n",
       " 'european',\n",
       " 'experimental',\n",
       " 'extrememetal',\n",
       " 'fado',\n",
       " 'film',\n",
       " 'fitness',\n",
       " 'flamenco',\n",
       " 'folk',\n",
       " 'folklore',\n",
       " 'folkmetal',\n",
       " 'folkrock',\n",
       " 'folktronica',\n",
       " 'forró',\n",
       " 'frankreich',\n",
       " 'französisch',\n",
       " 'french',\n",
       " 'funk',\n",
       " 'future',\n",
       " 'gangsta',\n",
       " 'garage',\n",
       " 'german',\n",
       " 'ghazal',\n",
       " 'gitarre',\n",
       " 'glitch',\n",
       " 'gospel',\n",
       " 'gothic',\n",
       " 'grime',\n",
       " 'grunge',\n",
       " 'gypsy',\n",
       " 'handsup',\n",
       " \"hard'n'heavy\",\n",
       " 'hardcore',\n",
       " 'hardstyle',\n",
       " 'hardtechno',\n",
       " 'hip',\n",
       " 'hip-hop',\n",
       " 'hiphop',\n",
       " 'historisch',\n",
       " 'holiday',\n",
       " 'hop',\n",
       " 'horror',\n",
       " 'house',\n",
       " 'idm',\n",
       " 'independent',\n",
       " 'indian',\n",
       " 'indie',\n",
       " 'indipop',\n",
       " 'industrial',\n",
       " 'inspirational',\n",
       " 'instrumental',\n",
       " 'international',\n",
       " 'irish',\n",
       " 'jam',\n",
       " 'japanese',\n",
       " 'jazz',\n",
       " 'jewish',\n",
       " 'jpop',\n",
       " 'jungle',\n",
       " 'k-pop',\n",
       " 'karadeniz',\n",
       " 'karaoke',\n",
       " 'kayokyoku',\n",
       " 'korean',\n",
       " 'laiko',\n",
       " 'latin',\n",
       " 'latino',\n",
       " 'leftfield',\n",
       " 'local',\n",
       " 'lounge',\n",
       " 'loungeelectronic',\n",
       " 'lovers',\n",
       " 'malaysian',\n",
       " 'mandopop',\n",
       " 'marschmusik',\n",
       " 'meditative',\n",
       " 'mediterranean',\n",
       " 'melodic',\n",
       " 'metal',\n",
       " 'metalcore',\n",
       " 'mexican',\n",
       " 'middle',\n",
       " 'minimal',\n",
       " 'miscellaneous',\n",
       " 'modern',\n",
       " 'mood',\n",
       " 'mpb',\n",
       " 'muslim',\n",
       " 'native',\n",
       " 'neoklassik',\n",
       " 'neue',\n",
       " 'new',\n",
       " 'newage',\n",
       " 'newwave',\n",
       " 'nu',\n",
       " 'nujazz',\n",
       " 'numetal',\n",
       " 'oceania',\n",
       " 'old',\n",
       " 'opera',\n",
       " 'orchestral',\n",
       " 'other',\n",
       " 'piano',\n",
       " 'pop',\n",
       " 'popelectronic',\n",
       " 'popeurodance',\n",
       " 'post',\n",
       " 'posthardcore',\n",
       " 'postrock',\n",
       " 'power',\n",
       " 'progmetal',\n",
       " 'progressive',\n",
       " 'psychedelic',\n",
       " 'punjabi',\n",
       " 'punk',\n",
       " 'quebecois',\n",
       " 'ragga',\n",
       " 'ram',\n",
       " 'rancheras',\n",
       " 'rap',\n",
       " 'rave',\n",
       " 'reggae',\n",
       " 'reggaeton',\n",
       " 'regional',\n",
       " 'relax',\n",
       " 'religious',\n",
       " 'retro',\n",
       " 'rhythm',\n",
       " 'rnb',\n",
       " 'rnr',\n",
       " 'rock',\n",
       " 'rockabilly',\n",
       " 'romance',\n",
       " 'roots',\n",
       " 'ruspop',\n",
       " 'rusrap',\n",
       " 'rusrock',\n",
       " 'salsa',\n",
       " 'samba',\n",
       " 'schlager',\n",
       " 'self',\n",
       " 'sertanejo',\n",
       " 'shoegazing',\n",
       " 'showtunes',\n",
       " 'singer',\n",
       " 'ska',\n",
       " 'slow',\n",
       " 'smooth',\n",
       " 'soul',\n",
       " 'soulful',\n",
       " 'sound',\n",
       " 'soundtrack',\n",
       " 'southern',\n",
       " 'specialty',\n",
       " 'speech',\n",
       " 'spiritual',\n",
       " 'sport',\n",
       " 'stonerrock',\n",
       " 'surf',\n",
       " 'swing',\n",
       " 'synthpop',\n",
       " 'sängerportrait',\n",
       " 'tango',\n",
       " 'tanzorchester',\n",
       " 'taraftar',\n",
       " 'tech',\n",
       " 'techno',\n",
       " 'thrash',\n",
       " 'top',\n",
       " 'traditional',\n",
       " 'tradjazz',\n",
       " 'trance',\n",
       " 'tribal',\n",
       " 'trip',\n",
       " 'triphop',\n",
       " 'tropical',\n",
       " 'türk',\n",
       " 'türkçe',\n",
       " 'unknown',\n",
       " 'urban',\n",
       " 'uzbek',\n",
       " 'variété',\n",
       " 'vi',\n",
       " 'videogame',\n",
       " 'vocal',\n",
       " 'western',\n",
       " 'world',\n",
       " 'worldbeat',\n",
       " 'ïîï']"
      ]
     },
     "metadata": {},
     "output_type": "display_data"
    }
   ],
   "source": [
    "# viewing unique genre names\n",
    "display(sorted(df['genre'].unique()))"
   ]
  },
  {
   "cell_type": "markdown",
   "metadata": {
    "id": "qej-Qmuo_Zct"
   },
   "source": [
    "Look through the list to find implicit duplicates of the genre `hiphop`. These could be names written incorrectly or alternative names of the same genre.\n",
    "\n",
    "You will see the following implicit duplicates:\n",
    "* `hip`\n",
    "* `hop`\n",
    "* `hip-hop`\n",
    "\n",
    "To get rid of them, declare the function `replace_wrong_genres()` with two parameters: \n",
    "* `wrong_genres=` — the list of duplicates\n",
    "* `correct_genre=` — the string with the correct value\n",
    "\n",
    "The function should correct the names in the `'genre'` column from the `df` table, i.e. replace each value from the `wrong_genres` list with the value in `correct_genre`."
   ]
  },
  {
   "cell_type": "code",
   "execution_count": 16,
   "metadata": {
    "id": "ErNDkmns_Zct"
   },
   "outputs": [],
   "source": [
    "# function for replacing implicit duplicates\n",
    "def replace_wrong_genres(wrong_genres, correct_genre):\n",
    "    for genre in wrong_genres:\n",
    "        df['genre'] = df['genre'].replace(genre, correct_genre)"
   ]
  },
  {
   "cell_type": "markdown",
   "metadata": {
    "id": "aDoBJxbA_Zct"
   },
   "source": [
    "Call `replace_wrong_genres()` and pass it arguments so that it clears implicit duplcates (`hip`, `hop`, and `hip-hop`) and replaces them with `hiphop`:"
   ]
  },
  {
   "cell_type": "code",
   "execution_count": 17,
   "metadata": {
    "id": "YN5i2hpmSo09"
   },
   "outputs": [],
   "source": [
    "# removing implicit duplicates\n",
    "wrong_genres = ['hip', 'hop', 'hip-hop']\n",
    "correct_genre = 'hiphop'\n",
    "\n",
    "replace_wrong_genres(wrong_genres, correct_genre)"
   ]
  },
  {
   "cell_type": "markdown",
   "metadata": {
    "id": "zQKF16_RG15m"
   },
   "source": [
    "Make sure the duplicate names were removed. Print the list of unique values from the `'genre'` column:"
   ]
  },
  {
   "cell_type": "code",
   "execution_count": 18,
   "metadata": {
    "id": "wvixALnFG15m"
   },
   "outputs": [
    {
     "data": {
      "text/plain": [
       "['acid',\n",
       " 'acoustic',\n",
       " 'action',\n",
       " 'adult',\n",
       " 'africa',\n",
       " 'afrikaans',\n",
       " 'alternative',\n",
       " 'ambient',\n",
       " 'americana',\n",
       " 'animated',\n",
       " 'anime',\n",
       " 'arabesk',\n",
       " 'arabic',\n",
       " 'arena',\n",
       " 'argentinetango',\n",
       " 'art',\n",
       " 'audiobook',\n",
       " 'avantgarde',\n",
       " 'axé',\n",
       " 'baile',\n",
       " 'balkan',\n",
       " 'beats',\n",
       " 'bigroom',\n",
       " 'black',\n",
       " 'bluegrass',\n",
       " 'blues',\n",
       " 'bollywood',\n",
       " 'bossa',\n",
       " 'brazilian',\n",
       " 'breakbeat',\n",
       " 'breaks',\n",
       " 'broadway',\n",
       " 'cantautori',\n",
       " 'cantopop',\n",
       " 'canzone',\n",
       " 'caribbean',\n",
       " 'caucasian',\n",
       " 'celtic',\n",
       " 'chamber',\n",
       " 'children',\n",
       " 'chill',\n",
       " 'chinese',\n",
       " 'choral',\n",
       " 'christian',\n",
       " 'christmas',\n",
       " 'classical',\n",
       " 'classicmetal',\n",
       " 'club',\n",
       " 'colombian',\n",
       " 'comedy',\n",
       " 'conjazz',\n",
       " 'contemporary',\n",
       " 'country',\n",
       " 'cuban',\n",
       " 'dance',\n",
       " 'dancehall',\n",
       " 'dancepop',\n",
       " 'dark',\n",
       " 'death',\n",
       " 'deep',\n",
       " 'deutschrock',\n",
       " 'deutschspr',\n",
       " 'dirty',\n",
       " 'disco',\n",
       " 'dnb',\n",
       " 'documentary',\n",
       " 'downbeat',\n",
       " 'downtempo',\n",
       " 'drum',\n",
       " 'dub',\n",
       " 'dubstep',\n",
       " 'eastern',\n",
       " 'easy',\n",
       " 'electronic',\n",
       " 'electropop',\n",
       " 'emo',\n",
       " 'entehno',\n",
       " 'epicmetal',\n",
       " 'estrada',\n",
       " 'ethnic',\n",
       " 'eurofolk',\n",
       " 'european',\n",
       " 'experimental',\n",
       " 'extrememetal',\n",
       " 'fado',\n",
       " 'film',\n",
       " 'fitness',\n",
       " 'flamenco',\n",
       " 'folk',\n",
       " 'folklore',\n",
       " 'folkmetal',\n",
       " 'folkrock',\n",
       " 'folktronica',\n",
       " 'forró',\n",
       " 'frankreich',\n",
       " 'französisch',\n",
       " 'french',\n",
       " 'funk',\n",
       " 'future',\n",
       " 'gangsta',\n",
       " 'garage',\n",
       " 'german',\n",
       " 'ghazal',\n",
       " 'gitarre',\n",
       " 'glitch',\n",
       " 'gospel',\n",
       " 'gothic',\n",
       " 'grime',\n",
       " 'grunge',\n",
       " 'gypsy',\n",
       " 'handsup',\n",
       " \"hard'n'heavy\",\n",
       " 'hardcore',\n",
       " 'hardstyle',\n",
       " 'hardtechno',\n",
       " 'hiphop',\n",
       " 'historisch',\n",
       " 'holiday',\n",
       " 'horror',\n",
       " 'house',\n",
       " 'idm',\n",
       " 'independent',\n",
       " 'indian',\n",
       " 'indie',\n",
       " 'indipop',\n",
       " 'industrial',\n",
       " 'inspirational',\n",
       " 'instrumental',\n",
       " 'international',\n",
       " 'irish',\n",
       " 'jam',\n",
       " 'japanese',\n",
       " 'jazz',\n",
       " 'jewish',\n",
       " 'jpop',\n",
       " 'jungle',\n",
       " 'k-pop',\n",
       " 'karadeniz',\n",
       " 'karaoke',\n",
       " 'kayokyoku',\n",
       " 'korean',\n",
       " 'laiko',\n",
       " 'latin',\n",
       " 'latino',\n",
       " 'leftfield',\n",
       " 'local',\n",
       " 'lounge',\n",
       " 'loungeelectronic',\n",
       " 'lovers',\n",
       " 'malaysian',\n",
       " 'mandopop',\n",
       " 'marschmusik',\n",
       " 'meditative',\n",
       " 'mediterranean',\n",
       " 'melodic',\n",
       " 'metal',\n",
       " 'metalcore',\n",
       " 'mexican',\n",
       " 'middle',\n",
       " 'minimal',\n",
       " 'miscellaneous',\n",
       " 'modern',\n",
       " 'mood',\n",
       " 'mpb',\n",
       " 'muslim',\n",
       " 'native',\n",
       " 'neoklassik',\n",
       " 'neue',\n",
       " 'new',\n",
       " 'newage',\n",
       " 'newwave',\n",
       " 'nu',\n",
       " 'nujazz',\n",
       " 'numetal',\n",
       " 'oceania',\n",
       " 'old',\n",
       " 'opera',\n",
       " 'orchestral',\n",
       " 'other',\n",
       " 'piano',\n",
       " 'pop',\n",
       " 'popelectronic',\n",
       " 'popeurodance',\n",
       " 'post',\n",
       " 'posthardcore',\n",
       " 'postrock',\n",
       " 'power',\n",
       " 'progmetal',\n",
       " 'progressive',\n",
       " 'psychedelic',\n",
       " 'punjabi',\n",
       " 'punk',\n",
       " 'quebecois',\n",
       " 'ragga',\n",
       " 'ram',\n",
       " 'rancheras',\n",
       " 'rap',\n",
       " 'rave',\n",
       " 'reggae',\n",
       " 'reggaeton',\n",
       " 'regional',\n",
       " 'relax',\n",
       " 'religious',\n",
       " 'retro',\n",
       " 'rhythm',\n",
       " 'rnb',\n",
       " 'rnr',\n",
       " 'rock',\n",
       " 'rockabilly',\n",
       " 'romance',\n",
       " 'roots',\n",
       " 'ruspop',\n",
       " 'rusrap',\n",
       " 'rusrock',\n",
       " 'salsa',\n",
       " 'samba',\n",
       " 'schlager',\n",
       " 'self',\n",
       " 'sertanejo',\n",
       " 'shoegazing',\n",
       " 'showtunes',\n",
       " 'singer',\n",
       " 'ska',\n",
       " 'slow',\n",
       " 'smooth',\n",
       " 'soul',\n",
       " 'soulful',\n",
       " 'sound',\n",
       " 'soundtrack',\n",
       " 'southern',\n",
       " 'specialty',\n",
       " 'speech',\n",
       " 'spiritual',\n",
       " 'sport',\n",
       " 'stonerrock',\n",
       " 'surf',\n",
       " 'swing',\n",
       " 'synthpop',\n",
       " 'sängerportrait',\n",
       " 'tango',\n",
       " 'tanzorchester',\n",
       " 'taraftar',\n",
       " 'tech',\n",
       " 'techno',\n",
       " 'thrash',\n",
       " 'top',\n",
       " 'traditional',\n",
       " 'tradjazz',\n",
       " 'trance',\n",
       " 'tribal',\n",
       " 'trip',\n",
       " 'triphop',\n",
       " 'tropical',\n",
       " 'türk',\n",
       " 'türkçe',\n",
       " 'unknown',\n",
       " 'urban',\n",
       " 'uzbek',\n",
       " 'variété',\n",
       " 'vi',\n",
       " 'videogame',\n",
       " 'vocal',\n",
       " 'western',\n",
       " 'world',\n",
       " 'worldbeat',\n",
       " 'ïîï']"
      ]
     },
     "metadata": {},
     "output_type": "display_data"
    }
   ],
   "source": [
    "# checking for implicit duplicates\n",
    "display(sorted(df['genre'].unique()))"
   ]
  },
  {
   "cell_type": "markdown",
   "metadata": {
    "id": "ALgNbvF3VtPA"
   },
   "source": [
    "[Back to Contents](#back)"
   ]
  },
  {
   "cell_type": "markdown",
   "metadata": {
    "id": "jz6a9-7HQUDd"
   },
   "source": [
    "### Conclusions <a id='data_preprocessing_conclusions'></a>\n",
    "We detected three issues with the data:\n",
    "\n",
    "- Incorrect header styles\n",
    "- Missing values\n",
    "- Obvious and implicit duplicates\n",
    "\n",
    "The headers have been cleaned up to make processing the table simpler.\n",
    "\n",
    "All missing values have been replaced with `'unknown'`. But we still have to see whether the missing values in `'genre'` will affect our calculations.\n",
    "\n",
    "The absence of duplicates will make the results more precise and easier to understand.\n",
    "\n",
    "Now we can move on to testing hypotheses. "
   ]
  },
  {
   "cell_type": "markdown",
   "metadata": {
    "id": "eK1es74rVujj"
   },
   "source": [
    "[Back to Contents](#back)"
   ]
  },
  {
   "cell_type": "markdown",
   "metadata": {
    "id": "WttZHXH0SqKk"
   },
   "source": [
    "## Stage 3. Testing hypotheses <a id='hypotheses'></a>"
   ]
  },
  {
   "cell_type": "markdown",
   "metadata": {
    "id": "Im936VVi_Zcu"
   },
   "source": [
    "### Hypothesis 1: comparing user behavior in two cities <a id='activity'></a>"
   ]
  },
  {
   "cell_type": "markdown",
   "metadata": {
    "id": "nwt_MuaL_Zcu"
   },
   "source": [
    "According to the first hypothesis, users from Springfield and Shelbyville listen to music differently. Test this using the data on three days of the week: Monday, Wednesday, and Friday.\n",
    "\n",
    "* Divide the users into groups by city.\n",
    "* Compare how many tracks each group played on Monday, Wednesday, and Friday.\n"
   ]
  },
  {
   "cell_type": "markdown",
   "metadata": {
    "id": "8Dw_YMmT_Zcu"
   },
   "source": [
    "For the sake of practice, perform each computation separately. \n",
    "\n",
    "Evaluate user activity in each city. Group the data by city and find the number of songs played in each group.\n",
    "\n"
   ]
  },
  {
   "cell_type": "code",
   "execution_count": 19,
   "metadata": {
    "id": "0_Qs96oh_Zcu"
   },
   "outputs": [
    {
     "data": {
      "text/plain": [
       "city\n",
       "Shelbyville    18512\n",
       "Springfield    42741\n",
       "Name: track, dtype: int64"
      ]
     },
     "metadata": {},
     "output_type": "display_data"
    }
   ],
   "source": [
    "# Counting up the tracks played in each city\n",
    "display(df.groupby('city')['track'].count())"
   ]
  },
  {
   "cell_type": "markdown",
   "metadata": {
    "id": "dzli3w8o_Zcu"
   },
   "source": [
    "Springfield has more tracks played than Shelbyville. But that does not imply that citizens of Springfield listen to music more often. This city is simply bigger, and there are more users.\n",
    "\n",
    "Now group the data by day of the week and find the number of tracks played on Monday, Wednesday, and Friday.\n"
   ]
  },
  {
   "cell_type": "code",
   "execution_count": 20,
   "metadata": {
    "id": "uZMKjiJz_Zcu"
   },
   "outputs": [
    {
     "data": {
      "text/plain": [
       "day\n",
       "Friday       21840\n",
       "Monday       21354\n",
       "Wednesday    18059\n",
       "Name: track, dtype: int64"
      ]
     },
     "metadata": {},
     "output_type": "display_data"
    }
   ],
   "source": [
    "# Calculating tracks played on each of the three days\n",
    "display(df.groupby('day')['track'].count())"
   ]
  },
  {
   "cell_type": "markdown",
   "metadata": {
    "id": "cC2tNrlL_Zcu"
   },
   "source": [
    "Wednesday is the quietest day overall. But if we consider the two cities separately, we might come to a different conclusion."
   ]
  },
  {
   "cell_type": "markdown",
   "metadata": {
    "id": "POzs8bGa_Zcu"
   },
   "source": [
    "You have seen how grouping by city or day works. Now write a function that will group by both.\n",
    "\n",
    "Create the `number_tracks()` function to calculate the number of songs played for a given day and city. It will require two parameters:\n",
    "* day of the week\n",
    "* name of the city\n",
    "\n",
    "In the function, use a variable to store the rows from the original table, where:\n",
    "  * `'day'` column value is equal to the `day` parameter\n",
    "  * `'city'` column value is equal to the `city` parameter\n",
    "\n",
    "Apply consecutive filtering with logical indexing.\n",
    "\n",
    "Then calculate the `'user_id'` column values in the resulting table. Store the result to a new variable. Return this variable from the function."
   ]
  },
  {
   "cell_type": "code",
   "execution_count": 21,
   "metadata": {
    "id": "Nz3GdQB1_Zcu"
   },
   "outputs": [
    {
     "data": {
      "text/plain": [
       "5895"
      ]
     },
     "metadata": {},
     "output_type": "display_data"
    }
   ],
   "source": [
    "# <creating the function number_tracks()>\n",
    "# We'll declare a function with two parameters: day=, city=.\n",
    "# Let the track_list variable store the df rows where:\n",
    "# the value in the 'day' column is equal to the day= parameter and, at the same time, \n",
    "# the value in the 'city' column is equal to the city= parameter (apply consecutive filtering with logical indexing).\n",
    "# Let the track_list_count variable store the number of 'user_id' column values in track_list\n",
    "# (found with the count() method).\n",
    "# Let the function return a number: the value of track_list_count.\n",
    "\n",
    "# The function counts tracks played for a certain city and day.\n",
    "# It first retrieves the rows with the intended day from the table,\n",
    "# then filters out the rows with the intended city from the result,\n",
    "# then finds the number of 'user_id' values in the filtered table,\n",
    "# then returns that number.\n",
    "# To see what it returns, wrap the function call in print().\n",
    "\n",
    "def number_tracks(day, city):\n",
    "    \"\"\"\n",
    "    Calculate and return the number of tracks played on the specified day and city.\n",
    "    \n",
    "    Arguments:\n",
    "        -day (str): day of the week\n",
    "        -city (str): city name\n",
    "    \n",
    "    Return:\n",
    "        (int) the number of tracks\n",
    "        \n",
    "    For example:\n",
    "        >>> number_tracks('Friday', 'Shelbyville')\n",
    "        5895\n",
    "    \"\"\"\n",
    "    track_list = df[(df['day'] == day) & (df['city'] == city)]\n",
    "    track_list_count = track_list['user_id'].count()\n",
    "    return track_list_count\n",
    "    \n",
    "display(number_tracks('Friday', 'Shelbyville'))"
   ]
  },
  {
   "cell_type": "markdown",
   "metadata": {
    "id": "ytf7xFrFJQ2r"
   },
   "source": [
    "Call `number_tracks()` six times, changing the parameter values, so that you retrieve the data on both cities for each of the three days."
   ]
  },
  {
   "cell_type": "code",
   "execution_count": 22,
   "metadata": {
    "id": "rJcRATNQ_Zcu"
   },
   "outputs": [
    {
     "name": "stdout",
     "output_type": "stream",
     "text": [
      "15740\n"
     ]
    }
   ],
   "source": [
    "# the number of songs played in Springfield on Monday\n",
    "print(number_tracks('Monday', 'Springfield'))"
   ]
  },
  {
   "cell_type": "code",
   "execution_count": 23,
   "metadata": {
    "id": "hq_ncZ5T_Zcu"
   },
   "outputs": [
    {
     "name": "stdout",
     "output_type": "stream",
     "text": [
      "5614\n"
     ]
    }
   ],
   "source": [
    "# the number of songs played in Shelbyville on Monday\n",
    "print(number_tracks('Monday', 'Shelbyville'))"
   ]
  },
  {
   "cell_type": "code",
   "execution_count": 24,
   "metadata": {
    "id": "_NTy2VPU_Zcu"
   },
   "outputs": [
    {
     "name": "stdout",
     "output_type": "stream",
     "text": [
      "11056\n"
     ]
    }
   ],
   "source": [
    "# the number of songs played in Springfield on Wednesday\n",
    "print(number_tracks('Wednesday', 'Springfield'))"
   ]
  },
  {
   "cell_type": "code",
   "execution_count": 25,
   "metadata": {
    "id": "j2y3TAwo_Zcu"
   },
   "outputs": [
    {
     "name": "stdout",
     "output_type": "stream",
     "text": [
      "7003\n"
     ]
    }
   ],
   "source": [
    "# the number of songs played in Shelbyville on Wednesday\n",
    "print(number_tracks('Wednesday', 'Shelbyville'))"
   ]
  },
  {
   "cell_type": "code",
   "execution_count": 26,
   "metadata": {
    "id": "vYDw5u_K_Zcu"
   },
   "outputs": [
    {
     "name": "stdout",
     "output_type": "stream",
     "text": [
      "15945\n"
     ]
    }
   ],
   "source": [
    "# the number of songs played in Springfield on Friday\n",
    "print(number_tracks('Friday', 'Springfield'))"
   ]
  },
  {
   "cell_type": "code",
   "execution_count": 27,
   "metadata": {
    "id": "8_yzFtW3_Zcu"
   },
   "outputs": [
    {
     "name": "stdout",
     "output_type": "stream",
     "text": [
      "5895\n"
     ]
    }
   ],
   "source": [
    "# the number of songs played in Shelbyville on Friday\n",
    "print(number_tracks('Friday', 'Shelbyville'))"
   ]
  },
  {
   "cell_type": "markdown",
   "metadata": {
    "id": "7QXffbO-_Zcu"
   },
   "source": [
    "Use `pd.DataFrame` to create a table, where\n",
    "* Column names are: `['city', 'monday', 'wednesday', 'friday']`\n",
    "* The data is the results you got from `number_tracks()`"
   ]
  },
  {
   "cell_type": "code",
   "execution_count": 28,
   "metadata": {
    "id": "APAcLpOr_Zcu"
   },
   "outputs": [
    {
     "data": {
      "text/html": [
       "<div>\n",
       "<style scoped>\n",
       "    .dataframe tbody tr th:only-of-type {\n",
       "        vertical-align: middle;\n",
       "    }\n",
       "\n",
       "    .dataframe tbody tr th {\n",
       "        vertical-align: top;\n",
       "    }\n",
       "\n",
       "    .dataframe thead th {\n",
       "        text-align: right;\n",
       "    }\n",
       "</style>\n",
       "<table border=\"1\" class=\"dataframe\">\n",
       "  <thead>\n",
       "    <tr style=\"text-align: right;\">\n",
       "      <th></th>\n",
       "      <th>city</th>\n",
       "      <th>monday</th>\n",
       "      <th>wednesday</th>\n",
       "      <th>friday</th>\n",
       "    </tr>\n",
       "  </thead>\n",
       "  <tbody>\n",
       "    <tr>\n",
       "      <td>0</td>\n",
       "      <td>Springfield</td>\n",
       "      <td>15740</td>\n",
       "      <td>11056</td>\n",
       "      <td>15945</td>\n",
       "    </tr>\n",
       "    <tr>\n",
       "      <td>1</td>\n",
       "      <td>Shelbyville</td>\n",
       "      <td>5614</td>\n",
       "      <td>7003</td>\n",
       "      <td>5895</td>\n",
       "    </tr>\n",
       "  </tbody>\n",
       "</table>\n",
       "</div>"
      ],
      "text/plain": [
       "          city  monday  wednesday  friday\n",
       "0  Springfield   15740      11056   15945\n",
       "1  Shelbyville    5614       7003    5895"
      ]
     },
     "execution_count": 28,
     "metadata": {},
     "output_type": "execute_result"
    }
   ],
   "source": [
    "# table with results\n",
    "pd.DataFrame(data = [['Springfield', 15740, 11056, 15945], ['Shelbyville', 5614, 7003, 5895]], columns = ['city', 'monday', 'wednesday', 'friday'])"
   ]
  },
  {
   "cell_type": "markdown",
   "metadata": {
    "id": "-EgPIHYu_Zcu"
   },
   "source": [
    "**Conclusions**\n",
    "\n",
    "The data reveals differences in user behavior:\n",
    "\n",
    "- In Springfield, the number of songs played peaks on Mondays and Fridays, while on Wednesday there is a decrease in activity.\n",
    "- In Shelbyville, on the contrary, users listen to music more on Wednesday. User activity on Monday and Friday is smaller.\n",
    "\n",
    "So the first hypothesis seems to be correct."
   ]
  },
  {
   "cell_type": "markdown",
   "metadata": {
    "id": "p7nFQajCVw5B"
   },
   "source": [
    "[Back to Contents](#back)"
   ]
  },
  {
   "cell_type": "markdown",
   "metadata": {
    "id": "atZAxtq4_Zcu"
   },
   "source": [
    "### Hypothesis 2: music at the beginning and end of the week <a id='week'></a>"
   ]
  },
  {
   "cell_type": "markdown",
   "metadata": {
    "id": "eXrQqXFH_Zcu"
   },
   "source": [
    "According to the second hypothesis, on Monday morning and Friday night, citizens of Springfield listen to genres that differ from ones users from Shelbyville enjoy."
   ]
  },
  {
   "cell_type": "markdown",
   "metadata": {
    "id": "S8UcW6Hw_Zcu"
   },
   "source": [
    "Get tables (make sure that the name of your combined table matches the DataFrame given in the two code blocks below):\n",
    "* For Springfield — `spr_general`\n",
    "* For Shelbyville — `shel_general`"
   ]
  },
  {
   "cell_type": "code",
   "execution_count": 29,
   "metadata": {
    "id": "qeaFfM_P_Zcu"
   },
   "outputs": [],
   "source": [
    "# obtaining the spr_general table from the df rows, \n",
    "# where the value in the 'city' column is 'Springfield'\n",
    "\n",
    "spr_general = df[df['city'] == 'Springfield']"
   ]
  },
  {
   "cell_type": "code",
   "execution_count": 30,
   "metadata": {},
   "outputs": [
    {
     "data": {
      "text/html": [
       "<div>\n",
       "<style scoped>\n",
       "    .dataframe tbody tr th:only-of-type {\n",
       "        vertical-align: middle;\n",
       "    }\n",
       "\n",
       "    .dataframe tbody tr th {\n",
       "        vertical-align: top;\n",
       "    }\n",
       "\n",
       "    .dataframe thead th {\n",
       "        text-align: right;\n",
       "    }\n",
       "</style>\n",
       "<table border=\"1\" class=\"dataframe\">\n",
       "  <thead>\n",
       "    <tr style=\"text-align: right;\">\n",
       "      <th></th>\n",
       "      <th>user_id</th>\n",
       "      <th>track</th>\n",
       "      <th>artist</th>\n",
       "      <th>genre</th>\n",
       "      <th>city</th>\n",
       "      <th>time</th>\n",
       "      <th>day</th>\n",
       "    </tr>\n",
       "  </thead>\n",
       "  <tbody>\n",
       "    <tr>\n",
       "      <td>1</td>\n",
       "      <td>55204538</td>\n",
       "      <td>Delayed Because of Accident</td>\n",
       "      <td>Andreas Rönnberg</td>\n",
       "      <td>rock</td>\n",
       "      <td>Springfield</td>\n",
       "      <td>14:07:09</td>\n",
       "      <td>Friday</td>\n",
       "    </tr>\n",
       "    <tr>\n",
       "      <td>4</td>\n",
       "      <td>E2DC1FAE</td>\n",
       "      <td>Soul People</td>\n",
       "      <td>Space Echo</td>\n",
       "      <td>dance</td>\n",
       "      <td>Springfield</td>\n",
       "      <td>08:34:34</td>\n",
       "      <td>Monday</td>\n",
       "    </tr>\n",
       "    <tr>\n",
       "      <td>6</td>\n",
       "      <td>4CB90AA5</td>\n",
       "      <td>True</td>\n",
       "      <td>Roman Messer</td>\n",
       "      <td>dance</td>\n",
       "      <td>Springfield</td>\n",
       "      <td>13:00:07</td>\n",
       "      <td>Wednesday</td>\n",
       "    </tr>\n",
       "    <tr>\n",
       "      <td>7</td>\n",
       "      <td>F03E1C1F</td>\n",
       "      <td>Feeling This Way</td>\n",
       "      <td>Polina Griffith</td>\n",
       "      <td>dance</td>\n",
       "      <td>Springfield</td>\n",
       "      <td>20:47:49</td>\n",
       "      <td>Wednesday</td>\n",
       "    </tr>\n",
       "    <tr>\n",
       "      <td>8</td>\n",
       "      <td>8FA1D3BE</td>\n",
       "      <td>L’estate</td>\n",
       "      <td>Julia Dalia</td>\n",
       "      <td>ruspop</td>\n",
       "      <td>Springfield</td>\n",
       "      <td>09:17:40</td>\n",
       "      <td>Friday</td>\n",
       "    </tr>\n",
       "    <tr>\n",
       "      <td>...</td>\n",
       "      <td>...</td>\n",
       "      <td>...</td>\n",
       "      <td>...</td>\n",
       "      <td>...</td>\n",
       "      <td>...</td>\n",
       "      <td>...</td>\n",
       "      <td>...</td>\n",
       "    </tr>\n",
       "    <tr>\n",
       "      <td>65073</td>\n",
       "      <td>83A474E7</td>\n",
       "      <td>I Worship Only What You Bleed</td>\n",
       "      <td>The Black Dahlia Murder</td>\n",
       "      <td>extrememetal</td>\n",
       "      <td>Springfield</td>\n",
       "      <td>21:07:12</td>\n",
       "      <td>Monday</td>\n",
       "    </tr>\n",
       "    <tr>\n",
       "      <td>65074</td>\n",
       "      <td>729CBB09</td>\n",
       "      <td>My Name</td>\n",
       "      <td>McLean</td>\n",
       "      <td>rnb</td>\n",
       "      <td>Springfield</td>\n",
       "      <td>13:32:28</td>\n",
       "      <td>Wednesday</td>\n",
       "    </tr>\n",
       "    <tr>\n",
       "      <td>65076</td>\n",
       "      <td>C5E3A0D5</td>\n",
       "      <td>Jalopiina</td>\n",
       "      <td>unknown</td>\n",
       "      <td>industrial</td>\n",
       "      <td>Springfield</td>\n",
       "      <td>20:09:26</td>\n",
       "      <td>Friday</td>\n",
       "    </tr>\n",
       "    <tr>\n",
       "      <td>65077</td>\n",
       "      <td>321D0506</td>\n",
       "      <td>Freight Train</td>\n",
       "      <td>Chas McDevitt</td>\n",
       "      <td>rock</td>\n",
       "      <td>Springfield</td>\n",
       "      <td>21:43:59</td>\n",
       "      <td>Friday</td>\n",
       "    </tr>\n",
       "    <tr>\n",
       "      <td>65078</td>\n",
       "      <td>3A64EF84</td>\n",
       "      <td>Tell Me Sweet Little Lies</td>\n",
       "      <td>Monica Lopez</td>\n",
       "      <td>country</td>\n",
       "      <td>Springfield</td>\n",
       "      <td>21:59:46</td>\n",
       "      <td>Friday</td>\n",
       "    </tr>\n",
       "  </tbody>\n",
       "</table>\n",
       "<p>42741 rows × 7 columns</p>\n",
       "</div>"
      ],
      "text/plain": [
       "        user_id                          track                   artist  \\\n",
       "1      55204538    Delayed Because of Accident         Andreas Rönnberg   \n",
       "4      E2DC1FAE                    Soul People               Space Echo   \n",
       "6      4CB90AA5                           True             Roman Messer   \n",
       "7      F03E1C1F               Feeling This Way          Polina Griffith   \n",
       "8      8FA1D3BE                       L’estate              Julia Dalia   \n",
       "...         ...                            ...                      ...   \n",
       "65073  83A474E7  I Worship Only What You Bleed  The Black Dahlia Murder   \n",
       "65074  729CBB09                        My Name                   McLean   \n",
       "65076  C5E3A0D5                      Jalopiina                  unknown   \n",
       "65077  321D0506                  Freight Train            Chas McDevitt   \n",
       "65078  3A64EF84      Tell Me Sweet Little Lies             Monica Lopez   \n",
       "\n",
       "              genre         city      time        day  \n",
       "1              rock  Springfield  14:07:09     Friday  \n",
       "4             dance  Springfield  08:34:34     Monday  \n",
       "6             dance  Springfield  13:00:07  Wednesday  \n",
       "7             dance  Springfield  20:47:49  Wednesday  \n",
       "8            ruspop  Springfield  09:17:40     Friday  \n",
       "...             ...          ...       ...        ...  \n",
       "65073  extrememetal  Springfield  21:07:12     Monday  \n",
       "65074           rnb  Springfield  13:32:28  Wednesday  \n",
       "65076    industrial  Springfield  20:09:26     Friday  \n",
       "65077          rock  Springfield  21:43:59     Friday  \n",
       "65078       country  Springfield  21:59:46     Friday  \n",
       "\n",
       "[42741 rows x 7 columns]"
      ]
     },
     "metadata": {},
     "output_type": "display_data"
    }
   ],
   "source": [
    "# using the query() method to filter the dataframe\n",
    "\n",
    "spr_general_query = df.query('city == \"Springfield\"')\n",
    "display(spr_general_query)"
   ]
  },
  {
   "cell_type": "code",
   "execution_count": 31,
   "metadata": {
    "id": "ORaVRKto_Zcu"
   },
   "outputs": [],
   "source": [
    "# obtaining the shel_general from the df rows,\n",
    "# where the value in the 'city' column is 'Shelbyville'\n",
    "\n",
    "shel_general = df[df['city'] == 'Shelbyville']"
   ]
  },
  {
   "cell_type": "code",
   "execution_count": 32,
   "metadata": {},
   "outputs": [
    {
     "data": {
      "text/html": [
       "<div>\n",
       "<style scoped>\n",
       "    .dataframe tbody tr th:only-of-type {\n",
       "        vertical-align: middle;\n",
       "    }\n",
       "\n",
       "    .dataframe tbody tr th {\n",
       "        vertical-align: top;\n",
       "    }\n",
       "\n",
       "    .dataframe thead th {\n",
       "        text-align: right;\n",
       "    }\n",
       "</style>\n",
       "<table border=\"1\" class=\"dataframe\">\n",
       "  <thead>\n",
       "    <tr style=\"text-align: right;\">\n",
       "      <th></th>\n",
       "      <th>user_id</th>\n",
       "      <th>track</th>\n",
       "      <th>artist</th>\n",
       "      <th>genre</th>\n",
       "      <th>city</th>\n",
       "      <th>time</th>\n",
       "      <th>day</th>\n",
       "    </tr>\n",
       "  </thead>\n",
       "  <tbody>\n",
       "    <tr>\n",
       "      <td>0</td>\n",
       "      <td>FFB692EC</td>\n",
       "      <td>Kamigata To Boots</td>\n",
       "      <td>The Mass Missile</td>\n",
       "      <td>rock</td>\n",
       "      <td>Shelbyville</td>\n",
       "      <td>20:28:33</td>\n",
       "      <td>Wednesday</td>\n",
       "    </tr>\n",
       "    <tr>\n",
       "      <td>2</td>\n",
       "      <td>20EC38</td>\n",
       "      <td>Funiculì funiculà</td>\n",
       "      <td>Mario Lanza</td>\n",
       "      <td>pop</td>\n",
       "      <td>Shelbyville</td>\n",
       "      <td>20:58:07</td>\n",
       "      <td>Wednesday</td>\n",
       "    </tr>\n",
       "    <tr>\n",
       "      <td>3</td>\n",
       "      <td>A3DD03C9</td>\n",
       "      <td>Dragons in the Sunset</td>\n",
       "      <td>Fire + Ice</td>\n",
       "      <td>folk</td>\n",
       "      <td>Shelbyville</td>\n",
       "      <td>08:37:09</td>\n",
       "      <td>Monday</td>\n",
       "    </tr>\n",
       "    <tr>\n",
       "      <td>5</td>\n",
       "      <td>842029A1</td>\n",
       "      <td>Chains</td>\n",
       "      <td>Obladaet</td>\n",
       "      <td>rusrap</td>\n",
       "      <td>Shelbyville</td>\n",
       "      <td>13:09:41</td>\n",
       "      <td>Friday</td>\n",
       "    </tr>\n",
       "    <tr>\n",
       "      <td>9</td>\n",
       "      <td>E772D5C0</td>\n",
       "      <td>Pessimist</td>\n",
       "      <td>unknown</td>\n",
       "      <td>dance</td>\n",
       "      <td>Shelbyville</td>\n",
       "      <td>21:20:49</td>\n",
       "      <td>Wednesday</td>\n",
       "    </tr>\n",
       "    <tr>\n",
       "      <td>...</td>\n",
       "      <td>...</td>\n",
       "      <td>...</td>\n",
       "      <td>...</td>\n",
       "      <td>...</td>\n",
       "      <td>...</td>\n",
       "      <td>...</td>\n",
       "      <td>...</td>\n",
       "    </tr>\n",
       "    <tr>\n",
       "      <td>65063</td>\n",
       "      <td>D94F810B</td>\n",
       "      <td>Theme from the Walking Dead</td>\n",
       "      <td>Proyecto Halloween</td>\n",
       "      <td>film</td>\n",
       "      <td>Shelbyville</td>\n",
       "      <td>21:14:40</td>\n",
       "      <td>Monday</td>\n",
       "    </tr>\n",
       "    <tr>\n",
       "      <td>65064</td>\n",
       "      <td>BC8EC5CF</td>\n",
       "      <td>Red Lips: Gta (Rover Rework)</td>\n",
       "      <td>Rover</td>\n",
       "      <td>electronic</td>\n",
       "      <td>Shelbyville</td>\n",
       "      <td>21:06:50</td>\n",
       "      <td>Monday</td>\n",
       "    </tr>\n",
       "    <tr>\n",
       "      <td>65065</td>\n",
       "      <td>29E04611</td>\n",
       "      <td>Bre Petrunko</td>\n",
       "      <td>Perunika Trio</td>\n",
       "      <td>world</td>\n",
       "      <td>Shelbyville</td>\n",
       "      <td>13:56:00</td>\n",
       "      <td>Monday</td>\n",
       "    </tr>\n",
       "    <tr>\n",
       "      <td>65066</td>\n",
       "      <td>1B91C621</td>\n",
       "      <td>(Hello) Cloud Mountain</td>\n",
       "      <td>sleepmakeswaves</td>\n",
       "      <td>postrock</td>\n",
       "      <td>Shelbyville</td>\n",
       "      <td>09:22:13</td>\n",
       "      <td>Monday</td>\n",
       "    </tr>\n",
       "    <tr>\n",
       "      <td>65075</td>\n",
       "      <td>D08D4A55</td>\n",
       "      <td>Maybe One Day (feat. Black Spade)</td>\n",
       "      <td>Blu &amp; Exile</td>\n",
       "      <td>hiphop</td>\n",
       "      <td>Shelbyville</td>\n",
       "      <td>10:00:00</td>\n",
       "      <td>Monday</td>\n",
       "    </tr>\n",
       "  </tbody>\n",
       "</table>\n",
       "<p>18512 rows × 7 columns</p>\n",
       "</div>"
      ],
      "text/plain": [
       "        user_id                              track              artist  \\\n",
       "0      FFB692EC                  Kamigata To Boots    The Mass Missile   \n",
       "2        20EC38                  Funiculì funiculà         Mario Lanza   \n",
       "3      A3DD03C9              Dragons in the Sunset          Fire + Ice   \n",
       "5      842029A1                             Chains            Obladaet   \n",
       "9      E772D5C0                          Pessimist             unknown   \n",
       "...         ...                                ...                 ...   \n",
       "65063  D94F810B        Theme from the Walking Dead  Proyecto Halloween   \n",
       "65064  BC8EC5CF       Red Lips: Gta (Rover Rework)               Rover   \n",
       "65065  29E04611                       Bre Petrunko       Perunika Trio   \n",
       "65066  1B91C621             (Hello) Cloud Mountain     sleepmakeswaves   \n",
       "65075  D08D4A55  Maybe One Day (feat. Black Spade)         Blu & Exile   \n",
       "\n",
       "            genre         city      time        day  \n",
       "0            rock  Shelbyville  20:28:33  Wednesday  \n",
       "2             pop  Shelbyville  20:58:07  Wednesday  \n",
       "3            folk  Shelbyville  08:37:09     Monday  \n",
       "5          rusrap  Shelbyville  13:09:41     Friday  \n",
       "9           dance  Shelbyville  21:20:49  Wednesday  \n",
       "...           ...          ...       ...        ...  \n",
       "65063        film  Shelbyville  21:14:40     Monday  \n",
       "65064  electronic  Shelbyville  21:06:50     Monday  \n",
       "65065       world  Shelbyville  13:56:00     Monday  \n",
       "65066    postrock  Shelbyville  09:22:13     Monday  \n",
       "65075      hiphop  Shelbyville  10:00:00     Monday  \n",
       "\n",
       "[18512 rows x 7 columns]"
      ]
     },
     "metadata": {},
     "output_type": "display_data"
    }
   ],
   "source": [
    "# using the query() method to filter the dataframe\n",
    "\n",
    "shel_general_query = df.query('city == \"Shelbyville\"')\n",
    "display(shel_general_query)"
   ]
  },
  {
   "cell_type": "markdown",
   "metadata": {
    "id": "MEJV-CX2_Zcu"
   },
   "source": [
    "Write the `genre_weekday()` function with four parameters:\n",
    "* A table for data\n",
    "* The day of the week\n",
    "* The first timestamp, in 'hh:mm' format\n",
    "* The last timestamp, in 'hh:mm' format\n",
    "\n",
    "The function should return info on the 15 most popular genres on a given day within the period between the two timestamps."
   ]
  },
  {
   "cell_type": "code",
   "execution_count": 33,
   "metadata": {
    "id": "laJT9BYl_Zcu"
   },
   "outputs": [],
   "source": [
    "# Declaring the genre_weekday() function with the parameters day=, time1=, and time2=. It should\n",
    "# return information about the most popular genres on a given day at a given time:\n",
    "\n",
    "# 1) Let the genre_df variable store the rows that meet several conditions:\n",
    "#    - the value in the 'day' column is equal to the value of the day= argument\n",
    "#    - the value in the 'time' column is greater than the value of the time1= argument\n",
    "#    - the value in the 'time' column is smaller than the value of the time2= argument\n",
    "#    Use consecutive filtering with logical indexing.\n",
    "\n",
    "# 2) Group genre_df by the 'genre' column, take one of its columns, \n",
    "#    and use the count() method to find the number of entries for each of \n",
    "#    the represented genres; store the resulting Series to the\n",
    "#    genre_df_count variable\n",
    "\n",
    "# 3) Sort genre_df_count in descending order of frequency and store the result\n",
    "#    to the genre_df_sorted variable\n",
    "\n",
    "# 4) Return a Series object with the first 15 genre_df_sorted value - the 15 most\n",
    "#    popular genres (on a given day, within a certain timeframe)\n",
    "\n",
    "def genre_weekday(df, day, time1, time2):\n",
    "    # consecutive filtering\n",
    "    # genre_df will store only those df rows where the day is equal to day=\n",
    "    genre_df = df[df['day'] == day]\n",
    "    # genre_df will store only those df rows where the time is smaller than time2=\n",
    "    genre_df = genre_df[genre_df['time'] < time2]\n",
    "    # genre_df will store only those df rows where the time is greater than time1=\n",
    "    genre_df = genre_df[genre_df['time'] > time1]\n",
    "    # group the filtered DataFrame by the column with the names of genres, take the genre column, and find the number of rows for each genre with the count() method\n",
    "    genre_df_grouped = genre_df.groupby('genre')['genre'].count()\n",
    "    # we will sort the result in descending order (so that the most popular genres come first in the Series object)\n",
    "    genre_df_sorted = genre_df_grouped.sort_values(ascending=False)\n",
    "    # we will return the Series object storing the 15 most popular genres on a given day in a given timeframe\n",
    "    return genre_df_sorted[:15]"
   ]
  },
  {
   "cell_type": "markdown",
   "metadata": {
    "id": "la2s2_PF_Zcu"
   },
   "source": [
    "Compare the results of the `genre_weekday()` function for Springfield and Shelbyville on Monday morning (from 7AM to 11AM) and on Friday evening (from 17:00 to 23:00):"
   ]
  },
  {
   "cell_type": "code",
   "execution_count": 34,
   "metadata": {
    "id": "yz7itPUQ_Zcu"
   },
   "outputs": [
    {
     "data": {
      "text/plain": [
       "genre\n",
       "pop            781\n",
       "dance          549\n",
       "electronic     480\n",
       "rock           474\n",
       "hiphop         286\n",
       "ruspop         186\n",
       "world          181\n",
       "rusrap         175\n",
       "alternative    164\n",
       "unknown        161\n",
       "classical      157\n",
       "metal          120\n",
       "jazz           100\n",
       "folk            97\n",
       "soundtrack      95\n",
       "Name: genre, dtype: int64"
      ]
     },
     "execution_count": 34,
     "metadata": {},
     "output_type": "execute_result"
    }
   ],
   "source": [
    "# calling the function for Monday morning in Springfield (use spr_general instead of the df table)\n",
    "\n",
    "genre_weekday(spr_general, 'Monday', '07:00', '11:00')"
   ]
  },
  {
   "cell_type": "code",
   "execution_count": 35,
   "metadata": {
    "id": "kwUcHPdy_Zcu"
   },
   "outputs": [
    {
     "data": {
      "text/plain": [
       "genre\n",
       "pop            218\n",
       "dance          182\n",
       "rock           162\n",
       "electronic     147\n",
       "hiphop          80\n",
       "ruspop          64\n",
       "alternative     58\n",
       "rusrap          55\n",
       "jazz            44\n",
       "classical       40\n",
       "world           36\n",
       "rap             32\n",
       "soundtrack      31\n",
       "metal           27\n",
       "rnb             27\n",
       "Name: genre, dtype: int64"
      ]
     },
     "execution_count": 35,
     "metadata": {},
     "output_type": "execute_result"
    }
   ],
   "source": [
    "# calling the function for Monday morning in Shelbyville (use shel_general instead of the df table)\n",
    "\n",
    "genre_weekday(shel_general, 'Monday', '07:00', '11:00')"
   ]
  },
  {
   "cell_type": "code",
   "execution_count": 36,
   "metadata": {
    "id": "EzXVRE1o_Zcu"
   },
   "outputs": [
    {
     "data": {
      "text/plain": [
       "genre\n",
       "pop            713\n",
       "rock           517\n",
       "dance          495\n",
       "electronic     482\n",
       "hiphop         273\n",
       "world          208\n",
       "ruspop         170\n",
       "classical      163\n",
       "alternative    163\n",
       "rusrap         142\n",
       "jazz           111\n",
       "unknown        110\n",
       "soundtrack     105\n",
       "rnb             90\n",
       "metal           88\n",
       "Name: genre, dtype: int64"
      ]
     },
     "execution_count": 36,
     "metadata": {},
     "output_type": "execute_result"
    }
   ],
   "source": [
    "# calling the function for Friday evening in Springfield\n",
    "\n",
    "genre_weekday(spr_general, 'Friday', '17:00', '23:00')"
   ]
  },
  {
   "cell_type": "code",
   "execution_count": 37,
   "metadata": {
    "id": "JZaEKu5v_Zcu"
   },
   "outputs": [
    {
     "data": {
      "text/plain": [
       "genre\n",
       "pop            256\n",
       "rock           216\n",
       "electronic     216\n",
       "dance          210\n",
       "hiphop          97\n",
       "alternative     63\n",
       "jazz            61\n",
       "classical       60\n",
       "rusrap          59\n",
       "world           54\n",
       "ruspop          47\n",
       "unknown         47\n",
       "soundtrack      40\n",
       "metal           39\n",
       "rap             36\n",
       "Name: genre, dtype: int64"
      ]
     },
     "execution_count": 37,
     "metadata": {},
     "output_type": "execute_result"
    }
   ],
   "source": [
    "# calling the function for Friday evening in Shelbyville\n",
    "\n",
    "genre_weekday(shel_general, 'Friday', '17:00', '23:00')"
   ]
  },
  {
   "cell_type": "markdown",
   "metadata": {
    "id": "wrCe4MNX_Zcu"
   },
   "source": [
    "**Conclusion**\n",
    "\n",
    "Having compared the top 15 genres on Monday morning, we can draw the following conclusions:\n",
    "\n",
    "1. Users from Springfield and Shelbyville listen to similar music. The top five genres are the same, only rock and electronic have switched places.\n",
    "\n",
    "2. In Springfield, the number of missing values turned out to be so big that the value `'unknown'` came in 10th. This means that missing values make up a considerable portion of the data, which may be a basis for questioning the reliability of our conclusions.\n",
    "\n",
    "For Friday evening, the situation is similar. Individual genres vary somewhat, but on the whole, the top 15 is similar for the two cities.\n",
    "\n",
    "Thus, the second hypothesis has been partially proven true:\n",
    "* Users listen to similar music at the beginning and end of the week.\n",
    "* There is no major difference between Springfield and Shelbyville. In both cities, pop is the most popular genre.\n",
    "\n",
    "However, the number of missing values makes this result questionable. In Springfield, there are so many that they affect our top 15. Were we not missing these values, things might look different."
   ]
  },
  {
   "cell_type": "markdown",
   "metadata": {
    "id": "jLmXgdanVyhP"
   },
   "source": [
    "[Back to Contents](#back)"
   ]
  },
  {
   "cell_type": "markdown",
   "metadata": {
    "id": "JolODAqr_Zcu"
   },
   "source": [
    "### Hypothesis 3: genre preferences in Springfield and Shelbyville <a id='genre'></a>\n",
    "\n",
    "Hypothesis: Shelbyville loves rap music. Springfield's citizens are more into pop."
   ]
  },
  {
   "cell_type": "markdown",
   "metadata": {
    "id": "DlegSvaT_Zcu"
   },
   "source": [
    "Group the `spr_general` table by genre and find the number of songs played for each genre with the `count()` method. Then sort the result in descending order and store it to `spr_genres`."
   ]
  },
  {
   "cell_type": "code",
   "execution_count": 38,
   "metadata": {
    "id": "r19lIPke_Zcu"
   },
   "outputs": [
    {
     "data": {
      "text/plain": [
       "genre\n",
       "acid            1\n",
       "acoustic        3\n",
       "action          4\n",
       "adult          16\n",
       "africa         12\n",
       "             ... \n",
       "vocal          68\n",
       "western        64\n",
       "world        1432\n",
       "worldbeat       1\n",
       "ïîï             1\n",
       "Name: track, Length: 250, dtype: int64"
      ]
     },
     "metadata": {},
     "output_type": "display_data"
    },
    {
     "data": {
      "text/plain": [
       "genre\n",
       "pop           5892\n",
       "dance         4435\n",
       "rock          3965\n",
       "electronic    3786\n",
       "hiphop        2096\n",
       "              ... \n",
       "karadeniz        1\n",
       "kayokyoku        1\n",
       "lovers           1\n",
       "malaysian        1\n",
       "acid             1\n",
       "Name: track, Length: 250, dtype: int64"
      ]
     },
     "metadata": {},
     "output_type": "display_data"
    }
   ],
   "source": [
    "# on one line: group the spr_general table by the 'genre' column, \n",
    "# count the 'genre' values with count() in the grouping, \n",
    "# sort the resulting Series in descending order, and store it to spr_genres\n",
    "spr_general_grouped = spr_general.groupby('genre')['track'].count()\n",
    "display(spr_general_grouped)\n",
    "spr_genres = spr_general_grouped.sort_values(ascending = False)\n",
    "display(spr_genres)"
   ]
  },
  {
   "cell_type": "markdown",
   "metadata": {
    "id": "6kMuomxTiIr8"
   },
   "source": [
    "Print the first 10 rows from `spr_genres`:"
   ]
  },
  {
   "cell_type": "code",
   "execution_count": 39,
   "metadata": {
    "id": "WhCSooF8_Zcv"
   },
   "outputs": [
    {
     "data": {
      "text/plain": [
       "genre\n",
       "pop            5892\n",
       "dance          4435\n",
       "rock           3965\n",
       "electronic     3786\n",
       "hiphop         2096\n",
       "classical      1616\n",
       "world          1432\n",
       "alternative    1379\n",
       "ruspop         1372\n",
       "rusrap         1161\n",
       "Name: track, dtype: int64"
      ]
     },
     "metadata": {},
     "output_type": "display_data"
    }
   ],
   "source": [
    "# printing the first 10 rows of spr_genres\n",
    "display(spr_genres.head(10))"
   ]
  },
  {
   "cell_type": "markdown",
   "metadata": {
    "id": "cnPG2vnN_Zcv"
   },
   "source": [
    "Now do the same with the data on Shelbyville.\n",
    "\n",
    "Group the `shel_general` table by genre and find the number of songs played for each genre. Then sort the result in descending order and store it to the `shel_genres` table:\n"
   ]
  },
  {
   "cell_type": "code",
   "execution_count": 40,
   "metadata": {
    "id": "gluLIpE7_Zcv"
   },
   "outputs": [
    {
     "data": {
      "text/plain": [
       "genre\n",
       "acoustic         2\n",
       "adult            8\n",
       "africa           4\n",
       "alternative    649\n",
       "ambient         64\n",
       "              ... \n",
       "videogame       48\n",
       "vocal           25\n",
       "western         33\n",
       "world          515\n",
       "worldbeat        1\n",
       "Name: track, Length: 202, dtype: int64"
      ]
     },
     "metadata": {},
     "output_type": "display_data"
    },
    {
     "data": {
      "text/plain": [
       "genre\n",
       "pop              2431\n",
       "dance            1932\n",
       "rock             1879\n",
       "electronic       1736\n",
       "hiphop            960\n",
       "                 ... \n",
       "jungle              1\n",
       "laiko               1\n",
       "leftfield           1\n",
       "mandopop            1\n",
       "international       1\n",
       "Name: track, Length: 202, dtype: int64"
      ]
     },
     "metadata": {},
     "output_type": "display_data"
    }
   ],
   "source": [
    "# on one line: group the shel_general table by the 'genre' column, \n",
    "# count the 'genre' values in the grouping with count(), \n",
    "# sort the resulting Series in descending order and store it to shel_genres\n",
    "shel_general_grouped = shel_general.groupby('genre')['track'].count()\n",
    "display(shel_general_grouped)\n",
    "shel_genres = shel_general_grouped.sort_values(ascending = False)\n",
    "display(shel_genres)"
   ]
  },
  {
   "cell_type": "markdown",
   "metadata": {
    "id": "5Doha_ODgyQ8"
   },
   "source": [
    "Print the first 10 rows of `shel_genres`:"
   ]
  },
  {
   "cell_type": "code",
   "execution_count": 41,
   "metadata": {
    "id": "uaGJHjVU_Zcv"
   },
   "outputs": [
    {
     "data": {
      "text/plain": [
       "genre\n",
       "pop            2431\n",
       "dance          1932\n",
       "rock           1879\n",
       "electronic     1736\n",
       "hiphop          960\n",
       "alternative     649\n",
       "classical       646\n",
       "rusrap          564\n",
       "ruspop          538\n",
       "world           515\n",
       "Name: track, dtype: int64"
      ]
     },
     "metadata": {},
     "output_type": "display_data"
    }
   ],
   "source": [
    "# printing the first 10 rows from shel_genres\n",
    "display(shel_genres.head(10))"
   ]
  },
  {
   "cell_type": "markdown",
   "metadata": {
    "id": "RY51YJYu_Zcv"
   },
   "source": [
    "**Conclusion**"
   ]
  },
  {
   "cell_type": "markdown",
   "metadata": {
    "id": "nVhnJEm__Zcv"
   },
   "source": [
    "The hypothesis has been partially proven true:\n",
    "* Pop music is the most popular genre in Springfield, as expected.\n",
    "* However, pop music turned out to be equally popular in Springfield and Shelbyville, and rap wasn't in the top 5 for either city.\n"
   ]
  },
  {
   "cell_type": "markdown",
   "metadata": {
    "id": "Byr0RfpPVz14"
   },
   "source": [
    "[Back to Contents](#back)"
   ]
  },
  {
   "cell_type": "markdown",
   "metadata": {
    "id": "ykKQ0N65_Zcv"
   },
   "source": [
    "# Findings <a id='end'></a>"
   ]
  },
  {
   "cell_type": "markdown",
   "metadata": {
    "id": "tjUwbHb3_Zcv"
   },
   "source": [
    "We have tested the following three hypotheses:\n",
    "\n",
    "1. User activity differs depending on the day of the week and from city to city. \n",
    "2. On Monday mornings, Springfield and Shelbyville residents listen to different genres. This is also true for Friday evenings. \n",
    "3. Springfield and Shelbyville listeners have different preferences. In both Springfield and Shelbyville, they prefer pop.\n",
    "\n",
    "After analyzing the data, we concluded:\n",
    "\n",
    "1. User activity in Springfield and Shelbyville depends on the day of the week, though the cities vary in different ways. \n",
    "\n",
    "The first hypothesis is fully accepted.\n",
    "\n",
    "2. Musical preferences do not vary significantly over the course of the week in both Springfield and Shelbyville. We can see small differences in order on Mondays, but:\n",
    "* In Springfield and Shelbyville, people listen to pop music most.\n",
    "\n",
    "So we can't accept this hypothesis. We must also keep in mind that the result could have been different if not for the missing values.\n",
    "\n",
    "3. It turns out that the musical preferences of users from Springfield and Shelbyville are quite similar.\n",
    "\n",
    "The third hypothesis is rejected. If there is any difference in preferences, it cannot be seen from this data.\n",
    "\n",
    "### Note \n",
    "In real projects, research involves statistical hypothesis testing, which is more precise and more quantitative. Also note that you cannot always draw conclusions about an entire city based on the data from just one source.\n",
    "\n",
    "You will study hypothesis testing in the sprint on statistical data analysis."
   ]
  },
  {
   "cell_type": "markdown",
   "metadata": {
    "id": "Ju4AHDSgV1FE"
   },
   "source": [
    "[Back to Contents](#back)"
   ]
  },
  {
   "cell_type": "code",
   "execution_count": null,
   "metadata": {},
   "outputs": [],
   "source": []
  }
 ],
 "metadata": {
  "ExecuteTimeLog": [
   {
    "duration": 830,
    "start_time": "2021-12-30T21:51:51.133Z"
   },
   {
    "duration": 2895,
    "start_time": "2021-12-30T21:52:48.165Z"
   },
   {
    "duration": 2218,
    "start_time": "2021-12-30T21:52:56.144Z"
   },
   {
    "duration": 2852,
    "start_time": "2021-12-30T21:53:30.408Z"
   },
   {
    "duration": 380,
    "start_time": "2021-12-30T21:53:48.258Z"
   },
   {
    "duration": 11,
    "start_time": "2021-12-30T21:55:29.050Z"
   },
   {
    "duration": 32,
    "start_time": "2021-12-30T21:56:03.501Z"
   },
   {
    "duration": 6,
    "start_time": "2021-12-31T02:43:11.736Z"
   },
   {
    "duration": 370,
    "start_time": "2021-12-31T02:47:00.712Z"
   },
   {
    "duration": 29,
    "start_time": "2021-12-31T02:47:15.897Z"
   },
   {
    "duration": 6,
    "start_time": "2021-12-31T02:47:25.291Z"
   },
   {
    "duration": 30,
    "start_time": "2021-12-31T02:49:12.989Z"
   },
   {
    "duration": 115,
    "start_time": "2021-12-31T02:57:21.577Z"
   },
   {
    "duration": 360,
    "start_time": "2021-12-31T02:59:58.236Z"
   },
   {
    "duration": 10,
    "start_time": "2021-12-31T03:00:01.643Z"
   },
   {
    "duration": 32,
    "start_time": "2021-12-31T03:00:05.395Z"
   },
   {
    "duration": 5,
    "start_time": "2021-12-31T03:00:10.635Z"
   },
   {
    "duration": 28,
    "start_time": "2021-12-31T03:00:14.475Z"
   },
   {
    "duration": 40,
    "start_time": "2021-12-31T03:00:16.998Z"
   },
   {
    "duration": 35,
    "start_time": "2021-12-31T03:00:21.696Z"
   },
   {
    "duration": 29,
    "start_time": "2021-12-31T03:00:29.908Z"
   },
   {
    "duration": 375,
    "start_time": "2021-12-31T03:03:59.268Z"
   },
   {
    "duration": 10,
    "start_time": "2021-12-31T03:04:02.518Z"
   },
   {
    "duration": 33,
    "start_time": "2021-12-31T03:04:05.771Z"
   },
   {
    "duration": 7,
    "start_time": "2021-12-31T03:04:21.528Z"
   },
   {
    "duration": 18,
    "start_time": "2021-12-31T03:04:25.818Z"
   },
   {
    "duration": 5,
    "start_time": "2021-12-31T03:04:28.712Z"
   },
   {
    "duration": 32,
    "start_time": "2021-12-31T03:04:32.563Z"
   },
   {
    "duration": 33,
    "start_time": "2021-12-31T03:04:39.807Z"
   },
   {
    "duration": 369,
    "start_time": "2021-12-31T03:08:12.721Z"
   },
   {
    "duration": 9,
    "start_time": "2021-12-31T03:08:15.648Z"
   },
   {
    "duration": 35,
    "start_time": "2021-12-31T03:08:17.448Z"
   },
   {
    "duration": 6,
    "start_time": "2021-12-31T03:08:21.508Z"
   },
   {
    "duration": 31,
    "start_time": "2021-12-31T03:08:24.030Z"
   },
   {
    "duration": 5,
    "start_time": "2021-12-31T03:08:25.483Z"
   },
   {
    "duration": 33,
    "start_time": "2021-12-31T03:08:28.412Z"
   },
   {
    "duration": 112,
    "start_time": "2021-12-31T03:08:30.890Z"
   },
   {
    "duration": 35,
    "start_time": "2021-12-31T03:08:43.056Z"
   },
   {
    "duration": 36,
    "start_time": "2021-12-31T03:09:02.503Z"
   },
   {
    "duration": 51,
    "start_time": "2021-12-31T03:09:24.366Z"
   },
   {
    "duration": 29,
    "start_time": "2021-12-31T03:11:26.027Z"
   },
   {
    "duration": 31,
    "start_time": "2021-12-31T03:11:55.584Z"
   },
   {
    "duration": 80,
    "start_time": "2021-12-31T03:12:58.571Z"
   },
   {
    "duration": 88,
    "start_time": "2021-12-31T03:13:27.887Z"
   },
   {
    "duration": 77,
    "start_time": "2021-12-31T03:13:37.594Z"
   },
   {
    "duration": 383,
    "start_time": "2021-12-31T03:17:20.478Z"
   },
   {
    "duration": 102,
    "start_time": "2021-12-31T03:18:06.509Z"
   },
   {
    "duration": 284,
    "start_time": "2021-12-31T03:18:16.790Z"
   },
   {
    "duration": 8,
    "start_time": "2021-12-31T03:18:24.555Z"
   },
   {
    "duration": 96,
    "start_time": "2021-12-31T03:18:53.053Z"
   },
   {
    "duration": 270,
    "start_time": "2021-12-31T03:19:05.848Z"
   },
   {
    "duration": 8,
    "start_time": "2021-12-31T03:19:11.124Z"
   },
   {
    "duration": 380,
    "start_time": "2021-12-31T16:14:48.846Z"
   },
   {
    "duration": 3,
    "start_time": "2021-12-31T16:15:00.051Z"
   },
   {
    "duration": 653,
    "start_time": "2021-12-31T16:15:10.291Z"
   },
   {
    "duration": 337,
    "start_time": "2021-12-31T16:15:25.625Z"
   },
   {
    "duration": 326,
    "start_time": "2021-12-31T16:15:35.439Z"
   },
   {
    "duration": 523,
    "start_time": "2021-12-31T16:15:41.877Z"
   },
   {
    "duration": 852,
    "start_time": "2021-12-31T16:15:44.625Z"
   },
   {
    "duration": 4,
    "start_time": "2021-12-31T16:15:53.535Z"
   },
   {
    "duration": 19,
    "start_time": "2021-12-31T16:15:57.139Z"
   },
   {
    "duration": 3,
    "start_time": "2021-12-31T16:16:00.187Z"
   },
   {
    "duration": 19,
    "start_time": "2021-12-31T16:16:02.807Z"
   },
   {
    "duration": 18,
    "start_time": "2021-12-31T16:16:07.129Z"
   },
   {
    "duration": 19,
    "start_time": "2021-12-31T16:16:11.323Z"
   },
   {
    "duration": 47,
    "start_time": "2021-12-31T16:16:14.474Z"
   },
   {
    "duration": 51,
    "start_time": "2021-12-31T16:16:18.807Z"
   },
   {
    "duration": 46,
    "start_time": "2021-12-31T16:16:20.825Z"
   },
   {
    "duration": 5,
    "start_time": "2021-12-31T16:16:25.561Z"
   },
   {
    "duration": 2,
    "start_time": "2021-12-31T16:16:29.696Z"
   },
   {
    "duration": 40,
    "start_time": "2021-12-31T16:16:34.726Z"
   },
   {
    "duration": 5,
    "start_time": "2021-12-31T16:16:55.934Z"
   },
   {
    "duration": 2,
    "start_time": "2021-12-31T16:23:01.510Z"
   },
   {
    "duration": 244,
    "start_time": "2021-12-31T16:23:01.518Z"
   },
   {
    "duration": 5,
    "start_time": "2021-12-31T16:23:01.763Z"
   },
   {
    "duration": 21,
    "start_time": "2021-12-31T16:23:01.770Z"
   },
   {
    "duration": 5,
    "start_time": "2021-12-31T16:23:01.792Z"
   },
   {
    "duration": 37,
    "start_time": "2021-12-31T16:23:01.798Z"
   },
   {
    "duration": 3,
    "start_time": "2021-12-31T16:23:01.836Z"
   },
   {
    "duration": 22,
    "start_time": "2021-12-31T16:23:01.840Z"
   },
   {
    "duration": 16,
    "start_time": "2021-12-31T16:23:01.864Z"
   },
   {
    "duration": 18,
    "start_time": "2021-12-31T16:23:01.882Z"
   },
   {
    "duration": 64,
    "start_time": "2021-12-31T16:23:01.901Z"
   },
   {
    "duration": 47,
    "start_time": "2021-12-31T16:23:01.966Z"
   },
   {
    "duration": 52,
    "start_time": "2021-12-31T16:23:02.015Z"
   },
   {
    "duration": 5,
    "start_time": "2021-12-31T16:23:02.068Z"
   },
   {
    "duration": 3,
    "start_time": "2021-12-31T16:26:29.400Z"
   },
   {
    "duration": 8,
    "start_time": "2021-12-31T16:26:36.786Z"
   },
   {
    "duration": 5,
    "start_time": "2021-12-31T16:26:42.826Z"
   },
   {
    "duration": 336,
    "start_time": "2021-12-31T16:31:05.137Z"
   },
   {
    "duration": 125,
    "start_time": "2021-12-31T16:31:52.470Z"
   },
   {
    "duration": 25,
    "start_time": "2021-12-31T16:31:59.511Z"
   },
   {
    "duration": 25,
    "start_time": "2021-12-31T16:33:38.288Z"
   },
   {
    "duration": 14,
    "start_time": "2021-12-31T16:47:02.015Z"
   },
   {
    "duration": 13,
    "start_time": "2021-12-31T16:48:20.865Z"
   },
   {
    "duration": 25,
    "start_time": "2021-12-31T16:48:42.407Z"
   },
   {
    "duration": 12,
    "start_time": "2021-12-31T16:48:47.503Z"
   },
   {
    "duration": 13,
    "start_time": "2021-12-31T16:49:06.605Z"
   },
   {
    "duration": 14,
    "start_time": "2021-12-31T16:49:19.158Z"
   },
   {
    "duration": 12,
    "start_time": "2021-12-31T16:49:29.615Z"
   },
   {
    "duration": 12,
    "start_time": "2021-12-31T16:49:36.409Z"
   },
   {
    "duration": 337,
    "start_time": "2021-12-31T16:52:37.972Z"
   },
   {
    "duration": 7,
    "start_time": "2021-12-31T16:57:25.697Z"
   },
   {
    "duration": 10,
    "start_time": "2021-12-31T16:59:49.842Z"
   },
   {
    "duration": 9,
    "start_time": "2021-12-31T16:59:58.595Z"
   },
   {
    "duration": 3,
    "start_time": "2021-12-31T17:06:04.998Z"
   },
   {
    "duration": 16,
    "start_time": "2021-12-31T17:06:14.283Z"
   },
   {
    "duration": 12,
    "start_time": "2021-12-31T17:06:18.841Z"
   },
   {
    "duration": 17,
    "start_time": "2021-12-31T17:06:21.568Z"
   },
   {
    "duration": 12,
    "start_time": "2021-12-31T17:06:25.329Z"
   },
   {
    "duration": 736,
    "start_time": "2022-01-02T15:27:55.015Z"
   },
   {
    "duration": 361,
    "start_time": "2022-01-02T15:27:55.754Z"
   },
   {
    "duration": 9,
    "start_time": "2022-01-02T15:27:56.118Z"
   },
   {
    "duration": 52,
    "start_time": "2022-01-02T15:27:56.130Z"
   },
   {
    "duration": 8,
    "start_time": "2022-01-02T15:27:56.186Z"
   },
   {
    "duration": 32,
    "start_time": "2022-01-02T15:27:56.197Z"
   },
   {
    "duration": 38,
    "start_time": "2022-01-02T15:27:56.231Z"
   },
   {
    "duration": 34,
    "start_time": "2022-01-02T15:27:56.273Z"
   },
   {
    "duration": 63,
    "start_time": "2022-01-02T15:27:56.313Z"
   },
   {
    "duration": 32,
    "start_time": "2022-01-02T15:27:56.379Z"
   },
   {
    "duration": 108,
    "start_time": "2022-01-02T15:27:56.414Z"
   },
   {
    "duration": 103,
    "start_time": "2022-01-02T15:27:56.525Z"
   },
   {
    "duration": 90,
    "start_time": "2022-01-02T15:27:56.631Z"
   },
   {
    "duration": 10,
    "start_time": "2022-01-02T15:27:56.724Z"
   },
   {
    "duration": 27,
    "start_time": "2022-01-02T15:27:56.737Z"
   },
   {
    "duration": 17,
    "start_time": "2022-01-02T15:27:56.767Z"
   },
   {
    "duration": 10,
    "start_time": "2022-01-02T15:27:56.786Z"
   },
   {
    "duration": 81,
    "start_time": "2022-01-02T15:27:56.799Z"
   },
   {
    "duration": 42,
    "start_time": "2022-01-02T15:27:56.883Z"
   },
   {
    "duration": 41,
    "start_time": "2022-01-02T15:27:56.928Z"
   },
   {
    "duration": 19,
    "start_time": "2022-01-02T15:27:56.971Z"
   },
   {
    "duration": 17,
    "start_time": "2022-01-02T15:27:56.992Z"
   },
   {
    "duration": 56,
    "start_time": "2022-01-02T15:27:57.012Z"
   },
   {
    "duration": 19,
    "start_time": "2022-01-02T15:27:57.071Z"
   },
   {
    "duration": 19,
    "start_time": "2022-01-02T15:27:57.093Z"
   },
   {
    "duration": 48,
    "start_time": "2022-01-02T15:27:57.115Z"
   },
   {
    "duration": 13,
    "start_time": "2022-01-02T15:27:57.167Z"
   },
   {
    "duration": 14,
    "start_time": "2022-01-02T15:27:57.182Z"
   },
   {
    "duration": 12,
    "start_time": "2022-01-02T15:27:57.199Z"
   },
   {
    "duration": 6,
    "start_time": "2022-01-02T15:27:57.213Z"
   },
   {
    "duration": 59,
    "start_time": "2022-01-02T15:27:57.221Z"
   },
   {
    "duration": 16,
    "start_time": "2022-01-02T15:27:57.283Z"
   },
   {
    "duration": 25,
    "start_time": "2022-01-02T15:27:57.302Z"
   },
   {
    "duration": 24,
    "start_time": "2022-01-02T15:28:09.296Z"
   },
   {
    "duration": 4,
    "start_time": "2022-01-02T17:34:28.453Z"
   },
   {
    "duration": 563,
    "start_time": "2022-01-02T17:34:28.464Z"
   },
   {
    "duration": 13,
    "start_time": "2022-01-02T17:34:29.031Z"
   },
   {
    "duration": 50,
    "start_time": "2022-01-02T17:34:29.063Z"
   },
   {
    "duration": 6,
    "start_time": "2022-01-02T17:34:29.116Z"
   },
   {
    "duration": 51,
    "start_time": "2022-01-02T17:34:29.125Z"
   },
   {
    "duration": 7,
    "start_time": "2022-01-02T17:34:29.179Z"
   },
   {
    "duration": 46,
    "start_time": "2022-01-02T17:34:29.189Z"
   },
   {
    "duration": 62,
    "start_time": "2022-01-02T17:34:29.238Z"
   },
   {
    "duration": 61,
    "start_time": "2022-01-02T17:34:29.306Z"
   },
   {
    "duration": 125,
    "start_time": "2022-01-02T17:34:29.371Z"
   },
   {
    "duration": 100,
    "start_time": "2022-01-02T17:34:29.498Z"
   },
   {
    "duration": 82,
    "start_time": "2022-01-02T17:34:29.600Z"
   },
   {
    "duration": 8,
    "start_time": "2022-01-02T17:34:29.685Z"
   },
   {
    "duration": 4,
    "start_time": "2022-01-02T17:34:29.696Z"
   },
   {
    "duration": 33,
    "start_time": "2022-01-02T17:34:29.702Z"
   },
   {
    "duration": 27,
    "start_time": "2022-01-02T17:34:29.738Z"
   },
   {
    "duration": 40,
    "start_time": "2022-01-02T17:34:29.767Z"
   },
   {
    "duration": 66,
    "start_time": "2022-01-02T17:34:29.809Z"
   },
   {
    "duration": 19,
    "start_time": "2022-01-02T17:34:29.877Z"
   },
   {
    "duration": 20,
    "start_time": "2022-01-02T17:34:29.898Z"
   },
   {
    "duration": 47,
    "start_time": "2022-01-02T17:34:29.920Z"
   },
   {
    "duration": 18,
    "start_time": "2022-01-02T17:34:29.969Z"
   },
   {
    "duration": 17,
    "start_time": "2022-01-02T17:34:29.989Z"
   },
   {
    "duration": 21,
    "start_time": "2022-01-02T17:34:30.008Z"
   },
   {
    "duration": 19,
    "start_time": "2022-01-02T17:34:30.064Z"
   },
   {
    "duration": 16,
    "start_time": "2022-01-02T17:34:30.086Z"
   },
   {
    "duration": 29,
    "start_time": "2022-01-02T17:34:30.107Z"
   },
   {
    "duration": 38,
    "start_time": "2022-01-02T17:34:30.139Z"
   },
   {
    "duration": 6,
    "start_time": "2022-01-02T17:34:30.180Z"
   },
   {
    "duration": 31,
    "start_time": "2022-01-02T17:34:30.189Z"
   },
   {
    "duration": 47,
    "start_time": "2022-01-02T17:34:30.223Z"
   },
   {
    "duration": 36,
    "start_time": "2022-01-02T17:34:30.273Z"
   },
   {
    "duration": 24,
    "start_time": "2022-01-02T17:34:30.312Z"
   },
   {
    "duration": 73,
    "start_time": "2022-01-02T17:34:39.336Z"
   },
   {
    "duration": 93,
    "start_time": "2022-01-02T17:34:59.290Z"
   },
   {
    "duration": 11,
    "start_time": "2022-01-02T17:35:26.696Z"
   },
   {
    "duration": 39,
    "start_time": "2022-01-02T17:38:25.971Z"
   },
   {
    "duration": 10,
    "start_time": "2022-01-02T17:38:57.991Z"
   },
   {
    "duration": 58,
    "start_time": "2022-01-02T17:41:58.847Z"
   },
   {
    "duration": 14,
    "start_time": "2022-01-02T17:42:31.844Z"
   },
   {
    "duration": 11,
    "start_time": "2022-01-02T17:45:04.999Z"
   },
   {
    "duration": 14,
    "start_time": "2022-01-02T17:45:19.365Z"
   },
   {
    "duration": 17,
    "start_time": "2022-01-02T17:45:53.000Z"
   },
   {
    "duration": 374,
    "start_time": "2022-01-02T17:46:17.340Z"
   },
   {
    "duration": 14,
    "start_time": "2022-01-02T17:47:06.160Z"
   },
   {
    "duration": 4,
    "start_time": "2022-01-02T17:47:12.226Z"
   },
   {
    "duration": 375,
    "start_time": "2022-01-02T17:47:12.232Z"
   },
   {
    "duration": 9,
    "start_time": "2022-01-02T17:47:12.610Z"
   },
   {
    "duration": 49,
    "start_time": "2022-01-02T17:47:12.621Z"
   },
   {
    "duration": 5,
    "start_time": "2022-01-02T17:47:12.673Z"
   },
   {
    "duration": 23,
    "start_time": "2022-01-02T17:47:12.680Z"
   },
   {
    "duration": 6,
    "start_time": "2022-01-02T17:47:12.705Z"
   },
   {
    "duration": 67,
    "start_time": "2022-01-02T17:47:12.713Z"
   },
   {
    "duration": 28,
    "start_time": "2022-01-02T17:47:12.784Z"
   },
   {
    "duration": 50,
    "start_time": "2022-01-02T17:47:12.815Z"
   },
   {
    "duration": 75,
    "start_time": "2022-01-02T17:47:12.868Z"
   },
   {
    "duration": 91,
    "start_time": "2022-01-02T17:47:12.946Z"
   },
   {
    "duration": 84,
    "start_time": "2022-01-02T17:47:13.039Z"
   },
   {
    "duration": 7,
    "start_time": "2022-01-02T17:47:13.125Z"
   },
   {
    "duration": 4,
    "start_time": "2022-01-02T17:47:13.135Z"
   },
   {
    "duration": 34,
    "start_time": "2022-01-02T17:47:13.141Z"
   },
   {
    "duration": 10,
    "start_time": "2022-01-02T17:47:13.177Z"
   },
   {
    "duration": 74,
    "start_time": "2022-01-02T17:47:13.189Z"
   },
   {
    "duration": 43,
    "start_time": "2022-01-02T17:47:13.265Z"
   },
   {
    "duration": 18,
    "start_time": "2022-01-02T17:47:13.311Z"
   },
   {
    "duration": 44,
    "start_time": "2022-01-02T17:47:13.332Z"
   },
   {
    "duration": 16,
    "start_time": "2022-01-02T17:47:13.379Z"
   },
   {
    "duration": 18,
    "start_time": "2022-01-02T17:47:13.398Z"
   },
   {
    "duration": 46,
    "start_time": "2022-01-02T17:47:13.418Z"
   },
   {
    "duration": 20,
    "start_time": "2022-01-02T17:47:13.467Z"
   },
   {
    "duration": 18,
    "start_time": "2022-01-02T17:47:13.489Z"
   },
   {
    "duration": 12,
    "start_time": "2022-01-02T17:47:13.511Z"
   },
   {
    "duration": 20,
    "start_time": "2022-01-02T17:47:13.563Z"
   },
   {
    "duration": 14,
    "start_time": "2022-01-02T17:47:13.586Z"
   },
   {
    "duration": 5,
    "start_time": "2022-01-02T17:47:13.602Z"
   },
   {
    "duration": 56,
    "start_time": "2022-01-02T17:47:13.609Z"
   },
   {
    "duration": 17,
    "start_time": "2022-01-02T17:47:13.668Z"
   },
   {
    "duration": 25,
    "start_time": "2022-01-02T17:47:13.687Z"
   },
   {
    "duration": 49,
    "start_time": "2022-01-02T17:47:13.715Z"
   },
   {
    "duration": 14,
    "start_time": "2022-01-02T17:47:13.766Z"
   },
   {
    "duration": 14,
    "start_time": "2022-01-02T17:50:32.130Z"
   },
   {
    "duration": 15,
    "start_time": "2022-01-02T17:50:48.041Z"
   },
   {
    "duration": 17,
    "start_time": "2022-01-02T17:51:05.351Z"
   },
   {
    "duration": 15,
    "start_time": "2022-01-02T17:51:22.196Z"
   },
   {
    "duration": 6,
    "start_time": "2022-01-02T17:51:51.770Z"
   },
   {
    "duration": 17,
    "start_time": "2022-01-02T17:52:52.435Z"
   },
   {
    "duration": 6,
    "start_time": "2022-01-02T17:53:18.488Z"
   },
   {
    "duration": 3,
    "start_time": "2022-01-02T17:58:11.720Z"
   },
   {
    "duration": 360,
    "start_time": "2022-01-02T17:58:11.726Z"
   },
   {
    "duration": 8,
    "start_time": "2022-01-02T17:58:12.089Z"
   },
   {
    "duration": 33,
    "start_time": "2022-01-02T17:58:12.099Z"
   },
   {
    "duration": 28,
    "start_time": "2022-01-02T17:58:12.134Z"
   },
   {
    "duration": 20,
    "start_time": "2022-01-02T17:58:12.164Z"
   },
   {
    "duration": 5,
    "start_time": "2022-01-02T17:58:12.186Z"
   },
   {
    "duration": 31,
    "start_time": "2022-01-02T17:58:12.193Z"
   },
   {
    "duration": 60,
    "start_time": "2022-01-02T17:58:12.228Z"
   },
   {
    "duration": 30,
    "start_time": "2022-01-02T17:58:12.291Z"
   },
   {
    "duration": 104,
    "start_time": "2022-01-02T17:58:12.324Z"
   },
   {
    "duration": 94,
    "start_time": "2022-01-02T17:58:12.430Z"
   },
   {
    "duration": 80,
    "start_time": "2022-01-02T17:58:12.526Z"
   },
   {
    "duration": 8,
    "start_time": "2022-01-02T17:58:12.608Z"
   },
   {
    "duration": 4,
    "start_time": "2022-01-02T17:58:12.618Z"
   },
   {
    "duration": 42,
    "start_time": "2022-01-02T17:58:12.624Z"
   },
   {
    "duration": 7,
    "start_time": "2022-01-02T17:58:12.668Z"
   },
   {
    "duration": 41,
    "start_time": "2022-01-02T17:58:12.678Z"
   },
   {
    "duration": 69,
    "start_time": "2022-01-02T17:58:12.721Z"
   },
   {
    "duration": 19,
    "start_time": "2022-01-02T17:58:12.792Z"
   },
   {
    "duration": 19,
    "start_time": "2022-01-02T17:58:12.814Z"
   },
   {
    "duration": 17,
    "start_time": "2022-01-02T17:58:12.862Z"
   },
   {
    "duration": 18,
    "start_time": "2022-01-02T17:58:12.882Z"
   },
   {
    "duration": 16,
    "start_time": "2022-01-02T17:58:12.903Z"
   },
   {
    "duration": 49,
    "start_time": "2022-01-02T17:58:12.922Z"
   },
   {
    "duration": 17,
    "start_time": "2022-01-02T17:58:12.973Z"
   },
   {
    "duration": 11,
    "start_time": "2022-01-02T17:58:12.995Z"
   },
   {
    "duration": 56,
    "start_time": "2022-01-02T17:58:13.009Z"
   },
   {
    "duration": 15,
    "start_time": "2022-01-02T17:58:13.067Z"
   },
   {
    "duration": 5,
    "start_time": "2022-01-02T17:58:13.085Z"
   },
   {
    "duration": 25,
    "start_time": "2022-01-02T17:58:13.093Z"
   },
   {
    "duration": 44,
    "start_time": "2022-01-02T17:58:13.121Z"
   },
   {
    "duration": 26,
    "start_time": "2022-01-02T17:58:13.168Z"
   },
   {
    "duration": 18,
    "start_time": "2022-01-02T17:58:13.196Z"
   },
   {
    "duration": 50,
    "start_time": "2022-01-02T17:58:13.216Z"
   },
   {
    "duration": 5,
    "start_time": "2022-01-02T17:58:13.268Z"
   },
   {
    "duration": 16,
    "start_time": "2022-01-02T17:58:13.276Z"
   },
   {
    "duration": 3,
    "start_time": "2022-01-02T17:58:48.896Z"
   },
   {
    "duration": 366,
    "start_time": "2022-01-02T17:58:48.902Z"
   },
   {
    "duration": 9,
    "start_time": "2022-01-02T17:58:49.271Z"
   },
   {
    "duration": 36,
    "start_time": "2022-01-02T17:58:49.283Z"
   },
   {
    "duration": 4,
    "start_time": "2022-01-02T17:58:49.322Z"
   },
   {
    "duration": 52,
    "start_time": "2022-01-02T17:58:49.329Z"
   },
   {
    "duration": 5,
    "start_time": "2022-01-02T17:58:49.384Z"
   },
   {
    "duration": 32,
    "start_time": "2022-01-02T17:58:49.393Z"
   },
   {
    "duration": 61,
    "start_time": "2022-01-02T17:58:49.428Z"
   },
   {
    "duration": 32,
    "start_time": "2022-01-02T17:58:49.491Z"
   },
   {
    "duration": 104,
    "start_time": "2022-01-02T17:58:49.526Z"
   },
   {
    "duration": 95,
    "start_time": "2022-01-02T17:58:49.632Z"
   },
   {
    "duration": 82,
    "start_time": "2022-01-02T17:58:49.729Z"
   },
   {
    "duration": 8,
    "start_time": "2022-01-02T17:58:49.814Z"
   },
   {
    "duration": 5,
    "start_time": "2022-01-02T17:58:49.825Z"
   },
   {
    "duration": 39,
    "start_time": "2022-01-02T17:58:49.832Z"
   },
   {
    "duration": 7,
    "start_time": "2022-01-02T17:58:49.874Z"
   },
   {
    "duration": 39,
    "start_time": "2022-01-02T17:58:49.884Z"
   },
   {
    "duration": 67,
    "start_time": "2022-01-02T17:58:49.926Z"
   },
   {
    "duration": 19,
    "start_time": "2022-01-02T17:58:49.996Z"
   },
   {
    "duration": 46,
    "start_time": "2022-01-02T17:58:50.018Z"
   },
   {
    "duration": 18,
    "start_time": "2022-01-02T17:58:50.067Z"
   },
   {
    "duration": 19,
    "start_time": "2022-01-02T17:58:50.091Z"
   },
   {
    "duration": 50,
    "start_time": "2022-01-02T17:58:50.113Z"
   },
   {
    "duration": 21,
    "start_time": "2022-01-02T17:58:50.166Z"
   },
   {
    "duration": 17,
    "start_time": "2022-01-02T17:58:50.190Z"
   },
   {
    "duration": 12,
    "start_time": "2022-01-02T17:58:50.209Z"
   },
   {
    "duration": 53,
    "start_time": "2022-01-02T17:58:50.224Z"
   },
   {
    "duration": 16,
    "start_time": "2022-01-02T17:58:50.280Z"
   },
   {
    "duration": 7,
    "start_time": "2022-01-02T17:58:50.298Z"
   },
   {
    "duration": 60,
    "start_time": "2022-01-02T17:58:50.308Z"
   },
   {
    "duration": 18,
    "start_time": "2022-01-02T17:58:50.371Z"
   },
   {
    "duration": 30,
    "start_time": "2022-01-02T17:58:50.392Z"
   },
   {
    "duration": 49,
    "start_time": "2022-01-02T17:58:50.425Z"
   },
   {
    "duration": 18,
    "start_time": "2022-01-02T17:58:50.477Z"
   },
   {
    "duration": 6,
    "start_time": "2022-01-02T17:58:50.497Z"
   },
   {
    "duration": 17,
    "start_time": "2022-01-02T17:58:50.505Z"
   },
   {
    "duration": 6,
    "start_time": "2022-01-02T17:59:08.794Z"
   },
   {
    "duration": 510,
    "start_time": "2022-01-03T03:41:06.452Z"
   },
   {
    "duration": 312,
    "start_time": "2022-01-03T03:41:06.964Z"
   },
   {
    "duration": 7,
    "start_time": "2022-01-03T03:41:07.278Z"
   },
   {
    "duration": 26,
    "start_time": "2022-01-03T03:41:07.286Z"
   },
   {
    "duration": 5,
    "start_time": "2022-01-03T03:41:07.314Z"
   },
   {
    "duration": 26,
    "start_time": "2022-01-03T03:41:07.320Z"
   },
   {
    "duration": 4,
    "start_time": "2022-01-03T03:41:07.347Z"
   },
   {
    "duration": 47,
    "start_time": "2022-01-03T03:41:07.353Z"
   },
   {
    "duration": 28,
    "start_time": "2022-01-03T03:41:07.402Z"
   },
   {
    "duration": 22,
    "start_time": "2022-01-03T03:41:07.432Z"
   },
   {
    "duration": 68,
    "start_time": "2022-01-03T03:41:07.455Z"
   },
   {
    "duration": 66,
    "start_time": "2022-01-03T03:41:07.525Z"
   },
   {
    "duration": 49,
    "start_time": "2022-01-03T03:41:07.593Z"
   },
   {
    "duration": 6,
    "start_time": "2022-01-03T03:41:07.644Z"
   },
   {
    "duration": 3,
    "start_time": "2022-01-03T03:41:07.651Z"
   },
   {
    "duration": 10,
    "start_time": "2022-01-03T03:41:07.656Z"
   },
   {
    "duration": 25,
    "start_time": "2022-01-03T03:41:07.668Z"
   },
   {
    "duration": 30,
    "start_time": "2022-01-03T03:41:07.695Z"
   },
   {
    "duration": 28,
    "start_time": "2022-01-03T03:41:07.726Z"
   },
   {
    "duration": 39,
    "start_time": "2022-01-03T03:41:07.756Z"
   },
   {
    "duration": 15,
    "start_time": "2022-01-03T03:41:07.796Z"
   },
   {
    "duration": 21,
    "start_time": "2022-01-03T03:41:07.812Z"
   },
   {
    "duration": 16,
    "start_time": "2022-01-03T03:41:07.837Z"
   },
   {
    "duration": 19,
    "start_time": "2022-01-03T03:41:07.855Z"
   },
   {
    "duration": 29,
    "start_time": "2022-01-03T03:41:07.875Z"
   },
   {
    "duration": 12,
    "start_time": "2022-01-03T03:41:07.906Z"
   },
   {
    "duration": 8,
    "start_time": "2022-01-03T03:41:07.920Z"
   },
   {
    "duration": 14,
    "start_time": "2022-01-03T03:41:07.929Z"
   },
   {
    "duration": 9,
    "start_time": "2022-01-03T03:41:07.944Z"
   },
   {
    "duration": 4,
    "start_time": "2022-01-03T03:41:07.955Z"
   },
   {
    "duration": 58,
    "start_time": "2022-01-03T03:41:07.960Z"
   },
   {
    "duration": 12,
    "start_time": "2022-01-03T03:41:08.020Z"
   },
   {
    "duration": 22,
    "start_time": "2022-01-03T03:41:08.034Z"
   },
   {
    "duration": 15,
    "start_time": "2022-01-03T03:41:08.057Z"
   },
   {
    "duration": 27,
    "start_time": "2022-01-03T03:41:08.074Z"
   },
   {
    "duration": 4,
    "start_time": "2022-01-03T03:41:08.102Z"
   },
   {
    "duration": 14,
    "start_time": "2022-01-03T03:41:08.108Z"
   },
   {
    "duration": 4,
    "start_time": "2022-01-03T03:41:08.124Z"
   },
   {
    "duration": 762,
    "start_time": "2022-01-03T10:27:44.766Z"
   },
   {
    "duration": 357,
    "start_time": "2022-01-03T10:27:45.532Z"
   },
   {
    "duration": 9,
    "start_time": "2022-01-03T10:27:45.893Z"
   },
   {
    "duration": 57,
    "start_time": "2022-01-03T10:27:45.905Z"
   },
   {
    "duration": 7,
    "start_time": "2022-01-03T10:27:45.964Z"
   },
   {
    "duration": 38,
    "start_time": "2022-01-03T10:27:45.975Z"
   },
   {
    "duration": 9,
    "start_time": "2022-01-03T10:27:46.016Z"
   },
   {
    "duration": 53,
    "start_time": "2022-01-03T10:27:46.029Z"
   },
   {
    "duration": 31,
    "start_time": "2022-01-03T10:27:46.086Z"
   },
   {
    "duration": 60,
    "start_time": "2022-01-03T10:27:46.119Z"
   },
   {
    "duration": 98,
    "start_time": "2022-01-03T10:27:46.182Z"
   },
   {
    "duration": 108,
    "start_time": "2022-01-03T10:27:46.283Z"
   },
   {
    "duration": 89,
    "start_time": "2022-01-03T10:27:46.394Z"
   },
   {
    "duration": 10,
    "start_time": "2022-01-03T10:27:46.485Z"
   },
   {
    "duration": 5,
    "start_time": "2022-01-03T10:27:46.498Z"
   },
   {
    "duration": 16,
    "start_time": "2022-01-03T10:27:46.506Z"
   },
   {
    "duration": 12,
    "start_time": "2022-01-03T10:27:46.560Z"
   },
   {
    "duration": 46,
    "start_time": "2022-01-03T10:27:46.574Z"
   },
   {
    "duration": 87,
    "start_time": "2022-01-03T10:27:46.622Z"
   },
   {
    "duration": 51,
    "start_time": "2022-01-03T10:27:46.712Z"
   },
   {
    "duration": 25,
    "start_time": "2022-01-03T10:27:46.766Z"
   },
   {
    "duration": 21,
    "start_time": "2022-01-03T10:27:46.793Z"
   },
   {
    "duration": 50,
    "start_time": "2022-01-03T10:27:46.820Z"
   },
   {
    "duration": 23,
    "start_time": "2022-01-03T10:27:46.874Z"
   },
   {
    "duration": 21,
    "start_time": "2022-01-03T10:27:46.900Z"
   },
   {
    "duration": 63,
    "start_time": "2022-01-03T10:27:46.923Z"
   },
   {
    "duration": 15,
    "start_time": "2022-01-03T10:27:46.990Z"
   },
   {
    "duration": 16,
    "start_time": "2022-01-03T10:27:47.008Z"
   },
   {
    "duration": 47,
    "start_time": "2022-01-03T10:27:47.027Z"
   },
   {
    "duration": 10,
    "start_time": "2022-01-03T10:27:47.077Z"
   },
   {
    "duration": 25,
    "start_time": "2022-01-03T10:27:47.089Z"
   },
   {
    "duration": 52,
    "start_time": "2022-01-03T10:27:47.117Z"
   },
   {
    "duration": 28,
    "start_time": "2022-01-03T10:27:47.172Z"
   },
   {
    "duration": 14,
    "start_time": "2022-01-03T10:27:47.203Z"
   },
   {
    "duration": 48,
    "start_time": "2022-01-03T10:27:47.220Z"
   },
   {
    "duration": 5,
    "start_time": "2022-01-03T10:27:47.270Z"
   },
   {
    "duration": 17,
    "start_time": "2022-01-03T10:27:47.277Z"
   },
   {
    "duration": 5,
    "start_time": "2022-01-03T10:27:47.296Z"
   },
   {
    "duration": 417,
    "start_time": "2022-01-07T21:40:58.341Z"
   },
   {
    "duration": 628,
    "start_time": "2022-01-07T21:41:08.327Z"
   },
   {
    "duration": 417,
    "start_time": "2022-01-07T21:41:10.244Z"
   },
   {
    "duration": 263,
    "start_time": "2022-01-07T21:41:35.769Z"
   },
   {
    "duration": 10,
    "start_time": "2022-01-07T21:43:31.803Z"
   },
   {
    "duration": 24,
    "start_time": "2022-01-07T21:45:53.079Z"
   },
   {
    "duration": 4,
    "start_time": "2022-01-07T21:46:09.370Z"
   },
   {
    "duration": 22,
    "start_time": "2022-01-07T21:46:12.977Z"
   },
   {
    "duration": 4,
    "start_time": "2022-01-07T21:46:16.482Z"
   },
   {
    "duration": 22,
    "start_time": "2022-01-07T21:46:21.922Z"
   },
   {
    "duration": 284,
    "start_time": "2022-01-07T21:48:20.306Z"
   },
   {
    "duration": 617,
    "start_time": "2022-01-07T21:48:31.784Z"
   },
   {
    "duration": 96,
    "start_time": "2022-01-07T21:49:08.937Z"
   },
   {
    "duration": 342,
    "start_time": "2022-01-07T21:51:43.056Z"
   },
   {
    "duration": 24,
    "start_time": "2022-01-07T21:52:28.786Z"
   },
   {
    "duration": 72,
    "start_time": "2022-01-07T21:53:34.862Z"
   },
   {
    "duration": 24,
    "start_time": "2022-01-07T21:56:04.783Z"
   },
   {
    "duration": 24,
    "start_time": "2022-01-07T21:56:24.857Z"
   },
   {
    "duration": 273,
    "start_time": "2022-01-07T21:56:53.768Z"
   },
   {
    "duration": 412,
    "start_time": "2022-01-07T21:57:11.042Z"
   },
   {
    "duration": 302,
    "start_time": "2022-01-07T21:57:20.527Z"
   },
   {
    "duration": 23,
    "start_time": "2022-01-07T21:57:52.056Z"
   },
   {
    "duration": 22,
    "start_time": "2022-01-07T21:57:59.931Z"
   },
   {
    "duration": 42,
    "start_time": "2022-01-07T21:58:28.799Z"
   },
   {
    "duration": 42,
    "start_time": "2022-01-07T21:58:32.410Z"
   },
   {
    "duration": 46,
    "start_time": "2022-01-07T22:00:07.359Z"
   },
   {
    "duration": 46,
    "start_time": "2022-01-07T22:00:11.854Z"
   },
   {
    "duration": 55,
    "start_time": "2022-01-07T22:01:21.256Z"
   },
   {
    "duration": 1005,
    "start_time": "2022-01-07T22:04:15.641Z"
   },
   {
    "duration": 55,
    "start_time": "2022-01-07T22:04:34.877Z"
   },
   {
    "duration": 55,
    "start_time": "2022-01-07T22:05:03.897Z"
   },
   {
    "duration": 52,
    "start_time": "2022-01-07T22:05:20.556Z"
   },
   {
    "duration": 2,
    "start_time": "2022-01-07T22:06:14.904Z"
   },
   {
    "duration": 270,
    "start_time": "2022-01-07T22:06:14.964Z"
   },
   {
    "duration": 8,
    "start_time": "2022-01-07T22:06:15.236Z"
   },
   {
    "duration": 34,
    "start_time": "2022-01-07T22:06:15.246Z"
   },
   {
    "duration": 15,
    "start_time": "2022-01-07T22:06:15.282Z"
   },
   {
    "duration": 38,
    "start_time": "2022-01-07T22:06:15.298Z"
   },
   {
    "duration": 4,
    "start_time": "2022-01-07T22:06:15.338Z"
   },
   {
    "duration": 23,
    "start_time": "2022-01-07T22:06:20.252Z"
   },
   {
    "duration": 65,
    "start_time": "2022-01-07T22:06:22.791Z"
   },
   {
    "duration": 22,
    "start_time": "2022-01-07T22:08:47.857Z"
   },
   {
    "duration": 22,
    "start_time": "2022-01-07T22:08:54.012Z"
   },
   {
    "duration": 55,
    "start_time": "2022-01-07T22:09:07.403Z"
   },
   {
    "duration": 59,
    "start_time": "2022-01-07T22:09:09.667Z"
   },
   {
    "duration": 55,
    "start_time": "2022-01-07T22:09:12.001Z"
   },
   {
    "duration": 6,
    "start_time": "2022-01-07T22:09:20.654Z"
   },
   {
    "duration": 4,
    "start_time": "2022-01-07T22:09:33.989Z"
   },
   {
    "duration": 10,
    "start_time": "2022-01-07T22:09:36.416Z"
   },
   {
    "duration": 6,
    "start_time": "2022-01-07T22:09:39.011Z"
   },
   {
    "duration": 31,
    "start_time": "2022-01-07T22:09:46.376Z"
   },
   {
    "duration": 10,
    "start_time": "2022-01-07T22:11:04.591Z"
   },
   {
    "duration": 8,
    "start_time": "2022-01-07T22:11:22.878Z"
   },
   {
    "duration": 13,
    "start_time": "2022-01-07T22:13:49.962Z"
   },
   {
    "duration": 32,
    "start_time": "2022-01-07T22:14:15.837Z"
   },
   {
    "duration": 35,
    "start_time": "2022-01-07T22:15:13.501Z"
   },
   {
    "duration": 13,
    "start_time": "2022-01-07T22:15:37.250Z"
   },
   {
    "duration": 16,
    "start_time": "2022-01-07T22:17:35.782Z"
   },
   {
    "duration": 11,
    "start_time": "2022-01-07T22:23:34.705Z"
   },
   {
    "duration": 10,
    "start_time": "2022-01-07T22:23:37.146Z"
   },
   {
    "duration": 4,
    "start_time": "2022-01-07T22:23:49.277Z"
   },
   {
    "duration": 18,
    "start_time": "2022-01-07T22:23:52.979Z"
   },
   {
    "duration": 13,
    "start_time": "2022-01-07T22:23:57.744Z"
   },
   {
    "duration": 20,
    "start_time": "2022-01-07T22:24:04.116Z"
   },
   {
    "duration": 18,
    "start_time": "2022-01-07T22:24:07.108Z"
   },
   {
    "duration": 13,
    "start_time": "2022-01-07T22:24:14.168Z"
   },
   {
    "duration": 15,
    "start_time": "2022-01-07T22:24:29.053Z"
   },
   {
    "duration": 5,
    "start_time": "2022-01-07T22:24:40.258Z"
   },
   {
    "duration": 16,
    "start_time": "2022-01-07T22:24:49.011Z"
   },
   {
    "duration": 5,
    "start_time": "2022-01-07T22:24:55.234Z"
   },
   {
    "duration": 17,
    "start_time": "2022-01-07T23:08:41.796Z"
   },
   {
    "duration": 3,
    "start_time": "2022-01-08T00:35:02.778Z"
   },
   {
    "duration": 258,
    "start_time": "2022-01-08T00:35:02.783Z"
   },
   {
    "duration": 10,
    "start_time": "2022-01-08T00:35:03.043Z"
   },
   {
    "duration": 24,
    "start_time": "2022-01-08T00:35:03.061Z"
   },
   {
    "duration": 5,
    "start_time": "2022-01-08T00:35:03.087Z"
   },
   {
    "duration": 23,
    "start_time": "2022-01-08T00:35:03.094Z"
   },
   {
    "duration": 5,
    "start_time": "2022-01-08T00:35:03.119Z"
   },
   {
    "duration": 23,
    "start_time": "2022-01-08T00:35:03.162Z"
   },
   {
    "duration": 82,
    "start_time": "2022-01-08T00:35:03.187Z"
   },
   {
    "duration": 22,
    "start_time": "2022-01-08T00:35:03.271Z"
   },
   {
    "duration": 27,
    "start_time": "2022-01-08T00:35:03.295Z"
   },
   {
    "duration": 73,
    "start_time": "2022-01-08T00:35:03.324Z"
   },
   {
    "duration": 70,
    "start_time": "2022-01-08T00:35:03.399Z"
   },
   {
    "duration": 50,
    "start_time": "2022-01-08T00:35:03.471Z"
   },
   {
    "duration": 10,
    "start_time": "2022-01-08T00:35:03.523Z"
   },
   {
    "duration": 3,
    "start_time": "2022-01-08T00:35:03.534Z"
   },
   {
    "duration": 29,
    "start_time": "2022-01-08T00:35:03.538Z"
   },
   {
    "duration": 8,
    "start_time": "2022-01-08T00:35:03.569Z"
   },
   {
    "duration": 17,
    "start_time": "2022-01-08T00:35:03.578Z"
   },
   {
    "duration": 10,
    "start_time": "2022-01-08T00:35:03.597Z"
   },
   {
    "duration": 15,
    "start_time": "2022-01-08T00:35:03.609Z"
   },
   {
    "duration": 3,
    "start_time": "2022-01-08T00:35:20.748Z"
   },
   {
    "duration": 252,
    "start_time": "2022-01-08T00:35:20.753Z"
   },
   {
    "duration": 9,
    "start_time": "2022-01-08T00:35:21.008Z"
   },
   {
    "duration": 26,
    "start_time": "2022-01-08T00:35:21.018Z"
   },
   {
    "duration": 4,
    "start_time": "2022-01-08T00:35:21.060Z"
   },
   {
    "duration": 18,
    "start_time": "2022-01-08T00:35:21.066Z"
   },
   {
    "duration": 3,
    "start_time": "2022-01-08T00:35:21.086Z"
   },
   {
    "duration": 24,
    "start_time": "2022-01-08T00:35:21.091Z"
   },
   {
    "duration": 83,
    "start_time": "2022-01-08T00:35:21.118Z"
   },
   {
    "duration": 18,
    "start_time": "2022-01-08T00:35:21.203Z"
   },
   {
    "duration": 37,
    "start_time": "2022-01-08T00:35:21.223Z"
   },
   {
    "duration": 50,
    "start_time": "2022-01-08T00:35:21.262Z"
   },
   {
    "duration": 66,
    "start_time": "2022-01-08T00:35:21.314Z"
   },
   {
    "duration": 48,
    "start_time": "2022-01-08T00:35:21.382Z"
   },
   {
    "duration": 10,
    "start_time": "2022-01-08T00:35:21.432Z"
   },
   {
    "duration": 3,
    "start_time": "2022-01-08T00:35:21.461Z"
   },
   {
    "duration": 11,
    "start_time": "2022-01-08T00:35:21.466Z"
   },
   {
    "duration": 11,
    "start_time": "2022-01-08T00:35:21.478Z"
   },
   {
    "duration": 12,
    "start_time": "2022-01-08T00:35:21.491Z"
   },
   {
    "duration": 10,
    "start_time": "2022-01-08T00:35:21.505Z"
   },
   {
    "duration": 46,
    "start_time": "2022-01-08T00:35:21.516Z"
   },
   {
    "duration": 16,
    "start_time": "2022-01-08T00:35:21.563Z"
   },
   {
    "duration": 13,
    "start_time": "2022-01-08T00:35:21.581Z"
   },
   {
    "duration": 18,
    "start_time": "2022-01-08T00:35:21.596Z"
   },
   {
    "duration": 45,
    "start_time": "2022-01-08T00:35:21.616Z"
   },
   {
    "duration": 22,
    "start_time": "2022-01-08T00:35:21.663Z"
   },
   {
    "duration": 17,
    "start_time": "2022-01-08T00:35:21.689Z"
   },
   {
    "duration": 8,
    "start_time": "2022-01-08T00:35:27.413Z"
   },
   {
    "duration": 16,
    "start_time": "2022-01-08T00:35:40.745Z"
   },
   {
    "duration": 15,
    "start_time": "2022-01-08T00:35:47.814Z"
   },
   {
    "duration": 14,
    "start_time": "2022-01-08T00:36:25.693Z"
   },
   {
    "duration": 13,
    "start_time": "2022-01-08T00:36:27.062Z"
   },
   {
    "duration": 258,
    "start_time": "2022-01-08T00:38:39.033Z"
   },
   {
    "duration": 83,
    "start_time": "2022-01-08T00:39:28.416Z"
   },
   {
    "duration": 82,
    "start_time": "2022-01-08T00:41:45.960Z"
   },
   {
    "duration": 30,
    "start_time": "2022-01-08T00:43:36.732Z"
   },
   {
    "duration": 24,
    "start_time": "2022-01-08T00:44:06.555Z"
   },
   {
    "duration": 17,
    "start_time": "2022-01-08T00:44:50.838Z"
   },
   {
    "duration": 14,
    "start_time": "2022-01-08T00:45:10.068Z"
   },
   {
    "duration": 22,
    "start_time": "2022-01-08T00:45:12.540Z"
   },
   {
    "duration": 15,
    "start_time": "2022-01-08T00:45:15.661Z"
   },
   {
    "duration": 20,
    "start_time": "2022-01-08T00:45:17.660Z"
   },
   {
    "duration": 5,
    "start_time": "2022-01-08T00:47:00.543Z"
   },
   {
    "duration": 18,
    "start_time": "2022-01-08T00:47:03.211Z"
   },
   {
    "duration": 13,
    "start_time": "2022-01-08T00:47:09.020Z"
   },
   {
    "duration": 21,
    "start_time": "2022-01-08T00:47:11.009Z"
   },
   {
    "duration": 15,
    "start_time": "2022-01-08T00:47:13.963Z"
   },
   {
    "duration": 15,
    "start_time": "2022-01-08T00:47:18.936Z"
   },
   {
    "duration": 6,
    "start_time": "2022-01-08T00:47:25.015Z"
   },
   {
    "duration": 12,
    "start_time": "2022-01-08T00:47:28.083Z"
   },
   {
    "duration": 5,
    "start_time": "2022-01-08T00:47:33.112Z"
   },
   {
    "duration": 586,
    "start_time": "2022-01-08T00:47:57.651Z"
   },
   {
    "duration": 268,
    "start_time": "2022-01-08T00:47:58.239Z"
   },
   {
    "duration": 10,
    "start_time": "2022-01-08T00:47:58.509Z"
   },
   {
    "duration": 40,
    "start_time": "2022-01-08T00:47:58.521Z"
   },
   {
    "duration": 4,
    "start_time": "2022-01-08T00:47:58.562Z"
   },
   {
    "duration": 24,
    "start_time": "2022-01-08T00:47:58.568Z"
   },
   {
    "duration": 4,
    "start_time": "2022-01-08T00:47:58.594Z"
   },
   {
    "duration": 23,
    "start_time": "2022-01-08T00:47:58.601Z"
   },
   {
    "duration": 602,
    "start_time": "2022-01-08T00:47:58.627Z"
   },
   {
    "duration": 25,
    "start_time": "2022-01-08T00:47:59.231Z"
   },
   {
    "duration": 23,
    "start_time": "2022-01-08T00:47:59.258Z"
   },
   {
    "duration": 55,
    "start_time": "2022-01-08T00:47:59.282Z"
   },
   {
    "duration": 76,
    "start_time": "2022-01-08T00:47:59.338Z"
   },
   {
    "duration": 66,
    "start_time": "2022-01-08T00:47:59.416Z"
   },
   {
    "duration": 10,
    "start_time": "2022-01-08T00:47:59.484Z"
   },
   {
    "duration": 4,
    "start_time": "2022-01-08T00:47:59.496Z"
   },
   {
    "duration": 11,
    "start_time": "2022-01-08T00:47:59.501Z"
   },
   {
    "duration": 10,
    "start_time": "2022-01-08T00:47:59.513Z"
   },
   {
    "duration": 41,
    "start_time": "2022-01-08T00:47:59.525Z"
   },
   {
    "duration": 12,
    "start_time": "2022-01-08T00:47:59.568Z"
   },
   {
    "duration": 17,
    "start_time": "2022-01-08T00:47:59.582Z"
   },
   {
    "duration": 16,
    "start_time": "2022-01-08T00:47:59.601Z"
   },
   {
    "duration": 48,
    "start_time": "2022-01-08T00:47:59.621Z"
   },
   {
    "duration": 16,
    "start_time": "2022-01-08T00:47:59.671Z"
   },
   {
    "duration": 14,
    "start_time": "2022-01-08T00:47:59.689Z"
   },
   {
    "duration": 15,
    "start_time": "2022-01-08T00:47:59.705Z"
   },
   {
    "duration": 45,
    "start_time": "2022-01-08T00:47:59.722Z"
   },
   {
    "duration": 10,
    "start_time": "2022-01-08T00:47:59.769Z"
   },
   {
    "duration": 13,
    "start_time": "2022-01-08T00:47:59.781Z"
   },
   {
    "duration": 21,
    "start_time": "2022-01-08T00:47:59.796Z"
   },
   {
    "duration": 43,
    "start_time": "2022-01-08T00:47:59.819Z"
   },
   {
    "duration": 19,
    "start_time": "2022-01-08T00:47:59.864Z"
   },
   {
    "duration": 5,
    "start_time": "2022-01-08T00:47:59.885Z"
   },
   {
    "duration": 23,
    "start_time": "2022-01-08T00:47:59.892Z"
   },
   {
    "duration": 12,
    "start_time": "2022-01-08T00:47:59.917Z"
   },
   {
    "duration": 49,
    "start_time": "2022-01-08T00:47:59.931Z"
   },
   {
    "duration": 14,
    "start_time": "2022-01-08T00:47:59.982Z"
   },
   {
    "duration": 15,
    "start_time": "2022-01-08T00:47:59.997Z"
   },
   {
    "duration": 11,
    "start_time": "2022-01-08T00:48:00.014Z"
   },
   {
    "duration": 43,
    "start_time": "2022-01-08T00:48:00.027Z"
   },
   {
    "duration": 4,
    "start_time": "2022-01-08T00:48:00.072Z"
   },
   {
    "duration": 843,
    "start_time": "2022-01-08T16:54:06.108Z"
   },
   {
    "duration": 374,
    "start_time": "2022-01-08T16:54:06.953Z"
   },
   {
    "duration": 17,
    "start_time": "2022-01-08T16:54:07.330Z"
   },
   {
    "duration": 32,
    "start_time": "2022-01-08T16:54:07.366Z"
   },
   {
    "duration": 6,
    "start_time": "2022-01-08T16:54:07.401Z"
   },
   {
    "duration": 59,
    "start_time": "2022-01-08T16:54:07.409Z"
   },
   {
    "duration": 6,
    "start_time": "2022-01-08T16:54:07.472Z"
   },
   {
    "duration": 35,
    "start_time": "2022-01-08T16:54:07.482Z"
   },
   {
    "duration": 821,
    "start_time": "2022-01-08T16:57:58.478Z"
   },
   {
    "duration": 353,
    "start_time": "2022-01-08T16:57:59.302Z"
   },
   {
    "duration": 15,
    "start_time": "2022-01-08T16:57:59.658Z"
   },
   {
    "duration": 54,
    "start_time": "2022-01-08T16:57:59.675Z"
   },
   {
    "duration": 6,
    "start_time": "2022-01-08T16:57:59.731Z"
   },
   {
    "duration": 28,
    "start_time": "2022-01-08T16:57:59.739Z"
   },
   {
    "duration": 5,
    "start_time": "2022-01-08T16:57:59.770Z"
   },
   {
    "duration": 60,
    "start_time": "2022-01-08T16:57:59.779Z"
   },
   {
    "duration": 102736,
    "start_time": "2022-01-08T16:57:59.842Z"
   },
   {
    "duration": 33,
    "start_time": "2022-01-08T16:59:42.582Z"
   },
   {
    "duration": 34,
    "start_time": "2022-01-08T16:59:42.618Z"
   },
   {
    "duration": 87,
    "start_time": "2022-01-08T16:59:42.654Z"
   },
   {
    "duration": 86,
    "start_time": "2022-01-08T16:59:42.743Z"
   },
   {
    "duration": 77,
    "start_time": "2022-01-08T16:59:42.832Z"
   },
   {
    "duration": 21,
    "start_time": "2022-01-08T16:59:42.911Z"
   },
   {
    "duration": 4,
    "start_time": "2022-01-08T16:59:42.934Z"
   },
   {
    "duration": 15,
    "start_time": "2022-01-08T16:59:42.940Z"
   },
   {
    "duration": 15,
    "start_time": "2022-01-08T16:59:42.957Z"
   },
   {
    "duration": 19,
    "start_time": "2022-01-08T16:59:42.975Z"
   },
   {
    "duration": 28,
    "start_time": "2022-01-08T16:59:42.996Z"
   },
   {
    "duration": 20,
    "start_time": "2022-01-08T16:59:43.026Z"
   },
   {
    "duration": 30,
    "start_time": "2022-01-08T16:59:43.049Z"
   },
   {
    "duration": 19,
    "start_time": "2022-01-08T16:59:43.084Z"
   },
   {
    "duration": 28,
    "start_time": "2022-01-08T16:59:43.106Z"
   },
   {
    "duration": 16,
    "start_time": "2022-01-08T16:59:43.137Z"
   },
   {
    "duration": 21,
    "start_time": "2022-01-08T16:59:43.155Z"
   },
   {
    "duration": 18,
    "start_time": "2022-01-08T16:59:43.178Z"
   },
   {
    "duration": 25,
    "start_time": "2022-01-08T16:59:43.198Z"
   },
   {
    "duration": 24,
    "start_time": "2022-01-08T16:59:43.225Z"
   },
   {
    "duration": 33,
    "start_time": "2022-01-08T16:59:43.251Z"
   },
   {
    "duration": 12,
    "start_time": "2022-01-08T16:59:43.286Z"
   },
   {
    "duration": 36,
    "start_time": "2022-01-08T16:59:43.318Z"
   },
   {
    "duration": 5,
    "start_time": "2022-01-08T16:59:43.357Z"
   },
   {
    "duration": 62,
    "start_time": "2022-01-08T16:59:43.364Z"
   },
   {
    "duration": 15,
    "start_time": "2022-01-08T16:59:43.428Z"
   },
   {
    "duration": 25,
    "start_time": "2022-01-08T16:59:43.446Z"
   },
   {
    "duration": 16,
    "start_time": "2022-01-08T16:59:43.474Z"
   },
   {
    "duration": 32,
    "start_time": "2022-01-08T16:59:43.493Z"
   },
   {
    "duration": 6,
    "start_time": "2022-01-08T16:59:43.527Z"
   },
   {
    "duration": 19,
    "start_time": "2022-01-08T16:59:43.535Z"
   },
   {
    "duration": 7,
    "start_time": "2022-01-08T16:59:43.556Z"
   }
  ],
  "colab": {
   "collapsed_sections": [
    "E0vqbgi9ay0H",
    "VUC88oWjTJw2",
    "atZAxtq4_Zcu"
   ],
   "name": "EmptyFinalProject.ipynb\"",
   "provenance": []
  },
  "kernelspec": {
   "display_name": "Python 3 (ipykernel)",
   "language": "python",
   "name": "python3"
  },
  "language_info": {
   "codemirror_mode": {
    "name": "ipython",
    "version": 3
   },
   "file_extension": ".py",
   "mimetype": "text/x-python",
   "name": "python",
   "nbconvert_exporter": "python",
   "pygments_lexer": "ipython3",
   "version": "3.9.5"
  },
  "toc": {
   "base_numbering": 1,
   "nav_menu": {},
   "number_sections": true,
   "sideBar": true,
   "skip_h1_title": true,
   "title_cell": "Table of Contents",
   "title_sidebar": "Contents",
   "toc_cell": false,
   "toc_position": {},
   "toc_section_display": true,
   "toc_window_display": false
  }
 },
 "nbformat": 4,
 "nbformat_minor": 4
}
