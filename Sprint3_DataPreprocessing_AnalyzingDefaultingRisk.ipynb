{
 "cells": [
  {
   "cell_type": "markdown",
   "metadata": {},
   "source": [
    "# Analyzing borrowers’ risk of defaulting\n",
    "\n",
    "Your project is to prepare a report for a bank’s loan division. You’ll need to find out if a customer’s marital status and number of children has an impact on whether they will default on a loan. The bank already has some data on customers’ credit worthiness.\n",
    "\n",
    "Your report will be considered when building the **credit score** of a potential customer. The **credit score** is used to evaluate the ability of a potential borrower to repay their loan."
   ]
  },
  {
   "cell_type": "markdown",
   "metadata": {},
   "source": [
    "---\n",
    "The purpose of this project is to determine whether a customer's marital status and the number of children in their family will affect a customer's risk of defaulting on a loan. The initial hypotheses tested through this analysis are the following:\n",
    "\n",
    "1) Married customers will have a lower risk of defaulting on a loan than unmarried customers\n",
    "\n",
    "2) Customers with no children will have a lower risk of defaulting on a loan than customers with one or more children"
   ]
  },
  {
   "cell_type": "markdown",
   "metadata": {},
   "source": [
    "## Open the data file and have a look at the general information. "
   ]
  },
  {
   "cell_type": "code",
   "execution_count": 1,
   "metadata": {},
   "outputs": [],
   "source": [
    "# Load the libraries\n",
    "import pandas as pd\n",
    "import numpy as np\n",
    "import warnings\n",
    "warnings.filterwarnings(\"ignore\")\n"
   ]
  },
  {
   "cell_type": "code",
   "execution_count": 2,
   "metadata": {},
   "outputs": [],
   "source": [
    "# Load nltk library to utilize lemmatizer\n",
    "import nltk\n",
    "from nltk.stem import WordNetLemmatizer\n",
    "wordnet_lemma = WordNetLemmatizer()\n"
   ]
  },
  {
   "cell_type": "code",
   "execution_count": 3,
   "metadata": {},
   "outputs": [],
   "source": [
    "# Load the data as 'df'\n",
    "df = pd.read_csv('/datasets/credit_scoring_eng.csv')\n"
   ]
  },
  {
   "cell_type": "markdown",
   "metadata": {},
   "source": [
    "To begin, the pandas, numpy, warnings, nltk, and WordNetLemmatizer libraries will be imported. The dataset will be loaded as 'df'."
   ]
  },
  {
   "cell_type": "markdown",
   "metadata": {},
   "source": [
    "## Task 1. Data exploration\n",
    "\n",
    "**Description of the data**\n",
    "- `children` - the number of children in the family\n",
    "- `days_employed` - work experience in days\n",
    "- `dob_years` - client's age in years\n",
    "- `education` - client's education\n",
    "- `education_id` - education identifier\n",
    "- `family_status` - marital status\n",
    "- `family_status_id` - marital status identifier\n",
    "- `gender` - gender of the client\n",
    "- `income_type` - type of employment\n",
    "- `debt` - was there any debt on loan repayment\n",
    "- `total_income` - monthly income\n",
    "- `purpose` - the purpose of obtaining a loan"
   ]
  },
  {
   "cell_type": "code",
   "execution_count": 4,
   "metadata": {},
   "outputs": [
    {
     "name": "stdout",
     "output_type": "stream",
     "text": [
      "(21525, 12)\n"
     ]
    }
   ],
   "source": [
    "# Check the number of rows and columns in the dataset 'df'\n",
    "original_shape = df.shape\n",
    "print(original_shape)\n"
   ]
  },
  {
   "cell_type": "markdown",
   "metadata": {},
   "source": [
    "Looking at the info printed above in the tuple, there are 21,525 rows and 12 columns."
   ]
  },
  {
   "cell_type": "code",
   "execution_count": 5,
   "metadata": {
    "scrolled": true
   },
   "outputs": [
    {
     "name": "stdout",
     "output_type": "stream",
     "text": [
      "    children  days_employed  dob_years            education  education_id  \\\n",
      "0          1   -8437.673028         42    bachelor's degree             0   \n",
      "1          1   -4024.803754         36  secondary education             1   \n",
      "2          0   -5623.422610         33  Secondary Education             1   \n",
      "3          3   -4124.747207         32  secondary education             1   \n",
      "4          0  340266.072047         53  secondary education             1   \n",
      "5          0    -926.185831         27    bachelor's degree             0   \n",
      "6          0   -2879.202052         43    bachelor's degree             0   \n",
      "7          0    -152.779569         50  SECONDARY EDUCATION             1   \n",
      "8          2   -6929.865299         35    BACHELOR'S DEGREE             0   \n",
      "9          0   -2188.756445         41  secondary education             1   \n",
      "10         2   -4171.483647         36    bachelor's degree             0   \n",
      "11         0    -792.701887         40  secondary education             1   \n",
      "12         0            NaN         65  secondary education             1   \n",
      "13         0   -1846.641941         54         some college             2   \n",
      "14         0   -1844.956182         56    bachelor's degree             0   \n",
      "15         1    -972.364419         26  secondary education             1   \n",
      "16         0   -1719.934226         35  secondary education             1   \n",
      "17         0   -2369.999720         33    bachelor's degree             0   \n",
      "18         0  400281.136913         53  secondary education             1   \n",
      "19         0  -10038.818549         48  SECONDARY EDUCATION             1   \n",
      "\n",
      "        family_status  family_status_id gender income_type  debt  \\\n",
      "0             married                 0      F    employee     0   \n",
      "1             married                 0      F    employee     0   \n",
      "2             married                 0      M    employee     0   \n",
      "3             married                 0      M    employee     0   \n",
      "4   civil partnership                 1      F     retiree     0   \n",
      "5   civil partnership                 1      M    business     0   \n",
      "6             married                 0      F    business     0   \n",
      "7             married                 0      M    employee     0   \n",
      "8   civil partnership                 1      F    employee     0   \n",
      "9             married                 0      M    employee     0   \n",
      "10            married                 0      M    business     0   \n",
      "11            married                 0      F    employee     0   \n",
      "12  civil partnership                 1      M     retiree     0   \n",
      "13            married                 0      F    employee     0   \n",
      "14  civil partnership                 1      F    business     1   \n",
      "15            married                 0      F    employee     0   \n",
      "16            married                 0      F    employee     0   \n",
      "17  civil partnership                 1      M    employee     0   \n",
      "18    widow / widower                 2      F     retiree     0   \n",
      "19           divorced                 3      F    employee     0   \n",
      "\n",
      "    total_income                              purpose  \n",
      "0      40620.102                purchase of the house  \n",
      "1      17932.802                         car purchase  \n",
      "2      23341.752                purchase of the house  \n",
      "3      42820.568              supplementary education  \n",
      "4      25378.572                    to have a wedding  \n",
      "5      40922.170                purchase of the house  \n",
      "6      38484.156                 housing transactions  \n",
      "7      21731.829                            education  \n",
      "8      15337.093                     having a wedding  \n",
      "9      23108.150  purchase of the house for my family  \n",
      "10     18230.959                      buy real estate  \n",
      "11     12331.077           buy commercial real estate  \n",
      "12           NaN                    to have a wedding  \n",
      "13     20873.317                         car purchase  \n",
      "14     26420.466          buy residential real estate  \n",
      "15     18691.345         construction of own property  \n",
      "16     46272.433                             property  \n",
      "17     14465.694                  building a property  \n",
      "18      9091.804             buying a second-hand car  \n",
      "19     38852.977                    buying my own car  \n"
     ]
    }
   ],
   "source": [
    "# Print the first 20 rows of 'df'\n",
    "print(df.head(20))\n"
   ]
  },
  {
   "cell_type": "markdown",
   "metadata": {},
   "source": [
    "At first glance based on the printed data sample above, the following issues should be noted and further investigated:\n",
    "\n",
    "1) Most of the values in the 'days_employed' column are negative float values while the positive values are inplausible\n",
    "\n",
    "2) The values in the 'education\" column are not standardized; there are mainly inconsistencies in the capitalization of the string values\n",
    "\n",
    "3) There are missing values in the 'days_employed' and 'total_income' columns"
   ]
  },
  {
   "cell_type": "code",
   "execution_count": 6,
   "metadata": {
    "scrolled": false
   },
   "outputs": [
    {
     "name": "stdout",
     "output_type": "stream",
     "text": [
      "<class 'pandas.core.frame.DataFrame'>\n",
      "RangeIndex: 21525 entries, 0 to 21524\n",
      "Data columns (total 12 columns):\n",
      "children            21525 non-null int64\n",
      "days_employed       19351 non-null float64\n",
      "dob_years           21525 non-null int64\n",
      "education           21525 non-null object\n",
      "education_id        21525 non-null int64\n",
      "family_status       21525 non-null object\n",
      "family_status_id    21525 non-null int64\n",
      "gender              21525 non-null object\n",
      "income_type         21525 non-null object\n",
      "debt                21525 non-null int64\n",
      "total_income        19351 non-null float64\n",
      "purpose             21525 non-null object\n",
      "dtypes: float64(2), int64(5), object(5)\n",
      "memory usage: 2.0+ MB\n"
     ]
    },
    {
     "data": {
      "text/plain": [
       "children               0\n",
       "days_employed       2174\n",
       "dob_years              0\n",
       "education              0\n",
       "education_id           0\n",
       "family_status          0\n",
       "family_status_id       0\n",
       "gender                 0\n",
       "income_type            0\n",
       "debt                   0\n",
       "total_income        2174\n",
       "purpose                0\n",
       "dtype: int64"
      ]
     },
     "execution_count": 6,
     "metadata": {},
     "output_type": "execute_result"
    }
   ],
   "source": [
    "# Get info on data and find the total number of missing values in the dataset\n",
    "df.info()\n",
    "df.isna().sum()\n"
   ]
  },
  {
   "cell_type": "markdown",
   "metadata": {},
   "source": [
    "Based on the information above, the missing values that are present in the dataset are only present in the 'days_employed' and 'total_income' columns; 2,174 missing values in each to be exact."
   ]
  },
  {
   "cell_type": "code",
   "execution_count": 7,
   "metadata": {
    "scrolled": true
   },
   "outputs": [
    {
     "data": {
      "text/html": [
       "<div>\n",
       "<style scoped>\n",
       "    .dataframe tbody tr th:only-of-type {\n",
       "        vertical-align: middle;\n",
       "    }\n",
       "\n",
       "    .dataframe tbody tr th {\n",
       "        vertical-align: top;\n",
       "    }\n",
       "\n",
       "    .dataframe thead th {\n",
       "        text-align: right;\n",
       "    }\n",
       "</style>\n",
       "<table border=\"1\" class=\"dataframe\">\n",
       "  <thead>\n",
       "    <tr style=\"text-align: right;\">\n",
       "      <th></th>\n",
       "      <th>children</th>\n",
       "      <th>days_employed</th>\n",
       "      <th>dob_years</th>\n",
       "      <th>education</th>\n",
       "      <th>education_id</th>\n",
       "      <th>family_status</th>\n",
       "      <th>family_status_id</th>\n",
       "      <th>gender</th>\n",
       "      <th>income_type</th>\n",
       "      <th>debt</th>\n",
       "      <th>total_income</th>\n",
       "      <th>purpose</th>\n",
       "    </tr>\n",
       "  </thead>\n",
       "  <tbody>\n",
       "    <tr>\n",
       "      <td>12</td>\n",
       "      <td>0</td>\n",
       "      <td>NaN</td>\n",
       "      <td>65</td>\n",
       "      <td>secondary education</td>\n",
       "      <td>1</td>\n",
       "      <td>civil partnership</td>\n",
       "      <td>1</td>\n",
       "      <td>M</td>\n",
       "      <td>retiree</td>\n",
       "      <td>0</td>\n",
       "      <td>NaN</td>\n",
       "      <td>to have a wedding</td>\n",
       "    </tr>\n",
       "    <tr>\n",
       "      <td>26</td>\n",
       "      <td>0</td>\n",
       "      <td>NaN</td>\n",
       "      <td>41</td>\n",
       "      <td>secondary education</td>\n",
       "      <td>1</td>\n",
       "      <td>married</td>\n",
       "      <td>0</td>\n",
       "      <td>M</td>\n",
       "      <td>civil servant</td>\n",
       "      <td>0</td>\n",
       "      <td>NaN</td>\n",
       "      <td>education</td>\n",
       "    </tr>\n",
       "    <tr>\n",
       "      <td>29</td>\n",
       "      <td>0</td>\n",
       "      <td>NaN</td>\n",
       "      <td>63</td>\n",
       "      <td>secondary education</td>\n",
       "      <td>1</td>\n",
       "      <td>unmarried</td>\n",
       "      <td>4</td>\n",
       "      <td>F</td>\n",
       "      <td>retiree</td>\n",
       "      <td>0</td>\n",
       "      <td>NaN</td>\n",
       "      <td>building a real estate</td>\n",
       "    </tr>\n",
       "    <tr>\n",
       "      <td>41</td>\n",
       "      <td>0</td>\n",
       "      <td>NaN</td>\n",
       "      <td>50</td>\n",
       "      <td>secondary education</td>\n",
       "      <td>1</td>\n",
       "      <td>married</td>\n",
       "      <td>0</td>\n",
       "      <td>F</td>\n",
       "      <td>civil servant</td>\n",
       "      <td>0</td>\n",
       "      <td>NaN</td>\n",
       "      <td>second-hand car purchase</td>\n",
       "    </tr>\n",
       "    <tr>\n",
       "      <td>55</td>\n",
       "      <td>0</td>\n",
       "      <td>NaN</td>\n",
       "      <td>54</td>\n",
       "      <td>secondary education</td>\n",
       "      <td>1</td>\n",
       "      <td>civil partnership</td>\n",
       "      <td>1</td>\n",
       "      <td>F</td>\n",
       "      <td>retiree</td>\n",
       "      <td>1</td>\n",
       "      <td>NaN</td>\n",
       "      <td>to have a wedding</td>\n",
       "    </tr>\n",
       "    <tr>\n",
       "      <td>...</td>\n",
       "      <td>...</td>\n",
       "      <td>...</td>\n",
       "      <td>...</td>\n",
       "      <td>...</td>\n",
       "      <td>...</td>\n",
       "      <td>...</td>\n",
       "      <td>...</td>\n",
       "      <td>...</td>\n",
       "      <td>...</td>\n",
       "      <td>...</td>\n",
       "      <td>...</td>\n",
       "      <td>...</td>\n",
       "    </tr>\n",
       "    <tr>\n",
       "      <td>21489</td>\n",
       "      <td>2</td>\n",
       "      <td>NaN</td>\n",
       "      <td>47</td>\n",
       "      <td>Secondary Education</td>\n",
       "      <td>1</td>\n",
       "      <td>married</td>\n",
       "      <td>0</td>\n",
       "      <td>M</td>\n",
       "      <td>business</td>\n",
       "      <td>0</td>\n",
       "      <td>NaN</td>\n",
       "      <td>purchase of a car</td>\n",
       "    </tr>\n",
       "    <tr>\n",
       "      <td>21495</td>\n",
       "      <td>1</td>\n",
       "      <td>NaN</td>\n",
       "      <td>50</td>\n",
       "      <td>secondary education</td>\n",
       "      <td>1</td>\n",
       "      <td>civil partnership</td>\n",
       "      <td>1</td>\n",
       "      <td>F</td>\n",
       "      <td>employee</td>\n",
       "      <td>0</td>\n",
       "      <td>NaN</td>\n",
       "      <td>wedding ceremony</td>\n",
       "    </tr>\n",
       "    <tr>\n",
       "      <td>21497</td>\n",
       "      <td>0</td>\n",
       "      <td>NaN</td>\n",
       "      <td>48</td>\n",
       "      <td>BACHELOR'S DEGREE</td>\n",
       "      <td>0</td>\n",
       "      <td>married</td>\n",
       "      <td>0</td>\n",
       "      <td>F</td>\n",
       "      <td>business</td>\n",
       "      <td>0</td>\n",
       "      <td>NaN</td>\n",
       "      <td>building a property</td>\n",
       "    </tr>\n",
       "    <tr>\n",
       "      <td>21502</td>\n",
       "      <td>1</td>\n",
       "      <td>NaN</td>\n",
       "      <td>42</td>\n",
       "      <td>secondary education</td>\n",
       "      <td>1</td>\n",
       "      <td>married</td>\n",
       "      <td>0</td>\n",
       "      <td>F</td>\n",
       "      <td>employee</td>\n",
       "      <td>0</td>\n",
       "      <td>NaN</td>\n",
       "      <td>building a real estate</td>\n",
       "    </tr>\n",
       "    <tr>\n",
       "      <td>21510</td>\n",
       "      <td>2</td>\n",
       "      <td>NaN</td>\n",
       "      <td>28</td>\n",
       "      <td>secondary education</td>\n",
       "      <td>1</td>\n",
       "      <td>married</td>\n",
       "      <td>0</td>\n",
       "      <td>F</td>\n",
       "      <td>employee</td>\n",
       "      <td>0</td>\n",
       "      <td>NaN</td>\n",
       "      <td>car purchase</td>\n",
       "    </tr>\n",
       "  </tbody>\n",
       "</table>\n",
       "<p>2174 rows × 12 columns</p>\n",
       "</div>"
      ],
      "text/plain": [
       "       children  days_employed  dob_years            education  education_id  \\\n",
       "12            0            NaN         65  secondary education             1   \n",
       "26            0            NaN         41  secondary education             1   \n",
       "29            0            NaN         63  secondary education             1   \n",
       "41            0            NaN         50  secondary education             1   \n",
       "55            0            NaN         54  secondary education             1   \n",
       "...         ...            ...        ...                  ...           ...   \n",
       "21489         2            NaN         47  Secondary Education             1   \n",
       "21495         1            NaN         50  secondary education             1   \n",
       "21497         0            NaN         48    BACHELOR'S DEGREE             0   \n",
       "21502         1            NaN         42  secondary education             1   \n",
       "21510         2            NaN         28  secondary education             1   \n",
       "\n",
       "           family_status  family_status_id gender    income_type  debt  \\\n",
       "12     civil partnership                 1      M        retiree     0   \n",
       "26               married                 0      M  civil servant     0   \n",
       "29             unmarried                 4      F        retiree     0   \n",
       "41               married                 0      F  civil servant     0   \n",
       "55     civil partnership                 1      F        retiree     1   \n",
       "...                  ...               ...    ...            ...   ...   \n",
       "21489            married                 0      M       business     0   \n",
       "21495  civil partnership                 1      F       employee     0   \n",
       "21497            married                 0      F       business     0   \n",
       "21502            married                 0      F       employee     0   \n",
       "21510            married                 0      F       employee     0   \n",
       "\n",
       "       total_income                   purpose  \n",
       "12              NaN         to have a wedding  \n",
       "26              NaN                 education  \n",
       "29              NaN    building a real estate  \n",
       "41              NaN  second-hand car purchase  \n",
       "55              NaN         to have a wedding  \n",
       "...             ...                       ...  \n",
       "21489           NaN         purchase of a car  \n",
       "21495           NaN          wedding ceremony  \n",
       "21497           NaN       building a property  \n",
       "21502           NaN    building a real estate  \n",
       "21510           NaN              car purchase  \n",
       "\n",
       "[2174 rows x 12 columns]"
      ]
     },
     "metadata": {},
     "output_type": "display_data"
    }
   ],
   "source": [
    "# Look at a filtered table with missing values in the 'days_employed' column\n",
    "filtered_df = df[df['days_employed'].isna()]\n",
    "display(filtered_df)\n"
   ]
  },
  {
   "cell_type": "code",
   "execution_count": 8,
   "metadata": {},
   "outputs": [
    {
     "data": {
      "text/html": [
       "<div>\n",
       "<style scoped>\n",
       "    .dataframe tbody tr th:only-of-type {\n",
       "        vertical-align: middle;\n",
       "    }\n",
       "\n",
       "    .dataframe tbody tr th {\n",
       "        vertical-align: top;\n",
       "    }\n",
       "\n",
       "    .dataframe thead th {\n",
       "        text-align: right;\n",
       "    }\n",
       "</style>\n",
       "<table border=\"1\" class=\"dataframe\">\n",
       "  <thead>\n",
       "    <tr style=\"text-align: right;\">\n",
       "      <th></th>\n",
       "      <th>children</th>\n",
       "      <th>days_employed</th>\n",
       "      <th>dob_years</th>\n",
       "      <th>education</th>\n",
       "      <th>education_id</th>\n",
       "      <th>family_status</th>\n",
       "      <th>family_status_id</th>\n",
       "      <th>gender</th>\n",
       "      <th>income_type</th>\n",
       "      <th>debt</th>\n",
       "      <th>total_income</th>\n",
       "      <th>purpose</th>\n",
       "    </tr>\n",
       "  </thead>\n",
       "  <tbody>\n",
       "    <tr>\n",
       "      <td>12</td>\n",
       "      <td>0</td>\n",
       "      <td>NaN</td>\n",
       "      <td>65</td>\n",
       "      <td>secondary education</td>\n",
       "      <td>1</td>\n",
       "      <td>civil partnership</td>\n",
       "      <td>1</td>\n",
       "      <td>M</td>\n",
       "      <td>retiree</td>\n",
       "      <td>0</td>\n",
       "      <td>NaN</td>\n",
       "      <td>to have a wedding</td>\n",
       "    </tr>\n",
       "    <tr>\n",
       "      <td>26</td>\n",
       "      <td>0</td>\n",
       "      <td>NaN</td>\n",
       "      <td>41</td>\n",
       "      <td>secondary education</td>\n",
       "      <td>1</td>\n",
       "      <td>married</td>\n",
       "      <td>0</td>\n",
       "      <td>M</td>\n",
       "      <td>civil servant</td>\n",
       "      <td>0</td>\n",
       "      <td>NaN</td>\n",
       "      <td>education</td>\n",
       "    </tr>\n",
       "    <tr>\n",
       "      <td>29</td>\n",
       "      <td>0</td>\n",
       "      <td>NaN</td>\n",
       "      <td>63</td>\n",
       "      <td>secondary education</td>\n",
       "      <td>1</td>\n",
       "      <td>unmarried</td>\n",
       "      <td>4</td>\n",
       "      <td>F</td>\n",
       "      <td>retiree</td>\n",
       "      <td>0</td>\n",
       "      <td>NaN</td>\n",
       "      <td>building a real estate</td>\n",
       "    </tr>\n",
       "    <tr>\n",
       "      <td>41</td>\n",
       "      <td>0</td>\n",
       "      <td>NaN</td>\n",
       "      <td>50</td>\n",
       "      <td>secondary education</td>\n",
       "      <td>1</td>\n",
       "      <td>married</td>\n",
       "      <td>0</td>\n",
       "      <td>F</td>\n",
       "      <td>civil servant</td>\n",
       "      <td>0</td>\n",
       "      <td>NaN</td>\n",
       "      <td>second-hand car purchase</td>\n",
       "    </tr>\n",
       "    <tr>\n",
       "      <td>55</td>\n",
       "      <td>0</td>\n",
       "      <td>NaN</td>\n",
       "      <td>54</td>\n",
       "      <td>secondary education</td>\n",
       "      <td>1</td>\n",
       "      <td>civil partnership</td>\n",
       "      <td>1</td>\n",
       "      <td>F</td>\n",
       "      <td>retiree</td>\n",
       "      <td>1</td>\n",
       "      <td>NaN</td>\n",
       "      <td>to have a wedding</td>\n",
       "    </tr>\n",
       "    <tr>\n",
       "      <td>...</td>\n",
       "      <td>...</td>\n",
       "      <td>...</td>\n",
       "      <td>...</td>\n",
       "      <td>...</td>\n",
       "      <td>...</td>\n",
       "      <td>...</td>\n",
       "      <td>...</td>\n",
       "      <td>...</td>\n",
       "      <td>...</td>\n",
       "      <td>...</td>\n",
       "      <td>...</td>\n",
       "      <td>...</td>\n",
       "    </tr>\n",
       "    <tr>\n",
       "      <td>21489</td>\n",
       "      <td>2</td>\n",
       "      <td>NaN</td>\n",
       "      <td>47</td>\n",
       "      <td>Secondary Education</td>\n",
       "      <td>1</td>\n",
       "      <td>married</td>\n",
       "      <td>0</td>\n",
       "      <td>M</td>\n",
       "      <td>business</td>\n",
       "      <td>0</td>\n",
       "      <td>NaN</td>\n",
       "      <td>purchase of a car</td>\n",
       "    </tr>\n",
       "    <tr>\n",
       "      <td>21495</td>\n",
       "      <td>1</td>\n",
       "      <td>NaN</td>\n",
       "      <td>50</td>\n",
       "      <td>secondary education</td>\n",
       "      <td>1</td>\n",
       "      <td>civil partnership</td>\n",
       "      <td>1</td>\n",
       "      <td>F</td>\n",
       "      <td>employee</td>\n",
       "      <td>0</td>\n",
       "      <td>NaN</td>\n",
       "      <td>wedding ceremony</td>\n",
       "    </tr>\n",
       "    <tr>\n",
       "      <td>21497</td>\n",
       "      <td>0</td>\n",
       "      <td>NaN</td>\n",
       "      <td>48</td>\n",
       "      <td>BACHELOR'S DEGREE</td>\n",
       "      <td>0</td>\n",
       "      <td>married</td>\n",
       "      <td>0</td>\n",
       "      <td>F</td>\n",
       "      <td>business</td>\n",
       "      <td>0</td>\n",
       "      <td>NaN</td>\n",
       "      <td>building a property</td>\n",
       "    </tr>\n",
       "    <tr>\n",
       "      <td>21502</td>\n",
       "      <td>1</td>\n",
       "      <td>NaN</td>\n",
       "      <td>42</td>\n",
       "      <td>secondary education</td>\n",
       "      <td>1</td>\n",
       "      <td>married</td>\n",
       "      <td>0</td>\n",
       "      <td>F</td>\n",
       "      <td>employee</td>\n",
       "      <td>0</td>\n",
       "      <td>NaN</td>\n",
       "      <td>building a real estate</td>\n",
       "    </tr>\n",
       "    <tr>\n",
       "      <td>21510</td>\n",
       "      <td>2</td>\n",
       "      <td>NaN</td>\n",
       "      <td>28</td>\n",
       "      <td>secondary education</td>\n",
       "      <td>1</td>\n",
       "      <td>married</td>\n",
       "      <td>0</td>\n",
       "      <td>F</td>\n",
       "      <td>employee</td>\n",
       "      <td>0</td>\n",
       "      <td>NaN</td>\n",
       "      <td>car purchase</td>\n",
       "    </tr>\n",
       "  </tbody>\n",
       "</table>\n",
       "<p>2174 rows × 12 columns</p>\n",
       "</div>"
      ],
      "text/plain": [
       "       children  days_employed  dob_years            education  education_id  \\\n",
       "12            0            NaN         65  secondary education             1   \n",
       "26            0            NaN         41  secondary education             1   \n",
       "29            0            NaN         63  secondary education             1   \n",
       "41            0            NaN         50  secondary education             1   \n",
       "55            0            NaN         54  secondary education             1   \n",
       "...         ...            ...        ...                  ...           ...   \n",
       "21489         2            NaN         47  Secondary Education             1   \n",
       "21495         1            NaN         50  secondary education             1   \n",
       "21497         0            NaN         48    BACHELOR'S DEGREE             0   \n",
       "21502         1            NaN         42  secondary education             1   \n",
       "21510         2            NaN         28  secondary education             1   \n",
       "\n",
       "           family_status  family_status_id gender    income_type  debt  \\\n",
       "12     civil partnership                 1      M        retiree     0   \n",
       "26               married                 0      M  civil servant     0   \n",
       "29             unmarried                 4      F        retiree     0   \n",
       "41               married                 0      F  civil servant     0   \n",
       "55     civil partnership                 1      F        retiree     1   \n",
       "...                  ...               ...    ...            ...   ...   \n",
       "21489            married                 0      M       business     0   \n",
       "21495  civil partnership                 1      F       employee     0   \n",
       "21497            married                 0      F       business     0   \n",
       "21502            married                 0      F       employee     0   \n",
       "21510            married                 0      F       employee     0   \n",
       "\n",
       "       total_income                   purpose  \n",
       "12              NaN         to have a wedding  \n",
       "26              NaN                 education  \n",
       "29              NaN    building a real estate  \n",
       "41              NaN  second-hand car purchase  \n",
       "55              NaN         to have a wedding  \n",
       "...             ...                       ...  \n",
       "21489           NaN         purchase of a car  \n",
       "21495           NaN          wedding ceremony  \n",
       "21497           NaN       building a property  \n",
       "21502           NaN    building a real estate  \n",
       "21510           NaN              car purchase  \n",
       "\n",
       "[2174 rows x 12 columns]"
      ]
     },
     "metadata": {},
     "output_type": "display_data"
    }
   ],
   "source": [
    "# Apply multiple conditions for filtering the data (missing values in the 'days_employed' and 'total_income' columns) and look at the number of rows in the filtered table.\n",
    "multiple_filtered_df = df[(df['days_employed'].isna()) & (df['total_income'].isna())]\n",
    "display(multiple_filtered_df)\n"
   ]
  },
  {
   "cell_type": "markdown",
   "metadata": {},
   "source": [
    "Print and examine filtered tables that show all the rows with missing data first in just the 'days_employed' column and then in the 'days_employed' and 'total_income\" column to check if they occur concurrently."
   ]
  },
  {
   "cell_type": "markdown",
   "metadata": {},
   "source": [
    "**Intermediate conclusion**"
   ]
  },
  {
   "cell_type": "markdown",
   "metadata": {},
   "source": [
    "Based on the filtered tables shown above, it appears that the missing values always appear together in the same rows and are thus symmetric. We can confirm this as the number of rows in the filtered table matches the total number of missing values.\n",
    "\n",
    "A potential reason for this is because the 'days_employed' and 'total_income\" columns are both related to a customer's occupation. If the individual is not currently employed at the time of application, these two values may not have been submitted since they are not applicable to the customer at the time. As such, I would hypothesize that the 'income_type' for the customers with missing data would largely fall under the 'retiree' category."
   ]
  },
  {
   "cell_type": "code",
   "execution_count": 9,
   "metadata": {},
   "outputs": [
    {
     "data": {
      "text/plain": [
       "10.099883855981417"
      ]
     },
     "metadata": {},
     "output_type": "display_data"
    }
   ],
   "source": [
    "# Calculate the percentage of missing values compared to the whole dataset\n",
    "percent_missing = multiple_filtered_df.shape[0] / df.shape[0] * 100\n",
    "display(percent_missing)\n"
   ]
  },
  {
   "cell_type": "markdown",
   "metadata": {},
   "source": [
    "Since the percentage of rows with missing values compared to the whole dataset is approximately 10%, I would conclude that as this is a rather large piece of missing data, it will be important to further investigate whether it is affected by other specific client characteristics and check whether there is any dependence that the missing values have on them. Below, I will specifically investigate my aforementioned hypothesis that the 'income_type' client characteristic for the customers with missing data will largely fall under the 'retiree' category."
   ]
  },
  {
   "cell_type": "code",
   "execution_count": 10,
   "metadata": {},
   "outputs": [
    {
     "data": {
      "text/plain": [
       "employee         1105\n",
       "business          508\n",
       "retiree           413\n",
       "civil servant     147\n",
       "entrepreneur        1\n",
       "Name: income_type, dtype: int64"
      ]
     },
     "execution_count": 10,
     "metadata": {},
     "output_type": "execute_result"
    }
   ],
   "source": [
    "# Investigate clients with missing data in 'days_employed' and 'total_income' by checking the counts in each income type\n",
    "multiple_filtered_df['income_type'].value_counts()\n"
   ]
  },
  {
   "cell_type": "code",
   "execution_count": 11,
   "metadata": {},
   "outputs": [
    {
     "data": {
      "text/plain": [
       "employee         50.827967\n",
       "business         23.367065\n",
       "retiree          18.997240\n",
       "civil servant     6.761730\n",
       "entrepreneur      0.045998\n",
       "Name: income_type, dtype: float64"
      ]
     },
     "execution_count": 11,
     "metadata": {},
     "output_type": "execute_result"
    }
   ],
   "source": [
    "# Checking the distribution of income types for the rows with missing values\n",
    "multiple_filtered_df['income_type'].value_counts()/ multiple_filtered_df.shape[0] * 100\n"
   ]
  },
  {
   "cell_type": "markdown",
   "metadata": {},
   "source": [
    "When I examined the percentage of each potential categorical value in the 'income_type' column for customers that had missing values, I discovered that the percentage of retirees (19%) is actually lower than that of employees (51%) and business owners (23%). Therefore, I can conclude that my hypothesis that that the 'income_type' client characteristic for customers with missing data does not largely fall under the 'retiree' category.\n",
    "\n",
    "**Possible reasons for missing values in data**\n",
    "\n",
    "Given the results of the above analysis, it appears that there may be another reason for why there is missing data for some customers. I would now hypothesize that these missing data points are actually random. It is likely that some customers randomly chose not to provide the number of days that they were employed and their current income. It is also very possible that the questions associated with these two columns were somehow linked (i.e. if a customer did not fill out the number of days that they were employed, it automatically caused the total income category to be skipped as well). To confirm this hypothesis, I will examine the distribution of income types across the entire dataset to compare with the distribution found only among those with missing data."
   ]
  },
  {
   "cell_type": "code",
   "execution_count": 12,
   "metadata": {},
   "outputs": [
    {
     "data": {
      "text/plain": [
       "employee                       51.656214\n",
       "business                       23.623693\n",
       "retiree                        17.914053\n",
       "civil servant                   6.778165\n",
       "entrepreneur                    0.009292\n",
       "unemployed                      0.009292\n",
       "student                         0.004646\n",
       "paternity / maternity leave     0.004646\n",
       "Name: income_type, dtype: float64"
      ]
     },
     "execution_count": 12,
     "metadata": {},
     "output_type": "execute_result"
    }
   ],
   "source": [
    "# Check the distribution of income types in the whole dataset\n",
    "df['income_type'].value_counts() / df.shape[0] * 100\n"
   ]
  },
  {
   "cell_type": "markdown",
   "metadata": {},
   "source": [
    "**Intermediate conclusion**"
   ]
  },
  {
   "cell_type": "markdown",
   "metadata": {},
   "source": [
    "When I examined the overall distribution of 'income_type' categories in the overall dataset, I found similar percentages for each category which indicates that the missing values are in fact not dependent on the 'income_type' after all. As such, it seems reasonable to conclude that the missing values have been randomly assigned."
   ]
  },
  {
   "cell_type": "markdown",
   "metadata": {},
   "source": [
    "**Conclusions**\n",
    "\n",
    "Through this initial exploration of the data, it seems clear that there are missing values that comprise a significant portion of the data that should be addressed prior to analysis. These missing values appear to have been randomly assigned and occur concurrently in the 'days_employed' and 'total_income' column. They will be filled using information from the non-missing data in the columns as well as the other variables available in the dataset. Prior to filling the missing values, the data will be transformed to address duplicates, register inconsistencies, and fix any incorrect artifacts to ensure that the data is properly cleaned for formal analysis."
   ]
  },
  {
   "cell_type": "markdown",
   "metadata": {},
   "source": [
    "## Data transformation"
   ]
  },
  {
   "cell_type": "code",
   "execution_count": 13,
   "metadata": {},
   "outputs": [
    {
     "data": {
      "text/plain": [
       "array([\"bachelor's degree\", 'secondary education', 'Secondary Education',\n",
       "       'SECONDARY EDUCATION', \"BACHELOR'S DEGREE\", 'some college',\n",
       "       'primary education', \"Bachelor's Degree\", 'SOME COLLEGE',\n",
       "       'Some College', 'PRIMARY EDUCATION', 'Primary Education',\n",
       "       'Graduate Degree', 'GRADUATE DEGREE', 'graduate degree'],\n",
       "      dtype=object)"
      ]
     },
     "execution_count": 13,
     "metadata": {},
     "output_type": "execute_result"
    }
   ],
   "source": [
    "# Examine unique values in the 'education' column to check if and what spellings and registers will need to be fixed\n",
    "df['education'].unique()\n"
   ]
  },
  {
   "cell_type": "markdown",
   "metadata": {},
   "source": [
    "The unique 'education\" values indicate that there inconsistencies in the capitalization of the words which need to be fixed."
   ]
  },
  {
   "cell_type": "code",
   "execution_count": 14,
   "metadata": {
    "scrolled": true
   },
   "outputs": [],
   "source": [
    "# Fix the inconsistent registers\n",
    "df['education'] = df['education'].str.lower()\n"
   ]
  },
  {
   "cell_type": "markdown",
   "metadata": {},
   "source": [
    "The string values in the 'education' column were made all lowercase to prevent duplicates due to capitalization issues."
   ]
  },
  {
   "cell_type": "code",
   "execution_count": 15,
   "metadata": {},
   "outputs": [
    {
     "data": {
      "text/plain": [
       "array([\"bachelor's degree\", 'secondary education', 'some college',\n",
       "       'primary education', 'graduate degree'], dtype=object)"
      ]
     },
     "execution_count": 15,
     "metadata": {},
     "output_type": "execute_result"
    }
   ],
   "source": [
    "# Check all the unique values in the 'education' column again to make sure they are fixed\n",
    "df['education'].unique()\n"
   ]
  },
  {
   "cell_type": "markdown",
   "metadata": {},
   "source": [
    "When the unique values in the 'education' column were checked again, all the duplicates were removed."
   ]
  },
  {
   "cell_type": "code",
   "execution_count": 16,
   "metadata": {},
   "outputs": [
    {
     "data": {
      "text/plain": [
       " 0     65.732869\n",
       " 1     22.383275\n",
       " 2      9.547038\n",
       " 3      1.533101\n",
       " 20     0.353078\n",
       "-1      0.218351\n",
       " 4      0.190476\n",
       " 5      0.041812\n",
       "Name: children, dtype: float64"
      ]
     },
     "execution_count": 16,
     "metadata": {},
     "output_type": "execute_result"
    }
   ],
   "source": [
    "# Check the distribution of values in the 'children' column\n",
    "df['children'].value_counts() / df.shape[0] * 100\n"
   ]
  },
  {
   "cell_type": "markdown",
   "metadata": {},
   "source": [
    "Next, the distribution of values in the 'children' column was displayed which showed a few potential errors in the data. The main values that are of concern are -1, which is impossible since you cannot have a negative number of children, and 20, which is a number far too high to occur so frequently in one dataset. These problematic values may be a result of inputting errors or a glitch in the system used to record answers. But since they only comprise a minor percentage of the data (0.2% and 0.4% respectively), it seems appropriate to simply drop the values from the dataset so the erroneous values do not create issues in the remainder of the analysis."
   ]
  },
  {
   "cell_type": "code",
   "execution_count": 17,
   "metadata": {},
   "outputs": [],
   "source": [
    "# Drop the rows where '-1' or '20' were inputted as values in the 'children' column\n",
    "df = df[(df['children'] >= 0) & (df['children'] <= 5)]\n"
   ]
  },
  {
   "cell_type": "code",
   "execution_count": 18,
   "metadata": {},
   "outputs": [
    {
     "name": "stdout",
     "output_type": "stream",
     "text": [
      "[0, 1, 2, 3, 4, 5]\n"
     ]
    }
   ],
   "source": [
    "# Check the unique values in the 'children' column to make sure the drop was successful\n",
    "print(sorted(df['children'].unique()))\n"
   ]
  },
  {
   "cell_type": "markdown",
   "metadata": {},
   "source": [
    "As shown above, the rows with values -1 or 20 in the 'children' column were dropped from the dataset. The unique values in the 'children' column were printed in order to ensure that the drop was successful. Since -1 or 20 do not appear in the list of unique values, we can infer that it was."
   ]
  },
  {
   "cell_type": "code",
   "execution_count": 19,
   "metadata": {},
   "outputs": [
    {
     "data": {
      "text/plain": [
       "0      -8437.673028\n",
       "1      -4024.803754\n",
       "2      -5623.422610\n",
       "3      -4124.747207\n",
       "4     340266.072047\n",
       "5       -926.185831\n",
       "6      -2879.202052\n",
       "7       -152.779569\n",
       "8      -6929.865299\n",
       "9      -2188.756445\n",
       "10     -4171.483647\n",
       "11      -792.701887\n",
       "12              NaN\n",
       "13     -1846.641941\n",
       "14     -1844.956182\n",
       "15      -972.364419\n",
       "16     -1719.934226\n",
       "17     -2369.999720\n",
       "18    400281.136913\n",
       "19    -10038.818549\n",
       "Name: days_employed, dtype: float64"
      ]
     },
     "execution_count": 19,
     "metadata": {},
     "output_type": "execute_result"
    }
   ],
   "source": [
    "# Examine some rows in the 'days_employed' column to get a sense of what may be problematic\n",
    "df['days_employed'].head(20)\n"
   ]
  },
  {
   "cell_type": "code",
   "execution_count": 20,
   "metadata": {},
   "outputs": [
    {
     "data": {
      "text/plain": [
       "16.031212036258292"
      ]
     },
     "execution_count": 20,
     "metadata": {},
     "output_type": "execute_result"
    }
   ],
   "source": [
    "# Find problematic data in the 'days_employed' and calculate the percentage\n",
    "df[df['days_employed'] > 0]['days_employed'].count() / df.shape[0] * 100\n"
   ]
  },
  {
   "cell_type": "code",
   "execution_count": 21,
   "metadata": {},
   "outputs": [
    {
     "data": {
      "text/plain": [
       "retiree       3429\n",
       "unemployed       2\n",
       "Name: income_type, dtype: int64"
      ]
     },
     "execution_count": 21,
     "metadata": {},
     "output_type": "execute_result"
    }
   ],
   "source": [
    "# Find out which 'income_type' values are associated with the problematic data\n",
    "df[df['days_employed'] > 0]['income_type'].value_counts()\n"
   ]
  },
  {
   "cell_type": "markdown",
   "metadata": {},
   "source": [
    "Looking at the 'days_employed' column, 2 main issues stand out: 1) realistic negative values and 2) unrealistic positive values. The negative values are not necessarily an issue as they may serve to indicate the number of days employed prior to the time of application. They can simply be changed into positive values to prevent calculations errors moving forward. However, there is definitely a need to address the unrealistic positive values as they seem to be mistakes and comprise a substantial 16% of the data. To decipher whether or not there is a pattern to the erroneous data, the values in the 'income_type' column of customers who reported the high positive 'days_employed' values were examined to reveal that the erroneous data only occurs among retirees and unemployed individuals--those who would be expected to have a 'days_employed' value of '0'. Therefore, it seems appopriate to change all the erroneous positive values in the dataset to '0'."
   ]
  },
  {
   "cell_type": "code",
   "execution_count": 22,
   "metadata": {},
   "outputs": [],
   "source": [
    "# Address the problematic values in 'days_employed' by changing the large positive values to 0\n",
    "df.loc[df['days_employed'] > 0, 'days_employed'] = 0\n"
   ]
  },
  {
   "cell_type": "code",
   "execution_count": 23,
   "metadata": {},
   "outputs": [
    {
     "name": "stdout",
     "output_type": "stream",
     "text": [
      "    children  days_employed  dob_years            education  education_id  \\\n",
      "0          1   -8437.673028         42    bachelor's degree             0   \n",
      "1          1   -4024.803754         36  secondary education             1   \n",
      "2          0   -5623.422610         33  secondary education             1   \n",
      "3          3   -4124.747207         32  secondary education             1   \n",
      "4          0       0.000000         53  secondary education             1   \n",
      "5          0    -926.185831         27    bachelor's degree             0   \n",
      "6          0   -2879.202052         43    bachelor's degree             0   \n",
      "7          0    -152.779569         50  secondary education             1   \n",
      "8          2   -6929.865299         35    bachelor's degree             0   \n",
      "9          0   -2188.756445         41  secondary education             1   \n",
      "10         2   -4171.483647         36    bachelor's degree             0   \n",
      "11         0    -792.701887         40  secondary education             1   \n",
      "12         0            NaN         65  secondary education             1   \n",
      "13         0   -1846.641941         54         some college             2   \n",
      "14         0   -1844.956182         56    bachelor's degree             0   \n",
      "15         1    -972.364419         26  secondary education             1   \n",
      "16         0   -1719.934226         35  secondary education             1   \n",
      "17         0   -2369.999720         33    bachelor's degree             0   \n",
      "18         0       0.000000         53  secondary education             1   \n",
      "19         0  -10038.818549         48  secondary education             1   \n",
      "\n",
      "        family_status  family_status_id gender income_type  debt  \\\n",
      "0             married                 0      F    employee     0   \n",
      "1             married                 0      F    employee     0   \n",
      "2             married                 0      M    employee     0   \n",
      "3             married                 0      M    employee     0   \n",
      "4   civil partnership                 1      F     retiree     0   \n",
      "5   civil partnership                 1      M    business     0   \n",
      "6             married                 0      F    business     0   \n",
      "7             married                 0      M    employee     0   \n",
      "8   civil partnership                 1      F    employee     0   \n",
      "9             married                 0      M    employee     0   \n",
      "10            married                 0      M    business     0   \n",
      "11            married                 0      F    employee     0   \n",
      "12  civil partnership                 1      M     retiree     0   \n",
      "13            married                 0      F    employee     0   \n",
      "14  civil partnership                 1      F    business     1   \n",
      "15            married                 0      F    employee     0   \n",
      "16            married                 0      F    employee     0   \n",
      "17  civil partnership                 1      M    employee     0   \n",
      "18    widow / widower                 2      F     retiree     0   \n",
      "19           divorced                 3      F    employee     0   \n",
      "\n",
      "    total_income                              purpose  \n",
      "0      40620.102                purchase of the house  \n",
      "1      17932.802                         car purchase  \n",
      "2      23341.752                purchase of the house  \n",
      "3      42820.568              supplementary education  \n",
      "4      25378.572                    to have a wedding  \n",
      "5      40922.170                purchase of the house  \n",
      "6      38484.156                 housing transactions  \n",
      "7      21731.829                            education  \n",
      "8      15337.093                     having a wedding  \n",
      "9      23108.150  purchase of the house for my family  \n",
      "10     18230.959                      buy real estate  \n",
      "11     12331.077           buy commercial real estate  \n",
      "12           NaN                    to have a wedding  \n",
      "13     20873.317                         car purchase  \n",
      "14     26420.466          buy residential real estate  \n",
      "15     18691.345         construction of own property  \n",
      "16     46272.433                             property  \n",
      "17     14465.694                  building a property  \n",
      "18      9091.804             buying a second-hand car  \n",
      "19     38852.977                    buying my own car  \n"
     ]
    }
   ],
   "source": [
    "# Check the result to make sure the problematic values were successfully addressed\n",
    "print(df.head(20))\n"
   ]
  },
  {
   "cell_type": "markdown",
   "metadata": {},
   "source": [
    "To address the problematic positive values in the 'days_employed' column, they were all changed to the value '0' according to the code above. The dataframe was printed to confirm this change was successful."
   ]
  },
  {
   "cell_type": "code",
   "execution_count": 24,
   "metadata": {
    "scrolled": true
   },
   "outputs": [
    {
     "name": "stdout",
     "output_type": "stream",
     "text": [
      "[0, 19, 20, 21, 22, 23, 24, 25, 26, 27, 28, 29, 30, 31, 32, 33, 34, 35, 36, 37, 38, 39, 40, 41, 42, 43, 44, 45, 46, 47, 48, 49, 50, 51, 52, 53, 54, 55, 56, 57, 58, 59, 60, 61, 62, 63, 64, 65, 66, 67, 68, 69, 70, 71, 72, 73, 74, 75]\n"
     ]
    },
    {
     "data": {
      "text/plain": [
       "35    2.868891\n",
       "40    2.817494\n",
       "41    2.817494\n",
       "34    2.789459\n",
       "38    2.780114\n",
       "42    2.766097\n",
       "33    2.696010\n",
       "39    2.672647\n",
       "31    2.597888\n",
       "36    2.583871\n",
       "29    2.537146\n",
       "44    2.537146\n",
       "30    2.504439\n",
       "48    2.504439\n",
       "37    2.481077\n",
       "43    2.382955\n",
       "50    2.378282\n",
       "32    2.364265\n",
       "49    2.359593\n",
       "28    2.340903\n",
       "45    2.308195\n",
       "27    2.289506\n",
       "52    2.256798\n",
       "56    2.252126\n",
       "47    2.242781\n",
       "54    2.224091\n",
       "46    2.191384\n",
       "58    2.154004\n",
       "57    2.135314\n",
       "53    2.135314\n",
       "51    2.083917\n",
       "55    2.060555\n",
       "59    2.060555\n",
       "26    1.897019\n",
       "60    1.756845\n",
       "25    1.663396\n",
       "61    1.649379\n",
       "62    1.640034\n",
       "63    1.252219\n",
       "64    1.228857\n",
       "24    1.228857\n",
       "23    1.177460\n",
       "65    0.906457\n",
       "66    0.855060\n",
       "22    0.855060\n",
       "67    0.780301\n",
       "21    0.513971\n",
       "0     0.467246\n",
       "68    0.462574\n",
       "69    0.387814\n",
       "70    0.303710\n",
       "71    0.271003\n",
       "20    0.238295\n",
       "72    0.154191\n",
       "19    0.065414\n",
       "73    0.037380\n",
       "74    0.028035\n",
       "75    0.004672\n",
       "Name: dob_years, dtype: float64"
      ]
     },
     "execution_count": 24,
     "metadata": {},
     "output_type": "execute_result"
    }
   ],
   "source": [
    "# Check the 'dob_years' for potentially erroneous values and count the percentages of each age\n",
    "print(sorted(df['dob_years'].unique()))\n",
    "df['dob_years'].value_counts() / df.shape[0] * 100\n"
   ]
  },
  {
   "cell_type": "markdown",
   "metadata": {},
   "source": [
    "Next, the 'dob_years' column was examined to check for any dubious values. An examination of the list of unique values in the column revealed that the only problematic age was 0. All the other values are feasible. Since the number of rows that include 0 in the 'dob_years' column is only 0.5%, it seems reasonable to simply drop these rows from the analysis."
   ]
  },
  {
   "cell_type": "code",
   "execution_count": 25,
   "metadata": {},
   "outputs": [],
   "source": [
    "# Drop the rows in the 'dob_years' column where age = 0\n",
    "df = df[df['dob_years'] > 0]\n"
   ]
  },
  {
   "cell_type": "code",
   "execution_count": 26,
   "metadata": {},
   "outputs": [
    {
     "name": "stdout",
     "output_type": "stream",
     "text": [
      "[19, 20, 21, 22, 23, 24, 25, 26, 27, 28, 29, 30, 31, 32, 33, 34, 35, 36, 37, 38, 39, 40, 41, 42, 43, 44, 45, 46, 47, 48, 49, 50, 51, 52, 53, 54, 55, 56, 57, 58, 59, 60, 61, 62, 63, 64, 65, 66, 67, 68, 69, 70, 71, 72, 73, 74, 75]\n"
     ]
    }
   ],
   "source": [
    "# Check the unique values in 'dob_years' to ensure the drop was successful\n",
    "print(sorted(df['dob_years'].unique()))\n"
   ]
  },
  {
   "cell_type": "markdown",
   "metadata": {},
   "source": [
    "In the above code, 'df' was modified to drop rows where the 'dob_years' value is 0. The unique 'dob_years' values were printed once more in order to confirm that all the correct rows were dropped."
   ]
  },
  {
   "cell_type": "code",
   "execution_count": 27,
   "metadata": {},
   "outputs": [
    {
     "name": "stdout",
     "output_type": "stream",
     "text": [
      "['civil partnership', 'divorced', 'married', 'unmarried', 'widow / widower']\n"
     ]
    }
   ],
   "source": [
    "# Check the values in the 'family_status' column by printing all unique values\n",
    "print(sorted(df['family_status'].unique()))\n"
   ]
  },
  {
   "cell_type": "markdown",
   "metadata": {},
   "source": [
    "Next, unique values found in the 'family_status' column were examined to check for any potentially problematic values. All of the values seem legitimate so nothing will be done to change this column."
   ]
  },
  {
   "cell_type": "code",
   "execution_count": 28,
   "metadata": {},
   "outputs": [
    {
     "name": "stdout",
     "output_type": "stream",
     "text": [
      "['F', 'M', 'XNA']\n"
     ]
    }
   ],
   "source": [
    "# Check the values in the 'gender' column by printing all unique values\n",
    "print(sorted(df['gender'].unique()))\n"
   ]
  },
  {
   "cell_type": "code",
   "execution_count": 29,
   "metadata": {},
   "outputs": [
    {
     "data": {
      "text/html": [
       "<div>\n",
       "<style scoped>\n",
       "    .dataframe tbody tr th:only-of-type {\n",
       "        vertical-align: middle;\n",
       "    }\n",
       "\n",
       "    .dataframe tbody tr th {\n",
       "        vertical-align: top;\n",
       "    }\n",
       "\n",
       "    .dataframe thead th {\n",
       "        text-align: right;\n",
       "    }\n",
       "</style>\n",
       "<table border=\"1\" class=\"dataframe\">\n",
       "  <thead>\n",
       "    <tr style=\"text-align: right;\">\n",
       "      <th></th>\n",
       "      <th>children</th>\n",
       "      <th>days_employed</th>\n",
       "      <th>dob_years</th>\n",
       "      <th>education</th>\n",
       "      <th>education_id</th>\n",
       "      <th>family_status</th>\n",
       "      <th>family_status_id</th>\n",
       "      <th>gender</th>\n",
       "      <th>income_type</th>\n",
       "      <th>debt</th>\n",
       "      <th>total_income</th>\n",
       "      <th>purpose</th>\n",
       "    </tr>\n",
       "  </thead>\n",
       "  <tbody>\n",
       "    <tr>\n",
       "      <td>10701</td>\n",
       "      <td>0</td>\n",
       "      <td>-2358.600502</td>\n",
       "      <td>24</td>\n",
       "      <td>some college</td>\n",
       "      <td>2</td>\n",
       "      <td>civil partnership</td>\n",
       "      <td>1</td>\n",
       "      <td>XNA</td>\n",
       "      <td>business</td>\n",
       "      <td>0</td>\n",
       "      <td>32624.825</td>\n",
       "      <td>buy real estate</td>\n",
       "    </tr>\n",
       "  </tbody>\n",
       "</table>\n",
       "</div>"
      ],
      "text/plain": [
       "       children  days_employed  dob_years     education  education_id  \\\n",
       "10701         0   -2358.600502         24  some college             2   \n",
       "\n",
       "           family_status  family_status_id gender income_type  debt  \\\n",
       "10701  civil partnership                 1    XNA    business     0   \n",
       "\n",
       "       total_income          purpose  \n",
       "10701     32624.825  buy real estate  "
      ]
     },
     "execution_count": 29,
     "metadata": {},
     "output_type": "execute_result"
    }
   ],
   "source": [
    "# Check which rows have the value 'XNA' in the 'gender' column\n",
    "df[df['gender'] == 'XNA']\n"
   ]
  },
  {
   "cell_type": "markdown",
   "metadata": {},
   "source": [
    "Next, the unique values found in the 'gender' column were examined to check for any potential problematic values. The value 'XNA' was the only potentially problematic value. When the dataset was checked to see which rows have the value 'XNA' in the 'gender' column, it was revealed that it appears in only 1 row. Although it may be that the customer represented by this row does not identify as male or female, it would not be helpful in this analysis to make conclusions about non-binary customers if there is only 1 datapoint that can be analyzed. Therefore, it seems appropriate to drop this row."
   ]
  },
  {
   "cell_type": "code",
   "execution_count": 30,
   "metadata": {},
   "outputs": [],
   "source": [
    "# Drop the row where the 'gender' column value is 'XNA'\n",
    "df.drop(df[df['gender'] == 'XNA'].index, inplace = True)\n"
   ]
  },
  {
   "cell_type": "code",
   "execution_count": 31,
   "metadata": {},
   "outputs": [
    {
     "name": "stdout",
     "output_type": "stream",
     "text": [
      "['F', 'M']\n"
     ]
    }
   ],
   "source": [
    "# Check the unique values in 'gender' to ensure the drop was successful\n",
    "print(sorted(df['gender'].unique()))\n"
   ]
  },
  {
   "cell_type": "markdown",
   "metadata": {},
   "source": [
    "The row with 'XNA' in the 'gender' column was dropped and the unique values remaining in the column were printed in order to confirm that the drop was successful."
   ]
  },
  {
   "cell_type": "code",
   "execution_count": 32,
   "metadata": {},
   "outputs": [
    {
     "name": "stdout",
     "output_type": "stream",
     "text": [
      "['business', 'civil servant', 'employee', 'entrepreneur', 'paternity / maternity leave', 'retiree', 'student', 'unemployed']\n"
     ]
    }
   ],
   "source": [
    "# Check the values in the 'income_type' column by printing all unique values\n",
    "print(sorted(df['income_type'].unique()))"
   ]
  },
  {
   "cell_type": "markdown",
   "metadata": {},
   "source": [
    "Next, the values in the 'income_type' column were examined to check for problematic values. As all of the values seemed legitimate, so no changes were made."
   ]
  },
  {
   "cell_type": "code",
   "execution_count": 33,
   "metadata": {},
   "outputs": [
    {
     "data": {
      "text/plain": [
       "71"
      ]
     },
     "execution_count": 33,
     "metadata": {},
     "output_type": "execute_result"
    }
   ],
   "source": [
    "# Check the number of duplicates in 'df'\n",
    "df.duplicated().sum()\n"
   ]
  },
  {
   "cell_type": "code",
   "execution_count": 34,
   "metadata": {},
   "outputs": [
    {
     "data": {
      "text/plain": [
       "0.33331768461574574"
      ]
     },
     "execution_count": 34,
     "metadata": {},
     "output_type": "execute_result"
    }
   ],
   "source": [
    "# Find the percentage of duplicated values in df\n",
    "df.duplicated().sum() / df.shape[0] * 100\n"
   ]
  },
  {
   "cell_type": "markdown",
   "metadata": {},
   "source": [
    "Finally, the dataset was checked for duplicate values. 71 duplicate values were identified, which comprise a rather small 0.3% of the data. Therefore, the duplicates will be dropped from the analysis to ensure that duplicate rows do not skew the results."
   ]
  },
  {
   "cell_type": "code",
   "execution_count": 35,
   "metadata": {},
   "outputs": [],
   "source": [
    "# Drop the duplicate values from df\n",
    "df = df.drop_duplicates().reset_index(drop = True)\n"
   ]
  },
  {
   "cell_type": "code",
   "execution_count": 36,
   "metadata": {},
   "outputs": [
    {
     "data": {
      "text/plain": [
       "0"
      ]
     },
     "execution_count": 36,
     "metadata": {},
     "output_type": "execute_result"
    }
   ],
   "source": [
    "# Check if all the duplicates were dropped\n",
    "df.duplicated().sum()\n"
   ]
  },
  {
   "cell_type": "markdown",
   "metadata": {},
   "source": [
    "The 71 duplicate rows were dropped. The drop was confirmed by checking the number of remaining duplicate values which is 0."
   ]
  },
  {
   "cell_type": "code",
   "execution_count": 37,
   "metadata": {},
   "outputs": [
    {
     "data": {
      "text/plain": [
       "21230"
      ]
     },
     "execution_count": 37,
     "metadata": {},
     "output_type": "execute_result"
    }
   ],
   "source": [
    "# Check the size of the remaining dataset after the first set of manipulations\n",
    "df.shape[0]\n"
   ]
  },
  {
   "cell_type": "code",
   "execution_count": 38,
   "metadata": {},
   "outputs": [
    {
     "data": {
      "text/plain": [
       "1.3704994192799071"
      ]
     },
     "execution_count": 38,
     "metadata": {},
     "output_type": "execute_result"
    }
   ],
   "source": [
    "# Calculate the percentage of data that was dropped from the dataset\n",
    "(original_shape[0] - df.shape[0]) / original_shape[0] * 100\n"
   ]
  },
  {
   "cell_type": "markdown",
   "metadata": {},
   "source": [
    "Having gone through the important variables in the dataset and addressing all the problematic values, the current dataset contains 21,230 rows compared to the original 21,525 which indicates that 1.37% of the original data was dropped through the data cleaning process. The dropped rows were all deemed problematic and included customers that reported -1 or 20 children, age of 0 years, and 'XNA' gender. Duplicate rows were also dropped. Since 1.37% is not a significant portion of the data, the remaining dataset should still be valid to use in the remainder of the analysis."
   ]
  },
  {
   "cell_type": "markdown",
   "metadata": {},
   "source": [
    "# Working with missing values"
   ]
  },
  {
   "cell_type": "markdown",
   "metadata": {},
   "source": [
    "Prior to working with the missing values, dictionaries will be created for the 'education_id' and 'education' columns, as well as the 'family_status_id' and 'family_status' columns just in case they may be needed to help speed up the process and make it easier to call values."
   ]
  },
  {
   "cell_type": "code",
   "execution_count": 39,
   "metadata": {},
   "outputs": [
    {
     "name": "stdout",
     "output_type": "stream",
     "text": [
      "   education_id            education\n",
      "0             0    bachelor's degree\n",
      "1             1  secondary education\n",
      "2             2         some college\n",
      "3             3    primary education\n",
      "4             4      graduate degree\n"
     ]
    }
   ],
   "source": [
    "# Create a dictionary for 'education_id' and 'education'\n",
    "education_dict = df[['education_id', 'education']].drop_duplicates().reset_index(drop=True)\n",
    "print(education_dict)\n"
   ]
  },
  {
   "cell_type": "code",
   "execution_count": 40,
   "metadata": {},
   "outputs": [
    {
     "name": "stdout",
     "output_type": "stream",
     "text": [
      "   family_status_id      family_status\n",
      "0                 0            married\n",
      "1                 1  civil partnership\n",
      "2                 2    widow / widower\n",
      "3                 3           divorced\n",
      "4                 4          unmarried\n"
     ]
    }
   ],
   "source": [
    "# Create a dictionary for 'family_status_id' and 'family_status'\n",
    "family_status_dict = df[['family_status_id', 'family_status']].drop_duplicates().reset_index(drop=True)\n",
    "print(family_status_dict)\n"
   ]
  },
  {
   "cell_type": "markdown",
   "metadata": {},
   "source": [
    "### Restoring missing values in `total_income`"
   ]
  },
  {
   "cell_type": "markdown",
   "metadata": {},
   "source": [
    "The two columns that have missing values that still need to be addressed are the 'total_income' and 'days_employed' column. In this section, the missing values in the 'total_income' column will be fixed by examining the relationship between income and some other variables of relevance in the dataset, namely age, education, and income type. Then the median or mean values of 'total_income' calculated from the non-missing data based on these variables of relevance can then be used to fill in the missing values in rows with similar characteristics."
   ]
  },
  {
   "cell_type": "code",
   "execution_count": 41,
   "metadata": {},
   "outputs": [],
   "source": [
    "# Write a function that calculates the age category\n",
    "def age_category(age):\n",
    "    if age <= 19:\n",
    "        return '10-19'\n",
    "    elif age <= 29:\n",
    "        return '20-29'\n",
    "    elif age <= 39:\n",
    "        return '30-39'\n",
    "    elif age <= 49:\n",
    "        return '40-49'\n",
    "    elif age <= 59:\n",
    "        return '50-59'\n",
    "    elif age <= 69:\n",
    "        return '60-69'\n",
    "    elif age <= 79:\n",
    "        return '70-79'\n",
    "    else:\n",
    "        return \"unknown\"\n",
    "    "
   ]
  },
  {
   "cell_type": "code",
   "execution_count": 42,
   "metadata": {},
   "outputs": [
    {
     "name": "stdout",
     "output_type": "stream",
     "text": [
      "10-19\n",
      "70-79\n",
      "unknown\n"
     ]
    }
   ],
   "source": [
    "# Test if the function works with sample age values\n",
    "print(age_category(19))\n",
    "print(age_category(75))\n",
    "print(age_category(100))\n"
   ]
  },
  {
   "cell_type": "markdown",
   "metadata": {},
   "source": [
    "Prior to proceeding in the restoration of missing values in the 'total_income' column, the 'age' column will be categorized into age groupings for ease of analysis. Above is a function that calculates the age category depending on the age value that is inputted. It categorizes the inputted age in 10 year increments from age 10-79 as the lowest and highest age values in the dataset are 19 and 75 respectively. A few tests were run to ensure that the function is working properly."
   ]
  },
  {
   "cell_type": "code",
   "execution_count": 43,
   "metadata": {},
   "outputs": [],
   "source": [
    "# Create a new 'age_category' column by applying the 'age_category' function on the 'dob_years' column\n",
    "df['age_category'] = df['dob_years'].apply(age_category)\n"
   ]
  },
  {
   "cell_type": "code",
   "execution_count": 44,
   "metadata": {},
   "outputs": [
    {
     "name": "stdout",
     "output_type": "stream",
     "text": [
      "    dob_years age_category\n",
      "0          42        40-49\n",
      "1          36        30-39\n",
      "2          33        30-39\n",
      "3          32        30-39\n",
      "4          53        50-59\n",
      "5          27        20-29\n",
      "6          43        40-49\n",
      "7          50        50-59\n",
      "8          35        30-39\n",
      "9          41        40-49\n",
      "10         36        30-39\n",
      "11         40        40-49\n",
      "12         65        60-69\n",
      "13         54        50-59\n",
      "14         56        50-59\n",
      "15         26        20-29\n",
      "16         35        30-39\n",
      "17         33        30-39\n",
      "18         53        50-59\n",
      "19         48        40-49\n"
     ]
    }
   ],
   "source": [
    "# Check the values in the 'age_category' column alongside the 'dob_years' column\n",
    "print(df[['dob_years', 'age_category']].head(20))\n"
   ]
  },
  {
   "cell_type": "markdown",
   "metadata": {},
   "source": [
    "Using the age_category function, a new column called 'age_category' was created in the dataset that categorizes the ages to help make it easier to perform comparisons later in the analysis. The 'dob_years' and the new 'age_category' columns were printed side by side to ensure that the new column was successfully and accurately generated."
   ]
  },
  {
   "cell_type": "markdown",
   "metadata": {},
   "source": [
    "Now there is a need to begin looking at how age, education, and income type are related to total income to determine whether mean or median values should be used to replace the missing values in the 'total_income' column and which variables should ultimately be considered to make that calculation."
   ]
  },
  {
   "cell_type": "code",
   "execution_count": 45,
   "metadata": {},
   "outputs": [
    {
     "name": "stdout",
     "output_type": "stream",
     "text": [
      "    children  days_employed  dob_years            education  education_id  \\\n",
      "0          1   -8437.673028         42    bachelor's degree             0   \n",
      "1          1   -4024.803754         36  secondary education             1   \n",
      "2          0   -5623.422610         33  secondary education             1   \n",
      "3          3   -4124.747207         32  secondary education             1   \n",
      "4          0       0.000000         53  secondary education             1   \n",
      "5          0    -926.185831         27    bachelor's degree             0   \n",
      "6          0   -2879.202052         43    bachelor's degree             0   \n",
      "7          0    -152.779569         50  secondary education             1   \n",
      "8          2   -6929.865299         35    bachelor's degree             0   \n",
      "9          0   -2188.756445         41  secondary education             1   \n",
      "10         2   -4171.483647         36    bachelor's degree             0   \n",
      "11         0    -792.701887         40  secondary education             1   \n",
      "13         0   -1846.641941         54         some college             2   \n",
      "14         0   -1844.956182         56    bachelor's degree             0   \n",
      "15         1    -972.364419         26  secondary education             1   \n",
      "16         0   -1719.934226         35  secondary education             1   \n",
      "17         0   -2369.999720         33    bachelor's degree             0   \n",
      "18         0       0.000000         53  secondary education             1   \n",
      "19         0  -10038.818549         48  secondary education             1   \n",
      "20         1   -1311.604166         36  secondary education             1   \n",
      "\n",
      "        family_status  family_status_id gender income_type  debt  \\\n",
      "0             married                 0      F    employee     0   \n",
      "1             married                 0      F    employee     0   \n",
      "2             married                 0      M    employee     0   \n",
      "3             married                 0      M    employee     0   \n",
      "4   civil partnership                 1      F     retiree     0   \n",
      "5   civil partnership                 1      M    business     0   \n",
      "6             married                 0      F    business     0   \n",
      "7             married                 0      M    employee     0   \n",
      "8   civil partnership                 1      F    employee     0   \n",
      "9             married                 0      M    employee     0   \n",
      "10            married                 0      M    business     0   \n",
      "11            married                 0      F    employee     0   \n",
      "13            married                 0      F    employee     0   \n",
      "14  civil partnership                 1      F    business     1   \n",
      "15            married                 0      F    employee     0   \n",
      "16            married                 0      F    employee     0   \n",
      "17  civil partnership                 1      M    employee     0   \n",
      "18    widow / widower                 2      F     retiree     0   \n",
      "19           divorced                 3      F    employee     0   \n",
      "20            married                 0      M    employee     0   \n",
      "\n",
      "    total_income                              purpose age_category  \n",
      "0      40620.102                purchase of the house        40-49  \n",
      "1      17932.802                         car purchase        30-39  \n",
      "2      23341.752                purchase of the house        30-39  \n",
      "3      42820.568              supplementary education        30-39  \n",
      "4      25378.572                    to have a wedding        50-59  \n",
      "5      40922.170                purchase of the house        20-29  \n",
      "6      38484.156                 housing transactions        40-49  \n",
      "7      21731.829                            education        50-59  \n",
      "8      15337.093                     having a wedding        30-39  \n",
      "9      23108.150  purchase of the house for my family        40-49  \n",
      "10     18230.959                      buy real estate        30-39  \n",
      "11     12331.077           buy commercial real estate        40-49  \n",
      "13     20873.317                         car purchase        50-59  \n",
      "14     26420.466          buy residential real estate        50-59  \n",
      "15     18691.345         construction of own property        20-29  \n",
      "16     46272.433                             property        30-39  \n",
      "17     14465.694                  building a property        30-39  \n",
      "18      9091.804             buying a second-hand car        50-59  \n",
      "19     38852.977                    buying my own car        40-49  \n",
      "20     33528.423                             property        30-39  \n"
     ]
    }
   ],
   "source": [
    "# Create a table without missing values and print a few of its rows to make sure it was accurately generated\n",
    "new_df = df.dropna()\n",
    "print(new_df.head(20))\n"
   ]
  },
  {
   "cell_type": "markdown",
   "metadata": {},
   "source": [
    "Above, a new table that excludes all missing values was created by dropping all the missing values. The drop was successful based on the printed output. The new dataset, 'new_df' will be utilized to examine the mean and median total income values based on age, education, and income type."
   ]
  },
  {
   "cell_type": "code",
   "execution_count": 46,
   "metadata": {},
   "outputs": [
    {
     "name": "stdout",
     "output_type": "stream",
     "text": [
      "age_category\n",
      "10-19    16993.942462\n",
      "20-29    25583.136962\n",
      "30-39    28314.525654\n",
      "40-49    28575.427654\n",
      "50-59    25807.707523\n",
      "60-69    23236.985508\n",
      "70-79    20125.658331\n",
      "Name: total_income, dtype: float64\n"
     ]
    }
   ],
   "source": [
    "# Look at the mean values for income based on age\n",
    "print(new_df.groupby('age_category')['total_income'].mean())\n"
   ]
  },
  {
   "cell_type": "code",
   "execution_count": 47,
   "metadata": {
    "scrolled": true
   },
   "outputs": [
    {
     "name": "stdout",
     "output_type": "stream",
     "text": [
      "age_category\n",
      "10-19    14934.9010\n",
      "20-29    22804.3590\n",
      "30-39    24699.5815\n",
      "40-49    24772.3820\n",
      "50-59    22195.8470\n",
      "60-69    19811.3260\n",
      "70-79    18751.3240\n",
      "Name: total_income, dtype: float64\n"
     ]
    }
   ],
   "source": [
    "# Look at the median values for income based on age\n",
    "print(new_df.groupby('age_category')['total_income'].median())\n"
   ]
  },
  {
   "cell_type": "code",
   "execution_count": 48,
   "metadata": {},
   "outputs": [
    {
     "name": "stdout",
     "output_type": "stream",
     "text": [
      "education\n",
      "bachelor's degree      33197.258790\n",
      "graduate degree        27960.024667\n",
      "primary education      21144.882211\n",
      "secondary education    24594.390815\n",
      "some college           29028.844227\n",
      "Name: total_income, dtype: float64\n"
     ]
    }
   ],
   "source": [
    "# Look at the mean values for income based on education\n",
    "print(new_df.groupby('education')['total_income'].mean())\n"
   ]
  },
  {
   "cell_type": "code",
   "execution_count": 49,
   "metadata": {},
   "outputs": [
    {
     "name": "stdout",
     "output_type": "stream",
     "text": [
      "education\n",
      "bachelor's degree      28086.5425\n",
      "graduate degree        25161.5835\n",
      "primary education      18741.9760\n",
      "secondary education    21832.2410\n",
      "some college           25618.4640\n",
      "Name: total_income, dtype: float64\n"
     ]
    }
   ],
   "source": [
    "# Look at the median values for income based on education\n",
    "print(new_df.groupby('education')['total_income'].median())\n"
   ]
  },
  {
   "cell_type": "code",
   "execution_count": 50,
   "metadata": {},
   "outputs": [
    {
     "name": "stdout",
     "output_type": "stream",
     "text": [
      "income_type\n",
      "business                       32424.420789\n",
      "civil servant                  27336.442546\n",
      "employee                       25822.872585\n",
      "entrepreneur                   79866.103000\n",
      "paternity / maternity leave     8612.661000\n",
      "retiree                        21950.722935\n",
      "student                        15712.260000\n",
      "unemployed                     21014.360500\n",
      "Name: total_income, dtype: float64\n"
     ]
    }
   ],
   "source": [
    "# Look at the mean values for income based on income type\n",
    "print(new_df.groupby('income_type')['total_income'].mean())\n"
   ]
  },
  {
   "cell_type": "code",
   "execution_count": 51,
   "metadata": {},
   "outputs": [
    {
     "name": "stdout",
     "output_type": "stream",
     "text": [
      "income_type\n",
      "business                       27594.6410\n",
      "civil servant                  24076.1150\n",
      "employee                       22815.1035\n",
      "entrepreneur                   79866.1030\n",
      "paternity / maternity leave     8612.6610\n",
      "retiree                        18959.6260\n",
      "student                        15712.2600\n",
      "unemployed                     21014.3605\n",
      "Name: total_income, dtype: float64\n"
     ]
    }
   ],
   "source": [
    "# Look at the median values for income based on type\n",
    "print(new_df.groupby('income_type')['total_income'].median())\n"
   ]
  },
  {
   "cell_type": "markdown",
   "metadata": {},
   "source": [
    "Based on the above results, it does appear that all 3 variables of interest--age, education, and income type--do affect the mean and median total income values in a fairly significant manner:\n",
    "\n",
    "1) Age shows an upwards trend in income that peaks in the 40-49 age category and then gradually diminishes with each older age category.\n",
    "\n",
    "2) Education shows that those with college degrees or at least some college education have higher income than those without.\n",
    "\n",
    "3) Income type reveals that those who are currently employed in some capacity (business owners, civil servants, employees, and entrepreneurs) earn more than those who are not (those on paternity/maternity leave, retirees, students, and the unemployed).\n",
    "\n",
    "Although the mean and median values within each variable of interest are different, the trends remain the same. The main difference is that the mean values are pretty consistently higher than the median values which indicates that there may be some high income outliers that are pulling up the mean values in a way that may make it an overestimation of the actual average income. Therefore, the median will be utilized to calculate and fill in the missing values found in the 'total_income' column.\n",
    "\n",
    "Given these results, the median value associated with the combination of the 'age_category', 'education', and 'income_type' variables will be utilized to fill in the missing values in the 'total_income' column."
   ]
  },
  {
   "cell_type": "code",
   "execution_count": 52,
   "metadata": {},
   "outputs": [],
   "source": [
    "# Create a new column containing a list of string values from columns of interest for each row\n",
    "df['filler'] = df[['age_category', 'education', 'income_type', 'total_income', 'days_employed']].values.tolist()\n"
   ]
  },
  {
   "cell_type": "markdown",
   "metadata": {},
   "source": [
    "To start, a new column called 'filler' was created in df that contains a list of string values from the 'age_category', 'education', 'income_type', and 'total_income' columns which are needed as inputs for the function that is written below."
   ]
  },
  {
   "cell_type": "code",
   "execution_count": 53,
   "metadata": {},
   "outputs": [],
   "source": [
    "# Write a function that we will use for filling in missing values\n",
    "def fill_total_income(filler):\n",
    "    if pd.isna(filler[3]):\n",
    "        return new_df[(new_df['age_category'] == filler[0]) & (new_df['education'] == filler[1]) & (new_df['income_type'] == filler[2])]['total_income'].median()\n",
    "    else:\n",
    "        return filler[3]\n"
   ]
  },
  {
   "cell_type": "markdown",
   "metadata": {},
   "source": [
    "The function 'fill_total_income' is designed to take in the 'filler' list and determine which rows in the 'total_income' column are missing. When a missing value is located, it returns the median value of total income associated with the particular combination of the variables of interest to fill in the missing value. However, if no missing value is located, it returns the value found in the column and does not attempt to change it."
   ]
  },
  {
   "cell_type": "code",
   "execution_count": 54,
   "metadata": {},
   "outputs": [
    {
     "name": "stdout",
     "output_type": "stream",
     "text": [
      "age_category  education            income_type  \n",
      "10-19         secondary education  business         16588.2370\n",
      "                                   employee         14934.9010\n",
      "              some college         business         26598.4335\n",
      "                                   civil servant    12125.9860\n",
      "                                   employee         13752.8305\n",
      "                                                       ...    \n",
      "70-79         secondary education  business         24259.6870\n",
      "                                   civil servant    19530.6775\n",
      "                                   employee         24660.9010\n",
      "                                   retiree          17543.2480\n",
      "              some college         retiree          14479.1930\n",
      "Name: total_income, Length: 97, dtype: float64\n"
     ]
    }
   ],
   "source": [
    "# Print the median values of 'total_income' grouped by the variables of interest\n",
    "print(new_df.groupby(['age_category', 'education', 'income_type'])['total_income'].median())\n"
   ]
  },
  {
   "cell_type": "code",
   "execution_count": 55,
   "metadata": {},
   "outputs": [
    {
     "data": {
      "text/plain": [
       "16588.237"
      ]
     },
     "execution_count": 55,
     "metadata": {},
     "output_type": "execute_result"
    }
   ],
   "source": [
    "# Check if the function works based on the results of the grouping above\n",
    "fill_total_income(['10-19', 'secondary education', 'business', float('NaN')])\n"
   ]
  },
  {
   "cell_type": "code",
   "execution_count": 56,
   "metadata": {},
   "outputs": [
    {
     "data": {
      "text/plain": [
       "10"
      ]
     },
     "execution_count": 56,
     "metadata": {},
     "output_type": "execute_result"
    }
   ],
   "source": [
    "# Check if the function works in the case that it encounters a non-missing value in the 'total_income' column\n",
    "fill_total_income(['10-19', 'secondary education', 'business', 10])"
   ]
  },
  {
   "cell_type": "markdown",
   "metadata": {},
   "source": [
    "The 'fill_total_income' function was tested by first printing out the median values of total income based on the combination of the 3 variables of interest. Then, a sample string based on the first row of the groupby output was utilized to check if the function would output the correct value--16588.237. After checking that portion of the function, the case where the function encounters a non-missing value in the 'total_income' column was tested to ensure that it would return the original value, which it did."
   ]
  },
  {
   "cell_type": "code",
   "execution_count": 57,
   "metadata": {},
   "outputs": [
    {
     "data": {
      "text/html": [
       "<div>\n",
       "<style scoped>\n",
       "    .dataframe tbody tr th:only-of-type {\n",
       "        vertical-align: middle;\n",
       "    }\n",
       "\n",
       "    .dataframe tbody tr th {\n",
       "        vertical-align: top;\n",
       "    }\n",
       "\n",
       "    .dataframe thead th {\n",
       "        text-align: right;\n",
       "    }\n",
       "</style>\n",
       "<table border=\"1\" class=\"dataframe\">\n",
       "  <thead>\n",
       "    <tr style=\"text-align: right;\">\n",
       "      <th></th>\n",
       "      <th>children</th>\n",
       "      <th>days_employed</th>\n",
       "      <th>dob_years</th>\n",
       "      <th>education</th>\n",
       "      <th>education_id</th>\n",
       "      <th>family_status</th>\n",
       "      <th>family_status_id</th>\n",
       "      <th>gender</th>\n",
       "      <th>income_type</th>\n",
       "      <th>debt</th>\n",
       "      <th>total_income</th>\n",
       "      <th>purpose</th>\n",
       "      <th>age_category</th>\n",
       "      <th>filler</th>\n",
       "    </tr>\n",
       "  </thead>\n",
       "  <tbody>\n",
       "    <tr>\n",
       "      <td>0</td>\n",
       "      <td>1</td>\n",
       "      <td>-8437.673028</td>\n",
       "      <td>42</td>\n",
       "      <td>bachelor's degree</td>\n",
       "      <td>0</td>\n",
       "      <td>married</td>\n",
       "      <td>0</td>\n",
       "      <td>F</td>\n",
       "      <td>employee</td>\n",
       "      <td>0</td>\n",
       "      <td>40620.102</td>\n",
       "      <td>purchase of the house</td>\n",
       "      <td>40-49</td>\n",
       "      <td>[40-49, bachelor's degree, employee, 40620.102...</td>\n",
       "    </tr>\n",
       "    <tr>\n",
       "      <td>1</td>\n",
       "      <td>1</td>\n",
       "      <td>-4024.803754</td>\n",
       "      <td>36</td>\n",
       "      <td>secondary education</td>\n",
       "      <td>1</td>\n",
       "      <td>married</td>\n",
       "      <td>0</td>\n",
       "      <td>F</td>\n",
       "      <td>employee</td>\n",
       "      <td>0</td>\n",
       "      <td>17932.802</td>\n",
       "      <td>car purchase</td>\n",
       "      <td>30-39</td>\n",
       "      <td>[30-39, secondary education, employee, 17932.8...</td>\n",
       "    </tr>\n",
       "    <tr>\n",
       "      <td>2</td>\n",
       "      <td>0</td>\n",
       "      <td>-5623.422610</td>\n",
       "      <td>33</td>\n",
       "      <td>secondary education</td>\n",
       "      <td>1</td>\n",
       "      <td>married</td>\n",
       "      <td>0</td>\n",
       "      <td>M</td>\n",
       "      <td>employee</td>\n",
       "      <td>0</td>\n",
       "      <td>23341.752</td>\n",
       "      <td>purchase of the house</td>\n",
       "      <td>30-39</td>\n",
       "      <td>[30-39, secondary education, employee, 23341.7...</td>\n",
       "    </tr>\n",
       "    <tr>\n",
       "      <td>3</td>\n",
       "      <td>3</td>\n",
       "      <td>-4124.747207</td>\n",
       "      <td>32</td>\n",
       "      <td>secondary education</td>\n",
       "      <td>1</td>\n",
       "      <td>married</td>\n",
       "      <td>0</td>\n",
       "      <td>M</td>\n",
       "      <td>employee</td>\n",
       "      <td>0</td>\n",
       "      <td>42820.568</td>\n",
       "      <td>supplementary education</td>\n",
       "      <td>30-39</td>\n",
       "      <td>[30-39, secondary education, employee, 42820.5...</td>\n",
       "    </tr>\n",
       "    <tr>\n",
       "      <td>4</td>\n",
       "      <td>0</td>\n",
       "      <td>0.000000</td>\n",
       "      <td>53</td>\n",
       "      <td>secondary education</td>\n",
       "      <td>1</td>\n",
       "      <td>civil partnership</td>\n",
       "      <td>1</td>\n",
       "      <td>F</td>\n",
       "      <td>retiree</td>\n",
       "      <td>0</td>\n",
       "      <td>25378.572</td>\n",
       "      <td>to have a wedding</td>\n",
       "      <td>50-59</td>\n",
       "      <td>[50-59, secondary education, retiree, 25378.57...</td>\n",
       "    </tr>\n",
       "    <tr>\n",
       "      <td>5</td>\n",
       "      <td>0</td>\n",
       "      <td>-926.185831</td>\n",
       "      <td>27</td>\n",
       "      <td>bachelor's degree</td>\n",
       "      <td>0</td>\n",
       "      <td>civil partnership</td>\n",
       "      <td>1</td>\n",
       "      <td>M</td>\n",
       "      <td>business</td>\n",
       "      <td>0</td>\n",
       "      <td>40922.170</td>\n",
       "      <td>purchase of the house</td>\n",
       "      <td>20-29</td>\n",
       "      <td>[20-29, bachelor's degree, business, 40922.17,...</td>\n",
       "    </tr>\n",
       "    <tr>\n",
       "      <td>6</td>\n",
       "      <td>0</td>\n",
       "      <td>-2879.202052</td>\n",
       "      <td>43</td>\n",
       "      <td>bachelor's degree</td>\n",
       "      <td>0</td>\n",
       "      <td>married</td>\n",
       "      <td>0</td>\n",
       "      <td>F</td>\n",
       "      <td>business</td>\n",
       "      <td>0</td>\n",
       "      <td>38484.156</td>\n",
       "      <td>housing transactions</td>\n",
       "      <td>40-49</td>\n",
       "      <td>[40-49, bachelor's degree, business, 38484.156...</td>\n",
       "    </tr>\n",
       "    <tr>\n",
       "      <td>7</td>\n",
       "      <td>0</td>\n",
       "      <td>-152.779569</td>\n",
       "      <td>50</td>\n",
       "      <td>secondary education</td>\n",
       "      <td>1</td>\n",
       "      <td>married</td>\n",
       "      <td>0</td>\n",
       "      <td>M</td>\n",
       "      <td>employee</td>\n",
       "      <td>0</td>\n",
       "      <td>21731.829</td>\n",
       "      <td>education</td>\n",
       "      <td>50-59</td>\n",
       "      <td>[50-59, secondary education, employee, 21731.8...</td>\n",
       "    </tr>\n",
       "    <tr>\n",
       "      <td>8</td>\n",
       "      <td>2</td>\n",
       "      <td>-6929.865299</td>\n",
       "      <td>35</td>\n",
       "      <td>bachelor's degree</td>\n",
       "      <td>0</td>\n",
       "      <td>civil partnership</td>\n",
       "      <td>1</td>\n",
       "      <td>F</td>\n",
       "      <td>employee</td>\n",
       "      <td>0</td>\n",
       "      <td>15337.093</td>\n",
       "      <td>having a wedding</td>\n",
       "      <td>30-39</td>\n",
       "      <td>[30-39, bachelor's degree, employee, 15337.093...</td>\n",
       "    </tr>\n",
       "    <tr>\n",
       "      <td>9</td>\n",
       "      <td>0</td>\n",
       "      <td>-2188.756445</td>\n",
       "      <td>41</td>\n",
       "      <td>secondary education</td>\n",
       "      <td>1</td>\n",
       "      <td>married</td>\n",
       "      <td>0</td>\n",
       "      <td>M</td>\n",
       "      <td>employee</td>\n",
       "      <td>0</td>\n",
       "      <td>23108.150</td>\n",
       "      <td>purchase of the house for my family</td>\n",
       "      <td>40-49</td>\n",
       "      <td>[40-49, secondary education, employee, 23108.1...</td>\n",
       "    </tr>\n",
       "    <tr>\n",
       "      <td>10</td>\n",
       "      <td>2</td>\n",
       "      <td>-4171.483647</td>\n",
       "      <td>36</td>\n",
       "      <td>bachelor's degree</td>\n",
       "      <td>0</td>\n",
       "      <td>married</td>\n",
       "      <td>0</td>\n",
       "      <td>M</td>\n",
       "      <td>business</td>\n",
       "      <td>0</td>\n",
       "      <td>18230.959</td>\n",
       "      <td>buy real estate</td>\n",
       "      <td>30-39</td>\n",
       "      <td>[30-39, bachelor's degree, business, 18230.959...</td>\n",
       "    </tr>\n",
       "    <tr>\n",
       "      <td>11</td>\n",
       "      <td>0</td>\n",
       "      <td>-792.701887</td>\n",
       "      <td>40</td>\n",
       "      <td>secondary education</td>\n",
       "      <td>1</td>\n",
       "      <td>married</td>\n",
       "      <td>0</td>\n",
       "      <td>F</td>\n",
       "      <td>employee</td>\n",
       "      <td>0</td>\n",
       "      <td>12331.077</td>\n",
       "      <td>buy commercial real estate</td>\n",
       "      <td>40-49</td>\n",
       "      <td>[40-49, secondary education, employee, 12331.0...</td>\n",
       "    </tr>\n",
       "    <tr>\n",
       "      <td>12</td>\n",
       "      <td>0</td>\n",
       "      <td>NaN</td>\n",
       "      <td>65</td>\n",
       "      <td>secondary education</td>\n",
       "      <td>1</td>\n",
       "      <td>civil partnership</td>\n",
       "      <td>1</td>\n",
       "      <td>M</td>\n",
       "      <td>retiree</td>\n",
       "      <td>0</td>\n",
       "      <td>17934.836</td>\n",
       "      <td>to have a wedding</td>\n",
       "      <td>60-69</td>\n",
       "      <td>[60-69, secondary education, retiree, nan, nan]</td>\n",
       "    </tr>\n",
       "    <tr>\n",
       "      <td>13</td>\n",
       "      <td>0</td>\n",
       "      <td>-1846.641941</td>\n",
       "      <td>54</td>\n",
       "      <td>some college</td>\n",
       "      <td>2</td>\n",
       "      <td>married</td>\n",
       "      <td>0</td>\n",
       "      <td>F</td>\n",
       "      <td>employee</td>\n",
       "      <td>0</td>\n",
       "      <td>20873.317</td>\n",
       "      <td>car purchase</td>\n",
       "      <td>50-59</td>\n",
       "      <td>[50-59, some college, employee, 20873.317, -18...</td>\n",
       "    </tr>\n",
       "    <tr>\n",
       "      <td>14</td>\n",
       "      <td>0</td>\n",
       "      <td>-1844.956182</td>\n",
       "      <td>56</td>\n",
       "      <td>bachelor's degree</td>\n",
       "      <td>0</td>\n",
       "      <td>civil partnership</td>\n",
       "      <td>1</td>\n",
       "      <td>F</td>\n",
       "      <td>business</td>\n",
       "      <td>1</td>\n",
       "      <td>26420.466</td>\n",
       "      <td>buy residential real estate</td>\n",
       "      <td>50-59</td>\n",
       "      <td>[50-59, bachelor's degree, business, 26420.466...</td>\n",
       "    </tr>\n",
       "  </tbody>\n",
       "</table>\n",
       "</div>"
      ],
      "text/plain": [
       "    children  days_employed  dob_years            education  education_id  \\\n",
       "0          1   -8437.673028         42    bachelor's degree             0   \n",
       "1          1   -4024.803754         36  secondary education             1   \n",
       "2          0   -5623.422610         33  secondary education             1   \n",
       "3          3   -4124.747207         32  secondary education             1   \n",
       "4          0       0.000000         53  secondary education             1   \n",
       "5          0    -926.185831         27    bachelor's degree             0   \n",
       "6          0   -2879.202052         43    bachelor's degree             0   \n",
       "7          0    -152.779569         50  secondary education             1   \n",
       "8          2   -6929.865299         35    bachelor's degree             0   \n",
       "9          0   -2188.756445         41  secondary education             1   \n",
       "10         2   -4171.483647         36    bachelor's degree             0   \n",
       "11         0    -792.701887         40  secondary education             1   \n",
       "12         0            NaN         65  secondary education             1   \n",
       "13         0   -1846.641941         54         some college             2   \n",
       "14         0   -1844.956182         56    bachelor's degree             0   \n",
       "\n",
       "        family_status  family_status_id gender income_type  debt  \\\n",
       "0             married                 0      F    employee     0   \n",
       "1             married                 0      F    employee     0   \n",
       "2             married                 0      M    employee     0   \n",
       "3             married                 0      M    employee     0   \n",
       "4   civil partnership                 1      F     retiree     0   \n",
       "5   civil partnership                 1      M    business     0   \n",
       "6             married                 0      F    business     0   \n",
       "7             married                 0      M    employee     0   \n",
       "8   civil partnership                 1      F    employee     0   \n",
       "9             married                 0      M    employee     0   \n",
       "10            married                 0      M    business     0   \n",
       "11            married                 0      F    employee     0   \n",
       "12  civil partnership                 1      M     retiree     0   \n",
       "13            married                 0      F    employee     0   \n",
       "14  civil partnership                 1      F    business     1   \n",
       "\n",
       "    total_income                              purpose age_category  \\\n",
       "0      40620.102                purchase of the house        40-49   \n",
       "1      17932.802                         car purchase        30-39   \n",
       "2      23341.752                purchase of the house        30-39   \n",
       "3      42820.568              supplementary education        30-39   \n",
       "4      25378.572                    to have a wedding        50-59   \n",
       "5      40922.170                purchase of the house        20-29   \n",
       "6      38484.156                 housing transactions        40-49   \n",
       "7      21731.829                            education        50-59   \n",
       "8      15337.093                     having a wedding        30-39   \n",
       "9      23108.150  purchase of the house for my family        40-49   \n",
       "10     18230.959                      buy real estate        30-39   \n",
       "11     12331.077           buy commercial real estate        40-49   \n",
       "12     17934.836                    to have a wedding        60-69   \n",
       "13     20873.317                         car purchase        50-59   \n",
       "14     26420.466          buy residential real estate        50-59   \n",
       "\n",
       "                                               filler  \n",
       "0   [40-49, bachelor's degree, employee, 40620.102...  \n",
       "1   [30-39, secondary education, employee, 17932.8...  \n",
       "2   [30-39, secondary education, employee, 23341.7...  \n",
       "3   [30-39, secondary education, employee, 42820.5...  \n",
       "4   [50-59, secondary education, retiree, 25378.57...  \n",
       "5   [20-29, bachelor's degree, business, 40922.17,...  \n",
       "6   [40-49, bachelor's degree, business, 38484.156...  \n",
       "7   [50-59, secondary education, employee, 21731.8...  \n",
       "8   [30-39, bachelor's degree, employee, 15337.093...  \n",
       "9   [40-49, secondary education, employee, 23108.1...  \n",
       "10  [30-39, bachelor's degree, business, 18230.959...  \n",
       "11  [40-49, secondary education, employee, 12331.0...  \n",
       "12    [60-69, secondary education, retiree, nan, nan]  \n",
       "13  [50-59, some college, employee, 20873.317, -18...  \n",
       "14  [50-59, bachelor's degree, business, 26420.466...  "
      ]
     },
     "execution_count": 57,
     "metadata": {},
     "output_type": "execute_result"
    }
   ],
   "source": [
    "# Apply the 'fill_total_income' function to every row in 'total_income' and print the first 15 rows\n",
    "df['total_income'] = df['filler'].apply(fill_total_income)\n",
    "df.head(15)\n"
   ]
  },
  {
   "cell_type": "markdown",
   "metadata": {},
   "source": [
    "Since the function appears to be functioning correctly, it was applied to each row in the 'total_income' column of df by taking in each list from the 'filler' column. The first 15 rows of the new list was printed to ensure that the application was successful. Based on row 12 where the value in the 'total_income' column was originally NaN but is now filled with the appropriate median value, we can conclude that the function was successfully applied."
   ]
  },
  {
   "cell_type": "code",
   "execution_count": 58,
   "metadata": {},
   "outputs": [
    {
     "data": {
      "text/plain": [
       "children               0\n",
       "days_employed       2081\n",
       "dob_years              0\n",
       "education              0\n",
       "education_id           0\n",
       "family_status          0\n",
       "family_status_id       0\n",
       "gender                 0\n",
       "income_type            0\n",
       "debt                   0\n",
       "total_income           3\n",
       "purpose                0\n",
       "age_category           0\n",
       "filler                 0\n",
       "dtype: int64"
      ]
     },
     "execution_count": 58,
     "metadata": {},
     "output_type": "execute_result"
    }
   ],
   "source": [
    "# Check if there are any remaining missing values in 'total_income'\n",
    "df.isna().sum()\n"
   ]
  },
  {
   "cell_type": "code",
   "execution_count": 59,
   "metadata": {},
   "outputs": [
    {
     "name": "stdout",
     "output_type": "stream",
     "text": [
      "      children  days_employed  dob_years          education  education_id  \\\n",
      "1288         1            NaN         70  primary education             3   \n",
      "5880         0            NaN         58  bachelor's degree             0   \n",
      "8055         0            NaN         64  primary education             3   \n",
      "\n",
      "          family_status  family_status_id gender    income_type  debt  \\\n",
      "1288  civil partnership                 1      F       employee     0   \n",
      "5880            married                 0      M   entrepreneur     0   \n",
      "8055  civil partnership                 1      F  civil servant     0   \n",
      "\n",
      "      total_income                                   purpose age_category  \\\n",
      "1288           NaN  transactions with commercial real estate        70-79   \n",
      "5880           NaN               buy residential real estate        50-59   \n",
      "8055           NaN                         to have a wedding        60-69   \n",
      "\n",
      "                                                 filler  \n",
      "1288     [70-79, primary education, employee, nan, nan]  \n",
      "5880  [50-59, bachelor's degree, entrepreneur, nan, ...  \n",
      "8055  [60-69, primary education, civil servant, nan,...  \n"
     ]
    }
   ],
   "source": [
    "# Check which specific rows still have a missing value in the 'total_income' column\n",
    "print(df[df['total_income'].isna()])\n"
   ]
  },
  {
   "cell_type": "markdown",
   "metadata": {},
   "source": [
    "However, although the function was successfully applied to df, it appears that there are still 3 missing values in the 'total_income' column remaining, likely because there was not enough data to calculate the median value based on the given parameters. Therefore, it left the value in the column as NaN. "
   ]
  },
  {
   "cell_type": "code",
   "execution_count": 60,
   "metadata": {},
   "outputs": [],
   "source": [
    "# Write another function that we will use for filling in the 3 remaining missing values that doesn't utilize 'income_type'\n",
    "def fill_total_income_2(filler):\n",
    "    if pd.isna(filler[3]):\n",
    "        return new_df[(new_df['age_category'] == filler[0]) & (new_df['education'] == filler[1])]['total_income'].median()\n",
    "    else:\n",
    "        return filler[3]\n",
    "    "
   ]
  },
  {
   "cell_type": "markdown",
   "metadata": {},
   "source": [
    "In order to deal with the 3 remaining missing values, a new function called 'fill_total_income_2' was created. It functions almost identically to the original 'fill_total_income' function except that it does not utilize 'income_type' to calculate the median value, just the values from the 'age_category' and 'education' columns since 'income_type' takes on more potential values which makes it more likely to lead to not having enough data to calculate the median values."
   ]
  },
  {
   "cell_type": "code",
   "execution_count": 61,
   "metadata": {},
   "outputs": [],
   "source": [
    "# Apply the 'fill_total_income_2' function to df to fill in the 3 missing values in 'total_income'\n",
    "df['total_income'] = df['filler'].apply(fill_total_income_2)\n"
   ]
  },
  {
   "cell_type": "markdown",
   "metadata": {},
   "source": [
    "The 'fill_total_income_2' function was applied to the 'total_income' column in df to fill in the remaining missing values."
   ]
  },
  {
   "cell_type": "code",
   "execution_count": 62,
   "metadata": {},
   "outputs": [
    {
     "data": {
      "text/plain": [
       "children               0\n",
       "days_employed       2081\n",
       "dob_years              0\n",
       "education              0\n",
       "education_id           0\n",
       "family_status          0\n",
       "family_status_id       0\n",
       "gender                 0\n",
       "income_type            0\n",
       "debt                   0\n",
       "total_income           0\n",
       "purpose                0\n",
       "age_category           0\n",
       "filler                 0\n",
       "dtype: int64"
      ]
     },
     "execution_count": 62,
     "metadata": {},
     "output_type": "execute_result"
    }
   ],
   "source": [
    "# Check the number of missing values remaining in the 'total_income' column\n",
    "df.isna().sum()\n"
   ]
  },
  {
   "cell_type": "markdown",
   "metadata": {},
   "source": [
    "Finally, df was checked for missing values after applying the function, revealing that none remain. We can therefore conclude that all the missing values in the 'total_income' column were successfully dealt with, allowing us to proceed in the analysis."
   ]
  },
  {
   "cell_type": "markdown",
   "metadata": {},
   "source": [
    "###  Restoring values in `days_employed`"
   ]
  },
  {
   "cell_type": "markdown",
   "metadata": {},
   "source": [
    "Now, the only column with missing values that still need to be addressed is the 'days_employed' column in df. In this section, the missing values in the 'days_employed' column will be fixed by examining the relationship between days of employment and the same variables of relevance employed in restoring the missing values in the 'total_income' column--age, education, and income type. Then the median or mean values of 'days_employed' calculated from the non-missing data based on these variables of relevance which can then be used to fill in the missing values in rows with similar characteristics."
   ]
  },
  {
   "cell_type": "markdown",
   "metadata": {},
   "source": [
    "First, there is a need to examine how age, education, and income type are related to the number of days employed to determine whether mean or median values should be used to replace the missing values in the 'days_employed' column and which variables should ultimately be considered to make that calculation."
   ]
  },
  {
   "cell_type": "code",
   "execution_count": 63,
   "metadata": {},
   "outputs": [
    {
     "data": {
      "text/html": [
       "<div>\n",
       "<style scoped>\n",
       "    .dataframe tbody tr th:only-of-type {\n",
       "        vertical-align: middle;\n",
       "    }\n",
       "\n",
       "    .dataframe tbody tr th {\n",
       "        vertical-align: top;\n",
       "    }\n",
       "\n",
       "    .dataframe thead th {\n",
       "        text-align: right;\n",
       "    }\n",
       "</style>\n",
       "<table border=\"1\" class=\"dataframe\">\n",
       "  <thead>\n",
       "    <tr style=\"text-align: right;\">\n",
       "      <th></th>\n",
       "      <th>children</th>\n",
       "      <th>days_employed</th>\n",
       "      <th>dob_years</th>\n",
       "      <th>education</th>\n",
       "      <th>education_id</th>\n",
       "      <th>family_status</th>\n",
       "      <th>family_status_id</th>\n",
       "      <th>gender</th>\n",
       "      <th>income_type</th>\n",
       "      <th>debt</th>\n",
       "      <th>total_income</th>\n",
       "      <th>purpose</th>\n",
       "      <th>age_category</th>\n",
       "      <th>filler</th>\n",
       "    </tr>\n",
       "  </thead>\n",
       "  <tbody>\n",
       "    <tr>\n",
       "      <td>0</td>\n",
       "      <td>1</td>\n",
       "      <td>8437.673028</td>\n",
       "      <td>42</td>\n",
       "      <td>bachelor's degree</td>\n",
       "      <td>0</td>\n",
       "      <td>married</td>\n",
       "      <td>0</td>\n",
       "      <td>F</td>\n",
       "      <td>employee</td>\n",
       "      <td>0</td>\n",
       "      <td>40620.102</td>\n",
       "      <td>purchase of the house</td>\n",
       "      <td>40-49</td>\n",
       "      <td>[40-49, bachelor's degree, employee, 40620.102...</td>\n",
       "    </tr>\n",
       "    <tr>\n",
       "      <td>1</td>\n",
       "      <td>1</td>\n",
       "      <td>4024.803754</td>\n",
       "      <td>36</td>\n",
       "      <td>secondary education</td>\n",
       "      <td>1</td>\n",
       "      <td>married</td>\n",
       "      <td>0</td>\n",
       "      <td>F</td>\n",
       "      <td>employee</td>\n",
       "      <td>0</td>\n",
       "      <td>17932.802</td>\n",
       "      <td>car purchase</td>\n",
       "      <td>30-39</td>\n",
       "      <td>[30-39, secondary education, employee, 17932.8...</td>\n",
       "    </tr>\n",
       "    <tr>\n",
       "      <td>2</td>\n",
       "      <td>0</td>\n",
       "      <td>5623.422610</td>\n",
       "      <td>33</td>\n",
       "      <td>secondary education</td>\n",
       "      <td>1</td>\n",
       "      <td>married</td>\n",
       "      <td>0</td>\n",
       "      <td>M</td>\n",
       "      <td>employee</td>\n",
       "      <td>0</td>\n",
       "      <td>23341.752</td>\n",
       "      <td>purchase of the house</td>\n",
       "      <td>30-39</td>\n",
       "      <td>[30-39, secondary education, employee, 23341.7...</td>\n",
       "    </tr>\n",
       "    <tr>\n",
       "      <td>3</td>\n",
       "      <td>3</td>\n",
       "      <td>4124.747207</td>\n",
       "      <td>32</td>\n",
       "      <td>secondary education</td>\n",
       "      <td>1</td>\n",
       "      <td>married</td>\n",
       "      <td>0</td>\n",
       "      <td>M</td>\n",
       "      <td>employee</td>\n",
       "      <td>0</td>\n",
       "      <td>42820.568</td>\n",
       "      <td>supplementary education</td>\n",
       "      <td>30-39</td>\n",
       "      <td>[30-39, secondary education, employee, 42820.5...</td>\n",
       "    </tr>\n",
       "    <tr>\n",
       "      <td>4</td>\n",
       "      <td>0</td>\n",
       "      <td>0.000000</td>\n",
       "      <td>53</td>\n",
       "      <td>secondary education</td>\n",
       "      <td>1</td>\n",
       "      <td>civil partnership</td>\n",
       "      <td>1</td>\n",
       "      <td>F</td>\n",
       "      <td>retiree</td>\n",
       "      <td>0</td>\n",
       "      <td>25378.572</td>\n",
       "      <td>to have a wedding</td>\n",
       "      <td>50-59</td>\n",
       "      <td>[50-59, secondary education, retiree, 25378.57...</td>\n",
       "    </tr>\n",
       "    <tr>\n",
       "      <td>5</td>\n",
       "      <td>0</td>\n",
       "      <td>926.185831</td>\n",
       "      <td>27</td>\n",
       "      <td>bachelor's degree</td>\n",
       "      <td>0</td>\n",
       "      <td>civil partnership</td>\n",
       "      <td>1</td>\n",
       "      <td>M</td>\n",
       "      <td>business</td>\n",
       "      <td>0</td>\n",
       "      <td>40922.170</td>\n",
       "      <td>purchase of the house</td>\n",
       "      <td>20-29</td>\n",
       "      <td>[20-29, bachelor's degree, business, 40922.17,...</td>\n",
       "    </tr>\n",
       "    <tr>\n",
       "      <td>6</td>\n",
       "      <td>0</td>\n",
       "      <td>2879.202052</td>\n",
       "      <td>43</td>\n",
       "      <td>bachelor's degree</td>\n",
       "      <td>0</td>\n",
       "      <td>married</td>\n",
       "      <td>0</td>\n",
       "      <td>F</td>\n",
       "      <td>business</td>\n",
       "      <td>0</td>\n",
       "      <td>38484.156</td>\n",
       "      <td>housing transactions</td>\n",
       "      <td>40-49</td>\n",
       "      <td>[40-49, bachelor's degree, business, 38484.156...</td>\n",
       "    </tr>\n",
       "    <tr>\n",
       "      <td>7</td>\n",
       "      <td>0</td>\n",
       "      <td>152.779569</td>\n",
       "      <td>50</td>\n",
       "      <td>secondary education</td>\n",
       "      <td>1</td>\n",
       "      <td>married</td>\n",
       "      <td>0</td>\n",
       "      <td>M</td>\n",
       "      <td>employee</td>\n",
       "      <td>0</td>\n",
       "      <td>21731.829</td>\n",
       "      <td>education</td>\n",
       "      <td>50-59</td>\n",
       "      <td>[50-59, secondary education, employee, 21731.8...</td>\n",
       "    </tr>\n",
       "    <tr>\n",
       "      <td>8</td>\n",
       "      <td>2</td>\n",
       "      <td>6929.865299</td>\n",
       "      <td>35</td>\n",
       "      <td>bachelor's degree</td>\n",
       "      <td>0</td>\n",
       "      <td>civil partnership</td>\n",
       "      <td>1</td>\n",
       "      <td>F</td>\n",
       "      <td>employee</td>\n",
       "      <td>0</td>\n",
       "      <td>15337.093</td>\n",
       "      <td>having a wedding</td>\n",
       "      <td>30-39</td>\n",
       "      <td>[30-39, bachelor's degree, employee, 15337.093...</td>\n",
       "    </tr>\n",
       "    <tr>\n",
       "      <td>9</td>\n",
       "      <td>0</td>\n",
       "      <td>2188.756445</td>\n",
       "      <td>41</td>\n",
       "      <td>secondary education</td>\n",
       "      <td>1</td>\n",
       "      <td>married</td>\n",
       "      <td>0</td>\n",
       "      <td>M</td>\n",
       "      <td>employee</td>\n",
       "      <td>0</td>\n",
       "      <td>23108.150</td>\n",
       "      <td>purchase of the house for my family</td>\n",
       "      <td>40-49</td>\n",
       "      <td>[40-49, secondary education, employee, 23108.1...</td>\n",
       "    </tr>\n",
       "    <tr>\n",
       "      <td>10</td>\n",
       "      <td>2</td>\n",
       "      <td>4171.483647</td>\n",
       "      <td>36</td>\n",
       "      <td>bachelor's degree</td>\n",
       "      <td>0</td>\n",
       "      <td>married</td>\n",
       "      <td>0</td>\n",
       "      <td>M</td>\n",
       "      <td>business</td>\n",
       "      <td>0</td>\n",
       "      <td>18230.959</td>\n",
       "      <td>buy real estate</td>\n",
       "      <td>30-39</td>\n",
       "      <td>[30-39, bachelor's degree, business, 18230.959...</td>\n",
       "    </tr>\n",
       "    <tr>\n",
       "      <td>11</td>\n",
       "      <td>0</td>\n",
       "      <td>792.701887</td>\n",
       "      <td>40</td>\n",
       "      <td>secondary education</td>\n",
       "      <td>1</td>\n",
       "      <td>married</td>\n",
       "      <td>0</td>\n",
       "      <td>F</td>\n",
       "      <td>employee</td>\n",
       "      <td>0</td>\n",
       "      <td>12331.077</td>\n",
       "      <td>buy commercial real estate</td>\n",
       "      <td>40-49</td>\n",
       "      <td>[40-49, secondary education, employee, 12331.0...</td>\n",
       "    </tr>\n",
       "    <tr>\n",
       "      <td>12</td>\n",
       "      <td>0</td>\n",
       "      <td>NaN</td>\n",
       "      <td>65</td>\n",
       "      <td>secondary education</td>\n",
       "      <td>1</td>\n",
       "      <td>civil partnership</td>\n",
       "      <td>1</td>\n",
       "      <td>M</td>\n",
       "      <td>retiree</td>\n",
       "      <td>0</td>\n",
       "      <td>18873.764</td>\n",
       "      <td>to have a wedding</td>\n",
       "      <td>60-69</td>\n",
       "      <td>[60-69, secondary education, retiree, nan, nan]</td>\n",
       "    </tr>\n",
       "    <tr>\n",
       "      <td>13</td>\n",
       "      <td>0</td>\n",
       "      <td>1846.641941</td>\n",
       "      <td>54</td>\n",
       "      <td>some college</td>\n",
       "      <td>2</td>\n",
       "      <td>married</td>\n",
       "      <td>0</td>\n",
       "      <td>F</td>\n",
       "      <td>employee</td>\n",
       "      <td>0</td>\n",
       "      <td>20873.317</td>\n",
       "      <td>car purchase</td>\n",
       "      <td>50-59</td>\n",
       "      <td>[50-59, some college, employee, 20873.317, -18...</td>\n",
       "    </tr>\n",
       "    <tr>\n",
       "      <td>14</td>\n",
       "      <td>0</td>\n",
       "      <td>1844.956182</td>\n",
       "      <td>56</td>\n",
       "      <td>bachelor's degree</td>\n",
       "      <td>0</td>\n",
       "      <td>civil partnership</td>\n",
       "      <td>1</td>\n",
       "      <td>F</td>\n",
       "      <td>business</td>\n",
       "      <td>1</td>\n",
       "      <td>26420.466</td>\n",
       "      <td>buy residential real estate</td>\n",
       "      <td>50-59</td>\n",
       "      <td>[50-59, bachelor's degree, business, 26420.466...</td>\n",
       "    </tr>\n",
       "  </tbody>\n",
       "</table>\n",
       "</div>"
      ],
      "text/plain": [
       "    children  days_employed  dob_years            education  education_id  \\\n",
       "0          1    8437.673028         42    bachelor's degree             0   \n",
       "1          1    4024.803754         36  secondary education             1   \n",
       "2          0    5623.422610         33  secondary education             1   \n",
       "3          3    4124.747207         32  secondary education             1   \n",
       "4          0       0.000000         53  secondary education             1   \n",
       "5          0     926.185831         27    bachelor's degree             0   \n",
       "6          0    2879.202052         43    bachelor's degree             0   \n",
       "7          0     152.779569         50  secondary education             1   \n",
       "8          2    6929.865299         35    bachelor's degree             0   \n",
       "9          0    2188.756445         41  secondary education             1   \n",
       "10         2    4171.483647         36    bachelor's degree             0   \n",
       "11         0     792.701887         40  secondary education             1   \n",
       "12         0            NaN         65  secondary education             1   \n",
       "13         0    1846.641941         54         some college             2   \n",
       "14         0    1844.956182         56    bachelor's degree             0   \n",
       "\n",
       "        family_status  family_status_id gender income_type  debt  \\\n",
       "0             married                 0      F    employee     0   \n",
       "1             married                 0      F    employee     0   \n",
       "2             married                 0      M    employee     0   \n",
       "3             married                 0      M    employee     0   \n",
       "4   civil partnership                 1      F     retiree     0   \n",
       "5   civil partnership                 1      M    business     0   \n",
       "6             married                 0      F    business     0   \n",
       "7             married                 0      M    employee     0   \n",
       "8   civil partnership                 1      F    employee     0   \n",
       "9             married                 0      M    employee     0   \n",
       "10            married                 0      M    business     0   \n",
       "11            married                 0      F    employee     0   \n",
       "12  civil partnership                 1      M     retiree     0   \n",
       "13            married                 0      F    employee     0   \n",
       "14  civil partnership                 1      F    business     1   \n",
       "\n",
       "    total_income                              purpose age_category  \\\n",
       "0      40620.102                purchase of the house        40-49   \n",
       "1      17932.802                         car purchase        30-39   \n",
       "2      23341.752                purchase of the house        30-39   \n",
       "3      42820.568              supplementary education        30-39   \n",
       "4      25378.572                    to have a wedding        50-59   \n",
       "5      40922.170                purchase of the house        20-29   \n",
       "6      38484.156                 housing transactions        40-49   \n",
       "7      21731.829                            education        50-59   \n",
       "8      15337.093                     having a wedding        30-39   \n",
       "9      23108.150  purchase of the house for my family        40-49   \n",
       "10     18230.959                      buy real estate        30-39   \n",
       "11     12331.077           buy commercial real estate        40-49   \n",
       "12     18873.764                    to have a wedding        60-69   \n",
       "13     20873.317                         car purchase        50-59   \n",
       "14     26420.466          buy residential real estate        50-59   \n",
       "\n",
       "                                               filler  \n",
       "0   [40-49, bachelor's degree, employee, 40620.102...  \n",
       "1   [30-39, secondary education, employee, 17932.8...  \n",
       "2   [30-39, secondary education, employee, 23341.7...  \n",
       "3   [30-39, secondary education, employee, 42820.5...  \n",
       "4   [50-59, secondary education, retiree, 25378.57...  \n",
       "5   [20-29, bachelor's degree, business, 40922.17,...  \n",
       "6   [40-49, bachelor's degree, business, 38484.156...  \n",
       "7   [50-59, secondary education, employee, 21731.8...  \n",
       "8   [30-39, bachelor's degree, employee, 15337.093...  \n",
       "9   [40-49, secondary education, employee, 23108.1...  \n",
       "10  [30-39, bachelor's degree, business, 18230.959...  \n",
       "11  [40-49, secondary education, employee, 12331.0...  \n",
       "12    [60-69, secondary education, retiree, nan, nan]  \n",
       "13  [50-59, some college, employee, 20873.317, -18...  \n",
       "14  [50-59, bachelor's degree, business, 26420.466...  "
      ]
     },
     "execution_count": 63,
     "metadata": {},
     "output_type": "execute_result"
    }
   ],
   "source": [
    "# Change all the negative values in the 'days_employed' column to positive to prevent calculation errors in df\n",
    "df['days_employed'] = df['days_employed'].abs()\n",
    "df.head(15)\n"
   ]
  },
  {
   "cell_type": "code",
   "execution_count": 64,
   "metadata": {},
   "outputs": [
    {
     "data": {
      "text/html": [
       "<div>\n",
       "<style scoped>\n",
       "    .dataframe tbody tr th:only-of-type {\n",
       "        vertical-align: middle;\n",
       "    }\n",
       "\n",
       "    .dataframe tbody tr th {\n",
       "        vertical-align: top;\n",
       "    }\n",
       "\n",
       "    .dataframe thead th {\n",
       "        text-align: right;\n",
       "    }\n",
       "</style>\n",
       "<table border=\"1\" class=\"dataframe\">\n",
       "  <thead>\n",
       "    <tr style=\"text-align: right;\">\n",
       "      <th></th>\n",
       "      <th>children</th>\n",
       "      <th>days_employed</th>\n",
       "      <th>dob_years</th>\n",
       "      <th>education</th>\n",
       "      <th>education_id</th>\n",
       "      <th>family_status</th>\n",
       "      <th>family_status_id</th>\n",
       "      <th>gender</th>\n",
       "      <th>income_type</th>\n",
       "      <th>debt</th>\n",
       "      <th>total_income</th>\n",
       "      <th>purpose</th>\n",
       "      <th>age_category</th>\n",
       "    </tr>\n",
       "  </thead>\n",
       "  <tbody>\n",
       "    <tr>\n",
       "      <td>0</td>\n",
       "      <td>1</td>\n",
       "      <td>8437.673028</td>\n",
       "      <td>42</td>\n",
       "      <td>bachelor's degree</td>\n",
       "      <td>0</td>\n",
       "      <td>married</td>\n",
       "      <td>0</td>\n",
       "      <td>F</td>\n",
       "      <td>employee</td>\n",
       "      <td>0</td>\n",
       "      <td>40620.102</td>\n",
       "      <td>purchase of the house</td>\n",
       "      <td>40-49</td>\n",
       "    </tr>\n",
       "    <tr>\n",
       "      <td>1</td>\n",
       "      <td>1</td>\n",
       "      <td>4024.803754</td>\n",
       "      <td>36</td>\n",
       "      <td>secondary education</td>\n",
       "      <td>1</td>\n",
       "      <td>married</td>\n",
       "      <td>0</td>\n",
       "      <td>F</td>\n",
       "      <td>employee</td>\n",
       "      <td>0</td>\n",
       "      <td>17932.802</td>\n",
       "      <td>car purchase</td>\n",
       "      <td>30-39</td>\n",
       "    </tr>\n",
       "    <tr>\n",
       "      <td>2</td>\n",
       "      <td>0</td>\n",
       "      <td>5623.422610</td>\n",
       "      <td>33</td>\n",
       "      <td>secondary education</td>\n",
       "      <td>1</td>\n",
       "      <td>married</td>\n",
       "      <td>0</td>\n",
       "      <td>M</td>\n",
       "      <td>employee</td>\n",
       "      <td>0</td>\n",
       "      <td>23341.752</td>\n",
       "      <td>purchase of the house</td>\n",
       "      <td>30-39</td>\n",
       "    </tr>\n",
       "    <tr>\n",
       "      <td>3</td>\n",
       "      <td>3</td>\n",
       "      <td>4124.747207</td>\n",
       "      <td>32</td>\n",
       "      <td>secondary education</td>\n",
       "      <td>1</td>\n",
       "      <td>married</td>\n",
       "      <td>0</td>\n",
       "      <td>M</td>\n",
       "      <td>employee</td>\n",
       "      <td>0</td>\n",
       "      <td>42820.568</td>\n",
       "      <td>supplementary education</td>\n",
       "      <td>30-39</td>\n",
       "    </tr>\n",
       "    <tr>\n",
       "      <td>4</td>\n",
       "      <td>0</td>\n",
       "      <td>0.000000</td>\n",
       "      <td>53</td>\n",
       "      <td>secondary education</td>\n",
       "      <td>1</td>\n",
       "      <td>civil partnership</td>\n",
       "      <td>1</td>\n",
       "      <td>F</td>\n",
       "      <td>retiree</td>\n",
       "      <td>0</td>\n",
       "      <td>25378.572</td>\n",
       "      <td>to have a wedding</td>\n",
       "      <td>50-59</td>\n",
       "    </tr>\n",
       "    <tr>\n",
       "      <td>5</td>\n",
       "      <td>0</td>\n",
       "      <td>926.185831</td>\n",
       "      <td>27</td>\n",
       "      <td>bachelor's degree</td>\n",
       "      <td>0</td>\n",
       "      <td>civil partnership</td>\n",
       "      <td>1</td>\n",
       "      <td>M</td>\n",
       "      <td>business</td>\n",
       "      <td>0</td>\n",
       "      <td>40922.170</td>\n",
       "      <td>purchase of the house</td>\n",
       "      <td>20-29</td>\n",
       "    </tr>\n",
       "    <tr>\n",
       "      <td>6</td>\n",
       "      <td>0</td>\n",
       "      <td>2879.202052</td>\n",
       "      <td>43</td>\n",
       "      <td>bachelor's degree</td>\n",
       "      <td>0</td>\n",
       "      <td>married</td>\n",
       "      <td>0</td>\n",
       "      <td>F</td>\n",
       "      <td>business</td>\n",
       "      <td>0</td>\n",
       "      <td>38484.156</td>\n",
       "      <td>housing transactions</td>\n",
       "      <td>40-49</td>\n",
       "    </tr>\n",
       "    <tr>\n",
       "      <td>7</td>\n",
       "      <td>0</td>\n",
       "      <td>152.779569</td>\n",
       "      <td>50</td>\n",
       "      <td>secondary education</td>\n",
       "      <td>1</td>\n",
       "      <td>married</td>\n",
       "      <td>0</td>\n",
       "      <td>M</td>\n",
       "      <td>employee</td>\n",
       "      <td>0</td>\n",
       "      <td>21731.829</td>\n",
       "      <td>education</td>\n",
       "      <td>50-59</td>\n",
       "    </tr>\n",
       "    <tr>\n",
       "      <td>8</td>\n",
       "      <td>2</td>\n",
       "      <td>6929.865299</td>\n",
       "      <td>35</td>\n",
       "      <td>bachelor's degree</td>\n",
       "      <td>0</td>\n",
       "      <td>civil partnership</td>\n",
       "      <td>1</td>\n",
       "      <td>F</td>\n",
       "      <td>employee</td>\n",
       "      <td>0</td>\n",
       "      <td>15337.093</td>\n",
       "      <td>having a wedding</td>\n",
       "      <td>30-39</td>\n",
       "    </tr>\n",
       "    <tr>\n",
       "      <td>9</td>\n",
       "      <td>0</td>\n",
       "      <td>2188.756445</td>\n",
       "      <td>41</td>\n",
       "      <td>secondary education</td>\n",
       "      <td>1</td>\n",
       "      <td>married</td>\n",
       "      <td>0</td>\n",
       "      <td>M</td>\n",
       "      <td>employee</td>\n",
       "      <td>0</td>\n",
       "      <td>23108.150</td>\n",
       "      <td>purchase of the house for my family</td>\n",
       "      <td>40-49</td>\n",
       "    </tr>\n",
       "    <tr>\n",
       "      <td>10</td>\n",
       "      <td>2</td>\n",
       "      <td>4171.483647</td>\n",
       "      <td>36</td>\n",
       "      <td>bachelor's degree</td>\n",
       "      <td>0</td>\n",
       "      <td>married</td>\n",
       "      <td>0</td>\n",
       "      <td>M</td>\n",
       "      <td>business</td>\n",
       "      <td>0</td>\n",
       "      <td>18230.959</td>\n",
       "      <td>buy real estate</td>\n",
       "      <td>30-39</td>\n",
       "    </tr>\n",
       "    <tr>\n",
       "      <td>11</td>\n",
       "      <td>0</td>\n",
       "      <td>792.701887</td>\n",
       "      <td>40</td>\n",
       "      <td>secondary education</td>\n",
       "      <td>1</td>\n",
       "      <td>married</td>\n",
       "      <td>0</td>\n",
       "      <td>F</td>\n",
       "      <td>employee</td>\n",
       "      <td>0</td>\n",
       "      <td>12331.077</td>\n",
       "      <td>buy commercial real estate</td>\n",
       "      <td>40-49</td>\n",
       "    </tr>\n",
       "    <tr>\n",
       "      <td>13</td>\n",
       "      <td>0</td>\n",
       "      <td>1846.641941</td>\n",
       "      <td>54</td>\n",
       "      <td>some college</td>\n",
       "      <td>2</td>\n",
       "      <td>married</td>\n",
       "      <td>0</td>\n",
       "      <td>F</td>\n",
       "      <td>employee</td>\n",
       "      <td>0</td>\n",
       "      <td>20873.317</td>\n",
       "      <td>car purchase</td>\n",
       "      <td>50-59</td>\n",
       "    </tr>\n",
       "    <tr>\n",
       "      <td>14</td>\n",
       "      <td>0</td>\n",
       "      <td>1844.956182</td>\n",
       "      <td>56</td>\n",
       "      <td>bachelor's degree</td>\n",
       "      <td>0</td>\n",
       "      <td>civil partnership</td>\n",
       "      <td>1</td>\n",
       "      <td>F</td>\n",
       "      <td>business</td>\n",
       "      <td>1</td>\n",
       "      <td>26420.466</td>\n",
       "      <td>buy residential real estate</td>\n",
       "      <td>50-59</td>\n",
       "    </tr>\n",
       "    <tr>\n",
       "      <td>15</td>\n",
       "      <td>1</td>\n",
       "      <td>972.364419</td>\n",
       "      <td>26</td>\n",
       "      <td>secondary education</td>\n",
       "      <td>1</td>\n",
       "      <td>married</td>\n",
       "      <td>0</td>\n",
       "      <td>F</td>\n",
       "      <td>employee</td>\n",
       "      <td>0</td>\n",
       "      <td>18691.345</td>\n",
       "      <td>construction of own property</td>\n",
       "      <td>20-29</td>\n",
       "    </tr>\n",
       "  </tbody>\n",
       "</table>\n",
       "</div>"
      ],
      "text/plain": [
       "    children  days_employed  dob_years            education  education_id  \\\n",
       "0          1    8437.673028         42    bachelor's degree             0   \n",
       "1          1    4024.803754         36  secondary education             1   \n",
       "2          0    5623.422610         33  secondary education             1   \n",
       "3          3    4124.747207         32  secondary education             1   \n",
       "4          0       0.000000         53  secondary education             1   \n",
       "5          0     926.185831         27    bachelor's degree             0   \n",
       "6          0    2879.202052         43    bachelor's degree             0   \n",
       "7          0     152.779569         50  secondary education             1   \n",
       "8          2    6929.865299         35    bachelor's degree             0   \n",
       "9          0    2188.756445         41  secondary education             1   \n",
       "10         2    4171.483647         36    bachelor's degree             0   \n",
       "11         0     792.701887         40  secondary education             1   \n",
       "13         0    1846.641941         54         some college             2   \n",
       "14         0    1844.956182         56    bachelor's degree             0   \n",
       "15         1     972.364419         26  secondary education             1   \n",
       "\n",
       "        family_status  family_status_id gender income_type  debt  \\\n",
       "0             married                 0      F    employee     0   \n",
       "1             married                 0      F    employee     0   \n",
       "2             married                 0      M    employee     0   \n",
       "3             married                 0      M    employee     0   \n",
       "4   civil partnership                 1      F     retiree     0   \n",
       "5   civil partnership                 1      M    business     0   \n",
       "6             married                 0      F    business     0   \n",
       "7             married                 0      M    employee     0   \n",
       "8   civil partnership                 1      F    employee     0   \n",
       "9             married                 0      M    employee     0   \n",
       "10            married                 0      M    business     0   \n",
       "11            married                 0      F    employee     0   \n",
       "13            married                 0      F    employee     0   \n",
       "14  civil partnership                 1      F    business     1   \n",
       "15            married                 0      F    employee     0   \n",
       "\n",
       "    total_income                              purpose age_category  \n",
       "0      40620.102                purchase of the house        40-49  \n",
       "1      17932.802                         car purchase        30-39  \n",
       "2      23341.752                purchase of the house        30-39  \n",
       "3      42820.568              supplementary education        30-39  \n",
       "4      25378.572                    to have a wedding        50-59  \n",
       "5      40922.170                purchase of the house        20-29  \n",
       "6      38484.156                 housing transactions        40-49  \n",
       "7      21731.829                            education        50-59  \n",
       "8      15337.093                     having a wedding        30-39  \n",
       "9      23108.150  purchase of the house for my family        40-49  \n",
       "10     18230.959                      buy real estate        30-39  \n",
       "11     12331.077           buy commercial real estate        40-49  \n",
       "13     20873.317                         car purchase        50-59  \n",
       "14     26420.466          buy residential real estate        50-59  \n",
       "15     18691.345         construction of own property        20-29  "
      ]
     },
     "execution_count": 64,
     "metadata": {},
     "output_type": "execute_result"
    }
   ],
   "source": [
    "# Change all the negative values in the 'days_employed' column to positive to prevent calculation errors in new_df\n",
    "new_df['days_employed'] = new_df.loc[:, 'days_employed'].abs()\n",
    "new_df.head(15)\n"
   ]
  },
  {
   "cell_type": "markdown",
   "metadata": {},
   "source": [
    "Prior to proceeding to examine the relationship between 'days_employed' and the variables of interest, the negative values in the 'days_employed' column were changed to positive values in df and new_df to prevent calculation errors in the remainder of the analysis."
   ]
  },
  {
   "cell_type": "code",
   "execution_count": 65,
   "metadata": {
    "pycharm": {
     "name": "#%%\n"
    }
   },
   "outputs": [
    {
     "name": "stdout",
     "output_type": "stream",
     "text": [
      "age_category\n",
      "10-19     633.678086\n",
      "20-29    1208.812282\n",
      "30-39    2014.334698\n",
      "40-49    2662.529357\n",
      "50-59    2092.263603\n",
      "60-69     862.366723\n",
      "70-79     528.351115\n",
      "Name: days_employed, dtype: float64\n"
     ]
    }
   ],
   "source": [
    "# Distribution of 'days_employed' means based on the 'age_category' column\n",
    "print(new_df.groupby('age_category')['days_employed'].mean())\n"
   ]
  },
  {
   "cell_type": "code",
   "execution_count": 66,
   "metadata": {
    "pycharm": {
     "name": "#%%\n"
    }
   },
   "outputs": [
    {
     "name": "stdout",
     "output_type": "stream",
     "text": [
      "age_category\n",
      "10-19     724.492610\n",
      "20-29     998.961907\n",
      "30-39    1580.160806\n",
      "40-49    1946.616479\n",
      "50-59     879.731714\n",
      "60-69       0.000000\n",
      "70-79       0.000000\n",
      "Name: days_employed, dtype: float64\n"
     ]
    }
   ],
   "source": [
    "# Distribution of 'days_employed' medians based on the 'age_category' column\n",
    "print(new_df.groupby('age_category')['days_employed'].median())\n"
   ]
  },
  {
   "cell_type": "code",
   "execution_count": 67,
   "metadata": {
    "pycharm": {
     "name": "#%%\n"
    }
   },
   "outputs": [
    {
     "name": "stdout",
     "output_type": "stream",
     "text": [
      "education\n",
      "bachelor's degree      2026.919285\n",
      "graduate degree        2346.791024\n",
      "primary education      1249.168800\n",
      "secondary education    1938.468647\n",
      "some college           1476.702678\n",
      "Name: days_employed, dtype: float64\n"
     ]
    }
   ],
   "source": [
    "# Distribution of 'days_employed' means based on the 'education' column\n",
    "print(new_df.groupby('education')['days_employed'].mean())\n"
   ]
  },
  {
   "cell_type": "code",
   "execution_count": 68,
   "metadata": {
    "pycharm": {
     "name": "#%%\n"
    }
   },
   "outputs": [
    {
     "name": "stdout",
     "output_type": "stream",
     "text": [
      "education\n",
      "bachelor's degree      1342.118520\n",
      "graduate degree        1380.316041\n",
      "primary education       551.062561\n",
      "secondary education    1186.705918\n",
      "some college           1048.028924\n",
      "Name: days_employed, dtype: float64\n"
     ]
    }
   ],
   "source": [
    "# Distribution of 'days_employed' medians based on the 'education' column\n",
    "print(new_df.groupby('education')['days_employed'].median())\n"
   ]
  },
  {
   "cell_type": "code",
   "execution_count": 69,
   "metadata": {
    "pycharm": {
     "name": "#%%\n"
    }
   },
   "outputs": [
    {
     "name": "stdout",
     "output_type": "stream",
     "text": [
      "income_type\n",
      "business                       2119.512866\n",
      "civil servant                  3392.119263\n",
      "employee                       2325.740892\n",
      "entrepreneur                    520.848083\n",
      "paternity / maternity leave    3296.759962\n",
      "retiree                           0.000000\n",
      "student                         578.751554\n",
      "unemployed                        0.000000\n",
      "Name: days_employed, dtype: float64\n"
     ]
    }
   ],
   "source": [
    "# Distribution of 'days_employed' means based on the 'income_type' column\n",
    "print(new_df.groupby('income_type')['days_employed'].mean())\n"
   ]
  },
  {
   "cell_type": "code",
   "execution_count": 70,
   "metadata": {
    "pycharm": {
     "name": "#%%\n"
    }
   },
   "outputs": [
    {
     "name": "stdout",
     "output_type": "stream",
     "text": [
      "income_type\n",
      "business                       1555.993659\n",
      "civil servant                  2672.903939\n",
      "employee                       1573.791064\n",
      "entrepreneur                    520.848083\n",
      "paternity / maternity leave    3296.759962\n",
      "retiree                           0.000000\n",
      "student                         578.751554\n",
      "unemployed                        0.000000\n",
      "Name: days_employed, dtype: float64\n"
     ]
    }
   ],
   "source": [
    "# Distribution of 'days_employed' means based on the 'income_type' column\n",
    "print(new_df.groupby('income_type')['days_employed'].median())\n"
   ]
  },
  {
   "cell_type": "markdown",
   "metadata": {},
   "source": [
    "Based on the above results, it does appear that all 3 variables of interest--age, education, and income type--do affect the mean and median days employed values in a fairly significant manner:\n",
    "\n",
    "1) Age shows an upwards trend in number of days employed that peaks in the 40-49 age category and then diminishes with each older age category.\n",
    "\n",
    "2) Education shows slightly different trends based on mean versus median. The mean days employed values tend to be highest among college graduates and those with up to secondary education. Those with some college education and primary education had the lowest mean days employed values. However, the median days employed values for all the education categories were relatively similar for all but primary education which was significantly lower.\n",
    "\n",
    "3) Income type showed greater variety between the various categories with similar trends among business owners, civil servants, and employees for the mean and median values of days employed and the exact same values for the remaining categories.\n",
    "\n",
    "In the cases where the mean and median values seem to differ greatly, it appears that there may be some significant outliers that are causing the days employed values to be higher and are thus potentially overestimating the actual value. Therefore, it seems most appropriate to use the median values.\n",
    "\n",
    "In conclusion, the median value associated with the combination of the 'age_category', 'education', and 'income_type' variables will be utilized to fill in the missing values in the 'days_employed' column."
   ]
  },
  {
   "cell_type": "code",
   "execution_count": 71,
   "metadata": {},
   "outputs": [],
   "source": [
    "# Write a function that we will use for filling in missing values with medians calculated based on the variables of interest\n",
    "def fill_days_employed(filler):\n",
    "    if pd.isna(filler[4]):\n",
    "        return new_df[(new_df['age_category'] == filler[0]) & (new_df['education'] == filler[1]) & (new_df['income_type'] == filler[2])]['days_employed'].median()\n",
    "    else:\n",
    "        return filler[4]\n"
   ]
  },
  {
   "cell_type": "markdown",
   "metadata": {},
   "source": [
    "The function 'fill_days_employed' is designed to take in the 'filler' list and determine which rows in the 'days_employed' column are missing. When a missing value is located, it returns the median value of days employed associated with the particular combination of the variables of interest to fill in the missing value. However, if no missing value is located, it returns the value found in the column and does not attempt to change it."
   ]
  },
  {
   "cell_type": "code",
   "execution_count": 72,
   "metadata": {},
   "outputs": [
    {
     "name": "stdout",
     "output_type": "stream",
     "text": [
      "age_category  education            income_type  \n",
      "10-19         secondary education  business          322.024011\n",
      "                                   employee          793.358581\n",
      "              some college         business          822.097347\n",
      "                                   civil servant     509.969922\n",
      "                                   employee          841.126105\n",
      "                                                       ...     \n",
      "70-79         secondary education  business         2598.981129\n",
      "                                   civil servant    1204.922098\n",
      "                                   employee         1504.924191\n",
      "                                   retiree             0.000000\n",
      "              some college         retiree             0.000000\n",
      "Name: days_employed, Length: 97, dtype: float64\n"
     ]
    }
   ],
   "source": [
    "# Print the median values of 'days_employed' grouped by the variables of interest\n",
    "print(new_df.groupby(['age_category', 'education', 'income_type'])['days_employed'].median())\n"
   ]
  },
  {
   "cell_type": "code",
   "execution_count": 73,
   "metadata": {},
   "outputs": [
    {
     "data": {
      "text/plain": [
       "322.0240107163265"
      ]
     },
     "execution_count": 73,
     "metadata": {},
     "output_type": "execute_result"
    }
   ],
   "source": [
    "# Check if the function works based on the results of the grouping above\n",
    "fill_days_employed(['10-19', 'secondary education', 'business', 0, float('NaN')])\n"
   ]
  },
  {
   "cell_type": "code",
   "execution_count": 74,
   "metadata": {},
   "outputs": [
    {
     "data": {
      "text/plain": [
       "10"
      ]
     },
     "execution_count": 74,
     "metadata": {},
     "output_type": "execute_result"
    }
   ],
   "source": [
    "# Check if the function works in the case that it encounters a non-missing value in the 'days_employed' column\n",
    "fill_days_employed(['10-19', 'secondary education', 'business', 0, 10])"
   ]
  },
  {
   "cell_type": "markdown",
   "metadata": {},
   "source": [
    "The 'fill_days_employed' function was tested by first printing out the median values of days employed based on the combination of the 3 variables of interest. Then, a sample string based on the first row of the groupby output was utilized to check if the function would output the correct value--322.024011. After checking that portion of the function, the case where the function encounters a non-missing value in the 'days_employed' column was tested to ensure that it would return the original value, which it did."
   ]
  },
  {
   "cell_type": "code",
   "execution_count": 75,
   "metadata": {},
   "outputs": [
    {
     "data": {
      "text/html": [
       "<div>\n",
       "<style scoped>\n",
       "    .dataframe tbody tr th:only-of-type {\n",
       "        vertical-align: middle;\n",
       "    }\n",
       "\n",
       "    .dataframe tbody tr th {\n",
       "        vertical-align: top;\n",
       "    }\n",
       "\n",
       "    .dataframe thead th {\n",
       "        text-align: right;\n",
       "    }\n",
       "</style>\n",
       "<table border=\"1\" class=\"dataframe\">\n",
       "  <thead>\n",
       "    <tr style=\"text-align: right;\">\n",
       "      <th></th>\n",
       "      <th>children</th>\n",
       "      <th>days_employed</th>\n",
       "      <th>dob_years</th>\n",
       "      <th>education</th>\n",
       "      <th>education_id</th>\n",
       "      <th>family_status</th>\n",
       "      <th>family_status_id</th>\n",
       "      <th>gender</th>\n",
       "      <th>income_type</th>\n",
       "      <th>debt</th>\n",
       "      <th>total_income</th>\n",
       "      <th>purpose</th>\n",
       "      <th>age_category</th>\n",
       "      <th>filler</th>\n",
       "    </tr>\n",
       "  </thead>\n",
       "  <tbody>\n",
       "    <tr>\n",
       "      <td>0</td>\n",
       "      <td>1</td>\n",
       "      <td>-8437.673028</td>\n",
       "      <td>42</td>\n",
       "      <td>bachelor's degree</td>\n",
       "      <td>0</td>\n",
       "      <td>married</td>\n",
       "      <td>0</td>\n",
       "      <td>F</td>\n",
       "      <td>employee</td>\n",
       "      <td>0</td>\n",
       "      <td>40620.102</td>\n",
       "      <td>purchase of the house</td>\n",
       "      <td>40-49</td>\n",
       "      <td>[40-49, bachelor's degree, employee, 40620.102...</td>\n",
       "    </tr>\n",
       "    <tr>\n",
       "      <td>1</td>\n",
       "      <td>1</td>\n",
       "      <td>-4024.803754</td>\n",
       "      <td>36</td>\n",
       "      <td>secondary education</td>\n",
       "      <td>1</td>\n",
       "      <td>married</td>\n",
       "      <td>0</td>\n",
       "      <td>F</td>\n",
       "      <td>employee</td>\n",
       "      <td>0</td>\n",
       "      <td>17932.802</td>\n",
       "      <td>car purchase</td>\n",
       "      <td>30-39</td>\n",
       "      <td>[30-39, secondary education, employee, 17932.8...</td>\n",
       "    </tr>\n",
       "    <tr>\n",
       "      <td>2</td>\n",
       "      <td>0</td>\n",
       "      <td>-5623.422610</td>\n",
       "      <td>33</td>\n",
       "      <td>secondary education</td>\n",
       "      <td>1</td>\n",
       "      <td>married</td>\n",
       "      <td>0</td>\n",
       "      <td>M</td>\n",
       "      <td>employee</td>\n",
       "      <td>0</td>\n",
       "      <td>23341.752</td>\n",
       "      <td>purchase of the house</td>\n",
       "      <td>30-39</td>\n",
       "      <td>[30-39, secondary education, employee, 23341.7...</td>\n",
       "    </tr>\n",
       "    <tr>\n",
       "      <td>3</td>\n",
       "      <td>3</td>\n",
       "      <td>-4124.747207</td>\n",
       "      <td>32</td>\n",
       "      <td>secondary education</td>\n",
       "      <td>1</td>\n",
       "      <td>married</td>\n",
       "      <td>0</td>\n",
       "      <td>M</td>\n",
       "      <td>employee</td>\n",
       "      <td>0</td>\n",
       "      <td>42820.568</td>\n",
       "      <td>supplementary education</td>\n",
       "      <td>30-39</td>\n",
       "      <td>[30-39, secondary education, employee, 42820.5...</td>\n",
       "    </tr>\n",
       "    <tr>\n",
       "      <td>4</td>\n",
       "      <td>0</td>\n",
       "      <td>0.000000</td>\n",
       "      <td>53</td>\n",
       "      <td>secondary education</td>\n",
       "      <td>1</td>\n",
       "      <td>civil partnership</td>\n",
       "      <td>1</td>\n",
       "      <td>F</td>\n",
       "      <td>retiree</td>\n",
       "      <td>0</td>\n",
       "      <td>25378.572</td>\n",
       "      <td>to have a wedding</td>\n",
       "      <td>50-59</td>\n",
       "      <td>[50-59, secondary education, retiree, 25378.57...</td>\n",
       "    </tr>\n",
       "    <tr>\n",
       "      <td>5</td>\n",
       "      <td>0</td>\n",
       "      <td>-926.185831</td>\n",
       "      <td>27</td>\n",
       "      <td>bachelor's degree</td>\n",
       "      <td>0</td>\n",
       "      <td>civil partnership</td>\n",
       "      <td>1</td>\n",
       "      <td>M</td>\n",
       "      <td>business</td>\n",
       "      <td>0</td>\n",
       "      <td>40922.170</td>\n",
       "      <td>purchase of the house</td>\n",
       "      <td>20-29</td>\n",
       "      <td>[20-29, bachelor's degree, business, 40922.17,...</td>\n",
       "    </tr>\n",
       "    <tr>\n",
       "      <td>6</td>\n",
       "      <td>0</td>\n",
       "      <td>-2879.202052</td>\n",
       "      <td>43</td>\n",
       "      <td>bachelor's degree</td>\n",
       "      <td>0</td>\n",
       "      <td>married</td>\n",
       "      <td>0</td>\n",
       "      <td>F</td>\n",
       "      <td>business</td>\n",
       "      <td>0</td>\n",
       "      <td>38484.156</td>\n",
       "      <td>housing transactions</td>\n",
       "      <td>40-49</td>\n",
       "      <td>[40-49, bachelor's degree, business, 38484.156...</td>\n",
       "    </tr>\n",
       "    <tr>\n",
       "      <td>7</td>\n",
       "      <td>0</td>\n",
       "      <td>-152.779569</td>\n",
       "      <td>50</td>\n",
       "      <td>secondary education</td>\n",
       "      <td>1</td>\n",
       "      <td>married</td>\n",
       "      <td>0</td>\n",
       "      <td>M</td>\n",
       "      <td>employee</td>\n",
       "      <td>0</td>\n",
       "      <td>21731.829</td>\n",
       "      <td>education</td>\n",
       "      <td>50-59</td>\n",
       "      <td>[50-59, secondary education, employee, 21731.8...</td>\n",
       "    </tr>\n",
       "    <tr>\n",
       "      <td>8</td>\n",
       "      <td>2</td>\n",
       "      <td>-6929.865299</td>\n",
       "      <td>35</td>\n",
       "      <td>bachelor's degree</td>\n",
       "      <td>0</td>\n",
       "      <td>civil partnership</td>\n",
       "      <td>1</td>\n",
       "      <td>F</td>\n",
       "      <td>employee</td>\n",
       "      <td>0</td>\n",
       "      <td>15337.093</td>\n",
       "      <td>having a wedding</td>\n",
       "      <td>30-39</td>\n",
       "      <td>[30-39, bachelor's degree, employee, 15337.093...</td>\n",
       "    </tr>\n",
       "    <tr>\n",
       "      <td>9</td>\n",
       "      <td>0</td>\n",
       "      <td>-2188.756445</td>\n",
       "      <td>41</td>\n",
       "      <td>secondary education</td>\n",
       "      <td>1</td>\n",
       "      <td>married</td>\n",
       "      <td>0</td>\n",
       "      <td>M</td>\n",
       "      <td>employee</td>\n",
       "      <td>0</td>\n",
       "      <td>23108.150</td>\n",
       "      <td>purchase of the house for my family</td>\n",
       "      <td>40-49</td>\n",
       "      <td>[40-49, secondary education, employee, 23108.1...</td>\n",
       "    </tr>\n",
       "    <tr>\n",
       "      <td>10</td>\n",
       "      <td>2</td>\n",
       "      <td>-4171.483647</td>\n",
       "      <td>36</td>\n",
       "      <td>bachelor's degree</td>\n",
       "      <td>0</td>\n",
       "      <td>married</td>\n",
       "      <td>0</td>\n",
       "      <td>M</td>\n",
       "      <td>business</td>\n",
       "      <td>0</td>\n",
       "      <td>18230.959</td>\n",
       "      <td>buy real estate</td>\n",
       "      <td>30-39</td>\n",
       "      <td>[30-39, bachelor's degree, business, 18230.959...</td>\n",
       "    </tr>\n",
       "    <tr>\n",
       "      <td>11</td>\n",
       "      <td>0</td>\n",
       "      <td>-792.701887</td>\n",
       "      <td>40</td>\n",
       "      <td>secondary education</td>\n",
       "      <td>1</td>\n",
       "      <td>married</td>\n",
       "      <td>0</td>\n",
       "      <td>F</td>\n",
       "      <td>employee</td>\n",
       "      <td>0</td>\n",
       "      <td>12331.077</td>\n",
       "      <td>buy commercial real estate</td>\n",
       "      <td>40-49</td>\n",
       "      <td>[40-49, secondary education, employee, 12331.0...</td>\n",
       "    </tr>\n",
       "    <tr>\n",
       "      <td>12</td>\n",
       "      <td>0</td>\n",
       "      <td>0.000000</td>\n",
       "      <td>65</td>\n",
       "      <td>secondary education</td>\n",
       "      <td>1</td>\n",
       "      <td>civil partnership</td>\n",
       "      <td>1</td>\n",
       "      <td>M</td>\n",
       "      <td>retiree</td>\n",
       "      <td>0</td>\n",
       "      <td>18873.764</td>\n",
       "      <td>to have a wedding</td>\n",
       "      <td>60-69</td>\n",
       "      <td>[60-69, secondary education, retiree, nan, nan]</td>\n",
       "    </tr>\n",
       "    <tr>\n",
       "      <td>13</td>\n",
       "      <td>0</td>\n",
       "      <td>-1846.641941</td>\n",
       "      <td>54</td>\n",
       "      <td>some college</td>\n",
       "      <td>2</td>\n",
       "      <td>married</td>\n",
       "      <td>0</td>\n",
       "      <td>F</td>\n",
       "      <td>employee</td>\n",
       "      <td>0</td>\n",
       "      <td>20873.317</td>\n",
       "      <td>car purchase</td>\n",
       "      <td>50-59</td>\n",
       "      <td>[50-59, some college, employee, 20873.317, -18...</td>\n",
       "    </tr>\n",
       "    <tr>\n",
       "      <td>14</td>\n",
       "      <td>0</td>\n",
       "      <td>-1844.956182</td>\n",
       "      <td>56</td>\n",
       "      <td>bachelor's degree</td>\n",
       "      <td>0</td>\n",
       "      <td>civil partnership</td>\n",
       "      <td>1</td>\n",
       "      <td>F</td>\n",
       "      <td>business</td>\n",
       "      <td>1</td>\n",
       "      <td>26420.466</td>\n",
       "      <td>buy residential real estate</td>\n",
       "      <td>50-59</td>\n",
       "      <td>[50-59, bachelor's degree, business, 26420.466...</td>\n",
       "    </tr>\n",
       "  </tbody>\n",
       "</table>\n",
       "</div>"
      ],
      "text/plain": [
       "    children  days_employed  dob_years            education  education_id  \\\n",
       "0          1   -8437.673028         42    bachelor's degree             0   \n",
       "1          1   -4024.803754         36  secondary education             1   \n",
       "2          0   -5623.422610         33  secondary education             1   \n",
       "3          3   -4124.747207         32  secondary education             1   \n",
       "4          0       0.000000         53  secondary education             1   \n",
       "5          0    -926.185831         27    bachelor's degree             0   \n",
       "6          0   -2879.202052         43    bachelor's degree             0   \n",
       "7          0    -152.779569         50  secondary education             1   \n",
       "8          2   -6929.865299         35    bachelor's degree             0   \n",
       "9          0   -2188.756445         41  secondary education             1   \n",
       "10         2   -4171.483647         36    bachelor's degree             0   \n",
       "11         0    -792.701887         40  secondary education             1   \n",
       "12         0       0.000000         65  secondary education             1   \n",
       "13         0   -1846.641941         54         some college             2   \n",
       "14         0   -1844.956182         56    bachelor's degree             0   \n",
       "\n",
       "        family_status  family_status_id gender income_type  debt  \\\n",
       "0             married                 0      F    employee     0   \n",
       "1             married                 0      F    employee     0   \n",
       "2             married                 0      M    employee     0   \n",
       "3             married                 0      M    employee     0   \n",
       "4   civil partnership                 1      F     retiree     0   \n",
       "5   civil partnership                 1      M    business     0   \n",
       "6             married                 0      F    business     0   \n",
       "7             married                 0      M    employee     0   \n",
       "8   civil partnership                 1      F    employee     0   \n",
       "9             married                 0      M    employee     0   \n",
       "10            married                 0      M    business     0   \n",
       "11            married                 0      F    employee     0   \n",
       "12  civil partnership                 1      M     retiree     0   \n",
       "13            married                 0      F    employee     0   \n",
       "14  civil partnership                 1      F    business     1   \n",
       "\n",
       "    total_income                              purpose age_category  \\\n",
       "0      40620.102                purchase of the house        40-49   \n",
       "1      17932.802                         car purchase        30-39   \n",
       "2      23341.752                purchase of the house        30-39   \n",
       "3      42820.568              supplementary education        30-39   \n",
       "4      25378.572                    to have a wedding        50-59   \n",
       "5      40922.170                purchase of the house        20-29   \n",
       "6      38484.156                 housing transactions        40-49   \n",
       "7      21731.829                            education        50-59   \n",
       "8      15337.093                     having a wedding        30-39   \n",
       "9      23108.150  purchase of the house for my family        40-49   \n",
       "10     18230.959                      buy real estate        30-39   \n",
       "11     12331.077           buy commercial real estate        40-49   \n",
       "12     18873.764                    to have a wedding        60-69   \n",
       "13     20873.317                         car purchase        50-59   \n",
       "14     26420.466          buy residential real estate        50-59   \n",
       "\n",
       "                                               filler  \n",
       "0   [40-49, bachelor's degree, employee, 40620.102...  \n",
       "1   [30-39, secondary education, employee, 17932.8...  \n",
       "2   [30-39, secondary education, employee, 23341.7...  \n",
       "3   [30-39, secondary education, employee, 42820.5...  \n",
       "4   [50-59, secondary education, retiree, 25378.57...  \n",
       "5   [20-29, bachelor's degree, business, 40922.17,...  \n",
       "6   [40-49, bachelor's degree, business, 38484.156...  \n",
       "7   [50-59, secondary education, employee, 21731.8...  \n",
       "8   [30-39, bachelor's degree, employee, 15337.093...  \n",
       "9   [40-49, secondary education, employee, 23108.1...  \n",
       "10  [30-39, bachelor's degree, business, 18230.959...  \n",
       "11  [40-49, secondary education, employee, 12331.0...  \n",
       "12    [60-69, secondary education, retiree, nan, nan]  \n",
       "13  [50-59, some college, employee, 20873.317, -18...  \n",
       "14  [50-59, bachelor's degree, business, 26420.466...  "
      ]
     },
     "execution_count": 75,
     "metadata": {},
     "output_type": "execute_result"
    }
   ],
   "source": [
    "# Apply the 'fill_days_employed' function to every row in 'days_employed'\n",
    "df['days_employed'] = df['filler'].apply(fill_days_employed)\n",
    "df.head(15)\n"
   ]
  },
  {
   "cell_type": "markdown",
   "metadata": {},
   "source": [
    "Since the function appears to be functioning correctly, it was applied to each row in the 'days_employed' column of df by taking in each list from the 'filler' column. The first 15 rows of the new dataset was printed to ensure that the application was successful. Based on row 12 where the value in the 'days_employed' column was originally NaN but is now filled with the appropriate median value, we can conclude that the function was successfully applied."
   ]
  },
  {
   "cell_type": "code",
   "execution_count": 76,
   "metadata": {},
   "outputs": [
    {
     "data": {
      "text/plain": [
       "children            0\n",
       "days_employed       3\n",
       "dob_years           0\n",
       "education           0\n",
       "education_id        0\n",
       "family_status       0\n",
       "family_status_id    0\n",
       "gender              0\n",
       "income_type         0\n",
       "debt                0\n",
       "total_income        0\n",
       "purpose             0\n",
       "age_category        0\n",
       "filler              0\n",
       "dtype: int64"
      ]
     },
     "execution_count": 76,
     "metadata": {},
     "output_type": "execute_result"
    }
   ],
   "source": [
    "# Check if there are any remaining missing values in 'days_employed'\n",
    "df.isna().sum()\n"
   ]
  },
  {
   "cell_type": "code",
   "execution_count": 77,
   "metadata": {},
   "outputs": [
    {
     "name": "stdout",
     "output_type": "stream",
     "text": [
      "      children  days_employed  dob_years          education  education_id  \\\n",
      "1288         1            NaN         70  primary education             3   \n",
      "5880         0            NaN         58  bachelor's degree             0   \n",
      "8055         0            NaN         64  primary education             3   \n",
      "\n",
      "          family_status  family_status_id gender    income_type  debt  \\\n",
      "1288  civil partnership                 1      F       employee     0   \n",
      "5880            married                 0      M   entrepreneur     0   \n",
      "8055  civil partnership                 1      F  civil servant     0   \n",
      "\n",
      "      total_income                                   purpose age_category  \\\n",
      "1288    15013.5050  transactions with commercial real estate        70-79   \n",
      "5880    28152.1765               buy residential real estate        50-59   \n",
      "8055    17657.4995                         to have a wedding        60-69   \n",
      "\n",
      "                                                 filler  \n",
      "1288     [70-79, primary education, employee, nan, nan]  \n",
      "5880  [50-59, bachelor's degree, entrepreneur, nan, ...  \n",
      "8055  [60-69, primary education, civil servant, nan,...  \n"
     ]
    }
   ],
   "source": [
    "# Check which specific rows still have a missing value in the 'days_employed' column\n",
    "print(df[df['days_employed'].isna()])\n"
   ]
  },
  {
   "cell_type": "markdown",
   "metadata": {},
   "source": [
    "However, although the function was successfully applied to df, it appears that there are still 3 missing values in the 'days_employed' column remaining, likely because there was not enough data to calculate the median value based on the given parameters. Therefore, it left the value in the column as NaN."
   ]
  },
  {
   "cell_type": "code",
   "execution_count": 78,
   "metadata": {},
   "outputs": [],
   "source": [
    "# Write another function that we will use for filling in the 3 remaining missing values that doesn't utilize 'income_type'\n",
    "def fill_days_employed_2(filler):\n",
    "    if pd.isna(filler[4]):\n",
    "        return new_df[(new_df['age_category'] == filler[0]) & (new_df['education'] == filler[1])]['days_employed'].median()\n",
    "    else:\n",
    "        return filler[4]\n",
    "    "
   ]
  },
  {
   "cell_type": "markdown",
   "metadata": {},
   "source": [
    "In order to deal with the 3 remaining missing values, a new function called 'fill_days_employed_2' was created. It functions almost identically to the original 'fill_days_employed' function except that it does not utilize 'income_type' to calculate the median value, just the values from the 'age_category' and 'education' columns since 'income_type' takes on more potential values which makes it more likely to lead to not having enough data to calculate the median values."
   ]
  },
  {
   "cell_type": "code",
   "execution_count": 79,
   "metadata": {},
   "outputs": [],
   "source": [
    "# Apply the 'fill_total_income_2' function to df to fill in the 3 missing values in 'days_employed'\n",
    "df['days_employed'] = df['filler'].apply(fill_days_employed_2)\n"
   ]
  },
  {
   "cell_type": "markdown",
   "metadata": {},
   "source": [
    "The 'fill_days_employed_2' function was applied to the 'days_employed' column in df to fill in the remaining missing values."
   ]
  },
  {
   "cell_type": "code",
   "execution_count": 80,
   "metadata": {},
   "outputs": [
    {
     "name": "stdout",
     "output_type": "stream",
     "text": [
      "<class 'pandas.core.frame.DataFrame'>\n",
      "RangeIndex: 21230 entries, 0 to 21229\n",
      "Data columns (total 14 columns):\n",
      "children            21230 non-null int64\n",
      "days_employed       21230 non-null float64\n",
      "dob_years           21230 non-null int64\n",
      "education           21230 non-null object\n",
      "education_id        21230 non-null int64\n",
      "family_status       21230 non-null object\n",
      "family_status_id    21230 non-null int64\n",
      "gender              21230 non-null object\n",
      "income_type         21230 non-null object\n",
      "debt                21230 non-null int64\n",
      "total_income        21230 non-null float64\n",
      "purpose             21230 non-null object\n",
      "age_category        21230 non-null object\n",
      "filler              21230 non-null object\n",
      "dtypes: float64(2), int64(5), object(7)\n",
      "memory usage: 2.3+ MB\n"
     ]
    }
   ],
   "source": [
    "# Check the columns in df and the number of missing values remaining in the 'days_employed' column\n",
    "df.info()\n"
   ]
  },
  {
   "cell_type": "markdown",
   "metadata": {},
   "source": [
    "Finally, df was checked for missing values after applying the function, revealing that none remain. We can therefore conclude that all the missing values in the 'days_employed' column were successfully dealt with, allowing us to proceed in the analysis."
   ]
  },
  {
   "cell_type": "code",
   "execution_count": 81,
   "metadata": {},
   "outputs": [],
   "source": [
    "# Drop the 'filler' column as it was only created to perform the function and is no longer needed in the dataset\n",
    "df = df.drop('filler', 1)\n"
   ]
  },
  {
   "cell_type": "code",
   "execution_count": 82,
   "metadata": {},
   "outputs": [
    {
     "name": "stdout",
     "output_type": "stream",
     "text": [
      "<class 'pandas.core.frame.DataFrame'>\n",
      "RangeIndex: 21230 entries, 0 to 21229\n",
      "Data columns (total 13 columns):\n",
      "children            21230 non-null int64\n",
      "days_employed       21230 non-null float64\n",
      "dob_years           21230 non-null int64\n",
      "education           21230 non-null object\n",
      "education_id        21230 non-null int64\n",
      "family_status       21230 non-null object\n",
      "family_status_id    21230 non-null int64\n",
      "gender              21230 non-null object\n",
      "income_type         21230 non-null object\n",
      "debt                21230 non-null int64\n",
      "total_income        21230 non-null float64\n",
      "purpose             21230 non-null object\n",
      "age_category        21230 non-null object\n",
      "dtypes: float64(2), int64(5), object(6)\n",
      "memory usage: 2.1+ MB\n"
     ]
    }
   ],
   "source": [
    "# Confirm that the 'filler' column was dropped\n",
    "df.info()\n"
   ]
  },
  {
   "cell_type": "markdown",
   "metadata": {},
   "source": [
    "Prior to proceeding to the next step, the 'filler' column that was used to perform the functions used to fill in the missing values of the 'total_income' and 'days_employed' columns was dropped since it is no longer needed in the dataset. The drop was confirmed using the df.info() method."
   ]
  },
  {
   "cell_type": "markdown",
   "metadata": {},
   "source": [
    "## Categorization of data"
   ]
  },
  {
   "cell_type": "markdown",
   "metadata": {},
   "source": [
    "Looking forward at Section 5 where various hypotheses related to the task at hand will be checked, there are 2 columns that must be analyzed but are currently uncategorized and thus difficult to draw conclusions from: the 'purpose' column which has individualized descriptions of the purpose that each individual wrote out without a standardized format, and the 'total_income' column which features a wide variety of income values without any income brackets that would help to conceptualize low versus high income in a concrete manner. Therefore in this section, these two columns will be categorized into discrete, standard categories."
   ]
  },
  {
   "cell_type": "markdown",
   "metadata": {},
   "source": [
    "The 'purpose' column will be categorized first:"
   ]
  },
  {
   "cell_type": "code",
   "execution_count": 83,
   "metadata": {
    "scrolled": true
   },
   "outputs": [
    {
     "name": "stdout",
     "output_type": "stream",
     "text": [
      "0          purchase of the house\n",
      "1                   car purchase\n",
      "2          purchase of the house\n",
      "3        supplementary education\n",
      "4              to have a wedding\n",
      "                  ...           \n",
      "21225       housing transactions\n",
      "21226          purchase of a car\n",
      "21227                   property\n",
      "21228          buying my own car\n",
      "21229               to buy a car\n",
      "Name: purpose, Length: 21230, dtype: object\n"
     ]
    }
   ],
   "source": [
    "# Print the values in the 'purpose' column\n",
    "print(df['purpose'])\n"
   ]
  },
  {
   "cell_type": "markdown",
   "metadata": {},
   "source": [
    "Looking at some of the values in the 'purpose' column printed above, it appears that there are many different stated purposes but they largely fall into just a few overarching categories."
   ]
  },
  {
   "cell_type": "code",
   "execution_count": 84,
   "metadata": {},
   "outputs": [
    {
     "name": "stdout",
     "output_type": "stream",
     "text": [
      "['purchase of the house' 'car purchase' 'supplementary education'\n",
      " 'to have a wedding' 'housing transactions' 'education' 'having a wedding'\n",
      " 'purchase of the house for my family' 'buy real estate'\n",
      " 'buy commercial real estate' 'buy residential real estate'\n",
      " 'construction of own property' 'property' 'building a property'\n",
      " 'buying a second-hand car' 'buying my own car'\n",
      " 'transactions with commercial real estate' 'building a real estate'\n",
      " 'housing' 'transactions with my real estate' 'cars' 'to become educated'\n",
      " 'second-hand car purchase' 'getting an education' 'car'\n",
      " 'wedding ceremony' 'to get a supplementary education'\n",
      " 'purchase of my own house' 'real estate transactions'\n",
      " 'getting higher education' 'to own a car' 'purchase of a car'\n",
      " 'profile education' 'university education'\n",
      " 'buying property for renting out' 'to buy a car' 'housing renovation'\n",
      " 'going to university']\n"
     ]
    }
   ],
   "source": [
    "# Check the unique values in 'purpose'\n",
    "print(df['purpose'].unique())\n"
   ]
  },
  {
   "cell_type": "code",
   "execution_count": 85,
   "metadata": {},
   "outputs": [],
   "source": [
    "# Create a list of all the lemmas found in 'purpose' using a 'for' loop\n",
    "lemmas_list = []\n",
    "\n",
    "for purpose in df['purpose'].unique():\n",
    "    words = nltk.word_tokenize(purpose)\n",
    "    lemmas = [wordnet_lemma.lemmatize(w, pos = 'n') for w in words]\n",
    "    for i in lemmas:\n",
    "        lemmas_list.append(i)\n"
   ]
  },
  {
   "cell_type": "code",
   "execution_count": 86,
   "metadata": {},
   "outputs": [
    {
     "data": {
      "text/plain": [
       "['purchase',\n",
       " 'of',\n",
       " 'the',\n",
       " 'house',\n",
       " 'car',\n",
       " 'purchase',\n",
       " 'supplementary',\n",
       " 'education',\n",
       " 'to',\n",
       " 'have',\n",
       " 'a',\n",
       " 'wedding',\n",
       " 'housing',\n",
       " 'transaction',\n",
       " 'education',\n",
       " 'having',\n",
       " 'a',\n",
       " 'wedding',\n",
       " 'purchase',\n",
       " 'of',\n",
       " 'the',\n",
       " 'house',\n",
       " 'for',\n",
       " 'my',\n",
       " 'family',\n",
       " 'buy',\n",
       " 'real',\n",
       " 'estate',\n",
       " 'buy',\n",
       " 'commercial',\n",
       " 'real',\n",
       " 'estate',\n",
       " 'buy',\n",
       " 'residential',\n",
       " 'real',\n",
       " 'estate',\n",
       " 'construction',\n",
       " 'of',\n",
       " 'own',\n",
       " 'property',\n",
       " 'property',\n",
       " 'building',\n",
       " 'a',\n",
       " 'property',\n",
       " 'buying',\n",
       " 'a',\n",
       " 'second-hand',\n",
       " 'car',\n",
       " 'buying',\n",
       " 'my',\n",
       " 'own',\n",
       " 'car',\n",
       " 'transaction',\n",
       " 'with',\n",
       " 'commercial',\n",
       " 'real',\n",
       " 'estate',\n",
       " 'building',\n",
       " 'a',\n",
       " 'real',\n",
       " 'estate',\n",
       " 'housing',\n",
       " 'transaction',\n",
       " 'with',\n",
       " 'my',\n",
       " 'real',\n",
       " 'estate',\n",
       " 'car',\n",
       " 'to',\n",
       " 'become',\n",
       " 'educated',\n",
       " 'second-hand',\n",
       " 'car',\n",
       " 'purchase',\n",
       " 'getting',\n",
       " 'an',\n",
       " 'education',\n",
       " 'car',\n",
       " 'wedding',\n",
       " 'ceremony',\n",
       " 'to',\n",
       " 'get',\n",
       " 'a',\n",
       " 'supplementary',\n",
       " 'education',\n",
       " 'purchase',\n",
       " 'of',\n",
       " 'my',\n",
       " 'own',\n",
       " 'house',\n",
       " 'real',\n",
       " 'estate',\n",
       " 'transaction',\n",
       " 'getting',\n",
       " 'higher',\n",
       " 'education',\n",
       " 'to',\n",
       " 'own',\n",
       " 'a',\n",
       " 'car',\n",
       " 'purchase',\n",
       " 'of',\n",
       " 'a',\n",
       " 'car',\n",
       " 'profile',\n",
       " 'education',\n",
       " 'university',\n",
       " 'education',\n",
       " 'buying',\n",
       " 'property',\n",
       " 'for',\n",
       " 'renting',\n",
       " 'out',\n",
       " 'to',\n",
       " 'buy',\n",
       " 'a',\n",
       " 'car',\n",
       " 'housing',\n",
       " 'renovation',\n",
       " 'going',\n",
       " 'to',\n",
       " 'university']"
      ]
     },
     "execution_count": 86,
     "metadata": {},
     "output_type": "execute_result"
    }
   ],
   "source": [
    "# Check lemmas_list\n",
    "lemmas_list\n"
   ]
  },
  {
   "cell_type": "markdown",
   "metadata": {},
   "source": [
    "The above output of the lemmatization of the strings within the 'purpose' column confirms the prior observation. In order to put these strings into neat categories, the list of lemmas was analyzed to develop 4 distinct categories that accommodates all the unique values above: 1) real estate, 2) car, 3) education, and 4) wedding. Then, all unique keywords related to each category were identified to ensure that the category could capture all related statements. The following is a list of the categories and their associated keywords:"
   ]
  },
  {
   "cell_type": "markdown",
   "metadata": {},
   "source": [
    "1) Real Estate: 'house', 'housing', 'property', 'real', 'estate', 'construction'\n",
    "\n",
    "2) Car: 'car', 'cars'\n",
    "\n",
    "3) Education: 'education', 'educated', 'university'\n",
    "\n",
    "4) Wedding: 'wedding'\n"
   ]
  },
  {
   "cell_type": "code",
   "execution_count": 87,
   "metadata": {},
   "outputs": [],
   "source": [
    "# Create categories based on the lemmas that were returned from the strings in 'purpose'\n",
    "real_estate = ['house', 'housing', 'property', 'real', 'estate', 'construction']\n",
    "car = ['car', 'cars']\n",
    "education = ['education', 'educated', 'university']\n",
    "wedding = ['wedding']\n"
   ]
  },
  {
   "cell_type": "code",
   "execution_count": 88,
   "metadata": {},
   "outputs": [],
   "source": [
    "# Write a function to categorize the values in 'purpose' into the above categories\n",
    "def categorize_purpose(string):\n",
    "    \n",
    "    words = nltk.word_tokenize(string)\n",
    "    lemmas = [wordnet_lemma.lemmatize(w, pos = 'n') for w in words]\n",
    "    \n",
    "    if any(word in lemmas for word in real_estate):\n",
    "        return 'real estate'\n",
    "    elif any(word in lemmas for word in car):\n",
    "        return 'car'\n",
    "    elif any(word in lemmas for word in education):\n",
    "        return 'education'\n",
    "    elif any(word in lemmas for word in wedding):\n",
    "        return 'wedding'\n",
    "    else:\n",
    "        return 'unknown'\n"
   ]
  },
  {
   "cell_type": "markdown",
   "metadata": {},
   "source": [
    "The function 'categorize_purpose' was written to take in values from the 'purpose' column and output 1 of the 4 defined categories or 'unknown' category depending on the keywords that are present in the 'purpose' column string value."
   ]
  },
  {
   "cell_type": "code",
   "execution_count": 89,
   "metadata": {},
   "outputs": [
    {
     "data": {
      "text/plain": [
       "'real estate'"
      ]
     },
     "execution_count": 89,
     "metadata": {},
     "output_type": "execute_result"
    }
   ],
   "source": [
    "# Check to see if function works for all 4 categories of 'purpose' and the 'unknown' case\n",
    "categorize_purpose('purchase of the house')\n"
   ]
  },
  {
   "cell_type": "code",
   "execution_count": 90,
   "metadata": {},
   "outputs": [
    {
     "data": {
      "text/plain": [
       "'car'"
      ]
     },
     "execution_count": 90,
     "metadata": {},
     "output_type": "execute_result"
    }
   ],
   "source": [
    "categorize_purpose('car purchase')"
   ]
  },
  {
   "cell_type": "code",
   "execution_count": 91,
   "metadata": {},
   "outputs": [
    {
     "data": {
      "text/plain": [
       "'education'"
      ]
     },
     "execution_count": 91,
     "metadata": {},
     "output_type": "execute_result"
    }
   ],
   "source": [
    "categorize_purpose('supplementary education')"
   ]
  },
  {
   "cell_type": "code",
   "execution_count": 92,
   "metadata": {},
   "outputs": [
    {
     "data": {
      "text/plain": [
       "'wedding'"
      ]
     },
     "execution_count": 92,
     "metadata": {},
     "output_type": "execute_result"
    }
   ],
   "source": [
    "categorize_purpose('to have a wedding')"
   ]
  },
  {
   "cell_type": "code",
   "execution_count": 93,
   "metadata": {},
   "outputs": [
    {
     "data": {
      "text/plain": [
       "'unknown'"
      ]
     },
     "execution_count": 93,
     "metadata": {},
     "output_type": "execute_result"
    }
   ],
   "source": [
    "categorize_purpose('unknown')"
   ]
  },
  {
   "cell_type": "markdown",
   "metadata": {},
   "source": [
    "The 'categorize_purpose' function was tested above using sample strings from each of the possible categories. The results show that it is functioning properly."
   ]
  },
  {
   "cell_type": "code",
   "execution_count": 94,
   "metadata": {},
   "outputs": [],
   "source": [
    "# Create a new column 'purpose_category' by applying the 'categorize_purpose' function to the 'purpose' column\n",
    "df['purpose_category'] = df['purpose'].apply(categorize_purpose)\n"
   ]
  },
  {
   "cell_type": "markdown",
   "metadata": {},
   "source": [
    "A new column called 'purpose_category' was created by applying the 'categorize_purpose' function on the 'purpose' column."
   ]
  },
  {
   "cell_type": "code",
   "execution_count": 95,
   "metadata": {},
   "outputs": [
    {
     "name": "stdout",
     "output_type": "stream",
     "text": [
      "<class 'pandas.core.frame.DataFrame'>\n",
      "RangeIndex: 21230 entries, 0 to 21229\n",
      "Data columns (total 14 columns):\n",
      "children            21230 non-null int64\n",
      "days_employed       21230 non-null float64\n",
      "dob_years           21230 non-null int64\n",
      "education           21230 non-null object\n",
      "education_id        21230 non-null int64\n",
      "family_status       21230 non-null object\n",
      "family_status_id    21230 non-null int64\n",
      "gender              21230 non-null object\n",
      "income_type         21230 non-null object\n",
      "debt                21230 non-null int64\n",
      "total_income        21230 non-null float64\n",
      "purpose             21230 non-null object\n",
      "age_category        21230 non-null object\n",
      "purpose_category    21230 non-null object\n",
      "dtypes: float64(2), int64(5), object(7)\n",
      "memory usage: 2.3+ MB\n"
     ]
    }
   ],
   "source": [
    "# Check to see if the column was successfully created\n",
    "df.info()\n"
   ]
  },
  {
   "cell_type": "code",
   "execution_count": 96,
   "metadata": {},
   "outputs": [
    {
     "data": {
      "text/plain": [
       "real estate    10703\n",
       "car             4258\n",
       "education       3970\n",
       "wedding         2299\n",
       "Name: purpose_category, dtype: int64"
      ]
     },
     "execution_count": 96,
     "metadata": {},
     "output_type": "execute_result"
    }
   ],
   "source": [
    "# Count the values in the 'purpose_category' column\n",
    "df['purpose_category'].value_counts()\n"
   ]
  },
  {
   "cell_type": "markdown",
   "metadata": {},
   "source": [
    "df.info() was called to confirm that the column was successfully created and the value_counts() method was called to check how many rows there are for each category."
   ]
  },
  {
   "cell_type": "markdown",
   "metadata": {},
   "source": [
    "Next, the 'total_income' column will be categorized:"
   ]
  },
  {
   "cell_type": "code",
   "execution_count": 97,
   "metadata": {},
   "outputs": [
    {
     "name": "stdout",
     "output_type": "stream",
     "text": [
      "0        40620.102\n",
      "1        17932.802\n",
      "2        23341.752\n",
      "3        42820.568\n",
      "4        25378.572\n",
      "           ...    \n",
      "21225    35966.698\n",
      "21226    24959.969\n",
      "21227    14347.610\n",
      "21228    39054.888\n",
      "21229    13127.587\n",
      "Name: total_income, Length: 21230, dtype: float64\n"
     ]
    }
   ],
   "source": [
    "# Look through some of the values in 'total_income'\n",
    "print(df['total_income'])\n"
   ]
  },
  {
   "cell_type": "markdown",
   "metadata": {},
   "source": [
    "The values in the 'total_income\" column were examined, showing a fairly wide range of values."
   ]
  },
  {
   "cell_type": "code",
   "execution_count": 98,
   "metadata": {},
   "outputs": [
    {
     "data": {
      "text/plain": [
       "count     21230.000000\n",
       "mean      26477.297629\n",
       "std       15749.250695\n",
       "min        3306.762000\n",
       "25%       17197.731250\n",
       "50%       23001.785000\n",
       "75%       31327.351000\n",
       "max      362496.645000\n",
       "Name: total_income, dtype: float64"
      ]
     },
     "execution_count": 98,
     "metadata": {},
     "output_type": "execute_result"
    }
   ],
   "source": [
    "# Getting summary statistics for the 'total_income' column\n",
    "df['total_income'].describe()\n"
   ]
  },
  {
   "cell_type": "markdown",
   "metadata": {},
   "source": [
    "Summary statistics were calculated for the 'total_income' column which delineated important numerical cut-offs including the min, 25th percentile, 50th percentile, 75th percentile, and the max. These values seem to be appropriate markers to create income bracket categories."
   ]
  },
  {
   "cell_type": "code",
   "execution_count": 99,
   "metadata": {},
   "outputs": [],
   "source": [
    "# Create a function for categorizing 'total_income' values into categories based on quartiles\n",
    "def income_cat(value):\n",
    "    if value <= 17197.731250:\n",
    "        return '1'\n",
    "    elif value <= 23001.785000:\n",
    "        return '2'\n",
    "    elif value <= 31327.351000:\n",
    "        return '3'\n",
    "    elif value <= 362496.645000:\n",
    "        return '4'\n",
    "    else:\n",
    "        return \"unknown\"\n"
   ]
  },
  {
   "cell_type": "markdown",
   "metadata": {},
   "source": [
    "The function 'income_cat' was created to take in an income value and place it into an income category from 1-4 which correspond to 1-4 quartile ranges (1 representing the lowest income quartile and 4 representing the highest income quartile). The min/max and percentile cut-off values were utilized from the outcome of the describe() method above to create the income categories."
   ]
  },
  {
   "cell_type": "code",
   "execution_count": 100,
   "metadata": {},
   "outputs": [
    {
     "data": {
      "text/plain": [
       "'1'"
      ]
     },
     "execution_count": 100,
     "metadata": {},
     "output_type": "execute_result"
    }
   ],
   "source": [
    "# Check to see if the 'income_cat' function works using sample income values\n",
    "income_cat(17197.731250)\n"
   ]
  },
  {
   "cell_type": "code",
   "execution_count": 101,
   "metadata": {},
   "outputs": [
    {
     "data": {
      "text/plain": [
       "'2'"
      ]
     },
     "execution_count": 101,
     "metadata": {},
     "output_type": "execute_result"
    }
   ],
   "source": [
    "income_cat(20000)"
   ]
  },
  {
   "cell_type": "code",
   "execution_count": 102,
   "metadata": {},
   "outputs": [
    {
     "data": {
      "text/plain": [
       "'unknown'"
      ]
     },
     "execution_count": 102,
     "metadata": {},
     "output_type": "execute_result"
    }
   ],
   "source": [
    "income_cat(400000)"
   ]
  },
  {
   "cell_type": "markdown",
   "metadata": {},
   "source": [
    "Sample income values were used to test the 'income_cat' function above and showed that it is indeed functioning properly."
   ]
  },
  {
   "cell_type": "code",
   "execution_count": 103,
   "metadata": {},
   "outputs": [],
   "source": [
    "# Create a new column 'income_category' by applying the 'income_cat' function to the 'total_income' column\n",
    "df['income_category'] = df['total_income'].apply(income_cat)\n"
   ]
  },
  {
   "cell_type": "markdown",
   "metadata": {},
   "source": [
    "A new column called 'income_category' was created by applying the 'income_cat' function to the values in the 'total_income' column."
   ]
  },
  {
   "cell_type": "code",
   "execution_count": 104,
   "metadata": {},
   "outputs": [
    {
     "name": "stdout",
     "output_type": "stream",
     "text": [
      "<class 'pandas.core.frame.DataFrame'>\n",
      "RangeIndex: 21230 entries, 0 to 21229\n",
      "Data columns (total 15 columns):\n",
      "children            21230 non-null int64\n",
      "days_employed       21230 non-null float64\n",
      "dob_years           21230 non-null int64\n",
      "education           21230 non-null object\n",
      "education_id        21230 non-null int64\n",
      "family_status       21230 non-null object\n",
      "family_status_id    21230 non-null int64\n",
      "gender              21230 non-null object\n",
      "income_type         21230 non-null object\n",
      "debt                21230 non-null int64\n",
      "total_income        21230 non-null float64\n",
      "purpose             21230 non-null object\n",
      "age_category        21230 non-null object\n",
      "purpose_category    21230 non-null object\n",
      "income_category     21230 non-null object\n",
      "dtypes: float64(2), int64(5), object(8)\n",
      "memory usage: 2.4+ MB\n"
     ]
    }
   ],
   "source": [
    "# Check to see if the 'income_category' column was successfully created\n",
    "df.info()\n"
   ]
  },
  {
   "cell_type": "code",
   "execution_count": 105,
   "metadata": {},
   "outputs": [
    {
     "data": {
      "text/plain": [
       "2    5631\n",
       "1    5308\n",
       "4    5308\n",
       "3    4983\n",
       "Name: income_category, dtype: int64"
      ]
     },
     "execution_count": 105,
     "metadata": {},
     "output_type": "execute_result"
    }
   ],
   "source": [
    "# Count the values in the 'purpose_category' column\n",
    "df['income_category'].value_counts()\n"
   ]
  },
  {
   "cell_type": "markdown",
   "metadata": {},
   "source": [
    "df.info() was called to confirm that the column was successfully created and the value_counts() method was called to check how many rows there are for each category."
   ]
  },
  {
   "cell_type": "markdown",
   "metadata": {},
   "source": [
    "## Checking the Hypotheses\n"
   ]
  },
  {
   "cell_type": "markdown",
   "metadata": {},
   "source": [
    "**Is there a correlation between having children and paying back on time?**"
   ]
  },
  {
   "cell_type": "code",
   "execution_count": 106,
   "metadata": {},
   "outputs": [
    {
     "name": "stdout",
     "output_type": "stream",
     "text": [
      "          debt\n",
      "children      \n",
      "0         1058\n",
      "1          441\n",
      "2          194\n",
      "3           27\n",
      "4            4\n",
      "5            0\n"
     ]
    }
   ],
   "source": [
    "# Check the relationship between the values in 'children' and 'debt' using a pivot table aggregating on the sum\n",
    "children_debt_pt_sum = pd.pivot_table(data = df, index = ['children'], values = ['debt'], aggfunc = 'sum')\n",
    "print(children_debt_pt_sum)\n"
   ]
  },
  {
   "cell_type": "code",
   "execution_count": 107,
   "metadata": {},
   "outputs": [
    {
     "name": "stdout",
     "output_type": "stream",
     "text": [
      "           debt\n",
      "children       \n",
      "0         14021\n",
      "1          4792\n",
      "2          2039\n",
      "3           328\n",
      "4            41\n",
      "5             9\n"
     ]
    }
   ],
   "source": [
    "# Check the relationship between the values in 'children' and 'debt' using a pivot table aggregating on the count\n",
    "children_debt_pt_count = pd.pivot_table(data = df, index = ['children'], values = ['debt'], aggfunc = 'count')\n",
    "print(children_debt_pt_count)\n"
   ]
  },
  {
   "cell_type": "markdown",
   "metadata": {},
   "source": [
    "Pivot tables were generated to display the relationship between the values in 'children' and 'debt'. The first table aggregates on the sum to calculate the number of rows in each category of 'children' that defaulted on a loan while the second table aggregates on the count to calculate the number of total rows in each category of 'children'."
   ]
  },
  {
   "cell_type": "code",
   "execution_count": 108,
   "metadata": {},
   "outputs": [
    {
     "data": {
      "text/html": [
       "<div>\n",
       "<style scoped>\n",
       "    .dataframe tbody tr th:only-of-type {\n",
       "        vertical-align: middle;\n",
       "    }\n",
       "\n",
       "    .dataframe tbody tr th {\n",
       "        vertical-align: top;\n",
       "    }\n",
       "\n",
       "    .dataframe thead th {\n",
       "        text-align: right;\n",
       "    }\n",
       "</style>\n",
       "<table border=\"1\" class=\"dataframe\">\n",
       "  <thead>\n",
       "    <tr style=\"text-align: right;\">\n",
       "      <th></th>\n",
       "      <th>debt</th>\n",
       "    </tr>\n",
       "    <tr>\n",
       "      <th>children</th>\n",
       "      <th></th>\n",
       "    </tr>\n",
       "  </thead>\n",
       "  <tbody>\n",
       "    <tr>\n",
       "      <td>0</td>\n",
       "      <td>7.545824</td>\n",
       "    </tr>\n",
       "    <tr>\n",
       "      <td>1</td>\n",
       "      <td>9.202838</td>\n",
       "    </tr>\n",
       "    <tr>\n",
       "      <td>2</td>\n",
       "      <td>9.514468</td>\n",
       "    </tr>\n",
       "    <tr>\n",
       "      <td>3</td>\n",
       "      <td>8.231707</td>\n",
       "    </tr>\n",
       "    <tr>\n",
       "      <td>4</td>\n",
       "      <td>9.756098</td>\n",
       "    </tr>\n",
       "    <tr>\n",
       "      <td>5</td>\n",
       "      <td>0.000000</td>\n",
       "    </tr>\n",
       "  </tbody>\n",
       "</table>\n",
       "</div>"
      ],
      "text/plain": [
       "              debt\n",
       "children          \n",
       "0         7.545824\n",
       "1         9.202838\n",
       "2         9.514468\n",
       "3         8.231707\n",
       "4         9.756098\n",
       "5         0.000000"
      ]
     },
     "execution_count": 108,
     "metadata": {},
     "output_type": "execute_result"
    }
   ],
   "source": [
    "# Calculate the default-rate based on the number of children\n",
    "children_debt_pt_sum / children_debt_pt_count * 100\n"
   ]
  },
  {
   "cell_type": "markdown",
   "metadata": {},
   "source": [
    "The default-rate based on the number of children was calculated by dividing the sum pivot table by the count pivot table and multiplying the result by 100 to get the percentage of individuals within each category of 'children' that has ever defaulted on a loan."
   ]
  },
  {
   "cell_type": "markdown",
   "metadata": {},
   "source": [
    "**Conclusion**\n",
    "\n",
    "Based on the results of the calculations, it appears that individuals with no children have lower default rates than those with 1 or more children. Although the default rate for 5 children is technically 0, there are not enough data points in that category of children to draw meaningful conclusions. Therefore, overall it does appear that individuals with children have higher default rates than those without children. This trend may be due to the fact that children represent an additional expense that can place families under financial stress with little funds available to put aside for repayment of loans."
   ]
  },
  {
   "cell_type": "markdown",
   "metadata": {},
   "source": [
    "**Is there a correlation between family status and paying back on time?**"
   ]
  },
  {
   "cell_type": "code",
   "execution_count": 109,
   "metadata": {},
   "outputs": [
    {
     "name": "stdout",
     "output_type": "stream",
     "text": [
      "                   debt\n",
      "family_status          \n",
      "civil partnership   383\n",
      "divorced             84\n",
      "married             923\n",
      "unmarried           272\n",
      "widow / widower      62\n"
     ]
    }
   ],
   "source": [
    "# Check the relationship between the values in 'family_status' and 'debt' using a pivot table aggregating on the sum\n",
    "family_debt_pt_sum = pd.pivot_table(data = df, index = ['family_status'], values = ['debt'], aggfunc = 'sum')\n",
    "print(family_debt_pt_sum)\n"
   ]
  },
  {
   "cell_type": "code",
   "execution_count": 110,
   "metadata": {},
   "outputs": [
    {
     "name": "stdout",
     "output_type": "stream",
     "text": [
      "                    debt\n",
      "family_status           \n",
      "civil partnership   4112\n",
      "divorced            1179\n",
      "married            12213\n",
      "unmarried           2780\n",
      "widow / widower      946\n"
     ]
    }
   ],
   "source": [
    "# Check the relationship between the values in 'family_status' and 'debt' using a pivot table aggregating on the count\n",
    "family_debt_pt_count = pd.pivot_table(data = df, index = ['family_status'], values = ['debt'], aggfunc = 'count')\n",
    "print(family_debt_pt_count)"
   ]
  },
  {
   "cell_type": "markdown",
   "metadata": {},
   "source": [
    "Pivot tables were generated to display the relationship between the values in 'family_status' and 'debt'. The first table aggregates on the sum to calculate the number of rows in each category of 'family_status' that defaulted on a loan while the second table aggregates on the count to calculate the number of total rows in each category of 'family_status'."
   ]
  },
  {
   "cell_type": "code",
   "execution_count": 111,
   "metadata": {},
   "outputs": [
    {
     "data": {
      "text/html": [
       "<div>\n",
       "<style scoped>\n",
       "    .dataframe tbody tr th:only-of-type {\n",
       "        vertical-align: middle;\n",
       "    }\n",
       "\n",
       "    .dataframe tbody tr th {\n",
       "        vertical-align: top;\n",
       "    }\n",
       "\n",
       "    .dataframe thead th {\n",
       "        text-align: right;\n",
       "    }\n",
       "</style>\n",
       "<table border=\"1\" class=\"dataframe\">\n",
       "  <thead>\n",
       "    <tr style=\"text-align: right;\">\n",
       "      <th></th>\n",
       "      <th>debt</th>\n",
       "    </tr>\n",
       "    <tr>\n",
       "      <th>family_status</th>\n",
       "      <th></th>\n",
       "    </tr>\n",
       "  </thead>\n",
       "  <tbody>\n",
       "    <tr>\n",
       "      <td>civil partnership</td>\n",
       "      <td>9.314202</td>\n",
       "    </tr>\n",
       "    <tr>\n",
       "      <td>divorced</td>\n",
       "      <td>7.124682</td>\n",
       "    </tr>\n",
       "    <tr>\n",
       "      <td>married</td>\n",
       "      <td>7.557521</td>\n",
       "    </tr>\n",
       "    <tr>\n",
       "      <td>unmarried</td>\n",
       "      <td>9.784173</td>\n",
       "    </tr>\n",
       "    <tr>\n",
       "      <td>widow / widower</td>\n",
       "      <td>6.553911</td>\n",
       "    </tr>\n",
       "  </tbody>\n",
       "</table>\n",
       "</div>"
      ],
      "text/plain": [
       "                       debt\n",
       "family_status              \n",
       "civil partnership  9.314202\n",
       "divorced           7.124682\n",
       "married            7.557521\n",
       "unmarried          9.784173\n",
       "widow / widower    6.553911"
      ]
     },
     "execution_count": 111,
     "metadata": {},
     "output_type": "execute_result"
    }
   ],
   "source": [
    "# Calculating default-rate based on family status\n",
    "family_debt_pt_sum / family_debt_pt_count * 100\n"
   ]
  },
  {
   "cell_type": "markdown",
   "metadata": {},
   "source": [
    "The default-rate based on family status was calculated by dividing the sum pivot table by the count pivot table and multiplying the result by 100 to get the percentage of individuals within each category of 'family_status' that has ever defaulted on a loan."
   ]
  },
  {
   "cell_type": "markdown",
   "metadata": {},
   "source": [
    "**Conclusion**\n",
    "\n",
    "Based on the results of the calculations, it appears that those who are widows/widowers have the lowest default rate, those who are married or divorced have slightly higher default rates, and those who are either in civil partnerships or are unmarried have the highest default rates. This information reveals that individuals who marry tend to have lower default rates than those who do not. This trend may be due to the fact that marriage leads to having dual-income and also affords some financial benefits by way of federal taxes that are not given to those in civil partnerships. Even in the aftermath of divorce, assets are often divided equally and widows/widowers often inherit fair sums of money from their deceased spouses which adds to their ability to pay off existing debt. However, particularly for the unmarried, there are fewer legal factors at play that help to ensure financial commitment and security for an individual which may negatively affect an individual's ability to repay a loan on time."
   ]
  },
  {
   "cell_type": "markdown",
   "metadata": {},
   "source": [
    "**Is there a correlation between income level and paying back on time?**"
   ]
  },
  {
   "cell_type": "code",
   "execution_count": 112,
   "metadata": {},
   "outputs": [
    {
     "name": "stdout",
     "output_type": "stream",
     "text": [
      "                 debt\n",
      "income_category      \n",
      "1                 425\n",
      "2                 503\n",
      "3                 416\n",
      "4                 380\n"
     ]
    }
   ],
   "source": [
    "# Check the relationship between the values in 'income_category' and 'debt' using a pivot table aggregating on the sum\n",
    "income_debt_pt_sum = pd.pivot_table(data = df, index = ['income_category'], values = ['debt'], aggfunc = 'sum')\n",
    "print(income_debt_pt_sum)\n"
   ]
  },
  {
   "cell_type": "code",
   "execution_count": 113,
   "metadata": {},
   "outputs": [
    {
     "name": "stdout",
     "output_type": "stream",
     "text": [
      "                 debt\n",
      "income_category      \n",
      "1                5308\n",
      "2                5631\n",
      "3                4983\n",
      "4                5308\n"
     ]
    }
   ],
   "source": [
    "# Check the relationship between the values in 'income_category' and 'debt' using a pivot table aggregating on the count\n",
    "income_debt_pt_count = pd.pivot_table(data = df, index = ['income_category'], values = ['debt'], aggfunc = 'count')\n",
    "print(income_debt_pt_count)\n"
   ]
  },
  {
   "cell_type": "markdown",
   "metadata": {},
   "source": [
    "Pivot tables were generated to display the relationship between the values in 'income_category' and 'debt'. The first table aggregates on the sum to calculate the number of rows in each category of 'income_category' that defaulted on a loan while the second table aggregates on the count to calculate the number of total rows in each category of 'income_category'."
   ]
  },
  {
   "cell_type": "code",
   "execution_count": 114,
   "metadata": {},
   "outputs": [
    {
     "data": {
      "text/html": [
       "<div>\n",
       "<style scoped>\n",
       "    .dataframe tbody tr th:only-of-type {\n",
       "        vertical-align: middle;\n",
       "    }\n",
       "\n",
       "    .dataframe tbody tr th {\n",
       "        vertical-align: top;\n",
       "    }\n",
       "\n",
       "    .dataframe thead th {\n",
       "        text-align: right;\n",
       "    }\n",
       "</style>\n",
       "<table border=\"1\" class=\"dataframe\">\n",
       "  <thead>\n",
       "    <tr style=\"text-align: right;\">\n",
       "      <th></th>\n",
       "      <th>debt</th>\n",
       "    </tr>\n",
       "    <tr>\n",
       "      <th>income_category</th>\n",
       "      <th></th>\n",
       "    </tr>\n",
       "  </thead>\n",
       "  <tbody>\n",
       "    <tr>\n",
       "      <td>1</td>\n",
       "      <td>8.006782</td>\n",
       "    </tr>\n",
       "    <tr>\n",
       "      <td>2</td>\n",
       "      <td>8.932694</td>\n",
       "    </tr>\n",
       "    <tr>\n",
       "      <td>3</td>\n",
       "      <td>8.348385</td>\n",
       "    </tr>\n",
       "    <tr>\n",
       "      <td>4</td>\n",
       "      <td>7.159005</td>\n",
       "    </tr>\n",
       "  </tbody>\n",
       "</table>\n",
       "</div>"
      ],
      "text/plain": [
       "                     debt\n",
       "income_category          \n",
       "1                8.006782\n",
       "2                8.932694\n",
       "3                8.348385\n",
       "4                7.159005"
      ]
     },
     "execution_count": 114,
     "metadata": {},
     "output_type": "execute_result"
    }
   ],
   "source": [
    "# Calculating default-rate based on income level\n",
    "income_debt_pt_sum / income_debt_pt_count * 100\n"
   ]
  },
  {
   "cell_type": "markdown",
   "metadata": {},
   "source": [
    "The default-rate based on income category was calculated by dividing the sum pivot table by the count pivot table and multiplying the result by 100 to get the percentage of individuals within each category of 'income_category' that has ever defaulted on a loan."
   ]
  },
  {
   "cell_type": "markdown",
   "metadata": {},
   "source": [
    "**Conclusion**\n",
    "\n",
    "Based on the calculations, it appears that those in the highest income quartile (4) have the lowest default rates, followed by those in the lowest quartile (1), second highest quartile (3), and second lowest (2). Overall, individuals with the highest income tend to default less than those in lower income quartiles. This trend may be due to the fact that those with more money often have more opportunities for income generation and more funds that are readily available for use to pay off debt than those with lower income who may have little surplus funds, especially if they are making just enough to cover their regular expenses."
   ]
  },
  {
   "cell_type": "markdown",
   "metadata": {},
   "source": [
    "**How does credit purpose affect the default rate?**"
   ]
  },
  {
   "cell_type": "code",
   "execution_count": 115,
   "metadata": {},
   "outputs": [
    {
     "name": "stdout",
     "output_type": "stream",
     "text": [
      "                  debt\n",
      "purpose_category      \n",
      "car                397\n",
      "education          369\n",
      "real estate        777\n",
      "wedding            181\n"
     ]
    }
   ],
   "source": [
    "# Check the relationship between the values in 'purpose_category' and 'debt' using a pivot table aggregating on the sum\n",
    "purpose_debt_pt_sum = pd.pivot_table(data = df, index = ['purpose_category'], values = ['debt'], aggfunc = 'sum')\n",
    "print(purpose_debt_pt_sum)\n"
   ]
  },
  {
   "cell_type": "code",
   "execution_count": 116,
   "metadata": {},
   "outputs": [
    {
     "name": "stdout",
     "output_type": "stream",
     "text": [
      "                   debt\n",
      "purpose_category       \n",
      "car                4258\n",
      "education          3970\n",
      "real estate       10703\n",
      "wedding            2299\n"
     ]
    }
   ],
   "source": [
    "# Check the relationship between the values in 'income_category' and 'debt' using a pivot table aggregating on the count\n",
    "purpose_debt_pt_count = pd.pivot_table(data = df, index = ['purpose_category'], values = ['debt'], aggfunc = 'count')\n",
    "print(purpose_debt_pt_count)\n"
   ]
  },
  {
   "cell_type": "markdown",
   "metadata": {},
   "source": [
    "Pivot tables were generated to display the relationship between the values in 'purpose_category' and 'debt'. The first table aggregates on the sum to calculate the number of rows in each category of 'purpose_category' that defaulted on a loan while the second table aggregates on the count to calculate the number of total rows in each category of 'purpose_category'."
   ]
  },
  {
   "cell_type": "code",
   "execution_count": 117,
   "metadata": {},
   "outputs": [
    {
     "data": {
      "text/html": [
       "<div>\n",
       "<style scoped>\n",
       "    .dataframe tbody tr th:only-of-type {\n",
       "        vertical-align: middle;\n",
       "    }\n",
       "\n",
       "    .dataframe tbody tr th {\n",
       "        vertical-align: top;\n",
       "    }\n",
       "\n",
       "    .dataframe thead th {\n",
       "        text-align: right;\n",
       "    }\n",
       "</style>\n",
       "<table border=\"1\" class=\"dataframe\">\n",
       "  <thead>\n",
       "    <tr style=\"text-align: right;\">\n",
       "      <th></th>\n",
       "      <th>debt</th>\n",
       "    </tr>\n",
       "    <tr>\n",
       "      <th>purpose_category</th>\n",
       "      <th></th>\n",
       "    </tr>\n",
       "  </thead>\n",
       "  <tbody>\n",
       "    <tr>\n",
       "      <td>car</td>\n",
       "      <td>9.323626</td>\n",
       "    </tr>\n",
       "    <tr>\n",
       "      <td>education</td>\n",
       "      <td>9.294710</td>\n",
       "    </tr>\n",
       "    <tr>\n",
       "      <td>real estate</td>\n",
       "      <td>7.259647</td>\n",
       "    </tr>\n",
       "    <tr>\n",
       "      <td>wedding</td>\n",
       "      <td>7.872988</td>\n",
       "    </tr>\n",
       "  </tbody>\n",
       "</table>\n",
       "</div>"
      ],
      "text/plain": [
       "                      debt\n",
       "purpose_category          \n",
       "car               9.323626\n",
       "education         9.294710\n",
       "real estate       7.259647\n",
       "wedding           7.872988"
      ]
     },
     "execution_count": 117,
     "metadata": {},
     "output_type": "execute_result"
    }
   ],
   "source": [
    "# Calculating default-rate based on purpose category\n",
    "purpose_debt_pt_sum / purpose_debt_pt_count * 100\n"
   ]
  },
  {
   "cell_type": "markdown",
   "metadata": {},
   "source": [
    "The default-rate based on purpose category was calculated by dividing the sum pivot table by the count pivot table and multiplying the result by 100 to get the percentage of individuals within each category of 'purpose_category' that has ever defaulted on a loan."
   ]
  },
  {
   "cell_type": "markdown",
   "metadata": {},
   "source": [
    "**Conclusion**\n",
    "\n",
    "Based on the above results, those whose purpose is to purchase a car or finance their education tend to have higher default rates than those whose purpose is to invest in real estate or finance a wedding. Those in the real estate category had the lowest default rate while those in the car category had the highest default rates. This may be due to the fact that real estate investments often lead to income generation and appreciation in value, and  weddings indicate that an individual will likely start having a joint-income with their spouse that gives them more financial capacity to pay off loans on time. However, the purchase of a car does not give good financial returns as it depreciates each year and regularly costs additional funds for maintenance and gas, and investing in education will often lead to an individual initially having to work less and earn less to accommodate their studies, both scenarios making it difficult to repay loans on time."
   ]
  },
  {
   "cell_type": "markdown",
   "metadata": {},
   "source": [
    "# General Conclusion "
   ]
  },
  {
   "cell_type": "markdown",
   "metadata": {},
   "source": [
    "To reiterate, the overall purpose of this project was to determine whether a customer's marital status and the number of children in their family will affect a customer's risk of defaulting on a loan. Prior the formal analysis, the initial hypotheses formulated were the following:\n",
    "\n",
    "1) Married customers will have a lower risk of defaulting on a loan than unmarried customers\n",
    "\n",
    "2) Customers with no children will have a lower risk of defaulting on a loan than customers with one or more children\n",
    "\n",
    "Based on the results of the analysis, it appears that these two hypotheses were shown to be correct as married customers do have a lower risk of defaulting than unmarried customers and customers with no children have a lower risk of defaulting than customers with children.\n",
    "\n",
    "To get to these main conclusions, the data was first processed and cleaned by dropping duplicate values, fixing register errors, dropping erroneous artifacts in the data, and filling in missing values in the 'total_income' and 'days_employed' columns based on median values calculated from non-missing data. The final processed dataset 'df' contained 21,230 rows and was utilized to proceed in the analysis. Prior to testing the correlations between defaulting on a loan and various other variables, the values in the 'purpose' and 'total_income' columns were categorized for ease of analysis. Upon completing the analysis, these are the final conclusions that were drawn:\n",
    "\n",
    "**1) Is there a correlation between having children and paying back on time?**\n",
    "\n",
    "Yes, individuals with children have higher default rates than those without children.\n",
    "\n",
    "**2) Is there a correlation between family status and paying back on time?**\n",
    "\n",
    "Yes, individuals who marry tend to have lower default rates than those who do not.\n",
    "\n",
    "**3) Is there a correlation between income level and paying back on time?**\n",
    "\n",
    "Yes, individuals with the highest income tend to default less than those in lower income quartiles. \n",
    "\n",
    "**4) How does credit purpose affect the default rate?**\n",
    "\n",
    "Yes, those whose purpose is to purchase a car or finance their education tend to have higher default rates than those whose purpose is to invest in real estate or finance a wedding.\n"
   ]
  }
 ],
 "metadata": {
  "ExecuteTimeLog": [
   {
    "duration": 2741,
    "start_time": "2021-10-21T01:08:49.480Z"
   },
   {
    "duration": 52,
    "start_time": "2021-10-21T01:08:53.315Z"
   },
   {
    "duration": 49,
    "start_time": "2021-10-21T01:08:57.432Z"
   },
   {
    "duration": 70,
    "start_time": "2021-10-21T01:09:07.706Z"
   },
   {
    "duration": 796,
    "start_time": "2022-01-19T18:37:56.796Z"
   },
   {
    "duration": 15,
    "start_time": "2022-01-19T18:38:59.902Z"
   },
   {
    "duration": 12,
    "start_time": "2022-01-19T18:40:59.685Z"
   },
   {
    "duration": 12,
    "start_time": "2022-01-19T18:47:45.438Z"
   },
   {
    "duration": 593,
    "start_time": "2022-01-20T03:47:07.810Z"
   },
   {
    "duration": 12,
    "start_time": "2022-01-20T03:50:30.878Z"
   },
   {
    "duration": 353,
    "start_time": "2022-01-20T21:46:45.434Z"
   },
   {
    "duration": 800,
    "start_time": "2022-01-20T21:46:49.255Z"
   },
   {
    "duration": 14,
    "start_time": "2022-01-20T21:46:52.750Z"
   },
   {
    "duration": 13,
    "start_time": "2022-01-20T21:46:56.285Z"
   },
   {
    "duration": 370,
    "start_time": "2022-01-21T03:43:00.150Z"
   },
   {
    "duration": 651,
    "start_time": "2022-01-21T03:43:03.597Z"
   },
   {
    "duration": 41,
    "start_time": "2022-01-21T03:43:14.112Z"
   },
   {
    "duration": 389,
    "start_time": "2022-01-21T03:43:16.829Z"
   },
   {
    "duration": 41,
    "start_time": "2022-01-21T03:43:26.646Z"
   },
   {
    "duration": 7,
    "start_time": "2022-01-21T03:43:38.285Z"
   },
   {
    "duration": 330,
    "start_time": "2022-01-21T03:55:12.408Z"
   },
   {
    "duration": 43,
    "start_time": "2022-01-21T03:55:24.332Z"
   },
   {
    "duration": 368,
    "start_time": "2022-01-21T03:55:30.623Z"
   },
   {
    "duration": 8,
    "start_time": "2022-01-21T03:55:40.881Z"
   },
   {
    "duration": 747,
    "start_time": "2022-01-21T14:32:56.775Z"
   },
   {
    "duration": 12,
    "start_time": "2022-01-21T14:32:57.525Z"
   },
   {
    "duration": 16,
    "start_time": "2022-01-21T14:32:57.539Z"
   },
   {
    "duration": 17,
    "start_time": "2022-01-21T14:32:57.558Z"
   },
   {
    "duration": 11,
    "start_time": "2022-01-21T14:32:57.578Z"
   },
   {
    "duration": 18,
    "start_time": "2022-01-21T14:33:00.881Z"
   },
   {
    "duration": 14,
    "start_time": "2022-01-21T14:33:14.222Z"
   },
   {
    "duration": 6336,
    "start_time": "2022-01-21T15:24:40.614Z"
   },
   {
    "duration": 181,
    "start_time": "2022-01-21T15:25:13.708Z"
   },
   {
    "duration": 247,
    "start_time": "2022-01-21T15:25:27.330Z"
   },
   {
    "duration": 42,
    "start_time": "2022-01-21T15:29:20.225Z"
   },
   {
    "duration": 5330,
    "start_time": "2022-01-21T15:31:15.428Z"
   },
   {
    "duration": 5125,
    "start_time": "2022-01-21T15:31:38.134Z"
   },
   {
    "duration": 247,
    "start_time": "2022-01-21T15:31:45.735Z"
   },
   {
    "duration": 4889,
    "start_time": "2022-01-21T15:33:48.775Z"
   },
   {
    "duration": 45,
    "start_time": "2022-01-21T15:34:24.047Z"
   },
   {
    "duration": 21,
    "start_time": "2022-01-21T15:34:47.279Z"
   },
   {
    "duration": 92,
    "start_time": "2022-01-21T15:35:04.293Z"
   },
   {
    "duration": 122,
    "start_time": "2022-01-21T15:35:15.715Z"
   },
   {
    "duration": 12,
    "start_time": "2022-01-21T15:35:24.478Z"
   },
   {
    "duration": 76,
    "start_time": "2022-01-21T15:35:26.683Z"
   },
   {
    "duration": 55,
    "start_time": "2022-01-21T15:35:39.966Z"
   },
   {
    "duration": 88,
    "start_time": "2022-01-21T15:35:42.910Z"
   },
   {
    "duration": 128,
    "start_time": "2022-01-21T15:36:03.737Z"
   },
   {
    "duration": 44,
    "start_time": "2022-01-21T15:36:22.504Z"
   },
   {
    "duration": 17,
    "start_time": "2022-01-21T15:37:00.881Z"
   },
   {
    "duration": 18,
    "start_time": "2022-01-21T15:37:07.802Z"
   },
   {
    "duration": 24,
    "start_time": "2022-01-21T15:37:30.645Z"
   },
   {
    "duration": 17,
    "start_time": "2022-01-21T15:38:14.604Z"
   },
   {
    "duration": 44,
    "start_time": "2022-01-21T15:38:34.493Z"
   },
   {
    "duration": 23,
    "start_time": "2022-01-21T15:47:15.291Z"
   },
   {
    "duration": 35,
    "start_time": "2022-01-21T15:47:20.874Z"
   },
   {
    "duration": 38,
    "start_time": "2022-01-21T15:49:23.126Z"
   },
   {
    "duration": 44,
    "start_time": "2022-01-21T15:51:08.818Z"
   },
   {
    "duration": 37,
    "start_time": "2022-01-21T15:52:54.150Z"
   },
   {
    "duration": 6,
    "start_time": "2022-01-21T15:54:00.688Z"
   },
   {
    "duration": 35,
    "start_time": "2022-01-21T15:54:17.435Z"
   },
   {
    "duration": 35,
    "start_time": "2022-01-21T16:18:59.554Z"
   },
   {
    "duration": 32,
    "start_time": "2022-01-21T16:20:03.570Z"
   },
   {
    "duration": 5,
    "start_time": "2022-01-21T16:20:06.212Z"
   },
   {
    "duration": 9,
    "start_time": "2022-01-21T16:39:13.586Z"
   },
   {
    "duration": 9,
    "start_time": "2022-01-21T16:40:28.997Z"
   },
   {
    "duration": 9,
    "start_time": "2022-01-21T16:41:58.150Z"
   },
   {
    "duration": 10,
    "start_time": "2022-01-21T16:42:15.292Z"
   },
   {
    "duration": 10,
    "start_time": "2022-01-21T16:42:30.036Z"
   },
   {
    "duration": 10,
    "start_time": "2022-01-21T16:42:32.124Z"
   },
   {
    "duration": 8,
    "start_time": "2022-01-21T16:51:47.331Z"
   },
   {
    "duration": 9,
    "start_time": "2022-01-21T16:51:50.019Z"
   },
   {
    "duration": 11,
    "start_time": "2022-01-21T17:06:44.922Z"
   },
   {
    "duration": 625,
    "start_time": "2022-01-21T21:03:50.298Z"
   },
   {
    "duration": 8,
    "start_time": "2022-01-21T21:03:50.925Z"
   },
   {
    "duration": 9,
    "start_time": "2022-01-21T21:03:50.935Z"
   },
   {
    "duration": 17,
    "start_time": "2022-01-21T21:03:50.946Z"
   },
   {
    "duration": 20,
    "start_time": "2022-01-21T21:03:50.964Z"
   },
   {
    "duration": 46,
    "start_time": "2022-01-21T21:03:50.985Z"
   },
   {
    "duration": 4,
    "start_time": "2022-01-21T21:03:51.033Z"
   },
   {
    "duration": 7,
    "start_time": "2022-01-21T21:03:51.040Z"
   },
   {
    "duration": 7,
    "start_time": "2022-01-21T21:03:51.049Z"
   },
   {
    "duration": 7,
    "start_time": "2022-01-21T21:03:51.058Z"
   },
   {
    "duration": 5,
    "start_time": "2022-01-21T21:04:36.240Z"
   },
   {
    "duration": 4,
    "start_time": "2022-01-21T21:04:48.226Z"
   },
   {
    "duration": 4,
    "start_time": "2022-01-21T21:04:54.508Z"
   },
   {
    "duration": 17,
    "start_time": "2022-01-21T21:19:36.280Z"
   },
   {
    "duration": 5,
    "start_time": "2022-01-21T21:20:02.589Z"
   },
   {
    "duration": 7,
    "start_time": "2022-01-21T21:22:58.938Z"
   },
   {
    "duration": 7,
    "start_time": "2022-01-21T21:23:26.380Z"
   },
   {
    "duration": 16,
    "start_time": "2022-01-21T21:33:20.171Z"
   },
   {
    "duration": 285,
    "start_time": "2022-01-21T21:33:49.434Z"
   },
   {
    "duration": 14,
    "start_time": "2022-01-21T21:34:00.964Z"
   },
   {
    "duration": 12,
    "start_time": "2022-01-21T21:34:50.463Z"
   },
   {
    "duration": 14,
    "start_time": "2022-01-21T21:36:03.472Z"
   },
   {
    "duration": 14,
    "start_time": "2022-01-21T21:36:31.150Z"
   },
   {
    "duration": 13,
    "start_time": "2022-01-21T21:42:31.753Z"
   },
   {
    "duration": 7,
    "start_time": "2022-01-21T21:43:04.382Z"
   },
   {
    "duration": 8,
    "start_time": "2022-01-21T21:43:28.436Z"
   },
   {
    "duration": 199,
    "start_time": "2022-01-21T21:43:58.161Z"
   },
   {
    "duration": 4,
    "start_time": "2022-01-21T21:44:14.250Z"
   },
   {
    "duration": 71,
    "start_time": "2022-01-21T21:44:27.188Z"
   },
   {
    "duration": 4,
    "start_time": "2022-01-21T21:44:37.053Z"
   },
   {
    "duration": 7,
    "start_time": "2022-01-21T21:44:42.518Z"
   },
   {
    "duration": 4,
    "start_time": "2022-01-21T21:44:45.865Z"
   },
   {
    "duration": 3,
    "start_time": "2022-01-21T21:57:34.887Z"
   },
   {
    "duration": 9,
    "start_time": "2022-01-21T21:59:24.637Z"
   },
   {
    "duration": 8,
    "start_time": "2022-01-21T22:00:00.606Z"
   },
   {
    "duration": 7,
    "start_time": "2022-01-21T22:00:06.780Z"
   },
   {
    "duration": 5,
    "start_time": "2022-01-21T22:00:23.892Z"
   },
   {
    "duration": 8,
    "start_time": "2022-01-21T22:01:05.863Z"
   },
   {
    "duration": 208,
    "start_time": "2022-01-21T22:10:53.628Z"
   },
   {
    "duration": 8,
    "start_time": "2022-01-21T22:11:27.101Z"
   },
   {
    "duration": 6,
    "start_time": "2022-01-21T22:11:50.230Z"
   },
   {
    "duration": 6,
    "start_time": "2022-01-21T22:12:20.980Z"
   },
   {
    "duration": 564,
    "start_time": "2022-01-23T02:36:32.250Z"
   },
   {
    "duration": 8,
    "start_time": "2022-01-23T02:36:32.816Z"
   },
   {
    "duration": 14,
    "start_time": "2022-01-23T02:36:32.826Z"
   },
   {
    "duration": 18,
    "start_time": "2022-01-23T02:36:32.842Z"
   },
   {
    "duration": 37,
    "start_time": "2022-01-23T02:36:32.862Z"
   },
   {
    "duration": 20,
    "start_time": "2022-01-23T02:36:32.901Z"
   },
   {
    "duration": 3,
    "start_time": "2022-01-23T02:36:32.922Z"
   },
   {
    "duration": 7,
    "start_time": "2022-01-23T02:36:32.927Z"
   },
   {
    "duration": 8,
    "start_time": "2022-01-23T02:36:32.937Z"
   },
   {
    "duration": 7,
    "start_time": "2022-01-23T02:36:32.947Z"
   },
   {
    "duration": 4,
    "start_time": "2022-01-23T02:36:32.955Z"
   },
   {
    "duration": 5,
    "start_time": "2022-01-23T02:36:32.961Z"
   },
   {
    "duration": 13,
    "start_time": "2022-01-23T02:36:32.997Z"
   },
   {
    "duration": 11,
    "start_time": "2022-01-23T02:36:33.011Z"
   },
   {
    "duration": 8,
    "start_time": "2022-01-23T02:36:33.023Z"
   },
   {
    "duration": 7,
    "start_time": "2022-01-23T02:36:33.032Z"
   },
   {
    "duration": 7,
    "start_time": "2022-01-23T02:36:33.041Z"
   },
   {
    "duration": 3,
    "start_time": "2022-01-23T02:36:33.049Z"
   },
   {
    "duration": 11,
    "start_time": "2022-01-23T02:36:37.105Z"
   },
   {
    "duration": 46,
    "start_time": "2022-01-23T03:29:17.944Z"
   },
   {
    "duration": 4,
    "start_time": "2022-01-23T03:29:17.992Z"
   },
   {
    "duration": 11,
    "start_time": "2022-01-23T03:29:17.998Z"
   },
   {
    "duration": 19,
    "start_time": "2022-01-23T03:29:18.011Z"
   },
   {
    "duration": 20,
    "start_time": "2022-01-23T03:29:18.031Z"
   },
   {
    "duration": 47,
    "start_time": "2022-01-23T03:29:18.053Z"
   },
   {
    "duration": 3,
    "start_time": "2022-01-23T03:29:18.102Z"
   },
   {
    "duration": 6,
    "start_time": "2022-01-23T03:29:18.108Z"
   },
   {
    "duration": 11,
    "start_time": "2022-01-23T03:29:18.116Z"
   },
   {
    "duration": 9,
    "start_time": "2022-01-23T03:29:18.129Z"
   },
   {
    "duration": 7,
    "start_time": "2022-01-23T03:29:18.140Z"
   },
   {
    "duration": 4,
    "start_time": "2022-01-23T03:29:18.149Z"
   },
   {
    "duration": 7,
    "start_time": "2022-01-23T03:29:18.155Z"
   },
   {
    "duration": 40,
    "start_time": "2022-01-23T03:29:18.164Z"
   },
   {
    "duration": 7,
    "start_time": "2022-01-23T03:29:18.206Z"
   },
   {
    "duration": 8,
    "start_time": "2022-01-23T03:29:18.215Z"
   },
   {
    "duration": 9,
    "start_time": "2022-01-23T03:29:18.224Z"
   },
   {
    "duration": 5,
    "start_time": "2022-01-23T03:29:18.234Z"
   },
   {
    "duration": 11,
    "start_time": "2022-01-23T03:29:21.733Z"
   },
   {
    "duration": 9,
    "start_time": "2022-01-23T03:31:32.384Z"
   },
   {
    "duration": 8,
    "start_time": "2022-01-23T03:31:53.592Z"
   },
   {
    "duration": 6,
    "start_time": "2022-01-23T03:31:55.523Z"
   },
   {
    "duration": 6,
    "start_time": "2022-01-23T03:41:30.073Z"
   },
   {
    "duration": 3253,
    "start_time": "2022-01-23T03:43:21.276Z"
   },
   {
    "duration": -262,
    "start_time": "2022-01-23T03:43:24.793Z"
   },
   {
    "duration": 6,
    "start_time": "2022-01-23T03:44:14.839Z"
   },
   {
    "duration": 58,
    "start_time": "2022-01-23T03:45:57.182Z"
   },
   {
    "duration": 204,
    "start_time": "2022-01-23T03:46:10.230Z"
   },
   {
    "duration": 6,
    "start_time": "2022-01-23T03:46:56.615Z"
   },
   {
    "duration": 6,
    "start_time": "2022-01-23T03:46:58.732Z"
   },
   {
    "duration": 5,
    "start_time": "2022-01-23T03:47:11.444Z"
   },
   {
    "duration": 5,
    "start_time": "2022-01-23T03:47:41.189Z"
   },
   {
    "duration": 12,
    "start_time": "2022-01-23T03:48:01.492Z"
   },
   {
    "duration": 9,
    "start_time": "2022-01-23T03:48:16.695Z"
   },
   {
    "duration": 8,
    "start_time": "2022-01-23T03:51:25.653Z"
   },
   {
    "duration": 6,
    "start_time": "2022-01-23T03:56:36.494Z"
   },
   {
    "duration": 4,
    "start_time": "2022-01-23T03:56:57.023Z"
   },
   {
    "duration": 4,
    "start_time": "2022-01-23T04:00:24.988Z"
   },
   {
    "duration": 4,
    "start_time": "2022-01-23T04:04:24.620Z"
   },
   {
    "duration": 11,
    "start_time": "2022-01-23T04:12:38.609Z"
   },
   {
    "duration": 181,
    "start_time": "2022-01-23T04:21:11.827Z"
   },
   {
    "duration": 22,
    "start_time": "2022-01-23T04:21:44.516Z"
   },
   {
    "duration": 4,
    "start_time": "2022-01-23T04:22:00.132Z"
   },
   {
    "duration": 44,
    "start_time": "2022-01-23T04:22:20.092Z"
   },
   {
    "duration": 4,
    "start_time": "2022-01-23T04:22:20.138Z"
   },
   {
    "duration": 31,
    "start_time": "2022-01-23T04:22:20.144Z"
   },
   {
    "duration": 49,
    "start_time": "2022-01-23T04:22:20.176Z"
   },
   {
    "duration": 43,
    "start_time": "2022-01-23T04:22:20.226Z"
   },
   {
    "duration": 44,
    "start_time": "2022-01-23T04:22:20.271Z"
   },
   {
    "duration": 14,
    "start_time": "2022-01-23T04:22:20.317Z"
   },
   {
    "duration": 21,
    "start_time": "2022-01-23T04:22:20.333Z"
   },
   {
    "duration": 36,
    "start_time": "2022-01-23T04:22:20.356Z"
   },
   {
    "duration": 38,
    "start_time": "2022-01-23T04:22:20.394Z"
   },
   {
    "duration": 47,
    "start_time": "2022-01-23T04:22:20.434Z"
   },
   {
    "duration": 40,
    "start_time": "2022-01-23T04:22:20.483Z"
   },
   {
    "duration": 60,
    "start_time": "2022-01-23T04:22:20.525Z"
   },
   {
    "duration": 33,
    "start_time": "2022-01-23T04:22:20.587Z"
   },
   {
    "duration": 34,
    "start_time": "2022-01-23T04:22:20.621Z"
   },
   {
    "duration": 25,
    "start_time": "2022-01-23T04:22:20.657Z"
   },
   {
    "duration": 33,
    "start_time": "2022-01-23T04:22:20.684Z"
   },
   {
    "duration": 29,
    "start_time": "2022-01-23T04:22:20.718Z"
   },
   {
    "duration": 31,
    "start_time": "2022-01-23T04:22:20.749Z"
   },
   {
    "duration": 24,
    "start_time": "2022-01-23T04:22:20.782Z"
   },
   {
    "duration": 20,
    "start_time": "2022-01-23T04:22:20.808Z"
   },
   {
    "duration": 34,
    "start_time": "2022-01-23T04:22:20.829Z"
   },
   {
    "duration": 33,
    "start_time": "2022-01-23T04:22:20.865Z"
   },
   {
    "duration": 28,
    "start_time": "2022-01-23T04:22:20.900Z"
   },
   {
    "duration": 26,
    "start_time": "2022-01-23T04:22:20.930Z"
   },
   {
    "duration": 44,
    "start_time": "2022-01-23T04:22:20.958Z"
   },
   {
    "duration": 14,
    "start_time": "2022-01-23T04:22:21.005Z"
   },
   {
    "duration": 20,
    "start_time": "2022-01-23T04:22:21.020Z"
   },
   {
    "duration": 30,
    "start_time": "2022-01-23T04:22:21.042Z"
   },
   {
    "duration": 23,
    "start_time": "2022-01-23T04:22:21.074Z"
   },
   {
    "duration": 9,
    "start_time": "2022-01-23T04:24:25.692Z"
   },
   {
    "duration": 4,
    "start_time": "2022-01-23T04:24:28.183Z"
   },
   {
    "duration": 4,
    "start_time": "2022-01-23T04:26:51.734Z"
   },
   {
    "duration": 16,
    "start_time": "2022-01-23T04:32:44.091Z"
   },
   {
    "duration": 13,
    "start_time": "2022-01-23T04:33:27.214Z"
   },
   {
    "duration": 16,
    "start_time": "2022-01-23T04:33:52.292Z"
   },
   {
    "duration": 15,
    "start_time": "2022-01-23T04:34:33.159Z"
   },
   {
    "duration": 25,
    "start_time": "2022-01-23T04:38:05.129Z"
   },
   {
    "duration": 15,
    "start_time": "2022-01-23T04:38:15.321Z"
   },
   {
    "duration": 31,
    "start_time": "2022-01-23T04:39:26.382Z"
   },
   {
    "duration": 30,
    "start_time": "2022-01-23T04:40:44.789Z"
   },
   {
    "duration": 30,
    "start_time": "2022-01-23T04:40:57.037Z"
   },
   {
    "duration": 30,
    "start_time": "2022-01-23T04:41:05.256Z"
   },
   {
    "duration": 30,
    "start_time": "2022-01-23T04:42:25.630Z"
   },
   {
    "duration": 30,
    "start_time": "2022-01-23T04:42:54.725Z"
   },
   {
    "duration": 33,
    "start_time": "2022-01-23T04:46:02.629Z"
   },
   {
    "duration": 29,
    "start_time": "2022-01-23T04:47:08.023Z"
   },
   {
    "duration": 14,
    "start_time": "2022-01-23T04:47:57.294Z"
   },
   {
    "duration": 14,
    "start_time": "2022-01-23T04:48:23.546Z"
   },
   {
    "duration": 19,
    "start_time": "2022-01-23T04:49:53.068Z"
   },
   {
    "duration": 15,
    "start_time": "2022-01-23T04:50:29.785Z"
   },
   {
    "duration": 14,
    "start_time": "2022-01-23T04:50:34.639Z"
   },
   {
    "duration": 32,
    "start_time": "2022-01-23T04:50:42.309Z"
   },
   {
    "duration": 15,
    "start_time": "2022-01-23T04:51:14.577Z"
   },
   {
    "duration": 17,
    "start_time": "2022-01-23T04:51:38.238Z"
   },
   {
    "duration": 15,
    "start_time": "2022-01-23T04:51:41.349Z"
   },
   {
    "duration": 3,
    "start_time": "2022-01-23T04:52:06.910Z"
   },
   {
    "duration": 15,
    "start_time": "2022-01-23T04:53:43.601Z"
   },
   {
    "duration": 42,
    "start_time": "2022-01-23T04:53:53.398Z"
   },
   {
    "duration": 3,
    "start_time": "2022-01-23T04:53:53.442Z"
   },
   {
    "duration": 11,
    "start_time": "2022-01-23T04:53:53.447Z"
   },
   {
    "duration": 23,
    "start_time": "2022-01-23T04:53:53.459Z"
   },
   {
    "duration": 26,
    "start_time": "2022-01-23T04:53:53.484Z"
   },
   {
    "duration": 20,
    "start_time": "2022-01-23T04:53:53.512Z"
   },
   {
    "duration": 4,
    "start_time": "2022-01-23T04:53:53.545Z"
   },
   {
    "duration": 8,
    "start_time": "2022-01-23T04:53:53.551Z"
   },
   {
    "duration": 10,
    "start_time": "2022-01-23T04:53:53.561Z"
   },
   {
    "duration": 27,
    "start_time": "2022-01-23T04:53:53.573Z"
   },
   {
    "duration": 2,
    "start_time": "2022-01-23T04:53:53.602Z"
   },
   {
    "duration": 5,
    "start_time": "2022-01-23T04:53:53.605Z"
   },
   {
    "duration": 13,
    "start_time": "2022-01-23T04:53:53.611Z"
   },
   {
    "duration": 10,
    "start_time": "2022-01-23T04:53:53.626Z"
   },
   {
    "duration": 7,
    "start_time": "2022-01-23T04:53:53.639Z"
   },
   {
    "duration": 6,
    "start_time": "2022-01-23T04:53:53.648Z"
   },
   {
    "duration": 6,
    "start_time": "2022-01-23T04:53:53.656Z"
   },
   {
    "duration": 34,
    "start_time": "2022-01-23T04:53:53.664Z"
   },
   {
    "duration": 9,
    "start_time": "2022-01-23T04:53:53.700Z"
   },
   {
    "duration": 7,
    "start_time": "2022-01-23T04:53:53.711Z"
   },
   {
    "duration": 7,
    "start_time": "2022-01-23T04:53:53.719Z"
   },
   {
    "duration": 10,
    "start_time": "2022-01-23T04:53:53.728Z"
   },
   {
    "duration": 10,
    "start_time": "2022-01-23T04:53:53.739Z"
   },
   {
    "duration": 7,
    "start_time": "2022-01-23T04:53:53.751Z"
   },
   {
    "duration": 7,
    "start_time": "2022-01-23T04:53:53.760Z"
   },
   {
    "duration": 4,
    "start_time": "2022-01-23T04:53:53.797Z"
   },
   {
    "duration": 7,
    "start_time": "2022-01-23T04:53:53.803Z"
   },
   {
    "duration": 4,
    "start_time": "2022-01-23T04:53:53.811Z"
   },
   {
    "duration": 6,
    "start_time": "2022-01-23T04:53:53.817Z"
   },
   {
    "duration": 16,
    "start_time": "2022-01-23T04:53:53.824Z"
   },
   {
    "duration": 9,
    "start_time": "2022-01-23T04:53:53.842Z"
   },
   {
    "duration": 7,
    "start_time": "2022-01-23T04:53:53.852Z"
   },
   {
    "duration": 9,
    "start_time": "2022-01-23T04:53:53.860Z"
   },
   {
    "duration": 5,
    "start_time": "2022-01-23T04:53:53.871Z"
   },
   {
    "duration": 20,
    "start_time": "2022-01-23T04:53:53.878Z"
   },
   {
    "duration": 15,
    "start_time": "2022-01-23T04:53:57.257Z"
   },
   {
    "duration": 15,
    "start_time": "2022-01-23T04:54:01.265Z"
   },
   {
    "duration": 3,
    "start_time": "2022-01-23T05:00:55.285Z"
   },
   {
    "duration": 44,
    "start_time": "2022-01-23T05:01:14.089Z"
   },
   {
    "duration": 3,
    "start_time": "2022-01-23T05:01:14.134Z"
   },
   {
    "duration": 12,
    "start_time": "2022-01-23T05:01:14.139Z"
   },
   {
    "duration": 19,
    "start_time": "2022-01-23T05:01:14.153Z"
   },
   {
    "duration": 21,
    "start_time": "2022-01-23T05:01:14.198Z"
   },
   {
    "duration": 20,
    "start_time": "2022-01-23T05:01:14.221Z"
   },
   {
    "duration": 3,
    "start_time": "2022-01-23T05:01:14.243Z"
   },
   {
    "duration": 7,
    "start_time": "2022-01-23T05:01:14.248Z"
   },
   {
    "duration": 9,
    "start_time": "2022-01-23T05:01:14.258Z"
   },
   {
    "duration": 8,
    "start_time": "2022-01-23T05:01:14.297Z"
   },
   {
    "duration": 7,
    "start_time": "2022-01-23T05:01:14.306Z"
   },
   {
    "duration": 8,
    "start_time": "2022-01-23T05:01:14.315Z"
   },
   {
    "duration": 8,
    "start_time": "2022-01-23T05:01:14.325Z"
   },
   {
    "duration": 13,
    "start_time": "2022-01-23T05:01:14.334Z"
   },
   {
    "duration": 9,
    "start_time": "2022-01-23T05:01:14.348Z"
   },
   {
    "duration": 8,
    "start_time": "2022-01-23T05:01:14.359Z"
   },
   {
    "duration": 30,
    "start_time": "2022-01-23T05:01:14.369Z"
   },
   {
    "duration": 3,
    "start_time": "2022-01-23T05:01:14.401Z"
   },
   {
    "duration": 17,
    "start_time": "2022-01-23T05:01:14.405Z"
   },
   {
    "duration": 7,
    "start_time": "2022-01-23T05:01:14.424Z"
   },
   {
    "duration": 7,
    "start_time": "2022-01-23T05:01:14.433Z"
   },
   {
    "duration": 9,
    "start_time": "2022-01-23T05:01:14.442Z"
   },
   {
    "duration": 11,
    "start_time": "2022-01-23T05:01:14.453Z"
   },
   {
    "duration": 6,
    "start_time": "2022-01-23T05:01:14.465Z"
   },
   {
    "duration": 28,
    "start_time": "2022-01-23T05:01:14.472Z"
   },
   {
    "duration": 7,
    "start_time": "2022-01-23T05:01:14.501Z"
   },
   {
    "duration": 7,
    "start_time": "2022-01-23T05:01:14.512Z"
   },
   {
    "duration": 6,
    "start_time": "2022-01-23T05:01:14.521Z"
   },
   {
    "duration": 12,
    "start_time": "2022-01-23T05:01:14.528Z"
   },
   {
    "duration": 13,
    "start_time": "2022-01-23T05:01:14.541Z"
   },
   {
    "duration": 7,
    "start_time": "2022-01-23T05:01:14.556Z"
   },
   {
    "duration": 4,
    "start_time": "2022-01-23T05:01:14.565Z"
   },
   {
    "duration": 27,
    "start_time": "2022-01-23T05:01:14.570Z"
   },
   {
    "duration": 7,
    "start_time": "2022-01-23T05:01:14.599Z"
   },
   {
    "duration": 6,
    "start_time": "2022-01-23T05:01:14.607Z"
   },
   {
    "duration": 19,
    "start_time": "2022-01-23T05:01:14.615Z"
   },
   {
    "duration": 14,
    "start_time": "2022-01-23T05:01:14.635Z"
   },
   {
    "duration": 17,
    "start_time": "2022-01-23T05:01:14.650Z"
   },
   {
    "duration": 39,
    "start_time": "2022-01-23T05:01:14.668Z"
   },
   {
    "duration": 4,
    "start_time": "2022-01-23T05:01:39.333Z"
   },
   {
    "duration": 5,
    "start_time": "2022-01-23T05:01:58.906Z"
   },
   {
    "duration": 4,
    "start_time": "2022-01-23T05:02:57.076Z"
   },
   {
    "duration": 4,
    "start_time": "2022-01-23T05:03:18.387Z"
   },
   {
    "duration": 4,
    "start_time": "2022-01-23T05:03:35.117Z"
   },
   {
    "duration": 3,
    "start_time": "2022-01-23T05:03:40.223Z"
   },
   {
    "duration": 4,
    "start_time": "2022-01-23T05:03:51.343Z"
   },
   {
    "duration": 4,
    "start_time": "2022-01-23T05:04:52.014Z"
   },
   {
    "duration": 4,
    "start_time": "2022-01-23T05:04:57.729Z"
   },
   {
    "duration": 174,
    "start_time": "2022-01-23T05:16:59.064Z"
   },
   {
    "duration": 170,
    "start_time": "2022-01-23T05:17:07.114Z"
   },
   {
    "duration": 10,
    "start_time": "2022-01-23T05:17:34.830Z"
   },
   {
    "duration": 12,
    "start_time": "2022-01-23T05:17:53.164Z"
   },
   {
    "duration": 180,
    "start_time": "2022-01-23T05:19:34.123Z"
   },
   {
    "duration": 8,
    "start_time": "2022-01-23T05:19:44.698Z"
   },
   {
    "duration": 9,
    "start_time": "2022-01-23T05:19:55.303Z"
   },
   {
    "duration": 790,
    "start_time": "2022-01-25T15:35:22.882Z"
   },
   {
    "duration": 4,
    "start_time": "2022-01-25T15:35:23.675Z"
   },
   {
    "duration": 16,
    "start_time": "2022-01-25T15:35:23.682Z"
   },
   {
    "duration": 35,
    "start_time": "2022-01-25T15:35:23.701Z"
   },
   {
    "duration": 61,
    "start_time": "2022-01-25T15:35:23.738Z"
   },
   {
    "duration": 31,
    "start_time": "2022-01-25T15:35:23.801Z"
   },
   {
    "duration": 5,
    "start_time": "2022-01-25T15:35:23.835Z"
   },
   {
    "duration": 9,
    "start_time": "2022-01-25T15:35:23.870Z"
   },
   {
    "duration": 14,
    "start_time": "2022-01-25T15:35:23.883Z"
   },
   {
    "duration": 10,
    "start_time": "2022-01-25T15:35:23.900Z"
   },
   {
    "duration": 6,
    "start_time": "2022-01-25T15:35:23.913Z"
   },
   {
    "duration": 6,
    "start_time": "2022-01-25T15:35:23.921Z"
   },
   {
    "duration": 43,
    "start_time": "2022-01-25T15:35:23.929Z"
   },
   {
    "duration": 14,
    "start_time": "2022-01-25T15:35:23.974Z"
   },
   {
    "duration": 9,
    "start_time": "2022-01-25T15:35:23.990Z"
   },
   {
    "duration": 9,
    "start_time": "2022-01-25T15:35:24.001Z"
   },
   {
    "duration": 8,
    "start_time": "2022-01-25T15:35:24.012Z"
   },
   {
    "duration": 50,
    "start_time": "2022-01-25T15:35:24.022Z"
   },
   {
    "duration": 11,
    "start_time": "2022-01-25T15:35:24.074Z"
   },
   {
    "duration": 10,
    "start_time": "2022-01-25T15:35:24.088Z"
   },
   {
    "duration": 7,
    "start_time": "2022-01-25T15:35:24.100Z"
   },
   {
    "duration": 13,
    "start_time": "2022-01-25T15:35:24.109Z"
   },
   {
    "duration": 54,
    "start_time": "2022-01-25T15:35:24.124Z"
   },
   {
    "duration": 8,
    "start_time": "2022-01-25T15:35:24.181Z"
   },
   {
    "duration": 7,
    "start_time": "2022-01-25T15:35:24.191Z"
   },
   {
    "duration": 7,
    "start_time": "2022-01-25T15:35:24.200Z"
   },
   {
    "duration": 3,
    "start_time": "2022-01-25T15:35:24.213Z"
   },
   {
    "duration": 51,
    "start_time": "2022-01-25T15:35:24.219Z"
   },
   {
    "duration": 8,
    "start_time": "2022-01-25T15:35:24.273Z"
   },
   {
    "duration": 20,
    "start_time": "2022-01-25T15:35:24.283Z"
   },
   {
    "duration": 13,
    "start_time": "2022-01-25T15:35:24.305Z"
   },
   {
    "duration": 6,
    "start_time": "2022-01-25T15:35:24.320Z"
   },
   {
    "duration": 44,
    "start_time": "2022-01-25T15:35:24.328Z"
   },
   {
    "duration": 3,
    "start_time": "2022-01-25T15:35:24.374Z"
   },
   {
    "duration": 10,
    "start_time": "2022-01-25T15:35:24.380Z"
   },
   {
    "duration": 23,
    "start_time": "2022-01-25T15:35:24.393Z"
   },
   {
    "duration": 58,
    "start_time": "2022-01-25T15:35:24.418Z"
   },
   {
    "duration": 24,
    "start_time": "2022-01-25T15:35:24.479Z"
   },
   {
    "duration": 21,
    "start_time": "2022-01-25T15:35:24.506Z"
   },
   {
    "duration": 4,
    "start_time": "2022-01-25T15:35:24.529Z"
   },
   {
    "duration": 33,
    "start_time": "2022-01-25T15:35:24.536Z"
   },
   {
    "duration": 55,
    "start_time": "2022-01-25T16:53:02.678Z"
   },
   {
    "duration": 5,
    "start_time": "2022-01-25T16:53:02.735Z"
   },
   {
    "duration": 37,
    "start_time": "2022-01-25T16:53:02.742Z"
   },
   {
    "duration": 23,
    "start_time": "2022-01-25T16:53:02.783Z"
   },
   {
    "duration": 76,
    "start_time": "2022-01-25T16:53:02.809Z"
   },
   {
    "duration": 43,
    "start_time": "2022-01-25T16:53:02.888Z"
   },
   {
    "duration": 7,
    "start_time": "2022-01-25T16:53:02.934Z"
   },
   {
    "duration": 8,
    "start_time": "2022-01-25T16:53:02.970Z"
   },
   {
    "duration": 10,
    "start_time": "2022-01-25T16:53:02.983Z"
   },
   {
    "duration": 11,
    "start_time": "2022-01-25T16:53:02.997Z"
   },
   {
    "duration": 59,
    "start_time": "2022-01-25T16:53:03.010Z"
   },
   {
    "duration": 6,
    "start_time": "2022-01-25T16:53:03.072Z"
   },
   {
    "duration": 9,
    "start_time": "2022-01-25T16:53:03.080Z"
   },
   {
    "duration": 15,
    "start_time": "2022-01-25T16:53:03.091Z"
   },
   {
    "duration": 7,
    "start_time": "2022-01-25T16:53:03.108Z"
   },
   {
    "duration": 57,
    "start_time": "2022-01-25T16:53:03.118Z"
   },
   {
    "duration": 11,
    "start_time": "2022-01-25T16:53:03.177Z"
   },
   {
    "duration": 5,
    "start_time": "2022-01-25T16:53:03.191Z"
   },
   {
    "duration": 12,
    "start_time": "2022-01-25T16:53:03.198Z"
   },
   {
    "duration": 59,
    "start_time": "2022-01-25T16:53:03.212Z"
   },
   {
    "duration": 7,
    "start_time": "2022-01-25T16:53:03.273Z"
   },
   {
    "duration": 14,
    "start_time": "2022-01-25T16:53:03.283Z"
   },
   {
    "duration": 13,
    "start_time": "2022-01-25T16:53:03.299Z"
   },
   {
    "duration": 7,
    "start_time": "2022-01-25T16:53:03.314Z"
   },
   {
    "duration": 49,
    "start_time": "2022-01-25T16:53:03.324Z"
   },
   {
    "duration": 12,
    "start_time": "2022-01-25T16:53:03.376Z"
   },
   {
    "duration": 4,
    "start_time": "2022-01-25T16:53:03.393Z"
   },
   {
    "duration": 10,
    "start_time": "2022-01-25T16:53:03.400Z"
   },
   {
    "duration": 11,
    "start_time": "2022-01-25T16:53:03.412Z"
   },
   {
    "duration": 61,
    "start_time": "2022-01-25T16:53:03.425Z"
   },
   {
    "duration": 14,
    "start_time": "2022-01-25T16:53:03.488Z"
   },
   {
    "duration": 8,
    "start_time": "2022-01-25T16:53:03.504Z"
   },
   {
    "duration": 10,
    "start_time": "2022-01-25T16:53:03.514Z"
   },
   {
    "duration": 43,
    "start_time": "2022-01-25T16:53:03.526Z"
   },
   {
    "duration": 9,
    "start_time": "2022-01-25T16:53:03.572Z"
   },
   {
    "duration": 27,
    "start_time": "2022-01-25T16:53:03.584Z"
   },
   {
    "duration": 58,
    "start_time": "2022-01-25T16:53:03.614Z"
   },
   {
    "duration": 25,
    "start_time": "2022-01-25T16:53:03.674Z"
   },
   {
    "duration": 22,
    "start_time": "2022-01-25T16:53:03.701Z"
   },
   {
    "duration": 5,
    "start_time": "2022-01-25T16:53:03.725Z"
   },
   {
    "duration": 38,
    "start_time": "2022-01-25T16:53:03.733Z"
   },
   {
    "duration": 16,
    "start_time": "2022-01-25T16:53:03.775Z"
   },
   {
    "duration": 16,
    "start_time": "2022-01-25T16:53:03.794Z"
   },
   {
    "duration": 5,
    "start_time": "2022-01-25T16:53:11.008Z"
   },
   {
    "duration": 5,
    "start_time": "2022-01-25T16:53:12.740Z"
   },
   {
    "duration": 87,
    "start_time": "2022-01-25T16:54:02.170Z"
   },
   {
    "duration": 5,
    "start_time": "2022-01-25T16:54:20.534Z"
   },
   {
    "duration": 4,
    "start_time": "2022-01-25T16:54:21.970Z"
   },
   {
    "duration": 4,
    "start_time": "2022-01-25T16:54:47.256Z"
   },
   {
    "duration": 6,
    "start_time": "2022-01-25T16:55:46.670Z"
   },
   {
    "duration": 4,
    "start_time": "2022-01-25T16:55:52.637Z"
   },
   {
    "duration": 6,
    "start_time": "2022-01-25T16:56:50.452Z"
   },
   {
    "duration": 5,
    "start_time": "2022-01-25T16:56:54.823Z"
   },
   {
    "duration": 6,
    "start_time": "2022-01-25T16:57:11.759Z"
   },
   {
    "duration": 5,
    "start_time": "2022-01-25T16:57:39.760Z"
   },
   {
    "duration": 14,
    "start_time": "2022-01-25T16:59:37.227Z"
   },
   {
    "duration": 6,
    "start_time": "2022-01-25T17:00:00.376Z"
   },
   {
    "duration": 13,
    "start_time": "2022-01-25T17:00:14.705Z"
   },
   {
    "duration": 11,
    "start_time": "2022-01-25T17:01:18.030Z"
   },
   {
    "duration": 102,
    "start_time": "2022-01-25T17:07:18.285Z"
   },
   {
    "duration": 5,
    "start_time": "2022-01-25T17:07:24.605Z"
   },
   {
    "duration": 5,
    "start_time": "2022-01-25T17:07:46.138Z"
   },
   {
    "duration": 388,
    "start_time": "2022-01-25T17:30:07.704Z"
   },
   {
    "duration": 26,
    "start_time": "2022-01-25T17:30:23.823Z"
   },
   {
    "duration": 636,
    "start_time": "2022-01-26T20:47:41.844Z"
   },
   {
    "duration": 3,
    "start_time": "2022-01-26T20:47:42.482Z"
   },
   {
    "duration": 11,
    "start_time": "2022-01-26T20:47:42.487Z"
   },
   {
    "duration": 25,
    "start_time": "2022-01-26T20:47:42.500Z"
   },
   {
    "duration": 24,
    "start_time": "2022-01-26T20:47:42.527Z"
   },
   {
    "duration": 51,
    "start_time": "2022-01-26T20:47:42.553Z"
   },
   {
    "duration": 5,
    "start_time": "2022-01-26T20:47:42.606Z"
   },
   {
    "duration": 6,
    "start_time": "2022-01-26T20:47:42.615Z"
   },
   {
    "duration": 8,
    "start_time": "2022-01-26T20:47:42.623Z"
   },
   {
    "duration": 8,
    "start_time": "2022-01-26T20:47:42.632Z"
   },
   {
    "duration": 9,
    "start_time": "2022-01-26T20:47:42.641Z"
   },
   {
    "duration": 5,
    "start_time": "2022-01-26T20:47:42.652Z"
   },
   {
    "duration": 41,
    "start_time": "2022-01-26T20:47:42.658Z"
   },
   {
    "duration": 11,
    "start_time": "2022-01-26T20:47:42.701Z"
   },
   {
    "duration": 9,
    "start_time": "2022-01-26T20:47:42.713Z"
   },
   {
    "duration": 7,
    "start_time": "2022-01-26T20:47:42.723Z"
   },
   {
    "duration": 8,
    "start_time": "2022-01-26T20:47:42.731Z"
   },
   {
    "duration": 3,
    "start_time": "2022-01-26T20:47:42.741Z"
   },
   {
    "duration": 8,
    "start_time": "2022-01-26T20:47:42.746Z"
   },
   {
    "duration": 46,
    "start_time": "2022-01-26T20:47:42.756Z"
   },
   {
    "duration": 5,
    "start_time": "2022-01-26T20:47:42.804Z"
   },
   {
    "duration": 9,
    "start_time": "2022-01-26T20:47:42.811Z"
   },
   {
    "duration": 12,
    "start_time": "2022-01-26T20:47:42.824Z"
   },
   {
    "duration": 6,
    "start_time": "2022-01-26T20:47:42.838Z"
   },
   {
    "duration": 7,
    "start_time": "2022-01-26T20:47:42.845Z"
   },
   {
    "duration": 6,
    "start_time": "2022-01-26T20:47:42.853Z"
   },
   {
    "duration": 5,
    "start_time": "2022-01-26T20:47:42.861Z"
   },
   {
    "duration": 2,
    "start_time": "2022-01-26T20:47:42.899Z"
   },
   {
    "duration": 15,
    "start_time": "2022-01-26T20:47:42.903Z"
   },
   {
    "duration": 14,
    "start_time": "2022-01-26T20:47:42.920Z"
   },
   {
    "duration": 13,
    "start_time": "2022-01-26T20:47:42.936Z"
   },
   {
    "duration": 5,
    "start_time": "2022-01-26T20:47:42.951Z"
   },
   {
    "duration": 6,
    "start_time": "2022-01-26T20:47:42.958Z"
   },
   {
    "duration": 4,
    "start_time": "2022-01-26T20:47:42.966Z"
   },
   {
    "duration": 9,
    "start_time": "2022-01-26T20:47:42.972Z"
   },
   {
    "duration": 15,
    "start_time": "2022-01-26T20:47:42.999Z"
   },
   {
    "duration": 14,
    "start_time": "2022-01-26T20:47:43.016Z"
   },
   {
    "duration": 17,
    "start_time": "2022-01-26T20:47:43.032Z"
   },
   {
    "duration": 49,
    "start_time": "2022-01-26T20:47:43.051Z"
   },
   {
    "duration": 4,
    "start_time": "2022-01-26T20:47:43.102Z"
   },
   {
    "duration": 8,
    "start_time": "2022-01-26T20:47:43.109Z"
   },
   {
    "duration": 11,
    "start_time": "2022-01-26T20:47:43.119Z"
   },
   {
    "duration": 8,
    "start_time": "2022-01-26T20:47:43.132Z"
   },
   {
    "duration": 3,
    "start_time": "2022-01-26T20:47:43.142Z"
   },
   {
    "duration": 5,
    "start_time": "2022-01-26T20:47:43.147Z"
   },
   {
    "duration": 51,
    "start_time": "2022-01-26T20:47:43.154Z"
   },
   {
    "duration": 8,
    "start_time": "2022-01-26T20:47:43.206Z"
   },
   {
    "duration": 17,
    "start_time": "2022-01-26T20:47:43.216Z"
   },
   {
    "duration": 18,
    "start_time": "2022-01-26T21:05:11.109Z"
   },
   {
    "duration": 7,
    "start_time": "2022-01-26T21:06:12.959Z"
   },
   {
    "duration": 6,
    "start_time": "2022-01-26T21:06:44.231Z"
   },
   {
    "duration": 8,
    "start_time": "2022-01-26T21:07:14.069Z"
   },
   {
    "duration": 7,
    "start_time": "2022-01-26T21:07:29.704Z"
   },
   {
    "duration": 7,
    "start_time": "2022-01-26T21:08:52.877Z"
   },
   {
    "duration": 7,
    "start_time": "2022-01-26T21:08:56.697Z"
   },
   {
    "duration": 9,
    "start_time": "2022-01-26T21:34:44.344Z"
   },
   {
    "duration": 13,
    "start_time": "2022-01-26T21:35:16.737Z"
   },
   {
    "duration": 89,
    "start_time": "2022-01-26T21:37:40.310Z"
   },
   {
    "duration": 84,
    "start_time": "2022-01-26T21:37:59.727Z"
   },
   {
    "duration": 6837,
    "start_time": "2022-01-26T21:38:18.010Z"
   },
   {
    "duration": 11422,
    "start_time": "2022-01-26T21:38:56.995Z"
   },
   {
    "duration": 262,
    "start_time": "2022-01-26T21:39:31.428Z"
   },
   {
    "duration": 10,
    "start_time": "2022-01-26T21:39:37.966Z"
   },
   {
    "duration": 12,
    "start_time": "2022-01-26T21:41:25.879Z"
   },
   {
    "duration": 44,
    "start_time": "2022-01-27T02:41:22.118Z"
   },
   {
    "duration": 3,
    "start_time": "2022-01-27T02:41:22.164Z"
   },
   {
    "duration": 11,
    "start_time": "2022-01-27T02:41:22.169Z"
   },
   {
    "duration": 21,
    "start_time": "2022-01-27T02:41:22.182Z"
   },
   {
    "duration": 21,
    "start_time": "2022-01-27T02:41:22.204Z"
   },
   {
    "duration": 21,
    "start_time": "2022-01-27T02:41:22.226Z"
   },
   {
    "duration": 3,
    "start_time": "2022-01-27T02:41:22.248Z"
   },
   {
    "duration": 11,
    "start_time": "2022-01-27T02:41:22.253Z"
   },
   {
    "duration": 33,
    "start_time": "2022-01-27T02:41:22.266Z"
   },
   {
    "duration": 14,
    "start_time": "2022-01-27T02:41:22.301Z"
   },
   {
    "duration": 5,
    "start_time": "2022-01-27T02:41:22.316Z"
   },
   {
    "duration": 5,
    "start_time": "2022-01-27T02:41:22.323Z"
   },
   {
    "duration": 8,
    "start_time": "2022-01-27T02:41:22.329Z"
   },
   {
    "duration": 14,
    "start_time": "2022-01-27T02:41:22.339Z"
   },
   {
    "duration": 13,
    "start_time": "2022-01-27T02:41:22.354Z"
   },
   {
    "duration": 7,
    "start_time": "2022-01-27T02:41:22.369Z"
   },
   {
    "duration": 24,
    "start_time": "2022-01-27T02:41:22.378Z"
   },
   {
    "duration": 5,
    "start_time": "2022-01-27T02:41:22.403Z"
   },
   {
    "duration": 8,
    "start_time": "2022-01-27T02:41:22.410Z"
   },
   {
    "duration": 7,
    "start_time": "2022-01-27T02:41:22.420Z"
   },
   {
    "duration": 5,
    "start_time": "2022-01-27T02:41:22.429Z"
   },
   {
    "duration": 13,
    "start_time": "2022-01-27T02:41:22.435Z"
   },
   {
    "duration": 14,
    "start_time": "2022-01-27T02:41:22.450Z"
   },
   {
    "duration": 33,
    "start_time": "2022-01-27T02:41:22.466Z"
   },
   {
    "duration": 9,
    "start_time": "2022-01-27T02:41:22.501Z"
   },
   {
    "duration": 18,
    "start_time": "2022-01-27T02:41:22.512Z"
   },
   {
    "duration": 24,
    "start_time": "2022-01-27T02:41:22.534Z"
   },
   {
    "duration": 10,
    "start_time": "2022-01-27T02:41:22.560Z"
   },
   {
    "duration": 17,
    "start_time": "2022-01-27T02:41:22.572Z"
   },
   {
    "duration": 19,
    "start_time": "2022-01-27T02:41:22.591Z"
   },
   {
    "duration": 15,
    "start_time": "2022-01-27T02:41:22.612Z"
   },
   {
    "duration": 12,
    "start_time": "2022-01-27T02:41:22.629Z"
   },
   {
    "duration": 20,
    "start_time": "2022-01-27T02:41:22.642Z"
   },
   {
    "duration": 19,
    "start_time": "2022-01-27T02:41:22.663Z"
   },
   {
    "duration": 10,
    "start_time": "2022-01-27T02:41:22.683Z"
   },
   {
    "duration": 22,
    "start_time": "2022-01-27T02:41:22.695Z"
   },
   {
    "duration": 14,
    "start_time": "2022-01-27T02:41:22.719Z"
   },
   {
    "duration": 18,
    "start_time": "2022-01-27T02:41:22.735Z"
   },
   {
    "duration": 15,
    "start_time": "2022-01-27T02:41:22.755Z"
   },
   {
    "duration": 26,
    "start_time": "2022-01-27T02:41:22.772Z"
   },
   {
    "duration": 5,
    "start_time": "2022-01-27T02:41:22.801Z"
   },
   {
    "duration": 20,
    "start_time": "2022-01-27T02:41:22.808Z"
   },
   {
    "duration": 11,
    "start_time": "2022-01-27T02:41:22.830Z"
   },
   {
    "duration": 4,
    "start_time": "2022-01-27T02:41:22.843Z"
   },
   {
    "duration": 9,
    "start_time": "2022-01-27T02:41:22.848Z"
   },
   {
    "duration": 12,
    "start_time": "2022-01-27T02:41:22.859Z"
   },
   {
    "duration": 27,
    "start_time": "2022-01-27T02:41:22.873Z"
   },
   {
    "duration": 17,
    "start_time": "2022-01-27T02:41:22.902Z"
   },
   {
    "duration": 5,
    "start_time": "2022-01-27T02:41:22.920Z"
   },
   {
    "duration": 7,
    "start_time": "2022-01-27T02:41:22.927Z"
   },
   {
    "duration": 7,
    "start_time": "2022-01-27T02:41:22.935Z"
   },
   {
    "duration": 6,
    "start_time": "2022-01-27T02:41:22.944Z"
   },
   {
    "duration": 9,
    "start_time": "2022-01-27T02:41:22.951Z"
   },
   {
    "duration": 39,
    "start_time": "2022-01-27T02:41:22.961Z"
   },
   {
    "duration": 5,
    "start_time": "2022-01-27T02:43:31.192Z"
   },
   {
    "duration": 6407,
    "start_time": "2022-01-27T02:44:14.452Z"
   },
   {
    "duration": 6551,
    "start_time": "2022-01-27T02:44:36.643Z"
   },
   {
    "duration": 8,
    "start_time": "2022-01-27T02:45:19.779Z"
   },
   {
    "duration": 1814,
    "start_time": "2022-01-27T02:45:37.680Z"
   },
   {
    "duration": 20,
    "start_time": "2022-01-27T02:48:37.771Z"
   },
   {
    "duration": 3,
    "start_time": "2022-01-27T03:22:06.406Z"
   },
   {
    "duration": 3,
    "start_time": "2022-01-27T03:23:51.730Z"
   },
   {
    "duration": 11,
    "start_time": "2022-01-27T03:25:15.742Z"
   },
   {
    "duration": 13,
    "start_time": "2022-01-27T03:26:54.799Z"
   },
   {
    "duration": 9,
    "start_time": "2022-01-27T03:27:12.885Z"
   },
   {
    "duration": 4,
    "start_time": "2022-01-27T03:32:02.132Z"
   },
   {
    "duration": 297,
    "start_time": "2022-01-27T03:33:21.285Z"
   },
   {
    "duration": 271,
    "start_time": "2022-01-27T03:33:47.446Z"
   },
   {
    "duration": 514,
    "start_time": "2022-01-27T03:34:32.189Z"
   },
   {
    "duration": 3,
    "start_time": "2022-01-27T03:34:49.233Z"
   },
   {
    "duration": 518,
    "start_time": "2022-01-27T03:34:51.941Z"
   },
   {
    "duration": 4,
    "start_time": "2022-01-27T03:35:38.839Z"
   },
   {
    "duration": 9,
    "start_time": "2022-01-27T03:35:44.818Z"
   },
   {
    "duration": 4,
    "start_time": "2022-01-27T03:36:13.083Z"
   },
   {
    "duration": 36,
    "start_time": "2022-01-27T03:47:45.867Z"
   },
   {
    "duration": 288,
    "start_time": "2022-01-27T03:50:19.567Z"
   },
   {
    "duration": 25,
    "start_time": "2022-01-27T03:50:29.000Z"
   },
   {
    "duration": 66,
    "start_time": "2022-01-27T03:50:49.933Z"
   },
   {
    "duration": 4,
    "start_time": "2022-01-27T03:52:10.981Z"
   },
   {
    "duration": 10,
    "start_time": "2022-01-27T03:52:41.416Z"
   },
   {
    "duration": 4,
    "start_time": "2022-01-27T03:52:51.380Z"
   },
   {
    "duration": 4,
    "start_time": "2022-01-27T03:52:54.836Z"
   },
   {
    "duration": 9299,
    "start_time": "2022-01-27T03:53:27.616Z"
   },
   {
    "duration": 13,
    "start_time": "2022-01-27T03:54:16.246Z"
   },
   {
    "duration": 252,
    "start_time": "2022-01-27T17:56:25.622Z"
   },
   {
    "duration": 659,
    "start_time": "2022-01-27T17:56:36.372Z"
   },
   {
    "duration": 3,
    "start_time": "2022-01-27T17:56:37.033Z"
   },
   {
    "duration": 15,
    "start_time": "2022-01-27T17:56:37.038Z"
   },
   {
    "duration": 24,
    "start_time": "2022-01-27T17:56:37.055Z"
   },
   {
    "duration": 37,
    "start_time": "2022-01-27T17:56:37.080Z"
   },
   {
    "duration": 21,
    "start_time": "2022-01-27T17:56:37.119Z"
   },
   {
    "duration": 4,
    "start_time": "2022-01-27T17:56:37.142Z"
   },
   {
    "duration": 8,
    "start_time": "2022-01-27T17:56:37.147Z"
   },
   {
    "duration": 8,
    "start_time": "2022-01-27T17:56:37.158Z"
   },
   {
    "duration": 9,
    "start_time": "2022-01-27T17:56:37.198Z"
   },
   {
    "duration": 11,
    "start_time": "2022-01-27T17:56:37.208Z"
   },
   {
    "duration": 17,
    "start_time": "2022-01-27T17:56:37.221Z"
   },
   {
    "duration": 9,
    "start_time": "2022-01-27T17:56:37.240Z"
   },
   {
    "duration": 13,
    "start_time": "2022-01-27T17:56:37.251Z"
   },
   {
    "duration": 8,
    "start_time": "2022-01-27T17:56:37.265Z"
   },
   {
    "duration": 7,
    "start_time": "2022-01-27T17:56:37.275Z"
   },
   {
    "duration": 22,
    "start_time": "2022-01-27T17:56:37.283Z"
   },
   {
    "duration": 4,
    "start_time": "2022-01-27T17:56:37.307Z"
   },
   {
    "duration": 9,
    "start_time": "2022-01-27T17:56:37.313Z"
   },
   {
    "duration": 14,
    "start_time": "2022-01-27T17:56:37.323Z"
   },
   {
    "duration": 6,
    "start_time": "2022-01-27T17:56:37.339Z"
   },
   {
    "duration": 12,
    "start_time": "2022-01-27T17:56:37.347Z"
   },
   {
    "duration": 39,
    "start_time": "2022-01-27T17:56:37.360Z"
   },
   {
    "duration": 7,
    "start_time": "2022-01-27T17:56:37.400Z"
   },
   {
    "duration": 7,
    "start_time": "2022-01-27T17:56:37.408Z"
   },
   {
    "duration": 6,
    "start_time": "2022-01-27T17:56:37.417Z"
   },
   {
    "duration": 2,
    "start_time": "2022-01-27T17:56:37.426Z"
   },
   {
    "duration": 5,
    "start_time": "2022-01-27T17:56:37.431Z"
   },
   {
    "duration": 7,
    "start_time": "2022-01-27T17:56:37.438Z"
   },
   {
    "duration": 14,
    "start_time": "2022-01-27T17:56:37.447Z"
   },
   {
    "duration": 41,
    "start_time": "2022-01-27T17:56:37.463Z"
   },
   {
    "duration": 5,
    "start_time": "2022-01-27T17:56:37.506Z"
   },
   {
    "duration": 6,
    "start_time": "2022-01-27T17:56:37.513Z"
   },
   {
    "duration": 3,
    "start_time": "2022-01-27T17:56:37.521Z"
   },
   {
    "duration": 6,
    "start_time": "2022-01-27T17:56:37.526Z"
   },
   {
    "duration": 17,
    "start_time": "2022-01-27T17:56:37.534Z"
   },
   {
    "duration": 52,
    "start_time": "2022-01-27T17:56:37.553Z"
   },
   {
    "duration": 18,
    "start_time": "2022-01-27T17:56:37.607Z"
   },
   {
    "duration": 16,
    "start_time": "2022-01-27T17:56:37.627Z"
   },
   {
    "duration": 5,
    "start_time": "2022-01-27T17:56:37.645Z"
   },
   {
    "duration": 5,
    "start_time": "2022-01-27T17:56:37.652Z"
   },
   {
    "duration": 44,
    "start_time": "2022-01-27T17:56:37.659Z"
   },
   {
    "duration": 9,
    "start_time": "2022-01-27T17:56:37.705Z"
   },
   {
    "duration": 7,
    "start_time": "2022-01-27T17:56:37.716Z"
   },
   {
    "duration": 7,
    "start_time": "2022-01-27T17:56:37.724Z"
   },
   {
    "duration": 10,
    "start_time": "2022-01-27T17:56:37.732Z"
   },
   {
    "duration": 10,
    "start_time": "2022-01-27T17:56:37.743Z"
   },
   {
    "duration": 54,
    "start_time": "2022-01-27T17:56:37.755Z"
   },
   {
    "duration": 6,
    "start_time": "2022-01-27T17:56:37.811Z"
   },
   {
    "duration": 7,
    "start_time": "2022-01-27T17:56:37.820Z"
   },
   {
    "duration": 7,
    "start_time": "2022-01-27T17:56:37.829Z"
   },
   {
    "duration": 6,
    "start_time": "2022-01-27T17:56:37.838Z"
   },
   {
    "duration": 11,
    "start_time": "2022-01-27T17:56:37.846Z"
   },
   {
    "duration": 43,
    "start_time": "2022-01-27T17:56:37.859Z"
   },
   {
    "duration": 18,
    "start_time": "2022-01-27T17:56:37.903Z"
   },
   {
    "duration": 4,
    "start_time": "2022-01-27T17:56:37.923Z"
   },
   {
    "duration": 16,
    "start_time": "2022-01-27T17:56:37.928Z"
   },
   {
    "duration": 11,
    "start_time": "2022-01-27T17:56:42.479Z"
   },
   {
    "duration": 11,
    "start_time": "2022-01-27T17:57:31.159Z"
   },
   {
    "duration": 9741,
    "start_time": "2022-01-27T18:07:28.869Z"
   },
   {
    "duration": 9776,
    "start_time": "2022-01-27T18:07:58.086Z"
   },
   {
    "duration": 9505,
    "start_time": "2022-01-27T18:08:49.263Z"
   },
   {
    "duration": 32,
    "start_time": "2022-01-27T18:11:12.701Z"
   },
   {
    "duration": 21,
    "start_time": "2022-01-27T18:11:20.605Z"
   },
   {
    "duration": 11,
    "start_time": "2022-01-27T18:12:06.207Z"
   },
   {
    "duration": 246,
    "start_time": "2022-01-27T18:23:49.544Z"
   },
   {
    "duration": 209,
    "start_time": "2022-01-27T18:24:47.820Z"
   },
   {
    "duration": 57,
    "start_time": "2022-01-27T18:26:34.060Z"
   },
   {
    "duration": 58,
    "start_time": "2022-01-27T18:26:49.161Z"
   },
   {
    "duration": 10,
    "start_time": "2022-01-27T18:27:05.365Z"
   },
   {
    "duration": 58,
    "start_time": "2022-01-27T18:29:29.527Z"
   },
   {
    "duration": 9,
    "start_time": "2022-01-27T18:29:35.970Z"
   },
   {
    "duration": 8,
    "start_time": "2022-01-27T18:31:05.498Z"
   },
   {
    "duration": 3,
    "start_time": "2022-01-27T18:34:56.360Z"
   },
   {
    "duration": 9547,
    "start_time": "2022-01-27T18:36:27.459Z"
   },
   {
    "duration": 12,
    "start_time": "2022-01-27T18:36:49.829Z"
   },
   {
    "duration": 7113,
    "start_time": "2022-01-27T18:37:21.654Z"
   },
   {
    "duration": 12,
    "start_time": "2022-01-27T18:37:30.699Z"
   },
   {
    "duration": 7,
    "start_time": "2022-01-27T19:07:06.835Z"
   },
   {
    "duration": 7,
    "start_time": "2022-01-27T19:07:17.456Z"
   },
   {
    "duration": 20,
    "start_time": "2022-01-27T19:09:46.092Z"
   },
   {
    "duration": 7,
    "start_time": "2022-01-27T19:10:18.091Z"
   },
   {
    "duration": 20,
    "start_time": "2022-01-27T19:10:34.513Z"
   },
   {
    "duration": 6,
    "start_time": "2022-01-27T19:10:38.422Z"
   },
   {
    "duration": 18,
    "start_time": "2022-01-27T19:11:51.676Z"
   },
   {
    "duration": 17,
    "start_time": "2022-01-27T19:12:29.535Z"
   },
   {
    "duration": 20,
    "start_time": "2022-01-27T19:12:43.447Z"
   },
   {
    "duration": 17,
    "start_time": "2022-01-27T19:15:45.705Z"
   },
   {
    "duration": 17,
    "start_time": "2022-01-27T19:15:59.322Z"
   },
   {
    "duration": 17,
    "start_time": "2022-01-27T19:16:31.237Z"
   },
   {
    "duration": 6,
    "start_time": "2022-01-27T19:16:53.769Z"
   },
   {
    "duration": 9,
    "start_time": "2022-01-27T19:17:20.611Z"
   },
   {
    "duration": 7,
    "start_time": "2022-01-27T19:17:42.264Z"
   },
   {
    "duration": 8,
    "start_time": "2022-01-27T19:18:03.618Z"
   },
   {
    "duration": 6,
    "start_time": "2022-01-27T19:18:39.733Z"
   },
   {
    "duration": 7,
    "start_time": "2022-01-27T19:18:41.574Z"
   },
   {
    "duration": 7,
    "start_time": "2022-01-27T19:18:42.667Z"
   },
   {
    "duration": 7,
    "start_time": "2022-01-27T19:18:43.287Z"
   },
   {
    "duration": 6,
    "start_time": "2022-01-27T19:18:43.828Z"
   },
   {
    "duration": 7,
    "start_time": "2022-01-27T19:18:44.380Z"
   },
   {
    "duration": 46,
    "start_time": "2022-01-27T20:53:55.094Z"
   },
   {
    "duration": 3,
    "start_time": "2022-01-27T20:53:55.143Z"
   },
   {
    "duration": 30,
    "start_time": "2022-01-27T20:53:55.149Z"
   },
   {
    "duration": 27,
    "start_time": "2022-01-27T20:53:55.182Z"
   },
   {
    "duration": 24,
    "start_time": "2022-01-27T20:53:55.211Z"
   },
   {
    "duration": 23,
    "start_time": "2022-01-27T20:53:55.237Z"
   },
   {
    "duration": 37,
    "start_time": "2022-01-27T20:53:55.262Z"
   },
   {
    "duration": 7,
    "start_time": "2022-01-27T20:53:55.301Z"
   },
   {
    "duration": 24,
    "start_time": "2022-01-27T20:53:55.310Z"
   },
   {
    "duration": 11,
    "start_time": "2022-01-27T20:53:55.336Z"
   },
   {
    "duration": 5,
    "start_time": "2022-01-27T20:53:55.349Z"
   },
   {
    "duration": 6,
    "start_time": "2022-01-27T20:53:55.356Z"
   },
   {
    "duration": 9,
    "start_time": "2022-01-27T20:53:55.364Z"
   },
   {
    "duration": 37,
    "start_time": "2022-01-27T20:53:55.374Z"
   },
   {
    "duration": 10,
    "start_time": "2022-01-27T20:53:55.413Z"
   },
   {
    "duration": 18,
    "start_time": "2022-01-27T20:53:55.425Z"
   },
   {
    "duration": 13,
    "start_time": "2022-01-27T20:53:55.445Z"
   },
   {
    "duration": 4,
    "start_time": "2022-01-27T20:53:55.460Z"
   },
   {
    "duration": 61,
    "start_time": "2022-01-27T20:53:55.466Z"
   },
   {
    "duration": 16,
    "start_time": "2022-01-27T20:53:55.529Z"
   },
   {
    "duration": 14,
    "start_time": "2022-01-27T20:53:55.546Z"
   },
   {
    "duration": 17,
    "start_time": "2022-01-27T20:53:55.562Z"
   },
   {
    "duration": 9,
    "start_time": "2022-01-27T20:53:55.582Z"
   },
   {
    "duration": 5,
    "start_time": "2022-01-27T20:53:55.594Z"
   },
   {
    "duration": 3,
    "start_time": "2022-01-27T20:53:55.600Z"
   },
   {
    "duration": 16,
    "start_time": "2022-01-27T20:53:55.605Z"
   },
   {
    "duration": 7,
    "start_time": "2022-01-27T20:53:55.622Z"
   },
   {
    "duration": 52,
    "start_time": "2022-01-27T20:53:55.631Z"
   },
   {
    "duration": 22,
    "start_time": "2022-01-27T20:53:55.685Z"
   },
   {
    "duration": 27,
    "start_time": "2022-01-27T20:53:55.708Z"
   },
   {
    "duration": 16,
    "start_time": "2022-01-27T20:53:55.737Z"
   },
   {
    "duration": 4,
    "start_time": "2022-01-27T20:53:55.756Z"
   },
   {
    "duration": 8,
    "start_time": "2022-01-27T20:53:55.762Z"
   },
   {
    "duration": 17,
    "start_time": "2022-01-27T20:53:55.772Z"
   },
   {
    "duration": 5,
    "start_time": "2022-01-27T20:53:55.791Z"
   },
   {
    "duration": 37,
    "start_time": "2022-01-27T20:53:55.798Z"
   },
   {
    "duration": 16,
    "start_time": "2022-01-27T20:53:55.837Z"
   },
   {
    "duration": 18,
    "start_time": "2022-01-27T20:53:55.854Z"
   },
   {
    "duration": 24,
    "start_time": "2022-01-27T20:53:55.875Z"
   },
   {
    "duration": 3,
    "start_time": "2022-01-27T20:53:55.901Z"
   },
   {
    "duration": 8,
    "start_time": "2022-01-27T20:53:55.906Z"
   },
   {
    "duration": 18,
    "start_time": "2022-01-27T20:53:55.916Z"
   },
   {
    "duration": 9,
    "start_time": "2022-01-27T20:53:55.936Z"
   },
   {
    "duration": 8,
    "start_time": "2022-01-27T20:53:55.947Z"
   },
   {
    "duration": 11,
    "start_time": "2022-01-27T20:53:55.957Z"
   },
   {
    "duration": 34,
    "start_time": "2022-01-27T20:53:55.970Z"
   },
   {
    "duration": 16,
    "start_time": "2022-01-27T20:53:56.007Z"
   },
   {
    "duration": 22,
    "start_time": "2022-01-27T20:53:56.025Z"
   },
   {
    "duration": 6,
    "start_time": "2022-01-27T20:53:56.048Z"
   },
   {
    "duration": 15,
    "start_time": "2022-01-27T20:53:56.055Z"
   },
   {
    "duration": 27,
    "start_time": "2022-01-27T20:53:56.072Z"
   },
   {
    "duration": 8,
    "start_time": "2022-01-27T20:53:56.102Z"
   },
   {
    "duration": 10,
    "start_time": "2022-01-27T20:53:56.112Z"
   },
   {
    "duration": 8,
    "start_time": "2022-01-27T20:53:56.125Z"
   },
   {
    "duration": 21,
    "start_time": "2022-01-27T20:53:56.135Z"
   },
   {
    "duration": 4,
    "start_time": "2022-01-27T20:53:56.159Z"
   },
   {
    "duration": 44,
    "start_time": "2022-01-27T20:53:56.164Z"
   },
   {
    "duration": 11,
    "start_time": "2022-01-27T20:53:56.210Z"
   },
   {
    "duration": 6,
    "start_time": "2022-01-27T20:53:56.223Z"
   },
   {
    "duration": 10121,
    "start_time": "2022-01-27T20:53:56.230Z"
   },
   {
    "duration": 15,
    "start_time": "2022-01-27T20:54:06.353Z"
   },
   {
    "duration": 9,
    "start_time": "2022-01-27T20:54:06.370Z"
   },
   {
    "duration": 4,
    "start_time": "2022-01-27T20:54:06.397Z"
   },
   {
    "duration": 7021,
    "start_time": "2022-01-27T20:54:06.403Z"
   },
   {
    "duration": 11,
    "start_time": "2022-01-27T20:54:13.426Z"
   },
   {
    "duration": 19,
    "start_time": "2022-01-27T20:54:13.438Z"
   },
   {
    "duration": 16,
    "start_time": "2022-01-27T20:54:13.458Z"
   },
   {
    "duration": 6,
    "start_time": "2022-01-27T20:54:13.498Z"
   },
   {
    "duration": 9,
    "start_time": "2022-01-27T20:54:13.506Z"
   },
   {
    "duration": 7,
    "start_time": "2022-01-27T20:54:13.517Z"
   },
   {
    "duration": 6,
    "start_time": "2022-01-27T20:54:13.526Z"
   },
   {
    "duration": 5,
    "start_time": "2022-01-27T20:54:13.534Z"
   },
   {
    "duration": 6,
    "start_time": "2022-01-27T20:54:13.541Z"
   },
   {
    "duration": 71,
    "start_time": "2022-01-27T22:11:54.371Z"
   },
   {
    "duration": 4,
    "start_time": "2022-01-27T22:11:57.078Z"
   },
   {
    "duration": 14,
    "start_time": "2022-01-27T22:11:59.874Z"
   },
   {
    "duration": 11,
    "start_time": "2022-01-27T22:12:01.213Z"
   },
   {
    "duration": 5,
    "start_time": "2022-01-27T22:12:04.000Z"
   },
   {
    "duration": 31,
    "start_time": "2022-01-27T22:12:05.369Z"
   },
   {
    "duration": 11,
    "start_time": "2022-01-27T22:12:07.939Z"
   },
   {
    "duration": 5,
    "start_time": "2022-01-27T22:12:08.481Z"
   },
   {
    "duration": 4,
    "start_time": "2022-01-27T22:12:12.980Z"
   },
   {
    "duration": 15,
    "start_time": "2022-01-27T22:12:16.357Z"
   },
   {
    "duration": 11,
    "start_time": "2022-01-27T22:12:19.223Z"
   },
   {
    "duration": 21,
    "start_time": "2022-01-27T22:12:29.728Z"
   },
   {
    "duration": 16,
    "start_time": "2022-01-27T22:12:32.249Z"
   },
   {
    "duration": 3,
    "start_time": "2022-01-27T22:18:50.513Z"
   },
   {
    "duration": 42,
    "start_time": "2022-01-28T02:01:35.748Z"
   },
   {
    "duration": 3,
    "start_time": "2022-01-28T02:01:35.792Z"
   },
   {
    "duration": 18,
    "start_time": "2022-01-28T02:01:35.797Z"
   },
   {
    "duration": 30,
    "start_time": "2022-01-28T02:01:35.817Z"
   },
   {
    "duration": 20,
    "start_time": "2022-01-28T02:01:35.848Z"
   },
   {
    "duration": 37,
    "start_time": "2022-01-28T02:01:35.870Z"
   },
   {
    "duration": 3,
    "start_time": "2022-01-28T02:01:35.909Z"
   },
   {
    "duration": 7,
    "start_time": "2022-01-28T02:01:35.915Z"
   },
   {
    "duration": 11,
    "start_time": "2022-01-28T02:01:35.924Z"
   },
   {
    "duration": 10,
    "start_time": "2022-01-28T02:01:35.937Z"
   },
   {
    "duration": 6,
    "start_time": "2022-01-28T02:01:35.948Z"
   },
   {
    "duration": 5,
    "start_time": "2022-01-28T02:01:35.956Z"
   },
   {
    "duration": 36,
    "start_time": "2022-01-28T02:01:35.962Z"
   },
   {
    "duration": 15,
    "start_time": "2022-01-28T02:01:36.000Z"
   },
   {
    "duration": 9,
    "start_time": "2022-01-28T02:01:36.016Z"
   },
   {
    "duration": 15,
    "start_time": "2022-01-28T02:01:36.027Z"
   },
   {
    "duration": 6,
    "start_time": "2022-01-28T02:01:36.044Z"
   },
   {
    "duration": 4,
    "start_time": "2022-01-28T02:01:36.052Z"
   },
   {
    "duration": 11,
    "start_time": "2022-01-28T02:01:36.058Z"
   },
   {
    "duration": 31,
    "start_time": "2022-01-28T02:01:36.070Z"
   },
   {
    "duration": 8,
    "start_time": "2022-01-28T02:01:36.103Z"
   },
   {
    "duration": 11,
    "start_time": "2022-01-28T02:01:36.112Z"
   },
   {
    "duration": 12,
    "start_time": "2022-01-28T02:01:36.127Z"
   },
   {
    "duration": 5,
    "start_time": "2022-01-28T02:01:36.142Z"
   },
   {
    "duration": 3,
    "start_time": "2022-01-28T02:01:36.149Z"
   },
   {
    "duration": 15,
    "start_time": "2022-01-28T02:01:36.154Z"
   },
   {
    "duration": 2,
    "start_time": "2022-01-28T02:01:36.197Z"
   },
   {
    "duration": 5,
    "start_time": "2022-01-28T02:01:36.201Z"
   },
   {
    "duration": 7,
    "start_time": "2022-01-28T02:01:36.208Z"
   },
   {
    "duration": 14,
    "start_time": "2022-01-28T02:01:36.217Z"
   },
   {
    "duration": 12,
    "start_time": "2022-01-28T02:01:36.233Z"
   },
   {
    "duration": 4,
    "start_time": "2022-01-28T02:01:36.246Z"
   },
   {
    "duration": 7,
    "start_time": "2022-01-28T02:01:36.251Z"
   },
   {
    "duration": 3,
    "start_time": "2022-01-28T02:01:36.260Z"
   },
   {
    "duration": 33,
    "start_time": "2022-01-28T02:01:36.265Z"
   },
   {
    "duration": 18,
    "start_time": "2022-01-28T02:01:36.300Z"
   },
   {
    "duration": 15,
    "start_time": "2022-01-28T02:01:36.320Z"
   },
   {
    "duration": 17,
    "start_time": "2022-01-28T02:01:36.337Z"
   },
   {
    "duration": 42,
    "start_time": "2022-01-28T02:01:36.356Z"
   },
   {
    "duration": 3,
    "start_time": "2022-01-28T02:01:36.400Z"
   },
   {
    "duration": 9,
    "start_time": "2022-01-28T02:01:36.405Z"
   },
   {
    "duration": 16,
    "start_time": "2022-01-28T02:01:36.415Z"
   },
   {
    "duration": 8,
    "start_time": "2022-01-28T02:01:36.433Z"
   },
   {
    "duration": 3,
    "start_time": "2022-01-28T02:01:36.443Z"
   },
   {
    "duration": 8,
    "start_time": "2022-01-28T02:01:36.447Z"
   },
   {
    "duration": 9,
    "start_time": "2022-01-28T02:01:36.456Z"
   },
   {
    "duration": 33,
    "start_time": "2022-01-28T02:01:36.468Z"
   },
   {
    "duration": 17,
    "start_time": "2022-01-28T02:01:36.503Z"
   },
   {
    "duration": 5,
    "start_time": "2022-01-28T02:01:36.522Z"
   },
   {
    "duration": 15,
    "start_time": "2022-01-28T02:01:36.528Z"
   },
   {
    "duration": 19,
    "start_time": "2022-01-28T02:01:36.545Z"
   },
   {
    "duration": 12,
    "start_time": "2022-01-28T02:01:36.566Z"
   },
   {
    "duration": 21,
    "start_time": "2022-01-28T02:01:36.580Z"
   },
   {
    "duration": 11,
    "start_time": "2022-01-28T02:01:36.602Z"
   },
   {
    "duration": 27,
    "start_time": "2022-01-28T02:01:36.615Z"
   },
   {
    "duration": 3,
    "start_time": "2022-01-28T02:01:36.644Z"
   },
   {
    "duration": 36,
    "start_time": "2022-01-28T02:01:36.649Z"
   },
   {
    "duration": 9,
    "start_time": "2022-01-28T02:01:36.687Z"
   },
   {
    "duration": 14,
    "start_time": "2022-01-28T02:01:36.698Z"
   },
   {
    "duration": 9233,
    "start_time": "2022-01-28T02:01:36.714Z"
   },
   {
    "duration": 15,
    "start_time": "2022-01-28T02:01:45.948Z"
   },
   {
    "duration": 9,
    "start_time": "2022-01-28T02:01:45.964Z"
   },
   {
    "duration": 23,
    "start_time": "2022-01-28T02:01:45.974Z"
   },
   {
    "duration": 6819,
    "start_time": "2022-01-28T02:01:45.999Z"
   },
   {
    "duration": 11,
    "start_time": "2022-01-28T02:01:52.819Z"
   },
   {
    "duration": 21,
    "start_time": "2022-01-28T02:01:52.831Z"
   },
   {
    "duration": 19,
    "start_time": "2022-01-28T02:01:52.854Z"
   },
   {
    "duration": 22,
    "start_time": "2022-01-28T02:01:52.878Z"
   },
   {
    "duration": 10,
    "start_time": "2022-01-28T02:01:52.902Z"
   },
   {
    "duration": 9,
    "start_time": "2022-01-28T02:01:52.913Z"
   },
   {
    "duration": 9,
    "start_time": "2022-01-28T02:01:52.923Z"
   },
   {
    "duration": 5,
    "start_time": "2022-01-28T02:01:52.934Z"
   },
   {
    "duration": 6,
    "start_time": "2022-01-28T02:01:52.941Z"
   },
   {
    "duration": 4,
    "start_time": "2022-01-28T02:01:52.948Z"
   },
   {
    "duration": 14,
    "start_time": "2022-01-28T02:03:49.221Z"
   },
   {
    "duration": 13,
    "start_time": "2022-01-28T02:04:01.894Z"
   },
   {
    "duration": 21,
    "start_time": "2022-01-28T02:05:34.892Z"
   },
   {
    "duration": 10,
    "start_time": "2022-01-28T02:05:57.625Z"
   },
   {
    "duration": 353,
    "start_time": "2022-01-28T02:06:53.954Z"
   },
   {
    "duration": 11,
    "start_time": "2022-01-28T02:07:17.083Z"
   },
   {
    "duration": 13,
    "start_time": "2022-01-28T02:07:37.888Z"
   },
   {
    "duration": 4,
    "start_time": "2022-01-28T02:08:33.884Z"
   },
   {
    "duration": 4,
    "start_time": "2022-01-28T02:08:47.212Z"
   },
   {
    "duration": 4,
    "start_time": "2022-01-28T02:10:59.813Z"
   },
   {
    "duration": 9085,
    "start_time": "2022-01-28T02:12:39.905Z"
   },
   {
    "duration": 13,
    "start_time": "2022-01-28T02:13:37.486Z"
   },
   {
    "duration": 9,
    "start_time": "2022-01-28T02:14:30.607Z"
   },
   {
    "duration": 4,
    "start_time": "2022-01-28T02:15:52.043Z"
   },
   {
    "duration": 6812,
    "start_time": "2022-01-28T02:16:41.048Z"
   },
   {
    "duration": 12,
    "start_time": "2022-01-28T02:17:29.480Z"
   },
   {
    "duration": 15,
    "start_time": "2022-01-28T02:18:02.659Z"
   },
   {
    "duration": 12,
    "start_time": "2022-01-28T02:18:12.279Z"
   },
   {
    "duration": 5,
    "start_time": "2022-01-28T02:24:37.143Z"
   },
   {
    "duration": 11,
    "start_time": "2022-01-28T02:25:02.061Z"
   },
   {
    "duration": 5,
    "start_time": "2022-01-28T02:25:33.586Z"
   },
   {
    "duration": 4,
    "start_time": "2022-01-28T02:26:13.021Z"
   },
   {
    "duration": 59,
    "start_time": "2022-01-28T03:02:22.990Z"
   },
   {
    "duration": 6,
    "start_time": "2022-01-28T03:02:31.660Z"
   },
   {
    "duration": 5,
    "start_time": "2022-01-28T03:03:03.610Z"
   },
   {
    "duration": 4,
    "start_time": "2022-01-28T03:03:32.758Z"
   },
   {
    "duration": 4,
    "start_time": "2022-01-28T03:04:11.510Z"
   },
   {
    "duration": 3,
    "start_time": "2022-01-28T03:04:50.619Z"
   },
   {
    "duration": 4,
    "start_time": "2022-01-28T03:06:15.529Z"
   },
   {
    "duration": 4,
    "start_time": "2022-01-28T03:06:18.333Z"
   },
   {
    "duration": 5,
    "start_time": "2022-01-28T03:06:32.285Z"
   },
   {
    "duration": 3,
    "start_time": "2022-01-28T03:06:33.861Z"
   },
   {
    "duration": 5,
    "start_time": "2022-01-28T03:12:09.366Z"
   },
   {
    "duration": 3,
    "start_time": "2022-01-28T03:12:12.153Z"
   },
   {
    "duration": 61,
    "start_time": "2022-01-28T03:12:30.231Z"
   },
   {
    "duration": 4,
    "start_time": "2022-01-28T03:12:36.423Z"
   },
   {
    "duration": 4,
    "start_time": "2022-01-28T03:13:15.834Z"
   },
   {
    "duration": 4,
    "start_time": "2022-01-28T03:13:25.819Z"
   },
   {
    "duration": 4,
    "start_time": "2022-01-28T03:13:28.280Z"
   },
   {
    "duration": 4,
    "start_time": "2022-01-28T03:13:48.130Z"
   },
   {
    "duration": 4,
    "start_time": "2022-01-28T03:14:09.939Z"
   },
   {
    "duration": 4,
    "start_time": "2022-01-28T03:14:15.483Z"
   },
   {
    "duration": 36,
    "start_time": "2022-01-28T03:18:03.413Z"
   },
   {
    "duration": 7,
    "start_time": "2022-01-28T03:18:53.224Z"
   },
   {
    "duration": 66,
    "start_time": "2022-01-28T03:19:25.527Z"
   },
   {
    "duration": 6,
    "start_time": "2022-01-28T03:19:30.115Z"
   },
   {
    "duration": 174,
    "start_time": "2022-01-28T03:19:49.973Z"
   },
   {
    "duration": 18,
    "start_time": "2022-01-28T03:19:54.817Z"
   },
   {
    "duration": 169,
    "start_time": "2022-01-28T03:23:24.326Z"
   },
   {
    "duration": 5,
    "start_time": "2022-01-28T03:23:26.561Z"
   },
   {
    "duration": 6,
    "start_time": "2022-01-28T03:24:37.266Z"
   },
   {
    "duration": 9,
    "start_time": "2022-01-28T03:25:47.895Z"
   },
   {
    "duration": 5,
    "start_time": "2022-01-28T04:50:45.513Z"
   },
   {
    "duration": 4,
    "start_time": "2022-01-28T04:56:01.420Z"
   },
   {
    "duration": 4,
    "start_time": "2022-01-28T04:57:27.780Z"
   },
   {
    "duration": 4,
    "start_time": "2022-01-28T04:58:01.036Z"
   },
   {
    "duration": 5,
    "start_time": "2022-01-28T04:58:19.015Z"
   },
   {
    "duration": 62,
    "start_time": "2022-01-28T04:59:34.151Z"
   },
   {
    "duration": 10,
    "start_time": "2022-01-28T04:59:44.894Z"
   },
   {
    "duration": 23,
    "start_time": "2022-01-28T05:00:03.749Z"
   },
   {
    "duration": 7,
    "start_time": "2022-01-28T05:00:34.933Z"
   },
   {
    "duration": 7,
    "start_time": "2022-01-28T05:00:44.433Z"
   },
   {
    "duration": 178,
    "start_time": "2022-01-28T05:08:12.539Z"
   },
   {
    "duration": 32,
    "start_time": "2022-01-28T05:08:17.600Z"
   },
   {
    "duration": 185,
    "start_time": "2022-01-28T05:08:31.740Z"
   },
   {
    "duration": 31,
    "start_time": "2022-01-28T05:08:42.728Z"
   },
   {
    "duration": 12,
    "start_time": "2022-01-28T05:10:48.855Z"
   },
   {
    "duration": 11,
    "start_time": "2022-01-28T05:11:43.752Z"
   },
   {
    "duration": 11,
    "start_time": "2022-01-28T05:11:59.418Z"
   },
   {
    "duration": 34,
    "start_time": "2022-01-28T05:12:33.496Z"
   },
   {
    "duration": 208,
    "start_time": "2022-01-28T05:13:11.906Z"
   },
   {
    "duration": 168,
    "start_time": "2022-01-28T05:13:21.959Z"
   },
   {
    "duration": 10,
    "start_time": "2022-01-28T05:13:33.639Z"
   },
   {
    "duration": 11,
    "start_time": "2022-01-28T05:13:44.686Z"
   },
   {
    "duration": 13,
    "start_time": "2022-01-28T05:15:04.317Z"
   },
   {
    "duration": 15,
    "start_time": "2022-01-28T05:16:46.049Z"
   },
   {
    "duration": 10,
    "start_time": "2022-01-28T05:17:03.869Z"
   },
   {
    "duration": 9,
    "start_time": "2022-01-28T05:17:26.293Z"
   },
   {
    "duration": 5,
    "start_time": "2022-01-28T05:18:17.808Z"
   },
   {
    "duration": 4,
    "start_time": "2022-01-28T05:18:34.419Z"
   },
   {
    "duration": 19,
    "start_time": "2022-01-28T05:20:52.061Z"
   },
   {
    "duration": 8,
    "start_time": "2022-01-28T05:21:14.068Z"
   },
   {
    "duration": 25,
    "start_time": "2022-01-28T05:23:15.427Z"
   },
   {
    "duration": 12,
    "start_time": "2022-01-28T05:23:33.429Z"
   },
   {
    "duration": 19,
    "start_time": "2022-01-28T05:25:12.806Z"
   },
   {
    "duration": 18,
    "start_time": "2022-01-28T05:26:33.930Z"
   },
   {
    "duration": 9,
    "start_time": "2022-01-28T05:26:34.983Z"
   },
   {
    "duration": 19,
    "start_time": "2022-01-28T05:28:20.133Z"
   },
   {
    "duration": 9,
    "start_time": "2022-01-28T05:28:33.040Z"
   },
   {
    "duration": 299,
    "start_time": "2022-01-28T19:30:46.748Z"
   },
   {
    "duration": 809,
    "start_time": "2022-01-28T19:30:55.561Z"
   },
   {
    "duration": 5,
    "start_time": "2022-01-28T19:30:56.372Z"
   },
   {
    "duration": 18,
    "start_time": "2022-01-28T19:30:56.379Z"
   },
   {
    "duration": 48,
    "start_time": "2022-01-28T19:30:56.399Z"
   },
   {
    "duration": 37,
    "start_time": "2022-01-28T19:30:56.450Z"
   },
   {
    "duration": 63,
    "start_time": "2022-01-28T19:30:56.489Z"
   },
   {
    "duration": 5,
    "start_time": "2022-01-28T19:30:56.555Z"
   },
   {
    "duration": 13,
    "start_time": "2022-01-28T19:30:56.563Z"
   },
   {
    "duration": 16,
    "start_time": "2022-01-28T19:30:56.581Z"
   },
   {
    "duration": 40,
    "start_time": "2022-01-28T19:30:56.601Z"
   },
   {
    "duration": 5,
    "start_time": "2022-01-28T19:30:56.643Z"
   },
   {
    "duration": 6,
    "start_time": "2022-01-28T19:30:56.650Z"
   },
   {
    "duration": 10,
    "start_time": "2022-01-28T19:30:56.658Z"
   },
   {
    "duration": 13,
    "start_time": "2022-01-28T19:30:56.671Z"
   },
   {
    "duration": 45,
    "start_time": "2022-01-28T19:30:56.687Z"
   },
   {
    "duration": 8,
    "start_time": "2022-01-28T19:30:56.735Z"
   },
   {
    "duration": 14,
    "start_time": "2022-01-28T19:30:56.745Z"
   },
   {
    "duration": 5,
    "start_time": "2022-01-28T19:30:56.761Z"
   },
   {
    "duration": 9,
    "start_time": "2022-01-28T19:30:56.768Z"
   },
   {
    "duration": 9,
    "start_time": "2022-01-28T19:30:56.780Z"
   },
   {
    "duration": 47,
    "start_time": "2022-01-28T19:30:56.791Z"
   },
   {
    "duration": 14,
    "start_time": "2022-01-28T19:30:56.840Z"
   },
   {
    "duration": 13,
    "start_time": "2022-01-28T19:30:56.856Z"
   },
   {
    "duration": 7,
    "start_time": "2022-01-28T19:30:56.872Z"
   },
   {
    "duration": 5,
    "start_time": "2022-01-28T19:30:56.882Z"
   },
   {
    "duration": 45,
    "start_time": "2022-01-28T19:30:56.890Z"
   },
   {
    "duration": 3,
    "start_time": "2022-01-28T19:30:56.943Z"
   },
   {
    "duration": 4,
    "start_time": "2022-01-28T19:30:56.949Z"
   },
   {
    "duration": 12,
    "start_time": "2022-01-28T19:30:56.955Z"
   },
   {
    "duration": 19,
    "start_time": "2022-01-28T19:30:56.970Z"
   },
   {
    "duration": 52,
    "start_time": "2022-01-28T19:30:56.992Z"
   },
   {
    "duration": 6,
    "start_time": "2022-01-28T19:30:57.047Z"
   },
   {
    "duration": 15,
    "start_time": "2022-01-28T19:30:57.062Z"
   },
   {
    "duration": 12,
    "start_time": "2022-01-28T19:30:57.080Z"
   },
   {
    "duration": 7,
    "start_time": "2022-01-28T19:30:57.094Z"
   },
   {
    "duration": 48,
    "start_time": "2022-01-28T19:30:57.103Z"
   },
   {
    "duration": 29,
    "start_time": "2022-01-28T19:30:57.154Z"
   },
   {
    "duration": 62,
    "start_time": "2022-01-28T19:30:57.186Z"
   },
   {
    "duration": 31,
    "start_time": "2022-01-28T19:30:57.251Z"
   },
   {
    "duration": 6,
    "start_time": "2022-01-28T19:30:57.285Z"
   },
   {
    "duration": 11,
    "start_time": "2022-01-28T19:30:57.293Z"
   },
   {
    "duration": 37,
    "start_time": "2022-01-28T19:30:57.306Z"
   },
   {
    "duration": 11,
    "start_time": "2022-01-28T19:30:57.345Z"
   },
   {
    "duration": 6,
    "start_time": "2022-01-28T19:30:57.359Z"
   },
   {
    "duration": 8,
    "start_time": "2022-01-28T19:30:57.367Z"
   },
   {
    "duration": 14,
    "start_time": "2022-01-28T19:30:57.377Z"
   },
   {
    "duration": 11,
    "start_time": "2022-01-28T19:30:57.431Z"
   },
   {
    "duration": 28,
    "start_time": "2022-01-28T19:30:57.445Z"
   },
   {
    "duration": 8,
    "start_time": "2022-01-28T19:30:57.475Z"
   },
   {
    "duration": 46,
    "start_time": "2022-01-28T19:30:57.486Z"
   },
   {
    "duration": 10,
    "start_time": "2022-01-28T19:30:57.534Z"
   },
   {
    "duration": 9,
    "start_time": "2022-01-28T19:30:57.547Z"
   },
   {
    "duration": 11,
    "start_time": "2022-01-28T19:30:57.558Z"
   },
   {
    "duration": 7,
    "start_time": "2022-01-28T19:30:57.572Z"
   },
   {
    "duration": 76,
    "start_time": "2022-01-28T19:30:57.582Z"
   },
   {
    "duration": 5,
    "start_time": "2022-01-28T19:30:57.661Z"
   },
   {
    "duration": 22,
    "start_time": "2022-01-28T19:30:57.668Z"
   },
   {
    "duration": 42,
    "start_time": "2022-01-28T19:30:57.692Z"
   },
   {
    "duration": 7,
    "start_time": "2022-01-28T19:30:57.736Z"
   },
   {
    "duration": 13698,
    "start_time": "2022-01-28T19:30:57.746Z"
   },
   {
    "duration": 18,
    "start_time": "2022-01-28T19:31:11.447Z"
   },
   {
    "duration": 15,
    "start_time": "2022-01-28T19:31:11.467Z"
   },
   {
    "duration": 11,
    "start_time": "2022-01-28T19:31:11.484Z"
   },
   {
    "duration": 10746,
    "start_time": "2022-01-28T19:31:11.497Z"
   },
   {
    "duration": 16,
    "start_time": "2022-01-28T19:31:22.245Z"
   },
   {
    "duration": 35,
    "start_time": "2022-01-28T19:31:22.264Z"
   },
   {
    "duration": 55,
    "start_time": "2022-01-28T19:31:22.302Z"
   },
   {
    "duration": 10,
    "start_time": "2022-01-28T19:31:22.360Z"
   },
   {
    "duration": 9,
    "start_time": "2022-01-28T19:31:22.372Z"
   },
   {
    "duration": 10,
    "start_time": "2022-01-28T19:31:22.384Z"
   },
   {
    "duration": 9,
    "start_time": "2022-01-28T19:31:22.433Z"
   },
   {
    "duration": 7,
    "start_time": "2022-01-28T19:31:22.444Z"
   },
   {
    "duration": 12,
    "start_time": "2022-01-28T19:31:22.454Z"
   },
   {
    "duration": 8,
    "start_time": "2022-01-28T19:31:22.469Z"
   },
   {
    "duration": 54,
    "start_time": "2022-01-28T19:31:22.480Z"
   },
   {
    "duration": 14,
    "start_time": "2022-01-28T19:31:22.536Z"
   },
   {
    "duration": 11,
    "start_time": "2022-01-28T19:31:22.552Z"
   },
   {
    "duration": 13771,
    "start_time": "2022-01-28T19:31:22.566Z"
   },
   {
    "duration": 16,
    "start_time": "2022-01-28T19:31:36.339Z"
   },
   {
    "duration": 13,
    "start_time": "2022-01-28T19:31:36.358Z"
   },
   {
    "duration": 4,
    "start_time": "2022-01-28T19:31:36.380Z"
   },
   {
    "duration": 10367,
    "start_time": "2022-01-28T19:31:36.388Z"
   },
   {
    "duration": 17,
    "start_time": "2022-01-28T19:31:46.758Z"
   },
   {
    "duration": 6,
    "start_time": "2022-01-28T19:31:46.777Z"
   },
   {
    "duration": 16,
    "start_time": "2022-01-28T19:31:46.786Z"
   },
   {
    "duration": 6,
    "start_time": "2022-01-28T19:31:46.833Z"
   },
   {
    "duration": 9,
    "start_time": "2022-01-28T19:31:46.842Z"
   },
   {
    "duration": 6,
    "start_time": "2022-01-28T19:31:46.853Z"
   },
   {
    "duration": 13,
    "start_time": "2022-01-28T19:31:46.861Z"
   },
   {
    "duration": 7,
    "start_time": "2022-01-28T19:31:46.876Z"
   },
   {
    "duration": 6,
    "start_time": "2022-01-28T19:31:46.885Z"
   },
   {
    "duration": 6,
    "start_time": "2022-01-28T19:31:46.933Z"
   },
   {
    "duration": 6,
    "start_time": "2022-01-28T19:31:46.941Z"
   },
   {
    "duration": 82,
    "start_time": "2022-01-28T19:31:46.950Z"
   },
   {
    "duration": 19,
    "start_time": "2022-01-28T19:31:47.035Z"
   },
   {
    "duration": 8,
    "start_time": "2022-01-28T19:31:47.056Z"
   },
   {
    "duration": 9,
    "start_time": "2022-01-28T19:31:47.066Z"
   },
   {
    "duration": 13,
    "start_time": "2022-01-28T19:31:47.077Z"
   },
   {
    "duration": 42,
    "start_time": "2022-01-28T19:31:47.093Z"
   },
   {
    "duration": 11,
    "start_time": "2022-01-28T19:31:47.138Z"
   },
   {
    "duration": 6,
    "start_time": "2022-01-28T19:31:47.151Z"
   },
   {
    "duration": 6,
    "start_time": "2022-01-28T19:31:47.159Z"
   },
   {
    "duration": 14,
    "start_time": "2022-01-28T19:31:47.167Z"
   },
   {
    "duration": 56,
    "start_time": "2022-01-28T19:31:47.183Z"
   },
   {
    "duration": 10,
    "start_time": "2022-01-28T19:31:47.241Z"
   },
   {
    "duration": 17,
    "start_time": "2022-01-28T19:33:05.722Z"
   },
   {
    "duration": 14,
    "start_time": "2022-01-28T19:37:12.685Z"
   },
   {
    "duration": 12,
    "start_time": "2022-01-28T19:38:45.161Z"
   },
   {
    "duration": 18,
    "start_time": "2022-01-28T19:49:21.044Z"
   },
   {
    "duration": 15,
    "start_time": "2022-01-28T19:49:29.483Z"
   },
   {
    "duration": 16,
    "start_time": "2022-01-28T19:57:31.405Z"
   },
   {
    "duration": 16,
    "start_time": "2022-01-28T19:57:50.783Z"
   },
   {
    "duration": 17,
    "start_time": "2022-01-28T19:58:08.392Z"
   },
   {
    "duration": 18,
    "start_time": "2022-01-28T19:58:16.299Z"
   },
   {
    "duration": 15,
    "start_time": "2022-01-28T19:58:23.949Z"
   },
   {
    "duration": 16,
    "start_time": "2022-01-28T19:58:29.089Z"
   },
   {
    "duration": 17,
    "start_time": "2022-01-28T19:59:33.965Z"
   },
   {
    "duration": 19,
    "start_time": "2022-01-28T20:05:16.751Z"
   },
   {
    "duration": 18,
    "start_time": "2022-01-28T20:05:19.745Z"
   },
   {
    "duration": 18,
    "start_time": "2022-01-28T20:05:33.636Z"
   },
   {
    "duration": 15,
    "start_time": "2022-01-28T20:06:44.066Z"
   },
   {
    "duration": 7,
    "start_time": "2022-01-28T21:13:50.468Z"
   },
   {
    "duration": 26,
    "start_time": "2022-01-28T21:42:41.333Z"
   },
   {
    "duration": 12,
    "start_time": "2022-01-28T21:56:25.252Z"
   },
   {
    "duration": 611,
    "start_time": "2022-01-29T20:48:23.135Z"
   },
   {
    "duration": 2,
    "start_time": "2022-01-29T20:48:23.748Z"
   },
   {
    "duration": 9,
    "start_time": "2022-01-29T20:48:23.752Z"
   },
   {
    "duration": 19,
    "start_time": "2022-01-29T20:48:23.763Z"
   },
   {
    "duration": 20,
    "start_time": "2022-01-29T20:48:23.784Z"
   },
   {
    "duration": 19,
    "start_time": "2022-01-29T20:48:23.806Z"
   },
   {
    "duration": 4,
    "start_time": "2022-01-29T20:48:23.826Z"
   },
   {
    "duration": 6,
    "start_time": "2022-01-29T20:48:23.833Z"
   },
   {
    "duration": 7,
    "start_time": "2022-01-29T20:48:23.873Z"
   },
   {
    "duration": 7,
    "start_time": "2022-01-29T20:48:23.882Z"
   },
   {
    "duration": 5,
    "start_time": "2022-01-29T20:48:23.891Z"
   },
   {
    "duration": 9,
    "start_time": "2022-01-29T20:48:23.898Z"
   },
   {
    "duration": 6,
    "start_time": "2022-01-29T20:48:23.908Z"
   },
   {
    "duration": 6,
    "start_time": "2022-01-29T20:48:23.916Z"
   },
   {
    "duration": 7,
    "start_time": "2022-01-29T20:48:23.924Z"
   },
   {
    "duration": 41,
    "start_time": "2022-01-29T20:48:23.932Z"
   },
   {
    "duration": 7,
    "start_time": "2022-01-29T20:48:23.975Z"
   },
   {
    "duration": 7,
    "start_time": "2022-01-29T20:48:23.983Z"
   },
   {
    "duration": 8,
    "start_time": "2022-01-29T20:48:23.992Z"
   },
   {
    "duration": 6,
    "start_time": "2022-01-29T20:48:24.002Z"
   },
   {
    "duration": 12,
    "start_time": "2022-01-29T20:48:24.009Z"
   },
   {
    "duration": 11,
    "start_time": "2022-01-29T20:48:24.023Z"
   },
   {
    "duration": 6,
    "start_time": "2022-01-29T20:48:24.071Z"
   },
   {
    "duration": 3,
    "start_time": "2022-01-29T20:48:24.080Z"
   },
   {
    "duration": 5,
    "start_time": "2022-01-29T20:48:24.085Z"
   },
   {
    "duration": 8,
    "start_time": "2022-01-29T20:48:24.092Z"
   },
   {
    "duration": 15,
    "start_time": "2022-01-29T20:48:24.102Z"
   },
   {
    "duration": 12,
    "start_time": "2022-01-29T20:48:24.118Z"
   },
   {
    "duration": 7,
    "start_time": "2022-01-29T20:48:24.131Z"
   },
   {
    "duration": 9,
    "start_time": "2022-01-29T20:48:24.139Z"
   },
   {
    "duration": 30,
    "start_time": "2022-01-29T20:48:24.149Z"
   },
   {
    "duration": 11,
    "start_time": "2022-01-29T20:48:24.180Z"
   },
   {
    "duration": 13,
    "start_time": "2022-01-29T20:48:24.193Z"
   },
   {
    "duration": 12,
    "start_time": "2022-01-29T20:48:24.207Z"
   },
   {
    "duration": 3,
    "start_time": "2022-01-29T20:48:24.220Z"
   },
   {
    "duration": 8,
    "start_time": "2022-01-29T20:48:24.224Z"
   },
   {
    "duration": 13,
    "start_time": "2022-01-29T20:48:24.234Z"
   },
   {
    "duration": 25,
    "start_time": "2022-01-29T20:48:24.248Z"
   },
   {
    "duration": 3,
    "start_time": "2022-01-29T20:48:24.275Z"
   },
   {
    "duration": 9,
    "start_time": "2022-01-29T20:48:24.279Z"
   },
   {
    "duration": 14,
    "start_time": "2022-01-29T20:48:24.290Z"
   },
   {
    "duration": 11,
    "start_time": "2022-01-29T20:48:24.305Z"
   },
   {
    "duration": 19,
    "start_time": "2022-01-29T20:48:24.318Z"
   },
   {
    "duration": 6,
    "start_time": "2022-01-29T20:48:24.339Z"
   },
   {
    "duration": 9,
    "start_time": "2022-01-29T20:48:24.346Z"
   },
   {
    "duration": 19,
    "start_time": "2022-01-29T20:48:24.356Z"
   },
   {
    "duration": 8,
    "start_time": "2022-01-29T20:48:24.377Z"
   },
   {
    "duration": 8,
    "start_time": "2022-01-29T20:48:24.386Z"
   },
   {
    "duration": 9,
    "start_time": "2022-01-29T20:48:24.395Z"
   },
   {
    "duration": 21,
    "start_time": "2022-01-29T20:48:24.406Z"
   },
   {
    "duration": 3,
    "start_time": "2022-01-29T20:48:24.428Z"
   },
   {
    "duration": 15,
    "start_time": "2022-01-29T20:48:24.432Z"
   },
   {
    "duration": 27,
    "start_time": "2022-01-29T20:48:24.449Z"
   },
   {
    "duration": 5,
    "start_time": "2022-01-29T20:48:24.477Z"
   },
   {
    "duration": 8807,
    "start_time": "2022-01-29T20:48:24.483Z"
   },
   {
    "duration": 11,
    "start_time": "2022-01-29T20:48:33.292Z"
   },
   {
    "duration": 8,
    "start_time": "2022-01-29T20:48:33.304Z"
   },
   {
    "duration": 3,
    "start_time": "2022-01-29T20:48:33.314Z"
   },
   {
    "duration": 6505,
    "start_time": "2022-01-29T20:48:33.318Z"
   },
   {
    "duration": 9,
    "start_time": "2022-01-29T20:48:39.825Z"
   },
   {
    "duration": 17,
    "start_time": "2022-01-29T20:48:39.835Z"
   },
   {
    "duration": 32,
    "start_time": "2022-01-29T20:48:39.854Z"
   },
   {
    "duration": 5,
    "start_time": "2022-01-29T20:48:39.887Z"
   },
   {
    "duration": 5,
    "start_time": "2022-01-29T20:48:39.894Z"
   },
   {
    "duration": 5,
    "start_time": "2022-01-29T20:48:39.900Z"
   },
   {
    "duration": 5,
    "start_time": "2022-01-29T20:48:39.907Z"
   },
   {
    "duration": 5,
    "start_time": "2022-01-29T20:48:39.914Z"
   },
   {
    "duration": 6,
    "start_time": "2022-01-29T20:48:39.924Z"
   },
   {
    "duration": 41,
    "start_time": "2022-01-29T20:48:39.932Z"
   },
   {
    "duration": 13,
    "start_time": "2022-01-29T20:48:39.975Z"
   },
   {
    "duration": 9,
    "start_time": "2022-01-29T20:48:39.990Z"
   },
   {
    "duration": 7,
    "start_time": "2022-01-29T20:48:40.001Z"
   },
   {
    "duration": 8738,
    "start_time": "2022-01-29T20:48:40.009Z"
   },
   {
    "duration": 9,
    "start_time": "2022-01-29T20:48:48.748Z"
   },
   {
    "duration": 19,
    "start_time": "2022-01-29T20:48:48.758Z"
   },
   {
    "duration": 3,
    "start_time": "2022-01-29T20:48:48.779Z"
   },
   {
    "duration": 6610,
    "start_time": "2022-01-29T20:48:48.783Z"
   },
   {
    "duration": 10,
    "start_time": "2022-01-29T20:48:55.394Z"
   },
   {
    "duration": 7,
    "start_time": "2022-01-29T20:48:55.406Z"
   },
   {
    "duration": 15,
    "start_time": "2022-01-29T20:48:55.414Z"
   },
   {
    "duration": 4,
    "start_time": "2022-01-29T20:48:55.430Z"
   },
   {
    "duration": 9,
    "start_time": "2022-01-29T20:48:55.435Z"
   },
   {
    "duration": 10,
    "start_time": "2022-01-29T20:48:55.446Z"
   },
   {
    "duration": 14,
    "start_time": "2022-01-29T20:48:55.458Z"
   },
   {
    "duration": 7,
    "start_time": "2022-01-29T20:48:55.474Z"
   },
   {
    "duration": 15,
    "start_time": "2022-01-29T20:48:55.482Z"
   },
   {
    "duration": 12,
    "start_time": "2022-01-29T20:48:55.498Z"
   },
   {
    "duration": 9,
    "start_time": "2022-01-29T20:48:55.511Z"
   },
   {
    "duration": 31,
    "start_time": "2022-01-29T20:48:55.522Z"
   },
   {
    "duration": 14,
    "start_time": "2022-01-29T20:48:55.555Z"
   },
   {
    "duration": 6,
    "start_time": "2022-01-29T20:48:55.571Z"
   },
   {
    "duration": 24,
    "start_time": "2022-01-29T20:48:55.578Z"
   },
   {
    "duration": 15,
    "start_time": "2022-01-29T20:48:55.603Z"
   },
   {
    "duration": 16,
    "start_time": "2022-01-29T20:48:55.619Z"
   },
   {
    "duration": 16,
    "start_time": "2022-01-29T20:48:55.636Z"
   },
   {
    "duration": 15,
    "start_time": "2022-01-29T20:48:55.653Z"
   },
   {
    "duration": 9,
    "start_time": "2022-01-29T20:48:55.669Z"
   },
   {
    "duration": 16,
    "start_time": "2022-01-29T20:48:55.679Z"
   },
   {
    "duration": 16,
    "start_time": "2022-01-29T20:48:55.697Z"
   },
   {
    "duration": 6,
    "start_time": "2022-01-29T20:48:55.715Z"
   },
   {
    "duration": 13,
    "start_time": "2022-01-29T20:48:55.723Z"
   },
   {
    "duration": 9,
    "start_time": "2022-01-29T20:48:55.738Z"
   },
   {
    "duration": 8,
    "start_time": "2022-01-29T20:48:55.748Z"
   },
   {
    "duration": 14,
    "start_time": "2022-01-29T20:48:55.757Z"
   },
   {
    "duration": 9,
    "start_time": "2022-01-29T20:48:55.773Z"
   },
   {
    "duration": 12,
    "start_time": "2022-01-29T20:48:55.784Z"
   },
   {
    "duration": 14,
    "start_time": "2022-01-29T20:48:55.797Z"
   },
   {
    "duration": 9,
    "start_time": "2022-01-29T20:48:55.813Z"
   },
   {
    "duration": 7,
    "start_time": "2022-01-29T20:48:55.824Z"
   },
   {
    "duration": 16,
    "start_time": "2022-01-29T20:48:55.832Z"
   },
   {
    "duration": 27,
    "start_time": "2022-01-29T20:48:55.850Z"
   },
   {
    "duration": 8,
    "start_time": "2022-01-29T20:48:55.878Z"
   },
   {
    "duration": 614,
    "start_time": "2022-01-31T15:21:38.510Z"
   },
   {
    "duration": 2,
    "start_time": "2022-01-31T15:21:48.569Z"
   },
   {
    "duration": 180,
    "start_time": "2022-01-31T15:21:48.577Z"
   },
   {
    "duration": 4,
    "start_time": "2022-01-31T15:21:48.759Z"
   },
   {
    "duration": 16,
    "start_time": "2022-01-31T15:21:48.765Z"
   },
   {
    "duration": 34,
    "start_time": "2022-01-31T15:21:48.783Z"
   },
   {
    "duration": 24,
    "start_time": "2022-01-31T15:21:48.819Z"
   },
   {
    "duration": 21,
    "start_time": "2022-01-31T15:21:48.845Z"
   },
   {
    "duration": 3,
    "start_time": "2022-01-31T15:21:48.868Z"
   },
   {
    "duration": 8,
    "start_time": "2022-01-31T15:21:48.900Z"
   },
   {
    "duration": 9,
    "start_time": "2022-01-31T15:21:48.913Z"
   },
   {
    "duration": 12,
    "start_time": "2022-01-31T15:21:48.925Z"
   },
   {
    "duration": 9,
    "start_time": "2022-01-31T15:21:48.938Z"
   },
   {
    "duration": 14,
    "start_time": "2022-01-31T15:21:48.949Z"
   },
   {
    "duration": 7,
    "start_time": "2022-01-31T15:21:49.000Z"
   },
   {
    "duration": 9,
    "start_time": "2022-01-31T15:21:49.009Z"
   },
   {
    "duration": 9,
    "start_time": "2022-01-31T15:21:49.021Z"
   },
   {
    "duration": 6,
    "start_time": "2022-01-31T15:21:49.032Z"
   },
   {
    "duration": 7,
    "start_time": "2022-01-31T15:21:49.040Z"
   },
   {
    "duration": 11,
    "start_time": "2022-01-31T15:21:49.048Z"
   },
   {
    "duration": 41,
    "start_time": "2022-01-31T15:21:49.061Z"
   },
   {
    "duration": 10,
    "start_time": "2022-01-31T15:21:49.104Z"
   },
   {
    "duration": 15,
    "start_time": "2022-01-31T15:21:49.116Z"
   },
   {
    "duration": 18,
    "start_time": "2022-01-31T15:21:49.133Z"
   },
   {
    "duration": 7,
    "start_time": "2022-01-31T15:21:49.153Z"
   },
   {
    "duration": 10,
    "start_time": "2022-01-31T15:21:49.162Z"
   },
   {
    "duration": 24,
    "start_time": "2022-01-31T15:21:49.174Z"
   },
   {
    "duration": 17,
    "start_time": "2022-01-31T15:21:49.201Z"
   },
   {
    "duration": 13,
    "start_time": "2022-01-31T15:21:49.224Z"
   },
   {
    "duration": 18,
    "start_time": "2022-01-31T15:21:49.240Z"
   },
   {
    "duration": 11,
    "start_time": "2022-01-31T15:21:49.259Z"
   },
   {
    "duration": 10,
    "start_time": "2022-01-31T15:21:49.271Z"
   },
   {
    "duration": 35,
    "start_time": "2022-01-31T15:21:49.283Z"
   },
   {
    "duration": 16,
    "start_time": "2022-01-31T15:21:49.320Z"
   },
   {
    "duration": 17,
    "start_time": "2022-01-31T15:21:49.338Z"
   },
   {
    "duration": 15,
    "start_time": "2022-01-31T15:21:49.357Z"
   },
   {
    "duration": 5,
    "start_time": "2022-01-31T15:21:49.402Z"
   },
   {
    "duration": 7,
    "start_time": "2022-01-31T15:21:49.409Z"
   },
   {
    "duration": 15,
    "start_time": "2022-01-31T15:21:49.418Z"
   },
   {
    "duration": 8,
    "start_time": "2022-01-31T15:21:49.435Z"
   },
   {
    "duration": 3,
    "start_time": "2022-01-31T15:21:49.445Z"
   },
   {
    "duration": 6,
    "start_time": "2022-01-31T15:21:49.450Z"
   },
   {
    "duration": 42,
    "start_time": "2022-01-31T15:21:49.458Z"
   },
   {
    "duration": 14,
    "start_time": "2022-01-31T15:21:49.502Z"
   },
   {
    "duration": 20,
    "start_time": "2022-01-31T15:21:49.518Z"
   },
   {
    "duration": 6,
    "start_time": "2022-01-31T15:21:49.539Z"
   },
   {
    "duration": 6,
    "start_time": "2022-01-31T15:21:49.546Z"
   },
   {
    "duration": 8,
    "start_time": "2022-01-31T15:21:49.554Z"
   },
   {
    "duration": 38,
    "start_time": "2022-01-31T15:21:49.563Z"
   },
   {
    "duration": 7,
    "start_time": "2022-01-31T15:21:49.604Z"
   },
   {
    "duration": 9,
    "start_time": "2022-01-31T15:21:49.614Z"
   },
   {
    "duration": 24,
    "start_time": "2022-01-31T15:21:49.625Z"
   },
   {
    "duration": 3,
    "start_time": "2022-01-31T15:21:49.651Z"
   },
   {
    "duration": 44,
    "start_time": "2022-01-31T15:21:49.656Z"
   },
   {
    "duration": 15,
    "start_time": "2022-01-31T15:21:49.702Z"
   },
   {
    "duration": 4,
    "start_time": "2022-01-31T15:21:49.720Z"
   },
   {
    "duration": 10735,
    "start_time": "2022-01-31T15:21:49.726Z"
   },
   {
    "duration": 14,
    "start_time": "2022-01-31T15:22:00.463Z"
   },
   {
    "duration": 22,
    "start_time": "2022-01-31T15:22:00.478Z"
   },
   {
    "duration": 19,
    "start_time": "2022-01-31T15:22:00.503Z"
   },
   {
    "duration": 8319,
    "start_time": "2022-01-31T15:22:00.524Z"
   },
   {
    "duration": 12,
    "start_time": "2022-01-31T15:22:08.844Z"
   },
   {
    "duration": 23,
    "start_time": "2022-01-31T15:22:08.858Z"
   },
   {
    "duration": 35,
    "start_time": "2022-01-31T15:22:08.882Z"
   },
   {
    "duration": 6,
    "start_time": "2022-01-31T15:22:08.919Z"
   },
   {
    "duration": 6,
    "start_time": "2022-01-31T15:22:08.927Z"
   },
   {
    "duration": 7,
    "start_time": "2022-01-31T15:22:08.935Z"
   },
   {
    "duration": 6,
    "start_time": "2022-01-31T15:22:08.944Z"
   },
   {
    "duration": 46,
    "start_time": "2022-01-31T15:22:08.952Z"
   },
   {
    "duration": 8,
    "start_time": "2022-01-31T15:22:09.001Z"
   },
   {
    "duration": 5,
    "start_time": "2022-01-31T15:22:09.011Z"
   },
   {
    "duration": 20,
    "start_time": "2022-01-31T15:22:09.018Z"
   },
   {
    "duration": 11,
    "start_time": "2022-01-31T15:22:09.040Z"
   },
   {
    "duration": 7,
    "start_time": "2022-01-31T15:22:09.053Z"
   },
   {
    "duration": 10861,
    "start_time": "2022-01-31T15:22:09.062Z"
   },
   {
    "duration": 12,
    "start_time": "2022-01-31T15:22:19.924Z"
   },
   {
    "duration": 12,
    "start_time": "2022-01-31T15:22:19.938Z"
   },
   {
    "duration": 5,
    "start_time": "2022-01-31T15:22:19.952Z"
   },
   {
    "duration": 8255,
    "start_time": "2022-01-31T15:22:19.958Z"
   },
   {
    "duration": 14,
    "start_time": "2022-01-31T15:22:28.215Z"
   },
   {
    "duration": 5,
    "start_time": "2022-01-31T15:22:28.230Z"
   },
   {
    "duration": 15,
    "start_time": "2022-01-31T15:22:28.237Z"
   },
   {
    "duration": 4,
    "start_time": "2022-01-31T15:22:28.258Z"
   },
   {
    "duration": 12,
    "start_time": "2022-01-31T15:22:28.264Z"
   },
   {
    "duration": 24,
    "start_time": "2022-01-31T15:22:28.277Z"
   },
   {
    "duration": 10,
    "start_time": "2022-01-31T15:22:28.303Z"
   },
   {
    "duration": 9,
    "start_time": "2022-01-31T15:22:28.315Z"
   },
   {
    "duration": 4,
    "start_time": "2022-01-31T15:22:28.326Z"
   },
   {
    "duration": 6,
    "start_time": "2022-01-31T15:22:28.332Z"
   },
   {
    "duration": 5,
    "start_time": "2022-01-31T15:22:28.339Z"
   },
   {
    "duration": 74,
    "start_time": "2022-01-31T15:22:28.346Z"
   },
   {
    "duration": 17,
    "start_time": "2022-01-31T15:22:28.422Z"
   },
   {
    "duration": 7,
    "start_time": "2022-01-31T15:22:28.440Z"
   },
   {
    "duration": 7,
    "start_time": "2022-01-31T15:22:28.449Z"
   },
   {
    "duration": 12,
    "start_time": "2022-01-31T15:22:28.458Z"
   },
   {
    "duration": 28,
    "start_time": "2022-01-31T15:22:28.472Z"
   },
   {
    "duration": 10,
    "start_time": "2022-01-31T15:22:28.503Z"
   },
   {
    "duration": 7,
    "start_time": "2022-01-31T15:22:28.515Z"
   },
   {
    "duration": 5,
    "start_time": "2022-01-31T15:22:28.524Z"
   },
   {
    "duration": 12,
    "start_time": "2022-01-31T15:22:28.531Z"
   },
   {
    "duration": 24,
    "start_time": "2022-01-31T15:22:28.544Z"
   },
   {
    "duration": 35,
    "start_time": "2022-01-31T15:22:28.569Z"
   },
   {
    "duration": 22,
    "start_time": "2022-01-31T15:22:28.606Z"
   },
   {
    "duration": 10,
    "start_time": "2022-01-31T15:22:28.630Z"
   },
   {
    "duration": 11,
    "start_time": "2022-01-31T15:22:28.642Z"
   },
   {
    "duration": 15,
    "start_time": "2022-01-31T15:22:28.655Z"
   },
   {
    "duration": 46,
    "start_time": "2022-01-31T15:22:28.672Z"
   },
   {
    "duration": 8,
    "start_time": "2022-01-31T15:22:28.720Z"
   },
   {
    "duration": 16,
    "start_time": "2022-01-31T15:22:28.729Z"
   },
   {
    "duration": 10,
    "start_time": "2022-01-31T15:22:28.747Z"
   },
   {
    "duration": 7,
    "start_time": "2022-01-31T15:22:28.759Z"
   },
   {
    "duration": 41,
    "start_time": "2022-01-31T15:22:28.768Z"
   },
   {
    "duration": 17,
    "start_time": "2022-01-31T15:22:28.811Z"
   },
   {
    "duration": 16,
    "start_time": "2022-01-31T15:22:28.830Z"
   },
   {
    "duration": 18,
    "start_time": "2022-01-31T15:23:35.182Z"
   },
   {
    "duration": 3,
    "start_time": "2022-01-31T15:26:40.597Z"
   },
   {
    "duration": 580,
    "start_time": "2022-01-31T15:56:47.319Z"
   },
   {
    "duration": 3,
    "start_time": "2022-01-31T15:59:20.989Z"
   },
   {
    "duration": 89,
    "start_time": "2022-01-31T16:08:51.180Z"
   },
   {
    "duration": 721,
    "start_time": "2022-01-31T16:09:16.406Z"
   },
   {
    "duration": 442,
    "start_time": "2022-01-31T16:12:21.229Z"
   },
   {
    "duration": -588,
    "start_time": "2022-01-31T16:30:33.699Z"
   },
   {
    "duration": -605,
    "start_time": "2022-01-31T16:30:33.717Z"
   },
   {
    "duration": -619,
    "start_time": "2022-01-31T16:30:33.731Z"
   },
   {
    "duration": 3,
    "start_time": "2022-01-31T16:30:35.559Z"
   },
   {
    "duration": 13749,
    "start_time": "2022-01-31T16:30:38.438Z"
   },
   {
    "duration": 2,
    "start_time": "2022-01-31T16:31:05.000Z"
   },
   {
    "duration": 47603,
    "start_time": "2022-01-31T16:31:21.781Z"
   },
   {
    "duration": -988,
    "start_time": "2022-01-31T16:32:10.374Z"
   },
   {
    "duration": 760,
    "start_time": "2022-01-31T16:32:11.984Z"
   },
   {
    "duration": 438,
    "start_time": "2022-01-31T16:33:33.210Z"
   },
   {
    "duration": 2,
    "start_time": "2022-01-31T16:36:22.843Z"
   },
   {
    "duration": 1451,
    "start_time": "2022-01-31T16:36:38.557Z"
   },
   {
    "duration": 4,
    "start_time": "2022-01-31T16:37:42.198Z"
   },
   {
    "duration": 288,
    "start_time": "2022-01-31T19:24:53.262Z"
   },
   {
    "duration": 1254,
    "start_time": "2022-01-31T19:25:30.745Z"
   },
   {
    "duration": 2,
    "start_time": "2022-01-31T19:25:32.001Z"
   },
   {
    "duration": 10,
    "start_time": "2022-01-31T19:25:32.005Z"
   },
   {
    "duration": 149,
    "start_time": "2022-01-31T19:25:32.018Z"
   },
   {
    "duration": 3,
    "start_time": "2022-01-31T19:25:32.168Z"
   },
   {
    "duration": 20,
    "start_time": "2022-01-31T19:25:32.173Z"
   },
   {
    "duration": 26,
    "start_time": "2022-01-31T19:25:32.194Z"
   },
   {
    "duration": 21,
    "start_time": "2022-01-31T19:25:32.222Z"
   },
   {
    "duration": 20,
    "start_time": "2022-01-31T19:25:32.246Z"
   },
   {
    "duration": 3,
    "start_time": "2022-01-31T19:25:32.268Z"
   },
   {
    "duration": 9,
    "start_time": "2022-01-31T19:25:32.273Z"
   },
   {
    "duration": 9,
    "start_time": "2022-01-31T19:25:32.283Z"
   },
   {
    "duration": 8,
    "start_time": "2022-01-31T19:25:32.318Z"
   },
   {
    "duration": 8,
    "start_time": "2022-01-31T19:25:32.328Z"
   },
   {
    "duration": 14,
    "start_time": "2022-01-31T19:25:32.338Z"
   },
   {
    "duration": 8,
    "start_time": "2022-01-31T19:25:32.353Z"
   },
   {
    "duration": 8,
    "start_time": "2022-01-31T19:25:32.362Z"
   },
   {
    "duration": 9,
    "start_time": "2022-01-31T19:25:32.371Z"
   },
   {
    "duration": 5,
    "start_time": "2022-01-31T19:25:32.381Z"
   },
   {
    "duration": 34,
    "start_time": "2022-01-31T19:25:32.387Z"
   },
   {
    "duration": 6,
    "start_time": "2022-01-31T19:25:32.423Z"
   },
   {
    "duration": 20,
    "start_time": "2022-01-31T19:25:32.430Z"
   },
   {
    "duration": 7,
    "start_time": "2022-01-31T19:25:32.451Z"
   },
   {
    "duration": 11,
    "start_time": "2022-01-31T19:25:32.460Z"
   },
   {
    "duration": 10,
    "start_time": "2022-01-31T19:25:32.472Z"
   },
   {
    "duration": 10,
    "start_time": "2022-01-31T19:25:32.483Z"
   },
   {
    "duration": 20,
    "start_time": "2022-01-31T19:25:32.499Z"
   },
   {
    "duration": 9,
    "start_time": "2022-01-31T19:25:32.522Z"
   },
   {
    "duration": 6,
    "start_time": "2022-01-31T19:25:32.532Z"
   },
   {
    "duration": 19,
    "start_time": "2022-01-31T19:25:32.540Z"
   },
   {
    "duration": 10,
    "start_time": "2022-01-31T19:25:32.561Z"
   },
   {
    "duration": 19,
    "start_time": "2022-01-31T19:25:32.573Z"
   },
   {
    "duration": 7,
    "start_time": "2022-01-31T19:25:32.594Z"
   },
   {
    "duration": 25,
    "start_time": "2022-01-31T19:25:32.602Z"
   },
   {
    "duration": 15,
    "start_time": "2022-01-31T19:25:32.629Z"
   },
   {
    "duration": 17,
    "start_time": "2022-01-31T19:25:32.646Z"
   },
   {
    "duration": 17,
    "start_time": "2022-01-31T19:25:32.665Z"
   },
   {
    "duration": 34,
    "start_time": "2022-01-31T19:25:32.684Z"
   },
   {
    "duration": 6,
    "start_time": "2022-01-31T19:25:32.721Z"
   },
   {
    "duration": 12,
    "start_time": "2022-01-31T19:25:32.728Z"
   },
   {
    "duration": 41,
    "start_time": "2022-01-31T19:25:32.742Z"
   },
   {
    "duration": 18,
    "start_time": "2022-01-31T19:25:32.785Z"
   },
   {
    "duration": 11,
    "start_time": "2022-01-31T19:25:32.805Z"
   },
   {
    "duration": 11,
    "start_time": "2022-01-31T19:25:32.818Z"
   },
   {
    "duration": 12,
    "start_time": "2022-01-31T19:25:32.830Z"
   },
   {
    "duration": 25,
    "start_time": "2022-01-31T19:25:32.844Z"
   },
   {
    "duration": 5,
    "start_time": "2022-01-31T19:25:32.871Z"
   },
   {
    "duration": 12,
    "start_time": "2022-01-31T19:25:32.878Z"
   },
   {
    "duration": 6,
    "start_time": "2022-01-31T19:25:32.892Z"
   },
   {
    "duration": 21,
    "start_time": "2022-01-31T19:25:32.900Z"
   },
   {
    "duration": 5,
    "start_time": "2022-01-31T19:25:32.923Z"
   },
   {
    "duration": 6,
    "start_time": "2022-01-31T19:25:32.930Z"
   },
   {
    "duration": 22,
    "start_time": "2022-01-31T19:25:32.938Z"
   },
   {
    "duration": 3,
    "start_time": "2022-01-31T19:25:32.961Z"
   },
   {
    "duration": 17,
    "start_time": "2022-01-31T19:25:32.966Z"
   },
   {
    "duration": 38,
    "start_time": "2022-01-31T19:25:32.985Z"
   },
   {
    "duration": 6,
    "start_time": "2022-01-31T19:25:33.025Z"
   },
   {
    "duration": 9826,
    "start_time": "2022-01-31T19:25:33.032Z"
   },
   {
    "duration": 14,
    "start_time": "2022-01-31T19:25:42.859Z"
   },
   {
    "duration": 9,
    "start_time": "2022-01-31T19:25:42.875Z"
   },
   {
    "duration": 7,
    "start_time": "2022-01-31T19:25:42.886Z"
   },
   {
    "duration": 7334,
    "start_time": "2022-01-31T19:25:42.895Z"
   },
   {
    "duration": 12,
    "start_time": "2022-01-31T19:25:50.231Z"
   },
   {
    "duration": 22,
    "start_time": "2022-01-31T19:25:50.245Z"
   },
   {
    "duration": 16,
    "start_time": "2022-01-31T19:25:50.269Z"
   },
   {
    "duration": 36,
    "start_time": "2022-01-31T19:25:50.287Z"
   },
   {
    "duration": 7,
    "start_time": "2022-01-31T19:25:50.325Z"
   },
   {
    "duration": 7,
    "start_time": "2022-01-31T19:25:50.334Z"
   },
   {
    "duration": 8,
    "start_time": "2022-01-31T19:25:50.342Z"
   },
   {
    "duration": 14,
    "start_time": "2022-01-31T19:25:50.352Z"
   },
   {
    "duration": 13,
    "start_time": "2022-01-31T19:25:50.368Z"
   },
   {
    "duration": 3,
    "start_time": "2022-01-31T19:25:50.383Z"
   },
   {
    "duration": 39,
    "start_time": "2022-01-31T19:25:50.388Z"
   },
   {
    "duration": 9,
    "start_time": "2022-01-31T19:25:50.428Z"
   },
   {
    "duration": 6,
    "start_time": "2022-01-31T19:25:50.439Z"
   },
   {
    "duration": 9596,
    "start_time": "2022-01-31T19:25:50.446Z"
   },
   {
    "duration": 12,
    "start_time": "2022-01-31T19:26:00.044Z"
   },
   {
    "duration": 37,
    "start_time": "2022-01-31T19:26:00.058Z"
   },
   {
    "duration": 23,
    "start_time": "2022-01-31T19:26:00.097Z"
   },
   {
    "duration": 7465,
    "start_time": "2022-01-31T19:26:00.123Z"
   },
   {
    "duration": 12,
    "start_time": "2022-01-31T19:26:07.594Z"
   },
   {
    "duration": 14,
    "start_time": "2022-01-31T19:26:07.609Z"
   },
   {
    "duration": 13,
    "start_time": "2022-01-31T19:26:07.625Z"
   },
   {
    "duration": 4,
    "start_time": "2022-01-31T19:26:07.640Z"
   },
   {
    "duration": 8,
    "start_time": "2022-01-31T19:26:07.645Z"
   },
   {
    "duration": 1608,
    "start_time": "2022-01-31T19:26:07.655Z"
   },
   {
    "duration": 5,
    "start_time": "2022-01-31T19:26:09.264Z"
   },
   {
    "duration": 4,
    "start_time": "2022-01-31T19:26:09.271Z"
   },
   {
    "duration": 7,
    "start_time": "2022-01-31T19:26:09.277Z"
   },
   {
    "duration": 7,
    "start_time": "2022-01-31T19:26:09.286Z"
   },
   {
    "duration": 24,
    "start_time": "2022-01-31T19:26:09.295Z"
   },
   {
    "duration": 3,
    "start_time": "2022-01-31T19:26:09.321Z"
   },
   {
    "duration": 7,
    "start_time": "2022-01-31T19:26:09.326Z"
   },
   {
    "duration": 33,
    "start_time": "2022-01-31T19:26:09.335Z"
   },
   {
    "duration": 14,
    "start_time": "2022-01-31T19:26:09.370Z"
   },
   {
    "duration": 6,
    "start_time": "2022-01-31T19:26:09.386Z"
   },
   {
    "duration": 27,
    "start_time": "2022-01-31T19:26:09.394Z"
   },
   {
    "duration": 16,
    "start_time": "2022-01-31T19:26:09.423Z"
   },
   {
    "duration": 11,
    "start_time": "2022-01-31T19:26:09.441Z"
   },
   {
    "duration": 7,
    "start_time": "2022-01-31T19:26:09.454Z"
   },
   {
    "duration": 9,
    "start_time": "2022-01-31T19:26:09.462Z"
   },
   {
    "duration": 9,
    "start_time": "2022-01-31T19:26:09.472Z"
   },
   {
    "duration": 13,
    "start_time": "2022-01-31T19:26:09.483Z"
   },
   {
    "duration": 26,
    "start_time": "2022-01-31T19:26:09.498Z"
   },
   {
    "duration": 7,
    "start_time": "2022-01-31T19:26:09.526Z"
   },
   {
    "duration": 13,
    "start_time": "2022-01-31T19:26:09.534Z"
   },
   {
    "duration": 9,
    "start_time": "2022-01-31T19:26:09.549Z"
   },
   {
    "duration": 14,
    "start_time": "2022-01-31T19:26:09.559Z"
   },
   {
    "duration": 15,
    "start_time": "2022-01-31T19:26:09.574Z"
   },
   {
    "duration": 12,
    "start_time": "2022-01-31T19:26:09.619Z"
   },
   {
    "duration": 18,
    "start_time": "2022-01-31T19:26:09.633Z"
   },
   {
    "duration": 16,
    "start_time": "2022-01-31T19:26:09.653Z"
   },
   {
    "duration": 11,
    "start_time": "2022-01-31T19:26:09.671Z"
   },
   {
    "duration": 7,
    "start_time": "2022-01-31T19:26:09.684Z"
   },
   {
    "duration": 35,
    "start_time": "2022-01-31T19:26:09.692Z"
   },
   {
    "duration": 10,
    "start_time": "2022-01-31T19:26:09.729Z"
   },
   {
    "duration": 12,
    "start_time": "2022-01-31T19:26:09.741Z"
   },
   {
    "duration": 378,
    "start_time": "2022-01-31T19:35:02.218Z"
   },
   {
    "duration": 280,
    "start_time": "2022-01-31T19:35:05.500Z"
   },
   {
    "duration": 6,
    "start_time": "2022-01-31T19:35:13.280Z"
   },
   {
    "duration": 4,
    "start_time": "2022-01-31T19:41:26.069Z"
   },
   {
    "duration": 4,
    "start_time": "2022-01-31T19:41:27.212Z"
   },
   {
    "duration": 4,
    "start_time": "2022-01-31T19:41:36.829Z"
   },
   {
    "duration": 4,
    "start_time": "2022-01-31T19:41:37.794Z"
   },
   {
    "duration": 5,
    "start_time": "2022-01-31T19:41:38.435Z"
   },
   {
    "duration": 4,
    "start_time": "2022-01-31T19:41:41.685Z"
   },
   {
    "duration": 5,
    "start_time": "2022-01-31T19:41:42.374Z"
   },
   {
    "duration": 8,
    "start_time": "2022-01-31T19:41:57.852Z"
   },
   {
    "duration": 19,
    "start_time": "2022-01-31T19:42:05.937Z"
   },
   {
    "duration": 1960,
    "start_time": "2022-01-31T19:42:13.508Z"
   },
   {
    "duration": 16,
    "start_time": "2022-01-31T19:42:17.510Z"
   },
   {
    "duration": 8,
    "start_time": "2022-01-31T19:42:20.465Z"
   },
   {
    "duration": 5,
    "start_time": "2022-01-31T19:44:35.670Z"
   },
   {
    "duration": 5,
    "start_time": "2022-01-31T19:44:40.545Z"
   },
   {
    "duration": 4,
    "start_time": "2022-01-31T19:44:41.402Z"
   },
   {
    "duration": 4,
    "start_time": "2022-01-31T19:44:42.164Z"
   },
   {
    "duration": 4,
    "start_time": "2022-01-31T19:44:42.890Z"
   },
   {
    "duration": 4,
    "start_time": "2022-01-31T19:44:44.302Z"
   },
   {
    "duration": 1760,
    "start_time": "2022-01-31T19:44:46.758Z"
   },
   {
    "duration": 14,
    "start_time": "2022-01-31T19:44:50.344Z"
   },
   {
    "duration": 7,
    "start_time": "2022-01-31T19:44:53.158Z"
   },
   {
    "duration": 586,
    "start_time": "2022-01-31T19:49:33.132Z"
   },
   {
    "duration": 589,
    "start_time": "2022-01-31T19:49:33.720Z"
   },
   {
    "duration": 46,
    "start_time": "2022-01-31T19:49:34.311Z"
   },
   {
    "duration": 3,
    "start_time": "2022-01-31T19:49:34.359Z"
   },
   {
    "duration": 21,
    "start_time": "2022-01-31T19:49:34.364Z"
   },
   {
    "duration": 39,
    "start_time": "2022-01-31T19:49:34.386Z"
   },
   {
    "duration": 29,
    "start_time": "2022-01-31T19:49:34.427Z"
   },
   {
    "duration": 34,
    "start_time": "2022-01-31T19:49:34.458Z"
   },
   {
    "duration": 31,
    "start_time": "2022-01-31T19:49:34.496Z"
   },
   {
    "duration": 12,
    "start_time": "2022-01-31T19:49:34.529Z"
   },
   {
    "duration": 20,
    "start_time": "2022-01-31T19:49:34.542Z"
   },
   {
    "duration": 24,
    "start_time": "2022-01-31T19:49:34.564Z"
   },
   {
    "duration": 13,
    "start_time": "2022-01-31T19:49:34.590Z"
   },
   {
    "duration": 15,
    "start_time": "2022-01-31T19:49:34.605Z"
   },
   {
    "duration": 11,
    "start_time": "2022-01-31T19:49:34.622Z"
   },
   {
    "duration": 8,
    "start_time": "2022-01-31T19:49:34.635Z"
   },
   {
    "duration": 10,
    "start_time": "2022-01-31T19:49:34.645Z"
   },
   {
    "duration": 3,
    "start_time": "2022-01-31T19:49:34.656Z"
   },
   {
    "duration": 7,
    "start_time": "2022-01-31T19:49:34.661Z"
   },
   {
    "duration": 13,
    "start_time": "2022-01-31T19:49:34.670Z"
   },
   {
    "duration": 23,
    "start_time": "2022-01-31T19:49:34.685Z"
   },
   {
    "duration": 13,
    "start_time": "2022-01-31T19:49:34.710Z"
   },
   {
    "duration": 14,
    "start_time": "2022-01-31T19:49:34.724Z"
   },
   {
    "duration": 22,
    "start_time": "2022-01-31T19:49:34.740Z"
   },
   {
    "duration": 11,
    "start_time": "2022-01-31T19:49:34.764Z"
   },
   {
    "duration": 11,
    "start_time": "2022-01-31T19:49:34.777Z"
   },
   {
    "duration": 21,
    "start_time": "2022-01-31T19:49:34.793Z"
   },
   {
    "duration": 20,
    "start_time": "2022-01-31T19:49:34.817Z"
   },
   {
    "duration": 42,
    "start_time": "2022-01-31T19:49:34.838Z"
   },
   {
    "duration": 34,
    "start_time": "2022-01-31T19:49:34.882Z"
   },
   {
    "duration": 11,
    "start_time": "2022-01-31T19:49:34.918Z"
   },
   {
    "duration": 15,
    "start_time": "2022-01-31T19:49:34.931Z"
   },
   {
    "duration": 24,
    "start_time": "2022-01-31T19:49:34.948Z"
   },
   {
    "duration": 14,
    "start_time": "2022-01-31T19:49:34.974Z"
   },
   {
    "duration": 17,
    "start_time": "2022-01-31T19:49:34.990Z"
   },
   {
    "duration": 23,
    "start_time": "2022-01-31T19:49:35.009Z"
   },
   {
    "duration": 7,
    "start_time": "2022-01-31T19:49:35.033Z"
   },
   {
    "duration": 15,
    "start_time": "2022-01-31T19:49:35.041Z"
   },
   {
    "duration": 25,
    "start_time": "2022-01-31T19:49:35.058Z"
   },
   {
    "duration": 12,
    "start_time": "2022-01-31T19:49:35.085Z"
   },
   {
    "duration": 5,
    "start_time": "2022-01-31T19:49:35.099Z"
   },
   {
    "duration": 17,
    "start_time": "2022-01-31T19:49:35.106Z"
   },
   {
    "duration": 33,
    "start_time": "2022-01-31T19:49:35.125Z"
   },
   {
    "duration": 18,
    "start_time": "2022-01-31T19:49:35.160Z"
   },
   {
    "duration": 27,
    "start_time": "2022-01-31T19:49:35.180Z"
   },
   {
    "duration": 16,
    "start_time": "2022-01-31T19:49:35.209Z"
   },
   {
    "duration": 14,
    "start_time": "2022-01-31T19:49:35.227Z"
   },
   {
    "duration": 9,
    "start_time": "2022-01-31T19:49:35.243Z"
   },
   {
    "duration": 9,
    "start_time": "2022-01-31T19:49:35.254Z"
   },
   {
    "duration": 25,
    "start_time": "2022-01-31T19:49:35.265Z"
   },
   {
    "duration": 18,
    "start_time": "2022-01-31T19:49:35.292Z"
   },
   {
    "duration": 23,
    "start_time": "2022-01-31T19:49:35.311Z"
   },
   {
    "duration": 3,
    "start_time": "2022-01-31T19:49:35.336Z"
   },
   {
    "duration": 18,
    "start_time": "2022-01-31T19:49:35.341Z"
   },
   {
    "duration": 10,
    "start_time": "2022-01-31T19:49:35.360Z"
   },
   {
    "duration": 7,
    "start_time": "2022-01-31T19:49:35.372Z"
   },
   {
    "duration": 9815,
    "start_time": "2022-01-31T19:49:35.381Z"
   },
   {
    "duration": 23,
    "start_time": "2022-01-31T19:49:45.198Z"
   },
   {
    "duration": 9,
    "start_time": "2022-01-31T19:49:45.223Z"
   },
   {
    "duration": 6,
    "start_time": "2022-01-31T19:49:45.234Z"
   },
   {
    "duration": 7227,
    "start_time": "2022-01-31T19:49:45.242Z"
   },
   {
    "duration": 10,
    "start_time": "2022-01-31T19:49:52.471Z"
   },
   {
    "duration": 35,
    "start_time": "2022-01-31T19:49:52.483Z"
   },
   {
    "duration": 15,
    "start_time": "2022-01-31T19:49:52.520Z"
   },
   {
    "duration": 12,
    "start_time": "2022-01-31T19:49:52.536Z"
   },
   {
    "duration": 9,
    "start_time": "2022-01-31T19:49:52.550Z"
   },
   {
    "duration": 10,
    "start_time": "2022-01-31T19:49:52.560Z"
   },
   {
    "duration": 8,
    "start_time": "2022-01-31T19:49:52.571Z"
   },
   {
    "duration": 13,
    "start_time": "2022-01-31T19:49:52.581Z"
   },
   {
    "duration": 26,
    "start_time": "2022-01-31T19:49:52.596Z"
   },
   {
    "duration": 4,
    "start_time": "2022-01-31T19:49:52.623Z"
   },
   {
    "duration": 24,
    "start_time": "2022-01-31T19:49:52.629Z"
   },
   {
    "duration": 10,
    "start_time": "2022-01-31T19:49:52.655Z"
   },
   {
    "duration": 5,
    "start_time": "2022-01-31T19:49:52.667Z"
   },
   {
    "duration": 10126,
    "start_time": "2022-01-31T19:49:52.674Z"
   },
   {
    "duration": 26,
    "start_time": "2022-01-31T19:50:02.802Z"
   },
   {
    "duration": 44,
    "start_time": "2022-01-31T19:50:02.830Z"
   },
   {
    "duration": 23,
    "start_time": "2022-01-31T19:50:02.877Z"
   },
   {
    "duration": 7368,
    "start_time": "2022-01-31T19:50:02.902Z"
   },
   {
    "duration": 13,
    "start_time": "2022-01-31T19:50:10.272Z"
   },
   {
    "duration": 15,
    "start_time": "2022-01-31T19:50:10.291Z"
   },
   {
    "duration": 28,
    "start_time": "2022-01-31T19:50:10.318Z"
   },
   {
    "duration": 7,
    "start_time": "2022-01-31T19:50:10.348Z"
   },
   {
    "duration": 20,
    "start_time": "2022-01-31T19:50:10.357Z"
   },
   {
    "duration": 1518,
    "start_time": "2022-01-31T19:50:10.380Z"
   },
   {
    "duration": 5,
    "start_time": "2022-01-31T19:50:11.900Z"
   },
   {
    "duration": 12,
    "start_time": "2022-01-31T19:50:11.907Z"
   },
   {
    "duration": 22,
    "start_time": "2022-01-31T19:50:11.921Z"
   },
   {
    "duration": 24,
    "start_time": "2022-01-31T19:50:11.944Z"
   },
   {
    "duration": 12,
    "start_time": "2022-01-31T19:50:11.970Z"
   },
   {
    "duration": 17,
    "start_time": "2022-01-31T19:50:11.983Z"
   },
   {
    "duration": 18,
    "start_time": "2022-01-31T19:50:12.002Z"
   },
   {
    "duration": 9,
    "start_time": "2022-01-31T19:50:12.021Z"
   },
   {
    "duration": 1759,
    "start_time": "2022-01-31T19:50:12.032Z"
   },
   {
    "duration": 15,
    "start_time": "2022-01-31T19:50:13.793Z"
   },
   {
    "duration": 7,
    "start_time": "2022-01-31T19:50:13.819Z"
   },
   {
    "duration": 11,
    "start_time": "2022-01-31T19:50:13.827Z"
   },
   {
    "duration": 16,
    "start_time": "2022-01-31T19:50:13.839Z"
   },
   {
    "duration": 3,
    "start_time": "2022-01-31T19:50:13.857Z"
   },
   {
    "duration": 5,
    "start_time": "2022-01-31T19:50:13.862Z"
   },
   {
    "duration": 18,
    "start_time": "2022-01-31T19:50:13.868Z"
   },
   {
    "duration": 7,
    "start_time": "2022-01-31T19:50:13.888Z"
   },
   {
    "duration": 22,
    "start_time": "2022-01-31T19:50:13.897Z"
   },
   {
    "duration": 30,
    "start_time": "2022-01-31T19:50:13.920Z"
   },
   {
    "duration": 7,
    "start_time": "2022-01-31T19:50:13.952Z"
   },
   {
    "duration": 23,
    "start_time": "2022-01-31T19:50:13.960Z"
   },
   {
    "duration": 19,
    "start_time": "2022-01-31T19:50:13.984Z"
   },
   {
    "duration": 20,
    "start_time": "2022-01-31T19:50:14.005Z"
   },
   {
    "duration": 23,
    "start_time": "2022-01-31T19:50:14.027Z"
   },
   {
    "duration": 23,
    "start_time": "2022-01-31T19:50:14.052Z"
   },
   {
    "duration": 8,
    "start_time": "2022-01-31T19:50:14.077Z"
   },
   {
    "duration": 23,
    "start_time": "2022-01-31T19:50:14.087Z"
   },
   {
    "duration": 15,
    "start_time": "2022-01-31T19:50:14.112Z"
   },
   {
    "duration": 9,
    "start_time": "2022-01-31T19:50:14.129Z"
   },
   {
    "duration": 14,
    "start_time": "2022-01-31T19:50:14.140Z"
   },
   {
    "duration": 11,
    "start_time": "2022-01-31T19:50:14.156Z"
   },
   {
    "duration": 9,
    "start_time": "2022-01-31T19:50:14.169Z"
   }
  ],
  "kernelspec": {
   "display_name": "Python 3 (ipykernel)",
   "language": "python",
   "name": "python3"
  },
  "language_info": {
   "codemirror_mode": {
    "name": "ipython",
    "version": 3
   },
   "file_extension": ".py",
   "mimetype": "text/x-python",
   "name": "python",
   "nbconvert_exporter": "python",
   "pygments_lexer": "ipython3",
   "version": "3.9.5"
  },
  "toc": {
   "base_numbering": 1,
   "nav_menu": {},
   "number_sections": true,
   "sideBar": true,
   "skip_h1_title": true,
   "title_cell": "Table of Contents",
   "title_sidebar": "Contents",
   "toc_cell": false,
   "toc_position": {},
   "toc_section_display": true,
   "toc_window_display": false
  }
 },
 "nbformat": 4,
 "nbformat_minor": 2
}
